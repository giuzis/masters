{
   "cells": [
      {
         "attachments": {},
         "cell_type": "markdown",
         "metadata": {},
         "source": [
            "Calculate ensemble average for all experiments"
         ]
      },
      {
         "cell_type": "code",
         "execution_count": 3,
         "metadata": {},
         "outputs": [
            {
               "name": "stdout",
               "output_type": "stream",
               "text": [
                  "Experimento:  dull_razor_shades_of_gray_cropped_images_folder_2\n",
                  "Experimento:  DA0_noPP\n",
                  "Experimento:  noDA_CLAHE_dull_razor_shades_of_gray_cropped_images_folder\n",
                  "Saving the scores in best_results/noDA_CLAHE_dull_razor_shades_of_gray_cropped_images_folder/ensemble_average/best\n",
                  "Saving the scores in best_results/noDA_CLAHE_dull_razor_shades_of_gray_cropped_images_folder/ensemble_average/last\n",
                  "Experimento:  DA0_PP\n",
                  "Saving the scores in best_results/DA0_PP/ensemble_average/best\n",
                  "Saving the scores in best_results/DA0_PP/ensemble_average/last\n",
                  "Experimento:  dull_razor\n",
                  "Experimento:  DA1_noPP\n",
                  "Experimento:  shades_of_gray_cropped_images_folder\n",
                  "Experimento:  DA2_dull_razor_shades_of_gray_cropped_images_folder\n",
                  "Saving the scores in best_results/DA2_dull_razor_shades_of_gray_cropped_images_folder/ensemble_average/best\n",
                  "Saving the scores in best_results/DA2_dull_razor_shades_of_gray_cropped_images_folder/ensemble_average/last\n",
                  "Experimento:  dull_razor_shades_of_gray_cropped_images_folder\n",
                  "Experimento:  DA3_noPP\n",
                  "Experimento:  dull_razor_shades_of_gray\n",
                  "Experimento:  DA0_noPP_3\n",
                  "Saving the scores in best_results/DA0_noPP_3/ensemble_average/best\n",
                  "Saving the scores in best_results/DA0_noPP_3/ensemble_average/last\n",
                  "Experimento:  dull_razor_2\n",
                  "Experimento:  DA2_noPP_2\n",
                  "Saving the scores in best_results/DA2_noPP_2/ensemble_average/best\n",
                  "Saving the scores in best_results/DA2_noPP_2/ensemble_average/last\n",
                  "Experimento:  DA2_CLAHE_dull_razor_shades_of_gray_cropped_images_folder\n",
                  "Saving the scores in best_results/DA2_CLAHE_dull_razor_shades_of_gray_cropped_images_folder/ensemble_average/best\n",
                  "Saving the scores in best_results/DA2_CLAHE_dull_razor_shades_of_gray_cropped_images_folder/ensemble_average/last\n",
                  "Experimento:  DA2_cropped_images_folder_150_epochs_lr_init_0001\n",
                  "Saving the scores in best_results/DA2_cropped_images_folder_150_epochs_lr_init_0001/ensemble_average/best\n",
                  "Saving the scores in best_results/DA2_cropped_images_folder_150_epochs_lr_init_0001/ensemble_average/last\n",
                  "Experimento:  non_local_means_cropped_images_folder\n",
                  "Experimento:  noDA_dull_razor_shades_of_gray_cropped_images_folder\n",
                  "Saving the scores in best_results/noDA_dull_razor_shades_of_gray_cropped_images_folder/ensemble_average/best\n",
                  "Saving the scores in best_results/noDA_dull_razor_shades_of_gray_cropped_images_folder/ensemble_average/last\n",
                  "Experimento:  DA1_PPcropped\n",
                  "Experimento:  gaussian_filter_2\n",
                  "Experimento:  CLAHE_cropped_images_folder\n",
                  "Experimento:  noDA_cropped_images_folder_moredata\n",
                  "Saving the scores in best_results/noDA_cropped_images_folder_moredata/ensemble_average/best\n",
                  "Saving the scores in best_results/noDA_cropped_images_folder_moredata/ensemble_average/last\n",
                  "Experimento:  dull_razor_cropped_images_folder\n",
                  "Experimento:  noDA_dull_razor_shades_of_gray_cropped_images_folder_150_epochs\n",
                  "Saving the scores in best_results/noDA_dull_razor_shades_of_gray_cropped_images_folder_150_epochs/ensemble_average/best\n",
                  "Saving the scores in best_results/noDA_dull_razor_shades_of_gray_cropped_images_folder_150_epochs/ensemble_average/last\n",
                  "Experimento:  dropout_05\n",
                  "Erro no experimento  dropout_05\n",
                  "[Errno 2] No such file or directory: 'best_results/dropout_05/seresnext101_32x8d_fold-1_lrinit-0.0001_batchsize-32_optimizer-Adam_maxepochs-50_DA-None_PPen-None_PPha-None_PPco-None_PPde-None_PPno-True_PPcr-None_PPre-True_drop-0.5_trainjustclassifier-False_16805547061762884/test_pred_best/predictions.csv'\n",
                  "Experimento:  noDA_PPcropped_2\n"
               ]
            },
            {
               "name": "stderr",
               "output_type": "stream",
               "text": [
                  "/home/a52550/Desktop/masters/cnn/learning_cycle/benchmarks/isic/raug/utils/classification_metrics_2.py:356: RuntimeWarning: More than 20 figures have been opened. Figures created through the pyplot interface (`matplotlib.pyplot.figure`) are retained until explicitly closed and may consume too much memory. (To control this warning, see the rcParam `figure.max_open_warning`).\n",
                  "  plt.figure()\n"
               ]
            },
            {
               "name": "stdout",
               "output_type": "stream",
               "text": [
                  "Saving the scores in best_results/noDA_PPcropped_2/ensemble_average/best\n",
                  "Saving the scores in best_results/noDA_PPcropped_2/ensemble_average/last\n",
                  "Experimento:  DA2_noPP\n",
                  "Experimento:  DA0_noPP_2\n",
                  "Saving the scores in best_results/DA0_noPP_2/ensemble_average/best\n",
                  "Saving the scores in best_results/DA0_noPP_2/ensemble_average/last\n",
                  "Experimento:  DA2_CLAHE_shades_of_gray_cropped_images_folder\n",
                  "Saving the scores in best_results/DA2_CLAHE_shades_of_gray_cropped_images_folder/ensemble_average/best\n",
                  "Saving the scores in best_results/DA2_CLAHE_shades_of_gray_cropped_images_folder/ensemble_average/last\n",
                  "Experimento:  CLAHE_2\n",
                  "Experimento:  mean_filter_cropped_images_folder\n",
                  "Experimento:  noDA_CLAHE\n",
                  "Saving the scores in best_results/noDA_CLAHE/ensemble_average/best\n",
                  "Saving the scores in best_results/noDA_CLAHE/ensemble_average/last\n",
                  "Experimento:  train_classifier_only\n",
                  "Saving the scores in best_results/train_classifier_only/ensemble_average/best\n",
                  "Saving the scores in best_results/train_classifier_only/ensemble_average/last\n",
                  "Experimento:  non_local_means\n",
                  "Experimento:  dropout_02\n",
                  "Erro no experimento  dropout_02\n",
                  "[Errno 2] No such file or directory: 'best_results/dropout_02/tf_efficientnet_b5_fold-1_lrinit-0.0001_batchsize-8_optimizer-AdamW_maxepochs-50_DA-None_PPen-None_PPha-None_PPco-None_PPde-None_PPno-True_PPcr-None_PPre-True_drop-0.2_trainjustclassifier-False_16805668596310365/test_pred_best/predictions.csv'\n",
                  "Experimento:  DA2_cropped_images_folder_moredata\n",
                  "Saving the scores in best_results/DA2_cropped_images_folder_moredata/ensemble_average/best\n",
                  "Saving the scores in best_results/DA2_cropped_images_folder_moredata/ensemble_average/last\n",
                  "Experimento:  noDA_dull_razor_shades_of_gray_cropped_images_folder_moredata\n",
                  "Saving the scores in best_results/noDA_dull_razor_shades_of_gray_cropped_images_folder_moredata/ensemble_average/best\n",
                  "Saving the scores in best_results/noDA_dull_razor_shades_of_gray_cropped_images_folder_moredata/ensemble_average/last\n",
                  "Experimento:  DA2_shades_of_gray_cropped_images_folder_150_epochs\n",
                  "Saving the scores in best_results/DA2_shades_of_gray_cropped_images_folder_150_epochs/ensemble_average/best\n",
                  "Saving the scores in best_results/DA2_shades_of_gray_cropped_images_folder_150_epochs/ensemble_average/last\n",
                  "Experimento:  non_local_means_2\n",
                  "Experimento:  gaussian_filter_cropped_images_folder\n",
                  "Experimento:  DA4_noPP\n",
                  "Saving the scores in best_results/DA4_noPP/ensemble_average/best\n",
                  "Saving the scores in best_results/DA4_noPP/ensemble_average/last\n",
                  "Experimento:  DA0_PP_100epochs\n",
                  "Saving the scores in best_results/DA0_PP_100epochs/ensemble_average/best\n",
                  "Saving the scores in best_results/DA0_PP_100epochs/ensemble_average/last\n",
                  "Experimento:  noDA_CLAHE_dull_razor_shades_of_gray\n",
                  "Saving the scores in best_results/noDA_CLAHE_dull_razor_shades_of_gray/ensemble_average/best\n",
                  "Saving the scores in best_results/noDA_CLAHE_dull_razor_shades_of_gray/ensemble_average/last\n",
                  "Experimento:  dull_razor_shades_of_gray_2\n",
                  "Saving the scores in best_results/dull_razor_shades_of_gray_2/ensemble_average/best\n",
                  "Saving the scores in best_results/dull_razor_shades_of_gray_2/ensemble_average/last\n",
                  "Experimento:  gaussian_filter\n",
                  "Experimento:  DA2_dull_razor_shades_of_gray_cropped_images_folder_moredata\n",
                  "Saving the scores in best_results/DA2_dull_razor_shades_of_gray_cropped_images_folder_moredata/ensemble_average/best\n",
                  "Saving the scores in best_results/DA2_dull_razor_shades_of_gray_cropped_images_folder_moredata/ensemble_average/last\n",
                  "Experimento:  shades_of_gray_2\n",
                  "Saving the scores in best_results/shades_of_gray_2/ensemble_average/best\n",
                  "Saving the scores in best_results/shades_of_gray_2/ensemble_average/last\n",
                  "Experimento:  noDA_dull_razor\n",
                  "Saving the scores in best_results/noDA_dull_razor/ensemble_average/best\n",
                  "Saving the scores in best_results/noDA_dull_razor/ensemble_average/last\n",
                  "Experimento:  noDA_noPP\n",
                  "Experimento:  shades_of_gray\n",
                  "Experimento:  mean_filter\n",
                  "Experimento:  mean_filter_2\n",
                  "Experimento:  noDA_CLAHE_dull_razor_shades_of_gray_cropped_images_folder_150_epochs\n",
                  "Saving the scores in best_results/noDA_CLAHE_dull_razor_shades_of_gray_cropped_images_folder_150_epochs/ensemble_average/best\n",
                  "Saving the scores in best_results/noDA_CLAHE_dull_razor_shades_of_gray_cropped_images_folder_150_epochs/ensemble_average/last\n",
                  "Experimento:  noDA_noPP_2\n",
                  "Saving the scores in best_results/noDA_noPP_2/ensemble_average/best\n",
                  "Saving the scores in best_results/noDA_noPP_2/ensemble_average/last\n",
                  "Experimento:  DA0_PPcropped\n",
                  "Experimento:  DA2_shades_of_gray_CLAHE_cropped_images_folder\n",
                  "Saving the scores in best_results/DA2_shades_of_gray_CLAHE_cropped_images_folder/ensemble_average/best\n",
                  "Saving the scores in best_results/DA2_shades_of_gray_CLAHE_cropped_images_folder/ensemble_average/last\n",
                  "Experimento:  noDA_PPcropped\n",
                  "Experimento:  noDA_dull_razor_shades_of_gray\n",
                  "Saving the scores in best_results/noDA_dull_razor_shades_of_gray/ensemble_average/best\n",
                  "Saving the scores in best_results/noDA_dull_razor_shades_of_gray/ensemble_average/last\n",
                  "Experimento:  CLAHE\n"
               ]
            },
            {
               "data": {
                  "text/plain": [
                     "<Figure size 640x480 with 0 Axes>"
                  ]
               },
               "metadata": {},
               "output_type": "display_data"
            },
            {
               "data": {
                  "text/plain": [
                     "<Figure size 640x480 with 0 Axes>"
                  ]
               },
               "metadata": {},
               "output_type": "display_data"
            },
            {
               "data": {
                  "text/plain": [
                     "<Figure size 640x480 with 0 Axes>"
                  ]
               },
               "metadata": {},
               "output_type": "display_data"
            },
            {
               "data": {
                  "text/plain": [
                     "<Figure size 640x480 with 0 Axes>"
                  ]
               },
               "metadata": {},
               "output_type": "display_data"
            },
            {
               "data": {
                  "text/plain": [
                     "<Figure size 640x480 with 0 Axes>"
                  ]
               },
               "metadata": {},
               "output_type": "display_data"
            },
            {
               "data": {
                  "text/plain": [
                     "<Figure size 640x480 with 0 Axes>"
                  ]
               },
               "metadata": {},
               "output_type": "display_data"
            },
            {
               "data": {
                  "text/plain": [
                     "<Figure size 640x480 with 0 Axes>"
                  ]
               },
               "metadata": {},
               "output_type": "display_data"
            },
            {
               "data": {
                  "text/plain": [
                     "<Figure size 640x480 with 0 Axes>"
                  ]
               },
               "metadata": {},
               "output_type": "display_data"
            },
            {
               "data": {
                  "text/plain": [
                     "<Figure size 640x480 with 0 Axes>"
                  ]
               },
               "metadata": {},
               "output_type": "display_data"
            },
            {
               "data": {
                  "text/plain": [
                     "<Figure size 640x480 with 0 Axes>"
                  ]
               },
               "metadata": {},
               "output_type": "display_data"
            },
            {
               "data": {
                  "text/plain": [
                     "<Figure size 640x480 with 0 Axes>"
                  ]
               },
               "metadata": {},
               "output_type": "display_data"
            },
            {
               "data": {
                  "text/plain": [
                     "<Figure size 640x480 with 0 Axes>"
                  ]
               },
               "metadata": {},
               "output_type": "display_data"
            },
            {
               "data": {
                  "text/plain": [
                     "<Figure size 640x480 with 0 Axes>"
                  ]
               },
               "metadata": {},
               "output_type": "display_data"
            },
            {
               "data": {
                  "text/plain": [
                     "<Figure size 640x480 with 0 Axes>"
                  ]
               },
               "metadata": {},
               "output_type": "display_data"
            },
            {
               "data": {
                  "text/plain": [
                     "<Figure size 640x480 with 0 Axes>"
                  ]
               },
               "metadata": {},
               "output_type": "display_data"
            },
            {
               "data": {
                  "text/plain": [
                     "<Figure size 640x480 with 0 Axes>"
                  ]
               },
               "metadata": {},
               "output_type": "display_data"
            },
            {
               "data": {
                  "text/plain": [
                     "<Figure size 640x480 with 0 Axes>"
                  ]
               },
               "metadata": {},
               "output_type": "display_data"
            },
            {
               "data": {
                  "text/plain": [
                     "<Figure size 640x480 with 0 Axes>"
                  ]
               },
               "metadata": {},
               "output_type": "display_data"
            },
            {
               "data": {
                  "text/plain": [
                     "<Figure size 640x480 with 0 Axes>"
                  ]
               },
               "metadata": {},
               "output_type": "display_data"
            },
            {
               "data": {
                  "text/plain": [
                     "<Figure size 640x480 with 0 Axes>"
                  ]
               },
               "metadata": {},
               "output_type": "display_data"
            },
            {
               "data": {
                  "text/plain": [
                     "<Figure size 640x480 with 0 Axes>"
                  ]
               },
               "metadata": {},
               "output_type": "display_data"
            },
            {
               "data": {
                  "text/plain": [
                     "<Figure size 640x480 with 0 Axes>"
                  ]
               },
               "metadata": {},
               "output_type": "display_data"
            },
            {
               "data": {
                  "text/plain": [
                     "<Figure size 640x480 with 0 Axes>"
                  ]
               },
               "metadata": {},
               "output_type": "display_data"
            },
            {
               "data": {
                  "text/plain": [
                     "<Figure size 640x480 with 0 Axes>"
                  ]
               },
               "metadata": {},
               "output_type": "display_data"
            },
            {
               "data": {
                  "text/plain": [
                     "<Figure size 640x480 with 0 Axes>"
                  ]
               },
               "metadata": {},
               "output_type": "display_data"
            },
            {
               "data": {
                  "text/plain": [
                     "<Figure size 640x480 with 0 Axes>"
                  ]
               },
               "metadata": {},
               "output_type": "display_data"
            },
            {
               "data": {
                  "text/plain": [
                     "<Figure size 640x480 with 0 Axes>"
                  ]
               },
               "metadata": {},
               "output_type": "display_data"
            },
            {
               "data": {
                  "text/plain": [
                     "<Figure size 640x480 with 0 Axes>"
                  ]
               },
               "metadata": {},
               "output_type": "display_data"
            },
            {
               "data": {
                  "text/plain": [
                     "<Figure size 640x480 with 0 Axes>"
                  ]
               },
               "metadata": {},
               "output_type": "display_data"
            },
            {
               "data": {
                  "text/plain": [
                     "<Figure size 640x480 with 0 Axes>"
                  ]
               },
               "metadata": {},
               "output_type": "display_data"
            },
            {
               "data": {
                  "text/plain": [
                     "<Figure size 640x480 with 0 Axes>"
                  ]
               },
               "metadata": {},
               "output_type": "display_data"
            },
            {
               "data": {
                  "text/plain": [
                     "<Figure size 640x480 with 0 Axes>"
                  ]
               },
               "metadata": {},
               "output_type": "display_data"
            },
            {
               "data": {
                  "text/plain": [
                     "<Figure size 640x480 with 0 Axes>"
                  ]
               },
               "metadata": {},
               "output_type": "display_data"
            },
            {
               "data": {
                  "text/plain": [
                     "<Figure size 640x480 with 0 Axes>"
                  ]
               },
               "metadata": {},
               "output_type": "display_data"
            },
            {
               "data": {
                  "text/plain": [
                     "<Figure size 640x480 with 0 Axes>"
                  ]
               },
               "metadata": {},
               "output_type": "display_data"
            },
            {
               "data": {
                  "text/plain": [
                     "<Figure size 640x480 with 0 Axes>"
                  ]
               },
               "metadata": {},
               "output_type": "display_data"
            },
            {
               "data": {
                  "text/plain": [
                     "<Figure size 640x480 with 0 Axes>"
                  ]
               },
               "metadata": {},
               "output_type": "display_data"
            },
            {
               "data": {
                  "text/plain": [
                     "<Figure size 640x480 with 0 Axes>"
                  ]
               },
               "metadata": {},
               "output_type": "display_data"
            },
            {
               "data": {
                  "text/plain": [
                     "<Figure size 640x480 with 0 Axes>"
                  ]
               },
               "metadata": {},
               "output_type": "display_data"
            },
            {
               "data": {
                  "text/plain": [
                     "<Figure size 640x480 with 0 Axes>"
                  ]
               },
               "metadata": {},
               "output_type": "display_data"
            },
            {
               "data": {
                  "text/plain": [
                     "<Figure size 640x480 with 0 Axes>"
                  ]
               },
               "metadata": {},
               "output_type": "display_data"
            },
            {
               "data": {
                  "text/plain": [
                     "<Figure size 640x480 with 0 Axes>"
                  ]
               },
               "metadata": {},
               "output_type": "display_data"
            },
            {
               "data": {
                  "text/plain": [
                     "<Figure size 640x480 with 0 Axes>"
                  ]
               },
               "metadata": {},
               "output_type": "display_data"
            },
            {
               "data": {
                  "text/plain": [
                     "<Figure size 640x480 with 0 Axes>"
                  ]
               },
               "metadata": {},
               "output_type": "display_data"
            },
            {
               "data": {
                  "text/plain": [
                     "<Figure size 640x480 with 0 Axes>"
                  ]
               },
               "metadata": {},
               "output_type": "display_data"
            },
            {
               "data": {
                  "text/plain": [
                     "<Figure size 640x480 with 0 Axes>"
                  ]
               },
               "metadata": {},
               "output_type": "display_data"
            },
            {
               "data": {
                  "text/plain": [
                     "<Figure size 640x480 with 0 Axes>"
                  ]
               },
               "metadata": {},
               "output_type": "display_data"
            },
            {
               "data": {
                  "text/plain": [
                     "<Figure size 640x480 with 0 Axes>"
                  ]
               },
               "metadata": {},
               "output_type": "display_data"
            },
            {
               "data": {
                  "text/plain": [
                     "<Figure size 640x480 with 0 Axes>"
                  ]
               },
               "metadata": {},
               "output_type": "display_data"
            },
            {
               "data": {
                  "text/plain": [
                     "<Figure size 640x480 with 0 Axes>"
                  ]
               },
               "metadata": {},
               "output_type": "display_data"
            },
            {
               "data": {
                  "text/plain": [
                     "<Figure size 640x480 with 0 Axes>"
                  ]
               },
               "metadata": {},
               "output_type": "display_data"
            },
            {
               "data": {
                  "text/plain": [
                     "<Figure size 640x480 with 0 Axes>"
                  ]
               },
               "metadata": {},
               "output_type": "display_data"
            },
            {
               "data": {
                  "text/plain": [
                     "<Figure size 640x480 with 0 Axes>"
                  ]
               },
               "metadata": {},
               "output_type": "display_data"
            },
            {
               "data": {
                  "text/plain": [
                     "<Figure size 640x480 with 0 Axes>"
                  ]
               },
               "metadata": {},
               "output_type": "display_data"
            },
            {
               "data": {
                  "text/plain": [
                     "<Figure size 640x480 with 0 Axes>"
                  ]
               },
               "metadata": {},
               "output_type": "display_data"
            },
            {
               "data": {
                  "text/plain": [
                     "<Figure size 640x480 with 0 Axes>"
                  ]
               },
               "metadata": {},
               "output_type": "display_data"
            },
            {
               "data": {
                  "text/plain": [
                     "<Figure size 640x480 with 0 Axes>"
                  ]
               },
               "metadata": {},
               "output_type": "display_data"
            },
            {
               "data": {
                  "text/plain": [
                     "<Figure size 640x480 with 0 Axes>"
                  ]
               },
               "metadata": {},
               "output_type": "display_data"
            }
         ],
         "source": [
            "import os\n",
            "import numpy as np\n",
            "from raug.metrics_2 import Metrics, accuracy\n",
            "from raug.utils.loader import get_labels_frequency\n",
            "import pandas as pd\n",
            "\n",
            "# Especificar o caminho para a pasta \"best_results\"\n",
            "folder_path = \"best_results\"\n",
            "_csv_path_test = \"/home/a52550/Desktop/datasets/ISIC2017/test/ISIC-2017_Test_v2_Part3_GroundTruth.csv\"\n",
            "true_labels = pd.read_csv(_csv_path_test).sort_values(by=['image_id'])['category']\n",
            "\n",
            "# Inicializar as variáveis para armazenar as previsões dos modelos\n",
            "ensemble_preds_best = None\n",
            "ensemble_preds_last = None\n",
            "num_models = 0\n",
            "ser_lab_freq = get_labels_frequency(_csv_path_test, \"category\", \"image_id\")\n",
            "_labels_name = ser_lab_freq.index.values #np.reshape(ser_lab_freq.index.values, (ser_lab_freq.index.values.shape[0], 1))\n",
            "\n",
            "df_best = pd.DataFrame()\n",
            "df_last = pd.DataFrame()\n",
            "\n",
            "# Percorrer as pastas de cada experimento\n",
            "for experiment_folder in os.listdir(folder_path):\n",
            "\n",
            "    if \".csv\" in experiment_folder or \".txt\" in experiment_folder:\n",
            "        continue\n",
            "\n",
            "    print(\"Experimento: \", experiment_folder)\n",
            "\n",
            "    _metric_options_best = {\n",
            "        'save_all_path': os.path.join(folder_path, experiment_folder, 'ensemble_average/best'),\n",
            "        'pred_name_scores': 'predictions.csv',\n",
            "    }\n",
            "    _metric_options_last = {\n",
            "        'save_all_path': os.path.join(folder_path, experiment_folder, 'ensemble_average/last'),\n",
            "        'pred_name_scores': 'predictions.csv',\n",
            "    }\n",
            "\n",
            "\n",
            "    experiment_path = os.path.join(folder_path, experiment_folder)\n",
            "    metrics_best = Metrics ([\"accuracy\", \"topk_accuracy\", \"balanced_accuracy\", \"conf_matrix\" \"plot_conf_matrix\", \"precision_recall_report\", \"auc_and_roc_curve\", \"auc\"] , _labels_name, _metric_options_best)\n",
            "    metrics_last = Metrics ([\"accuracy\", \"topk_accuracy\", \"balanced_accuracy\", \"conf_matrix\" \"plot_conf_matrix\", \"precision_recall_report\", \"auc_and_roc_curve\", \"auc\"] , _labels_name, _metric_options_last)\n",
            "\n",
            "    ensemble_preds_best = None\n",
            "    ensemble_preds_last = None\n",
            "\n",
            "    model_folders = os.listdir(experiment_path)\n",
            "\n",
            "    # Check if substring \"senet154\" is present in model_folders\n",
            "    if any(\"senet154\" in s for s in model_folders):\n",
            "        continue\n",
            "\n",
            "    \n",
            "    # Cria path para o experimento atual\n",
            "    if 'ensemble_average' in model_folders:\n",
            "        model_folders.remove('ensemble_average')\n",
            "    else:\n",
            "        os.mkdir(os.path.join(folder_path, experiment_folder, 'ensemble_average'))\n",
            "        os.mkdir(os.path.join(_metric_options_best['save_all_path']))\n",
            "        os.mkdir(os.path.join(_metric_options_last['save_all_path']))\n",
            "\n",
            "    if 'ensemble_3_best_average' in model_folders:\n",
            "        model_folders.remove('ensemble_3_best_average')\n",
            "    \n",
            "    if 'ensemble_votation' in model_folders:\n",
            "        model_folders.remove('ensemble_votation')\n",
            "    \n",
            "    if 'DAandPPlatex.txt' in model_folders:\n",
            "        model_folders.remove('DAandPPlatex.txt')\n",
            "\n",
            "    model_folders = [x for x in model_folders if \".csv\" not in x]\n",
            "\n",
            "    try:\n",
            "\n",
            "        # Percorrer as pastas de cada modelo\n",
            "        for model_folder in model_folders:\n",
            "\n",
            "            model_path = os.path.join(experiment_path, model_folder)\n",
            "\n",
            "            # Carregar as previsões do modelo atual\n",
            "            model_preds_path_best = os.path.join(model_path, \"test_pred_best/predictions.csv\")\n",
            "            model_preds_path_last = os.path.join(model_path, \"test_pred_last/predictions.csv\")\n",
            "\n",
            "            model_preds_best = pd.read_csv(model_preds_path_best).sort_values(by=['image'])\n",
            "            model_preds_last = pd.read_csv(model_preds_path_last).sort_values(by=['image'])\n",
            "\n",
            "            images_id = model_preds_best[['image']]\n",
            "            model_preds_best = model_preds_best[['0','1','2']]\n",
            "            model_preds_last = model_preds_last[['0','1','2']]\n",
            "\n",
            "            # Adicionar as previsões do modelo atual ao ensemble\n",
            "            if ensemble_preds_best is None:\n",
            "                ensemble_preds_best = model_preds_best\n",
            "            else:\n",
            "                ensemble_preds_best += model_preds_best\n",
            "\n",
            "            if ensemble_preds_last is None:\n",
            "                ensemble_preds_last = model_preds_last\n",
            "            else:\n",
            "                ensemble_preds_last += model_preds_last\n",
            "\n",
            "            num_models += 1\n",
            "\n",
            "        # Calcular a média das previsões dos modelos\n",
            "        ensemble_preds_best /= num_models\n",
            "        ensemble_preds_last /= num_models\n",
            "\n",
            "        metrics_best.update_scores(true_labels, ensemble_preds_best.to_numpy(), images_id.to_numpy())\n",
            "        metrics_last.update_scores(true_labels, ensemble_preds_last.to_numpy(), images_id.to_numpy())\n",
            "\n",
            "        metrics_best.compute_metrics()\n",
            "        metrics_last.compute_metrics()\n",
            "\n",
            "        metrics_best.save_scores()\n",
            "        metrics_last.save_scores()\n",
            "\n",
            "        for auc_metric in metrics_best.metrics_values['auc_and_roc_curve'][0]:\n",
            "            metrics_best.metrics_values[\"auc_\" + str(auc_metric)] = metrics_best.metrics_values['auc_and_roc_curve'][0][auc_metric]\n",
            "            metrics_last.metrics_values[\"auc_\" + str(auc_metric)] = metrics_last.metrics_values['auc_and_roc_curve'][0][auc_metric]\n",
            "\n",
            "        folder_name = {'folder_name': experiment_folder}\n",
            "        dict_best = {**folder_name, **metrics_best.metrics_values}\n",
            "        dict_last = {**folder_name, **metrics_last.metrics_values}\n",
            "\n",
            "        del dict_best['auc_and_roc_curve']\n",
            "        del dict_best['precision_recall_report']\n",
            "\n",
            "        del dict_last['auc_and_roc_curve']\n",
            "        del dict_last['precision_recall_report']\n",
            "\n",
            "        df_best = df_best.append(pd.DataFrame(dict_best, columns=dict_best.keys(), index=[0]), ignore_index=True)\n",
            "        df_last = df_last.append(pd.DataFrame(dict_last, columns=dict_last.keys(), index=[0]), ignore_index=True)\n",
            "\n",
            "    except Exception as e:\n",
            "        print(\"Erro no experimento \", experiment_folder)\n",
            "        print(e)\n",
            "\n",
            "\n",
            "df_best.to_csv(os.path.join(folder_path, 'ensemble_average_best.csv'), index=False)\n",
            "df_last.to_csv(os.path.join(folder_path, 'ensemble_average_last.csv'), index=False)\n",
            "\n",
            "# Avaliar a precisão do modelo de ensemble\n",
            "# true_classes_path = os.path.join(folder_path, \"true_classes.csv\")\n",
            "# true_classes = np.loadtxt(_csv_path_test, delimiter=\",\", skiprows=1)\n",
            "\n",
            "# from sklearn.metrics import accuracy_score, precision_score, recall_score, f1_score\n",
            "\n",
            "# accuracy = accuracy_score(true_classes, ensemble_classes)\n",
            "# precision = precision_score(true_classes, ensemble_classes, average=\"macro\")\n",
            "# recall = recall_score(true_classes, ensemble_classes, average=\"macro\")\n",
            "# f1 = f1_score(true_classes, ensemble_classes, average=\"macro\")\n",
            "\n",
            "# # Imprimir as métricas de avaliação\n",
            "# print(f\"Acurácia: {accuracy:.3f}\")\n",
            "# print(f\"Precisão: {precision:.3f}\")\n",
            "# print(f\"Recall: {recall:.3f}\")\n",
            "# print(f\"F1-score: {f1:.3f}\")\n"
         ]
      },
      {
         "attachments": {},
         "cell_type": "markdown",
         "metadata": {},
         "source": [
            "Calculate ensemble average of the best 3 models for all experiments"
         ]
      },
      {
         "cell_type": "code",
         "execution_count": 4,
         "metadata": {},
         "outputs": [
            {
               "name": "stdout",
               "output_type": "stream",
               "text": [
                  "Experimento  dull_razor_shades_of_gray_cropped_images_folder_2  não será avaliado\n",
                  "Experimento  DA0_noPP  não será avaliado\n",
                  "Experimento:  noDA_CLAHE_dull_razor_shades_of_gray_cropped_images_folder\n",
                  "Saving the scores in best_results/noDA_CLAHE_dull_razor_shades_of_gray_cropped_images_folder/ensemble_3_best_average/best\n",
                  "Experimento:  DA0_PP\n",
                  "Saving the scores in best_results/DA0_PP/ensemble_3_best_average/best\n",
                  "Experimento  dull_razor  não será avaliado\n",
                  "Experimento  DA1_noPP  não será avaliado\n",
                  "Experimento  shades_of_gray_cropped_images_folder  não será avaliado\n",
                  "Experimento:  DA2_dull_razor_shades_of_gray_cropped_images_folder\n",
                  "Saving the scores in best_results/DA2_dull_razor_shades_of_gray_cropped_images_folder/ensemble_3_best_average/best\n",
                  "Experimento  dull_razor_shades_of_gray_cropped_images_folder  não será avaliado\n",
                  "Experimento  DA3_noPP  não será avaliado\n",
                  "Experimento  dull_razor_shades_of_gray  não será avaliado\n",
                  "Experimento:  DA0_noPP_3\n",
                  "Saving the scores in best_results/DA0_noPP_3/ensemble_3_best_average/best\n",
                  "Experimento  dull_razor_2  não será avaliado\n",
                  "Experimento:  DA2_noPP_2\n",
                  "Saving the scores in best_results/DA2_noPP_2/ensemble_3_best_average/best\n",
                  "Experimento:  DA2_CLAHE_dull_razor_shades_of_gray_cropped_images_folder\n",
                  "Saving the scores in best_results/DA2_CLAHE_dull_razor_shades_of_gray_cropped_images_folder/ensemble_3_best_average/best\n",
                  "Experimento:  DA2_cropped_images_folder_150_epochs_lr_init_0001\n",
                  "Saving the scores in best_results/DA2_cropped_images_folder_150_epochs_lr_init_0001/ensemble_3_best_average/best\n",
                  "Experimento  non_local_means_cropped_images_folder  não será avaliado\n",
                  "Experimento:  noDA_dull_razor_shades_of_gray_cropped_images_folder\n",
                  "Saving the scores in best_results/noDA_dull_razor_shades_of_gray_cropped_images_folder/ensemble_3_best_average/best\n",
                  "Experimento  DA1_PPcropped  não será avaliado\n",
                  "Experimento  gaussian_filter_2  não será avaliado\n",
                  "Experimento  CLAHE_cropped_images_folder  não será avaliado\n",
                  "Experimento:  noDA_cropped_images_folder_moredata\n",
                  "Saving the scores in best_results/noDA_cropped_images_folder_moredata/ensemble_3_best_average/best\n",
                  "Experimento  dull_razor_cropped_images_folder  não será avaliado\n",
                  "Experimento:  noDA_dull_razor_shades_of_gray_cropped_images_folder_150_epochs\n",
                  "Saving the scores in best_results/noDA_dull_razor_shades_of_gray_cropped_images_folder_150_epochs/ensemble_3_best_average/best\n",
                  "Experimento:  dropout_05\n",
                  "Error:  [Errno 2] No such file or directory: 'best_results/dropout_05/seresnext101_32x8d_fold-1_lrinit-0.0001_batchsize-32_optimizer-Adam_maxepochs-50_DA-None_PPen-None_PPha-None_PPco-None_PPde-None_PPno-True_PPcr-None_PPre-True_drop-0.5_trainjustclassifier-False_16805547061762884/test_pred_best/predictions.csv'\n",
                  "Experimento:  noDA_PPcropped_2\n",
                  "Saving the scores in best_results/noDA_PPcropped_2/ensemble_3_best_average/best\n",
                  "Experimento  DA2_noPP  não será avaliado\n",
                  "Experimento:  DA0_noPP_2\n",
                  "Saving the scores in best_results/DA0_noPP_2/ensemble_3_best_average/best\n",
                  "Experimento:  DA2_CLAHE_shades_of_gray_cropped_images_folder\n",
                  "Saving the scores in best_results/DA2_CLAHE_shades_of_gray_cropped_images_folder/ensemble_3_best_average/best\n",
                  "Experimento  CLAHE_2  não será avaliado\n",
                  "Experimento  mean_filter_cropped_images_folder  não será avaliado\n",
                  "Experimento:  noDA_CLAHE\n",
                  "Saving the scores in best_results/noDA_CLAHE/ensemble_3_best_average/best\n",
                  "Experimento:  train_classifier_only\n",
                  "Saving the scores in best_results/train_classifier_only/ensemble_3_best_average/best\n",
                  "Experimento  non_local_means  não será avaliado\n",
                  "Experimento:  dropout_02\n",
                  "Error:  [Errno 2] No such file or directory: 'best_results/dropout_02/tf_efficientnet_b5_fold-1_lrinit-0.0001_batchsize-8_optimizer-AdamW_maxepochs-50_DA-None_PPen-None_PPha-None_PPco-None_PPde-None_PPno-True_PPcr-None_PPre-True_drop-0.2_trainjustclassifier-False_16805668596310365/test_pred_best/predictions.csv'\n",
                  "Experimento:  DA2_cropped_images_folder_moredata\n",
                  "Saving the scores in best_results/DA2_cropped_images_folder_moredata/ensemble_3_best_average/best\n",
                  "Experimento:  noDA_dull_razor_shades_of_gray_cropped_images_folder_moredata\n",
                  "Saving the scores in best_results/noDA_dull_razor_shades_of_gray_cropped_images_folder_moredata/ensemble_3_best_average/best\n",
                  "Experimento:  DA2_shades_of_gray_cropped_images_folder_150_epochs\n",
                  "Saving the scores in best_results/DA2_shades_of_gray_cropped_images_folder_150_epochs/ensemble_3_best_average/best\n",
                  "Experimento  non_local_means_2  não será avaliado\n",
                  "Experimento  gaussian_filter_cropped_images_folder  não será avaliado\n",
                  "Experimento:  DA4_noPP\n",
                  "Saving the scores in best_results/DA4_noPP/ensemble_3_best_average/best\n",
                  "Experimento:  DA0_PP_100epochs\n",
                  "Saving the scores in best_results/DA0_PP_100epochs/ensemble_3_best_average/best\n",
                  "Experimento:  noDA_CLAHE_dull_razor_shades_of_gray\n"
               ]
            },
            {
               "name": "stderr",
               "output_type": "stream",
               "text": [
                  "/home/a52550/Desktop/masters/cnn/learning_cycle/benchmarks/isic/raug/utils/classification_metrics_2.py:356: RuntimeWarning: More than 20 figures have been opened. Figures created through the pyplot interface (`matplotlib.pyplot.figure`) are retained until explicitly closed and may consume too much memory. (To control this warning, see the rcParam `figure.max_open_warning`).\n",
                  "  plt.figure()\n"
               ]
            },
            {
               "name": "stdout",
               "output_type": "stream",
               "text": [
                  "Saving the scores in best_results/noDA_CLAHE_dull_razor_shades_of_gray/ensemble_3_best_average/best\n",
                  "Experimento:  dull_razor_shades_of_gray_2\n",
                  "Saving the scores in best_results/dull_razor_shades_of_gray_2/ensemble_3_best_average/best\n",
                  "Experimento  gaussian_filter  não será avaliado\n",
                  "Experimento:  DA2_dull_razor_shades_of_gray_cropped_images_folder_moredata\n",
                  "Saving the scores in best_results/DA2_dull_razor_shades_of_gray_cropped_images_folder_moredata/ensemble_3_best_average/best\n",
                  "Experimento:  shades_of_gray_2\n",
                  "Saving the scores in best_results/shades_of_gray_2/ensemble_3_best_average/best\n",
                  "Experimento:  noDA_dull_razor\n",
                  "Saving the scores in best_results/noDA_dull_razor/ensemble_3_best_average/best\n",
                  "Experimento  noDA_noPP  não será avaliado\n",
                  "Experimento  shades_of_gray  não será avaliado\n",
                  "Experimento  mean_filter  não será avaliado\n",
                  "Experimento  mean_filter_2  não será avaliado\n",
                  "Experimento:  noDA_CLAHE_dull_razor_shades_of_gray_cropped_images_folder_150_epochs\n",
                  "Saving the scores in best_results/noDA_CLAHE_dull_razor_shades_of_gray_cropped_images_folder_150_epochs/ensemble_3_best_average/best\n",
                  "Experimento:  noDA_noPP_2\n",
                  "Saving the scores in best_results/noDA_noPP_2/ensemble_3_best_average/best\n",
                  "Experimento  DA0_PPcropped  não será avaliado\n",
                  "Experimento:  DA2_shades_of_gray_CLAHE_cropped_images_folder\n",
                  "Saving the scores in best_results/DA2_shades_of_gray_CLAHE_cropped_images_folder/ensemble_3_best_average/best\n",
                  "Experimento  noDA_PPcropped  não será avaliado\n",
                  "Experimento:  noDA_dull_razor_shades_of_gray\n",
                  "Saving the scores in best_results/noDA_dull_razor_shades_of_gray/ensemble_3_best_average/best\n",
                  "Experimento  CLAHE  não será avaliado\n"
               ]
            },
            {
               "data": {
                  "text/plain": [
                     "<Figure size 640x480 with 0 Axes>"
                  ]
               },
               "metadata": {},
               "output_type": "display_data"
            },
            {
               "data": {
                  "text/plain": [
                     "<Figure size 640x480 with 0 Axes>"
                  ]
               },
               "metadata": {},
               "output_type": "display_data"
            },
            {
               "data": {
                  "text/plain": [
                     "<Figure size 640x480 with 0 Axes>"
                  ]
               },
               "metadata": {},
               "output_type": "display_data"
            },
            {
               "data": {
                  "text/plain": [
                     "<Figure size 640x480 with 0 Axes>"
                  ]
               },
               "metadata": {},
               "output_type": "display_data"
            },
            {
               "data": {
                  "text/plain": [
                     "<Figure size 640x480 with 0 Axes>"
                  ]
               },
               "metadata": {},
               "output_type": "display_data"
            },
            {
               "data": {
                  "text/plain": [
                     "<Figure size 640x480 with 0 Axes>"
                  ]
               },
               "metadata": {},
               "output_type": "display_data"
            },
            {
               "data": {
                  "text/plain": [
                     "<Figure size 640x480 with 0 Axes>"
                  ]
               },
               "metadata": {},
               "output_type": "display_data"
            },
            {
               "data": {
                  "text/plain": [
                     "<Figure size 640x480 with 0 Axes>"
                  ]
               },
               "metadata": {},
               "output_type": "display_data"
            },
            {
               "data": {
                  "text/plain": [
                     "<Figure size 640x480 with 0 Axes>"
                  ]
               },
               "metadata": {},
               "output_type": "display_data"
            },
            {
               "data": {
                  "text/plain": [
                     "<Figure size 640x480 with 0 Axes>"
                  ]
               },
               "metadata": {},
               "output_type": "display_data"
            },
            {
               "data": {
                  "text/plain": [
                     "<Figure size 640x480 with 0 Axes>"
                  ]
               },
               "metadata": {},
               "output_type": "display_data"
            },
            {
               "data": {
                  "text/plain": [
                     "<Figure size 640x480 with 0 Axes>"
                  ]
               },
               "metadata": {},
               "output_type": "display_data"
            },
            {
               "data": {
                  "text/plain": [
                     "<Figure size 640x480 with 0 Axes>"
                  ]
               },
               "metadata": {},
               "output_type": "display_data"
            },
            {
               "data": {
                  "text/plain": [
                     "<Figure size 640x480 with 0 Axes>"
                  ]
               },
               "metadata": {},
               "output_type": "display_data"
            },
            {
               "data": {
                  "text/plain": [
                     "<Figure size 640x480 with 0 Axes>"
                  ]
               },
               "metadata": {},
               "output_type": "display_data"
            },
            {
               "data": {
                  "text/plain": [
                     "<Figure size 640x480 with 0 Axes>"
                  ]
               },
               "metadata": {},
               "output_type": "display_data"
            },
            {
               "data": {
                  "text/plain": [
                     "<Figure size 640x480 with 0 Axes>"
                  ]
               },
               "metadata": {},
               "output_type": "display_data"
            },
            {
               "data": {
                  "text/plain": [
                     "<Figure size 640x480 with 0 Axes>"
                  ]
               },
               "metadata": {},
               "output_type": "display_data"
            },
            {
               "data": {
                  "text/plain": [
                     "<Figure size 640x480 with 0 Axes>"
                  ]
               },
               "metadata": {},
               "output_type": "display_data"
            },
            {
               "data": {
                  "text/plain": [
                     "<Figure size 640x480 with 0 Axes>"
                  ]
               },
               "metadata": {},
               "output_type": "display_data"
            },
            {
               "data": {
                  "text/plain": [
                     "<Figure size 640x480 with 0 Axes>"
                  ]
               },
               "metadata": {},
               "output_type": "display_data"
            },
            {
               "data": {
                  "text/plain": [
                     "<Figure size 640x480 with 0 Axes>"
                  ]
               },
               "metadata": {},
               "output_type": "display_data"
            },
            {
               "data": {
                  "text/plain": [
                     "<Figure size 640x480 with 0 Axes>"
                  ]
               },
               "metadata": {},
               "output_type": "display_data"
            },
            {
               "data": {
                  "text/plain": [
                     "<Figure size 640x480 with 0 Axes>"
                  ]
               },
               "metadata": {},
               "output_type": "display_data"
            },
            {
               "data": {
                  "text/plain": [
                     "<Figure size 640x480 with 0 Axes>"
                  ]
               },
               "metadata": {},
               "output_type": "display_data"
            },
            {
               "data": {
                  "text/plain": [
                     "<Figure size 640x480 with 0 Axes>"
                  ]
               },
               "metadata": {},
               "output_type": "display_data"
            },
            {
               "data": {
                  "text/plain": [
                     "<Figure size 640x480 with 0 Axes>"
                  ]
               },
               "metadata": {},
               "output_type": "display_data"
            },
            {
               "data": {
                  "text/plain": [
                     "<Figure size 640x480 with 0 Axes>"
                  ]
               },
               "metadata": {},
               "output_type": "display_data"
            },
            {
               "data": {
                  "text/plain": [
                     "<Figure size 640x480 with 0 Axes>"
                  ]
               },
               "metadata": {},
               "output_type": "display_data"
            }
         ],
         "source": [
            "import os\n",
            "import numpy as np\n",
            "from raug.metrics_2 import Metrics, accuracy\n",
            "from raug.utils.loader import get_labels_frequency\n",
            "import pandas as pd\n",
            "from raug.utils import classification_metrics as cmet\n",
            "\n",
            "# Especificar o caminho para a pasta \"best_results\"\n",
            "folder_path = \"best_results\"\n",
            "_csv_path_test = \"/home/a52550/Desktop/datasets/ISIC2017/test/ISIC-2017_Test_v2_Part3_GroundTruth.csv\"\n",
            "true_labels = pd.read_csv(_csv_path_test).sort_values(by=['image_id'])['category']\n",
            "\n",
            "# Inicializar as variáveis para armazenar as previsões dos modelos\n",
            "ensemble_preds_best = None\n",
            "ensemble_preds_last = None\n",
            "num_models = 0\n",
            "ser_lab_freq = get_labels_frequency(_csv_path_test, \"category\", \"image_id\")\n",
            "_labels_name = ser_lab_freq.index.values #np.reshape(ser_lab_freq.index.values, (ser_lab_freq.index.values.shape[0], 1))\n",
            "\n",
            "df_best = pd.DataFrame()\n",
            "df_last = pd.DataFrame()\n",
            "\n",
            "# Percorrer as pastas de cada experimento\n",
            "for experiment_folder in os.listdir(folder_path):\n",
            "\n",
            "    try:\n",
            "        if \".csv\" in experiment_folder or \".txt\" in experiment_folder:\n",
            "            continue\n",
            "\n",
            "        options = {\n",
            "            'save_all_path': os.path.join(folder_path, experiment_folder, 'ensemble_3_best_average/best'),\n",
            "            'pred_name_scores': 'predictions.csv',\n",
            "        }\n",
            "\n",
            "\n",
            "        experiment_path = os.path.join(folder_path, experiment_folder)\n",
            "\n",
            "        ensemble_preds_best = None\n",
            "\n",
            "        model_folders = os.listdir(experiment_path)\n",
            "\n",
            "        model_folders = [x for x in model_folders if \".csv\" not in x]\n",
            "\n",
            "        # Check if substring \"senet154\" is present in model_folders\n",
            "        if any(\"senet154\" in s for s in model_folders):\n",
            "            print(\"Experimento \", experiment_folder, \" não será avaliado\")\n",
            "            continue\n",
            "\n",
            "        print(\"Experimento: \", experiment_folder)\n",
            "\n",
            "        \n",
            "        # Cria path para o experimento atual\n",
            "        if 'ensemble_average' in model_folders:\n",
            "            model_folders.remove('ensemble_average')\n",
            "        if 'ensemble_votation' in model_folders:\n",
            "            model_folders.remove('ensemble_votation')\n",
            "        if 'ensemble_3_best_average' in model_folders:\n",
            "            model_folders.remove('ensemble_3_best_average')\n",
            "        else:\n",
            "            os.mkdir(os.path.join(folder_path, experiment_folder, 'ensemble_3_best_average'))\n",
            "            os.mkdir(os.path.join(folder_path, experiment_folder, 'ensemble_3_best_average/best'))\n",
            "\n",
            "        if 'DAandPPlatex.txt' in model_folders:\n",
            "            model_folders.remove('DAandPPlatex.txt')\n",
            "\n",
            "        best_balanced_accuracy = 0\n",
            "        current_balanced_acuracy = 0\n",
            "        best_metric_ensemble = None\n",
            "\n",
            "        # Percorrer as pastas de cada modelo\n",
            "        for i1 in range(len(model_folders)-1):\n",
            "            for i2 in range(i1+1, len(model_folders)-1):\n",
            "                for i3 in range(i2+1, len(model_folders)-1):\n",
            "                    ensemble_folders = [model_folders[i1], model_folders[i2], model_folders[i3]]\n",
            "\n",
            "                    metrics_best.options = None\n",
            "\n",
            "                    for model_folder in ensemble_folders:\n",
            "\n",
            "                        model_path = os.path.join(experiment_path, model_folder)\n",
            "\n",
            "                        # Carregar as previsões do modelo atual\n",
            "                        model_preds_path_best = os.path.join(model_path, \"test_pred_best/predictions.csv\")\n",
            "\n",
            "                        model_preds_best = pd.read_csv(model_preds_path_best).sort_values(by=['image'])\n",
            "\n",
            "                        images_id = model_preds_best[['image']]\n",
            "                        model_preds_best = model_preds_best[['0','1','2']]\n",
            "\n",
            "                        # Adicionar as previsões do modelo atual ao ensemble\n",
            "                        if ensemble_preds_best is None:\n",
            "                            ensemble_preds_best = model_preds_best\n",
            "                        else:\n",
            "                            ensemble_preds_best += model_preds_best\n",
            "\n",
            "                        num_models += 1\n",
            "\n",
            "                    # Calcular a média das previsões dos modelos\n",
            "                    ensemble_preds_best /= num_models\n",
            "                    \n",
            "                    # Calcular a balanced accuracy\n",
            "                    current_balanced_acuracy = cmet.balanced_accuracy(true_labels, ensemble_preds_best.to_numpy())\n",
            "\n",
            "\n",
            "                    if current_balanced_acuracy > best_balanced_accuracy:\n",
            "                        best_balanced_accuracy = current_balanced_acuracy\n",
            "\n",
            "                        best_metric_ensemble = Metrics ([\"accuracy\", \"topk_accuracy\", \"balanced_accuracy\", \"conf_matrix\" \"plot_conf_matrix\", \"precision_recall_report\", \"auc_and_roc_curve\", \"auc\"], _labels_name, options)\n",
            "                        best_metric_ensemble.update_scores(true_labels.to_numpy(), ensemble_preds_best.to_numpy(), images_id.to_numpy())\n",
            "\n",
            "                        best_experiment = experiment_folder\n",
            "\n",
            "                        ensemble_data = {\n",
            "                            'folder_name': experiment_folder,\n",
            "                            'ensemble_3_best': ensemble_folders[0].split('fold')[0] + \"_\" + ensemble_folders[1].split('fold')[0] + \"_\" + ensemble_folders[2].split('fold')[0]\n",
            "                        }\n",
            "                        \n",
            "\n",
            "                    ensemble_preds_best = None\n",
            "\n",
            "        best_metric_ensemble.compute_metrics()\n",
            "        best_metric_ensemble.save_scores()\n",
            "\n",
            "        for auc_metric in best_metric_ensemble.metrics_values['auc_and_roc_curve'][0]:\n",
            "            best_metric_ensemble.metrics_values[\"auc_\" + str(auc_metric)] = best_metric_ensemble.metrics_values['auc_and_roc_curve'][0][auc_metric]\n",
            "        \n",
            "        dict_best = {**ensemble_data, **best_metric_ensemble.metrics_values}\n",
            "\n",
            "        del dict_best['auc_and_roc_curve']\n",
            "        del dict_best['precision_recall_report']\n",
            "        # del dict_best['conf_matrix']\n",
            "        \n",
            "        df_best = df_best.append(pd.DataFrame(dict_best, columns=dict_best.keys(), index=[0]), ignore_index=True)\n",
            "    except Exception as e:\n",
            "        print('Error: ', e)\n",
            "        continue\n",
            "\n",
            "df_best.to_csv(os.path.join(folder_path, 'ensemble_3_best_average_best.csv'), index=False)\n"
         ]
      },
      {
         "attachments": {},
         "cell_type": "markdown",
         "metadata": {},
         "source": [
            "Calculate ensemble by voting for all experiments"
         ]
      },
      {
         "cell_type": "code",
         "execution_count": 5,
         "metadata": {},
         "outputs": [
            {
               "name": "stdout",
               "output_type": "stream",
               "text": [
                  "Experimento:  dull_razor_shades_of_gray_cropped_images_folder_2\n",
                  "Experimento:  DA0_noPP\n",
                  "Experimento:  noDA_CLAHE_dull_razor_shades_of_gray_cropped_images_folder\n",
                  "Saving the scores in best_results/noDA_CLAHE_dull_razor_shades_of_gray_cropped_images_folder/ensemble_votation/best\n",
                  "Saving the scores in best_results/noDA_CLAHE_dull_razor_shades_of_gray_cropped_images_folder/ensemble_votation/last\n",
                  "Experimento:  DA0_PP\n",
                  "Saving the scores in best_results/DA0_PP/ensemble_votation/best\n",
                  "Saving the scores in best_results/DA0_PP/ensemble_votation/last\n",
                  "Experimento:  dull_razor\n",
                  "Experimento:  DA1_noPP\n",
                  "Experimento:  shades_of_gray_cropped_images_folder\n",
                  "Experimento:  DA2_dull_razor_shades_of_gray_cropped_images_folder\n",
                  "Saving the scores in best_results/DA2_dull_razor_shades_of_gray_cropped_images_folder/ensemble_votation/best\n",
                  "Saving the scores in best_results/DA2_dull_razor_shades_of_gray_cropped_images_folder/ensemble_votation/last\n",
                  "Experimento:  dull_razor_shades_of_gray_cropped_images_folder\n",
                  "Experimento:  DA3_noPP\n",
                  "Experimento:  dull_razor_shades_of_gray\n",
                  "Experimento:  DA0_noPP_3\n",
                  "Saving the scores in best_results/DA0_noPP_3/ensemble_votation/best\n",
                  "Saving the scores in best_results/DA0_noPP_3/ensemble_votation/last\n",
                  "Experimento:  dull_razor_2\n",
                  "Experimento:  DA2_noPP_2\n",
                  "Saving the scores in best_results/DA2_noPP_2/ensemble_votation/best\n",
                  "Saving the scores in best_results/DA2_noPP_2/ensemble_votation/last\n",
                  "Experimento:  DA2_CLAHE_dull_razor_shades_of_gray_cropped_images_folder\n",
                  "Saving the scores in best_results/DA2_CLAHE_dull_razor_shades_of_gray_cropped_images_folder/ensemble_votation/best\n",
                  "Saving the scores in best_results/DA2_CLAHE_dull_razor_shades_of_gray_cropped_images_folder/ensemble_votation/last\n",
                  "Experimento:  DA2_cropped_images_folder_150_epochs_lr_init_0001\n",
                  "Saving the scores in best_results/DA2_cropped_images_folder_150_epochs_lr_init_0001/ensemble_votation/best\n",
                  "Saving the scores in best_results/DA2_cropped_images_folder_150_epochs_lr_init_0001/ensemble_votation/last\n",
                  "Experimento:  non_local_means_cropped_images_folder\n",
                  "Experimento:  noDA_dull_razor_shades_of_gray_cropped_images_folder\n",
                  "Saving the scores in best_results/noDA_dull_razor_shades_of_gray_cropped_images_folder/ensemble_votation/best\n",
                  "Saving the scores in best_results/noDA_dull_razor_shades_of_gray_cropped_images_folder/ensemble_votation/last\n",
                  "Experimento:  DA1_PPcropped\n",
                  "Experimento:  gaussian_filter_2\n",
                  "Experimento:  CLAHE_cropped_images_folder\n",
                  "Experimento:  noDA_cropped_images_folder_moredata\n",
                  "Saving the scores in best_results/noDA_cropped_images_folder_moredata/ensemble_votation/best\n",
                  "Saving the scores in best_results/noDA_cropped_images_folder_moredata/ensemble_votation/last\n",
                  "Experimento:  dull_razor_cropped_images_folder\n",
                  "Experimento:  noDA_dull_razor_shades_of_gray_cropped_images_folder_150_epochs\n",
                  "Saving the scores in best_results/noDA_dull_razor_shades_of_gray_cropped_images_folder_150_epochs/ensemble_votation/best\n",
                  "Saving the scores in best_results/noDA_dull_razor_shades_of_gray_cropped_images_folder_150_epochs/ensemble_votation/last\n",
                  "Experimento:  dropout_05\n",
                  "Erro no experimento  dropout_05\n",
                  "[Errno 2] No such file or directory: 'best_results/dropout_05/seresnext101_32x8d_fold-1_lrinit-0.0001_batchsize-32_optimizer-Adam_maxepochs-50_DA-None_PPen-None_PPha-None_PPco-None_PPde-None_PPno-True_PPcr-None_PPre-True_drop-0.5_trainjustclassifier-False_16805547061762884/test_pred_best/predictions.csv'\n",
                  "Experimento:  noDA_PPcropped_2\n"
               ]
            },
            {
               "name": "stderr",
               "output_type": "stream",
               "text": [
                  "/home/a52550/Desktop/masters/cnn/learning_cycle/benchmarks/isic/raug/utils/classification_metrics_2.py:356: RuntimeWarning: More than 20 figures have been opened. Figures created through the pyplot interface (`matplotlib.pyplot.figure`) are retained until explicitly closed and may consume too much memory. (To control this warning, see the rcParam `figure.max_open_warning`).\n",
                  "  plt.figure()\n"
               ]
            },
            {
               "name": "stdout",
               "output_type": "stream",
               "text": [
                  "Saving the scores in best_results/noDA_PPcropped_2/ensemble_votation/best\n",
                  "Saving the scores in best_results/noDA_PPcropped_2/ensemble_votation/last\n",
                  "Experimento:  DA2_noPP\n",
                  "Experimento:  DA0_noPP_2\n",
                  "Saving the scores in best_results/DA0_noPP_2/ensemble_votation/best\n",
                  "Saving the scores in best_results/DA0_noPP_2/ensemble_votation/last\n",
                  "Experimento:  DA2_CLAHE_shades_of_gray_cropped_images_folder\n",
                  "Saving the scores in best_results/DA2_CLAHE_shades_of_gray_cropped_images_folder/ensemble_votation/best\n",
                  "Saving the scores in best_results/DA2_CLAHE_shades_of_gray_cropped_images_folder/ensemble_votation/last\n",
                  "Experimento:  CLAHE_2\n",
                  "Experimento:  mean_filter_cropped_images_folder\n",
                  "Experimento:  noDA_CLAHE\n",
                  "Saving the scores in best_results/noDA_CLAHE/ensemble_votation/best\n",
                  "Saving the scores in best_results/noDA_CLAHE/ensemble_votation/last\n",
                  "Experimento:  train_classifier_only\n",
                  "Saving the scores in best_results/train_classifier_only/ensemble_votation/best\n",
                  "Saving the scores in best_results/train_classifier_only/ensemble_votation/last\n",
                  "Experimento:  non_local_means\n",
                  "Experimento:  dropout_02\n",
                  "Erro no experimento  dropout_02\n",
                  "[Errno 2] No such file or directory: 'best_results/dropout_02/tf_efficientnet_b5_fold-1_lrinit-0.0001_batchsize-8_optimizer-AdamW_maxepochs-50_DA-None_PPen-None_PPha-None_PPco-None_PPde-None_PPno-True_PPcr-None_PPre-True_drop-0.2_trainjustclassifier-False_16805668596310365/test_pred_best/predictions.csv'\n",
                  "Experimento:  DA2_cropped_images_folder_moredata\n",
                  "Saving the scores in best_results/DA2_cropped_images_folder_moredata/ensemble_votation/best\n",
                  "Saving the scores in best_results/DA2_cropped_images_folder_moredata/ensemble_votation/last\n",
                  "Experimento:  noDA_dull_razor_shades_of_gray_cropped_images_folder_moredata\n",
                  "Saving the scores in best_results/noDA_dull_razor_shades_of_gray_cropped_images_folder_moredata/ensemble_votation/best\n",
                  "Saving the scores in best_results/noDA_dull_razor_shades_of_gray_cropped_images_folder_moredata/ensemble_votation/last\n",
                  "Experimento:  DA2_shades_of_gray_cropped_images_folder_150_epochs\n",
                  "Saving the scores in best_results/DA2_shades_of_gray_cropped_images_folder_150_epochs/ensemble_votation/best\n",
                  "Saving the scores in best_results/DA2_shades_of_gray_cropped_images_folder_150_epochs/ensemble_votation/last\n",
                  "Experimento:  non_local_means_2\n",
                  "Experimento:  gaussian_filter_cropped_images_folder\n",
                  "Experimento:  DA4_noPP\n",
                  "Saving the scores in best_results/DA4_noPP/ensemble_votation/best\n",
                  "Saving the scores in best_results/DA4_noPP/ensemble_votation/last\n",
                  "Experimento:  DA0_PP_100epochs\n",
                  "Saving the scores in best_results/DA0_PP_100epochs/ensemble_votation/best\n",
                  "Saving the scores in best_results/DA0_PP_100epochs/ensemble_votation/last\n",
                  "Experimento:  noDA_CLAHE_dull_razor_shades_of_gray\n",
                  "Saving the scores in best_results/noDA_CLAHE_dull_razor_shades_of_gray/ensemble_votation/best\n",
                  "Saving the scores in best_results/noDA_CLAHE_dull_razor_shades_of_gray/ensemble_votation/last\n",
                  "Experimento:  dull_razor_shades_of_gray_2\n",
                  "Saving the scores in best_results/dull_razor_shades_of_gray_2/ensemble_votation/best\n",
                  "Saving the scores in best_results/dull_razor_shades_of_gray_2/ensemble_votation/last\n",
                  "Experimento:  gaussian_filter\n",
                  "Experimento:  DA2_dull_razor_shades_of_gray_cropped_images_folder_moredata\n",
                  "Saving the scores in best_results/DA2_dull_razor_shades_of_gray_cropped_images_folder_moredata/ensemble_votation/best\n",
                  "Saving the scores in best_results/DA2_dull_razor_shades_of_gray_cropped_images_folder_moredata/ensemble_votation/last\n",
                  "Experimento:  shades_of_gray_2\n",
                  "Saving the scores in best_results/shades_of_gray_2/ensemble_votation/best\n",
                  "Saving the scores in best_results/shades_of_gray_2/ensemble_votation/last\n",
                  "Experimento:  noDA_dull_razor\n",
                  "Saving the scores in best_results/noDA_dull_razor/ensemble_votation/best\n",
                  "Saving the scores in best_results/noDA_dull_razor/ensemble_votation/last\n",
                  "Experimento:  noDA_noPP\n",
                  "Experimento:  shades_of_gray\n",
                  "Experimento:  mean_filter\n",
                  "Experimento:  mean_filter_2\n",
                  "Experimento:  noDA_CLAHE_dull_razor_shades_of_gray_cropped_images_folder_150_epochs\n",
                  "Saving the scores in best_results/noDA_CLAHE_dull_razor_shades_of_gray_cropped_images_folder_150_epochs/ensemble_votation/best\n",
                  "Saving the scores in best_results/noDA_CLAHE_dull_razor_shades_of_gray_cropped_images_folder_150_epochs/ensemble_votation/last\n",
                  "Experimento:  noDA_noPP_2\n",
                  "Saving the scores in best_results/noDA_noPP_2/ensemble_votation/best\n",
                  "Saving the scores in best_results/noDA_noPP_2/ensemble_votation/last\n",
                  "Experimento:  DA0_PPcropped\n",
                  "Experimento:  DA2_shades_of_gray_CLAHE_cropped_images_folder\n",
                  "Saving the scores in best_results/DA2_shades_of_gray_CLAHE_cropped_images_folder/ensemble_votation/best\n",
                  "Saving the scores in best_results/DA2_shades_of_gray_CLAHE_cropped_images_folder/ensemble_votation/last\n",
                  "Experimento:  noDA_PPcropped\n",
                  "Experimento:  noDA_dull_razor_shades_of_gray\n",
                  "Saving the scores in best_results/noDA_dull_razor_shades_of_gray/ensemble_votation/best\n",
                  "Saving the scores in best_results/noDA_dull_razor_shades_of_gray/ensemble_votation/last\n",
                  "Experimento:  CLAHE\n"
               ]
            },
            {
               "data": {
                  "text/plain": [
                     "<Figure size 640x480 with 0 Axes>"
                  ]
               },
               "metadata": {},
               "output_type": "display_data"
            },
            {
               "data": {
                  "text/plain": [
                     "<Figure size 640x480 with 0 Axes>"
                  ]
               },
               "metadata": {},
               "output_type": "display_data"
            },
            {
               "data": {
                  "text/plain": [
                     "<Figure size 640x480 with 0 Axes>"
                  ]
               },
               "metadata": {},
               "output_type": "display_data"
            },
            {
               "data": {
                  "text/plain": [
                     "<Figure size 640x480 with 0 Axes>"
                  ]
               },
               "metadata": {},
               "output_type": "display_data"
            },
            {
               "data": {
                  "text/plain": [
                     "<Figure size 640x480 with 0 Axes>"
                  ]
               },
               "metadata": {},
               "output_type": "display_data"
            },
            {
               "data": {
                  "text/plain": [
                     "<Figure size 640x480 with 0 Axes>"
                  ]
               },
               "metadata": {},
               "output_type": "display_data"
            },
            {
               "data": {
                  "text/plain": [
                     "<Figure size 640x480 with 0 Axes>"
                  ]
               },
               "metadata": {},
               "output_type": "display_data"
            },
            {
               "data": {
                  "text/plain": [
                     "<Figure size 640x480 with 0 Axes>"
                  ]
               },
               "metadata": {},
               "output_type": "display_data"
            },
            {
               "data": {
                  "text/plain": [
                     "<Figure size 640x480 with 0 Axes>"
                  ]
               },
               "metadata": {},
               "output_type": "display_data"
            },
            {
               "data": {
                  "text/plain": [
                     "<Figure size 640x480 with 0 Axes>"
                  ]
               },
               "metadata": {},
               "output_type": "display_data"
            },
            {
               "data": {
                  "text/plain": [
                     "<Figure size 640x480 with 0 Axes>"
                  ]
               },
               "metadata": {},
               "output_type": "display_data"
            },
            {
               "data": {
                  "text/plain": [
                     "<Figure size 640x480 with 0 Axes>"
                  ]
               },
               "metadata": {},
               "output_type": "display_data"
            },
            {
               "data": {
                  "text/plain": [
                     "<Figure size 640x480 with 0 Axes>"
                  ]
               },
               "metadata": {},
               "output_type": "display_data"
            },
            {
               "data": {
                  "text/plain": [
                     "<Figure size 640x480 with 0 Axes>"
                  ]
               },
               "metadata": {},
               "output_type": "display_data"
            },
            {
               "data": {
                  "text/plain": [
                     "<Figure size 640x480 with 0 Axes>"
                  ]
               },
               "metadata": {},
               "output_type": "display_data"
            },
            {
               "data": {
                  "text/plain": [
                     "<Figure size 640x480 with 0 Axes>"
                  ]
               },
               "metadata": {},
               "output_type": "display_data"
            },
            {
               "data": {
                  "text/plain": [
                     "<Figure size 640x480 with 0 Axes>"
                  ]
               },
               "metadata": {},
               "output_type": "display_data"
            },
            {
               "data": {
                  "text/plain": [
                     "<Figure size 640x480 with 0 Axes>"
                  ]
               },
               "metadata": {},
               "output_type": "display_data"
            },
            {
               "data": {
                  "text/plain": [
                     "<Figure size 640x480 with 0 Axes>"
                  ]
               },
               "metadata": {},
               "output_type": "display_data"
            },
            {
               "data": {
                  "text/plain": [
                     "<Figure size 640x480 with 0 Axes>"
                  ]
               },
               "metadata": {},
               "output_type": "display_data"
            },
            {
               "data": {
                  "text/plain": [
                     "<Figure size 640x480 with 0 Axes>"
                  ]
               },
               "metadata": {},
               "output_type": "display_data"
            },
            {
               "data": {
                  "text/plain": [
                     "<Figure size 640x480 with 0 Axes>"
                  ]
               },
               "metadata": {},
               "output_type": "display_data"
            },
            {
               "data": {
                  "text/plain": [
                     "<Figure size 640x480 with 0 Axes>"
                  ]
               },
               "metadata": {},
               "output_type": "display_data"
            },
            {
               "data": {
                  "text/plain": [
                     "<Figure size 640x480 with 0 Axes>"
                  ]
               },
               "metadata": {},
               "output_type": "display_data"
            },
            {
               "data": {
                  "text/plain": [
                     "<Figure size 640x480 with 0 Axes>"
                  ]
               },
               "metadata": {},
               "output_type": "display_data"
            },
            {
               "data": {
                  "text/plain": [
                     "<Figure size 640x480 with 0 Axes>"
                  ]
               },
               "metadata": {},
               "output_type": "display_data"
            },
            {
               "data": {
                  "text/plain": [
                     "<Figure size 640x480 with 0 Axes>"
                  ]
               },
               "metadata": {},
               "output_type": "display_data"
            },
            {
               "data": {
                  "text/plain": [
                     "<Figure size 640x480 with 0 Axes>"
                  ]
               },
               "metadata": {},
               "output_type": "display_data"
            },
            {
               "data": {
                  "text/plain": [
                     "<Figure size 640x480 with 0 Axes>"
                  ]
               },
               "metadata": {},
               "output_type": "display_data"
            },
            {
               "data": {
                  "text/plain": [
                     "<Figure size 640x480 with 0 Axes>"
                  ]
               },
               "metadata": {},
               "output_type": "display_data"
            },
            {
               "data": {
                  "text/plain": [
                     "<Figure size 640x480 with 0 Axes>"
                  ]
               },
               "metadata": {},
               "output_type": "display_data"
            },
            {
               "data": {
                  "text/plain": [
                     "<Figure size 640x480 with 0 Axes>"
                  ]
               },
               "metadata": {},
               "output_type": "display_data"
            },
            {
               "data": {
                  "text/plain": [
                     "<Figure size 640x480 with 0 Axes>"
                  ]
               },
               "metadata": {},
               "output_type": "display_data"
            },
            {
               "data": {
                  "text/plain": [
                     "<Figure size 640x480 with 0 Axes>"
                  ]
               },
               "metadata": {},
               "output_type": "display_data"
            },
            {
               "data": {
                  "text/plain": [
                     "<Figure size 640x480 with 0 Axes>"
                  ]
               },
               "metadata": {},
               "output_type": "display_data"
            },
            {
               "data": {
                  "text/plain": [
                     "<Figure size 640x480 with 0 Axes>"
                  ]
               },
               "metadata": {},
               "output_type": "display_data"
            },
            {
               "data": {
                  "text/plain": [
                     "<Figure size 640x480 with 0 Axes>"
                  ]
               },
               "metadata": {},
               "output_type": "display_data"
            },
            {
               "data": {
                  "text/plain": [
                     "<Figure size 640x480 with 0 Axes>"
                  ]
               },
               "metadata": {},
               "output_type": "display_data"
            },
            {
               "data": {
                  "text/plain": [
                     "<Figure size 640x480 with 0 Axes>"
                  ]
               },
               "metadata": {},
               "output_type": "display_data"
            },
            {
               "data": {
                  "text/plain": [
                     "<Figure size 640x480 with 0 Axes>"
                  ]
               },
               "metadata": {},
               "output_type": "display_data"
            },
            {
               "data": {
                  "text/plain": [
                     "<Figure size 640x480 with 0 Axes>"
                  ]
               },
               "metadata": {},
               "output_type": "display_data"
            },
            {
               "data": {
                  "text/plain": [
                     "<Figure size 640x480 with 0 Axes>"
                  ]
               },
               "metadata": {},
               "output_type": "display_data"
            },
            {
               "data": {
                  "text/plain": [
                     "<Figure size 640x480 with 0 Axes>"
                  ]
               },
               "metadata": {},
               "output_type": "display_data"
            },
            {
               "data": {
                  "text/plain": [
                     "<Figure size 640x480 with 0 Axes>"
                  ]
               },
               "metadata": {},
               "output_type": "display_data"
            },
            {
               "data": {
                  "text/plain": [
                     "<Figure size 640x480 with 0 Axes>"
                  ]
               },
               "metadata": {},
               "output_type": "display_data"
            },
            {
               "data": {
                  "text/plain": [
                     "<Figure size 640x480 with 0 Axes>"
                  ]
               },
               "metadata": {},
               "output_type": "display_data"
            },
            {
               "data": {
                  "text/plain": [
                     "<Figure size 640x480 with 0 Axes>"
                  ]
               },
               "metadata": {},
               "output_type": "display_data"
            },
            {
               "data": {
                  "text/plain": [
                     "<Figure size 640x480 with 0 Axes>"
                  ]
               },
               "metadata": {},
               "output_type": "display_data"
            },
            {
               "data": {
                  "text/plain": [
                     "<Figure size 640x480 with 0 Axes>"
                  ]
               },
               "metadata": {},
               "output_type": "display_data"
            },
            {
               "data": {
                  "text/plain": [
                     "<Figure size 640x480 with 0 Axes>"
                  ]
               },
               "metadata": {},
               "output_type": "display_data"
            },
            {
               "data": {
                  "text/plain": [
                     "<Figure size 640x480 with 0 Axes>"
                  ]
               },
               "metadata": {},
               "output_type": "display_data"
            },
            {
               "data": {
                  "text/plain": [
                     "<Figure size 640x480 with 0 Axes>"
                  ]
               },
               "metadata": {},
               "output_type": "display_data"
            },
            {
               "data": {
                  "text/plain": [
                     "<Figure size 640x480 with 0 Axes>"
                  ]
               },
               "metadata": {},
               "output_type": "display_data"
            },
            {
               "data": {
                  "text/plain": [
                     "<Figure size 640x480 with 0 Axes>"
                  ]
               },
               "metadata": {},
               "output_type": "display_data"
            },
            {
               "data": {
                  "text/plain": [
                     "<Figure size 640x480 with 0 Axes>"
                  ]
               },
               "metadata": {},
               "output_type": "display_data"
            },
            {
               "data": {
                  "text/plain": [
                     "<Figure size 640x480 with 0 Axes>"
                  ]
               },
               "metadata": {},
               "output_type": "display_data"
            },
            {
               "data": {
                  "text/plain": [
                     "<Figure size 640x480 with 0 Axes>"
                  ]
               },
               "metadata": {},
               "output_type": "display_data"
            },
            {
               "data": {
                  "text/plain": [
                     "<Figure size 640x480 with 0 Axes>"
                  ]
               },
               "metadata": {},
               "output_type": "display_data"
            }
         ],
         "source": [
            "import os\n",
            "import numpy as np\n",
            "from raug.metrics_2 import Metrics, accuracy\n",
            "from raug.utils.loader import get_labels_frequency\n",
            "import pandas as pd\n",
            "\n",
            "# Especificar o caminho para a pasta \"best_results\"\n",
            "folder_path = \"best_results\"\n",
            "_csv_path_test = \"/home/a52550/Desktop/datasets/ISIC2017/test/ISIC-2017_Test_v2_Part3_GroundTruth.csv\"\n",
            "true_labels = pd.read_csv(_csv_path_test).sort_values(by=['image_id'])['category']\n",
            "\n",
            "# Inicializar as variáveis para armazenar as previsões dos modelos\n",
            "ensemble_preds_best = None\n",
            "ensemble_preds_last = None\n",
            "num_models = 0\n",
            "ser_lab_freq = get_labels_frequency(_csv_path_test, \"category\", \"image_id\")\n",
            "_labels_name = ser_lab_freq.index.values #np.reshape(ser_lab_freq.index.values, (ser_lab_freq.index.values.shape[0], 1))\n",
            "\n",
            "df_best = pd.DataFrame()\n",
            "df_last = pd.DataFrame()\n",
            "\n",
            "# Percorrer as pastas de cada experimento\n",
            "for experiment_folder in os.listdir(folder_path):\n",
            "\n",
            "    if \".csv\" in experiment_folder or \".txt\" in experiment_folder:\n",
            "        continue\n",
            "\n",
            "    print(\"Experimento: \", experiment_folder)\n",
            "\n",
            "    _metric_options_best = {\n",
            "        'save_all_path': os.path.join(folder_path, experiment_folder, 'ensemble_votation/best'),\n",
            "        'pred_name_scores': 'predictions.csv',\n",
            "    }\n",
            "    _metric_options_last = {\n",
            "        'save_all_path': os.path.join(folder_path, experiment_folder, 'ensemble_votation/last'),\n",
            "        'pred_name_scores': 'predictions.csv',\n",
            "    }\n",
            "\n",
            "\n",
            "    experiment_path = os.path.join(folder_path, experiment_folder)\n",
            "    metrics_best = Metrics ([\"accuracy\", \"topk_accuracy\", \"balanced_accuracy\", \"conf_matrix\" \"plot_conf_matrix\", \"precision_recall_report\", \"auc_and_roc_curve\", \"auc\"] , _labels_name, _metric_options_best)\n",
            "    metrics_last = Metrics ([\"accuracy\", \"topk_accuracy\", \"balanced_accuracy\", \"conf_matrix\" \"plot_conf_matrix\", \"precision_recall_report\", \"auc_and_roc_curve\", \"auc\"] , _labels_name, _metric_options_last)\n",
            "\n",
            "    ensemble_preds_best = None\n",
            "    ensemble_preds_last = None\n",
            "\n",
            "    model_folders = os.listdir(experiment_path)\n",
            "    \n",
            "    models_folders = [x for x in model_folders if \".csv\" not in x]\n",
            "\n",
            "    # Check if substring \"senet154\" is present in model_folders\n",
            "    if any(\"senet154\" in s for s in model_folders):\n",
            "        continue\n",
            "\n",
            "    \n",
            "    # Cria path para o experimento atual\n",
            "    if 'ensemble_votation' in model_folders:\n",
            "        model_folders.remove('ensemble_votation')\n",
            "    else:\n",
            "        os.mkdir(os.path.join(folder_path, experiment_folder, 'ensemble_votation'))\n",
            "        os.mkdir(os.path.join(_metric_options_best['save_all_path']))\n",
            "        os.mkdir(os.path.join(_metric_options_last['save_all_path']))\n",
            "\n",
            "    if 'ensemble_3_best_average' in model_folders:\n",
            "        model_folders.remove('ensemble_3_best_average')\n",
            "    if 'ensemble_average' in model_folders:\n",
            "        model_folders.remove('ensemble_average')\n",
            "    if 'DAandPPlatex.txt' in model_folders:\n",
            "        model_folders.remove('DAandPPlatex.txt')\n",
            "\n",
            "    model_folders = [x for x in model_folders if \".csv\" not in x]\n",
            "\n",
            "    try:\n",
            "\n",
            "        # Percorrer as pastas de cada modelo\n",
            "        for model_folder in model_folders:\n",
            "\n",
            "            model_path = os.path.join(experiment_path, model_folder)\n",
            "\n",
            "            # Carregar as previsões do modelo atual\n",
            "            model_preds_path_best = os.path.join(model_path, \"test_pred_best/predictions.csv\")\n",
            "            model_preds_path_last = os.path.join(model_path, \"test_pred_last/predictions.csv\")\n",
            "\n",
            "            model_preds_best = pd.read_csv(model_preds_path_best).sort_values(by=['image'])\n",
            "            model_preds_last = pd.read_csv(model_preds_path_last).sort_values(by=['image'])\n",
            "\n",
            "            model_preds_best_votation = model_preds_best[['0','1','2']].copy() \n",
            "            model_preds_last_votation = model_preds_last[['0','1','2']].copy()\n",
            "\n",
            "            images_id = model_preds_best[['image']]\n",
            "            model_preds_best_votation['0'] = (model_preds_best['0'] == model_preds_best[['0','1','2']].max(axis=1)).astype(int)\n",
            "            model_preds_best_votation['1'] = (model_preds_best['1'] == model_preds_best[['0','1','2']].max(axis=1)).astype(int)\n",
            "            model_preds_best_votation['2'] = (model_preds_best['2'] == model_preds_best[['0','1','2']].max(axis=1)).astype(int)\n",
            "\n",
            "            model_preds_last_votation['0'] = (model_preds_last['0'] == model_preds_last[['0','1','2']].max(axis=1)).astype(int)\n",
            "            model_preds_last_votation['1'] = (model_preds_last['1'] == model_preds_last[['0','1','2']].max(axis=1)).astype(int)\n",
            "            model_preds_last_votation['2'] = (model_preds_last['2'] == model_preds_last[['0','1','2']].max(axis=1)).astype(int)\n",
            "\n",
            "\n",
            "            # Adicionar as previsões do modelo atual ao ensemble\n",
            "            if ensemble_preds_best is None:\n",
            "                ensemble_preds_best = model_preds_best_votation\n",
            "            else:\n",
            "                ensemble_preds_best += model_preds_best_votation\n",
            "\n",
            "            if ensemble_preds_last is None:\n",
            "                ensemble_preds_last = model_preds_last_votation\n",
            "            else:\n",
            "                ensemble_preds_last += model_preds_last_votation\n",
            "\n",
            "            num_models += 1\n",
            "\n",
            "        # Calcular a média das previsões dos modelos\n",
            "        aux = ensemble_preds_best.copy()\n",
            "        ensemble_preds_best['0'] = (aux['0'] == aux[['0','1','2']].max(axis=1)).astype(int)\n",
            "        ensemble_preds_best['1'] = (aux['1'] == aux[['0','1','2']].max(axis=1)).astype(int)\n",
            "        ensemble_preds_best['2'] = (aux['2'] == aux[['0','1','2']].max(axis=1)).astype(int)\n",
            "\n",
            "        aux = ensemble_preds_last.copy()\n",
            "        ensemble_preds_last['0'] = (aux['0'] == aux[['0','1','2']].max(axis=1)).astype(int)\n",
            "        ensemble_preds_last['1'] = (aux['1'] == aux[['0','1','2']].max(axis=1)).astype(int)\n",
            "        ensemble_preds_last['2'] = (aux['2'] == aux[['0','1','2']].max(axis=1)).astype(int)\n",
            "\n",
            "        metrics_best.update_scores(true_labels, ensemble_preds_best.to_numpy(), images_id.to_numpy())\n",
            "        metrics_last.update_scores(true_labels, ensemble_preds_last.to_numpy(), images_id.to_numpy())\n",
            "\n",
            "        metrics_best.compute_metrics()\n",
            "        metrics_last.compute_metrics()\n",
            "\n",
            "        metrics_best.save_scores()\n",
            "        metrics_last.save_scores()\n",
            "\n",
            "        for auc_metric in metrics_best.metrics_values['auc_and_roc_curve'][0]:\n",
            "            metrics_best.metrics_values[\"auc_\" + str(auc_metric)] = metrics_best.metrics_values['auc_and_roc_curve'][0][auc_metric]\n",
            "            metrics_last.metrics_values[\"auc_\" + str(auc_metric)] = metrics_last.metrics_values['auc_and_roc_curve'][0][auc_metric]\n",
            "\n",
            "        folder_name = {'folder_name': experiment_folder}\n",
            "        dict_best = {**folder_name, **metrics_best.metrics_values}\n",
            "        dict_last = {**folder_name, **metrics_last.metrics_values}\n",
            "\n",
            "        del dict_best['auc_and_roc_curve']\n",
            "        del dict_best['precision_recall_report']\n",
            "\n",
            "        del dict_last['auc_and_roc_curve']\n",
            "        del dict_last['precision_recall_report']\n",
            "\n",
            "        df_best = df_best.append(pd.DataFrame(dict_best, columns=dict_best.keys(), index=[0]), ignore_index=True)\n",
            "        df_last = df_last.append(pd.DataFrame(dict_last, columns=dict_last.keys(), index=[0]), ignore_index=True)\n",
            "\n",
            "    except Exception as e:\n",
            "        print(\"Erro no experimento \", experiment_folder)\n",
            "        print(e)\n",
            "\n",
            "\n",
            "df_best.to_csv(os.path.join(folder_path, 'ensemble_voting_best.csv'), index=False)\n",
            "df_last.to_csv(os.path.join(folder_path, 'ensemble_voting_last.csv'), index=False)\n",
            "\n",
            "# Avaliar a precisão do modelo de ensemble\n",
            "# true_classes_path = os.path.join(folder_path, \"true_classes.csv\")\n",
            "# true_classes = np.loadtxt(_csv_path_test, delimiter=\",\", skiprows=1)\n",
            "\n",
            "# from sklearn.metrics import accuracy_score, precision_score, recall_score, f1_score\n",
            "\n",
            "# accuracy = accuracy_score(true_classes, ensemble_classes)\n",
            "# precision = precision_score(true_classes, ensemble_classes, average=\"macro\")\n",
            "# recall = recall_score(true_classes, ensemble_classes, average=\"macro\")\n",
            "# f1 = f1_score(true_classes, ensemble_classes, average=\"macro\")\n",
            "\n",
            "# # Imprimir as métricas de avaliação\n",
            "# print(f\"Acurácia: {accuracy:.3f}\")\n",
            "# print(f\"Precisão: {precision:.3f}\")\n",
            "# print(f\"Recall: {recall:.3f}\")\n",
            "# print(f\"F1-score: {f1:.3f}\")\n"
         ]
      },
      {
         "attachments": {},
         "cell_type": "markdown",
         "metadata": {},
         "source": [
            "Calculate metrics for each model of each experiments"
         ]
      },
      {
         "cell_type": "code",
         "execution_count": 6,
         "metadata": {},
         "outputs": [
            {
               "name": "stdout",
               "output_type": "stream",
               "text": [
                  "Experimento:  dull_razor_shades_of_gray_cropped_images_folder_2\n",
                  "Experimento:  DA0_noPP\n",
                  "Experimento:  noDA_CLAHE_dull_razor_shades_of_gray_cropped_images_folder\n",
                  "Saving the scores in best_results/noDA_CLAHE_dull_razor_shades_of_gray_cropped_images_folder/efficientnet_b3_fold-1_lrinit-0.001_batchsize-32_optimizer-Adam_maxepochs-50_DA-None_PPen-CLAHE_PPha-dull_razor_PPco-shades_of_gray_PPde-None_PPno-True_PPcr-cropped_images_folder_PPre-True_drop-0.0_trainjustclassifier-False_16824953797804499/new_test_pred_best\n",
                  "Saving the scores in best_results/noDA_CLAHE_dull_razor_shades_of_gray_cropped_images_folder/efficientnet_b3_fold-1_lrinit-0.001_batchsize-32_optimizer-Adam_maxepochs-50_DA-None_PPen-CLAHE_PPha-dull_razor_PPco-shades_of_gray_PPde-None_PPno-True_PPcr-cropped_images_folder_PPre-True_drop-0.0_trainjustclassifier-False_16824953797804499/new_test_pred_last\n",
                  "Saving the scores in best_results/noDA_CLAHE_dull_razor_shades_of_gray_cropped_images_folder/tf_efficientnet_b6_fold-1_lrinit-0.0001_batchsize-4_optimizer-AdamW_maxepochs-50_DA-None_PPen-CLAHE_PPha-dull_razor_PPco-shades_of_gray_PPde-None_PPno-True_PPcr-cropped_images_folder_PPre-True_drop-0.0_trainjustclassifier-False_1682483418038081/new_test_pred_best\n",
                  "Saving the scores in best_results/noDA_CLAHE_dull_razor_shades_of_gray_cropped_images_folder/tf_efficientnet_b6_fold-1_lrinit-0.0001_batchsize-4_optimizer-AdamW_maxepochs-50_DA-None_PPen-CLAHE_PPha-dull_razor_PPco-shades_of_gray_PPde-None_PPno-True_PPcr-cropped_images_folder_PPre-True_drop-0.0_trainjustclassifier-False_1682483418038081/new_test_pred_last\n",
                  "Saving the scores in best_results/noDA_CLAHE_dull_razor_shades_of_gray_cropped_images_folder/densenet121_fold-1_lrinit-0.0001_batchsize-32_optimizer-Adam_maxepochs-50_DA-None_PPen-CLAHE_PPha-dull_razor_PPco-shades_of_gray_PPde-None_PPno-True_PPcr-cropped_images_folder_PPre-True_drop-0.0_trainjustclassifier-False_16824908600610263/new_test_pred_best\n",
                  "Saving the scores in best_results/noDA_CLAHE_dull_razor_shades_of_gray_cropped_images_folder/densenet121_fold-1_lrinit-0.0001_batchsize-32_optimizer-Adam_maxepochs-50_DA-None_PPen-CLAHE_PPha-dull_razor_PPco-shades_of_gray_PPde-None_PPno-True_PPcr-cropped_images_folder_PPre-True_drop-0.0_trainjustclassifier-False_16824908600610263/new_test_pred_last\n",
                  "Saving the scores in best_results/noDA_CLAHE_dull_razor_shades_of_gray_cropped_images_folder/efficientnet_b1_fold-1_lrinit-0.001_batchsize-8_optimizer-AdamW_maxepochs-50_DA-None_PPen-CLAHE_PPha-dull_razor_PPco-shades_of_gray_PPde-None_PPno-True_PPcr-cropped_images_folder_PPre-True_drop-0.0_trainjustclassifier-False_1682492800167229/new_test_pred_best\n",
                  "Saving the scores in best_results/noDA_CLAHE_dull_razor_shades_of_gray_cropped_images_folder/efficientnet_b1_fold-1_lrinit-0.001_batchsize-8_optimizer-AdamW_maxepochs-50_DA-None_PPen-CLAHE_PPha-dull_razor_PPco-shades_of_gray_PPde-None_PPno-True_PPcr-cropped_images_folder_PPre-True_drop-0.0_trainjustclassifier-False_1682492800167229/new_test_pred_last\n",
                  "Saving the scores in best_results/noDA_CLAHE_dull_razor_shades_of_gray_cropped_images_folder/resnext101_32x8d_fold-1_lrinit-0.001_batchsize-8_optimizer-SGD_maxepochs-50_DA-None_PPen-CLAHE_PPha-dull_razor_PPco-shades_of_gray_PPde-None_PPno-True_PPcr-cropped_images_folder_PPre-True_drop-0.0_trainjustclassifier-False_16825038950736072/new_test_pred_best\n",
                  "Saving the scores in best_results/noDA_CLAHE_dull_razor_shades_of_gray_cropped_images_folder/resnext101_32x8d_fold-1_lrinit-0.001_batchsize-8_optimizer-SGD_maxepochs-50_DA-None_PPen-CLAHE_PPha-dull_razor_PPco-shades_of_gray_PPde-None_PPno-True_PPcr-cropped_images_folder_PPre-True_drop-0.0_trainjustclassifier-False_16825038950736072/new_test_pred_last\n",
                  "Saving the scores in best_results/noDA_CLAHE_dull_razor_shades_of_gray_cropped_images_folder/vgg19_fold-1_lrinit-0.001_batchsize-8_optimizer-SGD_maxepochs-50_DA-None_PPen-CLAHE_PPha-dull_razor_PPco-shades_of_gray_PPde-None_PPno-True_PPcr-cropped_images_folder_PPre-True_drop-0.0_trainjustclassifier-False_1682503026910054/new_test_pred_best\n",
                  "Saving the scores in best_results/noDA_CLAHE_dull_razor_shades_of_gray_cropped_images_folder/vgg19_fold-1_lrinit-0.001_batchsize-8_optimizer-SGD_maxepochs-50_DA-None_PPen-CLAHE_PPha-dull_razor_PPco-shades_of_gray_PPde-None_PPno-True_PPcr-cropped_images_folder_PPre-True_drop-0.0_trainjustclassifier-False_1682503026910054/new_test_pred_last\n",
                  "Saving the scores in best_results/noDA_CLAHE_dull_razor_shades_of_gray_cropped_images_folder/efficientnet_b0_fold-1_lrinit-0.001_batchsize-8_optimizer-AdamW_maxepochs-50_DA-None_PPen-CLAHE_PPha-dull_razor_PPco-shades_of_gray_PPde-None_PPno-True_PPcr-cropped_images_folder_PPre-True_drop-0.0_trainjustclassifier-False_16824917663330305/new_test_pred_best\n",
                  "Saving the scores in best_results/noDA_CLAHE_dull_razor_shades_of_gray_cropped_images_folder/efficientnet_b0_fold-1_lrinit-0.001_batchsize-8_optimizer-AdamW_maxepochs-50_DA-None_PPen-CLAHE_PPha-dull_razor_PPco-shades_of_gray_PPde-None_PPno-True_PPcr-cropped_images_folder_PPre-True_drop-0.0_trainjustclassifier-False_16824917663330305/new_test_pred_last\n",
                  "Saving the scores in best_results/noDA_CLAHE_dull_razor_shades_of_gray_cropped_images_folder/efficientnet_b2_fold-1_lrinit-0.001_batchsize-8_optimizer-Adam_maxepochs-50_DA-None_PPen-CLAHE_PPha-dull_razor_PPco-shades_of_gray_PPde-None_PPno-True_PPcr-cropped_images_folder_PPre-True_drop-0.0_trainjustclassifier-False_16824941548608146/new_test_pred_best\n",
                  "Saving the scores in best_results/noDA_CLAHE_dull_razor_shades_of_gray_cropped_images_folder/efficientnet_b2_fold-1_lrinit-0.001_batchsize-8_optimizer-Adam_maxepochs-50_DA-None_PPen-CLAHE_PPha-dull_razor_PPco-shades_of_gray_PPde-None_PPno-True_PPcr-cropped_images_folder_PPre-True_drop-0.0_trainjustclassifier-False_16824941548608146/new_test_pred_last\n",
                  "Saving the scores in best_results/noDA_CLAHE_dull_razor_shades_of_gray_cropped_images_folder/seresnext101_32x8d_fold-1_lrinit-0.0001_batchsize-16_optimizer-Adam_maxepochs-50_DA-None_PPen-CLAHE_PPha-dull_razor_PPco-shades_of_gray_PPde-None_PPno-True_PPcr-cropped_images_folder_PPre-True_drop-0.0_trainjustclassifier-False_1682501237645372/new_test_pred_best\n",
                  "Saving the scores in best_results/noDA_CLAHE_dull_razor_shades_of_gray_cropped_images_folder/seresnext101_32x8d_fold-1_lrinit-0.0001_batchsize-16_optimizer-Adam_maxepochs-50_DA-None_PPen-CLAHE_PPha-dull_razor_PPco-shades_of_gray_PPde-None_PPno-True_PPcr-cropped_images_folder_PPre-True_drop-0.0_trainjustclassifier-False_1682501237645372/new_test_pred_last\n",
                  "Saving the scores in best_results/noDA_CLAHE_dull_razor_shades_of_gray_cropped_images_folder/efficientnet_b4_fold-1_lrinit-0.001_batchsize-16_optimizer-AdamW_maxepochs-50_DA-None_PPen-CLAHE_PPha-dull_razor_PPco-shades_of_gray_PPde-None_PPno-True_PPcr-cropped_images_folder_PPre-True_drop-0.0_trainjustclassifier-False_1682496816613192/new_test_pred_best\n",
                  "Saving the scores in best_results/noDA_CLAHE_dull_razor_shades_of_gray_cropped_images_folder/efficientnet_b4_fold-1_lrinit-0.001_batchsize-16_optimizer-AdamW_maxepochs-50_DA-None_PPen-CLAHE_PPha-dull_razor_PPco-shades_of_gray_PPde-None_PPno-True_PPcr-cropped_images_folder_PPre-True_drop-0.0_trainjustclassifier-False_1682496816613192/new_test_pred_last\n"
               ]
            },
            {
               "name": "stderr",
               "output_type": "stream",
               "text": [
                  "/home/a52550/Desktop/masters/cnn/learning_cycle/benchmarks/isic/raug/utils/classification_metrics_2.py:356: RuntimeWarning: More than 20 figures have been opened. Figures created through the pyplot interface (`matplotlib.pyplot.figure`) are retained until explicitly closed and may consume too much memory. (To control this warning, see the rcParam `figure.max_open_warning`).\n",
                  "  plt.figure()\n"
               ]
            },
            {
               "name": "stdout",
               "output_type": "stream",
               "text": [
                  "Saving the scores in best_results/noDA_CLAHE_dull_razor_shades_of_gray_cropped_images_folder/resnest101e_fold-1_lrinit-0.0001_batchsize-8_optimizer-AdamW_maxepochs-50_DA-None_PPen-CLAHE_PPha-dull_razor_PPco-shades_of_gray_PPde-None_PPno-True_PPcr-cropped_images_folder_PPre-True_drop-0.0_trainjustclassifier-False_16824987557730577/new_test_pred_best\n",
                  "Saving the scores in best_results/noDA_CLAHE_dull_razor_shades_of_gray_cropped_images_folder/resnest101e_fold-1_lrinit-0.0001_batchsize-8_optimizer-AdamW_maxepochs-50_DA-None_PPen-CLAHE_PPha-dull_razor_PPco-shades_of_gray_PPde-None_PPno-True_PPcr-cropped_images_folder_PPre-True_drop-0.0_trainjustclassifier-False_16824987557730577/new_test_pred_last\n",
                  "Saving the scores in best_results/noDA_CLAHE_dull_razor_shades_of_gray_cropped_images_folder/tf_efficientnet_b5_fold-1_lrinit-0.0001_batchsize-8_optimizer-AdamW_maxepochs-50_DA-None_PPen-CLAHE_PPha-dull_razor_PPco-shades_of_gray_PPde-None_PPno-True_PPcr-cropped_images_folder_PPre-True_drop-0.0_trainjustclassifier-False_16824746022573133/new_test_pred_best\n",
                  "Saving the scores in best_results/noDA_CLAHE_dull_razor_shades_of_gray_cropped_images_folder/tf_efficientnet_b5_fold-1_lrinit-0.0001_batchsize-8_optimizer-AdamW_maxepochs-50_DA-None_PPen-CLAHE_PPha-dull_razor_PPco-shades_of_gray_PPde-None_PPno-True_PPcr-cropped_images_folder_PPre-True_drop-0.0_trainjustclassifier-False_16824746022573133/new_test_pred_last\n",
                  "Saving the scores in best_results/noDA_CLAHE_dull_razor_shades_of_gray_cropped_images_folder/pnasnet5large_fold-1_lrinit-0.0001_batchsize-8_optimizer-Adam_maxepochs-50_DA-None_PPen-CLAHE_PPha-dull_razor_PPco-shades_of_gray_PPde-None_PPno-True_PPcr-cropped_images_folder_PPre-True_drop-0.0_trainjustclassifier-False_16825059961225636/new_test_pred_best\n",
                  "Saving the scores in best_results/noDA_CLAHE_dull_razor_shades_of_gray_cropped_images_folder/pnasnet5large_fold-1_lrinit-0.0001_batchsize-8_optimizer-Adam_maxepochs-50_DA-None_PPen-CLAHE_PPha-dull_razor_PPco-shades_of_gray_PPde-None_PPno-True_PPcr-cropped_images_folder_PPre-True_drop-0.0_trainjustclassifier-False_16825059961225636/new_test_pred_last\n",
                  "Experimento:  DA0_PP\n",
                  "Saving the scores in best_results/DA0_PP/densenet121_fold-1_lrinit-0.0001_batchsize-32_optimizer-Adam_maxepochs-50_DA-0_PPen-None_PPha-dull_razor_PPco-shades_of_gray_PPde-None_PPno-True_PPcr-cropped_images_folder_PPre-True_drop-0.0_trainjustclassifier-False_16807263435917563/new_test_pred_best\n",
                  "Saving the scores in best_results/DA0_PP/densenet121_fold-1_lrinit-0.0001_batchsize-32_optimizer-Adam_maxepochs-50_DA-0_PPen-None_PPha-dull_razor_PPco-shades_of_gray_PPde-None_PPno-True_PPcr-cropped_images_folder_PPre-True_drop-0.0_trainjustclassifier-False_16807263435917563/new_test_pred_last\n",
                  "Saving the scores in best_results/DA0_PP/seresnext101_32x8d_fold-1_lrinit-0.0001_batchsize-16_optimizer-Adam_maxepochs-50_DA-0_PPen-None_PPha-dull_razor_PPco-shades_of_gray_PPde-None_PPno-True_PPcr-cropped_images_folder_PPre-True_drop-0.0_trainjustclassifier-False_16807377815409434/new_test_pred_best\n",
                  "Saving the scores in best_results/DA0_PP/seresnext101_32x8d_fold-1_lrinit-0.0001_batchsize-16_optimizer-Adam_maxepochs-50_DA-0_PPen-None_PPha-dull_razor_PPco-shades_of_gray_PPde-None_PPno-True_PPcr-cropped_images_folder_PPre-True_drop-0.0_trainjustclassifier-False_16807377815409434/new_test_pred_last\n",
                  "Saving the scores in best_results/DA0_PP/tf_efficientnet_b6_fold-1_lrinit-0.0001_batchsize-4_optimizer-AdamW_maxepochs-50_DA-0_PPen-None_PPha-dull_razor_PPco-shades_of_gray_PPde-None_PPno-True_PPcr-cropped_images_folder_PPre-True_drop-0.0_trainjustclassifier-False_16807146609920633/new_test_pred_best\n",
                  "Saving the scores in best_results/DA0_PP/tf_efficientnet_b6_fold-1_lrinit-0.0001_batchsize-4_optimizer-AdamW_maxepochs-50_DA-0_PPen-None_PPha-dull_razor_PPco-shades_of_gray_PPde-None_PPno-True_PPcr-cropped_images_folder_PPre-True_drop-0.0_trainjustclassifier-False_16807146609920633/new_test_pred_last\n",
                  "Saving the scores in best_results/DA0_PP/efficientnet_b4_fold-1_lrinit-0.001_batchsize-16_optimizer-AdamW_maxepochs-50_DA-0_PPen-None_PPha-dull_razor_PPco-shades_of_gray_PPde-None_PPno-True_PPcr-cropped_images_folder_PPre-True_drop-0.0_trainjustclassifier-False_16807338718466887/new_test_pred_best\n",
                  "Saving the scores in best_results/DA0_PP/efficientnet_b4_fold-1_lrinit-0.001_batchsize-16_optimizer-AdamW_maxepochs-50_DA-0_PPen-None_PPha-dull_razor_PPco-shades_of_gray_PPde-None_PPno-True_PPcr-cropped_images_folder_PPre-True_drop-0.0_trainjustclassifier-False_16807338718466887/new_test_pred_last\n",
                  "Saving the scores in best_results/DA0_PP/resnext101_32x8d_fold-1_lrinit-0.001_batchsize-8_optimizer-SGD_maxepochs-50_DA-0_PPen-None_PPha-dull_razor_PPco-shades_of_gray_PPde-None_PPno-True_PPcr-cropped_images_folder_PPre-True_drop-0.0_trainjustclassifier-False_16807404824283748/new_test_pred_best\n",
                  "Saving the scores in best_results/DA0_PP/resnext101_32x8d_fold-1_lrinit-0.001_batchsize-8_optimizer-SGD_maxepochs-50_DA-0_PPen-None_PPha-dull_razor_PPco-shades_of_gray_PPde-None_PPno-True_PPcr-cropped_images_folder_PPre-True_drop-0.0_trainjustclassifier-False_16807404824283748/new_test_pred_last\n",
                  "Saving the scores in best_results/DA0_PP/efficientnet_b2_fold-1_lrinit-0.001_batchsize-8_optimizer-Adam_maxepochs-50_DA-0_PPen-None_PPha-dull_razor_PPco-shades_of_gray_PPde-None_PPno-True_PPcr-cropped_images_folder_PPre-True_drop-0.0_trainjustclassifier-False_16807305674509125/new_test_pred_best\n",
                  "Saving the scores in best_results/DA0_PP/efficientnet_b2_fold-1_lrinit-0.001_batchsize-8_optimizer-Adam_maxepochs-50_DA-0_PPen-None_PPha-dull_razor_PPco-shades_of_gray_PPde-None_PPno-True_PPcr-cropped_images_folder_PPre-True_drop-0.0_trainjustclassifier-False_16807305674509125/new_test_pred_last\n",
                  "Saving the scores in best_results/DA0_PP/resnest101e_fold-1_lrinit-0.0001_batchsize-8_optimizer-AdamW_maxepochs-50_DA-0_PPen-None_PPha-dull_razor_PPco-shades_of_gray_PPde-None_PPno-True_PPcr-cropped_images_folder_PPre-True_drop-0.0_trainjustclassifier-False_1680736202025293/new_test_pred_best\n",
                  "Saving the scores in best_results/DA0_PP/resnest101e_fold-1_lrinit-0.0001_batchsize-8_optimizer-AdamW_maxepochs-50_DA-0_PPen-None_PPha-dull_razor_PPco-shades_of_gray_PPde-None_PPno-True_PPcr-cropped_images_folder_PPre-True_drop-0.0_trainjustclassifier-False_1680736202025293/new_test_pred_last\n",
                  "Saving the scores in best_results/DA0_PP/efficientnet_b0_fold-1_lrinit-0.001_batchsize-8_optimizer-AdamW_maxepochs-50_DA-0_PPen-None_PPha-dull_razor_PPco-shades_of_gray_PPde-None_PPno-True_PPcr-cropped_images_folder_PPre-True_drop-0.0_trainjustclassifier-False_1680727774262811/new_test_pred_best\n",
                  "Saving the scores in best_results/DA0_PP/efficientnet_b0_fold-1_lrinit-0.001_batchsize-8_optimizer-AdamW_maxepochs-50_DA-0_PPen-None_PPha-dull_razor_PPco-shades_of_gray_PPde-None_PPno-True_PPcr-cropped_images_folder_PPre-True_drop-0.0_trainjustclassifier-False_1680727774262811/new_test_pred_last\n",
                  "Saving the scores in best_results/DA0_PP/efficientnet_b1_fold-1_lrinit-0.001_batchsize-8_optimizer-AdamW_maxepochs-50_DA-0_PPen-None_PPha-dull_razor_PPco-shades_of_gray_PPde-None_PPno-True_PPcr-cropped_images_folder_PPre-True_drop-0.0_trainjustclassifier-False_16807291683399746/new_test_pred_best\n",
                  "Saving the scores in best_results/DA0_PP/efficientnet_b1_fold-1_lrinit-0.001_batchsize-8_optimizer-AdamW_maxepochs-50_DA-0_PPen-None_PPha-dull_razor_PPco-shades_of_gray_PPde-None_PPno-True_PPcr-cropped_images_folder_PPre-True_drop-0.0_trainjustclassifier-False_16807291683399746/new_test_pred_last\n",
                  "Saving the scores in best_results/DA0_PP/pnasnet5large_fold-1_lrinit-0.0001_batchsize-8_optimizer-Adam_maxepochs-50_DA-0_PPen-None_PPha-dull_razor_PPco-shades_of_gray_PPde-None_PPno-True_PPcr-cropped_images_folder_PPre-True_drop-0.0_trainjustclassifier-False_16807428392407424/new_test_pred_best\n",
                  "Saving the scores in best_results/DA0_PP/pnasnet5large_fold-1_lrinit-0.0001_batchsize-8_optimizer-Adam_maxepochs-50_DA-0_PPen-None_PPha-dull_razor_PPco-shades_of_gray_PPde-None_PPno-True_PPcr-cropped_images_folder_PPre-True_drop-0.0_trainjustclassifier-False_16807428392407424/new_test_pred_last\n",
                  "Saving the scores in best_results/DA0_PP/vgg19_fold-1_lrinit-0.001_batchsize-8_optimizer-SGD_maxepochs-50_DA-0_PPen-None_PPha-dull_razor_PPco-shades_of_gray_PPde-None_PPno-True_PPcr-cropped_images_folder_PPre-True_drop-0.0_trainjustclassifier-False_16807389725071435/new_test_pred_best\n",
                  "Saving the scores in best_results/DA0_PP/vgg19_fold-1_lrinit-0.001_batchsize-8_optimizer-SGD_maxepochs-50_DA-0_PPen-None_PPha-dull_razor_PPco-shades_of_gray_PPde-None_PPno-True_PPcr-cropped_images_folder_PPre-True_drop-0.0_trainjustclassifier-False_16807389725071435/new_test_pred_last\n",
                  "Saving the scores in best_results/DA0_PP/efficientnet_b3_fold-1_lrinit-0.001_batchsize-32_optimizer-Adam_maxepochs-50_DA-0_PPen-None_PPha-dull_razor_PPco-shades_of_gray_PPde-None_PPno-True_PPcr-cropped_images_folder_PPre-True_drop-0.0_trainjustclassifier-False_16807324390873523/new_test_pred_best\n",
                  "Saving the scores in best_results/DA0_PP/efficientnet_b3_fold-1_lrinit-0.001_batchsize-32_optimizer-Adam_maxepochs-50_DA-0_PPen-None_PPha-dull_razor_PPco-shades_of_gray_PPde-None_PPno-True_PPcr-cropped_images_folder_PPre-True_drop-0.0_trainjustclassifier-False_16807324390873523/new_test_pred_last\n",
                  "Saving the scores in best_results/DA0_PP/tf_efficientnet_b5_fold-1_lrinit-0.0001_batchsize-8_optimizer-AdamW_maxepochs-50_DA-0_PPen-None_PPha-dull_razor_PPco-shades_of_gray_PPde-None_PPno-True_PPcr-cropped_images_folder_PPre-True_drop-0.0_trainjustclassifier-False_16807097007765975/new_test_pred_best\n",
                  "Saving the scores in best_results/DA0_PP/tf_efficientnet_b5_fold-1_lrinit-0.0001_batchsize-8_optimizer-AdamW_maxepochs-50_DA-0_PPen-None_PPha-dull_razor_PPco-shades_of_gray_PPde-None_PPno-True_PPcr-cropped_images_folder_PPre-True_drop-0.0_trainjustclassifier-False_16807097007765975/new_test_pred_last\n",
                  "Experimento:  dull_razor\n",
                  "Experimento:  DA1_noPP\n",
                  "Experimento:  shades_of_gray_cropped_images_folder\n",
                  "Experimento:  DA2_dull_razor_shades_of_gray_cropped_images_folder\n",
                  "Saving the scores in best_results/DA2_dull_razor_shades_of_gray_cropped_images_folder/densenet121_fold-1_lrinit-0.0001_batchsize-32_optimizer-Adam_maxepochs-150_DA-2_PPen-None_PPha-dull_razor_PPco-shades_of_gray_PPde-None_PPno-True_PPcr-cropped_images_folder_PPre-True_drop-0.0_trainjustclassifier-False_16813145991351407/new_test_pred_best\n",
                  "Saving the scores in best_results/DA2_dull_razor_shades_of_gray_cropped_images_folder/densenet121_fold-1_lrinit-0.0001_batchsize-32_optimizer-Adam_maxepochs-150_DA-2_PPen-None_PPha-dull_razor_PPco-shades_of_gray_PPde-None_PPno-True_PPcr-cropped_images_folder_PPre-True_drop-0.0_trainjustclassifier-False_16813145991351407/new_test_pred_last\n",
                  "Saving the scores in best_results/DA2_dull_razor_shades_of_gray_cropped_images_folder/efficientnet_b3_fold-1_lrinit-0.0001_batchsize-32_optimizer-Adam_maxepochs-150_DA-2_PPen-None_PPha-dull_razor_PPco-shades_of_gray_PPde-None_PPno-True_PPcr-cropped_images_folder_PPre-True_drop-0.0_trainjustclassifier-False_16813259248001854/new_test_pred_best\n",
                  "Saving the scores in best_results/DA2_dull_razor_shades_of_gray_cropped_images_folder/efficientnet_b3_fold-1_lrinit-0.0001_batchsize-32_optimizer-Adam_maxepochs-150_DA-2_PPen-None_PPha-dull_razor_PPco-shades_of_gray_PPde-None_PPno-True_PPcr-cropped_images_folder_PPre-True_drop-0.0_trainjustclassifier-False_16813259248001854/new_test_pred_last\n",
                  "Saving the scores in best_results/DA2_dull_razor_shades_of_gray_cropped_images_folder/resnest101e_fold-1_lrinit-0.0001_batchsize-8_optimizer-AdamW_maxepochs-150_DA-2_PPen-None_PPha-dull_razor_PPco-shades_of_gray_PPde-None_PPno-True_PPcr-cropped_images_folder_PPre-True_drop-0.0_trainjustclassifier-False_1681332137441572/new_test_pred_best\n",
                  "Saving the scores in best_results/DA2_dull_razor_shades_of_gray_cropped_images_folder/resnest101e_fold-1_lrinit-0.0001_batchsize-8_optimizer-AdamW_maxepochs-150_DA-2_PPen-None_PPha-dull_razor_PPco-shades_of_gray_PPde-None_PPno-True_PPcr-cropped_images_folder_PPre-True_drop-0.0_trainjustclassifier-False_1681332137441572/new_test_pred_last\n",
                  "Saving the scores in best_results/DA2_dull_razor_shades_of_gray_cropped_images_folder/efficientnet_b2_fold-1_lrinit-0.0001_batchsize-8_optimizer-Adam_maxepochs-150_DA-2_PPen-None_PPha-dull_razor_PPco-shades_of_gray_PPde-None_PPno-True_PPcr-cropped_images_folder_PPre-True_drop-0.0_trainjustclassifier-False_16813227212758167/new_test_pred_best\n",
                  "Saving the scores in best_results/DA2_dull_razor_shades_of_gray_cropped_images_folder/efficientnet_b2_fold-1_lrinit-0.0001_batchsize-8_optimizer-Adam_maxepochs-150_DA-2_PPen-None_PPha-dull_razor_PPco-shades_of_gray_PPde-None_PPno-True_PPcr-cropped_images_folder_PPre-True_drop-0.0_trainjustclassifier-False_16813227212758167/new_test_pred_last\n",
                  "Saving the scores in best_results/DA2_dull_razor_shades_of_gray_cropped_images_folder/seresnext101_32x8d_fold-1_lrinit-0.0001_batchsize-16_optimizer-Adam_maxepochs-150_DA-2_PPen-None_PPha-dull_razor_PPco-shades_of_gray_PPde-None_PPno-True_PPcr-cropped_images_folder_PPre-True_drop-0.0_trainjustclassifier-False_16813369182827797/new_test_pred_best\n",
                  "Saving the scores in best_results/DA2_dull_razor_shades_of_gray_cropped_images_folder/seresnext101_32x8d_fold-1_lrinit-0.0001_batchsize-16_optimizer-Adam_maxepochs-150_DA-2_PPen-None_PPha-dull_razor_PPco-shades_of_gray_PPde-None_PPno-True_PPcr-cropped_images_folder_PPre-True_drop-0.0_trainjustclassifier-False_16813369182827797/new_test_pred_last\n",
                  "Saving the scores in best_results/DA2_dull_razor_shades_of_gray_cropped_images_folder/pnasnet5large_fold-1_lrinit-0.0001_batchsize-8_optimizer-Adam_maxepochs-150_DA-2_PPen-None_PPha-dull_razor_PPco-shades_of_gray_PPde-None_PPno-True_PPcr-cropped_images_folder_PPre-True_drop-0.0_trainjustclassifier-False_16813443623723736/new_test_pred_best\n",
                  "Saving the scores in best_results/DA2_dull_razor_shades_of_gray_cropped_images_folder/pnasnet5large_fold-1_lrinit-0.0001_batchsize-8_optimizer-Adam_maxepochs-150_DA-2_PPen-None_PPha-dull_razor_PPco-shades_of_gray_PPde-None_PPno-True_PPcr-cropped_images_folder_PPre-True_drop-0.0_trainjustclassifier-False_16813443623723736/new_test_pred_last\n",
                  "Saving the scores in best_results/DA2_dull_razor_shades_of_gray_cropped_images_folder/resnext101_32x8d_fold-1_lrinit-0.0001_batchsize-8_optimizer-SGD_maxepochs-150_DA-2_PPen-None_PPha-dull_razor_PPco-shades_of_gray_PPde-None_PPno-True_PPcr-cropped_images_folder_PPre-True_drop-0.0_trainjustclassifier-False_16813417135634484/new_test_pred_best\n",
                  "Saving the scores in best_results/DA2_dull_razor_shades_of_gray_cropped_images_folder/resnext101_32x8d_fold-1_lrinit-0.0001_batchsize-8_optimizer-SGD_maxepochs-150_DA-2_PPen-None_PPha-dull_razor_PPco-shades_of_gray_PPde-None_PPno-True_PPcr-cropped_images_folder_PPre-True_drop-0.0_trainjustclassifier-False_16813417135634484/new_test_pred_last\n",
                  "Saving the scores in best_results/DA2_dull_razor_shades_of_gray_cropped_images_folder/efficientnet_b0_fold-1_lrinit-0.0001_batchsize-8_optimizer-AdamW_maxepochs-150_DA-2_PPen-None_PPha-dull_razor_PPco-shades_of_gray_PPde-None_PPno-True_PPcr-cropped_images_folder_PPre-True_drop-0.0_trainjustclassifier-False_16813171666139843/new_test_pred_best\n",
                  "Saving the scores in best_results/DA2_dull_razor_shades_of_gray_cropped_images_folder/efficientnet_b0_fold-1_lrinit-0.0001_batchsize-8_optimizer-AdamW_maxepochs-150_DA-2_PPen-None_PPha-dull_razor_PPco-shades_of_gray_PPde-None_PPno-True_PPcr-cropped_images_folder_PPre-True_drop-0.0_trainjustclassifier-False_16813171666139843/new_test_pred_last\n",
                  "Saving the scores in best_results/DA2_dull_razor_shades_of_gray_cropped_images_folder/tf_efficientnet_b5_fold-1_lrinit-0.0001_batchsize-8_optimizer-AdamW_maxepochs-150_DA-2_PPen-None_PPha-dull_razor_PPco-shades_of_gray_PPde-None_PPno-True_PPcr-cropped_images_folder_PPre-True_drop-0.0_trainjustclassifier-False_16812917987950535/new_test_pred_best\n",
                  "Saving the scores in best_results/DA2_dull_razor_shades_of_gray_cropped_images_folder/tf_efficientnet_b5_fold-1_lrinit-0.0001_batchsize-8_optimizer-AdamW_maxepochs-150_DA-2_PPen-None_PPha-dull_razor_PPco-shades_of_gray_PPde-None_PPno-True_PPcr-cropped_images_folder_PPre-True_drop-0.0_trainjustclassifier-False_16812917987950535/new_test_pred_last\n",
                  "Saving the scores in best_results/DA2_dull_razor_shades_of_gray_cropped_images_folder/tf_efficientnet_b6_fold-1_lrinit-0.0001_batchsize-4_optimizer-AdamW_maxepochs-150_DA-2_PPen-None_PPha-dull_razor_PPco-shades_of_gray_PPde-None_PPno-True_PPcr-cropped_images_folder_PPre-True_drop-0.0_trainjustclassifier-False_16813005588582973/new_test_pred_best\n",
                  "Saving the scores in best_results/DA2_dull_razor_shades_of_gray_cropped_images_folder/tf_efficientnet_b6_fold-1_lrinit-0.0001_batchsize-4_optimizer-AdamW_maxepochs-150_DA-2_PPen-None_PPha-dull_razor_PPco-shades_of_gray_PPde-None_PPno-True_PPcr-cropped_images_folder_PPre-True_drop-0.0_trainjustclassifier-False_16813005588582973/new_test_pred_last\n",
                  "Saving the scores in best_results/DA2_dull_razor_shades_of_gray_cropped_images_folder/efficientnet_b1_fold-1_lrinit-0.0001_batchsize-8_optimizer-AdamW_maxepochs-150_DA-2_PPen-None_PPha-dull_razor_PPco-shades_of_gray_PPde-None_PPno-True_PPcr-cropped_images_folder_PPre-True_drop-0.0_trainjustclassifier-False_16813196594619434/new_test_pred_best\n",
                  "Saving the scores in best_results/DA2_dull_razor_shades_of_gray_cropped_images_folder/efficientnet_b1_fold-1_lrinit-0.0001_batchsize-8_optimizer-AdamW_maxepochs-150_DA-2_PPen-None_PPha-dull_razor_PPco-shades_of_gray_PPde-None_PPno-True_PPcr-cropped_images_folder_PPre-True_drop-0.0_trainjustclassifier-False_16813196594619434/new_test_pred_last\n",
                  "Saving the scores in best_results/DA2_dull_razor_shades_of_gray_cropped_images_folder/vgg19_fold-1_lrinit-0.0001_batchsize-8_optimizer-SGD_maxepochs-150_DA-2_PPen-None_PPha-dull_razor_PPco-shades_of_gray_PPde-None_PPno-True_PPcr-cropped_images_folder_PPre-True_drop-0.0_trainjustclassifier-False_16813396481821916/new_test_pred_best\n",
                  "Saving the scores in best_results/DA2_dull_razor_shades_of_gray_cropped_images_folder/vgg19_fold-1_lrinit-0.0001_batchsize-8_optimizer-SGD_maxepochs-150_DA-2_PPen-None_PPha-dull_razor_PPco-shades_of_gray_PPde-None_PPno-True_PPcr-cropped_images_folder_PPre-True_drop-0.0_trainjustclassifier-False_16813396481821916/new_test_pred_last\n",
                  "Saving the scores in best_results/DA2_dull_razor_shades_of_gray_cropped_images_folder/efficientnet_b4_fold-1_lrinit-0.0001_batchsize-16_optimizer-AdamW_maxepochs-150_DA-2_PPen-None_PPha-dull_razor_PPco-shades_of_gray_PPde-None_PPno-True_PPcr-cropped_images_folder_PPre-True_drop-0.0_trainjustclassifier-False_16813292269355123/new_test_pred_best\n",
                  "Saving the scores in best_results/DA2_dull_razor_shades_of_gray_cropped_images_folder/efficientnet_b4_fold-1_lrinit-0.0001_batchsize-16_optimizer-AdamW_maxepochs-150_DA-2_PPen-None_PPha-dull_razor_PPco-shades_of_gray_PPde-None_PPno-True_PPcr-cropped_images_folder_PPre-True_drop-0.0_trainjustclassifier-False_16813292269355123/new_test_pred_last\n",
                  "Experimento:  dull_razor_shades_of_gray_cropped_images_folder\n",
                  "Experimento:  DA3_noPP\n",
                  "Experimento:  dull_razor_shades_of_gray\n",
                  "Experimento:  DA0_noPP_3\n",
                  "Saving the scores in best_results/DA0_noPP_3/efficientnet_b3_fold-1_lrinit-0.001_batchsize-32_optimizer-Adam_maxepochs-50_DA-0_PPen-None_PPha-None_PPco-None_PPde-None_PPno-True_PPcr-None_PPre-True_drop-0.0_trainjustclassifier-False_1680676586096729/new_test_pred_best\n",
                  "Saving the scores in best_results/DA0_noPP_3/efficientnet_b3_fold-1_lrinit-0.001_batchsize-32_optimizer-Adam_maxepochs-50_DA-0_PPen-None_PPha-None_PPco-None_PPde-None_PPno-True_PPcr-None_PPre-True_drop-0.0_trainjustclassifier-False_1680676586096729/new_test_pred_last\n",
                  "Saving the scores in best_results/DA0_noPP_3/resnest101e_fold-1_lrinit-0.0001_batchsize-8_optimizer-AdamW_maxepochs-50_DA-0_PPen-None_PPha-None_PPco-None_PPde-None_PPno-True_PPcr-None_PPre-True_drop-0.0_trainjustclassifier-False_16806810152288215/new_test_pred_best\n",
                  "Saving the scores in best_results/DA0_noPP_3/resnest101e_fold-1_lrinit-0.0001_batchsize-8_optimizer-AdamW_maxepochs-50_DA-0_PPen-None_PPha-None_PPco-None_PPde-None_PPno-True_PPcr-None_PPre-True_drop-0.0_trainjustclassifier-False_16806810152288215/new_test_pred_last\n",
                  "Saving the scores in best_results/DA0_noPP_3/densenet121_fold-1_lrinit-0.0001_batchsize-32_optimizer-Adam_maxepochs-50_DA-0_PPen-None_PPha-None_PPco-None_PPde-None_PPno-True_PPcr-None_PPre-True_drop-0.0_trainjustclassifier-False_16806683526389024/new_test_pred_best\n",
                  "Saving the scores in best_results/DA0_noPP_3/densenet121_fold-1_lrinit-0.0001_batchsize-32_optimizer-Adam_maxepochs-50_DA-0_PPen-None_PPha-None_PPco-None_PPde-None_PPno-True_PPcr-None_PPre-True_drop-0.0_trainjustclassifier-False_16806683526389024/new_test_pred_last\n",
                  "Saving the scores in best_results/DA0_noPP_3/tf_efficientnet_b6_fold-1_lrinit-0.0001_batchsize-4_optimizer-AdamW_maxepochs-50_DA-0_PPen-None_PPha-None_PPco-None_PPde-None_PPno-True_PPcr-None_PPre-True_drop-0.0_trainjustclassifier-False_1680658353169638/new_test_pred_best\n",
                  "Saving the scores in best_results/DA0_noPP_3/tf_efficientnet_b6_fold-1_lrinit-0.0001_batchsize-4_optimizer-AdamW_maxepochs-50_DA-0_PPen-None_PPha-None_PPco-None_PPde-None_PPno-True_PPcr-None_PPre-True_drop-0.0_trainjustclassifier-False_1680658353169638/new_test_pred_last\n",
                  "Saving the scores in best_results/DA0_noPP_3/seresnext101_32x8d_fold-1_lrinit-0.0001_batchsize-32_optimizer-Adam_maxepochs-50_DA-0_PPen-None_PPha-None_PPco-None_PPde-None_PPno-True_PPcr-None_PPre-True_drop-0.0_trainjustclassifier-False_16806846779415975/new_test_pred_best\n",
                  "Saving the scores in best_results/DA0_noPP_3/seresnext101_32x8d_fold-1_lrinit-0.0001_batchsize-32_optimizer-Adam_maxepochs-50_DA-0_PPen-None_PPha-None_PPco-None_PPde-None_PPno-True_PPcr-None_PPre-True_drop-0.0_trainjustclassifier-False_16806846779415975/new_test_pred_last\n",
                  "Saving the scores in best_results/DA0_noPP_3/efficientnet_b2_fold-1_lrinit-0.001_batchsize-8_optimizer-Adam_maxepochs-50_DA-0_PPen-None_PPha-None_PPco-None_PPde-None_PPno-True_PPcr-None_PPre-True_drop-0.0_trainjustclassifier-False_16806745989806416/new_test_pred_best\n",
                  "Saving the scores in best_results/DA0_noPP_3/efficientnet_b2_fold-1_lrinit-0.001_batchsize-8_optimizer-Adam_maxepochs-50_DA-0_PPen-None_PPha-None_PPco-None_PPde-None_PPno-True_PPcr-None_PPre-True_drop-0.0_trainjustclassifier-False_16806745989806416/new_test_pred_last\n",
                  "Saving the scores in best_results/DA0_noPP_3/efficientnet_b4_fold-1_lrinit-0.001_batchsize-16_optimizer-AdamW_maxepochs-50_DA-0_PPen-None_PPha-None_PPco-None_PPde-None_PPno-True_PPcr-None_PPre-True_drop-0.0_trainjustclassifier-False_16806789442947412/new_test_pred_best\n",
                  "Saving the scores in best_results/DA0_noPP_3/efficientnet_b4_fold-1_lrinit-0.001_batchsize-16_optimizer-AdamW_maxepochs-50_DA-0_PPen-None_PPha-None_PPco-None_PPde-None_PPno-True_PPcr-None_PPre-True_drop-0.0_trainjustclassifier-False_16806789442947412/new_test_pred_last\n",
                  "Saving the scores in best_results/DA0_noPP_3/resnext101_32x8d_fold-1_lrinit-0.001_batchsize-8_optimizer-SGD_maxepochs-50_DA-0_PPen-None_PPha-None_PPco-None_PPde-None_PPno-True_PPcr-None_PPre-True_drop-0.0_trainjustclassifier-False_16807011755216286/new_test_pred_best\n",
                  "Saving the scores in best_results/DA0_noPP_3/resnext101_32x8d_fold-1_lrinit-0.001_batchsize-8_optimizer-SGD_maxepochs-50_DA-0_PPen-None_PPha-None_PPco-None_PPde-None_PPno-True_PPcr-None_PPre-True_drop-0.0_trainjustclassifier-False_16807011755216286/new_test_pred_last\n",
                  "Saving the scores in best_results/DA0_noPP_3/vgg19_fold-1_lrinit-0.001_batchsize-8_optimizer-SGD_maxepochs-50_DA-0_PPen-None_PPha-None_PPco-None_PPde-None_PPno-True_PPcr-None_PPre-True_drop-0.0_trainjustclassifier-False_16806872780787373/new_test_pred_best\n",
                  "Saving the scores in best_results/DA0_noPP_3/vgg19_fold-1_lrinit-0.001_batchsize-8_optimizer-SGD_maxepochs-50_DA-0_PPen-None_PPha-None_PPco-None_PPde-None_PPno-True_PPcr-None_PPre-True_drop-0.0_trainjustclassifier-False_16806872780787373/new_test_pred_last\n",
                  "Saving the scores in best_results/DA0_noPP_3/tf_efficientnet_b5_fold-1_lrinit-0.0001_batchsize-8_optimizer-AdamW_maxepochs-50_DA-0_PPen-None_PPha-None_PPco-None_PPde-None_PPno-True_PPcr-None_PPre-True_drop-0.0_trainjustclassifier-False_16806529581110363/new_test_pred_best\n",
                  "Saving the scores in best_results/DA0_noPP_3/tf_efficientnet_b5_fold-1_lrinit-0.0001_batchsize-8_optimizer-AdamW_maxepochs-50_DA-0_PPen-None_PPha-None_PPco-None_PPde-None_PPno-True_PPcr-None_PPre-True_drop-0.0_trainjustclassifier-False_16806529581110363/new_test_pred_last\n",
                  "Saving the scores in best_results/DA0_noPP_3/pnasnet5large_fold-1_lrinit-0.0001_batchsize-8_optimizer-Adam_maxepochs-50_DA-0_PPen-None_PPha-None_PPco-None_PPde-None_PPno-True_PPcr-None_PPre-True_drop-0.0_trainjustclassifier-False_16806887422288716/new_test_pred_best\n",
                  "Saving the scores in best_results/DA0_noPP_3/pnasnet5large_fold-1_lrinit-0.0001_batchsize-8_optimizer-Adam_maxepochs-50_DA-0_PPen-None_PPha-None_PPco-None_PPde-None_PPno-True_PPcr-None_PPre-True_drop-0.0_trainjustclassifier-False_16806887422288716/new_test_pred_last\n",
                  "Saving the scores in best_results/DA0_noPP_3/efficientnet_b1_fold-1_lrinit-0.001_batchsize-8_optimizer-AdamW_maxepochs-50_DA-0_PPen-None_PPha-None_PPco-None_PPde-None_PPno-True_PPcr-None_PPre-True_drop-0.0_trainjustclassifier-False_16806720463018491/new_test_pred_best\n",
                  "Saving the scores in best_results/DA0_noPP_3/efficientnet_b1_fold-1_lrinit-0.001_batchsize-8_optimizer-AdamW_maxepochs-50_DA-0_PPen-None_PPha-None_PPco-None_PPde-None_PPno-True_PPcr-None_PPre-True_drop-0.0_trainjustclassifier-False_16806720463018491/new_test_pred_last\n",
                  "Saving the scores in best_results/DA0_noPP_3/efficientnet_b0_fold-1_lrinit-0.001_batchsize-8_optimizer-AdamW_maxepochs-50_DA-0_PPen-None_PPha-None_PPco-None_PPde-None_PPno-True_PPcr-None_PPre-True_drop-0.0_trainjustclassifier-False_16806694609152858/new_test_pred_best\n",
                  "Saving the scores in best_results/DA0_noPP_3/efficientnet_b0_fold-1_lrinit-0.001_batchsize-8_optimizer-AdamW_maxepochs-50_DA-0_PPen-None_PPha-None_PPco-None_PPde-None_PPno-True_PPcr-None_PPre-True_drop-0.0_trainjustclassifier-False_16806694609152858/new_test_pred_last\n",
                  "Experimento:  dull_razor_2\n",
                  "Experimento:  DA2_noPP_2\n",
                  "Saving the scores in best_results/DA2_noPP_2/seresnext101_32x8d_fold-1_lrinit-0.0001_batchsize-16_optimizer-Adam_maxepochs-150_DA-2_PPen-None_PPha-None_PPco-None_PPde-None_PPno-True_PPcr-None_PPre-True_drop-0.0_trainjustclassifier-False_1681458575284634/new_test_pred_best\n",
                  "Saving the scores in best_results/DA2_noPP_2/seresnext101_32x8d_fold-1_lrinit-0.0001_batchsize-16_optimizer-Adam_maxepochs-150_DA-2_PPen-None_PPha-None_PPco-None_PPde-None_PPno-True_PPcr-None_PPre-True_drop-0.0_trainjustclassifier-False_1681458575284634/new_test_pred_last\n",
                  "Saving the scores in best_results/DA2_noPP_2/densenet121_fold-1_lrinit-0.0001_batchsize-32_optimizer-Adam_maxepochs-150_DA-2_PPen-None_PPha-None_PPco-None_PPde-None_PPno-True_PPcr-None_PPre-True_drop-0.0_trainjustclassifier-False_16814343457776537/new_test_pred_best\n",
                  "Saving the scores in best_results/DA2_noPP_2/densenet121_fold-1_lrinit-0.0001_batchsize-32_optimizer-Adam_maxepochs-150_DA-2_PPen-None_PPha-None_PPco-None_PPde-None_PPno-True_PPcr-None_PPre-True_drop-0.0_trainjustclassifier-False_16814343457776537/new_test_pred_last\n",
                  "Saving the scores in best_results/DA2_noPP_2/resnest101e_fold-1_lrinit-0.0001_batchsize-8_optimizer-AdamW_maxepochs-150_DA-2_PPen-None_PPha-None_PPco-None_PPde-None_PPno-True_PPcr-None_PPre-True_drop-0.0_trainjustclassifier-False_16814531438972118/new_test_pred_best\n",
                  "Saving the scores in best_results/DA2_noPP_2/resnest101e_fold-1_lrinit-0.0001_batchsize-8_optimizer-AdamW_maxepochs-150_DA-2_PPen-None_PPha-None_PPco-None_PPde-None_PPno-True_PPcr-None_PPre-True_drop-0.0_trainjustclassifier-False_16814531438972118/new_test_pred_last\n",
                  "Saving the scores in best_results/DA2_noPP_2/efficientnet_b1_fold-1_lrinit-0.0001_batchsize-8_optimizer-AdamW_maxepochs-150_DA-2_PPen-None_PPha-None_PPco-None_PPde-None_PPno-True_PPcr-None_PPre-True_drop-0.0_trainjustclassifier-False_16814403726668034/new_test_pred_best\n",
                  "Saving the scores in best_results/DA2_noPP_2/efficientnet_b1_fold-1_lrinit-0.0001_batchsize-8_optimizer-AdamW_maxepochs-150_DA-2_PPen-None_PPha-None_PPco-None_PPde-None_PPno-True_PPcr-None_PPre-True_drop-0.0_trainjustclassifier-False_16814403726668034/new_test_pred_last\n",
                  "Saving the scores in best_results/DA2_noPP_2/vgg19_fold-1_lrinit-0.0001_batchsize-8_optimizer-SGD_maxepochs-150_DA-2_PPen-None_PPha-None_PPco-None_PPde-None_PPno-True_PPcr-None_PPre-True_drop-0.0_trainjustclassifier-False_168146229686036/new_test_pred_best\n",
                  "Saving the scores in best_results/DA2_noPP_2/vgg19_fold-1_lrinit-0.0001_batchsize-8_optimizer-SGD_maxepochs-150_DA-2_PPen-None_PPha-None_PPco-None_PPde-None_PPno-True_PPcr-None_PPre-True_drop-0.0_trainjustclassifier-False_168146229686036/new_test_pred_last\n",
                  "Saving the scores in best_results/DA2_noPP_2/tf_efficientnet_b6_fold-1_lrinit-0.0001_batchsize-4_optimizer-AdamW_maxepochs-150_DA-2_PPen-None_PPha-None_PPco-None_PPde-None_PPno-True_PPcr-None_PPre-True_drop-0.0_trainjustclassifier-False_1681422850960654/new_test_pred_best\n",
                  "Saving the scores in best_results/DA2_noPP_2/tf_efficientnet_b6_fold-1_lrinit-0.0001_batchsize-4_optimizer-AdamW_maxepochs-150_DA-2_PPen-None_PPha-None_PPco-None_PPde-None_PPno-True_PPcr-None_PPre-True_drop-0.0_trainjustclassifier-False_1681422850960654/new_test_pred_last\n",
                  "Saving the scores in best_results/DA2_noPP_2/efficientnet_b3_fold-1_lrinit-0.0001_batchsize-32_optimizer-Adam_maxepochs-150_DA-2_PPen-None_PPha-None_PPco-None_PPde-None_PPno-True_PPcr-None_PPre-True_drop-0.0_trainjustclassifier-False_1681445848894776/new_test_pred_best\n",
                  "Saving the scores in best_results/DA2_noPP_2/efficientnet_b3_fold-1_lrinit-0.0001_batchsize-32_optimizer-Adam_maxepochs-150_DA-2_PPen-None_PPha-None_PPco-None_PPde-None_PPno-True_PPcr-None_PPre-True_drop-0.0_trainjustclassifier-False_1681445848894776/new_test_pred_last\n",
                  "Saving the scores in best_results/DA2_noPP_2/efficientnet_b2_fold-1_lrinit-0.0001_batchsize-8_optimizer-Adam_maxepochs-150_DA-2_PPen-None_PPha-None_PPco-None_PPde-None_PPno-True_PPcr-None_PPre-True_drop-0.0_trainjustclassifier-False_16814434111313226/new_test_pred_best\n",
                  "Saving the scores in best_results/DA2_noPP_2/efficientnet_b2_fold-1_lrinit-0.0001_batchsize-8_optimizer-Adam_maxepochs-150_DA-2_PPen-None_PPha-None_PPco-None_PPde-None_PPno-True_PPcr-None_PPre-True_drop-0.0_trainjustclassifier-False_16814434111313226/new_test_pred_last\n",
                  "Saving the scores in best_results/DA2_noPP_2/pnasnet5large_fold-1_lrinit-0.0001_batchsize-8_optimizer-Adam_maxepochs-150_DA-2_PPen-None_PPha-None_PPco-None_PPde-None_PPno-True_PPcr-None_PPre-True_drop-0.0_trainjustclassifier-False_16814675826845403/new_test_pred_best\n",
                  "Saving the scores in best_results/DA2_noPP_2/pnasnet5large_fold-1_lrinit-0.0001_batchsize-8_optimizer-Adam_maxepochs-150_DA-2_PPen-None_PPha-None_PPco-None_PPde-None_PPno-True_PPcr-None_PPre-True_drop-0.0_trainjustclassifier-False_16814675826845403/new_test_pred_last\n",
                  "Saving the scores in best_results/DA2_noPP_2/resnext101_32x8d_fold-1_lrinit-0.0001_batchsize-8_optimizer-SGD_maxepochs-150_DA-2_PPen-None_PPha-None_PPco-None_PPde-None_PPno-True_PPcr-None_PPre-True_drop-0.0_trainjustclassifier-False_1681464473871762/new_test_pred_best\n",
                  "Saving the scores in best_results/DA2_noPP_2/resnext101_32x8d_fold-1_lrinit-0.0001_batchsize-8_optimizer-SGD_maxepochs-150_DA-2_PPen-None_PPha-None_PPco-None_PPde-None_PPno-True_PPcr-None_PPre-True_drop-0.0_trainjustclassifier-False_1681464473871762/new_test_pred_last\n",
                  "Saving the scores in best_results/DA2_noPP_2/tf_efficientnet_b5_fold-1_lrinit-0.0001_batchsize-8_optimizer-AdamW_maxepochs-150_DA-2_PPen-None_PPha-None_PPco-None_PPde-None_PPno-True_PPcr-None_PPre-True_drop-0.0_trainjustclassifier-False_16814177232163067/new_test_pred_best\n",
                  "Saving the scores in best_results/DA2_noPP_2/tf_efficientnet_b5_fold-1_lrinit-0.0001_batchsize-8_optimizer-AdamW_maxepochs-150_DA-2_PPen-None_PPha-None_PPco-None_PPde-None_PPno-True_PPcr-None_PPre-True_drop-0.0_trainjustclassifier-False_16814177232163067/new_test_pred_last\n",
                  "Saving the scores in best_results/DA2_noPP_2/efficientnet_b0_fold-1_lrinit-0.0001_batchsize-8_optimizer-AdamW_maxepochs-150_DA-2_PPen-None_PPha-None_PPco-None_PPde-None_PPno-True_PPcr-None_PPre-True_drop-0.0_trainjustclassifier-False_16814374852851868/new_test_pred_best\n",
                  "Saving the scores in best_results/DA2_noPP_2/efficientnet_b0_fold-1_lrinit-0.0001_batchsize-8_optimizer-AdamW_maxepochs-150_DA-2_PPen-None_PPha-None_PPco-None_PPde-None_PPno-True_PPcr-None_PPre-True_drop-0.0_trainjustclassifier-False_16814374852851868/new_test_pred_last\n",
                  "Saving the scores in best_results/DA2_noPP_2/efficientnet_b4_fold-1_lrinit-0.0001_batchsize-16_optimizer-AdamW_maxepochs-150_DA-2_PPen-None_PPha-None_PPco-None_PPde-None_PPno-True_PPcr-None_PPre-True_drop-0.0_trainjustclassifier-False_16814492199618587/new_test_pred_best\n",
                  "Saving the scores in best_results/DA2_noPP_2/efficientnet_b4_fold-1_lrinit-0.0001_batchsize-16_optimizer-AdamW_maxepochs-150_DA-2_PPen-None_PPha-None_PPco-None_PPde-None_PPno-True_PPcr-None_PPre-True_drop-0.0_trainjustclassifier-False_16814492199618587/new_test_pred_last\n",
                  "Experimento:  DA2_CLAHE_dull_razor_shades_of_gray_cropped_images_folder\n",
                  "Saving the scores in best_results/DA2_CLAHE_dull_razor_shades_of_gray_cropped_images_folder/efficientnet_b2_fold-1_lrinit-0.0001_batchsize-8_optimizer-Adam_maxepochs-150_DA-2_PPen-CLAHE_PPha-dull_razor_PPco-shades_of_gray_PPde-None_PPno-True_PPcr-cropped_images_folder_PPre-True_drop-0.0_trainjustclassifier-False_1682928682153559/new_test_pred_best\n",
                  "Saving the scores in best_results/DA2_CLAHE_dull_razor_shades_of_gray_cropped_images_folder/efficientnet_b2_fold-1_lrinit-0.0001_batchsize-8_optimizer-Adam_maxepochs-150_DA-2_PPen-CLAHE_PPha-dull_razor_PPco-shades_of_gray_PPde-None_PPno-True_PPcr-cropped_images_folder_PPre-True_drop-0.0_trainjustclassifier-False_1682928682153559/new_test_pred_last\n",
                  "Saving the scores in best_results/DA2_CLAHE_dull_razor_shades_of_gray_cropped_images_folder/efficientnet_b1_fold-1_lrinit-0.0001_batchsize-8_optimizer-AdamW_maxepochs-150_DA-2_PPen-CLAHE_PPha-dull_razor_PPco-shades_of_gray_PPde-None_PPno-True_PPcr-cropped_images_folder_PPre-True_drop-0.0_trainjustclassifier-False_16829239133957283/new_test_pred_best\n",
                  "Saving the scores in best_results/DA2_CLAHE_dull_razor_shades_of_gray_cropped_images_folder/efficientnet_b1_fold-1_lrinit-0.0001_batchsize-8_optimizer-AdamW_maxepochs-150_DA-2_PPen-CLAHE_PPha-dull_razor_PPco-shades_of_gray_PPde-None_PPno-True_PPcr-cropped_images_folder_PPre-True_drop-0.0_trainjustclassifier-False_16829239133957283/new_test_pred_last\n",
                  "Saving the scores in best_results/DA2_CLAHE_dull_razor_shades_of_gray_cropped_images_folder/seresnext101_32x8d_fold-1_lrinit-0.0001_batchsize-16_optimizer-Adam_maxepochs-150_DA-2_PPen-CLAHE_PPha-dull_razor_PPco-shades_of_gray_PPde-None_PPno-True_PPcr-cropped_images_folder_PPre-True_drop-0.0_trainjustclassifier-False_16829590039256573/new_test_pred_best\n",
                  "Saving the scores in best_results/DA2_CLAHE_dull_razor_shades_of_gray_cropped_images_folder/seresnext101_32x8d_fold-1_lrinit-0.0001_batchsize-16_optimizer-Adam_maxepochs-150_DA-2_PPen-CLAHE_PPha-dull_razor_PPco-shades_of_gray_PPde-None_PPno-True_PPcr-cropped_images_folder_PPre-True_drop-0.0_trainjustclassifier-False_16829590039256573/new_test_pred_last\n",
                  "Saving the scores in best_results/DA2_CLAHE_dull_razor_shades_of_gray_cropped_images_folder/tf_efficientnet_b5_fold-1_lrinit-0.0001_batchsize-8_optimizer-AdamW_maxepochs-150_DA-2_PPen-CLAHE_PPha-dull_razor_PPco-shades_of_gray_PPde-None_PPno-True_PPcr-cropped_images_folder_PPre-True_drop-0.0_trainjustclassifier-False_16828093671378386/new_test_pred_best\n",
                  "Saving the scores in best_results/DA2_CLAHE_dull_razor_shades_of_gray_cropped_images_folder/tf_efficientnet_b5_fold-1_lrinit-0.0001_batchsize-8_optimizer-AdamW_maxepochs-150_DA-2_PPen-CLAHE_PPha-dull_razor_PPco-shades_of_gray_PPde-None_PPno-True_PPcr-cropped_images_folder_PPre-True_drop-0.0_trainjustclassifier-False_16828093671378386/new_test_pred_last\n",
                  "Saving the scores in best_results/DA2_CLAHE_dull_razor_shades_of_gray_cropped_images_folder/vgg19_fold-1_lrinit-0.0001_batchsize-8_optimizer-SGD_maxepochs-150_DA-2_PPen-CLAHE_PPha-dull_razor_PPco-shades_of_gray_PPde-None_PPno-True_PPcr-cropped_images_folder_PPre-True_drop-0.0_trainjustclassifier-False_16829641128029468/new_test_pred_best\n",
                  "Saving the scores in best_results/DA2_CLAHE_dull_razor_shades_of_gray_cropped_images_folder/vgg19_fold-1_lrinit-0.0001_batchsize-8_optimizer-SGD_maxepochs-150_DA-2_PPen-CLAHE_PPha-dull_razor_PPco-shades_of_gray_PPde-None_PPno-True_PPcr-cropped_images_folder_PPre-True_drop-0.0_trainjustclassifier-False_16829641128029468/new_test_pred_last\n",
                  "Saving the scores in best_results/DA2_CLAHE_dull_razor_shades_of_gray_cropped_images_folder/pnasnet5large_fold-1_lrinit-0.0001_batchsize-8_optimizer-Adam_maxepochs-150_DA-2_PPen-CLAHE_PPha-dull_razor_PPco-shades_of_gray_PPde-None_PPno-True_PPcr-cropped_images_folder_PPre-True_drop-0.0_trainjustclassifier-False_16829716501267118/new_test_pred_best\n",
                  "Saving the scores in best_results/DA2_CLAHE_dull_razor_shades_of_gray_cropped_images_folder/pnasnet5large_fold-1_lrinit-0.0001_batchsize-8_optimizer-Adam_maxepochs-150_DA-2_PPen-CLAHE_PPha-dull_razor_PPco-shades_of_gray_PPde-None_PPno-True_PPcr-cropped_images_folder_PPre-True_drop-0.0_trainjustclassifier-False_16829716501267118/new_test_pred_last\n",
                  "Saving the scores in best_results/DA2_CLAHE_dull_razor_shades_of_gray_cropped_images_folder/densenet121_fold-1_lrinit-0.0001_batchsize-32_optimizer-Adam_maxepochs-150_DA-2_PPen-CLAHE_PPha-dull_razor_PPco-shades_of_gray_PPde-None_PPno-True_PPcr-cropped_images_folder_PPre-True_drop-0.0_trainjustclassifier-False_16829153178271675/new_test_pred_best\n",
                  "Saving the scores in best_results/DA2_CLAHE_dull_razor_shades_of_gray_cropped_images_folder/densenet121_fold-1_lrinit-0.0001_batchsize-32_optimizer-Adam_maxepochs-150_DA-2_PPen-CLAHE_PPha-dull_razor_PPco-shades_of_gray_PPde-None_PPno-True_PPcr-cropped_images_folder_PPre-True_drop-0.0_trainjustclassifier-False_16829153178271675/new_test_pred_last\n",
                  "Saving the scores in best_results/DA2_CLAHE_dull_razor_shades_of_gray_cropped_images_folder/efficientnet_b0_fold-1_lrinit-0.0001_batchsize-8_optimizer-AdamW_maxepochs-150_DA-2_PPen-CLAHE_PPha-dull_razor_PPco-shades_of_gray_PPde-None_PPno-True_PPcr-cropped_images_folder_PPre-True_drop-0.0_trainjustclassifier-False_16829202563316476/new_test_pred_best\n",
                  "Saving the scores in best_results/DA2_CLAHE_dull_razor_shades_of_gray_cropped_images_folder/efficientnet_b0_fold-1_lrinit-0.0001_batchsize-8_optimizer-AdamW_maxepochs-150_DA-2_PPen-CLAHE_PPha-dull_razor_PPco-shades_of_gray_PPde-None_PPno-True_PPcr-cropped_images_folder_PPre-True_drop-0.0_trainjustclassifier-False_16829202563316476/new_test_pred_last\n",
                  "Saving the scores in best_results/DA2_CLAHE_dull_razor_shades_of_gray_cropped_images_folder/resnext101_32x8d_fold-1_lrinit-0.0001_batchsize-8_optimizer-SGD_maxepochs-150_DA-2_PPen-CLAHE_PPha-dull_razor_PPco-shades_of_gray_PPde-None_PPno-True_PPcr-cropped_images_folder_PPre-True_drop-0.0_trainjustclassifier-False_1682967850007863/new_test_pred_best\n",
                  "Saving the scores in best_results/DA2_CLAHE_dull_razor_shades_of_gray_cropped_images_folder/resnext101_32x8d_fold-1_lrinit-0.0001_batchsize-8_optimizer-SGD_maxepochs-150_DA-2_PPen-CLAHE_PPha-dull_razor_PPco-shades_of_gray_PPde-None_PPno-True_PPcr-cropped_images_folder_PPre-True_drop-0.0_trainjustclassifier-False_1682967850007863/new_test_pred_last\n",
                  "Saving the scores in best_results/DA2_CLAHE_dull_razor_shades_of_gray_cropped_images_folder/tf_efficientnet_b6_fold-1_lrinit-0.0001_batchsize-4_optimizer-AdamW_maxepochs-150_DA-2_PPen-CLAHE_PPha-dull_razor_PPco-shades_of_gray_PPde-None_PPno-True_PPcr-cropped_images_folder_PPre-True_drop-0.0_trainjustclassifier-False_1682839187417709/new_test_pred_best\n",
                  "Saving the scores in best_results/DA2_CLAHE_dull_razor_shades_of_gray_cropped_images_folder/tf_efficientnet_b6_fold-1_lrinit-0.0001_batchsize-4_optimizer-AdamW_maxepochs-150_DA-2_PPen-CLAHE_PPha-dull_razor_PPco-shades_of_gray_PPde-None_PPno-True_PPcr-cropped_images_folder_PPre-True_drop-0.0_trainjustclassifier-False_1682839187417709/new_test_pred_last\n",
                  "Saving the scores in best_results/DA2_CLAHE_dull_razor_shades_of_gray_cropped_images_folder/resnest101e_fold-1_lrinit-0.0001_batchsize-8_optimizer-AdamW_maxepochs-150_DA-2_PPen-CLAHE_PPha-dull_razor_PPco-shades_of_gray_PPde-None_PPno-True_PPcr-cropped_images_folder_PPre-True_drop-0.0_trainjustclassifier-False_16829536320470462/new_test_pred_best\n",
                  "Saving the scores in best_results/DA2_CLAHE_dull_razor_shades_of_gray_cropped_images_folder/resnest101e_fold-1_lrinit-0.0001_batchsize-8_optimizer-AdamW_maxepochs-150_DA-2_PPen-CLAHE_PPha-dull_razor_PPco-shades_of_gray_PPde-None_PPno-True_PPcr-cropped_images_folder_PPre-True_drop-0.0_trainjustclassifier-False_16829536320470462/new_test_pred_last\n",
                  "Saving the scores in best_results/DA2_CLAHE_dull_razor_shades_of_gray_cropped_images_folder/efficientnet_b3_fold-1_lrinit-0.0001_batchsize-32_optimizer-Adam_maxepochs-150_DA-2_PPen-CLAHE_PPha-dull_razor_PPco-shades_of_gray_PPde-None_PPno-True_PPcr-cropped_images_folder_PPre-True_drop-0.0_trainjustclassifier-False_16829346262314663/new_test_pred_best\n",
                  "Saving the scores in best_results/DA2_CLAHE_dull_razor_shades_of_gray_cropped_images_folder/efficientnet_b3_fold-1_lrinit-0.0001_batchsize-32_optimizer-Adam_maxepochs-150_DA-2_PPen-CLAHE_PPha-dull_razor_PPco-shades_of_gray_PPde-None_PPno-True_PPcr-cropped_images_folder_PPre-True_drop-0.0_trainjustclassifier-False_16829346262314663/new_test_pred_last\n",
                  "Saving the scores in best_results/DA2_CLAHE_dull_razor_shades_of_gray_cropped_images_folder/efficientnet_b4_fold-1_lrinit-0.0001_batchsize-16_optimizer-AdamW_maxepochs-150_DA-2_PPen-CLAHE_PPha-dull_razor_PPco-shades_of_gray_PPde-None_PPno-True_PPcr-cropped_images_folder_PPre-True_drop-0.0_trainjustclassifier-False_16829435149716082/new_test_pred_best\n",
                  "Saving the scores in best_results/DA2_CLAHE_dull_razor_shades_of_gray_cropped_images_folder/efficientnet_b4_fold-1_lrinit-0.0001_batchsize-16_optimizer-AdamW_maxepochs-150_DA-2_PPen-CLAHE_PPha-dull_razor_PPco-shades_of_gray_PPde-None_PPno-True_PPcr-cropped_images_folder_PPre-True_drop-0.0_trainjustclassifier-False_16829435149716082/new_test_pred_last\n",
                  "Experimento:  DA2_cropped_images_folder_150_epochs_lr_init_0001\n",
                  "Saving the scores in best_results/DA2_cropped_images_folder_150_epochs_lr_init_0001/efficientnet_b2_fold-1_lrinit-0.0001_batchsize-8_optimizer-Adam_maxepochs-150_DA-2_PPen-None_PPha-None_PPco-None_PPde-None_PPno-True_PPcr-cropped_images_folder_PPre-True_drop-0.0_trainjustclassifier-False_16810087423860724/new_test_pred_best\n",
                  "Saving the scores in best_results/DA2_cropped_images_folder_150_epochs_lr_init_0001/efficientnet_b2_fold-1_lrinit-0.0001_batchsize-8_optimizer-Adam_maxepochs-150_DA-2_PPen-None_PPha-None_PPco-None_PPde-None_PPno-True_PPcr-cropped_images_folder_PPre-True_drop-0.0_trainjustclassifier-False_16810087423860724/new_test_pred_last\n",
                  "Saving the scores in best_results/DA2_cropped_images_folder_150_epochs_lr_init_0001/vgg19_fold-1_lrinit-0.0001_batchsize-8_optimizer-SGD_maxepochs-150_DA-2_PPen-None_PPha-None_PPco-None_PPde-None_PPno-True_PPcr-cropped_images_folder_PPre-True_drop-0.0_trainjustclassifier-False_16810297184616091/new_test_pred_best\n",
                  "Saving the scores in best_results/DA2_cropped_images_folder_150_epochs_lr_init_0001/vgg19_fold-1_lrinit-0.0001_batchsize-8_optimizer-SGD_maxepochs-150_DA-2_PPen-None_PPha-None_PPco-None_PPde-None_PPno-True_PPcr-cropped_images_folder_PPre-True_drop-0.0_trainjustclassifier-False_16810297184616091/new_test_pred_last\n",
                  "Saving the scores in best_results/DA2_cropped_images_folder_150_epochs_lr_init_0001/tf_efficientnet_b6_fold-1_lrinit-0.0001_batchsize-4_optimizer-AdamW_maxepochs-150_DA-2_PPen-None_PPha-None_PPco-None_PPde-None_PPno-True_PPcr-cropped_images_folder_PPre-True_drop-0.0_trainjustclassifier-False_16809864483458076/new_test_pred_best\n",
                  "Saving the scores in best_results/DA2_cropped_images_folder_150_epochs_lr_init_0001/tf_efficientnet_b6_fold-1_lrinit-0.0001_batchsize-4_optimizer-AdamW_maxepochs-150_DA-2_PPen-None_PPha-None_PPco-None_PPde-None_PPno-True_PPcr-cropped_images_folder_PPre-True_drop-0.0_trainjustclassifier-False_16809864483458076/new_test_pred_last\n",
                  "Saving the scores in best_results/DA2_cropped_images_folder_150_epochs_lr_init_0001/seresnext101_32x8d_fold-1_lrinit-0.0001_batchsize-16_optimizer-Adam_maxepochs-150_DA-2_PPen-None_PPha-None_PPco-None_PPde-None_PPno-True_PPcr-cropped_images_folder_PPre-True_drop-0.0_trainjustclassifier-False_16810261204698606/new_test_pred_best\n",
                  "Saving the scores in best_results/DA2_cropped_images_folder_150_epochs_lr_init_0001/seresnext101_32x8d_fold-1_lrinit-0.0001_batchsize-16_optimizer-Adam_maxepochs-150_DA-2_PPen-None_PPha-None_PPco-None_PPde-None_PPno-True_PPcr-cropped_images_folder_PPre-True_drop-0.0_trainjustclassifier-False_16810261204698606/new_test_pred_last\n",
                  "Saving the scores in best_results/DA2_cropped_images_folder_150_epochs_lr_init_0001/tf_efficientnet_b5_fold-1_lrinit-0.0001_batchsize-8_optimizer-AdamW_maxepochs-150_DA-2_PPen-None_PPha-None_PPco-None_PPde-None_PPno-True_PPcr-cropped_images_folder_PPre-True_drop-0.0_trainjustclassifier-False_1680980641509845/new_test_pred_best\n",
                  "Saving the scores in best_results/DA2_cropped_images_folder_150_epochs_lr_init_0001/tf_efficientnet_b5_fold-1_lrinit-0.0001_batchsize-8_optimizer-AdamW_maxepochs-150_DA-2_PPen-None_PPha-None_PPco-None_PPde-None_PPno-True_PPcr-cropped_images_folder_PPre-True_drop-0.0_trainjustclassifier-False_1680980641509845/new_test_pred_last\n",
                  "Saving the scores in best_results/DA2_cropped_images_folder_150_epochs_lr_init_0001/efficientnet_b0_fold-1_lrinit-0.0001_batchsize-8_optimizer-AdamW_maxepochs-150_DA-2_PPen-None_PPha-None_PPco-None_PPde-None_PPno-True_PPcr-cropped_images_folder_PPre-True_drop-0.0_trainjustclassifier-False_1681000912877577/new_test_pred_best\n",
                  "Saving the scores in best_results/DA2_cropped_images_folder_150_epochs_lr_init_0001/efficientnet_b0_fold-1_lrinit-0.0001_batchsize-8_optimizer-AdamW_maxepochs-150_DA-2_PPen-None_PPha-None_PPco-None_PPde-None_PPno-True_PPcr-cropped_images_folder_PPre-True_drop-0.0_trainjustclassifier-False_1681000912877577/new_test_pred_last\n",
                  "Saving the scores in best_results/DA2_cropped_images_folder_150_epochs_lr_init_0001/efficientnet_b3_fold-1_lrinit-0.0001_batchsize-32_optimizer-Adam_maxepochs-150_DA-2_PPen-None_PPha-None_PPco-None_PPde-None_PPno-True_PPcr-cropped_images_folder_PPre-True_drop-0.0_trainjustclassifier-False_16810131800766995/new_test_pred_best\n",
                  "Saving the scores in best_results/DA2_cropped_images_folder_150_epochs_lr_init_0001/efficientnet_b3_fold-1_lrinit-0.0001_batchsize-32_optimizer-Adam_maxepochs-150_DA-2_PPen-None_PPha-None_PPco-None_PPde-None_PPno-True_PPcr-cropped_images_folder_PPre-True_drop-0.0_trainjustclassifier-False_16810131800766995/new_test_pred_last\n",
                  "Saving the scores in best_results/DA2_cropped_images_folder_150_epochs_lr_init_0001/pnasnet5large_fold-1_lrinit-0.0001_batchsize-8_optimizer-Adam_maxepochs-150_DA-2_PPen-None_PPha-None_PPco-None_PPde-None_PPno-True_PPcr-cropped_images_folder_PPre-True_drop-0.0_trainjustclassifier-False_16810379559582262/new_test_pred_best\n",
                  "Saving the scores in best_results/DA2_cropped_images_folder_150_epochs_lr_init_0001/pnasnet5large_fold-1_lrinit-0.0001_batchsize-8_optimizer-Adam_maxepochs-150_DA-2_PPen-None_PPha-None_PPco-None_PPde-None_PPno-True_PPcr-cropped_images_folder_PPre-True_drop-0.0_trainjustclassifier-False_16810379559582262/new_test_pred_last\n",
                  "Saving the scores in best_results/DA2_cropped_images_folder_150_epochs_lr_init_0001/resnext101_32x8d_fold-1_lrinit-0.0001_batchsize-8_optimizer-SGD_maxepochs-150_DA-2_PPen-None_PPha-None_PPco-None_PPde-None_PPno-True_PPcr-cropped_images_folder_PPre-True_drop-0.0_trainjustclassifier-False_16810334656661913/new_test_pred_best\n",
                  "Saving the scores in best_results/DA2_cropped_images_folder_150_epochs_lr_init_0001/resnext101_32x8d_fold-1_lrinit-0.0001_batchsize-8_optimizer-SGD_maxepochs-150_DA-2_PPen-None_PPha-None_PPco-None_PPde-None_PPno-True_PPcr-cropped_images_folder_PPre-True_drop-0.0_trainjustclassifier-False_16810334656661913/new_test_pred_last\n",
                  "Saving the scores in best_results/DA2_cropped_images_folder_150_epochs_lr_init_0001/densenet121_fold-1_lrinit-0.0001_batchsize-32_optimizer-Adam_maxepochs-150_DA-2_PPen-None_PPha-None_PPco-None_PPde-None_PPno-True_PPcr-cropped_images_folder_PPre-True_drop-0.0_trainjustclassifier-False_1680996651329713/new_test_pred_best\n",
                  "Saving the scores in best_results/DA2_cropped_images_folder_150_epochs_lr_init_0001/densenet121_fold-1_lrinit-0.0001_batchsize-32_optimizer-Adam_maxepochs-150_DA-2_PPen-None_PPha-None_PPco-None_PPde-None_PPno-True_PPcr-cropped_images_folder_PPre-True_drop-0.0_trainjustclassifier-False_1680996651329713/new_test_pred_last\n",
                  "Saving the scores in best_results/DA2_cropped_images_folder_150_epochs_lr_init_0001/efficientnet_b1_fold-1_lrinit-0.0001_batchsize-8_optimizer-AdamW_maxepochs-150_DA-2_PPen-None_PPha-None_PPco-None_PPde-None_PPno-True_PPcr-cropped_images_folder_PPre-True_drop-0.0_trainjustclassifier-False_16810043473864698/new_test_pred_best\n",
                  "Saving the scores in best_results/DA2_cropped_images_folder_150_epochs_lr_init_0001/efficientnet_b1_fold-1_lrinit-0.0001_batchsize-8_optimizer-AdamW_maxepochs-150_DA-2_PPen-None_PPha-None_PPco-None_PPde-None_PPno-True_PPcr-cropped_images_folder_PPre-True_drop-0.0_trainjustclassifier-False_16810043473864698/new_test_pred_last\n",
                  "Saving the scores in best_results/DA2_cropped_images_folder_150_epochs_lr_init_0001/resnest101e_fold-1_lrinit-0.0001_batchsize-8_optimizer-AdamW_maxepochs-150_DA-2_PPen-None_PPha-None_PPco-None_PPde-None_PPno-True_PPcr-cropped_images_folder_PPre-True_drop-0.0_trainjustclassifier-False_16810217410545385/new_test_pred_best\n",
                  "Saving the scores in best_results/DA2_cropped_images_folder_150_epochs_lr_init_0001/resnest101e_fold-1_lrinit-0.0001_batchsize-8_optimizer-AdamW_maxepochs-150_DA-2_PPen-None_PPha-None_PPco-None_PPde-None_PPno-True_PPcr-cropped_images_folder_PPre-True_drop-0.0_trainjustclassifier-False_16810217410545385/new_test_pred_last\n",
                  "Saving the scores in best_results/DA2_cropped_images_folder_150_epochs_lr_init_0001/efficientnet_b4_fold-1_lrinit-0.0001_batchsize-16_optimizer-AdamW_maxepochs-150_DA-2_PPen-None_PPha-None_PPco-None_PPde-None_PPno-True_PPcr-cropped_images_folder_PPre-True_drop-0.0_trainjustclassifier-False_16810173028538978/new_test_pred_best\n",
                  "Saving the scores in best_results/DA2_cropped_images_folder_150_epochs_lr_init_0001/efficientnet_b4_fold-1_lrinit-0.0001_batchsize-16_optimizer-AdamW_maxepochs-150_DA-2_PPen-None_PPha-None_PPco-None_PPde-None_PPno-True_PPcr-cropped_images_folder_PPre-True_drop-0.0_trainjustclassifier-False_16810173028538978/new_test_pred_last\n",
                  "Experimento:  non_local_means_cropped_images_folder\n",
                  "Experimento:  noDA_dull_razor_shades_of_gray_cropped_images_folder\n",
                  "Saving the scores in best_results/noDA_dull_razor_shades_of_gray_cropped_images_folder/vgg19_fold-1_lrinit-0.001_batchsize-8_optimizer-SGD_maxepochs-50_DA-None_PPen-None_PPha-dull_razor_PPco-shades_of_gray_PPde-None_PPno-True_PPcr-cropped_images_folder_PPre-True_drop-0.0_trainjustclassifier-False_16825349449442933/new_test_pred_best\n",
                  "Saving the scores in best_results/noDA_dull_razor_shades_of_gray_cropped_images_folder/vgg19_fold-1_lrinit-0.001_batchsize-8_optimizer-SGD_maxepochs-50_DA-None_PPen-None_PPha-dull_razor_PPco-shades_of_gray_PPde-None_PPno-True_PPcr-cropped_images_folder_PPre-True_drop-0.0_trainjustclassifier-False_16825349449442933/new_test_pred_last\n",
                  "Saving the scores in best_results/noDA_dull_razor_shades_of_gray_cropped_images_folder/efficientnet_b3_fold-1_lrinit-0.001_batchsize-32_optimizer-Adam_maxepochs-50_DA-None_PPen-None_PPha-dull_razor_PPco-shades_of_gray_PPde-None_PPno-True_PPcr-cropped_images_folder_PPre-True_drop-0.0_trainjustclassifier-False_1682526417761025/new_test_pred_best\n",
                  "Saving the scores in best_results/noDA_dull_razor_shades_of_gray_cropped_images_folder/efficientnet_b3_fold-1_lrinit-0.001_batchsize-32_optimizer-Adam_maxepochs-50_DA-None_PPen-None_PPha-dull_razor_PPco-shades_of_gray_PPde-None_PPno-True_PPcr-cropped_images_folder_PPre-True_drop-0.0_trainjustclassifier-False_1682526417761025/new_test_pred_last\n",
                  "Saving the scores in best_results/noDA_dull_razor_shades_of_gray_cropped_images_folder/tf_efficientnet_b6_fold-1_lrinit-0.0001_batchsize-4_optimizer-AdamW_maxepochs-50_DA-None_PPen-None_PPha-dull_razor_PPco-shades_of_gray_PPde-None_PPno-True_PPcr-cropped_images_folder_PPre-True_drop-0.0_trainjustclassifier-False_16825152851770678/new_test_pred_best\n",
                  "Saving the scores in best_results/noDA_dull_razor_shades_of_gray_cropped_images_folder/tf_efficientnet_b6_fold-1_lrinit-0.0001_batchsize-4_optimizer-AdamW_maxepochs-50_DA-None_PPen-None_PPha-dull_razor_PPco-shades_of_gray_PPde-None_PPno-True_PPcr-cropped_images_folder_PPre-True_drop-0.0_trainjustclassifier-False_16825152851770678/new_test_pred_last\n",
                  "Saving the scores in best_results/noDA_dull_razor_shades_of_gray_cropped_images_folder/resnext101_32x8d_fold-1_lrinit-0.001_batchsize-8_optimizer-SGD_maxepochs-50_DA-None_PPen-None_PPha-dull_razor_PPco-shades_of_gray_PPde-None_PPno-True_PPcr-cropped_images_folder_PPre-True_drop-0.0_trainjustclassifier-False_1682535898045892/new_test_pred_best\n",
                  "Saving the scores in best_results/noDA_dull_razor_shades_of_gray_cropped_images_folder/resnext101_32x8d_fold-1_lrinit-0.001_batchsize-8_optimizer-SGD_maxepochs-50_DA-None_PPen-None_PPha-dull_razor_PPco-shades_of_gray_PPde-None_PPno-True_PPcr-cropped_images_folder_PPre-True_drop-0.0_trainjustclassifier-False_1682535898045892/new_test_pred_last\n",
                  "Saving the scores in best_results/noDA_dull_razor_shades_of_gray_cropped_images_folder/seresnext101_32x8d_fold-1_lrinit-0.0001_batchsize-16_optimizer-Adam_maxepochs-50_DA-None_PPen-None_PPha-dull_razor_PPco-shades_of_gray_PPde-None_PPno-True_PPcr-cropped_images_folder_PPre-True_drop-0.0_trainjustclassifier-False_16825329943675957/new_test_pred_best\n",
                  "Saving the scores in best_results/noDA_dull_razor_shades_of_gray_cropped_images_folder/seresnext101_32x8d_fold-1_lrinit-0.0001_batchsize-16_optimizer-Adam_maxepochs-50_DA-None_PPen-None_PPha-dull_razor_PPco-shades_of_gray_PPde-None_PPno-True_PPcr-cropped_images_folder_PPre-True_drop-0.0_trainjustclassifier-False_16825329943675957/new_test_pred_last\n",
                  "Saving the scores in best_results/noDA_dull_razor_shades_of_gray_cropped_images_folder/resnest101e_fold-1_lrinit-0.0001_batchsize-8_optimizer-AdamW_maxepochs-50_DA-None_PPen-None_PPha-dull_razor_PPco-shades_of_gray_PPde-None_PPno-True_PPcr-cropped_images_folder_PPre-True_drop-0.0_trainjustclassifier-False_16825308629700255/new_test_pred_best\n",
                  "Saving the scores in best_results/noDA_dull_razor_shades_of_gray_cropped_images_folder/resnest101e_fold-1_lrinit-0.0001_batchsize-8_optimizer-AdamW_maxepochs-50_DA-None_PPen-None_PPha-dull_razor_PPco-shades_of_gray_PPde-None_PPno-True_PPcr-cropped_images_folder_PPre-True_drop-0.0_trainjustclassifier-False_16825308629700255/new_test_pred_last\n",
                  "Saving the scores in best_results/noDA_dull_razor_shades_of_gray_cropped_images_folder/pnasnet5large_fold-1_lrinit-0.0001_batchsize-8_optimizer-Adam_maxepochs-50_DA-None_PPen-None_PPha-dull_razor_PPco-shades_of_gray_PPde-None_PPno-True_PPcr-cropped_images_folder_PPre-True_drop-0.0_trainjustclassifier-False_16825375743950531/new_test_pred_best\n",
                  "Saving the scores in best_results/noDA_dull_razor_shades_of_gray_cropped_images_folder/pnasnet5large_fold-1_lrinit-0.0001_batchsize-8_optimizer-Adam_maxepochs-50_DA-None_PPen-None_PPha-dull_razor_PPco-shades_of_gray_PPde-None_PPno-True_PPcr-cropped_images_folder_PPre-True_drop-0.0_trainjustclassifier-False_16825375743950531/new_test_pred_last\n",
                  "Saving the scores in best_results/noDA_dull_razor_shades_of_gray_cropped_images_folder/densenet121_fold-1_lrinit-0.0001_batchsize-32_optimizer-Adam_maxepochs-50_DA-None_PPen-None_PPha-dull_razor_PPco-shades_of_gray_PPde-None_PPno-True_PPcr-cropped_images_folder_PPre-True_drop-0.0_trainjustclassifier-False_16825225851621077/new_test_pred_best\n",
                  "Saving the scores in best_results/noDA_dull_razor_shades_of_gray_cropped_images_folder/densenet121_fold-1_lrinit-0.0001_batchsize-32_optimizer-Adam_maxepochs-50_DA-None_PPen-None_PPha-dull_razor_PPco-shades_of_gray_PPde-None_PPno-True_PPcr-cropped_images_folder_PPre-True_drop-0.0_trainjustclassifier-False_16825225851621077/new_test_pred_last\n",
                  "Saving the scores in best_results/noDA_dull_razor_shades_of_gray_cropped_images_folder/efficientnet_b4_fold-1_lrinit-0.001_batchsize-16_optimizer-AdamW_maxepochs-50_DA-None_PPen-None_PPha-dull_razor_PPco-shades_of_gray_PPde-None_PPno-True_PPcr-cropped_images_folder_PPre-True_drop-0.0_trainjustclassifier-False_16825282385916965/new_test_pred_best\n",
                  "Saving the scores in best_results/noDA_dull_razor_shades_of_gray_cropped_images_folder/efficientnet_b4_fold-1_lrinit-0.001_batchsize-16_optimizer-AdamW_maxepochs-50_DA-None_PPen-None_PPha-dull_razor_PPco-shades_of_gray_PPde-None_PPno-True_PPcr-cropped_images_folder_PPre-True_drop-0.0_trainjustclassifier-False_16825282385916965/new_test_pred_last\n",
                  "Saving the scores in best_results/noDA_dull_razor_shades_of_gray_cropped_images_folder/efficientnet_b1_fold-1_lrinit-0.001_batchsize-8_optimizer-AdamW_maxepochs-50_DA-None_PPen-None_PPha-dull_razor_PPco-shades_of_gray_PPde-None_PPno-True_PPcr-cropped_images_folder_PPre-True_drop-0.0_trainjustclassifier-False_16825243129059732/new_test_pred_best\n",
                  "Saving the scores in best_results/noDA_dull_razor_shades_of_gray_cropped_images_folder/efficientnet_b1_fold-1_lrinit-0.001_batchsize-8_optimizer-AdamW_maxepochs-50_DA-None_PPen-None_PPha-dull_razor_PPco-shades_of_gray_PPde-None_PPno-True_PPcr-cropped_images_folder_PPre-True_drop-0.0_trainjustclassifier-False_16825243129059732/new_test_pred_last\n",
                  "Saving the scores in best_results/noDA_dull_razor_shades_of_gray_cropped_images_folder/tf_efficientnet_b5_fold-1_lrinit-0.0001_batchsize-8_optimizer-AdamW_maxepochs-50_DA-None_PPen-None_PPha-dull_razor_PPco-shades_of_gray_PPde-None_PPno-True_PPcr-cropped_images_folder_PPre-True_drop-0.0_trainjustclassifier-False_16825105857389314/new_test_pred_best\n",
                  "Saving the scores in best_results/noDA_dull_razor_shades_of_gray_cropped_images_folder/tf_efficientnet_b5_fold-1_lrinit-0.0001_batchsize-8_optimizer-AdamW_maxepochs-50_DA-None_PPen-None_PPha-dull_razor_PPco-shades_of_gray_PPde-None_PPno-True_PPcr-cropped_images_folder_PPre-True_drop-0.0_trainjustclassifier-False_16825105857389314/new_test_pred_last\n",
                  "Saving the scores in best_results/noDA_dull_razor_shades_of_gray_cropped_images_folder/efficientnet_b2_fold-1_lrinit-0.001_batchsize-8_optimizer-Adam_maxepochs-50_DA-None_PPen-None_PPha-dull_razor_PPco-shades_of_gray_PPde-None_PPno-True_PPcr-cropped_images_folder_PPre-True_drop-0.0_trainjustclassifier-False_16825254737772143/new_test_pred_best\n",
                  "Saving the scores in best_results/noDA_dull_razor_shades_of_gray_cropped_images_folder/efficientnet_b2_fold-1_lrinit-0.001_batchsize-8_optimizer-Adam_maxepochs-50_DA-None_PPen-None_PPha-dull_razor_PPco-shades_of_gray_PPde-None_PPno-True_PPcr-cropped_images_folder_PPre-True_drop-0.0_trainjustclassifier-False_16825254737772143/new_test_pred_last\n",
                  "Saving the scores in best_results/noDA_dull_razor_shades_of_gray_cropped_images_folder/efficientnet_b0_fold-1_lrinit-0.001_batchsize-8_optimizer-AdamW_maxepochs-50_DA-None_PPen-None_PPha-dull_razor_PPco-shades_of_gray_PPde-None_PPno-True_PPcr-cropped_images_folder_PPre-True_drop-0.0_trainjustclassifier-False_16825234513597636/new_test_pred_best\n",
                  "Saving the scores in best_results/noDA_dull_razor_shades_of_gray_cropped_images_folder/efficientnet_b0_fold-1_lrinit-0.001_batchsize-8_optimizer-AdamW_maxepochs-50_DA-None_PPen-None_PPha-dull_razor_PPco-shades_of_gray_PPde-None_PPno-True_PPcr-cropped_images_folder_PPre-True_drop-0.0_trainjustclassifier-False_16825234513597636/new_test_pred_last\n",
                  "Experimento:  DA1_PPcropped\n",
                  "Experimento:  gaussian_filter_2\n",
                  "Experimento:  CLAHE_cropped_images_folder\n",
                  "Experimento:  noDA_cropped_images_folder_moredata\n",
                  "Saving the scores in best_results/noDA_cropped_images_folder_moredata/vgg19_fold-1_lrinit-0.0001_batchsize-8_optimizer-SGD_maxepochs-150_DA-None_PPen-None_PPha-None_PPco-None_PPde-None_PPno-True_PPcr-cropped_images_folder_PPre-True_drop-0.0_trainjustclassifier-False_1681913308051825/new_test_pred_best\n",
                  "Saving the scores in best_results/noDA_cropped_images_folder_moredata/vgg19_fold-1_lrinit-0.0001_batchsize-8_optimizer-SGD_maxepochs-150_DA-None_PPen-None_PPha-None_PPco-None_PPde-None_PPno-True_PPcr-cropped_images_folder_PPre-True_drop-0.0_trainjustclassifier-False_1681913308051825/new_test_pred_last\n",
                  "Saving the scores in best_results/noDA_cropped_images_folder_moredata/pnasnet5large_fold-1_lrinit-0.0001_batchsize-8_optimizer-Adam_maxepochs-150_DA-None_PPen-None_PPha-None_PPco-None_PPde-None_PPno-True_PPcr-cropped_images_folder_PPre-True_drop-0.0_trainjustclassifier-False_16819202209439132/new_test_pred_best\n",
                  "Saving the scores in best_results/noDA_cropped_images_folder_moredata/pnasnet5large_fold-1_lrinit-0.0001_batchsize-8_optimizer-Adam_maxepochs-150_DA-None_PPen-None_PPha-None_PPco-None_PPde-None_PPno-True_PPcr-cropped_images_folder_PPre-True_drop-0.0_trainjustclassifier-False_16819202209439132/new_test_pred_last\n",
                  "Saving the scores in best_results/noDA_cropped_images_folder_moredata/tf_efficientnet_b5_fold-1_lrinit-0.0001_batchsize-8_optimizer-AdamW_maxepochs-150_DA-None_PPen-None_PPha-None_PPco-None_PPde-None_PPno-True_PPcr-cropped_images_folder_PPre-True_drop-0.0_trainjustclassifier-False_16818478376401415/new_test_pred_best\n",
                  "Saving the scores in best_results/noDA_cropped_images_folder_moredata/tf_efficientnet_b5_fold-1_lrinit-0.0001_batchsize-8_optimizer-AdamW_maxepochs-150_DA-None_PPen-None_PPha-None_PPco-None_PPde-None_PPno-True_PPcr-cropped_images_folder_PPre-True_drop-0.0_trainjustclassifier-False_16818478376401415/new_test_pred_last\n",
                  "Saving the scores in best_results/noDA_cropped_images_folder_moredata/efficientnet_b4_fold-1_lrinit-0.0001_batchsize-16_optimizer-AdamW_maxepochs-150_DA-None_PPen-None_PPha-None_PPco-None_PPde-None_PPno-True_PPcr-cropped_images_folder_PPre-True_drop-0.0_trainjustclassifier-False_16818977118134513/new_test_pred_best\n",
                  "Saving the scores in best_results/noDA_cropped_images_folder_moredata/efficientnet_b4_fold-1_lrinit-0.0001_batchsize-16_optimizer-AdamW_maxepochs-150_DA-None_PPen-None_PPha-None_PPco-None_PPde-None_PPno-True_PPcr-cropped_images_folder_PPre-True_drop-0.0_trainjustclassifier-False_16818977118134513/new_test_pred_last\n",
                  "Saving the scores in best_results/noDA_cropped_images_folder_moredata/efficientnet_b3_fold-1_lrinit-0.0001_batchsize-32_optimizer-Adam_maxepochs-150_DA-None_PPen-None_PPha-None_PPco-None_PPde-None_PPno-True_PPcr-cropped_images_folder_PPre-True_drop-0.0_trainjustclassifier-False_16818942727766182/new_test_pred_best\n",
                  "Saving the scores in best_results/noDA_cropped_images_folder_moredata/efficientnet_b3_fold-1_lrinit-0.0001_batchsize-32_optimizer-Adam_maxepochs-150_DA-None_PPen-None_PPha-None_PPco-None_PPde-None_PPno-True_PPcr-cropped_images_folder_PPre-True_drop-0.0_trainjustclassifier-False_16818942727766182/new_test_pred_last\n",
                  "Saving the scores in best_results/noDA_cropped_images_folder_moredata/densenet121_fold-1_lrinit-0.0001_batchsize-32_optimizer-Adam_maxepochs-150_DA-None_PPen-None_PPha-None_PPco-None_PPde-None_PPno-True_PPcr-cropped_images_folder_PPre-True_drop-0.0_trainjustclassifier-False_16818835483984635/new_test_pred_best\n",
                  "Saving the scores in best_results/noDA_cropped_images_folder_moredata/densenet121_fold-1_lrinit-0.0001_batchsize-32_optimizer-Adam_maxepochs-150_DA-None_PPen-None_PPha-None_PPco-None_PPde-None_PPno-True_PPcr-cropped_images_folder_PPre-True_drop-0.0_trainjustclassifier-False_16818835483984635/new_test_pred_last\n",
                  "Saving the scores in best_results/noDA_cropped_images_folder_moredata/tf_efficientnet_b6_fold-1_lrinit-0.0001_batchsize-4_optimizer-AdamW_maxepochs-150_DA-None_PPen-None_PPha-None_PPco-None_PPde-None_PPno-True_PPcr-cropped_images_folder_PPre-True_drop-0.0_trainjustclassifier-False_16818611328499074/new_test_pred_best\n",
                  "Saving the scores in best_results/noDA_cropped_images_folder_moredata/tf_efficientnet_b6_fold-1_lrinit-0.0001_batchsize-4_optimizer-AdamW_maxepochs-150_DA-None_PPen-None_PPha-None_PPco-None_PPde-None_PPno-True_PPcr-cropped_images_folder_PPre-True_drop-0.0_trainjustclassifier-False_16818611328499074/new_test_pred_last\n",
                  "Saving the scores in best_results/noDA_cropped_images_folder_moredata/efficientnet_b0_fold-1_lrinit-0.0001_batchsize-8_optimizer-AdamW_maxepochs-150_DA-None_PPen-None_PPha-None_PPco-None_PPde-None_PPno-True_PPcr-cropped_images_folder_PPre-True_drop-0.0_trainjustclassifier-False_16818856591661925/new_test_pred_best\n",
                  "Saving the scores in best_results/noDA_cropped_images_folder_moredata/efficientnet_b0_fold-1_lrinit-0.0001_batchsize-8_optimizer-AdamW_maxepochs-150_DA-None_PPen-None_PPha-None_PPco-None_PPde-None_PPno-True_PPcr-cropped_images_folder_PPre-True_drop-0.0_trainjustclassifier-False_16818856591661925/new_test_pred_last\n",
                  "Saving the scores in best_results/noDA_cropped_images_folder_moredata/seresnext101_32x8d_fold-1_lrinit-0.0001_batchsize-16_optimizer-Adam_maxepochs-150_DA-None_PPen-None_PPha-None_PPco-None_PPde-None_PPno-True_PPcr-cropped_images_folder_PPre-True_drop-0.0_trainjustclassifier-False_16819084292445116/new_test_pred_best\n",
                  "Saving the scores in best_results/noDA_cropped_images_folder_moredata/seresnext101_32x8d_fold-1_lrinit-0.0001_batchsize-16_optimizer-Adam_maxepochs-150_DA-None_PPen-None_PPha-None_PPco-None_PPde-None_PPno-True_PPcr-cropped_images_folder_PPre-True_drop-0.0_trainjustclassifier-False_16819084292445116/new_test_pred_last\n",
                  "Saving the scores in best_results/noDA_cropped_images_folder_moredata/efficientnet_b2_fold-1_lrinit-0.0001_batchsize-8_optimizer-Adam_maxepochs-150_DA-None_PPen-None_PPha-None_PPco-None_PPde-None_PPno-True_PPcr-cropped_images_folder_PPre-True_drop-0.0_trainjustclassifier-False_16818903286434815/new_test_pred_best\n",
                  "Saving the scores in best_results/noDA_cropped_images_folder_moredata/efficientnet_b2_fold-1_lrinit-0.0001_batchsize-8_optimizer-Adam_maxepochs-150_DA-None_PPen-None_PPha-None_PPco-None_PPde-None_PPno-True_PPcr-cropped_images_folder_PPre-True_drop-0.0_trainjustclassifier-False_16818903286434815/new_test_pred_last\n",
                  "Saving the scores in best_results/noDA_cropped_images_folder_moredata/resnest101e_fold-1_lrinit-0.0001_batchsize-8_optimizer-AdamW_maxepochs-150_DA-None_PPen-None_PPha-None_PPco-None_PPde-None_PPno-True_PPcr-cropped_images_folder_PPre-True_drop-0.0_trainjustclassifier-False_16819033352343764/new_test_pred_best\n",
                  "Saving the scores in best_results/noDA_cropped_images_folder_moredata/resnest101e_fold-1_lrinit-0.0001_batchsize-8_optimizer-AdamW_maxepochs-150_DA-None_PPen-None_PPha-None_PPco-None_PPde-None_PPno-True_PPcr-cropped_images_folder_PPre-True_drop-0.0_trainjustclassifier-False_16819033352343764/new_test_pred_last\n",
                  "Saving the scores in best_results/noDA_cropped_images_folder_moredata/resnext101_32x8d_fold-1_lrinit-0.0001_batchsize-8_optimizer-SGD_maxepochs-150_DA-None_PPen-None_PPha-None_PPco-None_PPde-None_PPno-True_PPcr-cropped_images_folder_PPre-True_drop-0.0_trainjustclassifier-False_16819162580527058/new_test_pred_best\n",
                  "Saving the scores in best_results/noDA_cropped_images_folder_moredata/resnext101_32x8d_fold-1_lrinit-0.0001_batchsize-8_optimizer-SGD_maxepochs-150_DA-None_PPen-None_PPha-None_PPco-None_PPde-None_PPno-True_PPcr-cropped_images_folder_PPre-True_drop-0.0_trainjustclassifier-False_16819162580527058/new_test_pred_last\n",
                  "Saving the scores in best_results/noDA_cropped_images_folder_moredata/efficientnet_b1_fold-1_lrinit-0.0001_batchsize-8_optimizer-AdamW_maxepochs-150_DA-None_PPen-None_PPha-None_PPco-None_PPde-None_PPno-True_PPcr-cropped_images_folder_PPre-True_drop-0.0_trainjustclassifier-False_16818877195517857/new_test_pred_best\n",
                  "Saving the scores in best_results/noDA_cropped_images_folder_moredata/efficientnet_b1_fold-1_lrinit-0.0001_batchsize-8_optimizer-AdamW_maxepochs-150_DA-None_PPen-None_PPha-None_PPco-None_PPde-None_PPno-True_PPcr-cropped_images_folder_PPre-True_drop-0.0_trainjustclassifier-False_16818877195517857/new_test_pred_last\n",
                  "Experimento:  dull_razor_cropped_images_folder\n",
                  "Experimento:  noDA_dull_razor_shades_of_gray_cropped_images_folder_150_epochs\n",
                  "Saving the scores in best_results/noDA_dull_razor_shades_of_gray_cropped_images_folder_150_epochs/efficientnet_b4_fold-1_lrinit-0.0001_batchsize-16_optimizer-AdamW_maxepochs-150_DA-None_PPen-None_PPha-dull_razor_PPco-shades_of_gray_PPde-None_PPno-True_PPcr-cropped_images_folder_PPre-True_drop-0.0_trainjustclassifier-False_16823892574605808/new_test_pred_best\n",
                  "Saving the scores in best_results/noDA_dull_razor_shades_of_gray_cropped_images_folder_150_epochs/efficientnet_b4_fold-1_lrinit-0.0001_batchsize-16_optimizer-AdamW_maxepochs-150_DA-None_PPen-None_PPha-dull_razor_PPco-shades_of_gray_PPde-None_PPno-True_PPcr-cropped_images_folder_PPre-True_drop-0.0_trainjustclassifier-False_16823892574605808/new_test_pred_last\n",
                  "Saving the scores in best_results/noDA_dull_razor_shades_of_gray_cropped_images_folder_150_epochs/efficientnet_b3_fold-1_lrinit-0.0001_batchsize-32_optimizer-Adam_maxepochs-150_DA-None_PPen-None_PPha-dull_razor_PPco-shades_of_gray_PPde-None_PPno-True_PPcr-cropped_images_folder_PPre-True_drop-0.0_trainjustclassifier-False_1682385088902471/new_test_pred_best\n",
                  "Saving the scores in best_results/noDA_dull_razor_shades_of_gray_cropped_images_folder_150_epochs/efficientnet_b3_fold-1_lrinit-0.0001_batchsize-32_optimizer-Adam_maxepochs-150_DA-None_PPen-None_PPha-dull_razor_PPco-shades_of_gray_PPde-None_PPno-True_PPcr-cropped_images_folder_PPre-True_drop-0.0_trainjustclassifier-False_1682385088902471/new_test_pred_last\n",
                  "Saving the scores in best_results/noDA_dull_razor_shades_of_gray_cropped_images_folder_150_epochs/densenet121_fold-1_lrinit-0.0001_batchsize-32_optimizer-Adam_maxepochs-150_DA-None_PPen-None_PPha-dull_razor_PPco-shades_of_gray_PPde-None_PPno-True_PPcr-cropped_images_folder_PPre-True_drop-0.0_trainjustclassifier-False_1682369569401821/new_test_pred_best\n",
                  "Saving the scores in best_results/noDA_dull_razor_shades_of_gray_cropped_images_folder_150_epochs/densenet121_fold-1_lrinit-0.0001_batchsize-32_optimizer-Adam_maxepochs-150_DA-None_PPen-None_PPha-dull_razor_PPco-shades_of_gray_PPde-None_PPno-True_PPcr-cropped_images_folder_PPre-True_drop-0.0_trainjustclassifier-False_1682369569401821/new_test_pred_last\n",
                  "Saving the scores in best_results/noDA_dull_razor_shades_of_gray_cropped_images_folder_150_epochs/resnest101e_fold-1_lrinit-0.0001_batchsize-8_optimizer-AdamW_maxepochs-150_DA-None_PPen-None_PPha-dull_razor_PPco-shades_of_gray_PPde-None_PPno-True_PPcr-cropped_images_folder_PPre-True_drop-0.0_trainjustclassifier-False_1682395819674246/new_test_pred_best\n",
                  "Saving the scores in best_results/noDA_dull_razor_shades_of_gray_cropped_images_folder_150_epochs/resnest101e_fold-1_lrinit-0.0001_batchsize-8_optimizer-AdamW_maxepochs-150_DA-None_PPen-None_PPha-dull_razor_PPco-shades_of_gray_PPde-None_PPno-True_PPcr-cropped_images_folder_PPre-True_drop-0.0_trainjustclassifier-False_1682395819674246/new_test_pred_last\n",
                  "Saving the scores in best_results/noDA_dull_razor_shades_of_gray_cropped_images_folder_150_epochs/seresnext101_32x8d_fold-1_lrinit-0.0001_batchsize-16_optimizer-Adam_maxepochs-150_DA-None_PPen-None_PPha-dull_razor_PPco-shades_of_gray_PPde-None_PPno-True_PPcr-cropped_images_folder_PPre-True_drop-0.0_trainjustclassifier-False_168240242991697/new_test_pred_best\n",
                  "Saving the scores in best_results/noDA_dull_razor_shades_of_gray_cropped_images_folder_150_epochs/seresnext101_32x8d_fold-1_lrinit-0.0001_batchsize-16_optimizer-Adam_maxepochs-150_DA-None_PPen-None_PPha-dull_razor_PPco-shades_of_gray_PPde-None_PPno-True_PPcr-cropped_images_folder_PPre-True_drop-0.0_trainjustclassifier-False_168240242991697/new_test_pred_last\n",
                  "Saving the scores in best_results/noDA_dull_razor_shades_of_gray_cropped_images_folder_150_epochs/resnext101_32x8d_fold-1_lrinit-0.0001_batchsize-8_optimizer-SGD_maxepochs-150_DA-None_PPen-None_PPha-dull_razor_PPco-shades_of_gray_PPde-None_PPno-True_PPcr-cropped_images_folder_PPre-True_drop-0.0_trainjustclassifier-False_168241101984149/new_test_pred_best\n",
                  "Saving the scores in best_results/noDA_dull_razor_shades_of_gray_cropped_images_folder_150_epochs/resnext101_32x8d_fold-1_lrinit-0.0001_batchsize-8_optimizer-SGD_maxepochs-150_DA-None_PPen-None_PPha-dull_razor_PPco-shades_of_gray_PPde-None_PPno-True_PPcr-cropped_images_folder_PPre-True_drop-0.0_trainjustclassifier-False_168241101984149/new_test_pred_last\n",
                  "Saving the scores in best_results/noDA_dull_razor_shades_of_gray_cropped_images_folder_150_epochs/tf_efficientnet_b5_fold-1_lrinit-0.0001_batchsize-8_optimizer-AdamW_maxepochs-150_DA-None_PPen-None_PPha-dull_razor_PPco-shades_of_gray_PPde-None_PPno-True_PPcr-cropped_images_folder_PPre-True_drop-0.0_trainjustclassifier-False_16823028421539016/new_test_pred_best\n",
                  "Saving the scores in best_results/noDA_dull_razor_shades_of_gray_cropped_images_folder_150_epochs/tf_efficientnet_b5_fold-1_lrinit-0.0001_batchsize-8_optimizer-AdamW_maxepochs-150_DA-None_PPen-None_PPha-dull_razor_PPco-shades_of_gray_PPde-None_PPno-True_PPcr-cropped_images_folder_PPre-True_drop-0.0_trainjustclassifier-False_16823028421539016/new_test_pred_last\n",
                  "Saving the scores in best_results/noDA_dull_razor_shades_of_gray_cropped_images_folder_150_epochs/efficientnet_b1_fold-1_lrinit-0.0001_batchsize-8_optimizer-AdamW_maxepochs-150_DA-None_PPen-None_PPha-dull_razor_PPco-shades_of_gray_PPde-None_PPno-True_PPcr-cropped_images_folder_PPre-True_drop-0.0_trainjustclassifier-False_16823764181729941/new_test_pred_best\n",
                  "Saving the scores in best_results/noDA_dull_razor_shades_of_gray_cropped_images_folder_150_epochs/efficientnet_b1_fold-1_lrinit-0.0001_batchsize-8_optimizer-AdamW_maxepochs-150_DA-None_PPen-None_PPha-dull_razor_PPco-shades_of_gray_PPde-None_PPno-True_PPcr-cropped_images_folder_PPre-True_drop-0.0_trainjustclassifier-False_16823764181729941/new_test_pred_last\n",
                  "Saving the scores in best_results/noDA_dull_razor_shades_of_gray_cropped_images_folder_150_epochs/efficientnet_b2_fold-1_lrinit-0.0001_batchsize-8_optimizer-Adam_maxepochs-150_DA-None_PPen-None_PPha-dull_razor_PPco-shades_of_gray_PPde-None_PPno-True_PPcr-cropped_images_folder_PPre-True_drop-0.0_trainjustclassifier-False_1682380044156221/new_test_pred_best\n",
                  "Saving the scores in best_results/noDA_dull_razor_shades_of_gray_cropped_images_folder_150_epochs/efficientnet_b2_fold-1_lrinit-0.0001_batchsize-8_optimizer-Adam_maxepochs-150_DA-None_PPen-None_PPha-dull_razor_PPco-shades_of_gray_PPde-None_PPno-True_PPcr-cropped_images_folder_PPre-True_drop-0.0_trainjustclassifier-False_1682380044156221/new_test_pred_last\n",
                  "Saving the scores in best_results/noDA_dull_razor_shades_of_gray_cropped_images_folder_150_epochs/efficientnet_b0_fold-1_lrinit-0.0001_batchsize-8_optimizer-AdamW_maxepochs-150_DA-None_PPen-None_PPha-dull_razor_PPco-shades_of_gray_PPde-None_PPno-True_PPcr-cropped_images_folder_PPre-True_drop-0.0_trainjustclassifier-False_1682373005312041/new_test_pred_best\n",
                  "Saving the scores in best_results/noDA_dull_razor_shades_of_gray_cropped_images_folder_150_epochs/efficientnet_b0_fold-1_lrinit-0.0001_batchsize-8_optimizer-AdamW_maxepochs-150_DA-None_PPen-None_PPha-dull_razor_PPco-shades_of_gray_PPde-None_PPno-True_PPcr-cropped_images_folder_PPre-True_drop-0.0_trainjustclassifier-False_1682373005312041/new_test_pred_last\n",
                  "Saving the scores in best_results/noDA_dull_razor_shades_of_gray_cropped_images_folder_150_epochs/tf_efficientnet_b6_fold-1_lrinit-0.0001_batchsize-4_optimizer-AdamW_maxepochs-150_DA-None_PPen-None_PPha-dull_razor_PPco-shades_of_gray_PPde-None_PPno-True_PPcr-cropped_images_folder_PPre-True_drop-0.0_trainjustclassifier-False_16823395184003966/new_test_pred_best\n",
                  "Saving the scores in best_results/noDA_dull_razor_shades_of_gray_cropped_images_folder_150_epochs/tf_efficientnet_b6_fold-1_lrinit-0.0001_batchsize-4_optimizer-AdamW_maxepochs-150_DA-None_PPen-None_PPha-dull_razor_PPco-shades_of_gray_PPde-None_PPno-True_PPcr-cropped_images_folder_PPre-True_drop-0.0_trainjustclassifier-False_16823395184003966/new_test_pred_last\n",
                  "Saving the scores in best_results/noDA_dull_razor_shades_of_gray_cropped_images_folder_150_epochs/pnasnet5large_fold-1_lrinit-0.0001_batchsize-8_optimizer-Adam_maxepochs-150_DA-None_PPen-None_PPha-dull_razor_PPco-shades_of_gray_PPde-None_PPno-True_PPcr-cropped_images_folder_PPre-True_drop-0.0_trainjustclassifier-False_1682426150983503/new_test_pred_best\n",
                  "Saving the scores in best_results/noDA_dull_razor_shades_of_gray_cropped_images_folder_150_epochs/pnasnet5large_fold-1_lrinit-0.0001_batchsize-8_optimizer-Adam_maxepochs-150_DA-None_PPen-None_PPha-dull_razor_PPco-shades_of_gray_PPde-None_PPno-True_PPcr-cropped_images_folder_PPre-True_drop-0.0_trainjustclassifier-False_1682426150983503/new_test_pred_last\n",
                  "Saving the scores in best_results/noDA_dull_razor_shades_of_gray_cropped_images_folder_150_epochs/vgg19_fold-1_lrinit-0.0001_batchsize-8_optimizer-SGD_maxepochs-150_DA-None_PPen-None_PPha-dull_razor_PPco-shades_of_gray_PPde-None_PPno-True_PPcr-cropped_images_folder_PPre-True_drop-0.0_trainjustclassifier-False_16824069562662187/new_test_pred_best\n",
                  "Saving the scores in best_results/noDA_dull_razor_shades_of_gray_cropped_images_folder_150_epochs/vgg19_fold-1_lrinit-0.0001_batchsize-8_optimizer-SGD_maxepochs-150_DA-None_PPen-None_PPha-dull_razor_PPco-shades_of_gray_PPde-None_PPno-True_PPcr-cropped_images_folder_PPre-True_drop-0.0_trainjustclassifier-False_16824069562662187/new_test_pred_last\n",
                  "Experimento:  dropout_05\n",
                  "Saving the scores in best_results/dropout_05/densenet121_fold-1_lrinit-0.0001_batchsize-32_optimizer-Adam_maxepochs-50_DA-None_PPen-None_PPha-None_PPco-None_PPde-None_PPno-True_PPcr-None_PPre-True_drop-0.5_trainjustclassifier-False_16805412253763137/new_test_pred_best\n",
                  "Saving the scores in best_results/dropout_05/densenet121_fold-1_lrinit-0.0001_batchsize-32_optimizer-Adam_maxepochs-50_DA-None_PPen-None_PPha-None_PPco-None_PPde-None_PPno-True_PPcr-None_PPre-True_drop-0.5_trainjustclassifier-False_16805412253763137/new_test_pred_last\n",
                  "Saving the scores in best_results/dropout_05/tf_efficientnet_b5_fold-1_lrinit-0.0001_batchsize-8_optimizer-AdamW_maxepochs-50_DA-None_PPen-None_PPha-None_PPco-None_PPde-None_PPno-True_PPcr-None_PPre-True_drop-0.5_trainjustclassifier-False_1680518210092265/new_test_pred_best\n",
                  "Saving the scores in best_results/dropout_05/tf_efficientnet_b5_fold-1_lrinit-0.0001_batchsize-8_optimizer-AdamW_maxepochs-50_DA-None_PPen-None_PPha-None_PPco-None_PPde-None_PPno-True_PPcr-None_PPre-True_drop-0.5_trainjustclassifier-False_1680518210092265/new_test_pred_last\n",
                  "Saving the scores in best_results/dropout_05/vgg19_fold-1_lrinit-0.001_batchsize-8_optimizer-SGD_maxepochs-50_DA-None_PPen-None_PPha-None_PPco-None_PPde-None_PPno-True_PPcr-None_PPre-True_drop-0.5_trainjustclassifier-False_16805547207788615/new_test_pred_best\n",
                  "Saving the scores in best_results/dropout_05/vgg19_fold-1_lrinit-0.001_batchsize-8_optimizer-SGD_maxepochs-50_DA-None_PPen-None_PPha-None_PPco-None_PPde-None_PPno-True_PPcr-None_PPre-True_drop-0.5_trainjustclassifier-False_16805547207788615/new_test_pred_last\n",
                  "Saving the scores in best_results/dropout_05/efficientnet_b4_fold-1_lrinit-0.001_batchsize-16_optimizer-AdamW_maxepochs-50_DA-None_PPen-None_PPha-None_PPco-None_PPde-None_PPno-True_PPcr-None_PPre-True_drop-0.5_trainjustclassifier-False_16805498295986323/new_test_pred_best\n",
                  "Saving the scores in best_results/dropout_05/efficientnet_b4_fold-1_lrinit-0.001_batchsize-16_optimizer-AdamW_maxepochs-50_DA-None_PPen-None_PPha-None_PPco-None_PPde-None_PPno-True_PPcr-None_PPre-True_drop-0.5_trainjustclassifier-False_16805498295986323/new_test_pred_last\n",
                  "Saving the scores in best_results/dropout_05/efficientnet_b2_fold-1_lrinit-0.001_batchsize-8_optimizer-Adam_maxepochs-50_DA-None_PPen-None_PPha-None_PPco-None_PPde-None_PPno-True_PPcr-None_PPre-True_drop-0.5_trainjustclassifier-False_1680546303133419/new_test_pred_best\n",
                  "Saving the scores in best_results/dropout_05/efficientnet_b2_fold-1_lrinit-0.001_batchsize-8_optimizer-Adam_maxepochs-50_DA-None_PPen-None_PPha-None_PPco-None_PPde-None_PPno-True_PPcr-None_PPre-True_drop-0.5_trainjustclassifier-False_1680546303133419/new_test_pred_last\n",
                  "Saving the scores in best_results/dropout_05/resnest101e_fold-1_lrinit-0.0001_batchsize-8_optimizer-AdamW_maxepochs-50_DA-None_PPen-None_PPha-None_PPco-None_PPde-None_PPno-True_PPcr-None_PPre-True_drop-0.5_trainjustclassifier-False_1680551962225462/new_test_pred_best\n",
                  "Saving the scores in best_results/dropout_05/resnest101e_fold-1_lrinit-0.0001_batchsize-8_optimizer-AdamW_maxepochs-50_DA-None_PPen-None_PPha-None_PPco-None_PPde-None_PPno-True_PPcr-None_PPre-True_drop-0.5_trainjustclassifier-False_1680551962225462/new_test_pred_last\n",
                  "Saving the scores in best_results/dropout_05/pnasnet5large_fold-1_lrinit-0.0001_batchsize-8_optimizer-Adam_maxepochs-50_DA-None_PPen-None_PPha-None_PPco-None_PPde-None_PPno-True_PPcr-None_PPre-True_drop-0.5_trainjustclassifier-False_16805576363528137/new_test_pred_best\n",
                  "Saving the scores in best_results/dropout_05/pnasnet5large_fold-1_lrinit-0.0001_batchsize-8_optimizer-Adam_maxepochs-50_DA-None_PPen-None_PPha-None_PPco-None_PPde-None_PPno-True_PPcr-None_PPre-True_drop-0.5_trainjustclassifier-False_16805576363528137/new_test_pred_last\n",
                  "Saving the scores in best_results/dropout_05/efficientnet_b1_fold-1_lrinit-0.001_batchsize-8_optimizer-AdamW_maxepochs-50_DA-None_PPen-None_PPha-None_PPco-None_PPde-None_PPno-True_PPcr-None_PPre-True_drop-0.5_trainjustclassifier-False_16805443882956307/new_test_pred_best\n",
                  "Saving the scores in best_results/dropout_05/efficientnet_b1_fold-1_lrinit-0.001_batchsize-8_optimizer-AdamW_maxepochs-50_DA-None_PPen-None_PPha-None_PPco-None_PPde-None_PPno-True_PPcr-None_PPre-True_drop-0.5_trainjustclassifier-False_16805443882956307/new_test_pred_last\n",
                  "Erro no experimento  dropout_05\n",
                  "[Errno 2] No such file or directory: 'best_results/dropout_05/seresnext101_32x8d_fold-1_lrinit-0.0001_batchsize-32_optimizer-Adam_maxepochs-50_DA-None_PPen-None_PPha-None_PPco-None_PPde-None_PPno-True_PPcr-None_PPre-True_drop-0.5_trainjustclassifier-False_16805547061762884/test_pred_best/predictions.csv'\n",
                  "Experimento:  noDA_PPcropped_2\n",
                  "Saving the scores in best_results/noDA_PPcropped_2/efficientnet_b3_fold-1_lrinit-0.001_batchsize-32_optimizer-Adam_maxepochs-50_DA-None_PPen-None_PPha-None_PPco-None_PPde-None_PPno-True_PPcr-cropped_images_folder_PPre-True_1679975490817778/new_test_pred_best\n",
                  "Saving the scores in best_results/noDA_PPcropped_2/efficientnet_b3_fold-1_lrinit-0.001_batchsize-32_optimizer-Adam_maxepochs-50_DA-None_PPen-None_PPha-None_PPco-None_PPde-None_PPno-True_PPcr-cropped_images_folder_PPre-True_1679975490817778/new_test_pred_last\n",
                  "Saving the scores in best_results/noDA_PPcropped_2/seresnext101_32x8d_fold-1_lrinit-0.0001_batchsize-32_optimizer-Adam_maxepochs-50_DA-None_PPen-None_PPha-None_PPco-None_PPde-None_PPno-True_PPcr-cropped_images_folder_PPre-True_1679977774466725/new_test_pred_best\n",
                  "Saving the scores in best_results/noDA_PPcropped_2/seresnext101_32x8d_fold-1_lrinit-0.0001_batchsize-32_optimizer-Adam_maxepochs-50_DA-None_PPen-None_PPha-None_PPco-None_PPde-None_PPno-True_PPcr-cropped_images_folder_PPre-True_1679977774466725/new_test_pred_last\n",
                  "Saving the scores in best_results/noDA_PPcropped_2/efficientnet_b2_fold-1_lrinit-0.001_batchsize-8_optimizer-Adam_maxepochs-50_DA-None_PPen-None_PPha-None_PPco-None_PPde-None_PPno-True_PPcr-cropped_images_folder_PPre-True_1679974649748128/new_test_pred_best\n",
                  "Saving the scores in best_results/noDA_PPcropped_2/efficientnet_b2_fold-1_lrinit-0.001_batchsize-8_optimizer-Adam_maxepochs-50_DA-None_PPen-None_PPha-None_PPco-None_PPde-None_PPno-True_PPcr-cropped_images_folder_PPre-True_1679974649748128/new_test_pred_last\n",
                  "Saving the scores in best_results/noDA_PPcropped_2/resnest101e_fold-1_lrinit-0.0001_batchsize-8_optimizer-AdamW_maxepochs-50_DA-None_PPen-None_PPha-None_PPco-None_PPde-None_PPno-True_PPcr-cropped_images_folder_PPre-True_1679977061915959/new_test_pred_best\n",
                  "Saving the scores in best_results/noDA_PPcropped_2/resnest101e_fold-1_lrinit-0.0001_batchsize-8_optimizer-AdamW_maxepochs-50_DA-None_PPen-None_PPha-None_PPco-None_PPde-None_PPno-True_PPcr-cropped_images_folder_PPre-True_1679977061915959/new_test_pred_last\n",
                  "Saving the scores in best_results/noDA_PPcropped_2/vgg19_fold-1_lrinit-0.001_batchsize-8_optimizer-SGD_maxepochs-50_DA-None_PPen-None_PPha-None_PPco-None_PPde-None_PPno-True_PPcr-cropped_images_folder_PPre-True_1679979018399696/new_test_pred_best\n",
                  "Saving the scores in best_results/noDA_PPcropped_2/vgg19_fold-1_lrinit-0.001_batchsize-8_optimizer-SGD_maxepochs-50_DA-None_PPen-None_PPha-None_PPco-None_PPde-None_PPno-True_PPcr-cropped_images_folder_PPre-True_1679979018399696/new_test_pred_last\n",
                  "Saving the scores in best_results/noDA_PPcropped_2/tf_efficientnet_b5_fold-1_lrinit-0.0001_batchsize-8_optimizer-AdamW_maxepochs-50_DA-None_PPen-None_PPha-None_PPco-None_PPde-None_PPno-True_PPcr-cropped_images_folder_PPre-True_16803016725145428/new_test_pred_best\n",
                  "Saving the scores in best_results/noDA_PPcropped_2/tf_efficientnet_b5_fold-1_lrinit-0.0001_batchsize-8_optimizer-AdamW_maxepochs-50_DA-None_PPen-None_PPha-None_PPco-None_PPde-None_PPno-True_PPcr-cropped_images_folder_PPre-True_16803016725145428/new_test_pred_last\n",
                  "Saving the scores in best_results/noDA_PPcropped_2/pnasnet5large_fold-1_lrinit-0.0001_batchsize-8_optimizer-Adam_maxepochs-50_DA-None_PPen-None_PPha-None_PPco-None_PPde-None_PPno-True_PPcr-cropped_images_folder_PPre-True_16799809351589878/new_test_pred_best\n",
                  "Saving the scores in best_results/noDA_PPcropped_2/pnasnet5large_fold-1_lrinit-0.0001_batchsize-8_optimizer-Adam_maxepochs-50_DA-None_PPen-None_PPha-None_PPco-None_PPde-None_PPno-True_PPcr-cropped_images_folder_PPre-True_16799809351589878/new_test_pred_last\n",
                  "Saving the scores in best_results/noDA_PPcropped_2/densenet121_fold-1_lrinit-0.0001_batchsize-32_optimizer-Adam_maxepochs-50_DA-None_PPen-None_PPha-None_PPco-None_PPde-None_PPno-True_PPcr-cropped_images_folder_PPre-True_16803166081359787/new_test_pred_best\n",
                  "Saving the scores in best_results/noDA_PPcropped_2/densenet121_fold-1_lrinit-0.0001_batchsize-32_optimizer-Adam_maxepochs-50_DA-None_PPen-None_PPha-None_PPco-None_PPde-None_PPno-True_PPcr-cropped_images_folder_PPre-True_16803166081359787/new_test_pred_last\n",
                  "Saving the scores in best_results/noDA_PPcropped_2/tf_efficientnet_b6_fold-1_lrinit-0.0001_batchsize-4_optimizer-AdamW_maxepochs-50_DA-None_PPen-None_PPha-None_PPco-None_PPde-None_PPno-True_PPcr-cropped_images_folder_PPre-True_16803072304927084/new_test_pred_best\n",
                  "Saving the scores in best_results/noDA_PPcropped_2/tf_efficientnet_b6_fold-1_lrinit-0.0001_batchsize-4_optimizer-AdamW_maxepochs-50_DA-None_PPen-None_PPha-None_PPco-None_PPde-None_PPno-True_PPcr-cropped_images_folder_PPre-True_16803072304927084/new_test_pred_last\n",
                  "Saving the scores in best_results/noDA_PPcropped_2/resnext101_32x8d_fold-1_lrinit-0.001_batchsize-8_optimizer-SGD_maxepochs-50_DA-None_PPen-None_PPha-None_PPco-None_PPde-None_PPno-True_PPcr-cropped_images_folder_PPre-True_16799801705856357/new_test_pred_best\n",
                  "Saving the scores in best_results/noDA_PPcropped_2/resnext101_32x8d_fold-1_lrinit-0.001_batchsize-8_optimizer-SGD_maxepochs-50_DA-None_PPen-None_PPha-None_PPco-None_PPde-None_PPno-True_PPcr-cropped_images_folder_PPre-True_16799801705856357/new_test_pred_last\n",
                  "Saving the scores in best_results/noDA_PPcropped_2/efficientnet_b1_fold-1_lrinit-0.001_batchsize-8_optimizer-AdamW_maxepochs-50_DA-None_PPen-None_PPha-None_PPco-None_PPde-None_PPno-True_PPcr-cropped_images_folder_PPre-True_16799738159650958/new_test_pred_best\n",
                  "Saving the scores in best_results/noDA_PPcropped_2/efficientnet_b1_fold-1_lrinit-0.001_batchsize-8_optimizer-AdamW_maxepochs-50_DA-None_PPen-None_PPha-None_PPco-None_PPde-None_PPno-True_PPcr-cropped_images_folder_PPre-True_16799738159650958/new_test_pred_last\n",
                  "Saving the scores in best_results/noDA_PPcropped_2/efficientnet_b4_fold-1_lrinit-0.001_batchsize-16_optimizer-AdamW_maxepochs-50_DA-None_PPen-None_PPha-None_PPco-None_PPde-None_PPno-True_PPcr-cropped_images_folder_PPre-True_16799763855938356/new_test_pred_best\n",
                  "Saving the scores in best_results/noDA_PPcropped_2/efficientnet_b4_fold-1_lrinit-0.001_batchsize-16_optimizer-AdamW_maxepochs-50_DA-None_PPen-None_PPha-None_PPco-None_PPde-None_PPno-True_PPcr-cropped_images_folder_PPre-True_16799763855938356/new_test_pred_last\n",
                  "Saving the scores in best_results/noDA_PPcropped_2/efficientnet_b0_fold-1_lrinit-0.001_batchsize-8_optimizer-AdamW_maxepochs-50_DA-None_PPen-None_PPha-None_PPco-None_PPde-None_PPno-True_PPcr-cropped_images_folder_PPre-True_16799728220125427/new_test_pred_best\n",
                  "Saving the scores in best_results/noDA_PPcropped_2/efficientnet_b0_fold-1_lrinit-0.001_batchsize-8_optimizer-AdamW_maxepochs-50_DA-None_PPen-None_PPha-None_PPco-None_PPde-None_PPno-True_PPcr-cropped_images_folder_PPre-True_16799728220125427/new_test_pred_last\n",
                  "Experimento:  DA2_noPP\n",
                  "Experimento:  DA0_noPP_2\n",
                  "Saving the scores in best_results/DA0_noPP_2/efficientnet_b4_fold-1_lrinit-0.001_batchsize-16_optimizer-AdamW_maxepochs-50_DA-0_PPen-None_PPha-None_PPco-None_PPde-None_PPno-True_PPcr-None_PPre-True_drop-0.0_trainjustclassifier-False_16806197912069666/new_test_pred_best\n",
                  "Saving the scores in best_results/DA0_noPP_2/efficientnet_b4_fold-1_lrinit-0.001_batchsize-16_optimizer-AdamW_maxepochs-50_DA-0_PPen-None_PPha-None_PPco-None_PPde-None_PPno-True_PPcr-None_PPre-True_drop-0.0_trainjustclassifier-False_16806197912069666/new_test_pred_last\n",
                  "Saving the scores in best_results/DA0_noPP_2/densenet121_fold-1_lrinit-0.0001_batchsize-32_optimizer-Adam_maxepochs-50_DA-0_PPen-None_PPha-None_PPco-None_PPde-None_PPno-True_PPcr-None_PPre-True_drop-0.0_trainjustclassifier-False_16806101543831158/new_test_pred_best\n",
                  "Saving the scores in best_results/DA0_noPP_2/densenet121_fold-1_lrinit-0.0001_batchsize-32_optimizer-Adam_maxepochs-50_DA-0_PPen-None_PPha-None_PPco-None_PPde-None_PPno-True_PPcr-None_PPre-True_drop-0.0_trainjustclassifier-False_16806101543831158/new_test_pred_last\n",
                  "Saving the scores in best_results/DA0_noPP_2/efficientnet_b0_fold-1_lrinit-0.001_batchsize-8_optimizer-AdamW_maxepochs-50_DA-0_PPen-None_PPha-None_PPco-None_PPde-None_PPno-True_PPcr-None_PPre-True_drop-0.0_trainjustclassifier-False_16806113457391913/new_test_pred_best\n",
                  "Saving the scores in best_results/DA0_noPP_2/efficientnet_b0_fold-1_lrinit-0.001_batchsize-8_optimizer-AdamW_maxepochs-50_DA-0_PPen-None_PPha-None_PPco-None_PPde-None_PPno-True_PPcr-None_PPre-True_drop-0.0_trainjustclassifier-False_16806113457391913/new_test_pred_last\n",
                  "Saving the scores in best_results/DA0_noPP_2/pnasnet5large_fold-1_lrinit-0.0001_batchsize-8_optimizer-Adam_maxepochs-50_DA-0_PPen-None_PPha-None_PPco-None_PPde-None_PPno-True_PPcr-None_PPre-True_drop-0.0_trainjustclassifier-False_16806303237798963/new_test_pred_best\n",
                  "Saving the scores in best_results/DA0_noPP_2/pnasnet5large_fold-1_lrinit-0.0001_batchsize-8_optimizer-Adam_maxepochs-50_DA-0_PPen-None_PPha-None_PPco-None_PPde-None_PPno-True_PPcr-None_PPre-True_drop-0.0_trainjustclassifier-False_16806303237798963/new_test_pred_last\n",
                  "Saving the scores in best_results/DA0_noPP_2/vgg19_fold-1_lrinit-0.001_batchsize-8_optimizer-SGD_maxepochs-50_DA-0_PPen-None_PPha-None_PPco-None_PPde-None_PPno-True_PPcr-None_PPre-True_drop-0.0_trainjustclassifier-False_16806266830996523/new_test_pred_best\n",
                  "Saving the scores in best_results/DA0_noPP_2/vgg19_fold-1_lrinit-0.001_batchsize-8_optimizer-SGD_maxepochs-50_DA-0_PPen-None_PPha-None_PPco-None_PPde-None_PPno-True_PPcr-None_PPre-True_drop-0.0_trainjustclassifier-False_16806266830996523/new_test_pred_last\n",
                  "Saving the scores in best_results/DA0_noPP_2/tf_efficientnet_b6_fold-1_lrinit-0.0001_batchsize-4_optimizer-AdamW_maxepochs-50_DA-0_PPen-None_PPha-None_PPco-None_PPde-None_PPno-True_PPcr-None_PPre-True_drop-0.0_trainjustclassifier-False_1680606198888534/new_test_pred_best\n",
                  "Saving the scores in best_results/DA0_noPP_2/tf_efficientnet_b6_fold-1_lrinit-0.0001_batchsize-4_optimizer-AdamW_maxepochs-50_DA-0_PPen-None_PPha-None_PPco-None_PPde-None_PPno-True_PPcr-None_PPre-True_drop-0.0_trainjustclassifier-False_1680606198888534/new_test_pred_last\n",
                  "Saving the scores in best_results/DA0_noPP_2/resnest101e_fold-1_lrinit-0.0001_batchsize-8_optimizer-AdamW_maxepochs-50_DA-0_PPen-None_PPha-None_PPco-None_PPde-None_PPno-True_PPcr-None_PPre-True_drop-0.0_trainjustclassifier-False_168062238454167/new_test_pred_best\n",
                  "Saving the scores in best_results/DA0_noPP_2/resnest101e_fold-1_lrinit-0.0001_batchsize-8_optimizer-AdamW_maxepochs-50_DA-0_PPen-None_PPha-None_PPco-None_PPde-None_PPno-True_PPcr-None_PPre-True_drop-0.0_trainjustclassifier-False_168062238454167/new_test_pred_last\n",
                  "Saving the scores in best_results/DA0_noPP_2/tf_efficientnet_b5_fold-1_lrinit-0.0001_batchsize-8_optimizer-AdamW_maxepochs-50_DA-0_PPen-None_PPha-None_PPco-None_PPde-None_PPno-True_PPcr-None_PPre-True_drop-0.0_trainjustclassifier-False_16806037283904023/new_test_pred_best\n",
                  "Saving the scores in best_results/DA0_noPP_2/tf_efficientnet_b5_fold-1_lrinit-0.0001_batchsize-8_optimizer-AdamW_maxepochs-50_DA-0_PPen-None_PPha-None_PPco-None_PPde-None_PPno-True_PPcr-None_PPre-True_drop-0.0_trainjustclassifier-False_16806037283904023/new_test_pred_last\n",
                  "Saving the scores in best_results/DA0_noPP_2/seresnext101_32x8d_fold-1_lrinit-0.0001_batchsize-16_optimizer-Adam_maxepochs-50_DA-0_PPen-None_PPha-None_PPco-None_PPde-None_PPno-True_PPcr-None_PPre-True_drop-0.0_trainjustclassifier-False_16806247052784517/new_test_pred_best\n",
                  "Saving the scores in best_results/DA0_noPP_2/seresnext101_32x8d_fold-1_lrinit-0.0001_batchsize-16_optimizer-Adam_maxepochs-50_DA-0_PPen-None_PPha-None_PPco-None_PPde-None_PPno-True_PPcr-None_PPre-True_drop-0.0_trainjustclassifier-False_16806247052784517/new_test_pred_last\n",
                  "Saving the scores in best_results/DA0_noPP_2/efficientnet_b2_fold-1_lrinit-0.001_batchsize-8_optimizer-Adam_maxepochs-50_DA-0_PPen-None_PPha-None_PPco-None_PPde-None_PPno-True_PPcr-None_PPre-True_drop-0.0_trainjustclassifier-False_1680615547288359/new_test_pred_best\n",
                  "Saving the scores in best_results/DA0_noPP_2/efficientnet_b2_fold-1_lrinit-0.001_batchsize-8_optimizer-Adam_maxepochs-50_DA-0_PPen-None_PPha-None_PPco-None_PPde-None_PPno-True_PPcr-None_PPre-True_drop-0.0_trainjustclassifier-False_1680615547288359/new_test_pred_last\n",
                  "Saving the scores in best_results/DA0_noPP_2/efficientnet_b3_fold-1_lrinit-0.001_batchsize-32_optimizer-Adam_maxepochs-50_DA-0_PPen-None_PPha-None_PPco-None_PPde-None_PPno-True_PPcr-None_PPre-True_drop-0.0_trainjustclassifier-False_16806176911355217/new_test_pred_best\n",
                  "Saving the scores in best_results/DA0_noPP_2/efficientnet_b3_fold-1_lrinit-0.001_batchsize-32_optimizer-Adam_maxepochs-50_DA-0_PPen-None_PPha-None_PPco-None_PPde-None_PPno-True_PPcr-None_PPre-True_drop-0.0_trainjustclassifier-False_16806176911355217/new_test_pred_last\n",
                  "Saving the scores in best_results/DA0_noPP_2/efficientnet_b1_fold-1_lrinit-0.001_batchsize-8_optimizer-AdamW_maxepochs-50_DA-0_PPen-None_PPha-None_PPco-None_PPde-None_PPno-True_PPcr-None_PPre-True_drop-0.0_trainjustclassifier-False_1680613036278298/new_test_pred_best\n",
                  "Saving the scores in best_results/DA0_noPP_2/efficientnet_b1_fold-1_lrinit-0.001_batchsize-8_optimizer-AdamW_maxepochs-50_DA-0_PPen-None_PPha-None_PPco-None_PPde-None_PPno-True_PPcr-None_PPre-True_drop-0.0_trainjustclassifier-False_1680613036278298/new_test_pred_last\n",
                  "Saving the scores in best_results/DA0_noPP_2/resnext101_32x8d_fold-1_lrinit-0.001_batchsize-8_optimizer-SGD_maxepochs-50_DA-0_PPen-None_PPha-None_PPco-None_PPde-None_PPno-True_PPcr-None_PPre-True_drop-0.0_trainjustclassifier-False_16806289862343872/new_test_pred_best\n",
                  "Saving the scores in best_results/DA0_noPP_2/resnext101_32x8d_fold-1_lrinit-0.001_batchsize-8_optimizer-SGD_maxepochs-50_DA-0_PPen-None_PPha-None_PPco-None_PPde-None_PPno-True_PPcr-None_PPre-True_drop-0.0_trainjustclassifier-False_16806289862343872/new_test_pred_last\n",
                  "Experimento:  DA2_CLAHE_shades_of_gray_cropped_images_folder\n",
                  "Saving the scores in best_results/DA2_CLAHE_shades_of_gray_cropped_images_folder/vgg19_fold-1_lrinit-0.0001_batchsize-8_optimizer-SGD_maxepochs-150_DA-2_PPen-CLAHE_PPha-None_PPco-shades_of_gray_PPde-None_PPno-True_PPcr-cropped_images_folder_PPre-True_drop-0.0_trainjustclassifier-False_16830534574096706/new_test_pred_best\n",
                  "Saving the scores in best_results/DA2_CLAHE_shades_of_gray_cropped_images_folder/vgg19_fold-1_lrinit-0.0001_batchsize-8_optimizer-SGD_maxepochs-150_DA-2_PPen-CLAHE_PPha-None_PPco-shades_of_gray_PPde-None_PPno-True_PPcr-cropped_images_folder_PPre-True_drop-0.0_trainjustclassifier-False_16830534574096706/new_test_pred_last\n",
                  "Saving the scores in best_results/DA2_CLAHE_shades_of_gray_cropped_images_folder/tf_efficientnet_b5_fold-1_lrinit-0.0001_batchsize-8_optimizer-AdamW_maxepochs-150_DA-2_PPen-CLAHE_PPha-None_PPco-shades_of_gray_PPde-None_PPno-True_PPcr-cropped_images_folder_PPre-True_drop-0.0_trainjustclassifier-False_1682984650790619/new_test_pred_best\n",
                  "Saving the scores in best_results/DA2_CLAHE_shades_of_gray_cropped_images_folder/tf_efficientnet_b5_fold-1_lrinit-0.0001_batchsize-8_optimizer-AdamW_maxepochs-150_DA-2_PPen-CLAHE_PPha-None_PPco-shades_of_gray_PPde-None_PPno-True_PPcr-cropped_images_folder_PPre-True_drop-0.0_trainjustclassifier-False_1682984650790619/new_test_pred_last\n",
                  "Saving the scores in best_results/DA2_CLAHE_shades_of_gray_cropped_images_folder/efficientnet_b2_fold-1_lrinit-0.0001_batchsize-8_optimizer-Adam_maxepochs-150_DA-2_PPen-CLAHE_PPha-None_PPco-shades_of_gray_PPde-None_PPno-True_PPcr-cropped_images_folder_PPre-True_drop-0.0_trainjustclassifier-False_16830313793561234/new_test_pred_best\n",
                  "Saving the scores in best_results/DA2_CLAHE_shades_of_gray_cropped_images_folder/efficientnet_b2_fold-1_lrinit-0.0001_batchsize-8_optimizer-Adam_maxepochs-150_DA-2_PPen-CLAHE_PPha-None_PPco-shades_of_gray_PPde-None_PPno-True_PPcr-cropped_images_folder_PPre-True_drop-0.0_trainjustclassifier-False_16830313793561234/new_test_pred_last\n",
                  "Saving the scores in best_results/DA2_CLAHE_shades_of_gray_cropped_images_folder/pnasnet5large_fold-1_lrinit-0.0001_batchsize-8_optimizer-Adam_maxepochs-150_DA-2_PPen-CLAHE_PPha-None_PPco-shades_of_gray_PPde-None_PPno-True_PPcr-cropped_images_folder_PPre-True_drop-0.0_trainjustclassifier-False_16830607549261954/new_test_pred_best\n",
                  "Saving the scores in best_results/DA2_CLAHE_shades_of_gray_cropped_images_folder/pnasnet5large_fold-1_lrinit-0.0001_batchsize-8_optimizer-Adam_maxepochs-150_DA-2_PPen-CLAHE_PPha-None_PPco-shades_of_gray_PPde-None_PPno-True_PPcr-cropped_images_folder_PPre-True_drop-0.0_trainjustclassifier-False_16830607549261954/new_test_pred_last\n",
                  "Saving the scores in best_results/DA2_CLAHE_shades_of_gray_cropped_images_folder/seresnext101_32x8d_fold-1_lrinit-0.0001_batchsize-16_optimizer-Adam_maxepochs-150_DA-2_PPen-CLAHE_PPha-None_PPco-shades_of_gray_PPde-None_PPno-True_PPcr-cropped_images_folder_PPre-True_drop-0.0_trainjustclassifier-False_16830487937220898/new_test_pred_best\n",
                  "Saving the scores in best_results/DA2_CLAHE_shades_of_gray_cropped_images_folder/seresnext101_32x8d_fold-1_lrinit-0.0001_batchsize-16_optimizer-Adam_maxepochs-150_DA-2_PPen-CLAHE_PPha-None_PPco-shades_of_gray_PPde-None_PPno-True_PPcr-cropped_images_folder_PPre-True_drop-0.0_trainjustclassifier-False_16830487937220898/new_test_pred_last\n",
                  "Saving the scores in best_results/DA2_CLAHE_shades_of_gray_cropped_images_folder/densenet121_fold-1_lrinit-0.0001_batchsize-32_optimizer-Adam_maxepochs-150_DA-2_PPen-CLAHE_PPha-None_PPco-shades_of_gray_PPde-None_PPno-True_PPcr-cropped_images_folder_PPre-True_drop-0.0_trainjustclassifier-False_16830234156817522/new_test_pred_best\n",
                  "Saving the scores in best_results/DA2_CLAHE_shades_of_gray_cropped_images_folder/densenet121_fold-1_lrinit-0.0001_batchsize-32_optimizer-Adam_maxepochs-150_DA-2_PPen-CLAHE_PPha-None_PPco-shades_of_gray_PPde-None_PPno-True_PPcr-cropped_images_folder_PPre-True_drop-0.0_trainjustclassifier-False_16830234156817522/new_test_pred_last\n",
                  "Saving the scores in best_results/DA2_CLAHE_shades_of_gray_cropped_images_folder/tf_efficientnet_b6_fold-1_lrinit-0.0001_batchsize-4_optimizer-AdamW_maxepochs-150_DA-2_PPen-CLAHE_PPha-None_PPco-shades_of_gray_PPde-None_PPno-True_PPcr-cropped_images_folder_PPre-True_drop-0.0_trainjustclassifier-False_1682996991574513/new_test_pred_best\n",
                  "Saving the scores in best_results/DA2_CLAHE_shades_of_gray_cropped_images_folder/tf_efficientnet_b6_fold-1_lrinit-0.0001_batchsize-4_optimizer-AdamW_maxepochs-150_DA-2_PPen-CLAHE_PPha-None_PPco-shades_of_gray_PPde-None_PPno-True_PPcr-cropped_images_folder_PPre-True_drop-0.0_trainjustclassifier-False_1682996991574513/new_test_pred_last\n",
                  "Saving the scores in best_results/DA2_CLAHE_shades_of_gray_cropped_images_folder/efficientnet_b3_fold-1_lrinit-0.0001_batchsize-32_optimizer-Adam_maxepochs-150_DA-2_PPen-CLAHE_PPha-None_PPco-shades_of_gray_PPde-None_PPno-True_PPcr-cropped_images_folder_PPre-True_drop-0.0_trainjustclassifier-False_16830341308668709/new_test_pred_best\n",
                  "Saving the scores in best_results/DA2_CLAHE_shades_of_gray_cropped_images_folder/efficientnet_b3_fold-1_lrinit-0.0001_batchsize-32_optimizer-Adam_maxepochs-150_DA-2_PPen-CLAHE_PPha-None_PPco-shades_of_gray_PPde-None_PPno-True_PPcr-cropped_images_folder_PPre-True_drop-0.0_trainjustclassifier-False_16830341308668709/new_test_pred_last\n",
                  "Saving the scores in best_results/DA2_CLAHE_shades_of_gray_cropped_images_folder/resnext101_32x8d_fold-1_lrinit-0.0001_batchsize-8_optimizer-SGD_maxepochs-150_DA-2_PPen-CLAHE_PPha-None_PPco-shades_of_gray_PPde-None_PPno-True_PPcr-cropped_images_folder_PPre-True_drop-0.0_trainjustclassifier-False_16830568055669036/new_test_pred_best\n",
                  "Saving the scores in best_results/DA2_CLAHE_shades_of_gray_cropped_images_folder/resnext101_32x8d_fold-1_lrinit-0.0001_batchsize-8_optimizer-SGD_maxepochs-150_DA-2_PPen-CLAHE_PPha-None_PPco-shades_of_gray_PPde-None_PPno-True_PPcr-cropped_images_folder_PPre-True_drop-0.0_trainjustclassifier-False_16830568055669036/new_test_pred_last\n",
                  "Saving the scores in best_results/DA2_CLAHE_shades_of_gray_cropped_images_folder/resnest101e_fold-1_lrinit-0.0001_batchsize-8_optimizer-AdamW_maxepochs-150_DA-2_PPen-CLAHE_PPha-None_PPco-shades_of_gray_PPde-None_PPno-True_PPcr-cropped_images_folder_PPre-True_drop-0.0_trainjustclassifier-False_16830434647245746/new_test_pred_best\n",
                  "Saving the scores in best_results/DA2_CLAHE_shades_of_gray_cropped_images_folder/resnest101e_fold-1_lrinit-0.0001_batchsize-8_optimizer-AdamW_maxepochs-150_DA-2_PPen-CLAHE_PPha-None_PPco-shades_of_gray_PPde-None_PPno-True_PPcr-cropped_images_folder_PPre-True_drop-0.0_trainjustclassifier-False_16830434647245746/new_test_pred_last\n",
                  "Saving the scores in best_results/DA2_CLAHE_shades_of_gray_cropped_images_folder/efficientnet_b1_fold-1_lrinit-0.0001_batchsize-8_optimizer-AdamW_maxepochs-150_DA-2_PPen-CLAHE_PPha-None_PPco-shades_of_gray_PPde-None_PPno-True_PPcr-cropped_images_folder_PPre-True_drop-0.0_trainjustclassifier-False_16830283535340314/new_test_pred_best\n",
                  "Saving the scores in best_results/DA2_CLAHE_shades_of_gray_cropped_images_folder/efficientnet_b1_fold-1_lrinit-0.0001_batchsize-8_optimizer-AdamW_maxepochs-150_DA-2_PPen-CLAHE_PPha-None_PPco-shades_of_gray_PPde-None_PPno-True_PPcr-cropped_images_folder_PPre-True_drop-0.0_trainjustclassifier-False_16830283535340314/new_test_pred_last\n",
                  "Saving the scores in best_results/DA2_CLAHE_shades_of_gray_cropped_images_folder/efficientnet_b0_fold-1_lrinit-0.0001_batchsize-8_optimizer-AdamW_maxepochs-150_DA-2_PPen-CLAHE_PPha-None_PPco-shades_of_gray_PPde-None_PPno-True_PPcr-cropped_images_folder_PPre-True_drop-0.0_trainjustclassifier-False_16830263143794494/new_test_pred_best\n",
                  "Saving the scores in best_results/DA2_CLAHE_shades_of_gray_cropped_images_folder/efficientnet_b0_fold-1_lrinit-0.0001_batchsize-8_optimizer-AdamW_maxepochs-150_DA-2_PPen-CLAHE_PPha-None_PPco-shades_of_gray_PPde-None_PPno-True_PPcr-cropped_images_folder_PPre-True_drop-0.0_trainjustclassifier-False_16830263143794494/new_test_pred_last\n",
                  "Saving the scores in best_results/DA2_CLAHE_shades_of_gray_cropped_images_folder/efficientnet_b4_fold-1_lrinit-0.0001_batchsize-16_optimizer-AdamW_maxepochs-150_DA-2_PPen-CLAHE_PPha-None_PPco-shades_of_gray_PPde-None_PPno-True_PPcr-cropped_images_folder_PPre-True_drop-0.0_trainjustclassifier-False_16830379617933319/new_test_pred_best\n",
                  "Saving the scores in best_results/DA2_CLAHE_shades_of_gray_cropped_images_folder/efficientnet_b4_fold-1_lrinit-0.0001_batchsize-16_optimizer-AdamW_maxepochs-150_DA-2_PPen-CLAHE_PPha-None_PPco-shades_of_gray_PPde-None_PPno-True_PPcr-cropped_images_folder_PPre-True_drop-0.0_trainjustclassifier-False_16830379617933319/new_test_pred_last\n",
                  "Experimento:  CLAHE_2\n",
                  "Experimento:  mean_filter_cropped_images_folder\n",
                  "Experimento:  noDA_CLAHE\n",
                  "Saving the scores in best_results/noDA_CLAHE/vgg19_fold-1_lrinit-0.0001_batchsize-8_optimizer-SGD_maxepochs-150_DA-None_PPen-CLAHE_PPha-None_PPco-None_PPde-None_PPno-True_PPcr-None_PPre-True_drop-0.0_trainjustclassifier-False_16816894113261328/new_test_pred_best\n",
                  "Saving the scores in best_results/noDA_CLAHE/vgg19_fold-1_lrinit-0.0001_batchsize-8_optimizer-SGD_maxepochs-150_DA-None_PPen-CLAHE_PPha-None_PPco-None_PPde-None_PPno-True_PPcr-None_PPre-True_drop-0.0_trainjustclassifier-False_16816894113261328/new_test_pred_last\n",
                  "Saving the scores in best_results/noDA_CLAHE/resnest101e_fold-1_lrinit-0.0001_batchsize-8_optimizer-AdamW_maxepochs-150_DA-None_PPen-CLAHE_PPha-None_PPco-None_PPde-None_PPno-True_PPcr-None_PPre-True_drop-0.0_trainjustclassifier-False_16816801786555188/new_test_pred_best\n",
                  "Saving the scores in best_results/noDA_CLAHE/resnest101e_fold-1_lrinit-0.0001_batchsize-8_optimizer-AdamW_maxepochs-150_DA-None_PPen-CLAHE_PPha-None_PPco-None_PPde-None_PPno-True_PPcr-None_PPre-True_drop-0.0_trainjustclassifier-False_16816801786555188/new_test_pred_last\n",
                  "Saving the scores in best_results/noDA_CLAHE/efficientnet_b1_fold-1_lrinit-0.0001_batchsize-8_optimizer-AdamW_maxepochs-150_DA-None_PPen-CLAHE_PPha-None_PPco-None_PPde-None_PPno-True_PPcr-None_PPre-True_drop-0.0_trainjustclassifier-False_1681664954247039/new_test_pred_best\n",
                  "Saving the scores in best_results/noDA_CLAHE/efficientnet_b1_fold-1_lrinit-0.0001_batchsize-8_optimizer-AdamW_maxepochs-150_DA-None_PPen-CLAHE_PPha-None_PPco-None_PPde-None_PPno-True_PPcr-None_PPre-True_drop-0.0_trainjustclassifier-False_1681664954247039/new_test_pred_last\n",
                  "Saving the scores in best_results/noDA_CLAHE/densenet121_fold-1_lrinit-0.0001_batchsize-32_optimizer-Adam_maxepochs-150_DA-None_PPen-CLAHE_PPha-None_PPco-None_PPde-None_PPno-True_PPcr-None_PPre-True_drop-0.0_trainjustclassifier-False_16816597618210878/new_test_pred_best\n",
                  "Saving the scores in best_results/noDA_CLAHE/densenet121_fold-1_lrinit-0.0001_batchsize-32_optimizer-Adam_maxepochs-150_DA-None_PPen-CLAHE_PPha-None_PPco-None_PPde-None_PPno-True_PPcr-None_PPre-True_drop-0.0_trainjustclassifier-False_16816597618210878/new_test_pred_last\n",
                  "Saving the scores in best_results/noDA_CLAHE/efficientnet_b3_fold-1_lrinit-0.0001_batchsize-32_optimizer-Adam_maxepochs-150_DA-None_PPen-CLAHE_PPha-None_PPco-None_PPde-None_PPno-True_PPcr-None_PPre-True_drop-0.0_trainjustclassifier-False_16816717265329654/new_test_pred_best\n",
                  "Saving the scores in best_results/noDA_CLAHE/efficientnet_b3_fold-1_lrinit-0.0001_batchsize-32_optimizer-Adam_maxepochs-150_DA-None_PPen-CLAHE_PPha-None_PPco-None_PPde-None_PPno-True_PPcr-None_PPre-True_drop-0.0_trainjustclassifier-False_16816717265329654/new_test_pred_last\n",
                  "Saving the scores in best_results/noDA_CLAHE/tf_efficientnet_b6_fold-1_lrinit-0.0001_batchsize-4_optimizer-AdamW_maxepochs-150_DA-None_PPen-CLAHE_PPha-None_PPco-None_PPde-None_PPno-True_PPcr-None_PPre-True_drop-0.0_trainjustclassifier-False_16816481990197852/new_test_pred_best\n",
                  "Saving the scores in best_results/noDA_CLAHE/tf_efficientnet_b6_fold-1_lrinit-0.0001_batchsize-4_optimizer-AdamW_maxepochs-150_DA-None_PPen-CLAHE_PPha-None_PPco-None_PPde-None_PPno-True_PPcr-None_PPre-True_drop-0.0_trainjustclassifier-False_16816481990197852/new_test_pred_last\n",
                  "Saving the scores in best_results/noDA_CLAHE/pnasnet5large_fold-1_lrinit-0.0001_batchsize-8_optimizer-Adam_maxepochs-150_DA-None_PPen-CLAHE_PPha-None_PPco-None_PPde-None_PPno-True_PPcr-None_PPre-True_drop-0.0_trainjustclassifier-False_16816973761168795/new_test_pred_best\n",
                  "Saving the scores in best_results/noDA_CLAHE/pnasnet5large_fold-1_lrinit-0.0001_batchsize-8_optimizer-Adam_maxepochs-150_DA-None_PPen-CLAHE_PPha-None_PPco-None_PPde-None_PPno-True_PPcr-None_PPre-True_drop-0.0_trainjustclassifier-False_16816973761168795/new_test_pred_last\n",
                  "Saving the scores in best_results/noDA_CLAHE/efficientnet_b0_fold-1_lrinit-0.0001_batchsize-8_optimizer-AdamW_maxepochs-150_DA-None_PPen-CLAHE_PPha-None_PPco-None_PPde-None_PPno-True_PPcr-None_PPre-True_drop-0.0_trainjustclassifier-False_1681662120484393/new_test_pred_best\n",
                  "Saving the scores in best_results/noDA_CLAHE/efficientnet_b0_fold-1_lrinit-0.0001_batchsize-8_optimizer-AdamW_maxepochs-150_DA-None_PPen-CLAHE_PPha-None_PPco-None_PPde-None_PPno-True_PPcr-None_PPre-True_drop-0.0_trainjustclassifier-False_1681662120484393/new_test_pred_last\n",
                  "Saving the scores in best_results/noDA_CLAHE/efficientnet_b4_fold-1_lrinit-0.0001_batchsize-16_optimizer-AdamW_maxepochs-150_DA-None_PPen-CLAHE_PPha-None_PPco-None_PPde-None_PPno-True_PPcr-None_PPre-True_drop-0.0_trainjustclassifier-False_16816759947938795/new_test_pred_best\n",
                  "Saving the scores in best_results/noDA_CLAHE/efficientnet_b4_fold-1_lrinit-0.0001_batchsize-16_optimizer-AdamW_maxepochs-150_DA-None_PPen-CLAHE_PPha-None_PPco-None_PPde-None_PPno-True_PPcr-None_PPre-True_drop-0.0_trainjustclassifier-False_16816759947938795/new_test_pred_last\n",
                  "Saving the scores in best_results/noDA_CLAHE/resnext101_32x8d_fold-1_lrinit-0.0001_batchsize-8_optimizer-SGD_maxepochs-150_DA-None_PPen-CLAHE_PPha-None_PPco-None_PPde-None_PPno-True_PPcr-None_PPre-True_drop-0.0_trainjustclassifier-False_16816923085853357/new_test_pred_best\n",
                  "Saving the scores in best_results/noDA_CLAHE/resnext101_32x8d_fold-1_lrinit-0.0001_batchsize-8_optimizer-SGD_maxepochs-150_DA-None_PPen-CLAHE_PPha-None_PPco-None_PPde-None_PPno-True_PPcr-None_PPre-True_drop-0.0_trainjustclassifier-False_16816923085853357/new_test_pred_last\n",
                  "Saving the scores in best_results/noDA_CLAHE/efficientnet_b2_fold-1_lrinit-0.0001_batchsize-8_optimizer-Adam_maxepochs-150_DA-None_PPen-CLAHE_PPha-None_PPco-None_PPde-None_PPno-True_PPcr-None_PPre-True_drop-0.0_trainjustclassifier-False_1681667838804931/new_test_pred_best\n",
                  "Saving the scores in best_results/noDA_CLAHE/efficientnet_b2_fold-1_lrinit-0.0001_batchsize-8_optimizer-Adam_maxepochs-150_DA-None_PPen-CLAHE_PPha-None_PPco-None_PPde-None_PPno-True_PPcr-None_PPre-True_drop-0.0_trainjustclassifier-False_1681667838804931/new_test_pred_last\n",
                  "Saving the scores in best_results/noDA_CLAHE/tf_efficientnet_b5_fold-1_lrinit-0.0001_batchsize-8_optimizer-AdamW_maxepochs-150_DA-None_PPen-CLAHE_PPha-None_PPco-None_PPde-None_PPno-True_PPcr-None_PPre-True_drop-0.0_trainjustclassifier-False_16816425417893474/new_test_pred_best\n",
                  "Saving the scores in best_results/noDA_CLAHE/tf_efficientnet_b5_fold-1_lrinit-0.0001_batchsize-8_optimizer-AdamW_maxepochs-150_DA-None_PPen-CLAHE_PPha-None_PPco-None_PPde-None_PPno-True_PPcr-None_PPre-True_drop-0.0_trainjustclassifier-False_16816425417893474/new_test_pred_last\n",
                  "Saving the scores in best_results/noDA_CLAHE/seresnext101_32x8d_fold-1_lrinit-0.0001_batchsize-16_optimizer-Adam_maxepochs-150_DA-None_PPen-CLAHE_PPha-None_PPco-None_PPde-None_PPno-True_PPcr-None_PPre-True_drop-0.0_trainjustclassifier-False_1681685279565234/new_test_pred_best\n",
                  "Saving the scores in best_results/noDA_CLAHE/seresnext101_32x8d_fold-1_lrinit-0.0001_batchsize-16_optimizer-Adam_maxepochs-150_DA-None_PPen-CLAHE_PPha-None_PPco-None_PPde-None_PPno-True_PPcr-None_PPre-True_drop-0.0_trainjustclassifier-False_1681685279565234/new_test_pred_last\n",
                  "Experimento:  train_classifier_only\n",
                  "Saving the scores in best_results/train_classifier_only/efficientnet_b4_fold-1_lrinit-0.001_batchsize-16_optimizer-AdamW_maxepochs-50_DA-None_PPen-None_PPha-None_PPco-None_PPde-None_PPno-True_PPcr-None_PPre-True_drop-0.0_trainjustclassifier-True_1680500096541792/new_test_pred_best\n",
                  "Saving the scores in best_results/train_classifier_only/efficientnet_b4_fold-1_lrinit-0.001_batchsize-16_optimizer-AdamW_maxepochs-50_DA-None_PPen-None_PPha-None_PPco-None_PPde-None_PPno-True_PPcr-None_PPre-True_drop-0.0_trainjustclassifier-True_1680500096541792/new_test_pred_last\n",
                  "Saving the scores in best_results/train_classifier_only/densenet121_fold-1_lrinit-0.0001_batchsize-32_optimizer-Adam_maxepochs-50_DA-None_PPen-None_PPha-None_PPco-None_PPde-None_PPno-True_PPcr-None_PPre-True_drop-0.0_trainjustclassifier-True_16804915526777964/new_test_pred_best\n",
                  "Saving the scores in best_results/train_classifier_only/densenet121_fold-1_lrinit-0.0001_batchsize-32_optimizer-Adam_maxepochs-50_DA-None_PPen-None_PPha-None_PPco-None_PPde-None_PPno-True_PPcr-None_PPre-True_drop-0.0_trainjustclassifier-True_16804915526777964/new_test_pred_last\n",
                  "Saving the scores in best_results/train_classifier_only/tf_efficientnet_b6_fold-1_lrinit-0.0001_batchsize-4_optimizer-AdamW_maxepochs-50_DA-None_PPen-None_PPha-None_PPco-None_PPde-None_PPno-True_PPcr-None_PPre-True_drop-0.0_trainjustclassifier-True_16804871969579828/new_test_pred_best\n",
                  "Saving the scores in best_results/train_classifier_only/tf_efficientnet_b6_fold-1_lrinit-0.0001_batchsize-4_optimizer-AdamW_maxepochs-50_DA-None_PPen-None_PPha-None_PPco-None_PPde-None_PPno-True_PPcr-None_PPre-True_drop-0.0_trainjustclassifier-True_16804871969579828/new_test_pred_last\n",
                  "Saving the scores in best_results/train_classifier_only/efficientnet_b3_fold-1_lrinit-0.001_batchsize-32_optimizer-Adam_maxepochs-50_DA-None_PPen-None_PPha-None_PPco-None_PPde-None_PPno-True_PPcr-None_PPre-True_drop-0.0_trainjustclassifier-True_16804986443696537/new_test_pred_best\n",
                  "Saving the scores in best_results/train_classifier_only/efficientnet_b3_fold-1_lrinit-0.001_batchsize-32_optimizer-Adam_maxepochs-50_DA-None_PPen-None_PPha-None_PPco-None_PPde-None_PPno-True_PPcr-None_PPre-True_drop-0.0_trainjustclassifier-True_16804986443696537/new_test_pred_last\n",
                  "Saving the scores in best_results/train_classifier_only/resnest101e_fold-1_lrinit-0.0001_batchsize-8_optimizer-AdamW_maxepochs-50_DA-None_PPen-None_PPha-None_PPco-None_PPde-None_PPno-True_PPcr-None_PPre-True_drop-0.0_trainjustclassifier-True_1680501587499534/new_test_pred_best\n",
                  "Saving the scores in best_results/train_classifier_only/resnest101e_fold-1_lrinit-0.0001_batchsize-8_optimizer-AdamW_maxepochs-50_DA-None_PPen-None_PPha-None_PPco-None_PPde-None_PPno-True_PPcr-None_PPre-True_drop-0.0_trainjustclassifier-True_1680501587499534/new_test_pred_last\n",
                  "Saving the scores in best_results/train_classifier_only/tf_efficientnet_b5_fold-1_lrinit-0.0001_batchsize-8_optimizer-AdamW_maxepochs-50_DA-None_PPen-None_PPha-None_PPco-None_PPde-None_PPno-True_PPcr-None_PPre-True_drop-0.0_trainjustclassifier-True_1680484403708894/new_test_pred_best\n",
                  "Saving the scores in best_results/train_classifier_only/tf_efficientnet_b5_fold-1_lrinit-0.0001_batchsize-8_optimizer-AdamW_maxepochs-50_DA-None_PPen-None_PPha-None_PPco-None_PPde-None_PPno-True_PPcr-None_PPre-True_drop-0.0_trainjustclassifier-True_1680484403708894/new_test_pred_last\n",
                  "Saving the scores in best_results/train_classifier_only/pnasnet5large_fold-1_lrinit-0.0001_batchsize-8_optimizer-Adam_maxepochs-50_DA-None_PPen-None_PPha-None_PPco-None_PPde-None_PPno-True_PPcr-None_PPre-True_drop-0.0_trainjustclassifier-True_16805074692852557/new_test_pred_best\n",
                  "Saving the scores in best_results/train_classifier_only/pnasnet5large_fold-1_lrinit-0.0001_batchsize-8_optimizer-Adam_maxepochs-50_DA-None_PPen-None_PPha-None_PPco-None_PPde-None_PPno-True_PPcr-None_PPre-True_drop-0.0_trainjustclassifier-True_16805074692852557/new_test_pred_last\n",
                  "Saving the scores in best_results/train_classifier_only/efficientnet_b2_fold-1_lrinit-0.001_batchsize-8_optimizer-Adam_maxepochs-50_DA-None_PPen-None_PPha-None_PPco-None_PPde-None_PPno-True_PPcr-None_PPre-True_drop-0.0_trainjustclassifier-True_16804973467605703/new_test_pred_best\n",
                  "Saving the scores in best_results/train_classifier_only/efficientnet_b2_fold-1_lrinit-0.001_batchsize-8_optimizer-Adam_maxepochs-50_DA-None_PPen-None_PPha-None_PPco-None_PPde-None_PPno-True_PPcr-None_PPre-True_drop-0.0_trainjustclassifier-True_16804973467605703/new_test_pred_last\n",
                  "Saving the scores in best_results/train_classifier_only/vgg19_fold-1_lrinit-0.001_batchsize-8_optimizer-SGD_maxepochs-50_DA-None_PPen-None_PPha-None_PPco-None_PPde-None_PPno-True_PPcr-None_PPre-True_drop-0.0_trainjustclassifier-True_16805051979458716/new_test_pred_best\n",
                  "Saving the scores in best_results/train_classifier_only/vgg19_fold-1_lrinit-0.001_batchsize-8_optimizer-SGD_maxepochs-50_DA-None_PPen-None_PPha-None_PPco-None_PPde-None_PPno-True_PPcr-None_PPre-True_drop-0.0_trainjustclassifier-True_16805051979458716/new_test_pred_last\n",
                  "Saving the scores in best_results/train_classifier_only/resnext101_32x8d_fold-1_lrinit-0.001_batchsize-8_optimizer-SGD_maxepochs-50_DA-None_PPen-None_PPha-None_PPco-None_PPde-None_PPno-True_PPcr-None_PPre-True_drop-0.0_trainjustclassifier-True_16805062784587333/new_test_pred_best\n",
                  "Saving the scores in best_results/train_classifier_only/resnext101_32x8d_fold-1_lrinit-0.001_batchsize-8_optimizer-SGD_maxepochs-50_DA-None_PPen-None_PPha-None_PPco-None_PPde-None_PPno-True_PPcr-None_PPre-True_drop-0.0_trainjustclassifier-True_16805062784587333/new_test_pred_last\n",
                  "Saving the scores in best_results/train_classifier_only/efficientnet_b1_fold-1_lrinit-0.001_batchsize-8_optimizer-AdamW_maxepochs-50_DA-None_PPen-None_PPha-None_PPco-None_PPde-None_PPno-True_PPcr-None_PPre-True_drop-0.0_trainjustclassifier-True_16804948111644619/new_test_pred_best\n",
                  "Saving the scores in best_results/train_classifier_only/efficientnet_b1_fold-1_lrinit-0.001_batchsize-8_optimizer-AdamW_maxepochs-50_DA-None_PPen-None_PPha-None_PPco-None_PPde-None_PPno-True_PPcr-None_PPre-True_drop-0.0_trainjustclassifier-True_16804948111644619/new_test_pred_last\n",
                  "Saving the scores in best_results/train_classifier_only/seresnext101_32x8d_fold-1_lrinit-0.0001_batchsize-32_optimizer-Adam_maxepochs-50_DA-None_PPen-None_PPha-None_PPco-None_PPde-None_PPno-True_PPcr-None_PPre-True_drop-0.0_trainjustclassifier-True_16805033505730631/new_test_pred_best\n",
                  "Saving the scores in best_results/train_classifier_only/seresnext101_32x8d_fold-1_lrinit-0.0001_batchsize-32_optimizer-Adam_maxepochs-50_DA-None_PPen-None_PPha-None_PPco-None_PPde-None_PPno-True_PPcr-None_PPre-True_drop-0.0_trainjustclassifier-True_16805033505730631/new_test_pred_last\n",
                  "Saving the scores in best_results/train_classifier_only/efficientnet_b0_fold-1_lrinit-0.001_batchsize-8_optimizer-AdamW_maxepochs-50_DA-None_PPen-None_PPha-None_PPco-None_PPde-None_PPno-True_PPcr-None_PPre-True_drop-0.0_trainjustclassifier-True_16804938674229348/new_test_pred_best\n",
                  "Saving the scores in best_results/train_classifier_only/efficientnet_b0_fold-1_lrinit-0.001_batchsize-8_optimizer-AdamW_maxepochs-50_DA-None_PPen-None_PPha-None_PPco-None_PPde-None_PPno-True_PPcr-None_PPre-True_drop-0.0_trainjustclassifier-True_16804938674229348/new_test_pred_last\n",
                  "Experimento:  non_local_means\n",
                  "Experimento:  dropout_02\n",
                  "Saving the scores in best_results/dropout_02/efficientnet_b1_fold-1_lrinit-0.001_batchsize-8_optimizer-AdamW_maxepochs-50_DA-None_PPen-None_PPha-None_PPco-None_PPde-None_PPno-True_PPcr-None_PPre-True_drop-0.2_trainjustclassifier-False_16805764537055814/new_test_pred_best\n",
                  "Saving the scores in best_results/dropout_02/efficientnet_b1_fold-1_lrinit-0.001_batchsize-8_optimizer-AdamW_maxepochs-50_DA-None_PPen-None_PPha-None_PPco-None_PPde-None_PPno-True_PPcr-None_PPre-True_drop-0.2_trainjustclassifier-False_16805764537055814/new_test_pred_last\n",
                  "Saving the scores in best_results/dropout_02/tf_efficientnet_b6_fold-1_lrinit-0.0001_batchsize-4_optimizer-AdamW_maxepochs-50_DA-None_PPen-None_PPha-None_PPco-None_PPde-None_PPno-True_PPcr-None_PPre-True_drop-0.2_trainjustclassifier-False_1680566870613526/new_test_pred_best\n",
                  "Saving the scores in best_results/dropout_02/tf_efficientnet_b6_fold-1_lrinit-0.0001_batchsize-4_optimizer-AdamW_maxepochs-50_DA-None_PPen-None_PPha-None_PPco-None_PPde-None_PPno-True_PPcr-None_PPre-True_drop-0.2_trainjustclassifier-False_1680566870613526/new_test_pred_last\n",
                  "Saving the scores in best_results/dropout_02/efficientnet_b4_fold-1_lrinit-0.001_batchsize-16_optimizer-AdamW_maxepochs-50_DA-None_PPen-None_PPha-None_PPco-None_PPde-None_PPno-True_PPcr-None_PPre-True_drop-0.2_trainjustclassifier-False_16805797615398247/new_test_pred_best\n",
                  "Saving the scores in best_results/dropout_02/efficientnet_b4_fold-1_lrinit-0.001_batchsize-16_optimizer-AdamW_maxepochs-50_DA-None_PPen-None_PPha-None_PPco-None_PPde-None_PPno-True_PPcr-None_PPre-True_drop-0.2_trainjustclassifier-False_16805797615398247/new_test_pred_last\n",
                  "Saving the scores in best_results/dropout_02/pnasnet5large_fold-1_lrinit-0.0001_batchsize-8_optimizer-Adam_maxepochs-50_DA-None_PPen-None_PPha-None_PPco-None_PPde-None_PPno-True_PPcr-None_PPre-True_drop-0.2_trainjustclassifier-False_16805878159869595/new_test_pred_best\n",
                  "Saving the scores in best_results/dropout_02/pnasnet5large_fold-1_lrinit-0.0001_batchsize-8_optimizer-Adam_maxepochs-50_DA-None_PPen-None_PPha-None_PPco-None_PPde-None_PPno-True_PPcr-None_PPre-True_drop-0.2_trainjustclassifier-False_16805878159869595/new_test_pred_last\n",
                  "Saving the scores in best_results/dropout_02/seresnext101_32x8d_fold-1_lrinit-0.0001_batchsize-16_optimizer-Adam_maxepochs-50_DA-None_PPen-None_PPha-None_PPco-None_PPde-None_PPno-True_PPcr-None_PPre-True_drop-0.2_trainjustclassifier-False_16805837450208387/new_test_pred_best\n",
                  "Saving the scores in best_results/dropout_02/seresnext101_32x8d_fold-1_lrinit-0.0001_batchsize-16_optimizer-Adam_maxepochs-50_DA-None_PPen-None_PPha-None_PPco-None_PPde-None_PPno-True_PPcr-None_PPre-True_drop-0.2_trainjustclassifier-False_16805837450208387/new_test_pred_last\n",
                  "Saving the scores in best_results/dropout_02/tf_efficientnet_b5_fold-1_lrinit-0.0001_batchsize-8_optimizer-AdamW_maxepochs-50_DA-None_PPen-None_PPha-None_PPco-None_PPde-None_PPno-True_PPcr-None_PPre-True_drop-0.2_trainjustclassifier-False_16806004742257001/new_test_pred_best\n",
                  "Saving the scores in best_results/dropout_02/tf_efficientnet_b5_fold-1_lrinit-0.0001_batchsize-8_optimizer-AdamW_maxepochs-50_DA-None_PPen-None_PPha-None_PPco-None_PPde-None_PPno-True_PPcr-None_PPre-True_drop-0.2_trainjustclassifier-False_16806004742257001/new_test_pred_last\n",
                  "Saving the scores in best_results/dropout_02/efficientnet_b0_fold-1_lrinit-0.001_batchsize-8_optimizer-AdamW_maxepochs-50_DA-None_PPen-None_PPha-None_PPco-None_PPde-None_PPno-True_PPcr-None_PPre-True_drop-0.2_trainjustclassifier-False_1680574696795116/new_test_pred_best\n",
                  "Saving the scores in best_results/dropout_02/efficientnet_b0_fold-1_lrinit-0.001_batchsize-8_optimizer-AdamW_maxepochs-50_DA-None_PPen-None_PPha-None_PPco-None_PPde-None_PPno-True_PPcr-None_PPre-True_drop-0.2_trainjustclassifier-False_1680574696795116/new_test_pred_last\n",
                  "Saving the scores in best_results/dropout_02/resnest101e_fold-1_lrinit-0.0001_batchsize-8_optimizer-AdamW_maxepochs-50_DA-None_PPen-None_PPha-None_PPco-None_PPde-None_PPno-True_PPcr-None_PPre-True_drop-0.2_trainjustclassifier-False_16805819404616597/new_test_pred_best\n",
                  "Saving the scores in best_results/dropout_02/resnest101e_fold-1_lrinit-0.0001_batchsize-8_optimizer-AdamW_maxepochs-50_DA-None_PPen-None_PPha-None_PPco-None_PPde-None_PPno-True_PPcr-None_PPre-True_drop-0.2_trainjustclassifier-False_16805819404616597/new_test_pred_last\n",
                  "Saving the scores in best_results/dropout_02/efficientnet_b3_fold-1_lrinit-0.001_batchsize-32_optimizer-Adam_maxepochs-50_DA-None_PPen-None_PPha-None_PPco-None_PPde-None_PPno-True_PPcr-None_PPre-True_drop-0.2_trainjustclassifier-False_16805786293697915/new_test_pred_best\n",
                  "Saving the scores in best_results/dropout_02/efficientnet_b3_fold-1_lrinit-0.001_batchsize-32_optimizer-Adam_maxepochs-50_DA-None_PPen-None_PPha-None_PPco-None_PPde-None_PPno-True_PPcr-None_PPre-True_drop-0.2_trainjustclassifier-False_16805786293697915/new_test_pred_last\n",
                  "Saving the scores in best_results/dropout_02/densenet121_fold-1_lrinit-0.0001_batchsize-32_optimizer-Adam_maxepochs-50_DA-None_PPen-None_PPha-None_PPco-None_PPde-None_PPno-True_PPcr-None_PPre-True_drop-0.2_trainjustclassifier-False_16805736291263754/new_test_pred_best\n",
                  "Saving the scores in best_results/dropout_02/densenet121_fold-1_lrinit-0.0001_batchsize-32_optimizer-Adam_maxepochs-50_DA-None_PPen-None_PPha-None_PPco-None_PPde-None_PPno-True_PPcr-None_PPre-True_drop-0.2_trainjustclassifier-False_16805736291263754/new_test_pred_last\n",
                  "Saving the scores in best_results/dropout_02/efficientnet_b2_fold-1_lrinit-0.001_batchsize-8_optimizer-Adam_maxepochs-50_DA-None_PPen-None_PPha-None_PPco-None_PPde-None_PPno-True_PPcr-None_PPre-True_drop-0.2_trainjustclassifier-False_1680577648545643/new_test_pred_best\n",
                  "Saving the scores in best_results/dropout_02/efficientnet_b2_fold-1_lrinit-0.001_batchsize-8_optimizer-Adam_maxepochs-50_DA-None_PPen-None_PPha-None_PPco-None_PPde-None_PPno-True_PPcr-None_PPre-True_drop-0.2_trainjustclassifier-False_1680577648545643/new_test_pred_last\n",
                  "Erro no experimento  dropout_02\n",
                  "[Errno 2] No such file or directory: 'best_results/dropout_02/tf_efficientnet_b5_fold-1_lrinit-0.0001_batchsize-8_optimizer-AdamW_maxepochs-50_DA-None_PPen-None_PPha-None_PPco-None_PPde-None_PPno-True_PPcr-None_PPre-True_drop-0.2_trainjustclassifier-False_16805668596310365/test_pred_best/predictions.csv'\n",
                  "Experimento:  DA2_cropped_images_folder_moredata\n",
                  "Saving the scores in best_results/DA2_cropped_images_folder_moredata/resnext101_32x8d_fold-1_lrinit-0.0001_batchsize-8_optimizer-SGD_maxepochs-150_DA-2_PPen-None_PPha-None_PPco-None_PPde-None_PPno-True_PPcr-cropped_images_folder_PPre-True_drop-0.0_trainjustclassifier-False_1682123138241818/new_test_pred_best\n",
                  "Saving the scores in best_results/DA2_cropped_images_folder_moredata/resnext101_32x8d_fold-1_lrinit-0.0001_batchsize-8_optimizer-SGD_maxepochs-150_DA-2_PPen-None_PPha-None_PPco-None_PPde-None_PPno-True_PPcr-cropped_images_folder_PPre-True_drop-0.0_trainjustclassifier-False_1682123138241818/new_test_pred_last\n",
                  "Saving the scores in best_results/DA2_cropped_images_folder_moredata/resnest101e_fold-1_lrinit-0.0001_batchsize-8_optimizer-AdamW_maxepochs-150_DA-2_PPen-None_PPha-None_PPco-None_PPde-None_PPno-True_PPcr-cropped_images_folder_PPre-True_drop-0.0_trainjustclassifier-False_16821121380953696/new_test_pred_best\n",
                  "Saving the scores in best_results/DA2_cropped_images_folder_moredata/resnest101e_fold-1_lrinit-0.0001_batchsize-8_optimizer-AdamW_maxepochs-150_DA-2_PPen-None_PPha-None_PPco-None_PPde-None_PPno-True_PPcr-cropped_images_folder_PPre-True_drop-0.0_trainjustclassifier-False_16821121380953696/new_test_pred_last\n",
                  "Saving the scores in best_results/DA2_cropped_images_folder_moredata/efficientnet_b1_fold-1_lrinit-0.0001_batchsize-8_optimizer-AdamW_maxepochs-150_DA-2_PPen-None_PPha-None_PPco-None_PPde-None_PPno-True_PPcr-cropped_images_folder_PPre-True_drop-0.0_trainjustclassifier-False_16820987809875948/new_test_pred_best\n",
                  "Saving the scores in best_results/DA2_cropped_images_folder_moredata/efficientnet_b1_fold-1_lrinit-0.0001_batchsize-8_optimizer-AdamW_maxepochs-150_DA-2_PPen-None_PPha-None_PPco-None_PPde-None_PPno-True_PPcr-cropped_images_folder_PPre-True_drop-0.0_trainjustclassifier-False_16820987809875948/new_test_pred_last\n",
                  "Saving the scores in best_results/DA2_cropped_images_folder_moredata/vgg19_fold-1_lrinit-0.0001_batchsize-8_optimizer-SGD_maxepochs-150_DA-2_PPen-None_PPha-None_PPco-None_PPde-None_PPno-True_PPcr-cropped_images_folder_PPre-True_drop-0.0_trainjustclassifier-False_168212077432753/new_test_pred_best\n",
                  "Saving the scores in best_results/DA2_cropped_images_folder_moredata/vgg19_fold-1_lrinit-0.0001_batchsize-8_optimizer-SGD_maxepochs-150_DA-2_PPen-None_PPha-None_PPco-None_PPde-None_PPno-True_PPcr-cropped_images_folder_PPre-True_drop-0.0_trainjustclassifier-False_168212077432753/new_test_pred_last\n",
                  "Saving the scores in best_results/DA2_cropped_images_folder_moredata/efficientnet_b4_fold-1_lrinit-0.0001_batchsize-16_optimizer-AdamW_maxepochs-150_DA-2_PPen-None_PPha-None_PPco-None_PPde-None_PPno-True_PPcr-cropped_images_folder_PPre-True_drop-0.0_trainjustclassifier-False_1682109770536678/new_test_pred_best\n",
                  "Saving the scores in best_results/DA2_cropped_images_folder_moredata/efficientnet_b4_fold-1_lrinit-0.0001_batchsize-16_optimizer-AdamW_maxepochs-150_DA-2_PPen-None_PPha-None_PPco-None_PPde-None_PPno-True_PPcr-cropped_images_folder_PPre-True_drop-0.0_trainjustclassifier-False_1682109770536678/new_test_pred_last\n",
                  "Saving the scores in best_results/DA2_cropped_images_folder_moredata/efficientnet_b0_fold-1_lrinit-0.0001_batchsize-8_optimizer-AdamW_maxepochs-150_DA-2_PPen-None_PPha-None_PPco-None_PPde-None_PPno-True_PPcr-cropped_images_folder_PPre-True_drop-0.0_trainjustclassifier-False_16820957585219686/new_test_pred_best\n",
                  "Saving the scores in best_results/DA2_cropped_images_folder_moredata/efficientnet_b0_fold-1_lrinit-0.0001_batchsize-8_optimizer-AdamW_maxepochs-150_DA-2_PPen-None_PPha-None_PPco-None_PPde-None_PPno-True_PPcr-cropped_images_folder_PPre-True_drop-0.0_trainjustclassifier-False_16820957585219686/new_test_pred_last\n",
                  "Saving the scores in best_results/DA2_cropped_images_folder_moredata/seresnext101_32x8d_fold-1_lrinit-0.0001_batchsize-16_optimizer-Adam_maxepochs-150_DA-2_PPen-None_PPha-None_PPco-None_PPde-None_PPno-True_PPcr-cropped_images_folder_PPre-True_drop-0.0_trainjustclassifier-False_16821174707461426/new_test_pred_best\n",
                  "Saving the scores in best_results/DA2_cropped_images_folder_moredata/seresnext101_32x8d_fold-1_lrinit-0.0001_batchsize-16_optimizer-Adam_maxepochs-150_DA-2_PPen-None_PPha-None_PPco-None_PPde-None_PPno-True_PPcr-cropped_images_folder_PPre-True_drop-0.0_trainjustclassifier-False_16821174707461426/new_test_pred_last\n",
                  "Saving the scores in best_results/DA2_cropped_images_folder_moredata/tf_efficientnet_b5_fold-1_lrinit-0.0001_batchsize-8_optimizer-AdamW_maxepochs-150_DA-2_PPen-None_PPha-None_PPco-None_PPde-None_PPno-True_PPcr-cropped_images_folder_PPre-True_drop-0.0_trainjustclassifier-False_16820536574049318/new_test_pred_best\n",
                  "Saving the scores in best_results/DA2_cropped_images_folder_moredata/tf_efficientnet_b5_fold-1_lrinit-0.0001_batchsize-8_optimizer-AdamW_maxepochs-150_DA-2_PPen-None_PPha-None_PPco-None_PPde-None_PPno-True_PPcr-cropped_images_folder_PPre-True_drop-0.0_trainjustclassifier-False_16820536574049318/new_test_pred_last\n",
                  "Saving the scores in best_results/DA2_cropped_images_folder_moredata/tf_efficientnet_b6_fold-1_lrinit-0.0001_batchsize-4_optimizer-AdamW_maxepochs-150_DA-2_PPen-None_PPha-None_PPco-None_PPde-None_PPno-True_PPcr-cropped_images_folder_PPre-True_drop-0.0_trainjustclassifier-False_16820633300837123/new_test_pred_best\n",
                  "Saving the scores in best_results/DA2_cropped_images_folder_moredata/tf_efficientnet_b6_fold-1_lrinit-0.0001_batchsize-4_optimizer-AdamW_maxepochs-150_DA-2_PPen-None_PPha-None_PPco-None_PPde-None_PPno-True_PPcr-cropped_images_folder_PPre-True_drop-0.0_trainjustclassifier-False_16820633300837123/new_test_pred_last\n",
                  "Saving the scores in best_results/DA2_cropped_images_folder_moredata/densenet121_fold-1_lrinit-0.0001_batchsize-32_optimizer-Adam_maxepochs-150_DA-2_PPen-None_PPha-None_PPco-None_PPde-None_PPno-True_PPcr-cropped_images_folder_PPre-True_drop-0.0_trainjustclassifier-False_1682092858007831/new_test_pred_best\n",
                  "Saving the scores in best_results/DA2_cropped_images_folder_moredata/densenet121_fold-1_lrinit-0.0001_batchsize-32_optimizer-Adam_maxepochs-150_DA-2_PPen-None_PPha-None_PPco-None_PPde-None_PPno-True_PPcr-cropped_images_folder_PPre-True_drop-0.0_trainjustclassifier-False_1682092858007831/new_test_pred_last\n",
                  "Saving the scores in best_results/DA2_cropped_images_folder_moredata/pnasnet5large_fold-1_lrinit-0.0001_batchsize-8_optimizer-Adam_maxepochs-150_DA-2_PPen-None_PPha-None_PPco-None_PPde-None_PPno-True_PPcr-cropped_images_folder_PPre-True_drop-0.0_trainjustclassifier-False_16821263830763178/new_test_pred_best\n",
                  "Saving the scores in best_results/DA2_cropped_images_folder_moredata/pnasnet5large_fold-1_lrinit-0.0001_batchsize-8_optimizer-Adam_maxepochs-150_DA-2_PPen-None_PPha-None_PPco-None_PPde-None_PPno-True_PPcr-cropped_images_folder_PPre-True_drop-0.0_trainjustclassifier-False_16821263830763178/new_test_pred_last\n",
                  "Saving the scores in best_results/DA2_cropped_images_folder_moredata/efficientnet_b3_fold-1_lrinit-0.0001_batchsize-32_optimizer-Adam_maxepochs-150_DA-2_PPen-None_PPha-None_PPco-None_PPde-None_PPno-True_PPcr-cropped_images_folder_PPre-True_drop-0.0_trainjustclassifier-False_16821068436546268/new_test_pred_best\n",
                  "Saving the scores in best_results/DA2_cropped_images_folder_moredata/efficientnet_b3_fold-1_lrinit-0.0001_batchsize-32_optimizer-Adam_maxepochs-150_DA-2_PPen-None_PPha-None_PPco-None_PPde-None_PPno-True_PPcr-cropped_images_folder_PPre-True_drop-0.0_trainjustclassifier-False_16821068436546268/new_test_pred_last\n",
                  "Saving the scores in best_results/DA2_cropped_images_folder_moredata/efficientnet_b2_fold-1_lrinit-0.0001_batchsize-8_optimizer-Adam_maxepochs-150_DA-2_PPen-None_PPha-None_PPco-None_PPde-None_PPno-True_PPcr-cropped_images_folder_PPre-True_drop-0.0_trainjustclassifier-False_16821027277812304/new_test_pred_best\n",
                  "Saving the scores in best_results/DA2_cropped_images_folder_moredata/efficientnet_b2_fold-1_lrinit-0.0001_batchsize-8_optimizer-Adam_maxepochs-150_DA-2_PPen-None_PPha-None_PPco-None_PPde-None_PPno-True_PPcr-cropped_images_folder_PPre-True_drop-0.0_trainjustclassifier-False_16821027277812304/new_test_pred_last\n",
                  "Experimento:  noDA_dull_razor_shades_of_gray_cropped_images_folder_moredata\n",
                  "Saving the scores in best_results/noDA_dull_razor_shades_of_gray_cropped_images_folder_moredata/efficientnet_b0_fold-1_lrinit-0.0001_batchsize-8_optimizer-AdamW_maxepochs-150_DA-None_PPen-None_PPha-dull_razor_PPco-shades_of_gray_PPde-None_PPno-True_PPcr-cropped_images_folder_PPre-True_drop-0.0_trainjustclassifier-False_1681798247760629/new_test_pred_best\n",
                  "Saving the scores in best_results/noDA_dull_razor_shades_of_gray_cropped_images_folder_moredata/efficientnet_b0_fold-1_lrinit-0.0001_batchsize-8_optimizer-AdamW_maxepochs-150_DA-None_PPen-None_PPha-dull_razor_PPco-shades_of_gray_PPde-None_PPno-True_PPcr-cropped_images_folder_PPre-True_drop-0.0_trainjustclassifier-False_1681798247760629/new_test_pred_last\n",
                  "Saving the scores in best_results/noDA_dull_razor_shades_of_gray_cropped_images_folder_moredata/resnest101e_fold-1_lrinit-0.0001_batchsize-8_optimizer-AdamW_maxepochs-150_DA-None_PPen-None_PPha-dull_razor_PPco-shades_of_gray_PPde-None_PPno-True_PPcr-cropped_images_folder_PPre-True_drop-0.0_trainjustclassifier-False_16818131954433057/new_test_pred_best\n",
                  "Saving the scores in best_results/noDA_dull_razor_shades_of_gray_cropped_images_folder_moredata/resnest101e_fold-1_lrinit-0.0001_batchsize-8_optimizer-AdamW_maxepochs-150_DA-None_PPen-None_PPha-dull_razor_PPco-shades_of_gray_PPde-None_PPno-True_PPcr-cropped_images_folder_PPre-True_drop-0.0_trainjustclassifier-False_16818131954433057/new_test_pred_last\n",
                  "Saving the scores in best_results/noDA_dull_razor_shades_of_gray_cropped_images_folder_moredata/seresnext101_32x8d_fold-1_lrinit-0.0001_batchsize-16_optimizer-Adam_maxepochs-150_DA-None_PPen-None_PPha-dull_razor_PPco-shades_of_gray_PPde-None_PPno-True_PPcr-cropped_images_folder_PPre-True_drop-0.0_trainjustclassifier-False_1681946415573531/new_test_pred_best\n",
                  "Saving the scores in best_results/noDA_dull_razor_shades_of_gray_cropped_images_folder_moredata/seresnext101_32x8d_fold-1_lrinit-0.0001_batchsize-16_optimizer-Adam_maxepochs-150_DA-None_PPen-None_PPha-dull_razor_PPco-shades_of_gray_PPde-None_PPno-True_PPcr-cropped_images_folder_PPre-True_drop-0.0_trainjustclassifier-False_1681946415573531/new_test_pred_last\n",
                  "Saving the scores in best_results/noDA_dull_razor_shades_of_gray_cropped_images_folder_moredata/tf_efficientnet_b6_fold-1_lrinit-0.0001_batchsize-4_optimizer-AdamW_maxepochs-150_DA-None_PPen-None_PPha-dull_razor_PPco-shades_of_gray_PPde-None_PPno-True_PPcr-cropped_images_folder_PPre-True_drop-0.0_trainjustclassifier-False_1681783419558165/new_test_pred_best\n",
                  "Saving the scores in best_results/noDA_dull_razor_shades_of_gray_cropped_images_folder_moredata/tf_efficientnet_b6_fold-1_lrinit-0.0001_batchsize-4_optimizer-AdamW_maxepochs-150_DA-None_PPen-None_PPha-dull_razor_PPco-shades_of_gray_PPde-None_PPno-True_PPcr-cropped_images_folder_PPre-True_drop-0.0_trainjustclassifier-False_1681783419558165/new_test_pred_last\n",
                  "Saving the scores in best_results/noDA_dull_razor_shades_of_gray_cropped_images_folder_moredata/resnext101_32x8d_fold-1_lrinit-0.0001_batchsize-8_optimizer-SGD_maxepochs-150_DA-None_PPen-None_PPha-dull_razor_PPco-shades_of_gray_PPde-None_PPno-True_PPcr-cropped_images_folder_PPre-True_drop-0.0_trainjustclassifier-False_16818284853295627/new_test_pred_best\n",
                  "Saving the scores in best_results/noDA_dull_razor_shades_of_gray_cropped_images_folder_moredata/resnext101_32x8d_fold-1_lrinit-0.0001_batchsize-8_optimizer-SGD_maxepochs-150_DA-None_PPen-None_PPha-dull_razor_PPco-shades_of_gray_PPde-None_PPno-True_PPcr-cropped_images_folder_PPre-True_drop-0.0_trainjustclassifier-False_16818284853295627/new_test_pred_last\n",
                  "Saving the scores in best_results/noDA_dull_razor_shades_of_gray_cropped_images_folder_moredata/tf_efficientnet_b5_fold-1_lrinit-0.0001_batchsize-8_optimizer-AdamW_maxepochs-150_DA-None_PPen-None_PPha-dull_razor_PPco-shades_of_gray_PPde-None_PPno-True_PPcr-cropped_images_folder_PPre-True_drop-0.0_trainjustclassifier-False_16817720774233873/new_test_pred_best\n",
                  "Saving the scores in best_results/noDA_dull_razor_shades_of_gray_cropped_images_folder_moredata/tf_efficientnet_b5_fold-1_lrinit-0.0001_batchsize-8_optimizer-AdamW_maxepochs-150_DA-None_PPen-None_PPha-dull_razor_PPco-shades_of_gray_PPde-None_PPno-True_PPcr-cropped_images_folder_PPre-True_drop-0.0_trainjustclassifier-False_16817720774233873/new_test_pred_last\n",
                  "Saving the scores in best_results/noDA_dull_razor_shades_of_gray_cropped_images_folder_moredata/efficientnet_b3_fold-1_lrinit-0.0001_batchsize-32_optimizer-Adam_maxepochs-150_DA-None_PPen-None_PPha-dull_razor_PPco-shades_of_gray_PPde-None_PPno-True_PPcr-cropped_images_folder_PPre-True_drop-0.0_trainjustclassifier-False_16818061098870232/new_test_pred_best\n",
                  "Saving the scores in best_results/noDA_dull_razor_shades_of_gray_cropped_images_folder_moredata/efficientnet_b3_fold-1_lrinit-0.0001_batchsize-32_optimizer-Adam_maxepochs-150_DA-None_PPen-None_PPha-dull_razor_PPco-shades_of_gray_PPde-None_PPno-True_PPcr-cropped_images_folder_PPre-True_drop-0.0_trainjustclassifier-False_16818061098870232/new_test_pred_last\n",
                  "Saving the scores in best_results/noDA_dull_razor_shades_of_gray_cropped_images_folder_moredata/pnasnet5large_fold-1_lrinit-0.0001_batchsize-8_optimizer-Adam_maxepochs-150_DA-None_PPen-None_PPha-dull_razor_PPco-shades_of_gray_PPde-None_PPno-True_PPcr-cropped_images_folder_PPre-True_drop-0.0_trainjustclassifier-False_1681833770789291/new_test_pred_best\n",
                  "Saving the scores in best_results/noDA_dull_razor_shades_of_gray_cropped_images_folder_moredata/pnasnet5large_fold-1_lrinit-0.0001_batchsize-8_optimizer-Adam_maxepochs-150_DA-None_PPen-None_PPha-dull_razor_PPco-shades_of_gray_PPde-None_PPno-True_PPcr-cropped_images_folder_PPre-True_drop-0.0_trainjustclassifier-False_1681833770789291/new_test_pred_last\n",
                  "Saving the scores in best_results/noDA_dull_razor_shades_of_gray_cropped_images_folder_moredata/efficientnet_b4_fold-1_lrinit-0.0001_batchsize-16_optimizer-AdamW_maxepochs-150_DA-None_PPen-None_PPha-dull_razor_PPco-shades_of_gray_PPde-None_PPno-True_PPcr-cropped_images_folder_PPre-True_drop-0.0_trainjustclassifier-False_1681808521683312/new_test_pred_best\n",
                  "Saving the scores in best_results/noDA_dull_razor_shades_of_gray_cropped_images_folder_moredata/efficientnet_b4_fold-1_lrinit-0.0001_batchsize-16_optimizer-AdamW_maxepochs-150_DA-None_PPen-None_PPha-dull_razor_PPco-shades_of_gray_PPde-None_PPno-True_PPcr-cropped_images_folder_PPre-True_drop-0.0_trainjustclassifier-False_1681808521683312/new_test_pred_last\n",
                  "Saving the scores in best_results/noDA_dull_razor_shades_of_gray_cropped_images_folder_moredata/vgg19_fold-1_lrinit-0.0001_batchsize-8_optimizer-SGD_maxepochs-150_DA-None_PPen-None_PPha-dull_razor_PPco-shades_of_gray_PPde-None_PPno-True_PPcr-cropped_images_folder_PPre-True_drop-0.0_trainjustclassifier-False_16818258599427037/new_test_pred_best\n",
                  "Saving the scores in best_results/noDA_dull_razor_shades_of_gray_cropped_images_folder_moredata/vgg19_fold-1_lrinit-0.0001_batchsize-8_optimizer-SGD_maxepochs-150_DA-None_PPen-None_PPha-dull_razor_PPco-shades_of_gray_PPde-None_PPno-True_PPcr-cropped_images_folder_PPre-True_drop-0.0_trainjustclassifier-False_16818258599427037/new_test_pred_last\n",
                  "Saving the scores in best_results/noDA_dull_razor_shades_of_gray_cropped_images_folder_moredata/efficientnet_b2_fold-1_lrinit-0.0001_batchsize-8_optimizer-Adam_maxepochs-150_DA-None_PPen-None_PPha-dull_razor_PPco-shades_of_gray_PPde-None_PPno-True_PPcr-cropped_images_folder_PPre-True_drop-0.0_trainjustclassifier-False_16818034072321181/new_test_pred_best\n",
                  "Saving the scores in best_results/noDA_dull_razor_shades_of_gray_cropped_images_folder_moredata/efficientnet_b2_fold-1_lrinit-0.0001_batchsize-8_optimizer-Adam_maxepochs-150_DA-None_PPen-None_PPha-dull_razor_PPco-shades_of_gray_PPde-None_PPno-True_PPcr-cropped_images_folder_PPre-True_drop-0.0_trainjustclassifier-False_16818034072321181/new_test_pred_last\n",
                  "Saving the scores in best_results/noDA_dull_razor_shades_of_gray_cropped_images_folder_moredata/densenet121_fold-1_lrinit-0.0001_batchsize-32_optimizer-Adam_maxepochs-150_DA-None_PPen-None_PPha-dull_razor_PPco-shades_of_gray_PPde-None_PPno-True_PPcr-cropped_images_folder_PPre-True_drop-0.0_trainjustclassifier-False_168179577746133/new_test_pred_best\n",
                  "Saving the scores in best_results/noDA_dull_razor_shades_of_gray_cropped_images_folder_moredata/densenet121_fold-1_lrinit-0.0001_batchsize-32_optimizer-Adam_maxepochs-150_DA-None_PPen-None_PPha-dull_razor_PPco-shades_of_gray_PPde-None_PPno-True_PPcr-cropped_images_folder_PPre-True_drop-0.0_trainjustclassifier-False_168179577746133/new_test_pred_last\n",
                  "Saving the scores in best_results/noDA_dull_razor_shades_of_gray_cropped_images_folder_moredata/efficientnet_b1_fold-1_lrinit-0.0001_batchsize-8_optimizer-AdamW_maxepochs-150_DA-None_PPen-None_PPha-dull_razor_PPco-shades_of_gray_PPde-None_PPno-True_PPcr-cropped_images_folder_PPre-True_drop-0.0_trainjustclassifier-False_16818001032660234/new_test_pred_best\n",
                  "Saving the scores in best_results/noDA_dull_razor_shades_of_gray_cropped_images_folder_moredata/efficientnet_b1_fold-1_lrinit-0.0001_batchsize-8_optimizer-AdamW_maxepochs-150_DA-None_PPen-None_PPha-dull_razor_PPco-shades_of_gray_PPde-None_PPno-True_PPcr-cropped_images_folder_PPre-True_drop-0.0_trainjustclassifier-False_16818001032660234/new_test_pred_last\n",
                  "Experimento:  DA2_shades_of_gray_cropped_images_folder_150_epochs\n",
                  "Saving the scores in best_results/DA2_shades_of_gray_cropped_images_folder_150_epochs/efficientnet_b0_fold-1_lrinit-0.0001_batchsize-8_optimizer-AdamW_maxepochs-150_DA-2_PPen-None_PPha-None_PPco-shades_of_gray_PPde-None_PPno-True_PPcr-cropped_images_folder_PPre-True_drop-0.0_trainjustclassifier-False_16810835282134068/new_test_pred_best\n",
                  "Saving the scores in best_results/DA2_shades_of_gray_cropped_images_folder_150_epochs/efficientnet_b0_fold-1_lrinit-0.0001_batchsize-8_optimizer-AdamW_maxepochs-150_DA-2_PPen-None_PPha-None_PPco-shades_of_gray_PPde-None_PPno-True_PPcr-cropped_images_folder_PPre-True_drop-0.0_trainjustclassifier-False_16810835282134068/new_test_pred_last\n",
                  "Saving the scores in best_results/DA2_shades_of_gray_cropped_images_folder_150_epochs/tf_efficientnet_b6_fold-1_lrinit-0.0001_batchsize-4_optimizer-AdamW_maxepochs-150_DA-2_PPen-None_PPha-None_PPco-shades_of_gray_PPde-None_PPno-True_PPcr-cropped_images_folder_PPre-True_drop-0.0_trainjustclassifier-False_16810612435122592/new_test_pred_best\n",
                  "Saving the scores in best_results/DA2_shades_of_gray_cropped_images_folder_150_epochs/tf_efficientnet_b6_fold-1_lrinit-0.0001_batchsize-4_optimizer-AdamW_maxepochs-150_DA-2_PPen-None_PPha-None_PPco-shades_of_gray_PPde-None_PPno-True_PPcr-cropped_images_folder_PPre-True_drop-0.0_trainjustclassifier-False_16810612435122592/new_test_pred_last\n",
                  "Saving the scores in best_results/DA2_shades_of_gray_cropped_images_folder_150_epochs/pnasnet5large_fold-1_lrinit-0.0001_batchsize-8_optimizer-Adam_maxepochs-150_DA-2_PPen-None_PPha-None_PPco-shades_of_gray_PPde-None_PPno-True_PPcr-cropped_images_folder_PPre-True_drop-0.0_trainjustclassifier-False_16811246693160925/new_test_pred_best\n",
                  "Saving the scores in best_results/DA2_shades_of_gray_cropped_images_folder_150_epochs/pnasnet5large_fold-1_lrinit-0.0001_batchsize-8_optimizer-Adam_maxepochs-150_DA-2_PPen-None_PPha-None_PPco-shades_of_gray_PPde-None_PPno-True_PPcr-cropped_images_folder_PPre-True_drop-0.0_trainjustclassifier-False_16811246693160925/new_test_pred_last\n",
                  "Saving the scores in best_results/DA2_shades_of_gray_cropped_images_folder_150_epochs/seresnext101_32x8d_fold-1_lrinit-0.0001_batchsize-16_optimizer-Adam_maxepochs-150_DA-2_PPen-None_PPha-None_PPco-shades_of_gray_PPde-None_PPno-True_PPcr-cropped_images_folder_PPre-True_drop-0.0_trainjustclassifier-False_16811113775334249/new_test_pred_best\n",
                  "Saving the scores in best_results/DA2_shades_of_gray_cropped_images_folder_150_epochs/seresnext101_32x8d_fold-1_lrinit-0.0001_batchsize-16_optimizer-Adam_maxepochs-150_DA-2_PPen-None_PPha-None_PPco-shades_of_gray_PPde-None_PPno-True_PPcr-cropped_images_folder_PPre-True_drop-0.0_trainjustclassifier-False_16811113775334249/new_test_pred_last\n",
                  "Saving the scores in best_results/DA2_shades_of_gray_cropped_images_folder_150_epochs/vgg19_fold-1_lrinit-0.0001_batchsize-8_optimizer-SGD_maxepochs-150_DA-2_PPen-None_PPha-None_PPco-shades_of_gray_PPde-None_PPno-True_PPcr-cropped_images_folder_PPre-True_drop-0.0_trainjustclassifier-False_16811160182675586/new_test_pred_best\n",
                  "Saving the scores in best_results/DA2_shades_of_gray_cropped_images_folder_150_epochs/vgg19_fold-1_lrinit-0.0001_batchsize-8_optimizer-SGD_maxepochs-150_DA-2_PPen-None_PPha-None_PPco-shades_of_gray_PPde-None_PPno-True_PPcr-cropped_images_folder_PPre-True_drop-0.0_trainjustclassifier-False_16811160182675586/new_test_pred_last\n",
                  "Saving the scores in best_results/DA2_shades_of_gray_cropped_images_folder_150_epochs/efficientnet_b2_fold-1_lrinit-0.0001_batchsize-8_optimizer-Adam_maxepochs-150_DA-2_PPen-None_PPha-None_PPco-shades_of_gray_PPde-None_PPno-True_PPcr-cropped_images_folder_PPre-True_drop-0.0_trainjustclassifier-False_1681092789205549/new_test_pred_best\n",
                  "Saving the scores in best_results/DA2_shades_of_gray_cropped_images_folder_150_epochs/efficientnet_b2_fold-1_lrinit-0.0001_batchsize-8_optimizer-Adam_maxepochs-150_DA-2_PPen-None_PPha-None_PPco-shades_of_gray_PPde-None_PPno-True_PPcr-cropped_images_folder_PPre-True_drop-0.0_trainjustclassifier-False_1681092789205549/new_test_pred_last\n",
                  "Saving the scores in best_results/DA2_shades_of_gray_cropped_images_folder_150_epochs/resnest101e_fold-1_lrinit-0.0001_batchsize-8_optimizer-AdamW_maxepochs-150_DA-2_PPen-None_PPha-None_PPco-shades_of_gray_PPde-None_PPno-True_PPcr-cropped_images_folder_PPre-True_drop-0.0_trainjustclassifier-False_16811057470929863/new_test_pred_best\n",
                  "Saving the scores in best_results/DA2_shades_of_gray_cropped_images_folder_150_epochs/resnest101e_fold-1_lrinit-0.0001_batchsize-8_optimizer-AdamW_maxepochs-150_DA-2_PPen-None_PPha-None_PPco-shades_of_gray_PPde-None_PPno-True_PPcr-cropped_images_folder_PPre-True_drop-0.0_trainjustclassifier-False_16811057470929863/new_test_pred_last\n",
                  "Saving the scores in best_results/DA2_shades_of_gray_cropped_images_folder_150_epochs/efficientnet_b3_fold-1_lrinit-0.0001_batchsize-32_optimizer-Adam_maxepochs-150_DA-2_PPen-None_PPha-None_PPco-shades_of_gray_PPde-None_PPno-True_PPcr-cropped_images_folder_PPre-True_drop-0.0_trainjustclassifier-False_16810970091456094/new_test_pred_best\n",
                  "Saving the scores in best_results/DA2_shades_of_gray_cropped_images_folder_150_epochs/efficientnet_b3_fold-1_lrinit-0.0001_batchsize-32_optimizer-Adam_maxepochs-150_DA-2_PPen-None_PPha-None_PPco-shades_of_gray_PPde-None_PPno-True_PPcr-cropped_images_folder_PPre-True_drop-0.0_trainjustclassifier-False_16810970091456094/new_test_pred_last\n",
                  "Saving the scores in best_results/DA2_shades_of_gray_cropped_images_folder_150_epochs/densenet121_fold-1_lrinit-0.0001_batchsize-32_optimizer-Adam_maxepochs-150_DA-2_PPen-None_PPha-None_PPco-shades_of_gray_PPde-None_PPno-True_PPcr-cropped_images_folder_PPre-True_drop-0.0_trainjustclassifier-False_1681078943104982/new_test_pred_best\n",
                  "Saving the scores in best_results/DA2_shades_of_gray_cropped_images_folder_150_epochs/densenet121_fold-1_lrinit-0.0001_batchsize-32_optimizer-Adam_maxepochs-150_DA-2_PPen-None_PPha-None_PPco-shades_of_gray_PPde-None_PPno-True_PPcr-cropped_images_folder_PPre-True_drop-0.0_trainjustclassifier-False_1681078943104982/new_test_pred_last\n",
                  "Saving the scores in best_results/DA2_shades_of_gray_cropped_images_folder_150_epochs/efficientnet_b4_fold-1_lrinit-0.0001_batchsize-16_optimizer-AdamW_maxepochs-150_DA-2_PPen-None_PPha-None_PPco-shades_of_gray_PPde-None_PPno-True_PPcr-cropped_images_folder_PPre-True_drop-0.0_trainjustclassifier-False_16811012715809693/new_test_pred_best\n",
                  "Saving the scores in best_results/DA2_shades_of_gray_cropped_images_folder_150_epochs/efficientnet_b4_fold-1_lrinit-0.0001_batchsize-16_optimizer-AdamW_maxepochs-150_DA-2_PPen-None_PPha-None_PPco-shades_of_gray_PPde-None_PPno-True_PPcr-cropped_images_folder_PPre-True_drop-0.0_trainjustclassifier-False_16811012715809693/new_test_pred_last\n",
                  "Saving the scores in best_results/DA2_shades_of_gray_cropped_images_folder_150_epochs/tf_efficientnet_b5_fold-1_lrinit-0.0001_batchsize-8_optimizer-AdamW_maxepochs-150_DA-2_PPen-None_PPha-None_PPco-shades_of_gray_PPde-None_PPno-True_PPcr-cropped_images_folder_PPre-True_drop-0.0_trainjustclassifier-False_16810533781508167/new_test_pred_best\n",
                  "Saving the scores in best_results/DA2_shades_of_gray_cropped_images_folder_150_epochs/tf_efficientnet_b5_fold-1_lrinit-0.0001_batchsize-8_optimizer-AdamW_maxepochs-150_DA-2_PPen-None_PPha-None_PPco-shades_of_gray_PPde-None_PPno-True_PPcr-cropped_images_folder_PPre-True_drop-0.0_trainjustclassifier-False_16810533781508167/new_test_pred_last\n",
                  "Saving the scores in best_results/DA2_shades_of_gray_cropped_images_folder_150_epochs/efficientnet_b1_fold-1_lrinit-0.0001_batchsize-8_optimizer-AdamW_maxepochs-150_DA-2_PPen-None_PPha-None_PPco-shades_of_gray_PPde-None_PPno-True_PPcr-cropped_images_folder_PPre-True_drop-0.0_trainjustclassifier-False_16810881144943886/new_test_pred_best\n",
                  "Saving the scores in best_results/DA2_shades_of_gray_cropped_images_folder_150_epochs/efficientnet_b1_fold-1_lrinit-0.0001_batchsize-8_optimizer-AdamW_maxepochs-150_DA-2_PPen-None_PPha-None_PPco-shades_of_gray_PPde-None_PPno-True_PPcr-cropped_images_folder_PPre-True_drop-0.0_trainjustclassifier-False_16810881144943886/new_test_pred_last\n",
                  "Saving the scores in best_results/DA2_shades_of_gray_cropped_images_folder_150_epochs/resnext101_32x8d_fold-1_lrinit-0.0001_batchsize-8_optimizer-SGD_maxepochs-150_DA-2_PPen-None_PPha-None_PPco-shades_of_gray_PPde-None_PPno-True_PPcr-cropped_images_folder_PPre-True_drop-0.0_trainjustclassifier-False_16811197928991122/new_test_pred_best\n",
                  "Saving the scores in best_results/DA2_shades_of_gray_cropped_images_folder_150_epochs/resnext101_32x8d_fold-1_lrinit-0.0001_batchsize-8_optimizer-SGD_maxepochs-150_DA-2_PPen-None_PPha-None_PPco-shades_of_gray_PPde-None_PPno-True_PPcr-cropped_images_folder_PPre-True_drop-0.0_trainjustclassifier-False_16811197928991122/new_test_pred_last\n",
                  "Experimento:  non_local_means_2\n",
                  "Experimento:  gaussian_filter_cropped_images_folder\n",
                  "Experimento:  DA4_noPP\n",
                  "Saving the scores in best_results/DA4_noPP/tf_efficientnet_b5_fold-1_lrinit-0.0001_batchsize-8_optimizer-AdamW_maxepochs-50_DA-4_PPen-None_PPha-None_PPco-None_PPde-None_PPno-True_PPcr-None_PPre-True_16803738785839732/new_test_pred_best\n",
                  "Saving the scores in best_results/DA4_noPP/tf_efficientnet_b5_fold-1_lrinit-0.0001_batchsize-8_optimizer-AdamW_maxepochs-50_DA-4_PPen-None_PPha-None_PPco-None_PPde-None_PPno-True_PPcr-None_PPre-True_16803738785839732/new_test_pred_last\n",
                  "Saving the scores in best_results/DA4_noPP/efficientnet_b0_fold-1_lrinit-0.001_batchsize-8_optimizer-AdamW_maxepochs-50_DA-4_PPen-None_PPha-None_PPco-None_PPde-None_PPno-True_PPcr-None_PPre-True_1680393057374882/new_test_pred_best\n",
                  "Saving the scores in best_results/DA4_noPP/efficientnet_b0_fold-1_lrinit-0.001_batchsize-8_optimizer-AdamW_maxepochs-50_DA-4_PPen-None_PPha-None_PPco-None_PPde-None_PPno-True_PPcr-None_PPre-True_1680393057374882/new_test_pred_last\n",
                  "Saving the scores in best_results/DA4_noPP/efficientnet_b1_fold-1_lrinit-0.001_batchsize-8_optimizer-AdamW_maxepochs-50_DA-4_PPen-None_PPha-None_PPco-None_PPde-None_PPno-True_PPcr-None_PPre-True_16803942129398851/new_test_pred_best\n",
                  "Saving the scores in best_results/DA4_noPP/efficientnet_b1_fold-1_lrinit-0.001_batchsize-8_optimizer-AdamW_maxepochs-50_DA-4_PPen-None_PPha-None_PPco-None_PPde-None_PPno-True_PPcr-None_PPre-True_16803942129398851/new_test_pred_last\n",
                  "Saving the scores in best_results/DA4_noPP/resnext101_32x8d_fold-1_lrinit-0.001_batchsize-8_optimizer-SGD_maxepochs-50_DA-4_PPen-None_PPha-None_PPco-None_PPde-None_PPno-True_PPcr-None_PPre-True_16804088871874504/new_test_pred_best\n",
                  "Saving the scores in best_results/DA4_noPP/resnext101_32x8d_fold-1_lrinit-0.001_batchsize-8_optimizer-SGD_maxepochs-50_DA-4_PPen-None_PPha-None_PPco-None_PPde-None_PPno-True_PPcr-None_PPre-True_16804088871874504/new_test_pred_last\n",
                  "Saving the scores in best_results/DA4_noPP/efficientnet_b4_fold-1_lrinit-0.001_batchsize-16_optimizer-AdamW_maxepochs-50_DA-4_PPen-None_PPha-None_PPco-None_PPde-None_PPno-True_PPcr-None_PPre-True_16803990237347212/new_test_pred_best\n",
                  "Saving the scores in best_results/DA4_noPP/efficientnet_b4_fold-1_lrinit-0.001_batchsize-16_optimizer-AdamW_maxepochs-50_DA-4_PPen-None_PPha-None_PPco-None_PPde-None_PPno-True_PPcr-None_PPre-True_16803990237347212/new_test_pred_last\n",
                  "Saving the scores in best_results/DA4_noPP/densenet121_fold-1_lrinit-0.0001_batchsize-32_optimizer-Adam_maxepochs-50_DA-4_PPen-None_PPha-None_PPco-None_PPde-None_PPno-True_PPcr-None_PPre-True_16803918895098906/new_test_pred_best\n",
                  "Saving the scores in best_results/DA4_noPP/densenet121_fold-1_lrinit-0.0001_batchsize-32_optimizer-Adam_maxepochs-50_DA-4_PPen-None_PPha-None_PPco-None_PPde-None_PPno-True_PPcr-None_PPre-True_16803918895098906/new_test_pred_last\n",
                  "Saving the scores in best_results/DA4_noPP/vgg19_fold-1_lrinit-0.001_batchsize-8_optimizer-SGD_maxepochs-50_DA-4_PPen-None_PPha-None_PPco-None_PPde-None_PPno-True_PPcr-None_PPre-True_16804071014140797/new_test_pred_best\n",
                  "Saving the scores in best_results/DA4_noPP/vgg19_fold-1_lrinit-0.001_batchsize-8_optimizer-SGD_maxepochs-50_DA-4_PPen-None_PPha-None_PPco-None_PPde-None_PPno-True_PPcr-None_PPre-True_16804071014140797/new_test_pred_last\n",
                  "Saving the scores in best_results/DA4_noPP/pnasnet5large_fold-1_lrinit-0.0001_batchsize-8_optimizer-Adam_maxepochs-50_DA-4_PPen-None_PPha-None_PPco-None_PPde-None_PPno-True_PPcr-None_PPre-True_16804105734426365/new_test_pred_best\n",
                  "Saving the scores in best_results/DA4_noPP/pnasnet5large_fold-1_lrinit-0.0001_batchsize-8_optimizer-Adam_maxepochs-50_DA-4_PPen-None_PPha-None_PPco-None_PPde-None_PPno-True_PPcr-None_PPre-True_16804105734426365/new_test_pred_last\n",
                  "Saving the scores in best_results/DA4_noPP/efficientnet_b3_fold-1_lrinit-0.001_batchsize-32_optimizer-Adam_maxepochs-50_DA-4_PPen-None_PPha-None_PPco-None_PPde-None_PPno-True_PPcr-None_PPre-True_16803974761759655/new_test_pred_best\n",
                  "Saving the scores in best_results/DA4_noPP/efficientnet_b3_fold-1_lrinit-0.001_batchsize-32_optimizer-Adam_maxepochs-50_DA-4_PPen-None_PPha-None_PPco-None_PPde-None_PPno-True_PPcr-None_PPre-True_16803974761759655/new_test_pred_last\n",
                  "Saving the scores in best_results/DA4_noPP/efficientnet_b2_fold-1_lrinit-0.001_batchsize-8_optimizer-Adam_maxepochs-50_DA-4_PPen-None_PPha-None_PPco-None_PPde-None_PPno-True_PPcr-None_PPre-True_1680395869878399/new_test_pred_best\n",
                  "Saving the scores in best_results/DA4_noPP/efficientnet_b2_fold-1_lrinit-0.001_batchsize-8_optimizer-Adam_maxepochs-50_DA-4_PPen-None_PPha-None_PPco-None_PPde-None_PPno-True_PPcr-None_PPre-True_1680395869878399/new_test_pred_last\n",
                  "Saving the scores in best_results/DA4_noPP/resnest101e_fold-1_lrinit-0.0001_batchsize-8_optimizer-AdamW_maxepochs-50_DA-4_PPen-None_PPha-None_PPco-None_PPde-None_PPno-True_PPcr-None_PPre-True_16804017757731783/new_test_pred_best\n",
                  "Saving the scores in best_results/DA4_noPP/resnest101e_fold-1_lrinit-0.0001_batchsize-8_optimizer-AdamW_maxepochs-50_DA-4_PPen-None_PPha-None_PPco-None_PPde-None_PPno-True_PPcr-None_PPre-True_16804017757731783/new_test_pred_last\n",
                  "Saving the scores in best_results/DA4_noPP/tf_efficientnet_b6_fold-1_lrinit-0.0001_batchsize-4_optimizer-AdamW_maxepochs-50_DA-4_PPen-None_PPha-None_PPco-None_PPde-None_PPno-True_PPcr-None_PPre-True_16803835786457732/new_test_pred_best\n",
                  "Saving the scores in best_results/DA4_noPP/tf_efficientnet_b6_fold-1_lrinit-0.0001_batchsize-4_optimizer-AdamW_maxepochs-50_DA-4_PPen-None_PPha-None_PPco-None_PPde-None_PPno-True_PPcr-None_PPre-True_16803835786457732/new_test_pred_last\n",
                  "Saving the scores in best_results/DA4_noPP/seresnext101_32x8d_fold-1_lrinit-0.0001_batchsize-32_optimizer-Adam_maxepochs-50_DA-4_PPen-None_PPha-None_PPco-None_PPde-None_PPno-True_PPcr-None_PPre-True_16804045196626084/new_test_pred_best\n",
                  "Saving the scores in best_results/DA4_noPP/seresnext101_32x8d_fold-1_lrinit-0.0001_batchsize-32_optimizer-Adam_maxepochs-50_DA-4_PPen-None_PPha-None_PPco-None_PPde-None_PPno-True_PPcr-None_PPre-True_16804045196626084/new_test_pred_last\n",
                  "Experimento:  DA0_PP_100epochs\n",
                  "Saving the scores in best_results/DA0_PP_100epochs/efficientnet_b4_fold-1_lrinit-0.001_batchsize-16_optimizer-AdamW_maxepochs-100_DA-0_PPen-None_PPha-dull_razor_PPco-shades_of_gray_PPde-None_PPno-True_PPcr-cropped_images_folder_PPre-True_drop-0.0_trainjustclassifier-False_16808528257383082/new_test_pred_best\n",
                  "Saving the scores in best_results/DA0_PP_100epochs/efficientnet_b4_fold-1_lrinit-0.001_batchsize-16_optimizer-AdamW_maxepochs-100_DA-0_PPen-None_PPha-dull_razor_PPco-shades_of_gray_PPde-None_PPno-True_PPcr-cropped_images_folder_PPre-True_drop-0.0_trainjustclassifier-False_16808528257383082/new_test_pred_last\n",
                  "Saving the scores in best_results/DA0_PP_100epochs/efficientnet_b2_fold-1_lrinit-0.001_batchsize-8_optimizer-Adam_maxepochs-100_DA-0_PPen-None_PPha-dull_razor_PPco-shades_of_gray_PPde-None_PPno-True_PPcr-cropped_images_folder_PPre-True_drop-0.0_trainjustclassifier-False_1680843706505002/new_test_pred_best\n",
                  "Saving the scores in best_results/DA0_PP_100epochs/efficientnet_b2_fold-1_lrinit-0.001_batchsize-8_optimizer-Adam_maxepochs-100_DA-0_PPen-None_PPha-dull_razor_PPco-shades_of_gray_PPde-None_PPno-True_PPcr-cropped_images_folder_PPre-True_drop-0.0_trainjustclassifier-False_1680843706505002/new_test_pred_last\n",
                  "Saving the scores in best_results/DA0_PP_100epochs/seresnext101_32x8d_fold-1_lrinit-0.0001_batchsize-16_optimizer-Adam_maxepochs-100_DA-0_PPen-None_PPha-dull_razor_PPco-shades_of_gray_PPde-None_PPno-True_PPcr-cropped_images_folder_PPre-True_drop-0.0_trainjustclassifier-False_16808691127966328/new_test_pred_best\n",
                  "Saving the scores in best_results/DA0_PP_100epochs/seresnext101_32x8d_fold-1_lrinit-0.0001_batchsize-16_optimizer-Adam_maxepochs-100_DA-0_PPen-None_PPha-dull_razor_PPco-shades_of_gray_PPde-None_PPno-True_PPcr-cropped_images_folder_PPre-True_drop-0.0_trainjustclassifier-False_16808691127966328/new_test_pred_last\n",
                  "Saving the scores in best_results/DA0_PP_100epochs/resnext101_32x8d_fold-1_lrinit-0.001_batchsize-8_optimizer-SGD_maxepochs-100_DA-0_PPen-None_PPha-dull_razor_PPco-shades_of_gray_PPde-None_PPno-True_PPcr-cropped_images_folder_PPre-True_drop-0.0_trainjustclassifier-False_16808806333212566/new_test_pred_best\n",
                  "Saving the scores in best_results/DA0_PP_100epochs/resnext101_32x8d_fold-1_lrinit-0.001_batchsize-8_optimizer-SGD_maxepochs-100_DA-0_PPen-None_PPha-dull_razor_PPco-shades_of_gray_PPde-None_PPno-True_PPcr-cropped_images_folder_PPre-True_drop-0.0_trainjustclassifier-False_16808806333212566/new_test_pred_last\n",
                  "Saving the scores in best_results/DA0_PP_100epochs/densenet121_fold-1_lrinit-0.0001_batchsize-32_optimizer-Adam_maxepochs-100_DA-0_PPen-None_PPha-dull_razor_PPco-shades_of_gray_PPde-None_PPno-True_PPcr-cropped_images_folder_PPre-True_drop-0.0_trainjustclassifier-False_16808324492195387/new_test_pred_best\n",
                  "Saving the scores in best_results/DA0_PP_100epochs/densenet121_fold-1_lrinit-0.0001_batchsize-32_optimizer-Adam_maxepochs-100_DA-0_PPen-None_PPha-dull_razor_PPco-shades_of_gray_PPde-None_PPno-True_PPcr-cropped_images_folder_PPre-True_drop-0.0_trainjustclassifier-False_16808324492195387/new_test_pred_last\n",
                  "Saving the scores in best_results/DA0_PP_100epochs/pnasnet5large_fold-1_lrinit-0.0001_batchsize-8_optimizer-Adam_maxepochs-100_DA-0_PPen-None_PPha-dull_razor_PPco-shades_of_gray_PPde-None_PPno-True_PPcr-cropped_images_folder_PPre-True_drop-0.0_trainjustclassifier-False_16808846124078958/new_test_pred_best\n",
                  "Saving the scores in best_results/DA0_PP_100epochs/pnasnet5large_fold-1_lrinit-0.0001_batchsize-8_optimizer-Adam_maxepochs-100_DA-0_PPen-None_PPha-dull_razor_PPco-shades_of_gray_PPde-None_PPno-True_PPcr-cropped_images_folder_PPre-True_drop-0.0_trainjustclassifier-False_16808846124078958/new_test_pred_last\n",
                  "Saving the scores in best_results/DA0_PP_100epochs/vgg19_fold-1_lrinit-0.001_batchsize-8_optimizer-SGD_maxepochs-100_DA-0_PPen-None_PPha-dull_razor_PPco-shades_of_gray_PPde-None_PPno-True_PPcr-cropped_images_folder_PPre-True_drop-0.0_trainjustclassifier-False_16808758598164635/new_test_pred_best\n",
                  "Saving the scores in best_results/DA0_PP_100epochs/vgg19_fold-1_lrinit-0.001_batchsize-8_optimizer-SGD_maxepochs-100_DA-0_PPen-None_PPha-dull_razor_PPco-shades_of_gray_PPde-None_PPno-True_PPcr-cropped_images_folder_PPre-True_drop-0.0_trainjustclassifier-False_16808758598164635/new_test_pred_last\n",
                  "Saving the scores in best_results/DA0_PP_100epochs/efficientnet_b1_fold-1_lrinit-0.001_batchsize-8_optimizer-AdamW_maxepochs-100_DA-0_PPen-None_PPha-dull_razor_PPco-shades_of_gray_PPde-None_PPno-True_PPcr-cropped_images_folder_PPre-True_drop-0.0_trainjustclassifier-False_16808398340887244/new_test_pred_best\n",
                  "Saving the scores in best_results/DA0_PP_100epochs/efficientnet_b1_fold-1_lrinit-0.001_batchsize-8_optimizer-AdamW_maxepochs-100_DA-0_PPen-None_PPha-dull_razor_PPco-shades_of_gray_PPde-None_PPno-True_PPcr-cropped_images_folder_PPre-True_drop-0.0_trainjustclassifier-False_16808398340887244/new_test_pred_last\n",
                  "Saving the scores in best_results/DA0_PP_100epochs/tf_efficientnet_b5_fold-1_lrinit-0.0001_batchsize-8_optimizer-AdamW_maxepochs-100_DA-0_PPen-None_PPha-dull_razor_PPco-shades_of_gray_PPde-None_PPno-True_PPcr-cropped_images_folder_PPre-True_drop-0.0_trainjustclassifier-False_16807853895552163/new_test_pred_best\n",
                  "Saving the scores in best_results/DA0_PP_100epochs/tf_efficientnet_b5_fold-1_lrinit-0.0001_batchsize-8_optimizer-AdamW_maxepochs-100_DA-0_PPen-None_PPha-dull_razor_PPco-shades_of_gray_PPde-None_PPno-True_PPcr-cropped_images_folder_PPre-True_drop-0.0_trainjustclassifier-False_16807853895552163/new_test_pred_last\n",
                  "Saving the scores in best_results/DA0_PP_100epochs/resnest101e_fold-1_lrinit-0.0001_batchsize-8_optimizer-AdamW_maxepochs-100_DA-0_PPen-None_PPha-dull_razor_PPco-shades_of_gray_PPde-None_PPno-True_PPcr-cropped_images_folder_PPre-True_drop-0.0_trainjustclassifier-False_16808604538238554/new_test_pred_best\n",
                  "Saving the scores in best_results/DA0_PP_100epochs/resnest101e_fold-1_lrinit-0.0001_batchsize-8_optimizer-AdamW_maxepochs-100_DA-0_PPen-None_PPha-dull_razor_PPco-shades_of_gray_PPde-None_PPno-True_PPcr-cropped_images_folder_PPre-True_drop-0.0_trainjustclassifier-False_16808604538238554/new_test_pred_last\n",
                  "Saving the scores in best_results/DA0_PP_100epochs/efficientnet_b0_fold-1_lrinit-0.001_batchsize-8_optimizer-AdamW_maxepochs-100_DA-0_PPen-None_PPha-dull_razor_PPco-shades_of_gray_PPde-None_PPno-True_PPcr-cropped_images_folder_PPre-True_drop-0.0_trainjustclassifier-False_16808361162214904/new_test_pred_best\n",
                  "Saving the scores in best_results/DA0_PP_100epochs/efficientnet_b0_fold-1_lrinit-0.001_batchsize-8_optimizer-AdamW_maxepochs-100_DA-0_PPen-None_PPha-dull_razor_PPco-shades_of_gray_PPde-None_PPno-True_PPcr-cropped_images_folder_PPre-True_drop-0.0_trainjustclassifier-False_16808361162214904/new_test_pred_last\n",
                  "Saving the scores in best_results/DA0_PP_100epochs/tf_efficientnet_b6_fold-1_lrinit-0.0001_batchsize-4_optimizer-AdamW_maxepochs-100_DA-0_PPen-None_PPha-dull_razor_PPco-shades_of_gray_PPde-None_PPno-True_PPcr-cropped_images_folder_PPre-True_drop-0.0_trainjustclassifier-False_16808002357894511/new_test_pred_best\n",
                  "Saving the scores in best_results/DA0_PP_100epochs/tf_efficientnet_b6_fold-1_lrinit-0.0001_batchsize-4_optimizer-AdamW_maxepochs-100_DA-0_PPen-None_PPha-dull_razor_PPco-shades_of_gray_PPde-None_PPno-True_PPcr-cropped_images_folder_PPre-True_drop-0.0_trainjustclassifier-False_16808002357894511/new_test_pred_last\n",
                  "Saving the scores in best_results/DA0_PP_100epochs/efficientnet_b3_fold-1_lrinit-0.001_batchsize-32_optimizer-Adam_maxepochs-100_DA-0_PPen-None_PPha-dull_razor_PPco-shades_of_gray_PPde-None_PPno-True_PPcr-cropped_images_folder_PPre-True_drop-0.0_trainjustclassifier-False_16808479857554579/new_test_pred_best\n",
                  "Saving the scores in best_results/DA0_PP_100epochs/efficientnet_b3_fold-1_lrinit-0.001_batchsize-32_optimizer-Adam_maxepochs-100_DA-0_PPen-None_PPha-dull_razor_PPco-shades_of_gray_PPde-None_PPno-True_PPcr-cropped_images_folder_PPre-True_drop-0.0_trainjustclassifier-False_16808479857554579/new_test_pred_last\n",
                  "Experimento:  noDA_CLAHE_dull_razor_shades_of_gray\n",
                  "Saving the scores in best_results/noDA_CLAHE_dull_razor_shades_of_gray/seresnext101_32x8d_fold-1_lrinit-0.0001_batchsize-16_optimizer-Adam_maxepochs-50_DA-None_PPen-CLAHE_PPha-dull_razor_PPco-shades_of_gray_PPde-None_PPno-True_PPcr-None_PPre-True_drop-0.0_trainjustclassifier-False_16831096473325536/new_test_pred_best\n",
                  "Saving the scores in best_results/noDA_CLAHE_dull_razor_shades_of_gray/seresnext101_32x8d_fold-1_lrinit-0.0001_batchsize-16_optimizer-Adam_maxepochs-50_DA-None_PPen-CLAHE_PPha-dull_razor_PPco-shades_of_gray_PPde-None_PPno-True_PPcr-None_PPre-True_drop-0.0_trainjustclassifier-False_16831096473325536/new_test_pred_last\n",
                  "Saving the scores in best_results/noDA_CLAHE_dull_razor_shades_of_gray/resnest101e_fold-1_lrinit-0.0001_batchsize-8_optimizer-AdamW_maxepochs-50_DA-None_PPen-CLAHE_PPha-dull_razor_PPco-shades_of_gray_PPde-None_PPno-True_PPcr-None_PPre-True_drop-0.0_trainjustclassifier-False_16831072558744912/new_test_pred_best\n",
                  "Saving the scores in best_results/noDA_CLAHE_dull_razor_shades_of_gray/resnest101e_fold-1_lrinit-0.0001_batchsize-8_optimizer-AdamW_maxepochs-50_DA-None_PPen-CLAHE_PPha-dull_razor_PPco-shades_of_gray_PPde-None_PPno-True_PPcr-None_PPre-True_drop-0.0_trainjustclassifier-False_16831072558744912/new_test_pred_last\n",
                  "Saving the scores in best_results/noDA_CLAHE_dull_razor_shades_of_gray/resnext101_32x8d_fold-1_lrinit-0.0001_batchsize-8_optimizer-SGD_maxepochs-50_DA-None_PPen-CLAHE_PPha-dull_razor_PPco-shades_of_gray_PPde-None_PPno-True_PPcr-None_PPre-True_drop-0.0_trainjustclassifier-False_1683112761880449/new_test_pred_best\n",
                  "Saving the scores in best_results/noDA_CLAHE_dull_razor_shades_of_gray/resnext101_32x8d_fold-1_lrinit-0.0001_batchsize-8_optimizer-SGD_maxepochs-50_DA-None_PPen-CLAHE_PPha-dull_razor_PPco-shades_of_gray_PPde-None_PPno-True_PPcr-None_PPre-True_drop-0.0_trainjustclassifier-False_1683112761880449/new_test_pred_last\n",
                  "Saving the scores in best_results/noDA_CLAHE_dull_razor_shades_of_gray/efficientnet_b2_fold-1_lrinit-0.0001_batchsize-8_optimizer-Adam_maxepochs-50_DA-None_PPen-CLAHE_PPha-dull_razor_PPco-shades_of_gray_PPde-None_PPno-True_PPcr-None_PPre-True_drop-0.0_trainjustclassifier-False_16831013065150554/new_test_pred_best\n",
                  "Saving the scores in best_results/noDA_CLAHE_dull_razor_shades_of_gray/efficientnet_b2_fold-1_lrinit-0.0001_batchsize-8_optimizer-Adam_maxepochs-50_DA-None_PPen-CLAHE_PPha-dull_razor_PPco-shades_of_gray_PPde-None_PPno-True_PPcr-None_PPre-True_drop-0.0_trainjustclassifier-False_16831013065150554/new_test_pred_last\n",
                  "Saving the scores in best_results/noDA_CLAHE_dull_razor_shades_of_gray/efficientnet_b4_fold-1_lrinit-0.0001_batchsize-16_optimizer-AdamW_maxepochs-50_DA-None_PPen-CLAHE_PPha-dull_razor_PPco-shades_of_gray_PPde-None_PPno-True_PPcr-None_PPre-True_drop-0.0_trainjustclassifier-False_16831054224780264/new_test_pred_best\n",
                  "Saving the scores in best_results/noDA_CLAHE_dull_razor_shades_of_gray/efficientnet_b4_fold-1_lrinit-0.0001_batchsize-16_optimizer-AdamW_maxepochs-50_DA-None_PPen-CLAHE_PPha-dull_razor_PPco-shades_of_gray_PPde-None_PPno-True_PPcr-None_PPre-True_drop-0.0_trainjustclassifier-False_16831054224780264/new_test_pred_last\n",
                  "Saving the scores in best_results/noDA_CLAHE_dull_razor_shades_of_gray/densenet121_fold-1_lrinit-0.0001_batchsize-32_optimizer-Adam_maxepochs-50_DA-None_PPen-CLAHE_PPha-dull_razor_PPco-shades_of_gray_PPde-None_PPno-True_PPcr-None_PPre-True_drop-0.0_trainjustclassifier-False_16830986298888183/new_test_pred_best\n",
                  "Saving the scores in best_results/noDA_CLAHE_dull_razor_shades_of_gray/densenet121_fold-1_lrinit-0.0001_batchsize-32_optimizer-Adam_maxepochs-50_DA-None_PPen-CLAHE_PPha-dull_razor_PPco-shades_of_gray_PPde-None_PPno-True_PPcr-None_PPre-True_drop-0.0_trainjustclassifier-False_16830986298888183/new_test_pred_last\n",
                  "Saving the scores in best_results/noDA_CLAHE_dull_razor_shades_of_gray/tf_efficientnet_b5_fold-1_lrinit-0.0001_batchsize-8_optimizer-AdamW_maxepochs-50_DA-None_PPen-CLAHE_PPha-dull_razor_PPco-shades_of_gray_PPde-None_PPno-True_PPcr-None_PPre-True_drop-0.0_trainjustclassifier-False_16830750498159206/new_test_pred_best\n",
                  "Saving the scores in best_results/noDA_CLAHE_dull_razor_shades_of_gray/tf_efficientnet_b5_fold-1_lrinit-0.0001_batchsize-8_optimizer-AdamW_maxepochs-50_DA-None_PPen-CLAHE_PPha-dull_razor_PPco-shades_of_gray_PPde-None_PPno-True_PPcr-None_PPre-True_drop-0.0_trainjustclassifier-False_16830750498159206/new_test_pred_last\n",
                  "Saving the scores in best_results/noDA_CLAHE_dull_razor_shades_of_gray/efficientnet_b3_fold-1_lrinit-0.0001_batchsize-32_optimizer-Adam_maxepochs-50_DA-None_PPen-CLAHE_PPha-dull_razor_PPco-shades_of_gray_PPde-None_PPno-True_PPcr-None_PPre-True_drop-0.0_trainjustclassifier-False_16831030087602649/new_test_pred_best\n",
                  "Saving the scores in best_results/noDA_CLAHE_dull_razor_shades_of_gray/efficientnet_b3_fold-1_lrinit-0.0001_batchsize-32_optimizer-Adam_maxepochs-50_DA-None_PPen-CLAHE_PPha-dull_razor_PPco-shades_of_gray_PPde-None_PPno-True_PPcr-None_PPre-True_drop-0.0_trainjustclassifier-False_16831030087602649/new_test_pred_last\n",
                  "Saving the scores in best_results/noDA_CLAHE_dull_razor_shades_of_gray/pnasnet5large_fold-1_lrinit-0.0001_batchsize-8_optimizer-Adam_maxepochs-50_DA-None_PPen-CLAHE_PPha-dull_razor_PPco-shades_of_gray_PPde-None_PPno-True_PPcr-None_PPre-True_drop-0.0_trainjustclassifier-False_16831146577684417/new_test_pred_best\n",
                  "Saving the scores in best_results/noDA_CLAHE_dull_razor_shades_of_gray/pnasnet5large_fold-1_lrinit-0.0001_batchsize-8_optimizer-Adam_maxepochs-50_DA-None_PPen-CLAHE_PPha-dull_razor_PPco-shades_of_gray_PPde-None_PPno-True_PPcr-None_PPre-True_drop-0.0_trainjustclassifier-False_16831146577684417/new_test_pred_last\n",
                  "Saving the scores in best_results/noDA_CLAHE_dull_razor_shades_of_gray/efficientnet_b1_fold-1_lrinit-0.0001_batchsize-8_optimizer-AdamW_maxepochs-50_DA-None_PPen-CLAHE_PPha-dull_razor_PPco-shades_of_gray_PPde-None_PPno-True_PPcr-None_PPre-True_drop-0.0_trainjustclassifier-False_16831005338710952/new_test_pred_best\n",
                  "Saving the scores in best_results/noDA_CLAHE_dull_razor_shades_of_gray/efficientnet_b1_fold-1_lrinit-0.0001_batchsize-8_optimizer-AdamW_maxepochs-50_DA-None_PPen-CLAHE_PPha-dull_razor_PPco-shades_of_gray_PPde-None_PPno-True_PPcr-None_PPre-True_drop-0.0_trainjustclassifier-False_16831005338710952/new_test_pred_last\n",
                  "Saving the scores in best_results/noDA_CLAHE_dull_razor_shades_of_gray/vgg19_fold-1_lrinit-0.0001_batchsize-8_optimizer-SGD_maxepochs-50_DA-None_PPen-CLAHE_PPha-dull_razor_PPco-shades_of_gray_PPde-None_PPno-True_PPcr-None_PPre-True_drop-0.0_trainjustclassifier-False_168311149562963/new_test_pred_best\n",
                  "Saving the scores in best_results/noDA_CLAHE_dull_razor_shades_of_gray/vgg19_fold-1_lrinit-0.0001_batchsize-8_optimizer-SGD_maxepochs-50_DA-None_PPen-CLAHE_PPha-dull_razor_PPco-shades_of_gray_PPde-None_PPno-True_PPcr-None_PPre-True_drop-0.0_trainjustclassifier-False_168311149562963/new_test_pred_last\n",
                  "Saving the scores in best_results/noDA_CLAHE_dull_razor_shades_of_gray/efficientnet_b0_fold-1_lrinit-0.0001_batchsize-8_optimizer-AdamW_maxepochs-50_DA-None_PPen-CLAHE_PPha-dull_razor_PPco-shades_of_gray_PPde-None_PPno-True_PPcr-None_PPre-True_drop-0.0_trainjustclassifier-False_16830993548710423/new_test_pred_best\n",
                  "Saving the scores in best_results/noDA_CLAHE_dull_razor_shades_of_gray/efficientnet_b0_fold-1_lrinit-0.0001_batchsize-8_optimizer-AdamW_maxepochs-50_DA-None_PPen-CLAHE_PPha-dull_razor_PPco-shades_of_gray_PPde-None_PPno-True_PPcr-None_PPre-True_drop-0.0_trainjustclassifier-False_16830993548710423/new_test_pred_last\n",
                  "Saving the scores in best_results/noDA_CLAHE_dull_razor_shades_of_gray/tf_efficientnet_b6_fold-1_lrinit-0.0001_batchsize-4_optimizer-AdamW_maxepochs-50_DA-None_PPen-CLAHE_PPha-dull_razor_PPco-shades_of_gray_PPde-None_PPno-True_PPcr-None_PPre-True_drop-0.0_trainjustclassifier-False_1683085902397665/new_test_pred_best\n",
                  "Saving the scores in best_results/noDA_CLAHE_dull_razor_shades_of_gray/tf_efficientnet_b6_fold-1_lrinit-0.0001_batchsize-4_optimizer-AdamW_maxepochs-50_DA-None_PPen-CLAHE_PPha-dull_razor_PPco-shades_of_gray_PPde-None_PPno-True_PPcr-None_PPre-True_drop-0.0_trainjustclassifier-False_1683085902397665/new_test_pred_last\n",
                  "Experimento:  dull_razor_shades_of_gray_2\n",
                  "Saving the scores in best_results/dull_razor_shades_of_gray_2/densenet121_fold-1_lrinit-0.0001_batchsize-32_optimizer-Adam_maxepochs-50_DA-None_PPen-None_PPha-dull_razor_PPco-shades_of_gray_PPde-None_PPno-True_PPcr-None_PPre-True_16802988847755685/new_test_pred_best\n",
                  "Saving the scores in best_results/dull_razor_shades_of_gray_2/densenet121_fold-1_lrinit-0.0001_batchsize-32_optimizer-Adam_maxepochs-50_DA-None_PPen-None_PPha-dull_razor_PPco-shades_of_gray_PPde-None_PPno-True_PPcr-None_PPre-True_16802988847755685/new_test_pred_last\n",
                  "Saving the scores in best_results/dull_razor_shades_of_gray_2/tf_efficientnet_b6_fold-1_lrinit-0.0001_batchsize-4_optimizer-AdamW_maxepochs-50_DA-None_PPen-None_PPha-dull_razor_PPco-shades_of_gray_PPde-None_PPno-True_PPcr-None_PPre-True_16802859941927235/new_test_pred_best\n",
                  "Saving the scores in best_results/dull_razor_shades_of_gray_2/tf_efficientnet_b6_fold-1_lrinit-0.0001_batchsize-4_optimizer-AdamW_maxepochs-50_DA-None_PPen-None_PPha-dull_razor_PPco-shades_of_gray_PPde-None_PPno-True_PPcr-None_PPre-True_16802859941927235/new_test_pred_last\n",
                  "Saving the scores in best_results/dull_razor_shades_of_gray_2/efficientnet_b0_fold-1_lrinit-0.001_batchsize-8_optimizer-AdamW_maxepochs-50_DA-None_PPen-None_PPha-dull_razor_PPco-shades_of_gray_PPde-None_PPno-True_PPcr-None_PPre-True_16798113329805765/new_test_pred_best\n",
                  "Saving the scores in best_results/dull_razor_shades_of_gray_2/efficientnet_b0_fold-1_lrinit-0.001_batchsize-8_optimizer-AdamW_maxepochs-50_DA-None_PPen-None_PPha-dull_razor_PPco-shades_of_gray_PPde-None_PPno-True_PPcr-None_PPre-True_16798113329805765/new_test_pred_last\n",
                  "Saving the scores in best_results/dull_razor_shades_of_gray_2/seresnext101_32x8d_fold-1_lrinit-0.0001_batchsize-32_optimizer-Adam_maxepochs-50_DA-None_PPen-None_PPha-dull_razor_PPco-shades_of_gray_PPde-None_PPno-True_PPcr-None_PPre-True_16799641543552802/new_test_pred_best\n",
                  "Saving the scores in best_results/dull_razor_shades_of_gray_2/seresnext101_32x8d_fold-1_lrinit-0.0001_batchsize-32_optimizer-Adam_maxepochs-50_DA-None_PPen-None_PPha-dull_razor_PPco-shades_of_gray_PPde-None_PPno-True_PPcr-None_PPre-True_16799641543552802/new_test_pred_last\n",
                  "Saving the scores in best_results/dull_razor_shades_of_gray_2/efficientnet_b3_fold-1_lrinit-0.001_batchsize-32_optimizer-Adam_maxepochs-50_DA-None_PPen-None_PPha-dull_razor_PPco-shades_of_gray_PPde-None_PPno-True_PPcr-None_PPre-True_1679961985860785/new_test_pred_best\n",
                  "Saving the scores in best_results/dull_razor_shades_of_gray_2/efficientnet_b3_fold-1_lrinit-0.001_batchsize-32_optimizer-Adam_maxepochs-50_DA-None_PPen-None_PPha-dull_razor_PPco-shades_of_gray_PPde-None_PPno-True_PPcr-None_PPre-True_1679961985860785/new_test_pred_last\n",
                  "Saving the scores in best_results/dull_razor_shades_of_gray_2/resnext101_32x8d_fold-1_lrinit-0.001_batchsize-8_optimizer-SGD_maxepochs-50_DA-None_PPen-None_PPha-dull_razor_PPco-shades_of_gray_PPde-None_PPno-True_PPcr-None_PPre-True_16799680882310483/new_test_pred_best\n",
                  "Saving the scores in best_results/dull_razor_shades_of_gray_2/resnext101_32x8d_fold-1_lrinit-0.001_batchsize-8_optimizer-SGD_maxepochs-50_DA-None_PPen-None_PPha-dull_razor_PPco-shades_of_gray_PPde-None_PPno-True_PPcr-None_PPre-True_16799680882310483/new_test_pred_last\n",
                  "Saving the scores in best_results/dull_razor_shades_of_gray_2/efficientnet_b4_fold-1_lrinit-0.001_batchsize-16_optimizer-AdamW_maxepochs-50_DA-None_PPen-None_PPha-dull_razor_PPco-shades_of_gray_PPde-None_PPno-True_PPcr-None_PPre-True_1679817753880893/new_test_pred_best\n",
                  "Saving the scores in best_results/dull_razor_shades_of_gray_2/efficientnet_b4_fold-1_lrinit-0.001_batchsize-16_optimizer-AdamW_maxepochs-50_DA-None_PPen-None_PPha-dull_razor_PPco-shades_of_gray_PPde-None_PPno-True_PPcr-None_PPre-True_1679817753880893/new_test_pred_last\n",
                  "Saving the scores in best_results/dull_razor_shades_of_gray_2/efficientnet_b1_fold-1_lrinit-0.001_batchsize-8_optimizer-AdamW_maxepochs-50_DA-None_PPen-None_PPha-dull_razor_PPco-shades_of_gray_PPde-None_PPno-True_PPcr-None_PPre-True_1679813192989796/new_test_pred_best\n",
                  "Saving the scores in best_results/dull_razor_shades_of_gray_2/efficientnet_b1_fold-1_lrinit-0.001_batchsize-8_optimizer-AdamW_maxepochs-50_DA-None_PPen-None_PPha-dull_razor_PPco-shades_of_gray_PPde-None_PPno-True_PPcr-None_PPre-True_1679813192989796/new_test_pred_last\n",
                  "Saving the scores in best_results/dull_razor_shades_of_gray_2/efficientnet_b2_fold-1_lrinit-0.001_batchsize-8_optimizer-Adam_maxepochs-50_DA-None_PPen-None_PPha-dull_razor_PPco-shades_of_gray_PPde-None_PPno-True_PPcr-None_PPre-True_16798156269203851/new_test_pred_best\n",
                  "Saving the scores in best_results/dull_razor_shades_of_gray_2/efficientnet_b2_fold-1_lrinit-0.001_batchsize-8_optimizer-Adam_maxepochs-50_DA-None_PPen-None_PPha-dull_razor_PPco-shades_of_gray_PPde-None_PPno-True_PPcr-None_PPre-True_16798156269203851/new_test_pred_last\n",
                  "Saving the scores in best_results/dull_razor_shades_of_gray_2/pnasnet5large_fold-1_lrinit-0.0001_batchsize-8_optimizer-Adam_maxepochs-50_DA-None_PPen-None_PPha-dull_razor_PPco-shades_of_gray_PPde-None_PPno-True_PPcr-None_PPre-True_16799712285457146/new_test_pred_best\n",
                  "Saving the scores in best_results/dull_razor_shades_of_gray_2/pnasnet5large_fold-1_lrinit-0.0001_batchsize-8_optimizer-Adam_maxepochs-50_DA-None_PPen-None_PPha-dull_razor_PPco-shades_of_gray_PPde-None_PPno-True_PPcr-None_PPre-True_16799712285457146/new_test_pred_last\n",
                  "Saving the scores in best_results/dull_razor_shades_of_gray_2/vgg19_fold-1_lrinit-0.001_batchsize-8_optimizer-SGD_maxepochs-50_DA-None_PPen-None_PPha-dull_razor_PPco-shades_of_gray_PPde-None_PPno-True_PPcr-None_PPre-True_16799665003383408/new_test_pred_best\n",
                  "Saving the scores in best_results/dull_razor_shades_of_gray_2/vgg19_fold-1_lrinit-0.001_batchsize-8_optimizer-SGD_maxepochs-50_DA-None_PPen-None_PPha-dull_razor_PPco-shades_of_gray_PPde-None_PPno-True_PPcr-None_PPre-True_16799665003383408/new_test_pred_last\n",
                  "Saving the scores in best_results/dull_razor_shades_of_gray_2/resnest101e_fold-1_lrinit-0.0001_batchsize-8_optimizer-AdamW_maxepochs-50_DA-None_PPen-None_PPha-dull_razor_PPco-shades_of_gray_PPde-None_PPno-True_PPcr-None_PPre-True_16798283226634967/new_test_pred_best\n",
                  "Saving the scores in best_results/dull_razor_shades_of_gray_2/resnest101e_fold-1_lrinit-0.0001_batchsize-8_optimizer-AdamW_maxepochs-50_DA-None_PPen-None_PPha-dull_razor_PPco-shades_of_gray_PPde-None_PPno-True_PPcr-None_PPre-True_16798283226634967/new_test_pred_last\n",
                  "Saving the scores in best_results/dull_razor_shades_of_gray_2/tf_efficientnet_b5_fold-1_lrinit-0.0001_batchsize-8_optimizer-AdamW_maxepochs-50_DA-None_PPen-None_PPha-dull_razor_PPco-shades_of_gray_PPde-None_PPno-True_PPcr-None_PPre-True_16802800835922732/new_test_pred_best\n",
                  "Saving the scores in best_results/dull_razor_shades_of_gray_2/tf_efficientnet_b5_fold-1_lrinit-0.0001_batchsize-8_optimizer-AdamW_maxepochs-50_DA-None_PPen-None_PPha-dull_razor_PPco-shades_of_gray_PPde-None_PPno-True_PPcr-None_PPre-True_16802800835922732/new_test_pred_last\n",
                  "Experimento:  gaussian_filter\n",
                  "Experimento:  DA2_dull_razor_shades_of_gray_cropped_images_folder_moredata\n",
                  "Saving the scores in best_results/DA2_dull_razor_shades_of_gray_cropped_images_folder_moredata/efficientnet_b4_fold-1_lrinit-0.0001_batchsize-16_optimizer-AdamW_maxepochs-150_DA-2_PPen-None_PPha-dull_razor_PPco-shades_of_gray_PPde-None_PPno-True_PPcr-cropped_images_folder_PPre-True_drop-0.0_trainjustclassifier-False_168203862498437/new_test_pred_best\n",
                  "Saving the scores in best_results/DA2_dull_razor_shades_of_gray_cropped_images_folder_moredata/efficientnet_b4_fold-1_lrinit-0.0001_batchsize-16_optimizer-AdamW_maxepochs-150_DA-2_PPen-None_PPha-dull_razor_PPco-shades_of_gray_PPde-None_PPno-True_PPcr-cropped_images_folder_PPre-True_drop-0.0_trainjustclassifier-False_168203862498437/new_test_pred_last\n",
                  "Saving the scores in best_results/DA2_dull_razor_shades_of_gray_cropped_images_folder_moredata/seresnext101_32x8d_fold-1_lrinit-0.0001_batchsize-16_optimizer-Adam_maxepochs-150_DA-2_PPen-None_PPha-dull_razor_PPco-shades_of_gray_PPde-None_PPno-True_PPcr-cropped_images_folder_PPre-True_drop-0.0_trainjustclassifier-False_1682050184285796/new_test_pred_best\n",
                  "Saving the scores in best_results/DA2_dull_razor_shades_of_gray_cropped_images_folder_moredata/seresnext101_32x8d_fold-1_lrinit-0.0001_batchsize-16_optimizer-Adam_maxepochs-150_DA-2_PPen-None_PPha-dull_razor_PPco-shades_of_gray_PPde-None_PPno-True_PPcr-cropped_images_folder_PPre-True_drop-0.0_trainjustclassifier-False_1682050184285796/new_test_pred_last\n",
                  "Saving the scores in best_results/DA2_dull_razor_shades_of_gray_cropped_images_folder_moredata/resnest101e_fold-1_lrinit-0.0001_batchsize-8_optimizer-AdamW_maxepochs-150_DA-2_PPen-None_PPha-dull_razor_PPco-shades_of_gray_PPde-None_PPno-True_PPcr-cropped_images_folder_PPre-True_drop-0.0_trainjustclassifier-False_16820444266245642/new_test_pred_best\n",
                  "Saving the scores in best_results/DA2_dull_razor_shades_of_gray_cropped_images_folder_moredata/resnest101e_fold-1_lrinit-0.0001_batchsize-8_optimizer-AdamW_maxepochs-150_DA-2_PPen-None_PPha-dull_razor_PPco-shades_of_gray_PPde-None_PPno-True_PPcr-cropped_images_folder_PPre-True_drop-0.0_trainjustclassifier-False_16820444266245642/new_test_pred_last\n",
                  "Saving the scores in best_results/DA2_dull_razor_shades_of_gray_cropped_images_folder_moredata/resnext101_32x8d_fold-1_lrinit-0.0001_batchsize-8_optimizer-SGD_maxepochs-150_DA-2_PPen-None_PPha-dull_razor_PPco-shades_of_gray_PPde-None_PPno-True_PPcr-cropped_images_folder_PPre-True_drop-0.0_trainjustclassifier-False_16819548531693099/new_test_pred_best\n",
                  "Saving the scores in best_results/DA2_dull_razor_shades_of_gray_cropped_images_folder_moredata/resnext101_32x8d_fold-1_lrinit-0.0001_batchsize-8_optimizer-SGD_maxepochs-150_DA-2_PPen-None_PPha-dull_razor_PPco-shades_of_gray_PPde-None_PPno-True_PPcr-cropped_images_folder_PPre-True_drop-0.0_trainjustclassifier-False_16819548531693099/new_test_pred_last\n",
                  "Saving the scores in best_results/DA2_dull_razor_shades_of_gray_cropped_images_folder_moredata/efficientnet_b3_fold-1_lrinit-0.0001_batchsize-32_optimizer-Adam_maxepochs-150_DA-2_PPen-None_PPha-dull_razor_PPco-shades_of_gray_PPde-None_PPno-True_PPcr-cropped_images_folder_PPre-True_drop-0.0_trainjustclassifier-False_16820342080182562/new_test_pred_best\n",
                  "Saving the scores in best_results/DA2_dull_razor_shades_of_gray_cropped_images_folder_moredata/efficientnet_b3_fold-1_lrinit-0.0001_batchsize-32_optimizer-Adam_maxepochs-150_DA-2_PPen-None_PPha-dull_razor_PPco-shades_of_gray_PPde-None_PPno-True_PPcr-cropped_images_folder_PPre-True_drop-0.0_trainjustclassifier-False_16820342080182562/new_test_pred_last\n",
                  "Saving the scores in best_results/DA2_dull_razor_shades_of_gray_cropped_images_folder_moredata/efficientnet_b0_fold-1_lrinit-0.0001_batchsize-8_optimizer-AdamW_maxepochs-150_DA-2_PPen-None_PPha-dull_razor_PPco-shades_of_gray_PPde-None_PPno-True_PPcr-cropped_images_folder_PPre-True_drop-0.0_trainjustclassifier-False_16820233757486997/new_test_pred_best\n",
                  "Saving the scores in best_results/DA2_dull_razor_shades_of_gray_cropped_images_folder_moredata/efficientnet_b0_fold-1_lrinit-0.0001_batchsize-8_optimizer-AdamW_maxepochs-150_DA-2_PPen-None_PPha-dull_razor_PPco-shades_of_gray_PPde-None_PPno-True_PPcr-cropped_images_folder_PPre-True_drop-0.0_trainjustclassifier-False_16820233757486997/new_test_pred_last\n",
                  "Saving the scores in best_results/DA2_dull_razor_shades_of_gray_cropped_images_folder_moredata/tf_efficientnet_b6_fold-1_lrinit-0.0001_batchsize-4_optimizer-AdamW_maxepochs-150_DA-2_PPen-None_PPha-dull_razor_PPco-shades_of_gray_PPde-None_PPno-True_PPcr-cropped_images_folder_PPre-True_drop-0.0_trainjustclassifier-False_16819944672763467/new_test_pred_best\n",
                  "Saving the scores in best_results/DA2_dull_razor_shades_of_gray_cropped_images_folder_moredata/tf_efficientnet_b6_fold-1_lrinit-0.0001_batchsize-4_optimizer-AdamW_maxepochs-150_DA-2_PPen-None_PPha-dull_razor_PPco-shades_of_gray_PPde-None_PPno-True_PPcr-cropped_images_folder_PPre-True_drop-0.0_trainjustclassifier-False_16819944672763467/new_test_pred_last\n",
                  "Saving the scores in best_results/DA2_dull_razor_shades_of_gray_cropped_images_folder_moredata/pnasnet5large_fold-1_lrinit-0.0001_batchsize-8_optimizer-Adam_maxepochs-150_DA-2_PPen-None_PPha-dull_razor_PPco-shades_of_gray_PPde-None_PPno-True_PPcr-cropped_images_folder_PPre-True_drop-0.0_trainjustclassifier-False_16819594407020423/new_test_pred_best\n",
                  "Saving the scores in best_results/DA2_dull_razor_shades_of_gray_cropped_images_folder_moredata/pnasnet5large_fold-1_lrinit-0.0001_batchsize-8_optimizer-Adam_maxepochs-150_DA-2_PPen-None_PPha-dull_razor_PPco-shades_of_gray_PPde-None_PPno-True_PPcr-cropped_images_folder_PPre-True_drop-0.0_trainjustclassifier-False_16819594407020423/new_test_pred_last\n",
                  "Saving the scores in best_results/DA2_dull_razor_shades_of_gray_cropped_images_folder_moredata/vgg19_fold-1_lrinit-0.0001_batchsize-8_optimizer-SGD_maxepochs-150_DA-2_PPen-None_PPha-dull_razor_PPco-shades_of_gray_PPde-None_PPno-True_PPcr-cropped_images_folder_PPre-True_drop-0.0_trainjustclassifier-False_16819519708144517/new_test_pred_best\n",
                  "Saving the scores in best_results/DA2_dull_razor_shades_of_gray_cropped_images_folder_moredata/vgg19_fold-1_lrinit-0.0001_batchsize-8_optimizer-SGD_maxepochs-150_DA-2_PPen-None_PPha-dull_razor_PPco-shades_of_gray_PPde-None_PPno-True_PPcr-cropped_images_folder_PPre-True_drop-0.0_trainjustclassifier-False_16819519708144517/new_test_pred_last\n",
                  "Saving the scores in best_results/DA2_dull_razor_shades_of_gray_cropped_images_folder_moredata/tf_efficientnet_b5_fold-1_lrinit-0.0001_batchsize-8_optimizer-AdamW_maxepochs-150_DA-2_PPen-None_PPha-dull_razor_PPco-shades_of_gray_PPde-None_PPno-True_PPcr-cropped_images_folder_PPre-True_drop-0.0_trainjustclassifier-False_16819804341718845/new_test_pred_best\n",
                  "Saving the scores in best_results/DA2_dull_razor_shades_of_gray_cropped_images_folder_moredata/tf_efficientnet_b5_fold-1_lrinit-0.0001_batchsize-8_optimizer-AdamW_maxepochs-150_DA-2_PPen-None_PPha-dull_razor_PPco-shades_of_gray_PPde-None_PPno-True_PPcr-cropped_images_folder_PPre-True_drop-0.0_trainjustclassifier-False_16819804341718845/new_test_pred_last\n",
                  "Saving the scores in best_results/DA2_dull_razor_shades_of_gray_cropped_images_folder_moredata/densenet121_fold-1_lrinit-0.0001_batchsize-32_optimizer-Adam_maxepochs-150_DA-2_PPen-None_PPha-dull_razor_PPco-shades_of_gray_PPde-None_PPno-True_PPcr-cropped_images_folder_PPre-True_drop-0.0_trainjustclassifier-False_16820203098244/new_test_pred_best\n",
                  "Saving the scores in best_results/DA2_dull_razor_shades_of_gray_cropped_images_folder_moredata/densenet121_fold-1_lrinit-0.0001_batchsize-32_optimizer-Adam_maxepochs-150_DA-2_PPen-None_PPha-dull_razor_PPco-shades_of_gray_PPde-None_PPno-True_PPcr-cropped_images_folder_PPre-True_drop-0.0_trainjustclassifier-False_16820203098244/new_test_pred_last\n",
                  "Saving the scores in best_results/DA2_dull_razor_shades_of_gray_cropped_images_folder_moredata/efficientnet_b2_fold-1_lrinit-0.0001_batchsize-8_optimizer-Adam_maxepochs-150_DA-2_PPen-None_PPha-dull_razor_PPco-shades_of_gray_PPde-None_PPno-True_PPcr-cropped_images_folder_PPre-True_drop-0.0_trainjustclassifier-False_1682030126192646/new_test_pred_best\n",
                  "Saving the scores in best_results/DA2_dull_razor_shades_of_gray_cropped_images_folder_moredata/efficientnet_b2_fold-1_lrinit-0.0001_batchsize-8_optimizer-Adam_maxepochs-150_DA-2_PPen-None_PPha-dull_razor_PPco-shades_of_gray_PPde-None_PPno-True_PPcr-cropped_images_folder_PPre-True_drop-0.0_trainjustclassifier-False_1682030126192646/new_test_pred_last\n",
                  "Saving the scores in best_results/DA2_dull_razor_shades_of_gray_cropped_images_folder_moredata/efficientnet_b1_fold-1_lrinit-0.0001_batchsize-8_optimizer-AdamW_maxepochs-150_DA-2_PPen-None_PPha-dull_razor_PPco-shades_of_gray_PPde-None_PPno-True_PPcr-cropped_images_folder_PPre-True_drop-0.0_trainjustclassifier-False_16820263156371925/new_test_pred_best\n",
                  "Saving the scores in best_results/DA2_dull_razor_shades_of_gray_cropped_images_folder_moredata/efficientnet_b1_fold-1_lrinit-0.0001_batchsize-8_optimizer-AdamW_maxepochs-150_DA-2_PPen-None_PPha-dull_razor_PPco-shades_of_gray_PPde-None_PPno-True_PPcr-cropped_images_folder_PPre-True_drop-0.0_trainjustclassifier-False_16820263156371925/new_test_pred_last\n",
                  "Experimento:  shades_of_gray_2\n",
                  "Saving the scores in best_results/shades_of_gray_2/efficientnet_b2_fold-1_lrinit-0.001_batchsize-8_optimizer-Adam_maxepochs-50_DA-None_PPen-None_PPha-None_PPco-shades_of_gray_PPde-None_PPno-True_PPcr-None_PPre-True_1679987964820405/new_test_pred_best\n",
                  "Saving the scores in best_results/shades_of_gray_2/efficientnet_b2_fold-1_lrinit-0.001_batchsize-8_optimizer-Adam_maxepochs-50_DA-None_PPen-None_PPha-None_PPco-shades_of_gray_PPde-None_PPno-True_PPcr-None_PPre-True_1679987964820405/new_test_pred_last\n",
                  "Saving the scores in best_results/shades_of_gray_2/vgg19_fold-1_lrinit-0.001_batchsize-8_optimizer-SGD_maxepochs-50_DA-None_PPen-None_PPha-None_PPco-shades_of_gray_PPde-None_PPno-True_PPcr-None_PPre-True_16799957845128114/new_test_pred_best\n",
                  "Saving the scores in best_results/shades_of_gray_2/vgg19_fold-1_lrinit-0.001_batchsize-8_optimizer-SGD_maxepochs-50_DA-None_PPen-None_PPha-None_PPco-shades_of_gray_PPde-None_PPno-True_PPcr-None_PPre-True_16799957845128114/new_test_pred_last\n",
                  "Saving the scores in best_results/shades_of_gray_2/seresnext101_32x8d_fold-1_lrinit-0.0001_batchsize-32_optimizer-Adam_maxepochs-50_DA-None_PPen-None_PPha-None_PPco-shades_of_gray_PPde-None_PPno-True_PPcr-None_PPre-True_16799946368475907/new_test_pred_best\n",
                  "Saving the scores in best_results/shades_of_gray_2/seresnext101_32x8d_fold-1_lrinit-0.0001_batchsize-32_optimizer-Adam_maxepochs-50_DA-None_PPen-None_PPha-None_PPco-shades_of_gray_PPde-None_PPno-True_PPcr-None_PPre-True_16799946368475907/new_test_pred_last\n",
                  "Saving the scores in best_results/shades_of_gray_2/efficientnet_b3_fold-1_lrinit-0.001_batchsize-32_optimizer-Adam_maxepochs-50_DA-None_PPen-None_PPha-None_PPco-shades_of_gray_PPde-None_PPno-True_PPcr-None_PPre-True_16799893269597566/new_test_pred_best\n",
                  "Saving the scores in best_results/shades_of_gray_2/efficientnet_b3_fold-1_lrinit-0.001_batchsize-32_optimizer-Adam_maxepochs-50_DA-None_PPen-None_PPha-None_PPco-shades_of_gray_PPde-None_PPno-True_PPcr-None_PPre-True_16799893269597566/new_test_pred_last\n",
                  "Saving the scores in best_results/shades_of_gray_2/tf_efficientnet_b5_fold-1_lrinit-0.0001_batchsize-8_optimizer-AdamW_maxepochs-50_DA-None_PPen-None_PPha-None_PPco-shades_of_gray_PPde-None_PPno-True_PPcr-None_PPre-True_16803173460615654/new_test_pred_best\n",
                  "Saving the scores in best_results/shades_of_gray_2/tf_efficientnet_b5_fold-1_lrinit-0.0001_batchsize-8_optimizer-AdamW_maxepochs-50_DA-None_PPen-None_PPha-None_PPco-shades_of_gray_PPde-None_PPno-True_PPcr-None_PPre-True_16803173460615654/new_test_pred_last\n",
                  "Saving the scores in best_results/shades_of_gray_2/efficientnet_b1_fold-1_lrinit-0.001_batchsize-8_optimizer-AdamW_maxepochs-50_DA-None_PPen-None_PPha-None_PPco-shades_of_gray_PPde-None_PPno-True_PPcr-None_PPre-True_167998548678542/new_test_pred_best\n",
                  "Saving the scores in best_results/shades_of_gray_2/efficientnet_b1_fold-1_lrinit-0.001_batchsize-8_optimizer-AdamW_maxepochs-50_DA-None_PPen-None_PPha-None_PPco-shades_of_gray_PPde-None_PPno-True_PPcr-None_PPre-True_167998548678542/new_test_pred_last\n",
                  "Saving the scores in best_results/shades_of_gray_2/efficientnet_b0_fold-1_lrinit-0.001_batchsize-8_optimizer-AdamW_maxepochs-50_DA-None_PPen-None_PPha-None_PPco-shades_of_gray_PPde-None_PPno-True_PPcr-None_PPre-True_1679983798925214/new_test_pred_best\n",
                  "Saving the scores in best_results/shades_of_gray_2/efficientnet_b0_fold-1_lrinit-0.001_batchsize-8_optimizer-AdamW_maxepochs-50_DA-None_PPen-None_PPha-None_PPco-shades_of_gray_PPde-None_PPno-True_PPcr-None_PPre-True_1679983798925214/new_test_pred_last\n",
                  "Saving the scores in best_results/shades_of_gray_2/tf_efficientnet_b6_fold-1_lrinit-0.0001_batchsize-4_optimizer-AdamW_maxepochs-50_DA-None_PPen-None_PPha-None_PPco-shades_of_gray_PPde-None_PPno-True_PPcr-None_PPre-True_16803210087283986/new_test_pred_best\n",
                  "Saving the scores in best_results/shades_of_gray_2/tf_efficientnet_b6_fold-1_lrinit-0.0001_batchsize-4_optimizer-AdamW_maxepochs-50_DA-None_PPen-None_PPha-None_PPco-shades_of_gray_PPde-None_PPno-True_PPcr-None_PPre-True_16803210087283986/new_test_pred_last\n",
                  "Saving the scores in best_results/shades_of_gray_2/pnasnet5large_fold-1_lrinit-0.0001_batchsize-8_optimizer-Adam_maxepochs-50_DA-None_PPen-None_PPha-None_PPco-shades_of_gray_PPde-None_PPno-True_PPcr-None_PPre-True_16799988245531487/new_test_pred_best\n",
                  "Saving the scores in best_results/shades_of_gray_2/pnasnet5large_fold-1_lrinit-0.0001_batchsize-8_optimizer-Adam_maxepochs-50_DA-None_PPen-None_PPha-None_PPco-shades_of_gray_PPde-None_PPno-True_PPcr-None_PPre-True_16799988245531487/new_test_pred_last\n",
                  "Saving the scores in best_results/shades_of_gray_2/resnext101_32x8d_fold-1_lrinit-0.001_batchsize-8_optimizer-SGD_maxepochs-50_DA-None_PPen-None_PPha-None_PPco-shades_of_gray_PPde-None_PPno-True_PPcr-None_PPre-True_16799970013624105/new_test_pred_best\n",
                  "Saving the scores in best_results/shades_of_gray_2/resnext101_32x8d_fold-1_lrinit-0.001_batchsize-8_optimizer-SGD_maxepochs-50_DA-None_PPen-None_PPha-None_PPco-shades_of_gray_PPde-None_PPno-True_PPcr-None_PPre-True_16799970013624105/new_test_pred_last\n",
                  "Saving the scores in best_results/shades_of_gray_2/resnest101e_fold-1_lrinit-0.0001_batchsize-8_optimizer-AdamW_maxepochs-50_DA-None_PPen-None_PPha-None_PPco-shades_of_gray_PPde-None_PPno-True_PPcr-None_PPre-True_16799928733854673/new_test_pred_best\n",
                  "Saving the scores in best_results/shades_of_gray_2/resnest101e_fold-1_lrinit-0.0001_batchsize-8_optimizer-AdamW_maxepochs-50_DA-None_PPen-None_PPha-None_PPco-shades_of_gray_PPde-None_PPno-True_PPcr-None_PPre-True_16799928733854673/new_test_pred_last\n",
                  "Saving the scores in best_results/shades_of_gray_2/densenet121_fold-1_lrinit-0.0001_batchsize-32_optimizer-Adam_maxepochs-50_DA-None_PPen-None_PPha-None_PPco-shades_of_gray_PPde-None_PPno-True_PPcr-None_PPre-True_16803267859409833/new_test_pred_best\n",
                  "Saving the scores in best_results/shades_of_gray_2/densenet121_fold-1_lrinit-0.0001_batchsize-32_optimizer-Adam_maxepochs-50_DA-None_PPen-None_PPha-None_PPco-shades_of_gray_PPde-None_PPno-True_PPcr-None_PPre-True_16803267859409833/new_test_pred_last\n",
                  "Saving the scores in best_results/shades_of_gray_2/efficientnet_b4_fold-1_lrinit-0.001_batchsize-16_optimizer-AdamW_maxepochs-50_DA-None_PPen-None_PPha-None_PPco-shades_of_gray_PPde-None_PPno-True_PPcr-None_PPre-True_16799905737091563/new_test_pred_best\n",
                  "Saving the scores in best_results/shades_of_gray_2/efficientnet_b4_fold-1_lrinit-0.001_batchsize-16_optimizer-AdamW_maxepochs-50_DA-None_PPen-None_PPha-None_PPco-shades_of_gray_PPde-None_PPno-True_PPcr-None_PPre-True_16799905737091563/new_test_pred_last\n",
                  "Experimento:  noDA_dull_razor\n",
                  "Saving the scores in best_results/noDA_dull_razor/efficientnet_b0_fold-1_lrinit-0.0001_batchsize-8_optimizer-AdamW_maxepochs-150_DA-None_PPen-None_PPha-dull_razor_PPco-None_PPde-None_PPno-True_PPcr-None_PPre-True_drop-0.0_trainjustclassifier-False_16815995135528414/new_test_pred_best\n",
                  "Saving the scores in best_results/noDA_dull_razor/efficientnet_b0_fold-1_lrinit-0.0001_batchsize-8_optimizer-AdamW_maxepochs-150_DA-None_PPen-None_PPha-dull_razor_PPco-None_PPde-None_PPno-True_PPcr-None_PPre-True_drop-0.0_trainjustclassifier-False_16815995135528414/new_test_pred_last\n",
                  "Saving the scores in best_results/noDA_dull_razor/tf_efficientnet_b6_fold-1_lrinit-0.0001_batchsize-4_optimizer-AdamW_maxepochs-150_DA-None_PPen-None_PPha-dull_razor_PPco-None_PPde-None_PPno-True_PPcr-None_PPre-True_drop-0.0_trainjustclassifier-False_16815857767128134/new_test_pred_best\n",
                  "Saving the scores in best_results/noDA_dull_razor/tf_efficientnet_b6_fold-1_lrinit-0.0001_batchsize-4_optimizer-AdamW_maxepochs-150_DA-None_PPen-None_PPha-dull_razor_PPco-None_PPde-None_PPno-True_PPcr-None_PPre-True_drop-0.0_trainjustclassifier-False_16815857767128134/new_test_pred_last\n",
                  "Saving the scores in best_results/noDA_dull_razor/pnasnet5large_fold-1_lrinit-0.0001_batchsize-8_optimizer-Adam_maxepochs-150_DA-None_PPen-None_PPha-dull_razor_PPco-None_PPde-None_PPno-True_PPcr-None_PPre-True_drop-0.0_trainjustclassifier-False_16816292515547552/new_test_pred_best\n",
                  "Saving the scores in best_results/noDA_dull_razor/pnasnet5large_fold-1_lrinit-0.0001_batchsize-8_optimizer-Adam_maxepochs-150_DA-None_PPen-None_PPha-dull_razor_PPco-None_PPde-None_PPno-True_PPcr-None_PPre-True_drop-0.0_trainjustclassifier-False_16816292515547552/new_test_pred_last\n",
                  "Saving the scores in best_results/noDA_dull_razor/vgg19_fold-1_lrinit-0.0001_batchsize-8_optimizer-SGD_maxepochs-150_DA-None_PPen-None_PPha-dull_razor_PPco-None_PPde-None_PPno-True_PPcr-None_PPre-True_drop-0.0_trainjustclassifier-False_16816232832927237/new_test_pred_best\n",
                  "Saving the scores in best_results/noDA_dull_razor/vgg19_fold-1_lrinit-0.0001_batchsize-8_optimizer-SGD_maxepochs-150_DA-None_PPen-None_PPha-dull_razor_PPco-None_PPde-None_PPno-True_PPcr-None_PPre-True_drop-0.0_trainjustclassifier-False_16816232832927237/new_test_pred_last\n",
                  "Saving the scores in best_results/noDA_dull_razor/efficientnet_b1_fold-1_lrinit-0.0001_batchsize-8_optimizer-AdamW_maxepochs-150_DA-None_PPen-None_PPha-dull_razor_PPco-None_PPde-None_PPno-True_PPcr-None_PPre-True_drop-0.0_trainjustclassifier-False_16816021275656128/new_test_pred_best\n",
                  "Saving the scores in best_results/noDA_dull_razor/efficientnet_b1_fold-1_lrinit-0.0001_batchsize-8_optimizer-AdamW_maxepochs-150_DA-None_PPen-None_PPha-dull_razor_PPco-None_PPde-None_PPno-True_PPcr-None_PPre-True_drop-0.0_trainjustclassifier-False_16816021275656128/new_test_pred_last\n",
                  "Saving the scores in best_results/noDA_dull_razor/tf_efficientnet_b5_fold-1_lrinit-0.0001_batchsize-8_optimizer-AdamW_maxepochs-150_DA-None_PPen-None_PPha-dull_razor_PPco-None_PPde-None_PPno-True_PPcr-None_PPre-True_drop-0.0_trainjustclassifier-False_1681578343547154/new_test_pred_best\n",
                  "Saving the scores in best_results/noDA_dull_razor/tf_efficientnet_b5_fold-1_lrinit-0.0001_batchsize-8_optimizer-AdamW_maxepochs-150_DA-None_PPen-None_PPha-dull_razor_PPco-None_PPde-None_PPno-True_PPcr-None_PPre-True_drop-0.0_trainjustclassifier-False_1681578343547154/new_test_pred_last\n",
                  "Saving the scores in best_results/noDA_dull_razor/seresnext101_32x8d_fold-1_lrinit-0.0001_batchsize-16_optimizer-Adam_maxepochs-150_DA-None_PPen-None_PPha-dull_razor_PPco-None_PPde-None_PPno-True_PPcr-None_PPre-True_drop-0.0_trainjustclassifier-False_16816197748986473/new_test_pred_best\n",
                  "Saving the scores in best_results/noDA_dull_razor/seresnext101_32x8d_fold-1_lrinit-0.0001_batchsize-16_optimizer-Adam_maxepochs-150_DA-None_PPen-None_PPha-dull_razor_PPco-None_PPde-None_PPno-True_PPcr-None_PPre-True_drop-0.0_trainjustclassifier-False_16816197748986473/new_test_pred_last\n",
                  "Saving the scores in best_results/noDA_dull_razor/efficientnet_b3_fold-1_lrinit-0.0001_batchsize-32_optimizer-Adam_maxepochs-150_DA-None_PPen-None_PPha-dull_razor_PPco-None_PPde-None_PPno-True_PPcr-None_PPre-True_drop-0.0_trainjustclassifier-False_168160886658134/new_test_pred_best\n",
                  "Saving the scores in best_results/noDA_dull_razor/efficientnet_b3_fold-1_lrinit-0.0001_batchsize-32_optimizer-Adam_maxepochs-150_DA-None_PPen-None_PPha-dull_razor_PPco-None_PPde-None_PPno-True_PPcr-None_PPre-True_drop-0.0_trainjustclassifier-False_168160886658134/new_test_pred_last\n",
                  "Saving the scores in best_results/noDA_dull_razor/densenet121_fold-1_lrinit-0.0001_batchsize-32_optimizer-Adam_maxepochs-150_DA-None_PPen-None_PPha-dull_razor_PPco-None_PPde-None_PPno-True_PPcr-None_PPre-True_drop-0.0_trainjustclassifier-False_16815960100901015/new_test_pred_best\n",
                  "Saving the scores in best_results/noDA_dull_razor/densenet121_fold-1_lrinit-0.0001_batchsize-32_optimizer-Adam_maxepochs-150_DA-None_PPen-None_PPha-dull_razor_PPco-None_PPde-None_PPno-True_PPcr-None_PPre-True_drop-0.0_trainjustclassifier-False_16815960100901015/new_test_pred_last\n",
                  "Saving the scores in best_results/noDA_dull_razor/resnest101e_fold-1_lrinit-0.0001_batchsize-8_optimizer-AdamW_maxepochs-150_DA-None_PPen-None_PPha-dull_razor_PPco-None_PPde-None_PPno-True_PPcr-None_PPre-True_drop-0.0_trainjustclassifier-False_16816147399259887/new_test_pred_best\n",
                  "Saving the scores in best_results/noDA_dull_razor/resnest101e_fold-1_lrinit-0.0001_batchsize-8_optimizer-AdamW_maxepochs-150_DA-None_PPen-None_PPha-dull_razor_PPco-None_PPde-None_PPno-True_PPcr-None_PPre-True_drop-0.0_trainjustclassifier-False_16816147399259887/new_test_pred_last\n",
                  "Saving the scores in best_results/noDA_dull_razor/efficientnet_b2_fold-1_lrinit-0.0001_batchsize-8_optimizer-Adam_maxepochs-150_DA-None_PPen-None_PPha-dull_razor_PPco-None_PPde-None_PPno-True_PPcr-None_PPre-True_drop-0.0_trainjustclassifier-False_1681605452092757/new_test_pred_best\n",
                  "Saving the scores in best_results/noDA_dull_razor/efficientnet_b2_fold-1_lrinit-0.0001_batchsize-8_optimizer-Adam_maxepochs-150_DA-None_PPen-None_PPha-dull_razor_PPco-None_PPde-None_PPno-True_PPcr-None_PPre-True_drop-0.0_trainjustclassifier-False_1681605452092757/new_test_pred_last\n",
                  "Saving the scores in best_results/noDA_dull_razor/efficientnet_b4_fold-1_lrinit-0.0001_batchsize-16_optimizer-AdamW_maxepochs-150_DA-None_PPen-None_PPha-dull_razor_PPco-None_PPde-None_PPno-True_PPcr-None_PPre-True_drop-0.0_trainjustclassifier-False_16816117612299373/new_test_pred_best\n",
                  "Saving the scores in best_results/noDA_dull_razor/efficientnet_b4_fold-1_lrinit-0.0001_batchsize-16_optimizer-AdamW_maxepochs-150_DA-None_PPen-None_PPha-dull_razor_PPco-None_PPde-None_PPno-True_PPcr-None_PPre-True_drop-0.0_trainjustclassifier-False_16816117612299373/new_test_pred_last\n",
                  "Saving the scores in best_results/noDA_dull_razor/resnext101_32x8d_fold-1_lrinit-0.0001_batchsize-8_optimizer-SGD_maxepochs-150_DA-None_PPen-None_PPha-dull_razor_PPco-None_PPde-None_PPno-True_PPcr-None_PPre-True_drop-0.0_trainjustclassifier-False_16816259025290165/new_test_pred_best\n",
                  "Saving the scores in best_results/noDA_dull_razor/resnext101_32x8d_fold-1_lrinit-0.0001_batchsize-8_optimizer-SGD_maxepochs-150_DA-None_PPen-None_PPha-dull_razor_PPco-None_PPde-None_PPno-True_PPcr-None_PPre-True_drop-0.0_trainjustclassifier-False_16816259025290165/new_test_pred_last\n",
                  "Experimento:  noDA_noPP\n",
                  "Experimento:  shades_of_gray\n",
                  "Experimento:  mean_filter\n",
                  "Experimento:  mean_filter_2\n",
                  "Experimento:  noDA_CLAHE_dull_razor_shades_of_gray_cropped_images_folder_150_epochs\n",
                  "Saving the scores in best_results/noDA_CLAHE_dull_razor_shades_of_gray_cropped_images_folder_150_epochs/resnest101e_fold-1_lrinit-0.0001_batchsize-8_optimizer-AdamW_maxepochs-150_DA-None_PPen-CLAHE_PPha-dull_razor_PPco-shades_of_gray_PPde-None_PPno-True_PPcr-cropped_images_folder_PPre-True_drop-0.0_trainjustclassifier-False_16822684805454805/new_test_pred_best\n",
                  "Saving the scores in best_results/noDA_CLAHE_dull_razor_shades_of_gray_cropped_images_folder_150_epochs/resnest101e_fold-1_lrinit-0.0001_batchsize-8_optimizer-AdamW_maxepochs-150_DA-None_PPen-CLAHE_PPha-dull_razor_PPco-shades_of_gray_PPde-None_PPno-True_PPcr-cropped_images_folder_PPre-True_drop-0.0_trainjustclassifier-False_16822684805454805/new_test_pred_last\n",
                  "Saving the scores in best_results/noDA_CLAHE_dull_razor_shades_of_gray_cropped_images_folder_150_epochs/efficientnet_b4_fold-1_lrinit-0.0001_batchsize-16_optimizer-AdamW_maxepochs-150_DA-None_PPen-CLAHE_PPha-dull_razor_PPco-shades_of_gray_PPde-None_PPno-True_PPcr-cropped_images_folder_PPre-True_drop-0.0_trainjustclassifier-False_1682261769617501/new_test_pred_best\n",
                  "Saving the scores in best_results/noDA_CLAHE_dull_razor_shades_of_gray_cropped_images_folder_150_epochs/efficientnet_b4_fold-1_lrinit-0.0001_batchsize-16_optimizer-AdamW_maxepochs-150_DA-None_PPen-CLAHE_PPha-dull_razor_PPco-shades_of_gray_PPde-None_PPno-True_PPcr-cropped_images_folder_PPre-True_drop-0.0_trainjustclassifier-False_1682261769617501/new_test_pred_last\n",
                  "Saving the scores in best_results/noDA_CLAHE_dull_razor_shades_of_gray_cropped_images_folder_150_epochs/efficientnet_b1_fold-1_lrinit-0.0001_batchsize-8_optimizer-AdamW_maxepochs-150_DA-None_PPen-CLAHE_PPha-dull_razor_PPco-shades_of_gray_PPde-None_PPno-True_PPcr-cropped_images_folder_PPre-True_drop-0.0_trainjustclassifier-False_1682248022685368/new_test_pred_best\n",
                  "Saving the scores in best_results/noDA_CLAHE_dull_razor_shades_of_gray_cropped_images_folder_150_epochs/efficientnet_b1_fold-1_lrinit-0.0001_batchsize-8_optimizer-AdamW_maxepochs-150_DA-None_PPen-CLAHE_PPha-dull_razor_PPco-shades_of_gray_PPde-None_PPno-True_PPcr-cropped_images_folder_PPre-True_drop-0.0_trainjustclassifier-False_1682248022685368/new_test_pred_last\n",
                  "Saving the scores in best_results/noDA_CLAHE_dull_razor_shades_of_gray_cropped_images_folder_150_epochs/tf_efficientnet_b5_fold-1_lrinit-0.0001_batchsize-8_optimizer-AdamW_maxepochs-150_DA-None_PPen-CLAHE_PPha-dull_razor_PPco-shades_of_gray_PPde-None_PPno-True_PPcr-cropped_images_folder_PPre-True_drop-0.0_trainjustclassifier-False_16821710843239017/new_test_pred_best\n",
                  "Saving the scores in best_results/noDA_CLAHE_dull_razor_shades_of_gray_cropped_images_folder_150_epochs/tf_efficientnet_b5_fold-1_lrinit-0.0001_batchsize-8_optimizer-AdamW_maxepochs-150_DA-None_PPen-CLAHE_PPha-dull_razor_PPco-shades_of_gray_PPde-None_PPno-True_PPcr-cropped_images_folder_PPre-True_drop-0.0_trainjustclassifier-False_16821710843239017/new_test_pred_last\n",
                  "Saving the scores in best_results/noDA_CLAHE_dull_razor_shades_of_gray_cropped_images_folder_150_epochs/seresnext101_32x8d_fold-1_lrinit-0.0001_batchsize-16_optimizer-Adam_maxepochs-150_DA-None_PPen-CLAHE_PPha-dull_razor_PPco-shades_of_gray_PPde-None_PPno-True_PPcr-cropped_images_folder_PPre-True_drop-0.0_trainjustclassifier-False_16822753237849932/new_test_pred_best\n",
                  "Saving the scores in best_results/noDA_CLAHE_dull_razor_shades_of_gray_cropped_images_folder_150_epochs/seresnext101_32x8d_fold-1_lrinit-0.0001_batchsize-16_optimizer-Adam_maxepochs-150_DA-None_PPen-CLAHE_PPha-dull_razor_PPco-shades_of_gray_PPde-None_PPno-True_PPcr-cropped_images_folder_PPre-True_drop-0.0_trainjustclassifier-False_16822753237849932/new_test_pred_last\n",
                  "Saving the scores in best_results/noDA_CLAHE_dull_razor_shades_of_gray_cropped_images_folder_150_epochs/efficientnet_b0_fold-1_lrinit-0.0001_batchsize-8_optimizer-AdamW_maxepochs-150_DA-None_PPen-CLAHE_PPha-dull_razor_PPco-shades_of_gray_PPde-None_PPno-True_PPcr-cropped_images_folder_PPre-True_drop-0.0_trainjustclassifier-False_16822441621434925/new_test_pred_best\n",
                  "Saving the scores in best_results/noDA_CLAHE_dull_razor_shades_of_gray_cropped_images_folder_150_epochs/efficientnet_b0_fold-1_lrinit-0.0001_batchsize-8_optimizer-AdamW_maxepochs-150_DA-None_PPen-CLAHE_PPha-dull_razor_PPco-shades_of_gray_PPde-None_PPno-True_PPcr-cropped_images_folder_PPre-True_drop-0.0_trainjustclassifier-False_16822441621434925/new_test_pred_last\n",
                  "Saving the scores in best_results/noDA_CLAHE_dull_razor_shades_of_gray_cropped_images_folder_150_epochs/vgg19_fold-1_lrinit-0.0001_batchsize-8_optimizer-SGD_maxepochs-150_DA-None_PPen-CLAHE_PPha-dull_razor_PPco-shades_of_gray_PPde-None_PPno-True_PPcr-cropped_images_folder_PPre-True_drop-0.0_trainjustclassifier-False_16822792562569506/new_test_pred_best\n",
                  "Saving the scores in best_results/noDA_CLAHE_dull_razor_shades_of_gray_cropped_images_folder_150_epochs/vgg19_fold-1_lrinit-0.0001_batchsize-8_optimizer-SGD_maxepochs-150_DA-None_PPen-CLAHE_PPha-dull_razor_PPco-shades_of_gray_PPde-None_PPno-True_PPcr-cropped_images_folder_PPre-True_drop-0.0_trainjustclassifier-False_16822792562569506/new_test_pred_last\n",
                  "Saving the scores in best_results/noDA_CLAHE_dull_razor_shades_of_gray_cropped_images_folder_150_epochs/tf_efficientnet_b6_fold-1_lrinit-0.0001_batchsize-4_optimizer-AdamW_maxepochs-150_DA-None_PPen-CLAHE_PPha-dull_razor_PPco-shades_of_gray_PPde-None_PPno-True_PPcr-cropped_images_folder_PPre-True_drop-0.0_trainjustclassifier-False_16821996159821532/new_test_pred_best\n",
                  "Saving the scores in best_results/noDA_CLAHE_dull_razor_shades_of_gray_cropped_images_folder_150_epochs/tf_efficientnet_b6_fold-1_lrinit-0.0001_batchsize-4_optimizer-AdamW_maxepochs-150_DA-None_PPen-CLAHE_PPha-dull_razor_PPco-shades_of_gray_PPde-None_PPno-True_PPcr-cropped_images_folder_PPre-True_drop-0.0_trainjustclassifier-False_16821996159821532/new_test_pred_last\n",
                  "Saving the scores in best_results/noDA_CLAHE_dull_razor_shades_of_gray_cropped_images_folder_150_epochs/efficientnet_b3_fold-1_lrinit-0.0001_batchsize-32_optimizer-Adam_maxepochs-150_DA-None_PPen-CLAHE_PPha-dull_razor_PPco-shades_of_gray_PPde-None_PPno-True_PPcr-cropped_images_folder_PPre-True_drop-0.0_trainjustclassifier-False_16822562694846432/new_test_pred_best\n",
                  "Saving the scores in best_results/noDA_CLAHE_dull_razor_shades_of_gray_cropped_images_folder_150_epochs/efficientnet_b3_fold-1_lrinit-0.0001_batchsize-32_optimizer-Adam_maxepochs-150_DA-None_PPen-CLAHE_PPha-dull_razor_PPco-shades_of_gray_PPde-None_PPno-True_PPcr-cropped_images_folder_PPre-True_drop-0.0_trainjustclassifier-False_16822562694846432/new_test_pred_last\n",
                  "Saving the scores in best_results/noDA_CLAHE_dull_razor_shades_of_gray_cropped_images_folder_150_epochs/pnasnet5large_fold-1_lrinit-0.0001_batchsize-8_optimizer-Adam_maxepochs-150_DA-None_PPen-CLAHE_PPha-dull_razor_PPco-shades_of_gray_PPde-None_PPno-True_PPcr-cropped_images_folder_PPre-True_drop-0.0_trainjustclassifier-False_16822876867185595/new_test_pred_best\n",
                  "Saving the scores in best_results/noDA_CLAHE_dull_razor_shades_of_gray_cropped_images_folder_150_epochs/pnasnet5large_fold-1_lrinit-0.0001_batchsize-8_optimizer-Adam_maxepochs-150_DA-None_PPen-CLAHE_PPha-dull_razor_PPco-shades_of_gray_PPde-None_PPno-True_PPcr-cropped_images_folder_PPre-True_drop-0.0_trainjustclassifier-False_16822876867185595/new_test_pred_last\n",
                  "Saving the scores in best_results/noDA_CLAHE_dull_razor_shades_of_gray_cropped_images_folder_150_epochs/densenet121_fold-1_lrinit-0.0001_batchsize-32_optimizer-Adam_maxepochs-150_DA-None_PPen-CLAHE_PPha-dull_razor_PPco-shades_of_gray_PPde-None_PPno-True_PPcr-cropped_images_folder_PPre-True_drop-0.0_trainjustclassifier-False_16822403095516422/new_test_pred_best\n",
                  "Saving the scores in best_results/noDA_CLAHE_dull_razor_shades_of_gray_cropped_images_folder_150_epochs/densenet121_fold-1_lrinit-0.0001_batchsize-32_optimizer-Adam_maxepochs-150_DA-None_PPen-CLAHE_PPha-dull_razor_PPco-shades_of_gray_PPde-None_PPno-True_PPcr-cropped_images_folder_PPre-True_drop-0.0_trainjustclassifier-False_16822403095516422/new_test_pred_last\n",
                  "Saving the scores in best_results/noDA_CLAHE_dull_razor_shades_of_gray_cropped_images_folder_150_epochs/resnext101_32x8d_fold-1_lrinit-0.0001_batchsize-8_optimizer-SGD_maxepochs-150_DA-None_PPen-CLAHE_PPha-dull_razor_PPco-shades_of_gray_PPde-None_PPno-True_PPcr-cropped_images_folder_PPre-True_drop-0.0_trainjustclassifier-False_16822824349913924/new_test_pred_best\n",
                  "Saving the scores in best_results/noDA_CLAHE_dull_razor_shades_of_gray_cropped_images_folder_150_epochs/resnext101_32x8d_fold-1_lrinit-0.0001_batchsize-8_optimizer-SGD_maxepochs-150_DA-None_PPen-CLAHE_PPha-dull_razor_PPco-shades_of_gray_PPde-None_PPno-True_PPcr-cropped_images_folder_PPre-True_drop-0.0_trainjustclassifier-False_16822824349913924/new_test_pred_last\n",
                  "Saving the scores in best_results/noDA_CLAHE_dull_razor_shades_of_gray_cropped_images_folder_150_epochs/efficientnet_b2_fold-1_lrinit-0.0001_batchsize-8_optimizer-Adam_maxepochs-150_DA-None_PPen-CLAHE_PPha-dull_razor_PPco-shades_of_gray_PPde-None_PPno-True_PPcr-cropped_images_folder_PPre-True_drop-0.0_trainjustclassifier-False_16822522254006083/new_test_pred_best\n",
                  "Saving the scores in best_results/noDA_CLAHE_dull_razor_shades_of_gray_cropped_images_folder_150_epochs/efficientnet_b2_fold-1_lrinit-0.0001_batchsize-8_optimizer-Adam_maxepochs-150_DA-None_PPen-CLAHE_PPha-dull_razor_PPco-shades_of_gray_PPde-None_PPno-True_PPcr-cropped_images_folder_PPre-True_drop-0.0_trainjustclassifier-False_16822522254006083/new_test_pred_last\n",
                  "Experimento:  noDA_noPP_2\n",
                  "Saving the scores in best_results/noDA_noPP_2/densenet121_fold-1_lrinit-0.0001_batchsize-32_optimizer-Adam_maxepochs-50_DA-None_PPen-None_PPha-None_PPco-None_PPde-None_PPno-True_PPcr-None_PPre-True_16804494117531004/new_test_pred_best\n",
                  "Saving the scores in best_results/noDA_noPP_2/densenet121_fold-1_lrinit-0.0001_batchsize-32_optimizer-Adam_maxepochs-50_DA-None_PPen-None_PPha-None_PPco-None_PPde-None_PPno-True_PPcr-None_PPre-True_16804494117531004/new_test_pred_last\n",
                  "Saving the scores in best_results/noDA_noPP_2/pnasnet5large_fold-1_lrinit-0.0001_batchsize-8_optimizer-Adam_maxepochs-50_DA-None_PPen-None_PPha-None_PPco-None_PPde-None_PPno-True_PPcr-None_PPre-True_16804659269966524/new_test_pred_best\n",
                  "Saving the scores in best_results/noDA_noPP_2/pnasnet5large_fold-1_lrinit-0.0001_batchsize-8_optimizer-Adam_maxepochs-50_DA-None_PPen-None_PPha-None_PPco-None_PPde-None_PPno-True_PPcr-None_PPre-True_16804659269966524/new_test_pred_last\n",
                  "Saving the scores in best_results/noDA_noPP_2/seresnext101_32x8d_fold-1_lrinit-0.0001_batchsize-32_optimizer-Adam_maxepochs-50_DA-None_PPen-None_PPha-None_PPco-None_PPde-None_PPno-True_PPcr-None_PPre-True_16804603710790324/new_test_pred_best\n",
                  "Saving the scores in best_results/noDA_noPP_2/seresnext101_32x8d_fold-1_lrinit-0.0001_batchsize-32_optimizer-Adam_maxepochs-50_DA-None_PPen-None_PPha-None_PPco-None_PPde-None_PPno-True_PPcr-None_PPre-True_16804603710790324/new_test_pred_last\n",
                  "Saving the scores in best_results/noDA_noPP_2/resnext101_32x8d_fold-1_lrinit-0.001_batchsize-8_optimizer-SGD_maxepochs-50_DA-None_PPen-None_PPha-None_PPco-None_PPde-None_PPno-True_PPcr-None_PPre-True_1680463849842641/new_test_pred_best\n",
                  "Saving the scores in best_results/noDA_noPP_2/resnext101_32x8d_fold-1_lrinit-0.001_batchsize-8_optimizer-SGD_maxepochs-50_DA-None_PPen-None_PPha-None_PPco-None_PPde-None_PPno-True_PPcr-None_PPre-True_1680463849842641/new_test_pred_last\n",
                  "Saving the scores in best_results/noDA_noPP_2/tf_efficientnet_b5_fold-1_lrinit-0.0001_batchsize-8_optimizer-AdamW_maxepochs-50_DA-None_PPen-None_PPha-None_PPco-None_PPde-None_PPno-True_PPcr-None_PPre-True_16804371971029034/new_test_pred_best\n",
                  "Saving the scores in best_results/noDA_noPP_2/tf_efficientnet_b5_fold-1_lrinit-0.0001_batchsize-8_optimizer-AdamW_maxepochs-50_DA-None_PPen-None_PPha-None_PPco-None_PPde-None_PPno-True_PPcr-None_PPre-True_16804371971029034/new_test_pred_last\n",
                  "Saving the scores in best_results/noDA_noPP_2/efficientnet_b0_fold-1_lrinit-0.001_batchsize-8_optimizer-AdamW_maxepochs-50_DA-None_PPen-None_PPha-None_PPco-None_PPde-None_PPno-True_PPcr-None_PPre-True_16804503982108653/new_test_pred_best\n",
                  "Saving the scores in best_results/noDA_noPP_2/efficientnet_b0_fold-1_lrinit-0.001_batchsize-8_optimizer-AdamW_maxepochs-50_DA-None_PPen-None_PPha-None_PPco-None_PPde-None_PPno-True_PPcr-None_PPre-True_16804503982108653/new_test_pred_last\n",
                  "Saving the scores in best_results/noDA_noPP_2/efficientnet_b4_fold-1_lrinit-0.001_batchsize-16_optimizer-AdamW_maxepochs-50_DA-None_PPen-None_PPha-None_PPco-None_PPde-None_PPno-True_PPcr-None_PPre-True_16804558435045285/new_test_pred_best\n",
                  "Saving the scores in best_results/noDA_noPP_2/efficientnet_b4_fold-1_lrinit-0.001_batchsize-16_optimizer-AdamW_maxepochs-50_DA-None_PPen-None_PPha-None_PPco-None_PPde-None_PPno-True_PPcr-None_PPre-True_16804558435045285/new_test_pred_last\n",
                  "Saving the scores in best_results/noDA_noPP_2/efficientnet_b2_fold-1_lrinit-0.001_batchsize-8_optimizer-Adam_maxepochs-50_DA-None_PPen-None_PPha-None_PPco-None_PPde-None_PPno-True_PPcr-None_PPre-True_16804534530655181/new_test_pred_best\n",
                  "Saving the scores in best_results/noDA_noPP_2/efficientnet_b2_fold-1_lrinit-0.001_batchsize-8_optimizer-Adam_maxepochs-50_DA-None_PPen-None_PPha-None_PPco-None_PPde-None_PPno-True_PPcr-None_PPre-True_16804534530655181/new_test_pred_last\n",
                  "Saving the scores in best_results/noDA_noPP_2/tf_efficientnet_b6_fold-1_lrinit-0.0001_batchsize-4_optimizer-AdamW_maxepochs-50_DA-None_PPen-None_PPha-None_PPco-None_PPde-None_PPno-True_PPcr-None_PPre-True_16804433789744487/new_test_pred_best\n",
                  "Saving the scores in best_results/noDA_noPP_2/tf_efficientnet_b6_fold-1_lrinit-0.0001_batchsize-4_optimizer-AdamW_maxepochs-50_DA-None_PPen-None_PPha-None_PPco-None_PPde-None_PPno-True_PPcr-None_PPre-True_16804433789744487/new_test_pred_last\n",
                  "Saving the scores in best_results/noDA_noPP_2/resnest101e_fold-1_lrinit-0.0001_batchsize-8_optimizer-AdamW_maxepochs-50_DA-None_PPen-None_PPha-None_PPco-None_PPde-None_PPno-True_PPcr-None_PPre-True_16804584377782383/new_test_pred_best\n",
                  "Saving the scores in best_results/noDA_noPP_2/resnest101e_fold-1_lrinit-0.0001_batchsize-8_optimizer-AdamW_maxepochs-50_DA-None_PPen-None_PPha-None_PPco-None_PPde-None_PPno-True_PPcr-None_PPre-True_16804584377782383/new_test_pred_last\n",
                  "Saving the scores in best_results/noDA_noPP_2/vgg19_fold-1_lrinit-0.001_batchsize-8_optimizer-SGD_maxepochs-50_DA-None_PPen-None_PPha-None_PPco-None_PPde-None_PPno-True_PPcr-None_PPre-True_16804621860224955/new_test_pred_best\n",
                  "Saving the scores in best_results/noDA_noPP_2/vgg19_fold-1_lrinit-0.001_batchsize-8_optimizer-SGD_maxepochs-50_DA-None_PPen-None_PPha-None_PPco-None_PPde-None_PPno-True_PPcr-None_PPre-True_16804621860224955/new_test_pred_last\n",
                  "Saving the scores in best_results/noDA_noPP_2/efficientnet_b3_fold-1_lrinit-0.001_batchsize-32_optimizer-Adam_maxepochs-50_DA-None_PPen-None_PPha-None_PPco-None_PPde-None_PPno-True_PPcr-None_PPre-True_16804548918545344/new_test_pred_best\n",
                  "Saving the scores in best_results/noDA_noPP_2/efficientnet_b3_fold-1_lrinit-0.001_batchsize-32_optimizer-Adam_maxepochs-50_DA-None_PPen-None_PPha-None_PPco-None_PPde-None_PPno-True_PPcr-None_PPre-True_16804548918545344/new_test_pred_last\n",
                  "Saving the scores in best_results/noDA_noPP_2/efficientnet_b1_fold-1_lrinit-0.001_batchsize-8_optimizer-AdamW_maxepochs-50_DA-None_PPen-None_PPha-None_PPco-None_PPde-None_PPno-True_PPcr-None_PPre-True_16804519760256855/new_test_pred_best\n",
                  "Saving the scores in best_results/noDA_noPP_2/efficientnet_b1_fold-1_lrinit-0.001_batchsize-8_optimizer-AdamW_maxepochs-50_DA-None_PPen-None_PPha-None_PPco-None_PPde-None_PPno-True_PPcr-None_PPre-True_16804519760256855/new_test_pred_last\n",
                  "Experimento:  DA0_PPcropped\n",
                  "Experimento:  DA2_shades_of_gray_CLAHE_cropped_images_folder\n",
                  "Saving the scores in best_results/DA2_shades_of_gray_CLAHE_cropped_images_folder/efficientnet_b1_fold-1_lrinit-0.0001_batchsize-8_optimizer-AdamW_maxepochs-150_DA-2_PPen-CLAHE_PPha-None_PPco-shades_of_gray_PPde-None_PPno-True_PPcr-cropped_images_folder_PPre-True_drop-0.0_trainjustclassifier-False_16811986395792065/new_test_pred_best\n",
                  "Saving the scores in best_results/DA2_shades_of_gray_CLAHE_cropped_images_folder/efficientnet_b1_fold-1_lrinit-0.0001_batchsize-8_optimizer-AdamW_maxepochs-150_DA-2_PPen-CLAHE_PPha-None_PPco-shades_of_gray_PPde-None_PPno-True_PPcr-cropped_images_folder_PPre-True_drop-0.0_trainjustclassifier-False_16811986395792065/new_test_pred_last\n",
                  "Saving the scores in best_results/DA2_shades_of_gray_CLAHE_cropped_images_folder/resnest101e_fold-1_lrinit-0.0001_batchsize-8_optimizer-AdamW_maxepochs-150_DA-2_PPen-CLAHE_PPha-None_PPco-shades_of_gray_PPde-None_PPno-True_PPcr-cropped_images_folder_PPre-True_drop-0.0_trainjustclassifier-False_16812147478957005/new_test_pred_best\n",
                  "Saving the scores in best_results/DA2_shades_of_gray_CLAHE_cropped_images_folder/resnest101e_fold-1_lrinit-0.0001_batchsize-8_optimizer-AdamW_maxepochs-150_DA-2_PPen-CLAHE_PPha-None_PPco-shades_of_gray_PPde-None_PPno-True_PPcr-cropped_images_folder_PPre-True_drop-0.0_trainjustclassifier-False_16812147478957005/new_test_pred_last\n",
                  "Saving the scores in best_results/DA2_shades_of_gray_CLAHE_cropped_images_folder/efficientnet_b0_fold-1_lrinit-0.0001_batchsize-8_optimizer-AdamW_maxepochs-150_DA-2_PPen-CLAHE_PPha-None_PPco-shades_of_gray_PPde-None_PPno-True_PPcr-cropped_images_folder_PPre-True_drop-0.0_trainjustclassifier-False_16811956157680733/new_test_pred_best\n",
                  "Saving the scores in best_results/DA2_shades_of_gray_CLAHE_cropped_images_folder/efficientnet_b0_fold-1_lrinit-0.0001_batchsize-8_optimizer-AdamW_maxepochs-150_DA-2_PPen-CLAHE_PPha-None_PPco-shades_of_gray_PPde-None_PPno-True_PPcr-cropped_images_folder_PPre-True_drop-0.0_trainjustclassifier-False_16811956157680733/new_test_pred_last\n",
                  "Saving the scores in best_results/DA2_shades_of_gray_CLAHE_cropped_images_folder/efficientnet_b3_fold-1_lrinit-0.0001_batchsize-32_optimizer-Adam_maxepochs-150_DA-2_PPen-CLAHE_PPha-None_PPco-shades_of_gray_PPde-None_PPno-True_PPcr-cropped_images_folder_PPre-True_drop-0.0_trainjustclassifier-False_16812053182884653/new_test_pred_best\n",
                  "Saving the scores in best_results/DA2_shades_of_gray_CLAHE_cropped_images_folder/efficientnet_b3_fold-1_lrinit-0.0001_batchsize-32_optimizer-Adam_maxepochs-150_DA-2_PPen-CLAHE_PPha-None_PPco-shades_of_gray_PPde-None_PPno-True_PPcr-cropped_images_folder_PPre-True_drop-0.0_trainjustclassifier-False_16812053182884653/new_test_pred_last\n",
                  "Saving the scores in best_results/DA2_shades_of_gray_CLAHE_cropped_images_folder/tf_efficientnet_b5_fold-1_lrinit-0.0001_batchsize-8_optimizer-AdamW_maxepochs-150_DA-2_PPen-CLAHE_PPha-None_PPco-shades_of_gray_PPde-None_PPno-True_PPcr-cropped_images_folder_PPre-True_drop-0.0_trainjustclassifier-False_16811537277406313/new_test_pred_best\n",
                  "Saving the scores in best_results/DA2_shades_of_gray_CLAHE_cropped_images_folder/tf_efficientnet_b5_fold-1_lrinit-0.0001_batchsize-8_optimizer-AdamW_maxepochs-150_DA-2_PPen-CLAHE_PPha-None_PPco-shades_of_gray_PPde-None_PPno-True_PPcr-cropped_images_folder_PPre-True_drop-0.0_trainjustclassifier-False_16811537277406313/new_test_pred_last\n",
                  "Saving the scores in best_results/DA2_shades_of_gray_CLAHE_cropped_images_folder/tf_efficientnet_b6_fold-1_lrinit-0.0001_batchsize-4_optimizer-AdamW_maxepochs-150_DA-2_PPen-CLAHE_PPha-None_PPco-shades_of_gray_PPde-None_PPno-True_PPcr-cropped_images_folder_PPre-True_drop-0.0_trainjustclassifier-False_16811663412327688/new_test_pred_best\n",
                  "Saving the scores in best_results/DA2_shades_of_gray_CLAHE_cropped_images_folder/tf_efficientnet_b6_fold-1_lrinit-0.0001_batchsize-4_optimizer-AdamW_maxepochs-150_DA-2_PPen-CLAHE_PPha-None_PPco-shades_of_gray_PPde-None_PPno-True_PPcr-cropped_images_folder_PPre-True_drop-0.0_trainjustclassifier-False_16811663412327688/new_test_pred_last\n",
                  "Saving the scores in best_results/DA2_shades_of_gray_CLAHE_cropped_images_folder/seresnext101_32x8d_fold-1_lrinit-0.0001_batchsize-16_optimizer-Adam_maxepochs-150_DA-2_PPen-CLAHE_PPha-None_PPco-shades_of_gray_PPde-None_PPno-True_PPcr-cropped_images_folder_PPre-True_drop-0.0_trainjustclassifier-False_16812216389786265/new_test_pred_best\n",
                  "Saving the scores in best_results/DA2_shades_of_gray_CLAHE_cropped_images_folder/seresnext101_32x8d_fold-1_lrinit-0.0001_batchsize-16_optimizer-Adam_maxepochs-150_DA-2_PPen-CLAHE_PPha-None_PPco-shades_of_gray_PPde-None_PPno-True_PPcr-cropped_images_folder_PPre-True_drop-0.0_trainjustclassifier-False_16812216389786265/new_test_pred_last\n",
                  "Saving the scores in best_results/DA2_shades_of_gray_CLAHE_cropped_images_folder/efficientnet_b2_fold-1_lrinit-0.0001_batchsize-8_optimizer-Adam_maxepochs-150_DA-2_PPen-CLAHE_PPha-None_PPco-shades_of_gray_PPde-None_PPno-True_PPcr-cropped_images_folder_PPre-True_drop-0.0_trainjustclassifier-False_16812014828593228/new_test_pred_best\n",
                  "Saving the scores in best_results/DA2_shades_of_gray_CLAHE_cropped_images_folder/efficientnet_b2_fold-1_lrinit-0.0001_batchsize-8_optimizer-Adam_maxepochs-150_DA-2_PPen-CLAHE_PPha-None_PPco-shades_of_gray_PPde-None_PPno-True_PPcr-cropped_images_folder_PPre-True_drop-0.0_trainjustclassifier-False_16812014828593228/new_test_pred_last\n",
                  "Saving the scores in best_results/DA2_shades_of_gray_CLAHE_cropped_images_folder/pnasnet5large_fold-1_lrinit-0.0001_batchsize-8_optimizer-Adam_maxepochs-150_DA-2_PPen-CLAHE_PPha-None_PPco-shades_of_gray_PPde-None_PPno-True_PPcr-cropped_images_folder_PPre-True_drop-0.0_trainjustclassifier-False_1681234294169083/new_test_pred_best\n",
                  "Saving the scores in best_results/DA2_shades_of_gray_CLAHE_cropped_images_folder/pnasnet5large_fold-1_lrinit-0.0001_batchsize-8_optimizer-Adam_maxepochs-150_DA-2_PPen-CLAHE_PPha-None_PPco-shades_of_gray_PPde-None_PPno-True_PPcr-cropped_images_folder_PPre-True_drop-0.0_trainjustclassifier-False_1681234294169083/new_test_pred_last\n",
                  "Saving the scores in best_results/DA2_shades_of_gray_CLAHE_cropped_images_folder/densenet121_fold-1_lrinit-0.0001_batchsize-32_optimizer-Adam_maxepochs-150_DA-2_PPen-CLAHE_PPha-None_PPco-shades_of_gray_PPde-None_PPno-True_PPcr-cropped_images_folder_PPre-True_drop-0.0_trainjustclassifier-False_1681193492038032/new_test_pred_best\n",
                  "Saving the scores in best_results/DA2_shades_of_gray_CLAHE_cropped_images_folder/densenet121_fold-1_lrinit-0.0001_batchsize-32_optimizer-Adam_maxepochs-150_DA-2_PPen-CLAHE_PPha-None_PPco-shades_of_gray_PPde-None_PPno-True_PPcr-cropped_images_folder_PPre-True_drop-0.0_trainjustclassifier-False_1681193492038032/new_test_pred_last\n",
                  "Saving the scores in best_results/DA2_shades_of_gray_CLAHE_cropped_images_folder/vgg19_fold-1_lrinit-0.0001_batchsize-8_optimizer-SGD_maxepochs-150_DA-2_PPen-CLAHE_PPha-None_PPco-shades_of_gray_PPde-None_PPno-True_PPcr-cropped_images_folder_PPre-True_drop-0.0_trainjustclassifier-False_16812259673979416/new_test_pred_best\n",
                  "Saving the scores in best_results/DA2_shades_of_gray_CLAHE_cropped_images_folder/vgg19_fold-1_lrinit-0.0001_batchsize-8_optimizer-SGD_maxepochs-150_DA-2_PPen-CLAHE_PPha-None_PPco-shades_of_gray_PPde-None_PPno-True_PPcr-cropped_images_folder_PPre-True_drop-0.0_trainjustclassifier-False_16812259673979416/new_test_pred_last\n",
                  "Saving the scores in best_results/DA2_shades_of_gray_CLAHE_cropped_images_folder/resnext101_32x8d_fold-1_lrinit-0.0001_batchsize-8_optimizer-SGD_maxepochs-150_DA-2_PPen-CLAHE_PPha-None_PPco-shades_of_gray_PPde-None_PPno-True_PPcr-cropped_images_folder_PPre-True_drop-0.0_trainjustclassifier-False_16812287963155973/new_test_pred_best\n",
                  "Saving the scores in best_results/DA2_shades_of_gray_CLAHE_cropped_images_folder/resnext101_32x8d_fold-1_lrinit-0.0001_batchsize-8_optimizer-SGD_maxepochs-150_DA-2_PPen-CLAHE_PPha-None_PPco-shades_of_gray_PPde-None_PPno-True_PPcr-cropped_images_folder_PPre-True_drop-0.0_trainjustclassifier-False_16812287963155973/new_test_pred_last\n",
                  "Saving the scores in best_results/DA2_shades_of_gray_CLAHE_cropped_images_folder/efficientnet_b4_fold-1_lrinit-0.0001_batchsize-16_optimizer-AdamW_maxepochs-150_DA-2_PPen-CLAHE_PPha-None_PPco-shades_of_gray_PPde-None_PPno-True_PPcr-cropped_images_folder_PPre-True_drop-0.0_trainjustclassifier-False_16812092447302647/new_test_pred_best\n",
                  "Saving the scores in best_results/DA2_shades_of_gray_CLAHE_cropped_images_folder/efficientnet_b4_fold-1_lrinit-0.0001_batchsize-16_optimizer-AdamW_maxepochs-150_DA-2_PPen-CLAHE_PPha-None_PPco-shades_of_gray_PPde-None_PPno-True_PPcr-cropped_images_folder_PPre-True_drop-0.0_trainjustclassifier-False_16812092447302647/new_test_pred_last\n",
                  "Experimento:  noDA_PPcropped\n",
                  "Experimento:  noDA_dull_razor_shades_of_gray\n",
                  "Saving the scores in best_results/noDA_dull_razor_shades_of_gray/efficientnet_b3_fold-1_lrinit-0.0001_batchsize-32_optimizer-Adam_maxepochs-150_DA-None_PPen-None_PPha-dull_razor_PPco-shades_of_gray_PPde-None_PPno-True_PPcr-None_PPre-True_drop-0.0_trainjustclassifier-False_1682609246550111/new_test_pred_best\n",
                  "Saving the scores in best_results/noDA_dull_razor_shades_of_gray/efficientnet_b3_fold-1_lrinit-0.0001_batchsize-32_optimizer-Adam_maxepochs-150_DA-None_PPen-None_PPha-dull_razor_PPco-shades_of_gray_PPde-None_PPno-True_PPcr-None_PPre-True_drop-0.0_trainjustclassifier-False_1682609246550111/new_test_pred_last\n",
                  "Saving the scores in best_results/noDA_dull_razor_shades_of_gray/resnest101e_fold-1_lrinit-0.0001_batchsize-8_optimizer-AdamW_maxepochs-150_DA-None_PPen-None_PPha-dull_razor_PPco-shades_of_gray_PPde-None_PPno-True_PPcr-None_PPre-True_drop-0.0_trainjustclassifier-False_16826157932144434/new_test_pred_best\n",
                  "Saving the scores in best_results/noDA_dull_razor_shades_of_gray/resnest101e_fold-1_lrinit-0.0001_batchsize-8_optimizer-AdamW_maxepochs-150_DA-None_PPen-None_PPha-dull_razor_PPco-shades_of_gray_PPde-None_PPno-True_PPcr-None_PPre-True_drop-0.0_trainjustclassifier-False_16826157932144434/new_test_pred_last\n",
                  "Saving the scores in best_results/noDA_dull_razor_shades_of_gray/vgg19_fold-1_lrinit-0.0001_batchsize-8_optimizer-SGD_maxepochs-150_DA-None_PPen-None_PPha-dull_razor_PPco-shades_of_gray_PPde-None_PPno-True_PPcr-None_PPre-True_drop-0.0_trainjustclassifier-False_16826235942299325/new_test_pred_best\n",
                  "Saving the scores in best_results/noDA_dull_razor_shades_of_gray/vgg19_fold-1_lrinit-0.0001_batchsize-8_optimizer-SGD_maxepochs-150_DA-None_PPen-None_PPha-dull_razor_PPco-shades_of_gray_PPde-None_PPno-True_PPcr-None_PPre-True_drop-0.0_trainjustclassifier-False_16826235942299325/new_test_pred_last\n",
                  "Saving the scores in best_results/noDA_dull_razor_shades_of_gray/efficientnet_b1_fold-1_lrinit-0.0001_batchsize-8_optimizer-AdamW_maxepochs-150_DA-None_PPen-None_PPha-dull_razor_PPco-shades_of_gray_PPde-None_PPno-True_PPcr-None_PPre-True_drop-0.0_trainjustclassifier-False_16826037283733513/new_test_pred_best\n",
                  "Saving the scores in best_results/noDA_dull_razor_shades_of_gray/efficientnet_b1_fold-1_lrinit-0.0001_batchsize-8_optimizer-AdamW_maxepochs-150_DA-None_PPen-None_PPha-dull_razor_PPco-shades_of_gray_PPde-None_PPno-True_PPcr-None_PPre-True_drop-0.0_trainjustclassifier-False_16826037283733513/new_test_pred_last\n",
                  "Saving the scores in best_results/noDA_dull_razor_shades_of_gray/seresnext101_32x8d_fold-1_lrinit-0.0001_batchsize-16_optimizer-Adam_maxepochs-150_DA-None_PPen-None_PPha-dull_razor_PPco-shades_of_gray_PPde-None_PPno-True_PPcr-None_PPre-True_drop-0.0_trainjustclassifier-False_16826201298821478/new_test_pred_best\n",
                  "Saving the scores in best_results/noDA_dull_razor_shades_of_gray/seresnext101_32x8d_fold-1_lrinit-0.0001_batchsize-16_optimizer-Adam_maxepochs-150_DA-None_PPen-None_PPha-dull_razor_PPco-shades_of_gray_PPde-None_PPno-True_PPcr-None_PPre-True_drop-0.0_trainjustclassifier-False_16826201298821478/new_test_pred_last\n",
                  "Saving the scores in best_results/noDA_dull_razor_shades_of_gray/tf_efficientnet_b6_fold-1_lrinit-0.0001_batchsize-4_optimizer-AdamW_maxepochs-150_DA-None_PPen-None_PPha-dull_razor_PPco-shades_of_gray_PPde-None_PPno-True_PPcr-None_PPre-True_drop-0.0_trainjustclassifier-False_16825723187781777/new_test_pred_best\n",
                  "Saving the scores in best_results/noDA_dull_razor_shades_of_gray/tf_efficientnet_b6_fold-1_lrinit-0.0001_batchsize-4_optimizer-AdamW_maxepochs-150_DA-None_PPen-None_PPha-dull_razor_PPco-shades_of_gray_PPde-None_PPno-True_PPcr-None_PPre-True_drop-0.0_trainjustclassifier-False_16825723187781777/new_test_pred_last\n",
                  "Saving the scores in best_results/noDA_dull_razor_shades_of_gray/efficientnet_b4_fold-1_lrinit-0.0001_batchsize-16_optimizer-AdamW_maxepochs-150_DA-None_PPen-None_PPha-dull_razor_PPco-shades_of_gray_PPde-None_PPno-True_PPcr-None_PPre-True_drop-0.0_trainjustclassifier-False_16826119619480247/new_test_pred_best\n",
                  "Saving the scores in best_results/noDA_dull_razor_shades_of_gray/efficientnet_b4_fold-1_lrinit-0.0001_batchsize-16_optimizer-AdamW_maxepochs-150_DA-None_PPen-None_PPha-dull_razor_PPco-shades_of_gray_PPde-None_PPno-True_PPcr-None_PPre-True_drop-0.0_trainjustclassifier-False_16826119619480247/new_test_pred_last\n",
                  "Saving the scores in best_results/noDA_dull_razor_shades_of_gray/pnasnet5large_fold-1_lrinit-0.0001_batchsize-8_optimizer-Adam_maxepochs-150_DA-None_PPen-None_PPha-dull_razor_PPco-shades_of_gray_PPde-None_PPno-True_PPcr-None_PPre-True_drop-0.0_trainjustclassifier-False_16826284817632096/new_test_pred_best\n",
                  "Saving the scores in best_results/noDA_dull_razor_shades_of_gray/pnasnet5large_fold-1_lrinit-0.0001_batchsize-8_optimizer-Adam_maxepochs-150_DA-None_PPen-None_PPha-dull_razor_PPco-shades_of_gray_PPde-None_PPno-True_PPcr-None_PPre-True_drop-0.0_trainjustclassifier-False_16826284817632096/new_test_pred_last\n",
                  "Saving the scores in best_results/noDA_dull_razor_shades_of_gray/efficientnet_b0_fold-1_lrinit-0.0001_batchsize-8_optimizer-AdamW_maxepochs-150_DA-None_PPen-None_PPha-dull_razor_PPco-shades_of_gray_PPde-None_PPno-True_PPcr-None_PPre-True_drop-0.0_trainjustclassifier-False_16826007849303265/new_test_pred_best\n",
                  "Saving the scores in best_results/noDA_dull_razor_shades_of_gray/efficientnet_b0_fold-1_lrinit-0.0001_batchsize-8_optimizer-AdamW_maxepochs-150_DA-None_PPen-None_PPha-dull_razor_PPco-shades_of_gray_PPde-None_PPno-True_PPcr-None_PPre-True_drop-0.0_trainjustclassifier-False_16826007849303265/new_test_pred_last\n",
                  "Saving the scores in best_results/noDA_dull_razor_shades_of_gray/resnext101_32x8d_fold-1_lrinit-0.0001_batchsize-8_optimizer-SGD_maxepochs-150_DA-None_PPen-None_PPha-dull_razor_PPco-shades_of_gray_PPde-None_PPno-True_PPcr-None_PPre-True_drop-0.0_trainjustclassifier-False_16826263000625749/new_test_pred_best\n",
                  "Saving the scores in best_results/noDA_dull_razor_shades_of_gray/resnext101_32x8d_fold-1_lrinit-0.0001_batchsize-8_optimizer-SGD_maxepochs-150_DA-None_PPen-None_PPha-dull_razor_PPco-shades_of_gray_PPde-None_PPno-True_PPcr-None_PPre-True_drop-0.0_trainjustclassifier-False_16826263000625749/new_test_pred_last\n",
                  "Saving the scores in best_results/noDA_dull_razor_shades_of_gray/efficientnet_b2_fold-1_lrinit-0.0001_batchsize-8_optimizer-Adam_maxepochs-150_DA-None_PPen-None_PPha-dull_razor_PPco-shades_of_gray_PPde-None_PPno-True_PPcr-None_PPre-True_drop-0.0_trainjustclassifier-False_16826064198129387/new_test_pred_best\n",
                  "Saving the scores in best_results/noDA_dull_razor_shades_of_gray/efficientnet_b2_fold-1_lrinit-0.0001_batchsize-8_optimizer-Adam_maxepochs-150_DA-None_PPen-None_PPha-dull_razor_PPco-shades_of_gray_PPde-None_PPno-True_PPcr-None_PPre-True_drop-0.0_trainjustclassifier-False_16826064198129387/new_test_pred_last\n",
                  "Saving the scores in best_results/noDA_dull_razor_shades_of_gray/densenet121_fold-1_lrinit-0.0001_batchsize-32_optimizer-Adam_maxepochs-150_DA-None_PPen-None_PPha-dull_razor_PPco-shades_of_gray_PPde-None_PPno-True_PPcr-None_PPre-True_drop-0.0_trainjustclassifier-False_16825978913400755/new_test_pred_best\n",
                  "Saving the scores in best_results/noDA_dull_razor_shades_of_gray/densenet121_fold-1_lrinit-0.0001_batchsize-32_optimizer-Adam_maxepochs-150_DA-None_PPen-None_PPha-dull_razor_PPco-shades_of_gray_PPde-None_PPno-True_PPcr-None_PPre-True_drop-0.0_trainjustclassifier-False_16825978913400755/new_test_pred_last\n",
                  "Saving the scores in best_results/noDA_dull_razor_shades_of_gray/tf_efficientnet_b5_fold-1_lrinit-0.0001_batchsize-8_optimizer-AdamW_maxepochs-150_DA-None_PPen-None_PPha-dull_razor_PPco-shades_of_gray_PPde-None_PPno-True_PPcr-None_PPre-True_drop-0.0_trainjustclassifier-False_16825533540232036/new_test_pred_best\n",
                  "Saving the scores in best_results/noDA_dull_razor_shades_of_gray/tf_efficientnet_b5_fold-1_lrinit-0.0001_batchsize-8_optimizer-AdamW_maxepochs-150_DA-None_PPen-None_PPha-dull_razor_PPco-shades_of_gray_PPde-None_PPno-True_PPcr-None_PPre-True_drop-0.0_trainjustclassifier-False_16825533540232036/new_test_pred_last\n",
                  "Experimento:  CLAHE\n"
               ]
            },
            {
               "data": {
                  "text/plain": [
                     "<Figure size 640x480 with 0 Axes>"
                  ]
               },
               "metadata": {},
               "output_type": "display_data"
            },
            {
               "data": {
                  "text/plain": [
                     "<Figure size 640x480 with 0 Axes>"
                  ]
               },
               "metadata": {},
               "output_type": "display_data"
            },
            {
               "data": {
                  "text/plain": [
                     "<Figure size 640x480 with 0 Axes>"
                  ]
               },
               "metadata": {},
               "output_type": "display_data"
            },
            {
               "data": {
                  "text/plain": [
                     "<Figure size 640x480 with 0 Axes>"
                  ]
               },
               "metadata": {},
               "output_type": "display_data"
            },
            {
               "data": {
                  "text/plain": [
                     "<Figure size 640x480 with 0 Axes>"
                  ]
               },
               "metadata": {},
               "output_type": "display_data"
            },
            {
               "data": {
                  "text/plain": [
                     "<Figure size 640x480 with 0 Axes>"
                  ]
               },
               "metadata": {},
               "output_type": "display_data"
            },
            {
               "data": {
                  "text/plain": [
                     "<Figure size 640x480 with 0 Axes>"
                  ]
               },
               "metadata": {},
               "output_type": "display_data"
            },
            {
               "data": {
                  "text/plain": [
                     "<Figure size 640x480 with 0 Axes>"
                  ]
               },
               "metadata": {},
               "output_type": "display_data"
            },
            {
               "data": {
                  "text/plain": [
                     "<Figure size 640x480 with 0 Axes>"
                  ]
               },
               "metadata": {},
               "output_type": "display_data"
            },
            {
               "data": {
                  "text/plain": [
                     "<Figure size 640x480 with 0 Axes>"
                  ]
               },
               "metadata": {},
               "output_type": "display_data"
            },
            {
               "data": {
                  "text/plain": [
                     "<Figure size 640x480 with 0 Axes>"
                  ]
               },
               "metadata": {},
               "output_type": "display_data"
            },
            {
               "data": {
                  "text/plain": [
                     "<Figure size 640x480 with 0 Axes>"
                  ]
               },
               "metadata": {},
               "output_type": "display_data"
            },
            {
               "data": {
                  "text/plain": [
                     "<Figure size 640x480 with 0 Axes>"
                  ]
               },
               "metadata": {},
               "output_type": "display_data"
            },
            {
               "data": {
                  "text/plain": [
                     "<Figure size 640x480 with 0 Axes>"
                  ]
               },
               "metadata": {},
               "output_type": "display_data"
            },
            {
               "data": {
                  "text/plain": [
                     "<Figure size 640x480 with 0 Axes>"
                  ]
               },
               "metadata": {},
               "output_type": "display_data"
            },
            {
               "data": {
                  "text/plain": [
                     "<Figure size 640x480 with 0 Axes>"
                  ]
               },
               "metadata": {},
               "output_type": "display_data"
            },
            {
               "data": {
                  "text/plain": [
                     "<Figure size 640x480 with 0 Axes>"
                  ]
               },
               "metadata": {},
               "output_type": "display_data"
            },
            {
               "data": {
                  "text/plain": [
                     "<Figure size 640x480 with 0 Axes>"
                  ]
               },
               "metadata": {},
               "output_type": "display_data"
            },
            {
               "data": {
                  "text/plain": [
                     "<Figure size 640x480 with 0 Axes>"
                  ]
               },
               "metadata": {},
               "output_type": "display_data"
            },
            {
               "data": {
                  "text/plain": [
                     "<Figure size 640x480 with 0 Axes>"
                  ]
               },
               "metadata": {},
               "output_type": "display_data"
            },
            {
               "data": {
                  "text/plain": [
                     "<Figure size 640x480 with 0 Axes>"
                  ]
               },
               "metadata": {},
               "output_type": "display_data"
            },
            {
               "data": {
                  "text/plain": [
                     "<Figure size 640x480 with 0 Axes>"
                  ]
               },
               "metadata": {},
               "output_type": "display_data"
            },
            {
               "data": {
                  "text/plain": [
                     "<Figure size 640x480 with 0 Axes>"
                  ]
               },
               "metadata": {},
               "output_type": "display_data"
            },
            {
               "data": {
                  "text/plain": [
                     "<Figure size 640x480 with 0 Axes>"
                  ]
               },
               "metadata": {},
               "output_type": "display_data"
            },
            {
               "data": {
                  "text/plain": [
                     "<Figure size 640x480 with 0 Axes>"
                  ]
               },
               "metadata": {},
               "output_type": "display_data"
            },
            {
               "data": {
                  "text/plain": [
                     "<Figure size 640x480 with 0 Axes>"
                  ]
               },
               "metadata": {},
               "output_type": "display_data"
            },
            {
               "data": {
                  "text/plain": [
                     "<Figure size 640x480 with 0 Axes>"
                  ]
               },
               "metadata": {},
               "output_type": "display_data"
            },
            {
               "data": {
                  "text/plain": [
                     "<Figure size 640x480 with 0 Axes>"
                  ]
               },
               "metadata": {},
               "output_type": "display_data"
            },
            {
               "data": {
                  "text/plain": [
                     "<Figure size 640x480 with 0 Axes>"
                  ]
               },
               "metadata": {},
               "output_type": "display_data"
            },
            {
               "data": {
                  "text/plain": [
                     "<Figure size 640x480 with 0 Axes>"
                  ]
               },
               "metadata": {},
               "output_type": "display_data"
            },
            {
               "data": {
                  "text/plain": [
                     "<Figure size 640x480 with 0 Axes>"
                  ]
               },
               "metadata": {},
               "output_type": "display_data"
            },
            {
               "data": {
                  "text/plain": [
                     "<Figure size 640x480 with 0 Axes>"
                  ]
               },
               "metadata": {},
               "output_type": "display_data"
            },
            {
               "data": {
                  "text/plain": [
                     "<Figure size 640x480 with 0 Axes>"
                  ]
               },
               "metadata": {},
               "output_type": "display_data"
            },
            {
               "data": {
                  "text/plain": [
                     "<Figure size 640x480 with 0 Axes>"
                  ]
               },
               "metadata": {},
               "output_type": "display_data"
            },
            {
               "data": {
                  "text/plain": [
                     "<Figure size 640x480 with 0 Axes>"
                  ]
               },
               "metadata": {},
               "output_type": "display_data"
            },
            {
               "data": {
                  "text/plain": [
                     "<Figure size 640x480 with 0 Axes>"
                  ]
               },
               "metadata": {},
               "output_type": "display_data"
            },
            {
               "data": {
                  "text/plain": [
                     "<Figure size 640x480 with 0 Axes>"
                  ]
               },
               "metadata": {},
               "output_type": "display_data"
            },
            {
               "data": {
                  "text/plain": [
                     "<Figure size 640x480 with 0 Axes>"
                  ]
               },
               "metadata": {},
               "output_type": "display_data"
            },
            {
               "data": {
                  "text/plain": [
                     "<Figure size 640x480 with 0 Axes>"
                  ]
               },
               "metadata": {},
               "output_type": "display_data"
            },
            {
               "data": {
                  "text/plain": [
                     "<Figure size 640x480 with 0 Axes>"
                  ]
               },
               "metadata": {},
               "output_type": "display_data"
            },
            {
               "data": {
                  "text/plain": [
                     "<Figure size 640x480 with 0 Axes>"
                  ]
               },
               "metadata": {},
               "output_type": "display_data"
            },
            {
               "data": {
                  "text/plain": [
                     "<Figure size 640x480 with 0 Axes>"
                  ]
               },
               "metadata": {},
               "output_type": "display_data"
            },
            {
               "data": {
                  "text/plain": [
                     "<Figure size 640x480 with 0 Axes>"
                  ]
               },
               "metadata": {},
               "output_type": "display_data"
            },
            {
               "data": {
                  "text/plain": [
                     "<Figure size 640x480 with 0 Axes>"
                  ]
               },
               "metadata": {},
               "output_type": "display_data"
            },
            {
               "data": {
                  "text/plain": [
                     "<Figure size 640x480 with 0 Axes>"
                  ]
               },
               "metadata": {},
               "output_type": "display_data"
            },
            {
               "data": {
                  "text/plain": [
                     "<Figure size 640x480 with 0 Axes>"
                  ]
               },
               "metadata": {},
               "output_type": "display_data"
            },
            {
               "data": {
                  "text/plain": [
                     "<Figure size 640x480 with 0 Axes>"
                  ]
               },
               "metadata": {},
               "output_type": "display_data"
            },
            {
               "data": {
                  "text/plain": [
                     "<Figure size 640x480 with 0 Axes>"
                  ]
               },
               "metadata": {},
               "output_type": "display_data"
            },
            {
               "data": {
                  "text/plain": [
                     "<Figure size 640x480 with 0 Axes>"
                  ]
               },
               "metadata": {},
               "output_type": "display_data"
            },
            {
               "data": {
                  "text/plain": [
                     "<Figure size 640x480 with 0 Axes>"
                  ]
               },
               "metadata": {},
               "output_type": "display_data"
            },
            {
               "data": {
                  "text/plain": [
                     "<Figure size 640x480 with 0 Axes>"
                  ]
               },
               "metadata": {},
               "output_type": "display_data"
            },
            {
               "data": {
                  "text/plain": [
                     "<Figure size 640x480 with 0 Axes>"
                  ]
               },
               "metadata": {},
               "output_type": "display_data"
            },
            {
               "data": {
                  "text/plain": [
                     "<Figure size 640x480 with 0 Axes>"
                  ]
               },
               "metadata": {},
               "output_type": "display_data"
            },
            {
               "data": {
                  "text/plain": [
                     "<Figure size 640x480 with 0 Axes>"
                  ]
               },
               "metadata": {},
               "output_type": "display_data"
            },
            {
               "data": {
                  "text/plain": [
                     "<Figure size 640x480 with 0 Axes>"
                  ]
               },
               "metadata": {},
               "output_type": "display_data"
            },
            {
               "data": {
                  "text/plain": [
                     "<Figure size 640x480 with 0 Axes>"
                  ]
               },
               "metadata": {},
               "output_type": "display_data"
            },
            {
               "data": {
                  "text/plain": [
                     "<Figure size 640x480 with 0 Axes>"
                  ]
               },
               "metadata": {},
               "output_type": "display_data"
            },
            {
               "data": {
                  "text/plain": [
                     "<Figure size 640x480 with 0 Axes>"
                  ]
               },
               "metadata": {},
               "output_type": "display_data"
            },
            {
               "data": {
                  "text/plain": [
                     "<Figure size 640x480 with 0 Axes>"
                  ]
               },
               "metadata": {},
               "output_type": "display_data"
            },
            {
               "data": {
                  "text/plain": [
                     "<Figure size 640x480 with 0 Axes>"
                  ]
               },
               "metadata": {},
               "output_type": "display_data"
            },
            {
               "data": {
                  "text/plain": [
                     "<Figure size 640x480 with 0 Axes>"
                  ]
               },
               "metadata": {},
               "output_type": "display_data"
            },
            {
               "data": {
                  "text/plain": [
                     "<Figure size 640x480 with 0 Axes>"
                  ]
               },
               "metadata": {},
               "output_type": "display_data"
            },
            {
               "data": {
                  "text/plain": [
                     "<Figure size 640x480 with 0 Axes>"
                  ]
               },
               "metadata": {},
               "output_type": "display_data"
            },
            {
               "data": {
                  "text/plain": [
                     "<Figure size 640x480 with 0 Axes>"
                  ]
               },
               "metadata": {},
               "output_type": "display_data"
            },
            {
               "data": {
                  "text/plain": [
                     "<Figure size 640x480 with 0 Axes>"
                  ]
               },
               "metadata": {},
               "output_type": "display_data"
            },
            {
               "data": {
                  "text/plain": [
                     "<Figure size 640x480 with 0 Axes>"
                  ]
               },
               "metadata": {},
               "output_type": "display_data"
            },
            {
               "data": {
                  "text/plain": [
                     "<Figure size 640x480 with 0 Axes>"
                  ]
               },
               "metadata": {},
               "output_type": "display_data"
            },
            {
               "data": {
                  "text/plain": [
                     "<Figure size 640x480 with 0 Axes>"
                  ]
               },
               "metadata": {},
               "output_type": "display_data"
            },
            {
               "data": {
                  "text/plain": [
                     "<Figure size 640x480 with 0 Axes>"
                  ]
               },
               "metadata": {},
               "output_type": "display_data"
            },
            {
               "data": {
                  "text/plain": [
                     "<Figure size 640x480 with 0 Axes>"
                  ]
               },
               "metadata": {},
               "output_type": "display_data"
            },
            {
               "data": {
                  "text/plain": [
                     "<Figure size 640x480 with 0 Axes>"
                  ]
               },
               "metadata": {},
               "output_type": "display_data"
            },
            {
               "data": {
                  "text/plain": [
                     "<Figure size 640x480 with 0 Axes>"
                  ]
               },
               "metadata": {},
               "output_type": "display_data"
            },
            {
               "data": {
                  "text/plain": [
                     "<Figure size 640x480 with 0 Axes>"
                  ]
               },
               "metadata": {},
               "output_type": "display_data"
            },
            {
               "data": {
                  "text/plain": [
                     "<Figure size 640x480 with 0 Axes>"
                  ]
               },
               "metadata": {},
               "output_type": "display_data"
            },
            {
               "data": {
                  "text/plain": [
                     "<Figure size 640x480 with 0 Axes>"
                  ]
               },
               "metadata": {},
               "output_type": "display_data"
            },
            {
               "data": {
                  "text/plain": [
                     "<Figure size 640x480 with 0 Axes>"
                  ]
               },
               "metadata": {},
               "output_type": "display_data"
            },
            {
               "data": {
                  "text/plain": [
                     "<Figure size 640x480 with 0 Axes>"
                  ]
               },
               "metadata": {},
               "output_type": "display_data"
            },
            {
               "data": {
                  "text/plain": [
                     "<Figure size 640x480 with 0 Axes>"
                  ]
               },
               "metadata": {},
               "output_type": "display_data"
            },
            {
               "data": {
                  "text/plain": [
                     "<Figure size 640x480 with 0 Axes>"
                  ]
               },
               "metadata": {},
               "output_type": "display_data"
            },
            {
               "data": {
                  "text/plain": [
                     "<Figure size 640x480 with 0 Axes>"
                  ]
               },
               "metadata": {},
               "output_type": "display_data"
            },
            {
               "data": {
                  "text/plain": [
                     "<Figure size 640x480 with 0 Axes>"
                  ]
               },
               "metadata": {},
               "output_type": "display_data"
            },
            {
               "data": {
                  "text/plain": [
                     "<Figure size 640x480 with 0 Axes>"
                  ]
               },
               "metadata": {},
               "output_type": "display_data"
            },
            {
               "data": {
                  "text/plain": [
                     "<Figure size 640x480 with 0 Axes>"
                  ]
               },
               "metadata": {},
               "output_type": "display_data"
            },
            {
               "data": {
                  "text/plain": [
                     "<Figure size 640x480 with 0 Axes>"
                  ]
               },
               "metadata": {},
               "output_type": "display_data"
            },
            {
               "data": {
                  "text/plain": [
                     "<Figure size 640x480 with 0 Axes>"
                  ]
               },
               "metadata": {},
               "output_type": "display_data"
            },
            {
               "data": {
                  "text/plain": [
                     "<Figure size 640x480 with 0 Axes>"
                  ]
               },
               "metadata": {},
               "output_type": "display_data"
            },
            {
               "data": {
                  "text/plain": [
                     "<Figure size 640x480 with 0 Axes>"
                  ]
               },
               "metadata": {},
               "output_type": "display_data"
            },
            {
               "data": {
                  "text/plain": [
                     "<Figure size 640x480 with 0 Axes>"
                  ]
               },
               "metadata": {},
               "output_type": "display_data"
            },
            {
               "data": {
                  "text/plain": [
                     "<Figure size 640x480 with 0 Axes>"
                  ]
               },
               "metadata": {},
               "output_type": "display_data"
            },
            {
               "data": {
                  "text/plain": [
                     "<Figure size 640x480 with 0 Axes>"
                  ]
               },
               "metadata": {},
               "output_type": "display_data"
            },
            {
               "data": {
                  "text/plain": [
                     "<Figure size 640x480 with 0 Axes>"
                  ]
               },
               "metadata": {},
               "output_type": "display_data"
            },
            {
               "data": {
                  "text/plain": [
                     "<Figure size 640x480 with 0 Axes>"
                  ]
               },
               "metadata": {},
               "output_type": "display_data"
            },
            {
               "data": {
                  "text/plain": [
                     "<Figure size 640x480 with 0 Axes>"
                  ]
               },
               "metadata": {},
               "output_type": "display_data"
            },
            {
               "data": {
                  "text/plain": [
                     "<Figure size 640x480 with 0 Axes>"
                  ]
               },
               "metadata": {},
               "output_type": "display_data"
            },
            {
               "data": {
                  "text/plain": [
                     "<Figure size 640x480 with 0 Axes>"
                  ]
               },
               "metadata": {},
               "output_type": "display_data"
            },
            {
               "data": {
                  "text/plain": [
                     "<Figure size 640x480 with 0 Axes>"
                  ]
               },
               "metadata": {},
               "output_type": "display_data"
            },
            {
               "data": {
                  "text/plain": [
                     "<Figure size 640x480 with 0 Axes>"
                  ]
               },
               "metadata": {},
               "output_type": "display_data"
            },
            {
               "data": {
                  "text/plain": [
                     "<Figure size 640x480 with 0 Axes>"
                  ]
               },
               "metadata": {},
               "output_type": "display_data"
            },
            {
               "data": {
                  "text/plain": [
                     "<Figure size 640x480 with 0 Axes>"
                  ]
               },
               "metadata": {},
               "output_type": "display_data"
            },
            {
               "data": {
                  "text/plain": [
                     "<Figure size 640x480 with 0 Axes>"
                  ]
               },
               "metadata": {},
               "output_type": "display_data"
            },
            {
               "data": {
                  "text/plain": [
                     "<Figure size 640x480 with 0 Axes>"
                  ]
               },
               "metadata": {},
               "output_type": "display_data"
            },
            {
               "data": {
                  "text/plain": [
                     "<Figure size 640x480 with 0 Axes>"
                  ]
               },
               "metadata": {},
               "output_type": "display_data"
            },
            {
               "data": {
                  "text/plain": [
                     "<Figure size 640x480 with 0 Axes>"
                  ]
               },
               "metadata": {},
               "output_type": "display_data"
            },
            {
               "data": {
                  "text/plain": [
                     "<Figure size 640x480 with 0 Axes>"
                  ]
               },
               "metadata": {},
               "output_type": "display_data"
            },
            {
               "data": {
                  "text/plain": [
                     "<Figure size 640x480 with 0 Axes>"
                  ]
               },
               "metadata": {},
               "output_type": "display_data"
            },
            {
               "data": {
                  "text/plain": [
                     "<Figure size 640x480 with 0 Axes>"
                  ]
               },
               "metadata": {},
               "output_type": "display_data"
            },
            {
               "data": {
                  "text/plain": [
                     "<Figure size 640x480 with 0 Axes>"
                  ]
               },
               "metadata": {},
               "output_type": "display_data"
            },
            {
               "data": {
                  "text/plain": [
                     "<Figure size 640x480 with 0 Axes>"
                  ]
               },
               "metadata": {},
               "output_type": "display_data"
            },
            {
               "data": {
                  "text/plain": [
                     "<Figure size 640x480 with 0 Axes>"
                  ]
               },
               "metadata": {},
               "output_type": "display_data"
            },
            {
               "data": {
                  "text/plain": [
                     "<Figure size 640x480 with 0 Axes>"
                  ]
               },
               "metadata": {},
               "output_type": "display_data"
            },
            {
               "data": {
                  "text/plain": [
                     "<Figure size 640x480 with 0 Axes>"
                  ]
               },
               "metadata": {},
               "output_type": "display_data"
            },
            {
               "data": {
                  "text/plain": [
                     "<Figure size 640x480 with 0 Axes>"
                  ]
               },
               "metadata": {},
               "output_type": "display_data"
            },
            {
               "data": {
                  "text/plain": [
                     "<Figure size 640x480 with 0 Axes>"
                  ]
               },
               "metadata": {},
               "output_type": "display_data"
            },
            {
               "data": {
                  "text/plain": [
                     "<Figure size 640x480 with 0 Axes>"
                  ]
               },
               "metadata": {},
               "output_type": "display_data"
            },
            {
               "data": {
                  "text/plain": [
                     "<Figure size 640x480 with 0 Axes>"
                  ]
               },
               "metadata": {},
               "output_type": "display_data"
            },
            {
               "data": {
                  "text/plain": [
                     "<Figure size 640x480 with 0 Axes>"
                  ]
               },
               "metadata": {},
               "output_type": "display_data"
            },
            {
               "data": {
                  "text/plain": [
                     "<Figure size 640x480 with 0 Axes>"
                  ]
               },
               "metadata": {},
               "output_type": "display_data"
            },
            {
               "data": {
                  "text/plain": [
                     "<Figure size 640x480 with 0 Axes>"
                  ]
               },
               "metadata": {},
               "output_type": "display_data"
            },
            {
               "data": {
                  "text/plain": [
                     "<Figure size 640x480 with 0 Axes>"
                  ]
               },
               "metadata": {},
               "output_type": "display_data"
            },
            {
               "data": {
                  "text/plain": [
                     "<Figure size 640x480 with 0 Axes>"
                  ]
               },
               "metadata": {},
               "output_type": "display_data"
            },
            {
               "data": {
                  "text/plain": [
                     "<Figure size 640x480 with 0 Axes>"
                  ]
               },
               "metadata": {},
               "output_type": "display_data"
            },
            {
               "data": {
                  "text/plain": [
                     "<Figure size 640x480 with 0 Axes>"
                  ]
               },
               "metadata": {},
               "output_type": "display_data"
            },
            {
               "data": {
                  "text/plain": [
                     "<Figure size 640x480 with 0 Axes>"
                  ]
               },
               "metadata": {},
               "output_type": "display_data"
            },
            {
               "data": {
                  "text/plain": [
                     "<Figure size 640x480 with 0 Axes>"
                  ]
               },
               "metadata": {},
               "output_type": "display_data"
            },
            {
               "data": {
                  "text/plain": [
                     "<Figure size 640x480 with 0 Axes>"
                  ]
               },
               "metadata": {},
               "output_type": "display_data"
            },
            {
               "data": {
                  "text/plain": [
                     "<Figure size 640x480 with 0 Axes>"
                  ]
               },
               "metadata": {},
               "output_type": "display_data"
            },
            {
               "data": {
                  "text/plain": [
                     "<Figure size 640x480 with 0 Axes>"
                  ]
               },
               "metadata": {},
               "output_type": "display_data"
            },
            {
               "data": {
                  "text/plain": [
                     "<Figure size 640x480 with 0 Axes>"
                  ]
               },
               "metadata": {},
               "output_type": "display_data"
            },
            {
               "data": {
                  "text/plain": [
                     "<Figure size 640x480 with 0 Axes>"
                  ]
               },
               "metadata": {},
               "output_type": "display_data"
            },
            {
               "data": {
                  "text/plain": [
                     "<Figure size 640x480 with 0 Axes>"
                  ]
               },
               "metadata": {},
               "output_type": "display_data"
            },
            {
               "data": {
                  "text/plain": [
                     "<Figure size 640x480 with 0 Axes>"
                  ]
               },
               "metadata": {},
               "output_type": "display_data"
            },
            {
               "data": {
                  "text/plain": [
                     "<Figure size 640x480 with 0 Axes>"
                  ]
               },
               "metadata": {},
               "output_type": "display_data"
            },
            {
               "data": {
                  "text/plain": [
                     "<Figure size 640x480 with 0 Axes>"
                  ]
               },
               "metadata": {},
               "output_type": "display_data"
            },
            {
               "data": {
                  "text/plain": [
                     "<Figure size 640x480 with 0 Axes>"
                  ]
               },
               "metadata": {},
               "output_type": "display_data"
            },
            {
               "data": {
                  "text/plain": [
                     "<Figure size 640x480 with 0 Axes>"
                  ]
               },
               "metadata": {},
               "output_type": "display_data"
            },
            {
               "data": {
                  "text/plain": [
                     "<Figure size 640x480 with 0 Axes>"
                  ]
               },
               "metadata": {},
               "output_type": "display_data"
            },
            {
               "data": {
                  "text/plain": [
                     "<Figure size 640x480 with 0 Axes>"
                  ]
               },
               "metadata": {},
               "output_type": "display_data"
            },
            {
               "data": {
                  "text/plain": [
                     "<Figure size 640x480 with 0 Axes>"
                  ]
               },
               "metadata": {},
               "output_type": "display_data"
            },
            {
               "data": {
                  "text/plain": [
                     "<Figure size 640x480 with 0 Axes>"
                  ]
               },
               "metadata": {},
               "output_type": "display_data"
            },
            {
               "data": {
                  "text/plain": [
                     "<Figure size 640x480 with 0 Axes>"
                  ]
               },
               "metadata": {},
               "output_type": "display_data"
            },
            {
               "data": {
                  "text/plain": [
                     "<Figure size 640x480 with 0 Axes>"
                  ]
               },
               "metadata": {},
               "output_type": "display_data"
            },
            {
               "data": {
                  "text/plain": [
                     "<Figure size 640x480 with 0 Axes>"
                  ]
               },
               "metadata": {},
               "output_type": "display_data"
            },
            {
               "data": {
                  "text/plain": [
                     "<Figure size 640x480 with 0 Axes>"
                  ]
               },
               "metadata": {},
               "output_type": "display_data"
            },
            {
               "data": {
                  "text/plain": [
                     "<Figure size 640x480 with 0 Axes>"
                  ]
               },
               "metadata": {},
               "output_type": "display_data"
            },
            {
               "data": {
                  "text/plain": [
                     "<Figure size 640x480 with 0 Axes>"
                  ]
               },
               "metadata": {},
               "output_type": "display_data"
            },
            {
               "data": {
                  "text/plain": [
                     "<Figure size 640x480 with 0 Axes>"
                  ]
               },
               "metadata": {},
               "output_type": "display_data"
            },
            {
               "data": {
                  "text/plain": [
                     "<Figure size 640x480 with 0 Axes>"
                  ]
               },
               "metadata": {},
               "output_type": "display_data"
            },
            {
               "data": {
                  "text/plain": [
                     "<Figure size 640x480 with 0 Axes>"
                  ]
               },
               "metadata": {},
               "output_type": "display_data"
            },
            {
               "data": {
                  "text/plain": [
                     "<Figure size 640x480 with 0 Axes>"
                  ]
               },
               "metadata": {},
               "output_type": "display_data"
            },
            {
               "data": {
                  "text/plain": [
                     "<Figure size 640x480 with 0 Axes>"
                  ]
               },
               "metadata": {},
               "output_type": "display_data"
            },
            {
               "data": {
                  "text/plain": [
                     "<Figure size 640x480 with 0 Axes>"
                  ]
               },
               "metadata": {},
               "output_type": "display_data"
            },
            {
               "data": {
                  "text/plain": [
                     "<Figure size 640x480 with 0 Axes>"
                  ]
               },
               "metadata": {},
               "output_type": "display_data"
            },
            {
               "data": {
                  "text/plain": [
                     "<Figure size 640x480 with 0 Axes>"
                  ]
               },
               "metadata": {},
               "output_type": "display_data"
            },
            {
               "data": {
                  "text/plain": [
                     "<Figure size 640x480 with 0 Axes>"
                  ]
               },
               "metadata": {},
               "output_type": "display_data"
            },
            {
               "data": {
                  "text/plain": [
                     "<Figure size 640x480 with 0 Axes>"
                  ]
               },
               "metadata": {},
               "output_type": "display_data"
            },
            {
               "data": {
                  "text/plain": [
                     "<Figure size 640x480 with 0 Axes>"
                  ]
               },
               "metadata": {},
               "output_type": "display_data"
            },
            {
               "data": {
                  "text/plain": [
                     "<Figure size 640x480 with 0 Axes>"
                  ]
               },
               "metadata": {},
               "output_type": "display_data"
            },
            {
               "data": {
                  "text/plain": [
                     "<Figure size 640x480 with 0 Axes>"
                  ]
               },
               "metadata": {},
               "output_type": "display_data"
            },
            {
               "data": {
                  "text/plain": [
                     "<Figure size 640x480 with 0 Axes>"
                  ]
               },
               "metadata": {},
               "output_type": "display_data"
            },
            {
               "data": {
                  "text/plain": [
                     "<Figure size 640x480 with 0 Axes>"
                  ]
               },
               "metadata": {},
               "output_type": "display_data"
            },
            {
               "data": {
                  "text/plain": [
                     "<Figure size 640x480 with 0 Axes>"
                  ]
               },
               "metadata": {},
               "output_type": "display_data"
            },
            {
               "data": {
                  "text/plain": [
                     "<Figure size 640x480 with 0 Axes>"
                  ]
               },
               "metadata": {},
               "output_type": "display_data"
            },
            {
               "data": {
                  "text/plain": [
                     "<Figure size 640x480 with 0 Axes>"
                  ]
               },
               "metadata": {},
               "output_type": "display_data"
            },
            {
               "data": {
                  "text/plain": [
                     "<Figure size 640x480 with 0 Axes>"
                  ]
               },
               "metadata": {},
               "output_type": "display_data"
            },
            {
               "data": {
                  "text/plain": [
                     "<Figure size 640x480 with 0 Axes>"
                  ]
               },
               "metadata": {},
               "output_type": "display_data"
            },
            {
               "data": {
                  "text/plain": [
                     "<Figure size 640x480 with 0 Axes>"
                  ]
               },
               "metadata": {},
               "output_type": "display_data"
            },
            {
               "data": {
                  "text/plain": [
                     "<Figure size 640x480 with 0 Axes>"
                  ]
               },
               "metadata": {},
               "output_type": "display_data"
            },
            {
               "data": {
                  "text/plain": [
                     "<Figure size 640x480 with 0 Axes>"
                  ]
               },
               "metadata": {},
               "output_type": "display_data"
            },
            {
               "data": {
                  "text/plain": [
                     "<Figure size 640x480 with 0 Axes>"
                  ]
               },
               "metadata": {},
               "output_type": "display_data"
            },
            {
               "data": {
                  "text/plain": [
                     "<Figure size 640x480 with 0 Axes>"
                  ]
               },
               "metadata": {},
               "output_type": "display_data"
            },
            {
               "data": {
                  "text/plain": [
                     "<Figure size 640x480 with 0 Axes>"
                  ]
               },
               "metadata": {},
               "output_type": "display_data"
            },
            {
               "data": {
                  "text/plain": [
                     "<Figure size 640x480 with 0 Axes>"
                  ]
               },
               "metadata": {},
               "output_type": "display_data"
            },
            {
               "data": {
                  "text/plain": [
                     "<Figure size 640x480 with 0 Axes>"
                  ]
               },
               "metadata": {},
               "output_type": "display_data"
            },
            {
               "data": {
                  "text/plain": [
                     "<Figure size 640x480 with 0 Axes>"
                  ]
               },
               "metadata": {},
               "output_type": "display_data"
            },
            {
               "data": {
                  "text/plain": [
                     "<Figure size 640x480 with 0 Axes>"
                  ]
               },
               "metadata": {},
               "output_type": "display_data"
            },
            {
               "data": {
                  "text/plain": [
                     "<Figure size 640x480 with 0 Axes>"
                  ]
               },
               "metadata": {},
               "output_type": "display_data"
            },
            {
               "data": {
                  "text/plain": [
                     "<Figure size 640x480 with 0 Axes>"
                  ]
               },
               "metadata": {},
               "output_type": "display_data"
            },
            {
               "data": {
                  "text/plain": [
                     "<Figure size 640x480 with 0 Axes>"
                  ]
               },
               "metadata": {},
               "output_type": "display_data"
            },
            {
               "data": {
                  "text/plain": [
                     "<Figure size 640x480 with 0 Axes>"
                  ]
               },
               "metadata": {},
               "output_type": "display_data"
            },
            {
               "data": {
                  "text/plain": [
                     "<Figure size 640x480 with 0 Axes>"
                  ]
               },
               "metadata": {},
               "output_type": "display_data"
            },
            {
               "data": {
                  "text/plain": [
                     "<Figure size 640x480 with 0 Axes>"
                  ]
               },
               "metadata": {},
               "output_type": "display_data"
            },
            {
               "data": {
                  "text/plain": [
                     "<Figure size 640x480 with 0 Axes>"
                  ]
               },
               "metadata": {},
               "output_type": "display_data"
            },
            {
               "data": {
                  "text/plain": [
                     "<Figure size 640x480 with 0 Axes>"
                  ]
               },
               "metadata": {},
               "output_type": "display_data"
            },
            {
               "data": {
                  "text/plain": [
                     "<Figure size 640x480 with 0 Axes>"
                  ]
               },
               "metadata": {},
               "output_type": "display_data"
            },
            {
               "data": {
                  "text/plain": [
                     "<Figure size 640x480 with 0 Axes>"
                  ]
               },
               "metadata": {},
               "output_type": "display_data"
            },
            {
               "data": {
                  "text/plain": [
                     "<Figure size 640x480 with 0 Axes>"
                  ]
               },
               "metadata": {},
               "output_type": "display_data"
            },
            {
               "data": {
                  "text/plain": [
                     "<Figure size 640x480 with 0 Axes>"
                  ]
               },
               "metadata": {},
               "output_type": "display_data"
            },
            {
               "data": {
                  "text/plain": [
                     "<Figure size 640x480 with 0 Axes>"
                  ]
               },
               "metadata": {},
               "output_type": "display_data"
            },
            {
               "data": {
                  "text/plain": [
                     "<Figure size 640x480 with 0 Axes>"
                  ]
               },
               "metadata": {},
               "output_type": "display_data"
            },
            {
               "data": {
                  "text/plain": [
                     "<Figure size 640x480 with 0 Axes>"
                  ]
               },
               "metadata": {},
               "output_type": "display_data"
            },
            {
               "data": {
                  "text/plain": [
                     "<Figure size 640x480 with 0 Axes>"
                  ]
               },
               "metadata": {},
               "output_type": "display_data"
            },
            {
               "data": {
                  "text/plain": [
                     "<Figure size 640x480 with 0 Axes>"
                  ]
               },
               "metadata": {},
               "output_type": "display_data"
            },
            {
               "data": {
                  "text/plain": [
                     "<Figure size 640x480 with 0 Axes>"
                  ]
               },
               "metadata": {},
               "output_type": "display_data"
            },
            {
               "data": {
                  "text/plain": [
                     "<Figure size 640x480 with 0 Axes>"
                  ]
               },
               "metadata": {},
               "output_type": "display_data"
            },
            {
               "data": {
                  "text/plain": [
                     "<Figure size 640x480 with 0 Axes>"
                  ]
               },
               "metadata": {},
               "output_type": "display_data"
            },
            {
               "data": {
                  "text/plain": [
                     "<Figure size 640x480 with 0 Axes>"
                  ]
               },
               "metadata": {},
               "output_type": "display_data"
            },
            {
               "data": {
                  "text/plain": [
                     "<Figure size 640x480 with 0 Axes>"
                  ]
               },
               "metadata": {},
               "output_type": "display_data"
            },
            {
               "data": {
                  "text/plain": [
                     "<Figure size 640x480 with 0 Axes>"
                  ]
               },
               "metadata": {},
               "output_type": "display_data"
            },
            {
               "data": {
                  "text/plain": [
                     "<Figure size 640x480 with 0 Axes>"
                  ]
               },
               "metadata": {},
               "output_type": "display_data"
            },
            {
               "data": {
                  "text/plain": [
                     "<Figure size 640x480 with 0 Axes>"
                  ]
               },
               "metadata": {},
               "output_type": "display_data"
            },
            {
               "data": {
                  "text/plain": [
                     "<Figure size 640x480 with 0 Axes>"
                  ]
               },
               "metadata": {},
               "output_type": "display_data"
            },
            {
               "data": {
                  "text/plain": [
                     "<Figure size 640x480 with 0 Axes>"
                  ]
               },
               "metadata": {},
               "output_type": "display_data"
            },
            {
               "data": {
                  "text/plain": [
                     "<Figure size 640x480 with 0 Axes>"
                  ]
               },
               "metadata": {},
               "output_type": "display_data"
            },
            {
               "data": {
                  "text/plain": [
                     "<Figure size 640x480 with 0 Axes>"
                  ]
               },
               "metadata": {},
               "output_type": "display_data"
            },
            {
               "data": {
                  "text/plain": [
                     "<Figure size 640x480 with 0 Axes>"
                  ]
               },
               "metadata": {},
               "output_type": "display_data"
            },
            {
               "data": {
                  "text/plain": [
                     "<Figure size 640x480 with 0 Axes>"
                  ]
               },
               "metadata": {},
               "output_type": "display_data"
            },
            {
               "data": {
                  "text/plain": [
                     "<Figure size 640x480 with 0 Axes>"
                  ]
               },
               "metadata": {},
               "output_type": "display_data"
            },
            {
               "data": {
                  "text/plain": [
                     "<Figure size 640x480 with 0 Axes>"
                  ]
               },
               "metadata": {},
               "output_type": "display_data"
            },
            {
               "data": {
                  "text/plain": [
                     "<Figure size 640x480 with 0 Axes>"
                  ]
               },
               "metadata": {},
               "output_type": "display_data"
            },
            {
               "data": {
                  "text/plain": [
                     "<Figure size 640x480 with 0 Axes>"
                  ]
               },
               "metadata": {},
               "output_type": "display_data"
            },
            {
               "data": {
                  "text/plain": [
                     "<Figure size 640x480 with 0 Axes>"
                  ]
               },
               "metadata": {},
               "output_type": "display_data"
            },
            {
               "data": {
                  "text/plain": [
                     "<Figure size 640x480 with 0 Axes>"
                  ]
               },
               "metadata": {},
               "output_type": "display_data"
            },
            {
               "data": {
                  "text/plain": [
                     "<Figure size 640x480 with 0 Axes>"
                  ]
               },
               "metadata": {},
               "output_type": "display_data"
            },
            {
               "data": {
                  "text/plain": [
                     "<Figure size 640x480 with 0 Axes>"
                  ]
               },
               "metadata": {},
               "output_type": "display_data"
            },
            {
               "data": {
                  "text/plain": [
                     "<Figure size 640x480 with 0 Axes>"
                  ]
               },
               "metadata": {},
               "output_type": "display_data"
            },
            {
               "data": {
                  "text/plain": [
                     "<Figure size 640x480 with 0 Axes>"
                  ]
               },
               "metadata": {},
               "output_type": "display_data"
            },
            {
               "data": {
                  "text/plain": [
                     "<Figure size 640x480 with 0 Axes>"
                  ]
               },
               "metadata": {},
               "output_type": "display_data"
            },
            {
               "data": {
                  "text/plain": [
                     "<Figure size 640x480 with 0 Axes>"
                  ]
               },
               "metadata": {},
               "output_type": "display_data"
            },
            {
               "data": {
                  "text/plain": [
                     "<Figure size 640x480 with 0 Axes>"
                  ]
               },
               "metadata": {},
               "output_type": "display_data"
            },
            {
               "data": {
                  "text/plain": [
                     "<Figure size 640x480 with 0 Axes>"
                  ]
               },
               "metadata": {},
               "output_type": "display_data"
            },
            {
               "data": {
                  "text/plain": [
                     "<Figure size 640x480 with 0 Axes>"
                  ]
               },
               "metadata": {},
               "output_type": "display_data"
            },
            {
               "data": {
                  "text/plain": [
                     "<Figure size 640x480 with 0 Axes>"
                  ]
               },
               "metadata": {},
               "output_type": "display_data"
            },
            {
               "data": {
                  "text/plain": [
                     "<Figure size 640x480 with 0 Axes>"
                  ]
               },
               "metadata": {},
               "output_type": "display_data"
            },
            {
               "data": {
                  "text/plain": [
                     "<Figure size 640x480 with 0 Axes>"
                  ]
               },
               "metadata": {},
               "output_type": "display_data"
            },
            {
               "data": {
                  "text/plain": [
                     "<Figure size 640x480 with 0 Axes>"
                  ]
               },
               "metadata": {},
               "output_type": "display_data"
            },
            {
               "data": {
                  "text/plain": [
                     "<Figure size 640x480 with 0 Axes>"
                  ]
               },
               "metadata": {},
               "output_type": "display_data"
            },
            {
               "data": {
                  "text/plain": [
                     "<Figure size 640x480 with 0 Axes>"
                  ]
               },
               "metadata": {},
               "output_type": "display_data"
            },
            {
               "data": {
                  "text/plain": [
                     "<Figure size 640x480 with 0 Axes>"
                  ]
               },
               "metadata": {},
               "output_type": "display_data"
            },
            {
               "data": {
                  "text/plain": [
                     "<Figure size 640x480 with 0 Axes>"
                  ]
               },
               "metadata": {},
               "output_type": "display_data"
            },
            {
               "data": {
                  "text/plain": [
                     "<Figure size 640x480 with 0 Axes>"
                  ]
               },
               "metadata": {},
               "output_type": "display_data"
            },
            {
               "data": {
                  "text/plain": [
                     "<Figure size 640x480 with 0 Axes>"
                  ]
               },
               "metadata": {},
               "output_type": "display_data"
            },
            {
               "data": {
                  "text/plain": [
                     "<Figure size 640x480 with 0 Axes>"
                  ]
               },
               "metadata": {},
               "output_type": "display_data"
            },
            {
               "data": {
                  "text/plain": [
                     "<Figure size 640x480 with 0 Axes>"
                  ]
               },
               "metadata": {},
               "output_type": "display_data"
            },
            {
               "data": {
                  "text/plain": [
                     "<Figure size 640x480 with 0 Axes>"
                  ]
               },
               "metadata": {},
               "output_type": "display_data"
            },
            {
               "data": {
                  "text/plain": [
                     "<Figure size 640x480 with 0 Axes>"
                  ]
               },
               "metadata": {},
               "output_type": "display_data"
            },
            {
               "data": {
                  "text/plain": [
                     "<Figure size 640x480 with 0 Axes>"
                  ]
               },
               "metadata": {},
               "output_type": "display_data"
            },
            {
               "data": {
                  "text/plain": [
                     "<Figure size 640x480 with 0 Axes>"
                  ]
               },
               "metadata": {},
               "output_type": "display_data"
            },
            {
               "data": {
                  "text/plain": [
                     "<Figure size 640x480 with 0 Axes>"
                  ]
               },
               "metadata": {},
               "output_type": "display_data"
            },
            {
               "data": {
                  "text/plain": [
                     "<Figure size 640x480 with 0 Axes>"
                  ]
               },
               "metadata": {},
               "output_type": "display_data"
            },
            {
               "data": {
                  "text/plain": [
                     "<Figure size 640x480 with 0 Axes>"
                  ]
               },
               "metadata": {},
               "output_type": "display_data"
            },
            {
               "data": {
                  "text/plain": [
                     "<Figure size 640x480 with 0 Axes>"
                  ]
               },
               "metadata": {},
               "output_type": "display_data"
            },
            {
               "data": {
                  "text/plain": [
                     "<Figure size 640x480 with 0 Axes>"
                  ]
               },
               "metadata": {},
               "output_type": "display_data"
            },
            {
               "data": {
                  "text/plain": [
                     "<Figure size 640x480 with 0 Axes>"
                  ]
               },
               "metadata": {},
               "output_type": "display_data"
            },
            {
               "data": {
                  "text/plain": [
                     "<Figure size 640x480 with 0 Axes>"
                  ]
               },
               "metadata": {},
               "output_type": "display_data"
            },
            {
               "data": {
                  "text/plain": [
                     "<Figure size 640x480 with 0 Axes>"
                  ]
               },
               "metadata": {},
               "output_type": "display_data"
            },
            {
               "data": {
                  "text/plain": [
                     "<Figure size 640x480 with 0 Axes>"
                  ]
               },
               "metadata": {},
               "output_type": "display_data"
            },
            {
               "data": {
                  "text/plain": [
                     "<Figure size 640x480 with 0 Axes>"
                  ]
               },
               "metadata": {},
               "output_type": "display_data"
            },
            {
               "data": {
                  "text/plain": [
                     "<Figure size 640x480 with 0 Axes>"
                  ]
               },
               "metadata": {},
               "output_type": "display_data"
            },
            {
               "data": {
                  "text/plain": [
                     "<Figure size 640x480 with 0 Axes>"
                  ]
               },
               "metadata": {},
               "output_type": "display_data"
            },
            {
               "data": {
                  "text/plain": [
                     "<Figure size 640x480 with 0 Axes>"
                  ]
               },
               "metadata": {},
               "output_type": "display_data"
            },
            {
               "data": {
                  "text/plain": [
                     "<Figure size 640x480 with 0 Axes>"
                  ]
               },
               "metadata": {},
               "output_type": "display_data"
            },
            {
               "data": {
                  "text/plain": [
                     "<Figure size 640x480 with 0 Axes>"
                  ]
               },
               "metadata": {},
               "output_type": "display_data"
            },
            {
               "data": {
                  "text/plain": [
                     "<Figure size 640x480 with 0 Axes>"
                  ]
               },
               "metadata": {},
               "output_type": "display_data"
            },
            {
               "data": {
                  "text/plain": [
                     "<Figure size 640x480 with 0 Axes>"
                  ]
               },
               "metadata": {},
               "output_type": "display_data"
            },
            {
               "data": {
                  "text/plain": [
                     "<Figure size 640x480 with 0 Axes>"
                  ]
               },
               "metadata": {},
               "output_type": "display_data"
            },
            {
               "data": {
                  "text/plain": [
                     "<Figure size 640x480 with 0 Axes>"
                  ]
               },
               "metadata": {},
               "output_type": "display_data"
            },
            {
               "data": {
                  "text/plain": [
                     "<Figure size 640x480 with 0 Axes>"
                  ]
               },
               "metadata": {},
               "output_type": "display_data"
            },
            {
               "data": {
                  "text/plain": [
                     "<Figure size 640x480 with 0 Axes>"
                  ]
               },
               "metadata": {},
               "output_type": "display_data"
            },
            {
               "data": {
                  "text/plain": [
                     "<Figure size 640x480 with 0 Axes>"
                  ]
               },
               "metadata": {},
               "output_type": "display_data"
            },
            {
               "data": {
                  "text/plain": [
                     "<Figure size 640x480 with 0 Axes>"
                  ]
               },
               "metadata": {},
               "output_type": "display_data"
            },
            {
               "data": {
                  "text/plain": [
                     "<Figure size 640x480 with 0 Axes>"
                  ]
               },
               "metadata": {},
               "output_type": "display_data"
            },
            {
               "data": {
                  "text/plain": [
                     "<Figure size 640x480 with 0 Axes>"
                  ]
               },
               "metadata": {},
               "output_type": "display_data"
            },
            {
               "data": {
                  "text/plain": [
                     "<Figure size 640x480 with 0 Axes>"
                  ]
               },
               "metadata": {},
               "output_type": "display_data"
            },
            {
               "data": {
                  "text/plain": [
                     "<Figure size 640x480 with 0 Axes>"
                  ]
               },
               "metadata": {},
               "output_type": "display_data"
            },
            {
               "data": {
                  "text/plain": [
                     "<Figure size 640x480 with 0 Axes>"
                  ]
               },
               "metadata": {},
               "output_type": "display_data"
            },
            {
               "data": {
                  "text/plain": [
                     "<Figure size 640x480 with 0 Axes>"
                  ]
               },
               "metadata": {},
               "output_type": "display_data"
            },
            {
               "data": {
                  "text/plain": [
                     "<Figure size 640x480 with 0 Axes>"
                  ]
               },
               "metadata": {},
               "output_type": "display_data"
            },
            {
               "data": {
                  "text/plain": [
                     "<Figure size 640x480 with 0 Axes>"
                  ]
               },
               "metadata": {},
               "output_type": "display_data"
            },
            {
               "data": {
                  "text/plain": [
                     "<Figure size 640x480 with 0 Axes>"
                  ]
               },
               "metadata": {},
               "output_type": "display_data"
            },
            {
               "data": {
                  "text/plain": [
                     "<Figure size 640x480 with 0 Axes>"
                  ]
               },
               "metadata": {},
               "output_type": "display_data"
            },
            {
               "data": {
                  "text/plain": [
                     "<Figure size 640x480 with 0 Axes>"
                  ]
               },
               "metadata": {},
               "output_type": "display_data"
            },
            {
               "data": {
                  "text/plain": [
                     "<Figure size 640x480 with 0 Axes>"
                  ]
               },
               "metadata": {},
               "output_type": "display_data"
            },
            {
               "data": {
                  "text/plain": [
                     "<Figure size 640x480 with 0 Axes>"
                  ]
               },
               "metadata": {},
               "output_type": "display_data"
            },
            {
               "data": {
                  "text/plain": [
                     "<Figure size 640x480 with 0 Axes>"
                  ]
               },
               "metadata": {},
               "output_type": "display_data"
            },
            {
               "data": {
                  "text/plain": [
                     "<Figure size 640x480 with 0 Axes>"
                  ]
               },
               "metadata": {},
               "output_type": "display_data"
            },
            {
               "data": {
                  "text/plain": [
                     "<Figure size 640x480 with 0 Axes>"
                  ]
               },
               "metadata": {},
               "output_type": "display_data"
            },
            {
               "data": {
                  "text/plain": [
                     "<Figure size 640x480 with 0 Axes>"
                  ]
               },
               "metadata": {},
               "output_type": "display_data"
            },
            {
               "data": {
                  "text/plain": [
                     "<Figure size 640x480 with 0 Axes>"
                  ]
               },
               "metadata": {},
               "output_type": "display_data"
            },
            {
               "data": {
                  "text/plain": [
                     "<Figure size 640x480 with 0 Axes>"
                  ]
               },
               "metadata": {},
               "output_type": "display_data"
            },
            {
               "data": {
                  "text/plain": [
                     "<Figure size 640x480 with 0 Axes>"
                  ]
               },
               "metadata": {},
               "output_type": "display_data"
            },
            {
               "data": {
                  "text/plain": [
                     "<Figure size 640x480 with 0 Axes>"
                  ]
               },
               "metadata": {},
               "output_type": "display_data"
            },
            {
               "data": {
                  "text/plain": [
                     "<Figure size 640x480 with 0 Axes>"
                  ]
               },
               "metadata": {},
               "output_type": "display_data"
            },
            {
               "data": {
                  "text/plain": [
                     "<Figure size 640x480 with 0 Axes>"
                  ]
               },
               "metadata": {},
               "output_type": "display_data"
            },
            {
               "data": {
                  "text/plain": [
                     "<Figure size 640x480 with 0 Axes>"
                  ]
               },
               "metadata": {},
               "output_type": "display_data"
            },
            {
               "data": {
                  "text/plain": [
                     "<Figure size 640x480 with 0 Axes>"
                  ]
               },
               "metadata": {},
               "output_type": "display_data"
            },
            {
               "data": {
                  "text/plain": [
                     "<Figure size 640x480 with 0 Axes>"
                  ]
               },
               "metadata": {},
               "output_type": "display_data"
            },
            {
               "data": {
                  "text/plain": [
                     "<Figure size 640x480 with 0 Axes>"
                  ]
               },
               "metadata": {},
               "output_type": "display_data"
            },
            {
               "data": {
                  "text/plain": [
                     "<Figure size 640x480 with 0 Axes>"
                  ]
               },
               "metadata": {},
               "output_type": "display_data"
            },
            {
               "data": {
                  "text/plain": [
                     "<Figure size 640x480 with 0 Axes>"
                  ]
               },
               "metadata": {},
               "output_type": "display_data"
            },
            {
               "data": {
                  "text/plain": [
                     "<Figure size 640x480 with 0 Axes>"
                  ]
               },
               "metadata": {},
               "output_type": "display_data"
            },
            {
               "data": {
                  "text/plain": [
                     "<Figure size 640x480 with 0 Axes>"
                  ]
               },
               "metadata": {},
               "output_type": "display_data"
            },
            {
               "data": {
                  "text/plain": [
                     "<Figure size 640x480 with 0 Axes>"
                  ]
               },
               "metadata": {},
               "output_type": "display_data"
            },
            {
               "data": {
                  "text/plain": [
                     "<Figure size 640x480 with 0 Axes>"
                  ]
               },
               "metadata": {},
               "output_type": "display_data"
            },
            {
               "data": {
                  "text/plain": [
                     "<Figure size 640x480 with 0 Axes>"
                  ]
               },
               "metadata": {},
               "output_type": "display_data"
            },
            {
               "data": {
                  "text/plain": [
                     "<Figure size 640x480 with 0 Axes>"
                  ]
               },
               "metadata": {},
               "output_type": "display_data"
            },
            {
               "data": {
                  "text/plain": [
                     "<Figure size 640x480 with 0 Axes>"
                  ]
               },
               "metadata": {},
               "output_type": "display_data"
            },
            {
               "data": {
                  "text/plain": [
                     "<Figure size 640x480 with 0 Axes>"
                  ]
               },
               "metadata": {},
               "output_type": "display_data"
            },
            {
               "data": {
                  "text/plain": [
                     "<Figure size 640x480 with 0 Axes>"
                  ]
               },
               "metadata": {},
               "output_type": "display_data"
            },
            {
               "data": {
                  "text/plain": [
                     "<Figure size 640x480 with 0 Axes>"
                  ]
               },
               "metadata": {},
               "output_type": "display_data"
            },
            {
               "data": {
                  "text/plain": [
                     "<Figure size 640x480 with 0 Axes>"
                  ]
               },
               "metadata": {},
               "output_type": "display_data"
            },
            {
               "data": {
                  "text/plain": [
                     "<Figure size 640x480 with 0 Axes>"
                  ]
               },
               "metadata": {},
               "output_type": "display_data"
            },
            {
               "data": {
                  "text/plain": [
                     "<Figure size 640x480 with 0 Axes>"
                  ]
               },
               "metadata": {},
               "output_type": "display_data"
            },
            {
               "data": {
                  "text/plain": [
                     "<Figure size 640x480 with 0 Axes>"
                  ]
               },
               "metadata": {},
               "output_type": "display_data"
            },
            {
               "data": {
                  "text/plain": [
                     "<Figure size 640x480 with 0 Axes>"
                  ]
               },
               "metadata": {},
               "output_type": "display_data"
            },
            {
               "data": {
                  "text/plain": [
                     "<Figure size 640x480 with 0 Axes>"
                  ]
               },
               "metadata": {},
               "output_type": "display_data"
            },
            {
               "data": {
                  "text/plain": [
                     "<Figure size 640x480 with 0 Axes>"
                  ]
               },
               "metadata": {},
               "output_type": "display_data"
            },
            {
               "data": {
                  "text/plain": [
                     "<Figure size 640x480 with 0 Axes>"
                  ]
               },
               "metadata": {},
               "output_type": "display_data"
            },
            {
               "data": {
                  "text/plain": [
                     "<Figure size 640x480 with 0 Axes>"
                  ]
               },
               "metadata": {},
               "output_type": "display_data"
            },
            {
               "data": {
                  "text/plain": [
                     "<Figure size 640x480 with 0 Axes>"
                  ]
               },
               "metadata": {},
               "output_type": "display_data"
            },
            {
               "data": {
                  "text/plain": [
                     "<Figure size 640x480 with 0 Axes>"
                  ]
               },
               "metadata": {},
               "output_type": "display_data"
            },
            {
               "data": {
                  "text/plain": [
                     "<Figure size 640x480 with 0 Axes>"
                  ]
               },
               "metadata": {},
               "output_type": "display_data"
            },
            {
               "data": {
                  "text/plain": [
                     "<Figure size 640x480 with 0 Axes>"
                  ]
               },
               "metadata": {},
               "output_type": "display_data"
            },
            {
               "data": {
                  "text/plain": [
                     "<Figure size 640x480 with 0 Axes>"
                  ]
               },
               "metadata": {},
               "output_type": "display_data"
            },
            {
               "data": {
                  "text/plain": [
                     "<Figure size 640x480 with 0 Axes>"
                  ]
               },
               "metadata": {},
               "output_type": "display_data"
            },
            {
               "data": {
                  "text/plain": [
                     "<Figure size 640x480 with 0 Axes>"
                  ]
               },
               "metadata": {},
               "output_type": "display_data"
            },
            {
               "data": {
                  "text/plain": [
                     "<Figure size 640x480 with 0 Axes>"
                  ]
               },
               "metadata": {},
               "output_type": "display_data"
            },
            {
               "data": {
                  "text/plain": [
                     "<Figure size 640x480 with 0 Axes>"
                  ]
               },
               "metadata": {},
               "output_type": "display_data"
            },
            {
               "data": {
                  "text/plain": [
                     "<Figure size 640x480 with 0 Axes>"
                  ]
               },
               "metadata": {},
               "output_type": "display_data"
            },
            {
               "data": {
                  "text/plain": [
                     "<Figure size 640x480 with 0 Axes>"
                  ]
               },
               "metadata": {},
               "output_type": "display_data"
            },
            {
               "data": {
                  "text/plain": [
                     "<Figure size 640x480 with 0 Axes>"
                  ]
               },
               "metadata": {},
               "output_type": "display_data"
            },
            {
               "data": {
                  "text/plain": [
                     "<Figure size 640x480 with 0 Axes>"
                  ]
               },
               "metadata": {},
               "output_type": "display_data"
            },
            {
               "data": {
                  "text/plain": [
                     "<Figure size 640x480 with 0 Axes>"
                  ]
               },
               "metadata": {},
               "output_type": "display_data"
            },
            {
               "data": {
                  "text/plain": [
                     "<Figure size 640x480 with 0 Axes>"
                  ]
               },
               "metadata": {},
               "output_type": "display_data"
            },
            {
               "data": {
                  "text/plain": [
                     "<Figure size 640x480 with 0 Axes>"
                  ]
               },
               "metadata": {},
               "output_type": "display_data"
            },
            {
               "data": {
                  "text/plain": [
                     "<Figure size 640x480 with 0 Axes>"
                  ]
               },
               "metadata": {},
               "output_type": "display_data"
            },
            {
               "data": {
                  "text/plain": [
                     "<Figure size 640x480 with 0 Axes>"
                  ]
               },
               "metadata": {},
               "output_type": "display_data"
            },
            {
               "data": {
                  "text/plain": [
                     "<Figure size 640x480 with 0 Axes>"
                  ]
               },
               "metadata": {},
               "output_type": "display_data"
            },
            {
               "data": {
                  "text/plain": [
                     "<Figure size 640x480 with 0 Axes>"
                  ]
               },
               "metadata": {},
               "output_type": "display_data"
            },
            {
               "data": {
                  "text/plain": [
                     "<Figure size 640x480 with 0 Axes>"
                  ]
               },
               "metadata": {},
               "output_type": "display_data"
            },
            {
               "data": {
                  "text/plain": [
                     "<Figure size 640x480 with 0 Axes>"
                  ]
               },
               "metadata": {},
               "output_type": "display_data"
            },
            {
               "data": {
                  "text/plain": [
                     "<Figure size 640x480 with 0 Axes>"
                  ]
               },
               "metadata": {},
               "output_type": "display_data"
            },
            {
               "data": {
                  "text/plain": [
                     "<Figure size 640x480 with 0 Axes>"
                  ]
               },
               "metadata": {},
               "output_type": "display_data"
            },
            {
               "data": {
                  "text/plain": [
                     "<Figure size 640x480 with 0 Axes>"
                  ]
               },
               "metadata": {},
               "output_type": "display_data"
            },
            {
               "data": {
                  "text/plain": [
                     "<Figure size 640x480 with 0 Axes>"
                  ]
               },
               "metadata": {},
               "output_type": "display_data"
            },
            {
               "data": {
                  "text/plain": [
                     "<Figure size 640x480 with 0 Axes>"
                  ]
               },
               "metadata": {},
               "output_type": "display_data"
            },
            {
               "data": {
                  "text/plain": [
                     "<Figure size 640x480 with 0 Axes>"
                  ]
               },
               "metadata": {},
               "output_type": "display_data"
            },
            {
               "data": {
                  "text/plain": [
                     "<Figure size 640x480 with 0 Axes>"
                  ]
               },
               "metadata": {},
               "output_type": "display_data"
            },
            {
               "data": {
                  "text/plain": [
                     "<Figure size 640x480 with 0 Axes>"
                  ]
               },
               "metadata": {},
               "output_type": "display_data"
            },
            {
               "data": {
                  "text/plain": [
                     "<Figure size 640x480 with 0 Axes>"
                  ]
               },
               "metadata": {},
               "output_type": "display_data"
            },
            {
               "data": {
                  "text/plain": [
                     "<Figure size 640x480 with 0 Axes>"
                  ]
               },
               "metadata": {},
               "output_type": "display_data"
            },
            {
               "data": {
                  "text/plain": [
                     "<Figure size 640x480 with 0 Axes>"
                  ]
               },
               "metadata": {},
               "output_type": "display_data"
            },
            {
               "data": {
                  "text/plain": [
                     "<Figure size 640x480 with 0 Axes>"
                  ]
               },
               "metadata": {},
               "output_type": "display_data"
            },
            {
               "data": {
                  "text/plain": [
                     "<Figure size 640x480 with 0 Axes>"
                  ]
               },
               "metadata": {},
               "output_type": "display_data"
            },
            {
               "data": {
                  "text/plain": [
                     "<Figure size 640x480 with 0 Axes>"
                  ]
               },
               "metadata": {},
               "output_type": "display_data"
            },
            {
               "data": {
                  "text/plain": [
                     "<Figure size 640x480 with 0 Axes>"
                  ]
               },
               "metadata": {},
               "output_type": "display_data"
            },
            {
               "data": {
                  "text/plain": [
                     "<Figure size 640x480 with 0 Axes>"
                  ]
               },
               "metadata": {},
               "output_type": "display_data"
            },
            {
               "data": {
                  "text/plain": [
                     "<Figure size 640x480 with 0 Axes>"
                  ]
               },
               "metadata": {},
               "output_type": "display_data"
            },
            {
               "data": {
                  "text/plain": [
                     "<Figure size 640x480 with 0 Axes>"
                  ]
               },
               "metadata": {},
               "output_type": "display_data"
            },
            {
               "data": {
                  "text/plain": [
                     "<Figure size 640x480 with 0 Axes>"
                  ]
               },
               "metadata": {},
               "output_type": "display_data"
            },
            {
               "data": {
                  "text/plain": [
                     "<Figure size 640x480 with 0 Axes>"
                  ]
               },
               "metadata": {},
               "output_type": "display_data"
            },
            {
               "data": {
                  "text/plain": [
                     "<Figure size 640x480 with 0 Axes>"
                  ]
               },
               "metadata": {},
               "output_type": "display_data"
            },
            {
               "data": {
                  "text/plain": [
                     "<Figure size 640x480 with 0 Axes>"
                  ]
               },
               "metadata": {},
               "output_type": "display_data"
            },
            {
               "data": {
                  "text/plain": [
                     "<Figure size 640x480 with 0 Axes>"
                  ]
               },
               "metadata": {},
               "output_type": "display_data"
            },
            {
               "data": {
                  "text/plain": [
                     "<Figure size 640x480 with 0 Axes>"
                  ]
               },
               "metadata": {},
               "output_type": "display_data"
            },
            {
               "data": {
                  "text/plain": [
                     "<Figure size 640x480 with 0 Axes>"
                  ]
               },
               "metadata": {},
               "output_type": "display_data"
            },
            {
               "data": {
                  "text/plain": [
                     "<Figure size 640x480 with 0 Axes>"
                  ]
               },
               "metadata": {},
               "output_type": "display_data"
            },
            {
               "data": {
                  "text/plain": [
                     "<Figure size 640x480 with 0 Axes>"
                  ]
               },
               "metadata": {},
               "output_type": "display_data"
            },
            {
               "data": {
                  "text/plain": [
                     "<Figure size 640x480 with 0 Axes>"
                  ]
               },
               "metadata": {},
               "output_type": "display_data"
            },
            {
               "data": {
                  "text/plain": [
                     "<Figure size 640x480 with 0 Axes>"
                  ]
               },
               "metadata": {},
               "output_type": "display_data"
            },
            {
               "data": {
                  "text/plain": [
                     "<Figure size 640x480 with 0 Axes>"
                  ]
               },
               "metadata": {},
               "output_type": "display_data"
            },
            {
               "data": {
                  "text/plain": [
                     "<Figure size 640x480 with 0 Axes>"
                  ]
               },
               "metadata": {},
               "output_type": "display_data"
            },
            {
               "data": {
                  "text/plain": [
                     "<Figure size 640x480 with 0 Axes>"
                  ]
               },
               "metadata": {},
               "output_type": "display_data"
            },
            {
               "data": {
                  "text/plain": [
                     "<Figure size 640x480 with 0 Axes>"
                  ]
               },
               "metadata": {},
               "output_type": "display_data"
            },
            {
               "data": {
                  "text/plain": [
                     "<Figure size 640x480 with 0 Axes>"
                  ]
               },
               "metadata": {},
               "output_type": "display_data"
            },
            {
               "data": {
                  "text/plain": [
                     "<Figure size 640x480 with 0 Axes>"
                  ]
               },
               "metadata": {},
               "output_type": "display_data"
            },
            {
               "data": {
                  "text/plain": [
                     "<Figure size 640x480 with 0 Axes>"
                  ]
               },
               "metadata": {},
               "output_type": "display_data"
            },
            {
               "data": {
                  "text/plain": [
                     "<Figure size 640x480 with 0 Axes>"
                  ]
               },
               "metadata": {},
               "output_type": "display_data"
            },
            {
               "data": {
                  "text/plain": [
                     "<Figure size 640x480 with 0 Axes>"
                  ]
               },
               "metadata": {},
               "output_type": "display_data"
            },
            {
               "data": {
                  "text/plain": [
                     "<Figure size 640x480 with 0 Axes>"
                  ]
               },
               "metadata": {},
               "output_type": "display_data"
            },
            {
               "data": {
                  "text/plain": [
                     "<Figure size 640x480 with 0 Axes>"
                  ]
               },
               "metadata": {},
               "output_type": "display_data"
            },
            {
               "data": {
                  "text/plain": [
                     "<Figure size 640x480 with 0 Axes>"
                  ]
               },
               "metadata": {},
               "output_type": "display_data"
            },
            {
               "data": {
                  "text/plain": [
                     "<Figure size 640x480 with 0 Axes>"
                  ]
               },
               "metadata": {},
               "output_type": "display_data"
            },
            {
               "data": {
                  "text/plain": [
                     "<Figure size 640x480 with 0 Axes>"
                  ]
               },
               "metadata": {},
               "output_type": "display_data"
            },
            {
               "data": {
                  "text/plain": [
                     "<Figure size 640x480 with 0 Axes>"
                  ]
               },
               "metadata": {},
               "output_type": "display_data"
            },
            {
               "data": {
                  "text/plain": [
                     "<Figure size 640x480 with 0 Axes>"
                  ]
               },
               "metadata": {},
               "output_type": "display_data"
            },
            {
               "data": {
                  "text/plain": [
                     "<Figure size 640x480 with 0 Axes>"
                  ]
               },
               "metadata": {},
               "output_type": "display_data"
            },
            {
               "data": {
                  "text/plain": [
                     "<Figure size 640x480 with 0 Axes>"
                  ]
               },
               "metadata": {},
               "output_type": "display_data"
            },
            {
               "data": {
                  "text/plain": [
                     "<Figure size 640x480 with 0 Axes>"
                  ]
               },
               "metadata": {},
               "output_type": "display_data"
            },
            {
               "data": {
                  "text/plain": [
                     "<Figure size 640x480 with 0 Axes>"
                  ]
               },
               "metadata": {},
               "output_type": "display_data"
            },
            {
               "data": {
                  "text/plain": [
                     "<Figure size 640x480 with 0 Axes>"
                  ]
               },
               "metadata": {},
               "output_type": "display_data"
            },
            {
               "data": {
                  "text/plain": [
                     "<Figure size 640x480 with 0 Axes>"
                  ]
               },
               "metadata": {},
               "output_type": "display_data"
            },
            {
               "data": {
                  "text/plain": [
                     "<Figure size 640x480 with 0 Axes>"
                  ]
               },
               "metadata": {},
               "output_type": "display_data"
            },
            {
               "data": {
                  "text/plain": [
                     "<Figure size 640x480 with 0 Axes>"
                  ]
               },
               "metadata": {},
               "output_type": "display_data"
            },
            {
               "data": {
                  "text/plain": [
                     "<Figure size 640x480 with 0 Axes>"
                  ]
               },
               "metadata": {},
               "output_type": "display_data"
            },
            {
               "data": {
                  "text/plain": [
                     "<Figure size 640x480 with 0 Axes>"
                  ]
               },
               "metadata": {},
               "output_type": "display_data"
            },
            {
               "data": {
                  "text/plain": [
                     "<Figure size 640x480 with 0 Axes>"
                  ]
               },
               "metadata": {},
               "output_type": "display_data"
            },
            {
               "data": {
                  "text/plain": [
                     "<Figure size 640x480 with 0 Axes>"
                  ]
               },
               "metadata": {},
               "output_type": "display_data"
            },
            {
               "data": {
                  "text/plain": [
                     "<Figure size 640x480 with 0 Axes>"
                  ]
               },
               "metadata": {},
               "output_type": "display_data"
            },
            {
               "data": {
                  "text/plain": [
                     "<Figure size 640x480 with 0 Axes>"
                  ]
               },
               "metadata": {},
               "output_type": "display_data"
            },
            {
               "data": {
                  "text/plain": [
                     "<Figure size 640x480 with 0 Axes>"
                  ]
               },
               "metadata": {},
               "output_type": "display_data"
            },
            {
               "data": {
                  "text/plain": [
                     "<Figure size 640x480 with 0 Axes>"
                  ]
               },
               "metadata": {},
               "output_type": "display_data"
            },
            {
               "data": {
                  "text/plain": [
                     "<Figure size 640x480 with 0 Axes>"
                  ]
               },
               "metadata": {},
               "output_type": "display_data"
            },
            {
               "data": {
                  "text/plain": [
                     "<Figure size 640x480 with 0 Axes>"
                  ]
               },
               "metadata": {},
               "output_type": "display_data"
            },
            {
               "data": {
                  "text/plain": [
                     "<Figure size 640x480 with 0 Axes>"
                  ]
               },
               "metadata": {},
               "output_type": "display_data"
            },
            {
               "data": {
                  "text/plain": [
                     "<Figure size 640x480 with 0 Axes>"
                  ]
               },
               "metadata": {},
               "output_type": "display_data"
            },
            {
               "data": {
                  "text/plain": [
                     "<Figure size 640x480 with 0 Axes>"
                  ]
               },
               "metadata": {},
               "output_type": "display_data"
            },
            {
               "data": {
                  "text/plain": [
                     "<Figure size 640x480 with 0 Axes>"
                  ]
               },
               "metadata": {},
               "output_type": "display_data"
            },
            {
               "data": {
                  "text/plain": [
                     "<Figure size 640x480 with 0 Axes>"
                  ]
               },
               "metadata": {},
               "output_type": "display_data"
            },
            {
               "data": {
                  "text/plain": [
                     "<Figure size 640x480 with 0 Axes>"
                  ]
               },
               "metadata": {},
               "output_type": "display_data"
            },
            {
               "data": {
                  "text/plain": [
                     "<Figure size 640x480 with 0 Axes>"
                  ]
               },
               "metadata": {},
               "output_type": "display_data"
            },
            {
               "data": {
                  "text/plain": [
                     "<Figure size 640x480 with 0 Axes>"
                  ]
               },
               "metadata": {},
               "output_type": "display_data"
            },
            {
               "data": {
                  "text/plain": [
                     "<Figure size 640x480 with 0 Axes>"
                  ]
               },
               "metadata": {},
               "output_type": "display_data"
            },
            {
               "data": {
                  "text/plain": [
                     "<Figure size 640x480 with 0 Axes>"
                  ]
               },
               "metadata": {},
               "output_type": "display_data"
            },
            {
               "data": {
                  "text/plain": [
                     "<Figure size 640x480 with 0 Axes>"
                  ]
               },
               "metadata": {},
               "output_type": "display_data"
            },
            {
               "data": {
                  "text/plain": [
                     "<Figure size 640x480 with 0 Axes>"
                  ]
               },
               "metadata": {},
               "output_type": "display_data"
            },
            {
               "data": {
                  "text/plain": [
                     "<Figure size 640x480 with 0 Axes>"
                  ]
               },
               "metadata": {},
               "output_type": "display_data"
            },
            {
               "data": {
                  "text/plain": [
                     "<Figure size 640x480 with 0 Axes>"
                  ]
               },
               "metadata": {},
               "output_type": "display_data"
            },
            {
               "data": {
                  "text/plain": [
                     "<Figure size 640x480 with 0 Axes>"
                  ]
               },
               "metadata": {},
               "output_type": "display_data"
            },
            {
               "data": {
                  "text/plain": [
                     "<Figure size 640x480 with 0 Axes>"
                  ]
               },
               "metadata": {},
               "output_type": "display_data"
            },
            {
               "data": {
                  "text/plain": [
                     "<Figure size 640x480 with 0 Axes>"
                  ]
               },
               "metadata": {},
               "output_type": "display_data"
            },
            {
               "data": {
                  "text/plain": [
                     "<Figure size 640x480 with 0 Axes>"
                  ]
               },
               "metadata": {},
               "output_type": "display_data"
            },
            {
               "data": {
                  "text/plain": [
                     "<Figure size 640x480 with 0 Axes>"
                  ]
               },
               "metadata": {},
               "output_type": "display_data"
            },
            {
               "data": {
                  "text/plain": [
                     "<Figure size 640x480 with 0 Axes>"
                  ]
               },
               "metadata": {},
               "output_type": "display_data"
            },
            {
               "data": {
                  "text/plain": [
                     "<Figure size 640x480 with 0 Axes>"
                  ]
               },
               "metadata": {},
               "output_type": "display_data"
            },
            {
               "data": {
                  "text/plain": [
                     "<Figure size 640x480 with 0 Axes>"
                  ]
               },
               "metadata": {},
               "output_type": "display_data"
            },
            {
               "data": {
                  "text/plain": [
                     "<Figure size 640x480 with 0 Axes>"
                  ]
               },
               "metadata": {},
               "output_type": "display_data"
            },
            {
               "data": {
                  "text/plain": [
                     "<Figure size 640x480 with 0 Axes>"
                  ]
               },
               "metadata": {},
               "output_type": "display_data"
            },
            {
               "data": {
                  "text/plain": [
                     "<Figure size 640x480 with 0 Axes>"
                  ]
               },
               "metadata": {},
               "output_type": "display_data"
            },
            {
               "data": {
                  "text/plain": [
                     "<Figure size 640x480 with 0 Axes>"
                  ]
               },
               "metadata": {},
               "output_type": "display_data"
            },
            {
               "data": {
                  "text/plain": [
                     "<Figure size 640x480 with 0 Axes>"
                  ]
               },
               "metadata": {},
               "output_type": "display_data"
            },
            {
               "data": {
                  "text/plain": [
                     "<Figure size 640x480 with 0 Axes>"
                  ]
               },
               "metadata": {},
               "output_type": "display_data"
            },
            {
               "data": {
                  "text/plain": [
                     "<Figure size 640x480 with 0 Axes>"
                  ]
               },
               "metadata": {},
               "output_type": "display_data"
            },
            {
               "data": {
                  "text/plain": [
                     "<Figure size 640x480 with 0 Axes>"
                  ]
               },
               "metadata": {},
               "output_type": "display_data"
            },
            {
               "data": {
                  "text/plain": [
                     "<Figure size 640x480 with 0 Axes>"
                  ]
               },
               "metadata": {},
               "output_type": "display_data"
            },
            {
               "data": {
                  "text/plain": [
                     "<Figure size 640x480 with 0 Axes>"
                  ]
               },
               "metadata": {},
               "output_type": "display_data"
            },
            {
               "data": {
                  "text/plain": [
                     "<Figure size 640x480 with 0 Axes>"
                  ]
               },
               "metadata": {},
               "output_type": "display_data"
            },
            {
               "data": {
                  "text/plain": [
                     "<Figure size 640x480 with 0 Axes>"
                  ]
               },
               "metadata": {},
               "output_type": "display_data"
            },
            {
               "data": {
                  "text/plain": [
                     "<Figure size 640x480 with 0 Axes>"
                  ]
               },
               "metadata": {},
               "output_type": "display_data"
            },
            {
               "data": {
                  "text/plain": [
                     "<Figure size 640x480 with 0 Axes>"
                  ]
               },
               "metadata": {},
               "output_type": "display_data"
            },
            {
               "data": {
                  "text/plain": [
                     "<Figure size 640x480 with 0 Axes>"
                  ]
               },
               "metadata": {},
               "output_type": "display_data"
            },
            {
               "data": {
                  "text/plain": [
                     "<Figure size 640x480 with 0 Axes>"
                  ]
               },
               "metadata": {},
               "output_type": "display_data"
            },
            {
               "data": {
                  "text/plain": [
                     "<Figure size 640x480 with 0 Axes>"
                  ]
               },
               "metadata": {},
               "output_type": "display_data"
            },
            {
               "data": {
                  "text/plain": [
                     "<Figure size 640x480 with 0 Axes>"
                  ]
               },
               "metadata": {},
               "output_type": "display_data"
            },
            {
               "data": {
                  "text/plain": [
                     "<Figure size 640x480 with 0 Axes>"
                  ]
               },
               "metadata": {},
               "output_type": "display_data"
            },
            {
               "data": {
                  "text/plain": [
                     "<Figure size 640x480 with 0 Axes>"
                  ]
               },
               "metadata": {},
               "output_type": "display_data"
            },
            {
               "data": {
                  "text/plain": [
                     "<Figure size 640x480 with 0 Axes>"
                  ]
               },
               "metadata": {},
               "output_type": "display_data"
            },
            {
               "data": {
                  "text/plain": [
                     "<Figure size 640x480 with 0 Axes>"
                  ]
               },
               "metadata": {},
               "output_type": "display_data"
            },
            {
               "data": {
                  "text/plain": [
                     "<Figure size 640x480 with 0 Axes>"
                  ]
               },
               "metadata": {},
               "output_type": "display_data"
            },
            {
               "data": {
                  "text/plain": [
                     "<Figure size 640x480 with 0 Axes>"
                  ]
               },
               "metadata": {},
               "output_type": "display_data"
            },
            {
               "data": {
                  "text/plain": [
                     "<Figure size 640x480 with 0 Axes>"
                  ]
               },
               "metadata": {},
               "output_type": "display_data"
            },
            {
               "data": {
                  "text/plain": [
                     "<Figure size 640x480 with 0 Axes>"
                  ]
               },
               "metadata": {},
               "output_type": "display_data"
            },
            {
               "data": {
                  "text/plain": [
                     "<Figure size 640x480 with 0 Axes>"
                  ]
               },
               "metadata": {},
               "output_type": "display_data"
            },
            {
               "data": {
                  "text/plain": [
                     "<Figure size 640x480 with 0 Axes>"
                  ]
               },
               "metadata": {},
               "output_type": "display_data"
            },
            {
               "data": {
                  "text/plain": [
                     "<Figure size 640x480 with 0 Axes>"
                  ]
               },
               "metadata": {},
               "output_type": "display_data"
            },
            {
               "data": {
                  "text/plain": [
                     "<Figure size 640x480 with 0 Axes>"
                  ]
               },
               "metadata": {},
               "output_type": "display_data"
            },
            {
               "data": {
                  "text/plain": [
                     "<Figure size 640x480 with 0 Axes>"
                  ]
               },
               "metadata": {},
               "output_type": "display_data"
            },
            {
               "data": {
                  "text/plain": [
                     "<Figure size 640x480 with 0 Axes>"
                  ]
               },
               "metadata": {},
               "output_type": "display_data"
            },
            {
               "data": {
                  "text/plain": [
                     "<Figure size 640x480 with 0 Axes>"
                  ]
               },
               "metadata": {},
               "output_type": "display_data"
            },
            {
               "data": {
                  "text/plain": [
                     "<Figure size 640x480 with 0 Axes>"
                  ]
               },
               "metadata": {},
               "output_type": "display_data"
            },
            {
               "data": {
                  "text/plain": [
                     "<Figure size 640x480 with 0 Axes>"
                  ]
               },
               "metadata": {},
               "output_type": "display_data"
            },
            {
               "data": {
                  "text/plain": [
                     "<Figure size 640x480 with 0 Axes>"
                  ]
               },
               "metadata": {},
               "output_type": "display_data"
            },
            {
               "data": {
                  "text/plain": [
                     "<Figure size 640x480 with 0 Axes>"
                  ]
               },
               "metadata": {},
               "output_type": "display_data"
            },
            {
               "data": {
                  "text/plain": [
                     "<Figure size 640x480 with 0 Axes>"
                  ]
               },
               "metadata": {},
               "output_type": "display_data"
            },
            {
               "data": {
                  "text/plain": [
                     "<Figure size 640x480 with 0 Axes>"
                  ]
               },
               "metadata": {},
               "output_type": "display_data"
            },
            {
               "data": {
                  "text/plain": [
                     "<Figure size 640x480 with 0 Axes>"
                  ]
               },
               "metadata": {},
               "output_type": "display_data"
            },
            {
               "data": {
                  "text/plain": [
                     "<Figure size 640x480 with 0 Axes>"
                  ]
               },
               "metadata": {},
               "output_type": "display_data"
            },
            {
               "data": {
                  "text/plain": [
                     "<Figure size 640x480 with 0 Axes>"
                  ]
               },
               "metadata": {},
               "output_type": "display_data"
            },
            {
               "data": {
                  "text/plain": [
                     "<Figure size 640x480 with 0 Axes>"
                  ]
               },
               "metadata": {},
               "output_type": "display_data"
            },
            {
               "data": {
                  "text/plain": [
                     "<Figure size 640x480 with 0 Axes>"
                  ]
               },
               "metadata": {},
               "output_type": "display_data"
            },
            {
               "data": {
                  "text/plain": [
                     "<Figure size 640x480 with 0 Axes>"
                  ]
               },
               "metadata": {},
               "output_type": "display_data"
            },
            {
               "data": {
                  "text/plain": [
                     "<Figure size 640x480 with 0 Axes>"
                  ]
               },
               "metadata": {},
               "output_type": "display_data"
            },
            {
               "data": {
                  "text/plain": [
                     "<Figure size 640x480 with 0 Axes>"
                  ]
               },
               "metadata": {},
               "output_type": "display_data"
            },
            {
               "data": {
                  "text/plain": [
                     "<Figure size 640x480 with 0 Axes>"
                  ]
               },
               "metadata": {},
               "output_type": "display_data"
            },
            {
               "data": {
                  "text/plain": [
                     "<Figure size 640x480 with 0 Axes>"
                  ]
               },
               "metadata": {},
               "output_type": "display_data"
            },
            {
               "data": {
                  "text/plain": [
                     "<Figure size 640x480 with 0 Axes>"
                  ]
               },
               "metadata": {},
               "output_type": "display_data"
            },
            {
               "data": {
                  "text/plain": [
                     "<Figure size 640x480 with 0 Axes>"
                  ]
               },
               "metadata": {},
               "output_type": "display_data"
            },
            {
               "data": {
                  "text/plain": [
                     "<Figure size 640x480 with 0 Axes>"
                  ]
               },
               "metadata": {},
               "output_type": "display_data"
            },
            {
               "data": {
                  "text/plain": [
                     "<Figure size 640x480 with 0 Axes>"
                  ]
               },
               "metadata": {},
               "output_type": "display_data"
            },
            {
               "data": {
                  "text/plain": [
                     "<Figure size 640x480 with 0 Axes>"
                  ]
               },
               "metadata": {},
               "output_type": "display_data"
            },
            {
               "data": {
                  "text/plain": [
                     "<Figure size 640x480 with 0 Axes>"
                  ]
               },
               "metadata": {},
               "output_type": "display_data"
            },
            {
               "data": {
                  "text/plain": [
                     "<Figure size 640x480 with 0 Axes>"
                  ]
               },
               "metadata": {},
               "output_type": "display_data"
            },
            {
               "data": {
                  "text/plain": [
                     "<Figure size 640x480 with 0 Axes>"
                  ]
               },
               "metadata": {},
               "output_type": "display_data"
            },
            {
               "data": {
                  "text/plain": [
                     "<Figure size 640x480 with 0 Axes>"
                  ]
               },
               "metadata": {},
               "output_type": "display_data"
            },
            {
               "data": {
                  "text/plain": [
                     "<Figure size 640x480 with 0 Axes>"
                  ]
               },
               "metadata": {},
               "output_type": "display_data"
            },
            {
               "data": {
                  "text/plain": [
                     "<Figure size 640x480 with 0 Axes>"
                  ]
               },
               "metadata": {},
               "output_type": "display_data"
            },
            {
               "data": {
                  "text/plain": [
                     "<Figure size 640x480 with 0 Axes>"
                  ]
               },
               "metadata": {},
               "output_type": "display_data"
            },
            {
               "data": {
                  "text/plain": [
                     "<Figure size 640x480 with 0 Axes>"
                  ]
               },
               "metadata": {},
               "output_type": "display_data"
            },
            {
               "data": {
                  "text/plain": [
                     "<Figure size 640x480 with 0 Axes>"
                  ]
               },
               "metadata": {},
               "output_type": "display_data"
            },
            {
               "data": {
                  "text/plain": [
                     "<Figure size 640x480 with 0 Axes>"
                  ]
               },
               "metadata": {},
               "output_type": "display_data"
            },
            {
               "data": {
                  "text/plain": [
                     "<Figure size 640x480 with 0 Axes>"
                  ]
               },
               "metadata": {},
               "output_type": "display_data"
            },
            {
               "data": {
                  "text/plain": [
                     "<Figure size 640x480 with 0 Axes>"
                  ]
               },
               "metadata": {},
               "output_type": "display_data"
            },
            {
               "data": {
                  "text/plain": [
                     "<Figure size 640x480 with 0 Axes>"
                  ]
               },
               "metadata": {},
               "output_type": "display_data"
            },
            {
               "data": {
                  "text/plain": [
                     "<Figure size 640x480 with 0 Axes>"
                  ]
               },
               "metadata": {},
               "output_type": "display_data"
            },
            {
               "data": {
                  "text/plain": [
                     "<Figure size 640x480 with 0 Axes>"
                  ]
               },
               "metadata": {},
               "output_type": "display_data"
            },
            {
               "data": {
                  "text/plain": [
                     "<Figure size 640x480 with 0 Axes>"
                  ]
               },
               "metadata": {},
               "output_type": "display_data"
            },
            {
               "data": {
                  "text/plain": [
                     "<Figure size 640x480 with 0 Axes>"
                  ]
               },
               "metadata": {},
               "output_type": "display_data"
            },
            {
               "data": {
                  "text/plain": [
                     "<Figure size 640x480 with 0 Axes>"
                  ]
               },
               "metadata": {},
               "output_type": "display_data"
            },
            {
               "data": {
                  "text/plain": [
                     "<Figure size 640x480 with 0 Axes>"
                  ]
               },
               "metadata": {},
               "output_type": "display_data"
            },
            {
               "data": {
                  "text/plain": [
                     "<Figure size 640x480 with 0 Axes>"
                  ]
               },
               "metadata": {},
               "output_type": "display_data"
            },
            {
               "data": {
                  "text/plain": [
                     "<Figure size 640x480 with 0 Axes>"
                  ]
               },
               "metadata": {},
               "output_type": "display_data"
            },
            {
               "data": {
                  "text/plain": [
                     "<Figure size 640x480 with 0 Axes>"
                  ]
               },
               "metadata": {},
               "output_type": "display_data"
            },
            {
               "data": {
                  "text/plain": [
                     "<Figure size 640x480 with 0 Axes>"
                  ]
               },
               "metadata": {},
               "output_type": "display_data"
            },
            {
               "data": {
                  "text/plain": [
                     "<Figure size 640x480 with 0 Axes>"
                  ]
               },
               "metadata": {},
               "output_type": "display_data"
            },
            {
               "data": {
                  "text/plain": [
                     "<Figure size 640x480 with 0 Axes>"
                  ]
               },
               "metadata": {},
               "output_type": "display_data"
            },
            {
               "data": {
                  "text/plain": [
                     "<Figure size 640x480 with 0 Axes>"
                  ]
               },
               "metadata": {},
               "output_type": "display_data"
            },
            {
               "data": {
                  "text/plain": [
                     "<Figure size 640x480 with 0 Axes>"
                  ]
               },
               "metadata": {},
               "output_type": "display_data"
            },
            {
               "data": {
                  "text/plain": [
                     "<Figure size 640x480 with 0 Axes>"
                  ]
               },
               "metadata": {},
               "output_type": "display_data"
            },
            {
               "data": {
                  "text/plain": [
                     "<Figure size 640x480 with 0 Axes>"
                  ]
               },
               "metadata": {},
               "output_type": "display_data"
            },
            {
               "data": {
                  "text/plain": [
                     "<Figure size 640x480 with 0 Axes>"
                  ]
               },
               "metadata": {},
               "output_type": "display_data"
            },
            {
               "data": {
                  "text/plain": [
                     "<Figure size 640x480 with 0 Axes>"
                  ]
               },
               "metadata": {},
               "output_type": "display_data"
            },
            {
               "data": {
                  "text/plain": [
                     "<Figure size 640x480 with 0 Axes>"
                  ]
               },
               "metadata": {},
               "output_type": "display_data"
            },
            {
               "data": {
                  "text/plain": [
                     "<Figure size 640x480 with 0 Axes>"
                  ]
               },
               "metadata": {},
               "output_type": "display_data"
            },
            {
               "data": {
                  "text/plain": [
                     "<Figure size 640x480 with 0 Axes>"
                  ]
               },
               "metadata": {},
               "output_type": "display_data"
            },
            {
               "data": {
                  "text/plain": [
                     "<Figure size 640x480 with 0 Axes>"
                  ]
               },
               "metadata": {},
               "output_type": "display_data"
            },
            {
               "data": {
                  "text/plain": [
                     "<Figure size 640x480 with 0 Axes>"
                  ]
               },
               "metadata": {},
               "output_type": "display_data"
            },
            {
               "data": {
                  "text/plain": [
                     "<Figure size 640x480 with 0 Axes>"
                  ]
               },
               "metadata": {},
               "output_type": "display_data"
            },
            {
               "data": {
                  "text/plain": [
                     "<Figure size 640x480 with 0 Axes>"
                  ]
               },
               "metadata": {},
               "output_type": "display_data"
            },
            {
               "data": {
                  "text/plain": [
                     "<Figure size 640x480 with 0 Axes>"
                  ]
               },
               "metadata": {},
               "output_type": "display_data"
            },
            {
               "data": {
                  "text/plain": [
                     "<Figure size 640x480 with 0 Axes>"
                  ]
               },
               "metadata": {},
               "output_type": "display_data"
            },
            {
               "data": {
                  "text/plain": [
                     "<Figure size 640x480 with 0 Axes>"
                  ]
               },
               "metadata": {},
               "output_type": "display_data"
            },
            {
               "data": {
                  "text/plain": [
                     "<Figure size 640x480 with 0 Axes>"
                  ]
               },
               "metadata": {},
               "output_type": "display_data"
            },
            {
               "data": {
                  "text/plain": [
                     "<Figure size 640x480 with 0 Axes>"
                  ]
               },
               "metadata": {},
               "output_type": "display_data"
            },
            {
               "data": {
                  "text/plain": [
                     "<Figure size 640x480 with 0 Axes>"
                  ]
               },
               "metadata": {},
               "output_type": "display_data"
            },
            {
               "data": {
                  "text/plain": [
                     "<Figure size 640x480 with 0 Axes>"
                  ]
               },
               "metadata": {},
               "output_type": "display_data"
            },
            {
               "data": {
                  "text/plain": [
                     "<Figure size 640x480 with 0 Axes>"
                  ]
               },
               "metadata": {},
               "output_type": "display_data"
            },
            {
               "data": {
                  "text/plain": [
                     "<Figure size 640x480 with 0 Axes>"
                  ]
               },
               "metadata": {},
               "output_type": "display_data"
            },
            {
               "data": {
                  "text/plain": [
                     "<Figure size 640x480 with 0 Axes>"
                  ]
               },
               "metadata": {},
               "output_type": "display_data"
            },
            {
               "data": {
                  "text/plain": [
                     "<Figure size 640x480 with 0 Axes>"
                  ]
               },
               "metadata": {},
               "output_type": "display_data"
            },
            {
               "data": {
                  "text/plain": [
                     "<Figure size 640x480 with 0 Axes>"
                  ]
               },
               "metadata": {},
               "output_type": "display_data"
            },
            {
               "data": {
                  "text/plain": [
                     "<Figure size 640x480 with 0 Axes>"
                  ]
               },
               "metadata": {},
               "output_type": "display_data"
            },
            {
               "data": {
                  "text/plain": [
                     "<Figure size 640x480 with 0 Axes>"
                  ]
               },
               "metadata": {},
               "output_type": "display_data"
            },
            {
               "data": {
                  "text/plain": [
                     "<Figure size 640x480 with 0 Axes>"
                  ]
               },
               "metadata": {},
               "output_type": "display_data"
            },
            {
               "data": {
                  "text/plain": [
                     "<Figure size 640x480 with 0 Axes>"
                  ]
               },
               "metadata": {},
               "output_type": "display_data"
            },
            {
               "data": {
                  "text/plain": [
                     "<Figure size 640x480 with 0 Axes>"
                  ]
               },
               "metadata": {},
               "output_type": "display_data"
            },
            {
               "data": {
                  "text/plain": [
                     "<Figure size 640x480 with 0 Axes>"
                  ]
               },
               "metadata": {},
               "output_type": "display_data"
            },
            {
               "data": {
                  "text/plain": [
                     "<Figure size 640x480 with 0 Axes>"
                  ]
               },
               "metadata": {},
               "output_type": "display_data"
            },
            {
               "data": {
                  "text/plain": [
                     "<Figure size 640x480 with 0 Axes>"
                  ]
               },
               "metadata": {},
               "output_type": "display_data"
            },
            {
               "data": {
                  "text/plain": [
                     "<Figure size 640x480 with 0 Axes>"
                  ]
               },
               "metadata": {},
               "output_type": "display_data"
            },
            {
               "data": {
                  "text/plain": [
                     "<Figure size 640x480 with 0 Axes>"
                  ]
               },
               "metadata": {},
               "output_type": "display_data"
            },
            {
               "data": {
                  "text/plain": [
                     "<Figure size 640x480 with 0 Axes>"
                  ]
               },
               "metadata": {},
               "output_type": "display_data"
            },
            {
               "data": {
                  "text/plain": [
                     "<Figure size 640x480 with 0 Axes>"
                  ]
               },
               "metadata": {},
               "output_type": "display_data"
            },
            {
               "data": {
                  "text/plain": [
                     "<Figure size 640x480 with 0 Axes>"
                  ]
               },
               "metadata": {},
               "output_type": "display_data"
            },
            {
               "data": {
                  "text/plain": [
                     "<Figure size 640x480 with 0 Axes>"
                  ]
               },
               "metadata": {},
               "output_type": "display_data"
            },
            {
               "data": {
                  "text/plain": [
                     "<Figure size 640x480 with 0 Axes>"
                  ]
               },
               "metadata": {},
               "output_type": "display_data"
            },
            {
               "data": {
                  "text/plain": [
                     "<Figure size 640x480 with 0 Axes>"
                  ]
               },
               "metadata": {},
               "output_type": "display_data"
            },
            {
               "data": {
                  "text/plain": [
                     "<Figure size 640x480 with 0 Axes>"
                  ]
               },
               "metadata": {},
               "output_type": "display_data"
            },
            {
               "data": {
                  "text/plain": [
                     "<Figure size 640x480 with 0 Axes>"
                  ]
               },
               "metadata": {},
               "output_type": "display_data"
            },
            {
               "data": {
                  "text/plain": [
                     "<Figure size 640x480 with 0 Axes>"
                  ]
               },
               "metadata": {},
               "output_type": "display_data"
            },
            {
               "data": {
                  "text/plain": [
                     "<Figure size 640x480 with 0 Axes>"
                  ]
               },
               "metadata": {},
               "output_type": "display_data"
            },
            {
               "data": {
                  "text/plain": [
                     "<Figure size 640x480 with 0 Axes>"
                  ]
               },
               "metadata": {},
               "output_type": "display_data"
            },
            {
               "data": {
                  "text/plain": [
                     "<Figure size 640x480 with 0 Axes>"
                  ]
               },
               "metadata": {},
               "output_type": "display_data"
            },
            {
               "data": {
                  "text/plain": [
                     "<Figure size 640x480 with 0 Axes>"
                  ]
               },
               "metadata": {},
               "output_type": "display_data"
            },
            {
               "data": {
                  "text/plain": [
                     "<Figure size 640x480 with 0 Axes>"
                  ]
               },
               "metadata": {},
               "output_type": "display_data"
            },
            {
               "data": {
                  "text/plain": [
                     "<Figure size 640x480 with 0 Axes>"
                  ]
               },
               "metadata": {},
               "output_type": "display_data"
            },
            {
               "data": {
                  "text/plain": [
                     "<Figure size 640x480 with 0 Axes>"
                  ]
               },
               "metadata": {},
               "output_type": "display_data"
            },
            {
               "data": {
                  "text/plain": [
                     "<Figure size 640x480 with 0 Axes>"
                  ]
               },
               "metadata": {},
               "output_type": "display_data"
            },
            {
               "data": {
                  "text/plain": [
                     "<Figure size 640x480 with 0 Axes>"
                  ]
               },
               "metadata": {},
               "output_type": "display_data"
            },
            {
               "data": {
                  "text/plain": [
                     "<Figure size 640x480 with 0 Axes>"
                  ]
               },
               "metadata": {},
               "output_type": "display_data"
            },
            {
               "data": {
                  "text/plain": [
                     "<Figure size 640x480 with 0 Axes>"
                  ]
               },
               "metadata": {},
               "output_type": "display_data"
            },
            {
               "data": {
                  "text/plain": [
                     "<Figure size 640x480 with 0 Axes>"
                  ]
               },
               "metadata": {},
               "output_type": "display_data"
            },
            {
               "data": {
                  "text/plain": [
                     "<Figure size 640x480 with 0 Axes>"
                  ]
               },
               "metadata": {},
               "output_type": "display_data"
            },
            {
               "data": {
                  "text/plain": [
                     "<Figure size 640x480 with 0 Axes>"
                  ]
               },
               "metadata": {},
               "output_type": "display_data"
            },
            {
               "data": {
                  "text/plain": [
                     "<Figure size 640x480 with 0 Axes>"
                  ]
               },
               "metadata": {},
               "output_type": "display_data"
            },
            {
               "data": {
                  "text/plain": [
                     "<Figure size 640x480 with 0 Axes>"
                  ]
               },
               "metadata": {},
               "output_type": "display_data"
            },
            {
               "data": {
                  "text/plain": [
                     "<Figure size 640x480 with 0 Axes>"
                  ]
               },
               "metadata": {},
               "output_type": "display_data"
            },
            {
               "data": {
                  "text/plain": [
                     "<Figure size 640x480 with 0 Axes>"
                  ]
               },
               "metadata": {},
               "output_type": "display_data"
            },
            {
               "data": {
                  "text/plain": [
                     "<Figure size 640x480 with 0 Axes>"
                  ]
               },
               "metadata": {},
               "output_type": "display_data"
            },
            {
               "data": {
                  "text/plain": [
                     "<Figure size 640x480 with 0 Axes>"
                  ]
               },
               "metadata": {},
               "output_type": "display_data"
            },
            {
               "data": {
                  "text/plain": [
                     "<Figure size 640x480 with 0 Axes>"
                  ]
               },
               "metadata": {},
               "output_type": "display_data"
            },
            {
               "data": {
                  "text/plain": [
                     "<Figure size 640x480 with 0 Axes>"
                  ]
               },
               "metadata": {},
               "output_type": "display_data"
            },
            {
               "data": {
                  "text/plain": [
                     "<Figure size 640x480 with 0 Axes>"
                  ]
               },
               "metadata": {},
               "output_type": "display_data"
            },
            {
               "data": {
                  "text/plain": [
                     "<Figure size 640x480 with 0 Axes>"
                  ]
               },
               "metadata": {},
               "output_type": "display_data"
            },
            {
               "data": {
                  "text/plain": [
                     "<Figure size 640x480 with 0 Axes>"
                  ]
               },
               "metadata": {},
               "output_type": "display_data"
            },
            {
               "data": {
                  "text/plain": [
                     "<Figure size 640x480 with 0 Axes>"
                  ]
               },
               "metadata": {},
               "output_type": "display_data"
            },
            {
               "data": {
                  "text/plain": [
                     "<Figure size 640x480 with 0 Axes>"
                  ]
               },
               "metadata": {},
               "output_type": "display_data"
            },
            {
               "data": {
                  "text/plain": [
                     "<Figure size 640x480 with 0 Axes>"
                  ]
               },
               "metadata": {},
               "output_type": "display_data"
            },
            {
               "data": {
                  "text/plain": [
                     "<Figure size 640x480 with 0 Axes>"
                  ]
               },
               "metadata": {},
               "output_type": "display_data"
            },
            {
               "data": {
                  "text/plain": [
                     "<Figure size 640x480 with 0 Axes>"
                  ]
               },
               "metadata": {},
               "output_type": "display_data"
            },
            {
               "data": {
                  "text/plain": [
                     "<Figure size 640x480 with 0 Axes>"
                  ]
               },
               "metadata": {},
               "output_type": "display_data"
            },
            {
               "data": {
                  "text/plain": [
                     "<Figure size 640x480 with 0 Axes>"
                  ]
               },
               "metadata": {},
               "output_type": "display_data"
            },
            {
               "data": {
                  "text/plain": [
                     "<Figure size 640x480 with 0 Axes>"
                  ]
               },
               "metadata": {},
               "output_type": "display_data"
            },
            {
               "data": {
                  "text/plain": [
                     "<Figure size 640x480 with 0 Axes>"
                  ]
               },
               "metadata": {},
               "output_type": "display_data"
            },
            {
               "data": {
                  "text/plain": [
                     "<Figure size 640x480 with 0 Axes>"
                  ]
               },
               "metadata": {},
               "output_type": "display_data"
            },
            {
               "data": {
                  "text/plain": [
                     "<Figure size 640x480 with 0 Axes>"
                  ]
               },
               "metadata": {},
               "output_type": "display_data"
            },
            {
               "data": {
                  "text/plain": [
                     "<Figure size 640x480 with 0 Axes>"
                  ]
               },
               "metadata": {},
               "output_type": "display_data"
            },
            {
               "data": {
                  "text/plain": [
                     "<Figure size 640x480 with 0 Axes>"
                  ]
               },
               "metadata": {},
               "output_type": "display_data"
            },
            {
               "data": {
                  "text/plain": [
                     "<Figure size 640x480 with 0 Axes>"
                  ]
               },
               "metadata": {},
               "output_type": "display_data"
            },
            {
               "data": {
                  "text/plain": [
                     "<Figure size 640x480 with 0 Axes>"
                  ]
               },
               "metadata": {},
               "output_type": "display_data"
            },
            {
               "data": {
                  "text/plain": [
                     "<Figure size 640x480 with 0 Axes>"
                  ]
               },
               "metadata": {},
               "output_type": "display_data"
            },
            {
               "data": {
                  "text/plain": [
                     "<Figure size 640x480 with 0 Axes>"
                  ]
               },
               "metadata": {},
               "output_type": "display_data"
            },
            {
               "data": {
                  "text/plain": [
                     "<Figure size 640x480 with 0 Axes>"
                  ]
               },
               "metadata": {},
               "output_type": "display_data"
            },
            {
               "data": {
                  "text/plain": [
                     "<Figure size 640x480 with 0 Axes>"
                  ]
               },
               "metadata": {},
               "output_type": "display_data"
            },
            {
               "data": {
                  "text/plain": [
                     "<Figure size 640x480 with 0 Axes>"
                  ]
               },
               "metadata": {},
               "output_type": "display_data"
            },
            {
               "data": {
                  "text/plain": [
                     "<Figure size 640x480 with 0 Axes>"
                  ]
               },
               "metadata": {},
               "output_type": "display_data"
            },
            {
               "data": {
                  "text/plain": [
                     "<Figure size 640x480 with 0 Axes>"
                  ]
               },
               "metadata": {},
               "output_type": "display_data"
            },
            {
               "data": {
                  "text/plain": [
                     "<Figure size 640x480 with 0 Axes>"
                  ]
               },
               "metadata": {},
               "output_type": "display_data"
            },
            {
               "data": {
                  "text/plain": [
                     "<Figure size 640x480 with 0 Axes>"
                  ]
               },
               "metadata": {},
               "output_type": "display_data"
            },
            {
               "data": {
                  "text/plain": [
                     "<Figure size 640x480 with 0 Axes>"
                  ]
               },
               "metadata": {},
               "output_type": "display_data"
            },
            {
               "data": {
                  "text/plain": [
                     "<Figure size 640x480 with 0 Axes>"
                  ]
               },
               "metadata": {},
               "output_type": "display_data"
            },
            {
               "data": {
                  "text/plain": [
                     "<Figure size 640x480 with 0 Axes>"
                  ]
               },
               "metadata": {},
               "output_type": "display_data"
            },
            {
               "data": {
                  "text/plain": [
                     "<Figure size 640x480 with 0 Axes>"
                  ]
               },
               "metadata": {},
               "output_type": "display_data"
            },
            {
               "data": {
                  "text/plain": [
                     "<Figure size 640x480 with 0 Axes>"
                  ]
               },
               "metadata": {},
               "output_type": "display_data"
            },
            {
               "data": {
                  "text/plain": [
                     "<Figure size 640x480 with 0 Axes>"
                  ]
               },
               "metadata": {},
               "output_type": "display_data"
            },
            {
               "data": {
                  "text/plain": [
                     "<Figure size 640x480 with 0 Axes>"
                  ]
               },
               "metadata": {},
               "output_type": "display_data"
            },
            {
               "data": {
                  "text/plain": [
                     "<Figure size 640x480 with 0 Axes>"
                  ]
               },
               "metadata": {},
               "output_type": "display_data"
            },
            {
               "data": {
                  "text/plain": [
                     "<Figure size 640x480 with 0 Axes>"
                  ]
               },
               "metadata": {},
               "output_type": "display_data"
            },
            {
               "data": {
                  "text/plain": [
                     "<Figure size 640x480 with 0 Axes>"
                  ]
               },
               "metadata": {},
               "output_type": "display_data"
            },
            {
               "data": {
                  "text/plain": [
                     "<Figure size 640x480 with 0 Axes>"
                  ]
               },
               "metadata": {},
               "output_type": "display_data"
            },
            {
               "data": {
                  "text/plain": [
                     "<Figure size 640x480 with 0 Axes>"
                  ]
               },
               "metadata": {},
               "output_type": "display_data"
            },
            {
               "data": {
                  "text/plain": [
                     "<Figure size 640x480 with 0 Axes>"
                  ]
               },
               "metadata": {},
               "output_type": "display_data"
            },
            {
               "data": {
                  "text/plain": [
                     "<Figure size 640x480 with 0 Axes>"
                  ]
               },
               "metadata": {},
               "output_type": "display_data"
            },
            {
               "data": {
                  "text/plain": [
                     "<Figure size 640x480 with 0 Axes>"
                  ]
               },
               "metadata": {},
               "output_type": "display_data"
            },
            {
               "data": {
                  "text/plain": [
                     "<Figure size 640x480 with 0 Axes>"
                  ]
               },
               "metadata": {},
               "output_type": "display_data"
            },
            {
               "data": {
                  "text/plain": [
                     "<Figure size 640x480 with 0 Axes>"
                  ]
               },
               "metadata": {},
               "output_type": "display_data"
            },
            {
               "data": {
                  "text/plain": [
                     "<Figure size 640x480 with 0 Axes>"
                  ]
               },
               "metadata": {},
               "output_type": "display_data"
            },
            {
               "data": {
                  "text/plain": [
                     "<Figure size 640x480 with 0 Axes>"
                  ]
               },
               "metadata": {},
               "output_type": "display_data"
            },
            {
               "data": {
                  "text/plain": [
                     "<Figure size 640x480 with 0 Axes>"
                  ]
               },
               "metadata": {},
               "output_type": "display_data"
            },
            {
               "data": {
                  "text/plain": [
                     "<Figure size 640x480 with 0 Axes>"
                  ]
               },
               "metadata": {},
               "output_type": "display_data"
            },
            {
               "data": {
                  "text/plain": [
                     "<Figure size 640x480 with 0 Axes>"
                  ]
               },
               "metadata": {},
               "output_type": "display_data"
            },
            {
               "data": {
                  "text/plain": [
                     "<Figure size 640x480 with 0 Axes>"
                  ]
               },
               "metadata": {},
               "output_type": "display_data"
            },
            {
               "data": {
                  "text/plain": [
                     "<Figure size 640x480 with 0 Axes>"
                  ]
               },
               "metadata": {},
               "output_type": "display_data"
            },
            {
               "data": {
                  "text/plain": [
                     "<Figure size 640x480 with 0 Axes>"
                  ]
               },
               "metadata": {},
               "output_type": "display_data"
            },
            {
               "data": {
                  "text/plain": [
                     "<Figure size 640x480 with 0 Axes>"
                  ]
               },
               "metadata": {},
               "output_type": "display_data"
            },
            {
               "data": {
                  "text/plain": [
                     "<Figure size 640x480 with 0 Axes>"
                  ]
               },
               "metadata": {},
               "output_type": "display_data"
            },
            {
               "data": {
                  "text/plain": [
                     "<Figure size 640x480 with 0 Axes>"
                  ]
               },
               "metadata": {},
               "output_type": "display_data"
            },
            {
               "data": {
                  "text/plain": [
                     "<Figure size 640x480 with 0 Axes>"
                  ]
               },
               "metadata": {},
               "output_type": "display_data"
            },
            {
               "data": {
                  "text/plain": [
                     "<Figure size 640x480 with 0 Axes>"
                  ]
               },
               "metadata": {},
               "output_type": "display_data"
            },
            {
               "data": {
                  "text/plain": [
                     "<Figure size 640x480 with 0 Axes>"
                  ]
               },
               "metadata": {},
               "output_type": "display_data"
            },
            {
               "data": {
                  "text/plain": [
                     "<Figure size 640x480 with 0 Axes>"
                  ]
               },
               "metadata": {},
               "output_type": "display_data"
            },
            {
               "data": {
                  "text/plain": [
                     "<Figure size 640x480 with 0 Axes>"
                  ]
               },
               "metadata": {},
               "output_type": "display_data"
            },
            {
               "data": {
                  "text/plain": [
                     "<Figure size 640x480 with 0 Axes>"
                  ]
               },
               "metadata": {},
               "output_type": "display_data"
            },
            {
               "data": {
                  "text/plain": [
                     "<Figure size 640x480 with 0 Axes>"
                  ]
               },
               "metadata": {},
               "output_type": "display_data"
            },
            {
               "data": {
                  "text/plain": [
                     "<Figure size 640x480 with 0 Axes>"
                  ]
               },
               "metadata": {},
               "output_type": "display_data"
            },
            {
               "data": {
                  "text/plain": [
                     "<Figure size 640x480 with 0 Axes>"
                  ]
               },
               "metadata": {},
               "output_type": "display_data"
            },
            {
               "data": {
                  "text/plain": [
                     "<Figure size 640x480 with 0 Axes>"
                  ]
               },
               "metadata": {},
               "output_type": "display_data"
            },
            {
               "data": {
                  "text/plain": [
                     "<Figure size 640x480 with 0 Axes>"
                  ]
               },
               "metadata": {},
               "output_type": "display_data"
            },
            {
               "data": {
                  "text/plain": [
                     "<Figure size 640x480 with 0 Axes>"
                  ]
               },
               "metadata": {},
               "output_type": "display_data"
            },
            {
               "data": {
                  "text/plain": [
                     "<Figure size 640x480 with 0 Axes>"
                  ]
               },
               "metadata": {},
               "output_type": "display_data"
            },
            {
               "data": {
                  "text/plain": [
                     "<Figure size 640x480 with 0 Axes>"
                  ]
               },
               "metadata": {},
               "output_type": "display_data"
            },
            {
               "data": {
                  "text/plain": [
                     "<Figure size 640x480 with 0 Axes>"
                  ]
               },
               "metadata": {},
               "output_type": "display_data"
            },
            {
               "data": {
                  "text/plain": [
                     "<Figure size 640x480 with 0 Axes>"
                  ]
               },
               "metadata": {},
               "output_type": "display_data"
            },
            {
               "data": {
                  "text/plain": [
                     "<Figure size 640x480 with 0 Axes>"
                  ]
               },
               "metadata": {},
               "output_type": "display_data"
            },
            {
               "data": {
                  "text/plain": [
                     "<Figure size 640x480 with 0 Axes>"
                  ]
               },
               "metadata": {},
               "output_type": "display_data"
            },
            {
               "data": {
                  "text/plain": [
                     "<Figure size 640x480 with 0 Axes>"
                  ]
               },
               "metadata": {},
               "output_type": "display_data"
            },
            {
               "data": {
                  "text/plain": [
                     "<Figure size 640x480 with 0 Axes>"
                  ]
               },
               "metadata": {},
               "output_type": "display_data"
            },
            {
               "data": {
                  "text/plain": [
                     "<Figure size 640x480 with 0 Axes>"
                  ]
               },
               "metadata": {},
               "output_type": "display_data"
            },
            {
               "data": {
                  "text/plain": [
                     "<Figure size 640x480 with 0 Axes>"
                  ]
               },
               "metadata": {},
               "output_type": "display_data"
            },
            {
               "data": {
                  "text/plain": [
                     "<Figure size 640x480 with 0 Axes>"
                  ]
               },
               "metadata": {},
               "output_type": "display_data"
            },
            {
               "data": {
                  "text/plain": [
                     "<Figure size 640x480 with 0 Axes>"
                  ]
               },
               "metadata": {},
               "output_type": "display_data"
            },
            {
               "data": {
                  "text/plain": [
                     "<Figure size 640x480 with 0 Axes>"
                  ]
               },
               "metadata": {},
               "output_type": "display_data"
            },
            {
               "data": {
                  "text/plain": [
                     "<Figure size 640x480 with 0 Axes>"
                  ]
               },
               "metadata": {},
               "output_type": "display_data"
            },
            {
               "data": {
                  "text/plain": [
                     "<Figure size 640x480 with 0 Axes>"
                  ]
               },
               "metadata": {},
               "output_type": "display_data"
            },
            {
               "data": {
                  "text/plain": [
                     "<Figure size 640x480 with 0 Axes>"
                  ]
               },
               "metadata": {},
               "output_type": "display_data"
            },
            {
               "data": {
                  "text/plain": [
                     "<Figure size 640x480 with 0 Axes>"
                  ]
               },
               "metadata": {},
               "output_type": "display_data"
            },
            {
               "data": {
                  "text/plain": [
                     "<Figure size 640x480 with 0 Axes>"
                  ]
               },
               "metadata": {},
               "output_type": "display_data"
            },
            {
               "data": {
                  "text/plain": [
                     "<Figure size 640x480 with 0 Axes>"
                  ]
               },
               "metadata": {},
               "output_type": "display_data"
            },
            {
               "data": {
                  "text/plain": [
                     "<Figure size 640x480 with 0 Axes>"
                  ]
               },
               "metadata": {},
               "output_type": "display_data"
            },
            {
               "data": {
                  "text/plain": [
                     "<Figure size 640x480 with 0 Axes>"
                  ]
               },
               "metadata": {},
               "output_type": "display_data"
            },
            {
               "data": {
                  "text/plain": [
                     "<Figure size 640x480 with 0 Axes>"
                  ]
               },
               "metadata": {},
               "output_type": "display_data"
            },
            {
               "data": {
                  "text/plain": [
                     "<Figure size 640x480 with 0 Axes>"
                  ]
               },
               "metadata": {},
               "output_type": "display_data"
            },
            {
               "data": {
                  "text/plain": [
                     "<Figure size 640x480 with 0 Axes>"
                  ]
               },
               "metadata": {},
               "output_type": "display_data"
            },
            {
               "data": {
                  "text/plain": [
                     "<Figure size 640x480 with 0 Axes>"
                  ]
               },
               "metadata": {},
               "output_type": "display_data"
            },
            {
               "data": {
                  "text/plain": [
                     "<Figure size 640x480 with 0 Axes>"
                  ]
               },
               "metadata": {},
               "output_type": "display_data"
            },
            {
               "data": {
                  "text/plain": [
                     "<Figure size 640x480 with 0 Axes>"
                  ]
               },
               "metadata": {},
               "output_type": "display_data"
            },
            {
               "data": {
                  "text/plain": [
                     "<Figure size 640x480 with 0 Axes>"
                  ]
               },
               "metadata": {},
               "output_type": "display_data"
            },
            {
               "data": {
                  "text/plain": [
                     "<Figure size 640x480 with 0 Axes>"
                  ]
               },
               "metadata": {},
               "output_type": "display_data"
            },
            {
               "data": {
                  "text/plain": [
                     "<Figure size 640x480 with 0 Axes>"
                  ]
               },
               "metadata": {},
               "output_type": "display_data"
            },
            {
               "data": {
                  "text/plain": [
                     "<Figure size 640x480 with 0 Axes>"
                  ]
               },
               "metadata": {},
               "output_type": "display_data"
            },
            {
               "data": {
                  "text/plain": [
                     "<Figure size 640x480 with 0 Axes>"
                  ]
               },
               "metadata": {},
               "output_type": "display_data"
            },
            {
               "data": {
                  "text/plain": [
                     "<Figure size 640x480 with 0 Axes>"
                  ]
               },
               "metadata": {},
               "output_type": "display_data"
            },
            {
               "data": {
                  "text/plain": [
                     "<Figure size 640x480 with 0 Axes>"
                  ]
               },
               "metadata": {},
               "output_type": "display_data"
            },
            {
               "data": {
                  "text/plain": [
                     "<Figure size 640x480 with 0 Axes>"
                  ]
               },
               "metadata": {},
               "output_type": "display_data"
            },
            {
               "data": {
                  "text/plain": [
                     "<Figure size 640x480 with 0 Axes>"
                  ]
               },
               "metadata": {},
               "output_type": "display_data"
            },
            {
               "data": {
                  "text/plain": [
                     "<Figure size 640x480 with 0 Axes>"
                  ]
               },
               "metadata": {},
               "output_type": "display_data"
            },
            {
               "data": {
                  "text/plain": [
                     "<Figure size 640x480 with 0 Axes>"
                  ]
               },
               "metadata": {},
               "output_type": "display_data"
            },
            {
               "data": {
                  "text/plain": [
                     "<Figure size 640x480 with 0 Axes>"
                  ]
               },
               "metadata": {},
               "output_type": "display_data"
            },
            {
               "data": {
                  "text/plain": [
                     "<Figure size 640x480 with 0 Axes>"
                  ]
               },
               "metadata": {},
               "output_type": "display_data"
            },
            {
               "data": {
                  "text/plain": [
                     "<Figure size 640x480 with 0 Axes>"
                  ]
               },
               "metadata": {},
               "output_type": "display_data"
            },
            {
               "data": {
                  "text/plain": [
                     "<Figure size 640x480 with 0 Axes>"
                  ]
               },
               "metadata": {},
               "output_type": "display_data"
            },
            {
               "data": {
                  "text/plain": [
                     "<Figure size 640x480 with 0 Axes>"
                  ]
               },
               "metadata": {},
               "output_type": "display_data"
            },
            {
               "data": {
                  "text/plain": [
                     "<Figure size 640x480 with 0 Axes>"
                  ]
               },
               "metadata": {},
               "output_type": "display_data"
            },
            {
               "data": {
                  "text/plain": [
                     "<Figure size 640x480 with 0 Axes>"
                  ]
               },
               "metadata": {},
               "output_type": "display_data"
            },
            {
               "data": {
                  "text/plain": [
                     "<Figure size 640x480 with 0 Axes>"
                  ]
               },
               "metadata": {},
               "output_type": "display_data"
            },
            {
               "data": {
                  "text/plain": [
                     "<Figure size 640x480 with 0 Axes>"
                  ]
               },
               "metadata": {},
               "output_type": "display_data"
            },
            {
               "data": {
                  "text/plain": [
                     "<Figure size 640x480 with 0 Axes>"
                  ]
               },
               "metadata": {},
               "output_type": "display_data"
            },
            {
               "data": {
                  "text/plain": [
                     "<Figure size 640x480 with 0 Axes>"
                  ]
               },
               "metadata": {},
               "output_type": "display_data"
            },
            {
               "data": {
                  "text/plain": [
                     "<Figure size 640x480 with 0 Axes>"
                  ]
               },
               "metadata": {},
               "output_type": "display_data"
            },
            {
               "data": {
                  "text/plain": [
                     "<Figure size 640x480 with 0 Axes>"
                  ]
               },
               "metadata": {},
               "output_type": "display_data"
            },
            {
               "data": {
                  "text/plain": [
                     "<Figure size 640x480 with 0 Axes>"
                  ]
               },
               "metadata": {},
               "output_type": "display_data"
            },
            {
               "data": {
                  "text/plain": [
                     "<Figure size 640x480 with 0 Axes>"
                  ]
               },
               "metadata": {},
               "output_type": "display_data"
            },
            {
               "data": {
                  "text/plain": [
                     "<Figure size 640x480 with 0 Axes>"
                  ]
               },
               "metadata": {},
               "output_type": "display_data"
            },
            {
               "data": {
                  "text/plain": [
                     "<Figure size 640x480 with 0 Axes>"
                  ]
               },
               "metadata": {},
               "output_type": "display_data"
            },
            {
               "data": {
                  "text/plain": [
                     "<Figure size 640x480 with 0 Axes>"
                  ]
               },
               "metadata": {},
               "output_type": "display_data"
            },
            {
               "data": {
                  "text/plain": [
                     "<Figure size 640x480 with 0 Axes>"
                  ]
               },
               "metadata": {},
               "output_type": "display_data"
            },
            {
               "data": {
                  "text/plain": [
                     "<Figure size 640x480 with 0 Axes>"
                  ]
               },
               "metadata": {},
               "output_type": "display_data"
            },
            {
               "data": {
                  "text/plain": [
                     "<Figure size 640x480 with 0 Axes>"
                  ]
               },
               "metadata": {},
               "output_type": "display_data"
            },
            {
               "data": {
                  "text/plain": [
                     "<Figure size 640x480 with 0 Axes>"
                  ]
               },
               "metadata": {},
               "output_type": "display_data"
            },
            {
               "data": {
                  "text/plain": [
                     "<Figure size 640x480 with 0 Axes>"
                  ]
               },
               "metadata": {},
               "output_type": "display_data"
            },
            {
               "data": {
                  "text/plain": [
                     "<Figure size 640x480 with 0 Axes>"
                  ]
               },
               "metadata": {},
               "output_type": "display_data"
            },
            {
               "data": {
                  "text/plain": [
                     "<Figure size 640x480 with 0 Axes>"
                  ]
               },
               "metadata": {},
               "output_type": "display_data"
            },
            {
               "data": {
                  "text/plain": [
                     "<Figure size 640x480 with 0 Axes>"
                  ]
               },
               "metadata": {},
               "output_type": "display_data"
            },
            {
               "data": {
                  "text/plain": [
                     "<Figure size 640x480 with 0 Axes>"
                  ]
               },
               "metadata": {},
               "output_type": "display_data"
            },
            {
               "data": {
                  "text/plain": [
                     "<Figure size 640x480 with 0 Axes>"
                  ]
               },
               "metadata": {},
               "output_type": "display_data"
            },
            {
               "data": {
                  "text/plain": [
                     "<Figure size 640x480 with 0 Axes>"
                  ]
               },
               "metadata": {},
               "output_type": "display_data"
            },
            {
               "data": {
                  "text/plain": [
                     "<Figure size 640x480 with 0 Axes>"
                  ]
               },
               "metadata": {},
               "output_type": "display_data"
            },
            {
               "data": {
                  "text/plain": [
                     "<Figure size 640x480 with 0 Axes>"
                  ]
               },
               "metadata": {},
               "output_type": "display_data"
            },
            {
               "data": {
                  "text/plain": [
                     "<Figure size 640x480 with 0 Axes>"
                  ]
               },
               "metadata": {},
               "output_type": "display_data"
            },
            {
               "data": {
                  "text/plain": [
                     "<Figure size 640x480 with 0 Axes>"
                  ]
               },
               "metadata": {},
               "output_type": "display_data"
            },
            {
               "data": {
                  "text/plain": [
                     "<Figure size 640x480 with 0 Axes>"
                  ]
               },
               "metadata": {},
               "output_type": "display_data"
            },
            {
               "data": {
                  "text/plain": [
                     "<Figure size 640x480 with 0 Axes>"
                  ]
               },
               "metadata": {},
               "output_type": "display_data"
            },
            {
               "data": {
                  "text/plain": [
                     "<Figure size 640x480 with 0 Axes>"
                  ]
               },
               "metadata": {},
               "output_type": "display_data"
            },
            {
               "data": {
                  "text/plain": [
                     "<Figure size 640x480 with 0 Axes>"
                  ]
               },
               "metadata": {},
               "output_type": "display_data"
            },
            {
               "data": {
                  "text/plain": [
                     "<Figure size 640x480 with 0 Axes>"
                  ]
               },
               "metadata": {},
               "output_type": "display_data"
            },
            {
               "data": {
                  "text/plain": [
                     "<Figure size 640x480 with 0 Axes>"
                  ]
               },
               "metadata": {},
               "output_type": "display_data"
            },
            {
               "data": {
                  "text/plain": [
                     "<Figure size 640x480 with 0 Axes>"
                  ]
               },
               "metadata": {},
               "output_type": "display_data"
            },
            {
               "data": {
                  "text/plain": [
                     "<Figure size 640x480 with 0 Axes>"
                  ]
               },
               "metadata": {},
               "output_type": "display_data"
            },
            {
               "data": {
                  "text/plain": [
                     "<Figure size 640x480 with 0 Axes>"
                  ]
               },
               "metadata": {},
               "output_type": "display_data"
            },
            {
               "data": {
                  "text/plain": [
                     "<Figure size 640x480 with 0 Axes>"
                  ]
               },
               "metadata": {},
               "output_type": "display_data"
            },
            {
               "data": {
                  "text/plain": [
                     "<Figure size 640x480 with 0 Axes>"
                  ]
               },
               "metadata": {},
               "output_type": "display_data"
            },
            {
               "data": {
                  "text/plain": [
                     "<Figure size 640x480 with 0 Axes>"
                  ]
               },
               "metadata": {},
               "output_type": "display_data"
            },
            {
               "data": {
                  "text/plain": [
                     "<Figure size 640x480 with 0 Axes>"
                  ]
               },
               "metadata": {},
               "output_type": "display_data"
            },
            {
               "data": {
                  "text/plain": [
                     "<Figure size 640x480 with 0 Axes>"
                  ]
               },
               "metadata": {},
               "output_type": "display_data"
            },
            {
               "data": {
                  "text/plain": [
                     "<Figure size 640x480 with 0 Axes>"
                  ]
               },
               "metadata": {},
               "output_type": "display_data"
            },
            {
               "data": {
                  "text/plain": [
                     "<Figure size 640x480 with 0 Axes>"
                  ]
               },
               "metadata": {},
               "output_type": "display_data"
            },
            {
               "data": {
                  "text/plain": [
                     "<Figure size 640x480 with 0 Axes>"
                  ]
               },
               "metadata": {},
               "output_type": "display_data"
            },
            {
               "data": {
                  "text/plain": [
                     "<Figure size 640x480 with 0 Axes>"
                  ]
               },
               "metadata": {},
               "output_type": "display_data"
            },
            {
               "data": {
                  "text/plain": [
                     "<Figure size 640x480 with 0 Axes>"
                  ]
               },
               "metadata": {},
               "output_type": "display_data"
            },
            {
               "data": {
                  "text/plain": [
                     "<Figure size 640x480 with 0 Axes>"
                  ]
               },
               "metadata": {},
               "output_type": "display_data"
            },
            {
               "data": {
                  "text/plain": [
                     "<Figure size 640x480 with 0 Axes>"
                  ]
               },
               "metadata": {},
               "output_type": "display_data"
            },
            {
               "data": {
                  "text/plain": [
                     "<Figure size 640x480 with 0 Axes>"
                  ]
               },
               "metadata": {},
               "output_type": "display_data"
            },
            {
               "data": {
                  "text/plain": [
                     "<Figure size 640x480 with 0 Axes>"
                  ]
               },
               "metadata": {},
               "output_type": "display_data"
            },
            {
               "data": {
                  "text/plain": [
                     "<Figure size 640x480 with 0 Axes>"
                  ]
               },
               "metadata": {},
               "output_type": "display_data"
            },
            {
               "data": {
                  "text/plain": [
                     "<Figure size 640x480 with 0 Axes>"
                  ]
               },
               "metadata": {},
               "output_type": "display_data"
            },
            {
               "data": {
                  "text/plain": [
                     "<Figure size 640x480 with 0 Axes>"
                  ]
               },
               "metadata": {},
               "output_type": "display_data"
            },
            {
               "data": {
                  "text/plain": [
                     "<Figure size 640x480 with 0 Axes>"
                  ]
               },
               "metadata": {},
               "output_type": "display_data"
            },
            {
               "data": {
                  "text/plain": [
                     "<Figure size 640x480 with 0 Axes>"
                  ]
               },
               "metadata": {},
               "output_type": "display_data"
            },
            {
               "data": {
                  "text/plain": [
                     "<Figure size 640x480 with 0 Axes>"
                  ]
               },
               "metadata": {},
               "output_type": "display_data"
            },
            {
               "data": {
                  "text/plain": [
                     "<Figure size 640x480 with 0 Axes>"
                  ]
               },
               "metadata": {},
               "output_type": "display_data"
            },
            {
               "data": {
                  "text/plain": [
                     "<Figure size 640x480 with 0 Axes>"
                  ]
               },
               "metadata": {},
               "output_type": "display_data"
            },
            {
               "data": {
                  "text/plain": [
                     "<Figure size 640x480 with 0 Axes>"
                  ]
               },
               "metadata": {},
               "output_type": "display_data"
            },
            {
               "data": {
                  "text/plain": [
                     "<Figure size 640x480 with 0 Axes>"
                  ]
               },
               "metadata": {},
               "output_type": "display_data"
            },
            {
               "data": {
                  "text/plain": [
                     "<Figure size 640x480 with 0 Axes>"
                  ]
               },
               "metadata": {},
               "output_type": "display_data"
            },
            {
               "data": {
                  "text/plain": [
                     "<Figure size 640x480 with 0 Axes>"
                  ]
               },
               "metadata": {},
               "output_type": "display_data"
            },
            {
               "data": {
                  "text/plain": [
                     "<Figure size 640x480 with 0 Axes>"
                  ]
               },
               "metadata": {},
               "output_type": "display_data"
            },
            {
               "data": {
                  "text/plain": [
                     "<Figure size 640x480 with 0 Axes>"
                  ]
               },
               "metadata": {},
               "output_type": "display_data"
            },
            {
               "data": {
                  "text/plain": [
                     "<Figure size 640x480 with 0 Axes>"
                  ]
               },
               "metadata": {},
               "output_type": "display_data"
            },
            {
               "data": {
                  "text/plain": [
                     "<Figure size 640x480 with 0 Axes>"
                  ]
               },
               "metadata": {},
               "output_type": "display_data"
            },
            {
               "data": {
                  "text/plain": [
                     "<Figure size 640x480 with 0 Axes>"
                  ]
               },
               "metadata": {},
               "output_type": "display_data"
            },
            {
               "data": {
                  "text/plain": [
                     "<Figure size 640x480 with 0 Axes>"
                  ]
               },
               "metadata": {},
               "output_type": "display_data"
            },
            {
               "data": {
                  "text/plain": [
                     "<Figure size 640x480 with 0 Axes>"
                  ]
               },
               "metadata": {},
               "output_type": "display_data"
            },
            {
               "data": {
                  "text/plain": [
                     "<Figure size 640x480 with 0 Axes>"
                  ]
               },
               "metadata": {},
               "output_type": "display_data"
            },
            {
               "data": {
                  "text/plain": [
                     "<Figure size 640x480 with 0 Axes>"
                  ]
               },
               "metadata": {},
               "output_type": "display_data"
            },
            {
               "data": {
                  "text/plain": [
                     "<Figure size 640x480 with 0 Axes>"
                  ]
               },
               "metadata": {},
               "output_type": "display_data"
            },
            {
               "data": {
                  "text/plain": [
                     "<Figure size 640x480 with 0 Axes>"
                  ]
               },
               "metadata": {},
               "output_type": "display_data"
            },
            {
               "data": {
                  "text/plain": [
                     "<Figure size 640x480 with 0 Axes>"
                  ]
               },
               "metadata": {},
               "output_type": "display_data"
            },
            {
               "data": {
                  "text/plain": [
                     "<Figure size 640x480 with 0 Axes>"
                  ]
               },
               "metadata": {},
               "output_type": "display_data"
            },
            {
               "data": {
                  "text/plain": [
                     "<Figure size 640x480 with 0 Axes>"
                  ]
               },
               "metadata": {},
               "output_type": "display_data"
            },
            {
               "data": {
                  "text/plain": [
                     "<Figure size 640x480 with 0 Axes>"
                  ]
               },
               "metadata": {},
               "output_type": "display_data"
            },
            {
               "data": {
                  "text/plain": [
                     "<Figure size 640x480 with 0 Axes>"
                  ]
               },
               "metadata": {},
               "output_type": "display_data"
            },
            {
               "data": {
                  "text/plain": [
                     "<Figure size 640x480 with 0 Axes>"
                  ]
               },
               "metadata": {},
               "output_type": "display_data"
            },
            {
               "data": {
                  "text/plain": [
                     "<Figure size 640x480 with 0 Axes>"
                  ]
               },
               "metadata": {},
               "output_type": "display_data"
            },
            {
               "data": {
                  "text/plain": [
                     "<Figure size 640x480 with 0 Axes>"
                  ]
               },
               "metadata": {},
               "output_type": "display_data"
            },
            {
               "data": {
                  "text/plain": [
                     "<Figure size 640x480 with 0 Axes>"
                  ]
               },
               "metadata": {},
               "output_type": "display_data"
            },
            {
               "data": {
                  "text/plain": [
                     "<Figure size 640x480 with 0 Axes>"
                  ]
               },
               "metadata": {},
               "output_type": "display_data"
            },
            {
               "data": {
                  "text/plain": [
                     "<Figure size 640x480 with 0 Axes>"
                  ]
               },
               "metadata": {},
               "output_type": "display_data"
            },
            {
               "data": {
                  "text/plain": [
                     "<Figure size 640x480 with 0 Axes>"
                  ]
               },
               "metadata": {},
               "output_type": "display_data"
            },
            {
               "data": {
                  "text/plain": [
                     "<Figure size 640x480 with 0 Axes>"
                  ]
               },
               "metadata": {},
               "output_type": "display_data"
            },
            {
               "data": {
                  "text/plain": [
                     "<Figure size 640x480 with 0 Axes>"
                  ]
               },
               "metadata": {},
               "output_type": "display_data"
            },
            {
               "data": {
                  "text/plain": [
                     "<Figure size 640x480 with 0 Axes>"
                  ]
               },
               "metadata": {},
               "output_type": "display_data"
            },
            {
               "data": {
                  "text/plain": [
                     "<Figure size 640x480 with 0 Axes>"
                  ]
               },
               "metadata": {},
               "output_type": "display_data"
            },
            {
               "data": {
                  "text/plain": [
                     "<Figure size 640x480 with 0 Axes>"
                  ]
               },
               "metadata": {},
               "output_type": "display_data"
            },
            {
               "data": {
                  "text/plain": [
                     "<Figure size 640x480 with 0 Axes>"
                  ]
               },
               "metadata": {},
               "output_type": "display_data"
            },
            {
               "data": {
                  "text/plain": [
                     "<Figure size 640x480 with 0 Axes>"
                  ]
               },
               "metadata": {},
               "output_type": "display_data"
            },
            {
               "data": {
                  "text/plain": [
                     "<Figure size 640x480 with 0 Axes>"
                  ]
               },
               "metadata": {},
               "output_type": "display_data"
            },
            {
               "data": {
                  "text/plain": [
                     "<Figure size 640x480 with 0 Axes>"
                  ]
               },
               "metadata": {},
               "output_type": "display_data"
            },
            {
               "data": {
                  "text/plain": [
                     "<Figure size 640x480 with 0 Axes>"
                  ]
               },
               "metadata": {},
               "output_type": "display_data"
            },
            {
               "data": {
                  "text/plain": [
                     "<Figure size 640x480 with 0 Axes>"
                  ]
               },
               "metadata": {},
               "output_type": "display_data"
            },
            {
               "data": {
                  "text/plain": [
                     "<Figure size 640x480 with 0 Axes>"
                  ]
               },
               "metadata": {},
               "output_type": "display_data"
            },
            {
               "data": {
                  "text/plain": [
                     "<Figure size 640x480 with 0 Axes>"
                  ]
               },
               "metadata": {},
               "output_type": "display_data"
            },
            {
               "data": {
                  "text/plain": [
                     "<Figure size 640x480 with 0 Axes>"
                  ]
               },
               "metadata": {},
               "output_type": "display_data"
            },
            {
               "data": {
                  "text/plain": [
                     "<Figure size 640x480 with 0 Axes>"
                  ]
               },
               "metadata": {},
               "output_type": "display_data"
            },
            {
               "data": {
                  "text/plain": [
                     "<Figure size 640x480 with 0 Axes>"
                  ]
               },
               "metadata": {},
               "output_type": "display_data"
            },
            {
               "data": {
                  "text/plain": [
                     "<Figure size 640x480 with 0 Axes>"
                  ]
               },
               "metadata": {},
               "output_type": "display_data"
            },
            {
               "data": {
                  "text/plain": [
                     "<Figure size 640x480 with 0 Axes>"
                  ]
               },
               "metadata": {},
               "output_type": "display_data"
            },
            {
               "data": {
                  "text/plain": [
                     "<Figure size 640x480 with 0 Axes>"
                  ]
               },
               "metadata": {},
               "output_type": "display_data"
            },
            {
               "data": {
                  "text/plain": [
                     "<Figure size 640x480 with 0 Axes>"
                  ]
               },
               "metadata": {},
               "output_type": "display_data"
            },
            {
               "data": {
                  "text/plain": [
                     "<Figure size 640x480 with 0 Axes>"
                  ]
               },
               "metadata": {},
               "output_type": "display_data"
            },
            {
               "data": {
                  "text/plain": [
                     "<Figure size 640x480 with 0 Axes>"
                  ]
               },
               "metadata": {},
               "output_type": "display_data"
            },
            {
               "data": {
                  "text/plain": [
                     "<Figure size 640x480 with 0 Axes>"
                  ]
               },
               "metadata": {},
               "output_type": "display_data"
            },
            {
               "data": {
                  "text/plain": [
                     "<Figure size 640x480 with 0 Axes>"
                  ]
               },
               "metadata": {},
               "output_type": "display_data"
            },
            {
               "data": {
                  "text/plain": [
                     "<Figure size 640x480 with 0 Axes>"
                  ]
               },
               "metadata": {},
               "output_type": "display_data"
            },
            {
               "data": {
                  "text/plain": [
                     "<Figure size 640x480 with 0 Axes>"
                  ]
               },
               "metadata": {},
               "output_type": "display_data"
            },
            {
               "data": {
                  "text/plain": [
                     "<Figure size 640x480 with 0 Axes>"
                  ]
               },
               "metadata": {},
               "output_type": "display_data"
            },
            {
               "data": {
                  "text/plain": [
                     "<Figure size 640x480 with 0 Axes>"
                  ]
               },
               "metadata": {},
               "output_type": "display_data"
            },
            {
               "data": {
                  "text/plain": [
                     "<Figure size 640x480 with 0 Axes>"
                  ]
               },
               "metadata": {},
               "output_type": "display_data"
            },
            {
               "data": {
                  "text/plain": [
                     "<Figure size 640x480 with 0 Axes>"
                  ]
               },
               "metadata": {},
               "output_type": "display_data"
            },
            {
               "data": {
                  "text/plain": [
                     "<Figure size 640x480 with 0 Axes>"
                  ]
               },
               "metadata": {},
               "output_type": "display_data"
            },
            {
               "data": {
                  "text/plain": [
                     "<Figure size 640x480 with 0 Axes>"
                  ]
               },
               "metadata": {},
               "output_type": "display_data"
            },
            {
               "data": {
                  "text/plain": [
                     "<Figure size 640x480 with 0 Axes>"
                  ]
               },
               "metadata": {},
               "output_type": "display_data"
            },
            {
               "data": {
                  "text/plain": [
                     "<Figure size 640x480 with 0 Axes>"
                  ]
               },
               "metadata": {},
               "output_type": "display_data"
            },
            {
               "data": {
                  "text/plain": [
                     "<Figure size 640x480 with 0 Axes>"
                  ]
               },
               "metadata": {},
               "output_type": "display_data"
            },
            {
               "data": {
                  "text/plain": [
                     "<Figure size 640x480 with 0 Axes>"
                  ]
               },
               "metadata": {},
               "output_type": "display_data"
            }
         ],
         "source": [
            "import os\n",
            "import numpy as np\n",
            "from raug.metrics_2 import Metrics, accuracy\n",
            "from raug.utils.loader import get_labels_frequency\n",
            "import pandas as pd\n",
            "\n",
            "# Especificar o caminho para a pasta \"best_results\"\n",
            "folder_path = \"best_results\"\n",
            "_csv_path_test = \"/home/a52550/Desktop/datasets/ISIC2017/test/ISIC-2017_Test_v2_Part3_GroundTruth.csv\"\n",
            "true_labels = pd.read_csv(_csv_path_test).sort_values(by=['image_id'])['category']\n",
            "\n",
            "# Inicializar as variáveis para armazenar as previsões dos modelos\n",
            "ensemble_preds_best = None\n",
            "ensemble_preds_last = None\n",
            "num_models = 0\n",
            "ser_lab_freq = get_labels_frequency(_csv_path_test, \"category\", \"image_id\")\n",
            "_labels_name = ser_lab_freq.index.values #np.reshape(ser_lab_freq.index.values, (ser_lab_freq.index.values.shape[0], 1))\n",
            "\n",
            "# Percorrer as pastas de cada experimento\n",
            "for experiment_folder in os.listdir(folder_path):\n",
            "\n",
            "    df_best = pd.DataFrame()\n",
            "    df_last = pd.DataFrame()\n",
            "\n",
            "\n",
            "    if \".csv\" in experiment_folder or \".txt\" in experiment_folder:\n",
            "        continue\n",
            "\n",
            "    print(\"Experimento: \", experiment_folder)\n",
            "\n",
            "\n",
            "    experiment_path = os.path.join(folder_path, experiment_folder)\n",
            "\n",
            "    ensemble_preds_best = None\n",
            "    ensemble_preds_last = None\n",
            "\n",
            "    model_folders = os.listdir(experiment_path)\n",
            "\n",
            "    # Check if substring \"senet154\" is present in model_folders\n",
            "    if any(\"senet154\" in s for s in model_folders):\n",
            "        continue\n",
            "\n",
            "    \n",
            "    # Cria path para o experimento atual\n",
            "    if 'ensemble_average' in model_folders:\n",
            "        model_folders.remove('ensemble_average')\n",
            "    else:\n",
            "        os.mkdir(os.path.join(folder_path, experiment_folder, 'ensemble_average'))\n",
            "        os.mkdir(os.path.join(_metric_options_best['save_all_path']))\n",
            "        os.mkdir(os.path.join(_metric_options_last['save_all_path']))\n",
            "\n",
            "    if 'ensemble_3_best_average' in model_folders:\n",
            "        model_folders.remove('ensemble_3_best_average')\n",
            "    \n",
            "    if 'ensemble_votation' in model_folders:\n",
            "        model_folders.remove('ensemble_votation')\n",
            "\n",
            "    if 'DAandPPlatex.txt' in model_folders:\n",
            "        model_folders.remove('DAandPPlatex.txt')\n",
            "\n",
            "    model_folders = [x for x in model_folders if \".csv\" not in x]\n",
            "\n",
            "    try:\n",
            "\n",
            "        # Percorrer as pastas de cada modelo\n",
            "        for model_folder in model_folders:\n",
            "\n",
            "            model_path = os.path.join(experiment_path, model_folder)\n",
            "            _metric_options_best = {\n",
            "                'save_all_path': os.path.join(model_path, 'new_test_pred_best'),\n",
            "                'pred_name_scores': 'predictions.csv',\n",
            "            }\n",
            "            _metric_options_last = {\n",
            "                'save_all_path': os.path.join(model_path, 'new_test_pred_last'),\n",
            "                'pred_name_scores': 'predictions.csv',\n",
            "            }\n",
            "\n",
            "            if 'new_test_pred_best' not in os.listdir(model_path):\n",
            "                os.mkdir(os.path.join(model_path, 'new_test_pred_best'))\n",
            "            if 'new_test_pred_last' not in os.listdir(model_path):\n",
            "                os.mkdir(os.path.join(model_path, 'new_test_pred_last'))\n",
            "\n",
            "            # Carregar as previsões do modelo atual\n",
            "            model_preds_path_best = os.path.join(model_path, \"test_pred_best/predictions.csv\")\n",
            "            model_preds_path_last = os.path.join(model_path, \"test_pred_last/predictions.csv\")\n",
            "\n",
            "            model_preds_best = pd.read_csv(model_preds_path_best).sort_values(by=['image'])\n",
            "            model_preds_last = pd.read_csv(model_preds_path_last).sort_values(by=['image'])\n",
            "\n",
            "            metrics_best = Metrics ([\"accuracy\", \"topk_accuracy\", \"balanced_accuracy\", \"conf_matrix\" \"plot_conf_matrix\", \"precision_recall_report\", \"auc_and_roc_curve\", \"auc\"] , _labels_name, _metric_options_best)\n",
            "            metrics_last = Metrics ([\"accuracy\", \"topk_accuracy\", \"balanced_accuracy\", \"conf_matrix\" \"plot_conf_matrix\", \"precision_recall_report\", \"auc_and_roc_curve\", \"auc\"] , _labels_name, _metric_options_last)\n",
            "\n",
            "            metrics_best.update_scores(true_labels, model_preds_best[['0','1','2']].to_numpy(), model_preds_best[['image']].to_numpy())\n",
            "            metrics_last.update_scores(true_labels, model_preds_best[['0','1','2']].to_numpy(), model_preds_best[['image']].to_numpy())\n",
            "\n",
            "            metrics_best.compute_metrics()\n",
            "            metrics_last.compute_metrics()\n",
            "\n",
            "            metrics_best.save_scores()\n",
            "            metrics_last.save_scores()\n",
            "\n",
            "            for auc_metric in metrics_best.metrics_values['auc_and_roc_curve'][0]:\n",
            "                metrics_best.metrics_values[\"auc_\" + str(auc_metric)] = metrics_best.metrics_values['auc_and_roc_curve'][0][auc_metric]\n",
            "                metrics_last.metrics_values[\"auc_\" + str(auc_metric)] = metrics_last.metrics_values['auc_and_roc_curve'][0][auc_metric]\n",
            "            \n",
            "            # del metrics_best.metrics_values['conf_matrix']\n",
            "            del metrics_best.metrics_values['auc_and_roc_curve']\n",
            "            del metrics_best.metrics_values['precision_recall_report']\n",
            "\n",
            "            # del metrics_last.metrics_values['conf_matrix']\n",
            "            del metrics_last.metrics_values['auc_and_roc_curve']\n",
            "            del metrics_last.metrics_values['precision_recall_report']\n",
            "\n",
            "            folder_name = {'folder_name': model_folder, 'model_name': model_folder.split('_fold')[0]}\n",
            "            dict_best = {**folder_name, **metrics_best.metrics_values}\n",
            "            dict_last = {**folder_name, **metrics_last.metrics_values}\n",
            "\n",
            "\n",
            "            df_best = df_best.append(pd.DataFrame(dict_best, columns=dict_best.keys(), index=[0]), ignore_index=True)\n",
            "            df_last = df_last.append(pd.DataFrame(dict_last, columns=dict_last.keys(), index=[0]), ignore_index=True)\n",
            "\n",
            "    except Exception as e:\n",
            "        print(\"Erro no experimento \", experiment_folder)\n",
            "        print(e)\n",
            "\n",
            "\n",
            "    df_best.to_csv(os.path.join(experiment_path, 'results_best.csv'), index=False)\n",
            "    df_last.to_csv(os.path.join(experiment_path, 'results_last.csv'), index=False)\n",
            "\n",
            "# Avaliar a precisão do modelo de ensemble\n",
            "# true_classes_path = os.path.join(folder_path, \"true_classes.csv\")\n",
            "# true_classes = np.loadtxt(_csv_path_test, delimiter=\",\", skiprows=1)\n",
            "\n",
            "# from sklearn.metrics import accuracy_score, precision_score, recall_score, f1_score\n",
            "\n",
            "# accuracy = accuracy_score(true_classes, ensemble_classes)\n",
            "# precision = precision_score(true_classes, ensemble_classes, average=\"macro\")\n",
            "# recall = recall_score(true_classes, ensemble_classes, average=\"macro\")\n",
            "# f1 = f1_score(true_classes, ensemble_classes, average=\"macro\")\n",
            "\n",
            "# # Imprimir as métricas de avaliação\n",
            "# print(f\"Acurácia: {accuracy:.3f}\")\n",
            "# print(f\"Precisão: {precision:.3f}\")\n",
            "# print(f\"Recall: {recall:.3f}\")\n",
            "# print(f\"F1-score: {f1:.3f}\")\n"
         ]
      },
      {
         "attachments": {},
         "cell_type": "markdown",
         "metadata": {},
         "source": [
            "Calculate the metrics for the best ensemble"
         ]
      },
      {
         "cell_type": "code",
         "execution_count": 2,
         "metadata": {},
         "outputs": [
            {
               "name": "stdout",
               "output_type": "stream",
               "text": [
                  "Experimento:  DA2_dull_razor_shades_of_gray_cropped_images_folder\n",
                  "{'accuracy': 0.8283333333333334, 'topk_accuracy': 0.955, 'balanced_accuracy': 0.8131989299928231, 'precision_recall_report': '              precision    recall  f1-score   support\\n\\n           0       0.92      0.85      0.88       393\\n           1       0.67      0.71      0.69       117\\n           2       0.71      0.88      0.79        90\\n\\n    accuracy                           0.83       600\\n   macro avg       0.77      0.81      0.79       600\\nweighted avg       0.84      0.83      0.83       600\\n', 'auc_and_roc_curve': ({0: 0.9228774077761798, 1: 0.8957194174585479, 2: 0.9642701525054467, '1_2': 0.9299947849819973, 'macro': 0.9289600391885587, 'micro': 0.9430819444444445}, {0: array([0.        , 0.        , 0.        , 0.00483092, 0.00483092,\n",
                  "       0.00966184, 0.00966184, 0.01449275, 0.01449275, 0.01932367,\n",
                  "       0.01932367, 0.02898551, 0.02898551, 0.03381643, 0.03381643,\n",
                  "       0.04347826, 0.04347826, 0.04830918, 0.04830918, 0.05797101,\n",
                  "       0.05797101, 0.06280193, 0.06280193, 0.07246377, 0.07246377,\n",
                  "       0.07729469, 0.07729469, 0.0821256 , 0.0821256 , 0.08695652,\n",
                  "       0.08695652, 0.09178744, 0.09178744, 0.09661836, 0.09661836,\n",
                  "       0.10144928, 0.10144928, 0.10628019, 0.10628019, 0.11111111,\n",
                  "       0.11111111, 0.11594203, 0.11594203, 0.12077295, 0.12077295,\n",
                  "       0.13043478, 0.13043478, 0.13043478, 0.1352657 , 0.1352657 ,\n",
                  "       0.14492754, 0.14492754, 0.15458937, 0.15458937, 0.15942029,\n",
                  "       0.15942029, 0.17391304, 0.17391304, 0.17874396, 0.17874396,\n",
                  "       0.19323671, 0.19323671, 0.20289855, 0.20289855, 0.21256039,\n",
                  "       0.21256039, 0.2173913 , 0.2173913 , 0.24154589, 0.24154589,\n",
                  "       0.26570048, 0.26570048, 0.27536232, 0.27536232, 0.28019324,\n",
                  "       0.28019324, 0.28502415, 0.28502415, 0.29468599, 0.29468599,\n",
                  "       0.33333333, 0.33333333, 0.33816425, 0.33816425, 0.34299517,\n",
                  "       0.34299517, 0.36714976, 0.36714976, 0.37681159, 0.37681159,\n",
                  "       0.42028986, 0.42028986, 0.42512077, 0.42512077, 0.42995169,\n",
                  "       0.42995169, 0.43478261, 0.43478261, 0.44927536, 0.44927536,\n",
                  "       0.54589372, 0.54589372, 0.66183575, 0.66183575, 0.68115942,\n",
                  "       0.68115942, 0.69082126, 0.69082126, 0.73429952, 0.73429952,\n",
                  "       0.73913043, 0.73913043, 0.7826087 , 0.7826087 , 0.79227053,\n",
                  "       0.79227053, 0.9468599 , 0.9468599 , 1.        ]), 1: array([0.        , 0.        , 0.00207039, 0.00207039, 0.00414079,\n",
                  "       0.00414079, 0.00621118, 0.00621118, 0.01035197, 0.01035197,\n",
                  "       0.01449275, 0.01449275, 0.01656315, 0.01656315, 0.01863354,\n",
                  "       0.01863354, 0.02070393, 0.02070393, 0.02691511, 0.02691511,\n",
                  "       0.0310559 , 0.0310559 , 0.03312629, 0.03312629, 0.03933747,\n",
                  "       0.03933747, 0.04347826, 0.04347826, 0.04761905, 0.04761905,\n",
                  "       0.05175983, 0.05175983, 0.05383023, 0.05383023, 0.05797101,\n",
                  "       0.05797101, 0.06004141, 0.06004141, 0.0621118 , 0.0621118 ,\n",
                  "       0.06418219, 0.06418219, 0.06832298, 0.06832298, 0.07246377,\n",
                  "       0.07246377, 0.08281573, 0.08281573, 0.08695652, 0.08695652,\n",
                  "       0.09109731, 0.09109731, 0.0952381 , 0.0952381 , 0.09730849,\n",
                  "       0.09730849, 0.10144928, 0.10144928, 0.10559006, 0.10559006,\n",
                  "       0.11594203, 0.11594203, 0.13043478, 0.13043478, 0.13457557,\n",
                  "       0.13871636, 0.1552795 , 0.1552795 , 0.15942029, 0.1884058 ,\n",
                  "       0.1884058 , 0.19254658, 0.19254658, 0.20703934, 0.20703934,\n",
                  "       0.21325052, 0.21325052, 0.22981366, 0.22981366, 0.25258799,\n",
                  "       0.25258799, 0.27536232, 0.27536232, 0.29192547, 0.29192547,\n",
                  "       0.3126294 , 0.3126294 , 0.32505176, 0.32505176, 0.32919255,\n",
                  "       0.32919255, 0.3436853 , 0.3436853 , 0.36231884, 0.36231884,\n",
                  "       0.36438923, 0.36438923, 0.37267081, 0.37267081, 0.39337474,\n",
                  "       0.39337474, 0.41407867, 0.41407867, 0.42236025, 0.42236025,\n",
                  "       0.49068323, 0.49068323, 0.49275362, 0.49275362, 0.60662526,\n",
                  "       0.60662526, 0.63561077, 0.63561077, 0.64596273, 0.64596273,\n",
                  "       1.        ]), 2: array([0.        , 0.        , 0.        , 0.00196078, 0.00196078,\n",
                  "       0.00392157, 0.00392157, 0.00588235, 0.00588235, 0.00784314,\n",
                  "       0.00784314, 0.00980392, 0.00980392, 0.01176471, 0.01176471,\n",
                  "       0.0254902 , 0.0254902 , 0.02745098, 0.02745098, 0.03137255,\n",
                  "       0.03137255, 0.0372549 , 0.0372549 , 0.04117647, 0.04117647,\n",
                  "       0.04901961, 0.04901961, 0.05098039, 0.05098039, 0.05490196,\n",
                  "       0.05490196, 0.05882353, 0.05882353, 0.06078431, 0.06078431,\n",
                  "       0.06470588, 0.06470588, 0.06862745, 0.06862745, 0.07058824,\n",
                  "       0.07058824, 0.08627451, 0.08627451, 0.08823529, 0.08823529,\n",
                  "       0.12941176, 0.12941176, 0.14901961, 0.14901961, 0.15098039,\n",
                  "       0.15490196, 0.1745098 , 0.1745098 , 0.39019608, 0.39019608,\n",
                  "       0.60588235, 0.60980392, 0.62156863, 0.62156863, 1.        ]), 'macro': array([0.        , 0.00196078, 0.00207039, 0.00392157, 0.00414079,\n",
                  "       0.00483092, 0.00588235, 0.00621118, 0.00784314, 0.00966184,\n",
                  "       0.00980392, 0.01035197, 0.01176471, 0.01449275, 0.01656315,\n",
                  "       0.01863354, 0.01932367, 0.02070393, 0.0254902 , 0.02691511,\n",
                  "       0.02745098, 0.02898551, 0.0310559 , 0.03137255, 0.03312629,\n",
                  "       0.03381643, 0.0372549 , 0.03933747, 0.04117647, 0.04347826,\n",
                  "       0.04761905, 0.04830918, 0.04901961, 0.05098039, 0.05175983,\n",
                  "       0.05383023, 0.05490196, 0.05797101, 0.05882353, 0.06004141,\n",
                  "       0.06078431, 0.0621118 , 0.06280193, 0.06418219, 0.06470588,\n",
                  "       0.06832298, 0.06862745, 0.07058824, 0.07246377, 0.07729469,\n",
                  "       0.0821256 , 0.08281573, 0.08627451, 0.08695652, 0.08823529,\n",
                  "       0.09109731, 0.09178744, 0.0952381 , 0.09661836, 0.09730849,\n",
                  "       0.10144928, 0.10559006, 0.10628019, 0.11111111, 0.11594203,\n",
                  "       0.12077295, 0.12941176, 0.13043478, 0.13457557, 0.1352657 ,\n",
                  "       0.13871636, 0.14492754, 0.14901961, 0.15098039, 0.15458937,\n",
                  "       0.15490196, 0.1552795 , 0.15942029, 0.17391304, 0.1745098 ,\n",
                  "       0.17874396, 0.1884058 , 0.19254658, 0.19323671, 0.20289855,\n",
                  "       0.20703934, 0.21256039, 0.21325052, 0.2173913 , 0.22981366,\n",
                  "       0.24154589, 0.25258799, 0.26570048, 0.27536232, 0.28019324,\n",
                  "       0.28502415, 0.29192547, 0.29468599, 0.3126294 , 0.32505176,\n",
                  "       0.32919255, 0.33333333, 0.33816425, 0.34299517, 0.3436853 ,\n",
                  "       0.36231884, 0.36438923, 0.36714976, 0.37267081, 0.37681159,\n",
                  "       0.39019608, 0.39337474, 0.41407867, 0.42028986, 0.42236025,\n",
                  "       0.42512077, 0.42995169, 0.43478261, 0.44927536, 0.49068323,\n",
                  "       0.49275362, 0.54589372, 0.60588235, 0.60662526, 0.60980392,\n",
                  "       0.62156863, 0.63561077, 0.64596273, 0.66183575, 0.68115942,\n",
                  "       0.69082126, 0.73429952, 0.73913043, 0.7826087 , 0.79227053,\n",
                  "       0.9468599 , 1.        ]), 'micro': array([0.00000000e+00, 0.00000000e+00, 0.00000000e+00, 8.33333333e-04,\n",
                  "       8.33333333e-04, 1.66666667e-03, 1.66666667e-03, 2.50000000e-03,\n",
                  "       2.50000000e-03, 3.33333333e-03, 3.33333333e-03, 4.16666667e-03,\n",
                  "       4.16666667e-03, 5.00000000e-03, 5.00000000e-03, 5.83333333e-03,\n",
                  "       5.83333333e-03, 6.66666667e-03, 6.66666667e-03, 7.50000000e-03,\n",
                  "       7.50000000e-03, 8.33333333e-03, 8.33333333e-03, 9.16666667e-03,\n",
                  "       9.16666667e-03, 1.00000000e-02, 1.00000000e-02, 1.08333333e-02,\n",
                  "       1.08333333e-02, 1.16666667e-02, 1.16666667e-02, 1.25000000e-02,\n",
                  "       1.25000000e-02, 1.41666667e-02, 1.41666667e-02, 1.50000000e-02,\n",
                  "       1.50000000e-02, 1.58333333e-02, 1.58333333e-02, 1.66666667e-02,\n",
                  "       1.66666667e-02, 1.83333333e-02, 1.83333333e-02, 1.91666667e-02,\n",
                  "       1.91666667e-02, 2.16666667e-02, 2.16666667e-02, 2.25000000e-02,\n",
                  "       2.25000000e-02, 2.33333333e-02, 2.33333333e-02, 2.58333333e-02,\n",
                  "       2.58333333e-02, 2.83333333e-02, 2.83333333e-02, 2.91666667e-02,\n",
                  "       2.91666667e-02, 3.16666667e-02, 3.16666667e-02, 3.33333333e-02,\n",
                  "       3.33333333e-02, 3.58333333e-02, 3.58333333e-02, 3.66666667e-02,\n",
                  "       3.66666667e-02, 3.75000000e-02, 3.75000000e-02, 3.83333333e-02,\n",
                  "       3.83333333e-02, 4.08333333e-02, 4.08333333e-02, 4.16666667e-02,\n",
                  "       4.16666667e-02, 4.16666667e-02, 4.41666667e-02, 4.41666667e-02,\n",
                  "       4.50000000e-02, 4.50000000e-02, 4.58333333e-02, 4.58333333e-02,\n",
                  "       4.66666667e-02, 4.66666667e-02, 4.83333333e-02, 4.83333333e-02,\n",
                  "       5.08333333e-02, 5.08333333e-02, 5.16666667e-02, 5.16666667e-02,\n",
                  "       5.33333333e-02, 5.33333333e-02, 5.41666667e-02, 5.41666667e-02,\n",
                  "       5.58333333e-02, 5.58333333e-02, 5.83333333e-02, 5.83333333e-02,\n",
                  "       5.91666667e-02, 5.91666667e-02, 6.08333333e-02, 6.08333333e-02,\n",
                  "       6.16666667e-02, 6.16666667e-02, 6.25000000e-02, 6.25000000e-02,\n",
                  "       6.33333333e-02, 6.33333333e-02, 6.41666667e-02, 6.41666667e-02,\n",
                  "       6.50000000e-02, 6.50000000e-02, 6.58333333e-02, 6.58333333e-02,\n",
                  "       6.66666667e-02, 6.66666667e-02, 6.83333333e-02, 6.83333333e-02,\n",
                  "       6.83333333e-02, 6.91666667e-02, 6.91666667e-02, 7.00000000e-02,\n",
                  "       7.00000000e-02, 7.33333333e-02, 7.33333333e-02, 7.50000000e-02,\n",
                  "       7.50000000e-02, 7.75000000e-02, 7.75000000e-02, 8.08333333e-02,\n",
                  "       8.08333333e-02, 8.25000000e-02, 8.25000000e-02, 8.33333333e-02,\n",
                  "       8.33333333e-02, 8.50000000e-02, 8.50000000e-02, 8.58333333e-02,\n",
                  "       8.58333333e-02, 8.66666667e-02, 8.66666667e-02, 8.75000000e-02,\n",
                  "       8.75000000e-02, 8.83333333e-02, 8.83333333e-02, 8.91666667e-02,\n",
                  "       8.91666667e-02, 9.16666667e-02, 9.16666667e-02, 9.25000000e-02,\n",
                  "       9.25000000e-02, 9.33333333e-02, 9.33333333e-02, 9.50000000e-02,\n",
                  "       9.50000000e-02, 9.58333333e-02, 9.58333333e-02, 9.75000000e-02,\n",
                  "       9.75000000e-02, 1.00833333e-01, 1.00833333e-01, 1.01666667e-01,\n",
                  "       1.01666667e-01, 1.04166667e-01, 1.04166667e-01, 1.06666667e-01,\n",
                  "       1.06666667e-01, 1.07500000e-01, 1.07500000e-01, 1.10000000e-01,\n",
                  "       1.10000000e-01, 1.11666667e-01, 1.11666667e-01, 1.13333333e-01,\n",
                  "       1.13333333e-01, 1.15833333e-01, 1.15833333e-01, 1.17500000e-01,\n",
                  "       1.17500000e-01, 1.18333333e-01, 1.18333333e-01, 1.19166667e-01,\n",
                  "       1.19166667e-01, 1.20000000e-01, 1.20000000e-01, 1.25000000e-01,\n",
                  "       1.25000000e-01, 1.28333333e-01, 1.28333333e-01, 1.29166667e-01,\n",
                  "       1.29166667e-01, 1.30000000e-01, 1.30000000e-01, 1.43333333e-01,\n",
                  "       1.43333333e-01, 1.45833333e-01, 1.45833333e-01, 1.46666667e-01,\n",
                  "       1.48333333e-01, 1.54166667e-01, 1.54166667e-01, 1.58333333e-01,\n",
                  "       1.58333333e-01, 1.60833333e-01, 1.60833333e-01, 1.63333333e-01,\n",
                  "       1.63333333e-01, 1.65833333e-01, 1.65833333e-01, 1.67500000e-01,\n",
                  "       1.67500000e-01, 1.69166667e-01, 1.69166667e-01, 1.70833333e-01,\n",
                  "       1.91666667e-01, 1.91666667e-01, 1.96666667e-01, 1.96666667e-01,\n",
                  "       1.98333333e-01, 1.98333333e-01, 2.03333333e-01, 2.03333333e-01,\n",
                  "       2.05833333e-01, 2.07500000e-01, 2.13333333e-01, 2.13333333e-01,\n",
                  "       2.15000000e-01, 2.15000000e-01, 2.18333333e-01, 2.18333333e-01,\n",
                  "       2.22500000e-01, 2.22500000e-01, 2.26666667e-01, 2.26666667e-01,\n",
                  "       2.27500000e-01, 2.27500000e-01, 2.29166667e-01, 2.29166667e-01,\n",
                  "       2.32500000e-01, 2.32500000e-01, 2.36666667e-01, 2.36666667e-01,\n",
                  "       2.51666667e-01, 2.51666667e-01, 2.53333333e-01, 2.53333333e-01,\n",
                  "       2.58333333e-01, 2.58333333e-01, 2.63333333e-01, 2.63333333e-01,\n",
                  "       2.64166667e-01, 2.64166667e-01, 2.72500000e-01, 2.72500000e-01,\n",
                  "       2.73333333e-01, 2.73333333e-01, 2.76666667e-01, 2.76666667e-01,\n",
                  "       2.90833333e-01, 2.90833333e-01, 2.91666667e-01, 2.91666667e-01,\n",
                  "       3.07500000e-01, 3.07500000e-01, 3.08333333e-01, 3.08333333e-01,\n",
                  "       3.20000000e-01, 3.20000000e-01, 3.23333333e-01, 3.23333333e-01,\n",
                  "       3.32500000e-01, 3.32500000e-01, 3.42500000e-01, 3.42500000e-01,\n",
                  "       3.51666667e-01, 3.51666667e-01, 3.52500000e-01, 3.52500000e-01,\n",
                  "       3.69166667e-01, 3.69166667e-01, 3.95000000e-01, 3.95000000e-01,\n",
                  "       4.10833333e-01, 4.10833333e-01, 4.21666667e-01, 4.21666667e-01,\n",
                  "       4.45000000e-01, 4.45000000e-01, 4.55000000e-01, 4.55000000e-01,\n",
                  "       4.65000000e-01, 4.65000000e-01, 4.81666667e-01, 4.81666667e-01,\n",
                  "       4.85000000e-01, 4.85000000e-01, 4.90000000e-01, 4.90000000e-01,\n",
                  "       4.90833333e-01, 4.90833333e-01, 5.04166667e-01, 5.04166667e-01,\n",
                  "       5.12500000e-01, 5.12500000e-01, 5.70000000e-01, 5.70000000e-01,\n",
                  "       5.81666667e-01, 5.81666667e-01, 5.94166667e-01, 5.94166667e-01,\n",
                  "       6.08333333e-01, 6.08333333e-01, 6.15000000e-01, 6.15000000e-01,\n",
                  "       7.01666667e-01, 7.03333333e-01, 7.17500000e-01, 7.17500000e-01,\n",
                  "       8.72500000e-01, 8.72500000e-01, 1.00000000e+00])}, {0: array([0.        , 0.00254453, 0.17811705, 0.17811705, 0.3307888 ,\n",
                  "       0.3307888 , 0.44783715, 0.44783715, 0.4783715 , 0.4783715 ,\n",
                  "       0.49109415, 0.49109415, 0.50890585, 0.50890585, 0.55216285,\n",
                  "       0.55216285, 0.67175573, 0.67175573, 0.68193384, 0.68193384,\n",
                  "       0.6870229 , 0.6870229 , 0.71755725, 0.71755725, 0.72010178,\n",
                  "       0.72010178, 0.72519084, 0.72519084, 0.74300254, 0.74300254,\n",
                  "       0.7480916 , 0.7480916 , 0.75826972, 0.75826972, 0.76081425,\n",
                  "       0.76081425, 0.77608142, 0.77608142, 0.77862595, 0.77862595,\n",
                  "       0.78625954, 0.78625954, 0.81170483, 0.81170483, 0.81679389,\n",
                  "       0.81679389, 0.82188295, 0.8346056 , 0.8346056 , 0.83715013,\n",
                  "       0.83715013, 0.84732824, 0.84732824, 0.86005089, 0.86005089,\n",
                  "       0.86513995, 0.86513995, 0.8778626 , 0.8778626 , 0.88040712,\n",
                  "       0.88040712, 0.88804071, 0.88804071, 0.89058524, 0.89058524,\n",
                  "       0.90330789, 0.90330789, 0.91348601, 0.91348601, 0.91857506,\n",
                  "       0.91857506, 0.92111959, 0.92111959, 0.92875318, 0.92875318,\n",
                  "       0.93384224, 0.93384224, 0.9389313 , 0.9389313 , 0.94147583,\n",
                  "       0.94147583, 0.94402036, 0.94402036, 0.94656489, 0.94656489,\n",
                  "       0.94910941, 0.94910941, 0.95165394, 0.95165394, 0.96183206,\n",
                  "       0.96183206, 0.96437659, 0.96437659, 0.96946565, 0.96946565,\n",
                  "       0.97201018, 0.97201018, 0.97455471, 0.97455471, 0.97709924,\n",
                  "       0.97709924, 0.97964377, 0.97964377, 0.9821883 , 0.9821883 ,\n",
                  "       0.98473282, 0.98473282, 0.98727735, 0.98727735, 0.98982188,\n",
                  "       0.98982188, 0.99236641, 0.99236641, 0.99491094, 0.99491094,\n",
                  "       0.99745547, 0.99745547, 1.        , 1.        ]), 1: array([0.        , 0.00854701, 0.00854701, 0.01709402, 0.01709402,\n",
                  "       0.09401709, 0.09401709, 0.34188034, 0.34188034, 0.35897436,\n",
                  "       0.35897436, 0.39316239, 0.39316239, 0.4017094 , 0.4017094 ,\n",
                  "       0.41880342, 0.41880342, 0.44444444, 0.44444444, 0.46153846,\n",
                  "       0.46153846, 0.5042735 , 0.5042735 , 0.54700855, 0.54700855,\n",
                  "       0.56410256, 0.56410256, 0.57264957, 0.57264957, 0.58119658,\n",
                  "       0.58119658, 0.58974359, 0.58974359, 0.60683761, 0.60683761,\n",
                  "       0.62393162, 0.62393162, 0.64102564, 0.64102564, 0.64957265,\n",
                  "       0.64957265, 0.65811966, 0.65811966, 0.67521368, 0.67521368,\n",
                  "       0.68376068, 0.68376068, 0.69230769, 0.69230769, 0.7008547 ,\n",
                  "       0.7008547 , 0.70940171, 0.70940171, 0.71794872, 0.71794872,\n",
                  "       0.72649573, 0.72649573, 0.73504274, 0.73504274, 0.74358974,\n",
                  "       0.74358974, 0.75213675, 0.75213675, 0.76068376, 0.76068376,\n",
                  "       0.76068376, 0.76068376, 0.76923077, 0.76923077, 0.76923077,\n",
                  "       0.77777778, 0.77777778, 0.78632479, 0.78632479, 0.8034188 ,\n",
                  "       0.8034188 , 0.81196581, 0.81196581, 0.82051282, 0.82051282,\n",
                  "       0.82905983, 0.82905983, 0.84615385, 0.84615385, 0.86324786,\n",
                  "       0.86324786, 0.88034188, 0.88034188, 0.88888889, 0.88888889,\n",
                  "       0.8974359 , 0.8974359 , 0.90598291, 0.90598291, 0.91452991,\n",
                  "       0.91452991, 0.92307692, 0.92307692, 0.93162393, 0.93162393,\n",
                  "       0.94017094, 0.94017094, 0.94871795, 0.94871795, 0.95726496,\n",
                  "       0.95726496, 0.96581197, 0.96581197, 0.97435897, 0.97435897,\n",
                  "       0.98290598, 0.98290598, 0.99145299, 0.99145299, 1.        ,\n",
                  "       1.        ]), 2: array([0.        , 0.01111111, 0.08888889, 0.08888889, 0.42222222,\n",
                  "       0.42222222, 0.44444444, 0.44444444, 0.52222222, 0.52222222,\n",
                  "       0.55555556, 0.55555556, 0.62222222, 0.62222222, 0.66666667,\n",
                  "       0.66666667, 0.67777778, 0.67777778, 0.73333333, 0.73333333,\n",
                  "       0.74444444, 0.74444444, 0.8       , 0.8       , 0.81111111,\n",
                  "       0.81111111, 0.83333333, 0.83333333, 0.84444444, 0.84444444,\n",
                  "       0.85555556, 0.85555556, 0.86666667, 0.86666667, 0.87777778,\n",
                  "       0.87777778, 0.88888889, 0.88888889, 0.9       , 0.9       ,\n",
                  "       0.91111111, 0.91111111, 0.92222222, 0.92222222, 0.93333333,\n",
                  "       0.93333333, 0.94444444, 0.94444444, 0.95555556, 0.95555556,\n",
                  "       0.95555556, 0.95555556, 0.96666667, 0.96666667, 0.98888889,\n",
                  "       0.98888889, 0.98888889, 0.98888889, 1.        , 1.        ]), 'macro': array([0.09185098, 0.20296209, 0.2058111 , 0.2132185 , 0.23885953,\n",
                  "       0.28975011, 0.31567604, 0.39829712, 0.40940823, 0.44842435,\n",
                  "       0.47064657, 0.47634458, 0.49115939, 0.51273352, 0.51558252,\n",
                  "       0.52128053, 0.52552141, 0.53406842, 0.53777212, 0.54347013,\n",
                  "       0.56198865, 0.56792588, 0.5821709 , 0.5858746 , 0.60011961,\n",
                  "       0.61453861, 0.63305713, 0.63875514, 0.64245884, 0.68517214,\n",
                  "       0.68802114, 0.69141384, 0.69882125, 0.70252496, 0.70537396,\n",
                  "       0.71107196, 0.71477567, 0.72217003, 0.72587373, 0.73157174,\n",
                  "       0.73527544, 0.73812444, 0.74830256, 0.75115156, 0.75485527,\n",
                  "       0.76055327, 0.76425698, 0.76796068, 0.77165786, 0.77335421,\n",
                  "       0.77929145, 0.78214045, 0.78584415, 0.79038951, 0.79409321,\n",
                  "       0.79694222, 0.80033492, 0.80318392, 0.8040321 , 0.8068811 ,\n",
                  "       0.81481916, 0.81766817, 0.81851634, 0.82106087, 0.83239164,\n",
                  "       0.83408799, 0.8377917 , 0.84657793, 0.84657793, 0.84742611,\n",
                  "       0.84742611, 0.85081882, 0.85452252, 0.85452252, 0.8587634 ,\n",
                  "       0.8587634 , 0.86161241, 0.86330876, 0.86754964, 0.87125334,\n",
                  "       0.87210152, 0.87495052, 0.87779953, 0.88034406, 0.88119223,\n",
                  "       0.88689024, 0.89113112, 0.89398012, 0.89737283, 0.90022183,\n",
                  "       0.90191818, 0.90476719, 0.90561536, 0.9138579 , 0.91555425,\n",
                  "       0.9172506 , 0.92294861, 0.92379679, 0.92949479, 0.93234379,\n",
                  "       0.9351928 , 0.93604097, 0.93688915, 0.93773733, 0.94058633,\n",
                  "       0.94343533, 0.94628433, 0.94713251, 0.94998151, 0.95337422,\n",
                  "       0.96078163, 0.96363063, 0.96647963, 0.96732781, 0.97017681,\n",
                  "       0.97187317, 0.97272134, 0.97356952, 0.97441769, 0.9772667 ,\n",
                  "       0.9801157 , 0.98096388, 0.98096388, 0.98381288, 0.98381288,\n",
                  "       0.98751658, 0.99036559, 0.99321459, 0.99406277, 0.99491094,\n",
                  "       0.99575912, 0.99660729, 0.99745547, 0.99830365, 0.99915182,\n",
                  "       1.        , 1.        ]), 'micro': array([0.        , 0.00166667, 0.03333333, 0.03333333, 0.16666667,\n",
                  "       0.16666667, 0.17833333, 0.17833333, 0.19333333, 0.19333333,\n",
                  "       0.25666667, 0.25666667, 0.26833333, 0.26833333, 0.30166667,\n",
                  "       0.30166667, 0.34166667, 0.34166667, 0.36666667, 0.36666667,\n",
                  "       0.40166667, 0.40166667, 0.415     , 0.415     , 0.42833333,\n",
                  "       0.42833333, 0.43833333, 0.43833333, 0.44166667, 0.44166667,\n",
                  "       0.45833333, 0.45833333, 0.505     , 0.505     , 0.535     ,\n",
                  "       0.535     , 0.575     , 0.575     , 0.57666667, 0.57666667,\n",
                  "       0.58666667, 0.58666667, 0.59833333, 0.59833333, 0.61333333,\n",
                  "       0.61333333, 0.615     , 0.615     , 0.62      , 0.62      ,\n",
                  "       0.62333333, 0.62333333, 0.62666667, 0.62666667, 0.64333333,\n",
                  "       0.64333333, 0.65333333, 0.65333333, 0.66333333, 0.66333333,\n",
                  "       0.66833333, 0.66833333, 0.67333333, 0.67333333, 0.675     ,\n",
                  "       0.675     , 0.67833333, 0.67833333, 0.68166667, 0.68166667,\n",
                  "       0.68666667, 0.68666667, 0.68833333, 0.69166667, 0.69166667,\n",
                  "       0.70666667, 0.70666667, 0.71333333, 0.71333333, 0.71666667,\n",
                  "       0.71666667, 0.735     , 0.735     , 0.73666667, 0.73666667,\n",
                  "       0.73833333, 0.73833333, 0.74333333, 0.74333333, 0.74666667,\n",
                  "       0.74666667, 0.74833333, 0.74833333, 0.75      , 0.75      ,\n",
                  "       0.75333333, 0.75333333, 0.75833333, 0.75833333, 0.76333333,\n",
                  "       0.76333333, 0.76666667, 0.76666667, 0.76833333, 0.76833333,\n",
                  "       0.77333333, 0.77333333, 0.77833333, 0.77833333, 0.78      ,\n",
                  "       0.78      , 0.78166667, 0.78166667, 0.78333333, 0.78333333,\n",
                  "       0.785     , 0.78833333, 0.78833333, 0.79166667, 0.79166667,\n",
                  "       0.79666667, 0.79666667, 0.805     , 0.805     , 0.80833333,\n",
                  "       0.80833333, 0.81      , 0.81      , 0.81333333, 0.81333333,\n",
                  "       0.81666667, 0.81666667, 0.81833333, 0.81833333, 0.82      ,\n",
                  "       0.82      , 0.82166667, 0.82166667, 0.82666667, 0.82666667,\n",
                  "       0.83      , 0.83      , 0.83166667, 0.83166667, 0.83333333,\n",
                  "       0.83333333, 0.835     , 0.835     , 0.84      , 0.84      ,\n",
                  "       0.84166667, 0.84166667, 0.845     , 0.845     , 0.84666667,\n",
                  "       0.84666667, 0.85      , 0.85      , 0.85166667, 0.85166667,\n",
                  "       0.85333333, 0.85333333, 0.86      , 0.86      , 0.86166667,\n",
                  "       0.86166667, 0.86333333, 0.86333333, 0.865     , 0.865     ,\n",
                  "       0.86833333, 0.86833333, 0.87166667, 0.87166667, 0.87333333,\n",
                  "       0.87333333, 0.875     , 0.875     , 0.87666667, 0.87666667,\n",
                  "       0.87833333, 0.87833333, 0.88166667, 0.88166667, 0.88333333,\n",
                  "       0.88333333, 0.885     , 0.885     , 0.88666667, 0.88666667,\n",
                  "       0.88833333, 0.88833333, 0.89      , 0.89      , 0.89166667,\n",
                  "       0.89166667, 0.89166667, 0.89166667, 0.89666667, 0.89666667,\n",
                  "       0.9       , 0.9       , 0.90166667, 0.90166667, 0.90333333,\n",
                  "       0.90333333, 0.905     , 0.905     , 0.90666667, 0.90666667,\n",
                  "       0.90833333, 0.90833333, 0.90833333, 0.91      , 0.91      ,\n",
                  "       0.91166667, 0.91166667, 0.915     , 0.915     , 0.91833333,\n",
                  "       0.91833333, 0.91833333, 0.91833333, 0.92      , 0.92      ,\n",
                  "       0.92333333, 0.92333333, 0.925     , 0.925     , 0.92666667,\n",
                  "       0.92666667, 0.92833333, 0.92833333, 0.93      , 0.93      ,\n",
                  "       0.93166667, 0.93166667, 0.93333333, 0.93333333, 0.935     ,\n",
                  "       0.935     , 0.93666667, 0.93666667, 0.93833333, 0.93833333,\n",
                  "       0.94166667, 0.94166667, 0.94333333, 0.94333333, 0.945     ,\n",
                  "       0.945     , 0.94666667, 0.94666667, 0.94833333, 0.94833333,\n",
                  "       0.95      , 0.95      , 0.95166667, 0.95166667, 0.95333333,\n",
                  "       0.95333333, 0.955     , 0.955     , 0.95666667, 0.95666667,\n",
                  "       0.95833333, 0.95833333, 0.96      , 0.96      , 0.96166667,\n",
                  "       0.96166667, 0.96333333, 0.96333333, 0.965     , 0.965     ,\n",
                  "       0.96666667, 0.96666667, 0.96833333, 0.96833333, 0.97      ,\n",
                  "       0.97      , 0.97166667, 0.97166667, 0.97333333, 0.97333333,\n",
                  "       0.975     , 0.975     , 0.97666667, 0.97666667, 0.97833333,\n",
                  "       0.97833333, 0.98      , 0.98      , 0.98166667, 0.98166667,\n",
                  "       0.98333333, 0.98333333, 0.985     , 0.985     , 0.98666667,\n",
                  "       0.98666667, 0.98833333, 0.98833333, 0.99      , 0.99      ,\n",
                  "       0.99166667, 0.99166667, 0.99333333, 0.99333333, 0.995     ,\n",
                  "       0.995     , 0.99666667, 0.99666667, 0.99666667, 0.99666667,\n",
                  "       0.99833333, 0.99833333, 1.        , 1.        ])}), 'auc': 0.9276223259133914, 'precision_macro': 0.7662915898664905, 'recall_macro': 0.8131989299928231, 'fscore_macro': 0.7862571151439436, 'support_macro': None, 'precision_micro': 0.8283333333333334, 'recall_micro': 0.8283333333333334, 'fscore_micro': 0.8283333333333334, 'support_micro': None, 'precision_weighted': 0.8384453338667878, 'recall_weighted': 0.8283333333333334, 'fscore_weighted': 0.8311835840994504, 'support_weighted': None, 'precision_1': 0.6693548387096774, 'recall_1': 0.7094017094017094, 'fscore_1': 0.6887966804979253, 'support_1': 117, 'precision_2': 0.7117117117117117, 'recall_2': 0.8777777777777778, 'fscore_2': 0.7860696517412935, 'support_2': 90, 'precision_1_2': 0.6905332752106945, 'recall_1_2': 0.7935897435897437, 'fscore_1_2': 0.7374331661196094, 'support_1_2': 103.5}\n"
               ]
            }
         ],
         "source": [
            "import os\n",
            "import numpy as np\n",
            "from raug.metrics_2 import Metrics, accuracy\n",
            "from raug.utils.loader import get_labels_frequency\n",
            "import pandas as pd\n",
            "\n",
            "# Especificar o caminho para a pasta \"best_results\"\n",
            "folder_path = \"best_results\"\n",
            "_csv_path_test = \"/home/a52550/Desktop/datasets/ISIC2017/test/ISIC-2017_Test_v2_Part3_GroundTruth.csv\"\n",
            "true_labels = pd.read_csv(_csv_path_test).sort_values(by=['image_id'])['category']\n",
            "\n",
            "# Inicializar as variáveis para armazenar as previsões dos modelos\n",
            "ensemble_preds_best = None\n",
            "ensemble_preds_last = None\n",
            "num_models = 0\n",
            "ser_lab_freq = get_labels_frequency(_csv_path_test, \"category\", \"image_id\")\n",
            "_labels_name = ser_lab_freq.index.values #np.reshape(ser_lab_freq.index.values, (ser_lab_freq.index.values.shape[0], 1))\n",
            "\n",
            "# Percorrer as pastas de cada experimento\n",
            "experiment_folder = 'DA2_dull_razor_shades_of_gray_cropped_images_folder'\n",
            "\n",
            "try:\n",
            "\n",
            "    print(\"Experimento: \", experiment_folder)\n",
            "\n",
            "    experiment_path = os.path.join(folder_path, experiment_folder)\n",
            "\n",
            "    ensemble_preds_best = None\n",
            "\n",
            "    # Carregar as previsões do modelo atual\n",
            "    model_preds_path_best = '/home/a52550/Desktop/masters/cnn/learning_cycle/benchmarks/isic/best_results/DA2_dull_razor_shades_of_gray_cropped_images_folder/ensemble_3_best_average/best/predictions.csv'\n",
            "\n",
            "    model_preds_best = pd.read_csv(model_preds_path_best).sort_values(by=['image'])\n",
            "\n",
            "    metrics_best = Metrics ([\"accuracy\", \"topk_accuracy\", \"balanced_accuracy\", \"conf_matrix\" \"plot_conf_matrix\", \"precision_recall_report\", \"auc_and_roc_curve\", \"auc\"] , _labels_name)\n",
            "\n",
            "    metrics_best.update_scores(true_labels, model_preds_best[['0','1','2']].to_numpy(), model_preds_best[['image']].to_numpy())\n",
            "\n",
            "    metrics_best.compute_metrics()\n",
            "\n",
            "    print(metrics_best.metrics_values)\n",
            "\n",
            "\n",
            "except Exception as e:\n",
            "    print(\"Erro no experimento \", experiment_folder)\n",
            "    print(e)\n",
            "\n",
            "# Avaliar a precisão do modelo de ensemble\n",
            "# true_classes_path = os.path.join(folder_path, \"true_classes.csv\")\n",
            "# true_classes = np.loadtxt(_csv_path_test, delimiter=\",\", skiprows=1)\n",
            "\n",
            "# from sklearn.metrics import accuracy_score, precision_score, recall_score, f1_score\n",
            "\n",
            "# accuracy = accuracy_score(true_classes, ensemble_classes)\n",
            "# precision = precision_score(true_classes, ensemble_classes, average=\"macro\")\n",
            "# recall = recall_score(true_classes, ensemble_classes, average=\"macro\")\n",
            "# f1 = f1_score(true_classes, ensemble_classes, average=\"macro\")\n",
            "\n",
            "# # Imprimir as métricas de avaliação\n",
            "# print(f\"Acurácia: {accuracy:.3f}\")\n",
            "# print(f\"Precisão: {precision:.3f}\")\n",
            "# print(f\"Recall: {recall:.3f}\")\n",
            "# print(f\"F1-score: {f1:.3f}\")\n"
         ]
      },
      {
         "cell_type": "code",
         "execution_count": null,
         "metadata": {},
         "outputs": [],
         "source": [
            "import os\n",
            "import numpy as np\n",
            "from raug.metrics_2 import Metrics, accuracy\n",
            "from raug.utils.loader import get_labels_frequency\n",
            "import pandas as pd\n",
            "\n",
            "# Especificar o caminho para a pasta \"best_results\"\n",
            "folder_path = \"best_results\"\n",
            "_csv_path_test = \"/home/a52550/Desktop/datasets/ISIC2017/test/ISIC-2017_Test_v2_Part3_GroundTruth.csv\"\n",
            "true_labels = pd.read_csv(_csv_path_test).sort_values(by=['image_id'])['category']\n",
            "\n",
            "# Inicializar as variáveis para armazenar as previsões dos modelos\n",
            "ensemble_preds_best = None\n",
            "ensemble_preds_last = None\n",
            "num_models = 0\n",
            "ser_lab_freq = get_labels_frequency(_csv_path_test, \"category\", \"image_id\")\n",
            "_labels_name = ser_lab_freq.index.values #np.reshape(ser_lab_freq.index.values, (ser_lab_freq.index.values.shape[0], 1))\n",
            "\n",
            "df_best = pd.DataFrame()\n",
            "df_last = pd.DataFrame()\n",
            "\n",
            "experiment_folder = 'DA2_dull_razor_shades_of_gray_cropped_images_folder'\n",
            "\n",
            "print(\"Experimento: \", experiment_folder)\n",
            "\n",
            "\n",
            "experiment_path = os.path.join(folder_path, experiment_folder)\n",
            "\n",
            "ensemble_preds_best = None\n",
            "ensemble_preds_last = None\n",
            "\n",
            "model_folders = os.listdir(experiment_path)\n",
            "\n",
            "\n",
            "# Cria path para o experimento atual\n",
            "if 'ensemble_average' in model_folders:\n",
            "    model_folders.remove('ensemble_average')\n",
            "\n",
            "if 'ensemble_3_best_average' in model_folders:\n",
            "    model_folders.remove('ensemble_3_best_average')\n",
            "\n",
            "if 'ensemble_votation' in model_folders:\n",
            "    model_folders.remove('ensemble_votation')\n",
            "\n",
            "if 'DAandPPlatex.txt' in model_folders:\n",
            "    model_folders.remove('DAandPPlatex.txt')\n",
            "\n",
            "model_folders = [x for x in model_folders if \".csv\" not in x]\n",
            "\n",
            "try:\n",
            "\n",
            "    all_preds_best = None\n",
            "    all_preds_last = None\n",
            "\n",
            "    # Percorrer as pastas de cada modelo\n",
            "    for model_folder in model_folders:\n",
            "\n",
            "        model_path = os.path.join(experiment_path, model_folder)\n",
            "\n",
            "        # Carregar as previsões do modelo atual\n",
            "        model_preds_path_best = os.path.join(model_path, \"test_pred_best/predictions.csv\")\n",
            "        model_preds_path_last = os.path.join(model_path, \"test_pred_last/predictions.csv\")\n",
            "\n",
            "        # Merge das previsões do modelo atual com as previsões de todos os modelos\n",
            "        if all_preds_best is None:\n",
            "            model_preds_best = pd.read_csv(model_preds_path_best).sort_values(by=['image'])[['image', 'REAL', 'PRED']]\n",
            "            model_preds_last = pd.read_csv(model_preds_path_last).sort_values(by=['image'])[['image', 'REAL', 'PRED']]\n",
            "\n",
            "            #Substituir nome da coluna PRED por nome do modelo\n",
            "            model_preds_best.rename(columns={'PRED': model_folder.split('_fold')[0]}, inplace=True)\n",
            "            model_preds_last.rename(columns={'PRED': model_folder.split('_fold')[0]}, inplace=True)\n",
            "\n",
            "            all_preds_best = model_preds_best\n",
            "            all_preds_last = model_preds_last\n",
            "        else:\n",
            "            model_preds_best = pd.read_csv(model_preds_path_best).sort_values(by=['image'])[['image', 'PRED']]\n",
            "            model_preds_last = pd.read_csv(model_preds_path_last).sort_values(by=['image'])[['image', 'PRED']]\n",
            "\n",
            "            #Substituir nome da coluna PRED por nome do modelo\n",
            "            model_preds_best.rename(columns={'PRED': model_folder.split('_fold')[0]}, inplace=True)\n",
            "            model_preds_last.rename(columns={'PRED': model_folder.split('_fold')[0]}, inplace=True)\n",
            "\n",
            "            all_preds_best = pd.merge(all_preds_best, model_preds_best, on='image')\n",
            "            all_preds_last = pd.merge(all_preds_last, model_preds_last, on='image')\n",
            "\n",
            "\n",
            "except Exception as e:\n",
            "    print(\"Erro no experimento \", experiment_folder)\n",
            "    print(e)\n"
         ]
      },
      {
         "cell_type": "code",
         "execution_count": null,
         "metadata": {},
         "outputs": [],
         "source": [
            "\n",
            "# Define a function to count correct guesses for each row\n",
            "def count_correct_guesses(row):\n",
            "    correct_guesses = 0\n",
            "    for model in all_preds_best.columns[2:-1]:\n",
            "        if (row[model] == row['REAL']):\n",
            "            correct_guesses += 1\n",
            "    return correct_guesses\n",
            "\n",
            "# Create a new column to store the count of correct guesses\n",
            "all_preds_best['correct_guesses'] = all_preds_best.apply(count_correct_guesses, axis=1)\n",
            "\n",
            "all_preds_best.to_csv('count_correct_guesses.csv', index=False)\n",
            "\n",
            "# Def"
         ]
      },
      {
         "attachments": {},
         "cell_type": "markdown",
         "metadata": {},
         "source": [
            "Create results_all_models_all_experiments_new"
         ]
      },
      {
         "cell_type": "code",
         "execution_count": 7,
         "metadata": {},
         "outputs": [
            {
               "name": "stdout",
               "output_type": "stream",
               "text": [
                  "Experimento  dull_razor_shades_of_gray_cropped_images_folder_2  não será avaliado\n",
                  "Experimento  DA0_noPP  não será avaliado\n",
                  "Experimento:  noDA_CLAHE_dull_razor_shades_of_gray_cropped_images_folder\n",
                  "Experimento:  DA0_PP\n",
                  "Experimento  dull_razor  não será avaliado\n",
                  "Experimento  DA1_noPP  não será avaliado\n",
                  "Experimento  shades_of_gray_cropped_images_folder  não será avaliado\n",
                  "Experimento:  DA2_dull_razor_shades_of_gray_cropped_images_folder\n",
                  "Experimento  dull_razor_shades_of_gray_cropped_images_folder  não será avaliado\n",
                  "Experimento  DA3_noPP  não será avaliado\n",
                  "Experimento  dull_razor_shades_of_gray  não será avaliado\n",
                  "Experimento:  DA0_noPP_3\n",
                  "Experimento  dull_razor_2  não será avaliado\n",
                  "Experimento:  DA2_noPP_2\n",
                  "Experimento:  DA2_CLAHE_dull_razor_shades_of_gray_cropped_images_folder\n",
                  "Experimento:  DA2_cropped_images_folder_150_epochs_lr_init_0001\n",
                  "Experimento  non_local_means_cropped_images_folder  não será avaliado\n",
                  "Experimento:  noDA_dull_razor_shades_of_gray_cropped_images_folder\n",
                  "Experimento  DA1_PPcropped  não será avaliado\n",
                  "Experimento  gaussian_filter_2  não será avaliado\n",
                  "Experimento  CLAHE_cropped_images_folder  não será avaliado\n",
                  "Experimento:  noDA_cropped_images_folder_moredata\n",
                  "Experimento  dull_razor_cropped_images_folder  não será avaliado\n",
                  "Experimento:  noDA_dull_razor_shades_of_gray_cropped_images_folder_150_epochs\n",
                  "Experimento:  dropout_05\n",
                  "Experimento:  noDA_PPcropped_2\n",
                  "Experimento  DA2_noPP  não será avaliado\n",
                  "Experimento:  DA0_noPP_2\n",
                  "Experimento:  DA2_CLAHE_shades_of_gray_cropped_images_folder\n",
                  "Experimento  CLAHE_2  não será avaliado\n",
                  "Experimento  mean_filter_cropped_images_folder  não será avaliado\n",
                  "Experimento:  noDA_CLAHE\n",
                  "Experimento:  train_classifier_only\n",
                  "Experimento  non_local_means  não será avaliado\n",
                  "Experimento:  dropout_02\n",
                  "Experimento:  DA2_cropped_images_folder_moredata\n",
                  "Experimento:  noDA_dull_razor_shades_of_gray_cropped_images_folder_moredata\n",
                  "Experimento:  DA2_shades_of_gray_cropped_images_folder_150_epochs\n",
                  "Experimento  non_local_means_2  não será avaliado\n",
                  "Experimento  gaussian_filter_cropped_images_folder  não será avaliado\n",
                  "Experimento:  DA4_noPP\n",
                  "Experimento:  DA0_PP_100epochs\n",
                  "Experimento:  noDA_CLAHE_dull_razor_shades_of_gray\n",
                  "Experimento:  dull_razor_shades_of_gray_2\n",
                  "Experimento  gaussian_filter  não será avaliado\n",
                  "Experimento:  DA2_dull_razor_shades_of_gray_cropped_images_folder_moredata\n",
                  "Experimento:  shades_of_gray_2\n",
                  "Experimento:  noDA_dull_razor\n",
                  "Experimento  noDA_noPP  não será avaliado\n",
                  "Experimento  shades_of_gray  não será avaliado\n",
                  "Experimento  mean_filter  não será avaliado\n",
                  "Experimento  mean_filter_2  não será avaliado\n",
                  "Experimento:  noDA_CLAHE_dull_razor_shades_of_gray_cropped_images_folder_150_epochs\n",
                  "Experimento:  noDA_noPP_2\n",
                  "Experimento  DA0_PPcropped  não será avaliado\n",
                  "Experimento:  DA2_shades_of_gray_CLAHE_cropped_images_folder\n",
                  "Experimento  noDA_PPcropped  não será avaliado\n",
                  "Experimento:  noDA_dull_razor_shades_of_gray\n",
                  "Experimento  CLAHE  não será avaliado\n"
               ]
            }
         ],
         "source": [
            "import os\n",
            "import numpy as np\n",
            "from raug.metrics_2 import Metrics, accuracy\n",
            "from raug.utils.loader import get_labels_frequency\n",
            "import pandas as pd\n",
            "from raug.utils import classification_metrics as cmet\n",
            "\n",
            "# Especificar o caminho para a pasta \"best_results\"\n",
            "folder_path = \"best_results\"\n",
            "\n",
            "df = None\n",
            "\n",
            "# Percorrer as pastas de cada experimento\n",
            "for experiment_folder in os.listdir(folder_path):\n",
            "\n",
            "    try:\n",
            "        if \".csv\" in experiment_folder or \".txt\" in experiment_folder:\n",
            "            continue\n",
            "\n",
            "        experiment_path = os.path.join(folder_path, experiment_folder)\n",
            "\n",
            "        ensemble_preds_best = None\n",
            "\n",
            "        # Check if substring \"senet154\" is present in model_folders\n",
            "        if any(\"senet154\" in s for s in os.listdir(experiment_path)):\n",
            "            print(\"Experimento \", experiment_folder, \" não será avaliado\")\n",
            "            continue\n",
            "\n",
            "        print(\"Experimento: \", experiment_folder)\n",
            "\n",
            "\n",
            "        # Carregar as previsões do modelo atual\n",
            "        results_path_csv = os.path.join(experiment_path, \"results_best.csv\")\n",
            "\n",
            "        results = pd.read_csv(results_path_csv)[['model_name','balanced_accuracy']].sort_values(by=['model_name'])\n",
            "        \n",
            "        #rename columns to experiment name\n",
            "        results.rename(columns={'balanced_accuracy': experiment_folder}, inplace=True)\n",
            "\n",
            "        if df is None:\n",
            "            df = results\n",
            "        else:\n",
            "            #merge by model_name\n",
            "            df = pd.merge(df, results, on='model_name', how='left')\n",
            "\n",
            "\n",
            "    except Exception as e:\n",
            "        print('Error: ', e)\n",
            "        continue\n",
            "\n",
            "df.to_csv(os.path.join(folder_path, 'results_all_models_all_experiments_new.csv'), index=False)\n"
         ]
      },
      {
         "cell_type": "code",
         "execution_count": null,
         "metadata": {},
         "outputs": [],
         "source": [
            "# from pydrive.auth import GoogleAuth\n",
            "# from pydrive.drive import GoogleDrive\n",
            "# gauth = GoogleAuth()   \n",
            "# gauth.LocalWebserverAuth()\n",
            "# drive = GoogleDrive(gauth)  \n",
            "\n",
            "# densenet121_fold-1_lrinit-0.0001_batchsize-32_optimizer-Adam_maxepochs-150_DA-2_PPen-None_PPha-None_PPco-shades_of_gray_PPde-None_PPno-True_PPcr-cropped_images_folder_PPre-True_drop-0.0_trainjustclassifier-False_1681078943104982"
         ]
      },
      {
         "attachments": {},
         "cell_type": "markdown",
         "metadata": {},
         "source": [
            "## Plot graphs"
         ]
      },
      {
         "cell_type": "code",
         "execution_count": 9,
         "metadata": {},
         "outputs": [
            {
               "name": "stdout",
               "output_type": "stream",
               "text": [
                  "Experimento:  shades_of_gray_2\n"
               ]
            },
            {
               "data": {
                  "image/png": "[encoded data removed]",
                  "text/plain": [
                     "<Figure size 640x480 with 1 Axes>"
                  ]
               },
               "metadata": {},
               "output_type": "display_data"
            }
         ],
         "source": [
            "import os\n",
            "import pandas as pd\n",
            "\n",
            "# Especificar o caminho para a pasta \"best_results\"\n",
            "folder_path = \"best_results\"\n",
            "\n",
            "df = None\n",
            "\n",
            "experiment_folder = 'shades_of_gray_2'\n",
            "# experiment_folder = 'DA2_cropped_images_folder_150_epochs_lr_init_0001'\n",
            "\n",
            "\n",
            "experiment_path = os.path.join(folder_path, experiment_folder)\n",
            "\n",
            "ensemble_preds_best = None\n",
            "\n",
            "print(\"Experimento: \", experiment_folder)\n",
            "\n",
            "\n",
            "# Carregar as previsões do modelo atual\n",
            "results_path_csv = os.path.join(experiment_path, \"results_best.csv\")\n",
            "\n",
            "results = pd.read_csv(results_path_csv)[['model_name','balanced_accuracy']].sort_values(by=['model_name'])\n",
            "\n",
            "# get balanced accuracy for model_name\n",
            "all_results = results.loc[results.model_name.isin(['efficientnet_b0', 'efficientnet_b1', 'efficientnet_b2', 'efficientnet_b3', 'efficientnet_b4', 'tf_efficientnet_b5', 'tf_efficientnet_b6', 'resnest101e', 'seresnext101_32x8d', 'densenet121', 'resnext101_32x8d', 'vgg19', 'pnasnet5large' ]),:].set_index('model_name').to_dict()\n",
            "# all_results = results.set_index('model_name').to_dict()\n",
            "\n",
            "\n",
            "ensemble_results_path_csv = os.path.join(folder_path, \"ensemble_voting_best.csv\")\n",
            "ensemble_result = pd.read_csv(ensemble_results_path_csv)[['folder_name','balanced_accuracy']]\n",
            "ensemble_result = ensemble_result.loc[ensemble_result.folder_name.isin([experiment_folder]),:].set_index('folder_name').to_dict()\n",
            "\n",
            "all_results = {**all_results['balanced_accuracy'], **ensemble_result['balanced_accuracy']}\n",
            "\n",
            "#tf_efficientnet_b5, pnasnet5large, tf_efficientnet_b6, efficientnet_b4, efficientnet_b3, efficientnet_b1, resnest101e, efficientnet_b2, efficientnet_b0, seresnext101_32x8d, densenet121, vgg19, resnext101_32x8d\n",
            "\n",
            "\n",
            "all_results['EfficientNet-B0'] = all_results.pop('efficientnet_b0')\n",
            "all_results['EfficientNet-B1'] = all_results.pop('efficientnet_b1')\n",
            "all_results['EfficientNet-B2'] = all_results.pop('efficientnet_b2')\n",
            "all_results['EfficientNet-B3'] = all_results.pop('efficientnet_b3')\n",
            "all_results['EfficientNet-B4'] = all_results.pop('efficientnet_b4')\n",
            "all_results['EfficientNet-B5'] = all_results.pop('tf_efficientnet_b5')\n",
            "all_results['EfficientNet-B6'] = all_results.pop('tf_efficientnet_b6')\n",
            "all_results['ResNest101'] = all_results.pop('resnest101e')\n",
            "all_results['SeResNext101'] = all_results.pop('seresnext101_32x8d')\n",
            "all_results['VGG19'] = all_results.pop('vgg19')\n",
            "all_results['DenseNet121'] = all_results.pop('densenet121')\n",
            "all_results['ResNext101'] = all_results.pop('resnext101_32x8d')\n",
            "all_results['PNASNet5Large'] = all_results.pop('pnasnet5large')\n",
            "all_results['Ensemble'] = all_results.pop(experiment_folder)\n",
            "\n",
            "\n",
            "# create horizonal bar plot\n",
            "import matplotlib.pyplot as plt\n",
            "import numpy as np\n",
            "\n",
            "# Data\n",
            "r = all_results\n",
            "bars = tuple(r.keys())\n",
            "y_pos = np.arange(len(bars))\n",
            "height = list(r.values())\n",
            "\n",
            "# Create bars\n",
            "plt.barh(y_pos, height)\n",
            "\n",
            "# Create names on the x-axis\n",
            "plt.yticks(y_pos, bars)\n",
            "\n",
            "# Add title and axis names\n",
            "plt.xlabel('Balanced Accuracy')\n",
            "plt.ylabel('Model')\n",
            "\n",
            "# Color the highest bar\n",
            "plt.gca().patches[height.index(max(height))].set_facecolor('red')\n",
            "\n",
            "# Add the labels to each bar\n",
            "for i, v in enumerate(height):\n",
            "    # Round v with 4 decimals\n",
            "    v = round(v,4)\n",
            "    plt.text(v+.01, i - 0.1, str(v), fontweight='bold')\n",
            "\n",
            "# Make the right margin wider so that the labels are inside the figure\n",
            "plt.margins(0.2, 0)\n",
            "\n",
            "# Make bars thinner\n",
            "plt.gca().xaxis.set_tick_params(width=0.2)\n",
            "\n",
            "\n",
            "# Show graphic\n",
            "plt.show()\n",
            "\n",
            "# df.to_csv(os.path.join(folder_path, 'results_all_models_all_experiments_new.csv'), index=False)\n"
         ]
      },
      {
         "cell_type": "code",
         "execution_count": 2,
         "metadata": {},
         "outputs": [
            {
               "data": {
                  "image/png": "[encoded data removed]",
                  "text/plain": [
                     "<Figure size 640x480 with 1 Axes>"
                  ]
               },
               "metadata": {},
               "output_type": "display_data"
            }
         ],
         "source": [
            "# create horizonal bar plot\n",
            "import matplotlib.pyplot as plt\n",
            "import numpy as np\n",
            "\n",
            "#Balanced accuracy for each model - no pre-processing and no data augmentation\n",
            "data = {\n",
            "    \"EfficientNet-B0\": 0.7073,\n",
            "    \"EfficientNet-B1\": 0.6654,\n",
            "    \"EfficientNet-B2\": 0.6993,\n",
            "    \"EfficientNet-B3\": 0.6767,\n",
            "    \"EfficientNet-B4\": 0.7216,\n",
            "    \"EfficientNet-B5\": 0.6976,\n",
            "    \"EfficientNet-B6\": 0.6874,\n",
            "    \"ResNest101\": 0.7344,\n",
            "    \"SeResNext101\": 0.7310,\n",
            "    \"VGG19\": 0.6922,\n",
            "    \"DenseNet121\": 0.6753,\n",
            "    \"ResNext101\": 0.6828,\n",
            "    \"PnasNet5\": 0.7406\n",
            "}\n",
            "\n",
            "# Sort the data\n",
            "data = dict(sorted(data.items(), key=lambda item: item[1]))\n",
            "\n",
            "# Data\n",
            "r = data\n",
            "bars = tuple(r.keys())\n",
            "y_pos = np.arange(len(bars))\n",
            "height = list(r.values())\n",
            "\n",
            "# Create bars\n",
            "plt.barh(y_pos, height)\n",
            "\n",
            "# Create names on the x-axis\n",
            "plt.yticks(y_pos, bars)\n",
            "\n",
            "# Add title and axis names\n",
            "plt.xlabel('Balanced Accuracy')\n",
            "plt.ylabel('Model')\n",
            "\n",
            "for h in height:\n",
            "    if h > 0.7:\n",
            "        plt.gca().patches[height.index(h)].set_facecolor('yellow')\n",
            "    else:\n",
            "        plt.gca().patches[height.index(h)].set_facecolor('red')\n",
            "# Color the highest bar\n",
            "plt.gca().patches[height.index(max(height))].set_facecolor('green')\n",
            "# Color the highest bar\n",
            "\n",
            "# Add the labels to each bar\n",
            "for i, v in enumerate(height):\n",
            "    # Round v with 4 decimals\n",
            "    v = round(v,4)\n",
            "    plt.text(v+.01, i - 0.1, str(v), fontweight='bold')\n",
            "\n",
            "# Make the right margin wider so that the labels are inside the figure\n",
            "plt.margins(0.2, 0)\n",
            "\n",
            "# Make bars thinner\n",
            "plt.gca().xaxis.set_tick_params(width=0.2)\n",
            "\n",
            "\n",
            "# Show graphic\n",
            "plt.show()\n"
         ]
      },
      {
         "cell_type": "code",
         "execution_count": 1,
         "metadata": {},
         "outputs": [
            {
               "ename": "NameError",
               "evalue": "name 'np' is not defined",
               "output_type": "error",
               "traceback": [
                  "\u001b[0;31m---------------------------------------------------------------------------\u001b[0m",
                  "\u001b[0;31mNameError\u001b[0m                                 Traceback (most recent call last)",
                  "\u001b[0;32m/tmp/ipykernel_238965/2666586538.py\u001b[0m in \u001b[0;36m<module>\u001b[0;34m\u001b[0m\n\u001b[1;32m     22\u001b[0m \u001b[0mr\u001b[0m \u001b[0;34m=\u001b[0m \u001b[0mdata\u001b[0m\u001b[0;34m\u001b[0m\u001b[0;34m\u001b[0m\u001b[0m\n\u001b[1;32m     23\u001b[0m \u001b[0mbars\u001b[0m \u001b[0;34m=\u001b[0m \u001b[0mtuple\u001b[0m\u001b[0;34m(\u001b[0m\u001b[0mr\u001b[0m\u001b[0;34m.\u001b[0m\u001b[0mkeys\u001b[0m\u001b[0;34m(\u001b[0m\u001b[0;34m)\u001b[0m\u001b[0;34m)\u001b[0m\u001b[0;34m\u001b[0m\u001b[0;34m\u001b[0m\u001b[0m\n\u001b[0;32m---> 24\u001b[0;31m \u001b[0my_pos\u001b[0m \u001b[0;34m=\u001b[0m \u001b[0mnp\u001b[0m\u001b[0;34m.\u001b[0m\u001b[0marange\u001b[0m\u001b[0;34m(\u001b[0m\u001b[0mlen\u001b[0m\u001b[0;34m(\u001b[0m\u001b[0mbars\u001b[0m\u001b[0;34m)\u001b[0m\u001b[0;34m)\u001b[0m\u001b[0;34m\u001b[0m\u001b[0;34m\u001b[0m\u001b[0m\n\u001b[0m\u001b[1;32m     25\u001b[0m \u001b[0mheight\u001b[0m \u001b[0;34m=\u001b[0m \u001b[0mlist\u001b[0m\u001b[0;34m(\u001b[0m\u001b[0mr\u001b[0m\u001b[0;34m.\u001b[0m\u001b[0mvalues\u001b[0m\u001b[0;34m(\u001b[0m\u001b[0;34m)\u001b[0m\u001b[0;34m)\u001b[0m\u001b[0;34m\u001b[0m\u001b[0;34m\u001b[0m\u001b[0m\n\u001b[1;32m     26\u001b[0m \u001b[0;34m\u001b[0m\u001b[0m\n",
                  "\u001b[0;31mNameError\u001b[0m: name 'np' is not defined"
               ]
            }
         ],
         "source": [
            "\n",
            "#Balanced accuracy for each model - no pre-processing and data augmentation\n",
            "data = {\n",
            "    \"EfficientNet-B0\": 0.7170,\n",
            "    \"EfficientNet-B1\": 0.7064,\n",
            "    \"EfficientNet-B2\": 0.7006,\n",
            "    \"EfficientNet-B3\": 0.7356,\n",
            "    \"EfficientNet-B4\": 0.7441,\n",
            "    \"EfficientNet-B5\": 0.7653,\n",
            "    \"EfficientNet-B6\": 0.7651,\n",
            "    \"ResNest101\": 0.7459,\n",
            "    \"SeResNext101\": 0.7432,\n",
            "    \"DenseNet121\": 0.7182,\n",
            "    \"ResNext101\": 0.7016,\n",
            "    \"VGG19\": 0.6786,\n",
            "    \"PnasNet5\": 0.7412\n",
            "}\n",
            "\n",
            "# Sort the data\n",
            "data = dict(sorted(data.items(), key=lambda item: item[1]))\n",
            "\n",
            "# Data\n",
            "r = data\n",
            "bars = tuple(r.keys())\n",
            "y_pos = np.arange(len(bars))\n",
            "height = list(r.values())\n",
            "\n",
            "# Create bars\n",
            "plt.barh(y_pos, height)\n",
            "\n",
            "# Create names on the x-axis\n",
            "plt.yticks(y_pos, bars)\n",
            "\n",
            "# Add title and axis names\n",
            "plt.xlabel('Balanced Accuracy')\n",
            "plt.ylabel('Model')\n",
            "\n",
            "# Color the highest bar\n",
            "plt.gca().patches[height.index(max(height))].set_facecolor('red')\n",
            "\n",
            "# Add the labels to each bar\n",
            "for i, v in enumerate(height):\n",
            "    # Round v with 4 decimals\n",
            "    v = round(v,4)\n",
            "    plt.text(v+.01, i - 0.1, str(v), fontweight='bold')\n",
            "\n",
            "# Make the right margin wider so that the labels are inside the figure\n",
            "plt.margins(0.2, 0)\n",
            "\n",
            "# Make bars thinner\n",
            "plt.gca().xaxis.set_tick_params(width=0.2)\n",
            "\n",
            "\n",
            "# Show graphic\n",
            "plt.show()\n"
         ]
      },
      {
         "cell_type": "code",
         "execution_count": null,
         "metadata": {},
         "outputs": [],
         "source": [
            "data = {\n",
            "    \"Average\": {\"With DA and PP*\": 0.8064,\"With DA\": 0.7811, \"With PP*\": 0.7758, \"Without DA and PP\": 0.7547},\n",
            "    \"Average of 3\": {\"With DA and PP*\": 0.8132,\"With DA\": 0.7939, \"With PP*\":0.7879, \"Without DA and PP\": 0.7671},\n",
            "    \"Voting\": {\"With DA and PP*\": 0.7987,\"With DA\": 0.7882, \"With PP*\": 0.7718, \"Without DA and PP\": 0.7371},\n",
            "}\n",
            "\n",
            "# Preparação dos dados para plotagem\n",
            "labels = list(data.keys())\n",
            "da_pp_values = [data[label]['With DA and PP*'] for label in labels]\n",
            "da_values = [data[label]['With DA'] for label in labels]\n",
            "pp_values = [data[label]['With PP*'] for label in labels]\n",
            "no_pp_values = [data[label]['Without DA and PP'] for label in labels]\n",
            "\n",
            "\n",
            "y = np.arange(len(labels))  # Posições dos grupos de barras\n",
            "width = 0.2  # Largura das barras\n",
            "\n",
            "# Plotagem dos resultados\n",
            "fig, ax = plt.subplots(figsize=(10, 6))\n",
            "rects1 = ax.barh(y + 3*width/2, da_pp_values, width, label='With DA and PP*')\n",
            "rects2 = ax.barh(y + width/2, da_values, width, label='With DA')\n",
            "rects3 = ax.barh(y - width/2, pp_values, width, label='With PP*')\n",
            "rects4 = ax.barh(y - 3*width/2, no_pp_values, width, label='Without DA and PP')\n",
            "\n",
            "# Adicionar rótulos, títulos e legendas\n",
            "ax.set_ylabel('Ensemble')\n",
            "ax.set_xlabel('Balanced Accuracy')\n",
            "ax.set_title('Ensemble results for each experiment')\n",
            "ax.set_yticks(y)\n",
            "ax.set_yticklabels(labels)\n",
            "ax.legend()\n",
            "\n",
            "# Adicionar rótulos em cada barra\n",
            "def autolabel(rects):\n",
            "    for rect in rects:\n",
            "        width = rect.get_width()\n",
            "        ax.annotate('{}'.format(round(width,4)),\n",
            "                    xy=(width, rect.get_y() + rect.get_height() / 2),\n",
            "                    xytext=(3, 0),  # Deslocamento horizontal e vertical\n",
            "                    textcoords=\"offset points\",  # Interpretar 'xy' como deslocamento em pontos\n",
            "                    ha='left', va='center', fontweight='bold')\n",
            "\n",
            "autolabel(rects1)\n",
            "autolabel(rects2)\n",
            "autolabel(rects3)\n",
            "autolabel(rects4)\n",
            "\n",
            "# Make the right margin wider so that the labels are inside the figure\n",
            "plt.margins(0.40, 0)\n",
            "\n",
            "annotation_text = \"*Note: Best combination of image pre-processing techniques for each ensemble.\"\n",
            "plt.annotate(annotation_text, xy=(0.55, 0), xytext=(0, -40),\n",
            "             xycoords='axes fraction', textcoords='offset points',\n",
            "             ha='right', va='top')\n",
            "\n",
            "# Make bars thinner\n",
            "plt.gca().xaxis.set_tick_params(width=0.2)\n",
            "\n",
            "plt.tight_layout()\n",
            "plt.show()"
         ]
      },
      {
         "cell_type": "code",
         "execution_count": null,
         "metadata": {},
         "outputs": [],
         "source": [
            "# data = {\n",
            "#     \"EfficientNet-B0\": {\"Without PP\": 0.7073,\"A\": 0.6871,\"B\": 0.6529,\"C\": 0.6960,\"D\": 0.6623,\"BC\": 0.6968,\"ABC\": 0.6304,\"BCD\": 0.6645,\"ABCD\": 0.6096},\n",
            "#     \"EfficientNet-B1\": {\"Without PP\": 0.6654,\"A\": 0.6716,\"B\": 0.6840,\"C\": 0.6601,\"D\": 0.6880,\"BC\": 0.7016,\"ABC\": 0.6440,\"BCD\": 0.6255,\"ABCD\": 0.6944},\n",
            "#     \"EfficientNet-B2\": {\"Without PP\": 0.6993,\"A\": 0.6957,\"B\": 0.6445,\"C\": 0.7091,\"D\": 0.6572,\"BC\": 0.6833,\"ABC\": 0.6600,\"BCD\": 0.6928,\"ABCD\": 0.6262},\n",
            "#     \"EfficientNet-B3\": {\"Without PP\": 0.6767,\"A\": 0.7120,\"B\": 0.6982,\"C\": 0.7248,\"D\": 0.6830,\"BC\": 0.7010,\"ABC\": 0.6612,\"BCD\": 0.7278,\"ABCD\": 0.7260},\n",
            "#     \"EfficientNet-B4\": {\"Without PP\": 0.7216,\"A\": 0.6944,\"B\": 0.7039,\"C\": 0.7093,\"D\": 0.6734,\"BC\": 0.7317,\"ABC\": 0.6493,\"BCD\": 0.7284,\"ABCD\": 0.6470},\n",
            "#     \"EfficientNet-B5\": {\"Without PP\": 0.6976,\"A\": 0.7113,\"B\": 0.6522,\"C\": 0.7099,\"D\": 0.7250,\"BC\": 0.6816,\"ABC\": 0.6814,\"BCD\": 0.6846,\"ABCD\": 0.6958},\n",
            "#     \"EfficientNet-B6\": {\"Without PP\": 0.6874,\"A\": 0.6943,\"B\": 0.7395,\"C\": 0.7213,\"D\": 0.6735,\"BC\": 0.7139,\"ABC\": 0.7057,\"BCD\": 0.6953,\"ABCD\": 0.6856},\n",
            "#     \"ResNest101\": {\"Without PP\": 0.7344,\"A\": 0.7104,\"B\": 0.7620,\"C\": 0.7447,\"D\": 0.6993,\"BC\": 0.7083,\"ABC\": 0.6706,\"BCD\": 0.7070,\"ABCD\": 0.7306},\n",
            "#     \"SeResNext101\": {\"Without PP\": 0.7310,\"A\": 0.7032,\"B\": 0.7481,\"C\": 0.6863,\"D\": 0.7117,\"BC\": 0.7165,\"ABC\": 0.6650,\"BCD\": 0.6939,\"ABCD\": 0.6634},\n",
            "#     \"VGG19\": {\"Without PP\": 0.6922,\"A\": 0.6011,\"B\": 0.6450,\"C\": 0.6606,\"D\": 0.6121,\"BC\": 0.6506,\"ABC\": 0.6546,\"BCD\": 0.6142,\"ABCD\": 0.6532},\n",
            "#     \"DenseNet121\": {\"Without PP\": 0.6753,\"A\": 0.6716,\"B\": 0.6923,\"C\": 0.7176,\"D\": 0.6974,\"BC\": 0.6282,\"ABC\": 0.6092,\"BCD\": 0.6534,\"ABCD\": 0.6330},\n",
            "#     \"ResNext101\": {\"Without PP\": 0.6828,\"A\": 0.6731,\"B\": 0.7281,\"C\": 0.6957,\"D\": 0.7194,\"BC\": 0.7253,\"ABC\": 0.6535,\"BCD\": 0.6967,\"ABCD\": 0.6950},\n",
            "#     \"PnasNet5\": {\"Without PP\": 0.7406,\"A\": 0.6718,\"B\": 0.7271,\"C\": 0.7398,\"D\": 0.7522,\"BC\": 0.7123,\"ABC\": 0.6963,\"BCD\": 0.6871,\"ABCD\": 0.6783}\n",
            "# }\n",
            "\n",
            "data = {\n",
            "    \"PnasNet5\": {\"No DA\": 0.7406,\"DA\": 0.7412},\n",
            "    \"VGG19\": {\"No DA\": 0.6922,\"DA\": 0.6786},\n",
            "    \"ResNext101\": {\"No DA\": 0.6828,\"DA\": 0.7016},\n",
            "    \"DenseNet121\": {\"No DA\": 0.6753,\"DA\": 0.7182},\n",
            "    \"SeResNext101\": {\"No DA\": 0.7310,\"DA\": 0.7432},\n",
            "    \"ResNest101\": {\"No DA\": 0.7344,\"DA\": 0.7459},\n",
            "    \"EfficientNet-B6\": {\"No DA\": 0.6874,\"DA\": 0.7651},\n",
            "    \"EfficientNet-B5\": {\"No DA\": 0.6976,\"DA\": 0.7653},\n",
            "    \"EfficientNet-B4\": {\"No DA\": 0.7216,\"DA\": 0.7441},\n",
            "    \"EfficientNet-B3\": {\"No DA\": 0.6767,\"DA\": 0.7356},\n",
            "    \"EfficientNet-B2\": {\"No DA\": 0.6993,\"DA\": 0.7006},\n",
            "    \"EfficientNet-B1\": {\"No DA\": 0.6654,\"DA\": 0.7064},\n",
            "    \"EfficientNet-B0\": {\"No DA\": 0.7073,\"DA\": 0.7170},\n",
            "}\n",
            "\n",
            "# data = dict(sorted(data.items(), key=lambda item: item[1].get('DA')-item[1].get('No DA')))\n",
            "\n",
            "# Preparar dados\n",
            "labels = list(data.keys())\n",
            "no_pp_values = [data[label]['No DA'] for label in labels]\n",
            "da_values = [data[label]['DA'] for label in labels]\n",
            "\n",
            "# a_values = [data[label]['A'] for label in labels]\n",
            "# b_values = [data[label]['B'] for label in labels]\n",
            "# c_values = [data[label]['C'] for label in labels]\n",
            "# d_values = [data[label]['D'] for label in labels]\n",
            "# bc_values = [data[label]['BC'] for label in labels]\n",
            "# abc_values = [data[label]['ABC'] for label in labels]\n",
            "# bcd_values = [data[label]['BCD'] for label in labels]\n",
            "# abcd_values = [data[label]['ABCD'] for label in labels]\n",
            "\n",
            "\n",
            "# Criar figura\n",
            "fig, ax = plt.subplots(figsize=(10, 10))\n",
            "\n",
            "# Criar barras\n",
            "x = np.arange(len(labels))  # Localização das barras\n",
            "width = 0.4  # Largura das barras\n",
            "\n",
            "rects1 = ax.barh(x - width / 2, no_pp_values, width, label='Without DA')\n",
            "rects2 = ax.barh(x + width / 2, da_values, width, label='With DA')\n",
            "\n",
            "# rects1 = ax.bar(x - 4 * width, no_pp_values, width, label='Without PP')\n",
            "# rects2 = ax.bar(x - 3 * width, a_values, width, label='A')\n",
            "# rects3 = ax.bar(x - 2 * width, b_values, width, label='B')\n",
            "# rects4 = ax.bar(x - width, c_values, width, label='C')\n",
            "# rects5 = ax.bar(x, d_values, width, label='D')\n",
            "# rects6 = ax.bar(x + width, bc_values, width, label='BC')\n",
            "# rects7 = ax.bar(x + 2 * width, abc_values, width, label='ABC')\n",
            "# rects8 = ax.bar(x + 3 * width, bcd_values, width, label='BCD')\n",
            "# rects9 = ax.bar(x + 4 * width, abcd_values, width, label='ABCD')\n",
            "\n",
            "\n",
            "# Adicionar rótulos em cada barra\n",
            "def autolabel(rects):\n",
            "    for rect in rects:\n",
            "        width = rect.get_width()\n",
            "        ax.annotate('{}'.format(round(width,4)),\n",
            "                    xy=(width, rect.get_y() + rect.get_height() / 2),\n",
            "                    xytext=(3, 0),  # Deslocamento horizontal e vertical\n",
            "                    textcoords=\"offset points\",  # Interpretar 'xy' como deslocamento em pontos\n",
            "                    ha='left', va='center', fontweight='bold')\n",
            "        \n",
            "# Adicionar texto nas barras\n",
            "autolabel(rects1)\n",
            "autolabel(rects2)\n",
            "# autolabel(rects3)\n",
            "# autolabel(rects4)\n",
            "# autolabel(rects5)\n",
            "# autolabel(rects6)\n",
            "# autolabel(rects7)\n",
            "# autolabel(rects8)\n",
            "# autolabel(rects9)\n",
            "\n",
            "\n",
            "# Make the right margin wider so that the labels are inside the figure\n",
            "plt.margins(0.40, 0)\n",
            "\n",
            "# Adicionar texto no eixo x\n",
            "ax.set_yticks(x)\n",
            "ax.set_yticklabels(labels)\n",
            "\n",
            "# Adicionar legenda\n",
            "ax.legend()\n",
            "\n",
            "# Mostrar figura\n",
            "plt.show()\n"
         ]
      }
   ],
   "metadata": {
      "kernelspec": {
         "display_name": "venv",
         "language": "python",
         "name": "python3"
      },
      "language_info": {
         "codemirror_mode": {
            "name": "ipython",
            "version": 3
         },
         "file_extension": ".py",
         "mimetype": "text/x-python",
         "name": "python",
         "nbconvert_exporter": "python",
         "pygments_lexer": "ipython3",
         "version": "3.7.16"
      },
      "orig_nbformat": 4
   },
   "nbformat": 4,
   "nbformat_minor": 2
}
