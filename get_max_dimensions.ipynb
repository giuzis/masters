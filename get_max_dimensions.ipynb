{
 "cells": [
  {
   "cell_type": "markdown",
   "metadata": {},
   "source": [
    "Get max image dimensions from cur_coords_3.csv file"
   ]
  },
  {
   "cell_type": "code",
   "execution_count": 1,
   "metadata": {},
   "outputs": [],
   "source": [
    "import pandas as pd\n",
    "\n",
    "path = r'C:\\\\Users\\\\usuário\\Documents\\\\mestrado\\dissertação\\datasets\\\\ISIC2017\\\\Training_data_processed\\successfully_cutted\\\\cut_coords_4.csv'\n",
    "\n",
    "all_coords = pd.read_csv(path, sep=',')\n",
    "\n",
    "max_dimensions = []\n",
    "for _, row in all_coords.iterrows():\n",
    "    b, t, r, l = row['coords_b_t_r_l'].split()\n",
    "    b = int(b)\n",
    "    t = int(t)\n",
    "    r = int(r)\n",
    "    l = int(l)\n",
    "    if len(max_dimensions) == 0:\n",
    "        max_dimensions = [b-t, 0, r-l, 0]\n",
    "    else:\n",
    "        max_dimensions[0] = b-t if b-t > max_dimensions[0] else max_dimensions[0]\n",
    "        max_dimensions[2] = r-l if r-l > max_dimensions[2] else max_dimensions[2]\n",
    "\n",
    "all_coords.loc[len(all_coords.index)] = [\"max_dimensions\", ' '.join([str(elem) for elem in max_dimensions])]\n",
    "all_coords.to_csv(path, index=False)"
   ]
  }
 ],
 "metadata": {
  "kernelspec": {
   "display_name": "Python 3.10.7 ('venv': venv)",
   "language": "python",
   "name": "python3"
  },
  "language_info": {
   "codemirror_mode": {
    "name": "ipython",
    "version": 3
   },
   "file_extension": ".py",
   "mimetype": "text/x-python",
   "name": "python",
   "nbconvert_exporter": "python",
   "pygments_lexer": "ipython3",
   "version": "3.10.7"
  },
  "orig_nbformat": 4,
  "vscode": {
   "interpreter": {
    "hash": "5dddab3f9dcea3e0699dbfd5269a7c101e0ce7b95edb30a58b5ce5aac2bf385d"
   }
  }
 },
 "nbformat": 4,
 "nbformat_minor": 2
}
