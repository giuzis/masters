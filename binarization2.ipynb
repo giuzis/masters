{
 "cells": [
  {
   "cell_type": "markdown",
   "metadata": {},
   "source": [
    "# Preparing the dataset\n",
    "Objective: Find the affected area, crop the image or fill it to make all of them have the same size. "
   ]
  },
  {
   "cell_type": "code",
   "execution_count": 121,
   "metadata": {},
   "outputs": [],
   "source": [
    "import cv2 as cv\n",
    "import numpy as np\n",
    "from matplotlib import pyplot as plt\n",
    "import os \n",
    "\n",
    "# essential functions\n",
    "\n",
    "def save_image(name, img):\n",
    "    cv.imwrite('..\\datasets\\ISIC2017\\\\thresholding_experiments\\\\{}.jpg'.format(name), img)\n",
    "\n",
    "def read_image(name):\n",
    "    img = cv.imread('..\\datasets\\ISIC2017\\ISIC-2017_Training_Data\\{}.jpg'.format(name))\n",
    "    return img\n",
    "\n",
    "all_images = []"
   ]
  },
  {
   "cell_type": "markdown",
   "metadata": {},
   "source": [
    "Obtaining all images name"
   ]
  },
  {
   "cell_type": "code",
   "execution_count": 122,
   "metadata": {},
   "outputs": [],
   "source": [
    "TOTAL_IMAGES_TRAINING = 15295\n",
    "\n",
    "all_files = os.listdir('..\\datasets\\ISIC2017\\ISIC-2017_Training_Data\\\\')\n",
    "\n",
    "for file in all_files:\n",
    "        if file.find('superpixels') == -1 and file.find('Training_Data_metadata') == -1:\n",
    "                new_img = file.split('.')[0]\n",
    "                all_images.append(new_img)\n"
   ]
  },
  {
   "cell_type": "markdown",
   "metadata": {},
   "source": [
    "Obtain the threshold image for gray scale image and blue channel"
   ]
  },
  {
   "cell_type": "code",
   "execution_count": 123,
   "metadata": {},
   "outputs": [],
   "source": [
    "def threshold_image (img):\n",
    "    img = cv.GaussianBlur(img,(5,5),0)\n",
    "    _,img = cv.threshold(img,0,255,cv.THRESH_BINARY_INV+cv.THRESH_OTSU)\n",
    "    kernel = np.ones((10,10),np.uint8)\n",
    "    img = cv.erode(img,kernel,iterations = 1) \n",
    "    return img"
   ]
  },
  {
   "cell_type": "markdown",
   "metadata": {},
   "source": [
    "Remove black corners remaining from the lens of the camera used to take the lesion image "
   ]
  },
  {
   "cell_type": "code",
   "execution_count": 124,
   "metadata": {},
   "outputs": [],
   "source": [
    "def remove_corners(img):\n",
    "    y, x = img.shape\n",
    "\n",
    "    corners = {\n",
    "        'top_left': {\n",
    "            'x': [0,10],\n",
    "            'y': [0,10]\n",
    "        },\n",
    "        'top_right': {\n",
    "            'x': [0,10],\n",
    "            'y': [y - 11, y-1]\n",
    "        },\n",
    "        'bottom_left': {\n",
    "            'x': [x - 11, x-1],\n",
    "            'y': [0,10]\n",
    "        },\n",
    "        'bottom_right': {\n",
    "            'x': [x - 11, x-1],\n",
    "            'y': [y - 11, y-1]\n",
    "        },\n",
    "    }\n",
    "\n",
    "    for position in corners:\n",
    "        for x in range(corners[position]['x'][0], corners[position]['x'][1]):\n",
    "            for y in range(corners[position]['y'][0], corners[position]['y'][1]):\n",
    "                if img[y,x] >= 255:\n",
    "                    cv.floodFill(img, None, (x,y), 0)\n",
    "    return img"
   ]
  },
  {
   "cell_type": "markdown",
   "metadata": {},
   "source": [
    "Add gray and blue images"
   ]
  },
  {
   "cell_type": "code",
   "execution_count": 125,
   "metadata": {},
   "outputs": [],
   "source": [
    "def add_gray_and_blue(img_1, img_2):\n",
    "    img_sum = img_1 + img_2\n",
    "    img_sum[img_sum > 125] = 255\n",
    "    img_sum[img_sum < 125] = 0\n",
    "    return img_sum\n",
    "    "
   ]
  },
  {
   "cell_type": "markdown",
   "metadata": {},
   "source": [
    "Remove minimal blobs from the image"
   ]
  },
  {
   "cell_type": "code",
   "execution_count": 126,
   "metadata": {},
   "outputs": [],
   "source": [
    "def remove_minimal_blobs(img):\n",
    "    contours, _ = cv.findContours(img, cv.RETR_TREE, cv.CHAIN_APPROX_SIMPLE)\n",
    "    img_clean = np.zeros_like(img)\n",
    "    for contour in contours:\n",
    "        area = cv.contourArea(contour)\n",
    "        if area > 5000:\n",
    "            cv.fillPoly(img_clean, [contour], 255)\n",
    "\n",
    "    kernel = np.ones((10,10),np.uint8)\n",
    "    img_clean = cv.dilate(img_clean,kernel,iterations = 1)\n",
    "    return img_clean"
   ]
  },
  {
   "cell_type": "markdown",
   "metadata": {},
   "source": [
    "Draw rectangle arround lesion"
   ]
  },
  {
   "cell_type": "code",
   "execution_count": 127,
   "metadata": {},
   "outputs": [],
   "source": [
    "def draw_rectangle(img):\n",
    "    contours, _ = cv.findContours(img,cv.RETR_TREE,cv.CHAIN_APPROX_NONE)\n",
    "\n",
    "    y, x = img.shape\n",
    "    \n",
    "    t, b, r, l = [-1, 10000, -1, 10000]\n",
    "    \n",
    "    for points in contours:\n",
    "        for p in points:\n",
    "            if t < p[0][1]:\n",
    "                t = p[0][1]\n",
    "            if b > p[0][1]:\n",
    "                b = p[0][1]\n",
    "            if l > p[0][0]:\n",
    "                l = p[0][0]\n",
    "            if r < p[0][0]:\n",
    "                r = p[0][0]\n",
    "\n",
    "    b = b - 100 if b - 100 > -1 else 0\n",
    "    t = t + 100 if t + 100 < y else y\n",
    "    l = l - 100 if l - 100 > -1 else 0\n",
    "    r = r + 100 if r + 100 < x else x\n",
    "                \n",
    "    img_final = cv.rectangle(img_rgb, (l,b), (r,t), (255, 0, 0), 1)\n",
    "\n",
    "    return img_final"
   ]
  },
  {
   "cell_type": "code",
   "execution_count": 128,
   "metadata": {},
   "outputs": [
    {
     "ename": "KeyboardInterrupt",
     "evalue": "",
     "output_type": "error",
     "traceback": [
      "\u001b[1;31m---------------------------------------------------------------------------\u001b[0m",
      "\u001b[1;31mKeyboardInterrupt\u001b[0m                         Traceback (most recent call last)",
      "\u001b[1;32mc:\\Users\\usuário\\Documents\\mestrado\\dissertação\\codes\\binarization2.ipynb Cell 15\u001b[0m in \u001b[0;36m<cell line: 1>\u001b[1;34m()\u001b[0m\n\u001b[0;32m      <a href='vscode-notebook-cell:/c%3A/Users/usu%C3%A1rio/Documents/mestrado/disserta%C3%A7%C3%A3o/codes/binarization2.ipynb#X50sZmlsZQ%3D%3D?line=6'>7</a>\u001b[0m img_thresh_gray \u001b[39m=\u001b[39m threshold_image(img_gray)\n\u001b[0;32m      <a href='vscode-notebook-cell:/c%3A/Users/usu%C3%A1rio/Documents/mestrado/disserta%C3%A7%C3%A3o/codes/binarization2.ipynb#X50sZmlsZQ%3D%3D?line=7'>8</a>\u001b[0m img_thresh_blue \u001b[39m=\u001b[39m threshold_image(img_blue)\n\u001b[1;32m---> <a href='vscode-notebook-cell:/c%3A/Users/usu%C3%A1rio/Documents/mestrado/disserta%C3%A7%C3%A3o/codes/binarization2.ipynb#X50sZmlsZQ%3D%3D?line=9'>10</a>\u001b[0m save_image(img_name\u001b[39m+\u001b[39;49m\u001b[39m'\u001b[39;49m\u001b[39m.jpg\u001b[39;49m\u001b[39m'\u001b[39;49m, img_rgb)\n\u001b[0;32m     <a href='vscode-notebook-cell:/c%3A/Users/usu%C3%A1rio/Documents/mestrado/disserta%C3%A7%C3%A3o/codes/binarization2.ipynb#X50sZmlsZQ%3D%3D?line=10'>11</a>\u001b[0m \u001b[39m# save_image(img_name+'_thresh_gray.jpg', img_thresh_gray)\u001b[39;00m\n\u001b[0;32m     <a href='vscode-notebook-cell:/c%3A/Users/usu%C3%A1rio/Documents/mestrado/disserta%C3%A7%C3%A3o/codes/binarization2.ipynb#X50sZmlsZQ%3D%3D?line=11'>12</a>\u001b[0m \u001b[39m# save_image(img_name+'_thresh_blue.jpg', img_thresh_blue)\u001b[39;00m\n\u001b[0;32m     <a href='vscode-notebook-cell:/c%3A/Users/usu%C3%A1rio/Documents/mestrado/disserta%C3%A7%C3%A3o/codes/binarization2.ipynb#X50sZmlsZQ%3D%3D?line=13'>14</a>\u001b[0m img_gray_no_corners \u001b[39m=\u001b[39m remove_corners(img_thresh_gray)\n",
      "\u001b[1;32mc:\\Users\\usuário\\Documents\\mestrado\\dissertação\\codes\\binarization2.ipynb Cell 15\u001b[0m in \u001b[0;36msave_image\u001b[1;34m(name, img)\u001b[0m\n\u001b[0;32m      <a href='vscode-notebook-cell:/c%3A/Users/usu%C3%A1rio/Documents/mestrado/disserta%C3%A7%C3%A3o/codes/binarization2.ipynb#X50sZmlsZQ%3D%3D?line=7'>8</a>\u001b[0m \u001b[39mdef\u001b[39;00m \u001b[39msave_image\u001b[39m(name, img):\n\u001b[1;32m----> <a href='vscode-notebook-cell:/c%3A/Users/usu%C3%A1rio/Documents/mestrado/disserta%C3%A7%C3%A3o/codes/binarization2.ipynb#X50sZmlsZQ%3D%3D?line=8'>9</a>\u001b[0m     cv\u001b[39m.\u001b[39;49mimwrite(\u001b[39m'\u001b[39;49m\u001b[39m..\u001b[39;49m\u001b[39m\\\u001b[39;49m\u001b[39mdatasets\u001b[39;49m\u001b[39m\\\u001b[39;49m\u001b[39mISIC2017\u001b[39;49m\u001b[39m\\\\\u001b[39;49;00m\u001b[39mthresholding_experiments\u001b[39;49m\u001b[39m\\\\\u001b[39;49;00m\u001b[39m{}\u001b[39;49;00m\u001b[39m.jpg\u001b[39;49m\u001b[39m'\u001b[39;49m\u001b[39m.\u001b[39;49mformat(name), img)\n",
      "\u001b[1;31mKeyboardInterrupt\u001b[0m: "
     ]
    }
   ],
   "source": [
    "for img_name in all_images:\n",
    "    img_rgb = read_image(img_name)\n",
    "\n",
    "    img_gray = cv.cvtColor(img_rgb, cv.COLOR_BGR2GRAY)\n",
    "    img_blue = img_rgb[:,:,0]\n",
    "\n",
    "    img_thresh_gray = threshold_image(img_gray)\n",
    "    img_thresh_blue = threshold_image(img_blue)\n",
    "    \n",
    "    # save_image(img_name+'.jpg', img_rgb)\n",
    "    # save_image(img_name+'_thresh_gray.jpg', img_thresh_gray)\n",
    "    # save_image(img_name+'_thresh_blue.jpg', img_thresh_blue)\n",
    "\n",
    "    img_gray_no_corners = remove_corners(img_thresh_gray)\n",
    "    img_blue_no_corners = remove_corners(img_thresh_blue)\n",
    "\n",
    "    # save_image(img_name+'_gray_no_corners.jpg', img_gray_no_corners)\n",
    "    # save_image(img_name+'_blue_no_corners.jpg', img_blue_no_corners)\n",
    "\n",
    "    img_sum = add_gray_and_blue(img_gray_no_corners, img_blue_no_corners)\n",
    "\n",
    "    img_clean = remove_minimal_blobs(img_sum)\n",
    "    \n",
    "    img_final = draw_rectangle(img_clean)\n",
    "\n",
    "    save_image(img_name+'final.jpg', img_final)"
   ]
  },
  {
   "cell_type": "code",
   "execution_count": null,
   "metadata": {},
   "outputs": [],
   "source": [
    "# for img_name in images_name:\n",
    "#     img_rgb = cv.imread('..\\datasets\\ISIC2017\\ISIC-2017_Training_Data\\{}.jpg'.format(img_name))\n",
    "#     img = cv.cvtColor(img_rgb, cv.COLOR_BGR2GRAY)\n",
    "#     img = cv.GaussianBlur(img,(5,5),0)\n",
    "#     _,img = cv.threshold(img,0,255,cv.THRESH_BINARY_INV+cv.THRESH_OTSU)\n",
    "#     kernel = np.ones((10,10),np.uint8)\n",
    "#     img = cv.erode(img,kernel,iterations = 1) \n",
    "\n",
    "#     img_blue = img_rgb[:,:,0]\n",
    "#     img_blue = cv.GaussianBlur(img_blue,(11,11),0)\n",
    "#     _,img_blue = cv.threshold(img_blue,0,255,cv.THRESH_BINARY_INV+cv.THRESH_OTSU)\n",
    "#     kernel = np.ones((10,10),np.uint8)\n",
    "#     img_blue = cv.erode(img_blue,kernel,iterations = 1)\n",
    "    \n",
    "#     y, x = img.shape\n",
    "\n",
    "#     corners = {\n",
    "#         'top_left': {\n",
    "#             'x': [0,10],\n",
    "#             'y': [0,10]\n",
    "#         },\n",
    "#         'top_right': {\n",
    "#             'x': [0,10],\n",
    "#             'y': [y - 11, y-1]\n",
    "#         },\n",
    "#         'bottom_left': {\n",
    "#             'x': [x - 11, x-1],\n",
    "#             'y': [0,10]\n",
    "#         },\n",
    "#         'bottom_right': {\n",
    "#             'x': [x - 11, x-1],\n",
    "#             'y': [y - 11, y-1]\n",
    "#         },\n",
    "#     }\n",
    "\n",
    "#     count = 0\n",
    "    \n",
    "#     # remove white corners from image\n",
    "#     for position in corners:\n",
    "#         for x in range(corners[position]['x'][0], corners[position]['x'][1]):\n",
    "#             for y in range(corners[position]['y'][0], corners[position]['y'][1]):\n",
    "#                 if img[y,x] >= 255:\n",
    "#                     cv.floodFill(img, None, (x,y), 0)\n",
    "#                 if img_blue[y,x] >= 255:\n",
    "#                     cv.floodFill(img_blue, None, (x,y), 0)\n",
    "    \n",
    "#     img_sum = img + img_blue\n",
    "#     img_sum[img_sum > 125] = 255\n",
    "#     img_sum[img_sum < 125] = 0\n",
    "\n",
    "#     #remove minimal white blobs from images\n",
    "#     contours, _ = cv.findContours(img_sum, cv.RETR_TREE, cv.CHAIN_APPROX_SIMPLE)\n",
    "#     img_clean = np.zeros_like(img_sum)\n",
    "#     for contour in contours:\n",
    "#         area = cv.contourArea(contour)\n",
    "#         if area > 5000:\n",
    "#             cv.fillPoly(img_clean, [contour], 255)\n",
    "\n",
    "    \n",
    "#     img_clean = cv.dilate(img_clean,kernel,iterations = 1)\n",
    "\n",
    "#     contours, _ = cv.findContours(img_clean,cv.RETR_TREE,cv.CHAIN_APPROX_NONE)\n",
    "    \n",
    "#     t, b, r, l = [-1, 10000, -1, 10000]\n",
    "    \n",
    "#     for points in contours:\n",
    "#         for p in points:\n",
    "#             if t < p[0][1]:\n",
    "#                 t = p[0][1]\n",
    "#             if b > p[0][1]:\n",
    "#                 b = p[0][1]\n",
    "#             if l > p[0][0]:\n",
    "#                 l = p[0][0]\n",
    "#             if r < p[0][0]:\n",
    "#                 r = p[0][0]\n",
    "\n",
    "#     b = b - 100 if b - 100 > -1 else 0\n",
    "#     t = t + 100 if t + 100 < y else y\n",
    "#     l = l - 100 if l - 100 > -1 else 0\n",
    "#     r = r + 100 if r + 100 < x else x\n",
    "    \n",
    "#     print(str(t), str(b), str(r), str(l))\n",
    "                \n",
    "#     img_final = cv.rectangle(img_rgb, (l,b), (r,t), (255, 0, 0), 1)\n",
    "\n",
    "#     cv.imwrite('..\\datasets\\ISIC2017\\\\thresholding_experiments\\methods_comparison\\\\'+img_name+'_method1.5.jpg', img_final)"
   ]
  }
 ],
 "metadata": {
  "kernelspec": {
   "display_name": "Python 3.10.6 ('venv': venv)",
   "language": "python",
   "name": "python3"
  },
  "language_info": {
   "codemirror_mode": {
    "name": "ipython",
    "version": 3
   },
   "file_extension": ".py",
   "mimetype": "text/x-python",
   "name": "python",
   "nbconvert_exporter": "python",
   "pygments_lexer": "ipython3",
   "version": "3.10.6"
  },
  "orig_nbformat": 4,
  "vscode": {
   "interpreter": {
    "hash": "5dddab3f9dcea3e0699dbfd5269a7c101e0ce7b95edb30a58b5ce5aac2bf385d"
   }
  }
 },
 "nbformat": 4,
 "nbformat_minor": 2
}
