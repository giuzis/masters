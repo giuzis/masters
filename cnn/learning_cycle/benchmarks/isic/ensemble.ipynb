{
   "cells": [
      {
         "cell_type": "code",
         "execution_count": 1,
         "metadata": {},
         "outputs": [
            {
               "name": "stdout",
               "output_type": "stream",
               "text": [
                  "Experimento:  dull_razor_shades_of_gray_cropped_images_folder_2\n",
                  "Experimento:  DA0_noPP\n",
                  "Experimento:  DA0_PP\n",
                  "Saving the scores in best_results/DA0_PP/ensemble_average/best\n",
                  "Saving the scores in best_results/DA0_PP/ensemble_average/last\n",
                  "Experimento:  dull_razor\n",
                  "Experimento:  DA1_noPP\n",
                  "Experimento:  shades_of_gray_cropped_images_folder\n",
                  "Experimento:  dull_razor_shades_of_gray_cropped_images_folder\n",
                  "Experimento:  DA3_noPP\n",
                  "Experimento:  dull_razor_shades_of_gray\n",
                  "Experimento:  DA0_noPP_3\n",
                  "Saving the scores in best_results/DA0_noPP_3/ensemble_average/best\n",
                  "Saving the scores in best_results/DA0_noPP_3/ensemble_average/last\n",
                  "Experimento:  dull_razor_2\n",
                  "Experimento:  DA-2_shades_of_gray_cropped_images_folder_150_epochs\n",
                  "Saving the scores in best_results/DA-2_shades_of_gray_cropped_images_folder_150_epochs/ensemble_average/best\n",
                  "Saving the scores in best_results/DA-2_shades_of_gray_cropped_images_folder_150_epochs/ensemble_average/last\n",
                  "Experimento:  DA2_cropped_images_folder_150_epochs_lr_init_0001\n",
                  "Saving the scores in best_results/DA2_cropped_images_folder_150_epochs_lr_init_0001/ensemble_average/best\n",
                  "Saving the scores in best_results/DA2_cropped_images_folder_150_epochs_lr_init_0001/ensemble_average/last\n",
                  "Experimento:  non_local_means_cropped_images_folder\n",
                  "Experimento:  DA1_PPcropped\n",
                  "Experimento:  gaussian_filter_2\n",
                  "Experimento:  CLAHE_cropped_images_folder\n",
                  "Experimento:  dull_razor_cropped_images_folder\n",
                  "Experimento:  dropout_05\n",
                  "Erro no experimento  dropout_05\n",
                  "[Errno 2] No such file or directory: 'best_results/dropout_05/seresnext101_32x8d_fold-1_lrinit-0.0001_batchsize-32_optimizer-Adam_maxepochs-50_DA-None_PPen-None_PPha-None_PPco-None_PPde-None_PPno-True_PPcr-None_PPre-True_drop-0.5_trainjustclassifier-False_16805547061762884/test_pred_best/predictions.csv'\n",
                  "Experimento:  noDA_PPcropped_2\n",
                  "Saving the scores in best_results/noDA_PPcropped_2/ensemble_average/best\n",
                  "Saving the scores in best_results/noDA_PPcropped_2/ensemble_average/last\n",
                  "Experimento:  DA2_noPP\n",
                  "Experimento:  DA0_noPP_2\n",
                  "Saving the scores in best_results/DA0_noPP_2/ensemble_average/best\n",
                  "Saving the scores in best_results/DA0_noPP_2/ensemble_average/last\n",
                  "Experimento:  CLAHE_2\n",
                  "Experimento:  mean_filter_cropped_images_folder\n",
                  "Experimento:  train_classifier_only\n",
                  "Saving the scores in best_results/train_classifier_only/ensemble_average/best\n",
                  "Saving the scores in best_results/train_classifier_only/ensemble_average/last\n",
                  "Experimento:  non_local_means\n",
                  "Experimento:  dropout_02\n",
                  "Erro no experimento  dropout_02\n",
                  "[Errno 2] No such file or directory: 'best_results/dropout_02/tf_efficientnet_b5_fold-1_lrinit-0.0001_batchsize-8_optimizer-AdamW_maxepochs-50_DA-None_PPen-None_PPha-None_PPco-None_PPde-None_PPno-True_PPcr-None_PPre-True_drop-0.2_trainjustclassifier-False_16805668596310365/test_pred_best/predictions.csv'\n",
                  "Experimento:  non_local_means_2\n",
                  "Experimento:  gaussian_filter_cropped_images_folder\n",
                  "Experimento:  DA4_noPP\n",
                  "Saving the scores in best_results/DA4_noPP/ensemble_average/best\n",
                  "Saving the scores in best_results/DA4_noPP/ensemble_average/last\n",
                  "Experimento:  DA0_PP_100epochs\n",
                  "Saving the scores in best_results/DA0_PP_100epochs/ensemble_average/best\n",
                  "Saving the scores in best_results/DA0_PP_100epochs/ensemble_average/last\n",
                  "Experimento:  dull_razor_shades_of_gray_2\n",
                  "Saving the scores in best_results/dull_razor_shades_of_gray_2/ensemble_average/best\n",
                  "Saving the scores in best_results/dull_razor_shades_of_gray_2/ensemble_average/last\n",
                  "Experimento:  gaussian_filter\n",
                  "Experimento:  shades_of_gray_2\n"
               ]
            },
            {
               "name": "stderr",
               "output_type": "stream",
               "text": [
                  "/home/a52550/Desktop/masters/cnn/learning_cycle/benchmarks/isic/raug/utils/classification_metrics.py:347: RuntimeWarning: More than 20 figures have been opened. Figures created through the pyplot interface (`matplotlib.pyplot.figure`) are retained until explicitly closed and may consume too much memory. (To control this warning, see the rcParam `figure.max_open_warning`).\n",
                  "  plt.figure()\n"
               ]
            },
            {
               "name": "stdout",
               "output_type": "stream",
               "text": [
                  "Saving the scores in best_results/shades_of_gray_2/ensemble_average/best\n",
                  "Saving the scores in best_results/shades_of_gray_2/ensemble_average/last\n",
                  "Experimento:  noDA_noPP\n",
                  "Experimento:  shades_of_gray\n",
                  "Experimento:  mean_filter\n",
                  "Experimento:  mean_filter_2\n",
                  "Experimento:  noDA_noPP_2\n",
                  "Saving the scores in best_results/noDA_noPP_2/ensemble_average/best\n",
                  "Saving the scores in best_results/noDA_noPP_2/ensemble_average/last\n",
                  "Experimento:  DA0_PPcropped\n",
                  "Experimento:  DA2_shades_of_gray_CLAHE_cropped_images_folder\n",
                  "Saving the scores in best_results/DA2_shades_of_gray_CLAHE_cropped_images_folder/ensemble_average/best\n",
                  "Saving the scores in best_results/DA2_shades_of_gray_CLAHE_cropped_images_folder/ensemble_average/last\n",
                  "Experimento:  noDA_PPcropped\n",
                  "Experimento:  CLAHE\n"
               ]
            },
            {
               "data": {
                  "text/plain": [
                     "<Figure size 640x480 with 0 Axes>"
                  ]
               },
               "metadata": {},
               "output_type": "display_data"
            },
            {
               "data": {
                  "text/plain": [
                     "<Figure size 640x480 with 0 Axes>"
                  ]
               },
               "metadata": {},
               "output_type": "display_data"
            },
            {
               "data": {
                  "text/plain": [
                     "<Figure size 640x480 with 0 Axes>"
                  ]
               },
               "metadata": {},
               "output_type": "display_data"
            },
            {
               "data": {
                  "text/plain": [
                     "<Figure size 640x480 with 0 Axes>"
                  ]
               },
               "metadata": {},
               "output_type": "display_data"
            },
            {
               "data": {
                  "text/plain": [
                     "<Figure size 640x480 with 0 Axes>"
                  ]
               },
               "metadata": {},
               "output_type": "display_data"
            },
            {
               "data": {
                  "text/plain": [
                     "<Figure size 640x480 with 0 Axes>"
                  ]
               },
               "metadata": {},
               "output_type": "display_data"
            },
            {
               "data": {
                  "text/plain": [
                     "<Figure size 640x480 with 0 Axes>"
                  ]
               },
               "metadata": {},
               "output_type": "display_data"
            },
            {
               "data": {
                  "text/plain": [
                     "<Figure size 640x480 with 0 Axes>"
                  ]
               },
               "metadata": {},
               "output_type": "display_data"
            },
            {
               "data": {
                  "text/plain": [
                     "<Figure size 640x480 with 0 Axes>"
                  ]
               },
               "metadata": {},
               "output_type": "display_data"
            },
            {
               "data": {
                  "text/plain": [
                     "<Figure size 640x480 with 0 Axes>"
                  ]
               },
               "metadata": {},
               "output_type": "display_data"
            },
            {
               "data": {
                  "text/plain": [
                     "<Figure size 640x480 with 0 Axes>"
                  ]
               },
               "metadata": {},
               "output_type": "display_data"
            },
            {
               "data": {
                  "text/plain": [
                     "<Figure size 640x480 with 0 Axes>"
                  ]
               },
               "metadata": {},
               "output_type": "display_data"
            },
            {
               "data": {
                  "text/plain": [
                     "<Figure size 640x480 with 0 Axes>"
                  ]
               },
               "metadata": {},
               "output_type": "display_data"
            },
            {
               "data": {
                  "text/plain": [
                     "<Figure size 640x480 with 0 Axes>"
                  ]
               },
               "metadata": {},
               "output_type": "display_data"
            },
            {
               "data": {
                  "text/plain": [
                     "<Figure size 640x480 with 0 Axes>"
                  ]
               },
               "metadata": {},
               "output_type": "display_data"
            },
            {
               "data": {
                  "text/plain": [
                     "<Figure size 640x480 with 0 Axes>"
                  ]
               },
               "metadata": {},
               "output_type": "display_data"
            },
            {
               "data": {
                  "text/plain": [
                     "<Figure size 640x480 with 0 Axes>"
                  ]
               },
               "metadata": {},
               "output_type": "display_data"
            },
            {
               "data": {
                  "text/plain": [
                     "<Figure size 640x480 with 0 Axes>"
                  ]
               },
               "metadata": {},
               "output_type": "display_data"
            },
            {
               "data": {
                  "text/plain": [
                     "<Figure size 640x480 with 0 Axes>"
                  ]
               },
               "metadata": {},
               "output_type": "display_data"
            },
            {
               "data": {
                  "text/plain": [
                     "<Figure size 640x480 with 0 Axes>"
                  ]
               },
               "metadata": {},
               "output_type": "display_data"
            },
            {
               "data": {
                  "text/plain": [
                     "<Figure size 640x480 with 0 Axes>"
                  ]
               },
               "metadata": {},
               "output_type": "display_data"
            },
            {
               "data": {
                  "text/plain": [
                     "<Figure size 640x480 with 0 Axes>"
                  ]
               },
               "metadata": {},
               "output_type": "display_data"
            },
            {
               "data": {
                  "text/plain": [
                     "<Figure size 640x480 with 0 Axes>"
                  ]
               },
               "metadata": {},
               "output_type": "display_data"
            },
            {
               "data": {
                  "text/plain": [
                     "<Figure size 640x480 with 0 Axes>"
                  ]
               },
               "metadata": {},
               "output_type": "display_data"
            },
            {
               "data": {
                  "text/plain": [
                     "<Figure size 640x480 with 0 Axes>"
                  ]
               },
               "metadata": {},
               "output_type": "display_data"
            },
            {
               "data": {
                  "text/plain": [
                     "<Figure size 640x480 with 0 Axes>"
                  ]
               },
               "metadata": {},
               "output_type": "display_data"
            }
         ],
         "source": [
            "import os\n",
            "import numpy as np\n",
            "from raug.metrics import Metrics, accuracy\n",
            "from raug.utils.loader import get_labels_frequency\n",
            "import pandas as pd\n",
            "\n",
            "# Especificar o caminho para a pasta \"best_results\"\n",
            "folder_path = \"best_results\"\n",
            "_csv_path_test = \"/home/a52550/Desktop/datasets/ISIC2017/test/ISIC-2017_Test_v2_Part3_GroundTruth.csv\"\n",
            "true_labels = pd.read_csv(_csv_path_test).sort_values(by=['image_id'])['category']\n",
            "\n",
            "# Inicializar as variáveis para armazenar as previsões dos modelos\n",
            "ensemble_preds_best = None\n",
            "ensemble_preds_last = None\n",
            "num_models = 0\n",
            "ser_lab_freq = get_labels_frequency(_csv_path_test, \"category\", \"image_id\")\n",
            "_labels_name = ser_lab_freq.index.values #np.reshape(ser_lab_freq.index.values, (ser_lab_freq.index.values.shape[0], 1))\n",
            "\n",
            "df_best = pd.DataFrame()\n",
            "df_last = pd.DataFrame()\n",
            "\n",
            "# Percorrer as pastas de cada experimento\n",
            "for experiment_folder in os.listdir(folder_path):\n",
            "\n",
            "    if \".csv\" in experiment_folder:\n",
            "        continue\n",
            "\n",
            "    print(\"Experimento: \", experiment_folder)\n",
            "\n",
            "    _metric_options_best = {\n",
            "        'save_all_path': os.path.join(folder_path, experiment_folder, 'ensemble_average/best'),\n",
            "        'pred_name_scores': 'predictions.csv',\n",
            "    }\n",
            "    _metric_options_last = {\n",
            "        'save_all_path': os.path.join(folder_path, experiment_folder, 'ensemble_average/last'),\n",
            "        'pred_name_scores': 'predictions.csv',\n",
            "    }\n",
            "\n",
            "\n",
            "    experiment_path = os.path.join(folder_path, experiment_folder)\n",
            "    metrics_best = Metrics ([\"accuracy\", \"topk_accuracy\", \"balanced_accuracy\", \"conf_matrix\" \"plot_conf_matrix\", \"precision_recall_report\", \"auc_and_roc_curve\", \"auc\"] , _labels_name, _metric_options_best)\n",
            "    metrics_last = Metrics ([\"accuracy\", \"topk_accuracy\", \"balanced_accuracy\", \"conf_matrix\" \"plot_conf_matrix\", \"precision_recall_report\", \"auc_and_roc_curve\", \"auc\"] , _labels_name, _metric_options_last)\n",
            "\n",
            "    ensemble_preds_best = None\n",
            "    ensemble_preds_last = None\n",
            "\n",
            "    model_folders = os.listdir(experiment_path)\n",
            "\n",
            "    # Check if substring \"senet154\" is present in model_folders\n",
            "    if any(\"senet154\" in s for s in model_folders):\n",
            "        continue\n",
            "\n",
            "    \n",
            "    # Cria path para o experimento atual\n",
            "    if 'ensemble_average' in model_folders:\n",
            "        model_folders.remove('ensemble_average')\n",
            "    else:\n",
            "        os.mkdir(os.path.join(folder_path, experiment_folder, 'ensemble_average'))\n",
            "        os.mkdir(os.path.join(_metric_options_best['save_all_path']))\n",
            "        os.mkdir(os.path.join(_metric_options_last['save_all_path']))\n",
            "\n",
            "    if 'ensemble_3_best_average' in model_folders:\n",
            "        model_folders.remove('ensemble_3_best_average')\n",
            "\n",
            "    try:\n",
            "\n",
            "        # Percorrer as pastas de cada modelo\n",
            "        for model_folder in model_folders:\n",
            "\n",
            "            model_path = os.path.join(experiment_path, model_folder)\n",
            "\n",
            "            # Carregar as previsões do modelo atual\n",
            "            model_preds_path_best = os.path.join(model_path, \"test_pred_best/predictions.csv\")\n",
            "            model_preds_path_last = os.path.join(model_path, \"test_pred_last/predictions.csv\")\n",
            "\n",
            "            model_preds_best = pd.read_csv(model_preds_path_best).sort_values(by=['image'])\n",
            "            model_preds_last = pd.read_csv(model_preds_path_last).sort_values(by=['image'])\n",
            "\n",
            "            images_id = model_preds_best[['image']]\n",
            "            model_preds_best = model_preds_best[['0','1','2']]\n",
            "            model_preds_last = model_preds_last[['0','1','2']]\n",
            "\n",
            "            # Adicionar as previsões do modelo atual ao ensemble\n",
            "            if ensemble_preds_best is None:\n",
            "                ensemble_preds_best = model_preds_best\n",
            "            else:\n",
            "                ensemble_preds_best += model_preds_best\n",
            "\n",
            "            if ensemble_preds_last is None:\n",
            "                ensemble_preds_last = model_preds_last\n",
            "            else:\n",
            "                ensemble_preds_last += model_preds_last\n",
            "\n",
            "            num_models += 1\n",
            "\n",
            "        # Calcular a média das previsões dos modelos\n",
            "        ensemble_preds_best /= num_models\n",
            "        ensemble_preds_last /= num_models\n",
            "\n",
            "        metrics_best.update_scores(true_labels, ensemble_preds_best.to_numpy(), images_id.to_numpy())\n",
            "        metrics_last.update_scores(true_labels, ensemble_preds_last.to_numpy(), images_id.to_numpy())\n",
            "\n",
            "        metrics_best.compute_metrics()\n",
            "        metrics_last.compute_metrics()\n",
            "\n",
            "        metrics_best.save_scores()\n",
            "        metrics_last.save_scores()\n",
            "\n",
            "        folder_name = {'folder_name': experiment_folder}\n",
            "        dict_best = {**folder_name, **metrics_best.metrics_values}\n",
            "        dict_last = {**folder_name, **metrics_last.metrics_values}\n",
            "\n",
            "        del dict_best['auc_and_roc_curve']\n",
            "        del dict_best['precision_recall_report']\n",
            "\n",
            "        del dict_last['auc_and_roc_curve']\n",
            "        del dict_last['precision_recall_report']\n",
            "\n",
            "        df_best = df_best.append(pd.DataFrame(dict_best, columns=dict_best.keys(), index=[0]), ignore_index=True)\n",
            "        df_last = df_last.append(pd.DataFrame(dict_last, columns=dict_last.keys(), index=[0]), ignore_index=True)\n",
            "\n",
            "    except Exception as e:\n",
            "        print(\"Erro no experimento \", experiment_folder)\n",
            "        print(e)\n",
            "\n",
            "\n",
            "df_best.to_csv(os.path.join(folder_path, 'ensemble_average_best.csv'), index=False)\n",
            "df_last.to_csv(os.path.join(folder_path, 'ensemble_average_last.csv'), index=False)\n",
            "\n",
            "# Avaliar a precisão do modelo de ensemble\n",
            "# true_classes_path = os.path.join(folder_path, \"true_classes.csv\")\n",
            "# true_classes = np.loadtxt(_csv_path_test, delimiter=\",\", skiprows=1)\n",
            "\n",
            "# from sklearn.metrics import accuracy_score, precision_score, recall_score, f1_score\n",
            "\n",
            "# accuracy = accuracy_score(true_classes, ensemble_classes)\n",
            "# precision = precision_score(true_classes, ensemble_classes, average=\"macro\")\n",
            "# recall = recall_score(true_classes, ensemble_classes, average=\"macro\")\n",
            "# f1 = f1_score(true_classes, ensemble_classes, average=\"macro\")\n",
            "\n",
            "# # Imprimir as métricas de avaliação\n",
            "# print(f\"Acurácia: {accuracy:.3f}\")\n",
            "# print(f\"Precisão: {precision:.3f}\")\n",
            "# print(f\"Recall: {recall:.3f}\")\n",
            "# print(f\"F1-score: {f1:.3f}\")\n"
         ]
      },
      {
         "cell_type": "code",
         "execution_count": 2,
         "metadata": {},
         "outputs": [
            {
               "name": "stdout",
               "output_type": "stream",
               "text": [
                  "Experimento  dull_razor_shades_of_gray_cropped_images_folder_2  não será avaliado\n",
                  "Experimento  DA0_noPP  não será avaliado\n",
                  "Experimento:  DA0_PP\n",
                  "Saving the scores in best_results/DA0_PP/ensemble_3_best_average/best\n",
                  "Experimento  dull_razor  não será avaliado\n",
                  "Experimento  DA1_noPP  não será avaliado\n",
                  "Experimento  shades_of_gray_cropped_images_folder  não será avaliado\n",
                  "Experimento  dull_razor_shades_of_gray_cropped_images_folder  não será avaliado\n",
                  "Experimento  DA3_noPP  não será avaliado\n",
                  "Experimento  dull_razor_shades_of_gray  não será avaliado\n",
                  "Experimento:  DA0_noPP_3\n",
                  "Saving the scores in best_results/DA0_noPP_3/ensemble_3_best_average/best\n",
                  "Experimento  dull_razor_2  não será avaliado\n",
                  "Experimento:  DA-2_shades_of_gray_cropped_images_folder_150_epochs\n",
                  "Saving the scores in best_results/DA-2_shades_of_gray_cropped_images_folder_150_epochs/ensemble_3_best_average/best\n",
                  "Experimento:  DA2_cropped_images_folder_150_epochs_lr_init_0001\n",
                  "Saving the scores in best_results/DA2_cropped_images_folder_150_epochs_lr_init_0001/ensemble_3_best_average/best\n",
                  "Experimento  non_local_means_cropped_images_folder  não será avaliado\n",
                  "Experimento  DA1_PPcropped  não será avaliado\n",
                  "Experimento  gaussian_filter_2  não será avaliado\n",
                  "Experimento  CLAHE_cropped_images_folder  não será avaliado\n",
                  "Experimento  dull_razor_cropped_images_folder  não será avaliado\n",
                  "Experimento:  dropout_05\n",
                  "Error:  [Errno 2] No such file or directory: 'best_results/dropout_05/seresnext101_32x8d_fold-1_lrinit-0.0001_batchsize-32_optimizer-Adam_maxepochs-50_DA-None_PPen-None_PPha-None_PPco-None_PPde-None_PPno-True_PPcr-None_PPre-True_drop-0.5_trainjustclassifier-False_16805547061762884/test_pred_best/predictions.csv'\n",
                  "Experimento:  noDA_PPcropped_2\n",
                  "Saving the scores in best_results/noDA_PPcropped_2/ensemble_3_best_average/best\n",
                  "Experimento  DA2_noPP  não será avaliado\n",
                  "Experimento:  DA0_noPP_2\n",
                  "Saving the scores in best_results/DA0_noPP_2/ensemble_3_best_average/best\n",
                  "Experimento  CLAHE_2  não será avaliado\n",
                  "Experimento  mean_filter_cropped_images_folder  não será avaliado\n",
                  "Experimento:  train_classifier_only\n",
                  "Saving the scores in best_results/train_classifier_only/ensemble_3_best_average/best\n",
                  "Experimento  non_local_means  não será avaliado\n",
                  "Experimento:  dropout_02\n",
                  "Error:  [Errno 2] No such file or directory: 'best_results/dropout_02/tf_efficientnet_b5_fold-1_lrinit-0.0001_batchsize-8_optimizer-AdamW_maxepochs-50_DA-None_PPen-None_PPha-None_PPco-None_PPde-None_PPno-True_PPcr-None_PPre-True_drop-0.2_trainjustclassifier-False_16805668596310365/test_pred_best/predictions.csv'\n",
                  "Experimento  non_local_means_2  não será avaliado\n",
                  "Experimento  gaussian_filter_cropped_images_folder  não será avaliado\n",
                  "Experimento:  DA4_noPP\n",
                  "Saving the scores in best_results/DA4_noPP/ensemble_3_best_average/best\n",
                  "Experimento:  DA0_PP_100epochs\n",
                  "Saving the scores in best_results/DA0_PP_100epochs/ensemble_3_best_average/best\n",
                  "Experimento:  dull_razor_shades_of_gray_2\n",
                  "Saving the scores in best_results/dull_razor_shades_of_gray_2/ensemble_3_best_average/best\n",
                  "Experimento  gaussian_filter  não será avaliado\n",
                  "Experimento:  shades_of_gray_2\n",
                  "Saving the scores in best_results/shades_of_gray_2/ensemble_3_best_average/best\n",
                  "Experimento  noDA_noPP  não será avaliado\n",
                  "Experimento  shades_of_gray  não será avaliado\n",
                  "Experimento  mean_filter  não será avaliado\n",
                  "Experimento  mean_filter_2  não será avaliado\n",
                  "Experimento:  noDA_noPP_2\n",
                  "Saving the scores in best_results/noDA_noPP_2/ensemble_3_best_average/best\n",
                  "Experimento  DA0_PPcropped  não será avaliado\n",
                  "Experimento:  DA2_shades_of_gray_CLAHE_cropped_images_folder\n",
                  "Saving the scores in best_results/DA2_shades_of_gray_CLAHE_cropped_images_folder/ensemble_3_best_average/best\n",
                  "Experimento  noDA_PPcropped  não será avaliado\n",
                  "Experimento  CLAHE  não será avaliado\n"
               ]
            },
            {
               "data": {
                  "text/plain": [
                     "<Figure size 640x480 with 0 Axes>"
                  ]
               },
               "metadata": {},
               "output_type": "display_data"
            },
            {
               "data": {
                  "text/plain": [
                     "<Figure size 640x480 with 0 Axes>"
                  ]
               },
               "metadata": {},
               "output_type": "display_data"
            },
            {
               "data": {
                  "text/plain": [
                     "<Figure size 640x480 with 0 Axes>"
                  ]
               },
               "metadata": {},
               "output_type": "display_data"
            },
            {
               "data": {
                  "text/plain": [
                     "<Figure size 640x480 with 0 Axes>"
                  ]
               },
               "metadata": {},
               "output_type": "display_data"
            },
            {
               "data": {
                  "text/plain": [
                     "<Figure size 640x480 with 0 Axes>"
                  ]
               },
               "metadata": {},
               "output_type": "display_data"
            },
            {
               "data": {
                  "text/plain": [
                     "<Figure size 640x480 with 0 Axes>"
                  ]
               },
               "metadata": {},
               "output_type": "display_data"
            },
            {
               "data": {
                  "text/plain": [
                     "<Figure size 640x480 with 0 Axes>"
                  ]
               },
               "metadata": {},
               "output_type": "display_data"
            },
            {
               "data": {
                  "text/plain": [
                     "<Figure size 640x480 with 0 Axes>"
                  ]
               },
               "metadata": {},
               "output_type": "display_data"
            },
            {
               "data": {
                  "text/plain": [
                     "<Figure size 640x480 with 0 Axes>"
                  ]
               },
               "metadata": {},
               "output_type": "display_data"
            },
            {
               "data": {
                  "text/plain": [
                     "<Figure size 640x480 with 0 Axes>"
                  ]
               },
               "metadata": {},
               "output_type": "display_data"
            },
            {
               "data": {
                  "text/plain": [
                     "<Figure size 640x480 with 0 Axes>"
                  ]
               },
               "metadata": {},
               "output_type": "display_data"
            },
            {
               "data": {
                  "text/plain": [
                     "<Figure size 640x480 with 0 Axes>"
                  ]
               },
               "metadata": {},
               "output_type": "display_data"
            },
            {
               "data": {
                  "text/plain": [
                     "<Figure size 640x480 with 0 Axes>"
                  ]
               },
               "metadata": {},
               "output_type": "display_data"
            },
            {
               "data": {
                  "text/plain": [
                     "<Figure size 640x480 with 0 Axes>"
                  ]
               },
               "metadata": {},
               "output_type": "display_data"
            }
         ],
         "source": [
            "import os\n",
            "import numpy as np\n",
            "from raug.metrics import Metrics, accuracy\n",
            "from raug.utils.loader import get_labels_frequency\n",
            "import pandas as pd\n",
            "from raug.utils import classification_metrics as cmet\n",
            "\n",
            "# Especificar o caminho para a pasta \"best_results\"\n",
            "folder_path = \"best_results\"\n",
            "_csv_path_test = \"/home/a52550/Desktop/datasets/ISIC2017/test/ISIC-2017_Test_v2_Part3_GroundTruth.csv\"\n",
            "true_labels = pd.read_csv(_csv_path_test).sort_values(by=['image_id'])['category']\n",
            "\n",
            "# Inicializar as variáveis para armazenar as previsões dos modelos\n",
            "ensemble_preds_best = None\n",
            "ensemble_preds_last = None\n",
            "num_models = 0\n",
            "ser_lab_freq = get_labels_frequency(_csv_path_test, \"category\", \"image_id\")\n",
            "_labels_name = ser_lab_freq.index.values #np.reshape(ser_lab_freq.index.values, (ser_lab_freq.index.values.shape[0], 1))\n",
            "\n",
            "df_best = pd.DataFrame()\n",
            "df_last = pd.DataFrame()\n",
            "\n",
            "# Percorrer as pastas de cada experimento\n",
            "for experiment_folder in os.listdir(folder_path):\n",
            "\n",
            "    try:\n",
            "        if \".csv\" in experiment_folder:\n",
            "            continue\n",
            "\n",
            "        options = {\n",
            "            'save_all_path': os.path.join(folder_path, experiment_folder, 'ensemble_3_best_average/best'),\n",
            "            'pred_name_scores': 'predictions.csv',\n",
            "        }\n",
            "\n",
            "\n",
            "        experiment_path = os.path.join(folder_path, experiment_folder)\n",
            "\n",
            "        ensemble_preds_best = None\n",
            "\n",
            "        experiment_folders = os.listdir(experiment_path)\n",
            "\n",
            "        # Check if substring \"senet154\" is present in model_folders\n",
            "        if any(\"senet154\" in s for s in experiment_folders):\n",
            "            print(\"Experimento \", experiment_folder, \" não será avaliado\")\n",
            "            continue\n",
            "\n",
            "        \n",
            "        print(\"Experimento: \", experiment_folder)\n",
            "\n",
            "        \n",
            "        # Cria path para o experimento atual\n",
            "        if 'ensemble_average' in experiment_folders:\n",
            "            experiment_folders.remove('ensemble_average')\n",
            "        if 'ensemble_3_best_average' in experiment_folders:\n",
            "            experiment_folders.remove('ensemble_3_best_average')\n",
            "        else:\n",
            "            os.mkdir(os.path.join(folder_path, experiment_folder, 'ensemble_3_best_average'))\n",
            "            os.mkdir(os.path.join(folder_path, experiment_folder, 'ensemble_3_best_average/best'))\n",
            "\n",
            "        best_balanced_accuracy = 0\n",
            "        current_balanced_acuracy = 0\n",
            "        best_metric_ensemble = None\n",
            "\n",
            "        # Percorrer as pastas de cada modelo\n",
            "        for i1 in range(len(experiment_folders)-1):\n",
            "            for i2 in range(i1+1, len(experiment_folders)-1):\n",
            "                for i3 in range(i2+1, len(experiment_folders)-1):\n",
            "                    model_folders = [experiment_folders[i1], experiment_folders[i2], experiment_folders[i3]]\n",
            "\n",
            "                    metrics_best.options = None\n",
            "\n",
            "                    for model_folder in model_folders:\n",
            "\n",
            "                        model_path = os.path.join(experiment_path, model_folder)\n",
            "\n",
            "                        # Carregar as previsões do modelo atual\n",
            "                        model_preds_path_best = os.path.join(model_path, \"test_pred_best/predictions.csv\")\n",
            "\n",
            "                        model_preds_best = pd.read_csv(model_preds_path_best).sort_values(by=['image'])\n",
            "\n",
            "                        images_id = model_preds_best[['image']]\n",
            "                        model_preds_best = model_preds_best[['0','1','2']]\n",
            "\n",
            "                        # Adicionar as previsões do modelo atual ao ensemble\n",
            "                        if ensemble_preds_best is None:\n",
            "                            ensemble_preds_best = model_preds_best\n",
            "                        else:\n",
            "                            ensemble_preds_best += model_preds_best\n",
            "\n",
            "                        num_models += 1\n",
            "\n",
            "                    # Calcular a média das previsões dos modelos\n",
            "                    ensemble_preds_best /= num_models\n",
            "                    \n",
            "                    # Calcular a balanced accuracy\n",
            "                    current_balanced_acuracy = cmet.balanced_accuracy(true_labels, ensemble_preds_best.to_numpy())\n",
            "\n",
            "\n",
            "                    if current_balanced_acuracy > best_balanced_accuracy:\n",
            "                        best_balanced_accuracy = current_balanced_acuracy\n",
            "\n",
            "                        best_metric_ensemble = Metrics (\"all\", _labels_name, options)\n",
            "                        best_metric_ensemble.update_scores(true_labels.to_numpy(), ensemble_preds_best.to_numpy(), images_id.to_numpy())\n",
            "\n",
            "                        best_experiment = experiment_folder\n",
            "\n",
            "                        ensemble_data = {\n",
            "                            'folder_name': experiment_folder,\n",
            "                            'ensemble_3_best': model_folders[0].split('fold')[0] + \"_\" + model_folders[1].split('fold')[0] + \"_\" + model_folders[2].split('fold')[0]\n",
            "                        }\n",
            "                        \n",
            "\n",
            "                    ensemble_preds_best = None\n",
            "\n",
            "        best_metric_ensemble.compute_metrics()\n",
            "        best_metric_ensemble.save_scores()\n",
            "        \n",
            "        dict_best = {**ensemble_data, **best_metric_ensemble.metrics_values}\n",
            "\n",
            "        del dict_best['auc_and_roc_curve']\n",
            "        del dict_best['precision_recall_report']\n",
            "        del dict_best['conf_matrix']\n",
            "        \n",
            "        df_best = df_best.append(pd.DataFrame(dict_best, columns=dict_best.keys(), index=[0]), ignore_index=True)\n",
            "    except Exception as e:\n",
            "        print('Error: ', e)\n",
            "        continue\n",
            "\n",
            "df_best.to_csv(os.path.join(folder_path, 'ensemble_3_best_average_best.csv'), index=False)\n"
         ]
      },
      {
         "cell_type": "code",
         "execution_count": null,
         "metadata": {},
         "outputs": [],
         "source": [
            "from pydrive.auth import GoogleAuth\n",
            "from pydrive.drive import GoogleDrive\n",
            "gauth = GoogleAuth()   \n",
            "gauth.LocalWebserverAuth()\n",
            "drive = GoogleDrive(gauth)  \n",
            "\n",
            "# densenet121_fold-1_lrinit-0.0001_batchsize-32_optimizer-Adam_maxepochs-150_DA-2_PPen-None_PPha-None_PPco-shades_of_gray_PPde-None_PPno-True_PPcr-cropped_images_folder_PPre-True_drop-0.0_trainjustclassifier-False_1681078943104982"
         ]
      }
   ],
   "metadata": {
      "kernelspec": {
         "display_name": "venv",
         "language": "python",
         "name": "python3"
      },
      "language_info": {
         "codemirror_mode": {
            "name": "ipython",
            "version": 3
         },
         "file_extension": ".py",
         "mimetype": "text/x-python",
         "name": "python",
         "nbconvert_exporter": "python",
         "pygments_lexer": "ipython3",
         "version": "3.7.16"
      },
      "orig_nbformat": 4
   },
   "nbformat": 4,
   "nbformat_minor": 2
}
