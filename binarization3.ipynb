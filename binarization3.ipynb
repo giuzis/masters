{
 "cells": [
  {
   "cell_type": "markdown",
   "metadata": {},
   "source": [
    "# Preparing the dataset\n",
    "Objective: Try a second approach for the images that didn't work. "
   ]
  },
  {
   "cell_type": "code",
   "execution_count": 219,
   "metadata": {},
   "outputs": [],
   "source": [
    "import cv2 as cv\n",
    "import numpy as np\n",
    "from matplotlib import pyplot as plt\n",
    "import os \n",
    "\n",
    "\n",
    "def save_image(name, img):\n",
    "    cv.imwrite('..\\datasets\\ISIC2017\\Training_data_processed\\\\not_successfully_cutted\\\\{}.jpg'.format(name), img)\n",
    "\n",
    "def save_in_test(name, img):\n",
    "    cv.imwrite('..\\datasets\\ISIC2017\\Training_data_processed\\\\tests\\\\{}.jpg'.format(name), img)\n",
    "\n",
    "def read_image(name):\n",
    "    img = cv.imread('..\\datasets\\ISIC2017\\Training_data_processed\\\\not_successfully_cutted\\\\{}.jpg'.format(name))\n",
    "    return img\n",
    "\n",
    "all_images = []"
   ]
  },
  {
   "cell_type": "markdown",
   "metadata": {},
   "source": [
    "Obtaining all images name"
   ]
  },
  {
   "cell_type": "code",
   "execution_count": 220,
   "metadata": {},
   "outputs": [],
   "source": [
    "all_files = os.listdir('..\\datasets\\ISIC2017\\Training_data_processed\\\\not_successfully_cutted\\\\')\n",
    "\n",
    "for file in all_files:\n",
    "        if file.find('superpixels') == -1 and file.find('Training_Data_metadata') == -1:\n",
    "                new_img = file.split('.')[0]\n",
    "                all_images.append(new_img)\n"
   ]
  },
  {
   "cell_type": "markdown",
   "metadata": {},
   "source": [
    "Use morphological operations to better binarize the image"
   ]
  },
  {
   "cell_type": "code",
   "execution_count": 221,
   "metadata": {},
   "outputs": [],
   "source": [
    "def morphological_operations(img):\n",
    "    kernel = np.ones((10,10),np.uint8)\n",
    "    img = cv.dilate(img,kernel,iterations = 2) \n",
    "    img = cv.erode(img,kernel,iterations = 2) \n",
    "    return img"
   ]
  },
  {
   "cell_type": "code",
   "execution_count": 222,
   "metadata": {},
   "outputs": [],
   "source": [
    "# img_original = read_image('ISIC_0014395')\n",
    "# img = morphological_operations(img_original)\n",
    "# save_in_test('ISIC_0014395', img_original)\n",
    "# save_in_test('ISIC_0014395_test', img)\n"
   ]
  },
  {
   "cell_type": "markdown",
   "metadata": {},
   "source": [
    "Obtain the threshold image for gray scale image and blue channel"
   ]
  },
  {
   "cell_type": "code",
   "execution_count": 223,
   "metadata": {},
   "outputs": [],
   "source": [
    "def threshold_image (img):\n",
    "    img = cv.GaussianBlur(img,(5,5),0)\n",
    "    _,img = cv.threshold(img,0,255,cv.THRESH_BINARY_INV+cv.THRESH_OTSU)\n",
    "    kernel = np.ones((10,10),np.uint8)\n",
    "    img = cv.erode(img,kernel,iterations = 1) \n",
    "    return img"
   ]
  },
  {
   "cell_type": "markdown",
   "metadata": {},
   "source": [
    "Obtain the threshold image to highlight the black corners"
   ]
  },
  {
   "cell_type": "code",
   "execution_count": 224,
   "metadata": {},
   "outputs": [],
   "source": [
    "def highlight_black_corners (img):\n",
    "    img = cv.GaussianBlur(img,(5,5),0)\n",
    "    y, x = img.shape\n",
    "    for i in range(5):\n",
    "        img[i,:] = 0\n",
    "        img[:,i] = 0\n",
    "        img[:,x-i-1] = 0\n",
    "        img[y-i-1,:] = 0\n",
    "    _,img = cv.threshold(img,15,255,cv.THRESH_BINARY)\n",
    "    return img"
   ]
  },
  {
   "cell_type": "markdown",
   "metadata": {},
   "source": [
    "Remove black corners remaining from the lens of the camera used to take the lesion image "
   ]
  },
  {
   "cell_type": "code",
   "execution_count": 225,
   "metadata": {},
   "outputs": [],
   "source": [
    "def remove_corners(img):\n",
    "    y, x = img.shape\n",
    "\n",
    "    corners = {\n",
    "        'top_left': {\n",
    "            'x': [0,10],\n",
    "            'y': [0,10]\n",
    "        },\n",
    "        'top_right': {\n",
    "            'x': [0,10],\n",
    "            'y': [y - 11, y-1]\n",
    "        },\n",
    "        'bottom_left': {\n",
    "            'x': [x - 11, x-1],\n",
    "            'y': [0,10]\n",
    "        },\n",
    "        'bottom_right': {\n",
    "            'x': [x - 11, x-1],\n",
    "            'y': [y - 11, y-1]\n",
    "        },\n",
    "    }\n",
    "\n",
    "    for position in corners:\n",
    "        for x in range(corners[position]['x'][0], corners[position]['x'][1]):\n",
    "            for y in range(corners[position]['y'][0], corners[position]['y'][1]):\n",
    "                if img[y,x] >= 255:\n",
    "                    cv.floodFill(img, None, (x,y), 0)\n",
    "    return img"
   ]
  },
  {
   "cell_type": "markdown",
   "metadata": {},
   "source": [
    "Add gray and blue images"
   ]
  },
  {
   "cell_type": "code",
   "execution_count": 226,
   "metadata": {},
   "outputs": [],
   "source": [
    "def add_gray_and_blue(img_1, img_2):\n",
    "    img_sum = img_1 + img_2\n",
    "    img_sum[img_sum > 125] = 255\n",
    "    img_sum[img_sum < 125] = 0\n",
    "    return img_sum\n",
    "    "
   ]
  },
  {
   "cell_type": "markdown",
   "metadata": {},
   "source": [
    "Remove minimal blobs from the image"
   ]
  },
  {
   "cell_type": "code",
   "execution_count": 227,
   "metadata": {},
   "outputs": [],
   "source": [
    "def remove_minimal_blobs(img):\n",
    "\n",
    "    kernel = np.ones((10,10),np.uint8)\n",
    "    img_clean = cv.erode(img,kernel,iterations = 2)\n",
    "\n",
    "    contours, _ = cv.findContours(img_clean, cv.RETR_TREE, cv.CHAIN_APPROX_SIMPLE)\n",
    "\n",
    "    img_clean = np.zeros_like(img)\n",
    "    for contour in contours:\n",
    "        area = cv.contourArea(contour)\n",
    "        if area > 8000:\n",
    "            cv.fillPoly(img_clean, [contour], 255)\n",
    "\n",
    "\n",
    "    return img_clean"
   ]
  },
  {
   "cell_type": "markdown",
   "metadata": {},
   "source": [
    "Get coordinates of rectangle around ROI"
   ]
  },
  {
   "cell_type": "code",
   "execution_count": 228,
   "metadata": {},
   "outputs": [],
   "source": [
    "def get_coordinates(img, gap):\n",
    "    contours, _ = cv.findContours(img,cv.RETR_TREE,cv.CHAIN_APPROX_NONE)\n",
    "\n",
    "    if len(contours) == 0:\n",
    "        return []\n",
    "\n",
    "    y, x = img.shape\n",
    "    coords = []\n",
    "    \n",
    "    t, b, r, l = [-1, 9999999, -1, 9999999]\n",
    "    \n",
    "    for points in contours:\n",
    "        for p in points:\n",
    "            if t < p[0][1]:\n",
    "                t = p[0][1]\n",
    "            if b > p[0][1]:\n",
    "                b = p[0][1]\n",
    "            if l > p[0][0]:\n",
    "                l = p[0][0]\n",
    "            if r < p[0][0]:\n",
    "                r = p[0][0]\n",
    "\n",
    "    coords.append(t + gap if t + gap < y else y)\n",
    "    coords.append(b - gap if b - gap > -1 else 0)\n",
    "    coords.append(r + gap if r + gap < x else x)\n",
    "    coords.append(l - gap if l - gap > -1 else 0)\n",
    "\n",
    "    return coords"
   ]
  },
  {
   "cell_type": "markdown",
   "metadata": {},
   "source": [
    "Draw rectangle based on found coordinates"
   ]
  },
  {
   "cell_type": "code",
   "execution_count": 229,
   "metadata": {},
   "outputs": [],
   "source": [
    "def draw_rectangle(img, coords):\n",
    "\n",
    "    [t,b,r,l] = coords\n",
    "                \n",
    "    img_final = cv.rectangle(img, (l,b), (r,t), (255, 0, 0), 3)\n",
    "\n",
    "    return img_final"
   ]
  },
  {
   "cell_type": "markdown",
   "metadata": {},
   "source": [
    "Crop in coordinates     "
   ]
  },
  {
   "cell_type": "code",
   "execution_count": 230,
   "metadata": {},
   "outputs": [],
   "source": [
    "def crop_image(img, coords):\n",
    "    if len(coords) != 4:\n",
    "        return img\n",
    "    \n",
    "    [t,b,r,l] = coords\n",
    "    crop = img[b:t, l:r, :]\n",
    "\n",
    "    return crop"
   ]
  },
  {
   "cell_type": "markdown",
   "metadata": {},
   "source": [
    "Get maximized coordinates"
   ]
  },
  {
   "cell_type": "code",
   "execution_count": 231,
   "metadata": {},
   "outputs": [],
   "source": [
    "def get_max_coords(max_coords, coords):\n",
    "    if len(coords) != 4:\n",
    "        return max_coords\n",
    "\n",
    "    [t_m,b_m,r_m,l_m] = max_coords\n",
    "    [t,b,r,l] = coords\n",
    "\n",
    "    t_m = t if t_m > t else t_m\n",
    "    b_m = b if b_m < b else b_m\n",
    "    r_m = r if r_m < r else r_m\n",
    "    l_m = l if l_m > l else l_m\n",
    "\n",
    "    return [t_m,b_m,r_m,l_m]"
   ]
  },
  {
   "cell_type": "code",
   "execution_count": 236,
   "metadata": {},
   "outputs": [],
   "source": [
    "max_coords = [-1, 9999999, -1, 9999999]\n",
    "img_name = ''\n",
    "all_images = [\"ISIC_0000036\"]\n",
    "try:\n",
    "    for img_name in all_images:\n",
    "        img_rgb = read_image(img_name)\n",
    "        img_rgb_2 = morphological_operations(img_rgb)\n",
    "\n",
    "        img_black_corners = highlight_black_corners(cv.cvtColor(img_rgb_2, cv.COLOR_BGR2GRAY))\n",
    "        save_in_test(img_name+'_crop', img_black_corners)\n",
    "        coords_1 = get_coordinates(img_black_corners, 0)\n",
    "        crop = crop_image(img_rgb_2, coords_1)\n",
    "        img_rgb = crop_image(img_rgb, coords_1)\n",
    "\n",
    "        img_gray = cv.cvtColor(crop, cv.COLOR_BGR2GRAY)\n",
    "        img_blue = crop[:,:,0]\n",
    "\n",
    "        img_thresh_gray = threshold_image(img_gray)\n",
    "        img_thresh_blue = threshold_image(img_blue)\n",
    "        \n",
    "        save_in_test(img_name+'_thresh_gray', img_thresh_gray)\n",
    "        save_in_test(img_name+'_thresh_blue', img_thresh_blue)\n",
    "\n",
    "        img_gray_no_corners = remove_corners(img_thresh_gray)\n",
    "        img_blue_no_corners = remove_corners(img_thresh_blue)\n",
    "\n",
    "        save_in_test(img_name+'_gray_no_corners', img_gray_no_corners)\n",
    "        save_in_test(img_name+'_blue_no_corners', img_blue_no_corners)\n",
    "\n",
    "        img_sum = add_gray_and_blue(img_gray_no_corners, img_blue_no_corners)\n",
    "        img_clean = remove_minimal_blobs(img_sum)\n",
    "\n",
    "        save_in_test(img_name+'_clean', img_clean)\n",
    "\n",
    "        coords = get_coordinates(img_clean, 100)\n",
    "        \n",
    "        img_final = crop_image(img_rgb, coords)\n",
    "        # print(coords, img_final.shape)\n",
    "        max_coords = get_max_coords(max_coords, coords)\n",
    "\n",
    "        save_image(img_name+'_final', img_final)\n",
    "except Exception as e: \n",
    "    print(img_name)\n",
    "    print(e)"
   ]
  },
  {
   "cell_type": "code",
   "execution_count": 233,
   "metadata": {},
   "outputs": [],
   "source": [
    "# for img_name in images_name:\n",
    "#     img_rgb = cv.imread('..\\datasets\\ISIC2017\\ISIC-2017_Training_Data\\{}.jpg'.format(img_name))\n",
    "#     img = cv.cvtColor(img_rgb, cv.COLOR_BGR2GRAY)\n",
    "#     img = cv.GaussianBlur(img,(5,5),0)\n",
    "#     _,img = cv.threshold(img,0,255,cv.THRESH_BINARY_INV+cv.THRESH_OTSU)\n",
    "#     kernel = np.ones((10,10),np.uint8)\n",
    "#     img = cv.erode(img,kernel,iterations = 1) \n",
    "\n",
    "#     img_blue = img_rgb[:,:,0]\n",
    "#     img_blue = cv.GaussianBlur(img_blue,(11,11),0)\n",
    "#     _,img_blue = cv.threshold(img_blue,0,255,cv.THRESH_BINARY_INV+cv.THRESH_OTSU)\n",
    "#     kernel = np.ones((10,10),np.uint8)\n",
    "#     img_blue = cv.erode(img_blue,kernel,iterations = 1)\n",
    "    \n",
    "#     y, x = img.shape\n",
    "\n",
    "#     corners = {\n",
    "#         'top_left': {\n",
    "#             'x': [0,10],\n",
    "#             'y': [0,10]\n",
    "#         },\n",
    "#         'top_right': {\n",
    "#             'x': [0,10],\n",
    "#             'y': [y - 11, y-1]\n",
    "#         },\n",
    "#         'bottom_left': {\n",
    "#             'x': [x - 11, x-1],\n",
    "#             'y': [0,10]\n",
    "#         },\n",
    "#         'bottom_right': {\n",
    "#             'x': [x - 11, x-1],\n",
    "#             'y': [y - 11, y-1]\n",
    "#         },\n",
    "#     }\n",
    "\n",
    "#     count = 0\n",
    "    \n",
    "#     # remove white corners from image\n",
    "#     for position in corners:\n",
    "#         for x in range(corners[position]['x'][0], corners[position]['x'][1]):\n",
    "#             for y in range(corners[position]['y'][0], corners[position]['y'][1]):\n",
    "#                 if img[y,x] >= 255:\n",
    "#                     cv.floodFill(img, None, (x,y), 0)\n",
    "#                 if img_blue[y,x] >= 255:\n",
    "#                     cv.floodFill(img_blue, None, (x,y), 0)\n",
    "    \n",
    "#     img_sum = img + img_blue\n",
    "#     img_sum[img_sum > 125] = 255\n",
    "#     img_sum[img_sum < 125] = 0\n",
    "\n",
    "#     #remove minimal white blobs from images\n",
    "#     contours, _ = cv.findContours(img_sum, cv.RETR_TREE, cv.CHAIN_APPROX_SIMPLE)\n",
    "#     img_clean = np.zeros_like(img_sum)\n",
    "#     for contour in contours:\n",
    "#         area = cv.contourArea(contour)\n",
    "#         if area > 5000:\n",
    "#             cv.fillPoly(img_clean, [contour], 255)\n",
    "\n",
    "    \n",
    "#     img_clean = cv.dilate(img_clean,kernel,iterations = 1)\n",
    "\n",
    "#     contours, _ = cv.findContours(img_clean,cv.RETR_TREE,cv.CHAIN_APPROX_NONE)\n",
    "    \n",
    "#     t, b, r, l = [-1, 10000, -1, 10000]\n",
    "    \n",
    "#     for points in contours:\n",
    "#         for p in points:\n",
    "#             if t < p[0][1]:\n",
    "#                 t = p[0][1]\n",
    "#             if b > p[0][1]:\n",
    "#                 b = p[0][1]\n",
    "#             if l > p[0][0]:\n",
    "#                 l = p[0][0]\n",
    "#             if r < p[0][0]:\n",
    "#                 r = p[0][0]\n",
    "\n",
    "#     b = b - 100 if b - 100 > -1 else 0\n",
    "#     t = t + 100 if t + 100 < y else y\n",
    "#     l = l - 100 if l - 100 > -1 else 0\n",
    "#     r = r + 100 if r + 100 < x else x\n",
    "    \n",
    "#     print(str(t), str(b), str(r), str(l))\n",
    "                \n",
    "#     img_final = cv.rectangle(img_rgb, (l,b), (r,t), (255, 0, 0), 1)\n",
    "\n",
    "#     cv.imwrite('..\\datasets\\ISIC2017\\\\thresholding_experiments\\methods_comparison\\\\'+img_name+'_method1.5.jpg', img_final)"
   ]
  },
  {
   "cell_type": "code",
   "execution_count": 234,
   "metadata": {},
   "outputs": [
    {
     "name": "stdout",
     "output_type": "stream",
     "text": [
      "0 1 2 3\n"
     ]
    }
   ],
   "source": [
    "coords = [0,1,2,3]\n",
    "\n",
    "\n",
    "a, b, c, d = coords\n",
    "print(a, b, c, d)"
   ]
  }
 ],
 "metadata": {
  "kernelspec": {
   "display_name": "Python 3.10.6 ('venv': venv)",
   "language": "python",
   "name": "python3"
  },
  "language_info": {
   "codemirror_mode": {
    "name": "ipython",
    "version": 3
   },
   "file_extension": ".py",
   "mimetype": "text/x-python",
   "name": "python",
   "nbconvert_exporter": "python",
   "pygments_lexer": "ipython3",
   "version": "3.10.7"
  },
  "orig_nbformat": 4,
  "vscode": {
   "interpreter": {
    "hash": "5dddab3f9dcea3e0699dbfd5269a7c101e0ce7b95edb30a58b5ce5aac2bf385d"
   }
  }
 },
 "nbformat": 4,
 "nbformat_minor": 2
}
