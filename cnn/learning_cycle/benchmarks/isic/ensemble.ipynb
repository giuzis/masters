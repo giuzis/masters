{
   "cells": [
      {
         "attachments": {},
         "cell_type": "markdown",
         "metadata": {},
         "source": [
            "Calculate ensemble average for all experiments"
         ]
      },
      {
         "cell_type": "code",
         "execution_count": null,
         "metadata": {},
         "outputs": [],
         "source": [
            "import os\n",
            "import numpy as np\n",
            "from raug.metrics_2 import Metrics, accuracy\n",
            "from raug.utils.loader import get_labels_frequency\n",
            "import pandas as pd\n",
            "\n",
            "# Especificar o caminho para a pasta \"best_results\"\n",
            "folder_path = \"best_results\"\n",
            "_csv_path_test = \"/home/a52550/Desktop/datasets/ISIC2017/test/ISIC-2017_Test_v2_Part3_GroundTruth.csv\"\n",
            "true_labels = pd.read_csv(_csv_path_test).sort_values(by=['image_id'])['category']\n",
            "\n",
            "# Inicializar as variáveis para armazenar as previsões dos modelos\n",
            "ensemble_preds_best = None\n",
            "ensemble_preds_last = None\n",
            "num_models = 0\n",
            "ser_lab_freq = get_labels_frequency(_csv_path_test, \"category\", \"image_id\")\n",
            "_labels_name = ser_lab_freq.index.values #np.reshape(ser_lab_freq.index.values, (ser_lab_freq.index.values.shape[0], 1))\n",
            "\n",
            "df_best = pd.DataFrame()\n",
            "df_last = pd.DataFrame()\n",
            "\n",
            "# Percorrer as pastas de cada experimento\n",
            "for experiment_folder in os.listdir(folder_path):\n",
            "\n",
            "    if \".csv\" in experiment_folder:\n",
            "        continue\n",
            "\n",
            "    print(\"Experimento: \", experiment_folder)\n",
            "\n",
            "    _metric_options_best = {\n",
            "        'save_all_path': os.path.join(folder_path, experiment_folder, 'ensemble_average/best'),\n",
            "        'pred_name_scores': 'predictions.csv',\n",
            "    }\n",
            "    _metric_options_last = {\n",
            "        'save_all_path': os.path.join(folder_path, experiment_folder, 'ensemble_average/last'),\n",
            "        'pred_name_scores': 'predictions.csv',\n",
            "    }\n",
            "\n",
            "\n",
            "    experiment_path = os.path.join(folder_path, experiment_folder)\n",
            "    metrics_best = Metrics ([\"accuracy\", \"topk_accuracy\", \"balanced_accuracy\", \"conf_matrix\" \"plot_conf_matrix\", \"precision_recall_report\", \"auc_and_roc_curve\", \"auc\"] , _labels_name, _metric_options_best)\n",
            "    metrics_last = Metrics ([\"accuracy\", \"topk_accuracy\", \"balanced_accuracy\", \"conf_matrix\" \"plot_conf_matrix\", \"precision_recall_report\", \"auc_and_roc_curve\", \"auc\"] , _labels_name, _metric_options_last)\n",
            "\n",
            "    ensemble_preds_best = None\n",
            "    ensemble_preds_last = None\n",
            "\n",
            "    model_folders = os.listdir(experiment_path)\n",
            "\n",
            "    # Check if substring \"senet154\" is present in model_folders\n",
            "    if any(\"senet154\" in s for s in model_folders):\n",
            "        continue\n",
            "\n",
            "    \n",
            "    # Cria path para o experimento atual\n",
            "    if 'ensemble_average' in model_folders:\n",
            "        model_folders.remove('ensemble_average')\n",
            "    else:\n",
            "        os.mkdir(os.path.join(folder_path, experiment_folder, 'ensemble_average'))\n",
            "        os.mkdir(os.path.join(_metric_options_best['save_all_path']))\n",
            "        os.mkdir(os.path.join(_metric_options_last['save_all_path']))\n",
            "\n",
            "    if 'ensemble_3_best_average' in model_folders:\n",
            "        model_folders.remove('ensemble_3_best_average')\n",
            "    \n",
            "    if 'ensemble_votation' in model_folders:\n",
            "        model_folders.remove('ensemble_votation')\n",
            "\n",
            "    model_folders = [x for x in model_folders if \".csv\" not in x]\n",
            "\n",
            "    try:\n",
            "\n",
            "        # Percorrer as pastas de cada modelo\n",
            "        for model_folder in model_folders:\n",
            "\n",
            "            model_path = os.path.join(experiment_path, model_folder)\n",
            "\n",
            "            # Carregar as previsões do modelo atual\n",
            "            model_preds_path_best = os.path.join(model_path, \"test_pred_best/predictions.csv\")\n",
            "            model_preds_path_last = os.path.join(model_path, \"test_pred_last/predictions.csv\")\n",
            "\n",
            "            model_preds_best = pd.read_csv(model_preds_path_best).sort_values(by=['image'])\n",
            "            model_preds_last = pd.read_csv(model_preds_path_last).sort_values(by=['image'])\n",
            "\n",
            "            images_id = model_preds_best[['image']]\n",
            "            model_preds_best = model_preds_best[['0','1','2']]\n",
            "            model_preds_last = model_preds_last[['0','1','2']]\n",
            "\n",
            "            # Adicionar as previsões do modelo atual ao ensemble\n",
            "            if ensemble_preds_best is None:\n",
            "                ensemble_preds_best = model_preds_best\n",
            "            else:\n",
            "                ensemble_preds_best += model_preds_best\n",
            "\n",
            "            if ensemble_preds_last is None:\n",
            "                ensemble_preds_last = model_preds_last\n",
            "            else:\n",
            "                ensemble_preds_last += model_preds_last\n",
            "\n",
            "            num_models += 1\n",
            "\n",
            "        # Calcular a média das previsões dos modelos\n",
            "        ensemble_preds_best /= num_models\n",
            "        ensemble_preds_last /= num_models\n",
            "\n",
            "        metrics_best.update_scores(true_labels, ensemble_preds_best.to_numpy(), images_id.to_numpy())\n",
            "        metrics_last.update_scores(true_labels, ensemble_preds_last.to_numpy(), images_id.to_numpy())\n",
            "\n",
            "        metrics_best.compute_metrics()\n",
            "        metrics_last.compute_metrics()\n",
            "\n",
            "        metrics_best.save_scores()\n",
            "        metrics_last.save_scores()\n",
            "\n",
            "        for auc_metric in metrics_best.metrics_values['auc_and_roc_curve'][0]:\n",
            "            metrics_best.metrics_values[\"auc_\" + str(auc_metric)] = metrics_best.metrics_values['auc_and_roc_curve'][0][auc_metric]\n",
            "            metrics_last.metrics_values[\"auc_\" + str(auc_metric)] = metrics_last.metrics_values['auc_and_roc_curve'][0][auc_metric]\n",
            "\n",
            "        folder_name = {'folder_name': experiment_folder}\n",
            "        dict_best = {**folder_name, **metrics_best.metrics_values}\n",
            "        dict_last = {**folder_name, **metrics_last.metrics_values}\n",
            "\n",
            "        del dict_best['auc_and_roc_curve']\n",
            "        del dict_best['precision_recall_report']\n",
            "\n",
            "        del dict_last['auc_and_roc_curve']\n",
            "        del dict_last['precision_recall_report']\n",
            "\n",
            "        df_best = df_best.append(pd.DataFrame(dict_best, columns=dict_best.keys(), index=[0]), ignore_index=True)\n",
            "        df_last = df_last.append(pd.DataFrame(dict_last, columns=dict_last.keys(), index=[0]), ignore_index=True)\n",
            "\n",
            "    except Exception as e:\n",
            "        print(\"Erro no experimento \", experiment_folder)\n",
            "        print(e)\n",
            "\n",
            "\n",
            "df_best.to_csv(os.path.join(folder_path, 'ensemble_average_best.csv'), index=False)\n",
            "df_last.to_csv(os.path.join(folder_path, 'ensemble_average_last.csv'), index=False)\n",
            "\n",
            "# Avaliar a precisão do modelo de ensemble\n",
            "# true_classes_path = os.path.join(folder_path, \"true_classes.csv\")\n",
            "# true_classes = np.loadtxt(_csv_path_test, delimiter=\",\", skiprows=1)\n",
            "\n",
            "# from sklearn.metrics import accuracy_score, precision_score, recall_score, f1_score\n",
            "\n",
            "# accuracy = accuracy_score(true_classes, ensemble_classes)\n",
            "# precision = precision_score(true_classes, ensemble_classes, average=\"macro\")\n",
            "# recall = recall_score(true_classes, ensemble_classes, average=\"macro\")\n",
            "# f1 = f1_score(true_classes, ensemble_classes, average=\"macro\")\n",
            "\n",
            "# # Imprimir as métricas de avaliação\n",
            "# print(f\"Acurácia: {accuracy:.3f}\")\n",
            "# print(f\"Precisão: {precision:.3f}\")\n",
            "# print(f\"Recall: {recall:.3f}\")\n",
            "# print(f\"F1-score: {f1:.3f}\")\n"
         ]
      },
      {
         "attachments": {},
         "cell_type": "markdown",
         "metadata": {},
         "source": [
            "Calculate ensemble average of the best 3 models for all experiments"
         ]
      },
      {
         "cell_type": "code",
         "execution_count": null,
         "metadata": {},
         "outputs": [],
         "source": [
            "import os\n",
            "import numpy as np\n",
            "from raug.metrics_2 import Metrics, accuracy\n",
            "from raug.utils.loader import get_labels_frequency\n",
            "import pandas as pd\n",
            "from raug.utils import classification_metrics as cmet\n",
            "\n",
            "# Especificar o caminho para a pasta \"best_results\"\n",
            "folder_path = \"best_results\"\n",
            "_csv_path_test = \"/home/a52550/Desktop/datasets/ISIC2017/test/ISIC-2017_Test_v2_Part3_GroundTruth.csv\"\n",
            "true_labels = pd.read_csv(_csv_path_test).sort_values(by=['image_id'])['category']\n",
            "\n",
            "# Inicializar as variáveis para armazenar as previsões dos modelos\n",
            "ensemble_preds_best = None\n",
            "ensemble_preds_last = None\n",
            "num_models = 0\n",
            "ser_lab_freq = get_labels_frequency(_csv_path_test, \"category\", \"image_id\")\n",
            "_labels_name = ser_lab_freq.index.values #np.reshape(ser_lab_freq.index.values, (ser_lab_freq.index.values.shape[0], 1))\n",
            "\n",
            "df_best = pd.DataFrame()\n",
            "df_last = pd.DataFrame()\n",
            "\n",
            "# Percorrer as pastas de cada experimento\n",
            "for experiment_folder in os.listdir(folder_path):\n",
            "\n",
            "    try:\n",
            "        if \".csv\" in experiment_folder:\n",
            "            continue\n",
            "\n",
            "        options = {\n",
            "            'save_all_path': os.path.join(folder_path, experiment_folder, 'ensemble_3_best_average/best'),\n",
            "            'pred_name_scores': 'predictions.csv',\n",
            "        }\n",
            "\n",
            "\n",
            "        experiment_path = os.path.join(folder_path, experiment_folder)\n",
            "\n",
            "        ensemble_preds_best = None\n",
            "\n",
            "        model_folders = os.listdir(experiment_path)\n",
            "\n",
            "        model_folders = [x for x in model_folders if \".csv\" not in x]\n",
            "\n",
            "        # Check if substring \"senet154\" is present in model_folders\n",
            "        if any(\"senet154\" in s for s in model_folders):\n",
            "            print(\"Experimento \", experiment_folder, \" não será avaliado\")\n",
            "            continue\n",
            "\n",
            "        print(\"Experimento: \", experiment_folder)\n",
            "\n",
            "        \n",
            "        # Cria path para o experimento atual\n",
            "        if 'ensemble_average' in model_folders:\n",
            "            model_folders.remove('ensemble_average')\n",
            "        if 'ensemble_votation' in model_folders:\n",
            "            model_folders.remove('ensemble_votation')\n",
            "        if 'ensemble_3_best_average' in model_folders:\n",
            "            model_folders.remove('ensemble_3_best_average')\n",
            "        else:\n",
            "            os.mkdir(os.path.join(folder_path, experiment_folder, 'ensemble_3_best_average'))\n",
            "            os.mkdir(os.path.join(folder_path, experiment_folder, 'ensemble_3_best_average/best'))\n",
            "\n",
            "        best_balanced_accuracy = 0\n",
            "        current_balanced_acuracy = 0\n",
            "        best_metric_ensemble = None\n",
            "\n",
            "        # Percorrer as pastas de cada modelo\n",
            "        for i1 in range(len(model_folders)-1):\n",
            "            for i2 in range(i1+1, len(model_folders)-1):\n",
            "                for i3 in range(i2+1, len(model_folders)-1):\n",
            "                    ensemble_folders = [model_folders[i1], model_folders[i2], model_folders[i3]]\n",
            "\n",
            "                    metrics_best.options = None\n",
            "\n",
            "                    for model_folder in ensemble_folders:\n",
            "\n",
            "                        model_path = os.path.join(experiment_path, model_folder)\n",
            "\n",
            "                        # Carregar as previsões do modelo atual\n",
            "                        model_preds_path_best = os.path.join(model_path, \"test_pred_best/predictions.csv\")\n",
            "\n",
            "                        model_preds_best = pd.read_csv(model_preds_path_best).sort_values(by=['image'])\n",
            "\n",
            "                        images_id = model_preds_best[['image']]\n",
            "                        model_preds_best = model_preds_best[['0','1','2']]\n",
            "\n",
            "                        # Adicionar as previsões do modelo atual ao ensemble\n",
            "                        if ensemble_preds_best is None:\n",
            "                            ensemble_preds_best = model_preds_best\n",
            "                        else:\n",
            "                            ensemble_preds_best += model_preds_best\n",
            "\n",
            "                        num_models += 1\n",
            "\n",
            "                    # Calcular a média das previsões dos modelos\n",
            "                    ensemble_preds_best /= num_models\n",
            "                    \n",
            "                    # Calcular a balanced accuracy\n",
            "                    current_balanced_acuracy = cmet.balanced_accuracy(true_labels, ensemble_preds_best.to_numpy())\n",
            "\n",
            "\n",
            "                    if current_balanced_acuracy > best_balanced_accuracy:\n",
            "                        best_balanced_accuracy = current_balanced_acuracy\n",
            "\n",
            "                        best_metric_ensemble = Metrics ([\"accuracy\", \"topk_accuracy\", \"balanced_accuracy\", \"conf_matrix\" \"plot_conf_matrix\", \"precision_recall_report\", \"auc_and_roc_curve\", \"auc\"], _labels_name, options)\n",
            "                        best_metric_ensemble.update_scores(true_labels.to_numpy(), ensemble_preds_best.to_numpy(), images_id.to_numpy())\n",
            "\n",
            "                        best_experiment = experiment_folder\n",
            "\n",
            "                        ensemble_data = {\n",
            "                            'folder_name': experiment_folder,\n",
            "                            'ensemble_3_best': ensemble_folders[0].split('fold')[0] + \"_\" + ensemble_folders[1].split('fold')[0] + \"_\" + ensemble_folders[2].split('fold')[0]\n",
            "                        }\n",
            "                        \n",
            "\n",
            "                    ensemble_preds_best = None\n",
            "\n",
            "        best_metric_ensemble.compute_metrics()\n",
            "        best_metric_ensemble.save_scores()\n",
            "\n",
            "        for auc_metric in best_metric_ensemble.metrics_values['auc_and_roc_curve'][0]:\n",
            "            best_metric_ensemble.metrics_values[\"auc_\" + str(auc_metric)] = best_metric_ensemble.metrics_values['auc_and_roc_curve'][0][auc_metric]\n",
            "        \n",
            "        dict_best = {**ensemble_data, **best_metric_ensemble.metrics_values}\n",
            "\n",
            "        del dict_best['auc_and_roc_curve']\n",
            "        del dict_best['precision_recall_report']\n",
            "        # del dict_best['conf_matrix']\n",
            "        \n",
            "        df_best = df_best.append(pd.DataFrame(dict_best, columns=dict_best.keys(), index=[0]), ignore_index=True)\n",
            "    except Exception as e:\n",
            "        print('Error: ', e)\n",
            "        continue\n",
            "\n",
            "df_best.to_csv(os.path.join(folder_path, 'ensemble_3_best_average_best.csv'), index=False)\n"
         ]
      },
      {
         "attachments": {},
         "cell_type": "markdown",
         "metadata": {},
         "source": [
            "Calculate ensemble by voting for all experiments"
         ]
      },
      {
         "cell_type": "code",
         "execution_count": null,
         "metadata": {},
         "outputs": [],
         "source": [
            "import os\n",
            "import numpy as np\n",
            "from raug.metrics_2 import Metrics, accuracy\n",
            "from raug.utils.loader import get_labels_frequency\n",
            "import pandas as pd\n",
            "\n",
            "# Especificar o caminho para a pasta \"best_results\"\n",
            "folder_path = \"best_results\"\n",
            "_csv_path_test = \"/home/a52550/Desktop/datasets/ISIC2017/test/ISIC-2017_Test_v2_Part3_GroundTruth.csv\"\n",
            "true_labels = pd.read_csv(_csv_path_test).sort_values(by=['image_id'])['category']\n",
            "\n",
            "# Inicializar as variáveis para armazenar as previsões dos modelos\n",
            "ensemble_preds_best = None\n",
            "ensemble_preds_last = None\n",
            "num_models = 0\n",
            "ser_lab_freq = get_labels_frequency(_csv_path_test, \"category\", \"image_id\")\n",
            "_labels_name = ser_lab_freq.index.values #np.reshape(ser_lab_freq.index.values, (ser_lab_freq.index.values.shape[0], 1))\n",
            "\n",
            "df_best = pd.DataFrame()\n",
            "df_last = pd.DataFrame()\n",
            "\n",
            "# Percorrer as pastas de cada experimento\n",
            "for experiment_folder in os.listdir(folder_path):\n",
            "\n",
            "    if \".csv\" in experiment_folder:\n",
            "        continue\n",
            "\n",
            "    print(\"Experimento: \", experiment_folder)\n",
            "\n",
            "    _metric_options_best = {\n",
            "        'save_all_path': os.path.join(folder_path, experiment_folder, 'ensemble_votation/best'),\n",
            "        'pred_name_scores': 'predictions.csv',\n",
            "    }\n",
            "    _metric_options_last = {\n",
            "        'save_all_path': os.path.join(folder_path, experiment_folder, 'ensemble_votation/last'),\n",
            "        'pred_name_scores': 'predictions.csv',\n",
            "    }\n",
            "\n",
            "\n",
            "    experiment_path = os.path.join(folder_path, experiment_folder)\n",
            "    metrics_best = Metrics ([\"accuracy\", \"topk_accuracy\", \"balanced_accuracy\", \"conf_matrix\" \"plot_conf_matrix\", \"precision_recall_report\", \"auc_and_roc_curve\", \"auc\"] , _labels_name, _metric_options_best)\n",
            "    metrics_last = Metrics ([\"accuracy\", \"topk_accuracy\", \"balanced_accuracy\", \"conf_matrix\" \"plot_conf_matrix\", \"precision_recall_report\", \"auc_and_roc_curve\", \"auc\"] , _labels_name, _metric_options_last)\n",
            "\n",
            "    ensemble_preds_best = None\n",
            "    ensemble_preds_last = None\n",
            "\n",
            "    model_folders = os.listdir(experiment_path)\n",
            "    \n",
            "    models_folders = [x for x in model_folders if \".csv\" not in x]\n",
            "\n",
            "    # Check if substring \"senet154\" is present in model_folders\n",
            "    if any(\"senet154\" in s for s in model_folders):\n",
            "        continue\n",
            "\n",
            "    \n",
            "    # Cria path para o experimento atual\n",
            "    if 'ensemble_votation' in model_folders:\n",
            "        model_folders.remove('ensemble_votation')\n",
            "    else:\n",
            "        os.mkdir(os.path.join(folder_path, experiment_folder, 'ensemble_votation'))\n",
            "        os.mkdir(os.path.join(_metric_options_best['save_all_path']))\n",
            "        os.mkdir(os.path.join(_metric_options_last['save_all_path']))\n",
            "\n",
            "    if 'ensemble_3_best_average' in model_folders:\n",
            "        model_folders.remove('ensemble_3_best_average')\n",
            "    if 'ensemble_average' in model_folders:\n",
            "        model_folders.remove('ensemble_average')\n",
            "\n",
            "    model_folders = [x for x in model_folders if \".csv\" not in x]\n",
            "\n",
            "    try:\n",
            "\n",
            "        # Percorrer as pastas de cada modelo\n",
            "        for model_folder in model_folders:\n",
            "\n",
            "            model_path = os.path.join(experiment_path, model_folder)\n",
            "\n",
            "            # Carregar as previsões do modelo atual\n",
            "            model_preds_path_best = os.path.join(model_path, \"test_pred_best/predictions.csv\")\n",
            "            model_preds_path_last = os.path.join(model_path, \"test_pred_last/predictions.csv\")\n",
            "\n",
            "            model_preds_best = pd.read_csv(model_preds_path_best).sort_values(by=['image'])\n",
            "            model_preds_last = pd.read_csv(model_preds_path_last).sort_values(by=['image'])\n",
            "\n",
            "            model_preds_best_votation = model_preds_best[['0','1','2']].copy() \n",
            "            model_preds_last_votation = model_preds_last[['0','1','2']].copy()\n",
            "\n",
            "            images_id = model_preds_best[['image']]\n",
            "            model_preds_best_votation['0'] = (model_preds_best['0'] == model_preds_best[['0','1','2']].max(axis=1)).astype(int)\n",
            "            model_preds_best_votation['1'] = (model_preds_best['1'] == model_preds_best[['0','1','2']].max(axis=1)).astype(int)\n",
            "            model_preds_best_votation['2'] = (model_preds_best['2'] == model_preds_best[['0','1','2']].max(axis=1)).astype(int)\n",
            "\n",
            "            model_preds_last_votation['0'] = (model_preds_last['0'] == model_preds_last[['0','1','2']].max(axis=1)).astype(int)\n",
            "            model_preds_last_votation['1'] = (model_preds_last['1'] == model_preds_last[['0','1','2']].max(axis=1)).astype(int)\n",
            "            model_preds_last_votation['2'] = (model_preds_last['2'] == model_preds_last[['0','1','2']].max(axis=1)).astype(int)\n",
            "\n",
            "\n",
            "            # Adicionar as previsões do modelo atual ao ensemble\n",
            "            if ensemble_preds_best is None:\n",
            "                ensemble_preds_best = model_preds_best_votation\n",
            "            else:\n",
            "                ensemble_preds_best += model_preds_best_votation\n",
            "\n",
            "            if ensemble_preds_last is None:\n",
            "                ensemble_preds_last = model_preds_last_votation\n",
            "            else:\n",
            "                ensemble_preds_last += model_preds_last_votation\n",
            "\n",
            "            num_models += 1\n",
            "\n",
            "        # Calcular a média das previsões dos modelos\n",
            "        aux = ensemble_preds_best.copy()\n",
            "        ensemble_preds_best['0'] = (aux['0'] == aux[['0','1','2']].max(axis=1)).astype(int)\n",
            "        ensemble_preds_best['1'] = (aux['1'] == aux[['0','1','2']].max(axis=1)).astype(int)\n",
            "        ensemble_preds_best['2'] = (aux['2'] == aux[['0','1','2']].max(axis=1)).astype(int)\n",
            "\n",
            "        aux = ensemble_preds_last.copy()\n",
            "        ensemble_preds_last['0'] = (aux['0'] == aux[['0','1','2']].max(axis=1)).astype(int)\n",
            "        ensemble_preds_last['1'] = (aux['1'] == aux[['0','1','2']].max(axis=1)).astype(int)\n",
            "        ensemble_preds_last['2'] = (aux['2'] == aux[['0','1','2']].max(axis=1)).astype(int)\n",
            "\n",
            "        metrics_best.update_scores(true_labels, ensemble_preds_best.to_numpy(), images_id.to_numpy())\n",
            "        metrics_last.update_scores(true_labels, ensemble_preds_last.to_numpy(), images_id.to_numpy())\n",
            "\n",
            "        metrics_best.compute_metrics()\n",
            "        metrics_last.compute_metrics()\n",
            "\n",
            "        metrics_best.save_scores()\n",
            "        metrics_last.save_scores()\n",
            "\n",
            "        for auc_metric in metrics_best.metrics_values['auc_and_roc_curve'][0]:\n",
            "            metrics_best.metrics_values[\"auc_\" + str(auc_metric)] = metrics_best.metrics_values['auc_and_roc_curve'][0][auc_metric]\n",
            "            metrics_last.metrics_values[\"auc_\" + str(auc_metric)] = metrics_last.metrics_values['auc_and_roc_curve'][0][auc_metric]\n",
            "\n",
            "        folder_name = {'folder_name': experiment_folder}\n",
            "        dict_best = {**folder_name, **metrics_best.metrics_values}\n",
            "        dict_last = {**folder_name, **metrics_last.metrics_values}\n",
            "\n",
            "        del dict_best['auc_and_roc_curve']\n",
            "        del dict_best['precision_recall_report']\n",
            "\n",
            "        del dict_last['auc_and_roc_curve']\n",
            "        del dict_last['precision_recall_report']\n",
            "\n",
            "        df_best = df_best.append(pd.DataFrame(dict_best, columns=dict_best.keys(), index=[0]), ignore_index=True)\n",
            "        df_last = df_last.append(pd.DataFrame(dict_last, columns=dict_last.keys(), index=[0]), ignore_index=True)\n",
            "\n",
            "    except Exception as e:\n",
            "        print(\"Erro no experimento \", experiment_folder)\n",
            "        print(e)\n",
            "\n",
            "\n",
            "df_best.to_csv(os.path.join(folder_path, 'ensemble_voting_best.csv'), index=False)\n",
            "df_last.to_csv(os.path.join(folder_path, 'ensemble_voting_last.csv'), index=False)\n",
            "\n",
            "# Avaliar a precisão do modelo de ensemble\n",
            "# true_classes_path = os.path.join(folder_path, \"true_classes.csv\")\n",
            "# true_classes = np.loadtxt(_csv_path_test, delimiter=\",\", skiprows=1)\n",
            "\n",
            "# from sklearn.metrics import accuracy_score, precision_score, recall_score, f1_score\n",
            "\n",
            "# accuracy = accuracy_score(true_classes, ensemble_classes)\n",
            "# precision = precision_score(true_classes, ensemble_classes, average=\"macro\")\n",
            "# recall = recall_score(true_classes, ensemble_classes, average=\"macro\")\n",
            "# f1 = f1_score(true_classes, ensemble_classes, average=\"macro\")\n",
            "\n",
            "# # Imprimir as métricas de avaliação\n",
            "# print(f\"Acurácia: {accuracy:.3f}\")\n",
            "# print(f\"Precisão: {precision:.3f}\")\n",
            "# print(f\"Recall: {recall:.3f}\")\n",
            "# print(f\"F1-score: {f1:.3f}\")\n"
         ]
      },
      {
         "attachments": {},
         "cell_type": "markdown",
         "metadata": {},
         "source": [
            "Calculate metrics for each model of each experiments"
         ]
      },
      {
         "cell_type": "code",
         "execution_count": 22,
         "metadata": {},
         "outputs": [
            {
               "name": "stdout",
               "output_type": "stream",
               "text": [
                  "Experimento:  dull_razor_shades_of_gray_cropped_images_folder_2\n",
                  "Experimento:  DA0_noPP\n",
                  "Experimento:  noDA_CLAHE_dull_razor_shades_of_gray_cropped_images_folder\n",
                  "Saving the scores in best_results/noDA_CLAHE_dull_razor_shades_of_gray_cropped_images_folder/efficientnet_b3_fold-1_lrinit-0.001_batchsize-32_optimizer-Adam_maxepochs-50_DA-None_PPen-CLAHE_PPha-dull_razor_PPco-shades_of_gray_PPde-None_PPno-True_PPcr-cropped_images_folder_PPre-True_drop-0.0_trainjustclassifier-False_16824953797804499/new_test_pred_best\n",
                  "Saving the scores in best_results/noDA_CLAHE_dull_razor_shades_of_gray_cropped_images_folder/efficientnet_b3_fold-1_lrinit-0.001_batchsize-32_optimizer-Adam_maxepochs-50_DA-None_PPen-CLAHE_PPha-dull_razor_PPco-shades_of_gray_PPde-None_PPno-True_PPcr-cropped_images_folder_PPre-True_drop-0.0_trainjustclassifier-False_16824953797804499/new_test_pred_last\n",
                  "Saving the scores in best_results/noDA_CLAHE_dull_razor_shades_of_gray_cropped_images_folder/tf_efficientnet_b6_fold-1_lrinit-0.0001_batchsize-4_optimizer-AdamW_maxepochs-50_DA-None_PPen-CLAHE_PPha-dull_razor_PPco-shades_of_gray_PPde-None_PPno-True_PPcr-cropped_images_folder_PPre-True_drop-0.0_trainjustclassifier-False_1682483418038081/new_test_pred_best\n",
                  "Saving the scores in best_results/noDA_CLAHE_dull_razor_shades_of_gray_cropped_images_folder/tf_efficientnet_b6_fold-1_lrinit-0.0001_batchsize-4_optimizer-AdamW_maxepochs-50_DA-None_PPen-CLAHE_PPha-dull_razor_PPco-shades_of_gray_PPde-None_PPno-True_PPcr-cropped_images_folder_PPre-True_drop-0.0_trainjustclassifier-False_1682483418038081/new_test_pred_last\n",
                  "Saving the scores in best_results/noDA_CLAHE_dull_razor_shades_of_gray_cropped_images_folder/densenet121_fold-1_lrinit-0.0001_batchsize-32_optimizer-Adam_maxepochs-50_DA-None_PPen-CLAHE_PPha-dull_razor_PPco-shades_of_gray_PPde-None_PPno-True_PPcr-cropped_images_folder_PPre-True_drop-0.0_trainjustclassifier-False_16824908600610263/new_test_pred_best\n",
                  "Saving the scores in best_results/noDA_CLAHE_dull_razor_shades_of_gray_cropped_images_folder/densenet121_fold-1_lrinit-0.0001_batchsize-32_optimizer-Adam_maxepochs-50_DA-None_PPen-CLAHE_PPha-dull_razor_PPco-shades_of_gray_PPde-None_PPno-True_PPcr-cropped_images_folder_PPre-True_drop-0.0_trainjustclassifier-False_16824908600610263/new_test_pred_last\n",
                  "Saving the scores in best_results/noDA_CLAHE_dull_razor_shades_of_gray_cropped_images_folder/efficientnet_b1_fold-1_lrinit-0.001_batchsize-8_optimizer-AdamW_maxepochs-50_DA-None_PPen-CLAHE_PPha-dull_razor_PPco-shades_of_gray_PPde-None_PPno-True_PPcr-cropped_images_folder_PPre-True_drop-0.0_trainjustclassifier-False_1682492800167229/new_test_pred_best\n",
                  "Saving the scores in best_results/noDA_CLAHE_dull_razor_shades_of_gray_cropped_images_folder/efficientnet_b1_fold-1_lrinit-0.001_batchsize-8_optimizer-AdamW_maxepochs-50_DA-None_PPen-CLAHE_PPha-dull_razor_PPco-shades_of_gray_PPde-None_PPno-True_PPcr-cropped_images_folder_PPre-True_drop-0.0_trainjustclassifier-False_1682492800167229/new_test_pred_last\n",
                  "Saving the scores in best_results/noDA_CLAHE_dull_razor_shades_of_gray_cropped_images_folder/resnext101_32x8d_fold-1_lrinit-0.001_batchsize-8_optimizer-SGD_maxepochs-50_DA-None_PPen-CLAHE_PPha-dull_razor_PPco-shades_of_gray_PPde-None_PPno-True_PPcr-cropped_images_folder_PPre-True_drop-0.0_trainjustclassifier-False_16825038950736072/new_test_pred_best\n",
                  "Saving the scores in best_results/noDA_CLAHE_dull_razor_shades_of_gray_cropped_images_folder/resnext101_32x8d_fold-1_lrinit-0.001_batchsize-8_optimizer-SGD_maxepochs-50_DA-None_PPen-CLAHE_PPha-dull_razor_PPco-shades_of_gray_PPde-None_PPno-True_PPcr-cropped_images_folder_PPre-True_drop-0.0_trainjustclassifier-False_16825038950736072/new_test_pred_last\n",
                  "Saving the scores in best_results/noDA_CLAHE_dull_razor_shades_of_gray_cropped_images_folder/vgg19_fold-1_lrinit-0.001_batchsize-8_optimizer-SGD_maxepochs-50_DA-None_PPen-CLAHE_PPha-dull_razor_PPco-shades_of_gray_PPde-None_PPno-True_PPcr-cropped_images_folder_PPre-True_drop-0.0_trainjustclassifier-False_1682503026910054/new_test_pred_best\n",
                  "Saving the scores in best_results/noDA_CLAHE_dull_razor_shades_of_gray_cropped_images_folder/vgg19_fold-1_lrinit-0.001_batchsize-8_optimizer-SGD_maxepochs-50_DA-None_PPen-CLAHE_PPha-dull_razor_PPco-shades_of_gray_PPde-None_PPno-True_PPcr-cropped_images_folder_PPre-True_drop-0.0_trainjustclassifier-False_1682503026910054/new_test_pred_last\n",
                  "Saving the scores in best_results/noDA_CLAHE_dull_razor_shades_of_gray_cropped_images_folder/efficientnet_b0_fold-1_lrinit-0.001_batchsize-8_optimizer-AdamW_maxepochs-50_DA-None_PPen-CLAHE_PPha-dull_razor_PPco-shades_of_gray_PPde-None_PPno-True_PPcr-cropped_images_folder_PPre-True_drop-0.0_trainjustclassifier-False_16824917663330305/new_test_pred_best\n",
                  "Saving the scores in best_results/noDA_CLAHE_dull_razor_shades_of_gray_cropped_images_folder/efficientnet_b0_fold-1_lrinit-0.001_batchsize-8_optimizer-AdamW_maxepochs-50_DA-None_PPen-CLAHE_PPha-dull_razor_PPco-shades_of_gray_PPde-None_PPno-True_PPcr-cropped_images_folder_PPre-True_drop-0.0_trainjustclassifier-False_16824917663330305/new_test_pred_last\n",
                  "Saving the scores in best_results/noDA_CLAHE_dull_razor_shades_of_gray_cropped_images_folder/efficientnet_b2_fold-1_lrinit-0.001_batchsize-8_optimizer-Adam_maxepochs-50_DA-None_PPen-CLAHE_PPha-dull_razor_PPco-shades_of_gray_PPde-None_PPno-True_PPcr-cropped_images_folder_PPre-True_drop-0.0_trainjustclassifier-False_16824941548608146/new_test_pred_best\n",
                  "Saving the scores in best_results/noDA_CLAHE_dull_razor_shades_of_gray_cropped_images_folder/efficientnet_b2_fold-1_lrinit-0.001_batchsize-8_optimizer-Adam_maxepochs-50_DA-None_PPen-CLAHE_PPha-dull_razor_PPco-shades_of_gray_PPde-None_PPno-True_PPcr-cropped_images_folder_PPre-True_drop-0.0_trainjustclassifier-False_16824941548608146/new_test_pred_last\n",
                  "Saving the scores in best_results/noDA_CLAHE_dull_razor_shades_of_gray_cropped_images_folder/seresnext101_32x8d_fold-1_lrinit-0.0001_batchsize-16_optimizer-Adam_maxepochs-50_DA-None_PPen-CLAHE_PPha-dull_razor_PPco-shades_of_gray_PPde-None_PPno-True_PPcr-cropped_images_folder_PPre-True_drop-0.0_trainjustclassifier-False_1682501237645372/new_test_pred_best\n",
                  "Saving the scores in best_results/noDA_CLAHE_dull_razor_shades_of_gray_cropped_images_folder/seresnext101_32x8d_fold-1_lrinit-0.0001_batchsize-16_optimizer-Adam_maxepochs-50_DA-None_PPen-CLAHE_PPha-dull_razor_PPco-shades_of_gray_PPde-None_PPno-True_PPcr-cropped_images_folder_PPre-True_drop-0.0_trainjustclassifier-False_1682501237645372/new_test_pred_last\n",
                  "Saving the scores in best_results/noDA_CLAHE_dull_razor_shades_of_gray_cropped_images_folder/efficientnet_b4_fold-1_lrinit-0.001_batchsize-16_optimizer-AdamW_maxepochs-50_DA-None_PPen-CLAHE_PPha-dull_razor_PPco-shades_of_gray_PPde-None_PPno-True_PPcr-cropped_images_folder_PPre-True_drop-0.0_trainjustclassifier-False_1682496816613192/new_test_pred_best\n",
                  "Saving the scores in best_results/noDA_CLAHE_dull_razor_shades_of_gray_cropped_images_folder/efficientnet_b4_fold-1_lrinit-0.001_batchsize-16_optimizer-AdamW_maxepochs-50_DA-None_PPen-CLAHE_PPha-dull_razor_PPco-shades_of_gray_PPde-None_PPno-True_PPcr-cropped_images_folder_PPre-True_drop-0.0_trainjustclassifier-False_1682496816613192/new_test_pred_last\n",
                  "Saving the scores in best_results/noDA_CLAHE_dull_razor_shades_of_gray_cropped_images_folder/resnest101e_fold-1_lrinit-0.0001_batchsize-8_optimizer-AdamW_maxepochs-50_DA-None_PPen-CLAHE_PPha-dull_razor_PPco-shades_of_gray_PPde-None_PPno-True_PPcr-cropped_images_folder_PPre-True_drop-0.0_trainjustclassifier-False_16824987557730577/new_test_pred_best\n",
                  "Saving the scores in best_results/noDA_CLAHE_dull_razor_shades_of_gray_cropped_images_folder/resnest101e_fold-1_lrinit-0.0001_batchsize-8_optimizer-AdamW_maxepochs-50_DA-None_PPen-CLAHE_PPha-dull_razor_PPco-shades_of_gray_PPde-None_PPno-True_PPcr-cropped_images_folder_PPre-True_drop-0.0_trainjustclassifier-False_16824987557730577/new_test_pred_last\n"
               ]
            },
            {
               "name": "stderr",
               "output_type": "stream",
               "text": [
                  "/home/a52550/Desktop/masters/cnn/learning_cycle/benchmarks/isic/raug/utils/classification_metrics_2.py:348: RuntimeWarning: More than 20 figures have been opened. Figures created through the pyplot interface (`matplotlib.pyplot.figure`) are retained until explicitly closed and may consume too much memory. (To control this warning, see the rcParam `figure.max_open_warning`).\n",
                  "  plt.figure()\n"
               ]
            },
            {
               "name": "stdout",
               "output_type": "stream",
               "text": [
                  "Saving the scores in best_results/noDA_CLAHE_dull_razor_shades_of_gray_cropped_images_folder/tf_efficientnet_b5_fold-1_lrinit-0.0001_batchsize-8_optimizer-AdamW_maxepochs-50_DA-None_PPen-CLAHE_PPha-dull_razor_PPco-shades_of_gray_PPde-None_PPno-True_PPcr-cropped_images_folder_PPre-True_drop-0.0_trainjustclassifier-False_16824746022573133/new_test_pred_best\n",
                  "Saving the scores in best_results/noDA_CLAHE_dull_razor_shades_of_gray_cropped_images_folder/tf_efficientnet_b5_fold-1_lrinit-0.0001_batchsize-8_optimizer-AdamW_maxepochs-50_DA-None_PPen-CLAHE_PPha-dull_razor_PPco-shades_of_gray_PPde-None_PPno-True_PPcr-cropped_images_folder_PPre-True_drop-0.0_trainjustclassifier-False_16824746022573133/new_test_pred_last\n",
                  "Saving the scores in best_results/noDA_CLAHE_dull_razor_shades_of_gray_cropped_images_folder/pnasnet5large_fold-1_lrinit-0.0001_batchsize-8_optimizer-Adam_maxepochs-50_DA-None_PPen-CLAHE_PPha-dull_razor_PPco-shades_of_gray_PPde-None_PPno-True_PPcr-cropped_images_folder_PPre-True_drop-0.0_trainjustclassifier-False_16825059961225636/new_test_pred_best\n",
                  "Saving the scores in best_results/noDA_CLAHE_dull_razor_shades_of_gray_cropped_images_folder/pnasnet5large_fold-1_lrinit-0.0001_batchsize-8_optimizer-Adam_maxepochs-50_DA-None_PPen-CLAHE_PPha-dull_razor_PPco-shades_of_gray_PPde-None_PPno-True_PPcr-cropped_images_folder_PPre-True_drop-0.0_trainjustclassifier-False_16825059961225636/new_test_pred_last\n",
                  "Experimento:  DA0_PP\n",
                  "Saving the scores in best_results/DA0_PP/densenet121_fold-1_lrinit-0.0001_batchsize-32_optimizer-Adam_maxepochs-50_DA-0_PPen-None_PPha-dull_razor_PPco-shades_of_gray_PPde-None_PPno-True_PPcr-cropped_images_folder_PPre-True_drop-0.0_trainjustclassifier-False_16807263435917563/new_test_pred_best\n",
                  "Saving the scores in best_results/DA0_PP/densenet121_fold-1_lrinit-0.0001_batchsize-32_optimizer-Adam_maxepochs-50_DA-0_PPen-None_PPha-dull_razor_PPco-shades_of_gray_PPde-None_PPno-True_PPcr-cropped_images_folder_PPre-True_drop-0.0_trainjustclassifier-False_16807263435917563/new_test_pred_last\n",
                  "Saving the scores in best_results/DA0_PP/seresnext101_32x8d_fold-1_lrinit-0.0001_batchsize-16_optimizer-Adam_maxepochs-50_DA-0_PPen-None_PPha-dull_razor_PPco-shades_of_gray_PPde-None_PPno-True_PPcr-cropped_images_folder_PPre-True_drop-0.0_trainjustclassifier-False_16807377815409434/new_test_pred_best\n",
                  "Saving the scores in best_results/DA0_PP/seresnext101_32x8d_fold-1_lrinit-0.0001_batchsize-16_optimizer-Adam_maxepochs-50_DA-0_PPen-None_PPha-dull_razor_PPco-shades_of_gray_PPde-None_PPno-True_PPcr-cropped_images_folder_PPre-True_drop-0.0_trainjustclassifier-False_16807377815409434/new_test_pred_last\n",
                  "Saving the scores in best_results/DA0_PP/tf_efficientnet_b6_fold-1_lrinit-0.0001_batchsize-4_optimizer-AdamW_maxepochs-50_DA-0_PPen-None_PPha-dull_razor_PPco-shades_of_gray_PPde-None_PPno-True_PPcr-cropped_images_folder_PPre-True_drop-0.0_trainjustclassifier-False_16807146609920633/new_test_pred_best\n",
                  "Saving the scores in best_results/DA0_PP/tf_efficientnet_b6_fold-1_lrinit-0.0001_batchsize-4_optimizer-AdamW_maxepochs-50_DA-0_PPen-None_PPha-dull_razor_PPco-shades_of_gray_PPde-None_PPno-True_PPcr-cropped_images_folder_PPre-True_drop-0.0_trainjustclassifier-False_16807146609920633/new_test_pred_last\n",
                  "Saving the scores in best_results/DA0_PP/efficientnet_b4_fold-1_lrinit-0.001_batchsize-16_optimizer-AdamW_maxepochs-50_DA-0_PPen-None_PPha-dull_razor_PPco-shades_of_gray_PPde-None_PPno-True_PPcr-cropped_images_folder_PPre-True_drop-0.0_trainjustclassifier-False_16807338718466887/new_test_pred_best\n",
                  "Saving the scores in best_results/DA0_PP/efficientnet_b4_fold-1_lrinit-0.001_batchsize-16_optimizer-AdamW_maxepochs-50_DA-0_PPen-None_PPha-dull_razor_PPco-shades_of_gray_PPde-None_PPno-True_PPcr-cropped_images_folder_PPre-True_drop-0.0_trainjustclassifier-False_16807338718466887/new_test_pred_last\n",
                  "Saving the scores in best_results/DA0_PP/resnext101_32x8d_fold-1_lrinit-0.001_batchsize-8_optimizer-SGD_maxepochs-50_DA-0_PPen-None_PPha-dull_razor_PPco-shades_of_gray_PPde-None_PPno-True_PPcr-cropped_images_folder_PPre-True_drop-0.0_trainjustclassifier-False_16807404824283748/new_test_pred_best\n",
                  "Saving the scores in best_results/DA0_PP/resnext101_32x8d_fold-1_lrinit-0.001_batchsize-8_optimizer-SGD_maxepochs-50_DA-0_PPen-None_PPha-dull_razor_PPco-shades_of_gray_PPde-None_PPno-True_PPcr-cropped_images_folder_PPre-True_drop-0.0_trainjustclassifier-False_16807404824283748/new_test_pred_last\n",
                  "Saving the scores in best_results/DA0_PP/efficientnet_b2_fold-1_lrinit-0.001_batchsize-8_optimizer-Adam_maxepochs-50_DA-0_PPen-None_PPha-dull_razor_PPco-shades_of_gray_PPde-None_PPno-True_PPcr-cropped_images_folder_PPre-True_drop-0.0_trainjustclassifier-False_16807305674509125/new_test_pred_best\n",
                  "Saving the scores in best_results/DA0_PP/efficientnet_b2_fold-1_lrinit-0.001_batchsize-8_optimizer-Adam_maxepochs-50_DA-0_PPen-None_PPha-dull_razor_PPco-shades_of_gray_PPde-None_PPno-True_PPcr-cropped_images_folder_PPre-True_drop-0.0_trainjustclassifier-False_16807305674509125/new_test_pred_last\n",
                  "Saving the scores in best_results/DA0_PP/resnest101e_fold-1_lrinit-0.0001_batchsize-8_optimizer-AdamW_maxepochs-50_DA-0_PPen-None_PPha-dull_razor_PPco-shades_of_gray_PPde-None_PPno-True_PPcr-cropped_images_folder_PPre-True_drop-0.0_trainjustclassifier-False_1680736202025293/new_test_pred_best\n",
                  "Saving the scores in best_results/DA0_PP/resnest101e_fold-1_lrinit-0.0001_batchsize-8_optimizer-AdamW_maxepochs-50_DA-0_PPen-None_PPha-dull_razor_PPco-shades_of_gray_PPde-None_PPno-True_PPcr-cropped_images_folder_PPre-True_drop-0.0_trainjustclassifier-False_1680736202025293/new_test_pred_last\n",
                  "Saving the scores in best_results/DA0_PP/efficientnet_b0_fold-1_lrinit-0.001_batchsize-8_optimizer-AdamW_maxepochs-50_DA-0_PPen-None_PPha-dull_razor_PPco-shades_of_gray_PPde-None_PPno-True_PPcr-cropped_images_folder_PPre-True_drop-0.0_trainjustclassifier-False_1680727774262811/new_test_pred_best\n",
                  "Saving the scores in best_results/DA0_PP/efficientnet_b0_fold-1_lrinit-0.001_batchsize-8_optimizer-AdamW_maxepochs-50_DA-0_PPen-None_PPha-dull_razor_PPco-shades_of_gray_PPde-None_PPno-True_PPcr-cropped_images_folder_PPre-True_drop-0.0_trainjustclassifier-False_1680727774262811/new_test_pred_last\n",
                  "Saving the scores in best_results/DA0_PP/efficientnet_b1_fold-1_lrinit-0.001_batchsize-8_optimizer-AdamW_maxepochs-50_DA-0_PPen-None_PPha-dull_razor_PPco-shades_of_gray_PPde-None_PPno-True_PPcr-cropped_images_folder_PPre-True_drop-0.0_trainjustclassifier-False_16807291683399746/new_test_pred_best\n",
                  "Saving the scores in best_results/DA0_PP/efficientnet_b1_fold-1_lrinit-0.001_batchsize-8_optimizer-AdamW_maxepochs-50_DA-0_PPen-None_PPha-dull_razor_PPco-shades_of_gray_PPde-None_PPno-True_PPcr-cropped_images_folder_PPre-True_drop-0.0_trainjustclassifier-False_16807291683399746/new_test_pred_last\n",
                  "Saving the scores in best_results/DA0_PP/pnasnet5large_fold-1_lrinit-0.0001_batchsize-8_optimizer-Adam_maxepochs-50_DA-0_PPen-None_PPha-dull_razor_PPco-shades_of_gray_PPde-None_PPno-True_PPcr-cropped_images_folder_PPre-True_drop-0.0_trainjustclassifier-False_16807428392407424/new_test_pred_best\n",
                  "Saving the scores in best_results/DA0_PP/pnasnet5large_fold-1_lrinit-0.0001_batchsize-8_optimizer-Adam_maxepochs-50_DA-0_PPen-None_PPha-dull_razor_PPco-shades_of_gray_PPde-None_PPno-True_PPcr-cropped_images_folder_PPre-True_drop-0.0_trainjustclassifier-False_16807428392407424/new_test_pred_last\n",
                  "Saving the scores in best_results/DA0_PP/vgg19_fold-1_lrinit-0.001_batchsize-8_optimizer-SGD_maxepochs-50_DA-0_PPen-None_PPha-dull_razor_PPco-shades_of_gray_PPde-None_PPno-True_PPcr-cropped_images_folder_PPre-True_drop-0.0_trainjustclassifier-False_16807389725071435/new_test_pred_best\n",
                  "Saving the scores in best_results/DA0_PP/vgg19_fold-1_lrinit-0.001_batchsize-8_optimizer-SGD_maxepochs-50_DA-0_PPen-None_PPha-dull_razor_PPco-shades_of_gray_PPde-None_PPno-True_PPcr-cropped_images_folder_PPre-True_drop-0.0_trainjustclassifier-False_16807389725071435/new_test_pred_last\n",
                  "Saving the scores in best_results/DA0_PP/efficientnet_b3_fold-1_lrinit-0.001_batchsize-32_optimizer-Adam_maxepochs-50_DA-0_PPen-None_PPha-dull_razor_PPco-shades_of_gray_PPde-None_PPno-True_PPcr-cropped_images_folder_PPre-True_drop-0.0_trainjustclassifier-False_16807324390873523/new_test_pred_best\n",
                  "Saving the scores in best_results/DA0_PP/efficientnet_b3_fold-1_lrinit-0.001_batchsize-32_optimizer-Adam_maxepochs-50_DA-0_PPen-None_PPha-dull_razor_PPco-shades_of_gray_PPde-None_PPno-True_PPcr-cropped_images_folder_PPre-True_drop-0.0_trainjustclassifier-False_16807324390873523/new_test_pred_last\n",
                  "Saving the scores in best_results/DA0_PP/tf_efficientnet_b5_fold-1_lrinit-0.0001_batchsize-8_optimizer-AdamW_maxepochs-50_DA-0_PPen-None_PPha-dull_razor_PPco-shades_of_gray_PPde-None_PPno-True_PPcr-cropped_images_folder_PPre-True_drop-0.0_trainjustclassifier-False_16807097007765975/new_test_pred_best\n",
                  "Saving the scores in best_results/DA0_PP/tf_efficientnet_b5_fold-1_lrinit-0.0001_batchsize-8_optimizer-AdamW_maxepochs-50_DA-0_PPen-None_PPha-dull_razor_PPco-shades_of_gray_PPde-None_PPno-True_PPcr-cropped_images_folder_PPre-True_drop-0.0_trainjustclassifier-False_16807097007765975/new_test_pred_last\n",
                  "Experimento:  dull_razor\n",
                  "Experimento:  DA1_noPP\n",
                  "Experimento:  shades_of_gray_cropped_images_folder\n",
                  "Experimento:  DA2_dull_razor_shades_of_gray_cropped_images_folder\n",
                  "Saving the scores in best_results/DA2_dull_razor_shades_of_gray_cropped_images_folder/densenet121_fold-1_lrinit-0.0001_batchsize-32_optimizer-Adam_maxepochs-150_DA-2_PPen-None_PPha-dull_razor_PPco-shades_of_gray_PPde-None_PPno-True_PPcr-cropped_images_folder_PPre-True_drop-0.0_trainjustclassifier-False_16813145991351407/new_test_pred_best\n",
                  "Saving the scores in best_results/DA2_dull_razor_shades_of_gray_cropped_images_folder/densenet121_fold-1_lrinit-0.0001_batchsize-32_optimizer-Adam_maxepochs-150_DA-2_PPen-None_PPha-dull_razor_PPco-shades_of_gray_PPde-None_PPno-True_PPcr-cropped_images_folder_PPre-True_drop-0.0_trainjustclassifier-False_16813145991351407/new_test_pred_last\n",
                  "Saving the scores in best_results/DA2_dull_razor_shades_of_gray_cropped_images_folder/efficientnet_b3_fold-1_lrinit-0.0001_batchsize-32_optimizer-Adam_maxepochs-150_DA-2_PPen-None_PPha-dull_razor_PPco-shades_of_gray_PPde-None_PPno-True_PPcr-cropped_images_folder_PPre-True_drop-0.0_trainjustclassifier-False_16813259248001854/new_test_pred_best\n",
                  "Saving the scores in best_results/DA2_dull_razor_shades_of_gray_cropped_images_folder/efficientnet_b3_fold-1_lrinit-0.0001_batchsize-32_optimizer-Adam_maxepochs-150_DA-2_PPen-None_PPha-dull_razor_PPco-shades_of_gray_PPde-None_PPno-True_PPcr-cropped_images_folder_PPre-True_drop-0.0_trainjustclassifier-False_16813259248001854/new_test_pred_last\n",
                  "Saving the scores in best_results/DA2_dull_razor_shades_of_gray_cropped_images_folder/resnest101e_fold-1_lrinit-0.0001_batchsize-8_optimizer-AdamW_maxepochs-150_DA-2_PPen-None_PPha-dull_razor_PPco-shades_of_gray_PPde-None_PPno-True_PPcr-cropped_images_folder_PPre-True_drop-0.0_trainjustclassifier-False_1681332137441572/new_test_pred_best\n",
                  "Saving the scores in best_results/DA2_dull_razor_shades_of_gray_cropped_images_folder/resnest101e_fold-1_lrinit-0.0001_batchsize-8_optimizer-AdamW_maxepochs-150_DA-2_PPen-None_PPha-dull_razor_PPco-shades_of_gray_PPde-None_PPno-True_PPcr-cropped_images_folder_PPre-True_drop-0.0_trainjustclassifier-False_1681332137441572/new_test_pred_last\n",
                  "Saving the scores in best_results/DA2_dull_razor_shades_of_gray_cropped_images_folder/efficientnet_b2_fold-1_lrinit-0.0001_batchsize-8_optimizer-Adam_maxepochs-150_DA-2_PPen-None_PPha-dull_razor_PPco-shades_of_gray_PPde-None_PPno-True_PPcr-cropped_images_folder_PPre-True_drop-0.0_trainjustclassifier-False_16813227212758167/new_test_pred_best\n",
                  "Saving the scores in best_results/DA2_dull_razor_shades_of_gray_cropped_images_folder/efficientnet_b2_fold-1_lrinit-0.0001_batchsize-8_optimizer-Adam_maxepochs-150_DA-2_PPen-None_PPha-dull_razor_PPco-shades_of_gray_PPde-None_PPno-True_PPcr-cropped_images_folder_PPre-True_drop-0.0_trainjustclassifier-False_16813227212758167/new_test_pred_last\n",
                  "Saving the scores in best_results/DA2_dull_razor_shades_of_gray_cropped_images_folder/seresnext101_32x8d_fold-1_lrinit-0.0001_batchsize-16_optimizer-Adam_maxepochs-150_DA-2_PPen-None_PPha-dull_razor_PPco-shades_of_gray_PPde-None_PPno-True_PPcr-cropped_images_folder_PPre-True_drop-0.0_trainjustclassifier-False_16813369182827797/new_test_pred_best\n",
                  "Saving the scores in best_results/DA2_dull_razor_shades_of_gray_cropped_images_folder/seresnext101_32x8d_fold-1_lrinit-0.0001_batchsize-16_optimizer-Adam_maxepochs-150_DA-2_PPen-None_PPha-dull_razor_PPco-shades_of_gray_PPde-None_PPno-True_PPcr-cropped_images_folder_PPre-True_drop-0.0_trainjustclassifier-False_16813369182827797/new_test_pred_last\n",
                  "Saving the scores in best_results/DA2_dull_razor_shades_of_gray_cropped_images_folder/pnasnet5large_fold-1_lrinit-0.0001_batchsize-8_optimizer-Adam_maxepochs-150_DA-2_PPen-None_PPha-dull_razor_PPco-shades_of_gray_PPde-None_PPno-True_PPcr-cropped_images_folder_PPre-True_drop-0.0_trainjustclassifier-False_16813443623723736/new_test_pred_best\n",
                  "Saving the scores in best_results/DA2_dull_razor_shades_of_gray_cropped_images_folder/pnasnet5large_fold-1_lrinit-0.0001_batchsize-8_optimizer-Adam_maxepochs-150_DA-2_PPen-None_PPha-dull_razor_PPco-shades_of_gray_PPde-None_PPno-True_PPcr-cropped_images_folder_PPre-True_drop-0.0_trainjustclassifier-False_16813443623723736/new_test_pred_last\n",
                  "Saving the scores in best_results/DA2_dull_razor_shades_of_gray_cropped_images_folder/resnext101_32x8d_fold-1_lrinit-0.0001_batchsize-8_optimizer-SGD_maxepochs-150_DA-2_PPen-None_PPha-dull_razor_PPco-shades_of_gray_PPde-None_PPno-True_PPcr-cropped_images_folder_PPre-True_drop-0.0_trainjustclassifier-False_16813417135634484/new_test_pred_best\n",
                  "Saving the scores in best_results/DA2_dull_razor_shades_of_gray_cropped_images_folder/resnext101_32x8d_fold-1_lrinit-0.0001_batchsize-8_optimizer-SGD_maxepochs-150_DA-2_PPen-None_PPha-dull_razor_PPco-shades_of_gray_PPde-None_PPno-True_PPcr-cropped_images_folder_PPre-True_drop-0.0_trainjustclassifier-False_16813417135634484/new_test_pred_last\n",
                  "Saving the scores in best_results/DA2_dull_razor_shades_of_gray_cropped_images_folder/efficientnet_b0_fold-1_lrinit-0.0001_batchsize-8_optimizer-AdamW_maxepochs-150_DA-2_PPen-None_PPha-dull_razor_PPco-shades_of_gray_PPde-None_PPno-True_PPcr-cropped_images_folder_PPre-True_drop-0.0_trainjustclassifier-False_16813171666139843/new_test_pred_best\n",
                  "Saving the scores in best_results/DA2_dull_razor_shades_of_gray_cropped_images_folder/efficientnet_b0_fold-1_lrinit-0.0001_batchsize-8_optimizer-AdamW_maxepochs-150_DA-2_PPen-None_PPha-dull_razor_PPco-shades_of_gray_PPde-None_PPno-True_PPcr-cropped_images_folder_PPre-True_drop-0.0_trainjustclassifier-False_16813171666139843/new_test_pred_last\n",
                  "Saving the scores in best_results/DA2_dull_razor_shades_of_gray_cropped_images_folder/tf_efficientnet_b5_fold-1_lrinit-0.0001_batchsize-8_optimizer-AdamW_maxepochs-150_DA-2_PPen-None_PPha-dull_razor_PPco-shades_of_gray_PPde-None_PPno-True_PPcr-cropped_images_folder_PPre-True_drop-0.0_trainjustclassifier-False_16812917987950535/new_test_pred_best\n",
                  "Saving the scores in best_results/DA2_dull_razor_shades_of_gray_cropped_images_folder/tf_efficientnet_b5_fold-1_lrinit-0.0001_batchsize-8_optimizer-AdamW_maxepochs-150_DA-2_PPen-None_PPha-dull_razor_PPco-shades_of_gray_PPde-None_PPno-True_PPcr-cropped_images_folder_PPre-True_drop-0.0_trainjustclassifier-False_16812917987950535/new_test_pred_last\n",
                  "Saving the scores in best_results/DA2_dull_razor_shades_of_gray_cropped_images_folder/tf_efficientnet_b6_fold-1_lrinit-0.0001_batchsize-4_optimizer-AdamW_maxepochs-150_DA-2_PPen-None_PPha-dull_razor_PPco-shades_of_gray_PPde-None_PPno-True_PPcr-cropped_images_folder_PPre-True_drop-0.0_trainjustclassifier-False_16813005588582973/new_test_pred_best\n",
                  "Saving the scores in best_results/DA2_dull_razor_shades_of_gray_cropped_images_folder/tf_efficientnet_b6_fold-1_lrinit-0.0001_batchsize-4_optimizer-AdamW_maxepochs-150_DA-2_PPen-None_PPha-dull_razor_PPco-shades_of_gray_PPde-None_PPno-True_PPcr-cropped_images_folder_PPre-True_drop-0.0_trainjustclassifier-False_16813005588582973/new_test_pred_last\n",
                  "Saving the scores in best_results/DA2_dull_razor_shades_of_gray_cropped_images_folder/efficientnet_b1_fold-1_lrinit-0.0001_batchsize-8_optimizer-AdamW_maxepochs-150_DA-2_PPen-None_PPha-dull_razor_PPco-shades_of_gray_PPde-None_PPno-True_PPcr-cropped_images_folder_PPre-True_drop-0.0_trainjustclassifier-False_16813196594619434/new_test_pred_best\n",
                  "Saving the scores in best_results/DA2_dull_razor_shades_of_gray_cropped_images_folder/efficientnet_b1_fold-1_lrinit-0.0001_batchsize-8_optimizer-AdamW_maxepochs-150_DA-2_PPen-None_PPha-dull_razor_PPco-shades_of_gray_PPde-None_PPno-True_PPcr-cropped_images_folder_PPre-True_drop-0.0_trainjustclassifier-False_16813196594619434/new_test_pred_last\n",
                  "Saving the scores in best_results/DA2_dull_razor_shades_of_gray_cropped_images_folder/vgg19_fold-1_lrinit-0.0001_batchsize-8_optimizer-SGD_maxepochs-150_DA-2_PPen-None_PPha-dull_razor_PPco-shades_of_gray_PPde-None_PPno-True_PPcr-cropped_images_folder_PPre-True_drop-0.0_trainjustclassifier-False_16813396481821916/new_test_pred_best\n",
                  "Saving the scores in best_results/DA2_dull_razor_shades_of_gray_cropped_images_folder/vgg19_fold-1_lrinit-0.0001_batchsize-8_optimizer-SGD_maxepochs-150_DA-2_PPen-None_PPha-dull_razor_PPco-shades_of_gray_PPde-None_PPno-True_PPcr-cropped_images_folder_PPre-True_drop-0.0_trainjustclassifier-False_16813396481821916/new_test_pred_last\n",
                  "Saving the scores in best_results/DA2_dull_razor_shades_of_gray_cropped_images_folder/efficientnet_b4_fold-1_lrinit-0.0001_batchsize-16_optimizer-AdamW_maxepochs-150_DA-2_PPen-None_PPha-dull_razor_PPco-shades_of_gray_PPde-None_PPno-True_PPcr-cropped_images_folder_PPre-True_drop-0.0_trainjustclassifier-False_16813292269355123/new_test_pred_best\n",
                  "Saving the scores in best_results/DA2_dull_razor_shades_of_gray_cropped_images_folder/efficientnet_b4_fold-1_lrinit-0.0001_batchsize-16_optimizer-AdamW_maxepochs-150_DA-2_PPen-None_PPha-dull_razor_PPco-shades_of_gray_PPde-None_PPno-True_PPcr-cropped_images_folder_PPre-True_drop-0.0_trainjustclassifier-False_16813292269355123/new_test_pred_last\n",
                  "Experimento:  dull_razor_shades_of_gray_cropped_images_folder\n",
                  "Experimento:  DA3_noPP\n",
                  "Experimento:  dull_razor_shades_of_gray\n",
                  "Experimento:  DA0_noPP_3\n",
                  "Saving the scores in best_results/DA0_noPP_3/efficientnet_b3_fold-1_lrinit-0.001_batchsize-32_optimizer-Adam_maxepochs-50_DA-0_PPen-None_PPha-None_PPco-None_PPde-None_PPno-True_PPcr-None_PPre-True_drop-0.0_trainjustclassifier-False_1680676586096729/new_test_pred_best\n",
                  "Saving the scores in best_results/DA0_noPP_3/efficientnet_b3_fold-1_lrinit-0.001_batchsize-32_optimizer-Adam_maxepochs-50_DA-0_PPen-None_PPha-None_PPco-None_PPde-None_PPno-True_PPcr-None_PPre-True_drop-0.0_trainjustclassifier-False_1680676586096729/new_test_pred_last\n",
                  "Saving the scores in best_results/DA0_noPP_3/resnest101e_fold-1_lrinit-0.0001_batchsize-8_optimizer-AdamW_maxepochs-50_DA-0_PPen-None_PPha-None_PPco-None_PPde-None_PPno-True_PPcr-None_PPre-True_drop-0.0_trainjustclassifier-False_16806810152288215/new_test_pred_best\n",
                  "Saving the scores in best_results/DA0_noPP_3/resnest101e_fold-1_lrinit-0.0001_batchsize-8_optimizer-AdamW_maxepochs-50_DA-0_PPen-None_PPha-None_PPco-None_PPde-None_PPno-True_PPcr-None_PPre-True_drop-0.0_trainjustclassifier-False_16806810152288215/new_test_pred_last\n",
                  "Saving the scores in best_results/DA0_noPP_3/densenet121_fold-1_lrinit-0.0001_batchsize-32_optimizer-Adam_maxepochs-50_DA-0_PPen-None_PPha-None_PPco-None_PPde-None_PPno-True_PPcr-None_PPre-True_drop-0.0_trainjustclassifier-False_16806683526389024/new_test_pred_best\n",
                  "Saving the scores in best_results/DA0_noPP_3/densenet121_fold-1_lrinit-0.0001_batchsize-32_optimizer-Adam_maxepochs-50_DA-0_PPen-None_PPha-None_PPco-None_PPde-None_PPno-True_PPcr-None_PPre-True_drop-0.0_trainjustclassifier-False_16806683526389024/new_test_pred_last\n",
                  "Saving the scores in best_results/DA0_noPP_3/tf_efficientnet_b6_fold-1_lrinit-0.0001_batchsize-4_optimizer-AdamW_maxepochs-50_DA-0_PPen-None_PPha-None_PPco-None_PPde-None_PPno-True_PPcr-None_PPre-True_drop-0.0_trainjustclassifier-False_1680658353169638/new_test_pred_best\n",
                  "Saving the scores in best_results/DA0_noPP_3/tf_efficientnet_b6_fold-1_lrinit-0.0001_batchsize-4_optimizer-AdamW_maxepochs-50_DA-0_PPen-None_PPha-None_PPco-None_PPde-None_PPno-True_PPcr-None_PPre-True_drop-0.0_trainjustclassifier-False_1680658353169638/new_test_pred_last\n",
                  "Saving the scores in best_results/DA0_noPP_3/seresnext101_32x8d_fold-1_lrinit-0.0001_batchsize-32_optimizer-Adam_maxepochs-50_DA-0_PPen-None_PPha-None_PPco-None_PPde-None_PPno-True_PPcr-None_PPre-True_drop-0.0_trainjustclassifier-False_16806846779415975/new_test_pred_best\n",
                  "Saving the scores in best_results/DA0_noPP_3/seresnext101_32x8d_fold-1_lrinit-0.0001_batchsize-32_optimizer-Adam_maxepochs-50_DA-0_PPen-None_PPha-None_PPco-None_PPde-None_PPno-True_PPcr-None_PPre-True_drop-0.0_trainjustclassifier-False_16806846779415975/new_test_pred_last\n",
                  "Saving the scores in best_results/DA0_noPP_3/efficientnet_b2_fold-1_lrinit-0.001_batchsize-8_optimizer-Adam_maxepochs-50_DA-0_PPen-None_PPha-None_PPco-None_PPde-None_PPno-True_PPcr-None_PPre-True_drop-0.0_trainjustclassifier-False_16806745989806416/new_test_pred_best\n",
                  "Saving the scores in best_results/DA0_noPP_3/efficientnet_b2_fold-1_lrinit-0.001_batchsize-8_optimizer-Adam_maxepochs-50_DA-0_PPen-None_PPha-None_PPco-None_PPde-None_PPno-True_PPcr-None_PPre-True_drop-0.0_trainjustclassifier-False_16806745989806416/new_test_pred_last\n",
                  "Saving the scores in best_results/DA0_noPP_3/efficientnet_b4_fold-1_lrinit-0.001_batchsize-16_optimizer-AdamW_maxepochs-50_DA-0_PPen-None_PPha-None_PPco-None_PPde-None_PPno-True_PPcr-None_PPre-True_drop-0.0_trainjustclassifier-False_16806789442947412/new_test_pred_best\n",
                  "Saving the scores in best_results/DA0_noPP_3/efficientnet_b4_fold-1_lrinit-0.001_batchsize-16_optimizer-AdamW_maxepochs-50_DA-0_PPen-None_PPha-None_PPco-None_PPde-None_PPno-True_PPcr-None_PPre-True_drop-0.0_trainjustclassifier-False_16806789442947412/new_test_pred_last\n",
                  "Saving the scores in best_results/DA0_noPP_3/resnext101_32x8d_fold-1_lrinit-0.001_batchsize-8_optimizer-SGD_maxepochs-50_DA-0_PPen-None_PPha-None_PPco-None_PPde-None_PPno-True_PPcr-None_PPre-True_drop-0.0_trainjustclassifier-False_16807011755216286/new_test_pred_best\n",
                  "Saving the scores in best_results/DA0_noPP_3/resnext101_32x8d_fold-1_lrinit-0.001_batchsize-8_optimizer-SGD_maxepochs-50_DA-0_PPen-None_PPha-None_PPco-None_PPde-None_PPno-True_PPcr-None_PPre-True_drop-0.0_trainjustclassifier-False_16807011755216286/new_test_pred_last\n",
                  "Saving the scores in best_results/DA0_noPP_3/vgg19_fold-1_lrinit-0.001_batchsize-8_optimizer-SGD_maxepochs-50_DA-0_PPen-None_PPha-None_PPco-None_PPde-None_PPno-True_PPcr-None_PPre-True_drop-0.0_trainjustclassifier-False_16806872780787373/new_test_pred_best\n",
                  "Saving the scores in best_results/DA0_noPP_3/vgg19_fold-1_lrinit-0.001_batchsize-8_optimizer-SGD_maxepochs-50_DA-0_PPen-None_PPha-None_PPco-None_PPde-None_PPno-True_PPcr-None_PPre-True_drop-0.0_trainjustclassifier-False_16806872780787373/new_test_pred_last\n",
                  "Saving the scores in best_results/DA0_noPP_3/tf_efficientnet_b5_fold-1_lrinit-0.0001_batchsize-8_optimizer-AdamW_maxepochs-50_DA-0_PPen-None_PPha-None_PPco-None_PPde-None_PPno-True_PPcr-None_PPre-True_drop-0.0_trainjustclassifier-False_16806529581110363/new_test_pred_best\n",
                  "Saving the scores in best_results/DA0_noPP_3/tf_efficientnet_b5_fold-1_lrinit-0.0001_batchsize-8_optimizer-AdamW_maxepochs-50_DA-0_PPen-None_PPha-None_PPco-None_PPde-None_PPno-True_PPcr-None_PPre-True_drop-0.0_trainjustclassifier-False_16806529581110363/new_test_pred_last\n",
                  "Saving the scores in best_results/DA0_noPP_3/pnasnet5large_fold-1_lrinit-0.0001_batchsize-8_optimizer-Adam_maxepochs-50_DA-0_PPen-None_PPha-None_PPco-None_PPde-None_PPno-True_PPcr-None_PPre-True_drop-0.0_trainjustclassifier-False_16806887422288716/new_test_pred_best\n",
                  "Saving the scores in best_results/DA0_noPP_3/pnasnet5large_fold-1_lrinit-0.0001_batchsize-8_optimizer-Adam_maxepochs-50_DA-0_PPen-None_PPha-None_PPco-None_PPde-None_PPno-True_PPcr-None_PPre-True_drop-0.0_trainjustclassifier-False_16806887422288716/new_test_pred_last\n",
                  "Saving the scores in best_results/DA0_noPP_3/efficientnet_b1_fold-1_lrinit-0.001_batchsize-8_optimizer-AdamW_maxepochs-50_DA-0_PPen-None_PPha-None_PPco-None_PPde-None_PPno-True_PPcr-None_PPre-True_drop-0.0_trainjustclassifier-False_16806720463018491/new_test_pred_best\n",
                  "Saving the scores in best_results/DA0_noPP_3/efficientnet_b1_fold-1_lrinit-0.001_batchsize-8_optimizer-AdamW_maxepochs-50_DA-0_PPen-None_PPha-None_PPco-None_PPde-None_PPno-True_PPcr-None_PPre-True_drop-0.0_trainjustclassifier-False_16806720463018491/new_test_pred_last\n",
                  "Saving the scores in best_results/DA0_noPP_3/efficientnet_b0_fold-1_lrinit-0.001_batchsize-8_optimizer-AdamW_maxepochs-50_DA-0_PPen-None_PPha-None_PPco-None_PPde-None_PPno-True_PPcr-None_PPre-True_drop-0.0_trainjustclassifier-False_16806694609152858/new_test_pred_best\n",
                  "Saving the scores in best_results/DA0_noPP_3/efficientnet_b0_fold-1_lrinit-0.001_batchsize-8_optimizer-AdamW_maxepochs-50_DA-0_PPen-None_PPha-None_PPco-None_PPde-None_PPno-True_PPcr-None_PPre-True_drop-0.0_trainjustclassifier-False_16806694609152858/new_test_pred_last\n",
                  "Experimento:  dull_razor_2\n",
                  "Experimento:  DA2_noPP_2\n",
                  "Saving the scores in best_results/DA2_noPP_2/seresnext101_32x8d_fold-1_lrinit-0.0001_batchsize-16_optimizer-Adam_maxepochs-150_DA-2_PPen-None_PPha-None_PPco-None_PPde-None_PPno-True_PPcr-None_PPre-True_drop-0.0_trainjustclassifier-False_1681458575284634/new_test_pred_best\n",
                  "Saving the scores in best_results/DA2_noPP_2/seresnext101_32x8d_fold-1_lrinit-0.0001_batchsize-16_optimizer-Adam_maxepochs-150_DA-2_PPen-None_PPha-None_PPco-None_PPde-None_PPno-True_PPcr-None_PPre-True_drop-0.0_trainjustclassifier-False_1681458575284634/new_test_pred_last\n",
                  "Saving the scores in best_results/DA2_noPP_2/densenet121_fold-1_lrinit-0.0001_batchsize-32_optimizer-Adam_maxepochs-150_DA-2_PPen-None_PPha-None_PPco-None_PPde-None_PPno-True_PPcr-None_PPre-True_drop-0.0_trainjustclassifier-False_16814343457776537/new_test_pred_best\n",
                  "Saving the scores in best_results/DA2_noPP_2/densenet121_fold-1_lrinit-0.0001_batchsize-32_optimizer-Adam_maxepochs-150_DA-2_PPen-None_PPha-None_PPco-None_PPde-None_PPno-True_PPcr-None_PPre-True_drop-0.0_trainjustclassifier-False_16814343457776537/new_test_pred_last\n",
                  "Saving the scores in best_results/DA2_noPP_2/resnest101e_fold-1_lrinit-0.0001_batchsize-8_optimizer-AdamW_maxepochs-150_DA-2_PPen-None_PPha-None_PPco-None_PPde-None_PPno-True_PPcr-None_PPre-True_drop-0.0_trainjustclassifier-False_16814531438972118/new_test_pred_best\n",
                  "Saving the scores in best_results/DA2_noPP_2/resnest101e_fold-1_lrinit-0.0001_batchsize-8_optimizer-AdamW_maxepochs-150_DA-2_PPen-None_PPha-None_PPco-None_PPde-None_PPno-True_PPcr-None_PPre-True_drop-0.0_trainjustclassifier-False_16814531438972118/new_test_pred_last\n",
                  "Saving the scores in best_results/DA2_noPP_2/efficientnet_b1_fold-1_lrinit-0.0001_batchsize-8_optimizer-AdamW_maxepochs-150_DA-2_PPen-None_PPha-None_PPco-None_PPde-None_PPno-True_PPcr-None_PPre-True_drop-0.0_trainjustclassifier-False_16814403726668034/new_test_pred_best\n",
                  "Saving the scores in best_results/DA2_noPP_2/efficientnet_b1_fold-1_lrinit-0.0001_batchsize-8_optimizer-AdamW_maxepochs-150_DA-2_PPen-None_PPha-None_PPco-None_PPde-None_PPno-True_PPcr-None_PPre-True_drop-0.0_trainjustclassifier-False_16814403726668034/new_test_pred_last\n",
                  "Saving the scores in best_results/DA2_noPP_2/vgg19_fold-1_lrinit-0.0001_batchsize-8_optimizer-SGD_maxepochs-150_DA-2_PPen-None_PPha-None_PPco-None_PPde-None_PPno-True_PPcr-None_PPre-True_drop-0.0_trainjustclassifier-False_168146229686036/new_test_pred_best\n",
                  "Saving the scores in best_results/DA2_noPP_2/vgg19_fold-1_lrinit-0.0001_batchsize-8_optimizer-SGD_maxepochs-150_DA-2_PPen-None_PPha-None_PPco-None_PPde-None_PPno-True_PPcr-None_PPre-True_drop-0.0_trainjustclassifier-False_168146229686036/new_test_pred_last\n",
                  "Saving the scores in best_results/DA2_noPP_2/tf_efficientnet_b6_fold-1_lrinit-0.0001_batchsize-4_optimizer-AdamW_maxepochs-150_DA-2_PPen-None_PPha-None_PPco-None_PPde-None_PPno-True_PPcr-None_PPre-True_drop-0.0_trainjustclassifier-False_1681422850960654/new_test_pred_best\n",
                  "Saving the scores in best_results/DA2_noPP_2/tf_efficientnet_b6_fold-1_lrinit-0.0001_batchsize-4_optimizer-AdamW_maxepochs-150_DA-2_PPen-None_PPha-None_PPco-None_PPde-None_PPno-True_PPcr-None_PPre-True_drop-0.0_trainjustclassifier-False_1681422850960654/new_test_pred_last\n",
                  "Saving the scores in best_results/DA2_noPP_2/efficientnet_b3_fold-1_lrinit-0.0001_batchsize-32_optimizer-Adam_maxepochs-150_DA-2_PPen-None_PPha-None_PPco-None_PPde-None_PPno-True_PPcr-None_PPre-True_drop-0.0_trainjustclassifier-False_1681445848894776/new_test_pred_best\n",
                  "Saving the scores in best_results/DA2_noPP_2/efficientnet_b3_fold-1_lrinit-0.0001_batchsize-32_optimizer-Adam_maxepochs-150_DA-2_PPen-None_PPha-None_PPco-None_PPde-None_PPno-True_PPcr-None_PPre-True_drop-0.0_trainjustclassifier-False_1681445848894776/new_test_pred_last\n",
                  "Saving the scores in best_results/DA2_noPP_2/efficientnet_b2_fold-1_lrinit-0.0001_batchsize-8_optimizer-Adam_maxepochs-150_DA-2_PPen-None_PPha-None_PPco-None_PPde-None_PPno-True_PPcr-None_PPre-True_drop-0.0_trainjustclassifier-False_16814434111313226/new_test_pred_best\n",
                  "Saving the scores in best_results/DA2_noPP_2/efficientnet_b2_fold-1_lrinit-0.0001_batchsize-8_optimizer-Adam_maxepochs-150_DA-2_PPen-None_PPha-None_PPco-None_PPde-None_PPno-True_PPcr-None_PPre-True_drop-0.0_trainjustclassifier-False_16814434111313226/new_test_pred_last\n",
                  "Saving the scores in best_results/DA2_noPP_2/pnasnet5large_fold-1_lrinit-0.0001_batchsize-8_optimizer-Adam_maxepochs-150_DA-2_PPen-None_PPha-None_PPco-None_PPde-None_PPno-True_PPcr-None_PPre-True_drop-0.0_trainjustclassifier-False_16814675826845403/new_test_pred_best\n",
                  "Saving the scores in best_results/DA2_noPP_2/pnasnet5large_fold-1_lrinit-0.0001_batchsize-8_optimizer-Adam_maxepochs-150_DA-2_PPen-None_PPha-None_PPco-None_PPde-None_PPno-True_PPcr-None_PPre-True_drop-0.0_trainjustclassifier-False_16814675826845403/new_test_pred_last\n",
                  "Saving the scores in best_results/DA2_noPP_2/resnext101_32x8d_fold-1_lrinit-0.0001_batchsize-8_optimizer-SGD_maxepochs-150_DA-2_PPen-None_PPha-None_PPco-None_PPde-None_PPno-True_PPcr-None_PPre-True_drop-0.0_trainjustclassifier-False_1681464473871762/new_test_pred_best\n",
                  "Saving the scores in best_results/DA2_noPP_2/resnext101_32x8d_fold-1_lrinit-0.0001_batchsize-8_optimizer-SGD_maxepochs-150_DA-2_PPen-None_PPha-None_PPco-None_PPde-None_PPno-True_PPcr-None_PPre-True_drop-0.0_trainjustclassifier-False_1681464473871762/new_test_pred_last\n",
                  "Saving the scores in best_results/DA2_noPP_2/tf_efficientnet_b5_fold-1_lrinit-0.0001_batchsize-8_optimizer-AdamW_maxepochs-150_DA-2_PPen-None_PPha-None_PPco-None_PPde-None_PPno-True_PPcr-None_PPre-True_drop-0.0_trainjustclassifier-False_16814177232163067/new_test_pred_best\n",
                  "Saving the scores in best_results/DA2_noPP_2/tf_efficientnet_b5_fold-1_lrinit-0.0001_batchsize-8_optimizer-AdamW_maxepochs-150_DA-2_PPen-None_PPha-None_PPco-None_PPde-None_PPno-True_PPcr-None_PPre-True_drop-0.0_trainjustclassifier-False_16814177232163067/new_test_pred_last\n",
                  "Saving the scores in best_results/DA2_noPP_2/efficientnet_b0_fold-1_lrinit-0.0001_batchsize-8_optimizer-AdamW_maxepochs-150_DA-2_PPen-None_PPha-None_PPco-None_PPde-None_PPno-True_PPcr-None_PPre-True_drop-0.0_trainjustclassifier-False_16814374852851868/new_test_pred_best\n",
                  "Saving the scores in best_results/DA2_noPP_2/efficientnet_b0_fold-1_lrinit-0.0001_batchsize-8_optimizer-AdamW_maxepochs-150_DA-2_PPen-None_PPha-None_PPco-None_PPde-None_PPno-True_PPcr-None_PPre-True_drop-0.0_trainjustclassifier-False_16814374852851868/new_test_pred_last\n",
                  "Saving the scores in best_results/DA2_noPP_2/efficientnet_b4_fold-1_lrinit-0.0001_batchsize-16_optimizer-AdamW_maxepochs-150_DA-2_PPen-None_PPha-None_PPco-None_PPde-None_PPno-True_PPcr-None_PPre-True_drop-0.0_trainjustclassifier-False_16814492199618587/new_test_pred_best\n",
                  "Saving the scores in best_results/DA2_noPP_2/efficientnet_b4_fold-1_lrinit-0.0001_batchsize-16_optimizer-AdamW_maxepochs-150_DA-2_PPen-None_PPha-None_PPco-None_PPde-None_PPno-True_PPcr-None_PPre-True_drop-0.0_trainjustclassifier-False_16814492199618587/new_test_pred_last\n",
                  "Experimento:  DA2_cropped_images_folder_150_epochs_lr_init_0001\n",
                  "Saving the scores in best_results/DA2_cropped_images_folder_150_epochs_lr_init_0001/efficientnet_b2_fold-1_lrinit-0.0001_batchsize-8_optimizer-Adam_maxepochs-150_DA-2_PPen-None_PPha-None_PPco-None_PPde-None_PPno-True_PPcr-cropped_images_folder_PPre-True_drop-0.0_trainjustclassifier-False_16810087423860724/new_test_pred_best\n",
                  "Saving the scores in best_results/DA2_cropped_images_folder_150_epochs_lr_init_0001/efficientnet_b2_fold-1_lrinit-0.0001_batchsize-8_optimizer-Adam_maxepochs-150_DA-2_PPen-None_PPha-None_PPco-None_PPde-None_PPno-True_PPcr-cropped_images_folder_PPre-True_drop-0.0_trainjustclassifier-False_16810087423860724/new_test_pred_last\n",
                  "Saving the scores in best_results/DA2_cropped_images_folder_150_epochs_lr_init_0001/vgg19_fold-1_lrinit-0.0001_batchsize-8_optimizer-SGD_maxepochs-150_DA-2_PPen-None_PPha-None_PPco-None_PPde-None_PPno-True_PPcr-cropped_images_folder_PPre-True_drop-0.0_trainjustclassifier-False_16810297184616091/new_test_pred_best\n",
                  "Saving the scores in best_results/DA2_cropped_images_folder_150_epochs_lr_init_0001/vgg19_fold-1_lrinit-0.0001_batchsize-8_optimizer-SGD_maxepochs-150_DA-2_PPen-None_PPha-None_PPco-None_PPde-None_PPno-True_PPcr-cropped_images_folder_PPre-True_drop-0.0_trainjustclassifier-False_16810297184616091/new_test_pred_last\n",
                  "Saving the scores in best_results/DA2_cropped_images_folder_150_epochs_lr_init_0001/tf_efficientnet_b6_fold-1_lrinit-0.0001_batchsize-4_optimizer-AdamW_maxepochs-150_DA-2_PPen-None_PPha-None_PPco-None_PPde-None_PPno-True_PPcr-cropped_images_folder_PPre-True_drop-0.0_trainjustclassifier-False_16809864483458076/new_test_pred_best\n",
                  "Saving the scores in best_results/DA2_cropped_images_folder_150_epochs_lr_init_0001/tf_efficientnet_b6_fold-1_lrinit-0.0001_batchsize-4_optimizer-AdamW_maxepochs-150_DA-2_PPen-None_PPha-None_PPco-None_PPde-None_PPno-True_PPcr-cropped_images_folder_PPre-True_drop-0.0_trainjustclassifier-False_16809864483458076/new_test_pred_last\n",
                  "Saving the scores in best_results/DA2_cropped_images_folder_150_epochs_lr_init_0001/seresnext101_32x8d_fold-1_lrinit-0.0001_batchsize-16_optimizer-Adam_maxepochs-150_DA-2_PPen-None_PPha-None_PPco-None_PPde-None_PPno-True_PPcr-cropped_images_folder_PPre-True_drop-0.0_trainjustclassifier-False_16810261204698606/new_test_pred_best\n",
                  "Saving the scores in best_results/DA2_cropped_images_folder_150_epochs_lr_init_0001/seresnext101_32x8d_fold-1_lrinit-0.0001_batchsize-16_optimizer-Adam_maxepochs-150_DA-2_PPen-None_PPha-None_PPco-None_PPde-None_PPno-True_PPcr-cropped_images_folder_PPre-True_drop-0.0_trainjustclassifier-False_16810261204698606/new_test_pred_last\n",
                  "Saving the scores in best_results/DA2_cropped_images_folder_150_epochs_lr_init_0001/tf_efficientnet_b5_fold-1_lrinit-0.0001_batchsize-8_optimizer-AdamW_maxepochs-150_DA-2_PPen-None_PPha-None_PPco-None_PPde-None_PPno-True_PPcr-cropped_images_folder_PPre-True_drop-0.0_trainjustclassifier-False_1680980641509845/new_test_pred_best\n",
                  "Saving the scores in best_results/DA2_cropped_images_folder_150_epochs_lr_init_0001/tf_efficientnet_b5_fold-1_lrinit-0.0001_batchsize-8_optimizer-AdamW_maxepochs-150_DA-2_PPen-None_PPha-None_PPco-None_PPde-None_PPno-True_PPcr-cropped_images_folder_PPre-True_drop-0.0_trainjustclassifier-False_1680980641509845/new_test_pred_last\n",
                  "Saving the scores in best_results/DA2_cropped_images_folder_150_epochs_lr_init_0001/efficientnet_b0_fold-1_lrinit-0.0001_batchsize-8_optimizer-AdamW_maxepochs-150_DA-2_PPen-None_PPha-None_PPco-None_PPde-None_PPno-True_PPcr-cropped_images_folder_PPre-True_drop-0.0_trainjustclassifier-False_1681000912877577/new_test_pred_best\n",
                  "Saving the scores in best_results/DA2_cropped_images_folder_150_epochs_lr_init_0001/efficientnet_b0_fold-1_lrinit-0.0001_batchsize-8_optimizer-AdamW_maxepochs-150_DA-2_PPen-None_PPha-None_PPco-None_PPde-None_PPno-True_PPcr-cropped_images_folder_PPre-True_drop-0.0_trainjustclassifier-False_1681000912877577/new_test_pred_last\n",
                  "Saving the scores in best_results/DA2_cropped_images_folder_150_epochs_lr_init_0001/efficientnet_b3_fold-1_lrinit-0.0001_batchsize-32_optimizer-Adam_maxepochs-150_DA-2_PPen-None_PPha-None_PPco-None_PPde-None_PPno-True_PPcr-cropped_images_folder_PPre-True_drop-0.0_trainjustclassifier-False_16810131800766995/new_test_pred_best\n",
                  "Saving the scores in best_results/DA2_cropped_images_folder_150_epochs_lr_init_0001/efficientnet_b3_fold-1_lrinit-0.0001_batchsize-32_optimizer-Adam_maxepochs-150_DA-2_PPen-None_PPha-None_PPco-None_PPde-None_PPno-True_PPcr-cropped_images_folder_PPre-True_drop-0.0_trainjustclassifier-False_16810131800766995/new_test_pred_last\n",
                  "Saving the scores in best_results/DA2_cropped_images_folder_150_epochs_lr_init_0001/pnasnet5large_fold-1_lrinit-0.0001_batchsize-8_optimizer-Adam_maxepochs-150_DA-2_PPen-None_PPha-None_PPco-None_PPde-None_PPno-True_PPcr-cropped_images_folder_PPre-True_drop-0.0_trainjustclassifier-False_16810379559582262/new_test_pred_best\n",
                  "Saving the scores in best_results/DA2_cropped_images_folder_150_epochs_lr_init_0001/pnasnet5large_fold-1_lrinit-0.0001_batchsize-8_optimizer-Adam_maxepochs-150_DA-2_PPen-None_PPha-None_PPco-None_PPde-None_PPno-True_PPcr-cropped_images_folder_PPre-True_drop-0.0_trainjustclassifier-False_16810379559582262/new_test_pred_last\n",
                  "Saving the scores in best_results/DA2_cropped_images_folder_150_epochs_lr_init_0001/resnext101_32x8d_fold-1_lrinit-0.0001_batchsize-8_optimizer-SGD_maxepochs-150_DA-2_PPen-None_PPha-None_PPco-None_PPde-None_PPno-True_PPcr-cropped_images_folder_PPre-True_drop-0.0_trainjustclassifier-False_16810334656661913/new_test_pred_best\n",
                  "Saving the scores in best_results/DA2_cropped_images_folder_150_epochs_lr_init_0001/resnext101_32x8d_fold-1_lrinit-0.0001_batchsize-8_optimizer-SGD_maxepochs-150_DA-2_PPen-None_PPha-None_PPco-None_PPde-None_PPno-True_PPcr-cropped_images_folder_PPre-True_drop-0.0_trainjustclassifier-False_16810334656661913/new_test_pred_last\n",
                  "Saving the scores in best_results/DA2_cropped_images_folder_150_epochs_lr_init_0001/densenet121_fold-1_lrinit-0.0001_batchsize-32_optimizer-Adam_maxepochs-150_DA-2_PPen-None_PPha-None_PPco-None_PPde-None_PPno-True_PPcr-cropped_images_folder_PPre-True_drop-0.0_trainjustclassifier-False_1680996651329713/new_test_pred_best\n",
                  "Saving the scores in best_results/DA2_cropped_images_folder_150_epochs_lr_init_0001/densenet121_fold-1_lrinit-0.0001_batchsize-32_optimizer-Adam_maxepochs-150_DA-2_PPen-None_PPha-None_PPco-None_PPde-None_PPno-True_PPcr-cropped_images_folder_PPre-True_drop-0.0_trainjustclassifier-False_1680996651329713/new_test_pred_last\n",
                  "Saving the scores in best_results/DA2_cropped_images_folder_150_epochs_lr_init_0001/efficientnet_b1_fold-1_lrinit-0.0001_batchsize-8_optimizer-AdamW_maxepochs-150_DA-2_PPen-None_PPha-None_PPco-None_PPde-None_PPno-True_PPcr-cropped_images_folder_PPre-True_drop-0.0_trainjustclassifier-False_16810043473864698/new_test_pred_best\n",
                  "Saving the scores in best_results/DA2_cropped_images_folder_150_epochs_lr_init_0001/efficientnet_b1_fold-1_lrinit-0.0001_batchsize-8_optimizer-AdamW_maxepochs-150_DA-2_PPen-None_PPha-None_PPco-None_PPde-None_PPno-True_PPcr-cropped_images_folder_PPre-True_drop-0.0_trainjustclassifier-False_16810043473864698/new_test_pred_last\n",
                  "Saving the scores in best_results/DA2_cropped_images_folder_150_epochs_lr_init_0001/resnest101e_fold-1_lrinit-0.0001_batchsize-8_optimizer-AdamW_maxepochs-150_DA-2_PPen-None_PPha-None_PPco-None_PPde-None_PPno-True_PPcr-cropped_images_folder_PPre-True_drop-0.0_trainjustclassifier-False_16810217410545385/new_test_pred_best\n",
                  "Saving the scores in best_results/DA2_cropped_images_folder_150_epochs_lr_init_0001/resnest101e_fold-1_lrinit-0.0001_batchsize-8_optimizer-AdamW_maxepochs-150_DA-2_PPen-None_PPha-None_PPco-None_PPde-None_PPno-True_PPcr-cropped_images_folder_PPre-True_drop-0.0_trainjustclassifier-False_16810217410545385/new_test_pred_last\n",
                  "Saving the scores in best_results/DA2_cropped_images_folder_150_epochs_lr_init_0001/efficientnet_b4_fold-1_lrinit-0.0001_batchsize-16_optimizer-AdamW_maxepochs-150_DA-2_PPen-None_PPha-None_PPco-None_PPde-None_PPno-True_PPcr-cropped_images_folder_PPre-True_drop-0.0_trainjustclassifier-False_16810173028538978/new_test_pred_best\n",
                  "Saving the scores in best_results/DA2_cropped_images_folder_150_epochs_lr_init_0001/efficientnet_b4_fold-1_lrinit-0.0001_batchsize-16_optimizer-AdamW_maxepochs-150_DA-2_PPen-None_PPha-None_PPco-None_PPde-None_PPno-True_PPcr-cropped_images_folder_PPre-True_drop-0.0_trainjustclassifier-False_16810173028538978/new_test_pred_last\n",
                  "Experimento:  non_local_means_cropped_images_folder\n",
                  "Experimento:  noDA_dull_razor_shades_of_gray_cropped_images_folder\n",
                  "Saving the scores in best_results/noDA_dull_razor_shades_of_gray_cropped_images_folder/vgg19_fold-1_lrinit-0.001_batchsize-8_optimizer-SGD_maxepochs-50_DA-None_PPen-None_PPha-dull_razor_PPco-shades_of_gray_PPde-None_PPno-True_PPcr-cropped_images_folder_PPre-True_drop-0.0_trainjustclassifier-False_16825349449442933/new_test_pred_best\n",
                  "Saving the scores in best_results/noDA_dull_razor_shades_of_gray_cropped_images_folder/vgg19_fold-1_lrinit-0.001_batchsize-8_optimizer-SGD_maxepochs-50_DA-None_PPen-None_PPha-dull_razor_PPco-shades_of_gray_PPde-None_PPno-True_PPcr-cropped_images_folder_PPre-True_drop-0.0_trainjustclassifier-False_16825349449442933/new_test_pred_last\n",
                  "Saving the scores in best_results/noDA_dull_razor_shades_of_gray_cropped_images_folder/efficientnet_b3_fold-1_lrinit-0.001_batchsize-32_optimizer-Adam_maxepochs-50_DA-None_PPen-None_PPha-dull_razor_PPco-shades_of_gray_PPde-None_PPno-True_PPcr-cropped_images_folder_PPre-True_drop-0.0_trainjustclassifier-False_1682526417761025/new_test_pred_best\n",
                  "Saving the scores in best_results/noDA_dull_razor_shades_of_gray_cropped_images_folder/efficientnet_b3_fold-1_lrinit-0.001_batchsize-32_optimizer-Adam_maxepochs-50_DA-None_PPen-None_PPha-dull_razor_PPco-shades_of_gray_PPde-None_PPno-True_PPcr-cropped_images_folder_PPre-True_drop-0.0_trainjustclassifier-False_1682526417761025/new_test_pred_last\n",
                  "Saving the scores in best_results/noDA_dull_razor_shades_of_gray_cropped_images_folder/tf_efficientnet_b6_fold-1_lrinit-0.0001_batchsize-4_optimizer-AdamW_maxepochs-50_DA-None_PPen-None_PPha-dull_razor_PPco-shades_of_gray_PPde-None_PPno-True_PPcr-cropped_images_folder_PPre-True_drop-0.0_trainjustclassifier-False_16825152851770678/new_test_pred_best\n",
                  "Saving the scores in best_results/noDA_dull_razor_shades_of_gray_cropped_images_folder/tf_efficientnet_b6_fold-1_lrinit-0.0001_batchsize-4_optimizer-AdamW_maxepochs-50_DA-None_PPen-None_PPha-dull_razor_PPco-shades_of_gray_PPde-None_PPno-True_PPcr-cropped_images_folder_PPre-True_drop-0.0_trainjustclassifier-False_16825152851770678/new_test_pred_last\n",
                  "Saving the scores in best_results/noDA_dull_razor_shades_of_gray_cropped_images_folder/resnext101_32x8d_fold-1_lrinit-0.001_batchsize-8_optimizer-SGD_maxepochs-50_DA-None_PPen-None_PPha-dull_razor_PPco-shades_of_gray_PPde-None_PPno-True_PPcr-cropped_images_folder_PPre-True_drop-0.0_trainjustclassifier-False_1682535898045892/new_test_pred_best\n",
                  "Saving the scores in best_results/noDA_dull_razor_shades_of_gray_cropped_images_folder/resnext101_32x8d_fold-1_lrinit-0.001_batchsize-8_optimizer-SGD_maxepochs-50_DA-None_PPen-None_PPha-dull_razor_PPco-shades_of_gray_PPde-None_PPno-True_PPcr-cropped_images_folder_PPre-True_drop-0.0_trainjustclassifier-False_1682535898045892/new_test_pred_last\n",
                  "Saving the scores in best_results/noDA_dull_razor_shades_of_gray_cropped_images_folder/seresnext101_32x8d_fold-1_lrinit-0.0001_batchsize-16_optimizer-Adam_maxepochs-50_DA-None_PPen-None_PPha-dull_razor_PPco-shades_of_gray_PPde-None_PPno-True_PPcr-cropped_images_folder_PPre-True_drop-0.0_trainjustclassifier-False_16825329943675957/new_test_pred_best\n",
                  "Saving the scores in best_results/noDA_dull_razor_shades_of_gray_cropped_images_folder/seresnext101_32x8d_fold-1_lrinit-0.0001_batchsize-16_optimizer-Adam_maxepochs-50_DA-None_PPen-None_PPha-dull_razor_PPco-shades_of_gray_PPde-None_PPno-True_PPcr-cropped_images_folder_PPre-True_drop-0.0_trainjustclassifier-False_16825329943675957/new_test_pred_last\n",
                  "Saving the scores in best_results/noDA_dull_razor_shades_of_gray_cropped_images_folder/resnest101e_fold-1_lrinit-0.0001_batchsize-8_optimizer-AdamW_maxepochs-50_DA-None_PPen-None_PPha-dull_razor_PPco-shades_of_gray_PPde-None_PPno-True_PPcr-cropped_images_folder_PPre-True_drop-0.0_trainjustclassifier-False_16825308629700255/new_test_pred_best\n",
                  "Saving the scores in best_results/noDA_dull_razor_shades_of_gray_cropped_images_folder/resnest101e_fold-1_lrinit-0.0001_batchsize-8_optimizer-AdamW_maxepochs-50_DA-None_PPen-None_PPha-dull_razor_PPco-shades_of_gray_PPde-None_PPno-True_PPcr-cropped_images_folder_PPre-True_drop-0.0_trainjustclassifier-False_16825308629700255/new_test_pred_last\n",
                  "Saving the scores in best_results/noDA_dull_razor_shades_of_gray_cropped_images_folder/pnasnet5large_fold-1_lrinit-0.0001_batchsize-8_optimizer-Adam_maxepochs-50_DA-None_PPen-None_PPha-dull_razor_PPco-shades_of_gray_PPde-None_PPno-True_PPcr-cropped_images_folder_PPre-True_drop-0.0_trainjustclassifier-False_16825375743950531/new_test_pred_best\n",
                  "Saving the scores in best_results/noDA_dull_razor_shades_of_gray_cropped_images_folder/pnasnet5large_fold-1_lrinit-0.0001_batchsize-8_optimizer-Adam_maxepochs-50_DA-None_PPen-None_PPha-dull_razor_PPco-shades_of_gray_PPde-None_PPno-True_PPcr-cropped_images_folder_PPre-True_drop-0.0_trainjustclassifier-False_16825375743950531/new_test_pred_last\n",
                  "Saving the scores in best_results/noDA_dull_razor_shades_of_gray_cropped_images_folder/densenet121_fold-1_lrinit-0.0001_batchsize-32_optimizer-Adam_maxepochs-50_DA-None_PPen-None_PPha-dull_razor_PPco-shades_of_gray_PPde-None_PPno-True_PPcr-cropped_images_folder_PPre-True_drop-0.0_trainjustclassifier-False_16825225851621077/new_test_pred_best\n",
                  "Saving the scores in best_results/noDA_dull_razor_shades_of_gray_cropped_images_folder/densenet121_fold-1_lrinit-0.0001_batchsize-32_optimizer-Adam_maxepochs-50_DA-None_PPen-None_PPha-dull_razor_PPco-shades_of_gray_PPde-None_PPno-True_PPcr-cropped_images_folder_PPre-True_drop-0.0_trainjustclassifier-False_16825225851621077/new_test_pred_last\n",
                  "Saving the scores in best_results/noDA_dull_razor_shades_of_gray_cropped_images_folder/efficientnet_b4_fold-1_lrinit-0.001_batchsize-16_optimizer-AdamW_maxepochs-50_DA-None_PPen-None_PPha-dull_razor_PPco-shades_of_gray_PPde-None_PPno-True_PPcr-cropped_images_folder_PPre-True_drop-0.0_trainjustclassifier-False_16825282385916965/new_test_pred_best\n",
                  "Saving the scores in best_results/noDA_dull_razor_shades_of_gray_cropped_images_folder/efficientnet_b4_fold-1_lrinit-0.001_batchsize-16_optimizer-AdamW_maxepochs-50_DA-None_PPen-None_PPha-dull_razor_PPco-shades_of_gray_PPde-None_PPno-True_PPcr-cropped_images_folder_PPre-True_drop-0.0_trainjustclassifier-False_16825282385916965/new_test_pred_last\n",
                  "Saving the scores in best_results/noDA_dull_razor_shades_of_gray_cropped_images_folder/efficientnet_b1_fold-1_lrinit-0.001_batchsize-8_optimizer-AdamW_maxepochs-50_DA-None_PPen-None_PPha-dull_razor_PPco-shades_of_gray_PPde-None_PPno-True_PPcr-cropped_images_folder_PPre-True_drop-0.0_trainjustclassifier-False_16825243129059732/new_test_pred_best\n",
                  "Saving the scores in best_results/noDA_dull_razor_shades_of_gray_cropped_images_folder/efficientnet_b1_fold-1_lrinit-0.001_batchsize-8_optimizer-AdamW_maxepochs-50_DA-None_PPen-None_PPha-dull_razor_PPco-shades_of_gray_PPde-None_PPno-True_PPcr-cropped_images_folder_PPre-True_drop-0.0_trainjustclassifier-False_16825243129059732/new_test_pred_last\n",
                  "Saving the scores in best_results/noDA_dull_razor_shades_of_gray_cropped_images_folder/tf_efficientnet_b5_fold-1_lrinit-0.0001_batchsize-8_optimizer-AdamW_maxepochs-50_DA-None_PPen-None_PPha-dull_razor_PPco-shades_of_gray_PPde-None_PPno-True_PPcr-cropped_images_folder_PPre-True_drop-0.0_trainjustclassifier-False_16825105857389314/new_test_pred_best\n",
                  "Saving the scores in best_results/noDA_dull_razor_shades_of_gray_cropped_images_folder/tf_efficientnet_b5_fold-1_lrinit-0.0001_batchsize-8_optimizer-AdamW_maxepochs-50_DA-None_PPen-None_PPha-dull_razor_PPco-shades_of_gray_PPde-None_PPno-True_PPcr-cropped_images_folder_PPre-True_drop-0.0_trainjustclassifier-False_16825105857389314/new_test_pred_last\n",
                  "Saving the scores in best_results/noDA_dull_razor_shades_of_gray_cropped_images_folder/efficientnet_b2_fold-1_lrinit-0.001_batchsize-8_optimizer-Adam_maxepochs-50_DA-None_PPen-None_PPha-dull_razor_PPco-shades_of_gray_PPde-None_PPno-True_PPcr-cropped_images_folder_PPre-True_drop-0.0_trainjustclassifier-False_16825254737772143/new_test_pred_best\n",
                  "Saving the scores in best_results/noDA_dull_razor_shades_of_gray_cropped_images_folder/efficientnet_b2_fold-1_lrinit-0.001_batchsize-8_optimizer-Adam_maxepochs-50_DA-None_PPen-None_PPha-dull_razor_PPco-shades_of_gray_PPde-None_PPno-True_PPcr-cropped_images_folder_PPre-True_drop-0.0_trainjustclassifier-False_16825254737772143/new_test_pred_last\n",
                  "Saving the scores in best_results/noDA_dull_razor_shades_of_gray_cropped_images_folder/efficientnet_b0_fold-1_lrinit-0.001_batchsize-8_optimizer-AdamW_maxepochs-50_DA-None_PPen-None_PPha-dull_razor_PPco-shades_of_gray_PPde-None_PPno-True_PPcr-cropped_images_folder_PPre-True_drop-0.0_trainjustclassifier-False_16825234513597636/new_test_pred_best\n",
                  "Saving the scores in best_results/noDA_dull_razor_shades_of_gray_cropped_images_folder/efficientnet_b0_fold-1_lrinit-0.001_batchsize-8_optimizer-AdamW_maxepochs-50_DA-None_PPen-None_PPha-dull_razor_PPco-shades_of_gray_PPde-None_PPno-True_PPcr-cropped_images_folder_PPre-True_drop-0.0_trainjustclassifier-False_16825234513597636/new_test_pred_last\n",
                  "Experimento:  DA1_PPcropped\n",
                  "Experimento:  gaussian_filter_2\n",
                  "Experimento:  CLAHE_cropped_images_folder\n",
                  "Experimento:  noDA_cropped_images_folder_moredata\n",
                  "Saving the scores in best_results/noDA_cropped_images_folder_moredata/vgg19_fold-1_lrinit-0.0001_batchsize-8_optimizer-SGD_maxepochs-150_DA-None_PPen-None_PPha-None_PPco-None_PPde-None_PPno-True_PPcr-cropped_images_folder_PPre-True_drop-0.0_trainjustclassifier-False_1681913308051825/new_test_pred_best\n",
                  "Saving the scores in best_results/noDA_cropped_images_folder_moredata/vgg19_fold-1_lrinit-0.0001_batchsize-8_optimizer-SGD_maxepochs-150_DA-None_PPen-None_PPha-None_PPco-None_PPde-None_PPno-True_PPcr-cropped_images_folder_PPre-True_drop-0.0_trainjustclassifier-False_1681913308051825/new_test_pred_last\n",
                  "Saving the scores in best_results/noDA_cropped_images_folder_moredata/pnasnet5large_fold-1_lrinit-0.0001_batchsize-8_optimizer-Adam_maxepochs-150_DA-None_PPen-None_PPha-None_PPco-None_PPde-None_PPno-True_PPcr-cropped_images_folder_PPre-True_drop-0.0_trainjustclassifier-False_16819202209439132/new_test_pred_best\n",
                  "Saving the scores in best_results/noDA_cropped_images_folder_moredata/pnasnet5large_fold-1_lrinit-0.0001_batchsize-8_optimizer-Adam_maxepochs-150_DA-None_PPen-None_PPha-None_PPco-None_PPde-None_PPno-True_PPcr-cropped_images_folder_PPre-True_drop-0.0_trainjustclassifier-False_16819202209439132/new_test_pred_last\n",
                  "Saving the scores in best_results/noDA_cropped_images_folder_moredata/tf_efficientnet_b5_fold-1_lrinit-0.0001_batchsize-8_optimizer-AdamW_maxepochs-150_DA-None_PPen-None_PPha-None_PPco-None_PPde-None_PPno-True_PPcr-cropped_images_folder_PPre-True_drop-0.0_trainjustclassifier-False_16818478376401415/new_test_pred_best\n",
                  "Saving the scores in best_results/noDA_cropped_images_folder_moredata/tf_efficientnet_b5_fold-1_lrinit-0.0001_batchsize-8_optimizer-AdamW_maxepochs-150_DA-None_PPen-None_PPha-None_PPco-None_PPde-None_PPno-True_PPcr-cropped_images_folder_PPre-True_drop-0.0_trainjustclassifier-False_16818478376401415/new_test_pred_last\n",
                  "Saving the scores in best_results/noDA_cropped_images_folder_moredata/efficientnet_b4_fold-1_lrinit-0.0001_batchsize-16_optimizer-AdamW_maxepochs-150_DA-None_PPen-None_PPha-None_PPco-None_PPde-None_PPno-True_PPcr-cropped_images_folder_PPre-True_drop-0.0_trainjustclassifier-False_16818977118134513/new_test_pred_best\n",
                  "Saving the scores in best_results/noDA_cropped_images_folder_moredata/efficientnet_b4_fold-1_lrinit-0.0001_batchsize-16_optimizer-AdamW_maxepochs-150_DA-None_PPen-None_PPha-None_PPco-None_PPde-None_PPno-True_PPcr-cropped_images_folder_PPre-True_drop-0.0_trainjustclassifier-False_16818977118134513/new_test_pred_last\n",
                  "Saving the scores in best_results/noDA_cropped_images_folder_moredata/efficientnet_b3_fold-1_lrinit-0.0001_batchsize-32_optimizer-Adam_maxepochs-150_DA-None_PPen-None_PPha-None_PPco-None_PPde-None_PPno-True_PPcr-cropped_images_folder_PPre-True_drop-0.0_trainjustclassifier-False_16818942727766182/new_test_pred_best\n",
                  "Saving the scores in best_results/noDA_cropped_images_folder_moredata/efficientnet_b3_fold-1_lrinit-0.0001_batchsize-32_optimizer-Adam_maxepochs-150_DA-None_PPen-None_PPha-None_PPco-None_PPde-None_PPno-True_PPcr-cropped_images_folder_PPre-True_drop-0.0_trainjustclassifier-False_16818942727766182/new_test_pred_last\n",
                  "Saving the scores in best_results/noDA_cropped_images_folder_moredata/densenet121_fold-1_lrinit-0.0001_batchsize-32_optimizer-Adam_maxepochs-150_DA-None_PPen-None_PPha-None_PPco-None_PPde-None_PPno-True_PPcr-cropped_images_folder_PPre-True_drop-0.0_trainjustclassifier-False_16818835483984635/new_test_pred_best\n",
                  "Saving the scores in best_results/noDA_cropped_images_folder_moredata/densenet121_fold-1_lrinit-0.0001_batchsize-32_optimizer-Adam_maxepochs-150_DA-None_PPen-None_PPha-None_PPco-None_PPde-None_PPno-True_PPcr-cropped_images_folder_PPre-True_drop-0.0_trainjustclassifier-False_16818835483984635/new_test_pred_last\n",
                  "Saving the scores in best_results/noDA_cropped_images_folder_moredata/tf_efficientnet_b6_fold-1_lrinit-0.0001_batchsize-4_optimizer-AdamW_maxepochs-150_DA-None_PPen-None_PPha-None_PPco-None_PPde-None_PPno-True_PPcr-cropped_images_folder_PPre-True_drop-0.0_trainjustclassifier-False_16818611328499074/new_test_pred_best\n",
                  "Saving the scores in best_results/noDA_cropped_images_folder_moredata/tf_efficientnet_b6_fold-1_lrinit-0.0001_batchsize-4_optimizer-AdamW_maxepochs-150_DA-None_PPen-None_PPha-None_PPco-None_PPde-None_PPno-True_PPcr-cropped_images_folder_PPre-True_drop-0.0_trainjustclassifier-False_16818611328499074/new_test_pred_last\n",
                  "Saving the scores in best_results/noDA_cropped_images_folder_moredata/efficientnet_b0_fold-1_lrinit-0.0001_batchsize-8_optimizer-AdamW_maxepochs-150_DA-None_PPen-None_PPha-None_PPco-None_PPde-None_PPno-True_PPcr-cropped_images_folder_PPre-True_drop-0.0_trainjustclassifier-False_16818856591661925/new_test_pred_best\n",
                  "Saving the scores in best_results/noDA_cropped_images_folder_moredata/efficientnet_b0_fold-1_lrinit-0.0001_batchsize-8_optimizer-AdamW_maxepochs-150_DA-None_PPen-None_PPha-None_PPco-None_PPde-None_PPno-True_PPcr-cropped_images_folder_PPre-True_drop-0.0_trainjustclassifier-False_16818856591661925/new_test_pred_last\n",
                  "Saving the scores in best_results/noDA_cropped_images_folder_moredata/seresnext101_32x8d_fold-1_lrinit-0.0001_batchsize-16_optimizer-Adam_maxepochs-150_DA-None_PPen-None_PPha-None_PPco-None_PPde-None_PPno-True_PPcr-cropped_images_folder_PPre-True_drop-0.0_trainjustclassifier-False_16819084292445116/new_test_pred_best\n",
                  "Saving the scores in best_results/noDA_cropped_images_folder_moredata/seresnext101_32x8d_fold-1_lrinit-0.0001_batchsize-16_optimizer-Adam_maxepochs-150_DA-None_PPen-None_PPha-None_PPco-None_PPde-None_PPno-True_PPcr-cropped_images_folder_PPre-True_drop-0.0_trainjustclassifier-False_16819084292445116/new_test_pred_last\n",
                  "Saving the scores in best_results/noDA_cropped_images_folder_moredata/efficientnet_b2_fold-1_lrinit-0.0001_batchsize-8_optimizer-Adam_maxepochs-150_DA-None_PPen-None_PPha-None_PPco-None_PPde-None_PPno-True_PPcr-cropped_images_folder_PPre-True_drop-0.0_trainjustclassifier-False_16818903286434815/new_test_pred_best\n",
                  "Saving the scores in best_results/noDA_cropped_images_folder_moredata/efficientnet_b2_fold-1_lrinit-0.0001_batchsize-8_optimizer-Adam_maxepochs-150_DA-None_PPen-None_PPha-None_PPco-None_PPde-None_PPno-True_PPcr-cropped_images_folder_PPre-True_drop-0.0_trainjustclassifier-False_16818903286434815/new_test_pred_last\n",
                  "Saving the scores in best_results/noDA_cropped_images_folder_moredata/resnest101e_fold-1_lrinit-0.0001_batchsize-8_optimizer-AdamW_maxepochs-150_DA-None_PPen-None_PPha-None_PPco-None_PPde-None_PPno-True_PPcr-cropped_images_folder_PPre-True_drop-0.0_trainjustclassifier-False_16819033352343764/new_test_pred_best\n",
                  "Saving the scores in best_results/noDA_cropped_images_folder_moredata/resnest101e_fold-1_lrinit-0.0001_batchsize-8_optimizer-AdamW_maxepochs-150_DA-None_PPen-None_PPha-None_PPco-None_PPde-None_PPno-True_PPcr-cropped_images_folder_PPre-True_drop-0.0_trainjustclassifier-False_16819033352343764/new_test_pred_last\n",
                  "Saving the scores in best_results/noDA_cropped_images_folder_moredata/resnext101_32x8d_fold-1_lrinit-0.0001_batchsize-8_optimizer-SGD_maxepochs-150_DA-None_PPen-None_PPha-None_PPco-None_PPde-None_PPno-True_PPcr-cropped_images_folder_PPre-True_drop-0.0_trainjustclassifier-False_16819162580527058/new_test_pred_best\n",
                  "Saving the scores in best_results/noDA_cropped_images_folder_moredata/resnext101_32x8d_fold-1_lrinit-0.0001_batchsize-8_optimizer-SGD_maxepochs-150_DA-None_PPen-None_PPha-None_PPco-None_PPde-None_PPno-True_PPcr-cropped_images_folder_PPre-True_drop-0.0_trainjustclassifier-False_16819162580527058/new_test_pred_last\n",
                  "Saving the scores in best_results/noDA_cropped_images_folder_moredata/efficientnet_b1_fold-1_lrinit-0.0001_batchsize-8_optimizer-AdamW_maxepochs-150_DA-None_PPen-None_PPha-None_PPco-None_PPde-None_PPno-True_PPcr-cropped_images_folder_PPre-True_drop-0.0_trainjustclassifier-False_16818877195517857/new_test_pred_best\n",
                  "Saving the scores in best_results/noDA_cropped_images_folder_moredata/efficientnet_b1_fold-1_lrinit-0.0001_batchsize-8_optimizer-AdamW_maxepochs-150_DA-None_PPen-None_PPha-None_PPco-None_PPde-None_PPno-True_PPcr-cropped_images_folder_PPre-True_drop-0.0_trainjustclassifier-False_16818877195517857/new_test_pred_last\n",
                  "Experimento:  dull_razor_cropped_images_folder\n",
                  "Experimento:  noDA_dull_razor_shades_of_gray_cropped_images_folder_150_epochs\n",
                  "Saving the scores in best_results/noDA_dull_razor_shades_of_gray_cropped_images_folder_150_epochs/efficientnet_b4_fold-1_lrinit-0.0001_batchsize-16_optimizer-AdamW_maxepochs-150_DA-None_PPen-None_PPha-dull_razor_PPco-shades_of_gray_PPde-None_PPno-True_PPcr-cropped_images_folder_PPre-True_drop-0.0_trainjustclassifier-False_16823892574605808/new_test_pred_best\n",
                  "Saving the scores in best_results/noDA_dull_razor_shades_of_gray_cropped_images_folder_150_epochs/efficientnet_b4_fold-1_lrinit-0.0001_batchsize-16_optimizer-AdamW_maxepochs-150_DA-None_PPen-None_PPha-dull_razor_PPco-shades_of_gray_PPde-None_PPno-True_PPcr-cropped_images_folder_PPre-True_drop-0.0_trainjustclassifier-False_16823892574605808/new_test_pred_last\n",
                  "Saving the scores in best_results/noDA_dull_razor_shades_of_gray_cropped_images_folder_150_epochs/efficientnet_b3_fold-1_lrinit-0.0001_batchsize-32_optimizer-Adam_maxepochs-150_DA-None_PPen-None_PPha-dull_razor_PPco-shades_of_gray_PPde-None_PPno-True_PPcr-cropped_images_folder_PPre-True_drop-0.0_trainjustclassifier-False_1682385088902471/new_test_pred_best\n",
                  "Saving the scores in best_results/noDA_dull_razor_shades_of_gray_cropped_images_folder_150_epochs/efficientnet_b3_fold-1_lrinit-0.0001_batchsize-32_optimizer-Adam_maxepochs-150_DA-None_PPen-None_PPha-dull_razor_PPco-shades_of_gray_PPde-None_PPno-True_PPcr-cropped_images_folder_PPre-True_drop-0.0_trainjustclassifier-False_1682385088902471/new_test_pred_last\n",
                  "Saving the scores in best_results/noDA_dull_razor_shades_of_gray_cropped_images_folder_150_epochs/densenet121_fold-1_lrinit-0.0001_batchsize-32_optimizer-Adam_maxepochs-150_DA-None_PPen-None_PPha-dull_razor_PPco-shades_of_gray_PPde-None_PPno-True_PPcr-cropped_images_folder_PPre-True_drop-0.0_trainjustclassifier-False_1682369569401821/new_test_pred_best\n",
                  "Saving the scores in best_results/noDA_dull_razor_shades_of_gray_cropped_images_folder_150_epochs/densenet121_fold-1_lrinit-0.0001_batchsize-32_optimizer-Adam_maxepochs-150_DA-None_PPen-None_PPha-dull_razor_PPco-shades_of_gray_PPde-None_PPno-True_PPcr-cropped_images_folder_PPre-True_drop-0.0_trainjustclassifier-False_1682369569401821/new_test_pred_last\n",
                  "Saving the scores in best_results/noDA_dull_razor_shades_of_gray_cropped_images_folder_150_epochs/resnest101e_fold-1_lrinit-0.0001_batchsize-8_optimizer-AdamW_maxepochs-150_DA-None_PPen-None_PPha-dull_razor_PPco-shades_of_gray_PPde-None_PPno-True_PPcr-cropped_images_folder_PPre-True_drop-0.0_trainjustclassifier-False_1682395819674246/new_test_pred_best\n",
                  "Saving the scores in best_results/noDA_dull_razor_shades_of_gray_cropped_images_folder_150_epochs/resnest101e_fold-1_lrinit-0.0001_batchsize-8_optimizer-AdamW_maxepochs-150_DA-None_PPen-None_PPha-dull_razor_PPco-shades_of_gray_PPde-None_PPno-True_PPcr-cropped_images_folder_PPre-True_drop-0.0_trainjustclassifier-False_1682395819674246/new_test_pred_last\n",
                  "Saving the scores in best_results/noDA_dull_razor_shades_of_gray_cropped_images_folder_150_epochs/seresnext101_32x8d_fold-1_lrinit-0.0001_batchsize-16_optimizer-Adam_maxepochs-150_DA-None_PPen-None_PPha-dull_razor_PPco-shades_of_gray_PPde-None_PPno-True_PPcr-cropped_images_folder_PPre-True_drop-0.0_trainjustclassifier-False_168240242991697/new_test_pred_best\n",
                  "Saving the scores in best_results/noDA_dull_razor_shades_of_gray_cropped_images_folder_150_epochs/seresnext101_32x8d_fold-1_lrinit-0.0001_batchsize-16_optimizer-Adam_maxepochs-150_DA-None_PPen-None_PPha-dull_razor_PPco-shades_of_gray_PPde-None_PPno-True_PPcr-cropped_images_folder_PPre-True_drop-0.0_trainjustclassifier-False_168240242991697/new_test_pred_last\n",
                  "Saving the scores in best_results/noDA_dull_razor_shades_of_gray_cropped_images_folder_150_epochs/resnext101_32x8d_fold-1_lrinit-0.0001_batchsize-8_optimizer-SGD_maxepochs-150_DA-None_PPen-None_PPha-dull_razor_PPco-shades_of_gray_PPde-None_PPno-True_PPcr-cropped_images_folder_PPre-True_drop-0.0_trainjustclassifier-False_168241101984149/new_test_pred_best\n",
                  "Saving the scores in best_results/noDA_dull_razor_shades_of_gray_cropped_images_folder_150_epochs/resnext101_32x8d_fold-1_lrinit-0.0001_batchsize-8_optimizer-SGD_maxepochs-150_DA-None_PPen-None_PPha-dull_razor_PPco-shades_of_gray_PPde-None_PPno-True_PPcr-cropped_images_folder_PPre-True_drop-0.0_trainjustclassifier-False_168241101984149/new_test_pred_last\n",
                  "Saving the scores in best_results/noDA_dull_razor_shades_of_gray_cropped_images_folder_150_epochs/tf_efficientnet_b5_fold-1_lrinit-0.0001_batchsize-8_optimizer-AdamW_maxepochs-150_DA-None_PPen-None_PPha-dull_razor_PPco-shades_of_gray_PPde-None_PPno-True_PPcr-cropped_images_folder_PPre-True_drop-0.0_trainjustclassifier-False_16823028421539016/new_test_pred_best\n",
                  "Saving the scores in best_results/noDA_dull_razor_shades_of_gray_cropped_images_folder_150_epochs/tf_efficientnet_b5_fold-1_lrinit-0.0001_batchsize-8_optimizer-AdamW_maxepochs-150_DA-None_PPen-None_PPha-dull_razor_PPco-shades_of_gray_PPde-None_PPno-True_PPcr-cropped_images_folder_PPre-True_drop-0.0_trainjustclassifier-False_16823028421539016/new_test_pred_last\n",
                  "Saving the scores in best_results/noDA_dull_razor_shades_of_gray_cropped_images_folder_150_epochs/efficientnet_b1_fold-1_lrinit-0.0001_batchsize-8_optimizer-AdamW_maxepochs-150_DA-None_PPen-None_PPha-dull_razor_PPco-shades_of_gray_PPde-None_PPno-True_PPcr-cropped_images_folder_PPre-True_drop-0.0_trainjustclassifier-False_16823764181729941/new_test_pred_best\n",
                  "Saving the scores in best_results/noDA_dull_razor_shades_of_gray_cropped_images_folder_150_epochs/efficientnet_b1_fold-1_lrinit-0.0001_batchsize-8_optimizer-AdamW_maxepochs-150_DA-None_PPen-None_PPha-dull_razor_PPco-shades_of_gray_PPde-None_PPno-True_PPcr-cropped_images_folder_PPre-True_drop-0.0_trainjustclassifier-False_16823764181729941/new_test_pred_last\n",
                  "Saving the scores in best_results/noDA_dull_razor_shades_of_gray_cropped_images_folder_150_epochs/efficientnet_b2_fold-1_lrinit-0.0001_batchsize-8_optimizer-Adam_maxepochs-150_DA-None_PPen-None_PPha-dull_razor_PPco-shades_of_gray_PPde-None_PPno-True_PPcr-cropped_images_folder_PPre-True_drop-0.0_trainjustclassifier-False_1682380044156221/new_test_pred_best\n",
                  "Saving the scores in best_results/noDA_dull_razor_shades_of_gray_cropped_images_folder_150_epochs/efficientnet_b2_fold-1_lrinit-0.0001_batchsize-8_optimizer-Adam_maxepochs-150_DA-None_PPen-None_PPha-dull_razor_PPco-shades_of_gray_PPde-None_PPno-True_PPcr-cropped_images_folder_PPre-True_drop-0.0_trainjustclassifier-False_1682380044156221/new_test_pred_last\n",
                  "Saving the scores in best_results/noDA_dull_razor_shades_of_gray_cropped_images_folder_150_epochs/efficientnet_b0_fold-1_lrinit-0.0001_batchsize-8_optimizer-AdamW_maxepochs-150_DA-None_PPen-None_PPha-dull_razor_PPco-shades_of_gray_PPde-None_PPno-True_PPcr-cropped_images_folder_PPre-True_drop-0.0_trainjustclassifier-False_1682373005312041/new_test_pred_best\n",
                  "Saving the scores in best_results/noDA_dull_razor_shades_of_gray_cropped_images_folder_150_epochs/efficientnet_b0_fold-1_lrinit-0.0001_batchsize-8_optimizer-AdamW_maxepochs-150_DA-None_PPen-None_PPha-dull_razor_PPco-shades_of_gray_PPde-None_PPno-True_PPcr-cropped_images_folder_PPre-True_drop-0.0_trainjustclassifier-False_1682373005312041/new_test_pred_last\n",
                  "Saving the scores in best_results/noDA_dull_razor_shades_of_gray_cropped_images_folder_150_epochs/tf_efficientnet_b6_fold-1_lrinit-0.0001_batchsize-4_optimizer-AdamW_maxepochs-150_DA-None_PPen-None_PPha-dull_razor_PPco-shades_of_gray_PPde-None_PPno-True_PPcr-cropped_images_folder_PPre-True_drop-0.0_trainjustclassifier-False_16823395184003966/new_test_pred_best\n",
                  "Saving the scores in best_results/noDA_dull_razor_shades_of_gray_cropped_images_folder_150_epochs/tf_efficientnet_b6_fold-1_lrinit-0.0001_batchsize-4_optimizer-AdamW_maxepochs-150_DA-None_PPen-None_PPha-dull_razor_PPco-shades_of_gray_PPde-None_PPno-True_PPcr-cropped_images_folder_PPre-True_drop-0.0_trainjustclassifier-False_16823395184003966/new_test_pred_last\n",
                  "Saving the scores in best_results/noDA_dull_razor_shades_of_gray_cropped_images_folder_150_epochs/pnasnet5large_fold-1_lrinit-0.0001_batchsize-8_optimizer-Adam_maxepochs-150_DA-None_PPen-None_PPha-dull_razor_PPco-shades_of_gray_PPde-None_PPno-True_PPcr-cropped_images_folder_PPre-True_drop-0.0_trainjustclassifier-False_1682426150983503/new_test_pred_best\n",
                  "Saving the scores in best_results/noDA_dull_razor_shades_of_gray_cropped_images_folder_150_epochs/pnasnet5large_fold-1_lrinit-0.0001_batchsize-8_optimizer-Adam_maxepochs-150_DA-None_PPen-None_PPha-dull_razor_PPco-shades_of_gray_PPde-None_PPno-True_PPcr-cropped_images_folder_PPre-True_drop-0.0_trainjustclassifier-False_1682426150983503/new_test_pred_last\n",
                  "Saving the scores in best_results/noDA_dull_razor_shades_of_gray_cropped_images_folder_150_epochs/vgg19_fold-1_lrinit-0.0001_batchsize-8_optimizer-SGD_maxepochs-150_DA-None_PPen-None_PPha-dull_razor_PPco-shades_of_gray_PPde-None_PPno-True_PPcr-cropped_images_folder_PPre-True_drop-0.0_trainjustclassifier-False_16824069562662187/new_test_pred_best\n",
                  "Saving the scores in best_results/noDA_dull_razor_shades_of_gray_cropped_images_folder_150_epochs/vgg19_fold-1_lrinit-0.0001_batchsize-8_optimizer-SGD_maxepochs-150_DA-None_PPen-None_PPha-dull_razor_PPco-shades_of_gray_PPde-None_PPno-True_PPcr-cropped_images_folder_PPre-True_drop-0.0_trainjustclassifier-False_16824069562662187/new_test_pred_last\n",
                  "Experimento:  dropout_05\n",
                  "Saving the scores in best_results/dropout_05/densenet121_fold-1_lrinit-0.0001_batchsize-32_optimizer-Adam_maxepochs-50_DA-None_PPen-None_PPha-None_PPco-None_PPde-None_PPno-True_PPcr-None_PPre-True_drop-0.5_trainjustclassifier-False_16805412253763137/new_test_pred_best\n",
                  "Saving the scores in best_results/dropout_05/densenet121_fold-1_lrinit-0.0001_batchsize-32_optimizer-Adam_maxepochs-50_DA-None_PPen-None_PPha-None_PPco-None_PPde-None_PPno-True_PPcr-None_PPre-True_drop-0.5_trainjustclassifier-False_16805412253763137/new_test_pred_last\n",
                  "Saving the scores in best_results/dropout_05/tf_efficientnet_b5_fold-1_lrinit-0.0001_batchsize-8_optimizer-AdamW_maxepochs-50_DA-None_PPen-None_PPha-None_PPco-None_PPde-None_PPno-True_PPcr-None_PPre-True_drop-0.5_trainjustclassifier-False_1680518210092265/new_test_pred_best\n",
                  "Saving the scores in best_results/dropout_05/tf_efficientnet_b5_fold-1_lrinit-0.0001_batchsize-8_optimizer-AdamW_maxepochs-50_DA-None_PPen-None_PPha-None_PPco-None_PPde-None_PPno-True_PPcr-None_PPre-True_drop-0.5_trainjustclassifier-False_1680518210092265/new_test_pred_last\n",
                  "Saving the scores in best_results/dropout_05/vgg19_fold-1_lrinit-0.001_batchsize-8_optimizer-SGD_maxepochs-50_DA-None_PPen-None_PPha-None_PPco-None_PPde-None_PPno-True_PPcr-None_PPre-True_drop-0.5_trainjustclassifier-False_16805547207788615/new_test_pred_best\n",
                  "Saving the scores in best_results/dropout_05/vgg19_fold-1_lrinit-0.001_batchsize-8_optimizer-SGD_maxepochs-50_DA-None_PPen-None_PPha-None_PPco-None_PPde-None_PPno-True_PPcr-None_PPre-True_drop-0.5_trainjustclassifier-False_16805547207788615/new_test_pred_last\n",
                  "Saving the scores in best_results/dropout_05/efficientnet_b4_fold-1_lrinit-0.001_batchsize-16_optimizer-AdamW_maxepochs-50_DA-None_PPen-None_PPha-None_PPco-None_PPde-None_PPno-True_PPcr-None_PPre-True_drop-0.5_trainjustclassifier-False_16805498295986323/new_test_pred_best\n",
                  "Saving the scores in best_results/dropout_05/efficientnet_b4_fold-1_lrinit-0.001_batchsize-16_optimizer-AdamW_maxepochs-50_DA-None_PPen-None_PPha-None_PPco-None_PPde-None_PPno-True_PPcr-None_PPre-True_drop-0.5_trainjustclassifier-False_16805498295986323/new_test_pred_last\n",
                  "Saving the scores in best_results/dropout_05/efficientnet_b2_fold-1_lrinit-0.001_batchsize-8_optimizer-Adam_maxepochs-50_DA-None_PPen-None_PPha-None_PPco-None_PPde-None_PPno-True_PPcr-None_PPre-True_drop-0.5_trainjustclassifier-False_1680546303133419/new_test_pred_best\n",
                  "Saving the scores in best_results/dropout_05/efficientnet_b2_fold-1_lrinit-0.001_batchsize-8_optimizer-Adam_maxepochs-50_DA-None_PPen-None_PPha-None_PPco-None_PPde-None_PPno-True_PPcr-None_PPre-True_drop-0.5_trainjustclassifier-False_1680546303133419/new_test_pred_last\n",
                  "Saving the scores in best_results/dropout_05/resnest101e_fold-1_lrinit-0.0001_batchsize-8_optimizer-AdamW_maxepochs-50_DA-None_PPen-None_PPha-None_PPco-None_PPde-None_PPno-True_PPcr-None_PPre-True_drop-0.5_trainjustclassifier-False_1680551962225462/new_test_pred_best\n",
                  "Saving the scores in best_results/dropout_05/resnest101e_fold-1_lrinit-0.0001_batchsize-8_optimizer-AdamW_maxepochs-50_DA-None_PPen-None_PPha-None_PPco-None_PPde-None_PPno-True_PPcr-None_PPre-True_drop-0.5_trainjustclassifier-False_1680551962225462/new_test_pred_last\n",
                  "Saving the scores in best_results/dropout_05/pnasnet5large_fold-1_lrinit-0.0001_batchsize-8_optimizer-Adam_maxepochs-50_DA-None_PPen-None_PPha-None_PPco-None_PPde-None_PPno-True_PPcr-None_PPre-True_drop-0.5_trainjustclassifier-False_16805576363528137/new_test_pred_best\n",
                  "Saving the scores in best_results/dropout_05/pnasnet5large_fold-1_lrinit-0.0001_batchsize-8_optimizer-Adam_maxepochs-50_DA-None_PPen-None_PPha-None_PPco-None_PPde-None_PPno-True_PPcr-None_PPre-True_drop-0.5_trainjustclassifier-False_16805576363528137/new_test_pred_last\n",
                  "Saving the scores in best_results/dropout_05/efficientnet_b1_fold-1_lrinit-0.001_batchsize-8_optimizer-AdamW_maxepochs-50_DA-None_PPen-None_PPha-None_PPco-None_PPde-None_PPno-True_PPcr-None_PPre-True_drop-0.5_trainjustclassifier-False_16805443882956307/new_test_pred_best\n",
                  "Saving the scores in best_results/dropout_05/efficientnet_b1_fold-1_lrinit-0.001_batchsize-8_optimizer-AdamW_maxepochs-50_DA-None_PPen-None_PPha-None_PPco-None_PPde-None_PPno-True_PPcr-None_PPre-True_drop-0.5_trainjustclassifier-False_16805443882956307/new_test_pred_last\n",
                  "Erro no experimento  dropout_05\n",
                  "[Errno 2] No such file or directory: 'best_results/dropout_05/seresnext101_32x8d_fold-1_lrinit-0.0001_batchsize-32_optimizer-Adam_maxepochs-50_DA-None_PPen-None_PPha-None_PPco-None_PPde-None_PPno-True_PPcr-None_PPre-True_drop-0.5_trainjustclassifier-False_16805547061762884/test_pred_best/predictions.csv'\n",
                  "Experimento:  noDA_PPcropped_2\n",
                  "Saving the scores in best_results/noDA_PPcropped_2/efficientnet_b3_fold-1_lrinit-0.001_batchsize-32_optimizer-Adam_maxepochs-50_DA-None_PPen-None_PPha-None_PPco-None_PPde-None_PPno-True_PPcr-cropped_images_folder_PPre-True_1679975490817778/new_test_pred_best\n",
                  "Saving the scores in best_results/noDA_PPcropped_2/efficientnet_b3_fold-1_lrinit-0.001_batchsize-32_optimizer-Adam_maxepochs-50_DA-None_PPen-None_PPha-None_PPco-None_PPde-None_PPno-True_PPcr-cropped_images_folder_PPre-True_1679975490817778/new_test_pred_last\n",
                  "Saving the scores in best_results/noDA_PPcropped_2/seresnext101_32x8d_fold-1_lrinit-0.0001_batchsize-32_optimizer-Adam_maxepochs-50_DA-None_PPen-None_PPha-None_PPco-None_PPde-None_PPno-True_PPcr-cropped_images_folder_PPre-True_1679977774466725/new_test_pred_best\n",
                  "Saving the scores in best_results/noDA_PPcropped_2/seresnext101_32x8d_fold-1_lrinit-0.0001_batchsize-32_optimizer-Adam_maxepochs-50_DA-None_PPen-None_PPha-None_PPco-None_PPde-None_PPno-True_PPcr-cropped_images_folder_PPre-True_1679977774466725/new_test_pred_last\n",
                  "Saving the scores in best_results/noDA_PPcropped_2/efficientnet_b2_fold-1_lrinit-0.001_batchsize-8_optimizer-Adam_maxepochs-50_DA-None_PPen-None_PPha-None_PPco-None_PPde-None_PPno-True_PPcr-cropped_images_folder_PPre-True_1679974649748128/new_test_pred_best\n",
                  "Saving the scores in best_results/noDA_PPcropped_2/efficientnet_b2_fold-1_lrinit-0.001_batchsize-8_optimizer-Adam_maxepochs-50_DA-None_PPen-None_PPha-None_PPco-None_PPde-None_PPno-True_PPcr-cropped_images_folder_PPre-True_1679974649748128/new_test_pred_last\n",
                  "Saving the scores in best_results/noDA_PPcropped_2/resnest101e_fold-1_lrinit-0.0001_batchsize-8_optimizer-AdamW_maxepochs-50_DA-None_PPen-None_PPha-None_PPco-None_PPde-None_PPno-True_PPcr-cropped_images_folder_PPre-True_1679977061915959/new_test_pred_best\n",
                  "Saving the scores in best_results/noDA_PPcropped_2/resnest101e_fold-1_lrinit-0.0001_batchsize-8_optimizer-AdamW_maxepochs-50_DA-None_PPen-None_PPha-None_PPco-None_PPde-None_PPno-True_PPcr-cropped_images_folder_PPre-True_1679977061915959/new_test_pred_last\n",
                  "Saving the scores in best_results/noDA_PPcropped_2/vgg19_fold-1_lrinit-0.001_batchsize-8_optimizer-SGD_maxepochs-50_DA-None_PPen-None_PPha-None_PPco-None_PPde-None_PPno-True_PPcr-cropped_images_folder_PPre-True_1679979018399696/new_test_pred_best\n",
                  "Saving the scores in best_results/noDA_PPcropped_2/vgg19_fold-1_lrinit-0.001_batchsize-8_optimizer-SGD_maxepochs-50_DA-None_PPen-None_PPha-None_PPco-None_PPde-None_PPno-True_PPcr-cropped_images_folder_PPre-True_1679979018399696/new_test_pred_last\n",
                  "Saving the scores in best_results/noDA_PPcropped_2/tf_efficientnet_b5_fold-1_lrinit-0.0001_batchsize-8_optimizer-AdamW_maxepochs-50_DA-None_PPen-None_PPha-None_PPco-None_PPde-None_PPno-True_PPcr-cropped_images_folder_PPre-True_16803016725145428/new_test_pred_best\n",
                  "Saving the scores in best_results/noDA_PPcropped_2/tf_efficientnet_b5_fold-1_lrinit-0.0001_batchsize-8_optimizer-AdamW_maxepochs-50_DA-None_PPen-None_PPha-None_PPco-None_PPde-None_PPno-True_PPcr-cropped_images_folder_PPre-True_16803016725145428/new_test_pred_last\n",
                  "Saving the scores in best_results/noDA_PPcropped_2/pnasnet5large_fold-1_lrinit-0.0001_batchsize-8_optimizer-Adam_maxepochs-50_DA-None_PPen-None_PPha-None_PPco-None_PPde-None_PPno-True_PPcr-cropped_images_folder_PPre-True_16799809351589878/new_test_pred_best\n",
                  "Saving the scores in best_results/noDA_PPcropped_2/pnasnet5large_fold-1_lrinit-0.0001_batchsize-8_optimizer-Adam_maxepochs-50_DA-None_PPen-None_PPha-None_PPco-None_PPde-None_PPno-True_PPcr-cropped_images_folder_PPre-True_16799809351589878/new_test_pred_last\n",
                  "Saving the scores in best_results/noDA_PPcropped_2/densenet121_fold-1_lrinit-0.0001_batchsize-32_optimizer-Adam_maxepochs-50_DA-None_PPen-None_PPha-None_PPco-None_PPde-None_PPno-True_PPcr-cropped_images_folder_PPre-True_16803166081359787/new_test_pred_best\n",
                  "Saving the scores in best_results/noDA_PPcropped_2/densenet121_fold-1_lrinit-0.0001_batchsize-32_optimizer-Adam_maxepochs-50_DA-None_PPen-None_PPha-None_PPco-None_PPde-None_PPno-True_PPcr-cropped_images_folder_PPre-True_16803166081359787/new_test_pred_last\n",
                  "Saving the scores in best_results/noDA_PPcropped_2/tf_efficientnet_b6_fold-1_lrinit-0.0001_batchsize-4_optimizer-AdamW_maxepochs-50_DA-None_PPen-None_PPha-None_PPco-None_PPde-None_PPno-True_PPcr-cropped_images_folder_PPre-True_16803072304927084/new_test_pred_best\n",
                  "Saving the scores in best_results/noDA_PPcropped_2/tf_efficientnet_b6_fold-1_lrinit-0.0001_batchsize-4_optimizer-AdamW_maxepochs-50_DA-None_PPen-None_PPha-None_PPco-None_PPde-None_PPno-True_PPcr-cropped_images_folder_PPre-True_16803072304927084/new_test_pred_last\n",
                  "Saving the scores in best_results/noDA_PPcropped_2/resnext101_32x8d_fold-1_lrinit-0.001_batchsize-8_optimizer-SGD_maxepochs-50_DA-None_PPen-None_PPha-None_PPco-None_PPde-None_PPno-True_PPcr-cropped_images_folder_PPre-True_16799801705856357/new_test_pred_best\n",
                  "Saving the scores in best_results/noDA_PPcropped_2/resnext101_32x8d_fold-1_lrinit-0.001_batchsize-8_optimizer-SGD_maxepochs-50_DA-None_PPen-None_PPha-None_PPco-None_PPde-None_PPno-True_PPcr-cropped_images_folder_PPre-True_16799801705856357/new_test_pred_last\n",
                  "Saving the scores in best_results/noDA_PPcropped_2/efficientnet_b1_fold-1_lrinit-0.001_batchsize-8_optimizer-AdamW_maxepochs-50_DA-None_PPen-None_PPha-None_PPco-None_PPde-None_PPno-True_PPcr-cropped_images_folder_PPre-True_16799738159650958/new_test_pred_best\n",
                  "Saving the scores in best_results/noDA_PPcropped_2/efficientnet_b1_fold-1_lrinit-0.001_batchsize-8_optimizer-AdamW_maxepochs-50_DA-None_PPen-None_PPha-None_PPco-None_PPde-None_PPno-True_PPcr-cropped_images_folder_PPre-True_16799738159650958/new_test_pred_last\n",
                  "Saving the scores in best_results/noDA_PPcropped_2/efficientnet_b4_fold-1_lrinit-0.001_batchsize-16_optimizer-AdamW_maxepochs-50_DA-None_PPen-None_PPha-None_PPco-None_PPde-None_PPno-True_PPcr-cropped_images_folder_PPre-True_16799763855938356/new_test_pred_best\n",
                  "Saving the scores in best_results/noDA_PPcropped_2/efficientnet_b4_fold-1_lrinit-0.001_batchsize-16_optimizer-AdamW_maxepochs-50_DA-None_PPen-None_PPha-None_PPco-None_PPde-None_PPno-True_PPcr-cropped_images_folder_PPre-True_16799763855938356/new_test_pred_last\n",
                  "Saving the scores in best_results/noDA_PPcropped_2/efficientnet_b0_fold-1_lrinit-0.001_batchsize-8_optimizer-AdamW_maxepochs-50_DA-None_PPen-None_PPha-None_PPco-None_PPde-None_PPno-True_PPcr-cropped_images_folder_PPre-True_16799728220125427/new_test_pred_best\n",
                  "Saving the scores in best_results/noDA_PPcropped_2/efficientnet_b0_fold-1_lrinit-0.001_batchsize-8_optimizer-AdamW_maxepochs-50_DA-None_PPen-None_PPha-None_PPco-None_PPde-None_PPno-True_PPcr-cropped_images_folder_PPre-True_16799728220125427/new_test_pred_last\n",
                  "Experimento:  DA2_noPP\n",
                  "Experimento:  DA0_noPP_2\n",
                  "Saving the scores in best_results/DA0_noPP_2/efficientnet_b4_fold-1_lrinit-0.001_batchsize-16_optimizer-AdamW_maxepochs-50_DA-0_PPen-None_PPha-None_PPco-None_PPde-None_PPno-True_PPcr-None_PPre-True_drop-0.0_trainjustclassifier-False_16806197912069666/new_test_pred_best\n",
                  "Saving the scores in best_results/DA0_noPP_2/efficientnet_b4_fold-1_lrinit-0.001_batchsize-16_optimizer-AdamW_maxepochs-50_DA-0_PPen-None_PPha-None_PPco-None_PPde-None_PPno-True_PPcr-None_PPre-True_drop-0.0_trainjustclassifier-False_16806197912069666/new_test_pred_last\n",
                  "Saving the scores in best_results/DA0_noPP_2/densenet121_fold-1_lrinit-0.0001_batchsize-32_optimizer-Adam_maxepochs-50_DA-0_PPen-None_PPha-None_PPco-None_PPde-None_PPno-True_PPcr-None_PPre-True_drop-0.0_trainjustclassifier-False_16806101543831158/new_test_pred_best\n",
                  "Saving the scores in best_results/DA0_noPP_2/densenet121_fold-1_lrinit-0.0001_batchsize-32_optimizer-Adam_maxepochs-50_DA-0_PPen-None_PPha-None_PPco-None_PPde-None_PPno-True_PPcr-None_PPre-True_drop-0.0_trainjustclassifier-False_16806101543831158/new_test_pred_last\n",
                  "Saving the scores in best_results/DA0_noPP_2/efficientnet_b0_fold-1_lrinit-0.001_batchsize-8_optimizer-AdamW_maxepochs-50_DA-0_PPen-None_PPha-None_PPco-None_PPde-None_PPno-True_PPcr-None_PPre-True_drop-0.0_trainjustclassifier-False_16806113457391913/new_test_pred_best\n",
                  "Saving the scores in best_results/DA0_noPP_2/efficientnet_b0_fold-1_lrinit-0.001_batchsize-8_optimizer-AdamW_maxepochs-50_DA-0_PPen-None_PPha-None_PPco-None_PPde-None_PPno-True_PPcr-None_PPre-True_drop-0.0_trainjustclassifier-False_16806113457391913/new_test_pred_last\n",
                  "Saving the scores in best_results/DA0_noPP_2/pnasnet5large_fold-1_lrinit-0.0001_batchsize-8_optimizer-Adam_maxepochs-50_DA-0_PPen-None_PPha-None_PPco-None_PPde-None_PPno-True_PPcr-None_PPre-True_drop-0.0_trainjustclassifier-False_16806303237798963/new_test_pred_best\n",
                  "Saving the scores in best_results/DA0_noPP_2/pnasnet5large_fold-1_lrinit-0.0001_batchsize-8_optimizer-Adam_maxepochs-50_DA-0_PPen-None_PPha-None_PPco-None_PPde-None_PPno-True_PPcr-None_PPre-True_drop-0.0_trainjustclassifier-False_16806303237798963/new_test_pred_last\n",
                  "Saving the scores in best_results/DA0_noPP_2/vgg19_fold-1_lrinit-0.001_batchsize-8_optimizer-SGD_maxepochs-50_DA-0_PPen-None_PPha-None_PPco-None_PPde-None_PPno-True_PPcr-None_PPre-True_drop-0.0_trainjustclassifier-False_16806266830996523/new_test_pred_best\n",
                  "Saving the scores in best_results/DA0_noPP_2/vgg19_fold-1_lrinit-0.001_batchsize-8_optimizer-SGD_maxepochs-50_DA-0_PPen-None_PPha-None_PPco-None_PPde-None_PPno-True_PPcr-None_PPre-True_drop-0.0_trainjustclassifier-False_16806266830996523/new_test_pred_last\n",
                  "Saving the scores in best_results/DA0_noPP_2/tf_efficientnet_b6_fold-1_lrinit-0.0001_batchsize-4_optimizer-AdamW_maxepochs-50_DA-0_PPen-None_PPha-None_PPco-None_PPde-None_PPno-True_PPcr-None_PPre-True_drop-0.0_trainjustclassifier-False_1680606198888534/new_test_pred_best\n",
                  "Saving the scores in best_results/DA0_noPP_2/tf_efficientnet_b6_fold-1_lrinit-0.0001_batchsize-4_optimizer-AdamW_maxepochs-50_DA-0_PPen-None_PPha-None_PPco-None_PPde-None_PPno-True_PPcr-None_PPre-True_drop-0.0_trainjustclassifier-False_1680606198888534/new_test_pred_last\n",
                  "Saving the scores in best_results/DA0_noPP_2/resnest101e_fold-1_lrinit-0.0001_batchsize-8_optimizer-AdamW_maxepochs-50_DA-0_PPen-None_PPha-None_PPco-None_PPde-None_PPno-True_PPcr-None_PPre-True_drop-0.0_trainjustclassifier-False_168062238454167/new_test_pred_best\n",
                  "Saving the scores in best_results/DA0_noPP_2/resnest101e_fold-1_lrinit-0.0001_batchsize-8_optimizer-AdamW_maxepochs-50_DA-0_PPen-None_PPha-None_PPco-None_PPde-None_PPno-True_PPcr-None_PPre-True_drop-0.0_trainjustclassifier-False_168062238454167/new_test_pred_last\n",
                  "Saving the scores in best_results/DA0_noPP_2/tf_efficientnet_b5_fold-1_lrinit-0.0001_batchsize-8_optimizer-AdamW_maxepochs-50_DA-0_PPen-None_PPha-None_PPco-None_PPde-None_PPno-True_PPcr-None_PPre-True_drop-0.0_trainjustclassifier-False_16806037283904023/new_test_pred_best\n",
                  "Saving the scores in best_results/DA0_noPP_2/tf_efficientnet_b5_fold-1_lrinit-0.0001_batchsize-8_optimizer-AdamW_maxepochs-50_DA-0_PPen-None_PPha-None_PPco-None_PPde-None_PPno-True_PPcr-None_PPre-True_drop-0.0_trainjustclassifier-False_16806037283904023/new_test_pred_last\n",
                  "Saving the scores in best_results/DA0_noPP_2/seresnext101_32x8d_fold-1_lrinit-0.0001_batchsize-16_optimizer-Adam_maxepochs-50_DA-0_PPen-None_PPha-None_PPco-None_PPde-None_PPno-True_PPcr-None_PPre-True_drop-0.0_trainjustclassifier-False_16806247052784517/new_test_pred_best\n",
                  "Saving the scores in best_results/DA0_noPP_2/seresnext101_32x8d_fold-1_lrinit-0.0001_batchsize-16_optimizer-Adam_maxepochs-50_DA-0_PPen-None_PPha-None_PPco-None_PPde-None_PPno-True_PPcr-None_PPre-True_drop-0.0_trainjustclassifier-False_16806247052784517/new_test_pred_last\n",
                  "Saving the scores in best_results/DA0_noPP_2/efficientnet_b2_fold-1_lrinit-0.001_batchsize-8_optimizer-Adam_maxepochs-50_DA-0_PPen-None_PPha-None_PPco-None_PPde-None_PPno-True_PPcr-None_PPre-True_drop-0.0_trainjustclassifier-False_1680615547288359/new_test_pred_best\n",
                  "Saving the scores in best_results/DA0_noPP_2/efficientnet_b2_fold-1_lrinit-0.001_batchsize-8_optimizer-Adam_maxepochs-50_DA-0_PPen-None_PPha-None_PPco-None_PPde-None_PPno-True_PPcr-None_PPre-True_drop-0.0_trainjustclassifier-False_1680615547288359/new_test_pred_last\n",
                  "Saving the scores in best_results/DA0_noPP_2/efficientnet_b3_fold-1_lrinit-0.001_batchsize-32_optimizer-Adam_maxepochs-50_DA-0_PPen-None_PPha-None_PPco-None_PPde-None_PPno-True_PPcr-None_PPre-True_drop-0.0_trainjustclassifier-False_16806176911355217/new_test_pred_best\n",
                  "Saving the scores in best_results/DA0_noPP_2/efficientnet_b3_fold-1_lrinit-0.001_batchsize-32_optimizer-Adam_maxepochs-50_DA-0_PPen-None_PPha-None_PPco-None_PPde-None_PPno-True_PPcr-None_PPre-True_drop-0.0_trainjustclassifier-False_16806176911355217/new_test_pred_last\n",
                  "Saving the scores in best_results/DA0_noPP_2/efficientnet_b1_fold-1_lrinit-0.001_batchsize-8_optimizer-AdamW_maxepochs-50_DA-0_PPen-None_PPha-None_PPco-None_PPde-None_PPno-True_PPcr-None_PPre-True_drop-0.0_trainjustclassifier-False_1680613036278298/new_test_pred_best\n",
                  "Saving the scores in best_results/DA0_noPP_2/efficientnet_b1_fold-1_lrinit-0.001_batchsize-8_optimizer-AdamW_maxepochs-50_DA-0_PPen-None_PPha-None_PPco-None_PPde-None_PPno-True_PPcr-None_PPre-True_drop-0.0_trainjustclassifier-False_1680613036278298/new_test_pred_last\n",
                  "Saving the scores in best_results/DA0_noPP_2/resnext101_32x8d_fold-1_lrinit-0.001_batchsize-8_optimizer-SGD_maxepochs-50_DA-0_PPen-None_PPha-None_PPco-None_PPde-None_PPno-True_PPcr-None_PPre-True_drop-0.0_trainjustclassifier-False_16806289862343872/new_test_pred_best\n",
                  "Saving the scores in best_results/DA0_noPP_2/resnext101_32x8d_fold-1_lrinit-0.001_batchsize-8_optimizer-SGD_maxepochs-50_DA-0_PPen-None_PPha-None_PPco-None_PPde-None_PPno-True_PPcr-None_PPre-True_drop-0.0_trainjustclassifier-False_16806289862343872/new_test_pred_last\n",
                  "Experimento:  CLAHE_2\n",
                  "Experimento:  mean_filter_cropped_images_folder\n",
                  "Experimento:  noDA_CLAHE\n",
                  "Saving the scores in best_results/noDA_CLAHE/vgg19_fold-1_lrinit-0.0001_batchsize-8_optimizer-SGD_maxepochs-150_DA-None_PPen-CLAHE_PPha-None_PPco-None_PPde-None_PPno-True_PPcr-None_PPre-True_drop-0.0_trainjustclassifier-False_16816894113261328/new_test_pred_best\n",
                  "Saving the scores in best_results/noDA_CLAHE/vgg19_fold-1_lrinit-0.0001_batchsize-8_optimizer-SGD_maxepochs-150_DA-None_PPen-CLAHE_PPha-None_PPco-None_PPde-None_PPno-True_PPcr-None_PPre-True_drop-0.0_trainjustclassifier-False_16816894113261328/new_test_pred_last\n",
                  "Saving the scores in best_results/noDA_CLAHE/resnest101e_fold-1_lrinit-0.0001_batchsize-8_optimizer-AdamW_maxepochs-150_DA-None_PPen-CLAHE_PPha-None_PPco-None_PPde-None_PPno-True_PPcr-None_PPre-True_drop-0.0_trainjustclassifier-False_16816801786555188/new_test_pred_best\n",
                  "Saving the scores in best_results/noDA_CLAHE/resnest101e_fold-1_lrinit-0.0001_batchsize-8_optimizer-AdamW_maxepochs-150_DA-None_PPen-CLAHE_PPha-None_PPco-None_PPde-None_PPno-True_PPcr-None_PPre-True_drop-0.0_trainjustclassifier-False_16816801786555188/new_test_pred_last\n",
                  "Saving the scores in best_results/noDA_CLAHE/efficientnet_b1_fold-1_lrinit-0.0001_batchsize-8_optimizer-AdamW_maxepochs-150_DA-None_PPen-CLAHE_PPha-None_PPco-None_PPde-None_PPno-True_PPcr-None_PPre-True_drop-0.0_trainjustclassifier-False_1681664954247039/new_test_pred_best\n",
                  "Saving the scores in best_results/noDA_CLAHE/efficientnet_b1_fold-1_lrinit-0.0001_batchsize-8_optimizer-AdamW_maxepochs-150_DA-None_PPen-CLAHE_PPha-None_PPco-None_PPde-None_PPno-True_PPcr-None_PPre-True_drop-0.0_trainjustclassifier-False_1681664954247039/new_test_pred_last\n",
                  "Saving the scores in best_results/noDA_CLAHE/densenet121_fold-1_lrinit-0.0001_batchsize-32_optimizer-Adam_maxepochs-150_DA-None_PPen-CLAHE_PPha-None_PPco-None_PPde-None_PPno-True_PPcr-None_PPre-True_drop-0.0_trainjustclassifier-False_16816597618210878/new_test_pred_best\n",
                  "Saving the scores in best_results/noDA_CLAHE/densenet121_fold-1_lrinit-0.0001_batchsize-32_optimizer-Adam_maxepochs-150_DA-None_PPen-CLAHE_PPha-None_PPco-None_PPde-None_PPno-True_PPcr-None_PPre-True_drop-0.0_trainjustclassifier-False_16816597618210878/new_test_pred_last\n",
                  "Saving the scores in best_results/noDA_CLAHE/efficientnet_b3_fold-1_lrinit-0.0001_batchsize-32_optimizer-Adam_maxepochs-150_DA-None_PPen-CLAHE_PPha-None_PPco-None_PPde-None_PPno-True_PPcr-None_PPre-True_drop-0.0_trainjustclassifier-False_16816717265329654/new_test_pred_best\n",
                  "Saving the scores in best_results/noDA_CLAHE/efficientnet_b3_fold-1_lrinit-0.0001_batchsize-32_optimizer-Adam_maxepochs-150_DA-None_PPen-CLAHE_PPha-None_PPco-None_PPde-None_PPno-True_PPcr-None_PPre-True_drop-0.0_trainjustclassifier-False_16816717265329654/new_test_pred_last\n",
                  "Saving the scores in best_results/noDA_CLAHE/tf_efficientnet_b6_fold-1_lrinit-0.0001_batchsize-4_optimizer-AdamW_maxepochs-150_DA-None_PPen-CLAHE_PPha-None_PPco-None_PPde-None_PPno-True_PPcr-None_PPre-True_drop-0.0_trainjustclassifier-False_16816481990197852/new_test_pred_best\n",
                  "Saving the scores in best_results/noDA_CLAHE/tf_efficientnet_b6_fold-1_lrinit-0.0001_batchsize-4_optimizer-AdamW_maxepochs-150_DA-None_PPen-CLAHE_PPha-None_PPco-None_PPde-None_PPno-True_PPcr-None_PPre-True_drop-0.0_trainjustclassifier-False_16816481990197852/new_test_pred_last\n",
                  "Saving the scores in best_results/noDA_CLAHE/pnasnet5large_fold-1_lrinit-0.0001_batchsize-8_optimizer-Adam_maxepochs-150_DA-None_PPen-CLAHE_PPha-None_PPco-None_PPde-None_PPno-True_PPcr-None_PPre-True_drop-0.0_trainjustclassifier-False_16816973761168795/new_test_pred_best\n",
                  "Saving the scores in best_results/noDA_CLAHE/pnasnet5large_fold-1_lrinit-0.0001_batchsize-8_optimizer-Adam_maxepochs-150_DA-None_PPen-CLAHE_PPha-None_PPco-None_PPde-None_PPno-True_PPcr-None_PPre-True_drop-0.0_trainjustclassifier-False_16816973761168795/new_test_pred_last\n",
                  "Saving the scores in best_results/noDA_CLAHE/efficientnet_b0_fold-1_lrinit-0.0001_batchsize-8_optimizer-AdamW_maxepochs-150_DA-None_PPen-CLAHE_PPha-None_PPco-None_PPde-None_PPno-True_PPcr-None_PPre-True_drop-0.0_trainjustclassifier-False_1681662120484393/new_test_pred_best\n",
                  "Saving the scores in best_results/noDA_CLAHE/efficientnet_b0_fold-1_lrinit-0.0001_batchsize-8_optimizer-AdamW_maxepochs-150_DA-None_PPen-CLAHE_PPha-None_PPco-None_PPde-None_PPno-True_PPcr-None_PPre-True_drop-0.0_trainjustclassifier-False_1681662120484393/new_test_pred_last\n",
                  "Saving the scores in best_results/noDA_CLAHE/efficientnet_b4_fold-1_lrinit-0.0001_batchsize-16_optimizer-AdamW_maxepochs-150_DA-None_PPen-CLAHE_PPha-None_PPco-None_PPde-None_PPno-True_PPcr-None_PPre-True_drop-0.0_trainjustclassifier-False_16816759947938795/new_test_pred_best\n",
                  "Saving the scores in best_results/noDA_CLAHE/efficientnet_b4_fold-1_lrinit-0.0001_batchsize-16_optimizer-AdamW_maxepochs-150_DA-None_PPen-CLAHE_PPha-None_PPco-None_PPde-None_PPno-True_PPcr-None_PPre-True_drop-0.0_trainjustclassifier-False_16816759947938795/new_test_pred_last\n",
                  "Saving the scores in best_results/noDA_CLAHE/resnext101_32x8d_fold-1_lrinit-0.0001_batchsize-8_optimizer-SGD_maxepochs-150_DA-None_PPen-CLAHE_PPha-None_PPco-None_PPde-None_PPno-True_PPcr-None_PPre-True_drop-0.0_trainjustclassifier-False_16816923085853357/new_test_pred_best\n",
                  "Saving the scores in best_results/noDA_CLAHE/resnext101_32x8d_fold-1_lrinit-0.0001_batchsize-8_optimizer-SGD_maxepochs-150_DA-None_PPen-CLAHE_PPha-None_PPco-None_PPde-None_PPno-True_PPcr-None_PPre-True_drop-0.0_trainjustclassifier-False_16816923085853357/new_test_pred_last\n",
                  "Saving the scores in best_results/noDA_CLAHE/efficientnet_b2_fold-1_lrinit-0.0001_batchsize-8_optimizer-Adam_maxepochs-150_DA-None_PPen-CLAHE_PPha-None_PPco-None_PPde-None_PPno-True_PPcr-None_PPre-True_drop-0.0_trainjustclassifier-False_1681667838804931/new_test_pred_best\n",
                  "Saving the scores in best_results/noDA_CLAHE/efficientnet_b2_fold-1_lrinit-0.0001_batchsize-8_optimizer-Adam_maxepochs-150_DA-None_PPen-CLAHE_PPha-None_PPco-None_PPde-None_PPno-True_PPcr-None_PPre-True_drop-0.0_trainjustclassifier-False_1681667838804931/new_test_pred_last\n",
                  "Saving the scores in best_results/noDA_CLAHE/tf_efficientnet_b5_fold-1_lrinit-0.0001_batchsize-8_optimizer-AdamW_maxepochs-150_DA-None_PPen-CLAHE_PPha-None_PPco-None_PPde-None_PPno-True_PPcr-None_PPre-True_drop-0.0_trainjustclassifier-False_16816425417893474/new_test_pred_best\n",
                  "Saving the scores in best_results/noDA_CLAHE/tf_efficientnet_b5_fold-1_lrinit-0.0001_batchsize-8_optimizer-AdamW_maxepochs-150_DA-None_PPen-CLAHE_PPha-None_PPco-None_PPde-None_PPno-True_PPcr-None_PPre-True_drop-0.0_trainjustclassifier-False_16816425417893474/new_test_pred_last\n",
                  "Saving the scores in best_results/noDA_CLAHE/seresnext101_32x8d_fold-1_lrinit-0.0001_batchsize-16_optimizer-Adam_maxepochs-150_DA-None_PPen-CLAHE_PPha-None_PPco-None_PPde-None_PPno-True_PPcr-None_PPre-True_drop-0.0_trainjustclassifier-False_1681685279565234/new_test_pred_best\n",
                  "Saving the scores in best_results/noDA_CLAHE/seresnext101_32x8d_fold-1_lrinit-0.0001_batchsize-16_optimizer-Adam_maxepochs-150_DA-None_PPen-CLAHE_PPha-None_PPco-None_PPde-None_PPno-True_PPcr-None_PPre-True_drop-0.0_trainjustclassifier-False_1681685279565234/new_test_pred_last\n",
                  "Experimento:  train_classifier_only\n",
                  "Saving the scores in best_results/train_classifier_only/efficientnet_b4_fold-1_lrinit-0.001_batchsize-16_optimizer-AdamW_maxepochs-50_DA-None_PPen-None_PPha-None_PPco-None_PPde-None_PPno-True_PPcr-None_PPre-True_drop-0.0_trainjustclassifier-True_1680500096541792/new_test_pred_best\n",
                  "Saving the scores in best_results/train_classifier_only/efficientnet_b4_fold-1_lrinit-0.001_batchsize-16_optimizer-AdamW_maxepochs-50_DA-None_PPen-None_PPha-None_PPco-None_PPde-None_PPno-True_PPcr-None_PPre-True_drop-0.0_trainjustclassifier-True_1680500096541792/new_test_pred_last\n",
                  "Saving the scores in best_results/train_classifier_only/densenet121_fold-1_lrinit-0.0001_batchsize-32_optimizer-Adam_maxepochs-50_DA-None_PPen-None_PPha-None_PPco-None_PPde-None_PPno-True_PPcr-None_PPre-True_drop-0.0_trainjustclassifier-True_16804915526777964/new_test_pred_best\n",
                  "Saving the scores in best_results/train_classifier_only/densenet121_fold-1_lrinit-0.0001_batchsize-32_optimizer-Adam_maxepochs-50_DA-None_PPen-None_PPha-None_PPco-None_PPde-None_PPno-True_PPcr-None_PPre-True_drop-0.0_trainjustclassifier-True_16804915526777964/new_test_pred_last\n",
                  "Saving the scores in best_results/train_classifier_only/tf_efficientnet_b6_fold-1_lrinit-0.0001_batchsize-4_optimizer-AdamW_maxepochs-50_DA-None_PPen-None_PPha-None_PPco-None_PPde-None_PPno-True_PPcr-None_PPre-True_drop-0.0_trainjustclassifier-True_16804871969579828/new_test_pred_best\n",
                  "Saving the scores in best_results/train_classifier_only/tf_efficientnet_b6_fold-1_lrinit-0.0001_batchsize-4_optimizer-AdamW_maxepochs-50_DA-None_PPen-None_PPha-None_PPco-None_PPde-None_PPno-True_PPcr-None_PPre-True_drop-0.0_trainjustclassifier-True_16804871969579828/new_test_pred_last\n",
                  "Saving the scores in best_results/train_classifier_only/efficientnet_b3_fold-1_lrinit-0.001_batchsize-32_optimizer-Adam_maxepochs-50_DA-None_PPen-None_PPha-None_PPco-None_PPde-None_PPno-True_PPcr-None_PPre-True_drop-0.0_trainjustclassifier-True_16804986443696537/new_test_pred_best\n",
                  "Saving the scores in best_results/train_classifier_only/efficientnet_b3_fold-1_lrinit-0.001_batchsize-32_optimizer-Adam_maxepochs-50_DA-None_PPen-None_PPha-None_PPco-None_PPde-None_PPno-True_PPcr-None_PPre-True_drop-0.0_trainjustclassifier-True_16804986443696537/new_test_pred_last\n",
                  "Saving the scores in best_results/train_classifier_only/resnest101e_fold-1_lrinit-0.0001_batchsize-8_optimizer-AdamW_maxepochs-50_DA-None_PPen-None_PPha-None_PPco-None_PPde-None_PPno-True_PPcr-None_PPre-True_drop-0.0_trainjustclassifier-True_1680501587499534/new_test_pred_best\n",
                  "Saving the scores in best_results/train_classifier_only/resnest101e_fold-1_lrinit-0.0001_batchsize-8_optimizer-AdamW_maxepochs-50_DA-None_PPen-None_PPha-None_PPco-None_PPde-None_PPno-True_PPcr-None_PPre-True_drop-0.0_trainjustclassifier-True_1680501587499534/new_test_pred_last\n",
                  "Saving the scores in best_results/train_classifier_only/tf_efficientnet_b5_fold-1_lrinit-0.0001_batchsize-8_optimizer-AdamW_maxepochs-50_DA-None_PPen-None_PPha-None_PPco-None_PPde-None_PPno-True_PPcr-None_PPre-True_drop-0.0_trainjustclassifier-True_1680484403708894/new_test_pred_best\n",
                  "Saving the scores in best_results/train_classifier_only/tf_efficientnet_b5_fold-1_lrinit-0.0001_batchsize-8_optimizer-AdamW_maxepochs-50_DA-None_PPen-None_PPha-None_PPco-None_PPde-None_PPno-True_PPcr-None_PPre-True_drop-0.0_trainjustclassifier-True_1680484403708894/new_test_pred_last\n",
                  "Saving the scores in best_results/train_classifier_only/pnasnet5large_fold-1_lrinit-0.0001_batchsize-8_optimizer-Adam_maxepochs-50_DA-None_PPen-None_PPha-None_PPco-None_PPde-None_PPno-True_PPcr-None_PPre-True_drop-0.0_trainjustclassifier-True_16805074692852557/new_test_pred_best\n",
                  "Saving the scores in best_results/train_classifier_only/pnasnet5large_fold-1_lrinit-0.0001_batchsize-8_optimizer-Adam_maxepochs-50_DA-None_PPen-None_PPha-None_PPco-None_PPde-None_PPno-True_PPcr-None_PPre-True_drop-0.0_trainjustclassifier-True_16805074692852557/new_test_pred_last\n",
                  "Saving the scores in best_results/train_classifier_only/efficientnet_b2_fold-1_lrinit-0.001_batchsize-8_optimizer-Adam_maxepochs-50_DA-None_PPen-None_PPha-None_PPco-None_PPde-None_PPno-True_PPcr-None_PPre-True_drop-0.0_trainjustclassifier-True_16804973467605703/new_test_pred_best\n",
                  "Saving the scores in best_results/train_classifier_only/efficientnet_b2_fold-1_lrinit-0.001_batchsize-8_optimizer-Adam_maxepochs-50_DA-None_PPen-None_PPha-None_PPco-None_PPde-None_PPno-True_PPcr-None_PPre-True_drop-0.0_trainjustclassifier-True_16804973467605703/new_test_pred_last\n",
                  "Saving the scores in best_results/train_classifier_only/vgg19_fold-1_lrinit-0.001_batchsize-8_optimizer-SGD_maxepochs-50_DA-None_PPen-None_PPha-None_PPco-None_PPde-None_PPno-True_PPcr-None_PPre-True_drop-0.0_trainjustclassifier-True_16805051979458716/new_test_pred_best\n",
                  "Saving the scores in best_results/train_classifier_only/vgg19_fold-1_lrinit-0.001_batchsize-8_optimizer-SGD_maxepochs-50_DA-None_PPen-None_PPha-None_PPco-None_PPde-None_PPno-True_PPcr-None_PPre-True_drop-0.0_trainjustclassifier-True_16805051979458716/new_test_pred_last\n",
                  "Saving the scores in best_results/train_classifier_only/resnext101_32x8d_fold-1_lrinit-0.001_batchsize-8_optimizer-SGD_maxepochs-50_DA-None_PPen-None_PPha-None_PPco-None_PPde-None_PPno-True_PPcr-None_PPre-True_drop-0.0_trainjustclassifier-True_16805062784587333/new_test_pred_best\n",
                  "Saving the scores in best_results/train_classifier_only/resnext101_32x8d_fold-1_lrinit-0.001_batchsize-8_optimizer-SGD_maxepochs-50_DA-None_PPen-None_PPha-None_PPco-None_PPde-None_PPno-True_PPcr-None_PPre-True_drop-0.0_trainjustclassifier-True_16805062784587333/new_test_pred_last\n",
                  "Saving the scores in best_results/train_classifier_only/efficientnet_b1_fold-1_lrinit-0.001_batchsize-8_optimizer-AdamW_maxepochs-50_DA-None_PPen-None_PPha-None_PPco-None_PPde-None_PPno-True_PPcr-None_PPre-True_drop-0.0_trainjustclassifier-True_16804948111644619/new_test_pred_best\n",
                  "Saving the scores in best_results/train_classifier_only/efficientnet_b1_fold-1_lrinit-0.001_batchsize-8_optimizer-AdamW_maxepochs-50_DA-None_PPen-None_PPha-None_PPco-None_PPde-None_PPno-True_PPcr-None_PPre-True_drop-0.0_trainjustclassifier-True_16804948111644619/new_test_pred_last\n",
                  "Saving the scores in best_results/train_classifier_only/seresnext101_32x8d_fold-1_lrinit-0.0001_batchsize-32_optimizer-Adam_maxepochs-50_DA-None_PPen-None_PPha-None_PPco-None_PPde-None_PPno-True_PPcr-None_PPre-True_drop-0.0_trainjustclassifier-True_16805033505730631/new_test_pred_best\n",
                  "Saving the scores in best_results/train_classifier_only/seresnext101_32x8d_fold-1_lrinit-0.0001_batchsize-32_optimizer-Adam_maxepochs-50_DA-None_PPen-None_PPha-None_PPco-None_PPde-None_PPno-True_PPcr-None_PPre-True_drop-0.0_trainjustclassifier-True_16805033505730631/new_test_pred_last\n",
                  "Saving the scores in best_results/train_classifier_only/efficientnet_b0_fold-1_lrinit-0.001_batchsize-8_optimizer-AdamW_maxepochs-50_DA-None_PPen-None_PPha-None_PPco-None_PPde-None_PPno-True_PPcr-None_PPre-True_drop-0.0_trainjustclassifier-True_16804938674229348/new_test_pred_best\n",
                  "Saving the scores in best_results/train_classifier_only/efficientnet_b0_fold-1_lrinit-0.001_batchsize-8_optimizer-AdamW_maxepochs-50_DA-None_PPen-None_PPha-None_PPco-None_PPde-None_PPno-True_PPcr-None_PPre-True_drop-0.0_trainjustclassifier-True_16804938674229348/new_test_pred_last\n",
                  "Experimento:  non_local_means\n",
                  "Experimento:  dropout_02\n",
                  "Saving the scores in best_results/dropout_02/efficientnet_b1_fold-1_lrinit-0.001_batchsize-8_optimizer-AdamW_maxepochs-50_DA-None_PPen-None_PPha-None_PPco-None_PPde-None_PPno-True_PPcr-None_PPre-True_drop-0.2_trainjustclassifier-False_16805764537055814/new_test_pred_best\n",
                  "Saving the scores in best_results/dropout_02/efficientnet_b1_fold-1_lrinit-0.001_batchsize-8_optimizer-AdamW_maxepochs-50_DA-None_PPen-None_PPha-None_PPco-None_PPde-None_PPno-True_PPcr-None_PPre-True_drop-0.2_trainjustclassifier-False_16805764537055814/new_test_pred_last\n",
                  "Saving the scores in best_results/dropout_02/tf_efficientnet_b6_fold-1_lrinit-0.0001_batchsize-4_optimizer-AdamW_maxepochs-50_DA-None_PPen-None_PPha-None_PPco-None_PPde-None_PPno-True_PPcr-None_PPre-True_drop-0.2_trainjustclassifier-False_1680566870613526/new_test_pred_best\n",
                  "Saving the scores in best_results/dropout_02/tf_efficientnet_b6_fold-1_lrinit-0.0001_batchsize-4_optimizer-AdamW_maxepochs-50_DA-None_PPen-None_PPha-None_PPco-None_PPde-None_PPno-True_PPcr-None_PPre-True_drop-0.2_trainjustclassifier-False_1680566870613526/new_test_pred_last\n",
                  "Saving the scores in best_results/dropout_02/efficientnet_b4_fold-1_lrinit-0.001_batchsize-16_optimizer-AdamW_maxepochs-50_DA-None_PPen-None_PPha-None_PPco-None_PPde-None_PPno-True_PPcr-None_PPre-True_drop-0.2_trainjustclassifier-False_16805797615398247/new_test_pred_best\n",
                  "Saving the scores in best_results/dropout_02/efficientnet_b4_fold-1_lrinit-0.001_batchsize-16_optimizer-AdamW_maxepochs-50_DA-None_PPen-None_PPha-None_PPco-None_PPde-None_PPno-True_PPcr-None_PPre-True_drop-0.2_trainjustclassifier-False_16805797615398247/new_test_pred_last\n",
                  "Saving the scores in best_results/dropout_02/pnasnet5large_fold-1_lrinit-0.0001_batchsize-8_optimizer-Adam_maxepochs-50_DA-None_PPen-None_PPha-None_PPco-None_PPde-None_PPno-True_PPcr-None_PPre-True_drop-0.2_trainjustclassifier-False_16805878159869595/new_test_pred_best\n",
                  "Saving the scores in best_results/dropout_02/pnasnet5large_fold-1_lrinit-0.0001_batchsize-8_optimizer-Adam_maxepochs-50_DA-None_PPen-None_PPha-None_PPco-None_PPde-None_PPno-True_PPcr-None_PPre-True_drop-0.2_trainjustclassifier-False_16805878159869595/new_test_pred_last\n",
                  "Saving the scores in best_results/dropout_02/seresnext101_32x8d_fold-1_lrinit-0.0001_batchsize-16_optimizer-Adam_maxepochs-50_DA-None_PPen-None_PPha-None_PPco-None_PPde-None_PPno-True_PPcr-None_PPre-True_drop-0.2_trainjustclassifier-False_16805837450208387/new_test_pred_best\n",
                  "Saving the scores in best_results/dropout_02/seresnext101_32x8d_fold-1_lrinit-0.0001_batchsize-16_optimizer-Adam_maxepochs-50_DA-None_PPen-None_PPha-None_PPco-None_PPde-None_PPno-True_PPcr-None_PPre-True_drop-0.2_trainjustclassifier-False_16805837450208387/new_test_pred_last\n",
                  "Saving the scores in best_results/dropout_02/tf_efficientnet_b5_fold-1_lrinit-0.0001_batchsize-8_optimizer-AdamW_maxepochs-50_DA-None_PPen-None_PPha-None_PPco-None_PPde-None_PPno-True_PPcr-None_PPre-True_drop-0.2_trainjustclassifier-False_16806004742257001/new_test_pred_best\n",
                  "Saving the scores in best_results/dropout_02/tf_efficientnet_b5_fold-1_lrinit-0.0001_batchsize-8_optimizer-AdamW_maxepochs-50_DA-None_PPen-None_PPha-None_PPco-None_PPde-None_PPno-True_PPcr-None_PPre-True_drop-0.2_trainjustclassifier-False_16806004742257001/new_test_pred_last\n",
                  "Saving the scores in best_results/dropout_02/efficientnet_b0_fold-1_lrinit-0.001_batchsize-8_optimizer-AdamW_maxepochs-50_DA-None_PPen-None_PPha-None_PPco-None_PPde-None_PPno-True_PPcr-None_PPre-True_drop-0.2_trainjustclassifier-False_1680574696795116/new_test_pred_best\n",
                  "Saving the scores in best_results/dropout_02/efficientnet_b0_fold-1_lrinit-0.001_batchsize-8_optimizer-AdamW_maxepochs-50_DA-None_PPen-None_PPha-None_PPco-None_PPde-None_PPno-True_PPcr-None_PPre-True_drop-0.2_trainjustclassifier-False_1680574696795116/new_test_pred_last\n",
                  "Saving the scores in best_results/dropout_02/resnest101e_fold-1_lrinit-0.0001_batchsize-8_optimizer-AdamW_maxepochs-50_DA-None_PPen-None_PPha-None_PPco-None_PPde-None_PPno-True_PPcr-None_PPre-True_drop-0.2_trainjustclassifier-False_16805819404616597/new_test_pred_best\n",
                  "Saving the scores in best_results/dropout_02/resnest101e_fold-1_lrinit-0.0001_batchsize-8_optimizer-AdamW_maxepochs-50_DA-None_PPen-None_PPha-None_PPco-None_PPde-None_PPno-True_PPcr-None_PPre-True_drop-0.2_trainjustclassifier-False_16805819404616597/new_test_pred_last\n",
                  "Saving the scores in best_results/dropout_02/efficientnet_b3_fold-1_lrinit-0.001_batchsize-32_optimizer-Adam_maxepochs-50_DA-None_PPen-None_PPha-None_PPco-None_PPde-None_PPno-True_PPcr-None_PPre-True_drop-0.2_trainjustclassifier-False_16805786293697915/new_test_pred_best\n",
                  "Saving the scores in best_results/dropout_02/efficientnet_b3_fold-1_lrinit-0.001_batchsize-32_optimizer-Adam_maxepochs-50_DA-None_PPen-None_PPha-None_PPco-None_PPde-None_PPno-True_PPcr-None_PPre-True_drop-0.2_trainjustclassifier-False_16805786293697915/new_test_pred_last\n",
                  "Saving the scores in best_results/dropout_02/densenet121_fold-1_lrinit-0.0001_batchsize-32_optimizer-Adam_maxepochs-50_DA-None_PPen-None_PPha-None_PPco-None_PPde-None_PPno-True_PPcr-None_PPre-True_drop-0.2_trainjustclassifier-False_16805736291263754/new_test_pred_best\n",
                  "Saving the scores in best_results/dropout_02/densenet121_fold-1_lrinit-0.0001_batchsize-32_optimizer-Adam_maxepochs-50_DA-None_PPen-None_PPha-None_PPco-None_PPde-None_PPno-True_PPcr-None_PPre-True_drop-0.2_trainjustclassifier-False_16805736291263754/new_test_pred_last\n",
                  "Saving the scores in best_results/dropout_02/efficientnet_b2_fold-1_lrinit-0.001_batchsize-8_optimizer-Adam_maxepochs-50_DA-None_PPen-None_PPha-None_PPco-None_PPde-None_PPno-True_PPcr-None_PPre-True_drop-0.2_trainjustclassifier-False_1680577648545643/new_test_pred_best\n",
                  "Saving the scores in best_results/dropout_02/efficientnet_b2_fold-1_lrinit-0.001_batchsize-8_optimizer-Adam_maxepochs-50_DA-None_PPen-None_PPha-None_PPco-None_PPde-None_PPno-True_PPcr-None_PPre-True_drop-0.2_trainjustclassifier-False_1680577648545643/new_test_pred_last\n",
                  "Erro no experimento  dropout_02\n",
                  "[Errno 2] No such file or directory: 'best_results/dropout_02/tf_efficientnet_b5_fold-1_lrinit-0.0001_batchsize-8_optimizer-AdamW_maxepochs-50_DA-None_PPen-None_PPha-None_PPco-None_PPde-None_PPno-True_PPcr-None_PPre-True_drop-0.2_trainjustclassifier-False_16805668596310365/test_pred_best/predictions.csv'\n",
                  "Experimento:  DA2_cropped_images_folder_moredata\n",
                  "Saving the scores in best_results/DA2_cropped_images_folder_moredata/resnext101_32x8d_fold-1_lrinit-0.0001_batchsize-8_optimizer-SGD_maxepochs-150_DA-2_PPen-None_PPha-None_PPco-None_PPde-None_PPno-True_PPcr-cropped_images_folder_PPre-True_drop-0.0_trainjustclassifier-False_1682123138241818/new_test_pred_best\n",
                  "Saving the scores in best_results/DA2_cropped_images_folder_moredata/resnext101_32x8d_fold-1_lrinit-0.0001_batchsize-8_optimizer-SGD_maxepochs-150_DA-2_PPen-None_PPha-None_PPco-None_PPde-None_PPno-True_PPcr-cropped_images_folder_PPre-True_drop-0.0_trainjustclassifier-False_1682123138241818/new_test_pred_last\n",
                  "Saving the scores in best_results/DA2_cropped_images_folder_moredata/resnest101e_fold-1_lrinit-0.0001_batchsize-8_optimizer-AdamW_maxepochs-150_DA-2_PPen-None_PPha-None_PPco-None_PPde-None_PPno-True_PPcr-cropped_images_folder_PPre-True_drop-0.0_trainjustclassifier-False_16821121380953696/new_test_pred_best\n",
                  "Saving the scores in best_results/DA2_cropped_images_folder_moredata/resnest101e_fold-1_lrinit-0.0001_batchsize-8_optimizer-AdamW_maxepochs-150_DA-2_PPen-None_PPha-None_PPco-None_PPde-None_PPno-True_PPcr-cropped_images_folder_PPre-True_drop-0.0_trainjustclassifier-False_16821121380953696/new_test_pred_last\n",
                  "Saving the scores in best_results/DA2_cropped_images_folder_moredata/efficientnet_b1_fold-1_lrinit-0.0001_batchsize-8_optimizer-AdamW_maxepochs-150_DA-2_PPen-None_PPha-None_PPco-None_PPde-None_PPno-True_PPcr-cropped_images_folder_PPre-True_drop-0.0_trainjustclassifier-False_16820987809875948/new_test_pred_best\n",
                  "Saving the scores in best_results/DA2_cropped_images_folder_moredata/efficientnet_b1_fold-1_lrinit-0.0001_batchsize-8_optimizer-AdamW_maxepochs-150_DA-2_PPen-None_PPha-None_PPco-None_PPde-None_PPno-True_PPcr-cropped_images_folder_PPre-True_drop-0.0_trainjustclassifier-False_16820987809875948/new_test_pred_last\n",
                  "Saving the scores in best_results/DA2_cropped_images_folder_moredata/vgg19_fold-1_lrinit-0.0001_batchsize-8_optimizer-SGD_maxepochs-150_DA-2_PPen-None_PPha-None_PPco-None_PPde-None_PPno-True_PPcr-cropped_images_folder_PPre-True_drop-0.0_trainjustclassifier-False_168212077432753/new_test_pred_best\n",
                  "Saving the scores in best_results/DA2_cropped_images_folder_moredata/vgg19_fold-1_lrinit-0.0001_batchsize-8_optimizer-SGD_maxepochs-150_DA-2_PPen-None_PPha-None_PPco-None_PPde-None_PPno-True_PPcr-cropped_images_folder_PPre-True_drop-0.0_trainjustclassifier-False_168212077432753/new_test_pred_last\n",
                  "Saving the scores in best_results/DA2_cropped_images_folder_moredata/efficientnet_b4_fold-1_lrinit-0.0001_batchsize-16_optimizer-AdamW_maxepochs-150_DA-2_PPen-None_PPha-None_PPco-None_PPde-None_PPno-True_PPcr-cropped_images_folder_PPre-True_drop-0.0_trainjustclassifier-False_1682109770536678/new_test_pred_best\n",
                  "Saving the scores in best_results/DA2_cropped_images_folder_moredata/efficientnet_b4_fold-1_lrinit-0.0001_batchsize-16_optimizer-AdamW_maxepochs-150_DA-2_PPen-None_PPha-None_PPco-None_PPde-None_PPno-True_PPcr-cropped_images_folder_PPre-True_drop-0.0_trainjustclassifier-False_1682109770536678/new_test_pred_last\n",
                  "Saving the scores in best_results/DA2_cropped_images_folder_moredata/efficientnet_b0_fold-1_lrinit-0.0001_batchsize-8_optimizer-AdamW_maxepochs-150_DA-2_PPen-None_PPha-None_PPco-None_PPde-None_PPno-True_PPcr-cropped_images_folder_PPre-True_drop-0.0_trainjustclassifier-False_16820957585219686/new_test_pred_best\n",
                  "Saving the scores in best_results/DA2_cropped_images_folder_moredata/efficientnet_b0_fold-1_lrinit-0.0001_batchsize-8_optimizer-AdamW_maxepochs-150_DA-2_PPen-None_PPha-None_PPco-None_PPde-None_PPno-True_PPcr-cropped_images_folder_PPre-True_drop-0.0_trainjustclassifier-False_16820957585219686/new_test_pred_last\n",
                  "Saving the scores in best_results/DA2_cropped_images_folder_moredata/seresnext101_32x8d_fold-1_lrinit-0.0001_batchsize-16_optimizer-Adam_maxepochs-150_DA-2_PPen-None_PPha-None_PPco-None_PPde-None_PPno-True_PPcr-cropped_images_folder_PPre-True_drop-0.0_trainjustclassifier-False_16821174707461426/new_test_pred_best\n",
                  "Saving the scores in best_results/DA2_cropped_images_folder_moredata/seresnext101_32x8d_fold-1_lrinit-0.0001_batchsize-16_optimizer-Adam_maxepochs-150_DA-2_PPen-None_PPha-None_PPco-None_PPde-None_PPno-True_PPcr-cropped_images_folder_PPre-True_drop-0.0_trainjustclassifier-False_16821174707461426/new_test_pred_last\n",
                  "Saving the scores in best_results/DA2_cropped_images_folder_moredata/tf_efficientnet_b5_fold-1_lrinit-0.0001_batchsize-8_optimizer-AdamW_maxepochs-150_DA-2_PPen-None_PPha-None_PPco-None_PPde-None_PPno-True_PPcr-cropped_images_folder_PPre-True_drop-0.0_trainjustclassifier-False_16820536574049318/new_test_pred_best\n",
                  "Saving the scores in best_results/DA2_cropped_images_folder_moredata/tf_efficientnet_b5_fold-1_lrinit-0.0001_batchsize-8_optimizer-AdamW_maxepochs-150_DA-2_PPen-None_PPha-None_PPco-None_PPde-None_PPno-True_PPcr-cropped_images_folder_PPre-True_drop-0.0_trainjustclassifier-False_16820536574049318/new_test_pred_last\n",
                  "Saving the scores in best_results/DA2_cropped_images_folder_moredata/tf_efficientnet_b6_fold-1_lrinit-0.0001_batchsize-4_optimizer-AdamW_maxepochs-150_DA-2_PPen-None_PPha-None_PPco-None_PPde-None_PPno-True_PPcr-cropped_images_folder_PPre-True_drop-0.0_trainjustclassifier-False_16820633300837123/new_test_pred_best\n",
                  "Saving the scores in best_results/DA2_cropped_images_folder_moredata/tf_efficientnet_b6_fold-1_lrinit-0.0001_batchsize-4_optimizer-AdamW_maxepochs-150_DA-2_PPen-None_PPha-None_PPco-None_PPde-None_PPno-True_PPcr-cropped_images_folder_PPre-True_drop-0.0_trainjustclassifier-False_16820633300837123/new_test_pred_last\n",
                  "Saving the scores in best_results/DA2_cropped_images_folder_moredata/densenet121_fold-1_lrinit-0.0001_batchsize-32_optimizer-Adam_maxepochs-150_DA-2_PPen-None_PPha-None_PPco-None_PPde-None_PPno-True_PPcr-cropped_images_folder_PPre-True_drop-0.0_trainjustclassifier-False_1682092858007831/new_test_pred_best\n",
                  "Saving the scores in best_results/DA2_cropped_images_folder_moredata/densenet121_fold-1_lrinit-0.0001_batchsize-32_optimizer-Adam_maxepochs-150_DA-2_PPen-None_PPha-None_PPco-None_PPde-None_PPno-True_PPcr-cropped_images_folder_PPre-True_drop-0.0_trainjustclassifier-False_1682092858007831/new_test_pred_last\n",
                  "Saving the scores in best_results/DA2_cropped_images_folder_moredata/pnasnet5large_fold-1_lrinit-0.0001_batchsize-8_optimizer-Adam_maxepochs-150_DA-2_PPen-None_PPha-None_PPco-None_PPde-None_PPno-True_PPcr-cropped_images_folder_PPre-True_drop-0.0_trainjustclassifier-False_16821263830763178/new_test_pred_best\n",
                  "Saving the scores in best_results/DA2_cropped_images_folder_moredata/pnasnet5large_fold-1_lrinit-0.0001_batchsize-8_optimizer-Adam_maxepochs-150_DA-2_PPen-None_PPha-None_PPco-None_PPde-None_PPno-True_PPcr-cropped_images_folder_PPre-True_drop-0.0_trainjustclassifier-False_16821263830763178/new_test_pred_last\n",
                  "Saving the scores in best_results/DA2_cropped_images_folder_moredata/efficientnet_b3_fold-1_lrinit-0.0001_batchsize-32_optimizer-Adam_maxepochs-150_DA-2_PPen-None_PPha-None_PPco-None_PPde-None_PPno-True_PPcr-cropped_images_folder_PPre-True_drop-0.0_trainjustclassifier-False_16821068436546268/new_test_pred_best\n",
                  "Saving the scores in best_results/DA2_cropped_images_folder_moredata/efficientnet_b3_fold-1_lrinit-0.0001_batchsize-32_optimizer-Adam_maxepochs-150_DA-2_PPen-None_PPha-None_PPco-None_PPde-None_PPno-True_PPcr-cropped_images_folder_PPre-True_drop-0.0_trainjustclassifier-False_16821068436546268/new_test_pred_last\n",
                  "Saving the scores in best_results/DA2_cropped_images_folder_moredata/efficientnet_b2_fold-1_lrinit-0.0001_batchsize-8_optimizer-Adam_maxepochs-150_DA-2_PPen-None_PPha-None_PPco-None_PPde-None_PPno-True_PPcr-cropped_images_folder_PPre-True_drop-0.0_trainjustclassifier-False_16821027277812304/new_test_pred_best\n",
                  "Saving the scores in best_results/DA2_cropped_images_folder_moredata/efficientnet_b2_fold-1_lrinit-0.0001_batchsize-8_optimizer-Adam_maxepochs-150_DA-2_PPen-None_PPha-None_PPco-None_PPde-None_PPno-True_PPcr-cropped_images_folder_PPre-True_drop-0.0_trainjustclassifier-False_16821027277812304/new_test_pred_last\n",
                  "Experimento:  noDA_dull_razor_shades_of_gray_cropped_images_folder_moredata\n",
                  "Saving the scores in best_results/noDA_dull_razor_shades_of_gray_cropped_images_folder_moredata/efficientnet_b0_fold-1_lrinit-0.0001_batchsize-8_optimizer-AdamW_maxepochs-150_DA-None_PPen-None_PPha-dull_razor_PPco-shades_of_gray_PPde-None_PPno-True_PPcr-cropped_images_folder_PPre-True_drop-0.0_trainjustclassifier-False_1681798247760629/new_test_pred_best\n",
                  "Saving the scores in best_results/noDA_dull_razor_shades_of_gray_cropped_images_folder_moredata/efficientnet_b0_fold-1_lrinit-0.0001_batchsize-8_optimizer-AdamW_maxepochs-150_DA-None_PPen-None_PPha-dull_razor_PPco-shades_of_gray_PPde-None_PPno-True_PPcr-cropped_images_folder_PPre-True_drop-0.0_trainjustclassifier-False_1681798247760629/new_test_pred_last\n",
                  "Saving the scores in best_results/noDA_dull_razor_shades_of_gray_cropped_images_folder_moredata/resnest101e_fold-1_lrinit-0.0001_batchsize-8_optimizer-AdamW_maxepochs-150_DA-None_PPen-None_PPha-dull_razor_PPco-shades_of_gray_PPde-None_PPno-True_PPcr-cropped_images_folder_PPre-True_drop-0.0_trainjustclassifier-False_16818131954433057/new_test_pred_best\n",
                  "Saving the scores in best_results/noDA_dull_razor_shades_of_gray_cropped_images_folder_moredata/resnest101e_fold-1_lrinit-0.0001_batchsize-8_optimizer-AdamW_maxepochs-150_DA-None_PPen-None_PPha-dull_razor_PPco-shades_of_gray_PPde-None_PPno-True_PPcr-cropped_images_folder_PPre-True_drop-0.0_trainjustclassifier-False_16818131954433057/new_test_pred_last\n",
                  "Saving the scores in best_results/noDA_dull_razor_shades_of_gray_cropped_images_folder_moredata/seresnext101_32x8d_fold-1_lrinit-0.0001_batchsize-16_optimizer-Adam_maxepochs-150_DA-None_PPen-None_PPha-dull_razor_PPco-shades_of_gray_PPde-None_PPno-True_PPcr-cropped_images_folder_PPre-True_drop-0.0_trainjustclassifier-False_1681946415573531/new_test_pred_best\n",
                  "Saving the scores in best_results/noDA_dull_razor_shades_of_gray_cropped_images_folder_moredata/seresnext101_32x8d_fold-1_lrinit-0.0001_batchsize-16_optimizer-Adam_maxepochs-150_DA-None_PPen-None_PPha-dull_razor_PPco-shades_of_gray_PPde-None_PPno-True_PPcr-cropped_images_folder_PPre-True_drop-0.0_trainjustclassifier-False_1681946415573531/new_test_pred_last\n",
                  "Saving the scores in best_results/noDA_dull_razor_shades_of_gray_cropped_images_folder_moredata/tf_efficientnet_b6_fold-1_lrinit-0.0001_batchsize-4_optimizer-AdamW_maxepochs-150_DA-None_PPen-None_PPha-dull_razor_PPco-shades_of_gray_PPde-None_PPno-True_PPcr-cropped_images_folder_PPre-True_drop-0.0_trainjustclassifier-False_1681783419558165/new_test_pred_best\n",
                  "Saving the scores in best_results/noDA_dull_razor_shades_of_gray_cropped_images_folder_moredata/tf_efficientnet_b6_fold-1_lrinit-0.0001_batchsize-4_optimizer-AdamW_maxepochs-150_DA-None_PPen-None_PPha-dull_razor_PPco-shades_of_gray_PPde-None_PPno-True_PPcr-cropped_images_folder_PPre-True_drop-0.0_trainjustclassifier-False_1681783419558165/new_test_pred_last\n",
                  "Saving the scores in best_results/noDA_dull_razor_shades_of_gray_cropped_images_folder_moredata/resnext101_32x8d_fold-1_lrinit-0.0001_batchsize-8_optimizer-SGD_maxepochs-150_DA-None_PPen-None_PPha-dull_razor_PPco-shades_of_gray_PPde-None_PPno-True_PPcr-cropped_images_folder_PPre-True_drop-0.0_trainjustclassifier-False_16818284853295627/new_test_pred_best\n",
                  "Saving the scores in best_results/noDA_dull_razor_shades_of_gray_cropped_images_folder_moredata/resnext101_32x8d_fold-1_lrinit-0.0001_batchsize-8_optimizer-SGD_maxepochs-150_DA-None_PPen-None_PPha-dull_razor_PPco-shades_of_gray_PPde-None_PPno-True_PPcr-cropped_images_folder_PPre-True_drop-0.0_trainjustclassifier-False_16818284853295627/new_test_pred_last\n",
                  "Saving the scores in best_results/noDA_dull_razor_shades_of_gray_cropped_images_folder_moredata/tf_efficientnet_b5_fold-1_lrinit-0.0001_batchsize-8_optimizer-AdamW_maxepochs-150_DA-None_PPen-None_PPha-dull_razor_PPco-shades_of_gray_PPde-None_PPno-True_PPcr-cropped_images_folder_PPre-True_drop-0.0_trainjustclassifier-False_16817720774233873/new_test_pred_best\n",
                  "Saving the scores in best_results/noDA_dull_razor_shades_of_gray_cropped_images_folder_moredata/tf_efficientnet_b5_fold-1_lrinit-0.0001_batchsize-8_optimizer-AdamW_maxepochs-150_DA-None_PPen-None_PPha-dull_razor_PPco-shades_of_gray_PPde-None_PPno-True_PPcr-cropped_images_folder_PPre-True_drop-0.0_trainjustclassifier-False_16817720774233873/new_test_pred_last\n",
                  "Saving the scores in best_results/noDA_dull_razor_shades_of_gray_cropped_images_folder_moredata/efficientnet_b3_fold-1_lrinit-0.0001_batchsize-32_optimizer-Adam_maxepochs-150_DA-None_PPen-None_PPha-dull_razor_PPco-shades_of_gray_PPde-None_PPno-True_PPcr-cropped_images_folder_PPre-True_drop-0.0_trainjustclassifier-False_16818061098870232/new_test_pred_best\n",
                  "Saving the scores in best_results/noDA_dull_razor_shades_of_gray_cropped_images_folder_moredata/efficientnet_b3_fold-1_lrinit-0.0001_batchsize-32_optimizer-Adam_maxepochs-150_DA-None_PPen-None_PPha-dull_razor_PPco-shades_of_gray_PPde-None_PPno-True_PPcr-cropped_images_folder_PPre-True_drop-0.0_trainjustclassifier-False_16818061098870232/new_test_pred_last\n",
                  "Saving the scores in best_results/noDA_dull_razor_shades_of_gray_cropped_images_folder_moredata/pnasnet5large_fold-1_lrinit-0.0001_batchsize-8_optimizer-Adam_maxepochs-150_DA-None_PPen-None_PPha-dull_razor_PPco-shades_of_gray_PPde-None_PPno-True_PPcr-cropped_images_folder_PPre-True_drop-0.0_trainjustclassifier-False_1681833770789291/new_test_pred_best\n",
                  "Saving the scores in best_results/noDA_dull_razor_shades_of_gray_cropped_images_folder_moredata/pnasnet5large_fold-1_lrinit-0.0001_batchsize-8_optimizer-Adam_maxepochs-150_DA-None_PPen-None_PPha-dull_razor_PPco-shades_of_gray_PPde-None_PPno-True_PPcr-cropped_images_folder_PPre-True_drop-0.0_trainjustclassifier-False_1681833770789291/new_test_pred_last\n",
                  "Saving the scores in best_results/noDA_dull_razor_shades_of_gray_cropped_images_folder_moredata/efficientnet_b4_fold-1_lrinit-0.0001_batchsize-16_optimizer-AdamW_maxepochs-150_DA-None_PPen-None_PPha-dull_razor_PPco-shades_of_gray_PPde-None_PPno-True_PPcr-cropped_images_folder_PPre-True_drop-0.0_trainjustclassifier-False_1681808521683312/new_test_pred_best\n",
                  "Saving the scores in best_results/noDA_dull_razor_shades_of_gray_cropped_images_folder_moredata/efficientnet_b4_fold-1_lrinit-0.0001_batchsize-16_optimizer-AdamW_maxepochs-150_DA-None_PPen-None_PPha-dull_razor_PPco-shades_of_gray_PPde-None_PPno-True_PPcr-cropped_images_folder_PPre-True_drop-0.0_trainjustclassifier-False_1681808521683312/new_test_pred_last\n",
                  "Saving the scores in best_results/noDA_dull_razor_shades_of_gray_cropped_images_folder_moredata/vgg19_fold-1_lrinit-0.0001_batchsize-8_optimizer-SGD_maxepochs-150_DA-None_PPen-None_PPha-dull_razor_PPco-shades_of_gray_PPde-None_PPno-True_PPcr-cropped_images_folder_PPre-True_drop-0.0_trainjustclassifier-False_16818258599427037/new_test_pred_best\n",
                  "Saving the scores in best_results/noDA_dull_razor_shades_of_gray_cropped_images_folder_moredata/vgg19_fold-1_lrinit-0.0001_batchsize-8_optimizer-SGD_maxepochs-150_DA-None_PPen-None_PPha-dull_razor_PPco-shades_of_gray_PPde-None_PPno-True_PPcr-cropped_images_folder_PPre-True_drop-0.0_trainjustclassifier-False_16818258599427037/new_test_pred_last\n",
                  "Saving the scores in best_results/noDA_dull_razor_shades_of_gray_cropped_images_folder_moredata/efficientnet_b2_fold-1_lrinit-0.0001_batchsize-8_optimizer-Adam_maxepochs-150_DA-None_PPen-None_PPha-dull_razor_PPco-shades_of_gray_PPde-None_PPno-True_PPcr-cropped_images_folder_PPre-True_drop-0.0_trainjustclassifier-False_16818034072321181/new_test_pred_best\n",
                  "Saving the scores in best_results/noDA_dull_razor_shades_of_gray_cropped_images_folder_moredata/efficientnet_b2_fold-1_lrinit-0.0001_batchsize-8_optimizer-Adam_maxepochs-150_DA-None_PPen-None_PPha-dull_razor_PPco-shades_of_gray_PPde-None_PPno-True_PPcr-cropped_images_folder_PPre-True_drop-0.0_trainjustclassifier-False_16818034072321181/new_test_pred_last\n",
                  "Saving the scores in best_results/noDA_dull_razor_shades_of_gray_cropped_images_folder_moredata/densenet121_fold-1_lrinit-0.0001_batchsize-32_optimizer-Adam_maxepochs-150_DA-None_PPen-None_PPha-dull_razor_PPco-shades_of_gray_PPde-None_PPno-True_PPcr-cropped_images_folder_PPre-True_drop-0.0_trainjustclassifier-False_168179577746133/new_test_pred_best\n",
                  "Saving the scores in best_results/noDA_dull_razor_shades_of_gray_cropped_images_folder_moredata/densenet121_fold-1_lrinit-0.0001_batchsize-32_optimizer-Adam_maxepochs-150_DA-None_PPen-None_PPha-dull_razor_PPco-shades_of_gray_PPde-None_PPno-True_PPcr-cropped_images_folder_PPre-True_drop-0.0_trainjustclassifier-False_168179577746133/new_test_pred_last\n",
                  "Saving the scores in best_results/noDA_dull_razor_shades_of_gray_cropped_images_folder_moredata/efficientnet_b1_fold-1_lrinit-0.0001_batchsize-8_optimizer-AdamW_maxepochs-150_DA-None_PPen-None_PPha-dull_razor_PPco-shades_of_gray_PPde-None_PPno-True_PPcr-cropped_images_folder_PPre-True_drop-0.0_trainjustclassifier-False_16818001032660234/new_test_pred_best\n",
                  "Saving the scores in best_results/noDA_dull_razor_shades_of_gray_cropped_images_folder_moredata/efficientnet_b1_fold-1_lrinit-0.0001_batchsize-8_optimizer-AdamW_maxepochs-150_DA-None_PPen-None_PPha-dull_razor_PPco-shades_of_gray_PPde-None_PPno-True_PPcr-cropped_images_folder_PPre-True_drop-0.0_trainjustclassifier-False_16818001032660234/new_test_pred_last\n",
                  "Experimento:  DA2_shades_of_gray_cropped_images_folder_150_epochs\n",
                  "Saving the scores in best_results/DA2_shades_of_gray_cropped_images_folder_150_epochs/efficientnet_b0_fold-1_lrinit-0.0001_batchsize-8_optimizer-AdamW_maxepochs-150_DA-2_PPen-None_PPha-None_PPco-shades_of_gray_PPde-None_PPno-True_PPcr-cropped_images_folder_PPre-True_drop-0.0_trainjustclassifier-False_16810835282134068/new_test_pred_best\n",
                  "Saving the scores in best_results/DA2_shades_of_gray_cropped_images_folder_150_epochs/efficientnet_b0_fold-1_lrinit-0.0001_batchsize-8_optimizer-AdamW_maxepochs-150_DA-2_PPen-None_PPha-None_PPco-shades_of_gray_PPde-None_PPno-True_PPcr-cropped_images_folder_PPre-True_drop-0.0_trainjustclassifier-False_16810835282134068/new_test_pred_last\n",
                  "Saving the scores in best_results/DA2_shades_of_gray_cropped_images_folder_150_epochs/tf_efficientnet_b6_fold-1_lrinit-0.0001_batchsize-4_optimizer-AdamW_maxepochs-150_DA-2_PPen-None_PPha-None_PPco-shades_of_gray_PPde-None_PPno-True_PPcr-cropped_images_folder_PPre-True_drop-0.0_trainjustclassifier-False_16810612435122592/new_test_pred_best\n",
                  "Saving the scores in best_results/DA2_shades_of_gray_cropped_images_folder_150_epochs/tf_efficientnet_b6_fold-1_lrinit-0.0001_batchsize-4_optimizer-AdamW_maxepochs-150_DA-2_PPen-None_PPha-None_PPco-shades_of_gray_PPde-None_PPno-True_PPcr-cropped_images_folder_PPre-True_drop-0.0_trainjustclassifier-False_16810612435122592/new_test_pred_last\n",
                  "Saving the scores in best_results/DA2_shades_of_gray_cropped_images_folder_150_epochs/pnasnet5large_fold-1_lrinit-0.0001_batchsize-8_optimizer-Adam_maxepochs-150_DA-2_PPen-None_PPha-None_PPco-shades_of_gray_PPde-None_PPno-True_PPcr-cropped_images_folder_PPre-True_drop-0.0_trainjustclassifier-False_16811246693160925/new_test_pred_best\n",
                  "Saving the scores in best_results/DA2_shades_of_gray_cropped_images_folder_150_epochs/pnasnet5large_fold-1_lrinit-0.0001_batchsize-8_optimizer-Adam_maxepochs-150_DA-2_PPen-None_PPha-None_PPco-shades_of_gray_PPde-None_PPno-True_PPcr-cropped_images_folder_PPre-True_drop-0.0_trainjustclassifier-False_16811246693160925/new_test_pred_last\n",
                  "Saving the scores in best_results/DA2_shades_of_gray_cropped_images_folder_150_epochs/seresnext101_32x8d_fold-1_lrinit-0.0001_batchsize-16_optimizer-Adam_maxepochs-150_DA-2_PPen-None_PPha-None_PPco-shades_of_gray_PPde-None_PPno-True_PPcr-cropped_images_folder_PPre-True_drop-0.0_trainjustclassifier-False_16811113775334249/new_test_pred_best\n",
                  "Saving the scores in best_results/DA2_shades_of_gray_cropped_images_folder_150_epochs/seresnext101_32x8d_fold-1_lrinit-0.0001_batchsize-16_optimizer-Adam_maxepochs-150_DA-2_PPen-None_PPha-None_PPco-shades_of_gray_PPde-None_PPno-True_PPcr-cropped_images_folder_PPre-True_drop-0.0_trainjustclassifier-False_16811113775334249/new_test_pred_last\n",
                  "Saving the scores in best_results/DA2_shades_of_gray_cropped_images_folder_150_epochs/vgg19_fold-1_lrinit-0.0001_batchsize-8_optimizer-SGD_maxepochs-150_DA-2_PPen-None_PPha-None_PPco-shades_of_gray_PPde-None_PPno-True_PPcr-cropped_images_folder_PPre-True_drop-0.0_trainjustclassifier-False_16811160182675586/new_test_pred_best\n",
                  "Saving the scores in best_results/DA2_shades_of_gray_cropped_images_folder_150_epochs/vgg19_fold-1_lrinit-0.0001_batchsize-8_optimizer-SGD_maxepochs-150_DA-2_PPen-None_PPha-None_PPco-shades_of_gray_PPde-None_PPno-True_PPcr-cropped_images_folder_PPre-True_drop-0.0_trainjustclassifier-False_16811160182675586/new_test_pred_last\n",
                  "Saving the scores in best_results/DA2_shades_of_gray_cropped_images_folder_150_epochs/efficientnet_b2_fold-1_lrinit-0.0001_batchsize-8_optimizer-Adam_maxepochs-150_DA-2_PPen-None_PPha-None_PPco-shades_of_gray_PPde-None_PPno-True_PPcr-cropped_images_folder_PPre-True_drop-0.0_trainjustclassifier-False_1681092789205549/new_test_pred_best\n",
                  "Saving the scores in best_results/DA2_shades_of_gray_cropped_images_folder_150_epochs/efficientnet_b2_fold-1_lrinit-0.0001_batchsize-8_optimizer-Adam_maxepochs-150_DA-2_PPen-None_PPha-None_PPco-shades_of_gray_PPde-None_PPno-True_PPcr-cropped_images_folder_PPre-True_drop-0.0_trainjustclassifier-False_1681092789205549/new_test_pred_last\n",
                  "Saving the scores in best_results/DA2_shades_of_gray_cropped_images_folder_150_epochs/resnest101e_fold-1_lrinit-0.0001_batchsize-8_optimizer-AdamW_maxepochs-150_DA-2_PPen-None_PPha-None_PPco-shades_of_gray_PPde-None_PPno-True_PPcr-cropped_images_folder_PPre-True_drop-0.0_trainjustclassifier-False_16811057470929863/new_test_pred_best\n",
                  "Saving the scores in best_results/DA2_shades_of_gray_cropped_images_folder_150_epochs/resnest101e_fold-1_lrinit-0.0001_batchsize-8_optimizer-AdamW_maxepochs-150_DA-2_PPen-None_PPha-None_PPco-shades_of_gray_PPde-None_PPno-True_PPcr-cropped_images_folder_PPre-True_drop-0.0_trainjustclassifier-False_16811057470929863/new_test_pred_last\n",
                  "Saving the scores in best_results/DA2_shades_of_gray_cropped_images_folder_150_epochs/efficientnet_b3_fold-1_lrinit-0.0001_batchsize-32_optimizer-Adam_maxepochs-150_DA-2_PPen-None_PPha-None_PPco-shades_of_gray_PPde-None_PPno-True_PPcr-cropped_images_folder_PPre-True_drop-0.0_trainjustclassifier-False_16810970091456094/new_test_pred_best\n",
                  "Saving the scores in best_results/DA2_shades_of_gray_cropped_images_folder_150_epochs/efficientnet_b3_fold-1_lrinit-0.0001_batchsize-32_optimizer-Adam_maxepochs-150_DA-2_PPen-None_PPha-None_PPco-shades_of_gray_PPde-None_PPno-True_PPcr-cropped_images_folder_PPre-True_drop-0.0_trainjustclassifier-False_16810970091456094/new_test_pred_last\n",
                  "Saving the scores in best_results/DA2_shades_of_gray_cropped_images_folder_150_epochs/densenet121_fold-1_lrinit-0.0001_batchsize-32_optimizer-Adam_maxepochs-150_DA-2_PPen-None_PPha-None_PPco-shades_of_gray_PPde-None_PPno-True_PPcr-cropped_images_folder_PPre-True_drop-0.0_trainjustclassifier-False_1681078943104982/new_test_pred_best\n",
                  "Saving the scores in best_results/DA2_shades_of_gray_cropped_images_folder_150_epochs/densenet121_fold-1_lrinit-0.0001_batchsize-32_optimizer-Adam_maxepochs-150_DA-2_PPen-None_PPha-None_PPco-shades_of_gray_PPde-None_PPno-True_PPcr-cropped_images_folder_PPre-True_drop-0.0_trainjustclassifier-False_1681078943104982/new_test_pred_last\n",
                  "Saving the scores in best_results/DA2_shades_of_gray_cropped_images_folder_150_epochs/efficientnet_b4_fold-1_lrinit-0.0001_batchsize-16_optimizer-AdamW_maxepochs-150_DA-2_PPen-None_PPha-None_PPco-shades_of_gray_PPde-None_PPno-True_PPcr-cropped_images_folder_PPre-True_drop-0.0_trainjustclassifier-False_16811012715809693/new_test_pred_best\n",
                  "Saving the scores in best_results/DA2_shades_of_gray_cropped_images_folder_150_epochs/efficientnet_b4_fold-1_lrinit-0.0001_batchsize-16_optimizer-AdamW_maxepochs-150_DA-2_PPen-None_PPha-None_PPco-shades_of_gray_PPde-None_PPno-True_PPcr-cropped_images_folder_PPre-True_drop-0.0_trainjustclassifier-False_16811012715809693/new_test_pred_last\n",
                  "Saving the scores in best_results/DA2_shades_of_gray_cropped_images_folder_150_epochs/tf_efficientnet_b5_fold-1_lrinit-0.0001_batchsize-8_optimizer-AdamW_maxepochs-150_DA-2_PPen-None_PPha-None_PPco-shades_of_gray_PPde-None_PPno-True_PPcr-cropped_images_folder_PPre-True_drop-0.0_trainjustclassifier-False_16810533781508167/new_test_pred_best\n",
                  "Saving the scores in best_results/DA2_shades_of_gray_cropped_images_folder_150_epochs/tf_efficientnet_b5_fold-1_lrinit-0.0001_batchsize-8_optimizer-AdamW_maxepochs-150_DA-2_PPen-None_PPha-None_PPco-shades_of_gray_PPde-None_PPno-True_PPcr-cropped_images_folder_PPre-True_drop-0.0_trainjustclassifier-False_16810533781508167/new_test_pred_last\n",
                  "Saving the scores in best_results/DA2_shades_of_gray_cropped_images_folder_150_epochs/efficientnet_b1_fold-1_lrinit-0.0001_batchsize-8_optimizer-AdamW_maxepochs-150_DA-2_PPen-None_PPha-None_PPco-shades_of_gray_PPde-None_PPno-True_PPcr-cropped_images_folder_PPre-True_drop-0.0_trainjustclassifier-False_16810881144943886/new_test_pred_best\n",
                  "Saving the scores in best_results/DA2_shades_of_gray_cropped_images_folder_150_epochs/efficientnet_b1_fold-1_lrinit-0.0001_batchsize-8_optimizer-AdamW_maxepochs-150_DA-2_PPen-None_PPha-None_PPco-shades_of_gray_PPde-None_PPno-True_PPcr-cropped_images_folder_PPre-True_drop-0.0_trainjustclassifier-False_16810881144943886/new_test_pred_last\n",
                  "Saving the scores in best_results/DA2_shades_of_gray_cropped_images_folder_150_epochs/resnext101_32x8d_fold-1_lrinit-0.0001_batchsize-8_optimizer-SGD_maxepochs-150_DA-2_PPen-None_PPha-None_PPco-shades_of_gray_PPde-None_PPno-True_PPcr-cropped_images_folder_PPre-True_drop-0.0_trainjustclassifier-False_16811197928991122/new_test_pred_best\n",
                  "Saving the scores in best_results/DA2_shades_of_gray_cropped_images_folder_150_epochs/resnext101_32x8d_fold-1_lrinit-0.0001_batchsize-8_optimizer-SGD_maxepochs-150_DA-2_PPen-None_PPha-None_PPco-shades_of_gray_PPde-None_PPno-True_PPcr-cropped_images_folder_PPre-True_drop-0.0_trainjustclassifier-False_16811197928991122/new_test_pred_last\n",
                  "Experimento:  non_local_means_2\n",
                  "Experimento:  gaussian_filter_cropped_images_folder\n",
                  "Experimento:  DA4_noPP\n",
                  "Saving the scores in best_results/DA4_noPP/tf_efficientnet_b5_fold-1_lrinit-0.0001_batchsize-8_optimizer-AdamW_maxepochs-50_DA-4_PPen-None_PPha-None_PPco-None_PPde-None_PPno-True_PPcr-None_PPre-True_16803738785839732/new_test_pred_best\n",
                  "Saving the scores in best_results/DA4_noPP/tf_efficientnet_b5_fold-1_lrinit-0.0001_batchsize-8_optimizer-AdamW_maxepochs-50_DA-4_PPen-None_PPha-None_PPco-None_PPde-None_PPno-True_PPcr-None_PPre-True_16803738785839732/new_test_pred_last\n",
                  "Saving the scores in best_results/DA4_noPP/efficientnet_b0_fold-1_lrinit-0.001_batchsize-8_optimizer-AdamW_maxepochs-50_DA-4_PPen-None_PPha-None_PPco-None_PPde-None_PPno-True_PPcr-None_PPre-True_1680393057374882/new_test_pred_best\n",
                  "Saving the scores in best_results/DA4_noPP/efficientnet_b0_fold-1_lrinit-0.001_batchsize-8_optimizer-AdamW_maxepochs-50_DA-4_PPen-None_PPha-None_PPco-None_PPde-None_PPno-True_PPcr-None_PPre-True_1680393057374882/new_test_pred_last\n",
                  "Saving the scores in best_results/DA4_noPP/efficientnet_b1_fold-1_lrinit-0.001_batchsize-8_optimizer-AdamW_maxepochs-50_DA-4_PPen-None_PPha-None_PPco-None_PPde-None_PPno-True_PPcr-None_PPre-True_16803942129398851/new_test_pred_best\n",
                  "Saving the scores in best_results/DA4_noPP/efficientnet_b1_fold-1_lrinit-0.001_batchsize-8_optimizer-AdamW_maxepochs-50_DA-4_PPen-None_PPha-None_PPco-None_PPde-None_PPno-True_PPcr-None_PPre-True_16803942129398851/new_test_pred_last\n",
                  "Saving the scores in best_results/DA4_noPP/resnext101_32x8d_fold-1_lrinit-0.001_batchsize-8_optimizer-SGD_maxepochs-50_DA-4_PPen-None_PPha-None_PPco-None_PPde-None_PPno-True_PPcr-None_PPre-True_16804088871874504/new_test_pred_best\n",
                  "Saving the scores in best_results/DA4_noPP/resnext101_32x8d_fold-1_lrinit-0.001_batchsize-8_optimizer-SGD_maxepochs-50_DA-4_PPen-None_PPha-None_PPco-None_PPde-None_PPno-True_PPcr-None_PPre-True_16804088871874504/new_test_pred_last\n",
                  "Saving the scores in best_results/DA4_noPP/efficientnet_b4_fold-1_lrinit-0.001_batchsize-16_optimizer-AdamW_maxepochs-50_DA-4_PPen-None_PPha-None_PPco-None_PPde-None_PPno-True_PPcr-None_PPre-True_16803990237347212/new_test_pred_best\n",
                  "Saving the scores in best_results/DA4_noPP/efficientnet_b4_fold-1_lrinit-0.001_batchsize-16_optimizer-AdamW_maxepochs-50_DA-4_PPen-None_PPha-None_PPco-None_PPde-None_PPno-True_PPcr-None_PPre-True_16803990237347212/new_test_pred_last\n",
                  "Saving the scores in best_results/DA4_noPP/densenet121_fold-1_lrinit-0.0001_batchsize-32_optimizer-Adam_maxepochs-50_DA-4_PPen-None_PPha-None_PPco-None_PPde-None_PPno-True_PPcr-None_PPre-True_16803918895098906/new_test_pred_best\n",
                  "Saving the scores in best_results/DA4_noPP/densenet121_fold-1_lrinit-0.0001_batchsize-32_optimizer-Adam_maxepochs-50_DA-4_PPen-None_PPha-None_PPco-None_PPde-None_PPno-True_PPcr-None_PPre-True_16803918895098906/new_test_pred_last\n",
                  "Saving the scores in best_results/DA4_noPP/vgg19_fold-1_lrinit-0.001_batchsize-8_optimizer-SGD_maxepochs-50_DA-4_PPen-None_PPha-None_PPco-None_PPde-None_PPno-True_PPcr-None_PPre-True_16804071014140797/new_test_pred_best\n",
                  "Saving the scores in best_results/DA4_noPP/vgg19_fold-1_lrinit-0.001_batchsize-8_optimizer-SGD_maxepochs-50_DA-4_PPen-None_PPha-None_PPco-None_PPde-None_PPno-True_PPcr-None_PPre-True_16804071014140797/new_test_pred_last\n",
                  "Saving the scores in best_results/DA4_noPP/pnasnet5large_fold-1_lrinit-0.0001_batchsize-8_optimizer-Adam_maxepochs-50_DA-4_PPen-None_PPha-None_PPco-None_PPde-None_PPno-True_PPcr-None_PPre-True_16804105734426365/new_test_pred_best\n",
                  "Saving the scores in best_results/DA4_noPP/pnasnet5large_fold-1_lrinit-0.0001_batchsize-8_optimizer-Adam_maxepochs-50_DA-4_PPen-None_PPha-None_PPco-None_PPde-None_PPno-True_PPcr-None_PPre-True_16804105734426365/new_test_pred_last\n",
                  "Saving the scores in best_results/DA4_noPP/efficientnet_b3_fold-1_lrinit-0.001_batchsize-32_optimizer-Adam_maxepochs-50_DA-4_PPen-None_PPha-None_PPco-None_PPde-None_PPno-True_PPcr-None_PPre-True_16803974761759655/new_test_pred_best\n",
                  "Saving the scores in best_results/DA4_noPP/efficientnet_b3_fold-1_lrinit-0.001_batchsize-32_optimizer-Adam_maxepochs-50_DA-4_PPen-None_PPha-None_PPco-None_PPde-None_PPno-True_PPcr-None_PPre-True_16803974761759655/new_test_pred_last\n",
                  "Saving the scores in best_results/DA4_noPP/efficientnet_b2_fold-1_lrinit-0.001_batchsize-8_optimizer-Adam_maxepochs-50_DA-4_PPen-None_PPha-None_PPco-None_PPde-None_PPno-True_PPcr-None_PPre-True_1680395869878399/new_test_pred_best\n",
                  "Saving the scores in best_results/DA4_noPP/efficientnet_b2_fold-1_lrinit-0.001_batchsize-8_optimizer-Adam_maxepochs-50_DA-4_PPen-None_PPha-None_PPco-None_PPde-None_PPno-True_PPcr-None_PPre-True_1680395869878399/new_test_pred_last\n",
                  "Saving the scores in best_results/DA4_noPP/resnest101e_fold-1_lrinit-0.0001_batchsize-8_optimizer-AdamW_maxepochs-50_DA-4_PPen-None_PPha-None_PPco-None_PPde-None_PPno-True_PPcr-None_PPre-True_16804017757731783/new_test_pred_best\n",
                  "Saving the scores in best_results/DA4_noPP/resnest101e_fold-1_lrinit-0.0001_batchsize-8_optimizer-AdamW_maxepochs-50_DA-4_PPen-None_PPha-None_PPco-None_PPde-None_PPno-True_PPcr-None_PPre-True_16804017757731783/new_test_pred_last\n",
                  "Saving the scores in best_results/DA4_noPP/tf_efficientnet_b6_fold-1_lrinit-0.0001_batchsize-4_optimizer-AdamW_maxepochs-50_DA-4_PPen-None_PPha-None_PPco-None_PPde-None_PPno-True_PPcr-None_PPre-True_16803835786457732/new_test_pred_best\n",
                  "Saving the scores in best_results/DA4_noPP/tf_efficientnet_b6_fold-1_lrinit-0.0001_batchsize-4_optimizer-AdamW_maxepochs-50_DA-4_PPen-None_PPha-None_PPco-None_PPde-None_PPno-True_PPcr-None_PPre-True_16803835786457732/new_test_pred_last\n",
                  "Saving the scores in best_results/DA4_noPP/seresnext101_32x8d_fold-1_lrinit-0.0001_batchsize-32_optimizer-Adam_maxepochs-50_DA-4_PPen-None_PPha-None_PPco-None_PPde-None_PPno-True_PPcr-None_PPre-True_16804045196626084/new_test_pred_best\n",
                  "Saving the scores in best_results/DA4_noPP/seresnext101_32x8d_fold-1_lrinit-0.0001_batchsize-32_optimizer-Adam_maxepochs-50_DA-4_PPen-None_PPha-None_PPco-None_PPde-None_PPno-True_PPcr-None_PPre-True_16804045196626084/new_test_pred_last\n",
                  "Experimento:  DA0_PP_100epochs\n",
                  "Saving the scores in best_results/DA0_PP_100epochs/efficientnet_b4_fold-1_lrinit-0.001_batchsize-16_optimizer-AdamW_maxepochs-100_DA-0_PPen-None_PPha-dull_razor_PPco-shades_of_gray_PPde-None_PPno-True_PPcr-cropped_images_folder_PPre-True_drop-0.0_trainjustclassifier-False_16808528257383082/new_test_pred_best\n",
                  "Saving the scores in best_results/DA0_PP_100epochs/efficientnet_b4_fold-1_lrinit-0.001_batchsize-16_optimizer-AdamW_maxepochs-100_DA-0_PPen-None_PPha-dull_razor_PPco-shades_of_gray_PPde-None_PPno-True_PPcr-cropped_images_folder_PPre-True_drop-0.0_trainjustclassifier-False_16808528257383082/new_test_pred_last\n",
                  "Saving the scores in best_results/DA0_PP_100epochs/efficientnet_b2_fold-1_lrinit-0.001_batchsize-8_optimizer-Adam_maxepochs-100_DA-0_PPen-None_PPha-dull_razor_PPco-shades_of_gray_PPde-None_PPno-True_PPcr-cropped_images_folder_PPre-True_drop-0.0_trainjustclassifier-False_1680843706505002/new_test_pred_best\n",
                  "Saving the scores in best_results/DA0_PP_100epochs/efficientnet_b2_fold-1_lrinit-0.001_batchsize-8_optimizer-Adam_maxepochs-100_DA-0_PPen-None_PPha-dull_razor_PPco-shades_of_gray_PPde-None_PPno-True_PPcr-cropped_images_folder_PPre-True_drop-0.0_trainjustclassifier-False_1680843706505002/new_test_pred_last\n",
                  "Saving the scores in best_results/DA0_PP_100epochs/seresnext101_32x8d_fold-1_lrinit-0.0001_batchsize-16_optimizer-Adam_maxepochs-100_DA-0_PPen-None_PPha-dull_razor_PPco-shades_of_gray_PPde-None_PPno-True_PPcr-cropped_images_folder_PPre-True_drop-0.0_trainjustclassifier-False_16808691127966328/new_test_pred_best\n",
                  "Saving the scores in best_results/DA0_PP_100epochs/seresnext101_32x8d_fold-1_lrinit-0.0001_batchsize-16_optimizer-Adam_maxepochs-100_DA-0_PPen-None_PPha-dull_razor_PPco-shades_of_gray_PPde-None_PPno-True_PPcr-cropped_images_folder_PPre-True_drop-0.0_trainjustclassifier-False_16808691127966328/new_test_pred_last\n",
                  "Saving the scores in best_results/DA0_PP_100epochs/resnext101_32x8d_fold-1_lrinit-0.001_batchsize-8_optimizer-SGD_maxepochs-100_DA-0_PPen-None_PPha-dull_razor_PPco-shades_of_gray_PPde-None_PPno-True_PPcr-cropped_images_folder_PPre-True_drop-0.0_trainjustclassifier-False_16808806333212566/new_test_pred_best\n",
                  "Saving the scores in best_results/DA0_PP_100epochs/resnext101_32x8d_fold-1_lrinit-0.001_batchsize-8_optimizer-SGD_maxepochs-100_DA-0_PPen-None_PPha-dull_razor_PPco-shades_of_gray_PPde-None_PPno-True_PPcr-cropped_images_folder_PPre-True_drop-0.0_trainjustclassifier-False_16808806333212566/new_test_pred_last\n",
                  "Saving the scores in best_results/DA0_PP_100epochs/densenet121_fold-1_lrinit-0.0001_batchsize-32_optimizer-Adam_maxepochs-100_DA-0_PPen-None_PPha-dull_razor_PPco-shades_of_gray_PPde-None_PPno-True_PPcr-cropped_images_folder_PPre-True_drop-0.0_trainjustclassifier-False_16808324492195387/new_test_pred_best\n",
                  "Saving the scores in best_results/DA0_PP_100epochs/densenet121_fold-1_lrinit-0.0001_batchsize-32_optimizer-Adam_maxepochs-100_DA-0_PPen-None_PPha-dull_razor_PPco-shades_of_gray_PPde-None_PPno-True_PPcr-cropped_images_folder_PPre-True_drop-0.0_trainjustclassifier-False_16808324492195387/new_test_pred_last\n",
                  "Saving the scores in best_results/DA0_PP_100epochs/pnasnet5large_fold-1_lrinit-0.0001_batchsize-8_optimizer-Adam_maxepochs-100_DA-0_PPen-None_PPha-dull_razor_PPco-shades_of_gray_PPde-None_PPno-True_PPcr-cropped_images_folder_PPre-True_drop-0.0_trainjustclassifier-False_16808846124078958/new_test_pred_best\n",
                  "Saving the scores in best_results/DA0_PP_100epochs/pnasnet5large_fold-1_lrinit-0.0001_batchsize-8_optimizer-Adam_maxepochs-100_DA-0_PPen-None_PPha-dull_razor_PPco-shades_of_gray_PPde-None_PPno-True_PPcr-cropped_images_folder_PPre-True_drop-0.0_trainjustclassifier-False_16808846124078958/new_test_pred_last\n",
                  "Saving the scores in best_results/DA0_PP_100epochs/vgg19_fold-1_lrinit-0.001_batchsize-8_optimizer-SGD_maxepochs-100_DA-0_PPen-None_PPha-dull_razor_PPco-shades_of_gray_PPde-None_PPno-True_PPcr-cropped_images_folder_PPre-True_drop-0.0_trainjustclassifier-False_16808758598164635/new_test_pred_best\n",
                  "Saving the scores in best_results/DA0_PP_100epochs/vgg19_fold-1_lrinit-0.001_batchsize-8_optimizer-SGD_maxepochs-100_DA-0_PPen-None_PPha-dull_razor_PPco-shades_of_gray_PPde-None_PPno-True_PPcr-cropped_images_folder_PPre-True_drop-0.0_trainjustclassifier-False_16808758598164635/new_test_pred_last\n",
                  "Saving the scores in best_results/DA0_PP_100epochs/efficientnet_b1_fold-1_lrinit-0.001_batchsize-8_optimizer-AdamW_maxepochs-100_DA-0_PPen-None_PPha-dull_razor_PPco-shades_of_gray_PPde-None_PPno-True_PPcr-cropped_images_folder_PPre-True_drop-0.0_trainjustclassifier-False_16808398340887244/new_test_pred_best\n",
                  "Saving the scores in best_results/DA0_PP_100epochs/efficientnet_b1_fold-1_lrinit-0.001_batchsize-8_optimizer-AdamW_maxepochs-100_DA-0_PPen-None_PPha-dull_razor_PPco-shades_of_gray_PPde-None_PPno-True_PPcr-cropped_images_folder_PPre-True_drop-0.0_trainjustclassifier-False_16808398340887244/new_test_pred_last\n",
                  "Saving the scores in best_results/DA0_PP_100epochs/tf_efficientnet_b5_fold-1_lrinit-0.0001_batchsize-8_optimizer-AdamW_maxepochs-100_DA-0_PPen-None_PPha-dull_razor_PPco-shades_of_gray_PPde-None_PPno-True_PPcr-cropped_images_folder_PPre-True_drop-0.0_trainjustclassifier-False_16807853895552163/new_test_pred_best\n",
                  "Saving the scores in best_results/DA0_PP_100epochs/tf_efficientnet_b5_fold-1_lrinit-0.0001_batchsize-8_optimizer-AdamW_maxepochs-100_DA-0_PPen-None_PPha-dull_razor_PPco-shades_of_gray_PPde-None_PPno-True_PPcr-cropped_images_folder_PPre-True_drop-0.0_trainjustclassifier-False_16807853895552163/new_test_pred_last\n",
                  "Saving the scores in best_results/DA0_PP_100epochs/resnest101e_fold-1_lrinit-0.0001_batchsize-8_optimizer-AdamW_maxepochs-100_DA-0_PPen-None_PPha-dull_razor_PPco-shades_of_gray_PPde-None_PPno-True_PPcr-cropped_images_folder_PPre-True_drop-0.0_trainjustclassifier-False_16808604538238554/new_test_pred_best\n",
                  "Saving the scores in best_results/DA0_PP_100epochs/resnest101e_fold-1_lrinit-0.0001_batchsize-8_optimizer-AdamW_maxepochs-100_DA-0_PPen-None_PPha-dull_razor_PPco-shades_of_gray_PPde-None_PPno-True_PPcr-cropped_images_folder_PPre-True_drop-0.0_trainjustclassifier-False_16808604538238554/new_test_pred_last\n",
                  "Saving the scores in best_results/DA0_PP_100epochs/efficientnet_b0_fold-1_lrinit-0.001_batchsize-8_optimizer-AdamW_maxepochs-100_DA-0_PPen-None_PPha-dull_razor_PPco-shades_of_gray_PPde-None_PPno-True_PPcr-cropped_images_folder_PPre-True_drop-0.0_trainjustclassifier-False_16808361162214904/new_test_pred_best\n",
                  "Saving the scores in best_results/DA0_PP_100epochs/efficientnet_b0_fold-1_lrinit-0.001_batchsize-8_optimizer-AdamW_maxepochs-100_DA-0_PPen-None_PPha-dull_razor_PPco-shades_of_gray_PPde-None_PPno-True_PPcr-cropped_images_folder_PPre-True_drop-0.0_trainjustclassifier-False_16808361162214904/new_test_pred_last\n",
                  "Saving the scores in best_results/DA0_PP_100epochs/tf_efficientnet_b6_fold-1_lrinit-0.0001_batchsize-4_optimizer-AdamW_maxepochs-100_DA-0_PPen-None_PPha-dull_razor_PPco-shades_of_gray_PPde-None_PPno-True_PPcr-cropped_images_folder_PPre-True_drop-0.0_trainjustclassifier-False_16808002357894511/new_test_pred_best\n",
                  "Saving the scores in best_results/DA0_PP_100epochs/tf_efficientnet_b6_fold-1_lrinit-0.0001_batchsize-4_optimizer-AdamW_maxepochs-100_DA-0_PPen-None_PPha-dull_razor_PPco-shades_of_gray_PPde-None_PPno-True_PPcr-cropped_images_folder_PPre-True_drop-0.0_trainjustclassifier-False_16808002357894511/new_test_pred_last\n",
                  "Saving the scores in best_results/DA0_PP_100epochs/efficientnet_b3_fold-1_lrinit-0.001_batchsize-32_optimizer-Adam_maxepochs-100_DA-0_PPen-None_PPha-dull_razor_PPco-shades_of_gray_PPde-None_PPno-True_PPcr-cropped_images_folder_PPre-True_drop-0.0_trainjustclassifier-False_16808479857554579/new_test_pred_best\n",
                  "Saving the scores in best_results/DA0_PP_100epochs/efficientnet_b3_fold-1_lrinit-0.001_batchsize-32_optimizer-Adam_maxepochs-100_DA-0_PPen-None_PPha-dull_razor_PPco-shades_of_gray_PPde-None_PPno-True_PPcr-cropped_images_folder_PPre-True_drop-0.0_trainjustclassifier-False_16808479857554579/new_test_pred_last\n",
                  "Experimento:  dull_razor_shades_of_gray_2\n",
                  "Saving the scores in best_results/dull_razor_shades_of_gray_2/densenet121_fold-1_lrinit-0.0001_batchsize-32_optimizer-Adam_maxepochs-50_DA-None_PPen-None_PPha-dull_razor_PPco-shades_of_gray_PPde-None_PPno-True_PPcr-None_PPre-True_16802988847755685/new_test_pred_best\n",
                  "Saving the scores in best_results/dull_razor_shades_of_gray_2/densenet121_fold-1_lrinit-0.0001_batchsize-32_optimizer-Adam_maxepochs-50_DA-None_PPen-None_PPha-dull_razor_PPco-shades_of_gray_PPde-None_PPno-True_PPcr-None_PPre-True_16802988847755685/new_test_pred_last\n",
                  "Saving the scores in best_results/dull_razor_shades_of_gray_2/tf_efficientnet_b6_fold-1_lrinit-0.0001_batchsize-4_optimizer-AdamW_maxepochs-50_DA-None_PPen-None_PPha-dull_razor_PPco-shades_of_gray_PPde-None_PPno-True_PPcr-None_PPre-True_16802859941927235/new_test_pred_best\n",
                  "Saving the scores in best_results/dull_razor_shades_of_gray_2/tf_efficientnet_b6_fold-1_lrinit-0.0001_batchsize-4_optimizer-AdamW_maxepochs-50_DA-None_PPen-None_PPha-dull_razor_PPco-shades_of_gray_PPde-None_PPno-True_PPcr-None_PPre-True_16802859941927235/new_test_pred_last\n",
                  "Saving the scores in best_results/dull_razor_shades_of_gray_2/efficientnet_b0_fold-1_lrinit-0.001_batchsize-8_optimizer-AdamW_maxepochs-50_DA-None_PPen-None_PPha-dull_razor_PPco-shades_of_gray_PPde-None_PPno-True_PPcr-None_PPre-True_16798113329805765/new_test_pred_best\n",
                  "Saving the scores in best_results/dull_razor_shades_of_gray_2/efficientnet_b0_fold-1_lrinit-0.001_batchsize-8_optimizer-AdamW_maxepochs-50_DA-None_PPen-None_PPha-dull_razor_PPco-shades_of_gray_PPde-None_PPno-True_PPcr-None_PPre-True_16798113329805765/new_test_pred_last\n",
                  "Saving the scores in best_results/dull_razor_shades_of_gray_2/seresnext101_32x8d_fold-1_lrinit-0.0001_batchsize-32_optimizer-Adam_maxepochs-50_DA-None_PPen-None_PPha-dull_razor_PPco-shades_of_gray_PPde-None_PPno-True_PPcr-None_PPre-True_16799641543552802/new_test_pred_best\n",
                  "Saving the scores in best_results/dull_razor_shades_of_gray_2/seresnext101_32x8d_fold-1_lrinit-0.0001_batchsize-32_optimizer-Adam_maxepochs-50_DA-None_PPen-None_PPha-dull_razor_PPco-shades_of_gray_PPde-None_PPno-True_PPcr-None_PPre-True_16799641543552802/new_test_pred_last\n",
                  "Saving the scores in best_results/dull_razor_shades_of_gray_2/efficientnet_b3_fold-1_lrinit-0.001_batchsize-32_optimizer-Adam_maxepochs-50_DA-None_PPen-None_PPha-dull_razor_PPco-shades_of_gray_PPde-None_PPno-True_PPcr-None_PPre-True_1679961985860785/new_test_pred_best\n",
                  "Saving the scores in best_results/dull_razor_shades_of_gray_2/efficientnet_b3_fold-1_lrinit-0.001_batchsize-32_optimizer-Adam_maxepochs-50_DA-None_PPen-None_PPha-dull_razor_PPco-shades_of_gray_PPde-None_PPno-True_PPcr-None_PPre-True_1679961985860785/new_test_pred_last\n",
                  "Saving the scores in best_results/dull_razor_shades_of_gray_2/resnext101_32x8d_fold-1_lrinit-0.001_batchsize-8_optimizer-SGD_maxepochs-50_DA-None_PPen-None_PPha-dull_razor_PPco-shades_of_gray_PPde-None_PPno-True_PPcr-None_PPre-True_16799680882310483/new_test_pred_best\n",
                  "Saving the scores in best_results/dull_razor_shades_of_gray_2/resnext101_32x8d_fold-1_lrinit-0.001_batchsize-8_optimizer-SGD_maxepochs-50_DA-None_PPen-None_PPha-dull_razor_PPco-shades_of_gray_PPde-None_PPno-True_PPcr-None_PPre-True_16799680882310483/new_test_pred_last\n",
                  "Saving the scores in best_results/dull_razor_shades_of_gray_2/efficientnet_b6_fold-1_lrinit-0.001_batchsize-4_optimizer-SGD_maxepochs-50_DA-None_PPen-None_PPha-dull_razor_PPco-shades_of_gray_PPde-None_PPno-True_PPcr-None_PPre-True_16798213658916688/new_test_pred_best\n",
                  "Saving the scores in best_results/dull_razor_shades_of_gray_2/efficientnet_b6_fold-1_lrinit-0.001_batchsize-4_optimizer-SGD_maxepochs-50_DA-None_PPen-None_PPha-dull_razor_PPco-shades_of_gray_PPde-None_PPno-True_PPcr-None_PPre-True_16798213658916688/new_test_pred_last\n",
                  "Saving the scores in best_results/dull_razor_shades_of_gray_2/efficientnet_b4_fold-1_lrinit-0.001_batchsize-16_optimizer-AdamW_maxepochs-50_DA-None_PPen-None_PPha-dull_razor_PPco-shades_of_gray_PPde-None_PPno-True_PPcr-None_PPre-True_1679817753880893/new_test_pred_best\n",
                  "Saving the scores in best_results/dull_razor_shades_of_gray_2/efficientnet_b4_fold-1_lrinit-0.001_batchsize-16_optimizer-AdamW_maxepochs-50_DA-None_PPen-None_PPha-dull_razor_PPco-shades_of_gray_PPde-None_PPno-True_PPcr-None_PPre-True_1679817753880893/new_test_pred_last\n",
                  "Saving the scores in best_results/dull_razor_shades_of_gray_2/efficientnet_b1_fold-1_lrinit-0.001_batchsize-8_optimizer-AdamW_maxepochs-50_DA-None_PPen-None_PPha-dull_razor_PPco-shades_of_gray_PPde-None_PPno-True_PPcr-None_PPre-True_1679813192989796/new_test_pred_best\n",
                  "Saving the scores in best_results/dull_razor_shades_of_gray_2/efficientnet_b1_fold-1_lrinit-0.001_batchsize-8_optimizer-AdamW_maxepochs-50_DA-None_PPen-None_PPha-dull_razor_PPco-shades_of_gray_PPde-None_PPno-True_PPcr-None_PPre-True_1679813192989796/new_test_pred_last\n",
                  "Saving the scores in best_results/dull_razor_shades_of_gray_2/efficientnet_b2_fold-1_lrinit-0.001_batchsize-8_optimizer-Adam_maxepochs-50_DA-None_PPen-None_PPha-dull_razor_PPco-shades_of_gray_PPde-None_PPno-True_PPcr-None_PPre-True_16798156269203851/new_test_pred_best\n",
                  "Saving the scores in best_results/dull_razor_shades_of_gray_2/efficientnet_b2_fold-1_lrinit-0.001_batchsize-8_optimizer-Adam_maxepochs-50_DA-None_PPen-None_PPha-dull_razor_PPco-shades_of_gray_PPde-None_PPno-True_PPcr-None_PPre-True_16798156269203851/new_test_pred_last\n",
                  "Saving the scores in best_results/dull_razor_shades_of_gray_2/pnasnet5large_fold-1_lrinit-0.0001_batchsize-8_optimizer-Adam_maxepochs-50_DA-None_PPen-None_PPha-dull_razor_PPco-shades_of_gray_PPde-None_PPno-True_PPcr-None_PPre-True_16799712285457146/new_test_pred_best\n",
                  "Saving the scores in best_results/dull_razor_shades_of_gray_2/pnasnet5large_fold-1_lrinit-0.0001_batchsize-8_optimizer-Adam_maxepochs-50_DA-None_PPen-None_PPha-dull_razor_PPco-shades_of_gray_PPde-None_PPno-True_PPcr-None_PPre-True_16799712285457146/new_test_pred_last\n",
                  "Saving the scores in best_results/dull_razor_shades_of_gray_2/vgg19_fold-1_lrinit-0.001_batchsize-8_optimizer-SGD_maxepochs-50_DA-None_PPen-None_PPha-dull_razor_PPco-shades_of_gray_PPde-None_PPno-True_PPcr-None_PPre-True_16799665003383408/new_test_pred_best\n",
                  "Saving the scores in best_results/dull_razor_shades_of_gray_2/vgg19_fold-1_lrinit-0.001_batchsize-8_optimizer-SGD_maxepochs-50_DA-None_PPen-None_PPha-dull_razor_PPco-shades_of_gray_PPde-None_PPno-True_PPcr-None_PPre-True_16799665003383408/new_test_pred_last\n",
                  "Saving the scores in best_results/dull_razor_shades_of_gray_2/resnest101e_fold-1_lrinit-0.0001_batchsize-8_optimizer-AdamW_maxepochs-50_DA-None_PPen-None_PPha-dull_razor_PPco-shades_of_gray_PPde-None_PPno-True_PPcr-None_PPre-True_16798283226634967/new_test_pred_best\n",
                  "Saving the scores in best_results/dull_razor_shades_of_gray_2/resnest101e_fold-1_lrinit-0.0001_batchsize-8_optimizer-AdamW_maxepochs-50_DA-None_PPen-None_PPha-dull_razor_PPco-shades_of_gray_PPde-None_PPno-True_PPcr-None_PPre-True_16798283226634967/new_test_pred_last\n",
                  "Saving the scores in best_results/dull_razor_shades_of_gray_2/tf_efficientnet_b5_fold-1_lrinit-0.0001_batchsize-8_optimizer-AdamW_maxepochs-50_DA-None_PPen-None_PPha-dull_razor_PPco-shades_of_gray_PPde-None_PPno-True_PPcr-None_PPre-True_16802800835922732/new_test_pred_best\n",
                  "Saving the scores in best_results/dull_razor_shades_of_gray_2/tf_efficientnet_b5_fold-1_lrinit-0.0001_batchsize-8_optimizer-AdamW_maxepochs-50_DA-None_PPen-None_PPha-dull_razor_PPco-shades_of_gray_PPde-None_PPno-True_PPcr-None_PPre-True_16802800835922732/new_test_pred_last\n",
                  "Experimento:  gaussian_filter\n",
                  "Experimento:  DA2_dull_razor_shades_of_gray_cropped_images_folder_moredata\n",
                  "Saving the scores in best_results/DA2_dull_razor_shades_of_gray_cropped_images_folder_moredata/efficientnet_b4_fold-1_lrinit-0.0001_batchsize-16_optimizer-AdamW_maxepochs-150_DA-2_PPen-None_PPha-dull_razor_PPco-shades_of_gray_PPde-None_PPno-True_PPcr-cropped_images_folder_PPre-True_drop-0.0_trainjustclassifier-False_168203862498437/new_test_pred_best\n",
                  "Saving the scores in best_results/DA2_dull_razor_shades_of_gray_cropped_images_folder_moredata/efficientnet_b4_fold-1_lrinit-0.0001_batchsize-16_optimizer-AdamW_maxepochs-150_DA-2_PPen-None_PPha-dull_razor_PPco-shades_of_gray_PPde-None_PPno-True_PPcr-cropped_images_folder_PPre-True_drop-0.0_trainjustclassifier-False_168203862498437/new_test_pred_last\n",
                  "Saving the scores in best_results/DA2_dull_razor_shades_of_gray_cropped_images_folder_moredata/seresnext101_32x8d_fold-1_lrinit-0.0001_batchsize-16_optimizer-Adam_maxepochs-150_DA-2_PPen-None_PPha-dull_razor_PPco-shades_of_gray_PPde-None_PPno-True_PPcr-cropped_images_folder_PPre-True_drop-0.0_trainjustclassifier-False_1682050184285796/new_test_pred_best\n",
                  "Saving the scores in best_results/DA2_dull_razor_shades_of_gray_cropped_images_folder_moredata/seresnext101_32x8d_fold-1_lrinit-0.0001_batchsize-16_optimizer-Adam_maxepochs-150_DA-2_PPen-None_PPha-dull_razor_PPco-shades_of_gray_PPde-None_PPno-True_PPcr-cropped_images_folder_PPre-True_drop-0.0_trainjustclassifier-False_1682050184285796/new_test_pred_last\n",
                  "Saving the scores in best_results/DA2_dull_razor_shades_of_gray_cropped_images_folder_moredata/resnest101e_fold-1_lrinit-0.0001_batchsize-8_optimizer-AdamW_maxepochs-150_DA-2_PPen-None_PPha-dull_razor_PPco-shades_of_gray_PPde-None_PPno-True_PPcr-cropped_images_folder_PPre-True_drop-0.0_trainjustclassifier-False_16820444266245642/new_test_pred_best\n",
                  "Saving the scores in best_results/DA2_dull_razor_shades_of_gray_cropped_images_folder_moredata/resnest101e_fold-1_lrinit-0.0001_batchsize-8_optimizer-AdamW_maxepochs-150_DA-2_PPen-None_PPha-dull_razor_PPco-shades_of_gray_PPde-None_PPno-True_PPcr-cropped_images_folder_PPre-True_drop-0.0_trainjustclassifier-False_16820444266245642/new_test_pred_last\n",
                  "Saving the scores in best_results/DA2_dull_razor_shades_of_gray_cropped_images_folder_moredata/resnext101_32x8d_fold-1_lrinit-0.0001_batchsize-8_optimizer-SGD_maxepochs-150_DA-2_PPen-None_PPha-dull_razor_PPco-shades_of_gray_PPde-None_PPno-True_PPcr-cropped_images_folder_PPre-True_drop-0.0_trainjustclassifier-False_16819548531693099/new_test_pred_best\n",
                  "Saving the scores in best_results/DA2_dull_razor_shades_of_gray_cropped_images_folder_moredata/resnext101_32x8d_fold-1_lrinit-0.0001_batchsize-8_optimizer-SGD_maxepochs-150_DA-2_PPen-None_PPha-dull_razor_PPco-shades_of_gray_PPde-None_PPno-True_PPcr-cropped_images_folder_PPre-True_drop-0.0_trainjustclassifier-False_16819548531693099/new_test_pred_last\n",
                  "Saving the scores in best_results/DA2_dull_razor_shades_of_gray_cropped_images_folder_moredata/efficientnet_b3_fold-1_lrinit-0.0001_batchsize-32_optimizer-Adam_maxepochs-150_DA-2_PPen-None_PPha-dull_razor_PPco-shades_of_gray_PPde-None_PPno-True_PPcr-cropped_images_folder_PPre-True_drop-0.0_trainjustclassifier-False_16820342080182562/new_test_pred_best\n",
                  "Saving the scores in best_results/DA2_dull_razor_shades_of_gray_cropped_images_folder_moredata/efficientnet_b3_fold-1_lrinit-0.0001_batchsize-32_optimizer-Adam_maxepochs-150_DA-2_PPen-None_PPha-dull_razor_PPco-shades_of_gray_PPde-None_PPno-True_PPcr-cropped_images_folder_PPre-True_drop-0.0_trainjustclassifier-False_16820342080182562/new_test_pred_last\n",
                  "Saving the scores in best_results/DA2_dull_razor_shades_of_gray_cropped_images_folder_moredata/efficientnet_b0_fold-1_lrinit-0.0001_batchsize-8_optimizer-AdamW_maxepochs-150_DA-2_PPen-None_PPha-dull_razor_PPco-shades_of_gray_PPde-None_PPno-True_PPcr-cropped_images_folder_PPre-True_drop-0.0_trainjustclassifier-False_16820233757486997/new_test_pred_best\n",
                  "Saving the scores in best_results/DA2_dull_razor_shades_of_gray_cropped_images_folder_moredata/efficientnet_b0_fold-1_lrinit-0.0001_batchsize-8_optimizer-AdamW_maxepochs-150_DA-2_PPen-None_PPha-dull_razor_PPco-shades_of_gray_PPde-None_PPno-True_PPcr-cropped_images_folder_PPre-True_drop-0.0_trainjustclassifier-False_16820233757486997/new_test_pred_last\n",
                  "Saving the scores in best_results/DA2_dull_razor_shades_of_gray_cropped_images_folder_moredata/tf_efficientnet_b6_fold-1_lrinit-0.0001_batchsize-4_optimizer-AdamW_maxepochs-150_DA-2_PPen-None_PPha-dull_razor_PPco-shades_of_gray_PPde-None_PPno-True_PPcr-cropped_images_folder_PPre-True_drop-0.0_trainjustclassifier-False_16819944672763467/new_test_pred_best\n",
                  "Saving the scores in best_results/DA2_dull_razor_shades_of_gray_cropped_images_folder_moredata/tf_efficientnet_b6_fold-1_lrinit-0.0001_batchsize-4_optimizer-AdamW_maxepochs-150_DA-2_PPen-None_PPha-dull_razor_PPco-shades_of_gray_PPde-None_PPno-True_PPcr-cropped_images_folder_PPre-True_drop-0.0_trainjustclassifier-False_16819944672763467/new_test_pred_last\n",
                  "Saving the scores in best_results/DA2_dull_razor_shades_of_gray_cropped_images_folder_moredata/pnasnet5large_fold-1_lrinit-0.0001_batchsize-8_optimizer-Adam_maxepochs-150_DA-2_PPen-None_PPha-dull_razor_PPco-shades_of_gray_PPde-None_PPno-True_PPcr-cropped_images_folder_PPre-True_drop-0.0_trainjustclassifier-False_16819594407020423/new_test_pred_best\n",
                  "Saving the scores in best_results/DA2_dull_razor_shades_of_gray_cropped_images_folder_moredata/pnasnet5large_fold-1_lrinit-0.0001_batchsize-8_optimizer-Adam_maxepochs-150_DA-2_PPen-None_PPha-dull_razor_PPco-shades_of_gray_PPde-None_PPno-True_PPcr-cropped_images_folder_PPre-True_drop-0.0_trainjustclassifier-False_16819594407020423/new_test_pred_last\n",
                  "Saving the scores in best_results/DA2_dull_razor_shades_of_gray_cropped_images_folder_moredata/vgg19_fold-1_lrinit-0.0001_batchsize-8_optimizer-SGD_maxepochs-150_DA-2_PPen-None_PPha-dull_razor_PPco-shades_of_gray_PPde-None_PPno-True_PPcr-cropped_images_folder_PPre-True_drop-0.0_trainjustclassifier-False_16819519708144517/new_test_pred_best\n",
                  "Saving the scores in best_results/DA2_dull_razor_shades_of_gray_cropped_images_folder_moredata/vgg19_fold-1_lrinit-0.0001_batchsize-8_optimizer-SGD_maxepochs-150_DA-2_PPen-None_PPha-dull_razor_PPco-shades_of_gray_PPde-None_PPno-True_PPcr-cropped_images_folder_PPre-True_drop-0.0_trainjustclassifier-False_16819519708144517/new_test_pred_last\n",
                  "Saving the scores in best_results/DA2_dull_razor_shades_of_gray_cropped_images_folder_moredata/tf_efficientnet_b5_fold-1_lrinit-0.0001_batchsize-8_optimizer-AdamW_maxepochs-150_DA-2_PPen-None_PPha-dull_razor_PPco-shades_of_gray_PPde-None_PPno-True_PPcr-cropped_images_folder_PPre-True_drop-0.0_trainjustclassifier-False_16819804341718845/new_test_pred_best\n",
                  "Saving the scores in best_results/DA2_dull_razor_shades_of_gray_cropped_images_folder_moredata/tf_efficientnet_b5_fold-1_lrinit-0.0001_batchsize-8_optimizer-AdamW_maxepochs-150_DA-2_PPen-None_PPha-dull_razor_PPco-shades_of_gray_PPde-None_PPno-True_PPcr-cropped_images_folder_PPre-True_drop-0.0_trainjustclassifier-False_16819804341718845/new_test_pred_last\n",
                  "Saving the scores in best_results/DA2_dull_razor_shades_of_gray_cropped_images_folder_moredata/densenet121_fold-1_lrinit-0.0001_batchsize-32_optimizer-Adam_maxepochs-150_DA-2_PPen-None_PPha-dull_razor_PPco-shades_of_gray_PPde-None_PPno-True_PPcr-cropped_images_folder_PPre-True_drop-0.0_trainjustclassifier-False_16820203098244/new_test_pred_best\n",
                  "Saving the scores in best_results/DA2_dull_razor_shades_of_gray_cropped_images_folder_moredata/densenet121_fold-1_lrinit-0.0001_batchsize-32_optimizer-Adam_maxepochs-150_DA-2_PPen-None_PPha-dull_razor_PPco-shades_of_gray_PPde-None_PPno-True_PPcr-cropped_images_folder_PPre-True_drop-0.0_trainjustclassifier-False_16820203098244/new_test_pred_last\n",
                  "Saving the scores in best_results/DA2_dull_razor_shades_of_gray_cropped_images_folder_moredata/efficientnet_b2_fold-1_lrinit-0.0001_batchsize-8_optimizer-Adam_maxepochs-150_DA-2_PPen-None_PPha-dull_razor_PPco-shades_of_gray_PPde-None_PPno-True_PPcr-cropped_images_folder_PPre-True_drop-0.0_trainjustclassifier-False_1682030126192646/new_test_pred_best\n",
                  "Saving the scores in best_results/DA2_dull_razor_shades_of_gray_cropped_images_folder_moredata/efficientnet_b2_fold-1_lrinit-0.0001_batchsize-8_optimizer-Adam_maxepochs-150_DA-2_PPen-None_PPha-dull_razor_PPco-shades_of_gray_PPde-None_PPno-True_PPcr-cropped_images_folder_PPre-True_drop-0.0_trainjustclassifier-False_1682030126192646/new_test_pred_last\n",
                  "Saving the scores in best_results/DA2_dull_razor_shades_of_gray_cropped_images_folder_moredata/efficientnet_b1_fold-1_lrinit-0.0001_batchsize-8_optimizer-AdamW_maxepochs-150_DA-2_PPen-None_PPha-dull_razor_PPco-shades_of_gray_PPde-None_PPno-True_PPcr-cropped_images_folder_PPre-True_drop-0.0_trainjustclassifier-False_16820263156371925/new_test_pred_best\n",
                  "Saving the scores in best_results/DA2_dull_razor_shades_of_gray_cropped_images_folder_moredata/efficientnet_b1_fold-1_lrinit-0.0001_batchsize-8_optimizer-AdamW_maxepochs-150_DA-2_PPen-None_PPha-dull_razor_PPco-shades_of_gray_PPde-None_PPno-True_PPcr-cropped_images_folder_PPre-True_drop-0.0_trainjustclassifier-False_16820263156371925/new_test_pred_last\n",
                  "Experimento:  shades_of_gray_2\n",
                  "Saving the scores in best_results/shades_of_gray_2/efficientnet_b2_fold-1_lrinit-0.001_batchsize-8_optimizer-Adam_maxepochs-50_DA-None_PPen-None_PPha-None_PPco-shades_of_gray_PPde-None_PPno-True_PPcr-None_PPre-True_1679987964820405/new_test_pred_best\n",
                  "Saving the scores in best_results/shades_of_gray_2/efficientnet_b2_fold-1_lrinit-0.001_batchsize-8_optimizer-Adam_maxepochs-50_DA-None_PPen-None_PPha-None_PPco-shades_of_gray_PPde-None_PPno-True_PPcr-None_PPre-True_1679987964820405/new_test_pred_last\n",
                  "Saving the scores in best_results/shades_of_gray_2/vgg19_fold-1_lrinit-0.001_batchsize-8_optimizer-SGD_maxepochs-50_DA-None_PPen-None_PPha-None_PPco-shades_of_gray_PPde-None_PPno-True_PPcr-None_PPre-True_16799957845128114/new_test_pred_best\n",
                  "Saving the scores in best_results/shades_of_gray_2/vgg19_fold-1_lrinit-0.001_batchsize-8_optimizer-SGD_maxepochs-50_DA-None_PPen-None_PPha-None_PPco-shades_of_gray_PPde-None_PPno-True_PPcr-None_PPre-True_16799957845128114/new_test_pred_last\n",
                  "Saving the scores in best_results/shades_of_gray_2/seresnext101_32x8d_fold-1_lrinit-0.0001_batchsize-32_optimizer-Adam_maxepochs-50_DA-None_PPen-None_PPha-None_PPco-shades_of_gray_PPde-None_PPno-True_PPcr-None_PPre-True_16799946368475907/new_test_pred_best\n",
                  "Saving the scores in best_results/shades_of_gray_2/seresnext101_32x8d_fold-1_lrinit-0.0001_batchsize-32_optimizer-Adam_maxepochs-50_DA-None_PPen-None_PPha-None_PPco-shades_of_gray_PPde-None_PPno-True_PPcr-None_PPre-True_16799946368475907/new_test_pred_last\n",
                  "Saving the scores in best_results/shades_of_gray_2/efficientnet_b3_fold-1_lrinit-0.001_batchsize-32_optimizer-Adam_maxepochs-50_DA-None_PPen-None_PPha-None_PPco-shades_of_gray_PPde-None_PPno-True_PPcr-None_PPre-True_16799893269597566/new_test_pred_best\n",
                  "Saving the scores in best_results/shades_of_gray_2/efficientnet_b3_fold-1_lrinit-0.001_batchsize-32_optimizer-Adam_maxepochs-50_DA-None_PPen-None_PPha-None_PPco-shades_of_gray_PPde-None_PPno-True_PPcr-None_PPre-True_16799893269597566/new_test_pred_last\n",
                  "Saving the scores in best_results/shades_of_gray_2/tf_efficientnet_b5_fold-1_lrinit-0.0001_batchsize-8_optimizer-AdamW_maxepochs-50_DA-None_PPen-None_PPha-None_PPco-shades_of_gray_PPde-None_PPno-True_PPcr-None_PPre-True_16803173460615654/new_test_pred_best\n",
                  "Saving the scores in best_results/shades_of_gray_2/tf_efficientnet_b5_fold-1_lrinit-0.0001_batchsize-8_optimizer-AdamW_maxepochs-50_DA-None_PPen-None_PPha-None_PPco-shades_of_gray_PPde-None_PPno-True_PPcr-None_PPre-True_16803173460615654/new_test_pred_last\n",
                  "Saving the scores in best_results/shades_of_gray_2/efficientnet_b1_fold-1_lrinit-0.001_batchsize-8_optimizer-AdamW_maxepochs-50_DA-None_PPen-None_PPha-None_PPco-shades_of_gray_PPde-None_PPno-True_PPcr-None_PPre-True_167998548678542/new_test_pred_best\n",
                  "Saving the scores in best_results/shades_of_gray_2/efficientnet_b1_fold-1_lrinit-0.001_batchsize-8_optimizer-AdamW_maxepochs-50_DA-None_PPen-None_PPha-None_PPco-shades_of_gray_PPde-None_PPno-True_PPcr-None_PPre-True_167998548678542/new_test_pred_last\n",
                  "Saving the scores in best_results/shades_of_gray_2/efficientnet_b0_fold-1_lrinit-0.001_batchsize-8_optimizer-AdamW_maxepochs-50_DA-None_PPen-None_PPha-None_PPco-shades_of_gray_PPde-None_PPno-True_PPcr-None_PPre-True_1679983798925214/new_test_pred_best\n",
                  "Saving the scores in best_results/shades_of_gray_2/efficientnet_b0_fold-1_lrinit-0.001_batchsize-8_optimizer-AdamW_maxepochs-50_DA-None_PPen-None_PPha-None_PPco-shades_of_gray_PPde-None_PPno-True_PPcr-None_PPre-True_1679983798925214/new_test_pred_last\n",
                  "Saving the scores in best_results/shades_of_gray_2/tf_efficientnet_b6_fold-1_lrinit-0.0001_batchsize-4_optimizer-AdamW_maxepochs-50_DA-None_PPen-None_PPha-None_PPco-shades_of_gray_PPde-None_PPno-True_PPcr-None_PPre-True_16803210087283986/new_test_pred_best\n",
                  "Saving the scores in best_results/shades_of_gray_2/tf_efficientnet_b6_fold-1_lrinit-0.0001_batchsize-4_optimizer-AdamW_maxepochs-50_DA-None_PPen-None_PPha-None_PPco-shades_of_gray_PPde-None_PPno-True_PPcr-None_PPre-True_16803210087283986/new_test_pred_last\n",
                  "Saving the scores in best_results/shades_of_gray_2/pnasnet5large_fold-1_lrinit-0.0001_batchsize-8_optimizer-Adam_maxepochs-50_DA-None_PPen-None_PPha-None_PPco-shades_of_gray_PPde-None_PPno-True_PPcr-None_PPre-True_16799988245531487/new_test_pred_best\n",
                  "Saving the scores in best_results/shades_of_gray_2/pnasnet5large_fold-1_lrinit-0.0001_batchsize-8_optimizer-Adam_maxepochs-50_DA-None_PPen-None_PPha-None_PPco-shades_of_gray_PPde-None_PPno-True_PPcr-None_PPre-True_16799988245531487/new_test_pred_last\n",
                  "Saving the scores in best_results/shades_of_gray_2/resnext101_32x8d_fold-1_lrinit-0.001_batchsize-8_optimizer-SGD_maxepochs-50_DA-None_PPen-None_PPha-None_PPco-shades_of_gray_PPde-None_PPno-True_PPcr-None_PPre-True_16799970013624105/new_test_pred_best\n",
                  "Saving the scores in best_results/shades_of_gray_2/resnext101_32x8d_fold-1_lrinit-0.001_batchsize-8_optimizer-SGD_maxepochs-50_DA-None_PPen-None_PPha-None_PPco-shades_of_gray_PPde-None_PPno-True_PPcr-None_PPre-True_16799970013624105/new_test_pred_last\n",
                  "Saving the scores in best_results/shades_of_gray_2/resnest101e_fold-1_lrinit-0.0001_batchsize-8_optimizer-AdamW_maxepochs-50_DA-None_PPen-None_PPha-None_PPco-shades_of_gray_PPde-None_PPno-True_PPcr-None_PPre-True_16799928733854673/new_test_pred_best\n",
                  "Saving the scores in best_results/shades_of_gray_2/resnest101e_fold-1_lrinit-0.0001_batchsize-8_optimizer-AdamW_maxepochs-50_DA-None_PPen-None_PPha-None_PPco-shades_of_gray_PPde-None_PPno-True_PPcr-None_PPre-True_16799928733854673/new_test_pred_last\n",
                  "Saving the scores in best_results/shades_of_gray_2/densenet121_fold-1_lrinit-0.0001_batchsize-32_optimizer-Adam_maxepochs-50_DA-None_PPen-None_PPha-None_PPco-shades_of_gray_PPde-None_PPno-True_PPcr-None_PPre-True_16803267859409833/new_test_pred_best\n",
                  "Saving the scores in best_results/shades_of_gray_2/densenet121_fold-1_lrinit-0.0001_batchsize-32_optimizer-Adam_maxepochs-50_DA-None_PPen-None_PPha-None_PPco-shades_of_gray_PPde-None_PPno-True_PPcr-None_PPre-True_16803267859409833/new_test_pred_last\n",
                  "Saving the scores in best_results/shades_of_gray_2/efficientnet_b4_fold-1_lrinit-0.001_batchsize-16_optimizer-AdamW_maxepochs-50_DA-None_PPen-None_PPha-None_PPco-shades_of_gray_PPde-None_PPno-True_PPcr-None_PPre-True_16799905737091563/new_test_pred_best\n",
                  "Saving the scores in best_results/shades_of_gray_2/efficientnet_b4_fold-1_lrinit-0.001_batchsize-16_optimizer-AdamW_maxepochs-50_DA-None_PPen-None_PPha-None_PPco-shades_of_gray_PPde-None_PPno-True_PPcr-None_PPre-True_16799905737091563/new_test_pred_last\n",
                  "Experimento:  noDA_dull_razor\n",
                  "Saving the scores in best_results/noDA_dull_razor/efficientnet_b0_fold-1_lrinit-0.0001_batchsize-8_optimizer-AdamW_maxepochs-150_DA-None_PPen-None_PPha-dull_razor_PPco-None_PPde-None_PPno-True_PPcr-None_PPre-True_drop-0.0_trainjustclassifier-False_16815995135528414/new_test_pred_best\n",
                  "Saving the scores in best_results/noDA_dull_razor/efficientnet_b0_fold-1_lrinit-0.0001_batchsize-8_optimizer-AdamW_maxepochs-150_DA-None_PPen-None_PPha-dull_razor_PPco-None_PPde-None_PPno-True_PPcr-None_PPre-True_drop-0.0_trainjustclassifier-False_16815995135528414/new_test_pred_last\n",
                  "Saving the scores in best_results/noDA_dull_razor/tf_efficientnet_b6_fold-1_lrinit-0.0001_batchsize-4_optimizer-AdamW_maxepochs-150_DA-None_PPen-None_PPha-dull_razor_PPco-None_PPde-None_PPno-True_PPcr-None_PPre-True_drop-0.0_trainjustclassifier-False_16815857767128134/new_test_pred_best\n",
                  "Saving the scores in best_results/noDA_dull_razor/tf_efficientnet_b6_fold-1_lrinit-0.0001_batchsize-4_optimizer-AdamW_maxepochs-150_DA-None_PPen-None_PPha-dull_razor_PPco-None_PPde-None_PPno-True_PPcr-None_PPre-True_drop-0.0_trainjustclassifier-False_16815857767128134/new_test_pred_last\n",
                  "Saving the scores in best_results/noDA_dull_razor/pnasnet5large_fold-1_lrinit-0.0001_batchsize-8_optimizer-Adam_maxepochs-150_DA-None_PPen-None_PPha-dull_razor_PPco-None_PPde-None_PPno-True_PPcr-None_PPre-True_drop-0.0_trainjustclassifier-False_16816292515547552/new_test_pred_best\n",
                  "Saving the scores in best_results/noDA_dull_razor/pnasnet5large_fold-1_lrinit-0.0001_batchsize-8_optimizer-Adam_maxepochs-150_DA-None_PPen-None_PPha-dull_razor_PPco-None_PPde-None_PPno-True_PPcr-None_PPre-True_drop-0.0_trainjustclassifier-False_16816292515547552/new_test_pred_last\n",
                  "Saving the scores in best_results/noDA_dull_razor/vgg19_fold-1_lrinit-0.0001_batchsize-8_optimizer-SGD_maxepochs-150_DA-None_PPen-None_PPha-dull_razor_PPco-None_PPde-None_PPno-True_PPcr-None_PPre-True_drop-0.0_trainjustclassifier-False_16816232832927237/new_test_pred_best\n",
                  "Saving the scores in best_results/noDA_dull_razor/vgg19_fold-1_lrinit-0.0001_batchsize-8_optimizer-SGD_maxepochs-150_DA-None_PPen-None_PPha-dull_razor_PPco-None_PPde-None_PPno-True_PPcr-None_PPre-True_drop-0.0_trainjustclassifier-False_16816232832927237/new_test_pred_last\n",
                  "Saving the scores in best_results/noDA_dull_razor/efficientnet_b1_fold-1_lrinit-0.0001_batchsize-8_optimizer-AdamW_maxepochs-150_DA-None_PPen-None_PPha-dull_razor_PPco-None_PPde-None_PPno-True_PPcr-None_PPre-True_drop-0.0_trainjustclassifier-False_16816021275656128/new_test_pred_best\n",
                  "Saving the scores in best_results/noDA_dull_razor/efficientnet_b1_fold-1_lrinit-0.0001_batchsize-8_optimizer-AdamW_maxepochs-150_DA-None_PPen-None_PPha-dull_razor_PPco-None_PPde-None_PPno-True_PPcr-None_PPre-True_drop-0.0_trainjustclassifier-False_16816021275656128/new_test_pred_last\n",
                  "Saving the scores in best_results/noDA_dull_razor/tf_efficientnet_b5_fold-1_lrinit-0.0001_batchsize-8_optimizer-AdamW_maxepochs-150_DA-None_PPen-None_PPha-dull_razor_PPco-None_PPde-None_PPno-True_PPcr-None_PPre-True_drop-0.0_trainjustclassifier-False_1681578343547154/new_test_pred_best\n",
                  "Saving the scores in best_results/noDA_dull_razor/tf_efficientnet_b5_fold-1_lrinit-0.0001_batchsize-8_optimizer-AdamW_maxepochs-150_DA-None_PPen-None_PPha-dull_razor_PPco-None_PPde-None_PPno-True_PPcr-None_PPre-True_drop-0.0_trainjustclassifier-False_1681578343547154/new_test_pred_last\n",
                  "Saving the scores in best_results/noDA_dull_razor/seresnext101_32x8d_fold-1_lrinit-0.0001_batchsize-16_optimizer-Adam_maxepochs-150_DA-None_PPen-None_PPha-dull_razor_PPco-None_PPde-None_PPno-True_PPcr-None_PPre-True_drop-0.0_trainjustclassifier-False_16816197748986473/new_test_pred_best\n",
                  "Saving the scores in best_results/noDA_dull_razor/seresnext101_32x8d_fold-1_lrinit-0.0001_batchsize-16_optimizer-Adam_maxepochs-150_DA-None_PPen-None_PPha-dull_razor_PPco-None_PPde-None_PPno-True_PPcr-None_PPre-True_drop-0.0_trainjustclassifier-False_16816197748986473/new_test_pred_last\n",
                  "Saving the scores in best_results/noDA_dull_razor/efficientnet_b3_fold-1_lrinit-0.0001_batchsize-32_optimizer-Adam_maxepochs-150_DA-None_PPen-None_PPha-dull_razor_PPco-None_PPde-None_PPno-True_PPcr-None_PPre-True_drop-0.0_trainjustclassifier-False_168160886658134/new_test_pred_best\n",
                  "Saving the scores in best_results/noDA_dull_razor/efficientnet_b3_fold-1_lrinit-0.0001_batchsize-32_optimizer-Adam_maxepochs-150_DA-None_PPen-None_PPha-dull_razor_PPco-None_PPde-None_PPno-True_PPcr-None_PPre-True_drop-0.0_trainjustclassifier-False_168160886658134/new_test_pred_last\n",
                  "Saving the scores in best_results/noDA_dull_razor/densenet121_fold-1_lrinit-0.0001_batchsize-32_optimizer-Adam_maxepochs-150_DA-None_PPen-None_PPha-dull_razor_PPco-None_PPde-None_PPno-True_PPcr-None_PPre-True_drop-0.0_trainjustclassifier-False_16815960100901015/new_test_pred_best\n",
                  "Saving the scores in best_results/noDA_dull_razor/densenet121_fold-1_lrinit-0.0001_batchsize-32_optimizer-Adam_maxepochs-150_DA-None_PPen-None_PPha-dull_razor_PPco-None_PPde-None_PPno-True_PPcr-None_PPre-True_drop-0.0_trainjustclassifier-False_16815960100901015/new_test_pred_last\n",
                  "Saving the scores in best_results/noDA_dull_razor/resnest101e_fold-1_lrinit-0.0001_batchsize-8_optimizer-AdamW_maxepochs-150_DA-None_PPen-None_PPha-dull_razor_PPco-None_PPde-None_PPno-True_PPcr-None_PPre-True_drop-0.0_trainjustclassifier-False_16816147399259887/new_test_pred_best\n",
                  "Saving the scores in best_results/noDA_dull_razor/resnest101e_fold-1_lrinit-0.0001_batchsize-8_optimizer-AdamW_maxepochs-150_DA-None_PPen-None_PPha-dull_razor_PPco-None_PPde-None_PPno-True_PPcr-None_PPre-True_drop-0.0_trainjustclassifier-False_16816147399259887/new_test_pred_last\n",
                  "Saving the scores in best_results/noDA_dull_razor/efficientnet_b2_fold-1_lrinit-0.0001_batchsize-8_optimizer-Adam_maxepochs-150_DA-None_PPen-None_PPha-dull_razor_PPco-None_PPde-None_PPno-True_PPcr-None_PPre-True_drop-0.0_trainjustclassifier-False_1681605452092757/new_test_pred_best\n",
                  "Saving the scores in best_results/noDA_dull_razor/efficientnet_b2_fold-1_lrinit-0.0001_batchsize-8_optimizer-Adam_maxepochs-150_DA-None_PPen-None_PPha-dull_razor_PPco-None_PPde-None_PPno-True_PPcr-None_PPre-True_drop-0.0_trainjustclassifier-False_1681605452092757/new_test_pred_last\n",
                  "Saving the scores in best_results/noDA_dull_razor/efficientnet_b4_fold-1_lrinit-0.0001_batchsize-16_optimizer-AdamW_maxepochs-150_DA-None_PPen-None_PPha-dull_razor_PPco-None_PPde-None_PPno-True_PPcr-None_PPre-True_drop-0.0_trainjustclassifier-False_16816117612299373/new_test_pred_best\n",
                  "Saving the scores in best_results/noDA_dull_razor/efficientnet_b4_fold-1_lrinit-0.0001_batchsize-16_optimizer-AdamW_maxepochs-150_DA-None_PPen-None_PPha-dull_razor_PPco-None_PPde-None_PPno-True_PPcr-None_PPre-True_drop-0.0_trainjustclassifier-False_16816117612299373/new_test_pred_last\n",
                  "Saving the scores in best_results/noDA_dull_razor/resnext101_32x8d_fold-1_lrinit-0.0001_batchsize-8_optimizer-SGD_maxepochs-150_DA-None_PPen-None_PPha-dull_razor_PPco-None_PPde-None_PPno-True_PPcr-None_PPre-True_drop-0.0_trainjustclassifier-False_16816259025290165/new_test_pred_best\n",
                  "Saving the scores in best_results/noDA_dull_razor/resnext101_32x8d_fold-1_lrinit-0.0001_batchsize-8_optimizer-SGD_maxepochs-150_DA-None_PPen-None_PPha-dull_razor_PPco-None_PPde-None_PPno-True_PPcr-None_PPre-True_drop-0.0_trainjustclassifier-False_16816259025290165/new_test_pred_last\n",
                  "Experimento:  noDA_noPP\n",
                  "Experimento:  shades_of_gray\n",
                  "Experimento:  mean_filter\n",
                  "Experimento:  mean_filter_2\n",
                  "Experimento:  noDA_CLAHE_dull_razor_shades_of_gray_cropped_images_folder_150_epochs\n",
                  "Saving the scores in best_results/noDA_CLAHE_dull_razor_shades_of_gray_cropped_images_folder_150_epochs/resnest101e_fold-1_lrinit-0.0001_batchsize-8_optimizer-AdamW_maxepochs-150_DA-None_PPen-CLAHE_PPha-dull_razor_PPco-shades_of_gray_PPde-None_PPno-True_PPcr-cropped_images_folder_PPre-True_drop-0.0_trainjustclassifier-False_16822684805454805/new_test_pred_best\n",
                  "Saving the scores in best_results/noDA_CLAHE_dull_razor_shades_of_gray_cropped_images_folder_150_epochs/resnest101e_fold-1_lrinit-0.0001_batchsize-8_optimizer-AdamW_maxepochs-150_DA-None_PPen-CLAHE_PPha-dull_razor_PPco-shades_of_gray_PPde-None_PPno-True_PPcr-cropped_images_folder_PPre-True_drop-0.0_trainjustclassifier-False_16822684805454805/new_test_pred_last\n",
                  "Saving the scores in best_results/noDA_CLAHE_dull_razor_shades_of_gray_cropped_images_folder_150_epochs/efficientnet_b4_fold-1_lrinit-0.0001_batchsize-16_optimizer-AdamW_maxepochs-150_DA-None_PPen-CLAHE_PPha-dull_razor_PPco-shades_of_gray_PPde-None_PPno-True_PPcr-cropped_images_folder_PPre-True_drop-0.0_trainjustclassifier-False_1682261769617501/new_test_pred_best\n",
                  "Saving the scores in best_results/noDA_CLAHE_dull_razor_shades_of_gray_cropped_images_folder_150_epochs/efficientnet_b4_fold-1_lrinit-0.0001_batchsize-16_optimizer-AdamW_maxepochs-150_DA-None_PPen-CLAHE_PPha-dull_razor_PPco-shades_of_gray_PPde-None_PPno-True_PPcr-cropped_images_folder_PPre-True_drop-0.0_trainjustclassifier-False_1682261769617501/new_test_pred_last\n",
                  "Saving the scores in best_results/noDA_CLAHE_dull_razor_shades_of_gray_cropped_images_folder_150_epochs/efficientnet_b1_fold-1_lrinit-0.0001_batchsize-8_optimizer-AdamW_maxepochs-150_DA-None_PPen-CLAHE_PPha-dull_razor_PPco-shades_of_gray_PPde-None_PPno-True_PPcr-cropped_images_folder_PPre-True_drop-0.0_trainjustclassifier-False_1682248022685368/new_test_pred_best\n",
                  "Saving the scores in best_results/noDA_CLAHE_dull_razor_shades_of_gray_cropped_images_folder_150_epochs/efficientnet_b1_fold-1_lrinit-0.0001_batchsize-8_optimizer-AdamW_maxepochs-150_DA-None_PPen-CLAHE_PPha-dull_razor_PPco-shades_of_gray_PPde-None_PPno-True_PPcr-cropped_images_folder_PPre-True_drop-0.0_trainjustclassifier-False_1682248022685368/new_test_pred_last\n",
                  "Saving the scores in best_results/noDA_CLAHE_dull_razor_shades_of_gray_cropped_images_folder_150_epochs/tf_efficientnet_b5_fold-1_lrinit-0.0001_batchsize-8_optimizer-AdamW_maxepochs-150_DA-None_PPen-CLAHE_PPha-dull_razor_PPco-shades_of_gray_PPde-None_PPno-True_PPcr-cropped_images_folder_PPre-True_drop-0.0_trainjustclassifier-False_16821710843239017/new_test_pred_best\n",
                  "Saving the scores in best_results/noDA_CLAHE_dull_razor_shades_of_gray_cropped_images_folder_150_epochs/tf_efficientnet_b5_fold-1_lrinit-0.0001_batchsize-8_optimizer-AdamW_maxepochs-150_DA-None_PPen-CLAHE_PPha-dull_razor_PPco-shades_of_gray_PPde-None_PPno-True_PPcr-cropped_images_folder_PPre-True_drop-0.0_trainjustclassifier-False_16821710843239017/new_test_pred_last\n",
                  "Saving the scores in best_results/noDA_CLAHE_dull_razor_shades_of_gray_cropped_images_folder_150_epochs/seresnext101_32x8d_fold-1_lrinit-0.0001_batchsize-16_optimizer-Adam_maxepochs-150_DA-None_PPen-CLAHE_PPha-dull_razor_PPco-shades_of_gray_PPde-None_PPno-True_PPcr-cropped_images_folder_PPre-True_drop-0.0_trainjustclassifier-False_16822753237849932/new_test_pred_best\n",
                  "Saving the scores in best_results/noDA_CLAHE_dull_razor_shades_of_gray_cropped_images_folder_150_epochs/seresnext101_32x8d_fold-1_lrinit-0.0001_batchsize-16_optimizer-Adam_maxepochs-150_DA-None_PPen-CLAHE_PPha-dull_razor_PPco-shades_of_gray_PPde-None_PPno-True_PPcr-cropped_images_folder_PPre-True_drop-0.0_trainjustclassifier-False_16822753237849932/new_test_pred_last\n",
                  "Saving the scores in best_results/noDA_CLAHE_dull_razor_shades_of_gray_cropped_images_folder_150_epochs/efficientnet_b0_fold-1_lrinit-0.0001_batchsize-8_optimizer-AdamW_maxepochs-150_DA-None_PPen-CLAHE_PPha-dull_razor_PPco-shades_of_gray_PPde-None_PPno-True_PPcr-cropped_images_folder_PPre-True_drop-0.0_trainjustclassifier-False_16822441621434925/new_test_pred_best\n",
                  "Saving the scores in best_results/noDA_CLAHE_dull_razor_shades_of_gray_cropped_images_folder_150_epochs/efficientnet_b0_fold-1_lrinit-0.0001_batchsize-8_optimizer-AdamW_maxepochs-150_DA-None_PPen-CLAHE_PPha-dull_razor_PPco-shades_of_gray_PPde-None_PPno-True_PPcr-cropped_images_folder_PPre-True_drop-0.0_trainjustclassifier-False_16822441621434925/new_test_pred_last\n",
                  "Saving the scores in best_results/noDA_CLAHE_dull_razor_shades_of_gray_cropped_images_folder_150_epochs/vgg19_fold-1_lrinit-0.0001_batchsize-8_optimizer-SGD_maxepochs-150_DA-None_PPen-CLAHE_PPha-dull_razor_PPco-shades_of_gray_PPde-None_PPno-True_PPcr-cropped_images_folder_PPre-True_drop-0.0_trainjustclassifier-False_16822792562569506/new_test_pred_best\n",
                  "Saving the scores in best_results/noDA_CLAHE_dull_razor_shades_of_gray_cropped_images_folder_150_epochs/vgg19_fold-1_lrinit-0.0001_batchsize-8_optimizer-SGD_maxepochs-150_DA-None_PPen-CLAHE_PPha-dull_razor_PPco-shades_of_gray_PPde-None_PPno-True_PPcr-cropped_images_folder_PPre-True_drop-0.0_trainjustclassifier-False_16822792562569506/new_test_pred_last\n",
                  "Saving the scores in best_results/noDA_CLAHE_dull_razor_shades_of_gray_cropped_images_folder_150_epochs/tf_efficientnet_b6_fold-1_lrinit-0.0001_batchsize-4_optimizer-AdamW_maxepochs-150_DA-None_PPen-CLAHE_PPha-dull_razor_PPco-shades_of_gray_PPde-None_PPno-True_PPcr-cropped_images_folder_PPre-True_drop-0.0_trainjustclassifier-False_16821996159821532/new_test_pred_best\n",
                  "Saving the scores in best_results/noDA_CLAHE_dull_razor_shades_of_gray_cropped_images_folder_150_epochs/tf_efficientnet_b6_fold-1_lrinit-0.0001_batchsize-4_optimizer-AdamW_maxepochs-150_DA-None_PPen-CLAHE_PPha-dull_razor_PPco-shades_of_gray_PPde-None_PPno-True_PPcr-cropped_images_folder_PPre-True_drop-0.0_trainjustclassifier-False_16821996159821532/new_test_pred_last\n",
                  "Saving the scores in best_results/noDA_CLAHE_dull_razor_shades_of_gray_cropped_images_folder_150_epochs/efficientnet_b3_fold-1_lrinit-0.0001_batchsize-32_optimizer-Adam_maxepochs-150_DA-None_PPen-CLAHE_PPha-dull_razor_PPco-shades_of_gray_PPde-None_PPno-True_PPcr-cropped_images_folder_PPre-True_drop-0.0_trainjustclassifier-False_16822562694846432/new_test_pred_best\n",
                  "Saving the scores in best_results/noDA_CLAHE_dull_razor_shades_of_gray_cropped_images_folder_150_epochs/efficientnet_b3_fold-1_lrinit-0.0001_batchsize-32_optimizer-Adam_maxepochs-150_DA-None_PPen-CLAHE_PPha-dull_razor_PPco-shades_of_gray_PPde-None_PPno-True_PPcr-cropped_images_folder_PPre-True_drop-0.0_trainjustclassifier-False_16822562694846432/new_test_pred_last\n",
                  "Saving the scores in best_results/noDA_CLAHE_dull_razor_shades_of_gray_cropped_images_folder_150_epochs/pnasnet5large_fold-1_lrinit-0.0001_batchsize-8_optimizer-Adam_maxepochs-150_DA-None_PPen-CLAHE_PPha-dull_razor_PPco-shades_of_gray_PPde-None_PPno-True_PPcr-cropped_images_folder_PPre-True_drop-0.0_trainjustclassifier-False_16822876867185595/new_test_pred_best\n",
                  "Saving the scores in best_results/noDA_CLAHE_dull_razor_shades_of_gray_cropped_images_folder_150_epochs/pnasnet5large_fold-1_lrinit-0.0001_batchsize-8_optimizer-Adam_maxepochs-150_DA-None_PPen-CLAHE_PPha-dull_razor_PPco-shades_of_gray_PPde-None_PPno-True_PPcr-cropped_images_folder_PPre-True_drop-0.0_trainjustclassifier-False_16822876867185595/new_test_pred_last\n",
                  "Saving the scores in best_results/noDA_CLAHE_dull_razor_shades_of_gray_cropped_images_folder_150_epochs/densenet121_fold-1_lrinit-0.0001_batchsize-32_optimizer-Adam_maxepochs-150_DA-None_PPen-CLAHE_PPha-dull_razor_PPco-shades_of_gray_PPde-None_PPno-True_PPcr-cropped_images_folder_PPre-True_drop-0.0_trainjustclassifier-False_16822403095516422/new_test_pred_best\n",
                  "Saving the scores in best_results/noDA_CLAHE_dull_razor_shades_of_gray_cropped_images_folder_150_epochs/densenet121_fold-1_lrinit-0.0001_batchsize-32_optimizer-Adam_maxepochs-150_DA-None_PPen-CLAHE_PPha-dull_razor_PPco-shades_of_gray_PPde-None_PPno-True_PPcr-cropped_images_folder_PPre-True_drop-0.0_trainjustclassifier-False_16822403095516422/new_test_pred_last\n",
                  "Saving the scores in best_results/noDA_CLAHE_dull_razor_shades_of_gray_cropped_images_folder_150_epochs/resnext101_32x8d_fold-1_lrinit-0.0001_batchsize-8_optimizer-SGD_maxepochs-150_DA-None_PPen-CLAHE_PPha-dull_razor_PPco-shades_of_gray_PPde-None_PPno-True_PPcr-cropped_images_folder_PPre-True_drop-0.0_trainjustclassifier-False_16822824349913924/new_test_pred_best\n",
                  "Saving the scores in best_results/noDA_CLAHE_dull_razor_shades_of_gray_cropped_images_folder_150_epochs/resnext101_32x8d_fold-1_lrinit-0.0001_batchsize-8_optimizer-SGD_maxepochs-150_DA-None_PPen-CLAHE_PPha-dull_razor_PPco-shades_of_gray_PPde-None_PPno-True_PPcr-cropped_images_folder_PPre-True_drop-0.0_trainjustclassifier-False_16822824349913924/new_test_pred_last\n",
                  "Saving the scores in best_results/noDA_CLAHE_dull_razor_shades_of_gray_cropped_images_folder_150_epochs/efficientnet_b2_fold-1_lrinit-0.0001_batchsize-8_optimizer-Adam_maxepochs-150_DA-None_PPen-CLAHE_PPha-dull_razor_PPco-shades_of_gray_PPde-None_PPno-True_PPcr-cropped_images_folder_PPre-True_drop-0.0_trainjustclassifier-False_16822522254006083/new_test_pred_best\n",
                  "Saving the scores in best_results/noDA_CLAHE_dull_razor_shades_of_gray_cropped_images_folder_150_epochs/efficientnet_b2_fold-1_lrinit-0.0001_batchsize-8_optimizer-Adam_maxepochs-150_DA-None_PPen-CLAHE_PPha-dull_razor_PPco-shades_of_gray_PPde-None_PPno-True_PPcr-cropped_images_folder_PPre-True_drop-0.0_trainjustclassifier-False_16822522254006083/new_test_pred_last\n",
                  "Experimento:  noDA_noPP_2\n",
                  "Saving the scores in best_results/noDA_noPP_2/densenet121_fold-1_lrinit-0.0001_batchsize-32_optimizer-Adam_maxepochs-50_DA-None_PPen-None_PPha-None_PPco-None_PPde-None_PPno-True_PPcr-None_PPre-True_16804494117531004/new_test_pred_best\n",
                  "Saving the scores in best_results/noDA_noPP_2/densenet121_fold-1_lrinit-0.0001_batchsize-32_optimizer-Adam_maxepochs-50_DA-None_PPen-None_PPha-None_PPco-None_PPde-None_PPno-True_PPcr-None_PPre-True_16804494117531004/new_test_pred_last\n",
                  "Saving the scores in best_results/noDA_noPP_2/pnasnet5large_fold-1_lrinit-0.0001_batchsize-8_optimizer-Adam_maxepochs-50_DA-None_PPen-None_PPha-None_PPco-None_PPde-None_PPno-True_PPcr-None_PPre-True_16804659269966524/new_test_pred_best\n",
                  "Saving the scores in best_results/noDA_noPP_2/pnasnet5large_fold-1_lrinit-0.0001_batchsize-8_optimizer-Adam_maxepochs-50_DA-None_PPen-None_PPha-None_PPco-None_PPde-None_PPno-True_PPcr-None_PPre-True_16804659269966524/new_test_pred_last\n",
                  "Saving the scores in best_results/noDA_noPP_2/seresnext101_32x8d_fold-1_lrinit-0.0001_batchsize-32_optimizer-Adam_maxepochs-50_DA-None_PPen-None_PPha-None_PPco-None_PPde-None_PPno-True_PPcr-None_PPre-True_16804603710790324/new_test_pred_best\n",
                  "Saving the scores in best_results/noDA_noPP_2/seresnext101_32x8d_fold-1_lrinit-0.0001_batchsize-32_optimizer-Adam_maxepochs-50_DA-None_PPen-None_PPha-None_PPco-None_PPde-None_PPno-True_PPcr-None_PPre-True_16804603710790324/new_test_pred_last\n",
                  "Saving the scores in best_results/noDA_noPP_2/resnext101_32x8d_fold-1_lrinit-0.001_batchsize-8_optimizer-SGD_maxepochs-50_DA-None_PPen-None_PPha-None_PPco-None_PPde-None_PPno-True_PPcr-None_PPre-True_1680463849842641/new_test_pred_best\n",
                  "Saving the scores in best_results/noDA_noPP_2/resnext101_32x8d_fold-1_lrinit-0.001_batchsize-8_optimizer-SGD_maxepochs-50_DA-None_PPen-None_PPha-None_PPco-None_PPde-None_PPno-True_PPcr-None_PPre-True_1680463849842641/new_test_pred_last\n",
                  "Saving the scores in best_results/noDA_noPP_2/tf_efficientnet_b5_fold-1_lrinit-0.0001_batchsize-8_optimizer-AdamW_maxepochs-50_DA-None_PPen-None_PPha-None_PPco-None_PPde-None_PPno-True_PPcr-None_PPre-True_16804371971029034/new_test_pred_best\n",
                  "Saving the scores in best_results/noDA_noPP_2/tf_efficientnet_b5_fold-1_lrinit-0.0001_batchsize-8_optimizer-AdamW_maxepochs-50_DA-None_PPen-None_PPha-None_PPco-None_PPde-None_PPno-True_PPcr-None_PPre-True_16804371971029034/new_test_pred_last\n",
                  "Saving the scores in best_results/noDA_noPP_2/efficientnet_b0_fold-1_lrinit-0.001_batchsize-8_optimizer-AdamW_maxepochs-50_DA-None_PPen-None_PPha-None_PPco-None_PPde-None_PPno-True_PPcr-None_PPre-True_16804503982108653/new_test_pred_best\n",
                  "Saving the scores in best_results/noDA_noPP_2/efficientnet_b0_fold-1_lrinit-0.001_batchsize-8_optimizer-AdamW_maxepochs-50_DA-None_PPen-None_PPha-None_PPco-None_PPde-None_PPno-True_PPcr-None_PPre-True_16804503982108653/new_test_pred_last\n",
                  "Saving the scores in best_results/noDA_noPP_2/efficientnet_b4_fold-1_lrinit-0.001_batchsize-16_optimizer-AdamW_maxepochs-50_DA-None_PPen-None_PPha-None_PPco-None_PPde-None_PPno-True_PPcr-None_PPre-True_16804558435045285/new_test_pred_best\n",
                  "Saving the scores in best_results/noDA_noPP_2/efficientnet_b4_fold-1_lrinit-0.001_batchsize-16_optimizer-AdamW_maxepochs-50_DA-None_PPen-None_PPha-None_PPco-None_PPde-None_PPno-True_PPcr-None_PPre-True_16804558435045285/new_test_pred_last\n",
                  "Saving the scores in best_results/noDA_noPP_2/efficientnet_b2_fold-1_lrinit-0.001_batchsize-8_optimizer-Adam_maxepochs-50_DA-None_PPen-None_PPha-None_PPco-None_PPde-None_PPno-True_PPcr-None_PPre-True_16804534530655181/new_test_pred_best\n",
                  "Saving the scores in best_results/noDA_noPP_2/efficientnet_b2_fold-1_lrinit-0.001_batchsize-8_optimizer-Adam_maxepochs-50_DA-None_PPen-None_PPha-None_PPco-None_PPde-None_PPno-True_PPcr-None_PPre-True_16804534530655181/new_test_pred_last\n",
                  "Saving the scores in best_results/noDA_noPP_2/tf_efficientnet_b6_fold-1_lrinit-0.0001_batchsize-4_optimizer-AdamW_maxepochs-50_DA-None_PPen-None_PPha-None_PPco-None_PPde-None_PPno-True_PPcr-None_PPre-True_16804433789744487/new_test_pred_best\n",
                  "Saving the scores in best_results/noDA_noPP_2/tf_efficientnet_b6_fold-1_lrinit-0.0001_batchsize-4_optimizer-AdamW_maxepochs-50_DA-None_PPen-None_PPha-None_PPco-None_PPde-None_PPno-True_PPcr-None_PPre-True_16804433789744487/new_test_pred_last\n",
                  "Saving the scores in best_results/noDA_noPP_2/resnest101e_fold-1_lrinit-0.0001_batchsize-8_optimizer-AdamW_maxepochs-50_DA-None_PPen-None_PPha-None_PPco-None_PPde-None_PPno-True_PPcr-None_PPre-True_16804584377782383/new_test_pred_best\n",
                  "Saving the scores in best_results/noDA_noPP_2/resnest101e_fold-1_lrinit-0.0001_batchsize-8_optimizer-AdamW_maxepochs-50_DA-None_PPen-None_PPha-None_PPco-None_PPde-None_PPno-True_PPcr-None_PPre-True_16804584377782383/new_test_pred_last\n",
                  "Saving the scores in best_results/noDA_noPP_2/vgg19_fold-1_lrinit-0.001_batchsize-8_optimizer-SGD_maxepochs-50_DA-None_PPen-None_PPha-None_PPco-None_PPde-None_PPno-True_PPcr-None_PPre-True_16804621860224955/new_test_pred_best\n",
                  "Saving the scores in best_results/noDA_noPP_2/vgg19_fold-1_lrinit-0.001_batchsize-8_optimizer-SGD_maxepochs-50_DA-None_PPen-None_PPha-None_PPco-None_PPde-None_PPno-True_PPcr-None_PPre-True_16804621860224955/new_test_pred_last\n",
                  "Saving the scores in best_results/noDA_noPP_2/efficientnet_b3_fold-1_lrinit-0.001_batchsize-32_optimizer-Adam_maxepochs-50_DA-None_PPen-None_PPha-None_PPco-None_PPde-None_PPno-True_PPcr-None_PPre-True_16804548918545344/new_test_pred_best\n",
                  "Saving the scores in best_results/noDA_noPP_2/efficientnet_b3_fold-1_lrinit-0.001_batchsize-32_optimizer-Adam_maxepochs-50_DA-None_PPen-None_PPha-None_PPco-None_PPde-None_PPno-True_PPcr-None_PPre-True_16804548918545344/new_test_pred_last\n",
                  "Saving the scores in best_results/noDA_noPP_2/efficientnet_b1_fold-1_lrinit-0.001_batchsize-8_optimizer-AdamW_maxepochs-50_DA-None_PPen-None_PPha-None_PPco-None_PPde-None_PPno-True_PPcr-None_PPre-True_16804519760256855/new_test_pred_best\n",
                  "Saving the scores in best_results/noDA_noPP_2/efficientnet_b1_fold-1_lrinit-0.001_batchsize-8_optimizer-AdamW_maxepochs-50_DA-None_PPen-None_PPha-None_PPco-None_PPde-None_PPno-True_PPcr-None_PPre-True_16804519760256855/new_test_pred_last\n",
                  "Experimento:  DA0_PPcropped\n",
                  "Experimento:  DA2_shades_of_gray_CLAHE_cropped_images_folder\n",
                  "Saving the scores in best_results/DA2_shades_of_gray_CLAHE_cropped_images_folder/efficientnet_b1_fold-1_lrinit-0.0001_batchsize-8_optimizer-AdamW_maxepochs-150_DA-2_PPen-CLAHE_PPha-None_PPco-shades_of_gray_PPde-None_PPno-True_PPcr-cropped_images_folder_PPre-True_drop-0.0_trainjustclassifier-False_16811986395792065/new_test_pred_best\n",
                  "Saving the scores in best_results/DA2_shades_of_gray_CLAHE_cropped_images_folder/efficientnet_b1_fold-1_lrinit-0.0001_batchsize-8_optimizer-AdamW_maxepochs-150_DA-2_PPen-CLAHE_PPha-None_PPco-shades_of_gray_PPde-None_PPno-True_PPcr-cropped_images_folder_PPre-True_drop-0.0_trainjustclassifier-False_16811986395792065/new_test_pred_last\n",
                  "Saving the scores in best_results/DA2_shades_of_gray_CLAHE_cropped_images_folder/resnest101e_fold-1_lrinit-0.0001_batchsize-8_optimizer-AdamW_maxepochs-150_DA-2_PPen-CLAHE_PPha-None_PPco-shades_of_gray_PPde-None_PPno-True_PPcr-cropped_images_folder_PPre-True_drop-0.0_trainjustclassifier-False_16812147478957005/new_test_pred_best\n",
                  "Saving the scores in best_results/DA2_shades_of_gray_CLAHE_cropped_images_folder/resnest101e_fold-1_lrinit-0.0001_batchsize-8_optimizer-AdamW_maxepochs-150_DA-2_PPen-CLAHE_PPha-None_PPco-shades_of_gray_PPde-None_PPno-True_PPcr-cropped_images_folder_PPre-True_drop-0.0_trainjustclassifier-False_16812147478957005/new_test_pred_last\n",
                  "Saving the scores in best_results/DA2_shades_of_gray_CLAHE_cropped_images_folder/efficientnet_b0_fold-1_lrinit-0.0001_batchsize-8_optimizer-AdamW_maxepochs-150_DA-2_PPen-CLAHE_PPha-None_PPco-shades_of_gray_PPde-None_PPno-True_PPcr-cropped_images_folder_PPre-True_drop-0.0_trainjustclassifier-False_16811956157680733/new_test_pred_best\n",
                  "Saving the scores in best_results/DA2_shades_of_gray_CLAHE_cropped_images_folder/efficientnet_b0_fold-1_lrinit-0.0001_batchsize-8_optimizer-AdamW_maxepochs-150_DA-2_PPen-CLAHE_PPha-None_PPco-shades_of_gray_PPde-None_PPno-True_PPcr-cropped_images_folder_PPre-True_drop-0.0_trainjustclassifier-False_16811956157680733/new_test_pred_last\n",
                  "Saving the scores in best_results/DA2_shades_of_gray_CLAHE_cropped_images_folder/efficientnet_b3_fold-1_lrinit-0.0001_batchsize-32_optimizer-Adam_maxepochs-150_DA-2_PPen-CLAHE_PPha-None_PPco-shades_of_gray_PPde-None_PPno-True_PPcr-cropped_images_folder_PPre-True_drop-0.0_trainjustclassifier-False_16812053182884653/new_test_pred_best\n",
                  "Saving the scores in best_results/DA2_shades_of_gray_CLAHE_cropped_images_folder/efficientnet_b3_fold-1_lrinit-0.0001_batchsize-32_optimizer-Adam_maxepochs-150_DA-2_PPen-CLAHE_PPha-None_PPco-shades_of_gray_PPde-None_PPno-True_PPcr-cropped_images_folder_PPre-True_drop-0.0_trainjustclassifier-False_16812053182884653/new_test_pred_last\n",
                  "Saving the scores in best_results/DA2_shades_of_gray_CLAHE_cropped_images_folder/tf_efficientnet_b5_fold-1_lrinit-0.0001_batchsize-8_optimizer-AdamW_maxepochs-150_DA-2_PPen-CLAHE_PPha-None_PPco-shades_of_gray_PPde-None_PPno-True_PPcr-cropped_images_folder_PPre-True_drop-0.0_trainjustclassifier-False_16811537277406313/new_test_pred_best\n",
                  "Saving the scores in best_results/DA2_shades_of_gray_CLAHE_cropped_images_folder/tf_efficientnet_b5_fold-1_lrinit-0.0001_batchsize-8_optimizer-AdamW_maxepochs-150_DA-2_PPen-CLAHE_PPha-None_PPco-shades_of_gray_PPde-None_PPno-True_PPcr-cropped_images_folder_PPre-True_drop-0.0_trainjustclassifier-False_16811537277406313/new_test_pred_last\n",
                  "Saving the scores in best_results/DA2_shades_of_gray_CLAHE_cropped_images_folder/tf_efficientnet_b6_fold-1_lrinit-0.0001_batchsize-4_optimizer-AdamW_maxepochs-150_DA-2_PPen-CLAHE_PPha-None_PPco-shades_of_gray_PPde-None_PPno-True_PPcr-cropped_images_folder_PPre-True_drop-0.0_trainjustclassifier-False_16811663412327688/new_test_pred_best\n",
                  "Saving the scores in best_results/DA2_shades_of_gray_CLAHE_cropped_images_folder/tf_efficientnet_b6_fold-1_lrinit-0.0001_batchsize-4_optimizer-AdamW_maxepochs-150_DA-2_PPen-CLAHE_PPha-None_PPco-shades_of_gray_PPde-None_PPno-True_PPcr-cropped_images_folder_PPre-True_drop-0.0_trainjustclassifier-False_16811663412327688/new_test_pred_last\n",
                  "Saving the scores in best_results/DA2_shades_of_gray_CLAHE_cropped_images_folder/seresnext101_32x8d_fold-1_lrinit-0.0001_batchsize-16_optimizer-Adam_maxepochs-150_DA-2_PPen-CLAHE_PPha-None_PPco-shades_of_gray_PPde-None_PPno-True_PPcr-cropped_images_folder_PPre-True_drop-0.0_trainjustclassifier-False_16812216389786265/new_test_pred_best\n",
                  "Saving the scores in best_results/DA2_shades_of_gray_CLAHE_cropped_images_folder/seresnext101_32x8d_fold-1_lrinit-0.0001_batchsize-16_optimizer-Adam_maxepochs-150_DA-2_PPen-CLAHE_PPha-None_PPco-shades_of_gray_PPde-None_PPno-True_PPcr-cropped_images_folder_PPre-True_drop-0.0_trainjustclassifier-False_16812216389786265/new_test_pred_last\n",
                  "Saving the scores in best_results/DA2_shades_of_gray_CLAHE_cropped_images_folder/efficientnet_b2_fold-1_lrinit-0.0001_batchsize-8_optimizer-Adam_maxepochs-150_DA-2_PPen-CLAHE_PPha-None_PPco-shades_of_gray_PPde-None_PPno-True_PPcr-cropped_images_folder_PPre-True_drop-0.0_trainjustclassifier-False_16812014828593228/new_test_pred_best\n",
                  "Saving the scores in best_results/DA2_shades_of_gray_CLAHE_cropped_images_folder/efficientnet_b2_fold-1_lrinit-0.0001_batchsize-8_optimizer-Adam_maxepochs-150_DA-2_PPen-CLAHE_PPha-None_PPco-shades_of_gray_PPde-None_PPno-True_PPcr-cropped_images_folder_PPre-True_drop-0.0_trainjustclassifier-False_16812014828593228/new_test_pred_last\n",
                  "Saving the scores in best_results/DA2_shades_of_gray_CLAHE_cropped_images_folder/pnasnet5large_fold-1_lrinit-0.0001_batchsize-8_optimizer-Adam_maxepochs-150_DA-2_PPen-CLAHE_PPha-None_PPco-shades_of_gray_PPde-None_PPno-True_PPcr-cropped_images_folder_PPre-True_drop-0.0_trainjustclassifier-False_1681234294169083/new_test_pred_best\n",
                  "Saving the scores in best_results/DA2_shades_of_gray_CLAHE_cropped_images_folder/pnasnet5large_fold-1_lrinit-0.0001_batchsize-8_optimizer-Adam_maxepochs-150_DA-2_PPen-CLAHE_PPha-None_PPco-shades_of_gray_PPde-None_PPno-True_PPcr-cropped_images_folder_PPre-True_drop-0.0_trainjustclassifier-False_1681234294169083/new_test_pred_last\n",
                  "Saving the scores in best_results/DA2_shades_of_gray_CLAHE_cropped_images_folder/densenet121_fold-1_lrinit-0.0001_batchsize-32_optimizer-Adam_maxepochs-150_DA-2_PPen-CLAHE_PPha-None_PPco-shades_of_gray_PPde-None_PPno-True_PPcr-cropped_images_folder_PPre-True_drop-0.0_trainjustclassifier-False_1681193492038032/new_test_pred_best\n",
                  "Saving the scores in best_results/DA2_shades_of_gray_CLAHE_cropped_images_folder/densenet121_fold-1_lrinit-0.0001_batchsize-32_optimizer-Adam_maxepochs-150_DA-2_PPen-CLAHE_PPha-None_PPco-shades_of_gray_PPde-None_PPno-True_PPcr-cropped_images_folder_PPre-True_drop-0.0_trainjustclassifier-False_1681193492038032/new_test_pred_last\n",
                  "Saving the scores in best_results/DA2_shades_of_gray_CLAHE_cropped_images_folder/vgg19_fold-1_lrinit-0.0001_batchsize-8_optimizer-SGD_maxepochs-150_DA-2_PPen-CLAHE_PPha-None_PPco-shades_of_gray_PPde-None_PPno-True_PPcr-cropped_images_folder_PPre-True_drop-0.0_trainjustclassifier-False_16812259673979416/new_test_pred_best\n",
                  "Saving the scores in best_results/DA2_shades_of_gray_CLAHE_cropped_images_folder/vgg19_fold-1_lrinit-0.0001_batchsize-8_optimizer-SGD_maxepochs-150_DA-2_PPen-CLAHE_PPha-None_PPco-shades_of_gray_PPde-None_PPno-True_PPcr-cropped_images_folder_PPre-True_drop-0.0_trainjustclassifier-False_16812259673979416/new_test_pred_last\n",
                  "Saving the scores in best_results/DA2_shades_of_gray_CLAHE_cropped_images_folder/resnext101_32x8d_fold-1_lrinit-0.0001_batchsize-8_optimizer-SGD_maxepochs-150_DA-2_PPen-CLAHE_PPha-None_PPco-shades_of_gray_PPde-None_PPno-True_PPcr-cropped_images_folder_PPre-True_drop-0.0_trainjustclassifier-False_16812287963155973/new_test_pred_best\n",
                  "Saving the scores in best_results/DA2_shades_of_gray_CLAHE_cropped_images_folder/resnext101_32x8d_fold-1_lrinit-0.0001_batchsize-8_optimizer-SGD_maxepochs-150_DA-2_PPen-CLAHE_PPha-None_PPco-shades_of_gray_PPde-None_PPno-True_PPcr-cropped_images_folder_PPre-True_drop-0.0_trainjustclassifier-False_16812287963155973/new_test_pred_last\n",
                  "Saving the scores in best_results/DA2_shades_of_gray_CLAHE_cropped_images_folder/efficientnet_b4_fold-1_lrinit-0.0001_batchsize-16_optimizer-AdamW_maxepochs-150_DA-2_PPen-CLAHE_PPha-None_PPco-shades_of_gray_PPde-None_PPno-True_PPcr-cropped_images_folder_PPre-True_drop-0.0_trainjustclassifier-False_16812092447302647/new_test_pred_best\n",
                  "Saving the scores in best_results/DA2_shades_of_gray_CLAHE_cropped_images_folder/efficientnet_b4_fold-1_lrinit-0.0001_batchsize-16_optimizer-AdamW_maxepochs-150_DA-2_PPen-CLAHE_PPha-None_PPco-shades_of_gray_PPde-None_PPno-True_PPcr-cropped_images_folder_PPre-True_drop-0.0_trainjustclassifier-False_16812092447302647/new_test_pred_last\n",
                  "Experimento:  noDA_PPcropped\n",
                  "Experimento:  CLAHE\n"
               ]
            },
            {
               "data": {
                  "text/plain": [
                     "<Figure size 640x480 with 0 Axes>"
                  ]
               },
               "metadata": {},
               "output_type": "display_data"
            },
            {
               "data": {
                  "text/plain": [
                     "<Figure size 640x480 with 0 Axes>"
                  ]
               },
               "metadata": {},
               "output_type": "display_data"
            },
            {
               "data": {
                  "text/plain": [
                     "<Figure size 640x480 with 0 Axes>"
                  ]
               },
               "metadata": {},
               "output_type": "display_data"
            },
            {
               "data": {
                  "text/plain": [
                     "<Figure size 640x480 with 0 Axes>"
                  ]
               },
               "metadata": {},
               "output_type": "display_data"
            },
            {
               "data": {
                  "text/plain": [
                     "<Figure size 640x480 with 0 Axes>"
                  ]
               },
               "metadata": {},
               "output_type": "display_data"
            },
            {
               "data": {
                  "text/plain": [
                     "<Figure size 640x480 with 0 Axes>"
                  ]
               },
               "metadata": {},
               "output_type": "display_data"
            },
            {
               "data": {
                  "text/plain": [
                     "<Figure size 640x480 with 0 Axes>"
                  ]
               },
               "metadata": {},
               "output_type": "display_data"
            },
            {
               "data": {
                  "text/plain": [
                     "<Figure size 640x480 with 0 Axes>"
                  ]
               },
               "metadata": {},
               "output_type": "display_data"
            },
            {
               "data": {
                  "text/plain": [
                     "<Figure size 640x480 with 0 Axes>"
                  ]
               },
               "metadata": {},
               "output_type": "display_data"
            },
            {
               "data": {
                  "text/plain": [
                     "<Figure size 640x480 with 0 Axes>"
                  ]
               },
               "metadata": {},
               "output_type": "display_data"
            },
            {
               "data": {
                  "text/plain": [
                     "<Figure size 640x480 with 0 Axes>"
                  ]
               },
               "metadata": {},
               "output_type": "display_data"
            },
            {
               "data": {
                  "text/plain": [
                     "<Figure size 640x480 with 0 Axes>"
                  ]
               },
               "metadata": {},
               "output_type": "display_data"
            },
            {
               "data": {
                  "text/plain": [
                     "<Figure size 640x480 with 0 Axes>"
                  ]
               },
               "metadata": {},
               "output_type": "display_data"
            },
            {
               "data": {
                  "text/plain": [
                     "<Figure size 640x480 with 0 Axes>"
                  ]
               },
               "metadata": {},
               "output_type": "display_data"
            },
            {
               "data": {
                  "text/plain": [
                     "<Figure size 640x480 with 0 Axes>"
                  ]
               },
               "metadata": {},
               "output_type": "display_data"
            },
            {
               "data": {
                  "text/plain": [
                     "<Figure size 640x480 with 0 Axes>"
                  ]
               },
               "metadata": {},
               "output_type": "display_data"
            },
            {
               "data": {
                  "text/plain": [
                     "<Figure size 640x480 with 0 Axes>"
                  ]
               },
               "metadata": {},
               "output_type": "display_data"
            },
            {
               "data": {
                  "text/plain": [
                     "<Figure size 640x480 with 0 Axes>"
                  ]
               },
               "metadata": {},
               "output_type": "display_data"
            },
            {
               "data": {
                  "text/plain": [
                     "<Figure size 640x480 with 0 Axes>"
                  ]
               },
               "metadata": {},
               "output_type": "display_data"
            },
            {
               "data": {
                  "text/plain": [
                     "<Figure size 640x480 with 0 Axes>"
                  ]
               },
               "metadata": {},
               "output_type": "display_data"
            },
            {
               "data": {
                  "text/plain": [
                     "<Figure size 640x480 with 0 Axes>"
                  ]
               },
               "metadata": {},
               "output_type": "display_data"
            },
            {
               "data": {
                  "text/plain": [
                     "<Figure size 640x480 with 0 Axes>"
                  ]
               },
               "metadata": {},
               "output_type": "display_data"
            },
            {
               "data": {
                  "text/plain": [
                     "<Figure size 640x480 with 0 Axes>"
                  ]
               },
               "metadata": {},
               "output_type": "display_data"
            },
            {
               "data": {
                  "text/plain": [
                     "<Figure size 640x480 with 0 Axes>"
                  ]
               },
               "metadata": {},
               "output_type": "display_data"
            },
            {
               "data": {
                  "text/plain": [
                     "<Figure size 640x480 with 0 Axes>"
                  ]
               },
               "metadata": {},
               "output_type": "display_data"
            },
            {
               "data": {
                  "text/plain": [
                     "<Figure size 640x480 with 0 Axes>"
                  ]
               },
               "metadata": {},
               "output_type": "display_data"
            },
            {
               "data": {
                  "text/plain": [
                     "<Figure size 640x480 with 0 Axes>"
                  ]
               },
               "metadata": {},
               "output_type": "display_data"
            },
            {
               "data": {
                  "text/plain": [
                     "<Figure size 640x480 with 0 Axes>"
                  ]
               },
               "metadata": {},
               "output_type": "display_data"
            },
            {
               "data": {
                  "text/plain": [
                     "<Figure size 640x480 with 0 Axes>"
                  ]
               },
               "metadata": {},
               "output_type": "display_data"
            },
            {
               "data": {
                  "text/plain": [
                     "<Figure size 640x480 with 0 Axes>"
                  ]
               },
               "metadata": {},
               "output_type": "display_data"
            },
            {
               "data": {
                  "text/plain": [
                     "<Figure size 640x480 with 0 Axes>"
                  ]
               },
               "metadata": {},
               "output_type": "display_data"
            },
            {
               "data": {
                  "text/plain": [
                     "<Figure size 640x480 with 0 Axes>"
                  ]
               },
               "metadata": {},
               "output_type": "display_data"
            },
            {
               "data": {
                  "text/plain": [
                     "<Figure size 640x480 with 0 Axes>"
                  ]
               },
               "metadata": {},
               "output_type": "display_data"
            },
            {
               "data": {
                  "text/plain": [
                     "<Figure size 640x480 with 0 Axes>"
                  ]
               },
               "metadata": {},
               "output_type": "display_data"
            },
            {
               "data": {
                  "text/plain": [
                     "<Figure size 640x480 with 0 Axes>"
                  ]
               },
               "metadata": {},
               "output_type": "display_data"
            },
            {
               "data": {
                  "text/plain": [
                     "<Figure size 640x480 with 0 Axes>"
                  ]
               },
               "metadata": {},
               "output_type": "display_data"
            },
            {
               "data": {
                  "text/plain": [
                     "<Figure size 640x480 with 0 Axes>"
                  ]
               },
               "metadata": {},
               "output_type": "display_data"
            },
            {
               "data": {
                  "text/plain": [
                     "<Figure size 640x480 with 0 Axes>"
                  ]
               },
               "metadata": {},
               "output_type": "display_data"
            },
            {
               "data": {
                  "text/plain": [
                     "<Figure size 640x480 with 0 Axes>"
                  ]
               },
               "metadata": {},
               "output_type": "display_data"
            },
            {
               "data": {
                  "text/plain": [
                     "<Figure size 640x480 with 0 Axes>"
                  ]
               },
               "metadata": {},
               "output_type": "display_data"
            },
            {
               "data": {
                  "text/plain": [
                     "<Figure size 640x480 with 0 Axes>"
                  ]
               },
               "metadata": {},
               "output_type": "display_data"
            },
            {
               "data": {
                  "text/plain": [
                     "<Figure size 640x480 with 0 Axes>"
                  ]
               },
               "metadata": {},
               "output_type": "display_data"
            },
            {
               "data": {
                  "text/plain": [
                     "<Figure size 640x480 with 0 Axes>"
                  ]
               },
               "metadata": {},
               "output_type": "display_data"
            },
            {
               "data": {
                  "text/plain": [
                     "<Figure size 640x480 with 0 Axes>"
                  ]
               },
               "metadata": {},
               "output_type": "display_data"
            },
            {
               "data": {
                  "text/plain": [
                     "<Figure size 640x480 with 0 Axes>"
                  ]
               },
               "metadata": {},
               "output_type": "display_data"
            },
            {
               "data": {
                  "text/plain": [
                     "<Figure size 640x480 with 0 Axes>"
                  ]
               },
               "metadata": {},
               "output_type": "display_data"
            },
            {
               "data": {
                  "text/plain": [
                     "<Figure size 640x480 with 0 Axes>"
                  ]
               },
               "metadata": {},
               "output_type": "display_data"
            },
            {
               "data": {
                  "text/plain": [
                     "<Figure size 640x480 with 0 Axes>"
                  ]
               },
               "metadata": {},
               "output_type": "display_data"
            },
            {
               "data": {
                  "text/plain": [
                     "<Figure size 640x480 with 0 Axes>"
                  ]
               },
               "metadata": {},
               "output_type": "display_data"
            },
            {
               "data": {
                  "text/plain": [
                     "<Figure size 640x480 with 0 Axes>"
                  ]
               },
               "metadata": {},
               "output_type": "display_data"
            },
            {
               "data": {
                  "text/plain": [
                     "<Figure size 640x480 with 0 Axes>"
                  ]
               },
               "metadata": {},
               "output_type": "display_data"
            },
            {
               "data": {
                  "text/plain": [
                     "<Figure size 640x480 with 0 Axes>"
                  ]
               },
               "metadata": {},
               "output_type": "display_data"
            },
            {
               "data": {
                  "text/plain": [
                     "<Figure size 640x480 with 0 Axes>"
                  ]
               },
               "metadata": {},
               "output_type": "display_data"
            },
            {
               "data": {
                  "text/plain": [
                     "<Figure size 640x480 with 0 Axes>"
                  ]
               },
               "metadata": {},
               "output_type": "display_data"
            },
            {
               "data": {
                  "text/plain": [
                     "<Figure size 640x480 with 0 Axes>"
                  ]
               },
               "metadata": {},
               "output_type": "display_data"
            },
            {
               "data": {
                  "text/plain": [
                     "<Figure size 640x480 with 0 Axes>"
                  ]
               },
               "metadata": {},
               "output_type": "display_data"
            },
            {
               "data": {
                  "text/plain": [
                     "<Figure size 640x480 with 0 Axes>"
                  ]
               },
               "metadata": {},
               "output_type": "display_data"
            },
            {
               "data": {
                  "text/plain": [
                     "<Figure size 640x480 with 0 Axes>"
                  ]
               },
               "metadata": {},
               "output_type": "display_data"
            },
            {
               "data": {
                  "text/plain": [
                     "<Figure size 640x480 with 0 Axes>"
                  ]
               },
               "metadata": {},
               "output_type": "display_data"
            },
            {
               "data": {
                  "text/plain": [
                     "<Figure size 640x480 with 0 Axes>"
                  ]
               },
               "metadata": {},
               "output_type": "display_data"
            },
            {
               "data": {
                  "text/plain": [
                     "<Figure size 640x480 with 0 Axes>"
                  ]
               },
               "metadata": {},
               "output_type": "display_data"
            },
            {
               "data": {
                  "text/plain": [
                     "<Figure size 640x480 with 0 Axes>"
                  ]
               },
               "metadata": {},
               "output_type": "display_data"
            },
            {
               "data": {
                  "text/plain": [
                     "<Figure size 640x480 with 0 Axes>"
                  ]
               },
               "metadata": {},
               "output_type": "display_data"
            },
            {
               "data": {
                  "text/plain": [
                     "<Figure size 640x480 with 0 Axes>"
                  ]
               },
               "metadata": {},
               "output_type": "display_data"
            },
            {
               "data": {
                  "text/plain": [
                     "<Figure size 640x480 with 0 Axes>"
                  ]
               },
               "metadata": {},
               "output_type": "display_data"
            },
            {
               "data": {
                  "text/plain": [
                     "<Figure size 640x480 with 0 Axes>"
                  ]
               },
               "metadata": {},
               "output_type": "display_data"
            },
            {
               "data": {
                  "text/plain": [
                     "<Figure size 640x480 with 0 Axes>"
                  ]
               },
               "metadata": {},
               "output_type": "display_data"
            },
            {
               "data": {
                  "text/plain": [
                     "<Figure size 640x480 with 0 Axes>"
                  ]
               },
               "metadata": {},
               "output_type": "display_data"
            },
            {
               "data": {
                  "text/plain": [
                     "<Figure size 640x480 with 0 Axes>"
                  ]
               },
               "metadata": {},
               "output_type": "display_data"
            },
            {
               "data": {
                  "text/plain": [
                     "<Figure size 640x480 with 0 Axes>"
                  ]
               },
               "metadata": {},
               "output_type": "display_data"
            },
            {
               "data": {
                  "text/plain": [
                     "<Figure size 640x480 with 0 Axes>"
                  ]
               },
               "metadata": {},
               "output_type": "display_data"
            },
            {
               "data": {
                  "text/plain": [
                     "<Figure size 640x480 with 0 Axes>"
                  ]
               },
               "metadata": {},
               "output_type": "display_data"
            },
            {
               "data": {
                  "text/plain": [
                     "<Figure size 640x480 with 0 Axes>"
                  ]
               },
               "metadata": {},
               "output_type": "display_data"
            },
            {
               "data": {
                  "text/plain": [
                     "<Figure size 640x480 with 0 Axes>"
                  ]
               },
               "metadata": {},
               "output_type": "display_data"
            },
            {
               "data": {
                  "text/plain": [
                     "<Figure size 640x480 with 0 Axes>"
                  ]
               },
               "metadata": {},
               "output_type": "display_data"
            },
            {
               "data": {
                  "text/plain": [
                     "<Figure size 640x480 with 0 Axes>"
                  ]
               },
               "metadata": {},
               "output_type": "display_data"
            },
            {
               "data": {
                  "text/plain": [
                     "<Figure size 640x480 with 0 Axes>"
                  ]
               },
               "metadata": {},
               "output_type": "display_data"
            },
            {
               "data": {
                  "text/plain": [
                     "<Figure size 640x480 with 0 Axes>"
                  ]
               },
               "metadata": {},
               "output_type": "display_data"
            },
            {
               "data": {
                  "text/plain": [
                     "<Figure size 640x480 with 0 Axes>"
                  ]
               },
               "metadata": {},
               "output_type": "display_data"
            },
            {
               "data": {
                  "text/plain": [
                     "<Figure size 640x480 with 0 Axes>"
                  ]
               },
               "metadata": {},
               "output_type": "display_data"
            },
            {
               "data": {
                  "text/plain": [
                     "<Figure size 640x480 with 0 Axes>"
                  ]
               },
               "metadata": {},
               "output_type": "display_data"
            },
            {
               "data": {
                  "text/plain": [
                     "<Figure size 640x480 with 0 Axes>"
                  ]
               },
               "metadata": {},
               "output_type": "display_data"
            },
            {
               "data": {
                  "text/plain": [
                     "<Figure size 640x480 with 0 Axes>"
                  ]
               },
               "metadata": {},
               "output_type": "display_data"
            },
            {
               "data": {
                  "text/plain": [
                     "<Figure size 640x480 with 0 Axes>"
                  ]
               },
               "metadata": {},
               "output_type": "display_data"
            },
            {
               "data": {
                  "text/plain": [
                     "<Figure size 640x480 with 0 Axes>"
                  ]
               },
               "metadata": {},
               "output_type": "display_data"
            },
            {
               "data": {
                  "text/plain": [
                     "<Figure size 640x480 with 0 Axes>"
                  ]
               },
               "metadata": {},
               "output_type": "display_data"
            },
            {
               "data": {
                  "text/plain": [
                     "<Figure size 640x480 with 0 Axes>"
                  ]
               },
               "metadata": {},
               "output_type": "display_data"
            },
            {
               "data": {
                  "text/plain": [
                     "<Figure size 640x480 with 0 Axes>"
                  ]
               },
               "metadata": {},
               "output_type": "display_data"
            },
            {
               "data": {
                  "text/plain": [
                     "<Figure size 640x480 with 0 Axes>"
                  ]
               },
               "metadata": {},
               "output_type": "display_data"
            },
            {
               "data": {
                  "text/plain": [
                     "<Figure size 640x480 with 0 Axes>"
                  ]
               },
               "metadata": {},
               "output_type": "display_data"
            },
            {
               "data": {
                  "text/plain": [
                     "<Figure size 640x480 with 0 Axes>"
                  ]
               },
               "metadata": {},
               "output_type": "display_data"
            },
            {
               "data": {
                  "text/plain": [
                     "<Figure size 640x480 with 0 Axes>"
                  ]
               },
               "metadata": {},
               "output_type": "display_data"
            },
            {
               "data": {
                  "text/plain": [
                     "<Figure size 640x480 with 0 Axes>"
                  ]
               },
               "metadata": {},
               "output_type": "display_data"
            },
            {
               "data": {
                  "text/plain": [
                     "<Figure size 640x480 with 0 Axes>"
                  ]
               },
               "metadata": {},
               "output_type": "display_data"
            },
            {
               "data": {
                  "text/plain": [
                     "<Figure size 640x480 with 0 Axes>"
                  ]
               },
               "metadata": {},
               "output_type": "display_data"
            },
            {
               "data": {
                  "text/plain": [
                     "<Figure size 640x480 with 0 Axes>"
                  ]
               },
               "metadata": {},
               "output_type": "display_data"
            },
            {
               "data": {
                  "text/plain": [
                     "<Figure size 640x480 with 0 Axes>"
                  ]
               },
               "metadata": {},
               "output_type": "display_data"
            },
            {
               "data": {
                  "text/plain": [
                     "<Figure size 640x480 with 0 Axes>"
                  ]
               },
               "metadata": {},
               "output_type": "display_data"
            },
            {
               "data": {
                  "text/plain": [
                     "<Figure size 640x480 with 0 Axes>"
                  ]
               },
               "metadata": {},
               "output_type": "display_data"
            },
            {
               "data": {
                  "text/plain": [
                     "<Figure size 640x480 with 0 Axes>"
                  ]
               },
               "metadata": {},
               "output_type": "display_data"
            },
            {
               "data": {
                  "text/plain": [
                     "<Figure size 640x480 with 0 Axes>"
                  ]
               },
               "metadata": {},
               "output_type": "display_data"
            },
            {
               "data": {
                  "text/plain": [
                     "<Figure size 640x480 with 0 Axes>"
                  ]
               },
               "metadata": {},
               "output_type": "display_data"
            },
            {
               "data": {
                  "text/plain": [
                     "<Figure size 640x480 with 0 Axes>"
                  ]
               },
               "metadata": {},
               "output_type": "display_data"
            },
            {
               "data": {
                  "text/plain": [
                     "<Figure size 640x480 with 0 Axes>"
                  ]
               },
               "metadata": {},
               "output_type": "display_data"
            },
            {
               "data": {
                  "text/plain": [
                     "<Figure size 640x480 with 0 Axes>"
                  ]
               },
               "metadata": {},
               "output_type": "display_data"
            },
            {
               "data": {
                  "text/plain": [
                     "<Figure size 640x480 with 0 Axes>"
                  ]
               },
               "metadata": {},
               "output_type": "display_data"
            },
            {
               "data": {
                  "text/plain": [
                     "<Figure size 640x480 with 0 Axes>"
                  ]
               },
               "metadata": {},
               "output_type": "display_data"
            },
            {
               "data": {
                  "text/plain": [
                     "<Figure size 640x480 with 0 Axes>"
                  ]
               },
               "metadata": {},
               "output_type": "display_data"
            },
            {
               "data": {
                  "text/plain": [
                     "<Figure size 640x480 with 0 Axes>"
                  ]
               },
               "metadata": {},
               "output_type": "display_data"
            },
            {
               "data": {
                  "text/plain": [
                     "<Figure size 640x480 with 0 Axes>"
                  ]
               },
               "metadata": {},
               "output_type": "display_data"
            },
            {
               "data": {
                  "text/plain": [
                     "<Figure size 640x480 with 0 Axes>"
                  ]
               },
               "metadata": {},
               "output_type": "display_data"
            },
            {
               "data": {
                  "text/plain": [
                     "<Figure size 640x480 with 0 Axes>"
                  ]
               },
               "metadata": {},
               "output_type": "display_data"
            },
            {
               "data": {
                  "text/plain": [
                     "<Figure size 640x480 with 0 Axes>"
                  ]
               },
               "metadata": {},
               "output_type": "display_data"
            },
            {
               "data": {
                  "text/plain": [
                     "<Figure size 640x480 with 0 Axes>"
                  ]
               },
               "metadata": {},
               "output_type": "display_data"
            },
            {
               "data": {
                  "text/plain": [
                     "<Figure size 640x480 with 0 Axes>"
                  ]
               },
               "metadata": {},
               "output_type": "display_data"
            },
            {
               "data": {
                  "text/plain": [
                     "<Figure size 640x480 with 0 Axes>"
                  ]
               },
               "metadata": {},
               "output_type": "display_data"
            },
            {
               "data": {
                  "text/plain": [
                     "<Figure size 640x480 with 0 Axes>"
                  ]
               },
               "metadata": {},
               "output_type": "display_data"
            },
            {
               "data": {
                  "text/plain": [
                     "<Figure size 640x480 with 0 Axes>"
                  ]
               },
               "metadata": {},
               "output_type": "display_data"
            },
            {
               "data": {
                  "text/plain": [
                     "<Figure size 640x480 with 0 Axes>"
                  ]
               },
               "metadata": {},
               "output_type": "display_data"
            },
            {
               "data": {
                  "text/plain": [
                     "<Figure size 640x480 with 0 Axes>"
                  ]
               },
               "metadata": {},
               "output_type": "display_data"
            },
            {
               "data": {
                  "text/plain": [
                     "<Figure size 640x480 with 0 Axes>"
                  ]
               },
               "metadata": {},
               "output_type": "display_data"
            },
            {
               "data": {
                  "text/plain": [
                     "<Figure size 640x480 with 0 Axes>"
                  ]
               },
               "metadata": {},
               "output_type": "display_data"
            },
            {
               "data": {
                  "text/plain": [
                     "<Figure size 640x480 with 0 Axes>"
                  ]
               },
               "metadata": {},
               "output_type": "display_data"
            },
            {
               "data": {
                  "text/plain": [
                     "<Figure size 640x480 with 0 Axes>"
                  ]
               },
               "metadata": {},
               "output_type": "display_data"
            },
            {
               "data": {
                  "text/plain": [
                     "<Figure size 640x480 with 0 Axes>"
                  ]
               },
               "metadata": {},
               "output_type": "display_data"
            },
            {
               "data": {
                  "text/plain": [
                     "<Figure size 640x480 with 0 Axes>"
                  ]
               },
               "metadata": {},
               "output_type": "display_data"
            },
            {
               "data": {
                  "text/plain": [
                     "<Figure size 640x480 with 0 Axes>"
                  ]
               },
               "metadata": {},
               "output_type": "display_data"
            },
            {
               "data": {
                  "text/plain": [
                     "<Figure size 640x480 with 0 Axes>"
                  ]
               },
               "metadata": {},
               "output_type": "display_data"
            },
            {
               "data": {
                  "text/plain": [
                     "<Figure size 640x480 with 0 Axes>"
                  ]
               },
               "metadata": {},
               "output_type": "display_data"
            },
            {
               "data": {
                  "text/plain": [
                     "<Figure size 640x480 with 0 Axes>"
                  ]
               },
               "metadata": {},
               "output_type": "display_data"
            },
            {
               "data": {
                  "text/plain": [
                     "<Figure size 640x480 with 0 Axes>"
                  ]
               },
               "metadata": {},
               "output_type": "display_data"
            },
            {
               "data": {
                  "text/plain": [
                     "<Figure size 640x480 with 0 Axes>"
                  ]
               },
               "metadata": {},
               "output_type": "display_data"
            },
            {
               "data": {
                  "text/plain": [
                     "<Figure size 640x480 with 0 Axes>"
                  ]
               },
               "metadata": {},
               "output_type": "display_data"
            },
            {
               "data": {
                  "text/plain": [
                     "<Figure size 640x480 with 0 Axes>"
                  ]
               },
               "metadata": {},
               "output_type": "display_data"
            },
            {
               "data": {
                  "text/plain": [
                     "<Figure size 640x480 with 0 Axes>"
                  ]
               },
               "metadata": {},
               "output_type": "display_data"
            },
            {
               "data": {
                  "text/plain": [
                     "<Figure size 640x480 with 0 Axes>"
                  ]
               },
               "metadata": {},
               "output_type": "display_data"
            },
            {
               "data": {
                  "text/plain": [
                     "<Figure size 640x480 with 0 Axes>"
                  ]
               },
               "metadata": {},
               "output_type": "display_data"
            },
            {
               "data": {
                  "text/plain": [
                     "<Figure size 640x480 with 0 Axes>"
                  ]
               },
               "metadata": {},
               "output_type": "display_data"
            },
            {
               "data": {
                  "text/plain": [
                     "<Figure size 640x480 with 0 Axes>"
                  ]
               },
               "metadata": {},
               "output_type": "display_data"
            },
            {
               "data": {
                  "text/plain": [
                     "<Figure size 640x480 with 0 Axes>"
                  ]
               },
               "metadata": {},
               "output_type": "display_data"
            },
            {
               "data": {
                  "text/plain": [
                     "<Figure size 640x480 with 0 Axes>"
                  ]
               },
               "metadata": {},
               "output_type": "display_data"
            },
            {
               "data": {
                  "text/plain": [
                     "<Figure size 640x480 with 0 Axes>"
                  ]
               },
               "metadata": {},
               "output_type": "display_data"
            },
            {
               "data": {
                  "text/plain": [
                     "<Figure size 640x480 with 0 Axes>"
                  ]
               },
               "metadata": {},
               "output_type": "display_data"
            },
            {
               "data": {
                  "text/plain": [
                     "<Figure size 640x480 with 0 Axes>"
                  ]
               },
               "metadata": {},
               "output_type": "display_data"
            },
            {
               "data": {
                  "text/plain": [
                     "<Figure size 640x480 with 0 Axes>"
                  ]
               },
               "metadata": {},
               "output_type": "display_data"
            },
            {
               "data": {
                  "text/plain": [
                     "<Figure size 640x480 with 0 Axes>"
                  ]
               },
               "metadata": {},
               "output_type": "display_data"
            },
            {
               "data": {
                  "text/plain": [
                     "<Figure size 640x480 with 0 Axes>"
                  ]
               },
               "metadata": {},
               "output_type": "display_data"
            },
            {
               "data": {
                  "text/plain": [
                     "<Figure size 640x480 with 0 Axes>"
                  ]
               },
               "metadata": {},
               "output_type": "display_data"
            },
            {
               "data": {
                  "text/plain": [
                     "<Figure size 640x480 with 0 Axes>"
                  ]
               },
               "metadata": {},
               "output_type": "display_data"
            },
            {
               "data": {
                  "text/plain": [
                     "<Figure size 640x480 with 0 Axes>"
                  ]
               },
               "metadata": {},
               "output_type": "display_data"
            },
            {
               "data": {
                  "text/plain": [
                     "<Figure size 640x480 with 0 Axes>"
                  ]
               },
               "metadata": {},
               "output_type": "display_data"
            },
            {
               "data": {
                  "text/plain": [
                     "<Figure size 640x480 with 0 Axes>"
                  ]
               },
               "metadata": {},
               "output_type": "display_data"
            },
            {
               "data": {
                  "text/plain": [
                     "<Figure size 640x480 with 0 Axes>"
                  ]
               },
               "metadata": {},
               "output_type": "display_data"
            },
            {
               "data": {
                  "text/plain": [
                     "<Figure size 640x480 with 0 Axes>"
                  ]
               },
               "metadata": {},
               "output_type": "display_data"
            },
            {
               "data": {
                  "text/plain": [
                     "<Figure size 640x480 with 0 Axes>"
                  ]
               },
               "metadata": {},
               "output_type": "display_data"
            },
            {
               "data": {
                  "text/plain": [
                     "<Figure size 640x480 with 0 Axes>"
                  ]
               },
               "metadata": {},
               "output_type": "display_data"
            },
            {
               "data": {
                  "text/plain": [
                     "<Figure size 640x480 with 0 Axes>"
                  ]
               },
               "metadata": {},
               "output_type": "display_data"
            },
            {
               "data": {
                  "text/plain": [
                     "<Figure size 640x480 with 0 Axes>"
                  ]
               },
               "metadata": {},
               "output_type": "display_data"
            },
            {
               "data": {
                  "text/plain": [
                     "<Figure size 640x480 with 0 Axes>"
                  ]
               },
               "metadata": {},
               "output_type": "display_data"
            },
            {
               "data": {
                  "text/plain": [
                     "<Figure size 640x480 with 0 Axes>"
                  ]
               },
               "metadata": {},
               "output_type": "display_data"
            },
            {
               "data": {
                  "text/plain": [
                     "<Figure size 640x480 with 0 Axes>"
                  ]
               },
               "metadata": {},
               "output_type": "display_data"
            },
            {
               "data": {
                  "text/plain": [
                     "<Figure size 640x480 with 0 Axes>"
                  ]
               },
               "metadata": {},
               "output_type": "display_data"
            },
            {
               "data": {
                  "text/plain": [
                     "<Figure size 640x480 with 0 Axes>"
                  ]
               },
               "metadata": {},
               "output_type": "display_data"
            },
            {
               "data": {
                  "text/plain": [
                     "<Figure size 640x480 with 0 Axes>"
                  ]
               },
               "metadata": {},
               "output_type": "display_data"
            },
            {
               "data": {
                  "text/plain": [
                     "<Figure size 640x480 with 0 Axes>"
                  ]
               },
               "metadata": {},
               "output_type": "display_data"
            },
            {
               "data": {
                  "text/plain": [
                     "<Figure size 640x480 with 0 Axes>"
                  ]
               },
               "metadata": {},
               "output_type": "display_data"
            },
            {
               "data": {
                  "text/plain": [
                     "<Figure size 640x480 with 0 Axes>"
                  ]
               },
               "metadata": {},
               "output_type": "display_data"
            },
            {
               "data": {
                  "text/plain": [
                     "<Figure size 640x480 with 0 Axes>"
                  ]
               },
               "metadata": {},
               "output_type": "display_data"
            },
            {
               "data": {
                  "text/plain": [
                     "<Figure size 640x480 with 0 Axes>"
                  ]
               },
               "metadata": {},
               "output_type": "display_data"
            },
            {
               "data": {
                  "text/plain": [
                     "<Figure size 640x480 with 0 Axes>"
                  ]
               },
               "metadata": {},
               "output_type": "display_data"
            },
            {
               "data": {
                  "text/plain": [
                     "<Figure size 640x480 with 0 Axes>"
                  ]
               },
               "metadata": {},
               "output_type": "display_data"
            },
            {
               "data": {
                  "text/plain": [
                     "<Figure size 640x480 with 0 Axes>"
                  ]
               },
               "metadata": {},
               "output_type": "display_data"
            },
            {
               "data": {
                  "text/plain": [
                     "<Figure size 640x480 with 0 Axes>"
                  ]
               },
               "metadata": {},
               "output_type": "display_data"
            },
            {
               "data": {
                  "text/plain": [
                     "<Figure size 640x480 with 0 Axes>"
                  ]
               },
               "metadata": {},
               "output_type": "display_data"
            },
            {
               "data": {
                  "text/plain": [
                     "<Figure size 640x480 with 0 Axes>"
                  ]
               },
               "metadata": {},
               "output_type": "display_data"
            },
            {
               "data": {
                  "text/plain": [
                     "<Figure size 640x480 with 0 Axes>"
                  ]
               },
               "metadata": {},
               "output_type": "display_data"
            },
            {
               "data": {
                  "text/plain": [
                     "<Figure size 640x480 with 0 Axes>"
                  ]
               },
               "metadata": {},
               "output_type": "display_data"
            },
            {
               "data": {
                  "text/plain": [
                     "<Figure size 640x480 with 0 Axes>"
                  ]
               },
               "metadata": {},
               "output_type": "display_data"
            },
            {
               "data": {
                  "text/plain": [
                     "<Figure size 640x480 with 0 Axes>"
                  ]
               },
               "metadata": {},
               "output_type": "display_data"
            },
            {
               "data": {
                  "text/plain": [
                     "<Figure size 640x480 with 0 Axes>"
                  ]
               },
               "metadata": {},
               "output_type": "display_data"
            },
            {
               "data": {
                  "text/plain": [
                     "<Figure size 640x480 with 0 Axes>"
                  ]
               },
               "metadata": {},
               "output_type": "display_data"
            },
            {
               "data": {
                  "text/plain": [
                     "<Figure size 640x480 with 0 Axes>"
                  ]
               },
               "metadata": {},
               "output_type": "display_data"
            },
            {
               "data": {
                  "text/plain": [
                     "<Figure size 640x480 with 0 Axes>"
                  ]
               },
               "metadata": {},
               "output_type": "display_data"
            },
            {
               "data": {
                  "text/plain": [
                     "<Figure size 640x480 with 0 Axes>"
                  ]
               },
               "metadata": {},
               "output_type": "display_data"
            },
            {
               "data": {
                  "text/plain": [
                     "<Figure size 640x480 with 0 Axes>"
                  ]
               },
               "metadata": {},
               "output_type": "display_data"
            },
            {
               "data": {
                  "text/plain": [
                     "<Figure size 640x480 with 0 Axes>"
                  ]
               },
               "metadata": {},
               "output_type": "display_data"
            },
            {
               "data": {
                  "text/plain": [
                     "<Figure size 640x480 with 0 Axes>"
                  ]
               },
               "metadata": {},
               "output_type": "display_data"
            },
            {
               "data": {
                  "text/plain": [
                     "<Figure size 640x480 with 0 Axes>"
                  ]
               },
               "metadata": {},
               "output_type": "display_data"
            },
            {
               "data": {
                  "text/plain": [
                     "<Figure size 640x480 with 0 Axes>"
                  ]
               },
               "metadata": {},
               "output_type": "display_data"
            },
            {
               "data": {
                  "text/plain": [
                     "<Figure size 640x480 with 0 Axes>"
                  ]
               },
               "metadata": {},
               "output_type": "display_data"
            },
            {
               "data": {
                  "text/plain": [
                     "<Figure size 640x480 with 0 Axes>"
                  ]
               },
               "metadata": {},
               "output_type": "display_data"
            },
            {
               "data": {
                  "text/plain": [
                     "<Figure size 640x480 with 0 Axes>"
                  ]
               },
               "metadata": {},
               "output_type": "display_data"
            },
            {
               "data": {
                  "text/plain": [
                     "<Figure size 640x480 with 0 Axes>"
                  ]
               },
               "metadata": {},
               "output_type": "display_data"
            },
            {
               "data": {
                  "text/plain": [
                     "<Figure size 640x480 with 0 Axes>"
                  ]
               },
               "metadata": {},
               "output_type": "display_data"
            },
            {
               "data": {
                  "text/plain": [
                     "<Figure size 640x480 with 0 Axes>"
                  ]
               },
               "metadata": {},
               "output_type": "display_data"
            },
            {
               "data": {
                  "text/plain": [
                     "<Figure size 640x480 with 0 Axes>"
                  ]
               },
               "metadata": {},
               "output_type": "display_data"
            },
            {
               "data": {
                  "text/plain": [
                     "<Figure size 640x480 with 0 Axes>"
                  ]
               },
               "metadata": {},
               "output_type": "display_data"
            },
            {
               "data": {
                  "text/plain": [
                     "<Figure size 640x480 with 0 Axes>"
                  ]
               },
               "metadata": {},
               "output_type": "display_data"
            },
            {
               "data": {
                  "text/plain": [
                     "<Figure size 640x480 with 0 Axes>"
                  ]
               },
               "metadata": {},
               "output_type": "display_data"
            },
            {
               "data": {
                  "text/plain": [
                     "<Figure size 640x480 with 0 Axes>"
                  ]
               },
               "metadata": {},
               "output_type": "display_data"
            },
            {
               "data": {
                  "text/plain": [
                     "<Figure size 640x480 with 0 Axes>"
                  ]
               },
               "metadata": {},
               "output_type": "display_data"
            },
            {
               "data": {
                  "text/plain": [
                     "<Figure size 640x480 with 0 Axes>"
                  ]
               },
               "metadata": {},
               "output_type": "display_data"
            },
            {
               "data": {
                  "text/plain": [
                     "<Figure size 640x480 with 0 Axes>"
                  ]
               },
               "metadata": {},
               "output_type": "display_data"
            },
            {
               "data": {
                  "text/plain": [
                     "<Figure size 640x480 with 0 Axes>"
                  ]
               },
               "metadata": {},
               "output_type": "display_data"
            },
            {
               "data": {
                  "text/plain": [
                     "<Figure size 640x480 with 0 Axes>"
                  ]
               },
               "metadata": {},
               "output_type": "display_data"
            },
            {
               "data": {
                  "text/plain": [
                     "<Figure size 640x480 with 0 Axes>"
                  ]
               },
               "metadata": {},
               "output_type": "display_data"
            },
            {
               "data": {
                  "text/plain": [
                     "<Figure size 640x480 with 0 Axes>"
                  ]
               },
               "metadata": {},
               "output_type": "display_data"
            },
            {
               "data": {
                  "text/plain": [
                     "<Figure size 640x480 with 0 Axes>"
                  ]
               },
               "metadata": {},
               "output_type": "display_data"
            },
            {
               "data": {
                  "text/plain": [
                     "<Figure size 640x480 with 0 Axes>"
                  ]
               },
               "metadata": {},
               "output_type": "display_data"
            },
            {
               "data": {
                  "text/plain": [
                     "<Figure size 640x480 with 0 Axes>"
                  ]
               },
               "metadata": {},
               "output_type": "display_data"
            },
            {
               "data": {
                  "text/plain": [
                     "<Figure size 640x480 with 0 Axes>"
                  ]
               },
               "metadata": {},
               "output_type": "display_data"
            },
            {
               "data": {
                  "text/plain": [
                     "<Figure size 640x480 with 0 Axes>"
                  ]
               },
               "metadata": {},
               "output_type": "display_data"
            },
            {
               "data": {
                  "text/plain": [
                     "<Figure size 640x480 with 0 Axes>"
                  ]
               },
               "metadata": {},
               "output_type": "display_data"
            },
            {
               "data": {
                  "text/plain": [
                     "<Figure size 640x480 with 0 Axes>"
                  ]
               },
               "metadata": {},
               "output_type": "display_data"
            },
            {
               "data": {
                  "text/plain": [
                     "<Figure size 640x480 with 0 Axes>"
                  ]
               },
               "metadata": {},
               "output_type": "display_data"
            },
            {
               "data": {
                  "text/plain": [
                     "<Figure size 640x480 with 0 Axes>"
                  ]
               },
               "metadata": {},
               "output_type": "display_data"
            },
            {
               "data": {
                  "text/plain": [
                     "<Figure size 640x480 with 0 Axes>"
                  ]
               },
               "metadata": {},
               "output_type": "display_data"
            },
            {
               "data": {
                  "text/plain": [
                     "<Figure size 640x480 with 0 Axes>"
                  ]
               },
               "metadata": {},
               "output_type": "display_data"
            },
            {
               "data": {
                  "text/plain": [
                     "<Figure size 640x480 with 0 Axes>"
                  ]
               },
               "metadata": {},
               "output_type": "display_data"
            },
            {
               "data": {
                  "text/plain": [
                     "<Figure size 640x480 with 0 Axes>"
                  ]
               },
               "metadata": {},
               "output_type": "display_data"
            },
            {
               "data": {
                  "text/plain": [
                     "<Figure size 640x480 with 0 Axes>"
                  ]
               },
               "metadata": {},
               "output_type": "display_data"
            },
            {
               "data": {
                  "text/plain": [
                     "<Figure size 640x480 with 0 Axes>"
                  ]
               },
               "metadata": {},
               "output_type": "display_data"
            },
            {
               "data": {
                  "text/plain": [
                     "<Figure size 640x480 with 0 Axes>"
                  ]
               },
               "metadata": {},
               "output_type": "display_data"
            },
            {
               "data": {
                  "text/plain": [
                     "<Figure size 640x480 with 0 Axes>"
                  ]
               },
               "metadata": {},
               "output_type": "display_data"
            },
            {
               "data": {
                  "text/plain": [
                     "<Figure size 640x480 with 0 Axes>"
                  ]
               },
               "metadata": {},
               "output_type": "display_data"
            },
            {
               "data": {
                  "text/plain": [
                     "<Figure size 640x480 with 0 Axes>"
                  ]
               },
               "metadata": {},
               "output_type": "display_data"
            },
            {
               "data": {
                  "text/plain": [
                     "<Figure size 640x480 with 0 Axes>"
                  ]
               },
               "metadata": {},
               "output_type": "display_data"
            },
            {
               "data": {
                  "text/plain": [
                     "<Figure size 640x480 with 0 Axes>"
                  ]
               },
               "metadata": {},
               "output_type": "display_data"
            },
            {
               "data": {
                  "text/plain": [
                     "<Figure size 640x480 with 0 Axes>"
                  ]
               },
               "metadata": {},
               "output_type": "display_data"
            },
            {
               "data": {
                  "text/plain": [
                     "<Figure size 640x480 with 0 Axes>"
                  ]
               },
               "metadata": {},
               "output_type": "display_data"
            },
            {
               "data": {
                  "text/plain": [
                     "<Figure size 640x480 with 0 Axes>"
                  ]
               },
               "metadata": {},
               "output_type": "display_data"
            },
            {
               "data": {
                  "text/plain": [
                     "<Figure size 640x480 with 0 Axes>"
                  ]
               },
               "metadata": {},
               "output_type": "display_data"
            },
            {
               "data": {
                  "text/plain": [
                     "<Figure size 640x480 with 0 Axes>"
                  ]
               },
               "metadata": {},
               "output_type": "display_data"
            },
            {
               "data": {
                  "text/plain": [
                     "<Figure size 640x480 with 0 Axes>"
                  ]
               },
               "metadata": {},
               "output_type": "display_data"
            },
            {
               "data": {
                  "text/plain": [
                     "<Figure size 640x480 with 0 Axes>"
                  ]
               },
               "metadata": {},
               "output_type": "display_data"
            },
            {
               "data": {
                  "text/plain": [
                     "<Figure size 640x480 with 0 Axes>"
                  ]
               },
               "metadata": {},
               "output_type": "display_data"
            },
            {
               "data": {
                  "text/plain": [
                     "<Figure size 640x480 with 0 Axes>"
                  ]
               },
               "metadata": {},
               "output_type": "display_data"
            },
            {
               "data": {
                  "text/plain": [
                     "<Figure size 640x480 with 0 Axes>"
                  ]
               },
               "metadata": {},
               "output_type": "display_data"
            },
            {
               "data": {
                  "text/plain": [
                     "<Figure size 640x480 with 0 Axes>"
                  ]
               },
               "metadata": {},
               "output_type": "display_data"
            },
            {
               "data": {
                  "text/plain": [
                     "<Figure size 640x480 with 0 Axes>"
                  ]
               },
               "metadata": {},
               "output_type": "display_data"
            },
            {
               "data": {
                  "text/plain": [
                     "<Figure size 640x480 with 0 Axes>"
                  ]
               },
               "metadata": {},
               "output_type": "display_data"
            },
            {
               "data": {
                  "text/plain": [
                     "<Figure size 640x480 with 0 Axes>"
                  ]
               },
               "metadata": {},
               "output_type": "display_data"
            },
            {
               "data": {
                  "text/plain": [
                     "<Figure size 640x480 with 0 Axes>"
                  ]
               },
               "metadata": {},
               "output_type": "display_data"
            },
            {
               "data": {
                  "text/plain": [
                     "<Figure size 640x480 with 0 Axes>"
                  ]
               },
               "metadata": {},
               "output_type": "display_data"
            },
            {
               "data": {
                  "text/plain": [
                     "<Figure size 640x480 with 0 Axes>"
                  ]
               },
               "metadata": {},
               "output_type": "display_data"
            },
            {
               "data": {
                  "text/plain": [
                     "<Figure size 640x480 with 0 Axes>"
                  ]
               },
               "metadata": {},
               "output_type": "display_data"
            },
            {
               "data": {
                  "text/plain": [
                     "<Figure size 640x480 with 0 Axes>"
                  ]
               },
               "metadata": {},
               "output_type": "display_data"
            },
            {
               "data": {
                  "text/plain": [
                     "<Figure size 640x480 with 0 Axes>"
                  ]
               },
               "metadata": {},
               "output_type": "display_data"
            },
            {
               "data": {
                  "text/plain": [
                     "<Figure size 640x480 with 0 Axes>"
                  ]
               },
               "metadata": {},
               "output_type": "display_data"
            },
            {
               "data": {
                  "text/plain": [
                     "<Figure size 640x480 with 0 Axes>"
                  ]
               },
               "metadata": {},
               "output_type": "display_data"
            },
            {
               "data": {
                  "text/plain": [
                     "<Figure size 640x480 with 0 Axes>"
                  ]
               },
               "metadata": {},
               "output_type": "display_data"
            },
            {
               "data": {
                  "text/plain": [
                     "<Figure size 640x480 with 0 Axes>"
                  ]
               },
               "metadata": {},
               "output_type": "display_data"
            },
            {
               "data": {
                  "text/plain": [
                     "<Figure size 640x480 with 0 Axes>"
                  ]
               },
               "metadata": {},
               "output_type": "display_data"
            },
            {
               "data": {
                  "text/plain": [
                     "<Figure size 640x480 with 0 Axes>"
                  ]
               },
               "metadata": {},
               "output_type": "display_data"
            },
            {
               "data": {
                  "text/plain": [
                     "<Figure size 640x480 with 0 Axes>"
                  ]
               },
               "metadata": {},
               "output_type": "display_data"
            },
            {
               "data": {
                  "text/plain": [
                     "<Figure size 640x480 with 0 Axes>"
                  ]
               },
               "metadata": {},
               "output_type": "display_data"
            },
            {
               "data": {
                  "text/plain": [
                     "<Figure size 640x480 with 0 Axes>"
                  ]
               },
               "metadata": {},
               "output_type": "display_data"
            },
            {
               "data": {
                  "text/plain": [
                     "<Figure size 640x480 with 0 Axes>"
                  ]
               },
               "metadata": {},
               "output_type": "display_data"
            },
            {
               "data": {
                  "text/plain": [
                     "<Figure size 640x480 with 0 Axes>"
                  ]
               },
               "metadata": {},
               "output_type": "display_data"
            },
            {
               "data": {
                  "text/plain": [
                     "<Figure size 640x480 with 0 Axes>"
                  ]
               },
               "metadata": {},
               "output_type": "display_data"
            },
            {
               "data": {
                  "text/plain": [
                     "<Figure size 640x480 with 0 Axes>"
                  ]
               },
               "metadata": {},
               "output_type": "display_data"
            },
            {
               "data": {
                  "text/plain": [
                     "<Figure size 640x480 with 0 Axes>"
                  ]
               },
               "metadata": {},
               "output_type": "display_data"
            },
            {
               "data": {
                  "text/plain": [
                     "<Figure size 640x480 with 0 Axes>"
                  ]
               },
               "metadata": {},
               "output_type": "display_data"
            },
            {
               "data": {
                  "text/plain": [
                     "<Figure size 640x480 with 0 Axes>"
                  ]
               },
               "metadata": {},
               "output_type": "display_data"
            },
            {
               "data": {
                  "text/plain": [
                     "<Figure size 640x480 with 0 Axes>"
                  ]
               },
               "metadata": {},
               "output_type": "display_data"
            },
            {
               "data": {
                  "text/plain": [
                     "<Figure size 640x480 with 0 Axes>"
                  ]
               },
               "metadata": {},
               "output_type": "display_data"
            },
            {
               "data": {
                  "text/plain": [
                     "<Figure size 640x480 with 0 Axes>"
                  ]
               },
               "metadata": {},
               "output_type": "display_data"
            },
            {
               "data": {
                  "text/plain": [
                     "<Figure size 640x480 with 0 Axes>"
                  ]
               },
               "metadata": {},
               "output_type": "display_data"
            },
            {
               "data": {
                  "text/plain": [
                     "<Figure size 640x480 with 0 Axes>"
                  ]
               },
               "metadata": {},
               "output_type": "display_data"
            },
            {
               "data": {
                  "text/plain": [
                     "<Figure size 640x480 with 0 Axes>"
                  ]
               },
               "metadata": {},
               "output_type": "display_data"
            },
            {
               "data": {
                  "text/plain": [
                     "<Figure size 640x480 with 0 Axes>"
                  ]
               },
               "metadata": {},
               "output_type": "display_data"
            },
            {
               "data": {
                  "text/plain": [
                     "<Figure size 640x480 with 0 Axes>"
                  ]
               },
               "metadata": {},
               "output_type": "display_data"
            },
            {
               "data": {
                  "text/plain": [
                     "<Figure size 640x480 with 0 Axes>"
                  ]
               },
               "metadata": {},
               "output_type": "display_data"
            },
            {
               "data": {
                  "text/plain": [
                     "<Figure size 640x480 with 0 Axes>"
                  ]
               },
               "metadata": {},
               "output_type": "display_data"
            },
            {
               "data": {
                  "text/plain": [
                     "<Figure size 640x480 with 0 Axes>"
                  ]
               },
               "metadata": {},
               "output_type": "display_data"
            },
            {
               "data": {
                  "text/plain": [
                     "<Figure size 640x480 with 0 Axes>"
                  ]
               },
               "metadata": {},
               "output_type": "display_data"
            },
            {
               "data": {
                  "text/plain": [
                     "<Figure size 640x480 with 0 Axes>"
                  ]
               },
               "metadata": {},
               "output_type": "display_data"
            },
            {
               "data": {
                  "text/plain": [
                     "<Figure size 640x480 with 0 Axes>"
                  ]
               },
               "metadata": {},
               "output_type": "display_data"
            },
            {
               "data": {
                  "text/plain": [
                     "<Figure size 640x480 with 0 Axes>"
                  ]
               },
               "metadata": {},
               "output_type": "display_data"
            },
            {
               "data": {
                  "text/plain": [
                     "<Figure size 640x480 with 0 Axes>"
                  ]
               },
               "metadata": {},
               "output_type": "display_data"
            },
            {
               "data": {
                  "text/plain": [
                     "<Figure size 640x480 with 0 Axes>"
                  ]
               },
               "metadata": {},
               "output_type": "display_data"
            },
            {
               "data": {
                  "text/plain": [
                     "<Figure size 640x480 with 0 Axes>"
                  ]
               },
               "metadata": {},
               "output_type": "display_data"
            },
            {
               "data": {
                  "text/plain": [
                     "<Figure size 640x480 with 0 Axes>"
                  ]
               },
               "metadata": {},
               "output_type": "display_data"
            },
            {
               "data": {
                  "text/plain": [
                     "<Figure size 640x480 with 0 Axes>"
                  ]
               },
               "metadata": {},
               "output_type": "display_data"
            },
            {
               "data": {
                  "text/plain": [
                     "<Figure size 640x480 with 0 Axes>"
                  ]
               },
               "metadata": {},
               "output_type": "display_data"
            },
            {
               "data": {
                  "text/plain": [
                     "<Figure size 640x480 with 0 Axes>"
                  ]
               },
               "metadata": {},
               "output_type": "display_data"
            },
            {
               "data": {
                  "text/plain": [
                     "<Figure size 640x480 with 0 Axes>"
                  ]
               },
               "metadata": {},
               "output_type": "display_data"
            },
            {
               "data": {
                  "text/plain": [
                     "<Figure size 640x480 with 0 Axes>"
                  ]
               },
               "metadata": {},
               "output_type": "display_data"
            },
            {
               "data": {
                  "text/plain": [
                     "<Figure size 640x480 with 0 Axes>"
                  ]
               },
               "metadata": {},
               "output_type": "display_data"
            },
            {
               "data": {
                  "text/plain": [
                     "<Figure size 640x480 with 0 Axes>"
                  ]
               },
               "metadata": {},
               "output_type": "display_data"
            },
            {
               "data": {
                  "text/plain": [
                     "<Figure size 640x480 with 0 Axes>"
                  ]
               },
               "metadata": {},
               "output_type": "display_data"
            },
            {
               "data": {
                  "text/plain": [
                     "<Figure size 640x480 with 0 Axes>"
                  ]
               },
               "metadata": {},
               "output_type": "display_data"
            },
            {
               "data": {
                  "text/plain": [
                     "<Figure size 640x480 with 0 Axes>"
                  ]
               },
               "metadata": {},
               "output_type": "display_data"
            },
            {
               "data": {
                  "text/plain": [
                     "<Figure size 640x480 with 0 Axes>"
                  ]
               },
               "metadata": {},
               "output_type": "display_data"
            },
            {
               "data": {
                  "text/plain": [
                     "<Figure size 640x480 with 0 Axes>"
                  ]
               },
               "metadata": {},
               "output_type": "display_data"
            },
            {
               "data": {
                  "text/plain": [
                     "<Figure size 640x480 with 0 Axes>"
                  ]
               },
               "metadata": {},
               "output_type": "display_data"
            },
            {
               "data": {
                  "text/plain": [
                     "<Figure size 640x480 with 0 Axes>"
                  ]
               },
               "metadata": {},
               "output_type": "display_data"
            },
            {
               "data": {
                  "text/plain": [
                     "<Figure size 640x480 with 0 Axes>"
                  ]
               },
               "metadata": {},
               "output_type": "display_data"
            },
            {
               "data": {
                  "text/plain": [
                     "<Figure size 640x480 with 0 Axes>"
                  ]
               },
               "metadata": {},
               "output_type": "display_data"
            },
            {
               "data": {
                  "text/plain": [
                     "<Figure size 640x480 with 0 Axes>"
                  ]
               },
               "metadata": {},
               "output_type": "display_data"
            },
            {
               "data": {
                  "text/plain": [
                     "<Figure size 640x480 with 0 Axes>"
                  ]
               },
               "metadata": {},
               "output_type": "display_data"
            },
            {
               "data": {
                  "text/plain": [
                     "<Figure size 640x480 with 0 Axes>"
                  ]
               },
               "metadata": {},
               "output_type": "display_data"
            },
            {
               "data": {
                  "text/plain": [
                     "<Figure size 640x480 with 0 Axes>"
                  ]
               },
               "metadata": {},
               "output_type": "display_data"
            },
            {
               "data": {
                  "text/plain": [
                     "<Figure size 640x480 with 0 Axes>"
                  ]
               },
               "metadata": {},
               "output_type": "display_data"
            },
            {
               "data": {
                  "text/plain": [
                     "<Figure size 640x480 with 0 Axes>"
                  ]
               },
               "metadata": {},
               "output_type": "display_data"
            },
            {
               "data": {
                  "text/plain": [
                     "<Figure size 640x480 with 0 Axes>"
                  ]
               },
               "metadata": {},
               "output_type": "display_data"
            },
            {
               "data": {
                  "text/plain": [
                     "<Figure size 640x480 with 0 Axes>"
                  ]
               },
               "metadata": {},
               "output_type": "display_data"
            },
            {
               "data": {
                  "text/plain": [
                     "<Figure size 640x480 with 0 Axes>"
                  ]
               },
               "metadata": {},
               "output_type": "display_data"
            },
            {
               "data": {
                  "text/plain": [
                     "<Figure size 640x480 with 0 Axes>"
                  ]
               },
               "metadata": {},
               "output_type": "display_data"
            },
            {
               "data": {
                  "text/plain": [
                     "<Figure size 640x480 with 0 Axes>"
                  ]
               },
               "metadata": {},
               "output_type": "display_data"
            },
            {
               "data": {
                  "text/plain": [
                     "<Figure size 640x480 with 0 Axes>"
                  ]
               },
               "metadata": {},
               "output_type": "display_data"
            },
            {
               "data": {
                  "text/plain": [
                     "<Figure size 640x480 with 0 Axes>"
                  ]
               },
               "metadata": {},
               "output_type": "display_data"
            },
            {
               "data": {
                  "text/plain": [
                     "<Figure size 640x480 with 0 Axes>"
                  ]
               },
               "metadata": {},
               "output_type": "display_data"
            },
            {
               "data": {
                  "text/plain": [
                     "<Figure size 640x480 with 0 Axes>"
                  ]
               },
               "metadata": {},
               "output_type": "display_data"
            },
            {
               "data": {
                  "text/plain": [
                     "<Figure size 640x480 with 0 Axes>"
                  ]
               },
               "metadata": {},
               "output_type": "display_data"
            },
            {
               "data": {
                  "text/plain": [
                     "<Figure size 640x480 with 0 Axes>"
                  ]
               },
               "metadata": {},
               "output_type": "display_data"
            },
            {
               "data": {
                  "text/plain": [
                     "<Figure size 640x480 with 0 Axes>"
                  ]
               },
               "metadata": {},
               "output_type": "display_data"
            },
            {
               "data": {
                  "text/plain": [
                     "<Figure size 640x480 with 0 Axes>"
                  ]
               },
               "metadata": {},
               "output_type": "display_data"
            },
            {
               "data": {
                  "text/plain": [
                     "<Figure size 640x480 with 0 Axes>"
                  ]
               },
               "metadata": {},
               "output_type": "display_data"
            },
            {
               "data": {
                  "text/plain": [
                     "<Figure size 640x480 with 0 Axes>"
                  ]
               },
               "metadata": {},
               "output_type": "display_data"
            },
            {
               "data": {
                  "text/plain": [
                     "<Figure size 640x480 with 0 Axes>"
                  ]
               },
               "metadata": {},
               "output_type": "display_data"
            },
            {
               "data": {
                  "text/plain": [
                     "<Figure size 640x480 with 0 Axes>"
                  ]
               },
               "metadata": {},
               "output_type": "display_data"
            },
            {
               "data": {
                  "text/plain": [
                     "<Figure size 640x480 with 0 Axes>"
                  ]
               },
               "metadata": {},
               "output_type": "display_data"
            },
            {
               "data": {
                  "text/plain": [
                     "<Figure size 640x480 with 0 Axes>"
                  ]
               },
               "metadata": {},
               "output_type": "display_data"
            },
            {
               "data": {
                  "text/plain": [
                     "<Figure size 640x480 with 0 Axes>"
                  ]
               },
               "metadata": {},
               "output_type": "display_data"
            },
            {
               "data": {
                  "text/plain": [
                     "<Figure size 640x480 with 0 Axes>"
                  ]
               },
               "metadata": {},
               "output_type": "display_data"
            },
            {
               "data": {
                  "text/plain": [
                     "<Figure size 640x480 with 0 Axes>"
                  ]
               },
               "metadata": {},
               "output_type": "display_data"
            },
            {
               "data": {
                  "text/plain": [
                     "<Figure size 640x480 with 0 Axes>"
                  ]
               },
               "metadata": {},
               "output_type": "display_data"
            },
            {
               "data": {
                  "text/plain": [
                     "<Figure size 640x480 with 0 Axes>"
                  ]
               },
               "metadata": {},
               "output_type": "display_data"
            },
            {
               "data": {
                  "text/plain": [
                     "<Figure size 640x480 with 0 Axes>"
                  ]
               },
               "metadata": {},
               "output_type": "display_data"
            },
            {
               "data": {
                  "text/plain": [
                     "<Figure size 640x480 with 0 Axes>"
                  ]
               },
               "metadata": {},
               "output_type": "display_data"
            },
            {
               "data": {
                  "text/plain": [
                     "<Figure size 640x480 with 0 Axes>"
                  ]
               },
               "metadata": {},
               "output_type": "display_data"
            },
            {
               "data": {
                  "text/plain": [
                     "<Figure size 640x480 with 0 Axes>"
                  ]
               },
               "metadata": {},
               "output_type": "display_data"
            },
            {
               "data": {
                  "text/plain": [
                     "<Figure size 640x480 with 0 Axes>"
                  ]
               },
               "metadata": {},
               "output_type": "display_data"
            },
            {
               "data": {
                  "text/plain": [
                     "<Figure size 640x480 with 0 Axes>"
                  ]
               },
               "metadata": {},
               "output_type": "display_data"
            },
            {
               "data": {
                  "text/plain": [
                     "<Figure size 640x480 with 0 Axes>"
                  ]
               },
               "metadata": {},
               "output_type": "display_data"
            },
            {
               "data": {
                  "text/plain": [
                     "<Figure size 640x480 with 0 Axes>"
                  ]
               },
               "metadata": {},
               "output_type": "display_data"
            },
            {
               "data": {
                  "text/plain": [
                     "<Figure size 640x480 with 0 Axes>"
                  ]
               },
               "metadata": {},
               "output_type": "display_data"
            },
            {
               "data": {
                  "text/plain": [
                     "<Figure size 640x480 with 0 Axes>"
                  ]
               },
               "metadata": {},
               "output_type": "display_data"
            },
            {
               "data": {
                  "text/plain": [
                     "<Figure size 640x480 with 0 Axes>"
                  ]
               },
               "metadata": {},
               "output_type": "display_data"
            },
            {
               "data": {
                  "text/plain": [
                     "<Figure size 640x480 with 0 Axes>"
                  ]
               },
               "metadata": {},
               "output_type": "display_data"
            },
            {
               "data": {
                  "text/plain": [
                     "<Figure size 640x480 with 0 Axes>"
                  ]
               },
               "metadata": {},
               "output_type": "display_data"
            },
            {
               "data": {
                  "text/plain": [
                     "<Figure size 640x480 with 0 Axes>"
                  ]
               },
               "metadata": {},
               "output_type": "display_data"
            },
            {
               "data": {
                  "text/plain": [
                     "<Figure size 640x480 with 0 Axes>"
                  ]
               },
               "metadata": {},
               "output_type": "display_data"
            },
            {
               "data": {
                  "text/plain": [
                     "<Figure size 640x480 with 0 Axes>"
                  ]
               },
               "metadata": {},
               "output_type": "display_data"
            },
            {
               "data": {
                  "text/plain": [
                     "<Figure size 640x480 with 0 Axes>"
                  ]
               },
               "metadata": {},
               "output_type": "display_data"
            },
            {
               "data": {
                  "text/plain": [
                     "<Figure size 640x480 with 0 Axes>"
                  ]
               },
               "metadata": {},
               "output_type": "display_data"
            },
            {
               "data": {
                  "text/plain": [
                     "<Figure size 640x480 with 0 Axes>"
                  ]
               },
               "metadata": {},
               "output_type": "display_data"
            },
            {
               "data": {
                  "text/plain": [
                     "<Figure size 640x480 with 0 Axes>"
                  ]
               },
               "metadata": {},
               "output_type": "display_data"
            },
            {
               "data": {
                  "text/plain": [
                     "<Figure size 640x480 with 0 Axes>"
                  ]
               },
               "metadata": {},
               "output_type": "display_data"
            },
            {
               "data": {
                  "text/plain": [
                     "<Figure size 640x480 with 0 Axes>"
                  ]
               },
               "metadata": {},
               "output_type": "display_data"
            },
            {
               "data": {
                  "text/plain": [
                     "<Figure size 640x480 with 0 Axes>"
                  ]
               },
               "metadata": {},
               "output_type": "display_data"
            },
            {
               "data": {
                  "text/plain": [
                     "<Figure size 640x480 with 0 Axes>"
                  ]
               },
               "metadata": {},
               "output_type": "display_data"
            },
            {
               "data": {
                  "text/plain": [
                     "<Figure size 640x480 with 0 Axes>"
                  ]
               },
               "metadata": {},
               "output_type": "display_data"
            },
            {
               "data": {
                  "text/plain": [
                     "<Figure size 640x480 with 0 Axes>"
                  ]
               },
               "metadata": {},
               "output_type": "display_data"
            },
            {
               "data": {
                  "text/plain": [
                     "<Figure size 640x480 with 0 Axes>"
                  ]
               },
               "metadata": {},
               "output_type": "display_data"
            },
            {
               "data": {
                  "text/plain": [
                     "<Figure size 640x480 with 0 Axes>"
                  ]
               },
               "metadata": {},
               "output_type": "display_data"
            },
            {
               "data": {
                  "text/plain": [
                     "<Figure size 640x480 with 0 Axes>"
                  ]
               },
               "metadata": {},
               "output_type": "display_data"
            },
            {
               "data": {
                  "text/plain": [
                     "<Figure size 640x480 with 0 Axes>"
                  ]
               },
               "metadata": {},
               "output_type": "display_data"
            },
            {
               "data": {
                  "text/plain": [
                     "<Figure size 640x480 with 0 Axes>"
                  ]
               },
               "metadata": {},
               "output_type": "display_data"
            },
            {
               "data": {
                  "text/plain": [
                     "<Figure size 640x480 with 0 Axes>"
                  ]
               },
               "metadata": {},
               "output_type": "display_data"
            },
            {
               "data": {
                  "text/plain": [
                     "<Figure size 640x480 with 0 Axes>"
                  ]
               },
               "metadata": {},
               "output_type": "display_data"
            },
            {
               "data": {
                  "text/plain": [
                     "<Figure size 640x480 with 0 Axes>"
                  ]
               },
               "metadata": {},
               "output_type": "display_data"
            },
            {
               "data": {
                  "text/plain": [
                     "<Figure size 640x480 with 0 Axes>"
                  ]
               },
               "metadata": {},
               "output_type": "display_data"
            },
            {
               "data": {
                  "text/plain": [
                     "<Figure size 640x480 with 0 Axes>"
                  ]
               },
               "metadata": {},
               "output_type": "display_data"
            },
            {
               "data": {
                  "text/plain": [
                     "<Figure size 640x480 with 0 Axes>"
                  ]
               },
               "metadata": {},
               "output_type": "display_data"
            },
            {
               "data": {
                  "text/plain": [
                     "<Figure size 640x480 with 0 Axes>"
                  ]
               },
               "metadata": {},
               "output_type": "display_data"
            },
            {
               "data": {
                  "text/plain": [
                     "<Figure size 640x480 with 0 Axes>"
                  ]
               },
               "metadata": {},
               "output_type": "display_data"
            },
            {
               "data": {
                  "text/plain": [
                     "<Figure size 640x480 with 0 Axes>"
                  ]
               },
               "metadata": {},
               "output_type": "display_data"
            },
            {
               "data": {
                  "text/plain": [
                     "<Figure size 640x480 with 0 Axes>"
                  ]
               },
               "metadata": {},
               "output_type": "display_data"
            },
            {
               "data": {
                  "text/plain": [
                     "<Figure size 640x480 with 0 Axes>"
                  ]
               },
               "metadata": {},
               "output_type": "display_data"
            },
            {
               "data": {
                  "text/plain": [
                     "<Figure size 640x480 with 0 Axes>"
                  ]
               },
               "metadata": {},
               "output_type": "display_data"
            },
            {
               "data": {
                  "text/plain": [
                     "<Figure size 640x480 with 0 Axes>"
                  ]
               },
               "metadata": {},
               "output_type": "display_data"
            },
            {
               "data": {
                  "text/plain": [
                     "<Figure size 640x480 with 0 Axes>"
                  ]
               },
               "metadata": {},
               "output_type": "display_data"
            },
            {
               "data": {
                  "text/plain": [
                     "<Figure size 640x480 with 0 Axes>"
                  ]
               },
               "metadata": {},
               "output_type": "display_data"
            },
            {
               "data": {
                  "text/plain": [
                     "<Figure size 640x480 with 0 Axes>"
                  ]
               },
               "metadata": {},
               "output_type": "display_data"
            },
            {
               "data": {
                  "text/plain": [
                     "<Figure size 640x480 with 0 Axes>"
                  ]
               },
               "metadata": {},
               "output_type": "display_data"
            },
            {
               "data": {
                  "text/plain": [
                     "<Figure size 640x480 with 0 Axes>"
                  ]
               },
               "metadata": {},
               "output_type": "display_data"
            },
            {
               "data": {
                  "text/plain": [
                     "<Figure size 640x480 with 0 Axes>"
                  ]
               },
               "metadata": {},
               "output_type": "display_data"
            },
            {
               "data": {
                  "text/plain": [
                     "<Figure size 640x480 with 0 Axes>"
                  ]
               },
               "metadata": {},
               "output_type": "display_data"
            },
            {
               "data": {
                  "text/plain": [
                     "<Figure size 640x480 with 0 Axes>"
                  ]
               },
               "metadata": {},
               "output_type": "display_data"
            },
            {
               "data": {
                  "text/plain": [
                     "<Figure size 640x480 with 0 Axes>"
                  ]
               },
               "metadata": {},
               "output_type": "display_data"
            },
            {
               "data": {
                  "text/plain": [
                     "<Figure size 640x480 with 0 Axes>"
                  ]
               },
               "metadata": {},
               "output_type": "display_data"
            },
            {
               "data": {
                  "text/plain": [
                     "<Figure size 640x480 with 0 Axes>"
                  ]
               },
               "metadata": {},
               "output_type": "display_data"
            },
            {
               "data": {
                  "text/plain": [
                     "<Figure size 640x480 with 0 Axes>"
                  ]
               },
               "metadata": {},
               "output_type": "display_data"
            },
            {
               "data": {
                  "text/plain": [
                     "<Figure size 640x480 with 0 Axes>"
                  ]
               },
               "metadata": {},
               "output_type": "display_data"
            },
            {
               "data": {
                  "text/plain": [
                     "<Figure size 640x480 with 0 Axes>"
                  ]
               },
               "metadata": {},
               "output_type": "display_data"
            },
            {
               "data": {
                  "text/plain": [
                     "<Figure size 640x480 with 0 Axes>"
                  ]
               },
               "metadata": {},
               "output_type": "display_data"
            },
            {
               "data": {
                  "text/plain": [
                     "<Figure size 640x480 with 0 Axes>"
                  ]
               },
               "metadata": {},
               "output_type": "display_data"
            },
            {
               "data": {
                  "text/plain": [
                     "<Figure size 640x480 with 0 Axes>"
                  ]
               },
               "metadata": {},
               "output_type": "display_data"
            },
            {
               "data": {
                  "text/plain": [
                     "<Figure size 640x480 with 0 Axes>"
                  ]
               },
               "metadata": {},
               "output_type": "display_data"
            },
            {
               "data": {
                  "text/plain": [
                     "<Figure size 640x480 with 0 Axes>"
                  ]
               },
               "metadata": {},
               "output_type": "display_data"
            },
            {
               "data": {
                  "text/plain": [
                     "<Figure size 640x480 with 0 Axes>"
                  ]
               },
               "metadata": {},
               "output_type": "display_data"
            },
            {
               "data": {
                  "text/plain": [
                     "<Figure size 640x480 with 0 Axes>"
                  ]
               },
               "metadata": {},
               "output_type": "display_data"
            },
            {
               "data": {
                  "text/plain": [
                     "<Figure size 640x480 with 0 Axes>"
                  ]
               },
               "metadata": {},
               "output_type": "display_data"
            },
            {
               "data": {
                  "text/plain": [
                     "<Figure size 640x480 with 0 Axes>"
                  ]
               },
               "metadata": {},
               "output_type": "display_data"
            },
            {
               "data": {
                  "text/plain": [
                     "<Figure size 640x480 with 0 Axes>"
                  ]
               },
               "metadata": {},
               "output_type": "display_data"
            },
            {
               "data": {
                  "text/plain": [
                     "<Figure size 640x480 with 0 Axes>"
                  ]
               },
               "metadata": {},
               "output_type": "display_data"
            },
            {
               "data": {
                  "text/plain": [
                     "<Figure size 640x480 with 0 Axes>"
                  ]
               },
               "metadata": {},
               "output_type": "display_data"
            },
            {
               "data": {
                  "text/plain": [
                     "<Figure size 640x480 with 0 Axes>"
                  ]
               },
               "metadata": {},
               "output_type": "display_data"
            },
            {
               "data": {
                  "text/plain": [
                     "<Figure size 640x480 with 0 Axes>"
                  ]
               },
               "metadata": {},
               "output_type": "display_data"
            },
            {
               "data": {
                  "text/plain": [
                     "<Figure size 640x480 with 0 Axes>"
                  ]
               },
               "metadata": {},
               "output_type": "display_data"
            },
            {
               "data": {
                  "text/plain": [
                     "<Figure size 640x480 with 0 Axes>"
                  ]
               },
               "metadata": {},
               "output_type": "display_data"
            },
            {
               "data": {
                  "text/plain": [
                     "<Figure size 640x480 with 0 Axes>"
                  ]
               },
               "metadata": {},
               "output_type": "display_data"
            },
            {
               "data": {
                  "text/plain": [
                     "<Figure size 640x480 with 0 Axes>"
                  ]
               },
               "metadata": {},
               "output_type": "display_data"
            },
            {
               "data": {
                  "text/plain": [
                     "<Figure size 640x480 with 0 Axes>"
                  ]
               },
               "metadata": {},
               "output_type": "display_data"
            },
            {
               "data": {
                  "text/plain": [
                     "<Figure size 640x480 with 0 Axes>"
                  ]
               },
               "metadata": {},
               "output_type": "display_data"
            },
            {
               "data": {
                  "text/plain": [
                     "<Figure size 640x480 with 0 Axes>"
                  ]
               },
               "metadata": {},
               "output_type": "display_data"
            },
            {
               "data": {
                  "text/plain": [
                     "<Figure size 640x480 with 0 Axes>"
                  ]
               },
               "metadata": {},
               "output_type": "display_data"
            },
            {
               "data": {
                  "text/plain": [
                     "<Figure size 640x480 with 0 Axes>"
                  ]
               },
               "metadata": {},
               "output_type": "display_data"
            },
            {
               "data": {
                  "text/plain": [
                     "<Figure size 640x480 with 0 Axes>"
                  ]
               },
               "metadata": {},
               "output_type": "display_data"
            },
            {
               "data": {
                  "text/plain": [
                     "<Figure size 640x480 with 0 Axes>"
                  ]
               },
               "metadata": {},
               "output_type": "display_data"
            },
            {
               "data": {
                  "text/plain": [
                     "<Figure size 640x480 with 0 Axes>"
                  ]
               },
               "metadata": {},
               "output_type": "display_data"
            },
            {
               "data": {
                  "text/plain": [
                     "<Figure size 640x480 with 0 Axes>"
                  ]
               },
               "metadata": {},
               "output_type": "display_data"
            },
            {
               "data": {
                  "text/plain": [
                     "<Figure size 640x480 with 0 Axes>"
                  ]
               },
               "metadata": {},
               "output_type": "display_data"
            },
            {
               "data": {
                  "text/plain": [
                     "<Figure size 640x480 with 0 Axes>"
                  ]
               },
               "metadata": {},
               "output_type": "display_data"
            },
            {
               "data": {
                  "text/plain": [
                     "<Figure size 640x480 with 0 Axes>"
                  ]
               },
               "metadata": {},
               "output_type": "display_data"
            },
            {
               "data": {
                  "text/plain": [
                     "<Figure size 640x480 with 0 Axes>"
                  ]
               },
               "metadata": {},
               "output_type": "display_data"
            },
            {
               "data": {
                  "text/plain": [
                     "<Figure size 640x480 with 0 Axes>"
                  ]
               },
               "metadata": {},
               "output_type": "display_data"
            },
            {
               "data": {
                  "text/plain": [
                     "<Figure size 640x480 with 0 Axes>"
                  ]
               },
               "metadata": {},
               "output_type": "display_data"
            },
            {
               "data": {
                  "text/plain": [
                     "<Figure size 640x480 with 0 Axes>"
                  ]
               },
               "metadata": {},
               "output_type": "display_data"
            },
            {
               "data": {
                  "text/plain": [
                     "<Figure size 640x480 with 0 Axes>"
                  ]
               },
               "metadata": {},
               "output_type": "display_data"
            },
            {
               "data": {
                  "text/plain": [
                     "<Figure size 640x480 with 0 Axes>"
                  ]
               },
               "metadata": {},
               "output_type": "display_data"
            },
            {
               "data": {
                  "text/plain": [
                     "<Figure size 640x480 with 0 Axes>"
                  ]
               },
               "metadata": {},
               "output_type": "display_data"
            },
            {
               "data": {
                  "text/plain": [
                     "<Figure size 640x480 with 0 Axes>"
                  ]
               },
               "metadata": {},
               "output_type": "display_data"
            },
            {
               "data": {
                  "text/plain": [
                     "<Figure size 640x480 with 0 Axes>"
                  ]
               },
               "metadata": {},
               "output_type": "display_data"
            },
            {
               "data": {
                  "text/plain": [
                     "<Figure size 640x480 with 0 Axes>"
                  ]
               },
               "metadata": {},
               "output_type": "display_data"
            },
            {
               "data": {
                  "text/plain": [
                     "<Figure size 640x480 with 0 Axes>"
                  ]
               },
               "metadata": {},
               "output_type": "display_data"
            },
            {
               "data": {
                  "text/plain": [
                     "<Figure size 640x480 with 0 Axes>"
                  ]
               },
               "metadata": {},
               "output_type": "display_data"
            },
            {
               "data": {
                  "text/plain": [
                     "<Figure size 640x480 with 0 Axes>"
                  ]
               },
               "metadata": {},
               "output_type": "display_data"
            },
            {
               "data": {
                  "text/plain": [
                     "<Figure size 640x480 with 0 Axes>"
                  ]
               },
               "metadata": {},
               "output_type": "display_data"
            },
            {
               "data": {
                  "text/plain": [
                     "<Figure size 640x480 with 0 Axes>"
                  ]
               },
               "metadata": {},
               "output_type": "display_data"
            },
            {
               "data": {
                  "text/plain": [
                     "<Figure size 640x480 with 0 Axes>"
                  ]
               },
               "metadata": {},
               "output_type": "display_data"
            },
            {
               "data": {
                  "text/plain": [
                     "<Figure size 640x480 with 0 Axes>"
                  ]
               },
               "metadata": {},
               "output_type": "display_data"
            },
            {
               "data": {
                  "text/plain": [
                     "<Figure size 640x480 with 0 Axes>"
                  ]
               },
               "metadata": {},
               "output_type": "display_data"
            },
            {
               "data": {
                  "text/plain": [
                     "<Figure size 640x480 with 0 Axes>"
                  ]
               },
               "metadata": {},
               "output_type": "display_data"
            },
            {
               "data": {
                  "text/plain": [
                     "<Figure size 640x480 with 0 Axes>"
                  ]
               },
               "metadata": {},
               "output_type": "display_data"
            },
            {
               "data": {
                  "text/plain": [
                     "<Figure size 640x480 with 0 Axes>"
                  ]
               },
               "metadata": {},
               "output_type": "display_data"
            },
            {
               "data": {
                  "text/plain": [
                     "<Figure size 640x480 with 0 Axes>"
                  ]
               },
               "metadata": {},
               "output_type": "display_data"
            },
            {
               "data": {
                  "text/plain": [
                     "<Figure size 640x480 with 0 Axes>"
                  ]
               },
               "metadata": {},
               "output_type": "display_data"
            },
            {
               "data": {
                  "text/plain": [
                     "<Figure size 640x480 with 0 Axes>"
                  ]
               },
               "metadata": {},
               "output_type": "display_data"
            },
            {
               "data": {
                  "text/plain": [
                     "<Figure size 640x480 with 0 Axes>"
                  ]
               },
               "metadata": {},
               "output_type": "display_data"
            },
            {
               "data": {
                  "text/plain": [
                     "<Figure size 640x480 with 0 Axes>"
                  ]
               },
               "metadata": {},
               "output_type": "display_data"
            },
            {
               "data": {
                  "text/plain": [
                     "<Figure size 640x480 with 0 Axes>"
                  ]
               },
               "metadata": {},
               "output_type": "display_data"
            },
            {
               "data": {
                  "text/plain": [
                     "<Figure size 640x480 with 0 Axes>"
                  ]
               },
               "metadata": {},
               "output_type": "display_data"
            },
            {
               "data": {
                  "text/plain": [
                     "<Figure size 640x480 with 0 Axes>"
                  ]
               },
               "metadata": {},
               "output_type": "display_data"
            },
            {
               "data": {
                  "text/plain": [
                     "<Figure size 640x480 with 0 Axes>"
                  ]
               },
               "metadata": {},
               "output_type": "display_data"
            },
            {
               "data": {
                  "text/plain": [
                     "<Figure size 640x480 with 0 Axes>"
                  ]
               },
               "metadata": {},
               "output_type": "display_data"
            },
            {
               "data": {
                  "text/plain": [
                     "<Figure size 640x480 with 0 Axes>"
                  ]
               },
               "metadata": {},
               "output_type": "display_data"
            },
            {
               "data": {
                  "text/plain": [
                     "<Figure size 640x480 with 0 Axes>"
                  ]
               },
               "metadata": {},
               "output_type": "display_data"
            },
            {
               "data": {
                  "text/plain": [
                     "<Figure size 640x480 with 0 Axes>"
                  ]
               },
               "metadata": {},
               "output_type": "display_data"
            },
            {
               "data": {
                  "text/plain": [
                     "<Figure size 640x480 with 0 Axes>"
                  ]
               },
               "metadata": {},
               "output_type": "display_data"
            },
            {
               "data": {
                  "text/plain": [
                     "<Figure size 640x480 with 0 Axes>"
                  ]
               },
               "metadata": {},
               "output_type": "display_data"
            },
            {
               "data": {
                  "text/plain": [
                     "<Figure size 640x480 with 0 Axes>"
                  ]
               },
               "metadata": {},
               "output_type": "display_data"
            },
            {
               "data": {
                  "text/plain": [
                     "<Figure size 640x480 with 0 Axes>"
                  ]
               },
               "metadata": {},
               "output_type": "display_data"
            },
            {
               "data": {
                  "text/plain": [
                     "<Figure size 640x480 with 0 Axes>"
                  ]
               },
               "metadata": {},
               "output_type": "display_data"
            },
            {
               "data": {
                  "text/plain": [
                     "<Figure size 640x480 with 0 Axes>"
                  ]
               },
               "metadata": {},
               "output_type": "display_data"
            },
            {
               "data": {
                  "text/plain": [
                     "<Figure size 640x480 with 0 Axes>"
                  ]
               },
               "metadata": {},
               "output_type": "display_data"
            },
            {
               "data": {
                  "text/plain": [
                     "<Figure size 640x480 with 0 Axes>"
                  ]
               },
               "metadata": {},
               "output_type": "display_data"
            },
            {
               "data": {
                  "text/plain": [
                     "<Figure size 640x480 with 0 Axes>"
                  ]
               },
               "metadata": {},
               "output_type": "display_data"
            },
            {
               "data": {
                  "text/plain": [
                     "<Figure size 640x480 with 0 Axes>"
                  ]
               },
               "metadata": {},
               "output_type": "display_data"
            },
            {
               "data": {
                  "text/plain": [
                     "<Figure size 640x480 with 0 Axes>"
                  ]
               },
               "metadata": {},
               "output_type": "display_data"
            },
            {
               "data": {
                  "text/plain": [
                     "<Figure size 640x480 with 0 Axes>"
                  ]
               },
               "metadata": {},
               "output_type": "display_data"
            },
            {
               "data": {
                  "text/plain": [
                     "<Figure size 640x480 with 0 Axes>"
                  ]
               },
               "metadata": {},
               "output_type": "display_data"
            },
            {
               "data": {
                  "text/plain": [
                     "<Figure size 640x480 with 0 Axes>"
                  ]
               },
               "metadata": {},
               "output_type": "display_data"
            },
            {
               "data": {
                  "text/plain": [
                     "<Figure size 640x480 with 0 Axes>"
                  ]
               },
               "metadata": {},
               "output_type": "display_data"
            },
            {
               "data": {
                  "text/plain": [
                     "<Figure size 640x480 with 0 Axes>"
                  ]
               },
               "metadata": {},
               "output_type": "display_data"
            },
            {
               "data": {
                  "text/plain": [
                     "<Figure size 640x480 with 0 Axes>"
                  ]
               },
               "metadata": {},
               "output_type": "display_data"
            },
            {
               "data": {
                  "text/plain": [
                     "<Figure size 640x480 with 0 Axes>"
                  ]
               },
               "metadata": {},
               "output_type": "display_data"
            },
            {
               "data": {
                  "text/plain": [
                     "<Figure size 640x480 with 0 Axes>"
                  ]
               },
               "metadata": {},
               "output_type": "display_data"
            },
            {
               "data": {
                  "text/plain": [
                     "<Figure size 640x480 with 0 Axes>"
                  ]
               },
               "metadata": {},
               "output_type": "display_data"
            },
            {
               "data": {
                  "text/plain": [
                     "<Figure size 640x480 with 0 Axes>"
                  ]
               },
               "metadata": {},
               "output_type": "display_data"
            },
            {
               "data": {
                  "text/plain": [
                     "<Figure size 640x480 with 0 Axes>"
                  ]
               },
               "metadata": {},
               "output_type": "display_data"
            },
            {
               "data": {
                  "text/plain": [
                     "<Figure size 640x480 with 0 Axes>"
                  ]
               },
               "metadata": {},
               "output_type": "display_data"
            },
            {
               "data": {
                  "text/plain": [
                     "<Figure size 640x480 with 0 Axes>"
                  ]
               },
               "metadata": {},
               "output_type": "display_data"
            },
            {
               "data": {
                  "text/plain": [
                     "<Figure size 640x480 with 0 Axes>"
                  ]
               },
               "metadata": {},
               "output_type": "display_data"
            },
            {
               "data": {
                  "text/plain": [
                     "<Figure size 640x480 with 0 Axes>"
                  ]
               },
               "metadata": {},
               "output_type": "display_data"
            },
            {
               "data": {
                  "text/plain": [
                     "<Figure size 640x480 with 0 Axes>"
                  ]
               },
               "metadata": {},
               "output_type": "display_data"
            },
            {
               "data": {
                  "text/plain": [
                     "<Figure size 640x480 with 0 Axes>"
                  ]
               },
               "metadata": {},
               "output_type": "display_data"
            },
            {
               "data": {
                  "text/plain": [
                     "<Figure size 640x480 with 0 Axes>"
                  ]
               },
               "metadata": {},
               "output_type": "display_data"
            },
            {
               "data": {
                  "text/plain": [
                     "<Figure size 640x480 with 0 Axes>"
                  ]
               },
               "metadata": {},
               "output_type": "display_data"
            },
            {
               "data": {
                  "text/plain": [
                     "<Figure size 640x480 with 0 Axes>"
                  ]
               },
               "metadata": {},
               "output_type": "display_data"
            },
            {
               "data": {
                  "text/plain": [
                     "<Figure size 640x480 with 0 Axes>"
                  ]
               },
               "metadata": {},
               "output_type": "display_data"
            },
            {
               "data": {
                  "text/plain": [
                     "<Figure size 640x480 with 0 Axes>"
                  ]
               },
               "metadata": {},
               "output_type": "display_data"
            },
            {
               "data": {
                  "text/plain": [
                     "<Figure size 640x480 with 0 Axes>"
                  ]
               },
               "metadata": {},
               "output_type": "display_data"
            },
            {
               "data": {
                  "text/plain": [
                     "<Figure size 640x480 with 0 Axes>"
                  ]
               },
               "metadata": {},
               "output_type": "display_data"
            },
            {
               "data": {
                  "text/plain": [
                     "<Figure size 640x480 with 0 Axes>"
                  ]
               },
               "metadata": {},
               "output_type": "display_data"
            },
            {
               "data": {
                  "text/plain": [
                     "<Figure size 640x480 with 0 Axes>"
                  ]
               },
               "metadata": {},
               "output_type": "display_data"
            },
            {
               "data": {
                  "text/plain": [
                     "<Figure size 640x480 with 0 Axes>"
                  ]
               },
               "metadata": {},
               "output_type": "display_data"
            },
            {
               "data": {
                  "text/plain": [
                     "<Figure size 640x480 with 0 Axes>"
                  ]
               },
               "metadata": {},
               "output_type": "display_data"
            },
            {
               "data": {
                  "text/plain": [
                     "<Figure size 640x480 with 0 Axes>"
                  ]
               },
               "metadata": {},
               "output_type": "display_data"
            },
            {
               "data": {
                  "text/plain": [
                     "<Figure size 640x480 with 0 Axes>"
                  ]
               },
               "metadata": {},
               "output_type": "display_data"
            },
            {
               "data": {
                  "text/plain": [
                     "<Figure size 640x480 with 0 Axes>"
                  ]
               },
               "metadata": {},
               "output_type": "display_data"
            },
            {
               "data": {
                  "text/plain": [
                     "<Figure size 640x480 with 0 Axes>"
                  ]
               },
               "metadata": {},
               "output_type": "display_data"
            },
            {
               "data": {
                  "text/plain": [
                     "<Figure size 640x480 with 0 Axes>"
                  ]
               },
               "metadata": {},
               "output_type": "display_data"
            },
            {
               "data": {
                  "text/plain": [
                     "<Figure size 640x480 with 0 Axes>"
                  ]
               },
               "metadata": {},
               "output_type": "display_data"
            },
            {
               "data": {
                  "text/plain": [
                     "<Figure size 640x480 with 0 Axes>"
                  ]
               },
               "metadata": {},
               "output_type": "display_data"
            },
            {
               "data": {
                  "text/plain": [
                     "<Figure size 640x480 with 0 Axes>"
                  ]
               },
               "metadata": {},
               "output_type": "display_data"
            },
            {
               "data": {
                  "text/plain": [
                     "<Figure size 640x480 with 0 Axes>"
                  ]
               },
               "metadata": {},
               "output_type": "display_data"
            },
            {
               "data": {
                  "text/plain": [
                     "<Figure size 640x480 with 0 Axes>"
                  ]
               },
               "metadata": {},
               "output_type": "display_data"
            },
            {
               "data": {
                  "text/plain": [
                     "<Figure size 640x480 with 0 Axes>"
                  ]
               },
               "metadata": {},
               "output_type": "display_data"
            },
            {
               "data": {
                  "text/plain": [
                     "<Figure size 640x480 with 0 Axes>"
                  ]
               },
               "metadata": {},
               "output_type": "display_data"
            },
            {
               "data": {
                  "text/plain": [
                     "<Figure size 640x480 with 0 Axes>"
                  ]
               },
               "metadata": {},
               "output_type": "display_data"
            },
            {
               "data": {
                  "text/plain": [
                     "<Figure size 640x480 with 0 Axes>"
                  ]
               },
               "metadata": {},
               "output_type": "display_data"
            },
            {
               "data": {
                  "text/plain": [
                     "<Figure size 640x480 with 0 Axes>"
                  ]
               },
               "metadata": {},
               "output_type": "display_data"
            },
            {
               "data": {
                  "text/plain": [
                     "<Figure size 640x480 with 0 Axes>"
                  ]
               },
               "metadata": {},
               "output_type": "display_data"
            },
            {
               "data": {
                  "text/plain": [
                     "<Figure size 640x480 with 0 Axes>"
                  ]
               },
               "metadata": {},
               "output_type": "display_data"
            },
            {
               "data": {
                  "text/plain": [
                     "<Figure size 640x480 with 0 Axes>"
                  ]
               },
               "metadata": {},
               "output_type": "display_data"
            },
            {
               "data": {
                  "text/plain": [
                     "<Figure size 640x480 with 0 Axes>"
                  ]
               },
               "metadata": {},
               "output_type": "display_data"
            },
            {
               "data": {
                  "text/plain": [
                     "<Figure size 640x480 with 0 Axes>"
                  ]
               },
               "metadata": {},
               "output_type": "display_data"
            },
            {
               "data": {
                  "text/plain": [
                     "<Figure size 640x480 with 0 Axes>"
                  ]
               },
               "metadata": {},
               "output_type": "display_data"
            },
            {
               "data": {
                  "text/plain": [
                     "<Figure size 640x480 with 0 Axes>"
                  ]
               },
               "metadata": {},
               "output_type": "display_data"
            },
            {
               "data": {
                  "text/plain": [
                     "<Figure size 640x480 with 0 Axes>"
                  ]
               },
               "metadata": {},
               "output_type": "display_data"
            },
            {
               "data": {
                  "text/plain": [
                     "<Figure size 640x480 with 0 Axes>"
                  ]
               },
               "metadata": {},
               "output_type": "display_data"
            },
            {
               "data": {
                  "text/plain": [
                     "<Figure size 640x480 with 0 Axes>"
                  ]
               },
               "metadata": {},
               "output_type": "display_data"
            },
            {
               "data": {
                  "text/plain": [
                     "<Figure size 640x480 with 0 Axes>"
                  ]
               },
               "metadata": {},
               "output_type": "display_data"
            },
            {
               "data": {
                  "text/plain": [
                     "<Figure size 640x480 with 0 Axes>"
                  ]
               },
               "metadata": {},
               "output_type": "display_data"
            },
            {
               "data": {
                  "text/plain": [
                     "<Figure size 640x480 with 0 Axes>"
                  ]
               },
               "metadata": {},
               "output_type": "display_data"
            },
            {
               "data": {
                  "text/plain": [
                     "<Figure size 640x480 with 0 Axes>"
                  ]
               },
               "metadata": {},
               "output_type": "display_data"
            },
            {
               "data": {
                  "text/plain": [
                     "<Figure size 640x480 with 0 Axes>"
                  ]
               },
               "metadata": {},
               "output_type": "display_data"
            },
            {
               "data": {
                  "text/plain": [
                     "<Figure size 640x480 with 0 Axes>"
                  ]
               },
               "metadata": {},
               "output_type": "display_data"
            },
            {
               "data": {
                  "text/plain": [
                     "<Figure size 640x480 with 0 Axes>"
                  ]
               },
               "metadata": {},
               "output_type": "display_data"
            },
            {
               "data": {
                  "text/plain": [
                     "<Figure size 640x480 with 0 Axes>"
                  ]
               },
               "metadata": {},
               "output_type": "display_data"
            },
            {
               "data": {
                  "text/plain": [
                     "<Figure size 640x480 with 0 Axes>"
                  ]
               },
               "metadata": {},
               "output_type": "display_data"
            },
            {
               "data": {
                  "text/plain": [
                     "<Figure size 640x480 with 0 Axes>"
                  ]
               },
               "metadata": {},
               "output_type": "display_data"
            },
            {
               "data": {
                  "text/plain": [
                     "<Figure size 640x480 with 0 Axes>"
                  ]
               },
               "metadata": {},
               "output_type": "display_data"
            },
            {
               "data": {
                  "text/plain": [
                     "<Figure size 640x480 with 0 Axes>"
                  ]
               },
               "metadata": {},
               "output_type": "display_data"
            },
            {
               "data": {
                  "text/plain": [
                     "<Figure size 640x480 with 0 Axes>"
                  ]
               },
               "metadata": {},
               "output_type": "display_data"
            },
            {
               "data": {
                  "text/plain": [
                     "<Figure size 640x480 with 0 Axes>"
                  ]
               },
               "metadata": {},
               "output_type": "display_data"
            },
            {
               "data": {
                  "text/plain": [
                     "<Figure size 640x480 with 0 Axes>"
                  ]
               },
               "metadata": {},
               "output_type": "display_data"
            },
            {
               "data": {
                  "text/plain": [
                     "<Figure size 640x480 with 0 Axes>"
                  ]
               },
               "metadata": {},
               "output_type": "display_data"
            },
            {
               "data": {
                  "text/plain": [
                     "<Figure size 640x480 with 0 Axes>"
                  ]
               },
               "metadata": {},
               "output_type": "display_data"
            },
            {
               "data": {
                  "text/plain": [
                     "<Figure size 640x480 with 0 Axes>"
                  ]
               },
               "metadata": {},
               "output_type": "display_data"
            },
            {
               "data": {
                  "text/plain": [
                     "<Figure size 640x480 with 0 Axes>"
                  ]
               },
               "metadata": {},
               "output_type": "display_data"
            },
            {
               "data": {
                  "text/plain": [
                     "<Figure size 640x480 with 0 Axes>"
                  ]
               },
               "metadata": {},
               "output_type": "display_data"
            },
            {
               "data": {
                  "text/plain": [
                     "<Figure size 640x480 with 0 Axes>"
                  ]
               },
               "metadata": {},
               "output_type": "display_data"
            },
            {
               "data": {
                  "text/plain": [
                     "<Figure size 640x480 with 0 Axes>"
                  ]
               },
               "metadata": {},
               "output_type": "display_data"
            },
            {
               "data": {
                  "text/plain": [
                     "<Figure size 640x480 with 0 Axes>"
                  ]
               },
               "metadata": {},
               "output_type": "display_data"
            },
            {
               "data": {
                  "text/plain": [
                     "<Figure size 640x480 with 0 Axes>"
                  ]
               },
               "metadata": {},
               "output_type": "display_data"
            },
            {
               "data": {
                  "text/plain": [
                     "<Figure size 640x480 with 0 Axes>"
                  ]
               },
               "metadata": {},
               "output_type": "display_data"
            },
            {
               "data": {
                  "text/plain": [
                     "<Figure size 640x480 with 0 Axes>"
                  ]
               },
               "metadata": {},
               "output_type": "display_data"
            },
            {
               "data": {
                  "text/plain": [
                     "<Figure size 640x480 with 0 Axes>"
                  ]
               },
               "metadata": {},
               "output_type": "display_data"
            },
            {
               "data": {
                  "text/plain": [
                     "<Figure size 640x480 with 0 Axes>"
                  ]
               },
               "metadata": {},
               "output_type": "display_data"
            },
            {
               "data": {
                  "text/plain": [
                     "<Figure size 640x480 with 0 Axes>"
                  ]
               },
               "metadata": {},
               "output_type": "display_data"
            },
            {
               "data": {
                  "text/plain": [
                     "<Figure size 640x480 with 0 Axes>"
                  ]
               },
               "metadata": {},
               "output_type": "display_data"
            },
            {
               "data": {
                  "text/plain": [
                     "<Figure size 640x480 with 0 Axes>"
                  ]
               },
               "metadata": {},
               "output_type": "display_data"
            },
            {
               "data": {
                  "text/plain": [
                     "<Figure size 640x480 with 0 Axes>"
                  ]
               },
               "metadata": {},
               "output_type": "display_data"
            },
            {
               "data": {
                  "text/plain": [
                     "<Figure size 640x480 with 0 Axes>"
                  ]
               },
               "metadata": {},
               "output_type": "display_data"
            },
            {
               "data": {
                  "text/plain": [
                     "<Figure size 640x480 with 0 Axes>"
                  ]
               },
               "metadata": {},
               "output_type": "display_data"
            },
            {
               "data": {
                  "text/plain": [
                     "<Figure size 640x480 with 0 Axes>"
                  ]
               },
               "metadata": {},
               "output_type": "display_data"
            },
            {
               "data": {
                  "text/plain": [
                     "<Figure size 640x480 with 0 Axes>"
                  ]
               },
               "metadata": {},
               "output_type": "display_data"
            },
            {
               "data": {
                  "text/plain": [
                     "<Figure size 640x480 with 0 Axes>"
                  ]
               },
               "metadata": {},
               "output_type": "display_data"
            },
            {
               "data": {
                  "text/plain": [
                     "<Figure size 640x480 with 0 Axes>"
                  ]
               },
               "metadata": {},
               "output_type": "display_data"
            },
            {
               "data": {
                  "text/plain": [
                     "<Figure size 640x480 with 0 Axes>"
                  ]
               },
               "metadata": {},
               "output_type": "display_data"
            },
            {
               "data": {
                  "text/plain": [
                     "<Figure size 640x480 with 0 Axes>"
                  ]
               },
               "metadata": {},
               "output_type": "display_data"
            },
            {
               "data": {
                  "text/plain": [
                     "<Figure size 640x480 with 0 Axes>"
                  ]
               },
               "metadata": {},
               "output_type": "display_data"
            },
            {
               "data": {
                  "text/plain": [
                     "<Figure size 640x480 with 0 Axes>"
                  ]
               },
               "metadata": {},
               "output_type": "display_data"
            },
            {
               "data": {
                  "text/plain": [
                     "<Figure size 640x480 with 0 Axes>"
                  ]
               },
               "metadata": {},
               "output_type": "display_data"
            },
            {
               "data": {
                  "text/plain": [
                     "<Figure size 640x480 with 0 Axes>"
                  ]
               },
               "metadata": {},
               "output_type": "display_data"
            },
            {
               "data": {
                  "text/plain": [
                     "<Figure size 640x480 with 0 Axes>"
                  ]
               },
               "metadata": {},
               "output_type": "display_data"
            },
            {
               "data": {
                  "text/plain": [
                     "<Figure size 640x480 with 0 Axes>"
                  ]
               },
               "metadata": {},
               "output_type": "display_data"
            },
            {
               "data": {
                  "text/plain": [
                     "<Figure size 640x480 with 0 Axes>"
                  ]
               },
               "metadata": {},
               "output_type": "display_data"
            },
            {
               "data": {
                  "text/plain": [
                     "<Figure size 640x480 with 0 Axes>"
                  ]
               },
               "metadata": {},
               "output_type": "display_data"
            },
            {
               "data": {
                  "text/plain": [
                     "<Figure size 640x480 with 0 Axes>"
                  ]
               },
               "metadata": {},
               "output_type": "display_data"
            },
            {
               "data": {
                  "text/plain": [
                     "<Figure size 640x480 with 0 Axes>"
                  ]
               },
               "metadata": {},
               "output_type": "display_data"
            },
            {
               "data": {
                  "text/plain": [
                     "<Figure size 640x480 with 0 Axes>"
                  ]
               },
               "metadata": {},
               "output_type": "display_data"
            },
            {
               "data": {
                  "text/plain": [
                     "<Figure size 640x480 with 0 Axes>"
                  ]
               },
               "metadata": {},
               "output_type": "display_data"
            },
            {
               "data": {
                  "text/plain": [
                     "<Figure size 640x480 with 0 Axes>"
                  ]
               },
               "metadata": {},
               "output_type": "display_data"
            },
            {
               "data": {
                  "text/plain": [
                     "<Figure size 640x480 with 0 Axes>"
                  ]
               },
               "metadata": {},
               "output_type": "display_data"
            },
            {
               "data": {
                  "text/plain": [
                     "<Figure size 640x480 with 0 Axes>"
                  ]
               },
               "metadata": {},
               "output_type": "display_data"
            },
            {
               "data": {
                  "text/plain": [
                     "<Figure size 640x480 with 0 Axes>"
                  ]
               },
               "metadata": {},
               "output_type": "display_data"
            },
            {
               "data": {
                  "text/plain": [
                     "<Figure size 640x480 with 0 Axes>"
                  ]
               },
               "metadata": {},
               "output_type": "display_data"
            },
            {
               "data": {
                  "text/plain": [
                     "<Figure size 640x480 with 0 Axes>"
                  ]
               },
               "metadata": {},
               "output_type": "display_data"
            },
            {
               "data": {
                  "text/plain": [
                     "<Figure size 640x480 with 0 Axes>"
                  ]
               },
               "metadata": {},
               "output_type": "display_data"
            },
            {
               "data": {
                  "text/plain": [
                     "<Figure size 640x480 with 0 Axes>"
                  ]
               },
               "metadata": {},
               "output_type": "display_data"
            },
            {
               "data": {
                  "text/plain": [
                     "<Figure size 640x480 with 0 Axes>"
                  ]
               },
               "metadata": {},
               "output_type": "display_data"
            },
            {
               "data": {
                  "text/plain": [
                     "<Figure size 640x480 with 0 Axes>"
                  ]
               },
               "metadata": {},
               "output_type": "display_data"
            },
            {
               "data": {
                  "text/plain": [
                     "<Figure size 640x480 with 0 Axes>"
                  ]
               },
               "metadata": {},
               "output_type": "display_data"
            },
            {
               "data": {
                  "text/plain": [
                     "<Figure size 640x480 with 0 Axes>"
                  ]
               },
               "metadata": {},
               "output_type": "display_data"
            },
            {
               "data": {
                  "text/plain": [
                     "<Figure size 640x480 with 0 Axes>"
                  ]
               },
               "metadata": {},
               "output_type": "display_data"
            },
            {
               "data": {
                  "text/plain": [
                     "<Figure size 640x480 with 0 Axes>"
                  ]
               },
               "metadata": {},
               "output_type": "display_data"
            },
            {
               "data": {
                  "text/plain": [
                     "<Figure size 640x480 with 0 Axes>"
                  ]
               },
               "metadata": {},
               "output_type": "display_data"
            },
            {
               "data": {
                  "text/plain": [
                     "<Figure size 640x480 with 0 Axes>"
                  ]
               },
               "metadata": {},
               "output_type": "display_data"
            },
            {
               "data": {
                  "text/plain": [
                     "<Figure size 640x480 with 0 Axes>"
                  ]
               },
               "metadata": {},
               "output_type": "display_data"
            },
            {
               "data": {
                  "text/plain": [
                     "<Figure size 640x480 with 0 Axes>"
                  ]
               },
               "metadata": {},
               "output_type": "display_data"
            },
            {
               "data": {
                  "text/plain": [
                     "<Figure size 640x480 with 0 Axes>"
                  ]
               },
               "metadata": {},
               "output_type": "display_data"
            },
            {
               "data": {
                  "text/plain": [
                     "<Figure size 640x480 with 0 Axes>"
                  ]
               },
               "metadata": {},
               "output_type": "display_data"
            },
            {
               "data": {
                  "text/plain": [
                     "<Figure size 640x480 with 0 Axes>"
                  ]
               },
               "metadata": {},
               "output_type": "display_data"
            },
            {
               "data": {
                  "text/plain": [
                     "<Figure size 640x480 with 0 Axes>"
                  ]
               },
               "metadata": {},
               "output_type": "display_data"
            },
            {
               "data": {
                  "text/plain": [
                     "<Figure size 640x480 with 0 Axes>"
                  ]
               },
               "metadata": {},
               "output_type": "display_data"
            },
            {
               "data": {
                  "text/plain": [
                     "<Figure size 640x480 with 0 Axes>"
                  ]
               },
               "metadata": {},
               "output_type": "display_data"
            },
            {
               "data": {
                  "text/plain": [
                     "<Figure size 640x480 with 0 Axes>"
                  ]
               },
               "metadata": {},
               "output_type": "display_data"
            },
            {
               "data": {
                  "text/plain": [
                     "<Figure size 640x480 with 0 Axes>"
                  ]
               },
               "metadata": {},
               "output_type": "display_data"
            },
            {
               "data": {
                  "text/plain": [
                     "<Figure size 640x480 with 0 Axes>"
                  ]
               },
               "metadata": {},
               "output_type": "display_data"
            },
            {
               "data": {
                  "text/plain": [
                     "<Figure size 640x480 with 0 Axes>"
                  ]
               },
               "metadata": {},
               "output_type": "display_data"
            },
            {
               "data": {
                  "text/plain": [
                     "<Figure size 640x480 with 0 Axes>"
                  ]
               },
               "metadata": {},
               "output_type": "display_data"
            },
            {
               "data": {
                  "text/plain": [
                     "<Figure size 640x480 with 0 Axes>"
                  ]
               },
               "metadata": {},
               "output_type": "display_data"
            },
            {
               "data": {
                  "text/plain": [
                     "<Figure size 640x480 with 0 Axes>"
                  ]
               },
               "metadata": {},
               "output_type": "display_data"
            },
            {
               "data": {
                  "text/plain": [
                     "<Figure size 640x480 with 0 Axes>"
                  ]
               },
               "metadata": {},
               "output_type": "display_data"
            },
            {
               "data": {
                  "text/plain": [
                     "<Figure size 640x480 with 0 Axes>"
                  ]
               },
               "metadata": {},
               "output_type": "display_data"
            },
            {
               "data": {
                  "text/plain": [
                     "<Figure size 640x480 with 0 Axes>"
                  ]
               },
               "metadata": {},
               "output_type": "display_data"
            },
            {
               "data": {
                  "text/plain": [
                     "<Figure size 640x480 with 0 Axes>"
                  ]
               },
               "metadata": {},
               "output_type": "display_data"
            },
            {
               "data": {
                  "text/plain": [
                     "<Figure size 640x480 with 0 Axes>"
                  ]
               },
               "metadata": {},
               "output_type": "display_data"
            },
            {
               "data": {
                  "text/plain": [
                     "<Figure size 640x480 with 0 Axes>"
                  ]
               },
               "metadata": {},
               "output_type": "display_data"
            },
            {
               "data": {
                  "text/plain": [
                     "<Figure size 640x480 with 0 Axes>"
                  ]
               },
               "metadata": {},
               "output_type": "display_data"
            },
            {
               "data": {
                  "text/plain": [
                     "<Figure size 640x480 with 0 Axes>"
                  ]
               },
               "metadata": {},
               "output_type": "display_data"
            },
            {
               "data": {
                  "text/plain": [
                     "<Figure size 640x480 with 0 Axes>"
                  ]
               },
               "metadata": {},
               "output_type": "display_data"
            },
            {
               "data": {
                  "text/plain": [
                     "<Figure size 640x480 with 0 Axes>"
                  ]
               },
               "metadata": {},
               "output_type": "display_data"
            },
            {
               "data": {
                  "text/plain": [
                     "<Figure size 640x480 with 0 Axes>"
                  ]
               },
               "metadata": {},
               "output_type": "display_data"
            },
            {
               "data": {
                  "text/plain": [
                     "<Figure size 640x480 with 0 Axes>"
                  ]
               },
               "metadata": {},
               "output_type": "display_data"
            },
            {
               "data": {
                  "text/plain": [
                     "<Figure size 640x480 with 0 Axes>"
                  ]
               },
               "metadata": {},
               "output_type": "display_data"
            },
            {
               "data": {
                  "text/plain": [
                     "<Figure size 640x480 with 0 Axes>"
                  ]
               },
               "metadata": {},
               "output_type": "display_data"
            },
            {
               "data": {
                  "text/plain": [
                     "<Figure size 640x480 with 0 Axes>"
                  ]
               },
               "metadata": {},
               "output_type": "display_data"
            },
            {
               "data": {
                  "text/plain": [
                     "<Figure size 640x480 with 0 Axes>"
                  ]
               },
               "metadata": {},
               "output_type": "display_data"
            },
            {
               "data": {
                  "text/plain": [
                     "<Figure size 640x480 with 0 Axes>"
                  ]
               },
               "metadata": {},
               "output_type": "display_data"
            },
            {
               "data": {
                  "text/plain": [
                     "<Figure size 640x480 with 0 Axes>"
                  ]
               },
               "metadata": {},
               "output_type": "display_data"
            },
            {
               "data": {
                  "text/plain": [
                     "<Figure size 640x480 with 0 Axes>"
                  ]
               },
               "metadata": {},
               "output_type": "display_data"
            },
            {
               "data": {
                  "text/plain": [
                     "<Figure size 640x480 with 0 Axes>"
                  ]
               },
               "metadata": {},
               "output_type": "display_data"
            },
            {
               "data": {
                  "text/plain": [
                     "<Figure size 640x480 with 0 Axes>"
                  ]
               },
               "metadata": {},
               "output_type": "display_data"
            },
            {
               "data": {
                  "text/plain": [
                     "<Figure size 640x480 with 0 Axes>"
                  ]
               },
               "metadata": {},
               "output_type": "display_data"
            },
            {
               "data": {
                  "text/plain": [
                     "<Figure size 640x480 with 0 Axes>"
                  ]
               },
               "metadata": {},
               "output_type": "display_data"
            },
            {
               "data": {
                  "text/plain": [
                     "<Figure size 640x480 with 0 Axes>"
                  ]
               },
               "metadata": {},
               "output_type": "display_data"
            },
            {
               "data": {
                  "text/plain": [
                     "<Figure size 640x480 with 0 Axes>"
                  ]
               },
               "metadata": {},
               "output_type": "display_data"
            },
            {
               "data": {
                  "text/plain": [
                     "<Figure size 640x480 with 0 Axes>"
                  ]
               },
               "metadata": {},
               "output_type": "display_data"
            },
            {
               "data": {
                  "text/plain": [
                     "<Figure size 640x480 with 0 Axes>"
                  ]
               },
               "metadata": {},
               "output_type": "display_data"
            },
            {
               "data": {
                  "text/plain": [
                     "<Figure size 640x480 with 0 Axes>"
                  ]
               },
               "metadata": {},
               "output_type": "display_data"
            },
            {
               "data": {
                  "text/plain": [
                     "<Figure size 640x480 with 0 Axes>"
                  ]
               },
               "metadata": {},
               "output_type": "display_data"
            },
            {
               "data": {
                  "text/plain": [
                     "<Figure size 640x480 with 0 Axes>"
                  ]
               },
               "metadata": {},
               "output_type": "display_data"
            },
            {
               "data": {
                  "text/plain": [
                     "<Figure size 640x480 with 0 Axes>"
                  ]
               },
               "metadata": {},
               "output_type": "display_data"
            },
            {
               "data": {
                  "text/plain": [
                     "<Figure size 640x480 with 0 Axes>"
                  ]
               },
               "metadata": {},
               "output_type": "display_data"
            },
            {
               "data": {
                  "text/plain": [
                     "<Figure size 640x480 with 0 Axes>"
                  ]
               },
               "metadata": {},
               "output_type": "display_data"
            },
            {
               "data": {
                  "text/plain": [
                     "<Figure size 640x480 with 0 Axes>"
                  ]
               },
               "metadata": {},
               "output_type": "display_data"
            },
            {
               "data": {
                  "text/plain": [
                     "<Figure size 640x480 with 0 Axes>"
                  ]
               },
               "metadata": {},
               "output_type": "display_data"
            },
            {
               "data": {
                  "text/plain": [
                     "<Figure size 640x480 with 0 Axes>"
                  ]
               },
               "metadata": {},
               "output_type": "display_data"
            },
            {
               "data": {
                  "text/plain": [
                     "<Figure size 640x480 with 0 Axes>"
                  ]
               },
               "metadata": {},
               "output_type": "display_data"
            },
            {
               "data": {
                  "text/plain": [
                     "<Figure size 640x480 with 0 Axes>"
                  ]
               },
               "metadata": {},
               "output_type": "display_data"
            },
            {
               "data": {
                  "text/plain": [
                     "<Figure size 640x480 with 0 Axes>"
                  ]
               },
               "metadata": {},
               "output_type": "display_data"
            },
            {
               "data": {
                  "text/plain": [
                     "<Figure size 640x480 with 0 Axes>"
                  ]
               },
               "metadata": {},
               "output_type": "display_data"
            },
            {
               "data": {
                  "text/plain": [
                     "<Figure size 640x480 with 0 Axes>"
                  ]
               },
               "metadata": {},
               "output_type": "display_data"
            },
            {
               "data": {
                  "text/plain": [
                     "<Figure size 640x480 with 0 Axes>"
                  ]
               },
               "metadata": {},
               "output_type": "display_data"
            },
            {
               "data": {
                  "text/plain": [
                     "<Figure size 640x480 with 0 Axes>"
                  ]
               },
               "metadata": {},
               "output_type": "display_data"
            },
            {
               "data": {
                  "text/plain": [
                     "<Figure size 640x480 with 0 Axes>"
                  ]
               },
               "metadata": {},
               "output_type": "display_data"
            },
            {
               "data": {
                  "text/plain": [
                     "<Figure size 640x480 with 0 Axes>"
                  ]
               },
               "metadata": {},
               "output_type": "display_data"
            },
            {
               "data": {
                  "text/plain": [
                     "<Figure size 640x480 with 0 Axes>"
                  ]
               },
               "metadata": {},
               "output_type": "display_data"
            },
            {
               "data": {
                  "text/plain": [
                     "<Figure size 640x480 with 0 Axes>"
                  ]
               },
               "metadata": {},
               "output_type": "display_data"
            },
            {
               "data": {
                  "text/plain": [
                     "<Figure size 640x480 with 0 Axes>"
                  ]
               },
               "metadata": {},
               "output_type": "display_data"
            },
            {
               "data": {
                  "text/plain": [
                     "<Figure size 640x480 with 0 Axes>"
                  ]
               },
               "metadata": {},
               "output_type": "display_data"
            },
            {
               "data": {
                  "text/plain": [
                     "<Figure size 640x480 with 0 Axes>"
                  ]
               },
               "metadata": {},
               "output_type": "display_data"
            },
            {
               "data": {
                  "text/plain": [
                     "<Figure size 640x480 with 0 Axes>"
                  ]
               },
               "metadata": {},
               "output_type": "display_data"
            },
            {
               "data": {
                  "text/plain": [
                     "<Figure size 640x480 with 0 Axes>"
                  ]
               },
               "metadata": {},
               "output_type": "display_data"
            },
            {
               "data": {
                  "text/plain": [
                     "<Figure size 640x480 with 0 Axes>"
                  ]
               },
               "metadata": {},
               "output_type": "display_data"
            },
            {
               "data": {
                  "text/plain": [
                     "<Figure size 640x480 with 0 Axes>"
                  ]
               },
               "metadata": {},
               "output_type": "display_data"
            },
            {
               "data": {
                  "text/plain": [
                     "<Figure size 640x480 with 0 Axes>"
                  ]
               },
               "metadata": {},
               "output_type": "display_data"
            },
            {
               "data": {
                  "text/plain": [
                     "<Figure size 640x480 with 0 Axes>"
                  ]
               },
               "metadata": {},
               "output_type": "display_data"
            },
            {
               "data": {
                  "text/plain": [
                     "<Figure size 640x480 with 0 Axes>"
                  ]
               },
               "metadata": {},
               "output_type": "display_data"
            },
            {
               "data": {
                  "text/plain": [
                     "<Figure size 640x480 with 0 Axes>"
                  ]
               },
               "metadata": {},
               "output_type": "display_data"
            },
            {
               "data": {
                  "text/plain": [
                     "<Figure size 640x480 with 0 Axes>"
                  ]
               },
               "metadata": {},
               "output_type": "display_data"
            },
            {
               "data": {
                  "text/plain": [
                     "<Figure size 640x480 with 0 Axes>"
                  ]
               },
               "metadata": {},
               "output_type": "display_data"
            },
            {
               "data": {
                  "text/plain": [
                     "<Figure size 640x480 with 0 Axes>"
                  ]
               },
               "metadata": {},
               "output_type": "display_data"
            },
            {
               "data": {
                  "text/plain": [
                     "<Figure size 640x480 with 0 Axes>"
                  ]
               },
               "metadata": {},
               "output_type": "display_data"
            },
            {
               "data": {
                  "text/plain": [
                     "<Figure size 640x480 with 0 Axes>"
                  ]
               },
               "metadata": {},
               "output_type": "display_data"
            },
            {
               "data": {
                  "text/plain": [
                     "<Figure size 640x480 with 0 Axes>"
                  ]
               },
               "metadata": {},
               "output_type": "display_data"
            },
            {
               "data": {
                  "text/plain": [
                     "<Figure size 640x480 with 0 Axes>"
                  ]
               },
               "metadata": {},
               "output_type": "display_data"
            },
            {
               "data": {
                  "text/plain": [
                     "<Figure size 640x480 with 0 Axes>"
                  ]
               },
               "metadata": {},
               "output_type": "display_data"
            },
            {
               "data": {
                  "text/plain": [
                     "<Figure size 640x480 with 0 Axes>"
                  ]
               },
               "metadata": {},
               "output_type": "display_data"
            },
            {
               "data": {
                  "text/plain": [
                     "<Figure size 640x480 with 0 Axes>"
                  ]
               },
               "metadata": {},
               "output_type": "display_data"
            },
            {
               "data": {
                  "text/plain": [
                     "<Figure size 640x480 with 0 Axes>"
                  ]
               },
               "metadata": {},
               "output_type": "display_data"
            },
            {
               "data": {
                  "text/plain": [
                     "<Figure size 640x480 with 0 Axes>"
                  ]
               },
               "metadata": {},
               "output_type": "display_data"
            },
            {
               "data": {
                  "text/plain": [
                     "<Figure size 640x480 with 0 Axes>"
                  ]
               },
               "metadata": {},
               "output_type": "display_data"
            },
            {
               "data": {
                  "text/plain": [
                     "<Figure size 640x480 with 0 Axes>"
                  ]
               },
               "metadata": {},
               "output_type": "display_data"
            },
            {
               "data": {
                  "text/plain": [
                     "<Figure size 640x480 with 0 Axes>"
                  ]
               },
               "metadata": {},
               "output_type": "display_data"
            },
            {
               "data": {
                  "text/plain": [
                     "<Figure size 640x480 with 0 Axes>"
                  ]
               },
               "metadata": {},
               "output_type": "display_data"
            },
            {
               "data": {
                  "text/plain": [
                     "<Figure size 640x480 with 0 Axes>"
                  ]
               },
               "metadata": {},
               "output_type": "display_data"
            },
            {
               "data": {
                  "text/plain": [
                     "<Figure size 640x480 with 0 Axes>"
                  ]
               },
               "metadata": {},
               "output_type": "display_data"
            },
            {
               "data": {
                  "text/plain": [
                     "<Figure size 640x480 with 0 Axes>"
                  ]
               },
               "metadata": {},
               "output_type": "display_data"
            },
            {
               "data": {
                  "text/plain": [
                     "<Figure size 640x480 with 0 Axes>"
                  ]
               },
               "metadata": {},
               "output_type": "display_data"
            },
            {
               "data": {
                  "text/plain": [
                     "<Figure size 640x480 with 0 Axes>"
                  ]
               },
               "metadata": {},
               "output_type": "display_data"
            },
            {
               "data": {
                  "text/plain": [
                     "<Figure size 640x480 with 0 Axes>"
                  ]
               },
               "metadata": {},
               "output_type": "display_data"
            },
            {
               "data": {
                  "text/plain": [
                     "<Figure size 640x480 with 0 Axes>"
                  ]
               },
               "metadata": {},
               "output_type": "display_data"
            },
            {
               "data": {
                  "text/plain": [
                     "<Figure size 640x480 with 0 Axes>"
                  ]
               },
               "metadata": {},
               "output_type": "display_data"
            },
            {
               "data": {
                  "text/plain": [
                     "<Figure size 640x480 with 0 Axes>"
                  ]
               },
               "metadata": {},
               "output_type": "display_data"
            },
            {
               "data": {
                  "text/plain": [
                     "<Figure size 640x480 with 0 Axes>"
                  ]
               },
               "metadata": {},
               "output_type": "display_data"
            },
            {
               "data": {
                  "text/plain": [
                     "<Figure size 640x480 with 0 Axes>"
                  ]
               },
               "metadata": {},
               "output_type": "display_data"
            },
            {
               "data": {
                  "text/plain": [
                     "<Figure size 640x480 with 0 Axes>"
                  ]
               },
               "metadata": {},
               "output_type": "display_data"
            },
            {
               "data": {
                  "text/plain": [
                     "<Figure size 640x480 with 0 Axes>"
                  ]
               },
               "metadata": {},
               "output_type": "display_data"
            },
            {
               "data": {
                  "text/plain": [
                     "<Figure size 640x480 with 0 Axes>"
                  ]
               },
               "metadata": {},
               "output_type": "display_data"
            },
            {
               "data": {
                  "text/plain": [
                     "<Figure size 640x480 with 0 Axes>"
                  ]
               },
               "metadata": {},
               "output_type": "display_data"
            },
            {
               "data": {
                  "text/plain": [
                     "<Figure size 640x480 with 0 Axes>"
                  ]
               },
               "metadata": {},
               "output_type": "display_data"
            },
            {
               "data": {
                  "text/plain": [
                     "<Figure size 640x480 with 0 Axes>"
                  ]
               },
               "metadata": {},
               "output_type": "display_data"
            },
            {
               "data": {
                  "text/plain": [
                     "<Figure size 640x480 with 0 Axes>"
                  ]
               },
               "metadata": {},
               "output_type": "display_data"
            }
         ],
         "source": [
            "import os\n",
            "import numpy as np\n",
            "from raug.metrics_2 import Metrics, accuracy\n",
            "from raug.utils.loader import get_labels_frequency\n",
            "import pandas as pd\n",
            "\n",
            "# Especificar o caminho para a pasta \"best_results\"\n",
            "folder_path = \"best_results\"\n",
            "_csv_path_test = \"/home/a52550/Desktop/datasets/ISIC2017/test/ISIC-2017_Test_v2_Part3_GroundTruth.csv\"\n",
            "true_labels = pd.read_csv(_csv_path_test).sort_values(by=['image_id'])['category']\n",
            "\n",
            "# Inicializar as variáveis para armazenar as previsões dos modelos\n",
            "ensemble_preds_best = None\n",
            "ensemble_preds_last = None\n",
            "num_models = 0\n",
            "ser_lab_freq = get_labels_frequency(_csv_path_test, \"category\", \"image_id\")\n",
            "_labels_name = ser_lab_freq.index.values #np.reshape(ser_lab_freq.index.values, (ser_lab_freq.index.values.shape[0], 1))\n",
            "\n",
            "# Percorrer as pastas de cada experimento\n",
            "for experiment_folder in os.listdir(folder_path):\n",
            "\n",
            "    df_best = pd.DataFrame()\n",
            "    df_last = pd.DataFrame()\n",
            "\n",
            "\n",
            "    if \".csv\" in experiment_folder:\n",
            "        continue\n",
            "\n",
            "    print(\"Experimento: \", experiment_folder)\n",
            "\n",
            "\n",
            "    experiment_path = os.path.join(folder_path, experiment_folder)\n",
            "\n",
            "    ensemble_preds_best = None\n",
            "    ensemble_preds_last = None\n",
            "\n",
            "    model_folders = os.listdir(experiment_path)\n",
            "\n",
            "    # Check if substring \"senet154\" is present in model_folders\n",
            "    if any(\"senet154\" in s for s in model_folders):\n",
            "        continue\n",
            "\n",
            "    \n",
            "    # Cria path para o experimento atual\n",
            "    if 'ensemble_average' in model_folders:\n",
            "        model_folders.remove('ensemble_average')\n",
            "    else:\n",
            "        os.mkdir(os.path.join(folder_path, experiment_folder, 'ensemble_average'))\n",
            "        os.mkdir(os.path.join(_metric_options_best['save_all_path']))\n",
            "        os.mkdir(os.path.join(_metric_options_last['save_all_path']))\n",
            "\n",
            "    if 'ensemble_3_best_average' in model_folders:\n",
            "        model_folders.remove('ensemble_3_best_average')\n",
            "    \n",
            "    if 'ensemble_votation' in model_folders:\n",
            "        model_folders.remove('ensemble_votation')\n",
            "\n",
            "    model_folders = [x for x in model_folders if \".csv\" not in x]\n",
            "\n",
            "    try:\n",
            "\n",
            "        # Percorrer as pastas de cada modelo\n",
            "        for model_folder in model_folders:\n",
            "\n",
            "            model_path = os.path.join(experiment_path, model_folder)\n",
            "            _metric_options_best = {\n",
            "                'save_all_path': os.path.join(model_path, 'new_test_pred_best'),\n",
            "                'pred_name_scores': 'predictions.csv',\n",
            "            }\n",
            "            _metric_options_last = {\n",
            "                'save_all_path': os.path.join(model_path, 'new_test_pred_last'),\n",
            "                'pred_name_scores': 'predictions.csv',\n",
            "            }\n",
            "\n",
            "            if 'new_test_pred_best' not in os.listdir(model_path):\n",
            "                os.mkdir(os.path.join(model_path, 'new_test_pred_best'))\n",
            "            if 'new_test_pred_last' not in os.listdir(model_path):\n",
            "                os.mkdir(os.path.join(model_path, 'new_test_pred_last'))\n",
            "\n",
            "            # Carregar as previsões do modelo atual\n",
            "            model_preds_path_best = os.path.join(model_path, \"test_pred_best/predictions.csv\")\n",
            "            model_preds_path_last = os.path.join(model_path, \"test_pred_last/predictions.csv\")\n",
            "\n",
            "            model_preds_best = pd.read_csv(model_preds_path_best).sort_values(by=['image'])\n",
            "            model_preds_last = pd.read_csv(model_preds_path_last).sort_values(by=['image'])\n",
            "\n",
            "            metrics_best = Metrics ([\"accuracy\", \"topk_accuracy\", \"balanced_accuracy\", \"conf_matrix\" \"plot_conf_matrix\", \"precision_recall_report\", \"auc_and_roc_curve\", \"auc\"] , _labels_name, _metric_options_best)\n",
            "            metrics_last = Metrics ([\"accuracy\", \"topk_accuracy\", \"balanced_accuracy\", \"conf_matrix\" \"plot_conf_matrix\", \"precision_recall_report\", \"auc_and_roc_curve\", \"auc\"] , _labels_name, _metric_options_last)\n",
            "\n",
            "            metrics_best.update_scores(true_labels, model_preds_best[['0','1','2']].to_numpy(), model_preds_best[['image']].to_numpy())\n",
            "            metrics_last.update_scores(true_labels, model_preds_best[['0','1','2']].to_numpy(), model_preds_best[['image']].to_numpy())\n",
            "\n",
            "            metrics_best.compute_metrics()\n",
            "            metrics_last.compute_metrics()\n",
            "\n",
            "            metrics_best.save_scores()\n",
            "            metrics_last.save_scores()\n",
            "\n",
            "            for auc_metric in metrics_best.metrics_values['auc_and_roc_curve'][0]:\n",
            "                metrics_best.metrics_values[\"auc_\" + str(auc_metric)] = metrics_best.metrics_values['auc_and_roc_curve'][0][auc_metric]\n",
            "                metrics_last.metrics_values[\"auc_\" + str(auc_metric)] = metrics_last.metrics_values['auc_and_roc_curve'][0][auc_metric]\n",
            "            \n",
            "            # del metrics_best.metrics_values['conf_matrix']\n",
            "            del metrics_best.metrics_values['auc_and_roc_curve']\n",
            "            del metrics_best.metrics_values['precision_recall_report']\n",
            "\n",
            "            # del metrics_last.metrics_values['conf_matrix']\n",
            "            del metrics_last.metrics_values['auc_and_roc_curve']\n",
            "            del metrics_last.metrics_values['precision_recall_report']\n",
            "\n",
            "            folder_name = {'folder_name': model_folder, 'model_name': model_folder.split('_fold')[0]}\n",
            "            dict_best = {**folder_name, **metrics_best.metrics_values}\n",
            "            dict_last = {**folder_name, **metrics_last.metrics_values}\n",
            "\n",
            "\n",
            "            df_best = df_best.append(pd.DataFrame(dict_best, columns=dict_best.keys(), index=[0]), ignore_index=True)\n",
            "            df_last = df_last.append(pd.DataFrame(dict_last, columns=dict_last.keys(), index=[0]), ignore_index=True)\n",
            "\n",
            "    except Exception as e:\n",
            "        print(\"Erro no experimento \", experiment_folder)\n",
            "        print(e)\n",
            "\n",
            "\n",
            "    df_best.to_csv(os.path.join(experiment_path, 'results_best.csv'), index=False)\n",
            "    df_last.to_csv(os.path.join(experiment_path, 'results_last.csv'), index=False)\n",
            "\n",
            "# Avaliar a precisão do modelo de ensemble\n",
            "# true_classes_path = os.path.join(folder_path, \"true_classes.csv\")\n",
            "# true_classes = np.loadtxt(_csv_path_test, delimiter=\",\", skiprows=1)\n",
            "\n",
            "# from sklearn.metrics import accuracy_score, precision_score, recall_score, f1_score\n",
            "\n",
            "# accuracy = accuracy_score(true_classes, ensemble_classes)\n",
            "# precision = precision_score(true_classes, ensemble_classes, average=\"macro\")\n",
            "# recall = recall_score(true_classes, ensemble_classes, average=\"macro\")\n",
            "# f1 = f1_score(true_classes, ensemble_classes, average=\"macro\")\n",
            "\n",
            "# # Imprimir as métricas de avaliação\n",
            "# print(f\"Acurácia: {accuracy:.3f}\")\n",
            "# print(f\"Precisão: {precision:.3f}\")\n",
            "# print(f\"Recall: {recall:.3f}\")\n",
            "# print(f\"F1-score: {f1:.3f}\")\n"
         ]
      },
      {
         "cell_type": "code",
         "execution_count": null,
         "metadata": {},
         "outputs": [],
         "source": [
            "import os\n",
            "import numpy as np\n",
            "from raug.metrics_2 import Metrics, accuracy\n",
            "from raug.utils.loader import get_labels_frequency\n",
            "import pandas as pd\n",
            "\n",
            "# Especificar o caminho para a pasta \"best_results\"\n",
            "folder_path = \"best_results\"\n",
            "_csv_path_test = \"/home/a52550/Desktop/datasets/ISIC2017/test/ISIC-2017_Test_v2_Part3_GroundTruth.csv\"\n",
            "true_labels = pd.read_csv(_csv_path_test).sort_values(by=['image_id'])['category']\n",
            "\n",
            "# Inicializar as variáveis para armazenar as previsões dos modelos\n",
            "ensemble_preds_best = None\n",
            "ensemble_preds_last = None\n",
            "num_models = 0\n",
            "ser_lab_freq = get_labels_frequency(_csv_path_test, \"category\", \"image_id\")\n",
            "_labels_name = ser_lab_freq.index.values #np.reshape(ser_lab_freq.index.values, (ser_lab_freq.index.values.shape[0], 1))\n",
            "\n",
            "df_best = pd.DataFrame()\n",
            "df_last = pd.DataFrame()\n",
            "\n",
            "experiment_folder = 'DA2_dull_razor_shades_of_gray_cropped_images_folder'\n",
            "\n",
            "print(\"Experimento: \", experiment_folder)\n",
            "\n",
            "\n",
            "experiment_path = os.path.join(folder_path, experiment_folder)\n",
            "\n",
            "ensemble_preds_best = None\n",
            "ensemble_preds_last = None\n",
            "\n",
            "model_folders = os.listdir(experiment_path)\n",
            "\n",
            "\n",
            "# Cria path para o experimento atual\n",
            "if 'ensemble_average' in model_folders:\n",
            "    model_folders.remove('ensemble_average')\n",
            "\n",
            "if 'ensemble_3_best_average' in model_folders:\n",
            "    model_folders.remove('ensemble_3_best_average')\n",
            "\n",
            "if 'ensemble_votation' in model_folders:\n",
            "    model_folders.remove('ensemble_votation')\n",
            "\n",
            "model_folders = [x for x in model_folders if \".csv\" not in x]\n",
            "\n",
            "try:\n",
            "\n",
            "    all_preds_best = None\n",
            "    all_preds_last = None\n",
            "\n",
            "    # Percorrer as pastas de cada modelo\n",
            "    for model_folder in model_folders:\n",
            "\n",
            "        model_path = os.path.join(experiment_path, model_folder)\n",
            "\n",
            "        # Carregar as previsões do modelo atual\n",
            "        model_preds_path_best = os.path.join(model_path, \"test_pred_best/predictions.csv\")\n",
            "        model_preds_path_last = os.path.join(model_path, \"test_pred_last/predictions.csv\")\n",
            "\n",
            "        # Merge das previsões do modelo atual com as previsões de todos os modelos\n",
            "        if all_preds_best is None:\n",
            "            model_preds_best = pd.read_csv(model_preds_path_best).sort_values(by=['image'])[['image', 'REAL', 'PRED']]\n",
            "            model_preds_last = pd.read_csv(model_preds_path_last).sort_values(by=['image'])[['image', 'REAL', 'PRED']]\n",
            "\n",
            "            #Substituir nome da coluna PRED por nome do modelo\n",
            "            model_preds_best.rename(columns={'PRED': model_folder.split('_fold')[0]}, inplace=True)\n",
            "            model_preds_last.rename(columns={'PRED': model_folder.split('_fold')[0]}, inplace=True)\n",
            "\n",
            "            all_preds_best = model_preds_best\n",
            "            all_preds_last = model_preds_last\n",
            "        else:\n",
            "            model_preds_best = pd.read_csv(model_preds_path_best).sort_values(by=['image'])[['image', 'PRED']]\n",
            "            model_preds_last = pd.read_csv(model_preds_path_last).sort_values(by=['image'])[['image', 'PRED']]\n",
            "\n",
            "            #Substituir nome da coluna PRED por nome do modelo\n",
            "            model_preds_best.rename(columns={'PRED': model_folder.split('_fold')[0]}, inplace=True)\n",
            "            model_preds_last.rename(columns={'PRED': model_folder.split('_fold')[0]}, inplace=True)\n",
            "\n",
            "            all_preds_best = pd.merge(all_preds_best, model_preds_best, on='image')\n",
            "            all_preds_last = pd.merge(all_preds_last, model_preds_last, on='image')\n",
            "\n",
            "\n",
            "except Exception as e:\n",
            "    print(\"Erro no experimento \", experiment_folder)\n",
            "    print(e)\n"
         ]
      },
      {
         "cell_type": "code",
         "execution_count": null,
         "metadata": {},
         "outputs": [],
         "source": [
            "\n",
            "# Define a function to count correct guesses for each row\n",
            "def count_correct_guesses(row):\n",
            "    correct_guesses = 0\n",
            "    for model in all_preds_best.columns[2:-1]:\n",
            "        if (row[model] == row['REAL']):\n",
            "            correct_guesses += 1\n",
            "    return correct_guesses\n",
            "\n",
            "# Create a new column to store the count of correct guesses\n",
            "all_preds_best['correct_guesses'] = all_preds_best.apply(count_correct_guesses, axis=1)\n",
            "\n",
            "all_preds_best.to_csv('count_correct_guesses.csv', index=False)\n",
            "\n",
            "# Def"
         ]
      },
      {
         "cell_type": "code",
         "execution_count": null,
         "metadata": {},
         "outputs": [],
         "source": [
            "# from pydrive.auth import GoogleAuth\n",
            "# from pydrive.drive import GoogleDrive\n",
            "# gauth = GoogleAuth()   \n",
            "# gauth.LocalWebserverAuth()\n",
            "# drive = GoogleDrive(gauth)  \n",
            "\n",
            "# densenet121_fold-1_lrinit-0.0001_batchsize-32_optimizer-Adam_maxepochs-150_DA-2_PPen-None_PPha-None_PPco-shades_of_gray_PPde-None_PPno-True_PPcr-cropped_images_folder_PPre-True_drop-0.0_trainjustclassifier-False_1681078943104982"
         ]
      }
   ],
   "metadata": {
      "kernelspec": {
         "display_name": "venv",
         "language": "python",
         "name": "python3"
      },
      "language_info": {
         "codemirror_mode": {
            "name": "ipython",
            "version": 3
         },
         "file_extension": ".py",
         "mimetype": "text/x-python",
         "name": "python",
         "nbconvert_exporter": "python",
         "pygments_lexer": "ipython3",
         "version": "3.7.16"
      },
      "orig_nbformat": 4
   },
   "nbformat": 4,
   "nbformat_minor": 2
}
