{
   "cells": [
      {
         "attachments": {},
         "cell_type": "markdown",
         "metadata": {},
         "source": [
            "Calculate ensemble average for all experiments"
         ]
      },
      {
         "cell_type": "code",
         "execution_count": null,
         "metadata": {},
         "outputs": [],
         "source": [
            "import os\n",
            "import numpy as np\n",
            "from raug.metrics_2 import Metrics, accuracy\n",
            "from raug.utils.loader import get_labels_frequency\n",
            "import pandas as pd\n",
            "\n",
            "# Especificar o caminho para a pasta \"best_results\"\n",
            "folder_path = \"best_results\"\n",
            "_csv_path_test = \"/home/a52550/Desktop/datasets/ISIC2017/test/ISIC-2017_Test_v2_Part3_GroundTruth.csv\"\n",
            "true_labels = pd.read_csv(_csv_path_test).sort_values(by=['image_id'])['category']\n",
            "\n",
            "# Inicializar as variáveis para armazenar as previsões dos modelos\n",
            "ensemble_preds_best = None\n",
            "ensemble_preds_last = None\n",
            "num_models = 0\n",
            "ser_lab_freq = get_labels_frequency(_csv_path_test, \"category\", \"image_id\")\n",
            "_labels_name = ser_lab_freq.index.values #np.reshape(ser_lab_freq.index.values, (ser_lab_freq.index.values.shape[0], 1))\n",
            "\n",
            "df_best = pd.DataFrame()\n",
            "df_last = pd.DataFrame()\n",
            "\n",
            "# Percorrer as pastas de cada experimento\n",
            "for experiment_folder in os.listdir(folder_path):\n",
            "\n",
            "    if \".csv\" in experiment_folder or \".txt\" in experiment_folder:\n",
            "        continue\n",
            "\n",
            "    print(\"Experimento: \", experiment_folder)\n",
            "\n",
            "    _metric_options_best = {\n",
            "        'save_all_path': os.path.join(folder_path, experiment_folder, 'ensemble_average/best'),\n",
            "        'pred_name_scores': 'predictions.csv',\n",
            "    }\n",
            "    _metric_options_last = {\n",
            "        'save_all_path': os.path.join(folder_path, experiment_folder, 'ensemble_average/last'),\n",
            "        'pred_name_scores': 'predictions.csv',\n",
            "    }\n",
            "\n",
            "\n",
            "    experiment_path = os.path.join(folder_path, experiment_folder)\n",
            "    metrics_best = Metrics ([\"accuracy\", \"topk_accuracy\", \"balanced_accuracy\", \"conf_matrix\" \"plot_conf_matrix\", \"precision_recall_report\", \"auc_and_roc_curve\", \"auc\"] , _labels_name, _metric_options_best)\n",
            "    metrics_last = Metrics ([\"accuracy\", \"topk_accuracy\", \"balanced_accuracy\", \"conf_matrix\" \"plot_conf_matrix\", \"precision_recall_report\", \"auc_and_roc_curve\", \"auc\"] , _labels_name, _metric_options_last)\n",
            "\n",
            "    ensemble_preds_best = None\n",
            "    ensemble_preds_last = None\n",
            "\n",
            "    model_folders = os.listdir(experiment_path)\n",
            "\n",
            "    # Check if substring \"senet154\" is present in model_folders\n",
            "    if any(\"senet154\" in s for s in model_folders):\n",
            "        continue\n",
            "\n",
            "    \n",
            "    # Cria path para o experimento atual\n",
            "    if 'ensemble_average' in model_folders:\n",
            "        model_folders.remove('ensemble_average')\n",
            "    else:\n",
            "        os.mkdir(os.path.join(folder_path, experiment_folder, 'ensemble_average'))\n",
            "        os.mkdir(os.path.join(_metric_options_best['save_all_path']))\n",
            "        os.mkdir(os.path.join(_metric_options_last['save_all_path']))\n",
            "\n",
            "    if 'ensemble_3_best_average' in model_folders:\n",
            "        model_folders.remove('ensemble_3_best_average')\n",
            "    \n",
            "    if 'ensemble_votation' in model_folders:\n",
            "        model_folders.remove('ensemble_votation')\n",
            "    \n",
            "    if 'DAandPPlatex.txt' in model_folders:\n",
            "        model_folders.remove('DAandPPlatex.txt')\n",
            "\n",
            "    model_folders = [x for x in model_folders if \".csv\" not in x]\n",
            "\n",
            "    try:\n",
            "\n",
            "        # Percorrer as pastas de cada modelo\n",
            "        for model_folder in model_folders:\n",
            "\n",
            "            model_path = os.path.join(experiment_path, model_folder)\n",
            "\n",
            "            # Carregar as previsões do modelo atual\n",
            "            model_preds_path_best = os.path.join(model_path, \"test_pred_best/predictions.csv\")\n",
            "            model_preds_path_last = os.path.join(model_path, \"test_pred_last/predictions.csv\")\n",
            "\n",
            "            model_preds_best = pd.read_csv(model_preds_path_best).sort_values(by=['image'])\n",
            "            model_preds_last = pd.read_csv(model_preds_path_last).sort_values(by=['image'])\n",
            "\n",
            "            images_id = model_preds_best[['image']]\n",
            "            model_preds_best = model_preds_best[['0','1','2']]\n",
            "            model_preds_last = model_preds_last[['0','1','2']]\n",
            "\n",
            "            # Adicionar as previsões do modelo atual ao ensemble\n",
            "            if ensemble_preds_best is None:\n",
            "                ensemble_preds_best = model_preds_best\n",
            "            else:\n",
            "                ensemble_preds_best += model_preds_best\n",
            "\n",
            "            if ensemble_preds_last is None:\n",
            "                ensemble_preds_last = model_preds_last\n",
            "            else:\n",
            "                ensemble_preds_last += model_preds_last\n",
            "\n",
            "            num_models += 1\n",
            "\n",
            "        # Calcular a média das previsões dos modelos\n",
            "        ensemble_preds_best /= num_models\n",
            "        ensemble_preds_last /= num_models\n",
            "\n",
            "        metrics_best.update_scores(true_labels, ensemble_preds_best.to_numpy(), images_id.to_numpy())\n",
            "        metrics_last.update_scores(true_labels, ensemble_preds_last.to_numpy(), images_id.to_numpy())\n",
            "\n",
            "        metrics_best.compute_metrics()\n",
            "        metrics_last.compute_metrics()\n",
            "\n",
            "        metrics_best.save_scores()\n",
            "        metrics_last.save_scores()\n",
            "\n",
            "        for auc_metric in metrics_best.metrics_values['auc_and_roc_curve'][0]:\n",
            "            metrics_best.metrics_values[\"auc_\" + str(auc_metric)] = metrics_best.metrics_values['auc_and_roc_curve'][0][auc_metric]\n",
            "            metrics_last.metrics_values[\"auc_\" + str(auc_metric)] = metrics_last.metrics_values['auc_and_roc_curve'][0][auc_metric]\n",
            "\n",
            "        folder_name = {'folder_name': experiment_folder}\n",
            "        dict_best = {**folder_name, **metrics_best.metrics_values}\n",
            "        dict_last = {**folder_name, **metrics_last.metrics_values}\n",
            "\n",
            "        del dict_best['auc_and_roc_curve']\n",
            "        del dict_best['precision_recall_report']\n",
            "\n",
            "        del dict_last['auc_and_roc_curve']\n",
            "        del dict_last['precision_recall_report']\n",
            "\n",
            "        df_best = df_best.append(pd.DataFrame(dict_best, columns=dict_best.keys(), index=[0]), ignore_index=True)\n",
            "        df_last = df_last.append(pd.DataFrame(dict_last, columns=dict_last.keys(), index=[0]), ignore_index=True)\n",
            "\n",
            "    except Exception as e:\n",
            "        print(\"Erro no experimento \", experiment_folder)\n",
            "        print(e)\n",
            "\n",
            "\n",
            "df_best.to_csv(os.path.join(folder_path, 'ensemble_average_best.csv'), index=False)\n",
            "df_last.to_csv(os.path.join(folder_path, 'ensemble_average_last.csv'), index=False)\n",
            "\n",
            "# Avaliar a precisão do modelo de ensemble\n",
            "# true_classes_path = os.path.join(folder_path, \"true_classes.csv\")\n",
            "# true_classes = np.loadtxt(_csv_path_test, delimiter=\",\", skiprows=1)\n",
            "\n",
            "# from sklearn.metrics import accuracy_score, precision_score, recall_score, f1_score\n",
            "\n",
            "# accuracy = accuracy_score(true_classes, ensemble_classes)\n",
            "# precision = precision_score(true_classes, ensemble_classes, average=\"macro\")\n",
            "# recall = recall_score(true_classes, ensemble_classes, average=\"macro\")\n",
            "# f1 = f1_score(true_classes, ensemble_classes, average=\"macro\")\n",
            "\n",
            "# # Imprimir as métricas de avaliação\n",
            "# print(f\"Acurácia: {accuracy:.3f}\")\n",
            "# print(f\"Precisão: {precision:.3f}\")\n",
            "# print(f\"Recall: {recall:.3f}\")\n",
            "# print(f\"F1-score: {f1:.3f}\")\n"
         ]
      },
      {
         "attachments": {},
         "cell_type": "markdown",
         "metadata": {},
         "source": [
            "Calculate ensemble average of the best 3 models for all experiments"
         ]
      },
      {
         "cell_type": "code",
         "execution_count": null,
         "metadata": {},
         "outputs": [],
         "source": [
            "import os\n",
            "import numpy as np\n",
            "from raug.metrics_2 import Metrics, accuracy\n",
            "from raug.utils.loader import get_labels_frequency\n",
            "import pandas as pd\n",
            "from raug.utils import classification_metrics as cmet\n",
            "\n",
            "# Especificar o caminho para a pasta \"best_results\"\n",
            "folder_path = \"best_results\"\n",
            "_csv_path_test = \"/home/a52550/Desktop/datasets/ISIC2017/test/ISIC-2017_Test_v2_Part3_GroundTruth.csv\"\n",
            "true_labels = pd.read_csv(_csv_path_test).sort_values(by=['image_id'])['category']\n",
            "\n",
            "# Inicializar as variáveis para armazenar as previsões dos modelos\n",
            "ensemble_preds_best = None\n",
            "ensemble_preds_last = None\n",
            "num_models = 0\n",
            "ser_lab_freq = get_labels_frequency(_csv_path_test, \"category\", \"image_id\")\n",
            "_labels_name = ser_lab_freq.index.values #np.reshape(ser_lab_freq.index.values, (ser_lab_freq.index.values.shape[0], 1))\n",
            "\n",
            "df_best = pd.DataFrame()\n",
            "df_last = pd.DataFrame()\n",
            "\n",
            "# Percorrer as pastas de cada experimento\n",
            "for experiment_folder in os.listdir(folder_path):\n",
            "\n",
            "    try:\n",
            "        if \".csv\" in experiment_folder or \".txt\" in experiment_folder:\n",
            "            continue\n",
            "\n",
            "        options = {\n",
            "            'save_all_path': os.path.join(folder_path, experiment_folder, 'ensemble_3_best_average/best'),\n",
            "            'pred_name_scores': 'predictions.csv',\n",
            "        }\n",
            "\n",
            "\n",
            "        experiment_path = os.path.join(folder_path, experiment_folder)\n",
            "\n",
            "        ensemble_preds_best = None\n",
            "\n",
            "        model_folders = os.listdir(experiment_path)\n",
            "\n",
            "        model_folders = [x for x in model_folders if \".csv\" not in x]\n",
            "\n",
            "        # Check if substring \"senet154\" is present in model_folders\n",
            "        if any(\"senet154\" in s for s in model_folders):\n",
            "            print(\"Experimento \", experiment_folder, \" não será avaliado\")\n",
            "            continue\n",
            "\n",
            "        print(\"Experimento: \", experiment_folder)\n",
            "\n",
            "        \n",
            "        # Cria path para o experimento atual\n",
            "        if 'ensemble_average' in model_folders:\n",
            "            model_folders.remove('ensemble_average')\n",
            "        if 'ensemble_votation' in model_folders:\n",
            "            model_folders.remove('ensemble_votation')\n",
            "        if 'ensemble_3_best_average' in model_folders:\n",
            "            model_folders.remove('ensemble_3_best_average')\n",
            "        else:\n",
            "            os.mkdir(os.path.join(folder_path, experiment_folder, 'ensemble_3_best_average'))\n",
            "            os.mkdir(os.path.join(folder_path, experiment_folder, 'ensemble_3_best_average/best'))\n",
            "\n",
            "        if 'DAandPPlatex.txt' in model_folders:\n",
            "            model_folders.remove('DAandPPlatex.txt')\n",
            "\n",
            "        best_balanced_accuracy = 0\n",
            "        current_balanced_acuracy = 0\n",
            "        best_metric_ensemble = None\n",
            "\n",
            "        # Percorrer as pastas de cada modelo\n",
            "        for i1 in range(len(model_folders)-1):\n",
            "            for i2 in range(i1+1, len(model_folders)-1):\n",
            "                for i3 in range(i2+1, len(model_folders)-1):\n",
            "                    ensemble_folders = [model_folders[i1], model_folders[i2], model_folders[i3]]\n",
            "\n",
            "                    metrics_best.options = None\n",
            "\n",
            "                    for model_folder in ensemble_folders:\n",
            "\n",
            "                        model_path = os.path.join(experiment_path, model_folder)\n",
            "\n",
            "                        # Carregar as previsões do modelo atual\n",
            "                        model_preds_path_best = os.path.join(model_path, \"test_pred_best/predictions.csv\")\n",
            "\n",
            "                        model_preds_best = pd.read_csv(model_preds_path_best).sort_values(by=['image'])\n",
            "\n",
            "                        images_id = model_preds_best[['image']]\n",
            "                        model_preds_best = model_preds_best[['0','1','2']]\n",
            "\n",
            "                        # Adicionar as previsões do modelo atual ao ensemble\n",
            "                        if ensemble_preds_best is None:\n",
            "                            ensemble_preds_best = model_preds_best\n",
            "                        else:\n",
            "                            ensemble_preds_best += model_preds_best\n",
            "\n",
            "                        num_models += 1\n",
            "\n",
            "                    # Calcular a média das previsões dos modelos\n",
            "                    ensemble_preds_best /= num_models\n",
            "                    \n",
            "                    # Calcular a balanced accuracy\n",
            "                    current_balanced_acuracy = cmet.balanced_accuracy(true_labels, ensemble_preds_best.to_numpy())\n",
            "\n",
            "\n",
            "                    if current_balanced_acuracy > best_balanced_accuracy:\n",
            "                        best_balanced_accuracy = current_balanced_acuracy\n",
            "\n",
            "                        best_metric_ensemble = Metrics ([\"accuracy\", \"topk_accuracy\", \"balanced_accuracy\", \"conf_matrix\" \"plot_conf_matrix\", \"precision_recall_report\", \"auc_and_roc_curve\", \"auc\"], _labels_name, options)\n",
            "                        best_metric_ensemble.update_scores(true_labels.to_numpy(), ensemble_preds_best.to_numpy(), images_id.to_numpy())\n",
            "\n",
            "                        best_experiment = experiment_folder\n",
            "\n",
            "                        ensemble_data = {\n",
            "                            'folder_name': experiment_folder,\n",
            "                            'ensemble_3_best': ensemble_folders[0].split('fold')[0] + \"_\" + ensemble_folders[1].split('fold')[0] + \"_\" + ensemble_folders[2].split('fold')[0]\n",
            "                        }\n",
            "                        \n",
            "\n",
            "                    ensemble_preds_best = None\n",
            "\n",
            "        best_metric_ensemble.compute_metrics()\n",
            "        best_metric_ensemble.save_scores()\n",
            "\n",
            "        for auc_metric in best_metric_ensemble.metrics_values['auc_and_roc_curve'][0]:\n",
            "            best_metric_ensemble.metrics_values[\"auc_\" + str(auc_metric)] = best_metric_ensemble.metrics_values['auc_and_roc_curve'][0][auc_metric]\n",
            "        \n",
            "        dict_best = {**ensemble_data, **best_metric_ensemble.metrics_values}\n",
            "\n",
            "        del dict_best['auc_and_roc_curve']\n",
            "        del dict_best['precision_recall_report']\n",
            "        # del dict_best['conf_matrix']\n",
            "        \n",
            "        df_best = df_best.append(pd.DataFrame(dict_best, columns=dict_best.keys(), index=[0]), ignore_index=True)\n",
            "    except Exception as e:\n",
            "        print('Error: ', e)\n",
            "        continue\n",
            "\n",
            "df_best.to_csv(os.path.join(folder_path, 'ensemble_3_best_average_best.csv'), index=False)\n"
         ]
      },
      {
         "attachments": {},
         "cell_type": "markdown",
         "metadata": {},
         "source": [
            "Calculate ensemble by voting for all experiments"
         ]
      },
      {
         "cell_type": "code",
         "execution_count": null,
         "metadata": {},
         "outputs": [],
         "source": [
            "import os\n",
            "import numpy as np\n",
            "from raug.metrics_2 import Metrics, accuracy\n",
            "from raug.utils.loader import get_labels_frequency\n",
            "import pandas as pd\n",
            "\n",
            "# Especificar o caminho para a pasta \"best_results\"\n",
            "folder_path = \"best_results\"\n",
            "_csv_path_test = \"/home/a52550/Desktop/datasets/ISIC2017/test/ISIC-2017_Test_v2_Part3_GroundTruth.csv\"\n",
            "true_labels = pd.read_csv(_csv_path_test).sort_values(by=['image_id'])['category']\n",
            "\n",
            "# Inicializar as variáveis para armazenar as previsões dos modelos\n",
            "ensemble_preds_best = None\n",
            "ensemble_preds_last = None\n",
            "num_models = 0\n",
            "ser_lab_freq = get_labels_frequency(_csv_path_test, \"category\", \"image_id\")\n",
            "_labels_name = ser_lab_freq.index.values #np.reshape(ser_lab_freq.index.values, (ser_lab_freq.index.values.shape[0], 1))\n",
            "\n",
            "df_best = pd.DataFrame()\n",
            "df_last = pd.DataFrame()\n",
            "\n",
            "# Percorrer as pastas de cada experimento\n",
            "for experiment_folder in os.listdir(folder_path):\n",
            "\n",
            "    if \".csv\" in experiment_folder or \".txt\" in experiment_folder:\n",
            "        continue\n",
            "\n",
            "    print(\"Experimento: \", experiment_folder)\n",
            "\n",
            "    _metric_options_best = {\n",
            "        'save_all_path': os.path.join(folder_path, experiment_folder, 'ensemble_votation/best'),\n",
            "        'pred_name_scores': 'predictions.csv',\n",
            "    }\n",
            "    _metric_options_last = {\n",
            "        'save_all_path': os.path.join(folder_path, experiment_folder, 'ensemble_votation/last'),\n",
            "        'pred_name_scores': 'predictions.csv',\n",
            "    }\n",
            "\n",
            "\n",
            "    experiment_path = os.path.join(folder_path, experiment_folder)\n",
            "    metrics_best = Metrics ([\"accuracy\", \"topk_accuracy\", \"balanced_accuracy\", \"conf_matrix\" \"plot_conf_matrix\", \"precision_recall_report\", \"auc_and_roc_curve\", \"auc\"] , _labels_name, _metric_options_best)\n",
            "    metrics_last = Metrics ([\"accuracy\", \"topk_accuracy\", \"balanced_accuracy\", \"conf_matrix\" \"plot_conf_matrix\", \"precision_recall_report\", \"auc_and_roc_curve\", \"auc\"] , _labels_name, _metric_options_last)\n",
            "\n",
            "    ensemble_preds_best = None\n",
            "    ensemble_preds_last = None\n",
            "\n",
            "    model_folders = os.listdir(experiment_path)\n",
            "    \n",
            "    models_folders = [x for x in model_folders if \".csv\" not in x]\n",
            "\n",
            "    # Check if substring \"senet154\" is present in model_folders\n",
            "    if any(\"senet154\" in s for s in model_folders):\n",
            "        continue\n",
            "\n",
            "    \n",
            "    # Cria path para o experimento atual\n",
            "    if 'ensemble_votation' in model_folders:\n",
            "        model_folders.remove('ensemble_votation')\n",
            "    else:\n",
            "        os.mkdir(os.path.join(folder_path, experiment_folder, 'ensemble_votation'))\n",
            "        os.mkdir(os.path.join(_metric_options_best['save_all_path']))\n",
            "        os.mkdir(os.path.join(_metric_options_last['save_all_path']))\n",
            "\n",
            "    if 'ensemble_3_best_average' in model_folders:\n",
            "        model_folders.remove('ensemble_3_best_average')\n",
            "    if 'ensemble_average' in model_folders:\n",
            "        model_folders.remove('ensemble_average')\n",
            "    if 'DAandPPlatex.txt' in model_folders:\n",
            "        model_folders.remove('DAandPPlatex.txt')\n",
            "\n",
            "    model_folders = [x for x in model_folders if \".csv\" not in x]\n",
            "\n",
            "    try:\n",
            "\n",
            "        # Percorrer as pastas de cada modelo\n",
            "        for model_folder in model_folders:\n",
            "\n",
            "            model_path = os.path.join(experiment_path, model_folder)\n",
            "\n",
            "            # Carregar as previsões do modelo atual\n",
            "            model_preds_path_best = os.path.join(model_path, \"test_pred_best/predictions.csv\")\n",
            "            model_preds_path_last = os.path.join(model_path, \"test_pred_last/predictions.csv\")\n",
            "\n",
            "            model_preds_best = pd.read_csv(model_preds_path_best).sort_values(by=['image'])\n",
            "            model_preds_last = pd.read_csv(model_preds_path_last).sort_values(by=['image'])\n",
            "\n",
            "            model_preds_best_votation = model_preds_best[['0','1','2']].copy() \n",
            "            model_preds_last_votation = model_preds_last[['0','1','2']].copy()\n",
            "\n",
            "            images_id = model_preds_best[['image']]\n",
            "            model_preds_best_votation['0'] = (model_preds_best['0'] == model_preds_best[['0','1','2']].max(axis=1)).astype(int)\n",
            "            model_preds_best_votation['1'] = (model_preds_best['1'] == model_preds_best[['0','1','2']].max(axis=1)).astype(int)\n",
            "            model_preds_best_votation['2'] = (model_preds_best['2'] == model_preds_best[['0','1','2']].max(axis=1)).astype(int)\n",
            "\n",
            "            model_preds_last_votation['0'] = (model_preds_last['0'] == model_preds_last[['0','1','2']].max(axis=1)).astype(int)\n",
            "            model_preds_last_votation['1'] = (model_preds_last['1'] == model_preds_last[['0','1','2']].max(axis=1)).astype(int)\n",
            "            model_preds_last_votation['2'] = (model_preds_last['2'] == model_preds_last[['0','1','2']].max(axis=1)).astype(int)\n",
            "\n",
            "\n",
            "            # Adicionar as previsões do modelo atual ao ensemble\n",
            "            if ensemble_preds_best is None:\n",
            "                ensemble_preds_best = model_preds_best_votation\n",
            "            else:\n",
            "                ensemble_preds_best += model_preds_best_votation\n",
            "\n",
            "            if ensemble_preds_last is None:\n",
            "                ensemble_preds_last = model_preds_last_votation\n",
            "            else:\n",
            "                ensemble_preds_last += model_preds_last_votation\n",
            "\n",
            "            num_models += 1\n",
            "\n",
            "        # Calcular a média das previsões dos modelos\n",
            "        aux = ensemble_preds_best.copy()\n",
            "        ensemble_preds_best['0'] = (aux['0'] == aux[['0','1','2']].max(axis=1)).astype(int)\n",
            "        ensemble_preds_best['1'] = (aux['1'] == aux[['0','1','2']].max(axis=1)).astype(int)\n",
            "        ensemble_preds_best['2'] = (aux['2'] == aux[['0','1','2']].max(axis=1)).astype(int)\n",
            "\n",
            "        aux = ensemble_preds_last.copy()\n",
            "        ensemble_preds_last['0'] = (aux['0'] == aux[['0','1','2']].max(axis=1)).astype(int)\n",
            "        ensemble_preds_last['1'] = (aux['1'] == aux[['0','1','2']].max(axis=1)).astype(int)\n",
            "        ensemble_preds_last['2'] = (aux['2'] == aux[['0','1','2']].max(axis=1)).astype(int)\n",
            "\n",
            "        metrics_best.update_scores(true_labels, ensemble_preds_best.to_numpy(), images_id.to_numpy())\n",
            "        metrics_last.update_scores(true_labels, ensemble_preds_last.to_numpy(), images_id.to_numpy())\n",
            "\n",
            "        metrics_best.compute_metrics()\n",
            "        metrics_last.compute_metrics()\n",
            "\n",
            "        metrics_best.save_scores()\n",
            "        metrics_last.save_scores()\n",
            "\n",
            "        for auc_metric in metrics_best.metrics_values['auc_and_roc_curve'][0]:\n",
            "            metrics_best.metrics_values[\"auc_\" + str(auc_metric)] = metrics_best.metrics_values['auc_and_roc_curve'][0][auc_metric]\n",
            "            metrics_last.metrics_values[\"auc_\" + str(auc_metric)] = metrics_last.metrics_values['auc_and_roc_curve'][0][auc_metric]\n",
            "\n",
            "        folder_name = {'folder_name': experiment_folder}\n",
            "        dict_best = {**folder_name, **metrics_best.metrics_values}\n",
            "        dict_last = {**folder_name, **metrics_last.metrics_values}\n",
            "\n",
            "        del dict_best['auc_and_roc_curve']\n",
            "        del dict_best['precision_recall_report']\n",
            "\n",
            "        del dict_last['auc_and_roc_curve']\n",
            "        del dict_last['precision_recall_report']\n",
            "\n",
            "        df_best = df_best.append(pd.DataFrame(dict_best, columns=dict_best.keys(), index=[0]), ignore_index=True)\n",
            "        df_last = df_last.append(pd.DataFrame(dict_last, columns=dict_last.keys(), index=[0]), ignore_index=True)\n",
            "\n",
            "    except Exception as e:\n",
            "        print(\"Erro no experimento \", experiment_folder)\n",
            "        print(e)\n",
            "\n",
            "\n",
            "df_best.to_csv(os.path.join(folder_path, 'ensemble_voting_best.csv'), index=False)\n",
            "df_last.to_csv(os.path.join(folder_path, 'ensemble_voting_last.csv'), index=False)\n",
            "\n",
            "# Avaliar a precisão do modelo de ensemble\n",
            "# true_classes_path = os.path.join(folder_path, \"true_classes.csv\")\n",
            "# true_classes = np.loadtxt(_csv_path_test, delimiter=\",\", skiprows=1)\n",
            "\n",
            "# from sklearn.metrics import accuracy_score, precision_score, recall_score, f1_score\n",
            "\n",
            "# accuracy = accuracy_score(true_classes, ensemble_classes)\n",
            "# precision = precision_score(true_classes, ensemble_classes, average=\"macro\")\n",
            "# recall = recall_score(true_classes, ensemble_classes, average=\"macro\")\n",
            "# f1 = f1_score(true_classes, ensemble_classes, average=\"macro\")\n",
            "\n",
            "# # Imprimir as métricas de avaliação\n",
            "# print(f\"Acurácia: {accuracy:.3f}\")\n",
            "# print(f\"Precisão: {precision:.3f}\")\n",
            "# print(f\"Recall: {recall:.3f}\")\n",
            "# print(f\"F1-score: {f1:.3f}\")\n"
         ]
      },
      {
         "attachments": {},
         "cell_type": "markdown",
         "metadata": {},
         "source": [
            "Calculate metrics for each model of each experiments"
         ]
      },
      {
         "cell_type": "code",
         "execution_count": 11,
         "metadata": {},
         "outputs": [
            {
               "name": "stdout",
               "output_type": "stream",
               "text": [
                  "Experimento:  dull_razor_shades_of_gray_cropped_images_folder_2\n",
                  "Experimento:  DA0_noPP\n",
                  "Experimento:  noDA_CLAHE_dull_razor_shades_of_gray_cropped_images_folder\n",
                  "Saving the scores in best_results/noDA_CLAHE_dull_razor_shades_of_gray_cropped_images_folder/efficientnet_b3_fold-1_lrinit-0.001_batchsize-32_optimizer-Adam_maxepochs-50_DA-None_PPen-CLAHE_PPha-dull_razor_PPco-shades_of_gray_PPde-None_PPno-True_PPcr-cropped_images_folder_PPre-True_drop-0.0_trainjustclassifier-False_16824953797804499/new_test_pred_best\n",
                  "Saving the scores in best_results/noDA_CLAHE_dull_razor_shades_of_gray_cropped_images_folder/efficientnet_b3_fold-1_lrinit-0.001_batchsize-32_optimizer-Adam_maxepochs-50_DA-None_PPen-CLAHE_PPha-dull_razor_PPco-shades_of_gray_PPde-None_PPno-True_PPcr-cropped_images_folder_PPre-True_drop-0.0_trainjustclassifier-False_16824953797804499/new_test_pred_last\n",
                  "Saving the scores in best_results/noDA_CLAHE_dull_razor_shades_of_gray_cropped_images_folder/tf_efficientnet_b6_fold-1_lrinit-0.0001_batchsize-4_optimizer-AdamW_maxepochs-50_DA-None_PPen-CLAHE_PPha-dull_razor_PPco-shades_of_gray_PPde-None_PPno-True_PPcr-cropped_images_folder_PPre-True_drop-0.0_trainjustclassifier-False_1682483418038081/new_test_pred_best\n",
                  "Saving the scores in best_results/noDA_CLAHE_dull_razor_shades_of_gray_cropped_images_folder/tf_efficientnet_b6_fold-1_lrinit-0.0001_batchsize-4_optimizer-AdamW_maxepochs-50_DA-None_PPen-CLAHE_PPha-dull_razor_PPco-shades_of_gray_PPde-None_PPno-True_PPcr-cropped_images_folder_PPre-True_drop-0.0_trainjustclassifier-False_1682483418038081/new_test_pred_last\n",
                  "Saving the scores in best_results/noDA_CLAHE_dull_razor_shades_of_gray_cropped_images_folder/densenet121_fold-1_lrinit-0.0001_batchsize-32_optimizer-Adam_maxepochs-50_DA-None_PPen-CLAHE_PPha-dull_razor_PPco-shades_of_gray_PPde-None_PPno-True_PPcr-cropped_images_folder_PPre-True_drop-0.0_trainjustclassifier-False_16824908600610263/new_test_pred_best\n",
                  "Saving the scores in best_results/noDA_CLAHE_dull_razor_shades_of_gray_cropped_images_folder/densenet121_fold-1_lrinit-0.0001_batchsize-32_optimizer-Adam_maxepochs-50_DA-None_PPen-CLAHE_PPha-dull_razor_PPco-shades_of_gray_PPde-None_PPno-True_PPcr-cropped_images_folder_PPre-True_drop-0.0_trainjustclassifier-False_16824908600610263/new_test_pred_last\n",
                  "Saving the scores in best_results/noDA_CLAHE_dull_razor_shades_of_gray_cropped_images_folder/efficientnet_b1_fold-1_lrinit-0.001_batchsize-8_optimizer-AdamW_maxepochs-50_DA-None_PPen-CLAHE_PPha-dull_razor_PPco-shades_of_gray_PPde-None_PPno-True_PPcr-cropped_images_folder_PPre-True_drop-0.0_trainjustclassifier-False_1682492800167229/new_test_pred_best\n",
                  "Saving the scores in best_results/noDA_CLAHE_dull_razor_shades_of_gray_cropped_images_folder/efficientnet_b1_fold-1_lrinit-0.001_batchsize-8_optimizer-AdamW_maxepochs-50_DA-None_PPen-CLAHE_PPha-dull_razor_PPco-shades_of_gray_PPde-None_PPno-True_PPcr-cropped_images_folder_PPre-True_drop-0.0_trainjustclassifier-False_1682492800167229/new_test_pred_last\n",
                  "Saving the scores in best_results/noDA_CLAHE_dull_razor_shades_of_gray_cropped_images_folder/resnext101_32x8d_fold-1_lrinit-0.001_batchsize-8_optimizer-SGD_maxepochs-50_DA-None_PPen-CLAHE_PPha-dull_razor_PPco-shades_of_gray_PPde-None_PPno-True_PPcr-cropped_images_folder_PPre-True_drop-0.0_trainjustclassifier-False_16825038950736072/new_test_pred_best\n",
                  "Saving the scores in best_results/noDA_CLAHE_dull_razor_shades_of_gray_cropped_images_folder/resnext101_32x8d_fold-1_lrinit-0.001_batchsize-8_optimizer-SGD_maxepochs-50_DA-None_PPen-CLAHE_PPha-dull_razor_PPco-shades_of_gray_PPde-None_PPno-True_PPcr-cropped_images_folder_PPre-True_drop-0.0_trainjustclassifier-False_16825038950736072/new_test_pred_last\n",
                  "Saving the scores in best_results/noDA_CLAHE_dull_razor_shades_of_gray_cropped_images_folder/vgg19_fold-1_lrinit-0.001_batchsize-8_optimizer-SGD_maxepochs-50_DA-None_PPen-CLAHE_PPha-dull_razor_PPco-shades_of_gray_PPde-None_PPno-True_PPcr-cropped_images_folder_PPre-True_drop-0.0_trainjustclassifier-False_1682503026910054/new_test_pred_best\n",
                  "Saving the scores in best_results/noDA_CLAHE_dull_razor_shades_of_gray_cropped_images_folder/vgg19_fold-1_lrinit-0.001_batchsize-8_optimizer-SGD_maxepochs-50_DA-None_PPen-CLAHE_PPha-dull_razor_PPco-shades_of_gray_PPde-None_PPno-True_PPcr-cropped_images_folder_PPre-True_drop-0.0_trainjustclassifier-False_1682503026910054/new_test_pred_last\n",
                  "Saving the scores in best_results/noDA_CLAHE_dull_razor_shades_of_gray_cropped_images_folder/efficientnet_b0_fold-1_lrinit-0.001_batchsize-8_optimizer-AdamW_maxepochs-50_DA-None_PPen-CLAHE_PPha-dull_razor_PPco-shades_of_gray_PPde-None_PPno-True_PPcr-cropped_images_folder_PPre-True_drop-0.0_trainjustclassifier-False_16824917663330305/new_test_pred_best\n",
                  "Saving the scores in best_results/noDA_CLAHE_dull_razor_shades_of_gray_cropped_images_folder/efficientnet_b0_fold-1_lrinit-0.001_batchsize-8_optimizer-AdamW_maxepochs-50_DA-None_PPen-CLAHE_PPha-dull_razor_PPco-shades_of_gray_PPde-None_PPno-True_PPcr-cropped_images_folder_PPre-True_drop-0.0_trainjustclassifier-False_16824917663330305/new_test_pred_last\n",
                  "Saving the scores in best_results/noDA_CLAHE_dull_razor_shades_of_gray_cropped_images_folder/efficientnet_b2_fold-1_lrinit-0.001_batchsize-8_optimizer-Adam_maxepochs-50_DA-None_PPen-CLAHE_PPha-dull_razor_PPco-shades_of_gray_PPde-None_PPno-True_PPcr-cropped_images_folder_PPre-True_drop-0.0_trainjustclassifier-False_16824941548608146/new_test_pred_best\n",
                  "Saving the scores in best_results/noDA_CLAHE_dull_razor_shades_of_gray_cropped_images_folder/efficientnet_b2_fold-1_lrinit-0.001_batchsize-8_optimizer-Adam_maxepochs-50_DA-None_PPen-CLAHE_PPha-dull_razor_PPco-shades_of_gray_PPde-None_PPno-True_PPcr-cropped_images_folder_PPre-True_drop-0.0_trainjustclassifier-False_16824941548608146/new_test_pred_last\n",
                  "Saving the scores in best_results/noDA_CLAHE_dull_razor_shades_of_gray_cropped_images_folder/seresnext101_32x8d_fold-1_lrinit-0.0001_batchsize-16_optimizer-Adam_maxepochs-50_DA-None_PPen-CLAHE_PPha-dull_razor_PPco-shades_of_gray_PPde-None_PPno-True_PPcr-cropped_images_folder_PPre-True_drop-0.0_trainjustclassifier-False_1682501237645372/new_test_pred_best\n",
                  "Saving the scores in best_results/noDA_CLAHE_dull_razor_shades_of_gray_cropped_images_folder/seresnext101_32x8d_fold-1_lrinit-0.0001_batchsize-16_optimizer-Adam_maxepochs-50_DA-None_PPen-CLAHE_PPha-dull_razor_PPco-shades_of_gray_PPde-None_PPno-True_PPcr-cropped_images_folder_PPre-True_drop-0.0_trainjustclassifier-False_1682501237645372/new_test_pred_last\n",
                  "Saving the scores in best_results/noDA_CLAHE_dull_razor_shades_of_gray_cropped_images_folder/efficientnet_b4_fold-1_lrinit-0.001_batchsize-16_optimizer-AdamW_maxepochs-50_DA-None_PPen-CLAHE_PPha-dull_razor_PPco-shades_of_gray_PPde-None_PPno-True_PPcr-cropped_images_folder_PPre-True_drop-0.0_trainjustclassifier-False_1682496816613192/new_test_pred_best\n",
                  "Saving the scores in best_results/noDA_CLAHE_dull_razor_shades_of_gray_cropped_images_folder/efficientnet_b4_fold-1_lrinit-0.001_batchsize-16_optimizer-AdamW_maxepochs-50_DA-None_PPen-CLAHE_PPha-dull_razor_PPco-shades_of_gray_PPde-None_PPno-True_PPcr-cropped_images_folder_PPre-True_drop-0.0_trainjustclassifier-False_1682496816613192/new_test_pred_last\n"
               ]
            },
            {
               "name": "stderr",
               "output_type": "stream",
               "text": [
                  "/home/a52550/Desktop/masters/cnn/learning_cycle/benchmarks/isic/raug/utils/classification_metrics_2.py:348: RuntimeWarning: More than 20 figures have been opened. Figures created through the pyplot interface (`matplotlib.pyplot.figure`) are retained until explicitly closed and may consume too much memory. (To control this warning, see the rcParam `figure.max_open_warning`).\n",
                  "  plt.figure()\n"
               ]
            },
            {
               "name": "stdout",
               "output_type": "stream",
               "text": [
                  "Saving the scores in best_results/noDA_CLAHE_dull_razor_shades_of_gray_cropped_images_folder/resnest101e_fold-1_lrinit-0.0001_batchsize-8_optimizer-AdamW_maxepochs-50_DA-None_PPen-CLAHE_PPha-dull_razor_PPco-shades_of_gray_PPde-None_PPno-True_PPcr-cropped_images_folder_PPre-True_drop-0.0_trainjustclassifier-False_16824987557730577/new_test_pred_best\n",
                  "Saving the scores in best_results/noDA_CLAHE_dull_razor_shades_of_gray_cropped_images_folder/resnest101e_fold-1_lrinit-0.0001_batchsize-8_optimizer-AdamW_maxepochs-50_DA-None_PPen-CLAHE_PPha-dull_razor_PPco-shades_of_gray_PPde-None_PPno-True_PPcr-cropped_images_folder_PPre-True_drop-0.0_trainjustclassifier-False_16824987557730577/new_test_pred_last\n",
                  "Saving the scores in best_results/noDA_CLAHE_dull_razor_shades_of_gray_cropped_images_folder/tf_efficientnet_b5_fold-1_lrinit-0.0001_batchsize-8_optimizer-AdamW_maxepochs-50_DA-None_PPen-CLAHE_PPha-dull_razor_PPco-shades_of_gray_PPde-None_PPno-True_PPcr-cropped_images_folder_PPre-True_drop-0.0_trainjustclassifier-False_16824746022573133/new_test_pred_best\n",
                  "Saving the scores in best_results/noDA_CLAHE_dull_razor_shades_of_gray_cropped_images_folder/tf_efficientnet_b5_fold-1_lrinit-0.0001_batchsize-8_optimizer-AdamW_maxepochs-50_DA-None_PPen-CLAHE_PPha-dull_razor_PPco-shades_of_gray_PPde-None_PPno-True_PPcr-cropped_images_folder_PPre-True_drop-0.0_trainjustclassifier-False_16824746022573133/new_test_pred_last\n",
                  "Saving the scores in best_results/noDA_CLAHE_dull_razor_shades_of_gray_cropped_images_folder/pnasnet5large_fold-1_lrinit-0.0001_batchsize-8_optimizer-Adam_maxepochs-50_DA-None_PPen-CLAHE_PPha-dull_razor_PPco-shades_of_gray_PPde-None_PPno-True_PPcr-cropped_images_folder_PPre-True_drop-0.0_trainjustclassifier-False_16825059961225636/new_test_pred_best\n",
                  "Saving the scores in best_results/noDA_CLAHE_dull_razor_shades_of_gray_cropped_images_folder/pnasnet5large_fold-1_lrinit-0.0001_batchsize-8_optimizer-Adam_maxepochs-50_DA-None_PPen-CLAHE_PPha-dull_razor_PPco-shades_of_gray_PPde-None_PPno-True_PPcr-cropped_images_folder_PPre-True_drop-0.0_trainjustclassifier-False_16825059961225636/new_test_pred_last\n",
                  "Experimento:  DA0_PP\n",
                  "Saving the scores in best_results/DA0_PP/densenet121_fold-1_lrinit-0.0001_batchsize-32_optimizer-Adam_maxepochs-50_DA-0_PPen-None_PPha-dull_razor_PPco-shades_of_gray_PPde-None_PPno-True_PPcr-cropped_images_folder_PPre-True_drop-0.0_trainjustclassifier-False_16807263435917563/new_test_pred_best\n",
                  "Saving the scores in best_results/DA0_PP/densenet121_fold-1_lrinit-0.0001_batchsize-32_optimizer-Adam_maxepochs-50_DA-0_PPen-None_PPha-dull_razor_PPco-shades_of_gray_PPde-None_PPno-True_PPcr-cropped_images_folder_PPre-True_drop-0.0_trainjustclassifier-False_16807263435917563/new_test_pred_last\n",
                  "Saving the scores in best_results/DA0_PP/seresnext101_32x8d_fold-1_lrinit-0.0001_batchsize-16_optimizer-Adam_maxepochs-50_DA-0_PPen-None_PPha-dull_razor_PPco-shades_of_gray_PPde-None_PPno-True_PPcr-cropped_images_folder_PPre-True_drop-0.0_trainjustclassifier-False_16807377815409434/new_test_pred_best\n",
                  "Saving the scores in best_results/DA0_PP/seresnext101_32x8d_fold-1_lrinit-0.0001_batchsize-16_optimizer-Adam_maxepochs-50_DA-0_PPen-None_PPha-dull_razor_PPco-shades_of_gray_PPde-None_PPno-True_PPcr-cropped_images_folder_PPre-True_drop-0.0_trainjustclassifier-False_16807377815409434/new_test_pred_last\n",
                  "Saving the scores in best_results/DA0_PP/tf_efficientnet_b6_fold-1_lrinit-0.0001_batchsize-4_optimizer-AdamW_maxepochs-50_DA-0_PPen-None_PPha-dull_razor_PPco-shades_of_gray_PPde-None_PPno-True_PPcr-cropped_images_folder_PPre-True_drop-0.0_trainjustclassifier-False_16807146609920633/new_test_pred_best\n",
                  "Saving the scores in best_results/DA0_PP/tf_efficientnet_b6_fold-1_lrinit-0.0001_batchsize-4_optimizer-AdamW_maxepochs-50_DA-0_PPen-None_PPha-dull_razor_PPco-shades_of_gray_PPde-None_PPno-True_PPcr-cropped_images_folder_PPre-True_drop-0.0_trainjustclassifier-False_16807146609920633/new_test_pred_last\n",
                  "Saving the scores in best_results/DA0_PP/efficientnet_b4_fold-1_lrinit-0.001_batchsize-16_optimizer-AdamW_maxepochs-50_DA-0_PPen-None_PPha-dull_razor_PPco-shades_of_gray_PPde-None_PPno-True_PPcr-cropped_images_folder_PPre-True_drop-0.0_trainjustclassifier-False_16807338718466887/new_test_pred_best\n",
                  "Saving the scores in best_results/DA0_PP/efficientnet_b4_fold-1_lrinit-0.001_batchsize-16_optimizer-AdamW_maxepochs-50_DA-0_PPen-None_PPha-dull_razor_PPco-shades_of_gray_PPde-None_PPno-True_PPcr-cropped_images_folder_PPre-True_drop-0.0_trainjustclassifier-False_16807338718466887/new_test_pred_last\n",
                  "Saving the scores in best_results/DA0_PP/resnext101_32x8d_fold-1_lrinit-0.001_batchsize-8_optimizer-SGD_maxepochs-50_DA-0_PPen-None_PPha-dull_razor_PPco-shades_of_gray_PPde-None_PPno-True_PPcr-cropped_images_folder_PPre-True_drop-0.0_trainjustclassifier-False_16807404824283748/new_test_pred_best\n",
                  "Saving the scores in best_results/DA0_PP/resnext101_32x8d_fold-1_lrinit-0.001_batchsize-8_optimizer-SGD_maxepochs-50_DA-0_PPen-None_PPha-dull_razor_PPco-shades_of_gray_PPde-None_PPno-True_PPcr-cropped_images_folder_PPre-True_drop-0.0_trainjustclassifier-False_16807404824283748/new_test_pred_last\n",
                  "Saving the scores in best_results/DA0_PP/efficientnet_b2_fold-1_lrinit-0.001_batchsize-8_optimizer-Adam_maxepochs-50_DA-0_PPen-None_PPha-dull_razor_PPco-shades_of_gray_PPde-None_PPno-True_PPcr-cropped_images_folder_PPre-True_drop-0.0_trainjustclassifier-False_16807305674509125/new_test_pred_best\n",
                  "Saving the scores in best_results/DA0_PP/efficientnet_b2_fold-1_lrinit-0.001_batchsize-8_optimizer-Adam_maxepochs-50_DA-0_PPen-None_PPha-dull_razor_PPco-shades_of_gray_PPde-None_PPno-True_PPcr-cropped_images_folder_PPre-True_drop-0.0_trainjustclassifier-False_16807305674509125/new_test_pred_last\n",
                  "Saving the scores in best_results/DA0_PP/resnest101e_fold-1_lrinit-0.0001_batchsize-8_optimizer-AdamW_maxepochs-50_DA-0_PPen-None_PPha-dull_razor_PPco-shades_of_gray_PPde-None_PPno-True_PPcr-cropped_images_folder_PPre-True_drop-0.0_trainjustclassifier-False_1680736202025293/new_test_pred_best\n",
                  "Saving the scores in best_results/DA0_PP/resnest101e_fold-1_lrinit-0.0001_batchsize-8_optimizer-AdamW_maxepochs-50_DA-0_PPen-None_PPha-dull_razor_PPco-shades_of_gray_PPde-None_PPno-True_PPcr-cropped_images_folder_PPre-True_drop-0.0_trainjustclassifier-False_1680736202025293/new_test_pred_last\n",
                  "Saving the scores in best_results/DA0_PP/efficientnet_b0_fold-1_lrinit-0.001_batchsize-8_optimizer-AdamW_maxepochs-50_DA-0_PPen-None_PPha-dull_razor_PPco-shades_of_gray_PPde-None_PPno-True_PPcr-cropped_images_folder_PPre-True_drop-0.0_trainjustclassifier-False_1680727774262811/new_test_pred_best\n",
                  "Saving the scores in best_results/DA0_PP/efficientnet_b0_fold-1_lrinit-0.001_batchsize-8_optimizer-AdamW_maxepochs-50_DA-0_PPen-None_PPha-dull_razor_PPco-shades_of_gray_PPde-None_PPno-True_PPcr-cropped_images_folder_PPre-True_drop-0.0_trainjustclassifier-False_1680727774262811/new_test_pred_last\n",
                  "Saving the scores in best_results/DA0_PP/efficientnet_b1_fold-1_lrinit-0.001_batchsize-8_optimizer-AdamW_maxepochs-50_DA-0_PPen-None_PPha-dull_razor_PPco-shades_of_gray_PPde-None_PPno-True_PPcr-cropped_images_folder_PPre-True_drop-0.0_trainjustclassifier-False_16807291683399746/new_test_pred_best\n",
                  "Saving the scores in best_results/DA0_PP/efficientnet_b1_fold-1_lrinit-0.001_batchsize-8_optimizer-AdamW_maxepochs-50_DA-0_PPen-None_PPha-dull_razor_PPco-shades_of_gray_PPde-None_PPno-True_PPcr-cropped_images_folder_PPre-True_drop-0.0_trainjustclassifier-False_16807291683399746/new_test_pred_last\n",
                  "Saving the scores in best_results/DA0_PP/pnasnet5large_fold-1_lrinit-0.0001_batchsize-8_optimizer-Adam_maxepochs-50_DA-0_PPen-None_PPha-dull_razor_PPco-shades_of_gray_PPde-None_PPno-True_PPcr-cropped_images_folder_PPre-True_drop-0.0_trainjustclassifier-False_16807428392407424/new_test_pred_best\n",
                  "Saving the scores in best_results/DA0_PP/pnasnet5large_fold-1_lrinit-0.0001_batchsize-8_optimizer-Adam_maxepochs-50_DA-0_PPen-None_PPha-dull_razor_PPco-shades_of_gray_PPde-None_PPno-True_PPcr-cropped_images_folder_PPre-True_drop-0.0_trainjustclassifier-False_16807428392407424/new_test_pred_last\n",
                  "Saving the scores in best_results/DA0_PP/vgg19_fold-1_lrinit-0.001_batchsize-8_optimizer-SGD_maxepochs-50_DA-0_PPen-None_PPha-dull_razor_PPco-shades_of_gray_PPde-None_PPno-True_PPcr-cropped_images_folder_PPre-True_drop-0.0_trainjustclassifier-False_16807389725071435/new_test_pred_best\n",
                  "Saving the scores in best_results/DA0_PP/vgg19_fold-1_lrinit-0.001_batchsize-8_optimizer-SGD_maxepochs-50_DA-0_PPen-None_PPha-dull_razor_PPco-shades_of_gray_PPde-None_PPno-True_PPcr-cropped_images_folder_PPre-True_drop-0.0_trainjustclassifier-False_16807389725071435/new_test_pred_last\n",
                  "Saving the scores in best_results/DA0_PP/efficientnet_b3_fold-1_lrinit-0.001_batchsize-32_optimizer-Adam_maxepochs-50_DA-0_PPen-None_PPha-dull_razor_PPco-shades_of_gray_PPde-None_PPno-True_PPcr-cropped_images_folder_PPre-True_drop-0.0_trainjustclassifier-False_16807324390873523/new_test_pred_best\n",
                  "Saving the scores in best_results/DA0_PP/efficientnet_b3_fold-1_lrinit-0.001_batchsize-32_optimizer-Adam_maxepochs-50_DA-0_PPen-None_PPha-dull_razor_PPco-shades_of_gray_PPde-None_PPno-True_PPcr-cropped_images_folder_PPre-True_drop-0.0_trainjustclassifier-False_16807324390873523/new_test_pred_last\n",
                  "Saving the scores in best_results/DA0_PP/tf_efficientnet_b5_fold-1_lrinit-0.0001_batchsize-8_optimizer-AdamW_maxepochs-50_DA-0_PPen-None_PPha-dull_razor_PPco-shades_of_gray_PPde-None_PPno-True_PPcr-cropped_images_folder_PPre-True_drop-0.0_trainjustclassifier-False_16807097007765975/new_test_pred_best\n",
                  "Saving the scores in best_results/DA0_PP/tf_efficientnet_b5_fold-1_lrinit-0.0001_batchsize-8_optimizer-AdamW_maxepochs-50_DA-0_PPen-None_PPha-dull_razor_PPco-shades_of_gray_PPde-None_PPno-True_PPcr-cropped_images_folder_PPre-True_drop-0.0_trainjustclassifier-False_16807097007765975/new_test_pred_last\n",
                  "Experimento:  dull_razor\n",
                  "Experimento:  DA1_noPP\n",
                  "Experimento:  shades_of_gray_cropped_images_folder\n",
                  "Experimento:  DA2_dull_razor_shades_of_gray_cropped_images_folder\n",
                  "Saving the scores in best_results/DA2_dull_razor_shades_of_gray_cropped_images_folder/densenet121_fold-1_lrinit-0.0001_batchsize-32_optimizer-Adam_maxepochs-150_DA-2_PPen-None_PPha-dull_razor_PPco-shades_of_gray_PPde-None_PPno-True_PPcr-cropped_images_folder_PPre-True_drop-0.0_trainjustclassifier-False_16813145991351407/new_test_pred_best\n",
                  "Saving the scores in best_results/DA2_dull_razor_shades_of_gray_cropped_images_folder/densenet121_fold-1_lrinit-0.0001_batchsize-32_optimizer-Adam_maxepochs-150_DA-2_PPen-None_PPha-dull_razor_PPco-shades_of_gray_PPde-None_PPno-True_PPcr-cropped_images_folder_PPre-True_drop-0.0_trainjustclassifier-False_16813145991351407/new_test_pred_last\n",
                  "Saving the scores in best_results/DA2_dull_razor_shades_of_gray_cropped_images_folder/efficientnet_b3_fold-1_lrinit-0.0001_batchsize-32_optimizer-Adam_maxepochs-150_DA-2_PPen-None_PPha-dull_razor_PPco-shades_of_gray_PPde-None_PPno-True_PPcr-cropped_images_folder_PPre-True_drop-0.0_trainjustclassifier-False_16813259248001854/new_test_pred_best\n",
                  "Saving the scores in best_results/DA2_dull_razor_shades_of_gray_cropped_images_folder/efficientnet_b3_fold-1_lrinit-0.0001_batchsize-32_optimizer-Adam_maxepochs-150_DA-2_PPen-None_PPha-dull_razor_PPco-shades_of_gray_PPde-None_PPno-True_PPcr-cropped_images_folder_PPre-True_drop-0.0_trainjustclassifier-False_16813259248001854/new_test_pred_last\n",
                  "Saving the scores in best_results/DA2_dull_razor_shades_of_gray_cropped_images_folder/resnest101e_fold-1_lrinit-0.0001_batchsize-8_optimizer-AdamW_maxepochs-150_DA-2_PPen-None_PPha-dull_razor_PPco-shades_of_gray_PPde-None_PPno-True_PPcr-cropped_images_folder_PPre-True_drop-0.0_trainjustclassifier-False_1681332137441572/new_test_pred_best\n",
                  "Saving the scores in best_results/DA2_dull_razor_shades_of_gray_cropped_images_folder/resnest101e_fold-1_lrinit-0.0001_batchsize-8_optimizer-AdamW_maxepochs-150_DA-2_PPen-None_PPha-dull_razor_PPco-shades_of_gray_PPde-None_PPno-True_PPcr-cropped_images_folder_PPre-True_drop-0.0_trainjustclassifier-False_1681332137441572/new_test_pred_last\n",
                  "Saving the scores in best_results/DA2_dull_razor_shades_of_gray_cropped_images_folder/efficientnet_b2_fold-1_lrinit-0.0001_batchsize-8_optimizer-Adam_maxepochs-150_DA-2_PPen-None_PPha-dull_razor_PPco-shades_of_gray_PPde-None_PPno-True_PPcr-cropped_images_folder_PPre-True_drop-0.0_trainjustclassifier-False_16813227212758167/new_test_pred_best\n",
                  "Saving the scores in best_results/DA2_dull_razor_shades_of_gray_cropped_images_folder/efficientnet_b2_fold-1_lrinit-0.0001_batchsize-8_optimizer-Adam_maxepochs-150_DA-2_PPen-None_PPha-dull_razor_PPco-shades_of_gray_PPde-None_PPno-True_PPcr-cropped_images_folder_PPre-True_drop-0.0_trainjustclassifier-False_16813227212758167/new_test_pred_last\n",
                  "Saving the scores in best_results/DA2_dull_razor_shades_of_gray_cropped_images_folder/seresnext101_32x8d_fold-1_lrinit-0.0001_batchsize-16_optimizer-Adam_maxepochs-150_DA-2_PPen-None_PPha-dull_razor_PPco-shades_of_gray_PPde-None_PPno-True_PPcr-cropped_images_folder_PPre-True_drop-0.0_trainjustclassifier-False_16813369182827797/new_test_pred_best\n",
                  "Saving the scores in best_results/DA2_dull_razor_shades_of_gray_cropped_images_folder/seresnext101_32x8d_fold-1_lrinit-0.0001_batchsize-16_optimizer-Adam_maxepochs-150_DA-2_PPen-None_PPha-dull_razor_PPco-shades_of_gray_PPde-None_PPno-True_PPcr-cropped_images_folder_PPre-True_drop-0.0_trainjustclassifier-False_16813369182827797/new_test_pred_last\n",
                  "Saving the scores in best_results/DA2_dull_razor_shades_of_gray_cropped_images_folder/pnasnet5large_fold-1_lrinit-0.0001_batchsize-8_optimizer-Adam_maxepochs-150_DA-2_PPen-None_PPha-dull_razor_PPco-shades_of_gray_PPde-None_PPno-True_PPcr-cropped_images_folder_PPre-True_drop-0.0_trainjustclassifier-False_16813443623723736/new_test_pred_best\n",
                  "Saving the scores in best_results/DA2_dull_razor_shades_of_gray_cropped_images_folder/pnasnet5large_fold-1_lrinit-0.0001_batchsize-8_optimizer-Adam_maxepochs-150_DA-2_PPen-None_PPha-dull_razor_PPco-shades_of_gray_PPde-None_PPno-True_PPcr-cropped_images_folder_PPre-True_drop-0.0_trainjustclassifier-False_16813443623723736/new_test_pred_last\n",
                  "Saving the scores in best_results/DA2_dull_razor_shades_of_gray_cropped_images_folder/resnext101_32x8d_fold-1_lrinit-0.0001_batchsize-8_optimizer-SGD_maxepochs-150_DA-2_PPen-None_PPha-dull_razor_PPco-shades_of_gray_PPde-None_PPno-True_PPcr-cropped_images_folder_PPre-True_drop-0.0_trainjustclassifier-False_16813417135634484/new_test_pred_best\n",
                  "Saving the scores in best_results/DA2_dull_razor_shades_of_gray_cropped_images_folder/resnext101_32x8d_fold-1_lrinit-0.0001_batchsize-8_optimizer-SGD_maxepochs-150_DA-2_PPen-None_PPha-dull_razor_PPco-shades_of_gray_PPde-None_PPno-True_PPcr-cropped_images_folder_PPre-True_drop-0.0_trainjustclassifier-False_16813417135634484/new_test_pred_last\n",
                  "Saving the scores in best_results/DA2_dull_razor_shades_of_gray_cropped_images_folder/efficientnet_b0_fold-1_lrinit-0.0001_batchsize-8_optimizer-AdamW_maxepochs-150_DA-2_PPen-None_PPha-dull_razor_PPco-shades_of_gray_PPde-None_PPno-True_PPcr-cropped_images_folder_PPre-True_drop-0.0_trainjustclassifier-False_16813171666139843/new_test_pred_best\n",
                  "Saving the scores in best_results/DA2_dull_razor_shades_of_gray_cropped_images_folder/efficientnet_b0_fold-1_lrinit-0.0001_batchsize-8_optimizer-AdamW_maxepochs-150_DA-2_PPen-None_PPha-dull_razor_PPco-shades_of_gray_PPde-None_PPno-True_PPcr-cropped_images_folder_PPre-True_drop-0.0_trainjustclassifier-False_16813171666139843/new_test_pred_last\n",
                  "Saving the scores in best_results/DA2_dull_razor_shades_of_gray_cropped_images_folder/tf_efficientnet_b5_fold-1_lrinit-0.0001_batchsize-8_optimizer-AdamW_maxepochs-150_DA-2_PPen-None_PPha-dull_razor_PPco-shades_of_gray_PPde-None_PPno-True_PPcr-cropped_images_folder_PPre-True_drop-0.0_trainjustclassifier-False_16812917987950535/new_test_pred_best\n",
                  "Saving the scores in best_results/DA2_dull_razor_shades_of_gray_cropped_images_folder/tf_efficientnet_b5_fold-1_lrinit-0.0001_batchsize-8_optimizer-AdamW_maxepochs-150_DA-2_PPen-None_PPha-dull_razor_PPco-shades_of_gray_PPde-None_PPno-True_PPcr-cropped_images_folder_PPre-True_drop-0.0_trainjustclassifier-False_16812917987950535/new_test_pred_last\n",
                  "Saving the scores in best_results/DA2_dull_razor_shades_of_gray_cropped_images_folder/tf_efficientnet_b6_fold-1_lrinit-0.0001_batchsize-4_optimizer-AdamW_maxepochs-150_DA-2_PPen-None_PPha-dull_razor_PPco-shades_of_gray_PPde-None_PPno-True_PPcr-cropped_images_folder_PPre-True_drop-0.0_trainjustclassifier-False_16813005588582973/new_test_pred_best\n",
                  "Saving the scores in best_results/DA2_dull_razor_shades_of_gray_cropped_images_folder/tf_efficientnet_b6_fold-1_lrinit-0.0001_batchsize-4_optimizer-AdamW_maxepochs-150_DA-2_PPen-None_PPha-dull_razor_PPco-shades_of_gray_PPde-None_PPno-True_PPcr-cropped_images_folder_PPre-True_drop-0.0_trainjustclassifier-False_16813005588582973/new_test_pred_last\n",
                  "Saving the scores in best_results/DA2_dull_razor_shades_of_gray_cropped_images_folder/efficientnet_b1_fold-1_lrinit-0.0001_batchsize-8_optimizer-AdamW_maxepochs-150_DA-2_PPen-None_PPha-dull_razor_PPco-shades_of_gray_PPde-None_PPno-True_PPcr-cropped_images_folder_PPre-True_drop-0.0_trainjustclassifier-False_16813196594619434/new_test_pred_best\n",
                  "Saving the scores in best_results/DA2_dull_razor_shades_of_gray_cropped_images_folder/efficientnet_b1_fold-1_lrinit-0.0001_batchsize-8_optimizer-AdamW_maxepochs-150_DA-2_PPen-None_PPha-dull_razor_PPco-shades_of_gray_PPde-None_PPno-True_PPcr-cropped_images_folder_PPre-True_drop-0.0_trainjustclassifier-False_16813196594619434/new_test_pred_last\n",
                  "Saving the scores in best_results/DA2_dull_razor_shades_of_gray_cropped_images_folder/vgg19_fold-1_lrinit-0.0001_batchsize-8_optimizer-SGD_maxepochs-150_DA-2_PPen-None_PPha-dull_razor_PPco-shades_of_gray_PPde-None_PPno-True_PPcr-cropped_images_folder_PPre-True_drop-0.0_trainjustclassifier-False_16813396481821916/new_test_pred_best\n",
                  "Saving the scores in best_results/DA2_dull_razor_shades_of_gray_cropped_images_folder/vgg19_fold-1_lrinit-0.0001_batchsize-8_optimizer-SGD_maxepochs-150_DA-2_PPen-None_PPha-dull_razor_PPco-shades_of_gray_PPde-None_PPno-True_PPcr-cropped_images_folder_PPre-True_drop-0.0_trainjustclassifier-False_16813396481821916/new_test_pred_last\n",
                  "Saving the scores in best_results/DA2_dull_razor_shades_of_gray_cropped_images_folder/efficientnet_b4_fold-1_lrinit-0.0001_batchsize-16_optimizer-AdamW_maxepochs-150_DA-2_PPen-None_PPha-dull_razor_PPco-shades_of_gray_PPde-None_PPno-True_PPcr-cropped_images_folder_PPre-True_drop-0.0_trainjustclassifier-False_16813292269355123/new_test_pred_best\n",
                  "Saving the scores in best_results/DA2_dull_razor_shades_of_gray_cropped_images_folder/efficientnet_b4_fold-1_lrinit-0.0001_batchsize-16_optimizer-AdamW_maxepochs-150_DA-2_PPen-None_PPha-dull_razor_PPco-shades_of_gray_PPde-None_PPno-True_PPcr-cropped_images_folder_PPre-True_drop-0.0_trainjustclassifier-False_16813292269355123/new_test_pred_last\n",
                  "Experimento:  dull_razor_shades_of_gray_cropped_images_folder\n",
                  "Experimento:  DA3_noPP\n",
                  "Experimento:  dull_razor_shades_of_gray\n",
                  "Experimento:  DA0_noPP_3\n",
                  "Saving the scores in best_results/DA0_noPP_3/efficientnet_b3_fold-1_lrinit-0.001_batchsize-32_optimizer-Adam_maxepochs-50_DA-0_PPen-None_PPha-None_PPco-None_PPde-None_PPno-True_PPcr-None_PPre-True_drop-0.0_trainjustclassifier-False_1680676586096729/new_test_pred_best\n",
                  "Saving the scores in best_results/DA0_noPP_3/efficientnet_b3_fold-1_lrinit-0.001_batchsize-32_optimizer-Adam_maxepochs-50_DA-0_PPen-None_PPha-None_PPco-None_PPde-None_PPno-True_PPcr-None_PPre-True_drop-0.0_trainjustclassifier-False_1680676586096729/new_test_pred_last\n",
                  "Saving the scores in best_results/DA0_noPP_3/resnest101e_fold-1_lrinit-0.0001_batchsize-8_optimizer-AdamW_maxepochs-50_DA-0_PPen-None_PPha-None_PPco-None_PPde-None_PPno-True_PPcr-None_PPre-True_drop-0.0_trainjustclassifier-False_16806810152288215/new_test_pred_best\n",
                  "Saving the scores in best_results/DA0_noPP_3/resnest101e_fold-1_lrinit-0.0001_batchsize-8_optimizer-AdamW_maxepochs-50_DA-0_PPen-None_PPha-None_PPco-None_PPde-None_PPno-True_PPcr-None_PPre-True_drop-0.0_trainjustclassifier-False_16806810152288215/new_test_pred_last\n",
                  "Saving the scores in best_results/DA0_noPP_3/densenet121_fold-1_lrinit-0.0001_batchsize-32_optimizer-Adam_maxepochs-50_DA-0_PPen-None_PPha-None_PPco-None_PPde-None_PPno-True_PPcr-None_PPre-True_drop-0.0_trainjustclassifier-False_16806683526389024/new_test_pred_best\n",
                  "Saving the scores in best_results/DA0_noPP_3/densenet121_fold-1_lrinit-0.0001_batchsize-32_optimizer-Adam_maxepochs-50_DA-0_PPen-None_PPha-None_PPco-None_PPde-None_PPno-True_PPcr-None_PPre-True_drop-0.0_trainjustclassifier-False_16806683526389024/new_test_pred_last\n",
                  "Saving the scores in best_results/DA0_noPP_3/tf_efficientnet_b6_fold-1_lrinit-0.0001_batchsize-4_optimizer-AdamW_maxepochs-50_DA-0_PPen-None_PPha-None_PPco-None_PPde-None_PPno-True_PPcr-None_PPre-True_drop-0.0_trainjustclassifier-False_1680658353169638/new_test_pred_best\n",
                  "Saving the scores in best_results/DA0_noPP_3/tf_efficientnet_b6_fold-1_lrinit-0.0001_batchsize-4_optimizer-AdamW_maxepochs-50_DA-0_PPen-None_PPha-None_PPco-None_PPde-None_PPno-True_PPcr-None_PPre-True_drop-0.0_trainjustclassifier-False_1680658353169638/new_test_pred_last\n",
                  "Saving the scores in best_results/DA0_noPP_3/seresnext101_32x8d_fold-1_lrinit-0.0001_batchsize-32_optimizer-Adam_maxepochs-50_DA-0_PPen-None_PPha-None_PPco-None_PPde-None_PPno-True_PPcr-None_PPre-True_drop-0.0_trainjustclassifier-False_16806846779415975/new_test_pred_best\n",
                  "Saving the scores in best_results/DA0_noPP_3/seresnext101_32x8d_fold-1_lrinit-0.0001_batchsize-32_optimizer-Adam_maxepochs-50_DA-0_PPen-None_PPha-None_PPco-None_PPde-None_PPno-True_PPcr-None_PPre-True_drop-0.0_trainjustclassifier-False_16806846779415975/new_test_pred_last\n",
                  "Saving the scores in best_results/DA0_noPP_3/efficientnet_b2_fold-1_lrinit-0.001_batchsize-8_optimizer-Adam_maxepochs-50_DA-0_PPen-None_PPha-None_PPco-None_PPde-None_PPno-True_PPcr-None_PPre-True_drop-0.0_trainjustclassifier-False_16806745989806416/new_test_pred_best\n",
                  "Saving the scores in best_results/DA0_noPP_3/efficientnet_b2_fold-1_lrinit-0.001_batchsize-8_optimizer-Adam_maxepochs-50_DA-0_PPen-None_PPha-None_PPco-None_PPde-None_PPno-True_PPcr-None_PPre-True_drop-0.0_trainjustclassifier-False_16806745989806416/new_test_pred_last\n",
                  "Saving the scores in best_results/DA0_noPP_3/efficientnet_b4_fold-1_lrinit-0.001_batchsize-16_optimizer-AdamW_maxepochs-50_DA-0_PPen-None_PPha-None_PPco-None_PPde-None_PPno-True_PPcr-None_PPre-True_drop-0.0_trainjustclassifier-False_16806789442947412/new_test_pred_best\n",
                  "Saving the scores in best_results/DA0_noPP_3/efficientnet_b4_fold-1_lrinit-0.001_batchsize-16_optimizer-AdamW_maxepochs-50_DA-0_PPen-None_PPha-None_PPco-None_PPde-None_PPno-True_PPcr-None_PPre-True_drop-0.0_trainjustclassifier-False_16806789442947412/new_test_pred_last\n",
                  "Saving the scores in best_results/DA0_noPP_3/resnext101_32x8d_fold-1_lrinit-0.001_batchsize-8_optimizer-SGD_maxepochs-50_DA-0_PPen-None_PPha-None_PPco-None_PPde-None_PPno-True_PPcr-None_PPre-True_drop-0.0_trainjustclassifier-False_16807011755216286/new_test_pred_best\n",
                  "Saving the scores in best_results/DA0_noPP_3/resnext101_32x8d_fold-1_lrinit-0.001_batchsize-8_optimizer-SGD_maxepochs-50_DA-0_PPen-None_PPha-None_PPco-None_PPde-None_PPno-True_PPcr-None_PPre-True_drop-0.0_trainjustclassifier-False_16807011755216286/new_test_pred_last\n",
                  "Saving the scores in best_results/DA0_noPP_3/vgg19_fold-1_lrinit-0.001_batchsize-8_optimizer-SGD_maxepochs-50_DA-0_PPen-None_PPha-None_PPco-None_PPde-None_PPno-True_PPcr-None_PPre-True_drop-0.0_trainjustclassifier-False_16806872780787373/new_test_pred_best\n",
                  "Saving the scores in best_results/DA0_noPP_3/vgg19_fold-1_lrinit-0.001_batchsize-8_optimizer-SGD_maxepochs-50_DA-0_PPen-None_PPha-None_PPco-None_PPde-None_PPno-True_PPcr-None_PPre-True_drop-0.0_trainjustclassifier-False_16806872780787373/new_test_pred_last\n",
                  "Saving the scores in best_results/DA0_noPP_3/tf_efficientnet_b5_fold-1_lrinit-0.0001_batchsize-8_optimizer-AdamW_maxepochs-50_DA-0_PPen-None_PPha-None_PPco-None_PPde-None_PPno-True_PPcr-None_PPre-True_drop-0.0_trainjustclassifier-False_16806529581110363/new_test_pred_best\n",
                  "Saving the scores in best_results/DA0_noPP_3/tf_efficientnet_b5_fold-1_lrinit-0.0001_batchsize-8_optimizer-AdamW_maxepochs-50_DA-0_PPen-None_PPha-None_PPco-None_PPde-None_PPno-True_PPcr-None_PPre-True_drop-0.0_trainjustclassifier-False_16806529581110363/new_test_pred_last\n",
                  "Saving the scores in best_results/DA0_noPP_3/pnasnet5large_fold-1_lrinit-0.0001_batchsize-8_optimizer-Adam_maxepochs-50_DA-0_PPen-None_PPha-None_PPco-None_PPde-None_PPno-True_PPcr-None_PPre-True_drop-0.0_trainjustclassifier-False_16806887422288716/new_test_pred_best\n",
                  "Saving the scores in best_results/DA0_noPP_3/pnasnet5large_fold-1_lrinit-0.0001_batchsize-8_optimizer-Adam_maxepochs-50_DA-0_PPen-None_PPha-None_PPco-None_PPde-None_PPno-True_PPcr-None_PPre-True_drop-0.0_trainjustclassifier-False_16806887422288716/new_test_pred_last\n",
                  "Saving the scores in best_results/DA0_noPP_3/efficientnet_b1_fold-1_lrinit-0.001_batchsize-8_optimizer-AdamW_maxepochs-50_DA-0_PPen-None_PPha-None_PPco-None_PPde-None_PPno-True_PPcr-None_PPre-True_drop-0.0_trainjustclassifier-False_16806720463018491/new_test_pred_best\n",
                  "Saving the scores in best_results/DA0_noPP_3/efficientnet_b1_fold-1_lrinit-0.001_batchsize-8_optimizer-AdamW_maxepochs-50_DA-0_PPen-None_PPha-None_PPco-None_PPde-None_PPno-True_PPcr-None_PPre-True_drop-0.0_trainjustclassifier-False_16806720463018491/new_test_pred_last\n",
                  "Saving the scores in best_results/DA0_noPP_3/efficientnet_b0_fold-1_lrinit-0.001_batchsize-8_optimizer-AdamW_maxepochs-50_DA-0_PPen-None_PPha-None_PPco-None_PPde-None_PPno-True_PPcr-None_PPre-True_drop-0.0_trainjustclassifier-False_16806694609152858/new_test_pred_best\n",
                  "Saving the scores in best_results/DA0_noPP_3/efficientnet_b0_fold-1_lrinit-0.001_batchsize-8_optimizer-AdamW_maxepochs-50_DA-0_PPen-None_PPha-None_PPco-None_PPde-None_PPno-True_PPcr-None_PPre-True_drop-0.0_trainjustclassifier-False_16806694609152858/new_test_pred_last\n",
                  "Experimento:  dull_razor_2\n",
                  "Experimento:  DA2_noPP_2\n",
                  "Saving the scores in best_results/DA2_noPP_2/seresnext101_32x8d_fold-1_lrinit-0.0001_batchsize-16_optimizer-Adam_maxepochs-150_DA-2_PPen-None_PPha-None_PPco-None_PPde-None_PPno-True_PPcr-None_PPre-True_drop-0.0_trainjustclassifier-False_1681458575284634/new_test_pred_best\n",
                  "Saving the scores in best_results/DA2_noPP_2/seresnext101_32x8d_fold-1_lrinit-0.0001_batchsize-16_optimizer-Adam_maxepochs-150_DA-2_PPen-None_PPha-None_PPco-None_PPde-None_PPno-True_PPcr-None_PPre-True_drop-0.0_trainjustclassifier-False_1681458575284634/new_test_pred_last\n",
                  "Saving the scores in best_results/DA2_noPP_2/densenet121_fold-1_lrinit-0.0001_batchsize-32_optimizer-Adam_maxepochs-150_DA-2_PPen-None_PPha-None_PPco-None_PPde-None_PPno-True_PPcr-None_PPre-True_drop-0.0_trainjustclassifier-False_16814343457776537/new_test_pred_best\n",
                  "Saving the scores in best_results/DA2_noPP_2/densenet121_fold-1_lrinit-0.0001_batchsize-32_optimizer-Adam_maxepochs-150_DA-2_PPen-None_PPha-None_PPco-None_PPde-None_PPno-True_PPcr-None_PPre-True_drop-0.0_trainjustclassifier-False_16814343457776537/new_test_pred_last\n",
                  "Saving the scores in best_results/DA2_noPP_2/resnest101e_fold-1_lrinit-0.0001_batchsize-8_optimizer-AdamW_maxepochs-150_DA-2_PPen-None_PPha-None_PPco-None_PPde-None_PPno-True_PPcr-None_PPre-True_drop-0.0_trainjustclassifier-False_16814531438972118/new_test_pred_best\n",
                  "Saving the scores in best_results/DA2_noPP_2/resnest101e_fold-1_lrinit-0.0001_batchsize-8_optimizer-AdamW_maxepochs-150_DA-2_PPen-None_PPha-None_PPco-None_PPde-None_PPno-True_PPcr-None_PPre-True_drop-0.0_trainjustclassifier-False_16814531438972118/new_test_pred_last\n",
                  "Saving the scores in best_results/DA2_noPP_2/efficientnet_b1_fold-1_lrinit-0.0001_batchsize-8_optimizer-AdamW_maxepochs-150_DA-2_PPen-None_PPha-None_PPco-None_PPde-None_PPno-True_PPcr-None_PPre-True_drop-0.0_trainjustclassifier-False_16814403726668034/new_test_pred_best\n",
                  "Saving the scores in best_results/DA2_noPP_2/efficientnet_b1_fold-1_lrinit-0.0001_batchsize-8_optimizer-AdamW_maxepochs-150_DA-2_PPen-None_PPha-None_PPco-None_PPde-None_PPno-True_PPcr-None_PPre-True_drop-0.0_trainjustclassifier-False_16814403726668034/new_test_pred_last\n",
                  "Saving the scores in best_results/DA2_noPP_2/vgg19_fold-1_lrinit-0.0001_batchsize-8_optimizer-SGD_maxepochs-150_DA-2_PPen-None_PPha-None_PPco-None_PPde-None_PPno-True_PPcr-None_PPre-True_drop-0.0_trainjustclassifier-False_168146229686036/new_test_pred_best\n",
                  "Saving the scores in best_results/DA2_noPP_2/vgg19_fold-1_lrinit-0.0001_batchsize-8_optimizer-SGD_maxepochs-150_DA-2_PPen-None_PPha-None_PPco-None_PPde-None_PPno-True_PPcr-None_PPre-True_drop-0.0_trainjustclassifier-False_168146229686036/new_test_pred_last\n",
                  "Saving the scores in best_results/DA2_noPP_2/tf_efficientnet_b6_fold-1_lrinit-0.0001_batchsize-4_optimizer-AdamW_maxepochs-150_DA-2_PPen-None_PPha-None_PPco-None_PPde-None_PPno-True_PPcr-None_PPre-True_drop-0.0_trainjustclassifier-False_1681422850960654/new_test_pred_best\n",
                  "Saving the scores in best_results/DA2_noPP_2/tf_efficientnet_b6_fold-1_lrinit-0.0001_batchsize-4_optimizer-AdamW_maxepochs-150_DA-2_PPen-None_PPha-None_PPco-None_PPde-None_PPno-True_PPcr-None_PPre-True_drop-0.0_trainjustclassifier-False_1681422850960654/new_test_pred_last\n",
                  "Saving the scores in best_results/DA2_noPP_2/efficientnet_b3_fold-1_lrinit-0.0001_batchsize-32_optimizer-Adam_maxepochs-150_DA-2_PPen-None_PPha-None_PPco-None_PPde-None_PPno-True_PPcr-None_PPre-True_drop-0.0_trainjustclassifier-False_1681445848894776/new_test_pred_best\n",
                  "Saving the scores in best_results/DA2_noPP_2/efficientnet_b3_fold-1_lrinit-0.0001_batchsize-32_optimizer-Adam_maxepochs-150_DA-2_PPen-None_PPha-None_PPco-None_PPde-None_PPno-True_PPcr-None_PPre-True_drop-0.0_trainjustclassifier-False_1681445848894776/new_test_pred_last\n",
                  "Saving the scores in best_results/DA2_noPP_2/efficientnet_b2_fold-1_lrinit-0.0001_batchsize-8_optimizer-Adam_maxepochs-150_DA-2_PPen-None_PPha-None_PPco-None_PPde-None_PPno-True_PPcr-None_PPre-True_drop-0.0_trainjustclassifier-False_16814434111313226/new_test_pred_best\n",
                  "Saving the scores in best_results/DA2_noPP_2/efficientnet_b2_fold-1_lrinit-0.0001_batchsize-8_optimizer-Adam_maxepochs-150_DA-2_PPen-None_PPha-None_PPco-None_PPde-None_PPno-True_PPcr-None_PPre-True_drop-0.0_trainjustclassifier-False_16814434111313226/new_test_pred_last\n",
                  "Saving the scores in best_results/DA2_noPP_2/pnasnet5large_fold-1_lrinit-0.0001_batchsize-8_optimizer-Adam_maxepochs-150_DA-2_PPen-None_PPha-None_PPco-None_PPde-None_PPno-True_PPcr-None_PPre-True_drop-0.0_trainjustclassifier-False_16814675826845403/new_test_pred_best\n",
                  "Saving the scores in best_results/DA2_noPP_2/pnasnet5large_fold-1_lrinit-0.0001_batchsize-8_optimizer-Adam_maxepochs-150_DA-2_PPen-None_PPha-None_PPco-None_PPde-None_PPno-True_PPcr-None_PPre-True_drop-0.0_trainjustclassifier-False_16814675826845403/new_test_pred_last\n",
                  "Saving the scores in best_results/DA2_noPP_2/resnext101_32x8d_fold-1_lrinit-0.0001_batchsize-8_optimizer-SGD_maxepochs-150_DA-2_PPen-None_PPha-None_PPco-None_PPde-None_PPno-True_PPcr-None_PPre-True_drop-0.0_trainjustclassifier-False_1681464473871762/new_test_pred_best\n",
                  "Saving the scores in best_results/DA2_noPP_2/resnext101_32x8d_fold-1_lrinit-0.0001_batchsize-8_optimizer-SGD_maxepochs-150_DA-2_PPen-None_PPha-None_PPco-None_PPde-None_PPno-True_PPcr-None_PPre-True_drop-0.0_trainjustclassifier-False_1681464473871762/new_test_pred_last\n",
                  "Saving the scores in best_results/DA2_noPP_2/tf_efficientnet_b5_fold-1_lrinit-0.0001_batchsize-8_optimizer-AdamW_maxepochs-150_DA-2_PPen-None_PPha-None_PPco-None_PPde-None_PPno-True_PPcr-None_PPre-True_drop-0.0_trainjustclassifier-False_16814177232163067/new_test_pred_best\n",
                  "Saving the scores in best_results/DA2_noPP_2/tf_efficientnet_b5_fold-1_lrinit-0.0001_batchsize-8_optimizer-AdamW_maxepochs-150_DA-2_PPen-None_PPha-None_PPco-None_PPde-None_PPno-True_PPcr-None_PPre-True_drop-0.0_trainjustclassifier-False_16814177232163067/new_test_pred_last\n",
                  "Saving the scores in best_results/DA2_noPP_2/efficientnet_b0_fold-1_lrinit-0.0001_batchsize-8_optimizer-AdamW_maxepochs-150_DA-2_PPen-None_PPha-None_PPco-None_PPde-None_PPno-True_PPcr-None_PPre-True_drop-0.0_trainjustclassifier-False_16814374852851868/new_test_pred_best\n",
                  "Saving the scores in best_results/DA2_noPP_2/efficientnet_b0_fold-1_lrinit-0.0001_batchsize-8_optimizer-AdamW_maxepochs-150_DA-2_PPen-None_PPha-None_PPco-None_PPde-None_PPno-True_PPcr-None_PPre-True_drop-0.0_trainjustclassifier-False_16814374852851868/new_test_pred_last\n",
                  "Saving the scores in best_results/DA2_noPP_2/efficientnet_b4_fold-1_lrinit-0.0001_batchsize-16_optimizer-AdamW_maxepochs-150_DA-2_PPen-None_PPha-None_PPco-None_PPde-None_PPno-True_PPcr-None_PPre-True_drop-0.0_trainjustclassifier-False_16814492199618587/new_test_pred_best\n",
                  "Saving the scores in best_results/DA2_noPP_2/efficientnet_b4_fold-1_lrinit-0.0001_batchsize-16_optimizer-AdamW_maxepochs-150_DA-2_PPen-None_PPha-None_PPco-None_PPde-None_PPno-True_PPcr-None_PPre-True_drop-0.0_trainjustclassifier-False_16814492199618587/new_test_pred_last\n",
                  "Experimento:  DA2_CLAHE_dull_razor_shades_of_gray_cropped_images_folder\n",
                  "Saving the scores in best_results/DA2_CLAHE_dull_razor_shades_of_gray_cropped_images_folder/efficientnet_b2_fold-1_lrinit-0.0001_batchsize-8_optimizer-Adam_maxepochs-150_DA-2_PPen-CLAHE_PPha-dull_razor_PPco-shades_of_gray_PPde-None_PPno-True_PPcr-cropped_images_folder_PPre-True_drop-0.0_trainjustclassifier-False_1682928682153559/new_test_pred_best\n",
                  "Saving the scores in best_results/DA2_CLAHE_dull_razor_shades_of_gray_cropped_images_folder/efficientnet_b2_fold-1_lrinit-0.0001_batchsize-8_optimizer-Adam_maxepochs-150_DA-2_PPen-CLAHE_PPha-dull_razor_PPco-shades_of_gray_PPde-None_PPno-True_PPcr-cropped_images_folder_PPre-True_drop-0.0_trainjustclassifier-False_1682928682153559/new_test_pred_last\n",
                  "Saving the scores in best_results/DA2_CLAHE_dull_razor_shades_of_gray_cropped_images_folder/efficientnet_b1_fold-1_lrinit-0.0001_batchsize-8_optimizer-AdamW_maxepochs-150_DA-2_PPen-CLAHE_PPha-dull_razor_PPco-shades_of_gray_PPde-None_PPno-True_PPcr-cropped_images_folder_PPre-True_drop-0.0_trainjustclassifier-False_16829239133957283/new_test_pred_best\n",
                  "Saving the scores in best_results/DA2_CLAHE_dull_razor_shades_of_gray_cropped_images_folder/efficientnet_b1_fold-1_lrinit-0.0001_batchsize-8_optimizer-AdamW_maxepochs-150_DA-2_PPen-CLAHE_PPha-dull_razor_PPco-shades_of_gray_PPde-None_PPno-True_PPcr-cropped_images_folder_PPre-True_drop-0.0_trainjustclassifier-False_16829239133957283/new_test_pred_last\n",
                  "Saving the scores in best_results/DA2_CLAHE_dull_razor_shades_of_gray_cropped_images_folder/seresnext101_32x8d_fold-1_lrinit-0.0001_batchsize-16_optimizer-Adam_maxepochs-150_DA-2_PPen-CLAHE_PPha-dull_razor_PPco-shades_of_gray_PPde-None_PPno-True_PPcr-cropped_images_folder_PPre-True_drop-0.0_trainjustclassifier-False_16829590039256573/new_test_pred_best\n",
                  "Saving the scores in best_results/DA2_CLAHE_dull_razor_shades_of_gray_cropped_images_folder/seresnext101_32x8d_fold-1_lrinit-0.0001_batchsize-16_optimizer-Adam_maxepochs-150_DA-2_PPen-CLAHE_PPha-dull_razor_PPco-shades_of_gray_PPde-None_PPno-True_PPcr-cropped_images_folder_PPre-True_drop-0.0_trainjustclassifier-False_16829590039256573/new_test_pred_last\n",
                  "Saving the scores in best_results/DA2_CLAHE_dull_razor_shades_of_gray_cropped_images_folder/tf_efficientnet_b5_fold-1_lrinit-0.0001_batchsize-8_optimizer-AdamW_maxepochs-150_DA-2_PPen-CLAHE_PPha-dull_razor_PPco-shades_of_gray_PPde-None_PPno-True_PPcr-cropped_images_folder_PPre-True_drop-0.0_trainjustclassifier-False_16828093671378386/new_test_pred_best\n",
                  "Saving the scores in best_results/DA2_CLAHE_dull_razor_shades_of_gray_cropped_images_folder/tf_efficientnet_b5_fold-1_lrinit-0.0001_batchsize-8_optimizer-AdamW_maxepochs-150_DA-2_PPen-CLAHE_PPha-dull_razor_PPco-shades_of_gray_PPde-None_PPno-True_PPcr-cropped_images_folder_PPre-True_drop-0.0_trainjustclassifier-False_16828093671378386/new_test_pred_last\n",
                  "Saving the scores in best_results/DA2_CLAHE_dull_razor_shades_of_gray_cropped_images_folder/vgg19_fold-1_lrinit-0.0001_batchsize-8_optimizer-SGD_maxepochs-150_DA-2_PPen-CLAHE_PPha-dull_razor_PPco-shades_of_gray_PPde-None_PPno-True_PPcr-cropped_images_folder_PPre-True_drop-0.0_trainjustclassifier-False_16829641128029468/new_test_pred_best\n",
                  "Saving the scores in best_results/DA2_CLAHE_dull_razor_shades_of_gray_cropped_images_folder/vgg19_fold-1_lrinit-0.0001_batchsize-8_optimizer-SGD_maxepochs-150_DA-2_PPen-CLAHE_PPha-dull_razor_PPco-shades_of_gray_PPde-None_PPno-True_PPcr-cropped_images_folder_PPre-True_drop-0.0_trainjustclassifier-False_16829641128029468/new_test_pred_last\n",
                  "Saving the scores in best_results/DA2_CLAHE_dull_razor_shades_of_gray_cropped_images_folder/pnasnet5large_fold-1_lrinit-0.0001_batchsize-8_optimizer-Adam_maxepochs-150_DA-2_PPen-CLAHE_PPha-dull_razor_PPco-shades_of_gray_PPde-None_PPno-True_PPcr-cropped_images_folder_PPre-True_drop-0.0_trainjustclassifier-False_16829716501267118/new_test_pred_best\n",
                  "Saving the scores in best_results/DA2_CLAHE_dull_razor_shades_of_gray_cropped_images_folder/pnasnet5large_fold-1_lrinit-0.0001_batchsize-8_optimizer-Adam_maxepochs-150_DA-2_PPen-CLAHE_PPha-dull_razor_PPco-shades_of_gray_PPde-None_PPno-True_PPcr-cropped_images_folder_PPre-True_drop-0.0_trainjustclassifier-False_16829716501267118/new_test_pred_last\n",
                  "Saving the scores in best_results/DA2_CLAHE_dull_razor_shades_of_gray_cropped_images_folder/densenet121_fold-1_lrinit-0.0001_batchsize-32_optimizer-Adam_maxepochs-150_DA-2_PPen-CLAHE_PPha-dull_razor_PPco-shades_of_gray_PPde-None_PPno-True_PPcr-cropped_images_folder_PPre-True_drop-0.0_trainjustclassifier-False_16829153178271675/new_test_pred_best\n",
                  "Saving the scores in best_results/DA2_CLAHE_dull_razor_shades_of_gray_cropped_images_folder/densenet121_fold-1_lrinit-0.0001_batchsize-32_optimizer-Adam_maxepochs-150_DA-2_PPen-CLAHE_PPha-dull_razor_PPco-shades_of_gray_PPde-None_PPno-True_PPcr-cropped_images_folder_PPre-True_drop-0.0_trainjustclassifier-False_16829153178271675/new_test_pred_last\n",
                  "Saving the scores in best_results/DA2_CLAHE_dull_razor_shades_of_gray_cropped_images_folder/efficientnet_b0_fold-1_lrinit-0.0001_batchsize-8_optimizer-AdamW_maxepochs-150_DA-2_PPen-CLAHE_PPha-dull_razor_PPco-shades_of_gray_PPde-None_PPno-True_PPcr-cropped_images_folder_PPre-True_drop-0.0_trainjustclassifier-False_16829202563316476/new_test_pred_best\n",
                  "Saving the scores in best_results/DA2_CLAHE_dull_razor_shades_of_gray_cropped_images_folder/efficientnet_b0_fold-1_lrinit-0.0001_batchsize-8_optimizer-AdamW_maxepochs-150_DA-2_PPen-CLAHE_PPha-dull_razor_PPco-shades_of_gray_PPde-None_PPno-True_PPcr-cropped_images_folder_PPre-True_drop-0.0_trainjustclassifier-False_16829202563316476/new_test_pred_last\n",
                  "Saving the scores in best_results/DA2_CLAHE_dull_razor_shades_of_gray_cropped_images_folder/resnext101_32x8d_fold-1_lrinit-0.0001_batchsize-8_optimizer-SGD_maxepochs-150_DA-2_PPen-CLAHE_PPha-dull_razor_PPco-shades_of_gray_PPde-None_PPno-True_PPcr-cropped_images_folder_PPre-True_drop-0.0_trainjustclassifier-False_1682967850007863/new_test_pred_best\n",
                  "Saving the scores in best_results/DA2_CLAHE_dull_razor_shades_of_gray_cropped_images_folder/resnext101_32x8d_fold-1_lrinit-0.0001_batchsize-8_optimizer-SGD_maxepochs-150_DA-2_PPen-CLAHE_PPha-dull_razor_PPco-shades_of_gray_PPde-None_PPno-True_PPcr-cropped_images_folder_PPre-True_drop-0.0_trainjustclassifier-False_1682967850007863/new_test_pred_last\n",
                  "Saving the scores in best_results/DA2_CLAHE_dull_razor_shades_of_gray_cropped_images_folder/tf_efficientnet_b6_fold-1_lrinit-0.0001_batchsize-4_optimizer-AdamW_maxepochs-150_DA-2_PPen-CLAHE_PPha-dull_razor_PPco-shades_of_gray_PPde-None_PPno-True_PPcr-cropped_images_folder_PPre-True_drop-0.0_trainjustclassifier-False_1682839187417709/new_test_pred_best\n",
                  "Saving the scores in best_results/DA2_CLAHE_dull_razor_shades_of_gray_cropped_images_folder/tf_efficientnet_b6_fold-1_lrinit-0.0001_batchsize-4_optimizer-AdamW_maxepochs-150_DA-2_PPen-CLAHE_PPha-dull_razor_PPco-shades_of_gray_PPde-None_PPno-True_PPcr-cropped_images_folder_PPre-True_drop-0.0_trainjustclassifier-False_1682839187417709/new_test_pred_last\n",
                  "Saving the scores in best_results/DA2_CLAHE_dull_razor_shades_of_gray_cropped_images_folder/resnest101e_fold-1_lrinit-0.0001_batchsize-8_optimizer-AdamW_maxepochs-150_DA-2_PPen-CLAHE_PPha-dull_razor_PPco-shades_of_gray_PPde-None_PPno-True_PPcr-cropped_images_folder_PPre-True_drop-0.0_trainjustclassifier-False_16829536320470462/new_test_pred_best\n",
                  "Saving the scores in best_results/DA2_CLAHE_dull_razor_shades_of_gray_cropped_images_folder/resnest101e_fold-1_lrinit-0.0001_batchsize-8_optimizer-AdamW_maxepochs-150_DA-2_PPen-CLAHE_PPha-dull_razor_PPco-shades_of_gray_PPde-None_PPno-True_PPcr-cropped_images_folder_PPre-True_drop-0.0_trainjustclassifier-False_16829536320470462/new_test_pred_last\n",
                  "Saving the scores in best_results/DA2_CLAHE_dull_razor_shades_of_gray_cropped_images_folder/efficientnet_b3_fold-1_lrinit-0.0001_batchsize-32_optimizer-Adam_maxepochs-150_DA-2_PPen-CLAHE_PPha-dull_razor_PPco-shades_of_gray_PPde-None_PPno-True_PPcr-cropped_images_folder_PPre-True_drop-0.0_trainjustclassifier-False_16829346262314663/new_test_pred_best\n",
                  "Saving the scores in best_results/DA2_CLAHE_dull_razor_shades_of_gray_cropped_images_folder/efficientnet_b3_fold-1_lrinit-0.0001_batchsize-32_optimizer-Adam_maxepochs-150_DA-2_PPen-CLAHE_PPha-dull_razor_PPco-shades_of_gray_PPde-None_PPno-True_PPcr-cropped_images_folder_PPre-True_drop-0.0_trainjustclassifier-False_16829346262314663/new_test_pred_last\n",
                  "Saving the scores in best_results/DA2_CLAHE_dull_razor_shades_of_gray_cropped_images_folder/efficientnet_b4_fold-1_lrinit-0.0001_batchsize-16_optimizer-AdamW_maxepochs-150_DA-2_PPen-CLAHE_PPha-dull_razor_PPco-shades_of_gray_PPde-None_PPno-True_PPcr-cropped_images_folder_PPre-True_drop-0.0_trainjustclassifier-False_16829435149716082/new_test_pred_best\n",
                  "Saving the scores in best_results/DA2_CLAHE_dull_razor_shades_of_gray_cropped_images_folder/efficientnet_b4_fold-1_lrinit-0.0001_batchsize-16_optimizer-AdamW_maxepochs-150_DA-2_PPen-CLAHE_PPha-dull_razor_PPco-shades_of_gray_PPde-None_PPno-True_PPcr-cropped_images_folder_PPre-True_drop-0.0_trainjustclassifier-False_16829435149716082/new_test_pred_last\n",
                  "Experimento:  DA2_cropped_images_folder_150_epochs_lr_init_0001\n",
                  "Saving the scores in best_results/DA2_cropped_images_folder_150_epochs_lr_init_0001/efficientnet_b2_fold-1_lrinit-0.0001_batchsize-8_optimizer-Adam_maxepochs-150_DA-2_PPen-None_PPha-None_PPco-None_PPde-None_PPno-True_PPcr-cropped_images_folder_PPre-True_drop-0.0_trainjustclassifier-False_16810087423860724/new_test_pred_best\n",
                  "Saving the scores in best_results/DA2_cropped_images_folder_150_epochs_lr_init_0001/efficientnet_b2_fold-1_lrinit-0.0001_batchsize-8_optimizer-Adam_maxepochs-150_DA-2_PPen-None_PPha-None_PPco-None_PPde-None_PPno-True_PPcr-cropped_images_folder_PPre-True_drop-0.0_trainjustclassifier-False_16810087423860724/new_test_pred_last\n",
                  "Saving the scores in best_results/DA2_cropped_images_folder_150_epochs_lr_init_0001/vgg19_fold-1_lrinit-0.0001_batchsize-8_optimizer-SGD_maxepochs-150_DA-2_PPen-None_PPha-None_PPco-None_PPde-None_PPno-True_PPcr-cropped_images_folder_PPre-True_drop-0.0_trainjustclassifier-False_16810297184616091/new_test_pred_best\n",
                  "Saving the scores in best_results/DA2_cropped_images_folder_150_epochs_lr_init_0001/vgg19_fold-1_lrinit-0.0001_batchsize-8_optimizer-SGD_maxepochs-150_DA-2_PPen-None_PPha-None_PPco-None_PPde-None_PPno-True_PPcr-cropped_images_folder_PPre-True_drop-0.0_trainjustclassifier-False_16810297184616091/new_test_pred_last\n",
                  "Saving the scores in best_results/DA2_cropped_images_folder_150_epochs_lr_init_0001/tf_efficientnet_b6_fold-1_lrinit-0.0001_batchsize-4_optimizer-AdamW_maxepochs-150_DA-2_PPen-None_PPha-None_PPco-None_PPde-None_PPno-True_PPcr-cropped_images_folder_PPre-True_drop-0.0_trainjustclassifier-False_16809864483458076/new_test_pred_best\n",
                  "Saving the scores in best_results/DA2_cropped_images_folder_150_epochs_lr_init_0001/tf_efficientnet_b6_fold-1_lrinit-0.0001_batchsize-4_optimizer-AdamW_maxepochs-150_DA-2_PPen-None_PPha-None_PPco-None_PPde-None_PPno-True_PPcr-cropped_images_folder_PPre-True_drop-0.0_trainjustclassifier-False_16809864483458076/new_test_pred_last\n",
                  "Saving the scores in best_results/DA2_cropped_images_folder_150_epochs_lr_init_0001/seresnext101_32x8d_fold-1_lrinit-0.0001_batchsize-16_optimizer-Adam_maxepochs-150_DA-2_PPen-None_PPha-None_PPco-None_PPde-None_PPno-True_PPcr-cropped_images_folder_PPre-True_drop-0.0_trainjustclassifier-False_16810261204698606/new_test_pred_best\n",
                  "Saving the scores in best_results/DA2_cropped_images_folder_150_epochs_lr_init_0001/seresnext101_32x8d_fold-1_lrinit-0.0001_batchsize-16_optimizer-Adam_maxepochs-150_DA-2_PPen-None_PPha-None_PPco-None_PPde-None_PPno-True_PPcr-cropped_images_folder_PPre-True_drop-0.0_trainjustclassifier-False_16810261204698606/new_test_pred_last\n",
                  "Saving the scores in best_results/DA2_cropped_images_folder_150_epochs_lr_init_0001/tf_efficientnet_b5_fold-1_lrinit-0.0001_batchsize-8_optimizer-AdamW_maxepochs-150_DA-2_PPen-None_PPha-None_PPco-None_PPde-None_PPno-True_PPcr-cropped_images_folder_PPre-True_drop-0.0_trainjustclassifier-False_1680980641509845/new_test_pred_best\n",
                  "Saving the scores in best_results/DA2_cropped_images_folder_150_epochs_lr_init_0001/tf_efficientnet_b5_fold-1_lrinit-0.0001_batchsize-8_optimizer-AdamW_maxepochs-150_DA-2_PPen-None_PPha-None_PPco-None_PPde-None_PPno-True_PPcr-cropped_images_folder_PPre-True_drop-0.0_trainjustclassifier-False_1680980641509845/new_test_pred_last\n",
                  "Saving the scores in best_results/DA2_cropped_images_folder_150_epochs_lr_init_0001/efficientnet_b0_fold-1_lrinit-0.0001_batchsize-8_optimizer-AdamW_maxepochs-150_DA-2_PPen-None_PPha-None_PPco-None_PPde-None_PPno-True_PPcr-cropped_images_folder_PPre-True_drop-0.0_trainjustclassifier-False_1681000912877577/new_test_pred_best\n",
                  "Saving the scores in best_results/DA2_cropped_images_folder_150_epochs_lr_init_0001/efficientnet_b0_fold-1_lrinit-0.0001_batchsize-8_optimizer-AdamW_maxepochs-150_DA-2_PPen-None_PPha-None_PPco-None_PPde-None_PPno-True_PPcr-cropped_images_folder_PPre-True_drop-0.0_trainjustclassifier-False_1681000912877577/new_test_pred_last\n",
                  "Saving the scores in best_results/DA2_cropped_images_folder_150_epochs_lr_init_0001/efficientnet_b3_fold-1_lrinit-0.0001_batchsize-32_optimizer-Adam_maxepochs-150_DA-2_PPen-None_PPha-None_PPco-None_PPde-None_PPno-True_PPcr-cropped_images_folder_PPre-True_drop-0.0_trainjustclassifier-False_16810131800766995/new_test_pred_best\n",
                  "Saving the scores in best_results/DA2_cropped_images_folder_150_epochs_lr_init_0001/efficientnet_b3_fold-1_lrinit-0.0001_batchsize-32_optimizer-Adam_maxepochs-150_DA-2_PPen-None_PPha-None_PPco-None_PPde-None_PPno-True_PPcr-cropped_images_folder_PPre-True_drop-0.0_trainjustclassifier-False_16810131800766995/new_test_pred_last\n",
                  "Saving the scores in best_results/DA2_cropped_images_folder_150_epochs_lr_init_0001/pnasnet5large_fold-1_lrinit-0.0001_batchsize-8_optimizer-Adam_maxepochs-150_DA-2_PPen-None_PPha-None_PPco-None_PPde-None_PPno-True_PPcr-cropped_images_folder_PPre-True_drop-0.0_trainjustclassifier-False_16810379559582262/new_test_pred_best\n",
                  "Saving the scores in best_results/DA2_cropped_images_folder_150_epochs_lr_init_0001/pnasnet5large_fold-1_lrinit-0.0001_batchsize-8_optimizer-Adam_maxepochs-150_DA-2_PPen-None_PPha-None_PPco-None_PPde-None_PPno-True_PPcr-cropped_images_folder_PPre-True_drop-0.0_trainjustclassifier-False_16810379559582262/new_test_pred_last\n",
                  "Saving the scores in best_results/DA2_cropped_images_folder_150_epochs_lr_init_0001/resnext101_32x8d_fold-1_lrinit-0.0001_batchsize-8_optimizer-SGD_maxepochs-150_DA-2_PPen-None_PPha-None_PPco-None_PPde-None_PPno-True_PPcr-cropped_images_folder_PPre-True_drop-0.0_trainjustclassifier-False_16810334656661913/new_test_pred_best\n",
                  "Saving the scores in best_results/DA2_cropped_images_folder_150_epochs_lr_init_0001/resnext101_32x8d_fold-1_lrinit-0.0001_batchsize-8_optimizer-SGD_maxepochs-150_DA-2_PPen-None_PPha-None_PPco-None_PPde-None_PPno-True_PPcr-cropped_images_folder_PPre-True_drop-0.0_trainjustclassifier-False_16810334656661913/new_test_pred_last\n",
                  "Saving the scores in best_results/DA2_cropped_images_folder_150_epochs_lr_init_0001/densenet121_fold-1_lrinit-0.0001_batchsize-32_optimizer-Adam_maxepochs-150_DA-2_PPen-None_PPha-None_PPco-None_PPde-None_PPno-True_PPcr-cropped_images_folder_PPre-True_drop-0.0_trainjustclassifier-False_1680996651329713/new_test_pred_best\n",
                  "Saving the scores in best_results/DA2_cropped_images_folder_150_epochs_lr_init_0001/densenet121_fold-1_lrinit-0.0001_batchsize-32_optimizer-Adam_maxepochs-150_DA-2_PPen-None_PPha-None_PPco-None_PPde-None_PPno-True_PPcr-cropped_images_folder_PPre-True_drop-0.0_trainjustclassifier-False_1680996651329713/new_test_pred_last\n",
                  "Saving the scores in best_results/DA2_cropped_images_folder_150_epochs_lr_init_0001/efficientnet_b1_fold-1_lrinit-0.0001_batchsize-8_optimizer-AdamW_maxepochs-150_DA-2_PPen-None_PPha-None_PPco-None_PPde-None_PPno-True_PPcr-cropped_images_folder_PPre-True_drop-0.0_trainjustclassifier-False_16810043473864698/new_test_pred_best\n",
                  "Saving the scores in best_results/DA2_cropped_images_folder_150_epochs_lr_init_0001/efficientnet_b1_fold-1_lrinit-0.0001_batchsize-8_optimizer-AdamW_maxepochs-150_DA-2_PPen-None_PPha-None_PPco-None_PPde-None_PPno-True_PPcr-cropped_images_folder_PPre-True_drop-0.0_trainjustclassifier-False_16810043473864698/new_test_pred_last\n",
                  "Saving the scores in best_results/DA2_cropped_images_folder_150_epochs_lr_init_0001/resnest101e_fold-1_lrinit-0.0001_batchsize-8_optimizer-AdamW_maxepochs-150_DA-2_PPen-None_PPha-None_PPco-None_PPde-None_PPno-True_PPcr-cropped_images_folder_PPre-True_drop-0.0_trainjustclassifier-False_16810217410545385/new_test_pred_best\n",
                  "Saving the scores in best_results/DA2_cropped_images_folder_150_epochs_lr_init_0001/resnest101e_fold-1_lrinit-0.0001_batchsize-8_optimizer-AdamW_maxepochs-150_DA-2_PPen-None_PPha-None_PPco-None_PPde-None_PPno-True_PPcr-cropped_images_folder_PPre-True_drop-0.0_trainjustclassifier-False_16810217410545385/new_test_pred_last\n",
                  "Saving the scores in best_results/DA2_cropped_images_folder_150_epochs_lr_init_0001/efficientnet_b4_fold-1_lrinit-0.0001_batchsize-16_optimizer-AdamW_maxepochs-150_DA-2_PPen-None_PPha-None_PPco-None_PPde-None_PPno-True_PPcr-cropped_images_folder_PPre-True_drop-0.0_trainjustclassifier-False_16810173028538978/new_test_pred_best\n",
                  "Saving the scores in best_results/DA2_cropped_images_folder_150_epochs_lr_init_0001/efficientnet_b4_fold-1_lrinit-0.0001_batchsize-16_optimizer-AdamW_maxepochs-150_DA-2_PPen-None_PPha-None_PPco-None_PPde-None_PPno-True_PPcr-cropped_images_folder_PPre-True_drop-0.0_trainjustclassifier-False_16810173028538978/new_test_pred_last\n",
                  "Experimento:  non_local_means_cropped_images_folder\n",
                  "Experimento:  noDA_dull_razor_shades_of_gray_cropped_images_folder\n",
                  "Saving the scores in best_results/noDA_dull_razor_shades_of_gray_cropped_images_folder/vgg19_fold-1_lrinit-0.001_batchsize-8_optimizer-SGD_maxepochs-50_DA-None_PPen-None_PPha-dull_razor_PPco-shades_of_gray_PPde-None_PPno-True_PPcr-cropped_images_folder_PPre-True_drop-0.0_trainjustclassifier-False_16825349449442933/new_test_pred_best\n",
                  "Saving the scores in best_results/noDA_dull_razor_shades_of_gray_cropped_images_folder/vgg19_fold-1_lrinit-0.001_batchsize-8_optimizer-SGD_maxepochs-50_DA-None_PPen-None_PPha-dull_razor_PPco-shades_of_gray_PPde-None_PPno-True_PPcr-cropped_images_folder_PPre-True_drop-0.0_trainjustclassifier-False_16825349449442933/new_test_pred_last\n",
                  "Saving the scores in best_results/noDA_dull_razor_shades_of_gray_cropped_images_folder/efficientnet_b3_fold-1_lrinit-0.001_batchsize-32_optimizer-Adam_maxepochs-50_DA-None_PPen-None_PPha-dull_razor_PPco-shades_of_gray_PPde-None_PPno-True_PPcr-cropped_images_folder_PPre-True_drop-0.0_trainjustclassifier-False_1682526417761025/new_test_pred_best\n",
                  "Saving the scores in best_results/noDA_dull_razor_shades_of_gray_cropped_images_folder/efficientnet_b3_fold-1_lrinit-0.001_batchsize-32_optimizer-Adam_maxepochs-50_DA-None_PPen-None_PPha-dull_razor_PPco-shades_of_gray_PPde-None_PPno-True_PPcr-cropped_images_folder_PPre-True_drop-0.0_trainjustclassifier-False_1682526417761025/new_test_pred_last\n",
                  "Saving the scores in best_results/noDA_dull_razor_shades_of_gray_cropped_images_folder/tf_efficientnet_b6_fold-1_lrinit-0.0001_batchsize-4_optimizer-AdamW_maxepochs-50_DA-None_PPen-None_PPha-dull_razor_PPco-shades_of_gray_PPde-None_PPno-True_PPcr-cropped_images_folder_PPre-True_drop-0.0_trainjustclassifier-False_16825152851770678/new_test_pred_best\n",
                  "Saving the scores in best_results/noDA_dull_razor_shades_of_gray_cropped_images_folder/tf_efficientnet_b6_fold-1_lrinit-0.0001_batchsize-4_optimizer-AdamW_maxepochs-50_DA-None_PPen-None_PPha-dull_razor_PPco-shades_of_gray_PPde-None_PPno-True_PPcr-cropped_images_folder_PPre-True_drop-0.0_trainjustclassifier-False_16825152851770678/new_test_pred_last\n",
                  "Saving the scores in best_results/noDA_dull_razor_shades_of_gray_cropped_images_folder/resnext101_32x8d_fold-1_lrinit-0.001_batchsize-8_optimizer-SGD_maxepochs-50_DA-None_PPen-None_PPha-dull_razor_PPco-shades_of_gray_PPde-None_PPno-True_PPcr-cropped_images_folder_PPre-True_drop-0.0_trainjustclassifier-False_1682535898045892/new_test_pred_best\n",
                  "Saving the scores in best_results/noDA_dull_razor_shades_of_gray_cropped_images_folder/resnext101_32x8d_fold-1_lrinit-0.001_batchsize-8_optimizer-SGD_maxepochs-50_DA-None_PPen-None_PPha-dull_razor_PPco-shades_of_gray_PPde-None_PPno-True_PPcr-cropped_images_folder_PPre-True_drop-0.0_trainjustclassifier-False_1682535898045892/new_test_pred_last\n",
                  "Saving the scores in best_results/noDA_dull_razor_shades_of_gray_cropped_images_folder/seresnext101_32x8d_fold-1_lrinit-0.0001_batchsize-16_optimizer-Adam_maxepochs-50_DA-None_PPen-None_PPha-dull_razor_PPco-shades_of_gray_PPde-None_PPno-True_PPcr-cropped_images_folder_PPre-True_drop-0.0_trainjustclassifier-False_16825329943675957/new_test_pred_best\n",
                  "Saving the scores in best_results/noDA_dull_razor_shades_of_gray_cropped_images_folder/seresnext101_32x8d_fold-1_lrinit-0.0001_batchsize-16_optimizer-Adam_maxepochs-50_DA-None_PPen-None_PPha-dull_razor_PPco-shades_of_gray_PPde-None_PPno-True_PPcr-cropped_images_folder_PPre-True_drop-0.0_trainjustclassifier-False_16825329943675957/new_test_pred_last\n",
                  "Saving the scores in best_results/noDA_dull_razor_shades_of_gray_cropped_images_folder/resnest101e_fold-1_lrinit-0.0001_batchsize-8_optimizer-AdamW_maxepochs-50_DA-None_PPen-None_PPha-dull_razor_PPco-shades_of_gray_PPde-None_PPno-True_PPcr-cropped_images_folder_PPre-True_drop-0.0_trainjustclassifier-False_16825308629700255/new_test_pred_best\n",
                  "Saving the scores in best_results/noDA_dull_razor_shades_of_gray_cropped_images_folder/resnest101e_fold-1_lrinit-0.0001_batchsize-8_optimizer-AdamW_maxepochs-50_DA-None_PPen-None_PPha-dull_razor_PPco-shades_of_gray_PPde-None_PPno-True_PPcr-cropped_images_folder_PPre-True_drop-0.0_trainjustclassifier-False_16825308629700255/new_test_pred_last\n",
                  "Saving the scores in best_results/noDA_dull_razor_shades_of_gray_cropped_images_folder/pnasnet5large_fold-1_lrinit-0.0001_batchsize-8_optimizer-Adam_maxepochs-50_DA-None_PPen-None_PPha-dull_razor_PPco-shades_of_gray_PPde-None_PPno-True_PPcr-cropped_images_folder_PPre-True_drop-0.0_trainjustclassifier-False_16825375743950531/new_test_pred_best\n",
                  "Saving the scores in best_results/noDA_dull_razor_shades_of_gray_cropped_images_folder/pnasnet5large_fold-1_lrinit-0.0001_batchsize-8_optimizer-Adam_maxepochs-50_DA-None_PPen-None_PPha-dull_razor_PPco-shades_of_gray_PPde-None_PPno-True_PPcr-cropped_images_folder_PPre-True_drop-0.0_trainjustclassifier-False_16825375743950531/new_test_pred_last\n",
                  "Saving the scores in best_results/noDA_dull_razor_shades_of_gray_cropped_images_folder/densenet121_fold-1_lrinit-0.0001_batchsize-32_optimizer-Adam_maxepochs-50_DA-None_PPen-None_PPha-dull_razor_PPco-shades_of_gray_PPde-None_PPno-True_PPcr-cropped_images_folder_PPre-True_drop-0.0_trainjustclassifier-False_16825225851621077/new_test_pred_best\n",
                  "Saving the scores in best_results/noDA_dull_razor_shades_of_gray_cropped_images_folder/densenet121_fold-1_lrinit-0.0001_batchsize-32_optimizer-Adam_maxepochs-50_DA-None_PPen-None_PPha-dull_razor_PPco-shades_of_gray_PPde-None_PPno-True_PPcr-cropped_images_folder_PPre-True_drop-0.0_trainjustclassifier-False_16825225851621077/new_test_pred_last\n",
                  "Saving the scores in best_results/noDA_dull_razor_shades_of_gray_cropped_images_folder/efficientnet_b4_fold-1_lrinit-0.001_batchsize-16_optimizer-AdamW_maxepochs-50_DA-None_PPen-None_PPha-dull_razor_PPco-shades_of_gray_PPde-None_PPno-True_PPcr-cropped_images_folder_PPre-True_drop-0.0_trainjustclassifier-False_16825282385916965/new_test_pred_best\n",
                  "Saving the scores in best_results/noDA_dull_razor_shades_of_gray_cropped_images_folder/efficientnet_b4_fold-1_lrinit-0.001_batchsize-16_optimizer-AdamW_maxepochs-50_DA-None_PPen-None_PPha-dull_razor_PPco-shades_of_gray_PPde-None_PPno-True_PPcr-cropped_images_folder_PPre-True_drop-0.0_trainjustclassifier-False_16825282385916965/new_test_pred_last\n",
                  "Saving the scores in best_results/noDA_dull_razor_shades_of_gray_cropped_images_folder/efficientnet_b1_fold-1_lrinit-0.001_batchsize-8_optimizer-AdamW_maxepochs-50_DA-None_PPen-None_PPha-dull_razor_PPco-shades_of_gray_PPde-None_PPno-True_PPcr-cropped_images_folder_PPre-True_drop-0.0_trainjustclassifier-False_16825243129059732/new_test_pred_best\n",
                  "Saving the scores in best_results/noDA_dull_razor_shades_of_gray_cropped_images_folder/efficientnet_b1_fold-1_lrinit-0.001_batchsize-8_optimizer-AdamW_maxepochs-50_DA-None_PPen-None_PPha-dull_razor_PPco-shades_of_gray_PPde-None_PPno-True_PPcr-cropped_images_folder_PPre-True_drop-0.0_trainjustclassifier-False_16825243129059732/new_test_pred_last\n",
                  "Saving the scores in best_results/noDA_dull_razor_shades_of_gray_cropped_images_folder/tf_efficientnet_b5_fold-1_lrinit-0.0001_batchsize-8_optimizer-AdamW_maxepochs-50_DA-None_PPen-None_PPha-dull_razor_PPco-shades_of_gray_PPde-None_PPno-True_PPcr-cropped_images_folder_PPre-True_drop-0.0_trainjustclassifier-False_16825105857389314/new_test_pred_best\n",
                  "Saving the scores in best_results/noDA_dull_razor_shades_of_gray_cropped_images_folder/tf_efficientnet_b5_fold-1_lrinit-0.0001_batchsize-8_optimizer-AdamW_maxepochs-50_DA-None_PPen-None_PPha-dull_razor_PPco-shades_of_gray_PPde-None_PPno-True_PPcr-cropped_images_folder_PPre-True_drop-0.0_trainjustclassifier-False_16825105857389314/new_test_pred_last\n",
                  "Saving the scores in best_results/noDA_dull_razor_shades_of_gray_cropped_images_folder/efficientnet_b2_fold-1_lrinit-0.001_batchsize-8_optimizer-Adam_maxepochs-50_DA-None_PPen-None_PPha-dull_razor_PPco-shades_of_gray_PPde-None_PPno-True_PPcr-cropped_images_folder_PPre-True_drop-0.0_trainjustclassifier-False_16825254737772143/new_test_pred_best\n",
                  "Saving the scores in best_results/noDA_dull_razor_shades_of_gray_cropped_images_folder/efficientnet_b2_fold-1_lrinit-0.001_batchsize-8_optimizer-Adam_maxepochs-50_DA-None_PPen-None_PPha-dull_razor_PPco-shades_of_gray_PPde-None_PPno-True_PPcr-cropped_images_folder_PPre-True_drop-0.0_trainjustclassifier-False_16825254737772143/new_test_pred_last\n",
                  "Saving the scores in best_results/noDA_dull_razor_shades_of_gray_cropped_images_folder/efficientnet_b0_fold-1_lrinit-0.001_batchsize-8_optimizer-AdamW_maxepochs-50_DA-None_PPen-None_PPha-dull_razor_PPco-shades_of_gray_PPde-None_PPno-True_PPcr-cropped_images_folder_PPre-True_drop-0.0_trainjustclassifier-False_16825234513597636/new_test_pred_best\n",
                  "Saving the scores in best_results/noDA_dull_razor_shades_of_gray_cropped_images_folder/efficientnet_b0_fold-1_lrinit-0.001_batchsize-8_optimizer-AdamW_maxepochs-50_DA-None_PPen-None_PPha-dull_razor_PPco-shades_of_gray_PPde-None_PPno-True_PPcr-cropped_images_folder_PPre-True_drop-0.0_trainjustclassifier-False_16825234513597636/new_test_pred_last\n",
                  "Experimento:  DA1_PPcropped\n",
                  "Experimento:  gaussian_filter_2\n",
                  "Experimento:  CLAHE_cropped_images_folder\n",
                  "Experimento:  noDA_cropped_images_folder_moredata\n",
                  "Saving the scores in best_results/noDA_cropped_images_folder_moredata/vgg19_fold-1_lrinit-0.0001_batchsize-8_optimizer-SGD_maxepochs-150_DA-None_PPen-None_PPha-None_PPco-None_PPde-None_PPno-True_PPcr-cropped_images_folder_PPre-True_drop-0.0_trainjustclassifier-False_1681913308051825/new_test_pred_best\n",
                  "Saving the scores in best_results/noDA_cropped_images_folder_moredata/vgg19_fold-1_lrinit-0.0001_batchsize-8_optimizer-SGD_maxepochs-150_DA-None_PPen-None_PPha-None_PPco-None_PPde-None_PPno-True_PPcr-cropped_images_folder_PPre-True_drop-0.0_trainjustclassifier-False_1681913308051825/new_test_pred_last\n",
                  "Saving the scores in best_results/noDA_cropped_images_folder_moredata/pnasnet5large_fold-1_lrinit-0.0001_batchsize-8_optimizer-Adam_maxepochs-150_DA-None_PPen-None_PPha-None_PPco-None_PPde-None_PPno-True_PPcr-cropped_images_folder_PPre-True_drop-0.0_trainjustclassifier-False_16819202209439132/new_test_pred_best\n",
                  "Saving the scores in best_results/noDA_cropped_images_folder_moredata/pnasnet5large_fold-1_lrinit-0.0001_batchsize-8_optimizer-Adam_maxepochs-150_DA-None_PPen-None_PPha-None_PPco-None_PPde-None_PPno-True_PPcr-cropped_images_folder_PPre-True_drop-0.0_trainjustclassifier-False_16819202209439132/new_test_pred_last\n",
                  "Saving the scores in best_results/noDA_cropped_images_folder_moredata/tf_efficientnet_b5_fold-1_lrinit-0.0001_batchsize-8_optimizer-AdamW_maxepochs-150_DA-None_PPen-None_PPha-None_PPco-None_PPde-None_PPno-True_PPcr-cropped_images_folder_PPre-True_drop-0.0_trainjustclassifier-False_16818478376401415/new_test_pred_best\n",
                  "Saving the scores in best_results/noDA_cropped_images_folder_moredata/tf_efficientnet_b5_fold-1_lrinit-0.0001_batchsize-8_optimizer-AdamW_maxepochs-150_DA-None_PPen-None_PPha-None_PPco-None_PPde-None_PPno-True_PPcr-cropped_images_folder_PPre-True_drop-0.0_trainjustclassifier-False_16818478376401415/new_test_pred_last\n",
                  "Saving the scores in best_results/noDA_cropped_images_folder_moredata/efficientnet_b4_fold-1_lrinit-0.0001_batchsize-16_optimizer-AdamW_maxepochs-150_DA-None_PPen-None_PPha-None_PPco-None_PPde-None_PPno-True_PPcr-cropped_images_folder_PPre-True_drop-0.0_trainjustclassifier-False_16818977118134513/new_test_pred_best\n",
                  "Saving the scores in best_results/noDA_cropped_images_folder_moredata/efficientnet_b4_fold-1_lrinit-0.0001_batchsize-16_optimizer-AdamW_maxepochs-150_DA-None_PPen-None_PPha-None_PPco-None_PPde-None_PPno-True_PPcr-cropped_images_folder_PPre-True_drop-0.0_trainjustclassifier-False_16818977118134513/new_test_pred_last\n",
                  "Saving the scores in best_results/noDA_cropped_images_folder_moredata/efficientnet_b3_fold-1_lrinit-0.0001_batchsize-32_optimizer-Adam_maxepochs-150_DA-None_PPen-None_PPha-None_PPco-None_PPde-None_PPno-True_PPcr-cropped_images_folder_PPre-True_drop-0.0_trainjustclassifier-False_16818942727766182/new_test_pred_best\n",
                  "Saving the scores in best_results/noDA_cropped_images_folder_moredata/efficientnet_b3_fold-1_lrinit-0.0001_batchsize-32_optimizer-Adam_maxepochs-150_DA-None_PPen-None_PPha-None_PPco-None_PPde-None_PPno-True_PPcr-cropped_images_folder_PPre-True_drop-0.0_trainjustclassifier-False_16818942727766182/new_test_pred_last\n",
                  "Saving the scores in best_results/noDA_cropped_images_folder_moredata/densenet121_fold-1_lrinit-0.0001_batchsize-32_optimizer-Adam_maxepochs-150_DA-None_PPen-None_PPha-None_PPco-None_PPde-None_PPno-True_PPcr-cropped_images_folder_PPre-True_drop-0.0_trainjustclassifier-False_16818835483984635/new_test_pred_best\n",
                  "Saving the scores in best_results/noDA_cropped_images_folder_moredata/densenet121_fold-1_lrinit-0.0001_batchsize-32_optimizer-Adam_maxepochs-150_DA-None_PPen-None_PPha-None_PPco-None_PPde-None_PPno-True_PPcr-cropped_images_folder_PPre-True_drop-0.0_trainjustclassifier-False_16818835483984635/new_test_pred_last\n",
                  "Saving the scores in best_results/noDA_cropped_images_folder_moredata/tf_efficientnet_b6_fold-1_lrinit-0.0001_batchsize-4_optimizer-AdamW_maxepochs-150_DA-None_PPen-None_PPha-None_PPco-None_PPde-None_PPno-True_PPcr-cropped_images_folder_PPre-True_drop-0.0_trainjustclassifier-False_16818611328499074/new_test_pred_best\n",
                  "Saving the scores in best_results/noDA_cropped_images_folder_moredata/tf_efficientnet_b6_fold-1_lrinit-0.0001_batchsize-4_optimizer-AdamW_maxepochs-150_DA-None_PPen-None_PPha-None_PPco-None_PPde-None_PPno-True_PPcr-cropped_images_folder_PPre-True_drop-0.0_trainjustclassifier-False_16818611328499074/new_test_pred_last\n",
                  "Saving the scores in best_results/noDA_cropped_images_folder_moredata/efficientnet_b0_fold-1_lrinit-0.0001_batchsize-8_optimizer-AdamW_maxepochs-150_DA-None_PPen-None_PPha-None_PPco-None_PPde-None_PPno-True_PPcr-cropped_images_folder_PPre-True_drop-0.0_trainjustclassifier-False_16818856591661925/new_test_pred_best\n",
                  "Saving the scores in best_results/noDA_cropped_images_folder_moredata/efficientnet_b0_fold-1_lrinit-0.0001_batchsize-8_optimizer-AdamW_maxepochs-150_DA-None_PPen-None_PPha-None_PPco-None_PPde-None_PPno-True_PPcr-cropped_images_folder_PPre-True_drop-0.0_trainjustclassifier-False_16818856591661925/new_test_pred_last\n",
                  "Saving the scores in best_results/noDA_cropped_images_folder_moredata/seresnext101_32x8d_fold-1_lrinit-0.0001_batchsize-16_optimizer-Adam_maxepochs-150_DA-None_PPen-None_PPha-None_PPco-None_PPde-None_PPno-True_PPcr-cropped_images_folder_PPre-True_drop-0.0_trainjustclassifier-False_16819084292445116/new_test_pred_best\n",
                  "Saving the scores in best_results/noDA_cropped_images_folder_moredata/seresnext101_32x8d_fold-1_lrinit-0.0001_batchsize-16_optimizer-Adam_maxepochs-150_DA-None_PPen-None_PPha-None_PPco-None_PPde-None_PPno-True_PPcr-cropped_images_folder_PPre-True_drop-0.0_trainjustclassifier-False_16819084292445116/new_test_pred_last\n",
                  "Saving the scores in best_results/noDA_cropped_images_folder_moredata/efficientnet_b2_fold-1_lrinit-0.0001_batchsize-8_optimizer-Adam_maxepochs-150_DA-None_PPen-None_PPha-None_PPco-None_PPde-None_PPno-True_PPcr-cropped_images_folder_PPre-True_drop-0.0_trainjustclassifier-False_16818903286434815/new_test_pred_best\n",
                  "Saving the scores in best_results/noDA_cropped_images_folder_moredata/efficientnet_b2_fold-1_lrinit-0.0001_batchsize-8_optimizer-Adam_maxepochs-150_DA-None_PPen-None_PPha-None_PPco-None_PPde-None_PPno-True_PPcr-cropped_images_folder_PPre-True_drop-0.0_trainjustclassifier-False_16818903286434815/new_test_pred_last\n",
                  "Saving the scores in best_results/noDA_cropped_images_folder_moredata/resnest101e_fold-1_lrinit-0.0001_batchsize-8_optimizer-AdamW_maxepochs-150_DA-None_PPen-None_PPha-None_PPco-None_PPde-None_PPno-True_PPcr-cropped_images_folder_PPre-True_drop-0.0_trainjustclassifier-False_16819033352343764/new_test_pred_best\n",
                  "Saving the scores in best_results/noDA_cropped_images_folder_moredata/resnest101e_fold-1_lrinit-0.0001_batchsize-8_optimizer-AdamW_maxepochs-150_DA-None_PPen-None_PPha-None_PPco-None_PPde-None_PPno-True_PPcr-cropped_images_folder_PPre-True_drop-0.0_trainjustclassifier-False_16819033352343764/new_test_pred_last\n",
                  "Saving the scores in best_results/noDA_cropped_images_folder_moredata/resnext101_32x8d_fold-1_lrinit-0.0001_batchsize-8_optimizer-SGD_maxepochs-150_DA-None_PPen-None_PPha-None_PPco-None_PPde-None_PPno-True_PPcr-cropped_images_folder_PPre-True_drop-0.0_trainjustclassifier-False_16819162580527058/new_test_pred_best\n",
                  "Saving the scores in best_results/noDA_cropped_images_folder_moredata/resnext101_32x8d_fold-1_lrinit-0.0001_batchsize-8_optimizer-SGD_maxepochs-150_DA-None_PPen-None_PPha-None_PPco-None_PPde-None_PPno-True_PPcr-cropped_images_folder_PPre-True_drop-0.0_trainjustclassifier-False_16819162580527058/new_test_pred_last\n",
                  "Saving the scores in best_results/noDA_cropped_images_folder_moredata/efficientnet_b1_fold-1_lrinit-0.0001_batchsize-8_optimizer-AdamW_maxepochs-150_DA-None_PPen-None_PPha-None_PPco-None_PPde-None_PPno-True_PPcr-cropped_images_folder_PPre-True_drop-0.0_trainjustclassifier-False_16818877195517857/new_test_pred_best\n",
                  "Saving the scores in best_results/noDA_cropped_images_folder_moredata/efficientnet_b1_fold-1_lrinit-0.0001_batchsize-8_optimizer-AdamW_maxepochs-150_DA-None_PPen-None_PPha-None_PPco-None_PPde-None_PPno-True_PPcr-cropped_images_folder_PPre-True_drop-0.0_trainjustclassifier-False_16818877195517857/new_test_pred_last\n",
                  "Experimento:  dull_razor_cropped_images_folder\n",
                  "Experimento:  noDA_dull_razor_shades_of_gray_cropped_images_folder_150_epochs\n",
                  "Saving the scores in best_results/noDA_dull_razor_shades_of_gray_cropped_images_folder_150_epochs/efficientnet_b4_fold-1_lrinit-0.0001_batchsize-16_optimizer-AdamW_maxepochs-150_DA-None_PPen-None_PPha-dull_razor_PPco-shades_of_gray_PPde-None_PPno-True_PPcr-cropped_images_folder_PPre-True_drop-0.0_trainjustclassifier-False_16823892574605808/new_test_pred_best\n",
                  "Saving the scores in best_results/noDA_dull_razor_shades_of_gray_cropped_images_folder_150_epochs/efficientnet_b4_fold-1_lrinit-0.0001_batchsize-16_optimizer-AdamW_maxepochs-150_DA-None_PPen-None_PPha-dull_razor_PPco-shades_of_gray_PPde-None_PPno-True_PPcr-cropped_images_folder_PPre-True_drop-0.0_trainjustclassifier-False_16823892574605808/new_test_pred_last\n",
                  "Saving the scores in best_results/noDA_dull_razor_shades_of_gray_cropped_images_folder_150_epochs/efficientnet_b3_fold-1_lrinit-0.0001_batchsize-32_optimizer-Adam_maxepochs-150_DA-None_PPen-None_PPha-dull_razor_PPco-shades_of_gray_PPde-None_PPno-True_PPcr-cropped_images_folder_PPre-True_drop-0.0_trainjustclassifier-False_1682385088902471/new_test_pred_best\n",
                  "Saving the scores in best_results/noDA_dull_razor_shades_of_gray_cropped_images_folder_150_epochs/efficientnet_b3_fold-1_lrinit-0.0001_batchsize-32_optimizer-Adam_maxepochs-150_DA-None_PPen-None_PPha-dull_razor_PPco-shades_of_gray_PPde-None_PPno-True_PPcr-cropped_images_folder_PPre-True_drop-0.0_trainjustclassifier-False_1682385088902471/new_test_pred_last\n",
                  "Saving the scores in best_results/noDA_dull_razor_shades_of_gray_cropped_images_folder_150_epochs/densenet121_fold-1_lrinit-0.0001_batchsize-32_optimizer-Adam_maxepochs-150_DA-None_PPen-None_PPha-dull_razor_PPco-shades_of_gray_PPde-None_PPno-True_PPcr-cropped_images_folder_PPre-True_drop-0.0_trainjustclassifier-False_1682369569401821/new_test_pred_best\n",
                  "Saving the scores in best_results/noDA_dull_razor_shades_of_gray_cropped_images_folder_150_epochs/densenet121_fold-1_lrinit-0.0001_batchsize-32_optimizer-Adam_maxepochs-150_DA-None_PPen-None_PPha-dull_razor_PPco-shades_of_gray_PPde-None_PPno-True_PPcr-cropped_images_folder_PPre-True_drop-0.0_trainjustclassifier-False_1682369569401821/new_test_pred_last\n",
                  "Saving the scores in best_results/noDA_dull_razor_shades_of_gray_cropped_images_folder_150_epochs/resnest101e_fold-1_lrinit-0.0001_batchsize-8_optimizer-AdamW_maxepochs-150_DA-None_PPen-None_PPha-dull_razor_PPco-shades_of_gray_PPde-None_PPno-True_PPcr-cropped_images_folder_PPre-True_drop-0.0_trainjustclassifier-False_1682395819674246/new_test_pred_best\n",
                  "Saving the scores in best_results/noDA_dull_razor_shades_of_gray_cropped_images_folder_150_epochs/resnest101e_fold-1_lrinit-0.0001_batchsize-8_optimizer-AdamW_maxepochs-150_DA-None_PPen-None_PPha-dull_razor_PPco-shades_of_gray_PPde-None_PPno-True_PPcr-cropped_images_folder_PPre-True_drop-0.0_trainjustclassifier-False_1682395819674246/new_test_pred_last\n",
                  "Saving the scores in best_results/noDA_dull_razor_shades_of_gray_cropped_images_folder_150_epochs/seresnext101_32x8d_fold-1_lrinit-0.0001_batchsize-16_optimizer-Adam_maxepochs-150_DA-None_PPen-None_PPha-dull_razor_PPco-shades_of_gray_PPde-None_PPno-True_PPcr-cropped_images_folder_PPre-True_drop-0.0_trainjustclassifier-False_168240242991697/new_test_pred_best\n",
                  "Saving the scores in best_results/noDA_dull_razor_shades_of_gray_cropped_images_folder_150_epochs/seresnext101_32x8d_fold-1_lrinit-0.0001_batchsize-16_optimizer-Adam_maxepochs-150_DA-None_PPen-None_PPha-dull_razor_PPco-shades_of_gray_PPde-None_PPno-True_PPcr-cropped_images_folder_PPre-True_drop-0.0_trainjustclassifier-False_168240242991697/new_test_pred_last\n",
                  "Saving the scores in best_results/noDA_dull_razor_shades_of_gray_cropped_images_folder_150_epochs/resnext101_32x8d_fold-1_lrinit-0.0001_batchsize-8_optimizer-SGD_maxepochs-150_DA-None_PPen-None_PPha-dull_razor_PPco-shades_of_gray_PPde-None_PPno-True_PPcr-cropped_images_folder_PPre-True_drop-0.0_trainjustclassifier-False_168241101984149/new_test_pred_best\n",
                  "Saving the scores in best_results/noDA_dull_razor_shades_of_gray_cropped_images_folder_150_epochs/resnext101_32x8d_fold-1_lrinit-0.0001_batchsize-8_optimizer-SGD_maxepochs-150_DA-None_PPen-None_PPha-dull_razor_PPco-shades_of_gray_PPde-None_PPno-True_PPcr-cropped_images_folder_PPre-True_drop-0.0_trainjustclassifier-False_168241101984149/new_test_pred_last\n",
                  "Saving the scores in best_results/noDA_dull_razor_shades_of_gray_cropped_images_folder_150_epochs/tf_efficientnet_b5_fold-1_lrinit-0.0001_batchsize-8_optimizer-AdamW_maxepochs-150_DA-None_PPen-None_PPha-dull_razor_PPco-shades_of_gray_PPde-None_PPno-True_PPcr-cropped_images_folder_PPre-True_drop-0.0_trainjustclassifier-False_16823028421539016/new_test_pred_best\n",
                  "Saving the scores in best_results/noDA_dull_razor_shades_of_gray_cropped_images_folder_150_epochs/tf_efficientnet_b5_fold-1_lrinit-0.0001_batchsize-8_optimizer-AdamW_maxepochs-150_DA-None_PPen-None_PPha-dull_razor_PPco-shades_of_gray_PPde-None_PPno-True_PPcr-cropped_images_folder_PPre-True_drop-0.0_trainjustclassifier-False_16823028421539016/new_test_pred_last\n",
                  "Saving the scores in best_results/noDA_dull_razor_shades_of_gray_cropped_images_folder_150_epochs/efficientnet_b1_fold-1_lrinit-0.0001_batchsize-8_optimizer-AdamW_maxepochs-150_DA-None_PPen-None_PPha-dull_razor_PPco-shades_of_gray_PPde-None_PPno-True_PPcr-cropped_images_folder_PPre-True_drop-0.0_trainjustclassifier-False_16823764181729941/new_test_pred_best\n",
                  "Saving the scores in best_results/noDA_dull_razor_shades_of_gray_cropped_images_folder_150_epochs/efficientnet_b1_fold-1_lrinit-0.0001_batchsize-8_optimizer-AdamW_maxepochs-150_DA-None_PPen-None_PPha-dull_razor_PPco-shades_of_gray_PPde-None_PPno-True_PPcr-cropped_images_folder_PPre-True_drop-0.0_trainjustclassifier-False_16823764181729941/new_test_pred_last\n",
                  "Saving the scores in best_results/noDA_dull_razor_shades_of_gray_cropped_images_folder_150_epochs/efficientnet_b2_fold-1_lrinit-0.0001_batchsize-8_optimizer-Adam_maxepochs-150_DA-None_PPen-None_PPha-dull_razor_PPco-shades_of_gray_PPde-None_PPno-True_PPcr-cropped_images_folder_PPre-True_drop-0.0_trainjustclassifier-False_1682380044156221/new_test_pred_best\n",
                  "Saving the scores in best_results/noDA_dull_razor_shades_of_gray_cropped_images_folder_150_epochs/efficientnet_b2_fold-1_lrinit-0.0001_batchsize-8_optimizer-Adam_maxepochs-150_DA-None_PPen-None_PPha-dull_razor_PPco-shades_of_gray_PPde-None_PPno-True_PPcr-cropped_images_folder_PPre-True_drop-0.0_trainjustclassifier-False_1682380044156221/new_test_pred_last\n",
                  "Saving the scores in best_results/noDA_dull_razor_shades_of_gray_cropped_images_folder_150_epochs/efficientnet_b0_fold-1_lrinit-0.0001_batchsize-8_optimizer-AdamW_maxepochs-150_DA-None_PPen-None_PPha-dull_razor_PPco-shades_of_gray_PPde-None_PPno-True_PPcr-cropped_images_folder_PPre-True_drop-0.0_trainjustclassifier-False_1682373005312041/new_test_pred_best\n",
                  "Saving the scores in best_results/noDA_dull_razor_shades_of_gray_cropped_images_folder_150_epochs/efficientnet_b0_fold-1_lrinit-0.0001_batchsize-8_optimizer-AdamW_maxepochs-150_DA-None_PPen-None_PPha-dull_razor_PPco-shades_of_gray_PPde-None_PPno-True_PPcr-cropped_images_folder_PPre-True_drop-0.0_trainjustclassifier-False_1682373005312041/new_test_pred_last\n",
                  "Saving the scores in best_results/noDA_dull_razor_shades_of_gray_cropped_images_folder_150_epochs/tf_efficientnet_b6_fold-1_lrinit-0.0001_batchsize-4_optimizer-AdamW_maxepochs-150_DA-None_PPen-None_PPha-dull_razor_PPco-shades_of_gray_PPde-None_PPno-True_PPcr-cropped_images_folder_PPre-True_drop-0.0_trainjustclassifier-False_16823395184003966/new_test_pred_best\n",
                  "Saving the scores in best_results/noDA_dull_razor_shades_of_gray_cropped_images_folder_150_epochs/tf_efficientnet_b6_fold-1_lrinit-0.0001_batchsize-4_optimizer-AdamW_maxepochs-150_DA-None_PPen-None_PPha-dull_razor_PPco-shades_of_gray_PPde-None_PPno-True_PPcr-cropped_images_folder_PPre-True_drop-0.0_trainjustclassifier-False_16823395184003966/new_test_pred_last\n",
                  "Saving the scores in best_results/noDA_dull_razor_shades_of_gray_cropped_images_folder_150_epochs/pnasnet5large_fold-1_lrinit-0.0001_batchsize-8_optimizer-Adam_maxepochs-150_DA-None_PPen-None_PPha-dull_razor_PPco-shades_of_gray_PPde-None_PPno-True_PPcr-cropped_images_folder_PPre-True_drop-0.0_trainjustclassifier-False_1682426150983503/new_test_pred_best\n",
                  "Saving the scores in best_results/noDA_dull_razor_shades_of_gray_cropped_images_folder_150_epochs/pnasnet5large_fold-1_lrinit-0.0001_batchsize-8_optimizer-Adam_maxepochs-150_DA-None_PPen-None_PPha-dull_razor_PPco-shades_of_gray_PPde-None_PPno-True_PPcr-cropped_images_folder_PPre-True_drop-0.0_trainjustclassifier-False_1682426150983503/new_test_pred_last\n",
                  "Saving the scores in best_results/noDA_dull_razor_shades_of_gray_cropped_images_folder_150_epochs/vgg19_fold-1_lrinit-0.0001_batchsize-8_optimizer-SGD_maxepochs-150_DA-None_PPen-None_PPha-dull_razor_PPco-shades_of_gray_PPde-None_PPno-True_PPcr-cropped_images_folder_PPre-True_drop-0.0_trainjustclassifier-False_16824069562662187/new_test_pred_best\n",
                  "Saving the scores in best_results/noDA_dull_razor_shades_of_gray_cropped_images_folder_150_epochs/vgg19_fold-1_lrinit-0.0001_batchsize-8_optimizer-SGD_maxepochs-150_DA-None_PPen-None_PPha-dull_razor_PPco-shades_of_gray_PPde-None_PPno-True_PPcr-cropped_images_folder_PPre-True_drop-0.0_trainjustclassifier-False_16824069562662187/new_test_pred_last\n",
                  "Experimento:  dropout_05\n",
                  "Saving the scores in best_results/dropout_05/densenet121_fold-1_lrinit-0.0001_batchsize-32_optimizer-Adam_maxepochs-50_DA-None_PPen-None_PPha-None_PPco-None_PPde-None_PPno-True_PPcr-None_PPre-True_drop-0.5_trainjustclassifier-False_16805412253763137/new_test_pred_best\n",
                  "Saving the scores in best_results/dropout_05/densenet121_fold-1_lrinit-0.0001_batchsize-32_optimizer-Adam_maxepochs-50_DA-None_PPen-None_PPha-None_PPco-None_PPde-None_PPno-True_PPcr-None_PPre-True_drop-0.5_trainjustclassifier-False_16805412253763137/new_test_pred_last\n",
                  "Saving the scores in best_results/dropout_05/tf_efficientnet_b5_fold-1_lrinit-0.0001_batchsize-8_optimizer-AdamW_maxepochs-50_DA-None_PPen-None_PPha-None_PPco-None_PPde-None_PPno-True_PPcr-None_PPre-True_drop-0.5_trainjustclassifier-False_1680518210092265/new_test_pred_best\n",
                  "Saving the scores in best_results/dropout_05/tf_efficientnet_b5_fold-1_lrinit-0.0001_batchsize-8_optimizer-AdamW_maxepochs-50_DA-None_PPen-None_PPha-None_PPco-None_PPde-None_PPno-True_PPcr-None_PPre-True_drop-0.5_trainjustclassifier-False_1680518210092265/new_test_pred_last\n",
                  "Saving the scores in best_results/dropout_05/vgg19_fold-1_lrinit-0.001_batchsize-8_optimizer-SGD_maxepochs-50_DA-None_PPen-None_PPha-None_PPco-None_PPde-None_PPno-True_PPcr-None_PPre-True_drop-0.5_trainjustclassifier-False_16805547207788615/new_test_pred_best\n",
                  "Saving the scores in best_results/dropout_05/vgg19_fold-1_lrinit-0.001_batchsize-8_optimizer-SGD_maxepochs-50_DA-None_PPen-None_PPha-None_PPco-None_PPde-None_PPno-True_PPcr-None_PPre-True_drop-0.5_trainjustclassifier-False_16805547207788615/new_test_pred_last\n",
                  "Saving the scores in best_results/dropout_05/efficientnet_b4_fold-1_lrinit-0.001_batchsize-16_optimizer-AdamW_maxepochs-50_DA-None_PPen-None_PPha-None_PPco-None_PPde-None_PPno-True_PPcr-None_PPre-True_drop-0.5_trainjustclassifier-False_16805498295986323/new_test_pred_best\n",
                  "Saving the scores in best_results/dropout_05/efficientnet_b4_fold-1_lrinit-0.001_batchsize-16_optimizer-AdamW_maxepochs-50_DA-None_PPen-None_PPha-None_PPco-None_PPde-None_PPno-True_PPcr-None_PPre-True_drop-0.5_trainjustclassifier-False_16805498295986323/new_test_pred_last\n",
                  "Saving the scores in best_results/dropout_05/efficientnet_b2_fold-1_lrinit-0.001_batchsize-8_optimizer-Adam_maxepochs-50_DA-None_PPen-None_PPha-None_PPco-None_PPde-None_PPno-True_PPcr-None_PPre-True_drop-0.5_trainjustclassifier-False_1680546303133419/new_test_pred_best\n",
                  "Saving the scores in best_results/dropout_05/efficientnet_b2_fold-1_lrinit-0.001_batchsize-8_optimizer-Adam_maxepochs-50_DA-None_PPen-None_PPha-None_PPco-None_PPde-None_PPno-True_PPcr-None_PPre-True_drop-0.5_trainjustclassifier-False_1680546303133419/new_test_pred_last\n",
                  "Saving the scores in best_results/dropout_05/resnest101e_fold-1_lrinit-0.0001_batchsize-8_optimizer-AdamW_maxepochs-50_DA-None_PPen-None_PPha-None_PPco-None_PPde-None_PPno-True_PPcr-None_PPre-True_drop-0.5_trainjustclassifier-False_1680551962225462/new_test_pred_best\n",
                  "Saving the scores in best_results/dropout_05/resnest101e_fold-1_lrinit-0.0001_batchsize-8_optimizer-AdamW_maxepochs-50_DA-None_PPen-None_PPha-None_PPco-None_PPde-None_PPno-True_PPcr-None_PPre-True_drop-0.5_trainjustclassifier-False_1680551962225462/new_test_pred_last\n",
                  "Saving the scores in best_results/dropout_05/pnasnet5large_fold-1_lrinit-0.0001_batchsize-8_optimizer-Adam_maxepochs-50_DA-None_PPen-None_PPha-None_PPco-None_PPde-None_PPno-True_PPcr-None_PPre-True_drop-0.5_trainjustclassifier-False_16805576363528137/new_test_pred_best\n",
                  "Saving the scores in best_results/dropout_05/pnasnet5large_fold-1_lrinit-0.0001_batchsize-8_optimizer-Adam_maxepochs-50_DA-None_PPen-None_PPha-None_PPco-None_PPde-None_PPno-True_PPcr-None_PPre-True_drop-0.5_trainjustclassifier-False_16805576363528137/new_test_pred_last\n",
                  "Saving the scores in best_results/dropout_05/efficientnet_b1_fold-1_lrinit-0.001_batchsize-8_optimizer-AdamW_maxepochs-50_DA-None_PPen-None_PPha-None_PPco-None_PPde-None_PPno-True_PPcr-None_PPre-True_drop-0.5_trainjustclassifier-False_16805443882956307/new_test_pred_best\n",
                  "Saving the scores in best_results/dropout_05/efficientnet_b1_fold-1_lrinit-0.001_batchsize-8_optimizer-AdamW_maxepochs-50_DA-None_PPen-None_PPha-None_PPco-None_PPde-None_PPno-True_PPcr-None_PPre-True_drop-0.5_trainjustclassifier-False_16805443882956307/new_test_pred_last\n",
                  "Erro no experimento  dropout_05\n",
                  "[Errno 2] No such file or directory: 'best_results/dropout_05/seresnext101_32x8d_fold-1_lrinit-0.0001_batchsize-32_optimizer-Adam_maxepochs-50_DA-None_PPen-None_PPha-None_PPco-None_PPde-None_PPno-True_PPcr-None_PPre-True_drop-0.5_trainjustclassifier-False_16805547061762884/test_pred_best/predictions.csv'\n",
                  "Experimento:  noDA_PPcropped_2\n",
                  "Saving the scores in best_results/noDA_PPcropped_2/efficientnet_b3_fold-1_lrinit-0.001_batchsize-32_optimizer-Adam_maxepochs-50_DA-None_PPen-None_PPha-None_PPco-None_PPde-None_PPno-True_PPcr-cropped_images_folder_PPre-True_1679975490817778/new_test_pred_best\n",
                  "Saving the scores in best_results/noDA_PPcropped_2/efficientnet_b3_fold-1_lrinit-0.001_batchsize-32_optimizer-Adam_maxepochs-50_DA-None_PPen-None_PPha-None_PPco-None_PPde-None_PPno-True_PPcr-cropped_images_folder_PPre-True_1679975490817778/new_test_pred_last\n",
                  "Saving the scores in best_results/noDA_PPcropped_2/seresnext101_32x8d_fold-1_lrinit-0.0001_batchsize-32_optimizer-Adam_maxepochs-50_DA-None_PPen-None_PPha-None_PPco-None_PPde-None_PPno-True_PPcr-cropped_images_folder_PPre-True_1679977774466725/new_test_pred_best\n",
                  "Saving the scores in best_results/noDA_PPcropped_2/seresnext101_32x8d_fold-1_lrinit-0.0001_batchsize-32_optimizer-Adam_maxepochs-50_DA-None_PPen-None_PPha-None_PPco-None_PPde-None_PPno-True_PPcr-cropped_images_folder_PPre-True_1679977774466725/new_test_pred_last\n"
               ]
            },
            {
               "ename": "KeyboardInterrupt",
               "evalue": "",
               "output_type": "error",
               "traceback": [
                  "\u001b[0;31m---------------------------------------------------------------------------\u001b[0m",
                  "\u001b[0;31mAttributeError\u001b[0m                            Traceback (most recent call last)",
                  "\u001b[0;32m~/Desktop/masters/cnn/learning_cycle/benchmarks/isic/venv/lib/python3.7/site-packages/PIL/ImageFile.py\u001b[0m in \u001b[0;36m_save\u001b[0;34m(im, fp, tile, bufsize)\u001b[0m\n\u001b[1;32m    517\u001b[0m     \u001b[0;32mtry\u001b[0m\u001b[0;34m:\u001b[0m\u001b[0;34m\u001b[0m\u001b[0;34m\u001b[0m\u001b[0m\n\u001b[0;32m--> 518\u001b[0;31m         \u001b[0mfh\u001b[0m \u001b[0;34m=\u001b[0m \u001b[0mfp\u001b[0m\u001b[0;34m.\u001b[0m\u001b[0mfileno\u001b[0m\u001b[0;34m(\u001b[0m\u001b[0;34m)\u001b[0m\u001b[0;34m\u001b[0m\u001b[0;34m\u001b[0m\u001b[0m\n\u001b[0m\u001b[1;32m    519\u001b[0m         \u001b[0mfp\u001b[0m\u001b[0;34m.\u001b[0m\u001b[0mflush\u001b[0m\u001b[0;34m(\u001b[0m\u001b[0;34m)\u001b[0m\u001b[0;34m\u001b[0m\u001b[0;34m\u001b[0m\u001b[0m\n",
                  "\u001b[0;31mAttributeError\u001b[0m: '_idat' object has no attribute 'fileno'",
                  "\nDuring handling of the above exception, another exception occurred:\n",
                  "\u001b[0;31mKeyboardInterrupt\u001b[0m                         Traceback (most recent call last)",
                  "\u001b[0;32m/tmp/ipykernel_69712/2031603074.py\u001b[0m in \u001b[0;36m<module>\u001b[0;34m\u001b[0m\n\u001b[1;32m     94\u001b[0m             \u001b[0mmetrics_last\u001b[0m\u001b[0;34m.\u001b[0m\u001b[0mupdate_scores\u001b[0m\u001b[0;34m(\u001b[0m\u001b[0mtrue_labels\u001b[0m\u001b[0;34m,\u001b[0m \u001b[0mmodel_preds_best\u001b[0m\u001b[0;34m[\u001b[0m\u001b[0;34m[\u001b[0m\u001b[0;34m'0'\u001b[0m\u001b[0;34m,\u001b[0m\u001b[0;34m'1'\u001b[0m\u001b[0;34m,\u001b[0m\u001b[0;34m'2'\u001b[0m\u001b[0;34m]\u001b[0m\u001b[0;34m]\u001b[0m\u001b[0;34m.\u001b[0m\u001b[0mto_numpy\u001b[0m\u001b[0;34m(\u001b[0m\u001b[0;34m)\u001b[0m\u001b[0;34m,\u001b[0m \u001b[0mmodel_preds_best\u001b[0m\u001b[0;34m[\u001b[0m\u001b[0;34m[\u001b[0m\u001b[0;34m'image'\u001b[0m\u001b[0;34m]\u001b[0m\u001b[0;34m]\u001b[0m\u001b[0;34m.\u001b[0m\u001b[0mto_numpy\u001b[0m\u001b[0;34m(\u001b[0m\u001b[0;34m)\u001b[0m\u001b[0;34m)\u001b[0m\u001b[0;34m\u001b[0m\u001b[0;34m\u001b[0m\u001b[0m\n\u001b[1;32m     95\u001b[0m \u001b[0;34m\u001b[0m\u001b[0m\n\u001b[0;32m---> 96\u001b[0;31m             \u001b[0mmetrics_best\u001b[0m\u001b[0;34m.\u001b[0m\u001b[0mcompute_metrics\u001b[0m\u001b[0;34m(\u001b[0m\u001b[0;34m)\u001b[0m\u001b[0;34m\u001b[0m\u001b[0;34m\u001b[0m\u001b[0m\n\u001b[0m\u001b[1;32m     97\u001b[0m             \u001b[0mmetrics_last\u001b[0m\u001b[0;34m.\u001b[0m\u001b[0mcompute_metrics\u001b[0m\u001b[0;34m(\u001b[0m\u001b[0;34m)\u001b[0m\u001b[0;34m\u001b[0m\u001b[0;34m\u001b[0m\u001b[0m\n\u001b[1;32m     98\u001b[0m \u001b[0;34m\u001b[0m\u001b[0m\n",
                  "\u001b[0;32m~/Desktop/masters/cnn/learning_cycle/benchmarks/isic/raug/metrics_2.py\u001b[0m in \u001b[0;36mcompute_metrics\u001b[0;34m(self)\u001b[0m\n\u001b[1;32m    183\u001b[0m                 self.metrics_values[\"auc_and_roc_curve\"] = cmet.auc_and_roc_curve(self.label_scores, self.pred_scores,\n\u001b[1;32m    184\u001b[0m                                                                                   \u001b[0mself\u001b[0m\u001b[0;34m.\u001b[0m\u001b[0mclass_names\u001b[0m\u001b[0;34m,\u001b[0m \u001b[0mclass_to_compute\u001b[0m\u001b[0;34m,\u001b[0m\u001b[0;34m\u001b[0m\u001b[0;34m\u001b[0m\u001b[0m\n\u001b[0;32m--> 185\u001b[0;31m                                                                                   save_path)\n\u001b[0m\u001b[1;32m    186\u001b[0m         self.metrics_values = {**self.metrics_values, **cmet.precision_recall_fscore_support(self.label_scores,\n\u001b[1;32m    187\u001b[0m                                                                                                     self.pred_scores, labels=self.class_names)}\n",
                  "\u001b[0;32m~/Desktop/masters/cnn/learning_cycle/benchmarks/isic/raug/utils/classification_metrics_2.py\u001b[0m in \u001b[0;36mauc_and_roc_curve\u001b[0;34m(lab_real, lab_pred, class_names, class_to_compute, save_path)\u001b[0m\n\u001b[1;32m    383\u001b[0m \u001b[0;34m\u001b[0m\u001b[0m\n\u001b[1;32m    384\u001b[0m         \u001b[0;32mif\u001b[0m \u001b[0misinstance\u001b[0m\u001b[0;34m(\u001b[0m\u001b[0msave_path\u001b[0m\u001b[0;34m,\u001b[0m \u001b[0mstr\u001b[0m\u001b[0;34m)\u001b[0m\u001b[0;34m:\u001b[0m\u001b[0;34m\u001b[0m\u001b[0;34m\u001b[0m\u001b[0m\n\u001b[0;32m--> 385\u001b[0;31m             \u001b[0mplt\u001b[0m\u001b[0;34m.\u001b[0m\u001b[0msavefig\u001b[0m\u001b[0;34m(\u001b[0m\u001b[0msave_path\u001b[0m\u001b[0;34m)\u001b[0m\u001b[0;34m\u001b[0m\u001b[0;34m\u001b[0m\u001b[0m\n\u001b[0m\u001b[1;32m    386\u001b[0m             \u001b[0mplt\u001b[0m\u001b[0;34m.\u001b[0m\u001b[0mclf\u001b[0m\u001b[0;34m(\u001b[0m\u001b[0;34m)\u001b[0m\u001b[0;34m\u001b[0m\u001b[0;34m\u001b[0m\u001b[0m\n\u001b[1;32m    387\u001b[0m         \u001b[0;32melif\u001b[0m \u001b[0msave_path\u001b[0m\u001b[0;34m:\u001b[0m\u001b[0;34m\u001b[0m\u001b[0;34m\u001b[0m\u001b[0m\n",
                  "\u001b[0;32m~/Desktop/masters/cnn/learning_cycle/benchmarks/isic/venv/lib/python3.7/site-packages/matplotlib/pyplot.py\u001b[0m in \u001b[0;36msavefig\u001b[0;34m(*args, **kwargs)\u001b[0m\n\u001b[1;32m    975\u001b[0m \u001b[0;32mdef\u001b[0m \u001b[0msavefig\u001b[0m\u001b[0;34m(\u001b[0m\u001b[0;34m*\u001b[0m\u001b[0margs\u001b[0m\u001b[0;34m,\u001b[0m \u001b[0;34m**\u001b[0m\u001b[0mkwargs\u001b[0m\u001b[0;34m)\u001b[0m\u001b[0;34m:\u001b[0m\u001b[0;34m\u001b[0m\u001b[0;34m\u001b[0m\u001b[0m\n\u001b[1;32m    976\u001b[0m     \u001b[0mfig\u001b[0m \u001b[0;34m=\u001b[0m \u001b[0mgcf\u001b[0m\u001b[0;34m(\u001b[0m\u001b[0;34m)\u001b[0m\u001b[0;34m\u001b[0m\u001b[0;34m\u001b[0m\u001b[0m\n\u001b[0;32m--> 977\u001b[0;31m     \u001b[0mres\u001b[0m \u001b[0;34m=\u001b[0m \u001b[0mfig\u001b[0m\u001b[0;34m.\u001b[0m\u001b[0msavefig\u001b[0m\u001b[0;34m(\u001b[0m\u001b[0;34m*\u001b[0m\u001b[0margs\u001b[0m\u001b[0;34m,\u001b[0m \u001b[0;34m**\u001b[0m\u001b[0mkwargs\u001b[0m\u001b[0;34m)\u001b[0m\u001b[0;34m\u001b[0m\u001b[0;34m\u001b[0m\u001b[0m\n\u001b[0m\u001b[1;32m    978\u001b[0m     \u001b[0mfig\u001b[0m\u001b[0;34m.\u001b[0m\u001b[0mcanvas\u001b[0m\u001b[0;34m.\u001b[0m\u001b[0mdraw_idle\u001b[0m\u001b[0;34m(\u001b[0m\u001b[0;34m)\u001b[0m   \u001b[0;31m# need this if 'transparent=True' to reset colors\u001b[0m\u001b[0;34m\u001b[0m\u001b[0;34m\u001b[0m\u001b[0m\n\u001b[1;32m    979\u001b[0m     \u001b[0;32mreturn\u001b[0m \u001b[0mres\u001b[0m\u001b[0;34m\u001b[0m\u001b[0;34m\u001b[0m\u001b[0m\n",
                  "\u001b[0;32m~/Desktop/masters/cnn/learning_cycle/benchmarks/isic/venv/lib/python3.7/site-packages/matplotlib/figure.py\u001b[0m in \u001b[0;36msavefig\u001b[0;34m(self, fname, transparent, **kwargs)\u001b[0m\n\u001b[1;32m   3056\u001b[0m                         ax.patch._cm_set(facecolor='none', edgecolor='none'))\n\u001b[1;32m   3057\u001b[0m \u001b[0;34m\u001b[0m\u001b[0m\n\u001b[0;32m-> 3058\u001b[0;31m             \u001b[0mself\u001b[0m\u001b[0;34m.\u001b[0m\u001b[0mcanvas\u001b[0m\u001b[0;34m.\u001b[0m\u001b[0mprint_figure\u001b[0m\u001b[0;34m(\u001b[0m\u001b[0mfname\u001b[0m\u001b[0;34m,\u001b[0m \u001b[0;34m**\u001b[0m\u001b[0mkwargs\u001b[0m\u001b[0;34m)\u001b[0m\u001b[0;34m\u001b[0m\u001b[0;34m\u001b[0m\u001b[0m\n\u001b[0m\u001b[1;32m   3059\u001b[0m \u001b[0;34m\u001b[0m\u001b[0m\n\u001b[1;32m   3060\u001b[0m     def ginput(self, n=1, timeout=30, show_clicks=True,\n",
                  "\u001b[0;32m~/Desktop/masters/cnn/learning_cycle/benchmarks/isic/venv/lib/python3.7/site-packages/matplotlib/backend_bases.py\u001b[0m in \u001b[0;36mprint_figure\u001b[0;34m(self, filename, dpi, facecolor, edgecolor, orientation, format, bbox_inches, pad_inches, bbox_extra_artists, backend, **kwargs)\u001b[0m\n\u001b[1;32m   2323\u001b[0m                         \u001b[0morientation\u001b[0m\u001b[0;34m=\u001b[0m\u001b[0morientation\u001b[0m\u001b[0;34m,\u001b[0m\u001b[0;34m\u001b[0m\u001b[0;34m\u001b[0m\u001b[0m\n\u001b[1;32m   2324\u001b[0m                         \u001b[0mbbox_inches_restore\u001b[0m\u001b[0;34m=\u001b[0m\u001b[0m_bbox_inches_restore\u001b[0m\u001b[0;34m,\u001b[0m\u001b[0;34m\u001b[0m\u001b[0;34m\u001b[0m\u001b[0m\n\u001b[0;32m-> 2325\u001b[0;31m                         **kwargs)\n\u001b[0m\u001b[1;32m   2326\u001b[0m             \u001b[0;32mfinally\u001b[0m\u001b[0;34m:\u001b[0m\u001b[0;34m\u001b[0m\u001b[0;34m\u001b[0m\u001b[0m\n\u001b[1;32m   2327\u001b[0m                 \u001b[0;32mif\u001b[0m \u001b[0mbbox_inches\u001b[0m \u001b[0;32mand\u001b[0m \u001b[0mrestore_bbox\u001b[0m\u001b[0;34m:\u001b[0m\u001b[0;34m\u001b[0m\u001b[0;34m\u001b[0m\u001b[0m\n",
                  "\u001b[0;32m~/Desktop/masters/cnn/learning_cycle/benchmarks/isic/venv/lib/python3.7/site-packages/matplotlib/backend_bases.py\u001b[0m in \u001b[0;36mwrapper\u001b[0;34m(*args, **kwargs)\u001b[0m\n\u001b[1;32m   1646\u001b[0m             \u001b[0mkwargs\u001b[0m\u001b[0;34m.\u001b[0m\u001b[0mpop\u001b[0m\u001b[0;34m(\u001b[0m\u001b[0marg\u001b[0m\u001b[0;34m)\u001b[0m\u001b[0;34m\u001b[0m\u001b[0;34m\u001b[0m\u001b[0m\n\u001b[1;32m   1647\u001b[0m \u001b[0;34m\u001b[0m\u001b[0m\n\u001b[0;32m-> 1648\u001b[0;31m         \u001b[0;32mreturn\u001b[0m \u001b[0mfunc\u001b[0m\u001b[0;34m(\u001b[0m\u001b[0;34m*\u001b[0m\u001b[0margs\u001b[0m\u001b[0;34m,\u001b[0m \u001b[0;34m**\u001b[0m\u001b[0mkwargs\u001b[0m\u001b[0;34m)\u001b[0m\u001b[0;34m\u001b[0m\u001b[0;34m\u001b[0m\u001b[0m\n\u001b[0m\u001b[1;32m   1649\u001b[0m \u001b[0;34m\u001b[0m\u001b[0m\n\u001b[1;32m   1650\u001b[0m     \u001b[0;32mreturn\u001b[0m \u001b[0mwrapper\u001b[0m\u001b[0;34m\u001b[0m\u001b[0;34m\u001b[0m\u001b[0m\n",
                  "\u001b[0;32m~/Desktop/masters/cnn/learning_cycle/benchmarks/isic/venv/lib/python3.7/site-packages/matplotlib/_api/deprecation.py\u001b[0m in \u001b[0;36mwrapper\u001b[0;34m(*inner_args, **inner_kwargs)\u001b[0m\n\u001b[1;32m    413\u001b[0m                          \u001b[0;32melse\u001b[0m \u001b[0mdeprecation_addendum\u001b[0m\u001b[0;34m,\u001b[0m\u001b[0;34m\u001b[0m\u001b[0;34m\u001b[0m\u001b[0m\n\u001b[1;32m    414\u001b[0m                 **kwargs)\n\u001b[0;32m--> 415\u001b[0;31m         \u001b[0;32mreturn\u001b[0m \u001b[0mfunc\u001b[0m\u001b[0;34m(\u001b[0m\u001b[0;34m*\u001b[0m\u001b[0minner_args\u001b[0m\u001b[0;34m,\u001b[0m \u001b[0;34m**\u001b[0m\u001b[0minner_kwargs\u001b[0m\u001b[0;34m)\u001b[0m\u001b[0;34m\u001b[0m\u001b[0;34m\u001b[0m\u001b[0m\n\u001b[0m\u001b[1;32m    416\u001b[0m \u001b[0;34m\u001b[0m\u001b[0m\n\u001b[1;32m    417\u001b[0m     \u001b[0mDECORATORS\u001b[0m\u001b[0;34m[\u001b[0m\u001b[0mwrapper\u001b[0m\u001b[0;34m]\u001b[0m \u001b[0;34m=\u001b[0m \u001b[0mdecorator\u001b[0m\u001b[0;34m\u001b[0m\u001b[0;34m\u001b[0m\u001b[0m\n",
                  "\u001b[0;32m~/Desktop/masters/cnn/learning_cycle/benchmarks/isic/venv/lib/python3.7/site-packages/matplotlib/backends/backend_agg.py\u001b[0m in \u001b[0;36mprint_png\u001b[0;34m(self, filename_or_obj, metadata, pil_kwargs, *args)\u001b[0m\n\u001b[1;32m    541\u001b[0m         mpl.image.imsave(\n\u001b[1;32m    542\u001b[0m             \u001b[0mfilename_or_obj\u001b[0m\u001b[0;34m,\u001b[0m \u001b[0mself\u001b[0m\u001b[0;34m.\u001b[0m\u001b[0mbuffer_rgba\u001b[0m\u001b[0;34m(\u001b[0m\u001b[0;34m)\u001b[0m\u001b[0;34m,\u001b[0m \u001b[0mformat\u001b[0m\u001b[0;34m=\u001b[0m\u001b[0;34m\"png\"\u001b[0m\u001b[0;34m,\u001b[0m \u001b[0morigin\u001b[0m\u001b[0;34m=\u001b[0m\u001b[0;34m\"upper\"\u001b[0m\u001b[0;34m,\u001b[0m\u001b[0;34m\u001b[0m\u001b[0;34m\u001b[0m\u001b[0m\n\u001b[0;32m--> 543\u001b[0;31m             dpi=self.figure.dpi, metadata=metadata, pil_kwargs=pil_kwargs)\n\u001b[0m\u001b[1;32m    544\u001b[0m \u001b[0;34m\u001b[0m\u001b[0m\n\u001b[1;32m    545\u001b[0m     \u001b[0;32mdef\u001b[0m \u001b[0mprint_to_buffer\u001b[0m\u001b[0;34m(\u001b[0m\u001b[0mself\u001b[0m\u001b[0;34m)\u001b[0m\u001b[0;34m:\u001b[0m\u001b[0;34m\u001b[0m\u001b[0;34m\u001b[0m\u001b[0m\n",
                  "\u001b[0;32m~/Desktop/masters/cnn/learning_cycle/benchmarks/isic/venv/lib/python3.7/site-packages/matplotlib/image.py\u001b[0m in \u001b[0;36mimsave\u001b[0;34m(fname, arr, vmin, vmax, cmap, format, origin, dpi, metadata, pil_kwargs)\u001b[0m\n\u001b[1;32m   1673\u001b[0m         \u001b[0mpil_kwargs\u001b[0m\u001b[0;34m.\u001b[0m\u001b[0msetdefault\u001b[0m\u001b[0;34m(\u001b[0m\u001b[0;34m\"format\"\u001b[0m\u001b[0;34m,\u001b[0m \u001b[0mformat\u001b[0m\u001b[0;34m)\u001b[0m\u001b[0;34m\u001b[0m\u001b[0;34m\u001b[0m\u001b[0m\n\u001b[1;32m   1674\u001b[0m         \u001b[0mpil_kwargs\u001b[0m\u001b[0;34m.\u001b[0m\u001b[0msetdefault\u001b[0m\u001b[0;34m(\u001b[0m\u001b[0;34m\"dpi\"\u001b[0m\u001b[0;34m,\u001b[0m \u001b[0;34m(\u001b[0m\u001b[0mdpi\u001b[0m\u001b[0;34m,\u001b[0m \u001b[0mdpi\u001b[0m\u001b[0;34m)\u001b[0m\u001b[0;34m)\u001b[0m\u001b[0;34m\u001b[0m\u001b[0;34m\u001b[0m\u001b[0m\n\u001b[0;32m-> 1675\u001b[0;31m         \u001b[0mimage\u001b[0m\u001b[0;34m.\u001b[0m\u001b[0msave\u001b[0m\u001b[0;34m(\u001b[0m\u001b[0mfname\u001b[0m\u001b[0;34m,\u001b[0m \u001b[0;34m**\u001b[0m\u001b[0mpil_kwargs\u001b[0m\u001b[0;34m)\u001b[0m\u001b[0;34m\u001b[0m\u001b[0;34m\u001b[0m\u001b[0m\n\u001b[0m\u001b[1;32m   1676\u001b[0m \u001b[0;34m\u001b[0m\u001b[0m\n\u001b[1;32m   1677\u001b[0m \u001b[0;34m\u001b[0m\u001b[0m\n",
                  "\u001b[0;32m~/Desktop/masters/cnn/learning_cycle/benchmarks/isic/venv/lib/python3.7/site-packages/PIL/Image.py\u001b[0m in \u001b[0;36msave\u001b[0;34m(self, fp, format, **params)\u001b[0m\n\u001b[1;32m   2429\u001b[0m \u001b[0;34m\u001b[0m\u001b[0m\n\u001b[1;32m   2430\u001b[0m         \u001b[0;32mtry\u001b[0m\u001b[0;34m:\u001b[0m\u001b[0;34m\u001b[0m\u001b[0;34m\u001b[0m\u001b[0m\n\u001b[0;32m-> 2431\u001b[0;31m             \u001b[0msave_handler\u001b[0m\u001b[0;34m(\u001b[0m\u001b[0mself\u001b[0m\u001b[0;34m,\u001b[0m \u001b[0mfp\u001b[0m\u001b[0;34m,\u001b[0m \u001b[0mfilename\u001b[0m\u001b[0;34m)\u001b[0m\u001b[0;34m\u001b[0m\u001b[0;34m\u001b[0m\u001b[0m\n\u001b[0m\u001b[1;32m   2432\u001b[0m         \u001b[0;32mexcept\u001b[0m \u001b[0mException\u001b[0m\u001b[0;34m:\u001b[0m\u001b[0;34m\u001b[0m\u001b[0;34m\u001b[0m\u001b[0m\n\u001b[1;32m   2433\u001b[0m             \u001b[0;32mif\u001b[0m \u001b[0mopen_fp\u001b[0m\u001b[0;34m:\u001b[0m\u001b[0;34m\u001b[0m\u001b[0;34m\u001b[0m\u001b[0m\n",
                  "\u001b[0;32m~/Desktop/masters/cnn/learning_cycle/benchmarks/isic/venv/lib/python3.7/site-packages/PIL/PngImagePlugin.py\u001b[0m in \u001b[0;36m_save\u001b[0;34m(im, fp, filename, chunk, save_all)\u001b[0m\n\u001b[1;32m   1418\u001b[0m         \u001b[0m_write_multiple_frames\u001b[0m\u001b[0;34m(\u001b[0m\u001b[0mim\u001b[0m\u001b[0;34m,\u001b[0m \u001b[0mfp\u001b[0m\u001b[0;34m,\u001b[0m \u001b[0mchunk\u001b[0m\u001b[0;34m,\u001b[0m \u001b[0mrawmode\u001b[0m\u001b[0;34m,\u001b[0m \u001b[0mdefault_image\u001b[0m\u001b[0;34m,\u001b[0m \u001b[0mappend_images\u001b[0m\u001b[0;34m)\u001b[0m\u001b[0;34m\u001b[0m\u001b[0;34m\u001b[0m\u001b[0m\n\u001b[1;32m   1419\u001b[0m     \u001b[0;32melse\u001b[0m\u001b[0;34m:\u001b[0m\u001b[0;34m\u001b[0m\u001b[0;34m\u001b[0m\u001b[0m\n\u001b[0;32m-> 1420\u001b[0;31m         \u001b[0mImageFile\u001b[0m\u001b[0;34m.\u001b[0m\u001b[0m_save\u001b[0m\u001b[0;34m(\u001b[0m\u001b[0mim\u001b[0m\u001b[0;34m,\u001b[0m \u001b[0m_idat\u001b[0m\u001b[0;34m(\u001b[0m\u001b[0mfp\u001b[0m\u001b[0;34m,\u001b[0m \u001b[0mchunk\u001b[0m\u001b[0;34m)\u001b[0m\u001b[0;34m,\u001b[0m \u001b[0;34m[\u001b[0m\u001b[0;34m(\u001b[0m\u001b[0;34m\"zip\"\u001b[0m\u001b[0;34m,\u001b[0m \u001b[0;34m(\u001b[0m\u001b[0;36m0\u001b[0m\u001b[0;34m,\u001b[0m \u001b[0;36m0\u001b[0m\u001b[0;34m)\u001b[0m \u001b[0;34m+\u001b[0m \u001b[0mim\u001b[0m\u001b[0;34m.\u001b[0m\u001b[0msize\u001b[0m\u001b[0;34m,\u001b[0m \u001b[0;36m0\u001b[0m\u001b[0;34m,\u001b[0m \u001b[0mrawmode\u001b[0m\u001b[0;34m)\u001b[0m\u001b[0;34m]\u001b[0m\u001b[0;34m)\u001b[0m\u001b[0;34m\u001b[0m\u001b[0;34m\u001b[0m\u001b[0m\n\u001b[0m\u001b[1;32m   1421\u001b[0m \u001b[0;34m\u001b[0m\u001b[0m\n\u001b[1;32m   1422\u001b[0m     \u001b[0;32mif\u001b[0m \u001b[0minfo\u001b[0m\u001b[0;34m:\u001b[0m\u001b[0;34m\u001b[0m\u001b[0;34m\u001b[0m\u001b[0m\n",
                  "\u001b[0;32m~/Desktop/masters/cnn/learning_cycle/benchmarks/isic/venv/lib/python3.7/site-packages/PIL/ImageFile.py\u001b[0m in \u001b[0;36m_save\u001b[0;34m(im, fp, tile, bufsize)\u001b[0m\n\u001b[1;32m    520\u001b[0m         \u001b[0m_encode_tile\u001b[0m\u001b[0;34m(\u001b[0m\u001b[0mim\u001b[0m\u001b[0;34m,\u001b[0m \u001b[0mfp\u001b[0m\u001b[0;34m,\u001b[0m \u001b[0mtile\u001b[0m\u001b[0;34m,\u001b[0m \u001b[0mbufsize\u001b[0m\u001b[0;34m,\u001b[0m \u001b[0mfh\u001b[0m\u001b[0;34m)\u001b[0m\u001b[0;34m\u001b[0m\u001b[0;34m\u001b[0m\u001b[0m\n\u001b[1;32m    521\u001b[0m     \u001b[0;32mexcept\u001b[0m \u001b[0;34m(\u001b[0m\u001b[0mAttributeError\u001b[0m\u001b[0;34m,\u001b[0m \u001b[0mio\u001b[0m\u001b[0;34m.\u001b[0m\u001b[0mUnsupportedOperation\u001b[0m\u001b[0;34m)\u001b[0m \u001b[0;32mas\u001b[0m \u001b[0mexc\u001b[0m\u001b[0;34m:\u001b[0m\u001b[0;34m\u001b[0m\u001b[0;34m\u001b[0m\u001b[0m\n\u001b[0;32m--> 522\u001b[0;31m         \u001b[0m_encode_tile\u001b[0m\u001b[0;34m(\u001b[0m\u001b[0mim\u001b[0m\u001b[0;34m,\u001b[0m \u001b[0mfp\u001b[0m\u001b[0;34m,\u001b[0m \u001b[0mtile\u001b[0m\u001b[0;34m,\u001b[0m \u001b[0mbufsize\u001b[0m\u001b[0;34m,\u001b[0m \u001b[0;32mNone\u001b[0m\u001b[0;34m,\u001b[0m \u001b[0mexc\u001b[0m\u001b[0;34m)\u001b[0m\u001b[0;34m\u001b[0m\u001b[0;34m\u001b[0m\u001b[0m\n\u001b[0m\u001b[1;32m    523\u001b[0m     \u001b[0;32mif\u001b[0m \u001b[0mhasattr\u001b[0m\u001b[0;34m(\u001b[0m\u001b[0mfp\u001b[0m\u001b[0;34m,\u001b[0m \u001b[0;34m\"flush\"\u001b[0m\u001b[0;34m)\u001b[0m\u001b[0;34m:\u001b[0m\u001b[0;34m\u001b[0m\u001b[0;34m\u001b[0m\u001b[0m\n\u001b[1;32m    524\u001b[0m         \u001b[0mfp\u001b[0m\u001b[0;34m.\u001b[0m\u001b[0mflush\u001b[0m\u001b[0;34m(\u001b[0m\u001b[0;34m)\u001b[0m\u001b[0;34m\u001b[0m\u001b[0;34m\u001b[0m\u001b[0m\n",
                  "\u001b[0;32m~/Desktop/masters/cnn/learning_cycle/benchmarks/isic/venv/lib/python3.7/site-packages/PIL/ImageFile.py\u001b[0m in \u001b[0;36m_encode_tile\u001b[0;34m(im, fp, tile, bufsize, fh, exc)\u001b[0m\n\u001b[1;32m    539\u001b[0m                     \u001b[0;31m# compress to Python file-compatible object\u001b[0m\u001b[0;34m\u001b[0m\u001b[0;34m\u001b[0m\u001b[0;34m\u001b[0m\u001b[0m\n\u001b[1;32m    540\u001b[0m                     \u001b[0;32mwhile\u001b[0m \u001b[0;32mTrue\u001b[0m\u001b[0;34m:\u001b[0m\u001b[0;34m\u001b[0m\u001b[0;34m\u001b[0m\u001b[0m\n\u001b[0;32m--> 541\u001b[0;31m                         \u001b[0ml\u001b[0m\u001b[0;34m,\u001b[0m \u001b[0ms\u001b[0m\u001b[0;34m,\u001b[0m \u001b[0md\u001b[0m \u001b[0;34m=\u001b[0m \u001b[0mencoder\u001b[0m\u001b[0;34m.\u001b[0m\u001b[0mencode\u001b[0m\u001b[0;34m(\u001b[0m\u001b[0mbufsize\u001b[0m\u001b[0;34m)\u001b[0m\u001b[0;34m\u001b[0m\u001b[0;34m\u001b[0m\u001b[0m\n\u001b[0m\u001b[1;32m    542\u001b[0m                         \u001b[0mfp\u001b[0m\u001b[0;34m.\u001b[0m\u001b[0mwrite\u001b[0m\u001b[0;34m(\u001b[0m\u001b[0md\u001b[0m\u001b[0;34m)\u001b[0m\u001b[0;34m\u001b[0m\u001b[0;34m\u001b[0m\u001b[0m\n\u001b[1;32m    543\u001b[0m                         \u001b[0;32mif\u001b[0m \u001b[0ms\u001b[0m\u001b[0;34m:\u001b[0m\u001b[0;34m\u001b[0m\u001b[0;34m\u001b[0m\u001b[0m\n",
                  "\u001b[0;31mKeyboardInterrupt\u001b[0m: "
               ]
            },
            {
               "data": {
                  "text/plain": [
                     "<Figure size 640x480 with 0 Axes>"
                  ]
               },
               "metadata": {},
               "output_type": "display_data"
            },
            {
               "data": {
                  "text/plain": [
                     "<Figure size 640x480 with 0 Axes>"
                  ]
               },
               "metadata": {},
               "output_type": "display_data"
            },
            {
               "data": {
                  "text/plain": [
                     "<Figure size 640x480 with 0 Axes>"
                  ]
               },
               "metadata": {},
               "output_type": "display_data"
            },
            {
               "data": {
                  "text/plain": [
                     "<Figure size 640x480 with 0 Axes>"
                  ]
               },
               "metadata": {},
               "output_type": "display_data"
            },
            {
               "data": {
                  "text/plain": [
                     "<Figure size 640x480 with 0 Axes>"
                  ]
               },
               "metadata": {},
               "output_type": "display_data"
            },
            {
               "data": {
                  "text/plain": [
                     "<Figure size 640x480 with 0 Axes>"
                  ]
               },
               "metadata": {},
               "output_type": "display_data"
            },
            {
               "data": {
                  "text/plain": [
                     "<Figure size 640x480 with 0 Axes>"
                  ]
               },
               "metadata": {},
               "output_type": "display_data"
            },
            {
               "data": {
                  "text/plain": [
                     "<Figure size 640x480 with 0 Axes>"
                  ]
               },
               "metadata": {},
               "output_type": "display_data"
            },
            {
               "data": {
                  "text/plain": [
                     "<Figure size 640x480 with 0 Axes>"
                  ]
               },
               "metadata": {},
               "output_type": "display_data"
            },
            {
               "data": {
                  "text/plain": [
                     "<Figure size 640x480 with 0 Axes>"
                  ]
               },
               "metadata": {},
               "output_type": "display_data"
            },
            {
               "data": {
                  "text/plain": [
                     "<Figure size 640x480 with 0 Axes>"
                  ]
               },
               "metadata": {},
               "output_type": "display_data"
            },
            {
               "data": {
                  "text/plain": [
                     "<Figure size 640x480 with 0 Axes>"
                  ]
               },
               "metadata": {},
               "output_type": "display_data"
            },
            {
               "data": {
                  "text/plain": [
                     "<Figure size 640x480 with 0 Axes>"
                  ]
               },
               "metadata": {},
               "output_type": "display_data"
            },
            {
               "data": {
                  "text/plain": [
                     "<Figure size 640x480 with 0 Axes>"
                  ]
               },
               "metadata": {},
               "output_type": "display_data"
            },
            {
               "data": {
                  "text/plain": [
                     "<Figure size 640x480 with 0 Axes>"
                  ]
               },
               "metadata": {},
               "output_type": "display_data"
            },
            {
               "data": {
                  "text/plain": [
                     "<Figure size 640x480 with 0 Axes>"
                  ]
               },
               "metadata": {},
               "output_type": "display_data"
            },
            {
               "data": {
                  "text/plain": [
                     "<Figure size 640x480 with 0 Axes>"
                  ]
               },
               "metadata": {},
               "output_type": "display_data"
            },
            {
               "data": {
                  "text/plain": [
                     "<Figure size 640x480 with 0 Axes>"
                  ]
               },
               "metadata": {},
               "output_type": "display_data"
            },
            {
               "data": {
                  "text/plain": [
                     "<Figure size 640x480 with 0 Axes>"
                  ]
               },
               "metadata": {},
               "output_type": "display_data"
            },
            {
               "data": {
                  "text/plain": [
                     "<Figure size 640x480 with 0 Axes>"
                  ]
               },
               "metadata": {},
               "output_type": "display_data"
            },
            {
               "data": {
                  "text/plain": [
                     "<Figure size 640x480 with 0 Axes>"
                  ]
               },
               "metadata": {},
               "output_type": "display_data"
            },
            {
               "data": {
                  "text/plain": [
                     "<Figure size 640x480 with 0 Axes>"
                  ]
               },
               "metadata": {},
               "output_type": "display_data"
            },
            {
               "data": {
                  "text/plain": [
                     "<Figure size 640x480 with 0 Axes>"
                  ]
               },
               "metadata": {},
               "output_type": "display_data"
            },
            {
               "data": {
                  "text/plain": [
                     "<Figure size 640x480 with 0 Axes>"
                  ]
               },
               "metadata": {},
               "output_type": "display_data"
            },
            {
               "data": {
                  "text/plain": [
                     "<Figure size 640x480 with 0 Axes>"
                  ]
               },
               "metadata": {},
               "output_type": "display_data"
            },
            {
               "data": {
                  "text/plain": [
                     "<Figure size 640x480 with 0 Axes>"
                  ]
               },
               "metadata": {},
               "output_type": "display_data"
            },
            {
               "data": {
                  "text/plain": [
                     "<Figure size 640x480 with 0 Axes>"
                  ]
               },
               "metadata": {},
               "output_type": "display_data"
            },
            {
               "data": {
                  "text/plain": [
                     "<Figure size 640x480 with 0 Axes>"
                  ]
               },
               "metadata": {},
               "output_type": "display_data"
            },
            {
               "data": {
                  "text/plain": [
                     "<Figure size 640x480 with 0 Axes>"
                  ]
               },
               "metadata": {},
               "output_type": "display_data"
            },
            {
               "data": {
                  "text/plain": [
                     "<Figure size 640x480 with 0 Axes>"
                  ]
               },
               "metadata": {},
               "output_type": "display_data"
            },
            {
               "data": {
                  "text/plain": [
                     "<Figure size 640x480 with 0 Axes>"
                  ]
               },
               "metadata": {},
               "output_type": "display_data"
            },
            {
               "data": {
                  "text/plain": [
                     "<Figure size 640x480 with 0 Axes>"
                  ]
               },
               "metadata": {},
               "output_type": "display_data"
            },
            {
               "data": {
                  "text/plain": [
                     "<Figure size 640x480 with 0 Axes>"
                  ]
               },
               "metadata": {},
               "output_type": "display_data"
            },
            {
               "data": {
                  "text/plain": [
                     "<Figure size 640x480 with 0 Axes>"
                  ]
               },
               "metadata": {},
               "output_type": "display_data"
            },
            {
               "data": {
                  "text/plain": [
                     "<Figure size 640x480 with 0 Axes>"
                  ]
               },
               "metadata": {},
               "output_type": "display_data"
            },
            {
               "data": {
                  "text/plain": [
                     "<Figure size 640x480 with 0 Axes>"
                  ]
               },
               "metadata": {},
               "output_type": "display_data"
            },
            {
               "data": {
                  "text/plain": [
                     "<Figure size 640x480 with 0 Axes>"
                  ]
               },
               "metadata": {},
               "output_type": "display_data"
            },
            {
               "data": {
                  "text/plain": [
                     "<Figure size 640x480 with 0 Axes>"
                  ]
               },
               "metadata": {},
               "output_type": "display_data"
            },
            {
               "data": {
                  "text/plain": [
                     "<Figure size 640x480 with 0 Axes>"
                  ]
               },
               "metadata": {},
               "output_type": "display_data"
            },
            {
               "data": {
                  "text/plain": [
                     "<Figure size 640x480 with 0 Axes>"
                  ]
               },
               "metadata": {},
               "output_type": "display_data"
            },
            {
               "data": {
                  "text/plain": [
                     "<Figure size 640x480 with 0 Axes>"
                  ]
               },
               "metadata": {},
               "output_type": "display_data"
            },
            {
               "data": {
                  "text/plain": [
                     "<Figure size 640x480 with 0 Axes>"
                  ]
               },
               "metadata": {},
               "output_type": "display_data"
            },
            {
               "data": {
                  "text/plain": [
                     "<Figure size 640x480 with 0 Axes>"
                  ]
               },
               "metadata": {},
               "output_type": "display_data"
            },
            {
               "data": {
                  "text/plain": [
                     "<Figure size 640x480 with 0 Axes>"
                  ]
               },
               "metadata": {},
               "output_type": "display_data"
            },
            {
               "data": {
                  "text/plain": [
                     "<Figure size 640x480 with 0 Axes>"
                  ]
               },
               "metadata": {},
               "output_type": "display_data"
            },
            {
               "data": {
                  "text/plain": [
                     "<Figure size 640x480 with 0 Axes>"
                  ]
               },
               "metadata": {},
               "output_type": "display_data"
            },
            {
               "data": {
                  "text/plain": [
                     "<Figure size 640x480 with 0 Axes>"
                  ]
               },
               "metadata": {},
               "output_type": "display_data"
            },
            {
               "data": {
                  "text/plain": [
                     "<Figure size 640x480 with 0 Axes>"
                  ]
               },
               "metadata": {},
               "output_type": "display_data"
            },
            {
               "data": {
                  "text/plain": [
                     "<Figure size 640x480 with 0 Axes>"
                  ]
               },
               "metadata": {},
               "output_type": "display_data"
            },
            {
               "data": {
                  "text/plain": [
                     "<Figure size 640x480 with 0 Axes>"
                  ]
               },
               "metadata": {},
               "output_type": "display_data"
            },
            {
               "data": {
                  "text/plain": [
                     "<Figure size 640x480 with 0 Axes>"
                  ]
               },
               "metadata": {},
               "output_type": "display_data"
            },
            {
               "data": {
                  "text/plain": [
                     "<Figure size 640x480 with 0 Axes>"
                  ]
               },
               "metadata": {},
               "output_type": "display_data"
            },
            {
               "data": {
                  "text/plain": [
                     "<Figure size 640x480 with 0 Axes>"
                  ]
               },
               "metadata": {},
               "output_type": "display_data"
            },
            {
               "data": {
                  "text/plain": [
                     "<Figure size 640x480 with 0 Axes>"
                  ]
               },
               "metadata": {},
               "output_type": "display_data"
            },
            {
               "data": {
                  "text/plain": [
                     "<Figure size 640x480 with 0 Axes>"
                  ]
               },
               "metadata": {},
               "output_type": "display_data"
            },
            {
               "data": {
                  "text/plain": [
                     "<Figure size 640x480 with 0 Axes>"
                  ]
               },
               "metadata": {},
               "output_type": "display_data"
            },
            {
               "data": {
                  "text/plain": [
                     "<Figure size 640x480 with 0 Axes>"
                  ]
               },
               "metadata": {},
               "output_type": "display_data"
            },
            {
               "data": {
                  "text/plain": [
                     "<Figure size 640x480 with 0 Axes>"
                  ]
               },
               "metadata": {},
               "output_type": "display_data"
            },
            {
               "data": {
                  "text/plain": [
                     "<Figure size 640x480 with 0 Axes>"
                  ]
               },
               "metadata": {},
               "output_type": "display_data"
            },
            {
               "data": {
                  "text/plain": [
                     "<Figure size 640x480 with 0 Axes>"
                  ]
               },
               "metadata": {},
               "output_type": "display_data"
            },
            {
               "data": {
                  "text/plain": [
                     "<Figure size 640x480 with 0 Axes>"
                  ]
               },
               "metadata": {},
               "output_type": "display_data"
            },
            {
               "data": {
                  "text/plain": [
                     "<Figure size 640x480 with 0 Axes>"
                  ]
               },
               "metadata": {},
               "output_type": "display_data"
            },
            {
               "data": {
                  "text/plain": [
                     "<Figure size 640x480 with 0 Axes>"
                  ]
               },
               "metadata": {},
               "output_type": "display_data"
            },
            {
               "data": {
                  "text/plain": [
                     "<Figure size 640x480 with 0 Axes>"
                  ]
               },
               "metadata": {},
               "output_type": "display_data"
            },
            {
               "data": {
                  "text/plain": [
                     "<Figure size 640x480 with 0 Axes>"
                  ]
               },
               "metadata": {},
               "output_type": "display_data"
            },
            {
               "data": {
                  "text/plain": [
                     "<Figure size 640x480 with 0 Axes>"
                  ]
               },
               "metadata": {},
               "output_type": "display_data"
            },
            {
               "data": {
                  "text/plain": [
                     "<Figure size 640x480 with 0 Axes>"
                  ]
               },
               "metadata": {},
               "output_type": "display_data"
            },
            {
               "data": {
                  "text/plain": [
                     "<Figure size 640x480 with 0 Axes>"
                  ]
               },
               "metadata": {},
               "output_type": "display_data"
            },
            {
               "data": {
                  "text/plain": [
                     "<Figure size 640x480 with 0 Axes>"
                  ]
               },
               "metadata": {},
               "output_type": "display_data"
            },
            {
               "data": {
                  "text/plain": [
                     "<Figure size 640x480 with 0 Axes>"
                  ]
               },
               "metadata": {},
               "output_type": "display_data"
            },
            {
               "data": {
                  "text/plain": [
                     "<Figure size 640x480 with 0 Axes>"
                  ]
               },
               "metadata": {},
               "output_type": "display_data"
            },
            {
               "data": {
                  "text/plain": [
                     "<Figure size 640x480 with 0 Axes>"
                  ]
               },
               "metadata": {},
               "output_type": "display_data"
            },
            {
               "data": {
                  "text/plain": [
                     "<Figure size 640x480 with 0 Axes>"
                  ]
               },
               "metadata": {},
               "output_type": "display_data"
            },
            {
               "data": {
                  "text/plain": [
                     "<Figure size 640x480 with 0 Axes>"
                  ]
               },
               "metadata": {},
               "output_type": "display_data"
            },
            {
               "data": {
                  "text/plain": [
                     "<Figure size 640x480 with 0 Axes>"
                  ]
               },
               "metadata": {},
               "output_type": "display_data"
            },
            {
               "data": {
                  "text/plain": [
                     "<Figure size 640x480 with 0 Axes>"
                  ]
               },
               "metadata": {},
               "output_type": "display_data"
            },
            {
               "data": {
                  "text/plain": [
                     "<Figure size 640x480 with 0 Axes>"
                  ]
               },
               "metadata": {},
               "output_type": "display_data"
            },
            {
               "data": {
                  "text/plain": [
                     "<Figure size 640x480 with 0 Axes>"
                  ]
               },
               "metadata": {},
               "output_type": "display_data"
            },
            {
               "data": {
                  "text/plain": [
                     "<Figure size 640x480 with 0 Axes>"
                  ]
               },
               "metadata": {},
               "output_type": "display_data"
            },
            {
               "data": {
                  "text/plain": [
                     "<Figure size 640x480 with 0 Axes>"
                  ]
               },
               "metadata": {},
               "output_type": "display_data"
            },
            {
               "data": {
                  "text/plain": [
                     "<Figure size 640x480 with 0 Axes>"
                  ]
               },
               "metadata": {},
               "output_type": "display_data"
            },
            {
               "data": {
                  "text/plain": [
                     "<Figure size 640x480 with 0 Axes>"
                  ]
               },
               "metadata": {},
               "output_type": "display_data"
            },
            {
               "data": {
                  "text/plain": [
                     "<Figure size 640x480 with 0 Axes>"
                  ]
               },
               "metadata": {},
               "output_type": "display_data"
            },
            {
               "data": {
                  "text/plain": [
                     "<Figure size 640x480 with 0 Axes>"
                  ]
               },
               "metadata": {},
               "output_type": "display_data"
            },
            {
               "data": {
                  "text/plain": [
                     "<Figure size 640x480 with 0 Axes>"
                  ]
               },
               "metadata": {},
               "output_type": "display_data"
            },
            {
               "data": {
                  "text/plain": [
                     "<Figure size 640x480 with 0 Axes>"
                  ]
               },
               "metadata": {},
               "output_type": "display_data"
            },
            {
               "data": {
                  "text/plain": [
                     "<Figure size 640x480 with 0 Axes>"
                  ]
               },
               "metadata": {},
               "output_type": "display_data"
            },
            {
               "data": {
                  "text/plain": [
                     "<Figure size 640x480 with 0 Axes>"
                  ]
               },
               "metadata": {},
               "output_type": "display_data"
            },
            {
               "data": {
                  "text/plain": [
                     "<Figure size 640x480 with 0 Axes>"
                  ]
               },
               "metadata": {},
               "output_type": "display_data"
            },
            {
               "data": {
                  "text/plain": [
                     "<Figure size 640x480 with 0 Axes>"
                  ]
               },
               "metadata": {},
               "output_type": "display_data"
            },
            {
               "data": {
                  "text/plain": [
                     "<Figure size 640x480 with 0 Axes>"
                  ]
               },
               "metadata": {},
               "output_type": "display_data"
            },
            {
               "data": {
                  "text/plain": [
                     "<Figure size 640x480 with 0 Axes>"
                  ]
               },
               "metadata": {},
               "output_type": "display_data"
            },
            {
               "data": {
                  "text/plain": [
                     "<Figure size 640x480 with 0 Axes>"
                  ]
               },
               "metadata": {},
               "output_type": "display_data"
            },
            {
               "data": {
                  "text/plain": [
                     "<Figure size 640x480 with 0 Axes>"
                  ]
               },
               "metadata": {},
               "output_type": "display_data"
            },
            {
               "data": {
                  "text/plain": [
                     "<Figure size 640x480 with 0 Axes>"
                  ]
               },
               "metadata": {},
               "output_type": "display_data"
            },
            {
               "data": {
                  "text/plain": [
                     "<Figure size 640x480 with 0 Axes>"
                  ]
               },
               "metadata": {},
               "output_type": "display_data"
            },
            {
               "data": {
                  "text/plain": [
                     "<Figure size 640x480 with 0 Axes>"
                  ]
               },
               "metadata": {},
               "output_type": "display_data"
            },
            {
               "data": {
                  "text/plain": [
                     "<Figure size 640x480 with 0 Axes>"
                  ]
               },
               "metadata": {},
               "output_type": "display_data"
            },
            {
               "data": {
                  "text/plain": [
                     "<Figure size 640x480 with 0 Axes>"
                  ]
               },
               "metadata": {},
               "output_type": "display_data"
            },
            {
               "data": {
                  "text/plain": [
                     "<Figure size 640x480 with 0 Axes>"
                  ]
               },
               "metadata": {},
               "output_type": "display_data"
            },
            {
               "data": {
                  "text/plain": [
                     "<Figure size 640x480 with 0 Axes>"
                  ]
               },
               "metadata": {},
               "output_type": "display_data"
            },
            {
               "data": {
                  "text/plain": [
                     "<Figure size 640x480 with 0 Axes>"
                  ]
               },
               "metadata": {},
               "output_type": "display_data"
            },
            {
               "data": {
                  "text/plain": [
                     "<Figure size 640x480 with 0 Axes>"
                  ]
               },
               "metadata": {},
               "output_type": "display_data"
            },
            {
               "data": {
                  "text/plain": [
                     "<Figure size 640x480 with 0 Axes>"
                  ]
               },
               "metadata": {},
               "output_type": "display_data"
            },
            {
               "data": {
                  "text/plain": [
                     "<Figure size 640x480 with 0 Axes>"
                  ]
               },
               "metadata": {},
               "output_type": "display_data"
            },
            {
               "data": {
                  "text/plain": [
                     "<Figure size 640x480 with 0 Axes>"
                  ]
               },
               "metadata": {},
               "output_type": "display_data"
            },
            {
               "data": {
                  "text/plain": [
                     "<Figure size 640x480 with 0 Axes>"
                  ]
               },
               "metadata": {},
               "output_type": "display_data"
            },
            {
               "data": {
                  "text/plain": [
                     "<Figure size 640x480 with 0 Axes>"
                  ]
               },
               "metadata": {},
               "output_type": "display_data"
            },
            {
               "data": {
                  "text/plain": [
                     "<Figure size 640x480 with 0 Axes>"
                  ]
               },
               "metadata": {},
               "output_type": "display_data"
            },
            {
               "data": {
                  "text/plain": [
                     "<Figure size 640x480 with 0 Axes>"
                  ]
               },
               "metadata": {},
               "output_type": "display_data"
            },
            {
               "data": {
                  "text/plain": [
                     "<Figure size 640x480 with 0 Axes>"
                  ]
               },
               "metadata": {},
               "output_type": "display_data"
            },
            {
               "data": {
                  "text/plain": [
                     "<Figure size 640x480 with 0 Axes>"
                  ]
               },
               "metadata": {},
               "output_type": "display_data"
            },
            {
               "data": {
                  "text/plain": [
                     "<Figure size 640x480 with 0 Axes>"
                  ]
               },
               "metadata": {},
               "output_type": "display_data"
            },
            {
               "data": {
                  "text/plain": [
                     "<Figure size 640x480 with 0 Axes>"
                  ]
               },
               "metadata": {},
               "output_type": "display_data"
            },
            {
               "data": {
                  "text/plain": [
                     "<Figure size 640x480 with 0 Axes>"
                  ]
               },
               "metadata": {},
               "output_type": "display_data"
            },
            {
               "data": {
                  "text/plain": [
                     "<Figure size 640x480 with 0 Axes>"
                  ]
               },
               "metadata": {},
               "output_type": "display_data"
            },
            {
               "data": {
                  "text/plain": [
                     "<Figure size 640x480 with 0 Axes>"
                  ]
               },
               "metadata": {},
               "output_type": "display_data"
            },
            {
               "data": {
                  "text/plain": [
                     "<Figure size 640x480 with 0 Axes>"
                  ]
               },
               "metadata": {},
               "output_type": "display_data"
            },
            {
               "data": {
                  "text/plain": [
                     "<Figure size 640x480 with 0 Axes>"
                  ]
               },
               "metadata": {},
               "output_type": "display_data"
            },
            {
               "data": {
                  "text/plain": [
                     "<Figure size 640x480 with 0 Axes>"
                  ]
               },
               "metadata": {},
               "output_type": "display_data"
            },
            {
               "data": {
                  "text/plain": [
                     "<Figure size 640x480 with 0 Axes>"
                  ]
               },
               "metadata": {},
               "output_type": "display_data"
            },
            {
               "data": {
                  "text/plain": [
                     "<Figure size 640x480 with 0 Axes>"
                  ]
               },
               "metadata": {},
               "output_type": "display_data"
            },
            {
               "data": {
                  "text/plain": [
                     "<Figure size 640x480 with 0 Axes>"
                  ]
               },
               "metadata": {},
               "output_type": "display_data"
            },
            {
               "data": {
                  "text/plain": [
                     "<Figure size 640x480 with 0 Axes>"
                  ]
               },
               "metadata": {},
               "output_type": "display_data"
            },
            {
               "data": {
                  "text/plain": [
                     "<Figure size 640x480 with 0 Axes>"
                  ]
               },
               "metadata": {},
               "output_type": "display_data"
            },
            {
               "data": {
                  "text/plain": [
                     "<Figure size 640x480 with 0 Axes>"
                  ]
               },
               "metadata": {},
               "output_type": "display_data"
            },
            {
               "data": {
                  "text/plain": [
                     "<Figure size 640x480 with 0 Axes>"
                  ]
               },
               "metadata": {},
               "output_type": "display_data"
            },
            {
               "data": {
                  "text/plain": [
                     "<Figure size 640x480 with 0 Axes>"
                  ]
               },
               "metadata": {},
               "output_type": "display_data"
            },
            {
               "data": {
                  "text/plain": [
                     "<Figure size 640x480 with 0 Axes>"
                  ]
               },
               "metadata": {},
               "output_type": "display_data"
            },
            {
               "data": {
                  "text/plain": [
                     "<Figure size 640x480 with 0 Axes>"
                  ]
               },
               "metadata": {},
               "output_type": "display_data"
            },
            {
               "data": {
                  "text/plain": [
                     "<Figure size 640x480 with 0 Axes>"
                  ]
               },
               "metadata": {},
               "output_type": "display_data"
            },
            {
               "data": {
                  "text/plain": [
                     "<Figure size 640x480 with 0 Axes>"
                  ]
               },
               "metadata": {},
               "output_type": "display_data"
            },
            {
               "data": {
                  "text/plain": [
                     "<Figure size 640x480 with 0 Axes>"
                  ]
               },
               "metadata": {},
               "output_type": "display_data"
            },
            {
               "data": {
                  "text/plain": [
                     "<Figure size 640x480 with 0 Axes>"
                  ]
               },
               "metadata": {},
               "output_type": "display_data"
            },
            {
               "data": {
                  "text/plain": [
                     "<Figure size 640x480 with 0 Axes>"
                  ]
               },
               "metadata": {},
               "output_type": "display_data"
            },
            {
               "data": {
                  "text/plain": [
                     "<Figure size 640x480 with 0 Axes>"
                  ]
               },
               "metadata": {},
               "output_type": "display_data"
            },
            {
               "data": {
                  "text/plain": [
                     "<Figure size 640x480 with 0 Axes>"
                  ]
               },
               "metadata": {},
               "output_type": "display_data"
            },
            {
               "data": {
                  "text/plain": [
                     "<Figure size 640x480 with 0 Axes>"
                  ]
               },
               "metadata": {},
               "output_type": "display_data"
            },
            {
               "data": {
                  "text/plain": [
                     "<Figure size 640x480 with 0 Axes>"
                  ]
               },
               "metadata": {},
               "output_type": "display_data"
            },
            {
               "data": {
                  "text/plain": [
                     "<Figure size 640x480 with 0 Axes>"
                  ]
               },
               "metadata": {},
               "output_type": "display_data"
            },
            {
               "data": {
                  "text/plain": [
                     "<Figure size 640x480 with 0 Axes>"
                  ]
               },
               "metadata": {},
               "output_type": "display_data"
            },
            {
               "data": {
                  "text/plain": [
                     "<Figure size 640x480 with 0 Axes>"
                  ]
               },
               "metadata": {},
               "output_type": "display_data"
            },
            {
               "data": {
                  "text/plain": [
                     "<Figure size 640x480 with 0 Axes>"
                  ]
               },
               "metadata": {},
               "output_type": "display_data"
            },
            {
               "data": {
                  "text/plain": [
                     "<Figure size 640x480 with 0 Axes>"
                  ]
               },
               "metadata": {},
               "output_type": "display_data"
            },
            {
               "data": {
                  "text/plain": [
                     "<Figure size 640x480 with 0 Axes>"
                  ]
               },
               "metadata": {},
               "output_type": "display_data"
            },
            {
               "data": {
                  "text/plain": [
                     "<Figure size 640x480 with 0 Axes>"
                  ]
               },
               "metadata": {},
               "output_type": "display_data"
            },
            {
               "data": {
                  "text/plain": [
                     "<Figure size 640x480 with 0 Axes>"
                  ]
               },
               "metadata": {},
               "output_type": "display_data"
            },
            {
               "data": {
                  "text/plain": [
                     "<Figure size 640x480 with 0 Axes>"
                  ]
               },
               "metadata": {},
               "output_type": "display_data"
            },
            {
               "data": {
                  "text/plain": [
                     "<Figure size 640x480 with 0 Axes>"
                  ]
               },
               "metadata": {},
               "output_type": "display_data"
            },
            {
               "data": {
                  "text/plain": [
                     "<Figure size 640x480 with 0 Axes>"
                  ]
               },
               "metadata": {},
               "output_type": "display_data"
            },
            {
               "data": {
                  "text/plain": [
                     "<Figure size 640x480 with 0 Axes>"
                  ]
               },
               "metadata": {},
               "output_type": "display_data"
            },
            {
               "data": {
                  "text/plain": [
                     "<Figure size 640x480 with 0 Axes>"
                  ]
               },
               "metadata": {},
               "output_type": "display_data"
            },
            {
               "data": {
                  "text/plain": [
                     "<Figure size 640x480 with 0 Axes>"
                  ]
               },
               "metadata": {},
               "output_type": "display_data"
            },
            {
               "data": {
                  "text/plain": [
                     "<Figure size 640x480 with 0 Axes>"
                  ]
               },
               "metadata": {},
               "output_type": "display_data"
            },
            {
               "data": {
                  "text/plain": [
                     "<Figure size 640x480 with 0 Axes>"
                  ]
               },
               "metadata": {},
               "output_type": "display_data"
            },
            {
               "data": {
                  "text/plain": [
                     "<Figure size 640x480 with 0 Axes>"
                  ]
               },
               "metadata": {},
               "output_type": "display_data"
            },
            {
               "data": {
                  "text/plain": [
                     "<Figure size 640x480 with 0 Axes>"
                  ]
               },
               "metadata": {},
               "output_type": "display_data"
            },
            {
               "data": {
                  "text/plain": [
                     "<Figure size 640x480 with 0 Axes>"
                  ]
               },
               "metadata": {},
               "output_type": "display_data"
            },
            {
               "data": {
                  "text/plain": [
                     "<Figure size 640x480 with 0 Axes>"
                  ]
               },
               "metadata": {},
               "output_type": "display_data"
            },
            {
               "data": {
                  "text/plain": [
                     "<Figure size 640x480 with 0 Axes>"
                  ]
               },
               "metadata": {},
               "output_type": "display_data"
            },
            {
               "data": {
                  "text/plain": [
                     "<Figure size 640x480 with 0 Axes>"
                  ]
               },
               "metadata": {},
               "output_type": "display_data"
            },
            {
               "data": {
                  "text/plain": [
                     "<Figure size 640x480 with 0 Axes>"
                  ]
               },
               "metadata": {},
               "output_type": "display_data"
            },
            {
               "data": {
                  "text/plain": [
                     "<Figure size 640x480 with 0 Axes>"
                  ]
               },
               "metadata": {},
               "output_type": "display_data"
            },
            {
               "data": {
                  "text/plain": [
                     "<Figure size 640x480 with 0 Axes>"
                  ]
               },
               "metadata": {},
               "output_type": "display_data"
            },
            {
               "data": {
                  "text/plain": [
                     "<Figure size 640x480 with 0 Axes>"
                  ]
               },
               "metadata": {},
               "output_type": "display_data"
            },
            {
               "data": {
                  "text/plain": [
                     "<Figure size 640x480 with 0 Axes>"
                  ]
               },
               "metadata": {},
               "output_type": "display_data"
            },
            {
               "data": {
                  "text/plain": [
                     "<Figure size 640x480 with 0 Axes>"
                  ]
               },
               "metadata": {},
               "output_type": "display_data"
            },
            {
               "data": {
                  "text/plain": [
                     "<Figure size 640x480 with 0 Axes>"
                  ]
               },
               "metadata": {},
               "output_type": "display_data"
            },
            {
               "data": {
                  "text/plain": [
                     "<Figure size 640x480 with 0 Axes>"
                  ]
               },
               "metadata": {},
               "output_type": "display_data"
            },
            {
               "data": {
                  "text/plain": [
                     "<Figure size 640x480 with 0 Axes>"
                  ]
               },
               "metadata": {},
               "output_type": "display_data"
            },
            {
               "data": {
                  "text/plain": [
                     "<Figure size 640x480 with 0 Axes>"
                  ]
               },
               "metadata": {},
               "output_type": "display_data"
            },
            {
               "data": {
                  "text/plain": [
                     "<Figure size 640x480 with 0 Axes>"
                  ]
               },
               "metadata": {},
               "output_type": "display_data"
            },
            {
               "data": {
                  "text/plain": [
                     "<Figure size 640x480 with 0 Axes>"
                  ]
               },
               "metadata": {},
               "output_type": "display_data"
            },
            {
               "data": {
                  "text/plain": [
                     "<Figure size 640x480 with 0 Axes>"
                  ]
               },
               "metadata": {},
               "output_type": "display_data"
            },
            {
               "data": {
                  "text/plain": [
                     "<Figure size 640x480 with 0 Axes>"
                  ]
               },
               "metadata": {},
               "output_type": "display_data"
            },
            {
               "data": {
                  "text/plain": [
                     "<Figure size 640x480 with 0 Axes>"
                  ]
               },
               "metadata": {},
               "output_type": "display_data"
            },
            {
               "data": {
                  "text/plain": [
                     "<Figure size 640x480 with 0 Axes>"
                  ]
               },
               "metadata": {},
               "output_type": "display_data"
            },
            {
               "data": {
                  "text/plain": [
                     "<Figure size 640x480 with 0 Axes>"
                  ]
               },
               "metadata": {},
               "output_type": "display_data"
            },
            {
               "data": {
                  "text/plain": [
                     "<Figure size 640x480 with 0 Axes>"
                  ]
               },
               "metadata": {},
               "output_type": "display_data"
            },
            {
               "data": {
                  "text/plain": [
                     "<Figure size 640x480 with 0 Axes>"
                  ]
               },
               "metadata": {},
               "output_type": "display_data"
            },
            {
               "data": {
                  "text/plain": [
                     "<Figure size 640x480 with 0 Axes>"
                  ]
               },
               "metadata": {},
               "output_type": "display_data"
            },
            {
               "data": {
                  "text/plain": [
                     "<Figure size 640x480 with 0 Axes>"
                  ]
               },
               "metadata": {},
               "output_type": "display_data"
            },
            {
               "data": {
                  "text/plain": [
                     "<Figure size 640x480 with 0 Axes>"
                  ]
               },
               "metadata": {},
               "output_type": "display_data"
            },
            {
               "data": {
                  "text/plain": [
                     "<Figure size 640x480 with 0 Axes>"
                  ]
               },
               "metadata": {},
               "output_type": "display_data"
            },
            {
               "data": {
                  "text/plain": [
                     "<Figure size 640x480 with 0 Axes>"
                  ]
               },
               "metadata": {},
               "output_type": "display_data"
            },
            {
               "data": {
                  "text/plain": [
                     "<Figure size 640x480 with 0 Axes>"
                  ]
               },
               "metadata": {},
               "output_type": "display_data"
            },
            {
               "data": {
                  "text/plain": [
                     "<Figure size 640x480 with 0 Axes>"
                  ]
               },
               "metadata": {},
               "output_type": "display_data"
            },
            {
               "data": {
                  "text/plain": [
                     "<Figure size 640x480 with 0 Axes>"
                  ]
               },
               "metadata": {},
               "output_type": "display_data"
            },
            {
               "data": {
                  "text/plain": [
                     "<Figure size 640x480 with 0 Axes>"
                  ]
               },
               "metadata": {},
               "output_type": "display_data"
            },
            {
               "data": {
                  "text/plain": [
                     "<Figure size 640x480 with 0 Axes>"
                  ]
               },
               "metadata": {},
               "output_type": "display_data"
            },
            {
               "data": {
                  "text/plain": [
                     "<Figure size 640x480 with 0 Axes>"
                  ]
               },
               "metadata": {},
               "output_type": "display_data"
            },
            {
               "data": {
                  "text/plain": [
                     "<Figure size 640x480 with 0 Axes>"
                  ]
               },
               "metadata": {},
               "output_type": "display_data"
            },
            {
               "data": {
                  "text/plain": [
                     "<Figure size 640x480 with 0 Axes>"
                  ]
               },
               "metadata": {},
               "output_type": "display_data"
            },
            {
               "data": {
                  "text/plain": [
                     "<Figure size 640x480 with 0 Axes>"
                  ]
               },
               "metadata": {},
               "output_type": "display_data"
            },
            {
               "data": {
                  "text/plain": [
                     "<Figure size 640x480 with 0 Axes>"
                  ]
               },
               "metadata": {},
               "output_type": "display_data"
            },
            {
               "data": {
                  "text/plain": [
                     "<Figure size 640x480 with 0 Axes>"
                  ]
               },
               "metadata": {},
               "output_type": "display_data"
            },
            {
               "data": {
                  "text/plain": [
                     "<Figure size 640x480 with 0 Axes>"
                  ]
               },
               "metadata": {},
               "output_type": "display_data"
            },
            {
               "data": {
                  "text/plain": [
                     "<Figure size 640x480 with 0 Axes>"
                  ]
               },
               "metadata": {},
               "output_type": "display_data"
            },
            {
               "data": {
                  "text/plain": [
                     "<Figure size 640x480 with 0 Axes>"
                  ]
               },
               "metadata": {},
               "output_type": "display_data"
            },
            {
               "data": {
                  "text/plain": [
                     "<Figure size 640x480 with 0 Axes>"
                  ]
               },
               "metadata": {},
               "output_type": "display_data"
            },
            {
               "data": {
                  "text/plain": [
                     "<Figure size 640x480 with 0 Axes>"
                  ]
               },
               "metadata": {},
               "output_type": "display_data"
            },
            {
               "data": {
                  "text/plain": [
                     "<Figure size 640x480 with 0 Axes>"
                  ]
               },
               "metadata": {},
               "output_type": "display_data"
            },
            {
               "data": {
                  "text/plain": [
                     "<Figure size 640x480 with 0 Axes>"
                  ]
               },
               "metadata": {},
               "output_type": "display_data"
            },
            {
               "data": {
                  "text/plain": [
                     "<Figure size 640x480 with 0 Axes>"
                  ]
               },
               "metadata": {},
               "output_type": "display_data"
            },
            {
               "data": {
                  "text/plain": [
                     "<Figure size 640x480 with 0 Axes>"
                  ]
               },
               "metadata": {},
               "output_type": "display_data"
            },
            {
               "data": {
                  "text/plain": [
                     "<Figure size 640x480 with 0 Axes>"
                  ]
               },
               "metadata": {},
               "output_type": "display_data"
            },
            {
               "data": {
                  "text/plain": [
                     "<Figure size 640x480 with 0 Axes>"
                  ]
               },
               "metadata": {},
               "output_type": "display_data"
            },
            {
               "data": {
                  "text/plain": [
                     "<Figure size 640x480 with 0 Axes>"
                  ]
               },
               "metadata": {},
               "output_type": "display_data"
            },
            {
               "data": {
                  "text/plain": [
                     "<Figure size 640x480 with 0 Axes>"
                  ]
               },
               "metadata": {},
               "output_type": "display_data"
            },
            {
               "data": {
                  "text/plain": [
                     "<Figure size 640x480 with 0 Axes>"
                  ]
               },
               "metadata": {},
               "output_type": "display_data"
            },
            {
               "data": {
                  "text/plain": [
                     "<Figure size 640x480 with 0 Axes>"
                  ]
               },
               "metadata": {},
               "output_type": "display_data"
            },
            {
               "data": {
                  "text/plain": [
                     "<Figure size 640x480 with 0 Axes>"
                  ]
               },
               "metadata": {},
               "output_type": "display_data"
            },
            {
               "data": {
                  "text/plain": [
                     "<Figure size 640x480 with 0 Axes>"
                  ]
               },
               "metadata": {},
               "output_type": "display_data"
            },
            {
               "data": {
                  "text/plain": [
                     "<Figure size 640x480 with 0 Axes>"
                  ]
               },
               "metadata": {},
               "output_type": "display_data"
            },
            {
               "data": {
                  "text/plain": [
                     "<Figure size 640x480 with 0 Axes>"
                  ]
               },
               "metadata": {},
               "output_type": "display_data"
            },
            {
               "data": {
                  "text/plain": [
                     "<Figure size 640x480 with 0 Axes>"
                  ]
               },
               "metadata": {},
               "output_type": "display_data"
            },
            {
               "data": {
                  "text/plain": [
                     "<Figure size 640x480 with 0 Axes>"
                  ]
               },
               "metadata": {},
               "output_type": "display_data"
            },
            {
               "data": {
                  "text/plain": [
                     "<Figure size 640x480 with 0 Axes>"
                  ]
               },
               "metadata": {},
               "output_type": "display_data"
            },
            {
               "data": {
                  "text/plain": [
                     "<Figure size 640x480 with 0 Axes>"
                  ]
               },
               "metadata": {},
               "output_type": "display_data"
            },
            {
               "data": {
                  "text/plain": [
                     "<Figure size 640x480 with 0 Axes>"
                  ]
               },
               "metadata": {},
               "output_type": "display_data"
            },
            {
               "data": {
                  "text/plain": [
                     "<Figure size 640x480 with 0 Axes>"
                  ]
               },
               "metadata": {},
               "output_type": "display_data"
            },
            {
               "data": {
                  "text/plain": [
                     "<Figure size 640x480 with 0 Axes>"
                  ]
               },
               "metadata": {},
               "output_type": "display_data"
            },
            {
               "data": {
                  "text/plain": [
                     "<Figure size 640x480 with 0 Axes>"
                  ]
               },
               "metadata": {},
               "output_type": "display_data"
            },
            {
               "data": {
                  "text/plain": [
                     "<Figure size 640x480 with 0 Axes>"
                  ]
               },
               "metadata": {},
               "output_type": "display_data"
            },
            {
               "data": {
                  "text/plain": [
                     "<Figure size 640x480 with 0 Axes>"
                  ]
               },
               "metadata": {},
               "output_type": "display_data"
            },
            {
               "data": {
                  "text/plain": [
                     "<Figure size 640x480 with 0 Axes>"
                  ]
               },
               "metadata": {},
               "output_type": "display_data"
            },
            {
               "data": {
                  "text/plain": [
                     "<Figure size 640x480 with 0 Axes>"
                  ]
               },
               "metadata": {},
               "output_type": "display_data"
            },
            {
               "data": {
                  "text/plain": [
                     "<Figure size 640x480 with 0 Axes>"
                  ]
               },
               "metadata": {},
               "output_type": "display_data"
            },
            {
               "data": {
                  "text/plain": [
                     "<Figure size 640x480 with 0 Axes>"
                  ]
               },
               "metadata": {},
               "output_type": "display_data"
            },
            {
               "data": {
                  "text/plain": [
                     "<Figure size 640x480 with 0 Axes>"
                  ]
               },
               "metadata": {},
               "output_type": "display_data"
            },
            {
               "data": {
                  "text/plain": [
                     "<Figure size 640x480 with 0 Axes>"
                  ]
               },
               "metadata": {},
               "output_type": "display_data"
            },
            {
               "data": {
                  "text/plain": [
                     "<Figure size 640x480 with 0 Axes>"
                  ]
               },
               "metadata": {},
               "output_type": "display_data"
            },
            {
               "data": {
                  "text/plain": [
                     "<Figure size 640x480 with 0 Axes>"
                  ]
               },
               "metadata": {},
               "output_type": "display_data"
            },
            {
               "data": {
                  "text/plain": [
                     "<Figure size 640x480 with 0 Axes>"
                  ]
               },
               "metadata": {},
               "output_type": "display_data"
            },
            {
               "data": {
                  "text/plain": [
                     "<Figure size 640x480 with 0 Axes>"
                  ]
               },
               "metadata": {},
               "output_type": "display_data"
            },
            {
               "data": {
                  "text/plain": [
                     "<Figure size 640x480 with 0 Axes>"
                  ]
               },
               "metadata": {},
               "output_type": "display_data"
            },
            {
               "data": {
                  "text/plain": [
                     "<Figure size 640x480 with 0 Axes>"
                  ]
               },
               "metadata": {},
               "output_type": "display_data"
            },
            {
               "data": {
                  "text/plain": [
                     "<Figure size 640x480 with 0 Axes>"
                  ]
               },
               "metadata": {},
               "output_type": "display_data"
            },
            {
               "data": {
                  "text/plain": [
                     "<Figure size 640x480 with 0 Axes>"
                  ]
               },
               "metadata": {},
               "output_type": "display_data"
            },
            {
               "data": {
                  "text/plain": [
                     "<Figure size 640x480 with 0 Axes>"
                  ]
               },
               "metadata": {},
               "output_type": "display_data"
            },
            {
               "data": {
                  "text/plain": [
                     "<Figure size 640x480 with 0 Axes>"
                  ]
               },
               "metadata": {},
               "output_type": "display_data"
            },
            {
               "data": {
                  "text/plain": [
                     "<Figure size 640x480 with 0 Axes>"
                  ]
               },
               "metadata": {},
               "output_type": "display_data"
            },
            {
               "data": {
                  "text/plain": [
                     "<Figure size 640x480 with 0 Axes>"
                  ]
               },
               "metadata": {},
               "output_type": "display_data"
            },
            {
               "data": {
                  "text/plain": [
                     "<Figure size 640x480 with 0 Axes>"
                  ]
               },
               "metadata": {},
               "output_type": "display_data"
            },
            {
               "data": {
                  "text/plain": [
                     "<Figure size 640x480 with 0 Axes>"
                  ]
               },
               "metadata": {},
               "output_type": "display_data"
            },
            {
               "data": {
                  "text/plain": [
                     "<Figure size 640x480 with 0 Axes>"
                  ]
               },
               "metadata": {},
               "output_type": "display_data"
            },
            {
               "data": {
                  "text/plain": [
                     "<Figure size 640x480 with 0 Axes>"
                  ]
               },
               "metadata": {},
               "output_type": "display_data"
            },
            {
               "data": {
                  "text/plain": [
                     "<Figure size 640x480 with 0 Axes>"
                  ]
               },
               "metadata": {},
               "output_type": "display_data"
            },
            {
               "data": {
                  "text/plain": [
                     "<Figure size 640x480 with 0 Axes>"
                  ]
               },
               "metadata": {},
               "output_type": "display_data"
            },
            {
               "data": {
                  "text/plain": [
                     "<Figure size 640x480 with 0 Axes>"
                  ]
               },
               "metadata": {},
               "output_type": "display_data"
            },
            {
               "data": {
                  "text/plain": [
                     "<Figure size 640x480 with 0 Axes>"
                  ]
               },
               "metadata": {},
               "output_type": "display_data"
            },
            {
               "data": {
                  "text/plain": [
                     "<Figure size 640x480 with 0 Axes>"
                  ]
               },
               "metadata": {},
               "output_type": "display_data"
            },
            {
               "data": {
                  "text/plain": [
                     "<Figure size 640x480 with 0 Axes>"
                  ]
               },
               "metadata": {},
               "output_type": "display_data"
            },
            {
               "data": {
                  "text/plain": [
                     "<Figure size 640x480 with 0 Axes>"
                  ]
               },
               "metadata": {},
               "output_type": "display_data"
            },
            {
               "data": {
                  "text/plain": [
                     "<Figure size 640x480 with 0 Axes>"
                  ]
               },
               "metadata": {},
               "output_type": "display_data"
            },
            {
               "data": {
                  "text/plain": [
                     "<Figure size 640x480 with 0 Axes>"
                  ]
               },
               "metadata": {},
               "output_type": "display_data"
            },
            {
               "data": {
                  "text/plain": [
                     "<Figure size 640x480 with 0 Axes>"
                  ]
               },
               "metadata": {},
               "output_type": "display_data"
            },
            {
               "data": {
                  "text/plain": [
                     "<Figure size 640x480 with 0 Axes>"
                  ]
               },
               "metadata": {},
               "output_type": "display_data"
            },
            {
               "data": {
                  "text/plain": [
                     "<Figure size 640x480 with 0 Axes>"
                  ]
               },
               "metadata": {},
               "output_type": "display_data"
            },
            {
               "data": {
                  "text/plain": [
                     "<Figure size 640x480 with 0 Axes>"
                  ]
               },
               "metadata": {},
               "output_type": "display_data"
            },
            {
               "data": {
                  "text/plain": [
                     "<Figure size 640x480 with 0 Axes>"
                  ]
               },
               "metadata": {},
               "output_type": "display_data"
            },
            {
               "data": {
                  "text/plain": [
                     "<Figure size 640x480 with 0 Axes>"
                  ]
               },
               "metadata": {},
               "output_type": "display_data"
            },
            {
               "data": {
                  "text/plain": [
                     "<Figure size 640x480 with 0 Axes>"
                  ]
               },
               "metadata": {},
               "output_type": "display_data"
            },
            {
               "data": {
                  "text/plain": [
                     "<Figure size 640x480 with 0 Axes>"
                  ]
               },
               "metadata": {},
               "output_type": "display_data"
            },
            {
               "data": {
                  "text/plain": [
                     "<Figure size 640x480 with 0 Axes>"
                  ]
               },
               "metadata": {},
               "output_type": "display_data"
            },
            {
               "data": {
                  "text/plain": [
                     "<Figure size 640x480 with 0 Axes>"
                  ]
               },
               "metadata": {},
               "output_type": "display_data"
            },
            {
               "data": {
                  "text/plain": [
                     "<Figure size 640x480 with 0 Axes>"
                  ]
               },
               "metadata": {},
               "output_type": "display_data"
            },
            {
               "data": {
                  "text/plain": [
                     "<Figure size 640x480 with 0 Axes>"
                  ]
               },
               "metadata": {},
               "output_type": "display_data"
            },
            {
               "data": {
                  "text/plain": [
                     "<Figure size 640x480 with 0 Axes>"
                  ]
               },
               "metadata": {},
               "output_type": "display_data"
            },
            {
               "data": {
                  "text/plain": [
                     "<Figure size 640x480 with 0 Axes>"
                  ]
               },
               "metadata": {},
               "output_type": "display_data"
            },
            {
               "data": {
                  "text/plain": [
                     "<Figure size 640x480 with 0 Axes>"
                  ]
               },
               "metadata": {},
               "output_type": "display_data"
            },
            {
               "data": {
                  "text/plain": [
                     "<Figure size 640x480 with 0 Axes>"
                  ]
               },
               "metadata": {},
               "output_type": "display_data"
            },
            {
               "data": {
                  "text/plain": [
                     "<Figure size 640x480 with 0 Axes>"
                  ]
               },
               "metadata": {},
               "output_type": "display_data"
            },
            {
               "data": {
                  "text/plain": [
                     "<Figure size 640x480 with 0 Axes>"
                  ]
               },
               "metadata": {},
               "output_type": "display_data"
            },
            {
               "data": {
                  "text/plain": [
                     "<Figure size 640x480 with 0 Axes>"
                  ]
               },
               "metadata": {},
               "output_type": "display_data"
            },
            {
               "data": {
                  "text/plain": [
                     "<Figure size 640x480 with 0 Axes>"
                  ]
               },
               "metadata": {},
               "output_type": "display_data"
            },
            {
               "data": {
                  "text/plain": [
                     "<Figure size 640x480 with 0 Axes>"
                  ]
               },
               "metadata": {},
               "output_type": "display_data"
            },
            {
               "data": {
                  "text/plain": [
                     "<Figure size 640x480 with 0 Axes>"
                  ]
               },
               "metadata": {},
               "output_type": "display_data"
            },
            {
               "data": {
                  "text/plain": [
                     "<Figure size 640x480 with 0 Axes>"
                  ]
               },
               "metadata": {},
               "output_type": "display_data"
            },
            {
               "data": {
                  "text/plain": [
                     "<Figure size 640x480 with 0 Axes>"
                  ]
               },
               "metadata": {},
               "output_type": "display_data"
            },
            {
               "data": {
                  "image/png": "[encoded data removed]",
                  "text/plain": [
                     "<Figure size 640x480 with 1 Axes>"
                  ]
               },
               "metadata": {},
               "output_type": "display_data"
            }
         ],
         "source": [
            "import os\n",
            "import numpy as np\n",
            "from raug.metrics_2 import Metrics, accuracy\n",
            "from raug.utils.loader import get_labels_frequency\n",
            "import pandas as pd\n",
            "\n",
            "# Especificar o caminho para a pasta \"best_results\"\n",
            "folder_path = \"best_results\"\n",
            "_csv_path_test = \"/home/a52550/Desktop/datasets/ISIC2017/test/ISIC-2017_Test_v2_Part3_GroundTruth.csv\"\n",
            "true_labels = pd.read_csv(_csv_path_test).sort_values(by=['image_id'])['category']\n",
            "\n",
            "# Inicializar as variáveis para armazenar as previsões dos modelos\n",
            "ensemble_preds_best = None\n",
            "ensemble_preds_last = None\n",
            "num_models = 0\n",
            "ser_lab_freq = get_labels_frequency(_csv_path_test, \"category\", \"image_id\")\n",
            "_labels_name = ser_lab_freq.index.values #np.reshape(ser_lab_freq.index.values, (ser_lab_freq.index.values.shape[0], 1))\n",
            "\n",
            "# Percorrer as pastas de cada experimento\n",
            "for experiment_folder in os.listdir(folder_path):\n",
            "\n",
            "    df_best = pd.DataFrame()\n",
            "    df_last = pd.DataFrame()\n",
            "\n",
            "\n",
            "    if \".csv\" in experiment_folder or \".txt\" in experiment_folder:\n",
            "        continue\n",
            "\n",
            "    print(\"Experimento: \", experiment_folder)\n",
            "\n",
            "\n",
            "    experiment_path = os.path.join(folder_path, experiment_folder)\n",
            "\n",
            "    ensemble_preds_best = None\n",
            "    ensemble_preds_last = None\n",
            "\n",
            "    model_folders = os.listdir(experiment_path)\n",
            "\n",
            "    # Check if substring \"senet154\" is present in model_folders\n",
            "    if any(\"senet154\" in s for s in model_folders):\n",
            "        continue\n",
            "\n",
            "    \n",
            "    # Cria path para o experimento atual\n",
            "    if 'ensemble_average' in model_folders:\n",
            "        model_folders.remove('ensemble_average')\n",
            "    else:\n",
            "        os.mkdir(os.path.join(folder_path, experiment_folder, 'ensemble_average'))\n",
            "        os.mkdir(os.path.join(_metric_options_best['save_all_path']))\n",
            "        os.mkdir(os.path.join(_metric_options_last['save_all_path']))\n",
            "\n",
            "    if 'ensemble_3_best_average' in model_folders:\n",
            "        model_folders.remove('ensemble_3_best_average')\n",
            "    \n",
            "    if 'ensemble_votation' in model_folders:\n",
            "        model_folders.remove('ensemble_votation')\n",
            "\n",
            "    if 'DAandPPlatex.txt' in model_folders:\n",
            "        model_folders.remove('DAandPPlatex.txt')\n",
            "\n",
            "    model_folders = [x for x in model_folders if \".csv\" not in x]\n",
            "\n",
            "    try:\n",
            "\n",
            "        # Percorrer as pastas de cada modelo\n",
            "        for model_folder in model_folders:\n",
            "\n",
            "            model_path = os.path.join(experiment_path, model_folder)\n",
            "            _metric_options_best = {\n",
            "                'save_all_path': os.path.join(model_path, 'new_test_pred_best'),\n",
            "                'pred_name_scores': 'predictions.csv',\n",
            "            }\n",
            "            _metric_options_last = {\n",
            "                'save_all_path': os.path.join(model_path, 'new_test_pred_last'),\n",
            "                'pred_name_scores': 'predictions.csv',\n",
            "            }\n",
            "\n",
            "            if 'new_test_pred_best' not in os.listdir(model_path):\n",
            "                os.mkdir(os.path.join(model_path, 'new_test_pred_best'))\n",
            "            if 'new_test_pred_last' not in os.listdir(model_path):\n",
            "                os.mkdir(os.path.join(model_path, 'new_test_pred_last'))\n",
            "\n",
            "            # Carregar as previsões do modelo atual\n",
            "            model_preds_path_best = os.path.join(model_path, \"test_pred_best/predictions.csv\")\n",
            "            model_preds_path_last = os.path.join(model_path, \"test_pred_last/predictions.csv\")\n",
            "\n",
            "            model_preds_best = pd.read_csv(model_preds_path_best).sort_values(by=['image'])\n",
            "            model_preds_last = pd.read_csv(model_preds_path_last).sort_values(by=['image'])\n",
            "\n",
            "            metrics_best = Metrics ([\"accuracy\", \"topk_accuracy\", \"balanced_accuracy\", \"conf_matrix\" \"plot_conf_matrix\", \"precision_recall_report\", \"auc_and_roc_curve\", \"auc\"] , _labels_name, _metric_options_best)\n",
            "            metrics_last = Metrics ([\"accuracy\", \"topk_accuracy\", \"balanced_accuracy\", \"conf_matrix\" \"plot_conf_matrix\", \"precision_recall_report\", \"auc_and_roc_curve\", \"auc\"] , _labels_name, _metric_options_last)\n",
            "\n",
            "            metrics_best.update_scores(true_labels, model_preds_best[['0','1','2']].to_numpy(), model_preds_best[['image']].to_numpy())\n",
            "            metrics_last.update_scores(true_labels, model_preds_best[['0','1','2']].to_numpy(), model_preds_best[['image']].to_numpy())\n",
            "\n",
            "            metrics_best.compute_metrics()\n",
            "            metrics_last.compute_metrics()\n",
            "\n",
            "            metrics_best.save_scores()\n",
            "            metrics_last.save_scores()\n",
            "\n",
            "            for auc_metric in metrics_best.metrics_values['auc_and_roc_curve'][0]:\n",
            "                metrics_best.metrics_values[\"auc_\" + str(auc_metric)] = metrics_best.metrics_values['auc_and_roc_curve'][0][auc_metric]\n",
            "                metrics_last.metrics_values[\"auc_\" + str(auc_metric)] = metrics_last.metrics_values['auc_and_roc_curve'][0][auc_metric]\n",
            "            \n",
            "            # del metrics_best.metrics_values['conf_matrix']\n",
            "            del metrics_best.metrics_values['auc_and_roc_curve']\n",
            "            del metrics_best.metrics_values['precision_recall_report']\n",
            "\n",
            "            # del metrics_last.metrics_values['conf_matrix']\n",
            "            del metrics_last.metrics_values['auc_and_roc_curve']\n",
            "            del metrics_last.metrics_values['precision_recall_report']\n",
            "\n",
            "            folder_name = {'folder_name': model_folder, 'model_name': model_folder.split('_fold')[0]}\n",
            "            dict_best = {**folder_name, **metrics_best.metrics_values}\n",
            "            dict_last = {**folder_name, **metrics_last.metrics_values}\n",
            "\n",
            "\n",
            "            df_best = df_best.append(pd.DataFrame(dict_best, columns=dict_best.keys(), index=[0]), ignore_index=True)\n",
            "            df_last = df_last.append(pd.DataFrame(dict_last, columns=dict_last.keys(), index=[0]), ignore_index=True)\n",
            "\n",
            "    except Exception as e:\n",
            "        print(\"Erro no experimento \", experiment_folder)\n",
            "        print(e)\n",
            "\n",
            "\n",
            "    df_best.to_csv(os.path.join(experiment_path, 'results_best.csv'), index=False)\n",
            "    df_last.to_csv(os.path.join(experiment_path, 'results_last.csv'), index=False)\n",
            "\n",
            "# Avaliar a precisão do modelo de ensemble\n",
            "# true_classes_path = os.path.join(folder_path, \"true_classes.csv\")\n",
            "# true_classes = np.loadtxt(_csv_path_test, delimiter=\",\", skiprows=1)\n",
            "\n",
            "# from sklearn.metrics import accuracy_score, precision_score, recall_score, f1_score\n",
            "\n",
            "# accuracy = accuracy_score(true_classes, ensemble_classes)\n",
            "# precision = precision_score(true_classes, ensemble_classes, average=\"macro\")\n",
            "# recall = recall_score(true_classes, ensemble_classes, average=\"macro\")\n",
            "# f1 = f1_score(true_classes, ensemble_classes, average=\"macro\")\n",
            "\n",
            "# # Imprimir as métricas de avaliação\n",
            "# print(f\"Acurácia: {accuracy:.3f}\")\n",
            "# print(f\"Precisão: {precision:.3f}\")\n",
            "# print(f\"Recall: {recall:.3f}\")\n",
            "# print(f\"F1-score: {f1:.3f}\")\n"
         ]
      },
      {
         "cell_type": "code",
         "execution_count": null,
         "metadata": {},
         "outputs": [],
         "source": [
            "import os\n",
            "import numpy as np\n",
            "from raug.metrics_2 import Metrics, accuracy\n",
            "from raug.utils.loader import get_labels_frequency\n",
            "import pandas as pd\n",
            "\n",
            "# Especificar o caminho para a pasta \"best_results\"\n",
            "folder_path = \"best_results\"\n",
            "_csv_path_test = \"/home/a52550/Desktop/datasets/ISIC2017/test/ISIC-2017_Test_v2_Part3_GroundTruth.csv\"\n",
            "true_labels = pd.read_csv(_csv_path_test).sort_values(by=['image_id'])['category']\n",
            "\n",
            "# Inicializar as variáveis para armazenar as previsões dos modelos\n",
            "ensemble_preds_best = None\n",
            "ensemble_preds_last = None\n",
            "num_models = 0\n",
            "ser_lab_freq = get_labels_frequency(_csv_path_test, \"category\", \"image_id\")\n",
            "_labels_name = ser_lab_freq.index.values #np.reshape(ser_lab_freq.index.values, (ser_lab_freq.index.values.shape[0], 1))\n",
            "\n",
            "df_best = pd.DataFrame()\n",
            "df_last = pd.DataFrame()\n",
            "\n",
            "experiment_folder = 'DA2_dull_razor_shades_of_gray_cropped_images_folder'\n",
            "\n",
            "print(\"Experimento: \", experiment_folder)\n",
            "\n",
            "\n",
            "experiment_path = os.path.join(folder_path, experiment_folder)\n",
            "\n",
            "ensemble_preds_best = None\n",
            "ensemble_preds_last = None\n",
            "\n",
            "model_folders = os.listdir(experiment_path)\n",
            "\n",
            "\n",
            "# Cria path para o experimento atual\n",
            "if 'ensemble_average' in model_folders:\n",
            "    model_folders.remove('ensemble_average')\n",
            "\n",
            "if 'ensemble_3_best_average' in model_folders:\n",
            "    model_folders.remove('ensemble_3_best_average')\n",
            "\n",
            "if 'ensemble_votation' in model_folders:\n",
            "    model_folders.remove('ensemble_votation')\n",
            "\n",
            "if 'DAandPPlatex.txt' in model_folders:\n",
            "    model_folders.remove('DAandPPlatex.txt')\n",
            "\n",
            "model_folders = [x for x in model_folders if \".csv\" not in x]\n",
            "\n",
            "try:\n",
            "\n",
            "    all_preds_best = None\n",
            "    all_preds_last = None\n",
            "\n",
            "    # Percorrer as pastas de cada modelo\n",
            "    for model_folder in model_folders:\n",
            "\n",
            "        model_path = os.path.join(experiment_path, model_folder)\n",
            "\n",
            "        # Carregar as previsões do modelo atual\n",
            "        model_preds_path_best = os.path.join(model_path, \"test_pred_best/predictions.csv\")\n",
            "        model_preds_path_last = os.path.join(model_path, \"test_pred_last/predictions.csv\")\n",
            "\n",
            "        # Merge das previsões do modelo atual com as previsões de todos os modelos\n",
            "        if all_preds_best is None:\n",
            "            model_preds_best = pd.read_csv(model_preds_path_best).sort_values(by=['image'])[['image', 'REAL', 'PRED']]\n",
            "            model_preds_last = pd.read_csv(model_preds_path_last).sort_values(by=['image'])[['image', 'REAL', 'PRED']]\n",
            "\n",
            "            #Substituir nome da coluna PRED por nome do modelo\n",
            "            model_preds_best.rename(columns={'PRED': model_folder.split('_fold')[0]}, inplace=True)\n",
            "            model_preds_last.rename(columns={'PRED': model_folder.split('_fold')[0]}, inplace=True)\n",
            "\n",
            "            all_preds_best = model_preds_best\n",
            "            all_preds_last = model_preds_last\n",
            "        else:\n",
            "            model_preds_best = pd.read_csv(model_preds_path_best).sort_values(by=['image'])[['image', 'PRED']]\n",
            "            model_preds_last = pd.read_csv(model_preds_path_last).sort_values(by=['image'])[['image', 'PRED']]\n",
            "\n",
            "            #Substituir nome da coluna PRED por nome do modelo\n",
            "            model_preds_best.rename(columns={'PRED': model_folder.split('_fold')[0]}, inplace=True)\n",
            "            model_preds_last.rename(columns={'PRED': model_folder.split('_fold')[0]}, inplace=True)\n",
            "\n",
            "            all_preds_best = pd.merge(all_preds_best, model_preds_best, on='image')\n",
            "            all_preds_last = pd.merge(all_preds_last, model_preds_last, on='image')\n",
            "\n",
            "\n",
            "except Exception as e:\n",
            "    print(\"Erro no experimento \", experiment_folder)\n",
            "    print(e)\n"
         ]
      },
      {
         "cell_type": "code",
         "execution_count": null,
         "metadata": {},
         "outputs": [],
         "source": [
            "\n",
            "# Define a function to count correct guesses for each row\n",
            "def count_correct_guesses(row):\n",
            "    correct_guesses = 0\n",
            "    for model in all_preds_best.columns[2:-1]:\n",
            "        if (row[model] == row['REAL']):\n",
            "            correct_guesses += 1\n",
            "    return correct_guesses\n",
            "\n",
            "# Create a new column to store the count of correct guesses\n",
            "all_preds_best['correct_guesses'] = all_preds_best.apply(count_correct_guesses, axis=1)\n",
            "\n",
            "all_preds_best.to_csv('count_correct_guesses.csv', index=False)\n",
            "\n",
            "# Def"
         ]
      },
      {
         "cell_type": "code",
         "execution_count": 19,
         "metadata": {},
         "outputs": [
            {
               "name": "stdout",
               "output_type": "stream",
               "text": [
                  "Experimento  dull_razor_shades_of_gray_cropped_images_folder_2  não será avaliado\n",
                  "Experimento  DA0_noPP  não será avaliado\n",
                  "Experimento:  noDA_CLAHE_dull_razor_shades_of_gray_cropped_images_folder\n",
                  "Experimento:  DA0_PP\n",
                  "Experimento  dull_razor  não será avaliado\n",
                  "Experimento  DA1_noPP  não será avaliado\n",
                  "Experimento  shades_of_gray_cropped_images_folder  não será avaliado\n",
                  "Experimento:  DA2_dull_razor_shades_of_gray_cropped_images_folder\n",
                  "Experimento  dull_razor_shades_of_gray_cropped_images_folder  não será avaliado\n",
                  "Experimento  DA3_noPP  não será avaliado\n",
                  "Experimento  dull_razor_shades_of_gray  não será avaliado\n",
                  "Experimento:  DA0_noPP_3\n",
                  "Experimento  dull_razor_2  não será avaliado\n",
                  "Experimento:  DA2_noPP_2\n",
                  "Experimento:  DA2_CLAHE_dull_razor_shades_of_gray_cropped_images_folder\n",
                  "Experimento:  DA2_cropped_images_folder_150_epochs_lr_init_0001\n",
                  "Experimento  non_local_means_cropped_images_folder  não será avaliado\n",
                  "Experimento:  noDA_dull_razor_shades_of_gray_cropped_images_folder\n",
                  "Experimento  DA1_PPcropped  não será avaliado\n",
                  "Experimento  gaussian_filter_2  não será avaliado\n",
                  "Experimento  CLAHE_cropped_images_folder  não será avaliado\n",
                  "Experimento:  noDA_cropped_images_folder_moredata\n",
                  "Experimento  dull_razor_cropped_images_folder  não será avaliado\n",
                  "Experimento:  noDA_dull_razor_shades_of_gray_cropped_images_folder_150_epochs\n",
                  "Experimento:  dropout_05\n",
                  "Experimento:  noDA_PPcropped_2\n",
                  "Experimento  DA2_noPP  não será avaliado\n",
                  "Experimento:  DA0_noPP_2\n",
                  "Experimento:  DA2_CLAHE_shades_of_gray_cropped_images_folder\n",
                  "Experimento  CLAHE_2  não será avaliado\n",
                  "Experimento  mean_filter_cropped_images_folder  não será avaliado\n",
                  "Experimento:  noDA_CLAHE\n",
                  "Experimento:  train_classifier_only\n",
                  "Experimento  non_local_means  não será avaliado\n",
                  "Experimento:  dropout_02\n",
                  "Experimento:  DA2_cropped_images_folder_moredata\n",
                  "Experimento:  noDA_dull_razor_shades_of_gray_cropped_images_folder_moredata\n",
                  "Experimento:  DA2_shades_of_gray_cropped_images_folder_150_epochs\n",
                  "Experimento  non_local_means_2  não será avaliado\n",
                  "Experimento  gaussian_filter_cropped_images_folder  não será avaliado\n",
                  "Experimento:  DA4_noPP\n",
                  "Experimento:  DA0_PP_100epochs\n",
                  "Experimento:  noDA_CLAHE_dull_razor_shades_of_gray\n",
                  "Experimento:  dull_razor_shades_of_gray_2\n",
                  "Experimento  gaussian_filter  não será avaliado\n",
                  "Experimento:  DA2_dull_razor_shades_of_gray_cropped_images_folder_moredata\n",
                  "Experimento:  shades_of_gray_2\n",
                  "Experimento:  noDA_dull_razor\n",
                  "Experimento  noDA_noPP  não será avaliado\n",
                  "Experimento  shades_of_gray  não será avaliado\n",
                  "Experimento  mean_filter  não será avaliado\n",
                  "Experimento  mean_filter_2  não será avaliado\n",
                  "Experimento:  noDA_CLAHE_dull_razor_shades_of_gray_cropped_images_folder_150_epochs\n",
                  "Experimento:  noDA_noPP_2\n",
                  "Experimento  DA0_PPcropped  não será avaliado\n",
                  "Experimento:  DA2_shades_of_gray_CLAHE_cropped_images_folder\n",
                  "Experimento  noDA_PPcropped  não será avaliado\n",
                  "Experimento:  noDA_dull_razor_shades_of_gray\n",
                  "Experimento  CLAHE  não será avaliado\n"
               ]
            }
         ],
         "source": [
            "import os\n",
            "import numpy as np\n",
            "from raug.metrics_2 import Metrics, accuracy\n",
            "from raug.utils.loader import get_labels_frequency\n",
            "import pandas as pd\n",
            "from raug.utils import classification_metrics as cmet\n",
            "\n",
            "# Especificar o caminho para a pasta \"best_results\"\n",
            "folder_path = \"best_results\"\n",
            "\n",
            "df = None\n",
            "\n",
            "# Percorrer as pastas de cada experimento\n",
            "for experiment_folder in os.listdir(folder_path):\n",
            "\n",
            "    try:\n",
            "        if \".csv\" in experiment_folder or \".txt\" in experiment_folder:\n",
            "            continue\n",
            "\n",
            "        experiment_path = os.path.join(folder_path, experiment_folder)\n",
            "\n",
            "        ensemble_preds_best = None\n",
            "\n",
            "        # Check if substring \"senet154\" is present in model_folders\n",
            "        if any(\"senet154\" in s for s in os.listdir(experiment_path)):\n",
            "            print(\"Experimento \", experiment_folder, \" não será avaliado\")\n",
            "            continue\n",
            "\n",
            "        print(\"Experimento: \", experiment_folder)\n",
            "\n",
            "\n",
            "        # Carregar as previsões do modelo atual\n",
            "        results_path_csv = os.path.join(experiment_path, \"results_best.csv\")\n",
            "\n",
            "        results = pd.read_csv(results_path_csv)[['model_name','balanced_accuracy']].sort_values(by=['model_name'])\n",
            "        \n",
            "        #rename columns to experiment name\n",
            "        results.rename(columns={'balanced_accuracy': experiment_folder}, inplace=True)\n",
            "\n",
            "        if df is None:\n",
            "            df = results\n",
            "        else:\n",
            "            #merge by model_name\n",
            "            df = pd.merge(df, results, on='model_name', how='left')\n",
            "\n",
            "\n",
            "    except Exception as e:\n",
            "        print('Error: ', e)\n",
            "        continue\n",
            "\n",
            "df.to_csv(os.path.join(folder_path, 'results_all_models_all_experiments_new.csv'), index=False)\n"
         ]
      },
      {
         "cell_type": "code",
         "execution_count": null,
         "metadata": {},
         "outputs": [],
         "source": [
            "# from pydrive.auth import GoogleAuth\n",
            "# from pydrive.drive import GoogleDrive\n",
            "# gauth = GoogleAuth()   \n",
            "# gauth.LocalWebserverAuth()\n",
            "# drive = GoogleDrive(gauth)  \n",
            "\n",
            "# densenet121_fold-1_lrinit-0.0001_batchsize-32_optimizer-Adam_maxepochs-150_DA-2_PPen-None_PPha-None_PPco-shades_of_gray_PPde-None_PPno-True_PPcr-cropped_images_folder_PPre-True_drop-0.0_trainjustclassifier-False_1681078943104982"
         ]
      },
      {
         "cell_type": "code",
         "execution_count": 40,
         "metadata": {},
         "outputs": [
            {
               "name": "stdout",
               "output_type": "stream",
               "text": [
                  "Experimento:  DA2_dull_razor_shades_of_gray_cropped_images_folder\n"
               ]
            },
            {
               "data": {
                  "image/png": "[encoded data removed]",
                  "text/plain": [
                     "<Figure size 640x480 with 1 Axes>"
                  ]
               },
               "metadata": {},
               "output_type": "display_data"
            }
         ],
         "source": [
            "import os\n",
            "import pandas as pd\n",
            "\n",
            "# Especificar o caminho para a pasta \"best_results\"\n",
            "folder_path = \"best_results\"\n",
            "\n",
            "df = None\n",
            "\n",
            "experiment_folder = 'DA2_dull_razor_shades_of_gray_cropped_images_folder'\n",
            "# experiment_folder = 'DA2_cropped_images_folder_150_epochs_lr_init_0001'\n",
            "\n",
            "\n",
            "experiment_path = os.path.join(folder_path, experiment_folder)\n",
            "\n",
            "ensemble_preds_best = None\n",
            "\n",
            "print(\"Experimento: \", experiment_folder)\n",
            "\n",
            "\n",
            "# Carregar as previsões do modelo atual\n",
            "results_path_csv = os.path.join(experiment_path, \"results_best.csv\")\n",
            "\n",
            "results = pd.read_csv(results_path_csv)[['model_name','balanced_accuracy']].sort_values(by=['model_name'])\n",
            "\n",
            "# get balanced accuracy for model_name\n",
            "all_results = results.loc[results.model_name.isin(['resnest101e', 'efficientnet_b2', 'tf_efficientnet_b5']),:].set_index('model_name').to_dict()\n",
            "# all_results = results.set_index('model_name').to_dict()\n",
            "\n",
            "\n",
            "ensemble_results_path_csv = os.path.join(folder_path, \"ensemble_3_best_average_best.csv\")\n",
            "ensemble_result = pd.read_csv(ensemble_results_path_csv)[['folder_name','balanced_accuracy']]\n",
            "ensemble_result = ensemble_result.loc[ensemble_result.folder_name.isin([experiment_folder]),:].set_index('folder_name').to_dict()\n",
            "\n",
            "all_results = {**all_results['balanced_accuracy'], **ensemble_result['balanced_accuracy']}\n",
            "\n",
            "#tf_efficientnet_b5, pnasnet5large, tf_efficientnet_b6, efficientnet_b4, efficientnet_b3, efficientnet_b1, resnest101e, efficientnet_b2, efficientnet_b0, seresnext101_32x8d, densenet121, vgg19, resnext101_32x8d\n",
            "\n",
            "\n",
            "# all_results['EfficientNet-B0'] = all_results.pop('efficientnet_b0')\n",
            "# all_results['EfficientNet-B1'] = all_results.pop('efficientnet_b1')\n",
            "all_results['EfficientNet-B2'] = all_results.pop('efficientnet_b2')\n",
            "# all_results['EfficientNet-B3'] = all_results.pop('efficientnet_b3')\n",
            "# all_results['EfficientNet-B4'] = all_results.pop('efficientnet_b4')\n",
            "all_results['EfficientNet-B5'] = all_results.pop('tf_efficientnet_b5')\n",
            "# all_results['EfficientNet-B6'] = all_results.pop('tf_efficientnet_b6')\n",
            "all_results['ResNest101'] = all_results.pop('resnest101e')\n",
            "# all_results['SeResNext101'] = all_results.pop('seresnext101_32x8d')\n",
            "# all_results['DenseNet121'] = all_results.pop('densenet121')\n",
            "# all_results['ResNext101'] = all_results.pop('resnext101_32x8d')\n",
            "# all_results['VGG19'] = all_results.pop('vgg19')\n",
            "# all_results['PNASNet5Large'] = all_results.pop('pnasnet5large')\n",
            "all_results['Ensemble'] = all_results.pop(experiment_folder)\n",
            "\n",
            "\n",
            "# create horizonal bar plot\n",
            "import matplotlib.pyplot as plt\n",
            "import numpy as np\n",
            "\n",
            "# Data\n",
            "r = all_results\n",
            "bars = tuple(r.keys())\n",
            "y_pos = np.arange(len(bars))\n",
            "height = list(r.values())\n",
            "\n",
            "# Create bars\n",
            "plt.barh(y_pos, height)\n",
            "\n",
            "# Create names on the x-axis\n",
            "plt.yticks(y_pos, bars)\n",
            "\n",
            "# Add title and axis names\n",
            "plt.xlabel('Balanced Accuracy')\n",
            "plt.ylabel('Model')\n",
            "\n",
            "# Color the highest bar\n",
            "plt.gca().patches[height.index(max(height))].set_facecolor('red')\n",
            "\n",
            "# Add the labels to each bar\n",
            "for i, v in enumerate(height):\n",
            "    # Round v with 4 decimals\n",
            "    v = round(v,4)\n",
            "    plt.text(v+.01, i - 0.1, str(v), fontweight='bold')\n",
            "\n",
            "# Make the right margin wider so that the labels are inside the figure\n",
            "plt.margins(0.2, 0)\n",
            "\n",
            "# Make bars thinner\n",
            "plt.gca().xaxis.set_tick_params(width=0.2)\n",
            "\n",
            "\n",
            "# Show graphic\n",
            "plt.show()\n",
            "\n",
            "# df.to_csv(os.path.join(folder_path, 'results_all_models_all_experiments_new.csv'), index=False)\n"
         ]
      }
   ],
   "metadata": {
      "kernelspec": {
         "display_name": "venv",
         "language": "python",
         "name": "python3"
      },
      "language_info": {
         "codemirror_mode": {
            "name": "ipython",
            "version": 3
         },
         "file_extension": ".py",
         "mimetype": "text/x-python",
         "name": "python",
         "nbconvert_exporter": "python",
         "pygments_lexer": "ipython3",
         "version": "3.7.16"
      },
      "orig_nbformat": 4
   },
   "nbformat": 4,
   "nbformat_minor": 2
}
