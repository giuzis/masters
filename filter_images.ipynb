{
 "cells": [
  {
   "cell_type": "markdown",
   "metadata": {},
   "source": [
    "Get all unseccesfully cutted images"
   ]
  },
  {
   "cell_type": "code",
   "execution_count": 16,
   "metadata": {},
   "outputs": [
    {
     "name": "stdout",
     "output_type": "stream",
     "text": [
      "ISIC_0000021 [WinError 2] The system cannot find the file specified: '..\\\\datasets\\\\ISIC2017\\\\Training_data_processed\\\\successfully_cutted\\\\ISIC_0000021_final.jpg.jpg'\n"
     ]
    }
   ],
   "source": [
    "import cv2 as cv\n",
    "import numpy as np\n",
    "from matplotlib import pyplot as plt\n",
    "import os \n",
    "\n",
    "def save_image(name, img):\n",
    "    cv.imwrite('..\\datasets\\ISIC2017\\\\Training_Data_manually_processed\\\\{}.jpg'.format(name), img)\n",
    "\n",
    "def read_image(name):\n",
    "    img = cv.imread('..\\datasets\\ISIC2017\\ISIC-2017_Training_Data\\{}.jpg'.format(name))\n",
    "    return img\n",
    "\n",
    "to_delete_images = []\n",
    "to_delete = os.listdir('..\\datasets\\ISIC2017\\Training_data_processed\\\\not_successfully_cutted')\n",
    "#all_files = os.listdir('..\\datasets\\ISIC2017\\ISIC-2017_Training_Data\\\\')\n",
    "\n",
    "for file in to_delete:\n",
    "        if file.find('superpixels') == -1 and file.find('Training_Data_metadata') == -1:\n",
    "            try:\n",
    "                new_img = file.split('.')[0]\n",
    "                os.remove(f'..\\datasets\\ISIC2017\\Training_data_processed\\successfully_cutted\\{new_img}_final.jpg.jpg')\n",
    "            except Exception as e:\n",
    "                print(new_img, e)\n",
    "\n"
   ]
  },
  {
   "cell_type": "code",
   "execution_count": 18,
   "metadata": {},
   "outputs": [],
   "source": [
    "to_fix = os.listdir('..\\datasets\\ISIC2017\\Training_data_processed\\\\successfully_cutted')\n",
    "for file in to_fix:\n",
    "    new_img = file.split('.')[0]\n",
    "    os.rename(f'..\\datasets\\ISIC2017\\Training_data_processed\\successfully_cutted\\{new_img}.jpg.jpg', f'..\\datasets\\ISIC2017\\Training_data_processed\\successfully_cutted\\{new_img}.jpg')"
   ]
  }
 ],
 "metadata": {
  "kernelspec": {
   "display_name": "Python 3.10.7 ('venv': venv)",
   "language": "python",
   "name": "python3"
  },
  "language_info": {
   "codemirror_mode": {
    "name": "ipython",
    "version": 3
   },
   "file_extension": ".py",
   "mimetype": "text/x-python",
   "name": "python",
   "nbconvert_exporter": "python",
   "pygments_lexer": "ipython3",
   "version": "3.10.7"
  },
  "orig_nbformat": 4,
  "vscode": {
   "interpreter": {
    "hash": "5dddab3f9dcea3e0699dbfd5269a7c101e0ce7b95edb30a58b5ce5aac2bf385d"
   }
  }
 },
 "nbformat": 4,
 "nbformat_minor": 2
}
