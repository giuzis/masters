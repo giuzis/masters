{
   "cells": [
      {
         "attachments": {},
         "cell_type": "markdown",
         "metadata": {},
         "source": [
            "Calculate ensemble average for all experiments"
         ]
      },
      {
         "cell_type": "code",
         "execution_count": 2,
         "metadata": {},
         "outputs": [
            {
               "name": "stdout",
               "output_type": "stream",
               "text": [
                  "Experimento:  dull_razor_shades_of_gray_cropped_images_folder_2\n",
                  "Experimento:  DA0_noPP\n",
                  "Experimento:  noDA_CLAHE_dull_razor_shades_of_gray_cropped_images_folder\n",
                  "Saving the scores in best_results/noDA_CLAHE_dull_razor_shades_of_gray_cropped_images_folder/ensemble_average/best\n",
                  "Saving the scores in best_results/noDA_CLAHE_dull_razor_shades_of_gray_cropped_images_folder/ensemble_average/last\n",
                  "Experimento:  DA0_PP\n",
                  "Saving the scores in best_results/DA0_PP/ensemble_average/best\n",
                  "Saving the scores in best_results/DA0_PP/ensemble_average/last\n",
                  "Experimento:  dull_razor\n",
                  "Experimento:  DA1_noPP\n",
                  "Experimento:  shades_of_gray_cropped_images_folder\n",
                  "Experimento:  DA2_dull_razor_shades_of_gray_cropped_images_folder\n",
                  "Saving the scores in best_results/DA2_dull_razor_shades_of_gray_cropped_images_folder/ensemble_average/best\n",
                  "Saving the scores in best_results/DA2_dull_razor_shades_of_gray_cropped_images_folder/ensemble_average/last\n",
                  "Experimento:  dull_razor_shades_of_gray_cropped_images_folder\n",
                  "Experimento:  DA3_noPP\n",
                  "Experimento:  DA2_CLAHE\n",
                  "Saving the scores in best_results/DA2_CLAHE/ensemble_average/best\n",
                  "Saving the scores in best_results/DA2_CLAHE/ensemble_average/last\n",
                  "Experimento:  dull_razor_shades_of_gray\n",
                  "Experimento:  DA0_noPP_3\n",
                  "Saving the scores in best_results/DA0_noPP_3/ensemble_average/best\n",
                  "Saving the scores in best_results/DA0_noPP_3/ensemble_average/last\n",
                  "Experimento:  dull_razor_2\n",
                  "Experimento:  DA2_noPP_2\n",
                  "Saving the scores in best_results/DA2_noPP_2/ensemble_average/best\n",
                  "Saving the scores in best_results/DA2_noPP_2/ensemble_average/last\n",
                  "Experimento:  DA2_CLAHE_dull_razor_shades_of_gray_cropped_images_folder\n",
                  "Saving the scores in best_results/DA2_CLAHE_dull_razor_shades_of_gray_cropped_images_folder/ensemble_average/best\n",
                  "Saving the scores in best_results/DA2_CLAHE_dull_razor_shades_of_gray_cropped_images_folder/ensemble_average/last\n",
                  "Experimento:  DA2_dull_razor\n",
                  "Saving the scores in best_results/DA2_dull_razor/ensemble_average/best\n",
                  "Saving the scores in best_results/DA2_dull_razor/ensemble_average/last\n",
                  "Experimento:  DA2_cropped_images_folder_150_epochs_lr_init_0001\n",
                  "Saving the scores in best_results/DA2_cropped_images_folder_150_epochs_lr_init_0001/ensemble_average/best\n",
                  "Saving the scores in best_results/DA2_cropped_images_folder_150_epochs_lr_init_0001/ensemble_average/last\n",
                  "Experimento:  non_local_means_cropped_images_folder\n",
                  "Experimento:  noDA_dull_razor_shades_of_gray_cropped_images_folder\n",
                  "Saving the scores in best_results/noDA_dull_razor_shades_of_gray_cropped_images_folder/ensemble_average/best\n",
                  "Saving the scores in best_results/noDA_dull_razor_shades_of_gray_cropped_images_folder/ensemble_average/last\n",
                  "Experimento:  DA1_PPcropped\n",
                  "Experimento:  gaussian_filter_2\n",
                  "Experimento:  CLAHE_cropped_images_folder\n",
                  "Experimento:  noDA_cropped_images_folder_moredata\n"
               ]
            },
            {
               "name": "stderr",
               "output_type": "stream",
               "text": [
                  "/home/a52550/Desktop/masters/cnn/learning_cycle/benchmarks/isic/raug/utils/classification_metrics_2.py:356: RuntimeWarning: More than 20 figures have been opened. Figures created through the pyplot interface (`matplotlib.pyplot.figure`) are retained until explicitly closed and may consume too much memory. (To control this warning, see the rcParam `figure.max_open_warning`).\n",
                  "  plt.figure()\n"
               ]
            },
            {
               "name": "stdout",
               "output_type": "stream",
               "text": [
                  "Saving the scores in best_results/noDA_cropped_images_folder_moredata/ensemble_average/best\n",
                  "Saving the scores in best_results/noDA_cropped_images_folder_moredata/ensemble_average/last\n",
                  "Experimento:  dull_razor_cropped_images_folder\n",
                  "Experimento:  DA2_dull_razor_cropped_images_folder\n",
                  "Saving the scores in best_results/DA2_dull_razor_cropped_images_folder/ensemble_average/best\n",
                  "Saving the scores in best_results/DA2_dull_razor_cropped_images_folder/ensemble_average/last\n",
                  "Experimento:  noDA_dull_razor_shades_of_gray_cropped_images_folder_150_epochs\n",
                  "Saving the scores in best_results/noDA_dull_razor_shades_of_gray_cropped_images_folder_150_epochs/ensemble_average/best\n",
                  "Saving the scores in best_results/noDA_dull_razor_shades_of_gray_cropped_images_folder_150_epochs/ensemble_average/last\n",
                  "Experimento:  dropout_05\n",
                  "Erro no experimento  dropout_05\n",
                  "[Errno 2] No such file or directory: 'best_results/dropout_05/seresnext101_32x8d_fold-1_lrinit-0.0001_batchsize-32_optimizer-Adam_maxepochs-50_DA-None_PPen-None_PPha-None_PPco-None_PPde-None_PPno-True_PPcr-None_PPre-True_drop-0.5_trainjustclassifier-False_16805547061762884/test_pred_best/predictions.csv'\n",
                  "Experimento:  noDA_PPcropped_2\n",
                  "Saving the scores in best_results/noDA_PPcropped_2/ensemble_average/best\n",
                  "Saving the scores in best_results/noDA_PPcropped_2/ensemble_average/last\n",
                  "Experimento:  DA2_shades_of_gray\n",
                  "Saving the scores in best_results/DA2_shades_of_gray/ensemble_average/best\n",
                  "Saving the scores in best_results/DA2_shades_of_gray/ensemble_average/last\n",
                  "Experimento:  DA2_CLAHE_dull_razor\n",
                  "Saving the scores in best_results/DA2_CLAHE_dull_razor/ensemble_average/best\n",
                  "Saving the scores in best_results/DA2_CLAHE_dull_razor/ensemble_average/last\n",
                  "Experimento:  DA2_noPP\n",
                  "Experimento:  DA0_noPP_2\n",
                  "Saving the scores in best_results/DA0_noPP_2/ensemble_average/best\n",
                  "Saving the scores in best_results/DA0_noPP_2/ensemble_average/last\n",
                  "Experimento:  DA2_CLAHE_shades_of_gray_cropped_images_folder\n",
                  "Saving the scores in best_results/DA2_CLAHE_shades_of_gray_cropped_images_folder/ensemble_average/best\n",
                  "Saving the scores in best_results/DA2_CLAHE_shades_of_gray_cropped_images_folder/ensemble_average/last\n",
                  "Experimento:  DA2_dull_razor_shades_of_gray\n",
                  "Saving the scores in best_results/DA2_dull_razor_shades_of_gray/ensemble_average/best\n",
                  "Saving the scores in best_results/DA2_dull_razor_shades_of_gray/ensemble_average/last\n",
                  "Experimento:  CLAHE_2\n",
                  "Experimento:  mean_filter_cropped_images_folder\n",
                  "Experimento:  noDA_CLAHE\n",
                  "Saving the scores in best_results/noDA_CLAHE/ensemble_average/best\n",
                  "Saving the scores in best_results/noDA_CLAHE/ensemble_average/last\n",
                  "Experimento:  train_classifier_only\n",
                  "Saving the scores in best_results/train_classifier_only/ensemble_average/best\n",
                  "Saving the scores in best_results/train_classifier_only/ensemble_average/last\n",
                  "Experimento:  non_local_means\n",
                  "Experimento:  dropout_02\n",
                  "Erro no experimento  dropout_02\n",
                  "[Errno 2] No such file or directory: 'best_results/dropout_02/tf_efficientnet_b5_fold-1_lrinit-0.0001_batchsize-8_optimizer-AdamW_maxepochs-50_DA-None_PPen-None_PPha-None_PPco-None_PPde-None_PPno-True_PPcr-None_PPre-True_drop-0.2_trainjustclassifier-False_16805668596310365/test_pred_best/predictions.csv'\n",
                  "Experimento:  DA2_cropped_images_folder_moredata\n",
                  "Saving the scores in best_results/DA2_cropped_images_folder_moredata/ensemble_average/best\n",
                  "Saving the scores in best_results/DA2_cropped_images_folder_moredata/ensemble_average/last\n",
                  "Experimento:  noDA_dull_razor_shades_of_gray_cropped_images_folder_moredata\n",
                  "Saving the scores in best_results/noDA_dull_razor_shades_of_gray_cropped_images_folder_moredata/ensemble_average/best\n",
                  "Saving the scores in best_results/noDA_dull_razor_shades_of_gray_cropped_images_folder_moredata/ensemble_average/last\n",
                  "Experimento:  DA2_shades_of_gray_cropped_images_folder_150_epochs\n",
                  "Saving the scores in best_results/DA2_shades_of_gray_cropped_images_folder_150_epochs/ensemble_average/best\n",
                  "Saving the scores in best_results/DA2_shades_of_gray_cropped_images_folder_150_epochs/ensemble_average/last\n",
                  "Experimento:  non_local_means_2\n",
                  "Experimento:  DA2_CLAHE_dull_razor_cropped_images_folder\n",
                  "Saving the scores in best_results/DA2_CLAHE_dull_razor_cropped_images_folder/ensemble_average/best\n",
                  "Saving the scores in best_results/DA2_CLAHE_dull_razor_cropped_images_folder/ensemble_average/last\n",
                  "Experimento:  gaussian_filter_cropped_images_folder\n",
                  "Experimento:  DA2_CLAHE_cropped_images_folder\n",
                  "Saving the scores in best_results/DA2_CLAHE_cropped_images_folder/ensemble_average/best\n",
                  "Saving the scores in best_results/DA2_CLAHE_cropped_images_folder/ensemble_average/last\n",
                  "Experimento:  DA4_noPP\n",
                  "Saving the scores in best_results/DA4_noPP/ensemble_average/best\n",
                  "Saving the scores in best_results/DA4_noPP/ensemble_average/last\n",
                  "Experimento:  DA0_PP_100epochs\n",
                  "Saving the scores in best_results/DA0_PP_100epochs/ensemble_average/best\n",
                  "Saving the scores in best_results/DA0_PP_100epochs/ensemble_average/last\n",
                  "Experimento:  noDA_CLAHE_dull_razor_shades_of_gray\n",
                  "Saving the scores in best_results/noDA_CLAHE_dull_razor_shades_of_gray/ensemble_average/best\n",
                  "Saving the scores in best_results/noDA_CLAHE_dull_razor_shades_of_gray/ensemble_average/last\n",
                  "Experimento:  dull_razor_shades_of_gray_2\n",
                  "Saving the scores in best_results/dull_razor_shades_of_gray_2/ensemble_average/best\n",
                  "Saving the scores in best_results/dull_razor_shades_of_gray_2/ensemble_average/last\n",
                  "Experimento:  gaussian_filter\n",
                  "Experimento:  DA2_dull_razor_shades_of_gray_cropped_images_folder_moredata\n",
                  "Saving the scores in best_results/DA2_dull_razor_shades_of_gray_cropped_images_folder_moredata/ensemble_average/best\n",
                  "Saving the scores in best_results/DA2_dull_razor_shades_of_gray_cropped_images_folder_moredata/ensemble_average/last\n",
                  "Experimento:  shades_of_gray_2\n",
                  "Saving the scores in best_results/shades_of_gray_2/ensemble_average/best\n",
                  "Saving the scores in best_results/shades_of_gray_2/ensemble_average/last\n",
                  "Experimento:  noDA_dull_razor\n",
                  "Saving the scores in best_results/noDA_dull_razor/ensemble_average/best\n",
                  "Saving the scores in best_results/noDA_dull_razor/ensemble_average/last\n",
                  "Experimento:  noDA_noPP\n",
                  "Experimento:  shades_of_gray\n",
                  "Experimento:  mean_filter\n",
                  "Experimento:  mean_filter_2\n",
                  "Experimento:  noDA_CLAHE_dull_razor_shades_of_gray_cropped_images_folder_150_epochs\n",
                  "Saving the scores in best_results/noDA_CLAHE_dull_razor_shades_of_gray_cropped_images_folder_150_epochs/ensemble_average/best\n",
                  "Saving the scores in best_results/noDA_CLAHE_dull_razor_shades_of_gray_cropped_images_folder_150_epochs/ensemble_average/last\n",
                  "Experimento:  DA2_CLAHE_shades_of_gray\n",
                  "Saving the scores in best_results/DA2_CLAHE_shades_of_gray/ensemble_average/best\n",
                  "Saving the scores in best_results/DA2_CLAHE_shades_of_gray/ensemble_average/last\n",
                  "Experimento:  noDA_noPP_2\n",
                  "Saving the scores in best_results/noDA_noPP_2/ensemble_average/best\n",
                  "Saving the scores in best_results/noDA_noPP_2/ensemble_average/last\n",
                  "Experimento:  DA2_CLAHE_dull_razor_shades_of_gray\n",
                  "Saving the scores in best_results/DA2_CLAHE_dull_razor_shades_of_gray/ensemble_average/best\n",
                  "Saving the scores in best_results/DA2_CLAHE_dull_razor_shades_of_gray/ensemble_average/last\n",
                  "Experimento:  DA0_PPcropped\n",
                  "Experimento:  DA2_cropped_images_folder\n",
                  "Saving the scores in best_results/DA2_cropped_images_folder/ensemble_average/best\n",
                  "Saving the scores in best_results/DA2_cropped_images_folder/ensemble_average/last\n",
                  "Experimento:  DA2_shades_of_gray_CLAHE_cropped_images_folder\n",
                  "Saving the scores in best_results/DA2_shades_of_gray_CLAHE_cropped_images_folder/ensemble_average/best\n",
                  "Saving the scores in best_results/DA2_shades_of_gray_CLAHE_cropped_images_folder/ensemble_average/last\n",
                  "Experimento:  noDA_PPcropped\n",
                  "Experimento:  noDA_dull_razor_shades_of_gray\n",
                  "Saving the scores in best_results/noDA_dull_razor_shades_of_gray/ensemble_average/best\n",
                  "Saving the scores in best_results/noDA_dull_razor_shades_of_gray/ensemble_average/last\n",
                  "Experimento:  CLAHE\n"
               ]
            },
            {
               "data": {
                  "text/plain": [
                     "<Figure size 640x480 with 0 Axes>"
                  ]
               },
               "metadata": {},
               "output_type": "display_data"
            },
            {
               "data": {
                  "text/plain": [
                     "<Figure size 640x480 with 0 Axes>"
                  ]
               },
               "metadata": {},
               "output_type": "display_data"
            },
            {
               "data": {
                  "text/plain": [
                     "<Figure size 640x480 with 0 Axes>"
                  ]
               },
               "metadata": {},
               "output_type": "display_data"
            },
            {
               "data": {
                  "text/plain": [
                     "<Figure size 640x480 with 0 Axes>"
                  ]
               },
               "metadata": {},
               "output_type": "display_data"
            },
            {
               "data": {
                  "text/plain": [
                     "<Figure size 640x480 with 0 Axes>"
                  ]
               },
               "metadata": {},
               "output_type": "display_data"
            },
            {
               "data": {
                  "text/plain": [
                     "<Figure size 640x480 with 0 Axes>"
                  ]
               },
               "metadata": {},
               "output_type": "display_data"
            },
            {
               "data": {
                  "text/plain": [
                     "<Figure size 640x480 with 0 Axes>"
                  ]
               },
               "metadata": {},
               "output_type": "display_data"
            },
            {
               "data": {
                  "text/plain": [
                     "<Figure size 640x480 with 0 Axes>"
                  ]
               },
               "metadata": {},
               "output_type": "display_data"
            },
            {
               "data": {
                  "text/plain": [
                     "<Figure size 640x480 with 0 Axes>"
                  ]
               },
               "metadata": {},
               "output_type": "display_data"
            },
            {
               "data": {
                  "text/plain": [
                     "<Figure size 640x480 with 0 Axes>"
                  ]
               },
               "metadata": {},
               "output_type": "display_data"
            },
            {
               "data": {
                  "text/plain": [
                     "<Figure size 640x480 with 0 Axes>"
                  ]
               },
               "metadata": {},
               "output_type": "display_data"
            },
            {
               "data": {
                  "text/plain": [
                     "<Figure size 640x480 with 0 Axes>"
                  ]
               },
               "metadata": {},
               "output_type": "display_data"
            },
            {
               "data": {
                  "text/plain": [
                     "<Figure size 640x480 with 0 Axes>"
                  ]
               },
               "metadata": {},
               "output_type": "display_data"
            },
            {
               "data": {
                  "text/plain": [
                     "<Figure size 640x480 with 0 Axes>"
                  ]
               },
               "metadata": {},
               "output_type": "display_data"
            },
            {
               "data": {
                  "text/plain": [
                     "<Figure size 640x480 with 0 Axes>"
                  ]
               },
               "metadata": {},
               "output_type": "display_data"
            },
            {
               "data": {
                  "text/plain": [
                     "<Figure size 640x480 with 0 Axes>"
                  ]
               },
               "metadata": {},
               "output_type": "display_data"
            },
            {
               "data": {
                  "text/plain": [
                     "<Figure size 640x480 with 0 Axes>"
                  ]
               },
               "metadata": {},
               "output_type": "display_data"
            },
            {
               "data": {
                  "text/plain": [
                     "<Figure size 640x480 with 0 Axes>"
                  ]
               },
               "metadata": {},
               "output_type": "display_data"
            },
            {
               "data": {
                  "text/plain": [
                     "<Figure size 640x480 with 0 Axes>"
                  ]
               },
               "metadata": {},
               "output_type": "display_data"
            },
            {
               "data": {
                  "text/plain": [
                     "<Figure size 640x480 with 0 Axes>"
                  ]
               },
               "metadata": {},
               "output_type": "display_data"
            },
            {
               "data": {
                  "text/plain": [
                     "<Figure size 640x480 with 0 Axes>"
                  ]
               },
               "metadata": {},
               "output_type": "display_data"
            },
            {
               "data": {
                  "text/plain": [
                     "<Figure size 640x480 with 0 Axes>"
                  ]
               },
               "metadata": {},
               "output_type": "display_data"
            },
            {
               "data": {
                  "text/plain": [
                     "<Figure size 640x480 with 0 Axes>"
                  ]
               },
               "metadata": {},
               "output_type": "display_data"
            },
            {
               "data": {
                  "text/plain": [
                     "<Figure size 640x480 with 0 Axes>"
                  ]
               },
               "metadata": {},
               "output_type": "display_data"
            },
            {
               "data": {
                  "text/plain": [
                     "<Figure size 640x480 with 0 Axes>"
                  ]
               },
               "metadata": {},
               "output_type": "display_data"
            },
            {
               "data": {
                  "text/plain": [
                     "<Figure size 640x480 with 0 Axes>"
                  ]
               },
               "metadata": {},
               "output_type": "display_data"
            },
            {
               "data": {
                  "text/plain": [
                     "<Figure size 640x480 with 0 Axes>"
                  ]
               },
               "metadata": {},
               "output_type": "display_data"
            },
            {
               "data": {
                  "text/plain": [
                     "<Figure size 640x480 with 0 Axes>"
                  ]
               },
               "metadata": {},
               "output_type": "display_data"
            },
            {
               "data": {
                  "text/plain": [
                     "<Figure size 640x480 with 0 Axes>"
                  ]
               },
               "metadata": {},
               "output_type": "display_data"
            },
            {
               "data": {
                  "text/plain": [
                     "<Figure size 640x480 with 0 Axes>"
                  ]
               },
               "metadata": {},
               "output_type": "display_data"
            },
            {
               "data": {
                  "text/plain": [
                     "<Figure size 640x480 with 0 Axes>"
                  ]
               },
               "metadata": {},
               "output_type": "display_data"
            },
            {
               "data": {
                  "text/plain": [
                     "<Figure size 640x480 with 0 Axes>"
                  ]
               },
               "metadata": {},
               "output_type": "display_data"
            },
            {
               "data": {
                  "text/plain": [
                     "<Figure size 640x480 with 0 Axes>"
                  ]
               },
               "metadata": {},
               "output_type": "display_data"
            },
            {
               "data": {
                  "text/plain": [
                     "<Figure size 640x480 with 0 Axes>"
                  ]
               },
               "metadata": {},
               "output_type": "display_data"
            },
            {
               "data": {
                  "text/plain": [
                     "<Figure size 640x480 with 0 Axes>"
                  ]
               },
               "metadata": {},
               "output_type": "display_data"
            },
            {
               "data": {
                  "text/plain": [
                     "<Figure size 640x480 with 0 Axes>"
                  ]
               },
               "metadata": {},
               "output_type": "display_data"
            },
            {
               "data": {
                  "text/plain": [
                     "<Figure size 640x480 with 0 Axes>"
                  ]
               },
               "metadata": {},
               "output_type": "display_data"
            },
            {
               "data": {
                  "text/plain": [
                     "<Figure size 640x480 with 0 Axes>"
                  ]
               },
               "metadata": {},
               "output_type": "display_data"
            },
            {
               "data": {
                  "text/plain": [
                     "<Figure size 640x480 with 0 Axes>"
                  ]
               },
               "metadata": {},
               "output_type": "display_data"
            },
            {
               "data": {
                  "text/plain": [
                     "<Figure size 640x480 with 0 Axes>"
                  ]
               },
               "metadata": {},
               "output_type": "display_data"
            },
            {
               "data": {
                  "text/plain": [
                     "<Figure size 640x480 with 0 Axes>"
                  ]
               },
               "metadata": {},
               "output_type": "display_data"
            },
            {
               "data": {
                  "text/plain": [
                     "<Figure size 640x480 with 0 Axes>"
                  ]
               },
               "metadata": {},
               "output_type": "display_data"
            },
            {
               "data": {
                  "text/plain": [
                     "<Figure size 640x480 with 0 Axes>"
                  ]
               },
               "metadata": {},
               "output_type": "display_data"
            },
            {
               "data": {
                  "text/plain": [
                     "<Figure size 640x480 with 0 Axes>"
                  ]
               },
               "metadata": {},
               "output_type": "display_data"
            },
            {
               "data": {
                  "text/plain": [
                     "<Figure size 640x480 with 0 Axes>"
                  ]
               },
               "metadata": {},
               "output_type": "display_data"
            },
            {
               "data": {
                  "text/plain": [
                     "<Figure size 640x480 with 0 Axes>"
                  ]
               },
               "metadata": {},
               "output_type": "display_data"
            },
            {
               "data": {
                  "text/plain": [
                     "<Figure size 640x480 with 0 Axes>"
                  ]
               },
               "metadata": {},
               "output_type": "display_data"
            },
            {
               "data": {
                  "text/plain": [
                     "<Figure size 640x480 with 0 Axes>"
                  ]
               },
               "metadata": {},
               "output_type": "display_data"
            },
            {
               "data": {
                  "text/plain": [
                     "<Figure size 640x480 with 0 Axes>"
                  ]
               },
               "metadata": {},
               "output_type": "display_data"
            },
            {
               "data": {
                  "text/plain": [
                     "<Figure size 640x480 with 0 Axes>"
                  ]
               },
               "metadata": {},
               "output_type": "display_data"
            },
            {
               "data": {
                  "text/plain": [
                     "<Figure size 640x480 with 0 Axes>"
                  ]
               },
               "metadata": {},
               "output_type": "display_data"
            },
            {
               "data": {
                  "text/plain": [
                     "<Figure size 640x480 with 0 Axes>"
                  ]
               },
               "metadata": {},
               "output_type": "display_data"
            },
            {
               "data": {
                  "text/plain": [
                     "<Figure size 640x480 with 0 Axes>"
                  ]
               },
               "metadata": {},
               "output_type": "display_data"
            },
            {
               "data": {
                  "text/plain": [
                     "<Figure size 640x480 with 0 Axes>"
                  ]
               },
               "metadata": {},
               "output_type": "display_data"
            },
            {
               "data": {
                  "text/plain": [
                     "<Figure size 640x480 with 0 Axes>"
                  ]
               },
               "metadata": {},
               "output_type": "display_data"
            },
            {
               "data": {
                  "text/plain": [
                     "<Figure size 640x480 with 0 Axes>"
                  ]
               },
               "metadata": {},
               "output_type": "display_data"
            },
            {
               "data": {
                  "text/plain": [
                     "<Figure size 640x480 with 0 Axes>"
                  ]
               },
               "metadata": {},
               "output_type": "display_data"
            },
            {
               "data": {
                  "text/plain": [
                     "<Figure size 640x480 with 0 Axes>"
                  ]
               },
               "metadata": {},
               "output_type": "display_data"
            },
            {
               "data": {
                  "text/plain": [
                     "<Figure size 640x480 with 0 Axes>"
                  ]
               },
               "metadata": {},
               "output_type": "display_data"
            },
            {
               "data": {
                  "text/plain": [
                     "<Figure size 640x480 with 0 Axes>"
                  ]
               },
               "metadata": {},
               "output_type": "display_data"
            },
            {
               "data": {
                  "text/plain": [
                     "<Figure size 640x480 with 0 Axes>"
                  ]
               },
               "metadata": {},
               "output_type": "display_data"
            },
            {
               "data": {
                  "text/plain": [
                     "<Figure size 640x480 with 0 Axes>"
                  ]
               },
               "metadata": {},
               "output_type": "display_data"
            },
            {
               "data": {
                  "text/plain": [
                     "<Figure size 640x480 with 0 Axes>"
                  ]
               },
               "metadata": {},
               "output_type": "display_data"
            },
            {
               "data": {
                  "text/plain": [
                     "<Figure size 640x480 with 0 Axes>"
                  ]
               },
               "metadata": {},
               "output_type": "display_data"
            },
            {
               "data": {
                  "text/plain": [
                     "<Figure size 640x480 with 0 Axes>"
                  ]
               },
               "metadata": {},
               "output_type": "display_data"
            },
            {
               "data": {
                  "text/plain": [
                     "<Figure size 640x480 with 0 Axes>"
                  ]
               },
               "metadata": {},
               "output_type": "display_data"
            },
            {
               "data": {
                  "text/plain": [
                     "<Figure size 640x480 with 0 Axes>"
                  ]
               },
               "metadata": {},
               "output_type": "display_data"
            },
            {
               "data": {
                  "text/plain": [
                     "<Figure size 640x480 with 0 Axes>"
                  ]
               },
               "metadata": {},
               "output_type": "display_data"
            },
            {
               "data": {
                  "text/plain": [
                     "<Figure size 640x480 with 0 Axes>"
                  ]
               },
               "metadata": {},
               "output_type": "display_data"
            },
            {
               "data": {
                  "text/plain": [
                     "<Figure size 640x480 with 0 Axes>"
                  ]
               },
               "metadata": {},
               "output_type": "display_data"
            },
            {
               "data": {
                  "text/plain": [
                     "<Figure size 640x480 with 0 Axes>"
                  ]
               },
               "metadata": {},
               "output_type": "display_data"
            },
            {
               "data": {
                  "text/plain": [
                     "<Figure size 640x480 with 0 Axes>"
                  ]
               },
               "metadata": {},
               "output_type": "display_data"
            },
            {
               "data": {
                  "text/plain": [
                     "<Figure size 640x480 with 0 Axes>"
                  ]
               },
               "metadata": {},
               "output_type": "display_data"
            },
            {
               "data": {
                  "text/plain": [
                     "<Figure size 640x480 with 0 Axes>"
                  ]
               },
               "metadata": {},
               "output_type": "display_data"
            },
            {
               "data": {
                  "text/plain": [
                     "<Figure size 640x480 with 0 Axes>"
                  ]
               },
               "metadata": {},
               "output_type": "display_data"
            },
            {
               "data": {
                  "text/plain": [
                     "<Figure size 640x480 with 0 Axes>"
                  ]
               },
               "metadata": {},
               "output_type": "display_data"
            },
            {
               "data": {
                  "text/plain": [
                     "<Figure size 640x480 with 0 Axes>"
                  ]
               },
               "metadata": {},
               "output_type": "display_data"
            },
            {
               "data": {
                  "text/plain": [
                     "<Figure size 640x480 with 0 Axes>"
                  ]
               },
               "metadata": {},
               "output_type": "display_data"
            },
            {
               "data": {
                  "text/plain": [
                     "<Figure size 640x480 with 0 Axes>"
                  ]
               },
               "metadata": {},
               "output_type": "display_data"
            },
            {
               "data": {
                  "text/plain": [
                     "<Figure size 640x480 with 0 Axes>"
                  ]
               },
               "metadata": {},
               "output_type": "display_data"
            }
         ],
         "source": [
            "import os\n",
            "import numpy as np\n",
            "from raug.metrics_2 import Metrics, accuracy\n",
            "from raug.utils.loader import get_labels_frequency\n",
            "import pandas as pd\n",
            "\n",
            "# Especificar o caminho para a pasta \"best_results\"\n",
            "folder_path = \"best_results\"\n",
            "_csv_path_test = \"/home/a52550/Desktop/datasets/ISIC2017/test/ISIC-2017_Test_v2_Part3_GroundTruth.csv\"\n",
            "true_labels = pd.read_csv(_csv_path_test).sort_values(by=['image_id'])['category']\n",
            "\n",
            "# Inicializar as variáveis para armazenar as previsões dos modelos\n",
            "ensemble_preds_best = None\n",
            "ensemble_preds_last = None\n",
            "num_models = 0\n",
            "ser_lab_freq = get_labels_frequency(_csv_path_test, \"category\", \"image_id\")\n",
            "_labels_name = ser_lab_freq.index.values #np.reshape(ser_lab_freq.index.values, (ser_lab_freq.index.values.shape[0], 1))\n",
            "\n",
            "df_best = pd.DataFrame()\n",
            "df_last = pd.DataFrame()\n",
            "\n",
            "# Percorrer as pastas de cada experimento\n",
            "for experiment_folder in os.listdir(folder_path):\n",
            "\n",
            "    if \".csv\" in experiment_folder or \".txt\" in experiment_folder:\n",
            "        continue\n",
            "\n",
            "    # if \"ensemble_average\" in os.listdir(os.path.join(folder_path,experiment_folder)):\n",
            "    #     continue\n",
            "\n",
            "    print(\"Experimento: \", experiment_folder)\n",
            "\n",
            "    _metric_options_best = {\n",
            "        'save_all_path': os.path.join(folder_path, experiment_folder, 'ensemble_average/best'),\n",
            "        'pred_name_scores': 'predictions.csv',\n",
            "    }\n",
            "    _metric_options_last = {\n",
            "        'save_all_path': os.path.join(folder_path, experiment_folder, 'ensemble_average/last'),\n",
            "        'pred_name_scores': 'predictions.csv',\n",
            "    }\n",
            "\n",
            "\n",
            "    experiment_path = os.path.join(folder_path, experiment_folder)\n",
            "    metrics_best = Metrics ([\"accuracy\", \"topk_accuracy\", \"balanced_accuracy\", \"conf_matrix\" \"plot_conf_matrix\", \"precision_recall_report\", \"auc_and_roc_curve\", \"auc\"] , _labels_name, _metric_options_best)\n",
            "    metrics_last = Metrics ([\"accuracy\", \"topk_accuracy\", \"balanced_accuracy\", \"conf_matrix\" \"plot_conf_matrix\", \"precision_recall_report\", \"auc_and_roc_curve\", \"auc\"] , _labels_name, _metric_options_last)\n",
            "\n",
            "    ensemble_preds_best = None\n",
            "    ensemble_preds_last = None\n",
            "\n",
            "    model_folders = os.listdir(experiment_path)\n",
            "\n",
            "    # Check if substring \"senet154\" is present in model_folders\n",
            "    if any(\"senet154\" in s for s in model_folders):\n",
            "        continue\n",
            "\n",
            "    \n",
            "    # Cria path para o experimento atual\n",
            "    if 'ensemble_average' in model_folders:\n",
            "        model_folders.remove('ensemble_average')\n",
            "    else:\n",
            "        os.mkdir(os.path.join(folder_path, experiment_folder, 'ensemble_average'))\n",
            "        os.mkdir(os.path.join(_metric_options_best['save_all_path']))\n",
            "        os.mkdir(os.path.join(_metric_options_last['save_all_path']))\n",
            "\n",
            "    if 'ensemble_3_best_average' in model_folders:\n",
            "        model_folders.remove('ensemble_3_best_average')\n",
            "    \n",
            "    if 'ensemble_votation' in model_folders:\n",
            "        model_folders.remove('ensemble_votation')\n",
            "    \n",
            "    if 'DAandPPlatex.txt' in model_folders:\n",
            "        model_folders.remove('DAandPPlatex.txt')\n",
            "\n",
            "    model_folders = [x for x in model_folders if \".csv\" not in x]\n",
            "\n",
            "    try:\n",
            "\n",
            "        # Percorrer as pastas de cada modelo\n",
            "        for model_folder in model_folders:\n",
            "\n",
            "            model_path = os.path.join(experiment_path, model_folder)\n",
            "\n",
            "            # Carregar as previsões do modelo atual\n",
            "            model_preds_path_best = os.path.join(model_path, \"test_pred_best/predictions.csv\")\n",
            "            model_preds_path_last = os.path.join(model_path, \"test_pred_last/predictions.csv\")\n",
            "\n",
            "            model_preds_best = pd.read_csv(model_preds_path_best).sort_values(by=['image'])\n",
            "            model_preds_last = pd.read_csv(model_preds_path_last).sort_values(by=['image'])\n",
            "\n",
            "            images_id = model_preds_best[['image']]\n",
            "            model_preds_best = model_preds_best[['0','1','2']]\n",
            "            model_preds_last = model_preds_last[['0','1','2']]\n",
            "\n",
            "            # Adicionar as previsões do modelo atual ao ensemble\n",
            "            if ensemble_preds_best is None:\n",
            "                ensemble_preds_best = model_preds_best\n",
            "            else:\n",
            "                ensemble_preds_best += model_preds_best\n",
            "\n",
            "            if ensemble_preds_last is None:\n",
            "                ensemble_preds_last = model_preds_last\n",
            "            else:\n",
            "                ensemble_preds_last += model_preds_last\n",
            "\n",
            "            num_models += 1\n",
            "\n",
            "        # Calcular a média das previsões dos modelos\n",
            "        ensemble_preds_best /= num_models\n",
            "        ensemble_preds_last /= num_models\n",
            "\n",
            "        metrics_best.update_scores(true_labels, ensemble_preds_best.to_numpy(), images_id.to_numpy())\n",
            "        metrics_last.update_scores(true_labels, ensemble_preds_last.to_numpy(), images_id.to_numpy())\n",
            "\n",
            "        metrics_best.compute_metrics()\n",
            "        metrics_last.compute_metrics()\n",
            "\n",
            "        metrics_best.save_scores()\n",
            "        metrics_last.save_scores()\n",
            "\n",
            "        for auc_metric in metrics_best.metrics_values['auc_and_roc_curve'][0]:\n",
            "            metrics_best.metrics_values[\"auc_\" + str(auc_metric)] = metrics_best.metrics_values['auc_and_roc_curve'][0][auc_metric]\n",
            "            metrics_last.metrics_values[\"auc_\" + str(auc_metric)] = metrics_last.metrics_values['auc_and_roc_curve'][0][auc_metric]\n",
            "\n",
            "        folder_name = {'folder_name': experiment_folder}\n",
            "        dict_best = {**folder_name, **metrics_best.metrics_values}\n",
            "        dict_last = {**folder_name, **metrics_last.metrics_values}\n",
            "\n",
            "        del dict_best['auc_and_roc_curve']\n",
            "        del dict_best['precision_recall_report']\n",
            "\n",
            "        del dict_last['auc_and_roc_curve']\n",
            "        del dict_last['precision_recall_report']\n",
            "\n",
            "        df_best = df_best.append(pd.DataFrame(dict_best, columns=dict_best.keys(), index=[0]), ignore_index=True)\n",
            "        df_last = df_last.append(pd.DataFrame(dict_last, columns=dict_last.keys(), index=[0]), ignore_index=True)\n",
            "\n",
            "    except Exception as e:\n",
            "        print(\"Erro no experimento \", experiment_folder)\n",
            "        print(e)\n",
            "\n",
            "# read csv file\n",
            "# df = pd.read_csv(os.path.join(folder_path, 'ensemble_average_best.csv'))\n",
            "# append df_best to df\n",
            "# df = df.append(df_best, ignore_index=True)\n",
            "df_best.to_csv(os.path.join(folder_path, 'ensemble_average_best.csv'), index=False)\n",
            "# read csv file\n",
            "# df2 = pd.read_csv(os.path.join(folder_path, 'ensemble_average_last.csv'))\n",
            "# append df_best to df\n",
            "# df2 = df2.append(df_last, ignore_index=True)\n",
            "df_last.to_csv(os.path.join(folder_path, 'ensemble_average_last.csv'), index=False)\n",
            "\n",
            "# Avaliar a precisão do modelo de ensemble\n",
            "# true_classes_path = os.path.join(folder_path, \"true_classes.csv\")\n",
            "# true_classes = np.loadtxt(_csv_path_test, delimiter=\",\", skiprows=1)\n",
            "\n",
            "# from sklearn.metrics import accuracy_score, precision_score, recall_score, f1_score\n",
            "\n",
            "# accuracy = accuracy_score(true_classes, ensemble_classes)\n",
            "# precision = precision_score(true_classes, ensemble_classes, average=\"macro\")\n",
            "# recall = recall_score(true_classes, ensemble_classes, average=\"macro\")\n",
            "# f1 = f1_score(true_classes, ensemble_classes, average=\"macro\")\n",
            "\n",
            "# # Imprimir as métricas de avaliação\n",
            "# print(f\"Acurácia: {accuracy:.3f}\")\n",
            "# print(f\"Precisão: {precision:.3f}\")\n",
            "# print(f\"Recall: {recall:.3f}\")\n",
            "# print(f\"F1-score: {f1:.3f}\")\n"
         ]
      },
      {
         "attachments": {},
         "cell_type": "markdown",
         "metadata": {},
         "source": [
            "Calculate ensemble average of the best 3 models for all experiments"
         ]
      },
      {
         "cell_type": "code",
         "execution_count": 4,
         "metadata": {},
         "outputs": [
            {
               "name": "stdout",
               "output_type": "stream",
               "text": [
                  "Experimento  dull_razor_shades_of_gray_cropped_images_folder_2  não será avaliado\n",
                  "Experimento  DA0_noPP  não será avaliado\n",
                  "Experimento:  noDA_CLAHE_dull_razor_shades_of_gray_cropped_images_folder\n",
                  "Saving the scores in best_results/noDA_CLAHE_dull_razor_shades_of_gray_cropped_images_folder/ensemble_3_best_average/best\n",
                  "Experimento:  DA0_PP\n",
                  "Saving the scores in best_results/DA0_PP/ensemble_3_best_average/best\n",
                  "Experimento  dull_razor  não será avaliado\n",
                  "Experimento  DA1_noPP  não será avaliado\n",
                  "Experimento  shades_of_gray_cropped_images_folder  não será avaliado\n",
                  "Experimento:  DA2_dull_razor_shades_of_gray_cropped_images_folder\n",
                  "Saving the scores in best_results/DA2_dull_razor_shades_of_gray_cropped_images_folder/ensemble_3_best_average/best\n",
                  "Experimento  dull_razor_shades_of_gray_cropped_images_folder  não será avaliado\n",
                  "Experimento  DA3_noPP  não será avaliado\n",
                  "Experimento:  DA2_CLAHE\n",
                  "Saving the scores in best_results/DA2_CLAHE/ensemble_3_best_average/best\n",
                  "Experimento  dull_razor_shades_of_gray  não será avaliado\n",
                  "Experimento:  DA0_noPP_3\n",
                  "Saving the scores in best_results/DA0_noPP_3/ensemble_3_best_average/best\n",
                  "Experimento  dull_razor_2  não será avaliado\n",
                  "Experimento:  DA2_noPP_2\n",
                  "Saving the scores in best_results/DA2_noPP_2/ensemble_3_best_average/best\n",
                  "Experimento:  DA2_CLAHE_dull_razor_shades_of_gray_cropped_images_folder\n",
                  "Saving the scores in best_results/DA2_CLAHE_dull_razor_shades_of_gray_cropped_images_folder/ensemble_3_best_average/best\n",
                  "Experimento:  DA2_dull_razor\n",
                  "Saving the scores in best_results/DA2_dull_razor/ensemble_3_best_average/best\n",
                  "Experimento:  DA2_cropped_images_folder_150_epochs_lr_init_0001\n",
                  "Saving the scores in best_results/DA2_cropped_images_folder_150_epochs_lr_init_0001/ensemble_3_best_average/best\n",
                  "Experimento  non_local_means_cropped_images_folder  não será avaliado\n",
                  "Experimento:  noDA_dull_razor_shades_of_gray_cropped_images_folder\n",
                  "Saving the scores in best_results/noDA_dull_razor_shades_of_gray_cropped_images_folder/ensemble_3_best_average/best\n",
                  "Experimento  DA1_PPcropped  não será avaliado\n",
                  "Experimento  gaussian_filter_2  não será avaliado\n",
                  "Experimento  CLAHE_cropped_images_folder  não será avaliado\n",
                  "Experimento:  noDA_cropped_images_folder_moredata\n",
                  "Saving the scores in best_results/noDA_cropped_images_folder_moredata/ensemble_3_best_average/best\n",
                  "Experimento  dull_razor_cropped_images_folder  não será avaliado\n",
                  "Experimento:  DA2_dull_razor_cropped_images_folder\n",
                  "Saving the scores in best_results/DA2_dull_razor_cropped_images_folder/ensemble_3_best_average/best\n",
                  "Experimento:  noDA_dull_razor_shades_of_gray_cropped_images_folder_150_epochs\n",
                  "Saving the scores in best_results/noDA_dull_razor_shades_of_gray_cropped_images_folder_150_epochs/ensemble_3_best_average/best\n",
                  "Experimento:  dropout_05\n",
                  "Error:  [Errno 2] No such file or directory: 'best_results/dropout_05/seresnext101_32x8d_fold-1_lrinit-0.0001_batchsize-32_optimizer-Adam_maxepochs-50_DA-None_PPen-None_PPha-None_PPco-None_PPde-None_PPno-True_PPcr-None_PPre-True_drop-0.5_trainjustclassifier-False_16805547061762884/test_pred_best/predictions.csv'\n",
                  "Experimento:  noDA_PPcropped_2\n",
                  "Saving the scores in best_results/noDA_PPcropped_2/ensemble_3_best_average/best\n",
                  "Experimento:  DA2_shades_of_gray\n",
                  "Saving the scores in best_results/DA2_shades_of_gray/ensemble_3_best_average/best\n",
                  "Experimento:  DA2_CLAHE_dull_razor\n",
                  "Saving the scores in best_results/DA2_CLAHE_dull_razor/ensemble_3_best_average/best\n",
                  "Experimento  DA2_noPP  não será avaliado\n",
                  "Experimento:  DA0_noPP_2\n",
                  "Saving the scores in best_results/DA0_noPP_2/ensemble_3_best_average/best\n",
                  "Experimento:  DA2_CLAHE_shades_of_gray_cropped_images_folder\n",
                  "Saving the scores in best_results/DA2_CLAHE_shades_of_gray_cropped_images_folder/ensemble_3_best_average/best\n",
                  "Experimento:  DA2_dull_razor_shades_of_gray\n",
                  "Saving the scores in best_results/DA2_dull_razor_shades_of_gray/ensemble_3_best_average/best\n",
                  "Experimento  CLAHE_2  não será avaliado\n",
                  "Experimento  mean_filter_cropped_images_folder  não será avaliado\n",
                  "Experimento:  noDA_CLAHE\n",
                  "Saving the scores in best_results/noDA_CLAHE/ensemble_3_best_average/best\n",
                  "Experimento:  train_classifier_only\n"
               ]
            },
            {
               "name": "stderr",
               "output_type": "stream",
               "text": [
                  "/home/a52550/Desktop/masters/cnn/learning_cycle/benchmarks/isic/raug/utils/classification_metrics_2.py:356: RuntimeWarning: More than 20 figures have been opened. Figures created through the pyplot interface (`matplotlib.pyplot.figure`) are retained until explicitly closed and may consume too much memory. (To control this warning, see the rcParam `figure.max_open_warning`).\n",
                  "  plt.figure()\n"
               ]
            },
            {
               "name": "stdout",
               "output_type": "stream",
               "text": [
                  "Saving the scores in best_results/train_classifier_only/ensemble_3_best_average/best\n",
                  "Experimento  non_local_means  não será avaliado\n",
                  "Experimento:  dropout_02\n",
                  "Error:  [Errno 2] No such file or directory: 'best_results/dropout_02/tf_efficientnet_b5_fold-1_lrinit-0.0001_batchsize-8_optimizer-AdamW_maxepochs-50_DA-None_PPen-None_PPha-None_PPco-None_PPde-None_PPno-True_PPcr-None_PPre-True_drop-0.2_trainjustclassifier-False_16805668596310365/test_pred_best/predictions.csv'\n",
                  "Experimento:  DA2_cropped_images_folder_moredata\n",
                  "Saving the scores in best_results/DA2_cropped_images_folder_moredata/ensemble_3_best_average/best\n",
                  "Experimento:  noDA_dull_razor_shades_of_gray_cropped_images_folder_moredata\n",
                  "Saving the scores in best_results/noDA_dull_razor_shades_of_gray_cropped_images_folder_moredata/ensemble_3_best_average/best\n",
                  "Experimento:  DA2_shades_of_gray_cropped_images_folder_150_epochs\n",
                  "Saving the scores in best_results/DA2_shades_of_gray_cropped_images_folder_150_epochs/ensemble_3_best_average/best\n",
                  "Experimento  non_local_means_2  não será avaliado\n",
                  "Experimento:  DA2_CLAHE_dull_razor_cropped_images_folder\n",
                  "Saving the scores in best_results/DA2_CLAHE_dull_razor_cropped_images_folder/ensemble_3_best_average/best\n",
                  "Experimento  gaussian_filter_cropped_images_folder  não será avaliado\n",
                  "Experimento:  DA2_CLAHE_cropped_images_folder\n",
                  "Saving the scores in best_results/DA2_CLAHE_cropped_images_folder/ensemble_3_best_average/best\n",
                  "Experimento:  DA4_noPP\n",
                  "Saving the scores in best_results/DA4_noPP/ensemble_3_best_average/best\n",
                  "Experimento:  DA0_PP_100epochs\n",
                  "Saving the scores in best_results/DA0_PP_100epochs/ensemble_3_best_average/best\n",
                  "Experimento:  noDA_CLAHE_dull_razor_shades_of_gray\n",
                  "Saving the scores in best_results/noDA_CLAHE_dull_razor_shades_of_gray/ensemble_3_best_average/best\n",
                  "Experimento:  dull_razor_shades_of_gray_2\n",
                  "Saving the scores in best_results/dull_razor_shades_of_gray_2/ensemble_3_best_average/best\n",
                  "Experimento  gaussian_filter  não será avaliado\n",
                  "Experimento:  DA2_dull_razor_shades_of_gray_cropped_images_folder_moredata\n",
                  "Saving the scores in best_results/DA2_dull_razor_shades_of_gray_cropped_images_folder_moredata/ensemble_3_best_average/best\n",
                  "Experimento:  shades_of_gray_2\n",
                  "Saving the scores in best_results/shades_of_gray_2/ensemble_3_best_average/best\n",
                  "Experimento:  noDA_dull_razor\n",
                  "Saving the scores in best_results/noDA_dull_razor/ensemble_3_best_average/best\n",
                  "Experimento  noDA_noPP  não será avaliado\n",
                  "Experimento  shades_of_gray  não será avaliado\n",
                  "Experimento  mean_filter  não será avaliado\n",
                  "Experimento  mean_filter_2  não será avaliado\n",
                  "Experimento:  noDA_CLAHE_dull_razor_shades_of_gray_cropped_images_folder_150_epochs\n",
                  "Saving the scores in best_results/noDA_CLAHE_dull_razor_shades_of_gray_cropped_images_folder_150_epochs/ensemble_3_best_average/best\n",
                  "Experimento:  DA2_CLAHE_shades_of_gray\n",
                  "Saving the scores in best_results/DA2_CLAHE_shades_of_gray/ensemble_3_best_average/best\n",
                  "Experimento:  noDA_noPP_2\n",
                  "Saving the scores in best_results/noDA_noPP_2/ensemble_3_best_average/best\n",
                  "Experimento:  DA2_CLAHE_dull_razor_shades_of_gray\n",
                  "Saving the scores in best_results/DA2_CLAHE_dull_razor_shades_of_gray/ensemble_3_best_average/best\n",
                  "Experimento  DA0_PPcropped  não será avaliado\n",
                  "Experimento:  DA2_cropped_images_folder\n",
                  "Saving the scores in best_results/DA2_cropped_images_folder/ensemble_3_best_average/best\n",
                  "Experimento:  DA2_shades_of_gray_CLAHE_cropped_images_folder\n",
                  "Saving the scores in best_results/DA2_shades_of_gray_CLAHE_cropped_images_folder/ensemble_3_best_average/best\n",
                  "Experimento  noDA_PPcropped  não será avaliado\n",
                  "Experimento:  noDA_dull_razor_shades_of_gray\n",
                  "Saving the scores in best_results/noDA_dull_razor_shades_of_gray/ensemble_3_best_average/best\n",
                  "Experimento  CLAHE  não será avaliado\n"
               ]
            },
            {
               "data": {
                  "text/plain": [
                     "<Figure size 640x480 with 0 Axes>"
                  ]
               },
               "metadata": {},
               "output_type": "display_data"
            },
            {
               "data": {
                  "text/plain": [
                     "<Figure size 640x480 with 0 Axes>"
                  ]
               },
               "metadata": {},
               "output_type": "display_data"
            },
            {
               "data": {
                  "text/plain": [
                     "<Figure size 640x480 with 0 Axes>"
                  ]
               },
               "metadata": {},
               "output_type": "display_data"
            },
            {
               "data": {
                  "text/plain": [
                     "<Figure size 640x480 with 0 Axes>"
                  ]
               },
               "metadata": {},
               "output_type": "display_data"
            },
            {
               "data": {
                  "text/plain": [
                     "<Figure size 640x480 with 0 Axes>"
                  ]
               },
               "metadata": {},
               "output_type": "display_data"
            },
            {
               "data": {
                  "text/plain": [
                     "<Figure size 640x480 with 0 Axes>"
                  ]
               },
               "metadata": {},
               "output_type": "display_data"
            },
            {
               "data": {
                  "text/plain": [
                     "<Figure size 640x480 with 0 Axes>"
                  ]
               },
               "metadata": {},
               "output_type": "display_data"
            },
            {
               "data": {
                  "text/plain": [
                     "<Figure size 640x480 with 0 Axes>"
                  ]
               },
               "metadata": {},
               "output_type": "display_data"
            },
            {
               "data": {
                  "text/plain": [
                     "<Figure size 640x480 with 0 Axes>"
                  ]
               },
               "metadata": {},
               "output_type": "display_data"
            },
            {
               "data": {
                  "text/plain": [
                     "<Figure size 640x480 with 0 Axes>"
                  ]
               },
               "metadata": {},
               "output_type": "display_data"
            },
            {
               "data": {
                  "text/plain": [
                     "<Figure size 640x480 with 0 Axes>"
                  ]
               },
               "metadata": {},
               "output_type": "display_data"
            },
            {
               "data": {
                  "text/plain": [
                     "<Figure size 640x480 with 0 Axes>"
                  ]
               },
               "metadata": {},
               "output_type": "display_data"
            },
            {
               "data": {
                  "text/plain": [
                     "<Figure size 640x480 with 0 Axes>"
                  ]
               },
               "metadata": {},
               "output_type": "display_data"
            },
            {
               "data": {
                  "text/plain": [
                     "<Figure size 640x480 with 0 Axes>"
                  ]
               },
               "metadata": {},
               "output_type": "display_data"
            },
            {
               "data": {
                  "text/plain": [
                     "<Figure size 640x480 with 0 Axes>"
                  ]
               },
               "metadata": {},
               "output_type": "display_data"
            },
            {
               "data": {
                  "text/plain": [
                     "<Figure size 640x480 with 0 Axes>"
                  ]
               },
               "metadata": {},
               "output_type": "display_data"
            },
            {
               "data": {
                  "text/plain": [
                     "<Figure size 640x480 with 0 Axes>"
                  ]
               },
               "metadata": {},
               "output_type": "display_data"
            },
            {
               "data": {
                  "text/plain": [
                     "<Figure size 640x480 with 0 Axes>"
                  ]
               },
               "metadata": {},
               "output_type": "display_data"
            },
            {
               "data": {
                  "text/plain": [
                     "<Figure size 640x480 with 0 Axes>"
                  ]
               },
               "metadata": {},
               "output_type": "display_data"
            },
            {
               "data": {
                  "text/plain": [
                     "<Figure size 640x480 with 0 Axes>"
                  ]
               },
               "metadata": {},
               "output_type": "display_data"
            },
            {
               "data": {
                  "text/plain": [
                     "<Figure size 640x480 with 0 Axes>"
                  ]
               },
               "metadata": {},
               "output_type": "display_data"
            },
            {
               "data": {
                  "text/plain": [
                     "<Figure size 640x480 with 0 Axes>"
                  ]
               },
               "metadata": {},
               "output_type": "display_data"
            },
            {
               "data": {
                  "text/plain": [
                     "<Figure size 640x480 with 0 Axes>"
                  ]
               },
               "metadata": {},
               "output_type": "display_data"
            },
            {
               "data": {
                  "text/plain": [
                     "<Figure size 640x480 with 0 Axes>"
                  ]
               },
               "metadata": {},
               "output_type": "display_data"
            },
            {
               "data": {
                  "text/plain": [
                     "<Figure size 640x480 with 0 Axes>"
                  ]
               },
               "metadata": {},
               "output_type": "display_data"
            },
            {
               "data": {
                  "text/plain": [
                     "<Figure size 640x480 with 0 Axes>"
                  ]
               },
               "metadata": {},
               "output_type": "display_data"
            },
            {
               "data": {
                  "text/plain": [
                     "<Figure size 640x480 with 0 Axes>"
                  ]
               },
               "metadata": {},
               "output_type": "display_data"
            },
            {
               "data": {
                  "text/plain": [
                     "<Figure size 640x480 with 0 Axes>"
                  ]
               },
               "metadata": {},
               "output_type": "display_data"
            },
            {
               "data": {
                  "text/plain": [
                     "<Figure size 640x480 with 0 Axes>"
                  ]
               },
               "metadata": {},
               "output_type": "display_data"
            },
            {
               "data": {
                  "text/plain": [
                     "<Figure size 640x480 with 0 Axes>"
                  ]
               },
               "metadata": {},
               "output_type": "display_data"
            },
            {
               "data": {
                  "text/plain": [
                     "<Figure size 640x480 with 0 Axes>"
                  ]
               },
               "metadata": {},
               "output_type": "display_data"
            },
            {
               "data": {
                  "text/plain": [
                     "<Figure size 640x480 with 0 Axes>"
                  ]
               },
               "metadata": {},
               "output_type": "display_data"
            },
            {
               "data": {
                  "text/plain": [
                     "<Figure size 640x480 with 0 Axes>"
                  ]
               },
               "metadata": {},
               "output_type": "display_data"
            },
            {
               "data": {
                  "text/plain": [
                     "<Figure size 640x480 with 0 Axes>"
                  ]
               },
               "metadata": {},
               "output_type": "display_data"
            },
            {
               "data": {
                  "text/plain": [
                     "<Figure size 640x480 with 0 Axes>"
                  ]
               },
               "metadata": {},
               "output_type": "display_data"
            },
            {
               "data": {
                  "text/plain": [
                     "<Figure size 640x480 with 0 Axes>"
                  ]
               },
               "metadata": {},
               "output_type": "display_data"
            },
            {
               "data": {
                  "text/plain": [
                     "<Figure size 640x480 with 0 Axes>"
                  ]
               },
               "metadata": {},
               "output_type": "display_data"
            },
            {
               "data": {
                  "text/plain": [
                     "<Figure size 640x480 with 0 Axes>"
                  ]
               },
               "metadata": {},
               "output_type": "display_data"
            },
            {
               "data": {
                  "text/plain": [
                     "<Figure size 640x480 with 0 Axes>"
                  ]
               },
               "metadata": {},
               "output_type": "display_data"
            },
            {
               "data": {
                  "text/plain": [
                     "<Figure size 640x480 with 0 Axes>"
                  ]
               },
               "metadata": {},
               "output_type": "display_data"
            }
         ],
         "source": [
            "import os\n",
            "import numpy as np\n",
            "from raug.metrics_2 import Metrics, accuracy\n",
            "from raug.utils.loader import get_labels_frequency\n",
            "import pandas as pd\n",
            "from raug.utils import classification_metrics as cmet\n",
            "\n",
            "# Especificar o caminho para a pasta \"best_results\"\n",
            "folder_path = \"best_results\"\n",
            "_csv_path_test = \"/home/a52550/Desktop/datasets/ISIC2017/test/ISIC-2017_Test_v2_Part3_GroundTruth.csv\"\n",
            "true_labels = pd.read_csv(_csv_path_test).sort_values(by=['image_id'])['category']\n",
            "\n",
            "# Inicializar as variáveis para armazenar as previsões dos modelos\n",
            "ensemble_preds_best = None\n",
            "ensemble_preds_last = None\n",
            "num_models = 0\n",
            "ser_lab_freq = get_labels_frequency(_csv_path_test, \"category\", \"image_id\")\n",
            "_labels_name = ser_lab_freq.index.values #np.reshape(ser_lab_freq.index.values, (ser_lab_freq.index.values.shape[0], 1))\n",
            "\n",
            "df_best = pd.DataFrame()\n",
            "df_last = pd.DataFrame()\n",
            "\n",
            "# Percorrer as pastas de cada experimento\n",
            "for experiment_folder in os.listdir(folder_path):\n",
            "\n",
            "    try:\n",
            "        if \".csv\" in experiment_folder or \".txt\" in experiment_folder:\n",
            "            continue\n",
            "\n",
            "        # if \"ensemble_3_best_average\" in os.listdir(os.path.join(folder_path,experiment_folder)):\n",
            "        #     continue\n",
            "\n",
            "        options = {\n",
            "            'save_all_path': os.path.join(folder_path, experiment_folder, 'ensemble_3_best_average/best'),\n",
            "            'pred_name_scores': 'predictions.csv',\n",
            "        }\n",
            "\n",
            "\n",
            "        experiment_path = os.path.join(folder_path, experiment_folder)\n",
            "\n",
            "        ensemble_preds_best = None\n",
            "\n",
            "        model_folders = os.listdir(experiment_path)\n",
            "\n",
            "        model_folders = [x for x in model_folders if \".csv\" not in x]\n",
            "\n",
            "        # Check if substring \"senet154\" is present in model_folders\n",
            "        if any(\"senet154\" in s for s in model_folders):\n",
            "            print(\"Experimento \", experiment_folder, \" não será avaliado\")\n",
            "            continue\n",
            "\n",
            "        print(\"Experimento: \", experiment_folder)\n",
            "\n",
            "        \n",
            "        # Cria path para o experimento atual\n",
            "        if 'ensemble_average' in model_folders:\n",
            "            model_folders.remove('ensemble_average')\n",
            "        if 'ensemble_votation' in model_folders:\n",
            "            model_folders.remove('ensemble_votation')\n",
            "        if 'ensemble_3_best_average' in model_folders:\n",
            "            model_folders.remove('ensemble_3_best_average')\n",
            "        else:\n",
            "            os.mkdir(os.path.join(folder_path, experiment_folder, 'ensemble_3_best_average'))\n",
            "            os.mkdir(os.path.join(folder_path, experiment_folder, 'ensemble_3_best_average/best'))\n",
            "\n",
            "        if 'DAandPPlatex.txt' in model_folders:\n",
            "            model_folders.remove('DAandPPlatex.txt')\n",
            "\n",
            "        best_balanced_accuracy = 0\n",
            "        current_balanced_acuracy = 0\n",
            "        best_metric_ensemble = None\n",
            "\n",
            "        # Percorrer as pastas de cada modelo\n",
            "        for i1 in range(len(model_folders)-1):\n",
            "            for i2 in range(i1+1, len(model_folders)-1):\n",
            "                for i3 in range(i2+1, len(model_folders)-1):\n",
            "                    ensemble_folders = [model_folders[i1], model_folders[i2], model_folders[i3]]\n",
            "\n",
            "                    metrics_best.options = None\n",
            "\n",
            "                    for model_folder in ensemble_folders:\n",
            "\n",
            "                        model_path = os.path.join(experiment_path, model_folder)\n",
            "\n",
            "                        # Carregar as previsões do modelo atual\n",
            "                        model_preds_path_best = os.path.join(model_path, \"test_pred_best/predictions.csv\")\n",
            "\n",
            "                        model_preds_best = pd.read_csv(model_preds_path_best).sort_values(by=['image'])\n",
            "\n",
            "                        images_id = model_preds_best[['image']]\n",
            "                        model_preds_best = model_preds_best[['0','1','2']]\n",
            "\n",
            "                        # Adicionar as previsões do modelo atual ao ensemble\n",
            "                        if ensemble_preds_best is None:\n",
            "                            ensemble_preds_best = model_preds_best\n",
            "                        else:\n",
            "                            ensemble_preds_best += model_preds_best\n",
            "\n",
            "                        num_models += 1\n",
            "\n",
            "                    # Calcular a média das previsões dos modelos\n",
            "                    ensemble_preds_best /= num_models\n",
            "                    \n",
            "                    # Calcular a balanced accuracy\n",
            "                    current_balanced_acuracy = cmet.balanced_accuracy(true_labels, ensemble_preds_best.to_numpy())\n",
            "\n",
            "\n",
            "                    if current_balanced_acuracy > best_balanced_accuracy:\n",
            "                        best_balanced_accuracy = current_balanced_acuracy\n",
            "\n",
            "                        best_metric_ensemble = Metrics ([\"accuracy\", \"topk_accuracy\", \"balanced_accuracy\", \"conf_matrix\" \"plot_conf_matrix\", \"precision_recall_report\", \"auc_and_roc_curve\", \"auc\"], _labels_name, options)\n",
            "                        best_metric_ensemble.update_scores(true_labels.to_numpy(), ensemble_preds_best.to_numpy(), images_id.to_numpy())\n",
            "\n",
            "                        best_experiment = experiment_folder\n",
            "\n",
            "                        ensemble_data = {\n",
            "                            'folder_name': experiment_folder,\n",
            "                            'ensemble_3_best': ensemble_folders[0].split('fold')[0] + \"_\" + ensemble_folders[1].split('fold')[0] + \"_\" + ensemble_folders[2].split('fold')[0]\n",
            "                        }\n",
            "                        \n",
            "\n",
            "                    ensemble_preds_best = None\n",
            "\n",
            "        best_metric_ensemble.compute_metrics()\n",
            "        best_metric_ensemble.save_scores()\n",
            "\n",
            "        for auc_metric in best_metric_ensemble.metrics_values['auc_and_roc_curve'][0]:\n",
            "            best_metric_ensemble.metrics_values[\"auc_\" + str(auc_metric)] = best_metric_ensemble.metrics_values['auc_and_roc_curve'][0][auc_metric]\n",
            "        \n",
            "        dict_best = {**ensemble_data, **best_metric_ensemble.metrics_values}\n",
            "\n",
            "        del dict_best['auc_and_roc_curve']\n",
            "        del dict_best['precision_recall_report']\n",
            "        # del dict_best['conf_matrix']\n",
            "        \n",
            "        df_best = df_best.append(pd.DataFrame(dict_best, columns=dict_best.keys(), index=[0]), ignore_index=True)\n",
            "    except Exception as e:\n",
            "        print('Error: ', e)\n",
            "        continue\n",
            "\n",
            "# read csv file\n",
            "# df = pd.read_csv(os.path.join(folder_path, 'ensemble_3_best_average_best.csv'))\n",
            "# # append df_best to df\n",
            "# df = df.append(df_best, ignore_index=True)\n",
            "df_best.to_csv(os.path.join(folder_path, 'ensemble_3_best_average_best.csv'), index=False)\n"
         ]
      },
      {
         "attachments": {},
         "cell_type": "markdown",
         "metadata": {},
         "source": [
            "Calculate ensemble by voting for all experiments"
         ]
      },
      {
         "cell_type": "code",
         "execution_count": 5,
         "metadata": {},
         "outputs": [
            {
               "name": "stdout",
               "output_type": "stream",
               "text": [
                  "Experimento:  dull_razor_shades_of_gray_cropped_images_folder_2\n",
                  "Experimento:  DA0_noPP\n",
                  "Experimento:  noDA_CLAHE_dull_razor_shades_of_gray_cropped_images_folder\n",
                  "Saving the scores in best_results/noDA_CLAHE_dull_razor_shades_of_gray_cropped_images_folder/ensemble_votation/best\n",
                  "Saving the scores in best_results/noDA_CLAHE_dull_razor_shades_of_gray_cropped_images_folder/ensemble_votation/last\n",
                  "Experimento:  DA0_PP\n",
                  "Saving the scores in best_results/DA0_PP/ensemble_votation/best\n",
                  "Saving the scores in best_results/DA0_PP/ensemble_votation/last\n",
                  "Experimento:  dull_razor\n",
                  "Experimento:  DA1_noPP\n",
                  "Experimento:  shades_of_gray_cropped_images_folder\n",
                  "Experimento:  DA2_dull_razor_shades_of_gray_cropped_images_folder\n",
                  "Saving the scores in best_results/DA2_dull_razor_shades_of_gray_cropped_images_folder/ensemble_votation/best\n",
                  "Saving the scores in best_results/DA2_dull_razor_shades_of_gray_cropped_images_folder/ensemble_votation/last\n",
                  "Experimento:  dull_razor_shades_of_gray_cropped_images_folder\n",
                  "Experimento:  DA3_noPP\n",
                  "Experimento:  DA2_CLAHE\n",
                  "Saving the scores in best_results/DA2_CLAHE/ensemble_votation/best\n",
                  "Saving the scores in best_results/DA2_CLAHE/ensemble_votation/last\n",
                  "Experimento:  dull_razor_shades_of_gray\n",
                  "Experimento:  DA0_noPP_3\n",
                  "Saving the scores in best_results/DA0_noPP_3/ensemble_votation/best\n",
                  "Saving the scores in best_results/DA0_noPP_3/ensemble_votation/last\n",
                  "Experimento:  dull_razor_2\n",
                  "Experimento:  DA2_noPP_2\n",
                  "Saving the scores in best_results/DA2_noPP_2/ensemble_votation/best\n",
                  "Saving the scores in best_results/DA2_noPP_2/ensemble_votation/last\n",
                  "Experimento:  DA2_CLAHE_dull_razor_shades_of_gray_cropped_images_folder\n",
                  "Saving the scores in best_results/DA2_CLAHE_dull_razor_shades_of_gray_cropped_images_folder/ensemble_votation/best\n",
                  "Saving the scores in best_results/DA2_CLAHE_dull_razor_shades_of_gray_cropped_images_folder/ensemble_votation/last\n",
                  "Experimento:  DA2_dull_razor\n",
                  "Saving the scores in best_results/DA2_dull_razor/ensemble_votation/best\n",
                  "Saving the scores in best_results/DA2_dull_razor/ensemble_votation/last\n",
                  "Experimento:  DA2_cropped_images_folder_150_epochs_lr_init_0001\n",
                  "Saving the scores in best_results/DA2_cropped_images_folder_150_epochs_lr_init_0001/ensemble_votation/best\n",
                  "Saving the scores in best_results/DA2_cropped_images_folder_150_epochs_lr_init_0001/ensemble_votation/last\n",
                  "Experimento:  non_local_means_cropped_images_folder\n",
                  "Experimento:  noDA_dull_razor_shades_of_gray_cropped_images_folder\n",
                  "Saving the scores in best_results/noDA_dull_razor_shades_of_gray_cropped_images_folder/ensemble_votation/best\n",
                  "Saving the scores in best_results/noDA_dull_razor_shades_of_gray_cropped_images_folder/ensemble_votation/last\n",
                  "Experimento:  DA1_PPcropped\n",
                  "Experimento:  gaussian_filter_2\n",
                  "Experimento:  CLAHE_cropped_images_folder\n",
                  "Experimento:  noDA_cropped_images_folder_moredata\n"
               ]
            },
            {
               "name": "stderr",
               "output_type": "stream",
               "text": [
                  "/home/a52550/Desktop/masters/cnn/learning_cycle/benchmarks/isic/raug/utils/classification_metrics_2.py:356: RuntimeWarning: More than 20 figures have been opened. Figures created through the pyplot interface (`matplotlib.pyplot.figure`) are retained until explicitly closed and may consume too much memory. (To control this warning, see the rcParam `figure.max_open_warning`).\n",
                  "  plt.figure()\n"
               ]
            },
            {
               "name": "stdout",
               "output_type": "stream",
               "text": [
                  "Saving the scores in best_results/noDA_cropped_images_folder_moredata/ensemble_votation/best\n",
                  "Saving the scores in best_results/noDA_cropped_images_folder_moredata/ensemble_votation/last\n",
                  "Experimento:  dull_razor_cropped_images_folder\n",
                  "Experimento:  DA2_dull_razor_cropped_images_folder\n",
                  "Saving the scores in best_results/DA2_dull_razor_cropped_images_folder/ensemble_votation/best\n",
                  "Saving the scores in best_results/DA2_dull_razor_cropped_images_folder/ensemble_votation/last\n",
                  "Experimento:  noDA_dull_razor_shades_of_gray_cropped_images_folder_150_epochs\n",
                  "Saving the scores in best_results/noDA_dull_razor_shades_of_gray_cropped_images_folder_150_epochs/ensemble_votation/best\n",
                  "Saving the scores in best_results/noDA_dull_razor_shades_of_gray_cropped_images_folder_150_epochs/ensemble_votation/last\n",
                  "Experimento:  dropout_05\n",
                  "Erro no experimento  dropout_05\n",
                  "[Errno 2] No such file or directory: 'best_results/dropout_05/seresnext101_32x8d_fold-1_lrinit-0.0001_batchsize-32_optimizer-Adam_maxepochs-50_DA-None_PPen-None_PPha-None_PPco-None_PPde-None_PPno-True_PPcr-None_PPre-True_drop-0.5_trainjustclassifier-False_16805547061762884/test_pred_best/predictions.csv'\n",
                  "Experimento:  noDA_PPcropped_2\n",
                  "Saving the scores in best_results/noDA_PPcropped_2/ensemble_votation/best\n",
                  "Saving the scores in best_results/noDA_PPcropped_2/ensemble_votation/last\n",
                  "Experimento:  DA2_shades_of_gray\n",
                  "Saving the scores in best_results/DA2_shades_of_gray/ensemble_votation/best\n",
                  "Saving the scores in best_results/DA2_shades_of_gray/ensemble_votation/last\n",
                  "Experimento:  DA2_CLAHE_dull_razor\n",
                  "Saving the scores in best_results/DA2_CLAHE_dull_razor/ensemble_votation/best\n",
                  "Saving the scores in best_results/DA2_CLAHE_dull_razor/ensemble_votation/last\n",
                  "Experimento:  DA2_noPP\n",
                  "Experimento:  DA0_noPP_2\n",
                  "Saving the scores in best_results/DA0_noPP_2/ensemble_votation/best\n",
                  "Saving the scores in best_results/DA0_noPP_2/ensemble_votation/last\n",
                  "Experimento:  DA2_CLAHE_shades_of_gray_cropped_images_folder\n",
                  "Saving the scores in best_results/DA2_CLAHE_shades_of_gray_cropped_images_folder/ensemble_votation/best\n",
                  "Saving the scores in best_results/DA2_CLAHE_shades_of_gray_cropped_images_folder/ensemble_votation/last\n",
                  "Experimento:  DA2_dull_razor_shades_of_gray\n",
                  "Saving the scores in best_results/DA2_dull_razor_shades_of_gray/ensemble_votation/best\n",
                  "Saving the scores in best_results/DA2_dull_razor_shades_of_gray/ensemble_votation/last\n",
                  "Experimento:  CLAHE_2\n",
                  "Experimento:  mean_filter_cropped_images_folder\n",
                  "Experimento:  noDA_CLAHE\n",
                  "Saving the scores in best_results/noDA_CLAHE/ensemble_votation/best\n",
                  "Saving the scores in best_results/noDA_CLAHE/ensemble_votation/last\n",
                  "Experimento:  train_classifier_only\n",
                  "Saving the scores in best_results/train_classifier_only/ensemble_votation/best\n",
                  "Saving the scores in best_results/train_classifier_only/ensemble_votation/last\n",
                  "Experimento:  non_local_means\n",
                  "Experimento:  dropout_02\n",
                  "Erro no experimento  dropout_02\n",
                  "[Errno 2] No such file or directory: 'best_results/dropout_02/tf_efficientnet_b5_fold-1_lrinit-0.0001_batchsize-8_optimizer-AdamW_maxepochs-50_DA-None_PPen-None_PPha-None_PPco-None_PPde-None_PPno-True_PPcr-None_PPre-True_drop-0.2_trainjustclassifier-False_16805668596310365/test_pred_best/predictions.csv'\n",
                  "Experimento:  DA2_cropped_images_folder_moredata\n",
                  "Saving the scores in best_results/DA2_cropped_images_folder_moredata/ensemble_votation/best\n",
                  "Saving the scores in best_results/DA2_cropped_images_folder_moredata/ensemble_votation/last\n",
                  "Experimento:  noDA_dull_razor_shades_of_gray_cropped_images_folder_moredata\n",
                  "Saving the scores in best_results/noDA_dull_razor_shades_of_gray_cropped_images_folder_moredata/ensemble_votation/best\n",
                  "Saving the scores in best_results/noDA_dull_razor_shades_of_gray_cropped_images_folder_moredata/ensemble_votation/last\n",
                  "Experimento:  DA2_shades_of_gray_cropped_images_folder_150_epochs\n",
                  "Saving the scores in best_results/DA2_shades_of_gray_cropped_images_folder_150_epochs/ensemble_votation/best\n",
                  "Saving the scores in best_results/DA2_shades_of_gray_cropped_images_folder_150_epochs/ensemble_votation/last\n",
                  "Experimento:  non_local_means_2\n",
                  "Experimento:  DA2_CLAHE_dull_razor_cropped_images_folder\n",
                  "Saving the scores in best_results/DA2_CLAHE_dull_razor_cropped_images_folder/ensemble_votation/best\n",
                  "Saving the scores in best_results/DA2_CLAHE_dull_razor_cropped_images_folder/ensemble_votation/last\n",
                  "Experimento:  gaussian_filter_cropped_images_folder\n",
                  "Experimento:  DA2_CLAHE_cropped_images_folder\n",
                  "Saving the scores in best_results/DA2_CLAHE_cropped_images_folder/ensemble_votation/best\n",
                  "Saving the scores in best_results/DA2_CLAHE_cropped_images_folder/ensemble_votation/last\n",
                  "Experimento:  DA4_noPP\n",
                  "Saving the scores in best_results/DA4_noPP/ensemble_votation/best\n",
                  "Saving the scores in best_results/DA4_noPP/ensemble_votation/last\n",
                  "Experimento:  DA0_PP_100epochs\n",
                  "Saving the scores in best_results/DA0_PP_100epochs/ensemble_votation/best\n",
                  "Saving the scores in best_results/DA0_PP_100epochs/ensemble_votation/last\n",
                  "Experimento:  noDA_CLAHE_dull_razor_shades_of_gray\n",
                  "Saving the scores in best_results/noDA_CLAHE_dull_razor_shades_of_gray/ensemble_votation/best\n",
                  "Saving the scores in best_results/noDA_CLAHE_dull_razor_shades_of_gray/ensemble_votation/last\n",
                  "Experimento:  dull_razor_shades_of_gray_2\n",
                  "Saving the scores in best_results/dull_razor_shades_of_gray_2/ensemble_votation/best\n",
                  "Saving the scores in best_results/dull_razor_shades_of_gray_2/ensemble_votation/last\n",
                  "Experimento:  gaussian_filter\n",
                  "Experimento:  DA2_dull_razor_shades_of_gray_cropped_images_folder_moredata\n",
                  "Saving the scores in best_results/DA2_dull_razor_shades_of_gray_cropped_images_folder_moredata/ensemble_votation/best\n",
                  "Saving the scores in best_results/DA2_dull_razor_shades_of_gray_cropped_images_folder_moredata/ensemble_votation/last\n",
                  "Experimento:  shades_of_gray_2\n",
                  "Saving the scores in best_results/shades_of_gray_2/ensemble_votation/best\n",
                  "Saving the scores in best_results/shades_of_gray_2/ensemble_votation/last\n",
                  "Experimento:  noDA_dull_razor\n",
                  "Saving the scores in best_results/noDA_dull_razor/ensemble_votation/best\n",
                  "Saving the scores in best_results/noDA_dull_razor/ensemble_votation/last\n",
                  "Experimento:  noDA_noPP\n",
                  "Experimento:  shades_of_gray\n",
                  "Experimento:  mean_filter\n",
                  "Experimento:  mean_filter_2\n",
                  "Experimento:  noDA_CLAHE_dull_razor_shades_of_gray_cropped_images_folder_150_epochs\n",
                  "Saving the scores in best_results/noDA_CLAHE_dull_razor_shades_of_gray_cropped_images_folder_150_epochs/ensemble_votation/best\n",
                  "Saving the scores in best_results/noDA_CLAHE_dull_razor_shades_of_gray_cropped_images_folder_150_epochs/ensemble_votation/last\n",
                  "Experimento:  DA2_CLAHE_shades_of_gray\n",
                  "Saving the scores in best_results/DA2_CLAHE_shades_of_gray/ensemble_votation/best\n",
                  "Saving the scores in best_results/DA2_CLAHE_shades_of_gray/ensemble_votation/last\n",
                  "Experimento:  noDA_noPP_2\n",
                  "Saving the scores in best_results/noDA_noPP_2/ensemble_votation/best\n",
                  "Saving the scores in best_results/noDA_noPP_2/ensemble_votation/last\n",
                  "Experimento:  DA2_CLAHE_dull_razor_shades_of_gray\n",
                  "Saving the scores in best_results/DA2_CLAHE_dull_razor_shades_of_gray/ensemble_votation/best\n",
                  "Saving the scores in best_results/DA2_CLAHE_dull_razor_shades_of_gray/ensemble_votation/last\n",
                  "Experimento:  DA0_PPcropped\n",
                  "Experimento:  DA2_cropped_images_folder\n",
                  "Saving the scores in best_results/DA2_cropped_images_folder/ensemble_votation/best\n",
                  "Saving the scores in best_results/DA2_cropped_images_folder/ensemble_votation/last\n",
                  "Experimento:  DA2_shades_of_gray_CLAHE_cropped_images_folder\n",
                  "Saving the scores in best_results/DA2_shades_of_gray_CLAHE_cropped_images_folder/ensemble_votation/best\n",
                  "Saving the scores in best_results/DA2_shades_of_gray_CLAHE_cropped_images_folder/ensemble_votation/last\n",
                  "Experimento:  noDA_PPcropped\n",
                  "Experimento:  noDA_dull_razor_shades_of_gray\n",
                  "Saving the scores in best_results/noDA_dull_razor_shades_of_gray/ensemble_votation/best\n",
                  "Saving the scores in best_results/noDA_dull_razor_shades_of_gray/ensemble_votation/last\n",
                  "Experimento:  CLAHE\n"
               ]
            },
            {
               "data": {
                  "text/plain": [
                     "<Figure size 640x480 with 0 Axes>"
                  ]
               },
               "metadata": {},
               "output_type": "display_data"
            },
            {
               "data": {
                  "text/plain": [
                     "<Figure size 640x480 with 0 Axes>"
                  ]
               },
               "metadata": {},
               "output_type": "display_data"
            },
            {
               "data": {
                  "text/plain": [
                     "<Figure size 640x480 with 0 Axes>"
                  ]
               },
               "metadata": {},
               "output_type": "display_data"
            },
            {
               "data": {
                  "text/plain": [
                     "<Figure size 640x480 with 0 Axes>"
                  ]
               },
               "metadata": {},
               "output_type": "display_data"
            },
            {
               "data": {
                  "text/plain": [
                     "<Figure size 640x480 with 0 Axes>"
                  ]
               },
               "metadata": {},
               "output_type": "display_data"
            },
            {
               "data": {
                  "text/plain": [
                     "<Figure size 640x480 with 0 Axes>"
                  ]
               },
               "metadata": {},
               "output_type": "display_data"
            },
            {
               "data": {
                  "text/plain": [
                     "<Figure size 640x480 with 0 Axes>"
                  ]
               },
               "metadata": {},
               "output_type": "display_data"
            },
            {
               "data": {
                  "text/plain": [
                     "<Figure size 640x480 with 0 Axes>"
                  ]
               },
               "metadata": {},
               "output_type": "display_data"
            },
            {
               "data": {
                  "text/plain": [
                     "<Figure size 640x480 with 0 Axes>"
                  ]
               },
               "metadata": {},
               "output_type": "display_data"
            },
            {
               "data": {
                  "text/plain": [
                     "<Figure size 640x480 with 0 Axes>"
                  ]
               },
               "metadata": {},
               "output_type": "display_data"
            },
            {
               "data": {
                  "text/plain": [
                     "<Figure size 640x480 with 0 Axes>"
                  ]
               },
               "metadata": {},
               "output_type": "display_data"
            },
            {
               "data": {
                  "text/plain": [
                     "<Figure size 640x480 with 0 Axes>"
                  ]
               },
               "metadata": {},
               "output_type": "display_data"
            },
            {
               "data": {
                  "text/plain": [
                     "<Figure size 640x480 with 0 Axes>"
                  ]
               },
               "metadata": {},
               "output_type": "display_data"
            },
            {
               "data": {
                  "text/plain": [
                     "<Figure size 640x480 with 0 Axes>"
                  ]
               },
               "metadata": {},
               "output_type": "display_data"
            },
            {
               "data": {
                  "text/plain": [
                     "<Figure size 640x480 with 0 Axes>"
                  ]
               },
               "metadata": {},
               "output_type": "display_data"
            },
            {
               "data": {
                  "text/plain": [
                     "<Figure size 640x480 with 0 Axes>"
                  ]
               },
               "metadata": {},
               "output_type": "display_data"
            },
            {
               "data": {
                  "text/plain": [
                     "<Figure size 640x480 with 0 Axes>"
                  ]
               },
               "metadata": {},
               "output_type": "display_data"
            },
            {
               "data": {
                  "text/plain": [
                     "<Figure size 640x480 with 0 Axes>"
                  ]
               },
               "metadata": {},
               "output_type": "display_data"
            },
            {
               "data": {
                  "text/plain": [
                     "<Figure size 640x480 with 0 Axes>"
                  ]
               },
               "metadata": {},
               "output_type": "display_data"
            },
            {
               "data": {
                  "text/plain": [
                     "<Figure size 640x480 with 0 Axes>"
                  ]
               },
               "metadata": {},
               "output_type": "display_data"
            },
            {
               "data": {
                  "text/plain": [
                     "<Figure size 640x480 with 0 Axes>"
                  ]
               },
               "metadata": {},
               "output_type": "display_data"
            },
            {
               "data": {
                  "text/plain": [
                     "<Figure size 640x480 with 0 Axes>"
                  ]
               },
               "metadata": {},
               "output_type": "display_data"
            },
            {
               "data": {
                  "text/plain": [
                     "<Figure size 640x480 with 0 Axes>"
                  ]
               },
               "metadata": {},
               "output_type": "display_data"
            },
            {
               "data": {
                  "text/plain": [
                     "<Figure size 640x480 with 0 Axes>"
                  ]
               },
               "metadata": {},
               "output_type": "display_data"
            },
            {
               "data": {
                  "text/plain": [
                     "<Figure size 640x480 with 0 Axes>"
                  ]
               },
               "metadata": {},
               "output_type": "display_data"
            },
            {
               "data": {
                  "text/plain": [
                     "<Figure size 640x480 with 0 Axes>"
                  ]
               },
               "metadata": {},
               "output_type": "display_data"
            },
            {
               "data": {
                  "text/plain": [
                     "<Figure size 640x480 with 0 Axes>"
                  ]
               },
               "metadata": {},
               "output_type": "display_data"
            },
            {
               "data": {
                  "text/plain": [
                     "<Figure size 640x480 with 0 Axes>"
                  ]
               },
               "metadata": {},
               "output_type": "display_data"
            },
            {
               "data": {
                  "text/plain": [
                     "<Figure size 640x480 with 0 Axes>"
                  ]
               },
               "metadata": {},
               "output_type": "display_data"
            },
            {
               "data": {
                  "text/plain": [
                     "<Figure size 640x480 with 0 Axes>"
                  ]
               },
               "metadata": {},
               "output_type": "display_data"
            },
            {
               "data": {
                  "text/plain": [
                     "<Figure size 640x480 with 0 Axes>"
                  ]
               },
               "metadata": {},
               "output_type": "display_data"
            },
            {
               "data": {
                  "text/plain": [
                     "<Figure size 640x480 with 0 Axes>"
                  ]
               },
               "metadata": {},
               "output_type": "display_data"
            },
            {
               "data": {
                  "text/plain": [
                     "<Figure size 640x480 with 0 Axes>"
                  ]
               },
               "metadata": {},
               "output_type": "display_data"
            },
            {
               "data": {
                  "text/plain": [
                     "<Figure size 640x480 with 0 Axes>"
                  ]
               },
               "metadata": {},
               "output_type": "display_data"
            },
            {
               "data": {
                  "text/plain": [
                     "<Figure size 640x480 with 0 Axes>"
                  ]
               },
               "metadata": {},
               "output_type": "display_data"
            },
            {
               "data": {
                  "text/plain": [
                     "<Figure size 640x480 with 0 Axes>"
                  ]
               },
               "metadata": {},
               "output_type": "display_data"
            },
            {
               "data": {
                  "text/plain": [
                     "<Figure size 640x480 with 0 Axes>"
                  ]
               },
               "metadata": {},
               "output_type": "display_data"
            },
            {
               "data": {
                  "text/plain": [
                     "<Figure size 640x480 with 0 Axes>"
                  ]
               },
               "metadata": {},
               "output_type": "display_data"
            },
            {
               "data": {
                  "text/plain": [
                     "<Figure size 640x480 with 0 Axes>"
                  ]
               },
               "metadata": {},
               "output_type": "display_data"
            },
            {
               "data": {
                  "text/plain": [
                     "<Figure size 640x480 with 0 Axes>"
                  ]
               },
               "metadata": {},
               "output_type": "display_data"
            },
            {
               "data": {
                  "text/plain": [
                     "<Figure size 640x480 with 0 Axes>"
                  ]
               },
               "metadata": {},
               "output_type": "display_data"
            },
            {
               "data": {
                  "text/plain": [
                     "<Figure size 640x480 with 0 Axes>"
                  ]
               },
               "metadata": {},
               "output_type": "display_data"
            },
            {
               "data": {
                  "text/plain": [
                     "<Figure size 640x480 with 0 Axes>"
                  ]
               },
               "metadata": {},
               "output_type": "display_data"
            },
            {
               "data": {
                  "text/plain": [
                     "<Figure size 640x480 with 0 Axes>"
                  ]
               },
               "metadata": {},
               "output_type": "display_data"
            },
            {
               "data": {
                  "text/plain": [
                     "<Figure size 640x480 with 0 Axes>"
                  ]
               },
               "metadata": {},
               "output_type": "display_data"
            },
            {
               "data": {
                  "text/plain": [
                     "<Figure size 640x480 with 0 Axes>"
                  ]
               },
               "metadata": {},
               "output_type": "display_data"
            },
            {
               "data": {
                  "text/plain": [
                     "<Figure size 640x480 with 0 Axes>"
                  ]
               },
               "metadata": {},
               "output_type": "display_data"
            },
            {
               "data": {
                  "text/plain": [
                     "<Figure size 640x480 with 0 Axes>"
                  ]
               },
               "metadata": {},
               "output_type": "display_data"
            },
            {
               "data": {
                  "text/plain": [
                     "<Figure size 640x480 with 0 Axes>"
                  ]
               },
               "metadata": {},
               "output_type": "display_data"
            },
            {
               "data": {
                  "text/plain": [
                     "<Figure size 640x480 with 0 Axes>"
                  ]
               },
               "metadata": {},
               "output_type": "display_data"
            },
            {
               "data": {
                  "text/plain": [
                     "<Figure size 640x480 with 0 Axes>"
                  ]
               },
               "metadata": {},
               "output_type": "display_data"
            },
            {
               "data": {
                  "text/plain": [
                     "<Figure size 640x480 with 0 Axes>"
                  ]
               },
               "metadata": {},
               "output_type": "display_data"
            },
            {
               "data": {
                  "text/plain": [
                     "<Figure size 640x480 with 0 Axes>"
                  ]
               },
               "metadata": {},
               "output_type": "display_data"
            },
            {
               "data": {
                  "text/plain": [
                     "<Figure size 640x480 with 0 Axes>"
                  ]
               },
               "metadata": {},
               "output_type": "display_data"
            },
            {
               "data": {
                  "text/plain": [
                     "<Figure size 640x480 with 0 Axes>"
                  ]
               },
               "metadata": {},
               "output_type": "display_data"
            },
            {
               "data": {
                  "text/plain": [
                     "<Figure size 640x480 with 0 Axes>"
                  ]
               },
               "metadata": {},
               "output_type": "display_data"
            },
            {
               "data": {
                  "text/plain": [
                     "<Figure size 640x480 with 0 Axes>"
                  ]
               },
               "metadata": {},
               "output_type": "display_data"
            },
            {
               "data": {
                  "text/plain": [
                     "<Figure size 640x480 with 0 Axes>"
                  ]
               },
               "metadata": {},
               "output_type": "display_data"
            },
            {
               "data": {
                  "text/plain": [
                     "<Figure size 640x480 with 0 Axes>"
                  ]
               },
               "metadata": {},
               "output_type": "display_data"
            },
            {
               "data": {
                  "text/plain": [
                     "<Figure size 640x480 with 0 Axes>"
                  ]
               },
               "metadata": {},
               "output_type": "display_data"
            },
            {
               "data": {
                  "text/plain": [
                     "<Figure size 640x480 with 0 Axes>"
                  ]
               },
               "metadata": {},
               "output_type": "display_data"
            },
            {
               "data": {
                  "text/plain": [
                     "<Figure size 640x480 with 0 Axes>"
                  ]
               },
               "metadata": {},
               "output_type": "display_data"
            },
            {
               "data": {
                  "text/plain": [
                     "<Figure size 640x480 with 0 Axes>"
                  ]
               },
               "metadata": {},
               "output_type": "display_data"
            },
            {
               "data": {
                  "text/plain": [
                     "<Figure size 640x480 with 0 Axes>"
                  ]
               },
               "metadata": {},
               "output_type": "display_data"
            },
            {
               "data": {
                  "text/plain": [
                     "<Figure size 640x480 with 0 Axes>"
                  ]
               },
               "metadata": {},
               "output_type": "display_data"
            },
            {
               "data": {
                  "text/plain": [
                     "<Figure size 640x480 with 0 Axes>"
                  ]
               },
               "metadata": {},
               "output_type": "display_data"
            },
            {
               "data": {
                  "text/plain": [
                     "<Figure size 640x480 with 0 Axes>"
                  ]
               },
               "metadata": {},
               "output_type": "display_data"
            },
            {
               "data": {
                  "text/plain": [
                     "<Figure size 640x480 with 0 Axes>"
                  ]
               },
               "metadata": {},
               "output_type": "display_data"
            },
            {
               "data": {
                  "text/plain": [
                     "<Figure size 640x480 with 0 Axes>"
                  ]
               },
               "metadata": {},
               "output_type": "display_data"
            },
            {
               "data": {
                  "text/plain": [
                     "<Figure size 640x480 with 0 Axes>"
                  ]
               },
               "metadata": {},
               "output_type": "display_data"
            },
            {
               "data": {
                  "text/plain": [
                     "<Figure size 640x480 with 0 Axes>"
                  ]
               },
               "metadata": {},
               "output_type": "display_data"
            },
            {
               "data": {
                  "text/plain": [
                     "<Figure size 640x480 with 0 Axes>"
                  ]
               },
               "metadata": {},
               "output_type": "display_data"
            },
            {
               "data": {
                  "text/plain": [
                     "<Figure size 640x480 with 0 Axes>"
                  ]
               },
               "metadata": {},
               "output_type": "display_data"
            },
            {
               "data": {
                  "text/plain": [
                     "<Figure size 640x480 with 0 Axes>"
                  ]
               },
               "metadata": {},
               "output_type": "display_data"
            },
            {
               "data": {
                  "text/plain": [
                     "<Figure size 640x480 with 0 Axes>"
                  ]
               },
               "metadata": {},
               "output_type": "display_data"
            },
            {
               "data": {
                  "text/plain": [
                     "<Figure size 640x480 with 0 Axes>"
                  ]
               },
               "metadata": {},
               "output_type": "display_data"
            },
            {
               "data": {
                  "text/plain": [
                     "<Figure size 640x480 with 0 Axes>"
                  ]
               },
               "metadata": {},
               "output_type": "display_data"
            },
            {
               "data": {
                  "text/plain": [
                     "<Figure size 640x480 with 0 Axes>"
                  ]
               },
               "metadata": {},
               "output_type": "display_data"
            },
            {
               "data": {
                  "text/plain": [
                     "<Figure size 640x480 with 0 Axes>"
                  ]
               },
               "metadata": {},
               "output_type": "display_data"
            },
            {
               "data": {
                  "text/plain": [
                     "<Figure size 640x480 with 0 Axes>"
                  ]
               },
               "metadata": {},
               "output_type": "display_data"
            }
         ],
         "source": [
            "import os\n",
            "import numpy as np\n",
            "from raug.metrics_2 import Metrics, accuracy\n",
            "from raug.utils.loader import get_labels_frequency\n",
            "import pandas as pd\n",
            "\n",
            "# Especificar o caminho para a pasta \"best_results\"\n",
            "folder_path = \"best_results\"\n",
            "_csv_path_test = \"/home/a52550/Desktop/datasets/ISIC2017/test/ISIC-2017_Test_v2_Part3_GroundTruth.csv\"\n",
            "true_labels = pd.read_csv(_csv_path_test).sort_values(by=['image_id'])['category']\n",
            "\n",
            "# Inicializar as variáveis para armazenar as previsões dos modelos\n",
            "ensemble_preds_best = None\n",
            "ensemble_preds_last = None\n",
            "num_models = 0\n",
            "ser_lab_freq = get_labels_frequency(_csv_path_test, \"category\", \"image_id\")\n",
            "_labels_name = ser_lab_freq.index.values #np.reshape(ser_lab_freq.index.values, (ser_lab_freq.index.values.shape[0], 1))\n",
            "\n",
            "df_best = pd.DataFrame()\n",
            "df_last = pd.DataFrame()\n",
            "\n",
            "# Percorrer as pastas de cada experimento\n",
            "for experiment_folder in os.listdir(folder_path):\n",
            "\n",
            "    if \".csv\" in experiment_folder or \".txt\" in experiment_folder:\n",
            "        continue\n",
            "    \n",
            "    # if \"ensemble_votation\" in os.listdir(os.path.join(folder_path,experiment_folder)):\n",
            "    #     continue\n",
            "\n",
            "    print(\"Experimento: \", experiment_folder)\n",
            "\n",
            "    _metric_options_best = {\n",
            "        'save_all_path': os.path.join(folder_path, experiment_folder, 'ensemble_votation/best'),\n",
            "        'pred_name_scores': 'predictions.csv',\n",
            "    }\n",
            "    _metric_options_last = {\n",
            "        'save_all_path': os.path.join(folder_path, experiment_folder, 'ensemble_votation/last'),\n",
            "        'pred_name_scores': 'predictions.csv',\n",
            "    }\n",
            "\n",
            "\n",
            "    experiment_path = os.path.join(folder_path, experiment_folder)\n",
            "    metrics_best = Metrics ([\"accuracy\", \"topk_accuracy\", \"balanced_accuracy\", \"conf_matrix\" \"plot_conf_matrix\", \"precision_recall_report\", \"auc_and_roc_curve\", \"auc\"] , _labels_name, _metric_options_best)\n",
            "    metrics_last = Metrics ([\"accuracy\", \"topk_accuracy\", \"balanced_accuracy\", \"conf_matrix\" \"plot_conf_matrix\", \"precision_recall_report\", \"auc_and_roc_curve\", \"auc\"] , _labels_name, _metric_options_last)\n",
            "\n",
            "    ensemble_preds_best = None\n",
            "    ensemble_preds_last = None\n",
            "\n",
            "    model_folders = os.listdir(experiment_path)\n",
            "    \n",
            "    models_folders = [x for x in model_folders if \".csv\" not in x]\n",
            "\n",
            "    # Check if substring \"senet154\" is present in model_folders\n",
            "    if any(\"senet154\" in s for s in model_folders):\n",
            "        continue\n",
            "\n",
            "    \n",
            "    # Cria path para o experimento atual\n",
            "    if 'ensemble_votation' in model_folders:\n",
            "        model_folders.remove('ensemble_votation')\n",
            "    else:\n",
            "        os.mkdir(os.path.join(folder_path, experiment_folder, 'ensemble_votation'))\n",
            "        os.mkdir(os.path.join(_metric_options_best['save_all_path']))\n",
            "        os.mkdir(os.path.join(_metric_options_last['save_all_path']))\n",
            "\n",
            "    if 'ensemble_3_best_average' in model_folders:\n",
            "        model_folders.remove('ensemble_3_best_average')\n",
            "    if 'ensemble_average' in model_folders:\n",
            "        model_folders.remove('ensemble_average')\n",
            "    if 'DAandPPlatex.txt' in model_folders:\n",
            "        model_folders.remove('DAandPPlatex.txt')\n",
            "\n",
            "    model_folders = [x for x in model_folders if \".csv\" not in x]\n",
            "\n",
            "    try:\n",
            "\n",
            "        # Percorrer as pastas de cada modelo\n",
            "        for model_folder in model_folders:\n",
            "\n",
            "            model_path = os.path.join(experiment_path, model_folder)\n",
            "\n",
            "            # Carregar as previsões do modelo atual\n",
            "            model_preds_path_best = os.path.join(model_path, \"test_pred_best/predictions.csv\")\n",
            "            model_preds_path_last = os.path.join(model_path, \"test_pred_last/predictions.csv\")\n",
            "\n",
            "            model_preds_best = pd.read_csv(model_preds_path_best).sort_values(by=['image'])\n",
            "            model_preds_last = pd.read_csv(model_preds_path_last).sort_values(by=['image'])\n",
            "\n",
            "            model_preds_best_votation = model_preds_best[['0','1','2']].copy() \n",
            "            model_preds_last_votation = model_preds_last[['0','1','2']].copy()\n",
            "\n",
            "            images_id = model_preds_best[['image']]\n",
            "            model_preds_best_votation['0'] = (model_preds_best['0'] == model_preds_best[['0','1','2']].max(axis=1)).astype(int)\n",
            "            model_preds_best_votation['1'] = (model_preds_best['1'] == model_preds_best[['0','1','2']].max(axis=1)).astype(int)\n",
            "            model_preds_best_votation['2'] = (model_preds_best['2'] == model_preds_best[['0','1','2']].max(axis=1)).astype(int)\n",
            "\n",
            "            model_preds_last_votation['0'] = (model_preds_last['0'] == model_preds_last[['0','1','2']].max(axis=1)).astype(int)\n",
            "            model_preds_last_votation['1'] = (model_preds_last['1'] == model_preds_last[['0','1','2']].max(axis=1)).astype(int)\n",
            "            model_preds_last_votation['2'] = (model_preds_last['2'] == model_preds_last[['0','1','2']].max(axis=1)).astype(int)\n",
            "\n",
            "\n",
            "            # Adicionar as previsões do modelo atual ao ensemble\n",
            "            if ensemble_preds_best is None:\n",
            "                ensemble_preds_best = model_preds_best_votation\n",
            "            else:\n",
            "                ensemble_preds_best += model_preds_best_votation\n",
            "\n",
            "            if ensemble_preds_last is None:\n",
            "                ensemble_preds_last = model_preds_last_votation\n",
            "            else:\n",
            "                ensemble_preds_last += model_preds_last_votation\n",
            "\n",
            "            num_models += 1\n",
            "\n",
            "        # Calcular a média das previsões dos modelos\n",
            "        aux = ensemble_preds_best.copy()\n",
            "        ensemble_preds_best['0'] = (aux['0'] == aux[['0','1','2']].max(axis=1)).astype(int)\n",
            "        ensemble_preds_best['1'] = (aux['1'] == aux[['0','1','2']].max(axis=1)).astype(int)\n",
            "        ensemble_preds_best['2'] = (aux['2'] == aux[['0','1','2']].max(axis=1)).astype(int)\n",
            "\n",
            "        aux = ensemble_preds_last.copy()\n",
            "        ensemble_preds_last['0'] = (aux['0'] == aux[['0','1','2']].max(axis=1)).astype(int)\n",
            "        ensemble_preds_last['1'] = (aux['1'] == aux[['0','1','2']].max(axis=1)).astype(int)\n",
            "        ensemble_preds_last['2'] = (aux['2'] == aux[['0','1','2']].max(axis=1)).astype(int)\n",
            "\n",
            "        metrics_best.update_scores(true_labels, ensemble_preds_best.to_numpy(), images_id.to_numpy())\n",
            "        metrics_last.update_scores(true_labels, ensemble_preds_last.to_numpy(), images_id.to_numpy())\n",
            "\n",
            "        metrics_best.compute_metrics()\n",
            "        metrics_last.compute_metrics()\n",
            "\n",
            "        metrics_best.save_scores()\n",
            "        metrics_last.save_scores()\n",
            "\n",
            "        for auc_metric in metrics_best.metrics_values['auc_and_roc_curve'][0]:\n",
            "            metrics_best.metrics_values[\"auc_\" + str(auc_metric)] = metrics_best.metrics_values['auc_and_roc_curve'][0][auc_metric]\n",
            "            metrics_last.metrics_values[\"auc_\" + str(auc_metric)] = metrics_last.metrics_values['auc_and_roc_curve'][0][auc_metric]\n",
            "\n",
            "        folder_name = {'folder_name': experiment_folder}\n",
            "        dict_best = {**folder_name, **metrics_best.metrics_values}\n",
            "        dict_last = {**folder_name, **metrics_last.metrics_values}\n",
            "\n",
            "        del dict_best['auc_and_roc_curve']\n",
            "        del dict_best['precision_recall_report']\n",
            "\n",
            "        del dict_last['auc_and_roc_curve']\n",
            "        del dict_last['precision_recall_report']\n",
            "\n",
            "        df_best = df_best.append(pd.DataFrame(dict_best, columns=dict_best.keys(), index=[0]), ignore_index=True)\n",
            "        df_last = df_last.append(pd.DataFrame(dict_last, columns=dict_last.keys(), index=[0]), ignore_index=True)\n",
            "\n",
            "    except Exception as e:\n",
            "        print(\"Erro no experimento \", experiment_folder)\n",
            "        print(e)\n",
            "\n",
            "\n",
            "df_best.to_csv(os.path.join(folder_path, 'ensemble_voting_best.csv'), index=False)\n",
            "df_last.to_csv(os.path.join(folder_path, 'ensemble_voting_last.csv'), index=False)\n",
            "\n",
            "# Avaliar a precisão do modelo de ensemble\n",
            "# true_classes_path = os.path.join(folder_path, \"true_classes.csv\")\n",
            "# true_classes = np.loadtxt(_csv_path_test, delimiter=\",\", skiprows=1)\n",
            "\n",
            "# from sklearn.metrics import accuracy_score, precision_score, recall_score, f1_score\n",
            "\n",
            "# accuracy = accuracy_score(true_classes, ensemble_classes)\n",
            "# precision = precision_score(true_classes, ensemble_classes, average=\"macro\")\n",
            "# recall = recall_score(true_classes, ensemble_classes, average=\"macro\")\n",
            "# f1 = f1_score(true_classes, ensemble_classes, average=\"macro\")\n",
            "\n",
            "# # Imprimir as métricas de avaliação\n",
            "# print(f\"Acurácia: {accuracy:.3f}\")\n",
            "# print(f\"Precisão: {precision:.3f}\")\n",
            "# print(f\"Recall: {recall:.3f}\")\n",
            "# print(f\"F1-score: {f1:.3f}\")\n"
         ]
      },
      {
         "attachments": {},
         "cell_type": "markdown",
         "metadata": {},
         "source": [
            "Calculate metrics for each model of each experiments"
         ]
      },
      {
         "cell_type": "code",
         "execution_count": null,
         "metadata": {},
         "outputs": [],
         "source": [
            "import os\n",
            "import numpy as np\n",
            "from raug.metrics_2 import Metrics, accuracy\n",
            "from raug.utils.loader import get_labels_frequency\n",
            "import pandas as pd\n",
            "\n",
            "# Especificar o caminho para a pasta \"best_results\"\n",
            "folder_path = \"best_results\"\n",
            "_csv_path_test = \"/home/a52550/Desktop/datasets/ISIC2017/test/ISIC-2017_Test_v2_Part3_GroundTruth.csv\"\n",
            "true_labels = pd.read_csv(_csv_path_test).sort_values(by=['image_id'])['category']\n",
            "\n",
            "# Inicializar as variáveis para armazenar as previsões dos modelos\n",
            "ensemble_preds_best = None\n",
            "ensemble_preds_last = None\n",
            "num_models = 0\n",
            "ser_lab_freq = get_labels_frequency(_csv_path_test, \"category\", \"image_id\")\n",
            "_labels_name = ser_lab_freq.index.values #np.reshape(ser_lab_freq.index.values, (ser_lab_freq.index.values.shape[0], 1))\n",
            "\n",
            "# Percorrer as pastas de cada experimento\n",
            "for experiment_folder in os.listdir(folder_path):\n",
            "\n",
            "    df_best = pd.DataFrame()\n",
            "    df_last = pd.DataFrame()\n",
            "\n",
            "\n",
            "    if \".csv\" in experiment_folder or \".txt\" in experiment_folder:\n",
            "        continue\n",
            "\n",
            "    experiment_path = os.path.join(folder_path, experiment_folder)\n",
            "\n",
            "    if \"results_best.csv\" in os.listdir(experiment_path):\n",
            "        continue\n",
            "\n",
            "    print(\"Experimento: \", experiment_folder)\n",
            "\n",
            "    ensemble_preds_best = None\n",
            "    ensemble_preds_last = None\n",
            "\n",
            "    model_folders = os.listdir(experiment_path)\n",
            "\n",
            "    # Check if substring \"senet154\" is present in model_folders\n",
            "    if any(\"senet154\" in s for s in model_folders):\n",
            "        continue\n",
            "\n",
            "    \n",
            "    # Cria path para o experimento atual\n",
            "    if 'ensemble_average' in model_folders:\n",
            "        model_folders.remove('ensemble_average')\n",
            "    else:\n",
            "        os.mkdir(os.path.join(folder_path, experiment_folder, 'ensemble_average'))\n",
            "        os.mkdir(os.path.join(_metric_options_best['save_all_path']))\n",
            "        os.mkdir(os.path.join(_metric_options_last['save_all_path']))\n",
            "\n",
            "    if 'ensemble_3_best_average' in model_folders:\n",
            "        model_folders.remove('ensemble_3_best_average')\n",
            "    \n",
            "    if 'ensemble_votation' in model_folders:\n",
            "        model_folders.remove('ensemble_votation')\n",
            "\n",
            "    if 'DAandPPlatex.txt' in model_folders:\n",
            "        model_folders.remove('DAandPPlatex.txt')\n",
            "\n",
            "    model_folders = [x for x in model_folders if \".csv\" not in x]\n",
            "\n",
            "    try:\n",
            "\n",
            "        # Percorrer as pastas de cada modelo\n",
            "        for model_folder in model_folders:\n",
            "\n",
            "            model_path = os.path.join(experiment_path, model_folder)\n",
            "            _metric_options_best = {\n",
            "                'save_all_path': os.path.join(model_path, 'new_test_pred_best'),\n",
            "                'pred_name_scores': 'predictions.csv',\n",
            "            }\n",
            "            _metric_options_last = {\n",
            "                'save_all_path': os.path.join(model_path, 'new_test_pred_last'),\n",
            "                'pred_name_scores': 'predictions.csv',\n",
            "            }\n",
            "\n",
            "            if 'new_test_pred_best' in os.listdir(model_path):\n",
            "                continue\n",
            "            else:\n",
            "                os.mkdir(os.path.join(model_path, 'new_test_pred_best'))\n",
            "            if 'new_test_pred_last' in os.listdir(model_path):\n",
            "                continue\n",
            "            else:\n",
            "                os.mkdir(os.path.join(model_path, 'new_test_pred_last'))\n",
            "\n",
            "            # Carregar as previsões do modelo atual\n",
            "            model_preds_path_best = os.path.join(model_path, \"test_pred_best/predictions.csv\")\n",
            "            model_preds_path_last = os.path.join(model_path, \"test_pred_last/predictions.csv\")\n",
            "\n",
            "            model_preds_best = pd.read_csv(model_preds_path_best).sort_values(by=['image'])\n",
            "            model_preds_last = pd.read_csv(model_preds_path_last).sort_values(by=['image'])\n",
            "\n",
            "            metrics_best = Metrics ([\"accuracy\", \"topk_accuracy\", \"balanced_accuracy\", \"conf_matrix\" \"plot_conf_matrix\", \"precision_recall_report\", \"auc_and_roc_curve\", \"auc\"] , _labels_name, _metric_options_best)\n",
            "            metrics_last = Metrics ([\"accuracy\", \"topk_accuracy\", \"balanced_accuracy\", \"conf_matrix\" \"plot_conf_matrix\", \"precision_recall_report\", \"auc_and_roc_curve\", \"auc\"] , _labels_name, _metric_options_last)\n",
            "\n",
            "            metrics_best.update_scores(true_labels, model_preds_best[['0','1','2']].to_numpy(), model_preds_best[['image']].to_numpy())\n",
            "            metrics_last.update_scores(true_labels, model_preds_best[['0','1','2']].to_numpy(), model_preds_best[['image']].to_numpy())\n",
            "\n",
            "            metrics_best.compute_metrics()\n",
            "            metrics_last.compute_metrics()\n",
            "\n",
            "            metrics_best.save_scores()\n",
            "            metrics_last.save_scores()\n",
            "\n",
            "            for auc_metric in metrics_best.metrics_values['auc_and_roc_curve'][0]:\n",
            "                metrics_best.metrics_values[\"auc_\" + str(auc_metric)] = metrics_best.metrics_values['auc_and_roc_curve'][0][auc_metric]\n",
            "                metrics_last.metrics_values[\"auc_\" + str(auc_metric)] = metrics_last.metrics_values['auc_and_roc_curve'][0][auc_metric]\n",
            "            \n",
            "            # del metrics_best.metrics_values['conf_matrix']\n",
            "            del metrics_best.metrics_values['auc_and_roc_curve']\n",
            "            del metrics_best.metrics_values['precision_recall_report']\n",
            "\n",
            "            # del metrics_last.metrics_values['conf_matrix']\n",
            "            del metrics_last.metrics_values['auc_and_roc_curve']\n",
            "            del metrics_last.metrics_values['precision_recall_report']\n",
            "\n",
            "            folder_name = {'folder_name': model_folder, 'model_name': model_folder.split('_fold')[0]}\n",
            "            dict_best = {**folder_name, **metrics_best.metrics_values}\n",
            "            dict_last = {**folder_name, **metrics_last.metrics_values}\n",
            "\n",
            "\n",
            "            df_best = df_best.append(pd.DataFrame(dict_best, columns=dict_best.keys(), index=[0]), ignore_index=True)\n",
            "            df_last = df_last.append(pd.DataFrame(dict_last, columns=dict_last.keys(), index=[0]), ignore_index=True)\n",
            "\n",
            "    except Exception as e:\n",
            "        print(\"Erro no experimento \", experiment_folder)\n",
            "        print(e)\n",
            "\n",
            "\n",
            "    df_best.to_csv(os.path.join(experiment_path, 'results_best.csv'), index=False)\n",
            "    df_last.to_csv(os.path.join(experiment_path, 'results_last.csv'), index=False)\n",
            "\n",
            "# Avaliar a precisão do modelo de ensemble\n",
            "# true_classes_path = os.path.join(folder_path, \"true_classes.csv\")\n",
            "# true_classes = np.loadtxt(_csv_path_test, delimiter=\",\", skiprows=1)\n",
            "\n",
            "# from sklearn.metrics import accuracy_score, precision_score, recall_score, f1_score\n",
            "\n",
            "# accuracy = accuracy_score(true_classes, ensemble_classes)\n",
            "# precision = precision_score(true_classes, ensemble_classes, average=\"macro\")\n",
            "# recall = recall_score(true_classes, ensemble_classes, average=\"macro\")\n",
            "# f1 = f1_score(true_classes, ensemble_classes, average=\"macro\")\n",
            "\n",
            "# # Imprimir as métricas de avaliação\n",
            "# print(f\"Acurácia: {accuracy:.3f}\")\n",
            "# print(f\"Precisão: {precision:.3f}\")\n",
            "# print(f\"Recall: {recall:.3f}\")\n",
            "# print(f\"F1-score: {f1:.3f}\")\n"
         ]
      },
      {
         "attachments": {},
         "cell_type": "markdown",
         "metadata": {},
         "source": [
            "Calculate the metrics for the best ensemble"
         ]
      },
      {
         "cell_type": "code",
         "execution_count": null,
         "metadata": {},
         "outputs": [],
         "source": [
            "import os\n",
            "import numpy as np\n",
            "from raug.metrics_2 import Metrics, accuracy\n",
            "from raug.utils.loader import get_labels_frequency\n",
            "import pandas as pd\n",
            "\n",
            "# Especificar o caminho para a pasta \"best_results\"\n",
            "folder_path = \"best_results\"\n",
            "_csv_path_test = \"/home/a52550/Desktop/datasets/ISIC2017/test/ISIC-2017_Test_v2_Part3_GroundTruth.csv\"\n",
            "true_labels = pd.read_csv(_csv_path_test).sort_values(by=['image_id'])['category']\n",
            "\n",
            "# Inicializar as variáveis para armazenar as previsões dos modelos\n",
            "ensemble_preds_best = None\n",
            "ensemble_preds_last = None\n",
            "num_models = 0\n",
            "ser_lab_freq = get_labels_frequency(_csv_path_test, \"category\", \"image_id\")\n",
            "_labels_name = ser_lab_freq.index.values #np.reshape(ser_lab_freq.index.values, (ser_lab_freq.index.values.shape[0], 1))\n",
            "\n",
            "# Percorrer as pastas de cada experimento\n",
            "experiment_folder = 'DA2_dull_razor_shades_of_gray_cropped_images_folder'\n",
            "\n",
            "try:\n",
            "\n",
            "    print(\"Experimento: \", experiment_folder)\n",
            "\n",
            "    experiment_path = os.path.join(folder_path, experiment_folder)\n",
            "\n",
            "    ensemble_preds_best = None\n",
            "\n",
            "    # Carregar as previsões do modelo atual\n",
            "    model_preds_path_best = '/home/a52550/Desktop/masters/cnn/learning_cycle/benchmarks/isic/best_results/DA2_dull_razor_shades_of_gray_cropped_images_folder/ensemble_3_best_average/best/predictions.csv'\n",
            "\n",
            "    model_preds_best = pd.read_csv(model_preds_path_best).sort_values(by=['image'])\n",
            "\n",
            "    metrics_best = Metrics ([\"accuracy\", \"topk_accuracy\", \"balanced_accuracy\", \"conf_matrix\" \"plot_conf_matrix\", \"precision_recall_report\", \"auc_and_roc_curve\", \"auc\"] , _labels_name)\n",
            "\n",
            "    metrics_best.update_scores(true_labels, model_preds_best[['0','1','2']].to_numpy(), model_preds_best[['image']].to_numpy())\n",
            "\n",
            "    metrics_best.compute_metrics()\n",
            "\n",
            "    print(metrics_best.metrics_values)\n",
            "\n",
            "\n",
            "except Exception as e:\n",
            "    print(\"Erro no experimento \", experiment_folder)\n",
            "    print(e)\n",
            "\n",
            "# Avaliar a precisão do modelo de ensemble\n",
            "# true_classes_path = os.path.join(folder_path, \"true_classes.csv\")\n",
            "# true_classes = np.loadtxt(_csv_path_test, delimiter=\",\", skiprows=1)\n",
            "\n",
            "# from sklearn.metrics import accuracy_score, precision_score, recall_score, f1_score\n",
            "\n",
            "# accuracy = accuracy_score(true_classes, ensemble_classes)\n",
            "# precision = precision_score(true_classes, ensemble_classes, average=\"macro\")\n",
            "# recall = recall_score(true_classes, ensemble_classes, average=\"macro\")\n",
            "# f1 = f1_score(true_classes, ensemble_classes, average=\"macro\")\n",
            "\n",
            "# # Imprimir as métricas de avaliação\n",
            "# print(f\"Acurácia: {accuracy:.3f}\")\n",
            "# print(f\"Precisão: {precision:.3f}\")\n",
            "# print(f\"Recall: {recall:.3f}\")\n",
            "# print(f\"F1-score: {f1:.3f}\")\n"
         ]
      },
      {
         "cell_type": "code",
         "execution_count": null,
         "metadata": {},
         "outputs": [],
         "source": [
            "import os\n",
            "import numpy as np\n",
            "from raug.metrics_2 import Metrics, accuracy\n",
            "from raug.utils.loader import get_labels_frequency\n",
            "import pandas as pd\n",
            "\n",
            "# Especificar o caminho para a pasta \"best_results\"\n",
            "folder_path = \"best_results\"\n",
            "_csv_path_test = \"/home/a52550/Desktop/datasets/ISIC2017/test/ISIC-2017_Test_v2_Part3_GroundTruth.csv\"\n",
            "true_labels = pd.read_csv(_csv_path_test).sort_values(by=['image_id'])['category']\n",
            "\n",
            "# Inicializar as variáveis para armazenar as previsões dos modelos\n",
            "ensemble_preds_best = None\n",
            "ensemble_preds_last = None\n",
            "num_models = 0\n",
            "ser_lab_freq = get_labels_frequency(_csv_path_test, \"category\", \"image_id\")\n",
            "_labels_name = ser_lab_freq.index.values #np.reshape(ser_lab_freq.index.values, (ser_lab_freq.index.values.shape[0], 1))\n",
            "\n",
            "df_best = pd.DataFrame()\n",
            "df_last = pd.DataFrame()\n",
            "\n",
            "experiment_folder = 'DA2_dull_razor_shades_of_gray_cropped_images_folder'\n",
            "\n",
            "print(\"Experimento: \", experiment_folder)\n",
            "\n",
            "\n",
            "experiment_path = os.path.join(folder_path, experiment_folder)\n",
            "\n",
            "ensemble_preds_best = None\n",
            "ensemble_preds_last = None\n",
            "\n",
            "model_folders = os.listdir(experiment_path)\n",
            "\n",
            "\n",
            "# Cria path para o experimento atual\n",
            "if 'ensemble_average' in model_folders:\n",
            "    model_folders.remove('ensemble_average')\n",
            "\n",
            "if 'ensemble_3_best_average' in model_folders:\n",
            "    model_folders.remove('ensemble_3_best_average')\n",
            "\n",
            "if 'ensemble_votation' in model_folders:\n",
            "    model_folders.remove('ensemble_votation')\n",
            "\n",
            "if 'DAandPPlatex.txt' in model_folders:\n",
            "    model_folders.remove('DAandPPlatex.txt')\n",
            "\n",
            "model_folders = [x for x in model_folders if \".csv\" not in x]\n",
            "\n",
            "try:\n",
            "\n",
            "    all_preds_best = None\n",
            "    all_preds_last = None\n",
            "\n",
            "    # Percorrer as pastas de cada modelo\n",
            "    for model_folder in model_folders:\n",
            "\n",
            "        model_path = os.path.join(experiment_path, model_folder)\n",
            "\n",
            "        # Carregar as previsões do modelo atual\n",
            "        model_preds_path_best = os.path.join(model_path, \"test_pred_best/predictions.csv\")\n",
            "        model_preds_path_last = os.path.join(model_path, \"test_pred_last/predictions.csv\")\n",
            "\n",
            "        # Merge das previsões do modelo atual com as previsões de todos os modelos\n",
            "        if all_preds_best is None:\n",
            "            model_preds_best = pd.read_csv(model_preds_path_best).sort_values(by=['image'])[['image', 'REAL', 'PRED']]\n",
            "            model_preds_last = pd.read_csv(model_preds_path_last).sort_values(by=['image'])[['image', 'REAL', 'PRED']]\n",
            "\n",
            "            #Substituir nome da coluna PRED por nome do modelo\n",
            "            model_preds_best.rename(columns={'PRED': model_folder.split('_fold')[0]}, inplace=True)\n",
            "            model_preds_last.rename(columns={'PRED': model_folder.split('_fold')[0]}, inplace=True)\n",
            "\n",
            "            all_preds_best = model_preds_best\n",
            "            all_preds_last = model_preds_last\n",
            "        else:\n",
            "            model_preds_best = pd.read_csv(model_preds_path_best).sort_values(by=['image'])[['image', 'PRED']]\n",
            "            model_preds_last = pd.read_csv(model_preds_path_last).sort_values(by=['image'])[['image', 'PRED']]\n",
            "\n",
            "            #Substituir nome da coluna PRED por nome do modelo\n",
            "            model_preds_best.rename(columns={'PRED': model_folder.split('_fold')[0]}, inplace=True)\n",
            "            model_preds_last.rename(columns={'PRED': model_folder.split('_fold')[0]}, inplace=True)\n",
            "\n",
            "            all_preds_best = pd.merge(all_preds_best, model_preds_best, on='image')\n",
            "            all_preds_last = pd.merge(all_preds_last, model_preds_last, on='image')\n",
            "\n",
            "\n",
            "except Exception as e:\n",
            "    print(\"Erro no experimento \", experiment_folder)\n",
            "    print(e)\n"
         ]
      },
      {
         "cell_type": "code",
         "execution_count": null,
         "metadata": {},
         "outputs": [],
         "source": [
            "\n",
            "# Define a function to count correct guesses for each row\n",
            "def count_correct_guesses(row):\n",
            "    correct_guesses = 0\n",
            "    for model in all_preds_best.columns[2:-1]:\n",
            "        if (row[model] == row['REAL']):\n",
            "            correct_guesses += 1\n",
            "    return correct_guesses\n",
            "\n",
            "# Create a new column to store the count of correct guesses\n",
            "all_preds_best['correct_guesses'] = all_preds_best.apply(count_correct_guesses, axis=1)\n",
            "\n",
            "all_preds_best.to_csv('count_correct_guesses.csv', index=False)\n",
            "\n",
            "# Def"
         ]
      },
      {
         "attachments": {},
         "cell_type": "markdown",
         "metadata": {},
         "source": [
            "Create results_all_models_all_experiments_new"
         ]
      },
      {
         "cell_type": "code",
         "execution_count": null,
         "metadata": {},
         "outputs": [],
         "source": [
            "import os\n",
            "import numpy as np\n",
            "from raug.metrics_2 import Metrics, accuracy\n",
            "from raug.utils.loader import get_labels_frequency\n",
            "import pandas as pd\n",
            "from raug.utils import classification_metrics as cmet\n",
            "\n",
            "# Especificar o caminho para a pasta \"best_results\"\n",
            "folder_path = \"best_results\"\n",
            "\n",
            "df = None\n",
            "\n",
            "# Percorrer as pastas de cada experimento\n",
            "for experiment_folder in os.listdir(folder_path):\n",
            "\n",
            "    try:\n",
            "        if \".csv\" in experiment_folder or \".txt\" in experiment_folder:\n",
            "            continue\n",
            "\n",
            "        experiment_path = os.path.join(folder_path, experiment_folder)\n",
            "\n",
            "        ensemble_preds_best = None\n",
            "\n",
            "        # Check if substring \"senet154\" is present in model_folders\n",
            "        if any(\"senet154\" in s for s in os.listdir(experiment_path)):\n",
            "            print(\"Experimento \", experiment_folder, \" não será avaliado\")\n",
            "            continue\n",
            "\n",
            "        print(\"Experimento: \", experiment_folder)\n",
            "\n",
            "\n",
            "        # Carregar as previsões do modelo atual\n",
            "        results_path_csv = os.path.join(experiment_path, \"results_best.csv\")\n",
            "\n",
            "        results = pd.read_csv(results_path_csv)[['model_name','balanced_accuracy']].sort_values(by=['model_name'])\n",
            "        \n",
            "        #rename columns to experiment name\n",
            "        results.rename(columns={'balanced_accuracy': experiment_folder}, inplace=True)\n",
            "\n",
            "        if df is None:\n",
            "            df = results\n",
            "        else:\n",
            "            #merge by model_name\n",
            "            df = pd.merge(df, results, on='model_name', how='left')\n",
            "\n",
            "\n",
            "    except Exception as e:\n",
            "        print('Error: ', e)\n",
            "        continue\n",
            "\n",
            "df.to_csv(os.path.join(folder_path, 'results_all_models_all_experiments_new.csv'), index=False)\n"
         ]
      },
      {
         "cell_type": "code",
         "execution_count": null,
         "metadata": {},
         "outputs": [],
         "source": [
            "# from pydrive.auth import GoogleAuth\n",
            "# from pydrive.drive import GoogleDrive\n",
            "# gauth = GoogleAuth()   \n",
            "# gauth.LocalWebserverAuth()\n",
            "# drive = GoogleDrive(gauth)  \n",
            "\n",
            "# densenet121_fold-1_lrinit-0.0001_batchsize-32_optimizer-Adam_maxepochs-150_DA-2_PPen-None_PPha-None_PPco-shades_of_gray_PPde-None_PPno-True_PPcr-cropped_images_folder_PPre-True_drop-0.0_trainjustclassifier-False_1681078943104982"
         ]
      },
      {
         "attachments": {},
         "cell_type": "markdown",
         "metadata": {},
         "source": [
            "## Plot graphs"
         ]
      },
      {
         "cell_type": "code",
         "execution_count": null,
         "metadata": {},
         "outputs": [],
         "source": [
            "import os\n",
            "import pandas as pd\n",
            "\n",
            "# Especificar o caminho para a pasta \"best_results\"\n",
            "folder_path = \"best_results\"\n",
            "\n",
            "df = None\n",
            "\n",
            "experiment_folder = 'shades_of_gray_2'\n",
            "# experiment_folder = 'DA2_cropped_images_folder_150_epochs_lr_init_0001'\n",
            "\n",
            "\n",
            "experiment_path = os.path.join(folder_path, experiment_folder)\n",
            "\n",
            "ensemble_preds_best = None\n",
            "\n",
            "print(\"Experimento: \", experiment_folder)\n",
            "\n",
            "\n",
            "# Carregar as previsões do modelo atual\n",
            "results_path_csv = os.path.join(experiment_path, \"results_best.csv\")\n",
            "\n",
            "results = pd.read_csv(results_path_csv)[['model_name','balanced_accuracy']].sort_values(by=['model_name'])\n",
            "\n",
            "# get balanced accuracy for model_name\n",
            "all_results = results.loc[results.model_name.isin(['efficientnet_b0', 'efficientnet_b1', 'efficientnet_b2', 'efficientnet_b3', 'efficientnet_b4', 'tf_efficientnet_b5', 'tf_efficientnet_b6', 'resnest101e', 'seresnext101_32x8d', 'densenet121', 'resnext101_32x8d', 'vgg19', 'pnasnet5large' ]),:].set_index('model_name').to_dict()\n",
            "# all_results = results.set_index('model_name').to_dict()\n",
            "\n",
            "\n",
            "ensemble_results_path_csv = os.path.join(folder_path, \"ensemble_voting_best.csv\")\n",
            "ensemble_result = pd.read_csv(ensemble_results_path_csv)[['folder_name','balanced_accuracy']]\n",
            "ensemble_result = ensemble_result.loc[ensemble_result.folder_name.isin([experiment_folder]),:].set_index('folder_name').to_dict()\n",
            "\n",
            "all_results = {**all_results['balanced_accuracy'], **ensemble_result['balanced_accuracy']}\n",
            "\n",
            "#tf_efficientnet_b5, pnasnet5large, tf_efficientnet_b6, efficientnet_b4, efficientnet_b3, efficientnet_b1, resnest101e, efficientnet_b2, efficientnet_b0, seresnext101_32x8d, densenet121, vgg19, resnext101_32x8d\n",
            "\n",
            "\n",
            "all_results['EfficientNet-B0'] = all_results.pop('efficientnet_b0')\n",
            "all_results['EfficientNet-B1'] = all_results.pop('efficientnet_b1')\n",
            "all_results['EfficientNet-B2'] = all_results.pop('efficientnet_b2')\n",
            "all_results['EfficientNet-B3'] = all_results.pop('efficientnet_b3')\n",
            "all_results['EfficientNet-B4'] = all_results.pop('efficientnet_b4')\n",
            "all_results['EfficientNet-B5'] = all_results.pop('tf_efficientnet_b5')\n",
            "all_results['EfficientNet-B6'] = all_results.pop('tf_efficientnet_b6')\n",
            "all_results['ResNest101'] = all_results.pop('resnest101e')\n",
            "all_results['SeResNext101'] = all_results.pop('seresnext101_32x8d')\n",
            "all_results['VGG19'] = all_results.pop('vgg19')\n",
            "all_results['DenseNet121'] = all_results.pop('densenet121')\n",
            "all_results['ResNext101'] = all_results.pop('resnext101_32x8d')\n",
            "all_results['PNASNet5Large'] = all_results.pop('pnasnet5large')\n",
            "all_results['Ensemble'] = all_results.pop(experiment_folder)\n",
            "\n",
            "\n",
            "# create horizonal bar plot\n",
            "import matplotlib.pyplot as plt\n",
            "import numpy as np\n",
            "\n",
            "# Data\n",
            "r = all_results\n",
            "bars = tuple(r.keys())\n",
            "y_pos = np.arange(len(bars))\n",
            "height = list(r.values())\n",
            "\n",
            "# Create bars\n",
            "plt.barh(y_pos, height)\n",
            "\n",
            "# Create names on the x-axis\n",
            "plt.yticks(y_pos, bars)\n",
            "\n",
            "# Add title and axis names\n",
            "plt.xlabel('Balanced Accuracy')\n",
            "plt.ylabel('Model')\n",
            "\n",
            "# Color the highest bar\n",
            "plt.gca().patches[height.index(max(height))].set_facecolor('red')\n",
            "\n",
            "# Add the labels to each bar\n",
            "for i, v in enumerate(height):\n",
            "    # Round v with 4 decimals\n",
            "    v = round(v,4)\n",
            "    plt.text(v+.01, i - 0.1, str(v), fontweight='bold')\n",
            "\n",
            "# Make the right margin wider so that the labels are inside the figure\n",
            "plt.margins(0.2, 0)\n",
            "\n",
            "# Make bars thinner\n",
            "plt.gca().xaxis.set_tick_params(width=0.2)\n",
            "\n",
            "\n",
            "# Show graphic\n",
            "plt.show()\n",
            "\n",
            "# df.to_csv(os.path.join(folder_path, 'results_all_models_all_experiments_new.csv'), index=False)\n"
         ]
      },
      {
         "cell_type": "code",
         "execution_count": null,
         "metadata": {},
         "outputs": [],
         "source": [
            "# create horizonal bar plot\n",
            "import matplotlib.pyplot as plt\n",
            "import numpy as np\n",
            "\n",
            "#Balanced accuracy for each model - no pre-processing and no data augmentation\n",
            "data = {\n",
            "    \"EfficientNet-B0\": 0.7073,\n",
            "    \"EfficientNet-B1\": 0.6654,\n",
            "    \"EfficientNet-B2\": 0.6993,\n",
            "    \"EfficientNet-B3\": 0.6767,\n",
            "    \"EfficientNet-B4\": 0.7216,\n",
            "    \"EfficientNet-B5\": 0.6976,\n",
            "    \"EfficientNet-B6\": 0.6874,\n",
            "    \"ResNest101\": 0.7344,\n",
            "    \"SeResNext101\": 0.7310,\n",
            "    \"VGG19\": 0.6922,\n",
            "    \"DenseNet121\": 0.6753,\n",
            "    \"ResNext101\": 0.6828,\n",
            "    \"PnasNet5\": 0.7406\n",
            "}\n",
            "\n",
            "# Sort the data\n",
            "data = dict(sorted(data.items(), key=lambda item: item[1]))\n",
            "\n",
            "# Data\n",
            "r = data\n",
            "bars = tuple(r.keys())\n",
            "y_pos = np.arange(len(bars))\n",
            "height = list(r.values())\n",
            "\n",
            "# Create bars\n",
            "plt.barh(y_pos, height)\n",
            "\n",
            "# Create names on the x-axis\n",
            "plt.yticks(y_pos, bars)\n",
            "\n",
            "# Add title and axis names\n",
            "plt.xlabel('Balanced Accuracy')\n",
            "plt.ylabel('Model')\n",
            "\n",
            "for h in height:\n",
            "    if h > 0.7:\n",
            "        plt.gca().patches[height.index(h)].set_facecolor('yellow')\n",
            "    else:\n",
            "        plt.gca().patches[height.index(h)].set_facecolor('red')\n",
            "# Color the highest bar\n",
            "plt.gca().patches[height.index(max(height))].set_facecolor('green')\n",
            "# Color the highest bar\n",
            "\n",
            "# Add the labels to each bar\n",
            "for i, v in enumerate(height):\n",
            "    # Round v with 4 decimals\n",
            "    v = round(v,4)\n",
            "    plt.text(v+.01, i - 0.1, str(v), fontweight='bold')\n",
            "\n",
            "# Make the right margin wider so that the labels are inside the figure\n",
            "plt.margins(0.2, 0)\n",
            "\n",
            "# Make bars thinner\n",
            "plt.gca().xaxis.set_tick_params(width=0.2)\n",
            "\n",
            "\n",
            "# Show graphic\n",
            "plt.show()\n"
         ]
      },
      {
         "cell_type": "code",
         "execution_count": null,
         "metadata": {},
         "outputs": [],
         "source": [
            "\n",
            "#Balanced accuracy for each model - no pre-processing and data augmentation\n",
            "data = {\n",
            "    \"EfficientNet-B0\": 0.7170,\n",
            "    \"EfficientNet-B1\": 0.7064,\n",
            "    \"EfficientNet-B2\": 0.7006,\n",
            "    \"EfficientNet-B3\": 0.7356,\n",
            "    \"EfficientNet-B4\": 0.7441,\n",
            "    \"EfficientNet-B5\": 0.7653,\n",
            "    \"EfficientNet-B6\": 0.7651,\n",
            "    \"ResNest101\": 0.7459,\n",
            "    \"SeResNext101\": 0.7432,\n",
            "    \"DenseNet121\": 0.7182,\n",
            "    \"ResNext101\": 0.7016,\n",
            "    \"VGG19\": 0.6786,\n",
            "    \"PnasNet5\": 0.7412\n",
            "}\n",
            "\n",
            "# Sort the data\n",
            "data = dict(sorted(data.items(), key=lambda item: item[1]))\n",
            "\n",
            "# Data\n",
            "r = data\n",
            "bars = tuple(r.keys())\n",
            "y_pos = np.arange(len(bars))\n",
            "height = list(r.values())\n",
            "\n",
            "# Create bars\n",
            "plt.barh(y_pos, height)\n",
            "\n",
            "# Create names on the x-axis\n",
            "plt.yticks(y_pos, bars)\n",
            "\n",
            "# Add title and axis names\n",
            "plt.xlabel('Balanced Accuracy')\n",
            "plt.ylabel('Model')\n",
            "\n",
            "# Color the highest bar\n",
            "plt.gca().patches[height.index(max(height))].set_facecolor('red')\n",
            "\n",
            "# Add the labels to each bar\n",
            "for i, v in enumerate(height):\n",
            "    # Round v with 4 decimals\n",
            "    v = round(v,4)\n",
            "    plt.text(v+.01, i - 0.1, str(v), fontweight='bold')\n",
            "\n",
            "# Make the right margin wider so that the labels are inside the figure\n",
            "plt.margins(0.2, 0)\n",
            "\n",
            "# Make bars thinner\n",
            "plt.gca().xaxis.set_tick_params(width=0.2)\n",
            "\n",
            "\n",
            "# Show graphic\n",
            "plt.show()\n"
         ]
      },
      {
         "cell_type": "code",
         "execution_count": null,
         "metadata": {},
         "outputs": [],
         "source": [
            "data = {\n",
            "    \"Average\": {\"With DA and PP*\": 0.8064,\"With DA\": 0.7811, \"With PP*\": 0.7758, \"Without DA and PP\": 0.7547},\n",
            "    \"Average of 3\": {\"With DA and PP*\": 0.8132,\"With DA\": 0.7939, \"With PP*\":0.7879, \"Without DA and PP\": 0.7671},\n",
            "    \"Voting\": {\"With DA and PP*\": 0.7987,\"With DA\": 0.7882, \"With PP*\": 0.7718, \"Without DA and PP\": 0.7371},\n",
            "}\n",
            "\n",
            "# Preparação dos dados para plotagem\n",
            "labels = list(data.keys())\n",
            "da_pp_values = [data[label]['With DA and PP*'] for label in labels]\n",
            "da_values = [data[label]['With DA'] for label in labels]\n",
            "pp_values = [data[label]['With PP*'] for label in labels]\n",
            "no_pp_values = [data[label]['Without DA and PP'] for label in labels]\n",
            "\n",
            "\n",
            "y = np.arange(len(labels))  # Posições dos grupos de barras\n",
            "width = 0.2  # Largura das barras\n",
            "\n",
            "# Plotagem dos resultados\n",
            "fig, ax = plt.subplots(figsize=(10, 6))\n",
            "rects1 = ax.barh(y + 3*width/2, da_pp_values, width, label='With DA and PP*')\n",
            "rects2 = ax.barh(y + width/2, da_values, width, label='With DA')\n",
            "rects3 = ax.barh(y - width/2, pp_values, width, label='With PP*')\n",
            "rects4 = ax.barh(y - 3*width/2, no_pp_values, width, label='Without DA and PP')\n",
            "\n",
            "# Adicionar rótulos, títulos e legendas\n",
            "ax.set_ylabel('Ensemble')\n",
            "ax.set_xlabel('Balanced Accuracy')\n",
            "ax.set_title('Ensemble results for each experiment')\n",
            "ax.set_yticks(y)\n",
            "ax.set_yticklabels(labels)\n",
            "ax.legend()\n",
            "\n",
            "# Adicionar rótulos em cada barra\n",
            "def autolabel(rects):\n",
            "    for rect in rects:\n",
            "        width = rect.get_width()\n",
            "        ax.annotate('{}'.format(round(width,4)),\n",
            "                    xy=(width, rect.get_y() + rect.get_height() / 2),\n",
            "                    xytext=(3, 0),  # Deslocamento horizontal e vertical\n",
            "                    textcoords=\"offset points\",  # Interpretar 'xy' como deslocamento em pontos\n",
            "                    ha='left', va='center', fontweight='bold')\n",
            "\n",
            "autolabel(rects1)\n",
            "autolabel(rects2)\n",
            "autolabel(rects3)\n",
            "autolabel(rects4)\n",
            "\n",
            "# Make the right margin wider so that the labels are inside the figure\n",
            "plt.margins(0.40, 0)\n",
            "\n",
            "annotation_text = \"*Note: Best combination of image pre-processing techniques for each ensemble.\"\n",
            "plt.annotate(annotation_text, xy=(0.55, 0), xytext=(0, -40),\n",
            "             xycoords='axes fraction', textcoords='offset points',\n",
            "             ha='right', va='top')\n",
            "\n",
            "# Make bars thinner\n",
            "plt.gca().xaxis.set_tick_params(width=0.2)\n",
            "\n",
            "plt.tight_layout()\n",
            "plt.show()"
         ]
      },
      {
         "cell_type": "code",
         "execution_count": null,
         "metadata": {},
         "outputs": [],
         "source": [
            "# data = {\n",
            "#     \"EfficientNet-B0\": {\"Without PP\": 0.7073,\"A\": 0.6871,\"B\": 0.6529,\"C\": 0.6960,\"D\": 0.6623,\"BC\": 0.6968,\"ABC\": 0.6304,\"BCD\": 0.6645,\"ABCD\": 0.6096},\n",
            "#     \"EfficientNet-B1\": {\"Without PP\": 0.6654,\"A\": 0.6716,\"B\": 0.6840,\"C\": 0.6601,\"D\": 0.6880,\"BC\": 0.7016,\"ABC\": 0.6440,\"BCD\": 0.6255,\"ABCD\": 0.6944},\n",
            "#     \"EfficientNet-B2\": {\"Without PP\": 0.6993,\"A\": 0.6957,\"B\": 0.6445,\"C\": 0.7091,\"D\": 0.6572,\"BC\": 0.6833,\"ABC\": 0.6600,\"BCD\": 0.6928,\"ABCD\": 0.6262},\n",
            "#     \"EfficientNet-B3\": {\"Without PP\": 0.6767,\"A\": 0.7120,\"B\": 0.6982,\"C\": 0.7248,\"D\": 0.6830,\"BC\": 0.7010,\"ABC\": 0.6612,\"BCD\": 0.7278,\"ABCD\": 0.7260},\n",
            "#     \"EfficientNet-B4\": {\"Without PP\": 0.7216,\"A\": 0.6944,\"B\": 0.7039,\"C\": 0.7093,\"D\": 0.6734,\"BC\": 0.7317,\"ABC\": 0.6493,\"BCD\": 0.7284,\"ABCD\": 0.6470},\n",
            "#     \"EfficientNet-B5\": {\"Without PP\": 0.6976,\"A\": 0.7113,\"B\": 0.6522,\"C\": 0.7099,\"D\": 0.7250,\"BC\": 0.6816,\"ABC\": 0.6814,\"BCD\": 0.6846,\"ABCD\": 0.6958},\n",
            "#     \"EfficientNet-B6\": {\"Without PP\": 0.6874,\"A\": 0.6943,\"B\": 0.7395,\"C\": 0.7213,\"D\": 0.6735,\"BC\": 0.7139,\"ABC\": 0.7057,\"BCD\": 0.6953,\"ABCD\": 0.6856},\n",
            "#     \"ResNest101\": {\"Without PP\": 0.7344,\"A\": 0.7104,\"B\": 0.7620,\"C\": 0.7447,\"D\": 0.6993,\"BC\": 0.7083,\"ABC\": 0.6706,\"BCD\": 0.7070,\"ABCD\": 0.7306},\n",
            "#     \"SeResNext101\": {\"Without PP\": 0.7310,\"A\": 0.7032,\"B\": 0.7481,\"C\": 0.6863,\"D\": 0.7117,\"BC\": 0.7165,\"ABC\": 0.6650,\"BCD\": 0.6939,\"ABCD\": 0.6634},\n",
            "#     \"VGG19\": {\"Without PP\": 0.6922,\"A\": 0.6011,\"B\": 0.6450,\"C\": 0.6606,\"D\": 0.6121,\"BC\": 0.6506,\"ABC\": 0.6546,\"BCD\": 0.6142,\"ABCD\": 0.6532},\n",
            "#     \"DenseNet121\": {\"Without PP\": 0.6753,\"A\": 0.6716,\"B\": 0.6923,\"C\": 0.7176,\"D\": 0.6974,\"BC\": 0.6282,\"ABC\": 0.6092,\"BCD\": 0.6534,\"ABCD\": 0.6330},\n",
            "#     \"ResNext101\": {\"Without PP\": 0.6828,\"A\": 0.6731,\"B\": 0.7281,\"C\": 0.6957,\"D\": 0.7194,\"BC\": 0.7253,\"ABC\": 0.6535,\"BCD\": 0.6967,\"ABCD\": 0.6950},\n",
            "#     \"PnasNet5\": {\"Without PP\": 0.7406,\"A\": 0.6718,\"B\": 0.7271,\"C\": 0.7398,\"D\": 0.7522,\"BC\": 0.7123,\"ABC\": 0.6963,\"BCD\": 0.6871,\"ABCD\": 0.6783}\n",
            "# }\n",
            "\n",
            "data = {\n",
            "    \"PnasNet5\": {\"No DA\": 0.7406,\"DA\": 0.7412},\n",
            "    \"VGG19\": {\"No DA\": 0.6922,\"DA\": 0.6786},\n",
            "    \"ResNext101\": {\"No DA\": 0.6828,\"DA\": 0.7016},\n",
            "    \"DenseNet121\": {\"No DA\": 0.6753,\"DA\": 0.7182},\n",
            "    \"SeResNext101\": {\"No DA\": 0.7310,\"DA\": 0.7432},\n",
            "    \"ResNest101\": {\"No DA\": 0.7344,\"DA\": 0.7459},\n",
            "    \"EfficientNet-B6\": {\"No DA\": 0.6874,\"DA\": 0.7651},\n",
            "    \"EfficientNet-B5\": {\"No DA\": 0.6976,\"DA\": 0.7653},\n",
            "    \"EfficientNet-B4\": {\"No DA\": 0.7216,\"DA\": 0.7441},\n",
            "    \"EfficientNet-B3\": {\"No DA\": 0.6767,\"DA\": 0.7356},\n",
            "    \"EfficientNet-B2\": {\"No DA\": 0.6993,\"DA\": 0.7006},\n",
            "    \"EfficientNet-B1\": {\"No DA\": 0.6654,\"DA\": 0.7064},\n",
            "    \"EfficientNet-B0\": {\"No DA\": 0.7073,\"DA\": 0.7170},\n",
            "}\n",
            "\n",
            "# data = dict(sorted(data.items(), key=lambda item: item[1].get('DA')-item[1].get('No DA')))\n",
            "\n",
            "# Preparar dados\n",
            "labels = list(data.keys())\n",
            "no_pp_values = [data[label]['No DA'] for label in labels]\n",
            "da_values = [data[label]['DA'] for label in labels]\n",
            "\n",
            "# a_values = [data[label]['A'] for label in labels]\n",
            "# b_values = [data[label]['B'] for label in labels]\n",
            "# c_values = [data[label]['C'] for label in labels]\n",
            "# d_values = [data[label]['D'] for label in labels]\n",
            "# bc_values = [data[label]['BC'] for label in labels]\n",
            "# abc_values = [data[label]['ABC'] for label in labels]\n",
            "# bcd_values = [data[label]['BCD'] for label in labels]\n",
            "# abcd_values = [data[label]['ABCD'] for label in labels]\n",
            "\n",
            "\n",
            "# Criar figura\n",
            "fig, ax = plt.subplots(figsize=(10, 10))\n",
            "\n",
            "# Criar barras\n",
            "x = np.arange(len(labels))  # Localização das barras\n",
            "width = 0.4  # Largura das barras\n",
            "\n",
            "rects1 = ax.barh(x - width / 2, no_pp_values, width, label='Without DA')\n",
            "rects2 = ax.barh(x + width / 2, da_values, width, label='With DA')\n",
            "\n",
            "# rects1 = ax.bar(x - 4 * width, no_pp_values, width, label='Without PP')\n",
            "# rects2 = ax.bar(x - 3 * width, a_values, width, label='A')\n",
            "# rects3 = ax.bar(x - 2 * width, b_values, width, label='B')\n",
            "# rects4 = ax.bar(x - width, c_values, width, label='C')\n",
            "# rects5 = ax.bar(x, d_values, width, label='D')\n",
            "# rects6 = ax.bar(x + width, bc_values, width, label='BC')\n",
            "# rects7 = ax.bar(x + 2 * width, abc_values, width, label='ABC')\n",
            "# rects8 = ax.bar(x + 3 * width, bcd_values, width, label='BCD')\n",
            "# rects9 = ax.bar(x + 4 * width, abcd_values, width, label='ABCD')\n",
            "\n",
            "\n",
            "# Adicionar rótulos em cada barra\n",
            "def autolabel(rects):\n",
            "    for rect in rects:\n",
            "        width = rect.get_width()\n",
            "        ax.annotate('{}'.format(round(width,4)),\n",
            "                    xy=(width, rect.get_y() + rect.get_height() / 2),\n",
            "                    xytext=(3, 0),  # Deslocamento horizontal e vertical\n",
            "                    textcoords=\"offset points\",  # Interpretar 'xy' como deslocamento em pontos\n",
            "                    ha='left', va='center', fontweight='bold')\n",
            "        \n",
            "# Adicionar texto nas barras\n",
            "autolabel(rects1)\n",
            "autolabel(rects2)\n",
            "# autolabel(rects3)\n",
            "# autolabel(rects4)\n",
            "# autolabel(rects5)\n",
            "# autolabel(rects6)\n",
            "# autolabel(rects7)\n",
            "# autolabel(rects8)\n",
            "# autolabel(rects9)\n",
            "\n",
            "\n",
            "# Make the right margin wider so that the labels are inside the figure\n",
            "plt.margins(0.40, 0)\n",
            "\n",
            "# Adicionar texto no eixo x\n",
            "ax.set_yticks(x)\n",
            "ax.set_yticklabels(labels)\n",
            "\n",
            "# Adicionar legenda\n",
            "ax.legend()\n",
            "\n",
            "# Mostrar figura\n",
            "plt.show()\n"
         ]
      }
   ],
   "metadata": {
      "kernelspec": {
         "display_name": "venv",
         "language": "python",
         "name": "python3"
      },
      "language_info": {
         "codemirror_mode": {
            "name": "ipython",
            "version": 3
         },
         "file_extension": ".py",
         "mimetype": "text/x-python",
         "name": "python",
         "nbconvert_exporter": "python",
         "pygments_lexer": "ipython3",
         "version": "3.7.17"
      },
      "orig_nbformat": 4
   },
   "nbformat": 4,
   "nbformat_minor": 2
}
