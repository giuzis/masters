{
 "cells": [
  {
   "cell_type": "code",
   "execution_count": 2,
   "metadata": {},
   "outputs": [
    {
     "name": "stdout",
     "output_type": "stream",
     "text": [
      "Experimento:  dull_razor_shades_of_gray_cropped_images_folder_2\n",
      "Saving the scores in best_results/dull_razor_shades_of_gray_cropped_images_folder_2/ensemble_average/best\n",
      "Saving the scores in best_results/dull_razor_shades_of_gray_cropped_images_folder_2/ensemble_average/last\n",
      "Experimento:  DA0_noPP\n",
      "Saving the scores in best_results/DA0_noPP/ensemble_average/best\n",
      "Saving the scores in best_results/DA0_noPP/ensemble_average/last\n",
      "Experimento:  DA0_PP\n",
      "Saving the scores in best_results/DA0_PP/ensemble_average/best\n",
      "Saving the scores in best_results/DA0_PP/ensemble_average/last\n",
      "Experimento:  dull_razor\n",
      "Saving the scores in best_results/dull_razor/ensemble_average/best\n",
      "Saving the scores in best_results/dull_razor/ensemble_average/last\n",
      "Experimento:  DA1_noPP\n",
      "Saving the scores in best_results/DA1_noPP/ensemble_average/best\n",
      "Saving the scores in best_results/DA1_noPP/ensemble_average/last\n",
      "Experimento:  shades_of_gray_cropped_images_folder\n",
      "Saving the scores in best_results/shades_of_gray_cropped_images_folder/ensemble_average/best\n",
      "Saving the scores in best_results/shades_of_gray_cropped_images_folder/ensemble_average/last\n",
      "Experimento:  dull_razor_shades_of_gray_cropped_images_folder\n",
      "Saving the scores in best_results/dull_razor_shades_of_gray_cropped_images_folder/ensemble_average/best\n",
      "Saving the scores in best_results/dull_razor_shades_of_gray_cropped_images_folder/ensemble_average/last\n",
      "Experimento:  DA3_noPP\n",
      "Erro no experimento  DA3_noPP\n",
      "[Errno 2] No such file or directory: 'best_results/DA3_noPP/efficientnet_b0_fold-1_lrinit-0.001_batchsize-8_optimizer-AdamW_maxepochs-50_DA-3_PPen-None_PPha-None_PPco-None_PPde-None_PPno-True_PPcr-None_PPre-True_16787438097050428/test_pred_best/predictions.csv'\n",
      "Experimento:  dull_razor_shades_of_gray\n",
      "Saving the scores in best_results/dull_razor_shades_of_gray/ensemble_average/best\n",
      "Saving the scores in best_results/dull_razor_shades_of_gray/ensemble_average/last\n",
      "Experimento:  DA0_noPP_3\n",
      "Saving the scores in best_results/DA0_noPP_3/ensemble_average/best\n",
      "Saving the scores in best_results/DA0_noPP_3/ensemble_average/last\n",
      "Experimento:  dull_razor_2\n",
      "Saving the scores in best_results/dull_razor_2/ensemble_average/best\n",
      "Saving the scores in best_results/dull_razor_2/ensemble_average/last\n",
      "Experimento:  non_local_means_cropped_images_folder\n"
     ]
    },
    {
     "name": "stderr",
     "output_type": "stream",
     "text": [
      "/home/a52550/Desktop/masters/cnn/learning_cycle/benchmarks/isic/raug/utils/classification_metrics.py:347: RuntimeWarning: More than 20 figures have been opened. Figures created through the pyplot interface (`matplotlib.pyplot.figure`) are retained until explicitly closed and may consume too much memory. (To control this warning, see the rcParam `figure.max_open_warning`).\n",
      "  plt.figure()\n"
     ]
    },
    {
     "name": "stdout",
     "output_type": "stream",
     "text": [
      "Saving the scores in best_results/non_local_means_cropped_images_folder/ensemble_average/best\n",
      "Saving the scores in best_results/non_local_means_cropped_images_folder/ensemble_average/last\n",
      "Experimento:  DA1_PPcropped\n",
      "Saving the scores in best_results/DA1_PPcropped/ensemble_average/best\n",
      "Saving the scores in best_results/DA1_PPcropped/ensemble_average/last\n",
      "Experimento:  gaussian_filter_2\n",
      "Saving the scores in best_results/gaussian_filter_2/ensemble_average/best\n",
      "Saving the scores in best_results/gaussian_filter_2/ensemble_average/last\n",
      "Experimento:  CLAHE_cropped_images_folder\n",
      "Erro no experimento  CLAHE_cropped_images_folder\n",
      "[Errno 2] No such file or directory: 'best_results/CLAHE_cropped_images_folder/efficientnet_b6_fold-1_lrinit-0.001_batchsize-4_optimizer-SGD_maxepochs-50_DA-None_PPen-CLAHE_PPha-None_PPco-None_PPde-None_PPno-True_PPcr-cropped_images_folder_PPre-True_16794346882817037/test_pred_best/predictions.csv'\n",
      "Experimento:  dull_razor_cropped_images_folder\n",
      "Saving the scores in best_results/dull_razor_cropped_images_folder/ensemble_average/best\n",
      "Saving the scores in best_results/dull_razor_cropped_images_folder/ensemble_average/last\n",
      "Experimento:  dropout_05\n",
      "Erro no experimento  dropout_05\n",
      "[Errno 2] No such file or directory: 'best_results/dropout_05/seresnext101_32x8d_fold-1_lrinit-0.0001_batchsize-32_optimizer-Adam_maxepochs-50_DA-None_PPen-None_PPha-None_PPco-None_PPde-None_PPno-True_PPcr-None_PPre-True_drop-0.5_trainjustclassifier-False_16805547061762884/test_pred_best/predictions.csv'\n",
      "Experimento:  noDA_PPcropped_2\n",
      "Saving the scores in best_results/noDA_PPcropped_2/ensemble_average/best\n",
      "Saving the scores in best_results/noDA_PPcropped_2/ensemble_average/last\n",
      "Experimento:  DA2_noPP\n",
      "Saving the scores in best_results/DA2_noPP/ensemble_average/best\n",
      "Saving the scores in best_results/DA2_noPP/ensemble_average/last\n",
      "Experimento:  DA0_noPP_2\n",
      "Saving the scores in best_results/DA0_noPP_2/ensemble_average/best\n",
      "Saving the scores in best_results/DA0_noPP_2/ensemble_average/last\n",
      "Experimento:  CLAHE_2\n",
      "Saving the scores in best_results/CLAHE_2/ensemble_average/best\n",
      "Saving the scores in best_results/CLAHE_2/ensemble_average/last\n",
      "Experimento:  mean_filter_cropped_images_folder\n",
      "Saving the scores in best_results/mean_filter_cropped_images_folder/ensemble_average/best\n",
      "Saving the scores in best_results/mean_filter_cropped_images_folder/ensemble_average/last\n",
      "Experimento:  train_classifier_only\n",
      "Saving the scores in best_results/train_classifier_only/ensemble_average/best\n",
      "Saving the scores in best_results/train_classifier_only/ensemble_average/last\n",
      "Experimento:  non_local_means\n",
      "Saving the scores in best_results/non_local_means/ensemble_average/best\n",
      "Saving the scores in best_results/non_local_means/ensemble_average/last\n",
      "Experimento:  dropout_02\n",
      "Erro no experimento  dropout_02\n",
      "[Errno 2] No such file or directory: 'best_results/dropout_02/tf_efficientnet_b5_fold-1_lrinit-0.0001_batchsize-8_optimizer-AdamW_maxepochs-50_DA-None_PPen-None_PPha-None_PPco-None_PPde-None_PPno-True_PPcr-None_PPre-True_drop-0.2_trainjustclassifier-False_16805668596310365/test_pred_best/predictions.csv'\n",
      "Experimento:  non_local_means_2\n",
      "Saving the scores in best_results/non_local_means_2/ensemble_average/best\n",
      "Saving the scores in best_results/non_local_means_2/ensemble_average/last\n",
      "Experimento:  gaussian_filter_cropped_images_folder\n",
      "Saving the scores in best_results/gaussian_filter_cropped_images_folder/ensemble_average/best\n",
      "Saving the scores in best_results/gaussian_filter_cropped_images_folder/ensemble_average/last\n",
      "Experimento:  DA4_noPP\n",
      "Saving the scores in best_results/DA4_noPP/ensemble_average/best\n",
      "Saving the scores in best_results/DA4_noPP/ensemble_average/last\n",
      "Experimento:  dull_razor_shades_of_gray_2\n",
      "Saving the scores in best_results/dull_razor_shades_of_gray_2/ensemble_average/best\n",
      "Saving the scores in best_results/dull_razor_shades_of_gray_2/ensemble_average/last\n",
      "Experimento:  gaussian_filter\n",
      "Saving the scores in best_results/gaussian_filter/ensemble_average/best\n",
      "Saving the scores in best_results/gaussian_filter/ensemble_average/last\n",
      "Experimento:  shades_of_gray_2\n",
      "Saving the scores in best_results/shades_of_gray_2/ensemble_average/best\n",
      "Saving the scores in best_results/shades_of_gray_2/ensemble_average/last\n",
      "Experimento:  noDA_noPP\n",
      "Saving the scores in best_results/noDA_noPP/ensemble_average/best\n",
      "Saving the scores in best_results/noDA_noPP/ensemble_average/last\n",
      "Experimento:  shades_of_gray\n",
      "Saving the scores in best_results/shades_of_gray/ensemble_average/best\n",
      "Saving the scores in best_results/shades_of_gray/ensemble_average/last\n",
      "Experimento:  mean_filter\n",
      "Saving the scores in best_results/mean_filter/ensemble_average/best\n",
      "Saving the scores in best_results/mean_filter/ensemble_average/last\n",
      "Experimento:  mean_filter_2\n",
      "Saving the scores in best_results/mean_filter_2/ensemble_average/best\n",
      "Saving the scores in best_results/mean_filter_2/ensemble_average/last\n",
      "Experimento:  noDA_noPP_2\n",
      "Saving the scores in best_results/noDA_noPP_2/ensemble_average/best\n",
      "Saving the scores in best_results/noDA_noPP_2/ensemble_average/last\n",
      "Experimento:  DA0_PPcropped\n",
      "Saving the scores in best_results/DA0_PPcropped/ensemble_average/best\n",
      "Saving the scores in best_results/DA0_PPcropped/ensemble_average/last\n",
      "Experimento:  noDA_PPcropped\n",
      "Saving the scores in best_results/noDA_PPcropped/ensemble_average/best\n",
      "Saving the scores in best_results/noDA_PPcropped/ensemble_average/last\n",
      "Experimento:  CLAHE\n",
      "Saving the scores in best_results/CLAHE/ensemble_average/best\n",
      "Saving the scores in best_results/CLAHE/ensemble_average/last\n"
     ]
    },
    {
     "data": {
      "text/plain": [
       "<Figure size 640x480 with 0 Axes>"
      ]
     },
     "metadata": {},
     "output_type": "display_data"
    },
    {
     "data": {
      "text/plain": [
       "<Figure size 640x480 with 0 Axes>"
      ]
     },
     "metadata": {},
     "output_type": "display_data"
    },
    {
     "data": {
      "text/plain": [
       "<Figure size 640x480 with 0 Axes>"
      ]
     },
     "metadata": {},
     "output_type": "display_data"
    },
    {
     "data": {
      "text/plain": [
       "<Figure size 640x480 with 0 Axes>"
      ]
     },
     "metadata": {},
     "output_type": "display_data"
    },
    {
     "data": {
      "text/plain": [
       "<Figure size 640x480 with 0 Axes>"
      ]
     },
     "metadata": {},
     "output_type": "display_data"
    },
    {
     "data": {
      "text/plain": [
       "<Figure size 640x480 with 0 Axes>"
      ]
     },
     "metadata": {},
     "output_type": "display_data"
    },
    {
     "data": {
      "text/plain": [
       "<Figure size 640x480 with 0 Axes>"
      ]
     },
     "metadata": {},
     "output_type": "display_data"
    },
    {
     "data": {
      "text/plain": [
       "<Figure size 640x480 with 0 Axes>"
      ]
     },
     "metadata": {},
     "output_type": "display_data"
    },
    {
     "data": {
      "text/plain": [
       "<Figure size 640x480 with 0 Axes>"
      ]
     },
     "metadata": {},
     "output_type": "display_data"
    },
    {
     "data": {
      "text/plain": [
       "<Figure size 640x480 with 0 Axes>"
      ]
     },
     "metadata": {},
     "output_type": "display_data"
    },
    {
     "data": {
      "text/plain": [
       "<Figure size 640x480 with 0 Axes>"
      ]
     },
     "metadata": {},
     "output_type": "display_data"
    },
    {
     "data": {
      "text/plain": [
       "<Figure size 640x480 with 0 Axes>"
      ]
     },
     "metadata": {},
     "output_type": "display_data"
    },
    {
     "data": {
      "text/plain": [
       "<Figure size 640x480 with 0 Axes>"
      ]
     },
     "metadata": {},
     "output_type": "display_data"
    },
    {
     "data": {
      "text/plain": [
       "<Figure size 640x480 with 0 Axes>"
      ]
     },
     "metadata": {},
     "output_type": "display_data"
    },
    {
     "data": {
      "text/plain": [
       "<Figure size 640x480 with 0 Axes>"
      ]
     },
     "metadata": {},
     "output_type": "display_data"
    },
    {
     "data": {
      "text/plain": [
       "<Figure size 640x480 with 0 Axes>"
      ]
     },
     "metadata": {},
     "output_type": "display_data"
    },
    {
     "data": {
      "text/plain": [
       "<Figure size 640x480 with 0 Axes>"
      ]
     },
     "metadata": {},
     "output_type": "display_data"
    },
    {
     "data": {
      "text/plain": [
       "<Figure size 640x480 with 0 Axes>"
      ]
     },
     "metadata": {},
     "output_type": "display_data"
    },
    {
     "data": {
      "text/plain": [
       "<Figure size 640x480 with 0 Axes>"
      ]
     },
     "metadata": {},
     "output_type": "display_data"
    },
    {
     "data": {
      "text/plain": [
       "<Figure size 640x480 with 0 Axes>"
      ]
     },
     "metadata": {},
     "output_type": "display_data"
    },
    {
     "data": {
      "text/plain": [
       "<Figure size 640x480 with 0 Axes>"
      ]
     },
     "metadata": {},
     "output_type": "display_data"
    },
    {
     "data": {
      "text/plain": [
       "<Figure size 640x480 with 0 Axes>"
      ]
     },
     "metadata": {},
     "output_type": "display_data"
    },
    {
     "data": {
      "text/plain": [
       "<Figure size 640x480 with 0 Axes>"
      ]
     },
     "metadata": {},
     "output_type": "display_data"
    },
    {
     "data": {
      "text/plain": [
       "<Figure size 640x480 with 0 Axes>"
      ]
     },
     "metadata": {},
     "output_type": "display_data"
    },
    {
     "data": {
      "text/plain": [
       "<Figure size 640x480 with 0 Axes>"
      ]
     },
     "metadata": {},
     "output_type": "display_data"
    },
    {
     "data": {
      "text/plain": [
       "<Figure size 640x480 with 0 Axes>"
      ]
     },
     "metadata": {},
     "output_type": "display_data"
    },
    {
     "data": {
      "text/plain": [
       "<Figure size 640x480 with 0 Axes>"
      ]
     },
     "metadata": {},
     "output_type": "display_data"
    },
    {
     "data": {
      "text/plain": [
       "<Figure size 640x480 with 0 Axes>"
      ]
     },
     "metadata": {},
     "output_type": "display_data"
    },
    {
     "data": {
      "text/plain": [
       "<Figure size 640x480 with 0 Axes>"
      ]
     },
     "metadata": {},
     "output_type": "display_data"
    },
    {
     "data": {
      "text/plain": [
       "<Figure size 640x480 with 0 Axes>"
      ]
     },
     "metadata": {},
     "output_type": "display_data"
    },
    {
     "data": {
      "text/plain": [
       "<Figure size 640x480 with 0 Axes>"
      ]
     },
     "metadata": {},
     "output_type": "display_data"
    },
    {
     "data": {
      "text/plain": [
       "<Figure size 640x480 with 0 Axes>"
      ]
     },
     "metadata": {},
     "output_type": "display_data"
    },
    {
     "data": {
      "text/plain": [
       "<Figure size 640x480 with 0 Axes>"
      ]
     },
     "metadata": {},
     "output_type": "display_data"
    },
    {
     "data": {
      "text/plain": [
       "<Figure size 640x480 with 0 Axes>"
      ]
     },
     "metadata": {},
     "output_type": "display_data"
    },
    {
     "data": {
      "text/plain": [
       "<Figure size 640x480 with 0 Axes>"
      ]
     },
     "metadata": {},
     "output_type": "display_data"
    },
    {
     "data": {
      "text/plain": [
       "<Figure size 640x480 with 0 Axes>"
      ]
     },
     "metadata": {},
     "output_type": "display_data"
    },
    {
     "data": {
      "text/plain": [
       "<Figure size 640x480 with 0 Axes>"
      ]
     },
     "metadata": {},
     "output_type": "display_data"
    },
    {
     "data": {
      "text/plain": [
       "<Figure size 640x480 with 0 Axes>"
      ]
     },
     "metadata": {},
     "output_type": "display_data"
    },
    {
     "data": {
      "text/plain": [
       "<Figure size 640x480 with 0 Axes>"
      ]
     },
     "metadata": {},
     "output_type": "display_data"
    },
    {
     "data": {
      "text/plain": [
       "<Figure size 640x480 with 0 Axes>"
      ]
     },
     "metadata": {},
     "output_type": "display_data"
    },
    {
     "data": {
      "text/plain": [
       "<Figure size 640x480 with 0 Axes>"
      ]
     },
     "metadata": {},
     "output_type": "display_data"
    },
    {
     "data": {
      "text/plain": [
       "<Figure size 640x480 with 0 Axes>"
      ]
     },
     "metadata": {},
     "output_type": "display_data"
    },
    {
     "data": {
      "text/plain": [
       "<Figure size 640x480 with 0 Axes>"
      ]
     },
     "metadata": {},
     "output_type": "display_data"
    },
    {
     "data": {
      "text/plain": [
       "<Figure size 640x480 with 0 Axes>"
      ]
     },
     "metadata": {},
     "output_type": "display_data"
    },
    {
     "data": {
      "text/plain": [
       "<Figure size 640x480 with 0 Axes>"
      ]
     },
     "metadata": {},
     "output_type": "display_data"
    },
    {
     "data": {
      "text/plain": [
       "<Figure size 640x480 with 0 Axes>"
      ]
     },
     "metadata": {},
     "output_type": "display_data"
    },
    {
     "data": {
      "text/plain": [
       "<Figure size 640x480 with 0 Axes>"
      ]
     },
     "metadata": {},
     "output_type": "display_data"
    },
    {
     "data": {
      "text/plain": [
       "<Figure size 640x480 with 0 Axes>"
      ]
     },
     "metadata": {},
     "output_type": "display_data"
    },
    {
     "data": {
      "text/plain": [
       "<Figure size 640x480 with 0 Axes>"
      ]
     },
     "metadata": {},
     "output_type": "display_data"
    },
    {
     "data": {
      "text/plain": [
       "<Figure size 640x480 with 0 Axes>"
      ]
     },
     "metadata": {},
     "output_type": "display_data"
    },
    {
     "data": {
      "text/plain": [
       "<Figure size 640x480 with 0 Axes>"
      ]
     },
     "metadata": {},
     "output_type": "display_data"
    },
    {
     "data": {
      "text/plain": [
       "<Figure size 640x480 with 0 Axes>"
      ]
     },
     "metadata": {},
     "output_type": "display_data"
    },
    {
     "data": {
      "text/plain": [
       "<Figure size 640x480 with 0 Axes>"
      ]
     },
     "metadata": {},
     "output_type": "display_data"
    },
    {
     "data": {
      "text/plain": [
       "<Figure size 640x480 with 0 Axes>"
      ]
     },
     "metadata": {},
     "output_type": "display_data"
    },
    {
     "data": {
      "text/plain": [
       "<Figure size 640x480 with 0 Axes>"
      ]
     },
     "metadata": {},
     "output_type": "display_data"
    },
    {
     "data": {
      "text/plain": [
       "<Figure size 640x480 with 0 Axes>"
      ]
     },
     "metadata": {},
     "output_type": "display_data"
    },
    {
     "data": {
      "text/plain": [
       "<Figure size 640x480 with 0 Axes>"
      ]
     },
     "metadata": {},
     "output_type": "display_data"
    },
    {
     "data": {
      "text/plain": [
       "<Figure size 640x480 with 0 Axes>"
      ]
     },
     "metadata": {},
     "output_type": "display_data"
    },
    {
     "data": {
      "text/plain": [
       "<Figure size 640x480 with 0 Axes>"
      ]
     },
     "metadata": {},
     "output_type": "display_data"
    },
    {
     "data": {
      "text/plain": [
       "<Figure size 640x480 with 0 Axes>"
      ]
     },
     "metadata": {},
     "output_type": "display_data"
    },
    {
     "data": {
      "text/plain": [
       "<Figure size 640x480 with 0 Axes>"
      ]
     },
     "metadata": {},
     "output_type": "display_data"
    },
    {
     "data": {
      "text/plain": [
       "<Figure size 640x480 with 0 Axes>"
      ]
     },
     "metadata": {},
     "output_type": "display_data"
    },
    {
     "data": {
      "text/plain": [
       "<Figure size 640x480 with 0 Axes>"
      ]
     },
     "metadata": {},
     "output_type": "display_data"
    },
    {
     "data": {
      "text/plain": [
       "<Figure size 640x480 with 0 Axes>"
      ]
     },
     "metadata": {},
     "output_type": "display_data"
    },
    {
     "data": {
      "text/plain": [
       "<Figure size 640x480 with 0 Axes>"
      ]
     },
     "metadata": {},
     "output_type": "display_data"
    },
    {
     "data": {
      "text/plain": [
       "<Figure size 640x480 with 0 Axes>"
      ]
     },
     "metadata": {},
     "output_type": "display_data"
    },
    {
     "data": {
      "text/plain": [
       "<Figure size 640x480 with 0 Axes>"
      ]
     },
     "metadata": {},
     "output_type": "display_data"
    },
    {
     "data": {
      "text/plain": [
       "<Figure size 640x480 with 0 Axes>"
      ]
     },
     "metadata": {},
     "output_type": "display_data"
    },
    {
     "data": {
      "text/plain": [
       "<Figure size 640x480 with 0 Axes>"
      ]
     },
     "metadata": {},
     "output_type": "display_data"
    },
    {
     "data": {
      "text/plain": [
       "<Figure size 640x480 with 0 Axes>"
      ]
     },
     "metadata": {},
     "output_type": "display_data"
    }
   ],
   "source": [
    "import os\n",
    "import numpy as np\n",
    "from raug.metrics import Metrics, accuracy\n",
    "from raug.utils.loader import get_labels_frequency\n",
    "import pandas as pd\n",
    "\n",
    "# Especificar o caminho para a pasta \"best_results\"\n",
    "folder_path = \"best_results\"\n",
    "_csv_path_test = \"/home/a52550/Desktop/datasets/ISIC2017/test/ISIC-2017_Test_v2_Part3_GroundTruth.csv\"\n",
    "true_labels = pd.read_csv(_csv_path_test).sort_values(by=['image_id'])['category']\n",
    "\n",
    "# Inicializar as variáveis para armazenar as previsões dos modelos\n",
    "ensemble_preds_best = None\n",
    "ensemble_preds_last = None\n",
    "num_models = 0\n",
    "ser_lab_freq = get_labels_frequency(_csv_path_test, \"category\", \"image_id\")\n",
    "_labels_name = ser_lab_freq.index.values #np.reshape(ser_lab_freq.index.values, (ser_lab_freq.index.values.shape[0], 1))\n",
    "\n",
    "df_best = pd.DataFrame()\n",
    "df_last = pd.DataFrame()\n",
    "\n",
    "# Percorrer as pastas de cada experimento\n",
    "for experiment_folder in os.listdir(folder_path):\n",
    "\n",
    "    if \".csv\" in experiment_folder:\n",
    "        continue\n",
    "\n",
    "    print(\"Experimento: \", experiment_folder)\n",
    "\n",
    "    _metric_options_best = {\n",
    "        'save_all_path': os.path.join(folder_path, experiment_folder, 'ensemble_average/best'),\n",
    "        'pred_name_scores': 'predictions.csv',\n",
    "    }\n",
    "    _metric_options_last = {\n",
    "        'save_all_path': os.path.join(folder_path, experiment_folder, 'ensemble_average/last'),\n",
    "        'pred_name_scores': 'predictions.csv',\n",
    "    }\n",
    "\n",
    "\n",
    "    experiment_path = os.path.join(folder_path, experiment_folder)\n",
    "    metrics_best = Metrics ([\"accuracy\", \"topk_accuracy\", \"balanced_accuracy\", \"conf_matrix\" \"plot_conf_matrix\", \"precision_recall_report\", \"auc_and_roc_curve\", \"auc\"] , _labels_name, _metric_options_best)\n",
    "    metrics_last = Metrics ([\"accuracy\", \"topk_accuracy\", \"balanced_accuracy\", \"conf_matrix\" \"plot_conf_matrix\", \"precision_recall_report\", \"auc_and_roc_curve\", \"auc\"] , _labels_name, _metric_options_last)\n",
    "\n",
    "    ensemble_preds_best = None\n",
    "    ensemble_preds_last = None\n",
    "\n",
    "    model_folders = os.listdir(experiment_path)\n",
    "    \n",
    "    # Cria path para o experimento atual\n",
    "    if 'ensemble_average' in model_folders:\n",
    "        model_folders.remove('ensemble_average')\n",
    "    else:\n",
    "        os.mkdir(os.path.join(folder_path, experiment_folder, 'ensemble_average'))\n",
    "        os.mkdir(os.path.join(_metric_options_best['save_all_path']))\n",
    "        os.mkdir(os.path.join(_metric_options_last['save_all_path']))\n",
    "\n",
    "    if 'ensemble_3_best_average' in model_folders:\n",
    "        model_folders.remove('ensemble_3_best_average')\n",
    "\n",
    "    try:\n",
    "\n",
    "        # Percorrer as pastas de cada modelo\n",
    "        for model_folder in model_folders:\n",
    "\n",
    "            model_path = os.path.join(experiment_path, model_folder)\n",
    "\n",
    "            # Carregar as previsões do modelo atual\n",
    "            model_preds_path_best = os.path.join(model_path, \"test_pred_best/predictions.csv\")\n",
    "            model_preds_path_last = os.path.join(model_path, \"test_pred_last/predictions.csv\")\n",
    "\n",
    "            model_preds_best = pd.read_csv(model_preds_path_best).sort_values(by=['image'])\n",
    "            model_preds_last = pd.read_csv(model_preds_path_last).sort_values(by=['image'])\n",
    "\n",
    "            images_id = model_preds_best[['image']]\n",
    "            model_preds_best = model_preds_best[['0','1','2']]\n",
    "            model_preds_last = model_preds_last[['0','1','2']]\n",
    "\n",
    "            # Adicionar as previsões do modelo atual ao ensemble\n",
    "            if ensemble_preds_best is None:\n",
    "                ensemble_preds_best = model_preds_best\n",
    "            else:\n",
    "                ensemble_preds_best += model_preds_best\n",
    "\n",
    "            if ensemble_preds_last is None:\n",
    "                ensemble_preds_last = model_preds_last\n",
    "            else:\n",
    "                ensemble_preds_last += model_preds_last\n",
    "\n",
    "            num_models += 1\n",
    "\n",
    "        # Calcular a média das previsões dos modelos\n",
    "        ensemble_preds_best /= num_models\n",
    "        ensemble_preds_last /= num_models\n",
    "\n",
    "        metrics_best.update_scores(true_labels, ensemble_preds_best.to_numpy(), images_id.to_numpy())\n",
    "        metrics_last.update_scores(true_labels, ensemble_preds_last.to_numpy(), images_id.to_numpy())\n",
    "\n",
    "        metrics_best.compute_metrics()\n",
    "        metrics_last.compute_metrics()\n",
    "\n",
    "        metrics_best.save_scores()\n",
    "        metrics_last.save_scores()\n",
    "\n",
    "        folder_name = {'folder_name': experiment_folder}\n",
    "        dict_best = {**folder_name, **metrics_best.metrics_values}\n",
    "        dict_last = {**folder_name, **metrics_last.metrics_values}\n",
    "\n",
    "        del dict_best['auc_and_roc_curve']\n",
    "        del dict_best['precision_recall_report']\n",
    "\n",
    "        del dict_last['auc_and_roc_curve']\n",
    "        del dict_last['precision_recall_report']\n",
    "\n",
    "        df_best = df_best.append(pd.DataFrame(dict_best, columns=dict_best.keys(), index=[0]), ignore_index=True)\n",
    "        df_last = df_last.append(pd.DataFrame(dict_last, columns=dict_last.keys(), index=[0]), ignore_index=True)\n",
    "\n",
    "    except Exception as e:\n",
    "        print(\"Erro no experimento \", experiment_folder)\n",
    "        print(e)\n",
    "\n",
    "\n",
    "df_best.to_csv(os.path.join(folder_path, 'ensemble_average_best.csv'), index=False)\n",
    "df_last.to_csv(os.path.join(folder_path, 'ensemble_average_last.csv'), index=False)\n",
    "\n",
    "# Avaliar a precisão do modelo de ensemble\n",
    "# true_classes_path = os.path.join(folder_path, \"true_classes.csv\")\n",
    "# true_classes = np.loadtxt(_csv_path_test, delimiter=\",\", skiprows=1)\n",
    "\n",
    "# from sklearn.metrics import accuracy_score, precision_score, recall_score, f1_score\n",
    "\n",
    "# accuracy = accuracy_score(true_classes, ensemble_classes)\n",
    "# precision = precision_score(true_classes, ensemble_classes, average=\"macro\")\n",
    "# recall = recall_score(true_classes, ensemble_classes, average=\"macro\")\n",
    "# f1 = f1_score(true_classes, ensemble_classes, average=\"macro\")\n",
    "\n",
    "# # Imprimir as métricas de avaliação\n",
    "# print(f\"Acurácia: {accuracy:.3f}\")\n",
    "# print(f\"Precisão: {precision:.3f}\")\n",
    "# print(f\"Recall: {recall:.3f}\")\n",
    "# print(f\"F1-score: {f1:.3f}\")\n"
   ]
  },
  {
   "cell_type": "code",
   "execution_count": 13,
   "metadata": {},
   "outputs": [
    {
     "name": "stdout",
     "output_type": "stream",
     "text": [
      "Experimento:  dull_razor_shades_of_gray_cropped_images_folder_2\n"
     ]
    },
    {
     "name": "stderr",
     "output_type": "stream",
     "text": [
      "/home/a52550/Desktop/masters/cnn/learning_cycle/benchmarks/isic/raug/utils/classification_metrics.py:347: RuntimeWarning: More than 20 figures have been opened. Figures created through the pyplot interface (`matplotlib.pyplot.figure`) are retained until explicitly closed and may consume too much memory. (To control this warning, see the rcParam `figure.max_open_warning`).\n",
      "  plt.figure()\n"
     ]
    },
    {
     "ename": "KeyboardInterrupt",
     "evalue": "",
     "output_type": "error",
     "traceback": [
      "\u001b[0;31m---------------------------------------------------------------------------\u001b[0m",
      "\u001b[0;31mKeyboardInterrupt\u001b[0m                         Traceback (most recent call last)",
      "\u001b[0;32m/tmp/ipykernel_2478993/2160755074.py\u001b[0m in \u001b[0;36m<module>\u001b[0;34m\u001b[0m\n\u001b[1;32m    103\u001b[0m                     \u001b[0mmetrics_last\u001b[0m\u001b[0;34m.\u001b[0m\u001b[0mupdate_scores\u001b[0m\u001b[0;34m(\u001b[0m\u001b[0mtrue_labels\u001b[0m\u001b[0;34m,\u001b[0m \u001b[0mensemble_preds_last\u001b[0m\u001b[0;34m.\u001b[0m\u001b[0mto_numpy\u001b[0m\u001b[0;34m(\u001b[0m\u001b[0;34m)\u001b[0m\u001b[0;34m,\u001b[0m \u001b[0mimages_id\u001b[0m\u001b[0;34m.\u001b[0m\u001b[0mto_numpy\u001b[0m\u001b[0;34m(\u001b[0m\u001b[0;34m)\u001b[0m\u001b[0;34m)\u001b[0m\u001b[0;34m\u001b[0m\u001b[0;34m\u001b[0m\u001b[0m\n\u001b[1;32m    104\u001b[0m \u001b[0;34m\u001b[0m\u001b[0m\n\u001b[0;32m--> 105\u001b[0;31m                     \u001b[0mmetrics_best\u001b[0m\u001b[0;34m.\u001b[0m\u001b[0mcompute_metrics\u001b[0m\u001b[0;34m(\u001b[0m\u001b[0;34m)\u001b[0m\u001b[0;34m\u001b[0m\u001b[0;34m\u001b[0m\u001b[0m\n\u001b[0m\u001b[1;32m    106\u001b[0m                     \u001b[0mmetrics_last\u001b[0m\u001b[0;34m.\u001b[0m\u001b[0mcompute_metrics\u001b[0m\u001b[0;34m(\u001b[0m\u001b[0;34m)\u001b[0m\u001b[0;34m\u001b[0m\u001b[0;34m\u001b[0m\u001b[0m\n\u001b[1;32m    107\u001b[0m \u001b[0;34m\u001b[0m\u001b[0m\n",
      "\u001b[0;32m~/Desktop/masters/cnn/learning_cycle/benchmarks/isic/raug/metrics.py\u001b[0m in \u001b[0;36mcompute_metrics\u001b[0;34m(self)\u001b[0m\n\u001b[1;32m    185\u001b[0m                                                                                   save_path)\n\u001b[1;32m    186\u001b[0m             self.metrics_values = {**self.metrics_values, **cmet.precision_recall_fscore_support(self.label_scores,\n\u001b[0;32m--> 187\u001b[0;31m                                                                                                     self.pred_scores, labels=self.class_names)}\n\u001b[0m\u001b[1;32m    188\u001b[0m \u001b[0;34m\u001b[0m\u001b[0m\n\u001b[1;32m    189\u001b[0m             \u001b[0;32mif\u001b[0m \u001b[0msave_all_path\u001b[0m \u001b[0;32mis\u001b[0m \u001b[0;32mnot\u001b[0m \u001b[0;32mNone\u001b[0m\u001b[0;34m:\u001b[0m\u001b[0;34m\u001b[0m\u001b[0;34m\u001b[0m\u001b[0m\n",
      "\u001b[0;32m~/Desktop/masters/cnn/learning_cycle/benchmarks/isic/raug/utils/classification_metrics.py\u001b[0m in \u001b[0;36mprecision_recall_fscore_support\u001b[0;34m(lab_real, lab_pred, labels)\u001b[0m\n\u001b[1;32m    110\u001b[0m     \u001b[0mlab_real\u001b[0m\u001b[0;34m,\u001b[0m \u001b[0mlab_pred\u001b[0m \u001b[0;34m=\u001b[0m \u001b[0m_check_dim\u001b[0m \u001b[0;34m(\u001b[0m\u001b[0mlab_real\u001b[0m\u001b[0;34m,\u001b[0m \u001b[0mlab_pred\u001b[0m\u001b[0;34m,\u001b[0m \u001b[0mmode\u001b[0m\u001b[0;34m=\u001b[0m\u001b[0;34m'labels'\u001b[0m\u001b[0;34m)\u001b[0m\u001b[0;34m\u001b[0m\u001b[0;34m\u001b[0m\u001b[0m\n\u001b[1;32m    111\u001b[0m \u001b[0;34m\u001b[0m\u001b[0m\n\u001b[0;32m--> 112\u001b[0;31m     \u001b[0mprec_macro\u001b[0m\u001b[0;34m,\u001b[0m \u001b[0mrec_macro\u001b[0m\u001b[0;34m,\u001b[0m \u001b[0mfscore_macro\u001b[0m\u001b[0;34m,\u001b[0m \u001b[0msup_macro\u001b[0m \u001b[0;34m=\u001b[0m \u001b[0mskmet\u001b[0m\u001b[0;34m.\u001b[0m\u001b[0mprecision_recall_fscore_support\u001b[0m\u001b[0;34m(\u001b[0m\u001b[0mlab_real\u001b[0m\u001b[0;34m,\u001b[0m \u001b[0mlab_pred\u001b[0m\u001b[0;34m,\u001b[0m \u001b[0maverage\u001b[0m\u001b[0;34m=\u001b[0m\u001b[0;34m'macro'\u001b[0m\u001b[0;34m,\u001b[0m \u001b[0mlabels\u001b[0m\u001b[0;34m=\u001b[0m\u001b[0mlabels\u001b[0m\u001b[0;34m)\u001b[0m\u001b[0;34m\u001b[0m\u001b[0;34m\u001b[0m\u001b[0m\n\u001b[0m\u001b[1;32m    113\u001b[0m     \u001b[0mprec_micro\u001b[0m\u001b[0;34m,\u001b[0m \u001b[0mrec_micro\u001b[0m\u001b[0;34m,\u001b[0m \u001b[0mfscore_micro\u001b[0m\u001b[0;34m,\u001b[0m \u001b[0msup_micro\u001b[0m \u001b[0;34m=\u001b[0m \u001b[0mskmet\u001b[0m\u001b[0;34m.\u001b[0m\u001b[0mprecision_recall_fscore_support\u001b[0m\u001b[0;34m(\u001b[0m\u001b[0mlab_real\u001b[0m\u001b[0;34m,\u001b[0m \u001b[0mlab_pred\u001b[0m\u001b[0;34m,\u001b[0m \u001b[0maverage\u001b[0m\u001b[0;34m=\u001b[0m\u001b[0;34m'micro'\u001b[0m\u001b[0;34m,\u001b[0m \u001b[0mlabels\u001b[0m\u001b[0;34m=\u001b[0m\u001b[0mlabels\u001b[0m\u001b[0;34m)\u001b[0m\u001b[0;34m\u001b[0m\u001b[0;34m\u001b[0m\u001b[0m\n\u001b[1;32m    114\u001b[0m     \u001b[0mprec_weighted\u001b[0m\u001b[0;34m,\u001b[0m \u001b[0mrec_weighted\u001b[0m\u001b[0;34m,\u001b[0m \u001b[0mfscore_weighted\u001b[0m\u001b[0;34m,\u001b[0m \u001b[0msup_weighted\u001b[0m \u001b[0;34m=\u001b[0m \u001b[0mskmet\u001b[0m\u001b[0;34m.\u001b[0m\u001b[0mprecision_recall_fscore_support\u001b[0m\u001b[0;34m(\u001b[0m\u001b[0mlab_real\u001b[0m\u001b[0;34m,\u001b[0m \u001b[0mlab_pred\u001b[0m\u001b[0;34m,\u001b[0m \u001b[0maverage\u001b[0m\u001b[0;34m=\u001b[0m\u001b[0;34m'weighted'\u001b[0m\u001b[0;34m,\u001b[0m \u001b[0mlabels\u001b[0m\u001b[0;34m=\u001b[0m\u001b[0mlabels\u001b[0m\u001b[0;34m)\u001b[0m\u001b[0;34m\u001b[0m\u001b[0;34m\u001b[0m\u001b[0m\n",
      "\u001b[0;32m~/Desktop/masters/cnn/learning_cycle/benchmarks/isic/venv/lib/python3.7/site-packages/sklearn/metrics/_classification.py\u001b[0m in \u001b[0;36mprecision_recall_fscore_support\u001b[0;34m(y_true, y_pred, beta, labels, pos_label, average, warn_for, sample_weight, zero_division)\u001b[0m\n\u001b[1;32m   1542\u001b[0m     \u001b[0;32mif\u001b[0m \u001b[0mbeta\u001b[0m \u001b[0;34m<\u001b[0m \u001b[0;36m0\u001b[0m\u001b[0;34m:\u001b[0m\u001b[0;34m\u001b[0m\u001b[0;34m\u001b[0m\u001b[0m\n\u001b[1;32m   1543\u001b[0m         \u001b[0;32mraise\u001b[0m \u001b[0mValueError\u001b[0m\u001b[0;34m(\u001b[0m\u001b[0;34m\"beta should be >=0 in the F-beta score\"\u001b[0m\u001b[0;34m)\u001b[0m\u001b[0;34m\u001b[0m\u001b[0;34m\u001b[0m\u001b[0m\n\u001b[0;32m-> 1544\u001b[0;31m     \u001b[0mlabels\u001b[0m \u001b[0;34m=\u001b[0m \u001b[0m_check_set_wise_labels\u001b[0m\u001b[0;34m(\u001b[0m\u001b[0my_true\u001b[0m\u001b[0;34m,\u001b[0m \u001b[0my_pred\u001b[0m\u001b[0;34m,\u001b[0m \u001b[0maverage\u001b[0m\u001b[0;34m,\u001b[0m \u001b[0mlabels\u001b[0m\u001b[0;34m,\u001b[0m \u001b[0mpos_label\u001b[0m\u001b[0;34m)\u001b[0m\u001b[0;34m\u001b[0m\u001b[0;34m\u001b[0m\u001b[0m\n\u001b[0m\u001b[1;32m   1545\u001b[0m \u001b[0;34m\u001b[0m\u001b[0m\n\u001b[1;32m   1546\u001b[0m     \u001b[0;31m# Calculate tp_sum, pred_sum, true_sum ###\u001b[0m\u001b[0;34m\u001b[0m\u001b[0;34m\u001b[0m\u001b[0;34m\u001b[0m\u001b[0m\n",
      "\u001b[0;32m~/Desktop/masters/cnn/learning_cycle/benchmarks/isic/venv/lib/python3.7/site-packages/sklearn/metrics/_classification.py\u001b[0m in \u001b[0;36m_check_set_wise_labels\u001b[0;34m(y_true, y_pred, average, labels, pos_label)\u001b[0m\n\u001b[1;32m   1346\u001b[0m         \u001b[0;32mraise\u001b[0m \u001b[0mValueError\u001b[0m\u001b[0;34m(\u001b[0m\u001b[0;34m\"average has to be one of \"\u001b[0m \u001b[0;34m+\u001b[0m \u001b[0mstr\u001b[0m\u001b[0;34m(\u001b[0m\u001b[0maverage_options\u001b[0m\u001b[0;34m)\u001b[0m\u001b[0;34m)\u001b[0m\u001b[0;34m\u001b[0m\u001b[0;34m\u001b[0m\u001b[0m\n\u001b[1;32m   1347\u001b[0m \u001b[0;34m\u001b[0m\u001b[0m\n\u001b[0;32m-> 1348\u001b[0;31m     \u001b[0my_type\u001b[0m\u001b[0;34m,\u001b[0m \u001b[0my_true\u001b[0m\u001b[0;34m,\u001b[0m \u001b[0my_pred\u001b[0m \u001b[0;34m=\u001b[0m \u001b[0m_check_targets\u001b[0m\u001b[0;34m(\u001b[0m\u001b[0my_true\u001b[0m\u001b[0;34m,\u001b[0m \u001b[0my_pred\u001b[0m\u001b[0;34m)\u001b[0m\u001b[0;34m\u001b[0m\u001b[0;34m\u001b[0m\u001b[0m\n\u001b[0m\u001b[1;32m   1349\u001b[0m     \u001b[0;31m# Convert to Python primitive type to avoid NumPy type / Python str\u001b[0m\u001b[0;34m\u001b[0m\u001b[0;34m\u001b[0m\u001b[0;34m\u001b[0m\u001b[0m\n\u001b[1;32m   1350\u001b[0m     \u001b[0;31m# comparison. See https://github.com/numpy/numpy/issues/6784\u001b[0m\u001b[0;34m\u001b[0m\u001b[0;34m\u001b[0m\u001b[0;34m\u001b[0m\u001b[0m\n",
      "\u001b[0;32m~/Desktop/masters/cnn/learning_cycle/benchmarks/isic/venv/lib/python3.7/site-packages/sklearn/metrics/_classification.py\u001b[0m in \u001b[0;36m_check_targets\u001b[0;34m(y_true, y_pred)\u001b[0m\n\u001b[1;32m     83\u001b[0m     \"\"\"\n\u001b[1;32m     84\u001b[0m     \u001b[0mcheck_consistent_length\u001b[0m\u001b[0;34m(\u001b[0m\u001b[0my_true\u001b[0m\u001b[0;34m,\u001b[0m \u001b[0my_pred\u001b[0m\u001b[0;34m)\u001b[0m\u001b[0;34m\u001b[0m\u001b[0;34m\u001b[0m\u001b[0m\n\u001b[0;32m---> 85\u001b[0;31m     \u001b[0mtype_true\u001b[0m \u001b[0;34m=\u001b[0m \u001b[0mtype_of_target\u001b[0m\u001b[0;34m(\u001b[0m\u001b[0my_true\u001b[0m\u001b[0;34m)\u001b[0m\u001b[0;34m\u001b[0m\u001b[0;34m\u001b[0m\u001b[0m\n\u001b[0m\u001b[1;32m     86\u001b[0m     \u001b[0mtype_pred\u001b[0m \u001b[0;34m=\u001b[0m \u001b[0mtype_of_target\u001b[0m\u001b[0;34m(\u001b[0m\u001b[0my_pred\u001b[0m\u001b[0;34m)\u001b[0m\u001b[0;34m\u001b[0m\u001b[0;34m\u001b[0m\u001b[0m\n\u001b[1;32m     87\u001b[0m \u001b[0;34m\u001b[0m\u001b[0m\n",
      "\u001b[0;32m~/Desktop/masters/cnn/learning_cycle/benchmarks/isic/venv/lib/python3.7/site-packages/sklearn/utils/multiclass.py\u001b[0m in \u001b[0;36mtype_of_target\u001b[0;34m(y)\u001b[0m\n\u001b[1;32m    325\u001b[0m         \u001b[0;32mreturn\u001b[0m \u001b[0;34m\"continuous\"\u001b[0m \u001b[0;34m+\u001b[0m \u001b[0msuffix\u001b[0m\u001b[0;34m\u001b[0m\u001b[0;34m\u001b[0m\u001b[0m\n\u001b[1;32m    326\u001b[0m \u001b[0;34m\u001b[0m\u001b[0m\n\u001b[0;32m--> 327\u001b[0;31m     \u001b[0;32mif\u001b[0m \u001b[0;34m(\u001b[0m\u001b[0mlen\u001b[0m\u001b[0;34m(\u001b[0m\u001b[0mnp\u001b[0m\u001b[0;34m.\u001b[0m\u001b[0munique\u001b[0m\u001b[0;34m(\u001b[0m\u001b[0my\u001b[0m\u001b[0;34m)\u001b[0m\u001b[0;34m)\u001b[0m \u001b[0;34m>\u001b[0m \u001b[0;36m2\u001b[0m\u001b[0;34m)\u001b[0m \u001b[0;32mor\u001b[0m \u001b[0;34m(\u001b[0m\u001b[0my\u001b[0m\u001b[0;34m.\u001b[0m\u001b[0mndim\u001b[0m \u001b[0;34m>=\u001b[0m \u001b[0;36m2\u001b[0m \u001b[0;32mand\u001b[0m \u001b[0mlen\u001b[0m\u001b[0;34m(\u001b[0m\u001b[0my\u001b[0m\u001b[0;34m[\u001b[0m\u001b[0;36m0\u001b[0m\u001b[0;34m]\u001b[0m\u001b[0;34m)\u001b[0m \u001b[0;34m>\u001b[0m \u001b[0;36m1\u001b[0m\u001b[0;34m)\u001b[0m\u001b[0;34m:\u001b[0m\u001b[0;34m\u001b[0m\u001b[0;34m\u001b[0m\u001b[0m\n\u001b[0m\u001b[1;32m    328\u001b[0m         \u001b[0;32mreturn\u001b[0m \u001b[0;34m\"multiclass\"\u001b[0m \u001b[0;34m+\u001b[0m \u001b[0msuffix\u001b[0m  \u001b[0;31m# [1, 2, 3] or [[1., 2., 3]] or [[1, 2]]\u001b[0m\u001b[0;34m\u001b[0m\u001b[0;34m\u001b[0m\u001b[0m\n\u001b[1;32m    329\u001b[0m     \u001b[0;32melse\u001b[0m\u001b[0;34m:\u001b[0m\u001b[0;34m\u001b[0m\u001b[0;34m\u001b[0m\u001b[0m\n",
      "\u001b[0;32m<__array_function__ internals>\u001b[0m in \u001b[0;36munique\u001b[0;34m(*args, **kwargs)\u001b[0m\n",
      "\u001b[0;32m~/Desktop/masters/cnn/learning_cycle/benchmarks/isic/venv/lib/python3.7/site-packages/numpy/lib/arraysetops.py\u001b[0m in \u001b[0;36munique\u001b[0;34m(ar, return_index, return_inverse, return_counts, axis)\u001b[0m\n\u001b[1;32m    270\u001b[0m     \u001b[0mar\u001b[0m \u001b[0;34m=\u001b[0m \u001b[0mnp\u001b[0m\u001b[0;34m.\u001b[0m\u001b[0masanyarray\u001b[0m\u001b[0;34m(\u001b[0m\u001b[0mar\u001b[0m\u001b[0;34m)\u001b[0m\u001b[0;34m\u001b[0m\u001b[0;34m\u001b[0m\u001b[0m\n\u001b[1;32m    271\u001b[0m     \u001b[0;32mif\u001b[0m \u001b[0maxis\u001b[0m \u001b[0;32mis\u001b[0m \u001b[0;32mNone\u001b[0m\u001b[0;34m:\u001b[0m\u001b[0;34m\u001b[0m\u001b[0;34m\u001b[0m\u001b[0m\n\u001b[0;32m--> 272\u001b[0;31m         \u001b[0mret\u001b[0m \u001b[0;34m=\u001b[0m \u001b[0m_unique1d\u001b[0m\u001b[0;34m(\u001b[0m\u001b[0mar\u001b[0m\u001b[0;34m,\u001b[0m \u001b[0mreturn_index\u001b[0m\u001b[0;34m,\u001b[0m \u001b[0mreturn_inverse\u001b[0m\u001b[0;34m,\u001b[0m \u001b[0mreturn_counts\u001b[0m\u001b[0;34m)\u001b[0m\u001b[0;34m\u001b[0m\u001b[0;34m\u001b[0m\u001b[0m\n\u001b[0m\u001b[1;32m    273\u001b[0m         \u001b[0;32mreturn\u001b[0m \u001b[0m_unpack_tuple\u001b[0m\u001b[0;34m(\u001b[0m\u001b[0mret\u001b[0m\u001b[0;34m)\u001b[0m\u001b[0;34m\u001b[0m\u001b[0;34m\u001b[0m\u001b[0m\n\u001b[1;32m    274\u001b[0m \u001b[0;34m\u001b[0m\u001b[0m\n",
      "\u001b[0;32m~/Desktop/masters/cnn/learning_cycle/benchmarks/isic/venv/lib/python3.7/site-packages/numpy/lib/arraysetops.py\u001b[0m in \u001b[0;36m_unique1d\u001b[0;34m(ar, return_index, return_inverse, return_counts)\u001b[0m\n\u001b[1;32m    346\u001b[0m         \u001b[0mmask\u001b[0m\u001b[0;34m[\u001b[0m\u001b[0maux_firstnan\u001b[0m \u001b[0;34m+\u001b[0m \u001b[0;36m1\u001b[0m\u001b[0;34m:\u001b[0m\u001b[0;34m]\u001b[0m \u001b[0;34m=\u001b[0m \u001b[0;32mFalse\u001b[0m\u001b[0;34m\u001b[0m\u001b[0;34m\u001b[0m\u001b[0m\n\u001b[1;32m    347\u001b[0m     \u001b[0;32melse\u001b[0m\u001b[0;34m:\u001b[0m\u001b[0;34m\u001b[0m\u001b[0;34m\u001b[0m\u001b[0m\n\u001b[0;32m--> 348\u001b[0;31m         \u001b[0mmask\u001b[0m\u001b[0;34m[\u001b[0m\u001b[0;36m1\u001b[0m\u001b[0;34m:\u001b[0m\u001b[0;34m]\u001b[0m \u001b[0;34m=\u001b[0m \u001b[0maux\u001b[0m\u001b[0;34m[\u001b[0m\u001b[0;36m1\u001b[0m\u001b[0;34m:\u001b[0m\u001b[0;34m]\u001b[0m \u001b[0;34m!=\u001b[0m \u001b[0maux\u001b[0m\u001b[0;34m[\u001b[0m\u001b[0;34m:\u001b[0m\u001b[0;34m-\u001b[0m\u001b[0;36m1\u001b[0m\u001b[0;34m]\u001b[0m\u001b[0;34m\u001b[0m\u001b[0;34m\u001b[0m\u001b[0m\n\u001b[0m\u001b[1;32m    349\u001b[0m \u001b[0;34m\u001b[0m\u001b[0m\n\u001b[1;32m    350\u001b[0m     \u001b[0mret\u001b[0m \u001b[0;34m=\u001b[0m \u001b[0;34m(\u001b[0m\u001b[0maux\u001b[0m\u001b[0;34m[\u001b[0m\u001b[0mmask\u001b[0m\u001b[0;34m]\u001b[0m\u001b[0;34m,\u001b[0m\u001b[0;34m)\u001b[0m\u001b[0;34m\u001b[0m\u001b[0;34m\u001b[0m\u001b[0m\n",
      "\u001b[0;31mKeyboardInterrupt\u001b[0m: "
     ]
    },
    {
     "data": {
      "text/plain": [
       "<Figure size 640x480 with 0 Axes>"
      ]
     },
     "metadata": {},
     "output_type": "display_data"
    },
    {
     "data": {
      "text/plain": [
       "<Figure size 640x480 with 0 Axes>"
      ]
     },
     "metadata": {},
     "output_type": "display_data"
    },
    {
     "data": {
      "text/plain": [
       "<Figure size 640x480 with 0 Axes>"
      ]
     },
     "metadata": {},
     "output_type": "display_data"
    },
    {
     "data": {
      "text/plain": [
       "<Figure size 640x480 with 0 Axes>"
      ]
     },
     "metadata": {},
     "output_type": "display_data"
    },
    {
     "data": {
      "text/plain": [
       "<Figure size 640x480 with 0 Axes>"
      ]
     },
     "metadata": {},
     "output_type": "display_data"
    },
    {
     "data": {
      "text/plain": [
       "<Figure size 640x480 with 0 Axes>"
      ]
     },
     "metadata": {},
     "output_type": "display_data"
    },
    {
     "data": {
      "text/plain": [
       "<Figure size 640x480 with 0 Axes>"
      ]
     },
     "metadata": {},
     "output_type": "display_data"
    },
    {
     "data": {
      "text/plain": [
       "<Figure size 640x480 with 0 Axes>"
      ]
     },
     "metadata": {},
     "output_type": "display_data"
    },
    {
     "data": {
      "text/plain": [
       "<Figure size 640x480 with 0 Axes>"
      ]
     },
     "metadata": {},
     "output_type": "display_data"
    },
    {
     "data": {
      "text/plain": [
       "<Figure size 640x480 with 0 Axes>"
      ]
     },
     "metadata": {},
     "output_type": "display_data"
    },
    {
     "data": {
      "text/plain": [
       "<Figure size 640x480 with 0 Axes>"
      ]
     },
     "metadata": {},
     "output_type": "display_data"
    },
    {
     "data": {
      "text/plain": [
       "<Figure size 640x480 with 0 Axes>"
      ]
     },
     "metadata": {},
     "output_type": "display_data"
    },
    {
     "data": {
      "text/plain": [
       "<Figure size 640x480 with 0 Axes>"
      ]
     },
     "metadata": {},
     "output_type": "display_data"
    },
    {
     "data": {
      "text/plain": [
       "<Figure size 640x480 with 0 Axes>"
      ]
     },
     "metadata": {},
     "output_type": "display_data"
    },
    {
     "data": {
      "text/plain": [
       "<Figure size 640x480 with 0 Axes>"
      ]
     },
     "metadata": {},
     "output_type": "display_data"
    },
    {
     "data": {
      "text/plain": [
       "<Figure size 640x480 with 0 Axes>"
      ]
     },
     "metadata": {},
     "output_type": "display_data"
    },
    {
     "data": {
      "text/plain": [
       "<Figure size 640x480 with 0 Axes>"
      ]
     },
     "metadata": {},
     "output_type": "display_data"
    },
    {
     "data": {
      "text/plain": [
       "<Figure size 640x480 with 0 Axes>"
      ]
     },
     "metadata": {},
     "output_type": "display_data"
    },
    {
     "data": {
      "text/plain": [
       "<Figure size 640x480 with 0 Axes>"
      ]
     },
     "metadata": {},
     "output_type": "display_data"
    },
    {
     "data": {
      "text/plain": [
       "<Figure size 640x480 with 0 Axes>"
      ]
     },
     "metadata": {},
     "output_type": "display_data"
    },
    {
     "data": {
      "text/plain": [
       "<Figure size 640x480 with 0 Axes>"
      ]
     },
     "metadata": {},
     "output_type": "display_data"
    },
    {
     "data": {
      "text/plain": [
       "<Figure size 640x480 with 0 Axes>"
      ]
     },
     "metadata": {},
     "output_type": "display_data"
    },
    {
     "data": {
      "text/plain": [
       "<Figure size 640x480 with 0 Axes>"
      ]
     },
     "metadata": {},
     "output_type": "display_data"
    },
    {
     "data": {
      "text/plain": [
       "<Figure size 640x480 with 0 Axes>"
      ]
     },
     "metadata": {},
     "output_type": "display_data"
    },
    {
     "data": {
      "text/plain": [
       "<Figure size 640x480 with 0 Axes>"
      ]
     },
     "metadata": {},
     "output_type": "display_data"
    },
    {
     "data": {
      "text/plain": [
       "<Figure size 640x480 with 0 Axes>"
      ]
     },
     "metadata": {},
     "output_type": "display_data"
    },
    {
     "data": {
      "text/plain": [
       "<Figure size 640x480 with 0 Axes>"
      ]
     },
     "metadata": {},
     "output_type": "display_data"
    },
    {
     "data": {
      "text/plain": [
       "<Figure size 640x480 with 0 Axes>"
      ]
     },
     "metadata": {},
     "output_type": "display_data"
    },
    {
     "data": {
      "text/plain": [
       "<Figure size 640x480 with 0 Axes>"
      ]
     },
     "metadata": {},
     "output_type": "display_data"
    },
    {
     "data": {
      "text/plain": [
       "<Figure size 640x480 with 0 Axes>"
      ]
     },
     "metadata": {},
     "output_type": "display_data"
    },
    {
     "data": {
      "text/plain": [
       "<Figure size 640x480 with 0 Axes>"
      ]
     },
     "metadata": {},
     "output_type": "display_data"
    },
    {
     "data": {
      "text/plain": [
       "<Figure size 640x480 with 0 Axes>"
      ]
     },
     "metadata": {},
     "output_type": "display_data"
    },
    {
     "data": {
      "text/plain": [
       "<Figure size 640x480 with 0 Axes>"
      ]
     },
     "metadata": {},
     "output_type": "display_data"
    },
    {
     "data": {
      "text/plain": [
       "<Figure size 640x480 with 0 Axes>"
      ]
     },
     "metadata": {},
     "output_type": "display_data"
    },
    {
     "data": {
      "text/plain": [
       "<Figure size 640x480 with 0 Axes>"
      ]
     },
     "metadata": {},
     "output_type": "display_data"
    },
    {
     "data": {
      "text/plain": [
       "<Figure size 640x480 with 0 Axes>"
      ]
     },
     "metadata": {},
     "output_type": "display_data"
    },
    {
     "data": {
      "text/plain": [
       "<Figure size 640x480 with 0 Axes>"
      ]
     },
     "metadata": {},
     "output_type": "display_data"
    },
    {
     "data": {
      "text/plain": [
       "<Figure size 640x480 with 0 Axes>"
      ]
     },
     "metadata": {},
     "output_type": "display_data"
    },
    {
     "data": {
      "text/plain": [
       "<Figure size 640x480 with 0 Axes>"
      ]
     },
     "metadata": {},
     "output_type": "display_data"
    },
    {
     "data": {
      "text/plain": [
       "<Figure size 640x480 with 0 Axes>"
      ]
     },
     "metadata": {},
     "output_type": "display_data"
    },
    {
     "data": {
      "text/plain": [
       "<Figure size 640x480 with 0 Axes>"
      ]
     },
     "metadata": {},
     "output_type": "display_data"
    },
    {
     "data": {
      "text/plain": [
       "<Figure size 640x480 with 0 Axes>"
      ]
     },
     "metadata": {},
     "output_type": "display_data"
    },
    {
     "data": {
      "text/plain": [
       "<Figure size 640x480 with 0 Axes>"
      ]
     },
     "metadata": {},
     "output_type": "display_data"
    },
    {
     "data": {
      "text/plain": [
       "<Figure size 640x480 with 0 Axes>"
      ]
     },
     "metadata": {},
     "output_type": "display_data"
    },
    {
     "data": {
      "text/plain": [
       "<Figure size 640x480 with 0 Axes>"
      ]
     },
     "metadata": {},
     "output_type": "display_data"
    },
    {
     "data": {
      "text/plain": [
       "<Figure size 640x480 with 0 Axes>"
      ]
     },
     "metadata": {},
     "output_type": "display_data"
    },
    {
     "data": {
      "text/plain": [
       "<Figure size 640x480 with 0 Axes>"
      ]
     },
     "metadata": {},
     "output_type": "display_data"
    },
    {
     "data": {
      "text/plain": [
       "<Figure size 640x480 with 0 Axes>"
      ]
     },
     "metadata": {},
     "output_type": "display_data"
    },
    {
     "data": {
      "text/plain": [
       "<Figure size 640x480 with 0 Axes>"
      ]
     },
     "metadata": {},
     "output_type": "display_data"
    },
    {
     "data": {
      "text/plain": [
       "<Figure size 640x480 with 0 Axes>"
      ]
     },
     "metadata": {},
     "output_type": "display_data"
    },
    {
     "data": {
      "text/plain": [
       "<Figure size 640x480 with 0 Axes>"
      ]
     },
     "metadata": {},
     "output_type": "display_data"
    },
    {
     "data": {
      "text/plain": [
       "<Figure size 640x480 with 0 Axes>"
      ]
     },
     "metadata": {},
     "output_type": "display_data"
    },
    {
     "data": {
      "text/plain": [
       "<Figure size 640x480 with 0 Axes>"
      ]
     },
     "metadata": {},
     "output_type": "display_data"
    },
    {
     "data": {
      "text/plain": [
       "<Figure size 640x480 with 0 Axes>"
      ]
     },
     "metadata": {},
     "output_type": "display_data"
    },
    {
     "data": {
      "text/plain": [
       "<Figure size 640x480 with 0 Axes>"
      ]
     },
     "metadata": {},
     "output_type": "display_data"
    },
    {
     "data": {
      "text/plain": [
       "<Figure size 640x480 with 0 Axes>"
      ]
     },
     "metadata": {},
     "output_type": "display_data"
    },
    {
     "data": {
      "text/plain": [
       "<Figure size 640x480 with 0 Axes>"
      ]
     },
     "metadata": {},
     "output_type": "display_data"
    },
    {
     "data": {
      "text/plain": [
       "<Figure size 640x480 with 0 Axes>"
      ]
     },
     "metadata": {},
     "output_type": "display_data"
    },
    {
     "data": {
      "text/plain": [
       "<Figure size 640x480 with 0 Axes>"
      ]
     },
     "metadata": {},
     "output_type": "display_data"
    },
    {
     "data": {
      "text/plain": [
       "<Figure size 640x480 with 0 Axes>"
      ]
     },
     "metadata": {},
     "output_type": "display_data"
    },
    {
     "data": {
      "text/plain": [
       "<Figure size 640x480 with 0 Axes>"
      ]
     },
     "metadata": {},
     "output_type": "display_data"
    },
    {
     "data": {
      "text/plain": [
       "<Figure size 640x480 with 0 Axes>"
      ]
     },
     "metadata": {},
     "output_type": "display_data"
    },
    {
     "data": {
      "text/plain": [
       "<Figure size 640x480 with 0 Axes>"
      ]
     },
     "metadata": {},
     "output_type": "display_data"
    },
    {
     "data": {
      "text/plain": [
       "<Figure size 640x480 with 0 Axes>"
      ]
     },
     "metadata": {},
     "output_type": "display_data"
    },
    {
     "data": {
      "text/plain": [
       "<Figure size 640x480 with 0 Axes>"
      ]
     },
     "metadata": {},
     "output_type": "display_data"
    },
    {
     "data": {
      "text/plain": [
       "<Figure size 640x480 with 0 Axes>"
      ]
     },
     "metadata": {},
     "output_type": "display_data"
    },
    {
     "data": {
      "text/plain": [
       "<Figure size 640x480 with 0 Axes>"
      ]
     },
     "metadata": {},
     "output_type": "display_data"
    },
    {
     "data": {
      "text/plain": [
       "<Figure size 640x480 with 0 Axes>"
      ]
     },
     "metadata": {},
     "output_type": "display_data"
    },
    {
     "data": {
      "text/plain": [
       "<Figure size 640x480 with 0 Axes>"
      ]
     },
     "metadata": {},
     "output_type": "display_data"
    },
    {
     "data": {
      "text/plain": [
       "<Figure size 640x480 with 0 Axes>"
      ]
     },
     "metadata": {},
     "output_type": "display_data"
    },
    {
     "data": {
      "text/plain": [
       "<Figure size 640x480 with 0 Axes>"
      ]
     },
     "metadata": {},
     "output_type": "display_data"
    },
    {
     "data": {
      "text/plain": [
       "<Figure size 640x480 with 0 Axes>"
      ]
     },
     "metadata": {},
     "output_type": "display_data"
    },
    {
     "data": {
      "text/plain": [
       "<Figure size 640x480 with 0 Axes>"
      ]
     },
     "metadata": {},
     "output_type": "display_data"
    },
    {
     "data": {
      "text/plain": [
       "<Figure size 640x480 with 0 Axes>"
      ]
     },
     "metadata": {},
     "output_type": "display_data"
    },
    {
     "data": {
      "text/plain": [
       "<Figure size 640x480 with 0 Axes>"
      ]
     },
     "metadata": {},
     "output_type": "display_data"
    },
    {
     "data": {
      "text/plain": [
       "<Figure size 640x480 with 0 Axes>"
      ]
     },
     "metadata": {},
     "output_type": "display_data"
    },
    {
     "data": {
      "text/plain": [
       "<Figure size 640x480 with 0 Axes>"
      ]
     },
     "metadata": {},
     "output_type": "display_data"
    },
    {
     "data": {
      "text/plain": [
       "<Figure size 640x480 with 0 Axes>"
      ]
     },
     "metadata": {},
     "output_type": "display_data"
    },
    {
     "data": {
      "text/plain": [
       "<Figure size 640x480 with 0 Axes>"
      ]
     },
     "metadata": {},
     "output_type": "display_data"
    },
    {
     "data": {
      "text/plain": [
       "<Figure size 640x480 with 0 Axes>"
      ]
     },
     "metadata": {},
     "output_type": "display_data"
    },
    {
     "data": {
      "text/plain": [
       "<Figure size 640x480 with 0 Axes>"
      ]
     },
     "metadata": {},
     "output_type": "display_data"
    },
    {
     "data": {
      "text/plain": [
       "<Figure size 640x480 with 0 Axes>"
      ]
     },
     "metadata": {},
     "output_type": "display_data"
    },
    {
     "data": {
      "text/plain": [
       "<Figure size 640x480 with 0 Axes>"
      ]
     },
     "metadata": {},
     "output_type": "display_data"
    },
    {
     "data": {
      "text/plain": [
       "<Figure size 640x480 with 0 Axes>"
      ]
     },
     "metadata": {},
     "output_type": "display_data"
    },
    {
     "data": {
      "text/plain": [
       "<Figure size 640x480 with 0 Axes>"
      ]
     },
     "metadata": {},
     "output_type": "display_data"
    },
    {
     "data": {
      "text/plain": [
       "<Figure size 640x480 with 0 Axes>"
      ]
     },
     "metadata": {},
     "output_type": "display_data"
    },
    {
     "data": {
      "text/plain": [
       "<Figure size 640x480 with 0 Axes>"
      ]
     },
     "metadata": {},
     "output_type": "display_data"
    },
    {
     "data": {
      "text/plain": [
       "<Figure size 640x480 with 0 Axes>"
      ]
     },
     "metadata": {},
     "output_type": "display_data"
    },
    {
     "data": {
      "text/plain": [
       "<Figure size 640x480 with 0 Axes>"
      ]
     },
     "metadata": {},
     "output_type": "display_data"
    },
    {
     "data": {
      "text/plain": [
       "<Figure size 640x480 with 0 Axes>"
      ]
     },
     "metadata": {},
     "output_type": "display_data"
    },
    {
     "data": {
      "text/plain": [
       "<Figure size 640x480 with 0 Axes>"
      ]
     },
     "metadata": {},
     "output_type": "display_data"
    },
    {
     "data": {
      "text/plain": [
       "<Figure size 640x480 with 0 Axes>"
      ]
     },
     "metadata": {},
     "output_type": "display_data"
    },
    {
     "data": {
      "text/plain": [
       "<Figure size 640x480 with 0 Axes>"
      ]
     },
     "metadata": {},
     "output_type": "display_data"
    },
    {
     "data": {
      "text/plain": [
       "<Figure size 640x480 with 0 Axes>"
      ]
     },
     "metadata": {},
     "output_type": "display_data"
    },
    {
     "data": {
      "text/plain": [
       "<Figure size 640x480 with 0 Axes>"
      ]
     },
     "metadata": {},
     "output_type": "display_data"
    },
    {
     "data": {
      "text/plain": [
       "<Figure size 640x480 with 0 Axes>"
      ]
     },
     "metadata": {},
     "output_type": "display_data"
    },
    {
     "data": {
      "text/plain": [
       "<Figure size 640x480 with 0 Axes>"
      ]
     },
     "metadata": {},
     "output_type": "display_data"
    },
    {
     "data": {
      "text/plain": [
       "<Figure size 640x480 with 0 Axes>"
      ]
     },
     "metadata": {},
     "output_type": "display_data"
    },
    {
     "data": {
      "text/plain": [
       "<Figure size 640x480 with 0 Axes>"
      ]
     },
     "metadata": {},
     "output_type": "display_data"
    },
    {
     "data": {
      "text/plain": [
       "<Figure size 640x480 with 0 Axes>"
      ]
     },
     "metadata": {},
     "output_type": "display_data"
    },
    {
     "data": {
      "text/plain": [
       "<Figure size 640x480 with 0 Axes>"
      ]
     },
     "metadata": {},
     "output_type": "display_data"
    },
    {
     "data": {
      "text/plain": [
       "<Figure size 640x480 with 0 Axes>"
      ]
     },
     "metadata": {},
     "output_type": "display_data"
    },
    {
     "data": {
      "text/plain": [
       "<Figure size 640x480 with 0 Axes>"
      ]
     },
     "metadata": {},
     "output_type": "display_data"
    },
    {
     "data": {
      "text/plain": [
       "<Figure size 640x480 with 0 Axes>"
      ]
     },
     "metadata": {},
     "output_type": "display_data"
    },
    {
     "data": {
      "text/plain": [
       "<Figure size 640x480 with 0 Axes>"
      ]
     },
     "metadata": {},
     "output_type": "display_data"
    },
    {
     "data": {
      "text/plain": [
       "<Figure size 640x480 with 0 Axes>"
      ]
     },
     "metadata": {},
     "output_type": "display_data"
    },
    {
     "data": {
      "text/plain": [
       "<Figure size 640x480 with 0 Axes>"
      ]
     },
     "metadata": {},
     "output_type": "display_data"
    },
    {
     "data": {
      "text/plain": [
       "<Figure size 640x480 with 0 Axes>"
      ]
     },
     "metadata": {},
     "output_type": "display_data"
    },
    {
     "data": {
      "text/plain": [
       "<Figure size 640x480 with 0 Axes>"
      ]
     },
     "metadata": {},
     "output_type": "display_data"
    },
    {
     "data": {
      "text/plain": [
       "<Figure size 640x480 with 0 Axes>"
      ]
     },
     "metadata": {},
     "output_type": "display_data"
    },
    {
     "data": {
      "text/plain": [
       "<Figure size 640x480 with 0 Axes>"
      ]
     },
     "metadata": {},
     "output_type": "display_data"
    },
    {
     "data": {
      "text/plain": [
       "<Figure size 640x480 with 0 Axes>"
      ]
     },
     "metadata": {},
     "output_type": "display_data"
    },
    {
     "data": {
      "text/plain": [
       "<Figure size 640x480 with 0 Axes>"
      ]
     },
     "metadata": {},
     "output_type": "display_data"
    },
    {
     "data": {
      "text/plain": [
       "<Figure size 640x480 with 0 Axes>"
      ]
     },
     "metadata": {},
     "output_type": "display_data"
    },
    {
     "data": {
      "text/plain": [
       "<Figure size 640x480 with 0 Axes>"
      ]
     },
     "metadata": {},
     "output_type": "display_data"
    },
    {
     "data": {
      "text/plain": [
       "<Figure size 640x480 with 0 Axes>"
      ]
     },
     "metadata": {},
     "output_type": "display_data"
    },
    {
     "data": {
      "text/plain": [
       "<Figure size 640x480 with 0 Axes>"
      ]
     },
     "metadata": {},
     "output_type": "display_data"
    },
    {
     "data": {
      "text/plain": [
       "<Figure size 640x480 with 0 Axes>"
      ]
     },
     "metadata": {},
     "output_type": "display_data"
    },
    {
     "data": {
      "text/plain": [
       "<Figure size 640x480 with 0 Axes>"
      ]
     },
     "metadata": {},
     "output_type": "display_data"
    },
    {
     "data": {
      "text/plain": [
       "<Figure size 640x480 with 0 Axes>"
      ]
     },
     "metadata": {},
     "output_type": "display_data"
    },
    {
     "data": {
      "text/plain": [
       "<Figure size 640x480 with 0 Axes>"
      ]
     },
     "metadata": {},
     "output_type": "display_data"
    },
    {
     "data": {
      "text/plain": [
       "<Figure size 640x480 with 0 Axes>"
      ]
     },
     "metadata": {},
     "output_type": "display_data"
    },
    {
     "data": {
      "text/plain": [
       "<Figure size 640x480 with 0 Axes>"
      ]
     },
     "metadata": {},
     "output_type": "display_data"
    },
    {
     "data": {
      "text/plain": [
       "<Figure size 640x480 with 0 Axes>"
      ]
     },
     "metadata": {},
     "output_type": "display_data"
    },
    {
     "data": {
      "text/plain": [
       "<Figure size 640x480 with 0 Axes>"
      ]
     },
     "metadata": {},
     "output_type": "display_data"
    },
    {
     "data": {
      "text/plain": [
       "<Figure size 640x480 with 0 Axes>"
      ]
     },
     "metadata": {},
     "output_type": "display_data"
    },
    {
     "data": {
      "text/plain": [
       "<Figure size 640x480 with 0 Axes>"
      ]
     },
     "metadata": {},
     "output_type": "display_data"
    },
    {
     "data": {
      "text/plain": [
       "<Figure size 640x480 with 0 Axes>"
      ]
     },
     "metadata": {},
     "output_type": "display_data"
    },
    {
     "data": {
      "text/plain": [
       "<Figure size 640x480 with 0 Axes>"
      ]
     },
     "metadata": {},
     "output_type": "display_data"
    },
    {
     "data": {
      "text/plain": [
       "<Figure size 640x480 with 0 Axes>"
      ]
     },
     "metadata": {},
     "output_type": "display_data"
    },
    {
     "data": {
      "text/plain": [
       "<Figure size 640x480 with 0 Axes>"
      ]
     },
     "metadata": {},
     "output_type": "display_data"
    },
    {
     "data": {
      "text/plain": [
       "<Figure size 640x480 with 0 Axes>"
      ]
     },
     "metadata": {},
     "output_type": "display_data"
    },
    {
     "data": {
      "text/plain": [
       "<Figure size 640x480 with 0 Axes>"
      ]
     },
     "metadata": {},
     "output_type": "display_data"
    },
    {
     "data": {
      "text/plain": [
       "<Figure size 640x480 with 0 Axes>"
      ]
     },
     "metadata": {},
     "output_type": "display_data"
    },
    {
     "data": {
      "text/plain": [
       "<Figure size 640x480 with 0 Axes>"
      ]
     },
     "metadata": {},
     "output_type": "display_data"
    },
    {
     "data": {
      "text/plain": [
       "<Figure size 640x480 with 0 Axes>"
      ]
     },
     "metadata": {},
     "output_type": "display_data"
    },
    {
     "data": {
      "text/plain": [
       "<Figure size 640x480 with 0 Axes>"
      ]
     },
     "metadata": {},
     "output_type": "display_data"
    },
    {
     "data": {
      "text/plain": [
       "<Figure size 640x480 with 0 Axes>"
      ]
     },
     "metadata": {},
     "output_type": "display_data"
    },
    {
     "data": {
      "text/plain": [
       "<Figure size 640x480 with 0 Axes>"
      ]
     },
     "metadata": {},
     "output_type": "display_data"
    },
    {
     "data": {
      "text/plain": [
       "<Figure size 640x480 with 0 Axes>"
      ]
     },
     "metadata": {},
     "output_type": "display_data"
    },
    {
     "data": {
      "text/plain": [
       "<Figure size 640x480 with 0 Axes>"
      ]
     },
     "metadata": {},
     "output_type": "display_data"
    },
    {
     "data": {
      "text/plain": [
       "<Figure size 640x480 with 0 Axes>"
      ]
     },
     "metadata": {},
     "output_type": "display_data"
    },
    {
     "data": {
      "text/plain": [
       "<Figure size 640x480 with 0 Axes>"
      ]
     },
     "metadata": {},
     "output_type": "display_data"
    },
    {
     "data": {
      "text/plain": [
       "<Figure size 640x480 with 0 Axes>"
      ]
     },
     "metadata": {},
     "output_type": "display_data"
    },
    {
     "data": {
      "text/plain": [
       "<Figure size 640x480 with 0 Axes>"
      ]
     },
     "metadata": {},
     "output_type": "display_data"
    },
    {
     "data": {
      "text/plain": [
       "<Figure size 640x480 with 0 Axes>"
      ]
     },
     "metadata": {},
     "output_type": "display_data"
    },
    {
     "data": {
      "text/plain": [
       "<Figure size 640x480 with 0 Axes>"
      ]
     },
     "metadata": {},
     "output_type": "display_data"
    },
    {
     "data": {
      "text/plain": [
       "<Figure size 640x480 with 0 Axes>"
      ]
     },
     "metadata": {},
     "output_type": "display_data"
    },
    {
     "data": {
      "text/plain": [
       "<Figure size 640x480 with 0 Axes>"
      ]
     },
     "metadata": {},
     "output_type": "display_data"
    },
    {
     "data": {
      "text/plain": [
       "<Figure size 640x480 with 0 Axes>"
      ]
     },
     "metadata": {},
     "output_type": "display_data"
    },
    {
     "data": {
      "text/plain": [
       "<Figure size 640x480 with 0 Axes>"
      ]
     },
     "metadata": {},
     "output_type": "display_data"
    },
    {
     "data": {
      "text/plain": [
       "<Figure size 640x480 with 0 Axes>"
      ]
     },
     "metadata": {},
     "output_type": "display_data"
    },
    {
     "data": {
      "text/plain": [
       "<Figure size 640x480 with 0 Axes>"
      ]
     },
     "metadata": {},
     "output_type": "display_data"
    },
    {
     "data": {
      "text/plain": [
       "<Figure size 640x480 with 0 Axes>"
      ]
     },
     "metadata": {},
     "output_type": "display_data"
    },
    {
     "data": {
      "text/plain": [
       "<Figure size 640x480 with 0 Axes>"
      ]
     },
     "metadata": {},
     "output_type": "display_data"
    },
    {
     "data": {
      "text/plain": [
       "<Figure size 640x480 with 0 Axes>"
      ]
     },
     "metadata": {},
     "output_type": "display_data"
    },
    {
     "data": {
      "text/plain": [
       "<Figure size 640x480 with 0 Axes>"
      ]
     },
     "metadata": {},
     "output_type": "display_data"
    },
    {
     "data": {
      "text/plain": [
       "<Figure size 640x480 with 0 Axes>"
      ]
     },
     "metadata": {},
     "output_type": "display_data"
    },
    {
     "data": {
      "text/plain": [
       "<Figure size 640x480 with 0 Axes>"
      ]
     },
     "metadata": {},
     "output_type": "display_data"
    },
    {
     "data": {
      "text/plain": [
       "<Figure size 640x480 with 0 Axes>"
      ]
     },
     "metadata": {},
     "output_type": "display_data"
    },
    {
     "data": {
      "text/plain": [
       "<Figure size 640x480 with 0 Axes>"
      ]
     },
     "metadata": {},
     "output_type": "display_data"
    },
    {
     "data": {
      "text/plain": [
       "<Figure size 640x480 with 0 Axes>"
      ]
     },
     "metadata": {},
     "output_type": "display_data"
    },
    {
     "data": {
      "text/plain": [
       "<Figure size 640x480 with 0 Axes>"
      ]
     },
     "metadata": {},
     "output_type": "display_data"
    },
    {
     "data": {
      "text/plain": [
       "<Figure size 640x480 with 0 Axes>"
      ]
     },
     "metadata": {},
     "output_type": "display_data"
    },
    {
     "data": {
      "text/plain": [
       "<Figure size 640x480 with 0 Axes>"
      ]
     },
     "metadata": {},
     "output_type": "display_data"
    },
    {
     "data": {
      "text/plain": [
       "<Figure size 640x480 with 0 Axes>"
      ]
     },
     "metadata": {},
     "output_type": "display_data"
    },
    {
     "data": {
      "text/plain": [
       "<Figure size 640x480 with 0 Axes>"
      ]
     },
     "metadata": {},
     "output_type": "display_data"
    },
    {
     "data": {
      "text/plain": [
       "<Figure size 640x480 with 0 Axes>"
      ]
     },
     "metadata": {},
     "output_type": "display_data"
    },
    {
     "data": {
      "text/plain": [
       "<Figure size 640x480 with 0 Axes>"
      ]
     },
     "metadata": {},
     "output_type": "display_data"
    },
    {
     "data": {
      "text/plain": [
       "<Figure size 640x480 with 0 Axes>"
      ]
     },
     "metadata": {},
     "output_type": "display_data"
    },
    {
     "data": {
      "text/plain": [
       "<Figure size 640x480 with 0 Axes>"
      ]
     },
     "metadata": {},
     "output_type": "display_data"
    },
    {
     "data": {
      "text/plain": [
       "<Figure size 640x480 with 0 Axes>"
      ]
     },
     "metadata": {},
     "output_type": "display_data"
    },
    {
     "data": {
      "text/plain": [
       "<Figure size 640x480 with 0 Axes>"
      ]
     },
     "metadata": {},
     "output_type": "display_data"
    },
    {
     "data": {
      "text/plain": [
       "<Figure size 640x480 with 0 Axes>"
      ]
     },
     "metadata": {},
     "output_type": "display_data"
    },
    {
     "data": {
      "text/plain": [
       "<Figure size 640x480 with 0 Axes>"
      ]
     },
     "metadata": {},
     "output_type": "display_data"
    },
    {
     "data": {
      "text/plain": [
       "<Figure size 640x480 with 0 Axes>"
      ]
     },
     "metadata": {},
     "output_type": "display_data"
    },
    {
     "data": {
      "text/plain": [
       "<Figure size 640x480 with 0 Axes>"
      ]
     },
     "metadata": {},
     "output_type": "display_data"
    },
    {
     "data": {
      "text/plain": [
       "<Figure size 640x480 with 0 Axes>"
      ]
     },
     "metadata": {},
     "output_type": "display_data"
    },
    {
     "data": {
      "text/plain": [
       "<Figure size 640x480 with 0 Axes>"
      ]
     },
     "metadata": {},
     "output_type": "display_data"
    },
    {
     "data": {
      "text/plain": [
       "<Figure size 640x480 with 0 Axes>"
      ]
     },
     "metadata": {},
     "output_type": "display_data"
    },
    {
     "data": {
      "text/plain": [
       "<Figure size 640x480 with 0 Axes>"
      ]
     },
     "metadata": {},
     "output_type": "display_data"
    },
    {
     "data": {
      "text/plain": [
       "<Figure size 640x480 with 0 Axes>"
      ]
     },
     "metadata": {},
     "output_type": "display_data"
    },
    {
     "data": {
      "text/plain": [
       "<Figure size 640x480 with 0 Axes>"
      ]
     },
     "metadata": {},
     "output_type": "display_data"
    },
    {
     "data": {
      "text/plain": [
       "<Figure size 640x480 with 0 Axes>"
      ]
     },
     "metadata": {},
     "output_type": "display_data"
    },
    {
     "data": {
      "text/plain": [
       "<Figure size 640x480 with 0 Axes>"
      ]
     },
     "metadata": {},
     "output_type": "display_data"
    },
    {
     "data": {
      "text/plain": [
       "<Figure size 640x480 with 0 Axes>"
      ]
     },
     "metadata": {},
     "output_type": "display_data"
    },
    {
     "data": {
      "text/plain": [
       "<Figure size 640x480 with 0 Axes>"
      ]
     },
     "metadata": {},
     "output_type": "display_data"
    },
    {
     "data": {
      "text/plain": [
       "<Figure size 640x480 with 0 Axes>"
      ]
     },
     "metadata": {},
     "output_type": "display_data"
    },
    {
     "data": {
      "text/plain": [
       "<Figure size 640x480 with 0 Axes>"
      ]
     },
     "metadata": {},
     "output_type": "display_data"
    },
    {
     "data": {
      "text/plain": [
       "<Figure size 640x480 with 0 Axes>"
      ]
     },
     "metadata": {},
     "output_type": "display_data"
    },
    {
     "data": {
      "text/plain": [
       "<Figure size 640x480 with 0 Axes>"
      ]
     },
     "metadata": {},
     "output_type": "display_data"
    },
    {
     "data": {
      "text/plain": [
       "<Figure size 640x480 with 0 Axes>"
      ]
     },
     "metadata": {},
     "output_type": "display_data"
    },
    {
     "data": {
      "text/plain": [
       "<Figure size 640x480 with 0 Axes>"
      ]
     },
     "metadata": {},
     "output_type": "display_data"
    },
    {
     "data": {
      "text/plain": [
       "<Figure size 640x480 with 0 Axes>"
      ]
     },
     "metadata": {},
     "output_type": "display_data"
    },
    {
     "data": {
      "text/plain": [
       "<Figure size 640x480 with 0 Axes>"
      ]
     },
     "metadata": {},
     "output_type": "display_data"
    },
    {
     "data": {
      "text/plain": [
       "<Figure size 640x480 with 0 Axes>"
      ]
     },
     "metadata": {},
     "output_type": "display_data"
    },
    {
     "data": {
      "text/plain": [
       "<Figure size 640x480 with 0 Axes>"
      ]
     },
     "metadata": {},
     "output_type": "display_data"
    },
    {
     "data": {
      "text/plain": [
       "<Figure size 640x480 with 0 Axes>"
      ]
     },
     "metadata": {},
     "output_type": "display_data"
    },
    {
     "data": {
      "text/plain": [
       "<Figure size 640x480 with 0 Axes>"
      ]
     },
     "metadata": {},
     "output_type": "display_data"
    },
    {
     "data": {
      "text/plain": [
       "<Figure size 640x480 with 0 Axes>"
      ]
     },
     "metadata": {},
     "output_type": "display_data"
    },
    {
     "data": {
      "text/plain": [
       "<Figure size 640x480 with 0 Axes>"
      ]
     },
     "metadata": {},
     "output_type": "display_data"
    },
    {
     "data": {
      "text/plain": [
       "<Figure size 640x480 with 0 Axes>"
      ]
     },
     "metadata": {},
     "output_type": "display_data"
    },
    {
     "data": {
      "text/plain": [
       "<Figure size 640x480 with 0 Axes>"
      ]
     },
     "metadata": {},
     "output_type": "display_data"
    },
    {
     "data": {
      "text/plain": [
       "<Figure size 640x480 with 0 Axes>"
      ]
     },
     "metadata": {},
     "output_type": "display_data"
    },
    {
     "data": {
      "text/plain": [
       "<Figure size 640x480 with 0 Axes>"
      ]
     },
     "metadata": {},
     "output_type": "display_data"
    },
    {
     "data": {
      "text/plain": [
       "<Figure size 640x480 with 0 Axes>"
      ]
     },
     "metadata": {},
     "output_type": "display_data"
    },
    {
     "data": {
      "text/plain": [
       "<Figure size 640x480 with 0 Axes>"
      ]
     },
     "metadata": {},
     "output_type": "display_data"
    },
    {
     "data": {
      "text/plain": [
       "<Figure size 640x480 with 0 Axes>"
      ]
     },
     "metadata": {},
     "output_type": "display_data"
    },
    {
     "data": {
      "text/plain": [
       "<Figure size 640x480 with 0 Axes>"
      ]
     },
     "metadata": {},
     "output_type": "display_data"
    },
    {
     "data": {
      "text/plain": [
       "<Figure size 640x480 with 0 Axes>"
      ]
     },
     "metadata": {},
     "output_type": "display_data"
    },
    {
     "data": {
      "text/plain": [
       "<Figure size 640x480 with 0 Axes>"
      ]
     },
     "metadata": {},
     "output_type": "display_data"
    },
    {
     "data": {
      "text/plain": [
       "<Figure size 640x480 with 0 Axes>"
      ]
     },
     "metadata": {},
     "output_type": "display_data"
    },
    {
     "data": {
      "text/plain": [
       "<Figure size 640x480 with 0 Axes>"
      ]
     },
     "metadata": {},
     "output_type": "display_data"
    },
    {
     "data": {
      "text/plain": [
       "<Figure size 640x480 with 0 Axes>"
      ]
     },
     "metadata": {},
     "output_type": "display_data"
    },
    {
     "data": {
      "text/plain": [
       "<Figure size 640x480 with 0 Axes>"
      ]
     },
     "metadata": {},
     "output_type": "display_data"
    },
    {
     "data": {
      "text/plain": [
       "<Figure size 640x480 with 0 Axes>"
      ]
     },
     "metadata": {},
     "output_type": "display_data"
    },
    {
     "data": {
      "text/plain": [
       "<Figure size 640x480 with 0 Axes>"
      ]
     },
     "metadata": {},
     "output_type": "display_data"
    },
    {
     "data": {
      "text/plain": [
       "<Figure size 640x480 with 0 Axes>"
      ]
     },
     "metadata": {},
     "output_type": "display_data"
    },
    {
     "data": {
      "text/plain": [
       "<Figure size 640x480 with 0 Axes>"
      ]
     },
     "metadata": {},
     "output_type": "display_data"
    },
    {
     "data": {
      "text/plain": [
       "<Figure size 640x480 with 0 Axes>"
      ]
     },
     "metadata": {},
     "output_type": "display_data"
    },
    {
     "data": {
      "text/plain": [
       "<Figure size 640x480 with 0 Axes>"
      ]
     },
     "metadata": {},
     "output_type": "display_data"
    },
    {
     "data": {
      "text/plain": [
       "<Figure size 640x480 with 0 Axes>"
      ]
     },
     "metadata": {},
     "output_type": "display_data"
    },
    {
     "data": {
      "text/plain": [
       "<Figure size 640x480 with 0 Axes>"
      ]
     },
     "metadata": {},
     "output_type": "display_data"
    },
    {
     "data": {
      "text/plain": [
       "<Figure size 640x480 with 0 Axes>"
      ]
     },
     "metadata": {},
     "output_type": "display_data"
    },
    {
     "data": {
      "text/plain": [
       "<Figure size 640x480 with 0 Axes>"
      ]
     },
     "metadata": {},
     "output_type": "display_data"
    },
    {
     "data": {
      "text/plain": [
       "<Figure size 640x480 with 0 Axes>"
      ]
     },
     "metadata": {},
     "output_type": "display_data"
    },
    {
     "data": {
      "text/plain": [
       "<Figure size 640x480 with 0 Axes>"
      ]
     },
     "metadata": {},
     "output_type": "display_data"
    },
    {
     "data": {
      "text/plain": [
       "<Figure size 640x480 with 0 Axes>"
      ]
     },
     "metadata": {},
     "output_type": "display_data"
    },
    {
     "data": {
      "text/plain": [
       "<Figure size 640x480 with 0 Axes>"
      ]
     },
     "metadata": {},
     "output_type": "display_data"
    },
    {
     "data": {
      "text/plain": [
       "<Figure size 640x480 with 0 Axes>"
      ]
     },
     "metadata": {},
     "output_type": "display_data"
    },
    {
     "data": {
      "text/plain": [
       "<Figure size 640x480 with 0 Axes>"
      ]
     },
     "metadata": {},
     "output_type": "display_data"
    },
    {
     "data": {
      "text/plain": [
       "<Figure size 640x480 with 0 Axes>"
      ]
     },
     "metadata": {},
     "output_type": "display_data"
    },
    {
     "data": {
      "text/plain": [
       "<Figure size 640x480 with 0 Axes>"
      ]
     },
     "metadata": {},
     "output_type": "display_data"
    },
    {
     "data": {
      "text/plain": [
       "<Figure size 640x480 with 0 Axes>"
      ]
     },
     "metadata": {},
     "output_type": "display_data"
    },
    {
     "data": {
      "text/plain": [
       "<Figure size 640x480 with 0 Axes>"
      ]
     },
     "metadata": {},
     "output_type": "display_data"
    },
    {
     "data": {
      "text/plain": [
       "<Figure size 640x480 with 0 Axes>"
      ]
     },
     "metadata": {},
     "output_type": "display_data"
    },
    {
     "data": {
      "text/plain": [
       "<Figure size 640x480 with 0 Axes>"
      ]
     },
     "metadata": {},
     "output_type": "display_data"
    },
    {
     "data": {
      "text/plain": [
       "<Figure size 640x480 with 0 Axes>"
      ]
     },
     "metadata": {},
     "output_type": "display_data"
    },
    {
     "data": {
      "text/plain": [
       "<Figure size 640x480 with 0 Axes>"
      ]
     },
     "metadata": {},
     "output_type": "display_data"
    },
    {
     "data": {
      "text/plain": [
       "<Figure size 640x480 with 0 Axes>"
      ]
     },
     "metadata": {},
     "output_type": "display_data"
    },
    {
     "data": {
      "text/plain": [
       "<Figure size 640x480 with 0 Axes>"
      ]
     },
     "metadata": {},
     "output_type": "display_data"
    },
    {
     "data": {
      "text/plain": [
       "<Figure size 640x480 with 0 Axes>"
      ]
     },
     "metadata": {},
     "output_type": "display_data"
    },
    {
     "data": {
      "text/plain": [
       "<Figure size 640x480 with 0 Axes>"
      ]
     },
     "metadata": {},
     "output_type": "display_data"
    },
    {
     "data": {
      "text/plain": [
       "<Figure size 640x480 with 0 Axes>"
      ]
     },
     "metadata": {},
     "output_type": "display_data"
    },
    {
     "data": {
      "text/plain": [
       "<Figure size 640x480 with 0 Axes>"
      ]
     },
     "metadata": {},
     "output_type": "display_data"
    },
    {
     "data": {
      "text/plain": [
       "<Figure size 640x480 with 0 Axes>"
      ]
     },
     "metadata": {},
     "output_type": "display_data"
    },
    {
     "data": {
      "text/plain": [
       "<Figure size 640x480 with 0 Axes>"
      ]
     },
     "metadata": {},
     "output_type": "display_data"
    },
    {
     "data": {
      "text/plain": [
       "<Figure size 640x480 with 0 Axes>"
      ]
     },
     "metadata": {},
     "output_type": "display_data"
    },
    {
     "data": {
      "text/plain": [
       "<Figure size 640x480 with 0 Axes>"
      ]
     },
     "metadata": {},
     "output_type": "display_data"
    },
    {
     "data": {
      "text/plain": [
       "<Figure size 640x480 with 0 Axes>"
      ]
     },
     "metadata": {},
     "output_type": "display_data"
    },
    {
     "data": {
      "text/plain": [
       "<Figure size 640x480 with 0 Axes>"
      ]
     },
     "metadata": {},
     "output_type": "display_data"
    },
    {
     "data": {
      "text/plain": [
       "<Figure size 640x480 with 0 Axes>"
      ]
     },
     "metadata": {},
     "output_type": "display_data"
    },
    {
     "data": {
      "text/plain": [
       "<Figure size 640x480 with 0 Axes>"
      ]
     },
     "metadata": {},
     "output_type": "display_data"
    },
    {
     "data": {
      "text/plain": [
       "<Figure size 640x480 with 0 Axes>"
      ]
     },
     "metadata": {},
     "output_type": "display_data"
    },
    {
     "data": {
      "text/plain": [
       "<Figure size 640x480 with 0 Axes>"
      ]
     },
     "metadata": {},
     "output_type": "display_data"
    },
    {
     "data": {
      "text/plain": [
       "<Figure size 640x480 with 0 Axes>"
      ]
     },
     "metadata": {},
     "output_type": "display_data"
    },
    {
     "data": {
      "text/plain": [
       "<Figure size 640x480 with 0 Axes>"
      ]
     },
     "metadata": {},
     "output_type": "display_data"
    },
    {
     "data": {
      "text/plain": [
       "<Figure size 640x480 with 0 Axes>"
      ]
     },
     "metadata": {},
     "output_type": "display_data"
    },
    {
     "data": {
      "text/plain": [
       "<Figure size 640x480 with 0 Axes>"
      ]
     },
     "metadata": {},
     "output_type": "display_data"
    },
    {
     "data": {
      "text/plain": [
       "<Figure size 640x480 with 0 Axes>"
      ]
     },
     "metadata": {},
     "output_type": "display_data"
    },
    {
     "data": {
      "text/plain": [
       "<Figure size 640x480 with 0 Axes>"
      ]
     },
     "metadata": {},
     "output_type": "display_data"
    },
    {
     "data": {
      "text/plain": [
       "<Figure size 640x480 with 0 Axes>"
      ]
     },
     "metadata": {},
     "output_type": "display_data"
    },
    {
     "data": {
      "text/plain": [
       "<Figure size 640x480 with 0 Axes>"
      ]
     },
     "metadata": {},
     "output_type": "display_data"
    },
    {
     "data": {
      "text/plain": [
       "<Figure size 640x480 with 0 Axes>"
      ]
     },
     "metadata": {},
     "output_type": "display_data"
    },
    {
     "data": {
      "text/plain": [
       "<Figure size 640x480 with 0 Axes>"
      ]
     },
     "metadata": {},
     "output_type": "display_data"
    },
    {
     "data": {
      "text/plain": [
       "<Figure size 640x480 with 0 Axes>"
      ]
     },
     "metadata": {},
     "output_type": "display_data"
    },
    {
     "data": {
      "text/plain": [
       "<Figure size 640x480 with 0 Axes>"
      ]
     },
     "metadata": {},
     "output_type": "display_data"
    },
    {
     "data": {
      "text/plain": [
       "<Figure size 640x480 with 0 Axes>"
      ]
     },
     "metadata": {},
     "output_type": "display_data"
    },
    {
     "data": {
      "text/plain": [
       "<Figure size 640x480 with 0 Axes>"
      ]
     },
     "metadata": {},
     "output_type": "display_data"
    },
    {
     "data": {
      "text/plain": [
       "<Figure size 640x480 with 0 Axes>"
      ]
     },
     "metadata": {},
     "output_type": "display_data"
    },
    {
     "data": {
      "text/plain": [
       "<Figure size 640x480 with 0 Axes>"
      ]
     },
     "metadata": {},
     "output_type": "display_data"
    },
    {
     "data": {
      "text/plain": [
       "<Figure size 640x480 with 0 Axes>"
      ]
     },
     "metadata": {},
     "output_type": "display_data"
    },
    {
     "data": {
      "text/plain": [
       "<Figure size 640x480 with 0 Axes>"
      ]
     },
     "metadata": {},
     "output_type": "display_data"
    },
    {
     "data": {
      "text/plain": [
       "<Figure size 640x480 with 0 Axes>"
      ]
     },
     "metadata": {},
     "output_type": "display_data"
    },
    {
     "data": {
      "text/plain": [
       "<Figure size 640x480 with 0 Axes>"
      ]
     },
     "metadata": {},
     "output_type": "display_data"
    },
    {
     "data": {
      "text/plain": [
       "<Figure size 640x480 with 0 Axes>"
      ]
     },
     "metadata": {},
     "output_type": "display_data"
    },
    {
     "data": {
      "text/plain": [
       "<Figure size 640x480 with 0 Axes>"
      ]
     },
     "metadata": {},
     "output_type": "display_data"
    },
    {
     "data": {
      "text/plain": [
       "<Figure size 640x480 with 0 Axes>"
      ]
     },
     "metadata": {},
     "output_type": "display_data"
    },
    {
     "data": {
      "text/plain": [
       "<Figure size 640x480 with 0 Axes>"
      ]
     },
     "metadata": {},
     "output_type": "display_data"
    },
    {
     "data": {
      "text/plain": [
       "<Figure size 640x480 with 0 Axes>"
      ]
     },
     "metadata": {},
     "output_type": "display_data"
    },
    {
     "data": {
      "text/plain": [
       "<Figure size 640x480 with 0 Axes>"
      ]
     },
     "metadata": {},
     "output_type": "display_data"
    },
    {
     "data": {
      "text/plain": [
       "<Figure size 640x480 with 0 Axes>"
      ]
     },
     "metadata": {},
     "output_type": "display_data"
    },
    {
     "data": {
      "text/plain": [
       "<Figure size 640x480 with 0 Axes>"
      ]
     },
     "metadata": {},
     "output_type": "display_data"
    },
    {
     "data": {
      "text/plain": [
       "<Figure size 640x480 with 0 Axes>"
      ]
     },
     "metadata": {},
     "output_type": "display_data"
    },
    {
     "data": {
      "text/plain": [
       "<Figure size 640x480 with 0 Axes>"
      ]
     },
     "metadata": {},
     "output_type": "display_data"
    },
    {
     "data": {
      "text/plain": [
       "<Figure size 640x480 with 0 Axes>"
      ]
     },
     "metadata": {},
     "output_type": "display_data"
    },
    {
     "data": {
      "text/plain": [
       "<Figure size 640x480 with 0 Axes>"
      ]
     },
     "metadata": {},
     "output_type": "display_data"
    },
    {
     "data": {
      "text/plain": [
       "<Figure size 640x480 with 0 Axes>"
      ]
     },
     "metadata": {},
     "output_type": "display_data"
    },
    {
     "data": {
      "text/plain": [
       "<Figure size 640x480 with 0 Axes>"
      ]
     },
     "metadata": {},
     "output_type": "display_data"
    },
    {
     "data": {
      "text/plain": [
       "<Figure size 640x480 with 0 Axes>"
      ]
     },
     "metadata": {},
     "output_type": "display_data"
    },
    {
     "data": {
      "text/plain": [
       "<Figure size 640x480 with 0 Axes>"
      ]
     },
     "metadata": {},
     "output_type": "display_data"
    },
    {
     "data": {
      "text/plain": [
       "<Figure size 640x480 with 0 Axes>"
      ]
     },
     "metadata": {},
     "output_type": "display_data"
    },
    {
     "data": {
      "text/plain": [
       "<Figure size 640x480 with 0 Axes>"
      ]
     },
     "metadata": {},
     "output_type": "display_data"
    },
    {
     "data": {
      "text/plain": [
       "<Figure size 640x480 with 0 Axes>"
      ]
     },
     "metadata": {},
     "output_type": "display_data"
    },
    {
     "data": {
      "text/plain": [
       "<Figure size 640x480 with 0 Axes>"
      ]
     },
     "metadata": {},
     "output_type": "display_data"
    },
    {
     "data": {
      "text/plain": [
       "<Figure size 640x480 with 0 Axes>"
      ]
     },
     "metadata": {},
     "output_type": "display_data"
    },
    {
     "data": {
      "text/plain": [
       "<Figure size 640x480 with 0 Axes>"
      ]
     },
     "metadata": {},
     "output_type": "display_data"
    },
    {
     "data": {
      "text/plain": [
       "<Figure size 640x480 with 0 Axes>"
      ]
     },
     "metadata": {},
     "output_type": "display_data"
    },
    {
     "data": {
      "text/plain": [
       "<Figure size 640x480 with 0 Axes>"
      ]
     },
     "metadata": {},
     "output_type": "display_data"
    },
    {
     "data": {
      "text/plain": [
       "<Figure size 640x480 with 0 Axes>"
      ]
     },
     "metadata": {},
     "output_type": "display_data"
    },
    {
     "data": {
      "text/plain": [
       "<Figure size 640x480 with 0 Axes>"
      ]
     },
     "metadata": {},
     "output_type": "display_data"
    },
    {
     "data": {
      "text/plain": [
       "<Figure size 640x480 with 0 Axes>"
      ]
     },
     "metadata": {},
     "output_type": "display_data"
    },
    {
     "data": {
      "text/plain": [
       "<Figure size 640x480 with 0 Axes>"
      ]
     },
     "metadata": {},
     "output_type": "display_data"
    },
    {
     "data": {
      "text/plain": [
       "<Figure size 640x480 with 0 Axes>"
      ]
     },
     "metadata": {},
     "output_type": "display_data"
    },
    {
     "data": {
      "text/plain": [
       "<Figure size 640x480 with 0 Axes>"
      ]
     },
     "metadata": {},
     "output_type": "display_data"
    },
    {
     "data": {
      "text/plain": [
       "<Figure size 640x480 with 0 Axes>"
      ]
     },
     "metadata": {},
     "output_type": "display_data"
    },
    {
     "data": {
      "text/plain": [
       "<Figure size 640x480 with 0 Axes>"
      ]
     },
     "metadata": {},
     "output_type": "display_data"
    },
    {
     "data": {
      "text/plain": [
       "<Figure size 640x480 with 0 Axes>"
      ]
     },
     "metadata": {},
     "output_type": "display_data"
    },
    {
     "data": {
      "text/plain": [
       "<Figure size 640x480 with 0 Axes>"
      ]
     },
     "metadata": {},
     "output_type": "display_data"
    },
    {
     "data": {
      "text/plain": [
       "<Figure size 640x480 with 0 Axes>"
      ]
     },
     "metadata": {},
     "output_type": "display_data"
    },
    {
     "data": {
      "text/plain": [
       "<Figure size 640x480 with 0 Axes>"
      ]
     },
     "metadata": {},
     "output_type": "display_data"
    },
    {
     "data": {
      "text/plain": [
       "<Figure size 640x480 with 0 Axes>"
      ]
     },
     "metadata": {},
     "output_type": "display_data"
    },
    {
     "data": {
      "text/plain": [
       "<Figure size 640x480 with 0 Axes>"
      ]
     },
     "metadata": {},
     "output_type": "display_data"
    },
    {
     "data": {
      "text/plain": [
       "<Figure size 640x480 with 0 Axes>"
      ]
     },
     "metadata": {},
     "output_type": "display_data"
    },
    {
     "data": {
      "text/plain": [
       "<Figure size 640x480 with 0 Axes>"
      ]
     },
     "metadata": {},
     "output_type": "display_data"
    },
    {
     "data": {
      "text/plain": [
       "<Figure size 640x480 with 0 Axes>"
      ]
     },
     "metadata": {},
     "output_type": "display_data"
    },
    {
     "data": {
      "text/plain": [
       "<Figure size 640x480 with 0 Axes>"
      ]
     },
     "metadata": {},
     "output_type": "display_data"
    },
    {
     "data": {
      "text/plain": [
       "<Figure size 640x480 with 0 Axes>"
      ]
     },
     "metadata": {},
     "output_type": "display_data"
    },
    {
     "data": {
      "text/plain": [
       "<Figure size 640x480 with 0 Axes>"
      ]
     },
     "metadata": {},
     "output_type": "display_data"
    },
    {
     "data": {
      "text/plain": [
       "<Figure size 640x480 with 0 Axes>"
      ]
     },
     "metadata": {},
     "output_type": "display_data"
    },
    {
     "data": {
      "text/plain": [
       "<Figure size 640x480 with 0 Axes>"
      ]
     },
     "metadata": {},
     "output_type": "display_data"
    },
    {
     "data": {
      "text/plain": [
       "<Figure size 640x480 with 0 Axes>"
      ]
     },
     "metadata": {},
     "output_type": "display_data"
    },
    {
     "data": {
      "text/plain": [
       "<Figure size 640x480 with 0 Axes>"
      ]
     },
     "metadata": {},
     "output_type": "display_data"
    },
    {
     "data": {
      "text/plain": [
       "<Figure size 640x480 with 0 Axes>"
      ]
     },
     "metadata": {},
     "output_type": "display_data"
    },
    {
     "data": {
      "text/plain": [
       "<Figure size 640x480 with 0 Axes>"
      ]
     },
     "metadata": {},
     "output_type": "display_data"
    },
    {
     "data": {
      "text/plain": [
       "<Figure size 640x480 with 0 Axes>"
      ]
     },
     "metadata": {},
     "output_type": "display_data"
    },
    {
     "data": {
      "text/plain": [
       "<Figure size 640x480 with 0 Axes>"
      ]
     },
     "metadata": {},
     "output_type": "display_data"
    },
    {
     "data": {
      "text/plain": [
       "<Figure size 640x480 with 0 Axes>"
      ]
     },
     "metadata": {},
     "output_type": "display_data"
    },
    {
     "data": {
      "text/plain": [
       "<Figure size 640x480 with 0 Axes>"
      ]
     },
     "metadata": {},
     "output_type": "display_data"
    },
    {
     "data": {
      "text/plain": [
       "<Figure size 640x480 with 0 Axes>"
      ]
     },
     "metadata": {},
     "output_type": "display_data"
    },
    {
     "data": {
      "text/plain": [
       "<Figure size 640x480 with 0 Axes>"
      ]
     },
     "metadata": {},
     "output_type": "display_data"
    },
    {
     "data": {
      "text/plain": [
       "<Figure size 640x480 with 0 Axes>"
      ]
     },
     "metadata": {},
     "output_type": "display_data"
    },
    {
     "data": {
      "text/plain": [
       "<Figure size 640x480 with 0 Axes>"
      ]
     },
     "metadata": {},
     "output_type": "display_data"
    },
    {
     "data": {
      "text/plain": [
       "<Figure size 640x480 with 0 Axes>"
      ]
     },
     "metadata": {},
     "output_type": "display_data"
    },
    {
     "data": {
      "text/plain": [
       "<Figure size 640x480 with 0 Axes>"
      ]
     },
     "metadata": {},
     "output_type": "display_data"
    },
    {
     "data": {
      "text/plain": [
       "<Figure size 640x480 with 0 Axes>"
      ]
     },
     "metadata": {},
     "output_type": "display_data"
    },
    {
     "data": {
      "text/plain": [
       "<Figure size 640x480 with 0 Axes>"
      ]
     },
     "metadata": {},
     "output_type": "display_data"
    },
    {
     "data": {
      "text/plain": [
       "<Figure size 640x480 with 0 Axes>"
      ]
     },
     "metadata": {},
     "output_type": "display_data"
    },
    {
     "data": {
      "text/plain": [
       "<Figure size 640x480 with 0 Axes>"
      ]
     },
     "metadata": {},
     "output_type": "display_data"
    },
    {
     "data": {
      "text/plain": [
       "<Figure size 640x480 with 0 Axes>"
      ]
     },
     "metadata": {},
     "output_type": "display_data"
    },
    {
     "data": {
      "text/plain": [
       "<Figure size 640x480 with 0 Axes>"
      ]
     },
     "metadata": {},
     "output_type": "display_data"
    },
    {
     "data": {
      "text/plain": [
       "<Figure size 640x480 with 0 Axes>"
      ]
     },
     "metadata": {},
     "output_type": "display_data"
    },
    {
     "data": {
      "text/plain": [
       "<Figure size 640x480 with 0 Axes>"
      ]
     },
     "metadata": {},
     "output_type": "display_data"
    },
    {
     "data": {
      "text/plain": [
       "<Figure size 640x480 with 0 Axes>"
      ]
     },
     "metadata": {},
     "output_type": "display_data"
    },
    {
     "data": {
      "text/plain": [
       "<Figure size 640x480 with 0 Axes>"
      ]
     },
     "metadata": {},
     "output_type": "display_data"
    },
    {
     "data": {
      "text/plain": [
       "<Figure size 640x480 with 0 Axes>"
      ]
     },
     "metadata": {},
     "output_type": "display_data"
    },
    {
     "data": {
      "text/plain": [
       "<Figure size 640x480 with 0 Axes>"
      ]
     },
     "metadata": {},
     "output_type": "display_data"
    },
    {
     "data": {
      "text/plain": [
       "<Figure size 640x480 with 0 Axes>"
      ]
     },
     "metadata": {},
     "output_type": "display_data"
    },
    {
     "data": {
      "text/plain": [
       "<Figure size 640x480 with 0 Axes>"
      ]
     },
     "metadata": {},
     "output_type": "display_data"
    },
    {
     "data": {
      "text/plain": [
       "<Figure size 640x480 with 0 Axes>"
      ]
     },
     "metadata": {},
     "output_type": "display_data"
    },
    {
     "data": {
      "text/plain": [
       "<Figure size 640x480 with 0 Axes>"
      ]
     },
     "metadata": {},
     "output_type": "display_data"
    },
    {
     "data": {
      "text/plain": [
       "<Figure size 640x480 with 0 Axes>"
      ]
     },
     "metadata": {},
     "output_type": "display_data"
    },
    {
     "data": {
      "text/plain": [
       "<Figure size 640x480 with 0 Axes>"
      ]
     },
     "metadata": {},
     "output_type": "display_data"
    },
    {
     "data": {
      "text/plain": [
       "<Figure size 640x480 with 0 Axes>"
      ]
     },
     "metadata": {},
     "output_type": "display_data"
    },
    {
     "data": {
      "text/plain": [
       "<Figure size 640x480 with 0 Axes>"
      ]
     },
     "metadata": {},
     "output_type": "display_data"
    },
    {
     "data": {
      "text/plain": [
       "<Figure size 640x480 with 0 Axes>"
      ]
     },
     "metadata": {},
     "output_type": "display_data"
    },
    {
     "data": {
      "text/plain": [
       "<Figure size 640x480 with 0 Axes>"
      ]
     },
     "metadata": {},
     "output_type": "display_data"
    },
    {
     "data": {
      "text/plain": [
       "<Figure size 640x480 with 0 Axes>"
      ]
     },
     "metadata": {},
     "output_type": "display_data"
    },
    {
     "data": {
      "text/plain": [
       "<Figure size 640x480 with 0 Axes>"
      ]
     },
     "metadata": {},
     "output_type": "display_data"
    },
    {
     "data": {
      "text/plain": [
       "<Figure size 640x480 with 0 Axes>"
      ]
     },
     "metadata": {},
     "output_type": "display_data"
    },
    {
     "data": {
      "text/plain": [
       "<Figure size 640x480 with 0 Axes>"
      ]
     },
     "metadata": {},
     "output_type": "display_data"
    },
    {
     "data": {
      "text/plain": [
       "<Figure size 640x480 with 0 Axes>"
      ]
     },
     "metadata": {},
     "output_type": "display_data"
    },
    {
     "data": {
      "text/plain": [
       "<Figure size 640x480 with 0 Axes>"
      ]
     },
     "metadata": {},
     "output_type": "display_data"
    },
    {
     "data": {
      "text/plain": [
       "<Figure size 640x480 with 0 Axes>"
      ]
     },
     "metadata": {},
     "output_type": "display_data"
    },
    {
     "data": {
      "text/plain": [
       "<Figure size 640x480 with 0 Axes>"
      ]
     },
     "metadata": {},
     "output_type": "display_data"
    },
    {
     "data": {
      "text/plain": [
       "<Figure size 640x480 with 0 Axes>"
      ]
     },
     "metadata": {},
     "output_type": "display_data"
    },
    {
     "data": {
      "text/plain": [
       "<Figure size 640x480 with 0 Axes>"
      ]
     },
     "metadata": {},
     "output_type": "display_data"
    },
    {
     "data": {
      "text/plain": [
       "<Figure size 640x480 with 0 Axes>"
      ]
     },
     "metadata": {},
     "output_type": "display_data"
    },
    {
     "data": {
      "text/plain": [
       "<Figure size 640x480 with 0 Axes>"
      ]
     },
     "metadata": {},
     "output_type": "display_data"
    },
    {
     "data": {
      "text/plain": [
       "<Figure size 640x480 with 0 Axes>"
      ]
     },
     "metadata": {},
     "output_type": "display_data"
    },
    {
     "data": {
      "text/plain": [
       "<Figure size 640x480 with 0 Axes>"
      ]
     },
     "metadata": {},
     "output_type": "display_data"
    },
    {
     "data": {
      "text/plain": [
       "<Figure size 640x480 with 0 Axes>"
      ]
     },
     "metadata": {},
     "output_type": "display_data"
    },
    {
     "data": {
      "text/plain": [
       "<Figure size 640x480 with 0 Axes>"
      ]
     },
     "metadata": {},
     "output_type": "display_data"
    },
    {
     "data": {
      "text/plain": [
       "<Figure size 640x480 with 0 Axes>"
      ]
     },
     "metadata": {},
     "output_type": "display_data"
    },
    {
     "data": {
      "text/plain": [
       "<Figure size 640x480 with 0 Axes>"
      ]
     },
     "metadata": {},
     "output_type": "display_data"
    },
    {
     "data": {
      "text/plain": [
       "<Figure size 640x480 with 0 Axes>"
      ]
     },
     "metadata": {},
     "output_type": "display_data"
    },
    {
     "data": {
      "text/plain": [
       "<Figure size 640x480 with 0 Axes>"
      ]
     },
     "metadata": {},
     "output_type": "display_data"
    },
    {
     "data": {
      "text/plain": [
       "<Figure size 640x480 with 0 Axes>"
      ]
     },
     "metadata": {},
     "output_type": "display_data"
    },
    {
     "data": {
      "text/plain": [
       "<Figure size 640x480 with 0 Axes>"
      ]
     },
     "metadata": {},
     "output_type": "display_data"
    },
    {
     "data": {
      "text/plain": [
       "<Figure size 640x480 with 0 Axes>"
      ]
     },
     "metadata": {},
     "output_type": "display_data"
    },
    {
     "data": {
      "text/plain": [
       "<Figure size 640x480 with 0 Axes>"
      ]
     },
     "metadata": {},
     "output_type": "display_data"
    },
    {
     "data": {
      "text/plain": [
       "<Figure size 640x480 with 0 Axes>"
      ]
     },
     "metadata": {},
     "output_type": "display_data"
    },
    {
     "data": {
      "text/plain": [
       "<Figure size 640x480 with 0 Axes>"
      ]
     },
     "metadata": {},
     "output_type": "display_data"
    },
    {
     "data": {
      "text/plain": [
       "<Figure size 640x480 with 0 Axes>"
      ]
     },
     "metadata": {},
     "output_type": "display_data"
    },
    {
     "data": {
      "text/plain": [
       "<Figure size 640x480 with 0 Axes>"
      ]
     },
     "metadata": {},
     "output_type": "display_data"
    },
    {
     "data": {
      "text/plain": [
       "<Figure size 640x480 with 0 Axes>"
      ]
     },
     "metadata": {},
     "output_type": "display_data"
    },
    {
     "data": {
      "text/plain": [
       "<Figure size 640x480 with 0 Axes>"
      ]
     },
     "metadata": {},
     "output_type": "display_data"
    },
    {
     "data": {
      "text/plain": [
       "<Figure size 640x480 with 0 Axes>"
      ]
     },
     "metadata": {},
     "output_type": "display_data"
    },
    {
     "data": {
      "text/plain": [
       "<Figure size 640x480 with 0 Axes>"
      ]
     },
     "metadata": {},
     "output_type": "display_data"
    },
    {
     "data": {
      "text/plain": [
       "<Figure size 640x480 with 0 Axes>"
      ]
     },
     "metadata": {},
     "output_type": "display_data"
    },
    {
     "data": {
      "text/plain": [
       "<Figure size 640x480 with 0 Axes>"
      ]
     },
     "metadata": {},
     "output_type": "display_data"
    },
    {
     "data": {
      "text/plain": [
       "<Figure size 640x480 with 0 Axes>"
      ]
     },
     "metadata": {},
     "output_type": "display_data"
    },
    {
     "data": {
      "text/plain": [
       "<Figure size 640x480 with 0 Axes>"
      ]
     },
     "metadata": {},
     "output_type": "display_data"
    },
    {
     "data": {
      "text/plain": [
       "<Figure size 640x480 with 0 Axes>"
      ]
     },
     "metadata": {},
     "output_type": "display_data"
    },
    {
     "data": {
      "text/plain": [
       "<Figure size 640x480 with 0 Axes>"
      ]
     },
     "metadata": {},
     "output_type": "display_data"
    },
    {
     "data": {
      "text/plain": [
       "<Figure size 640x480 with 0 Axes>"
      ]
     },
     "metadata": {},
     "output_type": "display_data"
    },
    {
     "data": {
      "text/plain": [
       "<Figure size 640x480 with 0 Axes>"
      ]
     },
     "metadata": {},
     "output_type": "display_data"
    },
    {
     "data": {
      "text/plain": [
       "<Figure size 640x480 with 0 Axes>"
      ]
     },
     "metadata": {},
     "output_type": "display_data"
    },
    {
     "data": {
      "text/plain": [
       "<Figure size 640x480 with 0 Axes>"
      ]
     },
     "metadata": {},
     "output_type": "display_data"
    },
    {
     "data": {
      "text/plain": [
       "<Figure size 640x480 with 0 Axes>"
      ]
     },
     "metadata": {},
     "output_type": "display_data"
    },
    {
     "data": {
      "text/plain": [
       "<Figure size 640x480 with 0 Axes>"
      ]
     },
     "metadata": {},
     "output_type": "display_data"
    },
    {
     "data": {
      "text/plain": [
       "<Figure size 640x480 with 0 Axes>"
      ]
     },
     "metadata": {},
     "output_type": "display_data"
    },
    {
     "data": {
      "text/plain": [
       "<Figure size 640x480 with 0 Axes>"
      ]
     },
     "metadata": {},
     "output_type": "display_data"
    },
    {
     "data": {
      "text/plain": [
       "<Figure size 640x480 with 0 Axes>"
      ]
     },
     "metadata": {},
     "output_type": "display_data"
    },
    {
     "data": {
      "text/plain": [
       "<Figure size 640x480 with 0 Axes>"
      ]
     },
     "metadata": {},
     "output_type": "display_data"
    },
    {
     "data": {
      "text/plain": [
       "<Figure size 640x480 with 0 Axes>"
      ]
     },
     "metadata": {},
     "output_type": "display_data"
    },
    {
     "data": {
      "text/plain": [
       "<Figure size 640x480 with 0 Axes>"
      ]
     },
     "metadata": {},
     "output_type": "display_data"
    },
    {
     "data": {
      "text/plain": [
       "<Figure size 640x480 with 0 Axes>"
      ]
     },
     "metadata": {},
     "output_type": "display_data"
    },
    {
     "data": {
      "text/plain": [
       "<Figure size 640x480 with 0 Axes>"
      ]
     },
     "metadata": {},
     "output_type": "display_data"
    },
    {
     "data": {
      "text/plain": [
       "<Figure size 640x480 with 0 Axes>"
      ]
     },
     "metadata": {},
     "output_type": "display_data"
    },
    {
     "data": {
      "text/plain": [
       "<Figure size 640x480 with 0 Axes>"
      ]
     },
     "metadata": {},
     "output_type": "display_data"
    },
    {
     "data": {
      "text/plain": [
       "<Figure size 640x480 with 0 Axes>"
      ]
     },
     "metadata": {},
     "output_type": "display_data"
    },
    {
     "data": {
      "text/plain": [
       "<Figure size 640x480 with 0 Axes>"
      ]
     },
     "metadata": {},
     "output_type": "display_data"
    },
    {
     "data": {
      "text/plain": [
       "<Figure size 640x480 with 0 Axes>"
      ]
     },
     "metadata": {},
     "output_type": "display_data"
    },
    {
     "data": {
      "text/plain": [
       "<Figure size 640x480 with 0 Axes>"
      ]
     },
     "metadata": {},
     "output_type": "display_data"
    },
    {
     "data": {
      "text/plain": [
       "<Figure size 640x480 with 0 Axes>"
      ]
     },
     "metadata": {},
     "output_type": "display_data"
    },
    {
     "data": {
      "text/plain": [
       "<Figure size 640x480 with 0 Axes>"
      ]
     },
     "metadata": {},
     "output_type": "display_data"
    },
    {
     "data": {
      "text/plain": [
       "<Figure size 640x480 with 0 Axes>"
      ]
     },
     "metadata": {},
     "output_type": "display_data"
    },
    {
     "data": {
      "text/plain": [
       "<Figure size 640x480 with 0 Axes>"
      ]
     },
     "metadata": {},
     "output_type": "display_data"
    },
    {
     "data": {
      "text/plain": [
       "<Figure size 640x480 with 0 Axes>"
      ]
     },
     "metadata": {},
     "output_type": "display_data"
    },
    {
     "data": {
      "text/plain": [
       "<Figure size 640x480 with 0 Axes>"
      ]
     },
     "metadata": {},
     "output_type": "display_data"
    },
    {
     "data": {
      "text/plain": [
       "<Figure size 640x480 with 0 Axes>"
      ]
     },
     "metadata": {},
     "output_type": "display_data"
    },
    {
     "data": {
      "text/plain": [
       "<Figure size 640x480 with 0 Axes>"
      ]
     },
     "metadata": {},
     "output_type": "display_data"
    },
    {
     "data": {
      "text/plain": [
       "<Figure size 640x480 with 0 Axes>"
      ]
     },
     "metadata": {},
     "output_type": "display_data"
    },
    {
     "data": {
      "text/plain": [
       "<Figure size 640x480 with 0 Axes>"
      ]
     },
     "metadata": {},
     "output_type": "display_data"
    },
    {
     "data": {
      "text/plain": [
       "<Figure size 640x480 with 0 Axes>"
      ]
     },
     "metadata": {},
     "output_type": "display_data"
    },
    {
     "data": {
      "text/plain": [
       "<Figure size 640x480 with 0 Axes>"
      ]
     },
     "metadata": {},
     "output_type": "display_data"
    },
    {
     "data": {
      "text/plain": [
       "<Figure size 640x480 with 0 Axes>"
      ]
     },
     "metadata": {},
     "output_type": "display_data"
    },
    {
     "data": {
      "text/plain": [
       "<Figure size 640x480 with 0 Axes>"
      ]
     },
     "metadata": {},
     "output_type": "display_data"
    },
    {
     "data": {
      "text/plain": [
       "<Figure size 640x480 with 0 Axes>"
      ]
     },
     "metadata": {},
     "output_type": "display_data"
    },
    {
     "data": {
      "text/plain": [
       "<Figure size 640x480 with 0 Axes>"
      ]
     },
     "metadata": {},
     "output_type": "display_data"
    },
    {
     "data": {
      "text/plain": [
       "<Figure size 640x480 with 0 Axes>"
      ]
     },
     "metadata": {},
     "output_type": "display_data"
    },
    {
     "data": {
      "text/plain": [
       "<Figure size 640x480 with 0 Axes>"
      ]
     },
     "metadata": {},
     "output_type": "display_data"
    },
    {
     "data": {
      "text/plain": [
       "<Figure size 640x480 with 0 Axes>"
      ]
     },
     "metadata": {},
     "output_type": "display_data"
    },
    {
     "data": {
      "text/plain": [
       "<Figure size 640x480 with 0 Axes>"
      ]
     },
     "metadata": {},
     "output_type": "display_data"
    },
    {
     "data": {
      "text/plain": [
       "<Figure size 640x480 with 0 Axes>"
      ]
     },
     "metadata": {},
     "output_type": "display_data"
    },
    {
     "data": {
      "text/plain": [
       "<Figure size 640x480 with 0 Axes>"
      ]
     },
     "metadata": {},
     "output_type": "display_data"
    },
    {
     "data": {
      "text/plain": [
       "<Figure size 640x480 with 0 Axes>"
      ]
     },
     "metadata": {},
     "output_type": "display_data"
    },
    {
     "data": {
      "text/plain": [
       "<Figure size 640x480 with 0 Axes>"
      ]
     },
     "metadata": {},
     "output_type": "display_data"
    },
    {
     "data": {
      "text/plain": [
       "<Figure size 640x480 with 0 Axes>"
      ]
     },
     "metadata": {},
     "output_type": "display_data"
    },
    {
     "data": {
      "text/plain": [
       "<Figure size 640x480 with 0 Axes>"
      ]
     },
     "metadata": {},
     "output_type": "display_data"
    },
    {
     "data": {
      "text/plain": [
       "<Figure size 640x480 with 0 Axes>"
      ]
     },
     "metadata": {},
     "output_type": "display_data"
    },
    {
     "data": {
      "text/plain": [
       "<Figure size 640x480 with 0 Axes>"
      ]
     },
     "metadata": {},
     "output_type": "display_data"
    },
    {
     "data": {
      "text/plain": [
       "<Figure size 640x480 with 0 Axes>"
      ]
     },
     "metadata": {},
     "output_type": "display_data"
    },
    {
     "data": {
      "text/plain": [
       "<Figure size 640x480 with 0 Axes>"
      ]
     },
     "metadata": {},
     "output_type": "display_data"
    },
    {
     "data": {
      "text/plain": [
       "<Figure size 640x480 with 0 Axes>"
      ]
     },
     "metadata": {},
     "output_type": "display_data"
    },
    {
     "data": {
      "text/plain": [
       "<Figure size 640x480 with 0 Axes>"
      ]
     },
     "metadata": {},
     "output_type": "display_data"
    },
    {
     "data": {
      "text/plain": [
       "<Figure size 640x480 with 0 Axes>"
      ]
     },
     "metadata": {},
     "output_type": "display_data"
    },
    {
     "data": {
      "text/plain": [
       "<Figure size 640x480 with 0 Axes>"
      ]
     },
     "metadata": {},
     "output_type": "display_data"
    },
    {
     "data": {
      "text/plain": [
       "<Figure size 640x480 with 0 Axes>"
      ]
     },
     "metadata": {},
     "output_type": "display_data"
    },
    {
     "data": {
      "text/plain": [
       "<Figure size 640x480 with 0 Axes>"
      ]
     },
     "metadata": {},
     "output_type": "display_data"
    },
    {
     "data": {
      "text/plain": [
       "<Figure size 640x480 with 0 Axes>"
      ]
     },
     "metadata": {},
     "output_type": "display_data"
    },
    {
     "data": {
      "text/plain": [
       "<Figure size 640x480 with 0 Axes>"
      ]
     },
     "metadata": {},
     "output_type": "display_data"
    },
    {
     "data": {
      "text/plain": [
       "<Figure size 640x480 with 0 Axes>"
      ]
     },
     "metadata": {},
     "output_type": "display_data"
    },
    {
     "data": {
      "text/plain": [
       "<Figure size 640x480 with 0 Axes>"
      ]
     },
     "metadata": {},
     "output_type": "display_data"
    },
    {
     "data": {
      "text/plain": [
       "<Figure size 640x480 with 0 Axes>"
      ]
     },
     "metadata": {},
     "output_type": "display_data"
    },
    {
     "data": {
      "text/plain": [
       "<Figure size 640x480 with 0 Axes>"
      ]
     },
     "metadata": {},
     "output_type": "display_data"
    },
    {
     "data": {
      "text/plain": [
       "<Figure size 640x480 with 0 Axes>"
      ]
     },
     "metadata": {},
     "output_type": "display_data"
    },
    {
     "data": {
      "text/plain": [
       "<Figure size 640x480 with 0 Axes>"
      ]
     },
     "metadata": {},
     "output_type": "display_data"
    },
    {
     "data": {
      "text/plain": [
       "<Figure size 640x480 with 0 Axes>"
      ]
     },
     "metadata": {},
     "output_type": "display_data"
    },
    {
     "data": {
      "text/plain": [
       "<Figure size 640x480 with 0 Axes>"
      ]
     },
     "metadata": {},
     "output_type": "display_data"
    },
    {
     "data": {
      "text/plain": [
       "<Figure size 640x480 with 0 Axes>"
      ]
     },
     "metadata": {},
     "output_type": "display_data"
    },
    {
     "data": {
      "text/plain": [
       "<Figure size 640x480 with 0 Axes>"
      ]
     },
     "metadata": {},
     "output_type": "display_data"
    },
    {
     "data": {
      "text/plain": [
       "<Figure size 640x480 with 0 Axes>"
      ]
     },
     "metadata": {},
     "output_type": "display_data"
    },
    {
     "data": {
      "text/plain": [
       "<Figure size 640x480 with 0 Axes>"
      ]
     },
     "metadata": {},
     "output_type": "display_data"
    },
    {
     "data": {
      "text/plain": [
       "<Figure size 640x480 with 0 Axes>"
      ]
     },
     "metadata": {},
     "output_type": "display_data"
    },
    {
     "data": {
      "text/plain": [
       "<Figure size 640x480 with 0 Axes>"
      ]
     },
     "metadata": {},
     "output_type": "display_data"
    },
    {
     "data": {
      "text/plain": [
       "<Figure size 640x480 with 0 Axes>"
      ]
     },
     "metadata": {},
     "output_type": "display_data"
    },
    {
     "data": {
      "text/plain": [
       "<Figure size 640x480 with 0 Axes>"
      ]
     },
     "metadata": {},
     "output_type": "display_data"
    },
    {
     "data": {
      "text/plain": [
       "<Figure size 640x480 with 0 Axes>"
      ]
     },
     "metadata": {},
     "output_type": "display_data"
    },
    {
     "data": {
      "text/plain": [
       "<Figure size 640x480 with 0 Axes>"
      ]
     },
     "metadata": {},
     "output_type": "display_data"
    },
    {
     "data": {
      "text/plain": [
       "<Figure size 640x480 with 0 Axes>"
      ]
     },
     "metadata": {},
     "output_type": "display_data"
    },
    {
     "data": {
      "text/plain": [
       "<Figure size 640x480 with 0 Axes>"
      ]
     },
     "metadata": {},
     "output_type": "display_data"
    },
    {
     "data": {
      "text/plain": [
       "<Figure size 640x480 with 0 Axes>"
      ]
     },
     "metadata": {},
     "output_type": "display_data"
    },
    {
     "data": {
      "text/plain": [
       "<Figure size 640x480 with 0 Axes>"
      ]
     },
     "metadata": {},
     "output_type": "display_data"
    },
    {
     "data": {
      "text/plain": [
       "<Figure size 640x480 with 0 Axes>"
      ]
     },
     "metadata": {},
     "output_type": "display_data"
    },
    {
     "data": {
      "text/plain": [
       "<Figure size 640x480 with 0 Axes>"
      ]
     },
     "metadata": {},
     "output_type": "display_data"
    },
    {
     "data": {
      "text/plain": [
       "<Figure size 640x480 with 0 Axes>"
      ]
     },
     "metadata": {},
     "output_type": "display_data"
    },
    {
     "data": {
      "text/plain": [
       "<Figure size 640x480 with 0 Axes>"
      ]
     },
     "metadata": {},
     "output_type": "display_data"
    },
    {
     "data": {
      "text/plain": [
       "<Figure size 640x480 with 0 Axes>"
      ]
     },
     "metadata": {},
     "output_type": "display_data"
    },
    {
     "data": {
      "text/plain": [
       "<Figure size 640x480 with 0 Axes>"
      ]
     },
     "metadata": {},
     "output_type": "display_data"
    },
    {
     "data": {
      "text/plain": [
       "<Figure size 640x480 with 0 Axes>"
      ]
     },
     "metadata": {},
     "output_type": "display_data"
    },
    {
     "data": {
      "text/plain": [
       "<Figure size 640x480 with 0 Axes>"
      ]
     },
     "metadata": {},
     "output_type": "display_data"
    },
    {
     "data": {
      "text/plain": [
       "<Figure size 640x480 with 0 Axes>"
      ]
     },
     "metadata": {},
     "output_type": "display_data"
    },
    {
     "data": {
      "text/plain": [
       "<Figure size 640x480 with 0 Axes>"
      ]
     },
     "metadata": {},
     "output_type": "display_data"
    },
    {
     "data": {
      "text/plain": [
       "<Figure size 640x480 with 0 Axes>"
      ]
     },
     "metadata": {},
     "output_type": "display_data"
    },
    {
     "data": {
      "text/plain": [
       "<Figure size 640x480 with 0 Axes>"
      ]
     },
     "metadata": {},
     "output_type": "display_data"
    },
    {
     "data": {
      "text/plain": [
       "<Figure size 640x480 with 0 Axes>"
      ]
     },
     "metadata": {},
     "output_type": "display_data"
    },
    {
     "data": {
      "text/plain": [
       "<Figure size 640x480 with 0 Axes>"
      ]
     },
     "metadata": {},
     "output_type": "display_data"
    },
    {
     "data": {
      "text/plain": [
       "<Figure size 640x480 with 0 Axes>"
      ]
     },
     "metadata": {},
     "output_type": "display_data"
    },
    {
     "data": {
      "text/plain": [
       "<Figure size 640x480 with 0 Axes>"
      ]
     },
     "metadata": {},
     "output_type": "display_data"
    },
    {
     "data": {
      "text/plain": [
       "<Figure size 640x480 with 0 Axes>"
      ]
     },
     "metadata": {},
     "output_type": "display_data"
    },
    {
     "data": {
      "text/plain": [
       "<Figure size 640x480 with 0 Axes>"
      ]
     },
     "metadata": {},
     "output_type": "display_data"
    },
    {
     "data": {
      "text/plain": [
       "<Figure size 640x480 with 0 Axes>"
      ]
     },
     "metadata": {},
     "output_type": "display_data"
    },
    {
     "data": {
      "text/plain": [
       "<Figure size 640x480 with 0 Axes>"
      ]
     },
     "metadata": {},
     "output_type": "display_data"
    },
    {
     "data": {
      "text/plain": [
       "<Figure size 640x480 with 0 Axes>"
      ]
     },
     "metadata": {},
     "output_type": "display_data"
    }
   ],
   "source": [
    "import os\n",
    "import numpy as np\n",
    "from raug.metrics import Metrics, accuracy\n",
    "from raug.utils.loader import get_labels_frequency\n",
    "import pandas as pd\n",
    "\n",
    "# Especificar o caminho para a pasta \"best_results\"\n",
    "folder_path = \"best_results\"\n",
    "_csv_path_test = \"/home/a52550/Desktop/datasets/ISIC2017/test/ISIC-2017_Test_v2_Part3_GroundTruth.csv\"\n",
    "true_labels = pd.read_csv(_csv_path_test).sort_values(by=['image_id'])['category']\n",
    "\n",
    "# Inicializar as variáveis para armazenar as previsões dos modelos\n",
    "ensemble_preds_best = None\n",
    "ensemble_preds_last = None\n",
    "num_models = 0\n",
    "ser_lab_freq = get_labels_frequency(_csv_path_test, \"category\", \"image_id\")\n",
    "_labels_name = ser_lab_freq.index.values #np.reshape(ser_lab_freq.index.values, (ser_lab_freq.index.values.shape[0], 1))\n",
    "\n",
    "df_best = pd.DataFrame()\n",
    "df_last = pd.DataFrame()\n",
    "\n",
    "# Percorrer as pastas de cada experimento\n",
    "for experiment_folder in os.listdir(folder_path):\n",
    "\n",
    "    if \".csv\" in experiment_folder:\n",
    "        continue\n",
    "\n",
    "    print(\"Experimento: \", experiment_folder)\n",
    "\n",
    "    _metric_options_best = {\n",
    "        'save_all_path': os.path.join(folder_path, experiment_folder, 'ensemble_3_best_average/best'),\n",
    "        'pred_name_scores': 'predictions.csv',\n",
    "    }\n",
    "    _metric_options_last = {\n",
    "        'save_all_path': os.path.join(folder_path, experiment_folder, 'ensemble_3_best_average/last'),\n",
    "        'pred_name_scores': 'predictions.csv',\n",
    "    }\n",
    "\n",
    "\n",
    "    experiment_path = os.path.join(folder_path, experiment_folder)\n",
    "    metrics_best = Metrics ([\"accuracy\", \"topk_accuracy\", \"balanced_accuracy\", \"conf_matrix\" \"plot_conf_matrix\", \"precision_recall_report\", \"auc_and_roc_curve\", \"auc\"] , _labels_name, _metric_options_best)\n",
    "    metrics_last = Metrics ([\"accuracy\", \"topk_accuracy\", \"balanced_accuracy\", \"conf_matrix\" \"plot_conf_matrix\", \"precision_recall_report\", \"auc_and_roc_curve\", \"auc\"] , _labels_name, _metric_options_last)\n",
    "\n",
    "    ensemble_preds_best = None\n",
    "    ensemble_preds_last = None\n",
    "\n",
    "    experiment_folders = os.listdir(experiment_path)\n",
    "    \n",
    "    # Cria path para o experimento atual\n",
    "    if 'ensemble_average' in experiment_folders:\n",
    "        experiment_folders.remove('ensemble_average')\n",
    "    if 'ensemble_3_best_average' in experiment_folders:\n",
    "        experiment_folders.remove('ensemble_3_best_average')\n",
    "    else:\n",
    "        os.mkdir(os.path.join(folder_path, experiment_folder, 'ensemble_3_best_average'))\n",
    "        os.mkdir(os.path.join(_metric_options_best['save_all_path']))\n",
    "        os.mkdir(os.path.join(_metric_options_last['save_all_path']))\n",
    "\n",
    "\n",
    "    try:\n",
    "        best_balanced_accuracy = 0\n",
    "        best_metric_ensemble = None\n",
    "\n",
    "        # Percorrer as pastas de cada modelo\n",
    "        for i1 in range(len(experiment_folders)-1):\n",
    "            for i2 in range(i1+1, len(experiment_folders)-1):\n",
    "                for i3 in range(i2+1, len(experiment_folders)-1):\n",
    "                    model_folders = [experiment_folders[i1], experiment_folders[i2], experiment_folders[i3]]\n",
    "\n",
    "                    for model_folder in model_folders:\n",
    "\n",
    "                        model_path = os.path.join(experiment_path, model_folder)\n",
    "\n",
    "                        # Carregar as previsões do modelo atual\n",
    "                        model_preds_path_best = os.path.join(model_path, \"test_pred_best/predictions.csv\")\n",
    "                        model_preds_path_last = os.path.join(model_path, \"test_pred_last/predictions.csv\")\n",
    "\n",
    "                        model_preds_best = pd.read_csv(model_preds_path_best).sort_values(by=['image'])\n",
    "                        model_preds_last = pd.read_csv(model_preds_path_last).sort_values(by=['image'])\n",
    "\n",
    "                        images_id = model_preds_best[['image']]\n",
    "                        model_preds_best = model_preds_best[['0','1','2']]\n",
    "                        model_preds_last = model_preds_last[['0','1','2']]\n",
    "\n",
    "                        # Adicionar as previsões do modelo atual ao ensemble\n",
    "                        if ensemble_preds_best is None:\n",
    "                            ensemble_preds_best = model_preds_best\n",
    "                        else:\n",
    "                            ensemble_preds_best += model_preds_best\n",
    "\n",
    "                        if ensemble_preds_last is None:\n",
    "                            ensemble_preds_last = model_preds_last\n",
    "                        else:\n",
    "                            ensemble_preds_last += model_preds_last\n",
    "\n",
    "                        num_models += 1\n",
    "\n",
    "                    # Calcular a média das previsões dos modelos\n",
    "                    ensemble_preds_best /= num_models\n",
    "                    ensemble_preds_last /= num_models\n",
    "\n",
    "                    metrics_best.update_scores(true_labels, ensemble_preds_best.to_numpy(), images_id.to_numpy())\n",
    "                    metrics_last.update_scores(true_labels, ensemble_preds_last.to_numpy(), images_id.to_numpy())\n",
    "\n",
    "                    metrics_best.compute_metrics()\n",
    "                    metrics_last.compute_metrics()\n",
    "\n",
    "                    # metrics_best.save_scores()\n",
    "                    # metrics_last.save_scores()\n",
    "\n",
    "                    if metrics_best.metrics_values['balanced_accuracy'] > best_balanced_accuracy:\n",
    "                        best_balanced_accuracy = metrics_best.metrics_values['balanced_accuracy']\n",
    "                        best_metric_ensemble = metrics_best\n",
    "                        best_experiment = experiment_folder\n",
    "\n",
    "                        ensemble_data = {\n",
    "                            'folder_name': experiment_folder,\n",
    "                            'ensemble_3_best': model_folders[0].split('fold')[0] + \"_\" + model_folders[1].split('fold')[0] + \"_\" + model_folders[2].split('fold')[0]\n",
    "                        }\n",
    "                        dict_best = {**ensemble_data, **metrics_best.metrics_values}\n",
    "                        dict_last = {**ensemble_data, **metrics_last.metrics_values}\n",
    "\n",
    "                        del dict_best['auc_and_roc_curve']\n",
    "                        del dict_best['precision_recall_report']\n",
    "\n",
    "                        del dict_last['auc_and_roc_curve']\n",
    "                        del dict_last['precision_recall_report']\n",
    "\n",
    "                    # df_best = df_best.append(pd.DataFrame(dict_best, columns=dict_best.keys(), index=[0]), ignore_index=True)\n",
    "                    # df_last = df_last.append(pd.DataFrame(dict_last, columns=dict_last.keys(), index=[0]), ignore_index=True)\n",
    "\n",
    "        best_metrics_ensemble.save_scores()\n",
    "\n",
    "        df_best = df_best.append(pd.DataFrame(dict_best, columns=dict_best.keys(), index=[0]), ignore_index=True)\n",
    "        df_last = df_last.append(pd.DataFrame(dict_last, columns=dict_last.keys(), index=[0]), ignore_index=True)\n",
    "\n",
    "    except Exception as e:\n",
    "        print(\"Erro no experimento \", experiment_folder)\n",
    "        print(e.with_traceback())\n",
    "\n",
    "\n",
    "\n",
    "df_best.to_csv(os.path.join(folder_path, 'ensemble_3_best_average_best.csv'), index=False)\n",
    "df_last.to_csv(os.path.join(folder_path, 'ensemble_3_best_average_last.csv'), index=False)\n"
   ]
  },
  {
   "cell_type": "code",
   "execution_count": 7,
   "metadata": {},
   "outputs": [
    {
     "name": "stdout",
     "output_type": "stream",
     "text": [
      "0 1 2\n",
      "0 1 3\n",
      "0 1 4\n",
      "0 1 5\n",
      "0 1 6\n",
      "0 1 7\n",
      "0 1 8\n",
      "0 1 9\n",
      "0 1 10\n",
      "0 1 11\n",
      "0 1 12\n",
      "0 1 13\n",
      "0 1 14\n",
      "0 1 15\n",
      "0 1 16\n",
      "0 1 17\n",
      "0 1 18\n",
      "0 1 19\n",
      "0 1 20\n",
      "0 1 21\n",
      "0 1 22\n",
      "0 1 23\n",
      "0 1 24\n",
      "0 1 25\n",
      "0 1 26\n",
      "0 1 27\n",
      "0 1 28\n",
      "0 1 29\n",
      "0 1 30\n",
      "0 1 31\n",
      "0 1 32\n",
      "0 1 33\n",
      "0 1 34\n",
      "0 1 35\n",
      "0 1 36\n",
      "0 1 37\n",
      "0 2 3\n",
      "0 2 4\n",
      "0 2 5\n",
      "0 2 6\n",
      "0 2 7\n",
      "0 2 8\n",
      "0 2 9\n",
      "0 2 10\n",
      "0 2 11\n",
      "0 2 12\n",
      "0 2 13\n",
      "0 2 14\n",
      "0 2 15\n",
      "0 2 16\n",
      "0 2 17\n",
      "0 2 18\n",
      "0 2 19\n",
      "0 2 20\n",
      "0 2 21\n",
      "0 2 22\n",
      "0 2 23\n",
      "0 2 24\n",
      "0 2 25\n",
      "0 2 26\n",
      "0 2 27\n",
      "0 2 28\n",
      "0 2 29\n",
      "0 2 30\n",
      "0 2 31\n",
      "0 2 32\n",
      "0 2 33\n",
      "0 2 34\n",
      "0 2 35\n",
      "0 2 36\n",
      "0 2 37\n",
      "0 3 4\n",
      "0 3 5\n",
      "0 3 6\n",
      "0 3 7\n",
      "0 3 8\n",
      "0 3 9\n",
      "0 3 10\n",
      "0 3 11\n",
      "0 3 12\n",
      "0 3 13\n",
      "0 3 14\n",
      "0 3 15\n",
      "0 3 16\n",
      "0 3 17\n",
      "0 3 18\n",
      "0 3 19\n",
      "0 3 20\n",
      "0 3 21\n",
      "0 3 22\n",
      "0 3 23\n",
      "0 3 24\n",
      "0 3 25\n",
      "0 3 26\n",
      "0 3 27\n",
      "0 3 28\n",
      "0 3 29\n",
      "0 3 30\n",
      "0 3 31\n",
      "0 3 32\n",
      "0 3 33\n",
      "0 3 34\n",
      "0 3 35\n",
      "0 3 36\n",
      "0 3 37\n",
      "0 4 5\n",
      "0 4 6\n",
      "0 4 7\n",
      "0 4 8\n",
      "0 4 9\n",
      "0 4 10\n",
      "0 4 11\n",
      "0 4 12\n",
      "0 4 13\n",
      "0 4 14\n",
      "0 4 15\n",
      "0 4 16\n",
      "0 4 17\n",
      "0 4 18\n",
      "0 4 19\n",
      "0 4 20\n",
      "0 4 21\n",
      "0 4 22\n",
      "0 4 23\n",
      "0 4 24\n",
      "0 4 25\n",
      "0 4 26\n",
      "0 4 27\n",
      "0 4 28\n",
      "0 4 29\n",
      "0 4 30\n",
      "0 4 31\n",
      "0 4 32\n",
      "0 4 33\n",
      "0 4 34\n",
      "0 4 35\n",
      "0 4 36\n",
      "0 4 37\n",
      "0 5 6\n",
      "0 5 7\n",
      "0 5 8\n",
      "0 5 9\n",
      "0 5 10\n",
      "0 5 11\n",
      "0 5 12\n",
      "0 5 13\n",
      "0 5 14\n",
      "0 5 15\n",
      "0 5 16\n",
      "0 5 17\n",
      "0 5 18\n",
      "0 5 19\n",
      "0 5 20\n",
      "0 5 21\n",
      "0 5 22\n",
      "0 5 23\n",
      "0 5 24\n",
      "0 5 25\n",
      "0 5 26\n",
      "0 5 27\n",
      "0 5 28\n",
      "0 5 29\n",
      "0 5 30\n",
      "0 5 31\n",
      "0 5 32\n",
      "0 5 33\n",
      "0 5 34\n",
      "0 5 35\n",
      "0 5 36\n",
      "0 5 37\n",
      "0 6 7\n",
      "0 6 8\n",
      "0 6 9\n",
      "0 6 10\n",
      "0 6 11\n",
      "0 6 12\n",
      "0 6 13\n",
      "0 6 14\n",
      "0 6 15\n",
      "0 6 16\n",
      "0 6 17\n",
      "0 6 18\n",
      "0 6 19\n",
      "0 6 20\n",
      "0 6 21\n",
      "0 6 22\n",
      "0 6 23\n",
      "0 6 24\n",
      "0 6 25\n",
      "0 6 26\n",
      "0 6 27\n",
      "0 6 28\n",
      "0 6 29\n",
      "0 6 30\n",
      "0 6 31\n",
      "0 6 32\n",
      "0 6 33\n",
      "0 6 34\n",
      "0 6 35\n",
      "0 6 36\n",
      "0 6 37\n",
      "0 7 8\n",
      "0 7 9\n",
      "0 7 10\n",
      "0 7 11\n",
      "0 7 12\n",
      "0 7 13\n",
      "0 7 14\n",
      "0 7 15\n",
      "0 7 16\n",
      "0 7 17\n",
      "0 7 18\n",
      "0 7 19\n",
      "0 7 20\n",
      "0 7 21\n",
      "0 7 22\n",
      "0 7 23\n",
      "0 7 24\n",
      "0 7 25\n",
      "0 7 26\n",
      "0 7 27\n",
      "0 7 28\n",
      "0 7 29\n",
      "0 7 30\n",
      "0 7 31\n",
      "0 7 32\n",
      "0 7 33\n",
      "0 7 34\n",
      "0 7 35\n",
      "0 7 36\n",
      "0 7 37\n",
      "0 8 9\n",
      "0 8 10\n",
      "0 8 11\n",
      "0 8 12\n",
      "0 8 13\n",
      "0 8 14\n",
      "0 8 15\n",
      "0 8 16\n",
      "0 8 17\n",
      "0 8 18\n",
      "0 8 19\n",
      "0 8 20\n",
      "0 8 21\n",
      "0 8 22\n",
      "0 8 23\n",
      "0 8 24\n",
      "0 8 25\n",
      "0 8 26\n",
      "0 8 27\n",
      "0 8 28\n",
      "0 8 29\n",
      "0 8 30\n",
      "0 8 31\n",
      "0 8 32\n",
      "0 8 33\n",
      "0 8 34\n",
      "0 8 35\n",
      "0 8 36\n",
      "0 8 37\n",
      "0 9 10\n",
      "0 9 11\n",
      "0 9 12\n",
      "0 9 13\n",
      "0 9 14\n",
      "0 9 15\n",
      "0 9 16\n",
      "0 9 17\n",
      "0 9 18\n",
      "0 9 19\n",
      "0 9 20\n",
      "0 9 21\n",
      "0 9 22\n",
      "0 9 23\n",
      "0 9 24\n",
      "0 9 25\n",
      "0 9 26\n",
      "0 9 27\n",
      "0 9 28\n",
      "0 9 29\n",
      "0 9 30\n",
      "0 9 31\n",
      "0 9 32\n",
      "0 9 33\n",
      "0 9 34\n",
      "0 9 35\n",
      "0 9 36\n",
      "0 9 37\n",
      "0 10 11\n",
      "0 10 12\n",
      "0 10 13\n",
      "0 10 14\n",
      "0 10 15\n",
      "0 10 16\n",
      "0 10 17\n",
      "0 10 18\n",
      "0 10 19\n",
      "0 10 20\n",
      "0 10 21\n",
      "0 10 22\n",
      "0 10 23\n",
      "0 10 24\n",
      "0 10 25\n",
      "0 10 26\n",
      "0 10 27\n",
      "0 10 28\n",
      "0 10 29\n",
      "0 10 30\n",
      "0 10 31\n",
      "0 10 32\n",
      "0 10 33\n",
      "0 10 34\n",
      "0 10 35\n",
      "0 10 36\n",
      "0 10 37\n",
      "0 11 12\n",
      "0 11 13\n",
      "0 11 14\n",
      "0 11 15\n",
      "0 11 16\n",
      "0 11 17\n",
      "0 11 18\n",
      "0 11 19\n",
      "0 11 20\n",
      "0 11 21\n",
      "0 11 22\n",
      "0 11 23\n",
      "0 11 24\n",
      "0 11 25\n",
      "0 11 26\n",
      "0 11 27\n",
      "0 11 28\n",
      "0 11 29\n",
      "0 11 30\n",
      "0 11 31\n",
      "0 11 32\n",
      "0 11 33\n",
      "0 11 34\n",
      "0 11 35\n",
      "0 11 36\n",
      "0 11 37\n",
      "0 12 13\n",
      "0 12 14\n",
      "0 12 15\n",
      "0 12 16\n",
      "0 12 17\n",
      "0 12 18\n",
      "0 12 19\n",
      "0 12 20\n",
      "0 12 21\n",
      "0 12 22\n",
      "0 12 23\n",
      "0 12 24\n",
      "0 12 25\n",
      "0 12 26\n",
      "0 12 27\n",
      "0 12 28\n",
      "0 12 29\n",
      "0 12 30\n",
      "0 12 31\n",
      "0 12 32\n",
      "0 12 33\n",
      "0 12 34\n",
      "0 12 35\n",
      "0 12 36\n",
      "0 12 37\n",
      "0 13 14\n",
      "0 13 15\n",
      "0 13 16\n",
      "0 13 17\n",
      "0 13 18\n",
      "0 13 19\n",
      "0 13 20\n",
      "0 13 21\n",
      "0 13 22\n",
      "0 13 23\n",
      "0 13 24\n",
      "0 13 25\n",
      "0 13 26\n",
      "0 13 27\n",
      "0 13 28\n",
      "0 13 29\n",
      "0 13 30\n",
      "0 13 31\n",
      "0 13 32\n",
      "0 13 33\n",
      "0 13 34\n",
      "0 13 35\n",
      "0 13 36\n",
      "0 13 37\n",
      "0 14 15\n",
      "0 14 16\n",
      "0 14 17\n",
      "0 14 18\n",
      "0 14 19\n",
      "0 14 20\n",
      "0 14 21\n",
      "0 14 22\n",
      "0 14 23\n",
      "0 14 24\n",
      "0 14 25\n",
      "0 14 26\n",
      "0 14 27\n",
      "0 14 28\n",
      "0 14 29\n",
      "0 14 30\n",
      "0 14 31\n",
      "0 14 32\n",
      "0 14 33\n",
      "0 14 34\n",
      "0 14 35\n",
      "0 14 36\n",
      "0 14 37\n",
      "0 15 16\n",
      "0 15 17\n",
      "0 15 18\n",
      "0 15 19\n",
      "0 15 20\n",
      "0 15 21\n",
      "0 15 22\n",
      "0 15 23\n",
      "0 15 24\n",
      "0 15 25\n",
      "0 15 26\n",
      "0 15 27\n",
      "0 15 28\n",
      "0 15 29\n",
      "0 15 30\n",
      "0 15 31\n",
      "0 15 32\n",
      "0 15 33\n",
      "0 15 34\n",
      "0 15 35\n",
      "0 15 36\n",
      "0 15 37\n",
      "0 16 17\n",
      "0 16 18\n",
      "0 16 19\n",
      "0 16 20\n",
      "0 16 21\n",
      "0 16 22\n",
      "0 16 23\n",
      "0 16 24\n",
      "0 16 25\n",
      "0 16 26\n",
      "0 16 27\n",
      "0 16 28\n",
      "0 16 29\n",
      "0 16 30\n",
      "0 16 31\n",
      "0 16 32\n",
      "0 16 33\n",
      "0 16 34\n",
      "0 16 35\n",
      "0 16 36\n",
      "0 16 37\n",
      "0 17 18\n",
      "0 17 19\n",
      "0 17 20\n",
      "0 17 21\n",
      "0 17 22\n",
      "0 17 23\n",
      "0 17 24\n",
      "0 17 25\n",
      "0 17 26\n",
      "0 17 27\n",
      "0 17 28\n",
      "0 17 29\n",
      "0 17 30\n",
      "0 17 31\n",
      "0 17 32\n",
      "0 17 33\n",
      "0 17 34\n",
      "0 17 35\n",
      "0 17 36\n",
      "0 17 37\n",
      "0 18 19\n",
      "0 18 20\n",
      "0 18 21\n",
      "0 18 22\n",
      "0 18 23\n",
      "0 18 24\n",
      "0 18 25\n",
      "0 18 26\n",
      "0 18 27\n",
      "0 18 28\n",
      "0 18 29\n",
      "0 18 30\n",
      "0 18 31\n",
      "0 18 32\n",
      "0 18 33\n",
      "0 18 34\n",
      "0 18 35\n",
      "0 18 36\n",
      "0 18 37\n",
      "0 19 20\n",
      "0 19 21\n",
      "0 19 22\n",
      "0 19 23\n",
      "0 19 24\n",
      "0 19 25\n",
      "0 19 26\n",
      "0 19 27\n",
      "0 19 28\n",
      "0 19 29\n",
      "0 19 30\n",
      "0 19 31\n",
      "0 19 32\n",
      "0 19 33\n",
      "0 19 34\n",
      "0 19 35\n",
      "0 19 36\n",
      "0 19 37\n",
      "0 20 21\n",
      "0 20 22\n",
      "0 20 23\n",
      "0 20 24\n",
      "0 20 25\n",
      "0 20 26\n",
      "0 20 27\n",
      "0 20 28\n",
      "0 20 29\n",
      "0 20 30\n",
      "0 20 31\n",
      "0 20 32\n",
      "0 20 33\n",
      "0 20 34\n",
      "0 20 35\n",
      "0 20 36\n",
      "0 20 37\n",
      "0 21 22\n",
      "0 21 23\n",
      "0 21 24\n",
      "0 21 25\n",
      "0 21 26\n",
      "0 21 27\n",
      "0 21 28\n",
      "0 21 29\n",
      "0 21 30\n",
      "0 21 31\n",
      "0 21 32\n",
      "0 21 33\n",
      "0 21 34\n",
      "0 21 35\n",
      "0 21 36\n",
      "0 21 37\n",
      "0 22 23\n",
      "0 22 24\n",
      "0 22 25\n",
      "0 22 26\n",
      "0 22 27\n",
      "0 22 28\n",
      "0 22 29\n",
      "0 22 30\n",
      "0 22 31\n",
      "0 22 32\n",
      "0 22 33\n",
      "0 22 34\n",
      "0 22 35\n",
      "0 22 36\n",
      "0 22 37\n",
      "0 23 24\n",
      "0 23 25\n",
      "0 23 26\n",
      "0 23 27\n",
      "0 23 28\n",
      "0 23 29\n",
      "0 23 30\n",
      "0 23 31\n",
      "0 23 32\n",
      "0 23 33\n",
      "0 23 34\n",
      "0 23 35\n",
      "0 23 36\n",
      "0 23 37\n",
      "0 24 25\n",
      "0 24 26\n",
      "0 24 27\n",
      "0 24 28\n",
      "0 24 29\n",
      "0 24 30\n",
      "0 24 31\n",
      "0 24 32\n",
      "0 24 33\n",
      "0 24 34\n",
      "0 24 35\n",
      "0 24 36\n",
      "0 24 37\n",
      "0 25 26\n",
      "0 25 27\n",
      "0 25 28\n",
      "0 25 29\n",
      "0 25 30\n",
      "0 25 31\n",
      "0 25 32\n",
      "0 25 33\n",
      "0 25 34\n",
      "0 25 35\n",
      "0 25 36\n",
      "0 25 37\n",
      "0 26 27\n",
      "0 26 28\n",
      "0 26 29\n",
      "0 26 30\n",
      "0 26 31\n",
      "0 26 32\n",
      "0 26 33\n",
      "0 26 34\n",
      "0 26 35\n",
      "0 26 36\n",
      "0 26 37\n",
      "0 27 28\n",
      "0 27 29\n",
      "0 27 30\n",
      "0 27 31\n",
      "0 27 32\n",
      "0 27 33\n",
      "0 27 34\n",
      "0 27 35\n",
      "0 27 36\n",
      "0 27 37\n",
      "0 28 29\n",
      "0 28 30\n",
      "0 28 31\n",
      "0 28 32\n",
      "0 28 33\n",
      "0 28 34\n",
      "0 28 35\n",
      "0 28 36\n",
      "0 28 37\n",
      "0 29 30\n",
      "0 29 31\n",
      "0 29 32\n",
      "0 29 33\n",
      "0 29 34\n",
      "0 29 35\n",
      "0 29 36\n",
      "0 29 37\n",
      "0 30 31\n",
      "0 30 32\n",
      "0 30 33\n",
      "0 30 34\n",
      "0 30 35\n",
      "0 30 36\n",
      "0 30 37\n",
      "0 31 32\n",
      "0 31 33\n",
      "0 31 34\n",
      "0 31 35\n",
      "0 31 36\n",
      "0 31 37\n",
      "0 32 33\n",
      "0 32 34\n",
      "0 32 35\n",
      "0 32 36\n",
      "0 32 37\n",
      "0 33 34\n",
      "0 33 35\n",
      "0 33 36\n",
      "0 33 37\n",
      "0 34 35\n",
      "0 34 36\n",
      "0 34 37\n",
      "0 35 36\n",
      "0 35 37\n",
      "0 36 37\n",
      "1 2 3\n",
      "1 2 4\n",
      "1 2 5\n",
      "1 2 6\n",
      "1 2 7\n",
      "1 2 8\n",
      "1 2 9\n",
      "1 2 10\n",
      "1 2 11\n",
      "1 2 12\n",
      "1 2 13\n",
      "1 2 14\n",
      "1 2 15\n",
      "1 2 16\n",
      "1 2 17\n",
      "1 2 18\n",
      "1 2 19\n",
      "1 2 20\n",
      "1 2 21\n",
      "1 2 22\n",
      "1 2 23\n",
      "1 2 24\n",
      "1 2 25\n",
      "1 2 26\n",
      "1 2 27\n",
      "1 2 28\n",
      "1 2 29\n",
      "1 2 30\n",
      "1 2 31\n",
      "1 2 32\n",
      "1 2 33\n",
      "1 2 34\n",
      "1 2 35\n",
      "1 2 36\n",
      "1 2 37\n",
      "1 3 4\n",
      "1 3 5\n",
      "1 3 6\n",
      "1 3 7\n",
      "1 3 8\n",
      "1 3 9\n",
      "1 3 10\n",
      "1 3 11\n",
      "1 3 12\n",
      "1 3 13\n",
      "1 3 14\n",
      "1 3 15\n",
      "1 3 16\n",
      "1 3 17\n",
      "1 3 18\n",
      "1 3 19\n",
      "1 3 20\n",
      "1 3 21\n",
      "1 3 22\n",
      "1 3 23\n",
      "1 3 24\n",
      "1 3 25\n",
      "1 3 26\n",
      "1 3 27\n",
      "1 3 28\n",
      "1 3 29\n",
      "1 3 30\n",
      "1 3 31\n",
      "1 3 32\n",
      "1 3 33\n",
      "1 3 34\n",
      "1 3 35\n",
      "1 3 36\n",
      "1 3 37\n",
      "1 4 5\n",
      "1 4 6\n",
      "1 4 7\n",
      "1 4 8\n",
      "1 4 9\n",
      "1 4 10\n",
      "1 4 11\n",
      "1 4 12\n",
      "1 4 13\n",
      "1 4 14\n",
      "1 4 15\n",
      "1 4 16\n",
      "1 4 17\n",
      "1 4 18\n",
      "1 4 19\n",
      "1 4 20\n",
      "1 4 21\n",
      "1 4 22\n",
      "1 4 23\n",
      "1 4 24\n",
      "1 4 25\n",
      "1 4 26\n",
      "1 4 27\n",
      "1 4 28\n",
      "1 4 29\n",
      "1 4 30\n",
      "1 4 31\n",
      "1 4 32\n",
      "1 4 33\n",
      "1 4 34\n",
      "1 4 35\n",
      "1 4 36\n",
      "1 4 37\n",
      "1 5 6\n",
      "1 5 7\n",
      "1 5 8\n",
      "1 5 9\n",
      "1 5 10\n",
      "1 5 11\n",
      "1 5 12\n",
      "1 5 13\n",
      "1 5 14\n",
      "1 5 15\n",
      "1 5 16\n",
      "1 5 17\n",
      "1 5 18\n",
      "1 5 19\n",
      "1 5 20\n",
      "1 5 21\n",
      "1 5 22\n",
      "1 5 23\n",
      "1 5 24\n",
      "1 5 25\n",
      "1 5 26\n",
      "1 5 27\n",
      "1 5 28\n",
      "1 5 29\n",
      "1 5 30\n",
      "1 5 31\n",
      "1 5 32\n",
      "1 5 33\n",
      "1 5 34\n",
      "1 5 35\n",
      "1 5 36\n",
      "1 5 37\n",
      "1 6 7\n",
      "1 6 8\n",
      "1 6 9\n",
      "1 6 10\n",
      "1 6 11\n",
      "1 6 12\n",
      "1 6 13\n",
      "1 6 14\n",
      "1 6 15\n",
      "1 6 16\n",
      "1 6 17\n",
      "1 6 18\n",
      "1 6 19\n",
      "1 6 20\n",
      "1 6 21\n",
      "1 6 22\n",
      "1 6 23\n",
      "1 6 24\n",
      "1 6 25\n",
      "1 6 26\n",
      "1 6 27\n",
      "1 6 28\n",
      "1 6 29\n",
      "1 6 30\n",
      "1 6 31\n",
      "1 6 32\n",
      "1 6 33\n",
      "1 6 34\n",
      "1 6 35\n",
      "1 6 36\n",
      "1 6 37\n",
      "1 7 8\n",
      "1 7 9\n",
      "1 7 10\n",
      "1 7 11\n",
      "1 7 12\n",
      "1 7 13\n",
      "1 7 14\n",
      "1 7 15\n",
      "1 7 16\n",
      "1 7 17\n",
      "1 7 18\n",
      "1 7 19\n",
      "1 7 20\n",
      "1 7 21\n",
      "1 7 22\n",
      "1 7 23\n",
      "1 7 24\n",
      "1 7 25\n",
      "1 7 26\n",
      "1 7 27\n",
      "1 7 28\n",
      "1 7 29\n",
      "1 7 30\n",
      "1 7 31\n",
      "1 7 32\n",
      "1 7 33\n",
      "1 7 34\n",
      "1 7 35\n",
      "1 7 36\n",
      "1 7 37\n",
      "1 8 9\n",
      "1 8 10\n",
      "1 8 11\n",
      "1 8 12\n",
      "1 8 13\n",
      "1 8 14\n",
      "1 8 15\n",
      "1 8 16\n",
      "1 8 17\n",
      "1 8 18\n",
      "1 8 19\n",
      "1 8 20\n",
      "1 8 21\n",
      "1 8 22\n",
      "1 8 23\n",
      "1 8 24\n",
      "1 8 25\n",
      "1 8 26\n",
      "1 8 27\n",
      "1 8 28\n",
      "1 8 29\n",
      "1 8 30\n",
      "1 8 31\n",
      "1 8 32\n",
      "1 8 33\n",
      "1 8 34\n",
      "1 8 35\n",
      "1 8 36\n",
      "1 8 37\n",
      "1 9 10\n",
      "1 9 11\n",
      "1 9 12\n",
      "1 9 13\n",
      "1 9 14\n",
      "1 9 15\n",
      "1 9 16\n",
      "1 9 17\n",
      "1 9 18\n",
      "1 9 19\n",
      "1 9 20\n",
      "1 9 21\n",
      "1 9 22\n",
      "1 9 23\n",
      "1 9 24\n",
      "1 9 25\n",
      "1 9 26\n",
      "1 9 27\n",
      "1 9 28\n",
      "1 9 29\n",
      "1 9 30\n",
      "1 9 31\n",
      "1 9 32\n",
      "1 9 33\n",
      "1 9 34\n",
      "1 9 35\n",
      "1 9 36\n",
      "1 9 37\n",
      "1 10 11\n",
      "1 10 12\n",
      "1 10 13\n",
      "1 10 14\n",
      "1 10 15\n",
      "1 10 16\n",
      "1 10 17\n",
      "1 10 18\n",
      "1 10 19\n",
      "1 10 20\n",
      "1 10 21\n",
      "1 10 22\n",
      "1 10 23\n",
      "1 10 24\n",
      "1 10 25\n",
      "1 10 26\n",
      "1 10 27\n",
      "1 10 28\n",
      "1 10 29\n",
      "1 10 30\n",
      "1 10 31\n",
      "1 10 32\n",
      "1 10 33\n",
      "1 10 34\n",
      "1 10 35\n",
      "1 10 36\n",
      "1 10 37\n",
      "1 11 12\n",
      "1 11 13\n",
      "1 11 14\n",
      "1 11 15\n",
      "1 11 16\n",
      "1 11 17\n",
      "1 11 18\n",
      "1 11 19\n",
      "1 11 20\n",
      "1 11 21\n",
      "1 11 22\n",
      "1 11 23\n",
      "1 11 24\n",
      "1 11 25\n",
      "1 11 26\n",
      "1 11 27\n",
      "1 11 28\n",
      "1 11 29\n",
      "1 11 30\n",
      "1 11 31\n",
      "1 11 32\n",
      "1 11 33\n",
      "1 11 34\n",
      "1 11 35\n",
      "1 11 36\n",
      "1 11 37\n",
      "1 12 13\n",
      "1 12 14\n",
      "1 12 15\n",
      "1 12 16\n",
      "1 12 17\n",
      "1 12 18\n",
      "1 12 19\n",
      "1 12 20\n",
      "1 12 21\n",
      "1 12 22\n",
      "1 12 23\n",
      "1 12 24\n",
      "1 12 25\n",
      "1 12 26\n",
      "1 12 27\n",
      "1 12 28\n",
      "1 12 29\n",
      "1 12 30\n",
      "1 12 31\n",
      "1 12 32\n",
      "1 12 33\n",
      "1 12 34\n",
      "1 12 35\n",
      "1 12 36\n",
      "1 12 37\n",
      "1 13 14\n",
      "1 13 15\n",
      "1 13 16\n",
      "1 13 17\n",
      "1 13 18\n",
      "1 13 19\n",
      "1 13 20\n",
      "1 13 21\n",
      "1 13 22\n",
      "1 13 23\n",
      "1 13 24\n",
      "1 13 25\n",
      "1 13 26\n",
      "1 13 27\n",
      "1 13 28\n",
      "1 13 29\n",
      "1 13 30\n",
      "1 13 31\n",
      "1 13 32\n",
      "1 13 33\n",
      "1 13 34\n",
      "1 13 35\n",
      "1 13 36\n",
      "1 13 37\n",
      "1 14 15\n",
      "1 14 16\n",
      "1 14 17\n",
      "1 14 18\n",
      "1 14 19\n",
      "1 14 20\n",
      "1 14 21\n",
      "1 14 22\n",
      "1 14 23\n",
      "1 14 24\n",
      "1 14 25\n",
      "1 14 26\n",
      "1 14 27\n",
      "1 14 28\n",
      "1 14 29\n",
      "1 14 30\n",
      "1 14 31\n",
      "1 14 32\n",
      "1 14 33\n",
      "1 14 34\n",
      "1 14 35\n",
      "1 14 36\n",
      "1 14 37\n",
      "1 15 16\n",
      "1 15 17\n",
      "1 15 18\n",
      "1 15 19\n",
      "1 15 20\n",
      "1 15 21\n",
      "1 15 22\n",
      "1 15 23\n",
      "1 15 24\n",
      "1 15 25\n",
      "1 15 26\n",
      "1 15 27\n",
      "1 15 28\n",
      "1 15 29\n",
      "1 15 30\n",
      "1 15 31\n",
      "1 15 32\n",
      "1 15 33\n",
      "1 15 34\n",
      "1 15 35\n",
      "1 15 36\n",
      "1 15 37\n",
      "1 16 17\n",
      "1 16 18\n",
      "1 16 19\n",
      "1 16 20\n",
      "1 16 21\n",
      "1 16 22\n",
      "1 16 23\n",
      "1 16 24\n",
      "1 16 25\n",
      "1 16 26\n",
      "1 16 27\n",
      "1 16 28\n",
      "1 16 29\n",
      "1 16 30\n",
      "1 16 31\n",
      "1 16 32\n",
      "1 16 33\n",
      "1 16 34\n",
      "1 16 35\n",
      "1 16 36\n",
      "1 16 37\n",
      "1 17 18\n",
      "1 17 19\n",
      "1 17 20\n",
      "1 17 21\n",
      "1 17 22\n",
      "1 17 23\n",
      "1 17 24\n",
      "1 17 25\n",
      "1 17 26\n",
      "1 17 27\n",
      "1 17 28\n",
      "1 17 29\n",
      "1 17 30\n",
      "1 17 31\n",
      "1 17 32\n",
      "1 17 33\n",
      "1 17 34\n",
      "1 17 35\n",
      "1 17 36\n",
      "1 17 37\n",
      "1 18 19\n",
      "1 18 20\n",
      "1 18 21\n",
      "1 18 22\n",
      "1 18 23\n",
      "1 18 24\n",
      "1 18 25\n",
      "1 18 26\n",
      "1 18 27\n",
      "1 18 28\n",
      "1 18 29\n",
      "1 18 30\n",
      "1 18 31\n",
      "1 18 32\n",
      "1 18 33\n",
      "1 18 34\n",
      "1 18 35\n",
      "1 18 36\n",
      "1 18 37\n",
      "1 19 20\n",
      "1 19 21\n",
      "1 19 22\n",
      "1 19 23\n",
      "1 19 24\n",
      "1 19 25\n",
      "1 19 26\n",
      "1 19 27\n",
      "1 19 28\n",
      "1 19 29\n",
      "1 19 30\n",
      "1 19 31\n",
      "1 19 32\n",
      "1 19 33\n",
      "1 19 34\n",
      "1 19 35\n",
      "1 19 36\n",
      "1 19 37\n",
      "1 20 21\n",
      "1 20 22\n",
      "1 20 23\n",
      "1 20 24\n",
      "1 20 25\n",
      "1 20 26\n",
      "1 20 27\n",
      "1 20 28\n",
      "1 20 29\n",
      "1 20 30\n",
      "1 20 31\n",
      "1 20 32\n",
      "1 20 33\n",
      "1 20 34\n",
      "1 20 35\n",
      "1 20 36\n",
      "1 20 37\n",
      "1 21 22\n",
      "1 21 23\n",
      "1 21 24\n",
      "1 21 25\n",
      "1 21 26\n",
      "1 21 27\n",
      "1 21 28\n",
      "1 21 29\n",
      "1 21 30\n",
      "1 21 31\n",
      "1 21 32\n",
      "1 21 33\n",
      "1 21 34\n",
      "1 21 35\n",
      "1 21 36\n",
      "1 21 37\n",
      "1 22 23\n",
      "1 22 24\n",
      "1 22 25\n",
      "1 22 26\n",
      "1 22 27\n",
      "1 22 28\n",
      "1 22 29\n",
      "1 22 30\n",
      "1 22 31\n",
      "1 22 32\n",
      "1 22 33\n",
      "1 22 34\n",
      "1 22 35\n",
      "1 22 36\n",
      "1 22 37\n",
      "1 23 24\n",
      "1 23 25\n",
      "1 23 26\n",
      "1 23 27\n",
      "1 23 28\n",
      "1 23 29\n",
      "1 23 30\n",
      "1 23 31\n",
      "1 23 32\n",
      "1 23 33\n",
      "1 23 34\n",
      "1 23 35\n",
      "1 23 36\n",
      "1 23 37\n",
      "1 24 25\n",
      "1 24 26\n",
      "1 24 27\n",
      "1 24 28\n",
      "1 24 29\n",
      "1 24 30\n",
      "1 24 31\n",
      "1 24 32\n",
      "1 24 33\n",
      "1 24 34\n",
      "1 24 35\n",
      "1 24 36\n",
      "1 24 37\n",
      "1 25 26\n",
      "1 25 27\n",
      "1 25 28\n",
      "1 25 29\n",
      "1 25 30\n",
      "1 25 31\n",
      "1 25 32\n",
      "1 25 33\n",
      "1 25 34\n",
      "1 25 35\n",
      "1 25 36\n",
      "1 25 37\n",
      "1 26 27\n",
      "1 26 28\n",
      "1 26 29\n",
      "1 26 30\n",
      "1 26 31\n",
      "1 26 32\n",
      "1 26 33\n",
      "1 26 34\n",
      "1 26 35\n",
      "1 26 36\n",
      "1 26 37\n",
      "1 27 28\n",
      "1 27 29\n",
      "1 27 30\n",
      "1 27 31\n",
      "1 27 32\n",
      "1 27 33\n",
      "1 27 34\n",
      "1 27 35\n",
      "1 27 36\n",
      "1 27 37\n",
      "1 28 29\n",
      "1 28 30\n",
      "1 28 31\n",
      "1 28 32\n",
      "1 28 33\n",
      "1 28 34\n",
      "1 28 35\n",
      "1 28 36\n",
      "1 28 37\n",
      "1 29 30\n",
      "1 29 31\n",
      "1 29 32\n",
      "1 29 33\n",
      "1 29 34\n",
      "1 29 35\n",
      "1 29 36\n",
      "1 29 37\n",
      "1 30 31\n",
      "1 30 32\n",
      "1 30 33\n",
      "1 30 34\n",
      "1 30 35\n",
      "1 30 36\n",
      "1 30 37\n",
      "1 31 32\n",
      "1 31 33\n",
      "1 31 34\n",
      "1 31 35\n",
      "1 31 36\n",
      "1 31 37\n",
      "1 32 33\n",
      "1 32 34\n",
      "1 32 35\n",
      "1 32 36\n",
      "1 32 37\n",
      "1 33 34\n",
      "1 33 35\n",
      "1 33 36\n",
      "1 33 37\n",
      "1 34 35\n",
      "1 34 36\n",
      "1 34 37\n",
      "1 35 36\n",
      "1 35 37\n",
      "1 36 37\n",
      "2 3 4\n",
      "2 3 5\n",
      "2 3 6\n",
      "2 3 7\n",
      "2 3 8\n",
      "2 3 9\n",
      "2 3 10\n",
      "2 3 11\n",
      "2 3 12\n",
      "2 3 13\n",
      "2 3 14\n",
      "2 3 15\n",
      "2 3 16\n",
      "2 3 17\n",
      "2 3 18\n",
      "2 3 19\n",
      "2 3 20\n",
      "2 3 21\n",
      "2 3 22\n",
      "2 3 23\n",
      "2 3 24\n",
      "2 3 25\n",
      "2 3 26\n",
      "2 3 27\n",
      "2 3 28\n",
      "2 3 29\n",
      "2 3 30\n",
      "2 3 31\n",
      "2 3 32\n",
      "2 3 33\n",
      "2 3 34\n",
      "2 3 35\n",
      "2 3 36\n",
      "2 3 37\n",
      "2 4 5\n",
      "2 4 6\n",
      "2 4 7\n",
      "2 4 8\n",
      "2 4 9\n",
      "2 4 10\n",
      "2 4 11\n",
      "2 4 12\n",
      "2 4 13\n",
      "2 4 14\n",
      "2 4 15\n",
      "2 4 16\n",
      "2 4 17\n",
      "2 4 18\n",
      "2 4 19\n",
      "2 4 20\n",
      "2 4 21\n",
      "2 4 22\n",
      "2 4 23\n",
      "2 4 24\n",
      "2 4 25\n",
      "2 4 26\n",
      "2 4 27\n",
      "2 4 28\n",
      "2 4 29\n",
      "2 4 30\n",
      "2 4 31\n",
      "2 4 32\n",
      "2 4 33\n",
      "2 4 34\n",
      "2 4 35\n",
      "2 4 36\n",
      "2 4 37\n",
      "2 5 6\n",
      "2 5 7\n",
      "2 5 8\n",
      "2 5 9\n",
      "2 5 10\n",
      "2 5 11\n",
      "2 5 12\n",
      "2 5 13\n",
      "2 5 14\n",
      "2 5 15\n",
      "2 5 16\n",
      "2 5 17\n",
      "2 5 18\n",
      "2 5 19\n",
      "2 5 20\n",
      "2 5 21\n",
      "2 5 22\n",
      "2 5 23\n",
      "2 5 24\n",
      "2 5 25\n",
      "2 5 26\n",
      "2 5 27\n",
      "2 5 28\n",
      "2 5 29\n",
      "2 5 30\n",
      "2 5 31\n",
      "2 5 32\n",
      "2 5 33\n",
      "2 5 34\n",
      "2 5 35\n",
      "2 5 36\n",
      "2 5 37\n",
      "2 6 7\n",
      "2 6 8\n",
      "2 6 9\n",
      "2 6 10\n",
      "2 6 11\n",
      "2 6 12\n",
      "2 6 13\n",
      "2 6 14\n",
      "2 6 15\n",
      "2 6 16\n",
      "2 6 17\n",
      "2 6 18\n",
      "2 6 19\n",
      "2 6 20\n",
      "2 6 21\n",
      "2 6 22\n",
      "2 6 23\n",
      "2 6 24\n",
      "2 6 25\n",
      "2 6 26\n",
      "2 6 27\n",
      "2 6 28\n",
      "2 6 29\n",
      "2 6 30\n",
      "2 6 31\n",
      "2 6 32\n",
      "2 6 33\n",
      "2 6 34\n",
      "2 6 35\n",
      "2 6 36\n",
      "2 6 37\n",
      "2 7 8\n",
      "2 7 9\n",
      "2 7 10\n",
      "2 7 11\n",
      "2 7 12\n",
      "2 7 13\n",
      "2 7 14\n",
      "2 7 15\n",
      "2 7 16\n",
      "2 7 17\n",
      "2 7 18\n",
      "2 7 19\n",
      "2 7 20\n",
      "2 7 21\n",
      "2 7 22\n",
      "2 7 23\n",
      "2 7 24\n",
      "2 7 25\n",
      "2 7 26\n",
      "2 7 27\n",
      "2 7 28\n",
      "2 7 29\n",
      "2 7 30\n",
      "2 7 31\n",
      "2 7 32\n",
      "2 7 33\n",
      "2 7 34\n",
      "2 7 35\n",
      "2 7 36\n",
      "2 7 37\n",
      "2 8 9\n",
      "2 8 10\n",
      "2 8 11\n",
      "2 8 12\n",
      "2 8 13\n",
      "2 8 14\n",
      "2 8 15\n",
      "2 8 16\n",
      "2 8 17\n",
      "2 8 18\n",
      "2 8 19\n",
      "2 8 20\n",
      "2 8 21\n",
      "2 8 22\n",
      "2 8 23\n",
      "2 8 24\n",
      "2 8 25\n",
      "2 8 26\n",
      "2 8 27\n",
      "2 8 28\n",
      "2 8 29\n",
      "2 8 30\n",
      "2 8 31\n",
      "2 8 32\n",
      "2 8 33\n",
      "2 8 34\n",
      "2 8 35\n",
      "2 8 36\n",
      "2 8 37\n",
      "2 9 10\n",
      "2 9 11\n",
      "2 9 12\n",
      "2 9 13\n",
      "2 9 14\n",
      "2 9 15\n",
      "2 9 16\n",
      "2 9 17\n",
      "2 9 18\n",
      "2 9 19\n",
      "2 9 20\n",
      "2 9 21\n",
      "2 9 22\n",
      "2 9 23\n",
      "2 9 24\n",
      "2 9 25\n",
      "2 9 26\n",
      "2 9 27\n",
      "2 9 28\n",
      "2 9 29\n",
      "2 9 30\n",
      "2 9 31\n",
      "2 9 32\n",
      "2 9 33\n",
      "2 9 34\n",
      "2 9 35\n",
      "2 9 36\n",
      "2 9 37\n",
      "2 10 11\n",
      "2 10 12\n",
      "2 10 13\n",
      "2 10 14\n",
      "2 10 15\n",
      "2 10 16\n",
      "2 10 17\n",
      "2 10 18\n",
      "2 10 19\n",
      "2 10 20\n",
      "2 10 21\n",
      "2 10 22\n",
      "2 10 23\n",
      "2 10 24\n",
      "2 10 25\n",
      "2 10 26\n",
      "2 10 27\n",
      "2 10 28\n",
      "2 10 29\n",
      "2 10 30\n",
      "2 10 31\n",
      "2 10 32\n",
      "2 10 33\n",
      "2 10 34\n",
      "2 10 35\n",
      "2 10 36\n",
      "2 10 37\n",
      "2 11 12\n",
      "2 11 13\n",
      "2 11 14\n",
      "2 11 15\n",
      "2 11 16\n",
      "2 11 17\n",
      "2 11 18\n",
      "2 11 19\n",
      "2 11 20\n",
      "2 11 21\n",
      "2 11 22\n",
      "2 11 23\n",
      "2 11 24\n",
      "2 11 25\n",
      "2 11 26\n",
      "2 11 27\n",
      "2 11 28\n",
      "2 11 29\n",
      "2 11 30\n",
      "2 11 31\n",
      "2 11 32\n",
      "2 11 33\n",
      "2 11 34\n",
      "2 11 35\n",
      "2 11 36\n",
      "2 11 37\n",
      "2 12 13\n",
      "2 12 14\n",
      "2 12 15\n",
      "2 12 16\n",
      "2 12 17\n",
      "2 12 18\n",
      "2 12 19\n",
      "2 12 20\n",
      "2 12 21\n",
      "2 12 22\n",
      "2 12 23\n",
      "2 12 24\n",
      "2 12 25\n",
      "2 12 26\n",
      "2 12 27\n",
      "2 12 28\n",
      "2 12 29\n",
      "2 12 30\n",
      "2 12 31\n",
      "2 12 32\n",
      "2 12 33\n",
      "2 12 34\n",
      "2 12 35\n",
      "2 12 36\n",
      "2 12 37\n",
      "2 13 14\n",
      "2 13 15\n",
      "2 13 16\n",
      "2 13 17\n",
      "2 13 18\n",
      "2 13 19\n",
      "2 13 20\n",
      "2 13 21\n",
      "2 13 22\n",
      "2 13 23\n",
      "2 13 24\n",
      "2 13 25\n",
      "2 13 26\n",
      "2 13 27\n",
      "2 13 28\n",
      "2 13 29\n",
      "2 13 30\n",
      "2 13 31\n",
      "2 13 32\n",
      "2 13 33\n",
      "2 13 34\n",
      "2 13 35\n",
      "2 13 36\n",
      "2 13 37\n",
      "2 14 15\n",
      "2 14 16\n",
      "2 14 17\n",
      "2 14 18\n",
      "2 14 19\n",
      "2 14 20\n",
      "2 14 21\n",
      "2 14 22\n",
      "2 14 23\n",
      "2 14 24\n",
      "2 14 25\n",
      "2 14 26\n",
      "2 14 27\n",
      "2 14 28\n",
      "2 14 29\n",
      "2 14 30\n",
      "2 14 31\n",
      "2 14 32\n",
      "2 14 33\n",
      "2 14 34\n",
      "2 14 35\n",
      "2 14 36\n",
      "2 14 37\n",
      "2 15 16\n",
      "2 15 17\n",
      "2 15 18\n",
      "2 15 19\n",
      "2 15 20\n",
      "2 15 21\n",
      "2 15 22\n",
      "2 15 23\n",
      "2 15 24\n",
      "2 15 25\n",
      "2 15 26\n",
      "2 15 27\n",
      "2 15 28\n",
      "2 15 29\n",
      "2 15 30\n",
      "2 15 31\n",
      "2 15 32\n",
      "2 15 33\n",
      "2 15 34\n",
      "2 15 35\n",
      "2 15 36\n",
      "2 15 37\n",
      "2 16 17\n",
      "2 16 18\n",
      "2 16 19\n",
      "2 16 20\n",
      "2 16 21\n",
      "2 16 22\n",
      "2 16 23\n",
      "2 16 24\n",
      "2 16 25\n",
      "2 16 26\n",
      "2 16 27\n",
      "2 16 28\n",
      "2 16 29\n",
      "2 16 30\n",
      "2 16 31\n",
      "2 16 32\n",
      "2 16 33\n",
      "2 16 34\n",
      "2 16 35\n",
      "2 16 36\n",
      "2 16 37\n",
      "2 17 18\n",
      "2 17 19\n",
      "2 17 20\n",
      "2 17 21\n",
      "2 17 22\n",
      "2 17 23\n",
      "2 17 24\n",
      "2 17 25\n",
      "2 17 26\n",
      "2 17 27\n",
      "2 17 28\n",
      "2 17 29\n",
      "2 17 30\n",
      "2 17 31\n",
      "2 17 32\n",
      "2 17 33\n",
      "2 17 34\n",
      "2 17 35\n",
      "2 17 36\n",
      "2 17 37\n",
      "2 18 19\n",
      "2 18 20\n",
      "2 18 21\n",
      "2 18 22\n",
      "2 18 23\n",
      "2 18 24\n",
      "2 18 25\n",
      "2 18 26\n",
      "2 18 27\n",
      "2 18 28\n",
      "2 18 29\n",
      "2 18 30\n",
      "2 18 31\n",
      "2 18 32\n",
      "2 18 33\n",
      "2 18 34\n",
      "2 18 35\n",
      "2 18 36\n",
      "2 18 37\n",
      "2 19 20\n",
      "2 19 21\n",
      "2 19 22\n",
      "2 19 23\n",
      "2 19 24\n",
      "2 19 25\n",
      "2 19 26\n",
      "2 19 27\n",
      "2 19 28\n",
      "2 19 29\n",
      "2 19 30\n",
      "2 19 31\n",
      "2 19 32\n",
      "2 19 33\n",
      "2 19 34\n",
      "2 19 35\n",
      "2 19 36\n",
      "2 19 37\n",
      "2 20 21\n",
      "2 20 22\n",
      "2 20 23\n",
      "2 20 24\n",
      "2 20 25\n",
      "2 20 26\n",
      "2 20 27\n",
      "2 20 28\n",
      "2 20 29\n",
      "2 20 30\n",
      "2 20 31\n",
      "2 20 32\n",
      "2 20 33\n",
      "2 20 34\n",
      "2 20 35\n",
      "2 20 36\n",
      "2 20 37\n",
      "2 21 22\n",
      "2 21 23\n",
      "2 21 24\n",
      "2 21 25\n",
      "2 21 26\n",
      "2 21 27\n",
      "2 21 28\n",
      "2 21 29\n",
      "2 21 30\n",
      "2 21 31\n",
      "2 21 32\n",
      "2 21 33\n",
      "2 21 34\n",
      "2 21 35\n",
      "2 21 36\n",
      "2 21 37\n",
      "2 22 23\n",
      "2 22 24\n",
      "2 22 25\n",
      "2 22 26\n",
      "2 22 27\n",
      "2 22 28\n",
      "2 22 29\n",
      "2 22 30\n",
      "2 22 31\n",
      "2 22 32\n",
      "2 22 33\n",
      "2 22 34\n",
      "2 22 35\n",
      "2 22 36\n",
      "2 22 37\n",
      "2 23 24\n",
      "2 23 25\n",
      "2 23 26\n",
      "2 23 27\n",
      "2 23 28\n",
      "2 23 29\n",
      "2 23 30\n",
      "2 23 31\n",
      "2 23 32\n",
      "2 23 33\n",
      "2 23 34\n",
      "2 23 35\n",
      "2 23 36\n",
      "2 23 37\n",
      "2 24 25\n",
      "2 24 26\n",
      "2 24 27\n",
      "2 24 28\n",
      "2 24 29\n",
      "2 24 30\n",
      "2 24 31\n",
      "2 24 32\n",
      "2 24 33\n",
      "2 24 34\n",
      "2 24 35\n",
      "2 24 36\n",
      "2 24 37\n",
      "2 25 26\n",
      "2 25 27\n",
      "2 25 28\n",
      "2 25 29\n",
      "2 25 30\n",
      "2 25 31\n",
      "2 25 32\n",
      "2 25 33\n",
      "2 25 34\n",
      "2 25 35\n",
      "2 25 36\n",
      "2 25 37\n",
      "2 26 27\n",
      "2 26 28\n",
      "2 26 29\n",
      "2 26 30\n",
      "2 26 31\n",
      "2 26 32\n",
      "2 26 33\n",
      "2 26 34\n",
      "2 26 35\n",
      "2 26 36\n",
      "2 26 37\n",
      "2 27 28\n",
      "2 27 29\n",
      "2 27 30\n",
      "2 27 31\n",
      "2 27 32\n",
      "2 27 33\n",
      "2 27 34\n",
      "2 27 35\n",
      "2 27 36\n",
      "2 27 37\n",
      "2 28 29\n",
      "2 28 30\n",
      "2 28 31\n",
      "2 28 32\n",
      "2 28 33\n",
      "2 28 34\n",
      "2 28 35\n",
      "2 28 36\n",
      "2 28 37\n",
      "2 29 30\n",
      "2 29 31\n",
      "2 29 32\n",
      "2 29 33\n",
      "2 29 34\n",
      "2 29 35\n",
      "2 29 36\n",
      "2 29 37\n",
      "2 30 31\n",
      "2 30 32\n",
      "2 30 33\n",
      "2 30 34\n",
      "2 30 35\n",
      "2 30 36\n",
      "2 30 37\n",
      "2 31 32\n",
      "2 31 33\n",
      "2 31 34\n",
      "2 31 35\n",
      "2 31 36\n",
      "2 31 37\n",
      "2 32 33\n",
      "2 32 34\n",
      "2 32 35\n",
      "2 32 36\n",
      "2 32 37\n",
      "2 33 34\n",
      "2 33 35\n",
      "2 33 36\n",
      "2 33 37\n",
      "2 34 35\n",
      "2 34 36\n",
      "2 34 37\n",
      "2 35 36\n",
      "2 35 37\n",
      "2 36 37\n",
      "3 4 5\n",
      "3 4 6\n",
      "3 4 7\n",
      "3 4 8\n",
      "3 4 9\n",
      "3 4 10\n",
      "3 4 11\n",
      "3 4 12\n",
      "3 4 13\n",
      "3 4 14\n",
      "3 4 15\n",
      "3 4 16\n",
      "3 4 17\n",
      "3 4 18\n",
      "3 4 19\n",
      "3 4 20\n",
      "3 4 21\n",
      "3 4 22\n",
      "3 4 23\n",
      "3 4 24\n",
      "3 4 25\n",
      "3 4 26\n",
      "3 4 27\n",
      "3 4 28\n",
      "3 4 29\n",
      "3 4 30\n",
      "3 4 31\n",
      "3 4 32\n",
      "3 4 33\n",
      "3 4 34\n",
      "3 4 35\n",
      "3 4 36\n",
      "3 4 37\n",
      "3 5 6\n",
      "3 5 7\n",
      "3 5 8\n",
      "3 5 9\n",
      "3 5 10\n",
      "3 5 11\n",
      "3 5 12\n",
      "3 5 13\n",
      "3 5 14\n",
      "3 5 15\n",
      "3 5 16\n",
      "3 5 17\n",
      "3 5 18\n",
      "3 5 19\n",
      "3 5 20\n",
      "3 5 21\n",
      "3 5 22\n",
      "3 5 23\n",
      "3 5 24\n",
      "3 5 25\n",
      "3 5 26\n",
      "3 5 27\n",
      "3 5 28\n",
      "3 5 29\n",
      "3 5 30\n",
      "3 5 31\n",
      "3 5 32\n",
      "3 5 33\n",
      "3 5 34\n",
      "3 5 35\n",
      "3 5 36\n",
      "3 5 37\n",
      "3 6 7\n",
      "3 6 8\n",
      "3 6 9\n",
      "3 6 10\n",
      "3 6 11\n",
      "3 6 12\n",
      "3 6 13\n",
      "3 6 14\n",
      "3 6 15\n",
      "3 6 16\n",
      "3 6 17\n",
      "3 6 18\n",
      "3 6 19\n",
      "3 6 20\n",
      "3 6 21\n",
      "3 6 22\n",
      "3 6 23\n",
      "3 6 24\n",
      "3 6 25\n",
      "3 6 26\n",
      "3 6 27\n",
      "3 6 28\n",
      "3 6 29\n",
      "3 6 30\n",
      "3 6 31\n",
      "3 6 32\n",
      "3 6 33\n",
      "3 6 34\n",
      "3 6 35\n",
      "3 6 36\n",
      "3 6 37\n",
      "3 7 8\n",
      "3 7 9\n",
      "3 7 10\n",
      "3 7 11\n",
      "3 7 12\n",
      "3 7 13\n",
      "3 7 14\n",
      "3 7 15\n",
      "3 7 16\n",
      "3 7 17\n",
      "3 7 18\n",
      "3 7 19\n",
      "3 7 20\n",
      "3 7 21\n",
      "3 7 22\n",
      "3 7 23\n",
      "3 7 24\n",
      "3 7 25\n",
      "3 7 26\n",
      "3 7 27\n",
      "3 7 28\n",
      "3 7 29\n",
      "3 7 30\n",
      "3 7 31\n",
      "3 7 32\n",
      "3 7 33\n",
      "3 7 34\n",
      "3 7 35\n",
      "3 7 36\n",
      "3 7 37\n",
      "3 8 9\n",
      "3 8 10\n",
      "3 8 11\n",
      "3 8 12\n",
      "3 8 13\n",
      "3 8 14\n",
      "3 8 15\n",
      "3 8 16\n",
      "3 8 17\n",
      "3 8 18\n",
      "3 8 19\n",
      "3 8 20\n",
      "3 8 21\n",
      "3 8 22\n",
      "3 8 23\n",
      "3 8 24\n",
      "3 8 25\n",
      "3 8 26\n",
      "3 8 27\n",
      "3 8 28\n",
      "3 8 29\n",
      "3 8 30\n",
      "3 8 31\n",
      "3 8 32\n",
      "3 8 33\n",
      "3 8 34\n",
      "3 8 35\n",
      "3 8 36\n",
      "3 8 37\n",
      "3 9 10\n",
      "3 9 11\n",
      "3 9 12\n",
      "3 9 13\n",
      "3 9 14\n",
      "3 9 15\n",
      "3 9 16\n",
      "3 9 17\n",
      "3 9 18\n",
      "3 9 19\n",
      "3 9 20\n",
      "3 9 21\n",
      "3 9 22\n",
      "3 9 23\n",
      "3 9 24\n",
      "3 9 25\n",
      "3 9 26\n",
      "3 9 27\n",
      "3 9 28\n",
      "3 9 29\n",
      "3 9 30\n",
      "3 9 31\n",
      "3 9 32\n",
      "3 9 33\n",
      "3 9 34\n",
      "3 9 35\n",
      "3 9 36\n",
      "3 9 37\n",
      "3 10 11\n",
      "3 10 12\n",
      "3 10 13\n",
      "3 10 14\n",
      "3 10 15\n",
      "3 10 16\n",
      "3 10 17\n",
      "3 10 18\n",
      "3 10 19\n",
      "3 10 20\n",
      "3 10 21\n",
      "3 10 22\n",
      "3 10 23\n",
      "3 10 24\n",
      "3 10 25\n",
      "3 10 26\n",
      "3 10 27\n",
      "3 10 28\n",
      "3 10 29\n",
      "3 10 30\n",
      "3 10 31\n",
      "3 10 32\n",
      "3 10 33\n",
      "3 10 34\n",
      "3 10 35\n",
      "3 10 36\n",
      "3 10 37\n",
      "3 11 12\n",
      "3 11 13\n",
      "3 11 14\n",
      "3 11 15\n",
      "3 11 16\n",
      "3 11 17\n",
      "3 11 18\n",
      "3 11 19\n",
      "3 11 20\n",
      "3 11 21\n",
      "3 11 22\n",
      "3 11 23\n",
      "3 11 24\n",
      "3 11 25\n",
      "3 11 26\n",
      "3 11 27\n",
      "3 11 28\n",
      "3 11 29\n",
      "3 11 30\n",
      "3 11 31\n",
      "3 11 32\n",
      "3 11 33\n",
      "3 11 34\n",
      "3 11 35\n",
      "3 11 36\n",
      "3 11 37\n",
      "3 12 13\n",
      "3 12 14\n",
      "3 12 15\n",
      "3 12 16\n",
      "3 12 17\n",
      "3 12 18\n",
      "3 12 19\n",
      "3 12 20\n",
      "3 12 21\n",
      "3 12 22\n",
      "3 12 23\n",
      "3 12 24\n",
      "3 12 25\n",
      "3 12 26\n",
      "3 12 27\n",
      "3 12 28\n",
      "3 12 29\n",
      "3 12 30\n",
      "3 12 31\n",
      "3 12 32\n",
      "3 12 33\n",
      "3 12 34\n",
      "3 12 35\n",
      "3 12 36\n",
      "3 12 37\n",
      "3 13 14\n",
      "3 13 15\n",
      "3 13 16\n",
      "3 13 17\n",
      "3 13 18\n",
      "3 13 19\n",
      "3 13 20\n",
      "3 13 21\n",
      "3 13 22\n",
      "3 13 23\n",
      "3 13 24\n",
      "3 13 25\n",
      "3 13 26\n",
      "3 13 27\n",
      "3 13 28\n",
      "3 13 29\n",
      "3 13 30\n",
      "3 13 31\n",
      "3 13 32\n",
      "3 13 33\n",
      "3 13 34\n",
      "3 13 35\n",
      "3 13 36\n",
      "3 13 37\n",
      "3 14 15\n",
      "3 14 16\n",
      "3 14 17\n",
      "3 14 18\n",
      "3 14 19\n",
      "3 14 20\n",
      "3 14 21\n",
      "3 14 22\n",
      "3 14 23\n",
      "3 14 24\n",
      "3 14 25\n",
      "3 14 26\n",
      "3 14 27\n",
      "3 14 28\n",
      "3 14 29\n",
      "3 14 30\n",
      "3 14 31\n",
      "3 14 32\n",
      "3 14 33\n",
      "3 14 34\n",
      "3 14 35\n",
      "3 14 36\n",
      "3 14 37\n",
      "3 15 16\n",
      "3 15 17\n",
      "3 15 18\n",
      "3 15 19\n",
      "3 15 20\n",
      "3 15 21\n",
      "3 15 22\n",
      "3 15 23\n",
      "3 15 24\n",
      "3 15 25\n",
      "3 15 26\n",
      "3 15 27\n",
      "3 15 28\n",
      "3 15 29\n",
      "3 15 30\n",
      "3 15 31\n",
      "3 15 32\n",
      "3 15 33\n",
      "3 15 34\n",
      "3 15 35\n",
      "3 15 36\n",
      "3 15 37\n",
      "3 16 17\n",
      "3 16 18\n",
      "3 16 19\n",
      "3 16 20\n",
      "3 16 21\n",
      "3 16 22\n",
      "3 16 23\n",
      "3 16 24\n",
      "3 16 25\n",
      "3 16 26\n",
      "3 16 27\n",
      "3 16 28\n",
      "3 16 29\n",
      "3 16 30\n",
      "3 16 31\n",
      "3 16 32\n",
      "3 16 33\n",
      "3 16 34\n",
      "3 16 35\n",
      "3 16 36\n",
      "3 16 37\n",
      "3 17 18\n",
      "3 17 19\n",
      "3 17 20\n",
      "3 17 21\n",
      "3 17 22\n",
      "3 17 23\n",
      "3 17 24\n",
      "3 17 25\n",
      "3 17 26\n",
      "3 17 27\n",
      "3 17 28\n",
      "3 17 29\n",
      "3 17 30\n",
      "3 17 31\n",
      "3 17 32\n",
      "3 17 33\n",
      "3 17 34\n",
      "3 17 35\n",
      "3 17 36\n",
      "3 17 37\n",
      "3 18 19\n",
      "3 18 20\n",
      "3 18 21\n",
      "3 18 22\n",
      "3 18 23\n",
      "3 18 24\n",
      "3 18 25\n",
      "3 18 26\n",
      "3 18 27\n",
      "3 18 28\n",
      "3 18 29\n",
      "3 18 30\n",
      "3 18 31\n",
      "3 18 32\n",
      "3 18 33\n",
      "3 18 34\n",
      "3 18 35\n",
      "3 18 36\n",
      "3 18 37\n",
      "3 19 20\n",
      "3 19 21\n",
      "3 19 22\n",
      "3 19 23\n",
      "3 19 24\n",
      "3 19 25\n",
      "3 19 26\n",
      "3 19 27\n",
      "3 19 28\n",
      "3 19 29\n",
      "3 19 30\n",
      "3 19 31\n",
      "3 19 32\n",
      "3 19 33\n",
      "3 19 34\n",
      "3 19 35\n",
      "3 19 36\n",
      "3 19 37\n",
      "3 20 21\n",
      "3 20 22\n",
      "3 20 23\n",
      "3 20 24\n",
      "3 20 25\n",
      "3 20 26\n",
      "3 20 27\n",
      "3 20 28\n",
      "3 20 29\n",
      "3 20 30\n",
      "3 20 31\n",
      "3 20 32\n",
      "3 20 33\n",
      "3 20 34\n",
      "3 20 35\n",
      "3 20 36\n",
      "3 20 37\n",
      "3 21 22\n",
      "3 21 23\n",
      "3 21 24\n",
      "3 21 25\n",
      "3 21 26\n",
      "3 21 27\n",
      "3 21 28\n",
      "3 21 29\n",
      "3 21 30\n",
      "3 21 31\n",
      "3 21 32\n",
      "3 21 33\n",
      "3 21 34\n",
      "3 21 35\n",
      "3 21 36\n",
      "3 21 37\n",
      "3 22 23\n",
      "3 22 24\n",
      "3 22 25\n",
      "3 22 26\n",
      "3 22 27\n",
      "3 22 28\n",
      "3 22 29\n",
      "3 22 30\n",
      "3 22 31\n",
      "3 22 32\n",
      "3 22 33\n",
      "3 22 34\n",
      "3 22 35\n",
      "3 22 36\n",
      "3 22 37\n",
      "3 23 24\n",
      "3 23 25\n",
      "3 23 26\n",
      "3 23 27\n",
      "3 23 28\n",
      "3 23 29\n",
      "3 23 30\n",
      "3 23 31\n",
      "3 23 32\n",
      "3 23 33\n",
      "3 23 34\n",
      "3 23 35\n",
      "3 23 36\n",
      "3 23 37\n",
      "3 24 25\n",
      "3 24 26\n",
      "3 24 27\n",
      "3 24 28\n",
      "3 24 29\n",
      "3 24 30\n",
      "3 24 31\n",
      "3 24 32\n",
      "3 24 33\n",
      "3 24 34\n",
      "3 24 35\n",
      "3 24 36\n",
      "3 24 37\n",
      "3 25 26\n",
      "3 25 27\n",
      "3 25 28\n",
      "3 25 29\n",
      "3 25 30\n",
      "3 25 31\n",
      "3 25 32\n",
      "3 25 33\n",
      "3 25 34\n",
      "3 25 35\n",
      "3 25 36\n",
      "3 25 37\n",
      "3 26 27\n",
      "3 26 28\n",
      "3 26 29\n",
      "3 26 30\n",
      "3 26 31\n",
      "3 26 32\n",
      "3 26 33\n",
      "3 26 34\n",
      "3 26 35\n",
      "3 26 36\n",
      "3 26 37\n",
      "3 27 28\n",
      "3 27 29\n",
      "3 27 30\n",
      "3 27 31\n",
      "3 27 32\n",
      "3 27 33\n",
      "3 27 34\n",
      "3 27 35\n",
      "3 27 36\n",
      "3 27 37\n",
      "3 28 29\n",
      "3 28 30\n",
      "3 28 31\n",
      "3 28 32\n",
      "3 28 33\n",
      "3 28 34\n",
      "3 28 35\n",
      "3 28 36\n",
      "3 28 37\n",
      "3 29 30\n",
      "3 29 31\n",
      "3 29 32\n",
      "3 29 33\n",
      "3 29 34\n",
      "3 29 35\n",
      "3 29 36\n",
      "3 29 37\n",
      "3 30 31\n",
      "3 30 32\n",
      "3 30 33\n",
      "3 30 34\n",
      "3 30 35\n",
      "3 30 36\n",
      "3 30 37\n",
      "3 31 32\n",
      "3 31 33\n",
      "3 31 34\n",
      "3 31 35\n",
      "3 31 36\n",
      "3 31 37\n",
      "3 32 33\n",
      "3 32 34\n",
      "3 32 35\n",
      "3 32 36\n",
      "3 32 37\n",
      "3 33 34\n",
      "3 33 35\n",
      "3 33 36\n",
      "3 33 37\n",
      "3 34 35\n",
      "3 34 36\n",
      "3 34 37\n",
      "3 35 36\n",
      "3 35 37\n",
      "3 36 37\n",
      "4 5 6\n",
      "4 5 7\n",
      "4 5 8\n",
      "4 5 9\n",
      "4 5 10\n",
      "4 5 11\n",
      "4 5 12\n",
      "4 5 13\n",
      "4 5 14\n",
      "4 5 15\n",
      "4 5 16\n",
      "4 5 17\n",
      "4 5 18\n",
      "4 5 19\n",
      "4 5 20\n",
      "4 5 21\n",
      "4 5 22\n",
      "4 5 23\n",
      "4 5 24\n",
      "4 5 25\n",
      "4 5 26\n",
      "4 5 27\n",
      "4 5 28\n",
      "4 5 29\n",
      "4 5 30\n",
      "4 5 31\n",
      "4 5 32\n",
      "4 5 33\n",
      "4 5 34\n",
      "4 5 35\n",
      "4 5 36\n",
      "4 5 37\n",
      "4 6 7\n",
      "4 6 8\n",
      "4 6 9\n",
      "4 6 10\n",
      "4 6 11\n",
      "4 6 12\n",
      "4 6 13\n",
      "4 6 14\n",
      "4 6 15\n",
      "4 6 16\n",
      "4 6 17\n",
      "4 6 18\n",
      "4 6 19\n",
      "4 6 20\n",
      "4 6 21\n",
      "4 6 22\n",
      "4 6 23\n",
      "4 6 24\n",
      "4 6 25\n",
      "4 6 26\n",
      "4 6 27\n",
      "4 6 28\n",
      "4 6 29\n",
      "4 6 30\n",
      "4 6 31\n",
      "4 6 32\n",
      "4 6 33\n",
      "4 6 34\n",
      "4 6 35\n",
      "4 6 36\n",
      "4 6 37\n",
      "4 7 8\n",
      "4 7 9\n",
      "4 7 10\n",
      "4 7 11\n",
      "4 7 12\n",
      "4 7 13\n",
      "4 7 14\n",
      "4 7 15\n",
      "4 7 16\n",
      "4 7 17\n",
      "4 7 18\n",
      "4 7 19\n",
      "4 7 20\n",
      "4 7 21\n",
      "4 7 22\n",
      "4 7 23\n",
      "4 7 24\n",
      "4 7 25\n",
      "4 7 26\n",
      "4 7 27\n",
      "4 7 28\n",
      "4 7 29\n",
      "4 7 30\n",
      "4 7 31\n",
      "4 7 32\n",
      "4 7 33\n",
      "4 7 34\n",
      "4 7 35\n",
      "4 7 36\n",
      "4 7 37\n",
      "4 8 9\n",
      "4 8 10\n",
      "4 8 11\n",
      "4 8 12\n",
      "4 8 13\n",
      "4 8 14\n",
      "4 8 15\n",
      "4 8 16\n",
      "4 8 17\n",
      "4 8 18\n",
      "4 8 19\n",
      "4 8 20\n",
      "4 8 21\n",
      "4 8 22\n",
      "4 8 23\n",
      "4 8 24\n",
      "4 8 25\n",
      "4 8 26\n",
      "4 8 27\n",
      "4 8 28\n",
      "4 8 29\n",
      "4 8 30\n",
      "4 8 31\n",
      "4 8 32\n",
      "4 8 33\n",
      "4 8 34\n",
      "4 8 35\n",
      "4 8 36\n",
      "4 8 37\n",
      "4 9 10\n",
      "4 9 11\n",
      "4 9 12\n",
      "4 9 13\n",
      "4 9 14\n",
      "4 9 15\n",
      "4 9 16\n",
      "4 9 17\n",
      "4 9 18\n",
      "4 9 19\n",
      "4 9 20\n",
      "4 9 21\n",
      "4 9 22\n",
      "4 9 23\n",
      "4 9 24\n",
      "4 9 25\n",
      "4 9 26\n",
      "4 9 27\n",
      "4 9 28\n",
      "4 9 29\n",
      "4 9 30\n",
      "4 9 31\n",
      "4 9 32\n",
      "4 9 33\n",
      "4 9 34\n",
      "4 9 35\n",
      "4 9 36\n",
      "4 9 37\n",
      "4 10 11\n",
      "4 10 12\n",
      "4 10 13\n",
      "4 10 14\n",
      "4 10 15\n",
      "4 10 16\n",
      "4 10 17\n",
      "4 10 18\n",
      "4 10 19\n",
      "4 10 20\n",
      "4 10 21\n",
      "4 10 22\n",
      "4 10 23\n",
      "4 10 24\n",
      "4 10 25\n",
      "4 10 26\n",
      "4 10 27\n",
      "4 10 28\n",
      "4 10 29\n",
      "4 10 30\n",
      "4 10 31\n",
      "4 10 32\n",
      "4 10 33\n",
      "4 10 34\n",
      "4 10 35\n",
      "4 10 36\n",
      "4 10 37\n",
      "4 11 12\n",
      "4 11 13\n",
      "4 11 14\n",
      "4 11 15\n",
      "4 11 16\n",
      "4 11 17\n",
      "4 11 18\n",
      "4 11 19\n",
      "4 11 20\n",
      "4 11 21\n",
      "4 11 22\n",
      "4 11 23\n",
      "4 11 24\n",
      "4 11 25\n",
      "4 11 26\n",
      "4 11 27\n",
      "4 11 28\n",
      "4 11 29\n",
      "4 11 30\n",
      "4 11 31\n",
      "4 11 32\n",
      "4 11 33\n",
      "4 11 34\n",
      "4 11 35\n",
      "4 11 36\n",
      "4 11 37\n",
      "4 12 13\n",
      "4 12 14\n",
      "4 12 15\n",
      "4 12 16\n",
      "4 12 17\n",
      "4 12 18\n",
      "4 12 19\n",
      "4 12 20\n",
      "4 12 21\n",
      "4 12 22\n",
      "4 12 23\n",
      "4 12 24\n",
      "4 12 25\n",
      "4 12 26\n",
      "4 12 27\n",
      "4 12 28\n",
      "4 12 29\n",
      "4 12 30\n",
      "4 12 31\n",
      "4 12 32\n",
      "4 12 33\n",
      "4 12 34\n",
      "4 12 35\n",
      "4 12 36\n",
      "4 12 37\n",
      "4 13 14\n",
      "4 13 15\n",
      "4 13 16\n",
      "4 13 17\n",
      "4 13 18\n",
      "4 13 19\n",
      "4 13 20\n",
      "4 13 21\n",
      "4 13 22\n",
      "4 13 23\n",
      "4 13 24\n",
      "4 13 25\n",
      "4 13 26\n",
      "4 13 27\n",
      "4 13 28\n",
      "4 13 29\n",
      "4 13 30\n",
      "4 13 31\n",
      "4 13 32\n",
      "4 13 33\n",
      "4 13 34\n",
      "4 13 35\n",
      "4 13 36\n",
      "4 13 37\n",
      "4 14 15\n",
      "4 14 16\n",
      "4 14 17\n",
      "4 14 18\n",
      "4 14 19\n",
      "4 14 20\n",
      "4 14 21\n",
      "4 14 22\n",
      "4 14 23\n",
      "4 14 24\n",
      "4 14 25\n",
      "4 14 26\n",
      "4 14 27\n",
      "4 14 28\n",
      "4 14 29\n",
      "4 14 30\n",
      "4 14 31\n",
      "4 14 32\n",
      "4 14 33\n",
      "4 14 34\n",
      "4 14 35\n",
      "4 14 36\n",
      "4 14 37\n",
      "4 15 16\n",
      "4 15 17\n",
      "4 15 18\n",
      "4 15 19\n",
      "4 15 20\n",
      "4 15 21\n",
      "4 15 22\n",
      "4 15 23\n",
      "4 15 24\n",
      "4 15 25\n",
      "4 15 26\n",
      "4 15 27\n",
      "4 15 28\n",
      "4 15 29\n",
      "4 15 30\n",
      "4 15 31\n",
      "4 15 32\n",
      "4 15 33\n",
      "4 15 34\n",
      "4 15 35\n",
      "4 15 36\n",
      "4 15 37\n",
      "4 16 17\n",
      "4 16 18\n",
      "4 16 19\n",
      "4 16 20\n",
      "4 16 21\n",
      "4 16 22\n",
      "4 16 23\n",
      "4 16 24\n",
      "4 16 25\n",
      "4 16 26\n",
      "4 16 27\n",
      "4 16 28\n",
      "4 16 29\n",
      "4 16 30\n",
      "4 16 31\n",
      "4 16 32\n",
      "4 16 33\n",
      "4 16 34\n",
      "4 16 35\n",
      "4 16 36\n",
      "4 16 37\n",
      "4 17 18\n",
      "4 17 19\n",
      "4 17 20\n",
      "4 17 21\n",
      "4 17 22\n",
      "4 17 23\n",
      "4 17 24\n",
      "4 17 25\n",
      "4 17 26\n",
      "4 17 27\n",
      "4 17 28\n",
      "4 17 29\n",
      "4 17 30\n",
      "4 17 31\n",
      "4 17 32\n",
      "4 17 33\n",
      "4 17 34\n",
      "4 17 35\n",
      "4 17 36\n",
      "4 17 37\n",
      "4 18 19\n",
      "4 18 20\n",
      "4 18 21\n",
      "4 18 22\n",
      "4 18 23\n",
      "4 18 24\n",
      "4 18 25\n",
      "4 18 26\n",
      "4 18 27\n",
      "4 18 28\n",
      "4 18 29\n",
      "4 18 30\n",
      "4 18 31\n",
      "4 18 32\n",
      "4 18 33\n",
      "4 18 34\n",
      "4 18 35\n",
      "4 18 36\n",
      "4 18 37\n",
      "4 19 20\n",
      "4 19 21\n",
      "4 19 22\n",
      "4 19 23\n",
      "4 19 24\n",
      "4 19 25\n",
      "4 19 26\n",
      "4 19 27\n",
      "4 19 28\n",
      "4 19 29\n",
      "4 19 30\n",
      "4 19 31\n",
      "4 19 32\n",
      "4 19 33\n",
      "4 19 34\n",
      "4 19 35\n",
      "4 19 36\n",
      "4 19 37\n",
      "4 20 21\n",
      "4 20 22\n",
      "4 20 23\n",
      "4 20 24\n",
      "4 20 25\n",
      "4 20 26\n",
      "4 20 27\n",
      "4 20 28\n",
      "4 20 29\n",
      "4 20 30\n",
      "4 20 31\n",
      "4 20 32\n",
      "4 20 33\n",
      "4 20 34\n",
      "4 20 35\n",
      "4 20 36\n",
      "4 20 37\n",
      "4 21 22\n",
      "4 21 23\n",
      "4 21 24\n",
      "4 21 25\n",
      "4 21 26\n",
      "4 21 27\n",
      "4 21 28\n",
      "4 21 29\n",
      "4 21 30\n",
      "4 21 31\n",
      "4 21 32\n",
      "4 21 33\n",
      "4 21 34\n",
      "4 21 35\n",
      "4 21 36\n",
      "4 21 37\n",
      "4 22 23\n",
      "4 22 24\n",
      "4 22 25\n",
      "4 22 26\n",
      "4 22 27\n",
      "4 22 28\n",
      "4 22 29\n",
      "4 22 30\n",
      "4 22 31\n",
      "4 22 32\n",
      "4 22 33\n",
      "4 22 34\n",
      "4 22 35\n",
      "4 22 36\n",
      "4 22 37\n",
      "4 23 24\n",
      "4 23 25\n",
      "4 23 26\n",
      "4 23 27\n",
      "4 23 28\n",
      "4 23 29\n",
      "4 23 30\n",
      "4 23 31\n",
      "4 23 32\n",
      "4 23 33\n",
      "4 23 34\n",
      "4 23 35\n",
      "4 23 36\n",
      "4 23 37\n",
      "4 24 25\n",
      "4 24 26\n",
      "4 24 27\n",
      "4 24 28\n",
      "4 24 29\n",
      "4 24 30\n",
      "4 24 31\n",
      "4 24 32\n",
      "4 24 33\n",
      "4 24 34\n",
      "4 24 35\n",
      "4 24 36\n",
      "4 24 37\n",
      "4 25 26\n",
      "4 25 27\n",
      "4 25 28\n",
      "4 25 29\n",
      "4 25 30\n",
      "4 25 31\n",
      "4 25 32\n",
      "4 25 33\n",
      "4 25 34\n",
      "4 25 35\n",
      "4 25 36\n",
      "4 25 37\n",
      "4 26 27\n",
      "4 26 28\n",
      "4 26 29\n",
      "4 26 30\n",
      "4 26 31\n",
      "4 26 32\n",
      "4 26 33\n",
      "4 26 34\n",
      "4 26 35\n",
      "4 26 36\n",
      "4 26 37\n",
      "4 27 28\n",
      "4 27 29\n",
      "4 27 30\n",
      "4 27 31\n",
      "4 27 32\n",
      "4 27 33\n",
      "4 27 34\n",
      "4 27 35\n",
      "4 27 36\n",
      "4 27 37\n",
      "4 28 29\n",
      "4 28 30\n",
      "4 28 31\n",
      "4 28 32\n",
      "4 28 33\n",
      "4 28 34\n",
      "4 28 35\n",
      "4 28 36\n",
      "4 28 37\n",
      "4 29 30\n",
      "4 29 31\n",
      "4 29 32\n",
      "4 29 33\n",
      "4 29 34\n",
      "4 29 35\n",
      "4 29 36\n",
      "4 29 37\n",
      "4 30 31\n",
      "4 30 32\n",
      "4 30 33\n",
      "4 30 34\n",
      "4 30 35\n",
      "4 30 36\n",
      "4 30 37\n",
      "4 31 32\n",
      "4 31 33\n",
      "4 31 34\n",
      "4 31 35\n",
      "4 31 36\n",
      "4 31 37\n",
      "4 32 33\n",
      "4 32 34\n",
      "4 32 35\n",
      "4 32 36\n",
      "4 32 37\n",
      "4 33 34\n",
      "4 33 35\n",
      "4 33 36\n",
      "4 33 37\n",
      "4 34 35\n",
      "4 34 36\n",
      "4 34 37\n",
      "4 35 36\n",
      "4 35 37\n",
      "4 36 37\n",
      "5 6 7\n",
      "5 6 8\n",
      "5 6 9\n",
      "5 6 10\n",
      "5 6 11\n",
      "5 6 12\n",
      "5 6 13\n",
      "5 6 14\n",
      "5 6 15\n",
      "5 6 16\n",
      "5 6 17\n",
      "5 6 18\n",
      "5 6 19\n",
      "5 6 20\n",
      "5 6 21\n",
      "5 6 22\n",
      "5 6 23\n",
      "5 6 24\n",
      "5 6 25\n",
      "5 6 26\n",
      "5 6 27\n",
      "5 6 28\n",
      "5 6 29\n",
      "5 6 30\n",
      "5 6 31\n",
      "5 6 32\n",
      "5 6 33\n",
      "5 6 34\n",
      "5 6 35\n",
      "5 6 36\n",
      "5 6 37\n",
      "5 7 8\n",
      "5 7 9\n",
      "5 7 10\n",
      "5 7 11\n",
      "5 7 12\n",
      "5 7 13\n",
      "5 7 14\n",
      "5 7 15\n",
      "5 7 16\n",
      "5 7 17\n",
      "5 7 18\n",
      "5 7 19\n",
      "5 7 20\n",
      "5 7 21\n",
      "5 7 22\n",
      "5 7 23\n",
      "5 7 24\n",
      "5 7 25\n",
      "5 7 26\n",
      "5 7 27\n",
      "5 7 28\n",
      "5 7 29\n",
      "5 7 30\n",
      "5 7 31\n",
      "5 7 32\n",
      "5 7 33\n",
      "5 7 34\n",
      "5 7 35\n",
      "5 7 36\n",
      "5 7 37\n",
      "5 8 9\n",
      "5 8 10\n",
      "5 8 11\n",
      "5 8 12\n",
      "5 8 13\n",
      "5 8 14\n",
      "5 8 15\n",
      "5 8 16\n",
      "5 8 17\n",
      "5 8 18\n",
      "5 8 19\n",
      "5 8 20\n",
      "5 8 21\n",
      "5 8 22\n",
      "5 8 23\n",
      "5 8 24\n",
      "5 8 25\n",
      "5 8 26\n",
      "5 8 27\n",
      "5 8 28\n",
      "5 8 29\n",
      "5 8 30\n",
      "5 8 31\n",
      "5 8 32\n",
      "5 8 33\n",
      "5 8 34\n",
      "5 8 35\n",
      "5 8 36\n",
      "5 8 37\n",
      "5 9 10\n",
      "5 9 11\n",
      "5 9 12\n",
      "5 9 13\n",
      "5 9 14\n",
      "5 9 15\n",
      "5 9 16\n",
      "5 9 17\n",
      "5 9 18\n",
      "5 9 19\n",
      "5 9 20\n",
      "5 9 21\n",
      "5 9 22\n",
      "5 9 23\n",
      "5 9 24\n",
      "5 9 25\n",
      "5 9 26\n",
      "5 9 27\n",
      "5 9 28\n",
      "5 9 29\n",
      "5 9 30\n",
      "5 9 31\n",
      "5 9 32\n",
      "5 9 33\n",
      "5 9 34\n",
      "5 9 35\n",
      "5 9 36\n",
      "5 9 37\n",
      "5 10 11\n",
      "5 10 12\n",
      "5 10 13\n",
      "5 10 14\n",
      "5 10 15\n",
      "5 10 16\n",
      "5 10 17\n",
      "5 10 18\n",
      "5 10 19\n",
      "5 10 20\n",
      "5 10 21\n",
      "5 10 22\n",
      "5 10 23\n",
      "5 10 24\n",
      "5 10 25\n",
      "5 10 26\n",
      "5 10 27\n",
      "5 10 28\n",
      "5 10 29\n",
      "5 10 30\n",
      "5 10 31\n",
      "5 10 32\n",
      "5 10 33\n",
      "5 10 34\n",
      "5 10 35\n",
      "5 10 36\n",
      "5 10 37\n",
      "5 11 12\n",
      "5 11 13\n",
      "5 11 14\n",
      "5 11 15\n",
      "5 11 16\n",
      "5 11 17\n",
      "5 11 18\n",
      "5 11 19\n",
      "5 11 20\n",
      "5 11 21\n",
      "5 11 22\n",
      "5 11 23\n",
      "5 11 24\n",
      "5 11 25\n",
      "5 11 26\n",
      "5 11 27\n",
      "5 11 28\n",
      "5 11 29\n",
      "5 11 30\n",
      "5 11 31\n",
      "5 11 32\n",
      "5 11 33\n",
      "5 11 34\n",
      "5 11 35\n",
      "5 11 36\n",
      "5 11 37\n",
      "5 12 13\n",
      "5 12 14\n",
      "5 12 15\n",
      "5 12 16\n",
      "5 12 17\n",
      "5 12 18\n",
      "5 12 19\n",
      "5 12 20\n",
      "5 12 21\n",
      "5 12 22\n",
      "5 12 23\n",
      "5 12 24\n",
      "5 12 25\n",
      "5 12 26\n",
      "5 12 27\n",
      "5 12 28\n",
      "5 12 29\n",
      "5 12 30\n",
      "5 12 31\n",
      "5 12 32\n",
      "5 12 33\n",
      "5 12 34\n",
      "5 12 35\n",
      "5 12 36\n",
      "5 12 37\n",
      "5 13 14\n",
      "5 13 15\n",
      "5 13 16\n",
      "5 13 17\n",
      "5 13 18\n",
      "5 13 19\n",
      "5 13 20\n",
      "5 13 21\n",
      "5 13 22\n",
      "5 13 23\n",
      "5 13 24\n",
      "5 13 25\n",
      "5 13 26\n",
      "5 13 27\n",
      "5 13 28\n",
      "5 13 29\n",
      "5 13 30\n",
      "5 13 31\n",
      "5 13 32\n",
      "5 13 33\n",
      "5 13 34\n",
      "5 13 35\n",
      "5 13 36\n",
      "5 13 37\n",
      "5 14 15\n",
      "5 14 16\n",
      "5 14 17\n",
      "5 14 18\n",
      "5 14 19\n",
      "5 14 20\n",
      "5 14 21\n",
      "5 14 22\n",
      "5 14 23\n",
      "5 14 24\n",
      "5 14 25\n",
      "5 14 26\n",
      "5 14 27\n",
      "5 14 28\n",
      "5 14 29\n",
      "5 14 30\n",
      "5 14 31\n",
      "5 14 32\n",
      "5 14 33\n",
      "5 14 34\n",
      "5 14 35\n",
      "5 14 36\n",
      "5 14 37\n",
      "5 15 16\n",
      "5 15 17\n",
      "5 15 18\n",
      "5 15 19\n",
      "5 15 20\n",
      "5 15 21\n",
      "5 15 22\n",
      "5 15 23\n",
      "5 15 24\n",
      "5 15 25\n",
      "5 15 26\n",
      "5 15 27\n",
      "5 15 28\n",
      "5 15 29\n",
      "5 15 30\n",
      "5 15 31\n",
      "5 15 32\n",
      "5 15 33\n",
      "5 15 34\n",
      "5 15 35\n",
      "5 15 36\n",
      "5 15 37\n",
      "5 16 17\n",
      "5 16 18\n",
      "5 16 19\n",
      "5 16 20\n",
      "5 16 21\n",
      "5 16 22\n",
      "5 16 23\n",
      "5 16 24\n",
      "5 16 25\n",
      "5 16 26\n",
      "5 16 27\n",
      "5 16 28\n",
      "5 16 29\n",
      "5 16 30\n",
      "5 16 31\n",
      "5 16 32\n",
      "5 16 33\n",
      "5 16 34\n",
      "5 16 35\n",
      "5 16 36\n",
      "5 16 37\n",
      "5 17 18\n",
      "5 17 19\n",
      "5 17 20\n",
      "5 17 21\n",
      "5 17 22\n",
      "5 17 23\n",
      "5 17 24\n",
      "5 17 25\n",
      "5 17 26\n",
      "5 17 27\n",
      "5 17 28\n",
      "5 17 29\n",
      "5 17 30\n",
      "5 17 31\n",
      "5 17 32\n",
      "5 17 33\n",
      "5 17 34\n",
      "5 17 35\n",
      "5 17 36\n",
      "5 17 37\n",
      "5 18 19\n",
      "5 18 20\n",
      "5 18 21\n",
      "5 18 22\n",
      "5 18 23\n",
      "5 18 24\n",
      "5 18 25\n",
      "5 18 26\n",
      "5 18 27\n",
      "5 18 28\n",
      "5 18 29\n",
      "5 18 30\n",
      "5 18 31\n",
      "5 18 32\n",
      "5 18 33\n",
      "5 18 34\n",
      "5 18 35\n",
      "5 18 36\n",
      "5 18 37\n",
      "5 19 20\n",
      "5 19 21\n",
      "5 19 22\n",
      "5 19 23\n",
      "5 19 24\n",
      "5 19 25\n",
      "5 19 26\n",
      "5 19 27\n",
      "5 19 28\n",
      "5 19 29\n",
      "5 19 30\n",
      "5 19 31\n",
      "5 19 32\n",
      "5 19 33\n",
      "5 19 34\n",
      "5 19 35\n",
      "5 19 36\n",
      "5 19 37\n",
      "5 20 21\n",
      "5 20 22\n",
      "5 20 23\n",
      "5 20 24\n",
      "5 20 25\n",
      "5 20 26\n",
      "5 20 27\n",
      "5 20 28\n",
      "5 20 29\n",
      "5 20 30\n",
      "5 20 31\n",
      "5 20 32\n",
      "5 20 33\n",
      "5 20 34\n",
      "5 20 35\n",
      "5 20 36\n",
      "5 20 37\n",
      "5 21 22\n",
      "5 21 23\n",
      "5 21 24\n",
      "5 21 25\n",
      "5 21 26\n",
      "5 21 27\n",
      "5 21 28\n",
      "5 21 29\n",
      "5 21 30\n",
      "5 21 31\n",
      "5 21 32\n",
      "5 21 33\n",
      "5 21 34\n",
      "5 21 35\n",
      "5 21 36\n",
      "5 21 37\n",
      "5 22 23\n",
      "5 22 24\n",
      "5 22 25\n",
      "5 22 26\n",
      "5 22 27\n",
      "5 22 28\n",
      "5 22 29\n",
      "5 22 30\n",
      "5 22 31\n",
      "5 22 32\n",
      "5 22 33\n",
      "5 22 34\n",
      "5 22 35\n",
      "5 22 36\n",
      "5 22 37\n",
      "5 23 24\n",
      "5 23 25\n",
      "5 23 26\n",
      "5 23 27\n",
      "5 23 28\n",
      "5 23 29\n",
      "5 23 30\n",
      "5 23 31\n",
      "5 23 32\n",
      "5 23 33\n",
      "5 23 34\n",
      "5 23 35\n",
      "5 23 36\n",
      "5 23 37\n",
      "5 24 25\n",
      "5 24 26\n",
      "5 24 27\n",
      "5 24 28\n",
      "5 24 29\n",
      "5 24 30\n",
      "5 24 31\n",
      "5 24 32\n",
      "5 24 33\n",
      "5 24 34\n",
      "5 24 35\n",
      "5 24 36\n",
      "5 24 37\n",
      "5 25 26\n",
      "5 25 27\n",
      "5 25 28\n",
      "5 25 29\n",
      "5 25 30\n",
      "5 25 31\n",
      "5 25 32\n",
      "5 25 33\n",
      "5 25 34\n",
      "5 25 35\n",
      "5 25 36\n",
      "5 25 37\n",
      "5 26 27\n",
      "5 26 28\n",
      "5 26 29\n",
      "5 26 30\n",
      "5 26 31\n",
      "5 26 32\n",
      "5 26 33\n",
      "5 26 34\n",
      "5 26 35\n",
      "5 26 36\n",
      "5 26 37\n",
      "5 27 28\n",
      "5 27 29\n",
      "5 27 30\n",
      "5 27 31\n",
      "5 27 32\n",
      "5 27 33\n",
      "5 27 34\n",
      "5 27 35\n",
      "5 27 36\n",
      "5 27 37\n",
      "5 28 29\n",
      "5 28 30\n",
      "5 28 31\n",
      "5 28 32\n",
      "5 28 33\n",
      "5 28 34\n",
      "5 28 35\n",
      "5 28 36\n",
      "5 28 37\n",
      "5 29 30\n",
      "5 29 31\n",
      "5 29 32\n",
      "5 29 33\n",
      "5 29 34\n",
      "5 29 35\n",
      "5 29 36\n",
      "5 29 37\n",
      "5 30 31\n",
      "5 30 32\n",
      "5 30 33\n",
      "5 30 34\n",
      "5 30 35\n",
      "5 30 36\n",
      "5 30 37\n",
      "5 31 32\n",
      "5 31 33\n",
      "5 31 34\n",
      "5 31 35\n",
      "5 31 36\n",
      "5 31 37\n",
      "5 32 33\n",
      "5 32 34\n",
      "5 32 35\n",
      "5 32 36\n",
      "5 32 37\n",
      "5 33 34\n",
      "5 33 35\n",
      "5 33 36\n",
      "5 33 37\n",
      "5 34 35\n",
      "5 34 36\n",
      "5 34 37\n",
      "5 35 36\n",
      "5 35 37\n",
      "5 36 37\n",
      "6 7 8\n",
      "6 7 9\n",
      "6 7 10\n",
      "6 7 11\n",
      "6 7 12\n",
      "6 7 13\n",
      "6 7 14\n",
      "6 7 15\n",
      "6 7 16\n",
      "6 7 17\n",
      "6 7 18\n",
      "6 7 19\n",
      "6 7 20\n",
      "6 7 21\n",
      "6 7 22\n",
      "6 7 23\n",
      "6 7 24\n",
      "6 7 25\n",
      "6 7 26\n",
      "6 7 27\n",
      "6 7 28\n",
      "6 7 29\n",
      "6 7 30\n",
      "6 7 31\n",
      "6 7 32\n",
      "6 7 33\n",
      "6 7 34\n",
      "6 7 35\n",
      "6 7 36\n",
      "6 7 37\n",
      "6 8 9\n",
      "6 8 10\n",
      "6 8 11\n",
      "6 8 12\n",
      "6 8 13\n",
      "6 8 14\n",
      "6 8 15\n",
      "6 8 16\n",
      "6 8 17\n",
      "6 8 18\n",
      "6 8 19\n",
      "6 8 20\n",
      "6 8 21\n",
      "6 8 22\n",
      "6 8 23\n",
      "6 8 24\n",
      "6 8 25\n",
      "6 8 26\n",
      "6 8 27\n",
      "6 8 28\n",
      "6 8 29\n",
      "6 8 30\n",
      "6 8 31\n",
      "6 8 32\n",
      "6 8 33\n",
      "6 8 34\n",
      "6 8 35\n",
      "6 8 36\n",
      "6 8 37\n",
      "6 9 10\n",
      "6 9 11\n",
      "6 9 12\n",
      "6 9 13\n",
      "6 9 14\n",
      "6 9 15\n",
      "6 9 16\n",
      "6 9 17\n",
      "6 9 18\n",
      "6 9 19\n",
      "6 9 20\n",
      "6 9 21\n",
      "6 9 22\n",
      "6 9 23\n",
      "6 9 24\n",
      "6 9 25\n",
      "6 9 26\n",
      "6 9 27\n",
      "6 9 28\n",
      "6 9 29\n",
      "6 9 30\n",
      "6 9 31\n",
      "6 9 32\n",
      "6 9 33\n",
      "6 9 34\n",
      "6 9 35\n",
      "6 9 36\n",
      "6 9 37\n",
      "6 10 11\n",
      "6 10 12\n",
      "6 10 13\n",
      "6 10 14\n",
      "6 10 15\n",
      "6 10 16\n",
      "6 10 17\n",
      "6 10 18\n",
      "6 10 19\n",
      "6 10 20\n",
      "6 10 21\n",
      "6 10 22\n",
      "6 10 23\n",
      "6 10 24\n",
      "6 10 25\n",
      "6 10 26\n",
      "6 10 27\n",
      "6 10 28\n",
      "6 10 29\n",
      "6 10 30\n",
      "6 10 31\n",
      "6 10 32\n",
      "6 10 33\n",
      "6 10 34\n",
      "6 10 35\n",
      "6 10 36\n",
      "6 10 37\n",
      "6 11 12\n",
      "6 11 13\n",
      "6 11 14\n",
      "6 11 15\n",
      "6 11 16\n",
      "6 11 17\n",
      "6 11 18\n",
      "6 11 19\n",
      "6 11 20\n",
      "6 11 21\n",
      "6 11 22\n",
      "6 11 23\n",
      "6 11 24\n",
      "6 11 25\n",
      "6 11 26\n",
      "6 11 27\n",
      "6 11 28\n",
      "6 11 29\n",
      "6 11 30\n",
      "6 11 31\n",
      "6 11 32\n",
      "6 11 33\n",
      "6 11 34\n",
      "6 11 35\n",
      "6 11 36\n",
      "6 11 37\n",
      "6 12 13\n",
      "6 12 14\n",
      "6 12 15\n",
      "6 12 16\n",
      "6 12 17\n",
      "6 12 18\n",
      "6 12 19\n",
      "6 12 20\n",
      "6 12 21\n",
      "6 12 22\n",
      "6 12 23\n",
      "6 12 24\n",
      "6 12 25\n",
      "6 12 26\n",
      "6 12 27\n",
      "6 12 28\n",
      "6 12 29\n",
      "6 12 30\n",
      "6 12 31\n",
      "6 12 32\n",
      "6 12 33\n",
      "6 12 34\n",
      "6 12 35\n",
      "6 12 36\n",
      "6 12 37\n",
      "6 13 14\n",
      "6 13 15\n",
      "6 13 16\n",
      "6 13 17\n",
      "6 13 18\n",
      "6 13 19\n",
      "6 13 20\n",
      "6 13 21\n",
      "6 13 22\n",
      "6 13 23\n",
      "6 13 24\n",
      "6 13 25\n",
      "6 13 26\n",
      "6 13 27\n",
      "6 13 28\n",
      "6 13 29\n",
      "6 13 30\n",
      "6 13 31\n",
      "6 13 32\n",
      "6 13 33\n",
      "6 13 34\n",
      "6 13 35\n",
      "6 13 36\n",
      "6 13 37\n",
      "6 14 15\n",
      "6 14 16\n",
      "6 14 17\n",
      "6 14 18\n",
      "6 14 19\n",
      "6 14 20\n",
      "6 14 21\n",
      "6 14 22\n",
      "6 14 23\n",
      "6 14 24\n",
      "6 14 25\n",
      "6 14 26\n",
      "6 14 27\n",
      "6 14 28\n",
      "6 14 29\n",
      "6 14 30\n",
      "6 14 31\n",
      "6 14 32\n",
      "6 14 33\n",
      "6 14 34\n",
      "6 14 35\n",
      "6 14 36\n",
      "6 14 37\n",
      "6 15 16\n",
      "6 15 17\n",
      "6 15 18\n",
      "6 15 19\n",
      "6 15 20\n",
      "6 15 21\n",
      "6 15 22\n",
      "6 15 23\n",
      "6 15 24\n",
      "6 15 25\n",
      "6 15 26\n",
      "6 15 27\n",
      "6 15 28\n",
      "6 15 29\n",
      "6 15 30\n",
      "6 15 31\n",
      "6 15 32\n",
      "6 15 33\n",
      "6 15 34\n",
      "6 15 35\n",
      "6 15 36\n",
      "6 15 37\n",
      "6 16 17\n",
      "6 16 18\n",
      "6 16 19\n",
      "6 16 20\n",
      "6 16 21\n",
      "6 16 22\n",
      "6 16 23\n",
      "6 16 24\n",
      "6 16 25\n",
      "6 16 26\n",
      "6 16 27\n",
      "6 16 28\n",
      "6 16 29\n",
      "6 16 30\n",
      "6 16 31\n",
      "6 16 32\n",
      "6 16 33\n",
      "6 16 34\n",
      "6 16 35\n",
      "6 16 36\n",
      "6 16 37\n",
      "6 17 18\n",
      "6 17 19\n",
      "6 17 20\n",
      "6 17 21\n",
      "6 17 22\n",
      "6 17 23\n",
      "6 17 24\n",
      "6 17 25\n",
      "6 17 26\n",
      "6 17 27\n",
      "6 17 28\n",
      "6 17 29\n",
      "6 17 30\n",
      "6 17 31\n",
      "6 17 32\n",
      "6 17 33\n",
      "6 17 34\n",
      "6 17 35\n",
      "6 17 36\n",
      "6 17 37\n",
      "6 18 19\n",
      "6 18 20\n",
      "6 18 21\n",
      "6 18 22\n",
      "6 18 23\n",
      "6 18 24\n",
      "6 18 25\n",
      "6 18 26\n",
      "6 18 27\n",
      "6 18 28\n",
      "6 18 29\n",
      "6 18 30\n",
      "6 18 31\n",
      "6 18 32\n",
      "6 18 33\n",
      "6 18 34\n",
      "6 18 35\n",
      "6 18 36\n",
      "6 18 37\n",
      "6 19 20\n",
      "6 19 21\n",
      "6 19 22\n",
      "6 19 23\n",
      "6 19 24\n",
      "6 19 25\n",
      "6 19 26\n",
      "6 19 27\n",
      "6 19 28\n",
      "6 19 29\n",
      "6 19 30\n",
      "6 19 31\n",
      "6 19 32\n",
      "6 19 33\n",
      "6 19 34\n",
      "6 19 35\n",
      "6 19 36\n",
      "6 19 37\n",
      "6 20 21\n",
      "6 20 22\n",
      "6 20 23\n",
      "6 20 24\n",
      "6 20 25\n",
      "6 20 26\n",
      "6 20 27\n",
      "6 20 28\n",
      "6 20 29\n",
      "6 20 30\n",
      "6 20 31\n",
      "6 20 32\n",
      "6 20 33\n",
      "6 20 34\n",
      "6 20 35\n",
      "6 20 36\n",
      "6 20 37\n",
      "6 21 22\n",
      "6 21 23\n",
      "6 21 24\n",
      "6 21 25\n",
      "6 21 26\n",
      "6 21 27\n",
      "6 21 28\n",
      "6 21 29\n",
      "6 21 30\n",
      "6 21 31\n",
      "6 21 32\n",
      "6 21 33\n",
      "6 21 34\n",
      "6 21 35\n",
      "6 21 36\n",
      "6 21 37\n",
      "6 22 23\n",
      "6 22 24\n",
      "6 22 25\n",
      "6 22 26\n",
      "6 22 27\n",
      "6 22 28\n",
      "6 22 29\n",
      "6 22 30\n",
      "6 22 31\n",
      "6 22 32\n",
      "6 22 33\n",
      "6 22 34\n",
      "6 22 35\n",
      "6 22 36\n",
      "6 22 37\n",
      "6 23 24\n",
      "6 23 25\n",
      "6 23 26\n",
      "6 23 27\n",
      "6 23 28\n",
      "6 23 29\n",
      "6 23 30\n",
      "6 23 31\n",
      "6 23 32\n",
      "6 23 33\n",
      "6 23 34\n",
      "6 23 35\n",
      "6 23 36\n",
      "6 23 37\n",
      "6 24 25\n",
      "6 24 26\n",
      "6 24 27\n",
      "6 24 28\n",
      "6 24 29\n",
      "6 24 30\n",
      "6 24 31\n",
      "6 24 32\n",
      "6 24 33\n",
      "6 24 34\n",
      "6 24 35\n",
      "6 24 36\n",
      "6 24 37\n",
      "6 25 26\n",
      "6 25 27\n",
      "6 25 28\n",
      "6 25 29\n",
      "6 25 30\n",
      "6 25 31\n",
      "6 25 32\n",
      "6 25 33\n",
      "6 25 34\n",
      "6 25 35\n",
      "6 25 36\n",
      "6 25 37\n",
      "6 26 27\n",
      "6 26 28\n",
      "6 26 29\n",
      "6 26 30\n",
      "6 26 31\n",
      "6 26 32\n",
      "6 26 33\n",
      "6 26 34\n",
      "6 26 35\n",
      "6 26 36\n",
      "6 26 37\n",
      "6 27 28\n",
      "6 27 29\n",
      "6 27 30\n",
      "6 27 31\n",
      "6 27 32\n",
      "6 27 33\n",
      "6 27 34\n",
      "6 27 35\n",
      "6 27 36\n",
      "6 27 37\n",
      "6 28 29\n",
      "6 28 30\n",
      "6 28 31\n",
      "6 28 32\n",
      "6 28 33\n",
      "6 28 34\n",
      "6 28 35\n",
      "6 28 36\n",
      "6 28 37\n",
      "6 29 30\n",
      "6 29 31\n",
      "6 29 32\n",
      "6 29 33\n",
      "6 29 34\n",
      "6 29 35\n",
      "6 29 36\n",
      "6 29 37\n",
      "6 30 31\n",
      "6 30 32\n",
      "6 30 33\n",
      "6 30 34\n",
      "6 30 35\n",
      "6 30 36\n",
      "6 30 37\n",
      "6 31 32\n",
      "6 31 33\n",
      "6 31 34\n",
      "6 31 35\n",
      "6 31 36\n",
      "6 31 37\n",
      "6 32 33\n",
      "6 32 34\n",
      "6 32 35\n",
      "6 32 36\n",
      "6 32 37\n",
      "6 33 34\n",
      "6 33 35\n",
      "6 33 36\n",
      "6 33 37\n",
      "6 34 35\n",
      "6 34 36\n",
      "6 34 37\n",
      "6 35 36\n",
      "6 35 37\n",
      "6 36 37\n",
      "7 8 9\n",
      "7 8 10\n",
      "7 8 11\n",
      "7 8 12\n",
      "7 8 13\n",
      "7 8 14\n",
      "7 8 15\n",
      "7 8 16\n",
      "7 8 17\n",
      "7 8 18\n",
      "7 8 19\n",
      "7 8 20\n",
      "7 8 21\n",
      "7 8 22\n",
      "7 8 23\n",
      "7 8 24\n",
      "7 8 25\n",
      "7 8 26\n",
      "7 8 27\n",
      "7 8 28\n",
      "7 8 29\n",
      "7 8 30\n",
      "7 8 31\n",
      "7 8 32\n",
      "7 8 33\n",
      "7 8 34\n",
      "7 8 35\n",
      "7 8 36\n",
      "7 8 37\n",
      "7 9 10\n",
      "7 9 11\n",
      "7 9 12\n",
      "7 9 13\n",
      "7 9 14\n",
      "7 9 15\n",
      "7 9 16\n",
      "7 9 17\n",
      "7 9 18\n",
      "7 9 19\n",
      "7 9 20\n",
      "7 9 21\n",
      "7 9 22\n",
      "7 9 23\n",
      "7 9 24\n",
      "7 9 25\n",
      "7 9 26\n",
      "7 9 27\n",
      "7 9 28\n",
      "7 9 29\n",
      "7 9 30\n",
      "7 9 31\n",
      "7 9 32\n",
      "7 9 33\n",
      "7 9 34\n",
      "7 9 35\n",
      "7 9 36\n",
      "7 9 37\n",
      "7 10 11\n",
      "7 10 12\n",
      "7 10 13\n",
      "7 10 14\n",
      "7 10 15\n",
      "7 10 16\n",
      "7 10 17\n",
      "7 10 18\n",
      "7 10 19\n",
      "7 10 20\n",
      "7 10 21\n",
      "7 10 22\n",
      "7 10 23\n",
      "7 10 24\n",
      "7 10 25\n",
      "7 10 26\n",
      "7 10 27\n",
      "7 10 28\n",
      "7 10 29\n",
      "7 10 30\n",
      "7 10 31\n",
      "7 10 32\n",
      "7 10 33\n",
      "7 10 34\n",
      "7 10 35\n",
      "7 10 36\n",
      "7 10 37\n",
      "7 11 12\n",
      "7 11 13\n",
      "7 11 14\n",
      "7 11 15\n",
      "7 11 16\n",
      "7 11 17\n",
      "7 11 18\n",
      "7 11 19\n",
      "7 11 20\n",
      "7 11 21\n",
      "7 11 22\n",
      "7 11 23\n",
      "7 11 24\n",
      "7 11 25\n",
      "7 11 26\n",
      "7 11 27\n",
      "7 11 28\n",
      "7 11 29\n",
      "7 11 30\n",
      "7 11 31\n",
      "7 11 32\n",
      "7 11 33\n",
      "7 11 34\n",
      "7 11 35\n",
      "7 11 36\n",
      "7 11 37\n",
      "7 12 13\n",
      "7 12 14\n",
      "7 12 15\n",
      "7 12 16\n",
      "7 12 17\n",
      "7 12 18\n",
      "7 12 19\n",
      "7 12 20\n",
      "7 12 21\n",
      "7 12 22\n",
      "7 12 23\n",
      "7 12 24\n",
      "7 12 25\n",
      "7 12 26\n",
      "7 12 27\n",
      "7 12 28\n",
      "7 12 29\n",
      "7 12 30\n",
      "7 12 31\n",
      "7 12 32\n",
      "7 12 33\n",
      "7 12 34\n",
      "7 12 35\n",
      "7 12 36\n",
      "7 12 37\n",
      "7 13 14\n",
      "7 13 15\n",
      "7 13 16\n",
      "7 13 17\n",
      "7 13 18\n",
      "7 13 19\n",
      "7 13 20\n",
      "7 13 21\n",
      "7 13 22\n",
      "7 13 23\n",
      "7 13 24\n",
      "7 13 25\n",
      "7 13 26\n",
      "7 13 27\n",
      "7 13 28\n",
      "7 13 29\n",
      "7 13 30\n",
      "7 13 31\n",
      "7 13 32\n",
      "7 13 33\n",
      "7 13 34\n",
      "7 13 35\n",
      "7 13 36\n",
      "7 13 37\n",
      "7 14 15\n",
      "7 14 16\n",
      "7 14 17\n",
      "7 14 18\n",
      "7 14 19\n",
      "7 14 20\n",
      "7 14 21\n",
      "7 14 22\n",
      "7 14 23\n",
      "7 14 24\n",
      "7 14 25\n",
      "7 14 26\n",
      "7 14 27\n",
      "7 14 28\n",
      "7 14 29\n",
      "7 14 30\n",
      "7 14 31\n",
      "7 14 32\n",
      "7 14 33\n",
      "7 14 34\n",
      "7 14 35\n",
      "7 14 36\n",
      "7 14 37\n",
      "7 15 16\n",
      "7 15 17\n",
      "7 15 18\n",
      "7 15 19\n",
      "7 15 20\n",
      "7 15 21\n",
      "7 15 22\n",
      "7 15 23\n",
      "7 15 24\n",
      "7 15 25\n",
      "7 15 26\n",
      "7 15 27\n",
      "7 15 28\n",
      "7 15 29\n",
      "7 15 30\n",
      "7 15 31\n",
      "7 15 32\n",
      "7 15 33\n",
      "7 15 34\n",
      "7 15 35\n",
      "7 15 36\n",
      "7 15 37\n",
      "7 16 17\n",
      "7 16 18\n",
      "7 16 19\n",
      "7 16 20\n",
      "7 16 21\n",
      "7 16 22\n",
      "7 16 23\n",
      "7 16 24\n",
      "7 16 25\n",
      "7 16 26\n",
      "7 16 27\n",
      "7 16 28\n",
      "7 16 29\n",
      "7 16 30\n",
      "7 16 31\n",
      "7 16 32\n",
      "7 16 33\n",
      "7 16 34\n",
      "7 16 35\n",
      "7 16 36\n",
      "7 16 37\n",
      "7 17 18\n",
      "7 17 19\n",
      "7 17 20\n",
      "7 17 21\n",
      "7 17 22\n",
      "7 17 23\n",
      "7 17 24\n",
      "7 17 25\n",
      "7 17 26\n",
      "7 17 27\n",
      "7 17 28\n",
      "7 17 29\n",
      "7 17 30\n",
      "7 17 31\n",
      "7 17 32\n",
      "7 17 33\n",
      "7 17 34\n",
      "7 17 35\n",
      "7 17 36\n",
      "7 17 37\n",
      "7 18 19\n",
      "7 18 20\n",
      "7 18 21\n",
      "7 18 22\n",
      "7 18 23\n",
      "7 18 24\n",
      "7 18 25\n",
      "7 18 26\n",
      "7 18 27\n",
      "7 18 28\n",
      "7 18 29\n",
      "7 18 30\n",
      "7 18 31\n",
      "7 18 32\n",
      "7 18 33\n",
      "7 18 34\n",
      "7 18 35\n",
      "7 18 36\n",
      "7 18 37\n",
      "7 19 20\n",
      "7 19 21\n",
      "7 19 22\n",
      "7 19 23\n",
      "7 19 24\n",
      "7 19 25\n",
      "7 19 26\n",
      "7 19 27\n",
      "7 19 28\n",
      "7 19 29\n",
      "7 19 30\n",
      "7 19 31\n",
      "7 19 32\n",
      "7 19 33\n",
      "7 19 34\n",
      "7 19 35\n",
      "7 19 36\n",
      "7 19 37\n",
      "7 20 21\n",
      "7 20 22\n",
      "7 20 23\n",
      "7 20 24\n",
      "7 20 25\n",
      "7 20 26\n",
      "7 20 27\n",
      "7 20 28\n",
      "7 20 29\n",
      "7 20 30\n",
      "7 20 31\n",
      "7 20 32\n",
      "7 20 33\n",
      "7 20 34\n",
      "7 20 35\n",
      "7 20 36\n",
      "7 20 37\n",
      "7 21 22\n",
      "7 21 23\n",
      "7 21 24\n",
      "7 21 25\n",
      "7 21 26\n",
      "7 21 27\n",
      "7 21 28\n",
      "7 21 29\n",
      "7 21 30\n",
      "7 21 31\n",
      "7 21 32\n",
      "7 21 33\n",
      "7 21 34\n",
      "7 21 35\n",
      "7 21 36\n",
      "7 21 37\n",
      "7 22 23\n",
      "7 22 24\n",
      "7 22 25\n",
      "7 22 26\n",
      "7 22 27\n",
      "7 22 28\n",
      "7 22 29\n",
      "7 22 30\n",
      "7 22 31\n",
      "7 22 32\n",
      "7 22 33\n",
      "7 22 34\n",
      "7 22 35\n",
      "7 22 36\n",
      "7 22 37\n",
      "7 23 24\n",
      "7 23 25\n",
      "7 23 26\n",
      "7 23 27\n",
      "7 23 28\n",
      "7 23 29\n",
      "7 23 30\n",
      "7 23 31\n",
      "7 23 32\n",
      "7 23 33\n",
      "7 23 34\n",
      "7 23 35\n",
      "7 23 36\n",
      "7 23 37\n",
      "7 24 25\n",
      "7 24 26\n",
      "7 24 27\n",
      "7 24 28\n",
      "7 24 29\n",
      "7 24 30\n",
      "7 24 31\n",
      "7 24 32\n",
      "7 24 33\n",
      "7 24 34\n",
      "7 24 35\n",
      "7 24 36\n",
      "7 24 37\n",
      "7 25 26\n",
      "7 25 27\n",
      "7 25 28\n",
      "7 25 29\n",
      "7 25 30\n",
      "7 25 31\n",
      "7 25 32\n",
      "7 25 33\n",
      "7 25 34\n",
      "7 25 35\n",
      "7 25 36\n",
      "7 25 37\n",
      "7 26 27\n",
      "7 26 28\n",
      "7 26 29\n",
      "7 26 30\n",
      "7 26 31\n",
      "7 26 32\n",
      "7 26 33\n",
      "7 26 34\n",
      "7 26 35\n",
      "7 26 36\n",
      "7 26 37\n",
      "7 27 28\n",
      "7 27 29\n",
      "7 27 30\n",
      "7 27 31\n",
      "7 27 32\n",
      "7 27 33\n",
      "7 27 34\n",
      "7 27 35\n",
      "7 27 36\n",
      "7 27 37\n",
      "7 28 29\n",
      "7 28 30\n",
      "7 28 31\n",
      "7 28 32\n",
      "7 28 33\n",
      "7 28 34\n",
      "7 28 35\n",
      "7 28 36\n",
      "7 28 37\n",
      "7 29 30\n",
      "7 29 31\n",
      "7 29 32\n",
      "7 29 33\n",
      "7 29 34\n",
      "7 29 35\n",
      "7 29 36\n",
      "7 29 37\n",
      "7 30 31\n",
      "7 30 32\n",
      "7 30 33\n",
      "7 30 34\n",
      "7 30 35\n",
      "7 30 36\n",
      "7 30 37\n",
      "7 31 32\n",
      "7 31 33\n",
      "7 31 34\n",
      "7 31 35\n",
      "7 31 36\n",
      "7 31 37\n",
      "7 32 33\n",
      "7 32 34\n",
      "7 32 35\n",
      "7 32 36\n",
      "7 32 37\n",
      "7 33 34\n",
      "7 33 35\n",
      "7 33 36\n",
      "7 33 37\n",
      "7 34 35\n",
      "7 34 36\n",
      "7 34 37\n",
      "7 35 36\n",
      "7 35 37\n",
      "7 36 37\n",
      "8 9 10\n",
      "8 9 11\n",
      "8 9 12\n",
      "8 9 13\n",
      "8 9 14\n",
      "8 9 15\n",
      "8 9 16\n",
      "8 9 17\n",
      "8 9 18\n",
      "8 9 19\n",
      "8 9 20\n",
      "8 9 21\n",
      "8 9 22\n",
      "8 9 23\n",
      "8 9 24\n",
      "8 9 25\n",
      "8 9 26\n",
      "8 9 27\n",
      "8 9 28\n",
      "8 9 29\n",
      "8 9 30\n",
      "8 9 31\n",
      "8 9 32\n",
      "8 9 33\n",
      "8 9 34\n",
      "8 9 35\n",
      "8 9 36\n",
      "8 9 37\n",
      "8 10 11\n",
      "8 10 12\n",
      "8 10 13\n",
      "8 10 14\n",
      "8 10 15\n",
      "8 10 16\n",
      "8 10 17\n",
      "8 10 18\n",
      "8 10 19\n",
      "8 10 20\n",
      "8 10 21\n",
      "8 10 22\n",
      "8 10 23\n",
      "8 10 24\n",
      "8 10 25\n",
      "8 10 26\n",
      "8 10 27\n",
      "8 10 28\n",
      "8 10 29\n",
      "8 10 30\n",
      "8 10 31\n",
      "8 10 32\n",
      "8 10 33\n",
      "8 10 34\n",
      "8 10 35\n",
      "8 10 36\n",
      "8 10 37\n",
      "8 11 12\n",
      "8 11 13\n",
      "8 11 14\n",
      "8 11 15\n",
      "8 11 16\n",
      "8 11 17\n",
      "8 11 18\n",
      "8 11 19\n",
      "8 11 20\n",
      "8 11 21\n",
      "8 11 22\n",
      "8 11 23\n",
      "8 11 24\n",
      "8 11 25\n",
      "8 11 26\n",
      "8 11 27\n",
      "8 11 28\n",
      "8 11 29\n",
      "8 11 30\n",
      "8 11 31\n",
      "8 11 32\n",
      "8 11 33\n",
      "8 11 34\n",
      "8 11 35\n",
      "8 11 36\n",
      "8 11 37\n",
      "8 12 13\n",
      "8 12 14\n",
      "8 12 15\n",
      "8 12 16\n",
      "8 12 17\n",
      "8 12 18\n",
      "8 12 19\n",
      "8 12 20\n",
      "8 12 21\n",
      "8 12 22\n",
      "8 12 23\n",
      "8 12 24\n",
      "8 12 25\n",
      "8 12 26\n",
      "8 12 27\n",
      "8 12 28\n",
      "8 12 29\n",
      "8 12 30\n",
      "8 12 31\n",
      "8 12 32\n",
      "8 12 33\n",
      "8 12 34\n",
      "8 12 35\n",
      "8 12 36\n",
      "8 12 37\n",
      "8 13 14\n",
      "8 13 15\n",
      "8 13 16\n",
      "8 13 17\n",
      "8 13 18\n",
      "8 13 19\n",
      "8 13 20\n",
      "8 13 21\n",
      "8 13 22\n",
      "8 13 23\n",
      "8 13 24\n",
      "8 13 25\n",
      "8 13 26\n",
      "8 13 27\n",
      "8 13 28\n",
      "8 13 29\n",
      "8 13 30\n",
      "8 13 31\n",
      "8 13 32\n",
      "8 13 33\n",
      "8 13 34\n",
      "8 13 35\n",
      "8 13 36\n",
      "8 13 37\n",
      "8 14 15\n",
      "8 14 16\n",
      "8 14 17\n",
      "8 14 18\n",
      "8 14 19\n",
      "8 14 20\n",
      "8 14 21\n",
      "8 14 22\n",
      "8 14 23\n",
      "8 14 24\n",
      "8 14 25\n",
      "8 14 26\n",
      "8 14 27\n",
      "8 14 28\n",
      "8 14 29\n",
      "8 14 30\n",
      "8 14 31\n",
      "8 14 32\n",
      "8 14 33\n",
      "8 14 34\n",
      "8 14 35\n",
      "8 14 36\n",
      "8 14 37\n",
      "8 15 16\n",
      "8 15 17\n",
      "8 15 18\n",
      "8 15 19\n",
      "8 15 20\n",
      "8 15 21\n",
      "8 15 22\n",
      "8 15 23\n",
      "8 15 24\n",
      "8 15 25\n",
      "8 15 26\n",
      "8 15 27\n",
      "8 15 28\n",
      "8 15 29\n",
      "8 15 30\n",
      "8 15 31\n",
      "8 15 32\n",
      "8 15 33\n",
      "8 15 34\n",
      "8 15 35\n",
      "8 15 36\n",
      "8 15 37\n",
      "8 16 17\n",
      "8 16 18\n",
      "8 16 19\n",
      "8 16 20\n",
      "8 16 21\n",
      "8 16 22\n",
      "8 16 23\n",
      "8 16 24\n",
      "8 16 25\n",
      "8 16 26\n",
      "8 16 27\n",
      "8 16 28\n",
      "8 16 29\n",
      "8 16 30\n",
      "8 16 31\n",
      "8 16 32\n",
      "8 16 33\n",
      "8 16 34\n",
      "8 16 35\n",
      "8 16 36\n",
      "8 16 37\n",
      "8 17 18\n",
      "8 17 19\n",
      "8 17 20\n",
      "8 17 21\n",
      "8 17 22\n",
      "8 17 23\n",
      "8 17 24\n",
      "8 17 25\n",
      "8 17 26\n",
      "8 17 27\n",
      "8 17 28\n",
      "8 17 29\n",
      "8 17 30\n",
      "8 17 31\n",
      "8 17 32\n",
      "8 17 33\n",
      "8 17 34\n",
      "8 17 35\n",
      "8 17 36\n",
      "8 17 37\n",
      "8 18 19\n",
      "8 18 20\n",
      "8 18 21\n",
      "8 18 22\n",
      "8 18 23\n",
      "8 18 24\n",
      "8 18 25\n",
      "8 18 26\n",
      "8 18 27\n",
      "8 18 28\n",
      "8 18 29\n",
      "8 18 30\n",
      "8 18 31\n",
      "8 18 32\n",
      "8 18 33\n",
      "8 18 34\n",
      "8 18 35\n",
      "8 18 36\n",
      "8 18 37\n",
      "8 19 20\n",
      "8 19 21\n",
      "8 19 22\n",
      "8 19 23\n",
      "8 19 24\n",
      "8 19 25\n",
      "8 19 26\n",
      "8 19 27\n",
      "8 19 28\n",
      "8 19 29\n",
      "8 19 30\n",
      "8 19 31\n",
      "8 19 32\n",
      "8 19 33\n",
      "8 19 34\n",
      "8 19 35\n",
      "8 19 36\n",
      "8 19 37\n",
      "8 20 21\n",
      "8 20 22\n",
      "8 20 23\n",
      "8 20 24\n",
      "8 20 25\n",
      "8 20 26\n",
      "8 20 27\n",
      "8 20 28\n",
      "8 20 29\n",
      "8 20 30\n",
      "8 20 31\n",
      "8 20 32\n",
      "8 20 33\n",
      "8 20 34\n",
      "8 20 35\n",
      "8 20 36\n",
      "8 20 37\n",
      "8 21 22\n",
      "8 21 23\n",
      "8 21 24\n",
      "8 21 25\n",
      "8 21 26\n",
      "8 21 27\n",
      "8 21 28\n",
      "8 21 29\n",
      "8 21 30\n",
      "8 21 31\n",
      "8 21 32\n",
      "8 21 33\n",
      "8 21 34\n",
      "8 21 35\n",
      "8 21 36\n",
      "8 21 37\n",
      "8 22 23\n",
      "8 22 24\n",
      "8 22 25\n",
      "8 22 26\n",
      "8 22 27\n",
      "8 22 28\n",
      "8 22 29\n",
      "8 22 30\n",
      "8 22 31\n",
      "8 22 32\n",
      "8 22 33\n",
      "8 22 34\n",
      "8 22 35\n",
      "8 22 36\n",
      "8 22 37\n",
      "8 23 24\n",
      "8 23 25\n",
      "8 23 26\n",
      "8 23 27\n",
      "8 23 28\n",
      "8 23 29\n",
      "8 23 30\n",
      "8 23 31\n",
      "8 23 32\n",
      "8 23 33\n",
      "8 23 34\n",
      "8 23 35\n",
      "8 23 36\n",
      "8 23 37\n",
      "8 24 25\n",
      "8 24 26\n",
      "8 24 27\n",
      "8 24 28\n",
      "8 24 29\n",
      "8 24 30\n",
      "8 24 31\n",
      "8 24 32\n",
      "8 24 33\n",
      "8 24 34\n",
      "8 24 35\n",
      "8 24 36\n",
      "8 24 37\n",
      "8 25 26\n",
      "8 25 27\n",
      "8 25 28\n",
      "8 25 29\n",
      "8 25 30\n",
      "8 25 31\n",
      "8 25 32\n",
      "8 25 33\n",
      "8 25 34\n",
      "8 25 35\n",
      "8 25 36\n",
      "8 25 37\n",
      "8 26 27\n",
      "8 26 28\n",
      "8 26 29\n",
      "8 26 30\n",
      "8 26 31\n",
      "8 26 32\n",
      "8 26 33\n",
      "8 26 34\n",
      "8 26 35\n",
      "8 26 36\n",
      "8 26 37\n",
      "8 27 28\n",
      "8 27 29\n",
      "8 27 30\n",
      "8 27 31\n",
      "8 27 32\n",
      "8 27 33\n",
      "8 27 34\n",
      "8 27 35\n",
      "8 27 36\n",
      "8 27 37\n",
      "8 28 29\n",
      "8 28 30\n",
      "8 28 31\n",
      "8 28 32\n",
      "8 28 33\n",
      "8 28 34\n",
      "8 28 35\n",
      "8 28 36\n",
      "8 28 37\n",
      "8 29 30\n",
      "8 29 31\n",
      "8 29 32\n",
      "8 29 33\n",
      "8 29 34\n",
      "8 29 35\n",
      "8 29 36\n",
      "8 29 37\n",
      "8 30 31\n",
      "8 30 32\n",
      "8 30 33\n",
      "8 30 34\n",
      "8 30 35\n",
      "8 30 36\n",
      "8 30 37\n",
      "8 31 32\n",
      "8 31 33\n",
      "8 31 34\n",
      "8 31 35\n",
      "8 31 36\n",
      "8 31 37\n",
      "8 32 33\n",
      "8 32 34\n",
      "8 32 35\n",
      "8 32 36\n",
      "8 32 37\n",
      "8 33 34\n",
      "8 33 35\n",
      "8 33 36\n",
      "8 33 37\n",
      "8 34 35\n",
      "8 34 36\n",
      "8 34 37\n",
      "8 35 36\n",
      "8 35 37\n",
      "8 36 37\n",
      "9 10 11\n",
      "9 10 12\n",
      "9 10 13\n",
      "9 10 14\n",
      "9 10 15\n",
      "9 10 16\n",
      "9 10 17\n",
      "9 10 18\n",
      "9 10 19\n",
      "9 10 20\n",
      "9 10 21\n",
      "9 10 22\n",
      "9 10 23\n",
      "9 10 24\n",
      "9 10 25\n",
      "9 10 26\n",
      "9 10 27\n",
      "9 10 28\n",
      "9 10 29\n",
      "9 10 30\n",
      "9 10 31\n",
      "9 10 32\n",
      "9 10 33\n",
      "9 10 34\n",
      "9 10 35\n",
      "9 10 36\n",
      "9 10 37\n",
      "9 11 12\n",
      "9 11 13\n",
      "9 11 14\n",
      "9 11 15\n",
      "9 11 16\n",
      "9 11 17\n",
      "9 11 18\n",
      "9 11 19\n",
      "9 11 20\n",
      "9 11 21\n",
      "9 11 22\n",
      "9 11 23\n",
      "9 11 24\n",
      "9 11 25\n",
      "9 11 26\n",
      "9 11 27\n",
      "9 11 28\n",
      "9 11 29\n",
      "9 11 30\n",
      "9 11 31\n",
      "9 11 32\n",
      "9 11 33\n",
      "9 11 34\n",
      "9 11 35\n",
      "9 11 36\n",
      "9 11 37\n",
      "9 12 13\n",
      "9 12 14\n",
      "9 12 15\n",
      "9 12 16\n",
      "9 12 17\n",
      "9 12 18\n",
      "9 12 19\n",
      "9 12 20\n",
      "9 12 21\n",
      "9 12 22\n",
      "9 12 23\n",
      "9 12 24\n",
      "9 12 25\n",
      "9 12 26\n",
      "9 12 27\n",
      "9 12 28\n",
      "9 12 29\n",
      "9 12 30\n",
      "9 12 31\n",
      "9 12 32\n",
      "9 12 33\n",
      "9 12 34\n",
      "9 12 35\n",
      "9 12 36\n",
      "9 12 37\n",
      "9 13 14\n",
      "9 13 15\n",
      "9 13 16\n",
      "9 13 17\n",
      "9 13 18\n",
      "9 13 19\n",
      "9 13 20\n",
      "9 13 21\n",
      "9 13 22\n",
      "9 13 23\n",
      "9 13 24\n",
      "9 13 25\n",
      "9 13 26\n",
      "9 13 27\n",
      "9 13 28\n",
      "9 13 29\n",
      "9 13 30\n",
      "9 13 31\n",
      "9 13 32\n",
      "9 13 33\n",
      "9 13 34\n",
      "9 13 35\n",
      "9 13 36\n",
      "9 13 37\n",
      "9 14 15\n",
      "9 14 16\n",
      "9 14 17\n",
      "9 14 18\n",
      "9 14 19\n",
      "9 14 20\n",
      "9 14 21\n",
      "9 14 22\n",
      "9 14 23\n",
      "9 14 24\n",
      "9 14 25\n",
      "9 14 26\n",
      "9 14 27\n",
      "9 14 28\n",
      "9 14 29\n",
      "9 14 30\n",
      "9 14 31\n",
      "9 14 32\n",
      "9 14 33\n",
      "9 14 34\n",
      "9 14 35\n",
      "9 14 36\n",
      "9 14 37\n",
      "9 15 16\n",
      "9 15 17\n",
      "9 15 18\n",
      "9 15 19\n",
      "9 15 20\n",
      "9 15 21\n",
      "9 15 22\n",
      "9 15 23\n",
      "9 15 24\n",
      "9 15 25\n",
      "9 15 26\n",
      "9 15 27\n",
      "9 15 28\n",
      "9 15 29\n",
      "9 15 30\n",
      "9 15 31\n",
      "9 15 32\n",
      "9 15 33\n",
      "9 15 34\n",
      "9 15 35\n",
      "9 15 36\n",
      "9 15 37\n",
      "9 16 17\n",
      "9 16 18\n",
      "9 16 19\n",
      "9 16 20\n",
      "9 16 21\n",
      "9 16 22\n",
      "9 16 23\n",
      "9 16 24\n",
      "9 16 25\n",
      "9 16 26\n",
      "9 16 27\n",
      "9 16 28\n",
      "9 16 29\n",
      "9 16 30\n",
      "9 16 31\n",
      "9 16 32\n",
      "9 16 33\n",
      "9 16 34\n",
      "9 16 35\n",
      "9 16 36\n",
      "9 16 37\n",
      "9 17 18\n",
      "9 17 19\n",
      "9 17 20\n",
      "9 17 21\n",
      "9 17 22\n",
      "9 17 23\n",
      "9 17 24\n",
      "9 17 25\n",
      "9 17 26\n",
      "9 17 27\n",
      "9 17 28\n",
      "9 17 29\n",
      "9 17 30\n",
      "9 17 31\n",
      "9 17 32\n",
      "9 17 33\n",
      "9 17 34\n",
      "9 17 35\n",
      "9 17 36\n",
      "9 17 37\n",
      "9 18 19\n",
      "9 18 20\n",
      "9 18 21\n",
      "9 18 22\n",
      "9 18 23\n",
      "9 18 24\n",
      "9 18 25\n",
      "9 18 26\n",
      "9 18 27\n",
      "9 18 28\n",
      "9 18 29\n",
      "9 18 30\n",
      "9 18 31\n",
      "9 18 32\n",
      "9 18 33\n",
      "9 18 34\n",
      "9 18 35\n",
      "9 18 36\n",
      "9 18 37\n",
      "9 19 20\n",
      "9 19 21\n",
      "9 19 22\n",
      "9 19 23\n",
      "9 19 24\n",
      "9 19 25\n",
      "9 19 26\n",
      "9 19 27\n",
      "9 19 28\n",
      "9 19 29\n",
      "9 19 30\n",
      "9 19 31\n",
      "9 19 32\n",
      "9 19 33\n",
      "9 19 34\n",
      "9 19 35\n",
      "9 19 36\n",
      "9 19 37\n",
      "9 20 21\n",
      "9 20 22\n",
      "9 20 23\n",
      "9 20 24\n",
      "9 20 25\n",
      "9 20 26\n",
      "9 20 27\n",
      "9 20 28\n",
      "9 20 29\n",
      "9 20 30\n",
      "9 20 31\n",
      "9 20 32\n",
      "9 20 33\n",
      "9 20 34\n",
      "9 20 35\n",
      "9 20 36\n",
      "9 20 37\n",
      "9 21 22\n",
      "9 21 23\n",
      "9 21 24\n",
      "9 21 25\n",
      "9 21 26\n",
      "9 21 27\n",
      "9 21 28\n",
      "9 21 29\n",
      "9 21 30\n",
      "9 21 31\n",
      "9 21 32\n",
      "9 21 33\n",
      "9 21 34\n",
      "9 21 35\n",
      "9 21 36\n",
      "9 21 37\n",
      "9 22 23\n",
      "9 22 24\n",
      "9 22 25\n",
      "9 22 26\n",
      "9 22 27\n",
      "9 22 28\n",
      "9 22 29\n",
      "9 22 30\n",
      "9 22 31\n",
      "9 22 32\n",
      "9 22 33\n",
      "9 22 34\n",
      "9 22 35\n",
      "9 22 36\n",
      "9 22 37\n",
      "9 23 24\n",
      "9 23 25\n",
      "9 23 26\n",
      "9 23 27\n",
      "9 23 28\n",
      "9 23 29\n",
      "9 23 30\n",
      "9 23 31\n",
      "9 23 32\n",
      "9 23 33\n",
      "9 23 34\n",
      "9 23 35\n",
      "9 23 36\n",
      "9 23 37\n",
      "9 24 25\n",
      "9 24 26\n",
      "9 24 27\n",
      "9 24 28\n",
      "9 24 29\n",
      "9 24 30\n",
      "9 24 31\n",
      "9 24 32\n",
      "9 24 33\n",
      "9 24 34\n",
      "9 24 35\n",
      "9 24 36\n",
      "9 24 37\n",
      "9 25 26\n",
      "9 25 27\n",
      "9 25 28\n",
      "9 25 29\n",
      "9 25 30\n",
      "9 25 31\n",
      "9 25 32\n",
      "9 25 33\n",
      "9 25 34\n",
      "9 25 35\n",
      "9 25 36\n",
      "9 25 37\n",
      "9 26 27\n",
      "9 26 28\n",
      "9 26 29\n",
      "9 26 30\n",
      "9 26 31\n",
      "9 26 32\n",
      "9 26 33\n",
      "9 26 34\n",
      "9 26 35\n",
      "9 26 36\n",
      "9 26 37\n",
      "9 27 28\n",
      "9 27 29\n",
      "9 27 30\n",
      "9 27 31\n",
      "9 27 32\n",
      "9 27 33\n",
      "9 27 34\n",
      "9 27 35\n",
      "9 27 36\n",
      "9 27 37\n",
      "9 28 29\n",
      "9 28 30\n",
      "9 28 31\n",
      "9 28 32\n",
      "9 28 33\n",
      "9 28 34\n",
      "9 28 35\n",
      "9 28 36\n",
      "9 28 37\n",
      "9 29 30\n",
      "9 29 31\n",
      "9 29 32\n",
      "9 29 33\n",
      "9 29 34\n",
      "9 29 35\n",
      "9 29 36\n",
      "9 29 37\n",
      "9 30 31\n",
      "9 30 32\n",
      "9 30 33\n",
      "9 30 34\n",
      "9 30 35\n",
      "9 30 36\n",
      "9 30 37\n",
      "9 31 32\n",
      "9 31 33\n",
      "9 31 34\n",
      "9 31 35\n",
      "9 31 36\n",
      "9 31 37\n",
      "9 32 33\n",
      "9 32 34\n",
      "9 32 35\n",
      "9 32 36\n",
      "9 32 37\n",
      "9 33 34\n",
      "9 33 35\n",
      "9 33 36\n",
      "9 33 37\n",
      "9 34 35\n",
      "9 34 36\n",
      "9 34 37\n",
      "9 35 36\n",
      "9 35 37\n",
      "9 36 37\n",
      "10 11 12\n",
      "10 11 13\n",
      "10 11 14\n",
      "10 11 15\n",
      "10 11 16\n",
      "10 11 17\n",
      "10 11 18\n",
      "10 11 19\n",
      "10 11 20\n",
      "10 11 21\n",
      "10 11 22\n",
      "10 11 23\n",
      "10 11 24\n",
      "10 11 25\n",
      "10 11 26\n",
      "10 11 27\n",
      "10 11 28\n",
      "10 11 29\n",
      "10 11 30\n",
      "10 11 31\n",
      "10 11 32\n",
      "10 11 33\n",
      "10 11 34\n",
      "10 11 35\n",
      "10 11 36\n",
      "10 11 37\n",
      "10 12 13\n",
      "10 12 14\n",
      "10 12 15\n",
      "10 12 16\n",
      "10 12 17\n",
      "10 12 18\n",
      "10 12 19\n",
      "10 12 20\n",
      "10 12 21\n",
      "10 12 22\n",
      "10 12 23\n",
      "10 12 24\n",
      "10 12 25\n",
      "10 12 26\n",
      "10 12 27\n",
      "10 12 28\n",
      "10 12 29\n",
      "10 12 30\n",
      "10 12 31\n",
      "10 12 32\n",
      "10 12 33\n",
      "10 12 34\n",
      "10 12 35\n",
      "10 12 36\n",
      "10 12 37\n",
      "10 13 14\n",
      "10 13 15\n",
      "10 13 16\n",
      "10 13 17\n",
      "10 13 18\n",
      "10 13 19\n",
      "10 13 20\n",
      "10 13 21\n",
      "10 13 22\n",
      "10 13 23\n",
      "10 13 24\n",
      "10 13 25\n",
      "10 13 26\n",
      "10 13 27\n",
      "10 13 28\n",
      "10 13 29\n",
      "10 13 30\n",
      "10 13 31\n",
      "10 13 32\n",
      "10 13 33\n",
      "10 13 34\n",
      "10 13 35\n",
      "10 13 36\n",
      "10 13 37\n",
      "10 14 15\n",
      "10 14 16\n",
      "10 14 17\n",
      "10 14 18\n",
      "10 14 19\n",
      "10 14 20\n",
      "10 14 21\n",
      "10 14 22\n",
      "10 14 23\n",
      "10 14 24\n",
      "10 14 25\n",
      "10 14 26\n",
      "10 14 27\n",
      "10 14 28\n",
      "10 14 29\n",
      "10 14 30\n",
      "10 14 31\n",
      "10 14 32\n",
      "10 14 33\n",
      "10 14 34\n",
      "10 14 35\n",
      "10 14 36\n",
      "10 14 37\n",
      "10 15 16\n",
      "10 15 17\n",
      "10 15 18\n",
      "10 15 19\n",
      "10 15 20\n",
      "10 15 21\n",
      "10 15 22\n",
      "10 15 23\n",
      "10 15 24\n",
      "10 15 25\n",
      "10 15 26\n",
      "10 15 27\n",
      "10 15 28\n",
      "10 15 29\n",
      "10 15 30\n",
      "10 15 31\n",
      "10 15 32\n",
      "10 15 33\n",
      "10 15 34\n",
      "10 15 35\n",
      "10 15 36\n",
      "10 15 37\n",
      "10 16 17\n",
      "10 16 18\n",
      "10 16 19\n",
      "10 16 20\n",
      "10 16 21\n",
      "10 16 22\n",
      "10 16 23\n",
      "10 16 24\n",
      "10 16 25\n",
      "10 16 26\n",
      "10 16 27\n",
      "10 16 28\n",
      "10 16 29\n",
      "10 16 30\n",
      "10 16 31\n",
      "10 16 32\n",
      "10 16 33\n",
      "10 16 34\n",
      "10 16 35\n",
      "10 16 36\n",
      "10 16 37\n",
      "10 17 18\n",
      "10 17 19\n",
      "10 17 20\n",
      "10 17 21\n",
      "10 17 22\n",
      "10 17 23\n",
      "10 17 24\n",
      "10 17 25\n",
      "10 17 26\n",
      "10 17 27\n",
      "10 17 28\n",
      "10 17 29\n",
      "10 17 30\n",
      "10 17 31\n",
      "10 17 32\n",
      "10 17 33\n",
      "10 17 34\n",
      "10 17 35\n",
      "10 17 36\n",
      "10 17 37\n",
      "10 18 19\n",
      "10 18 20\n",
      "10 18 21\n",
      "10 18 22\n",
      "10 18 23\n",
      "10 18 24\n",
      "10 18 25\n",
      "10 18 26\n",
      "10 18 27\n",
      "10 18 28\n",
      "10 18 29\n",
      "10 18 30\n",
      "10 18 31\n",
      "10 18 32\n",
      "10 18 33\n",
      "10 18 34\n",
      "10 18 35\n",
      "10 18 36\n",
      "10 18 37\n",
      "10 19 20\n",
      "10 19 21\n",
      "10 19 22\n",
      "10 19 23\n",
      "10 19 24\n",
      "10 19 25\n",
      "10 19 26\n",
      "10 19 27\n",
      "10 19 28\n",
      "10 19 29\n",
      "10 19 30\n",
      "10 19 31\n",
      "10 19 32\n",
      "10 19 33\n",
      "10 19 34\n",
      "10 19 35\n",
      "10 19 36\n",
      "10 19 37\n",
      "10 20 21\n",
      "10 20 22\n",
      "10 20 23\n",
      "10 20 24\n",
      "10 20 25\n",
      "10 20 26\n",
      "10 20 27\n",
      "10 20 28\n",
      "10 20 29\n",
      "10 20 30\n",
      "10 20 31\n",
      "10 20 32\n",
      "10 20 33\n",
      "10 20 34\n",
      "10 20 35\n",
      "10 20 36\n",
      "10 20 37\n",
      "10 21 22\n",
      "10 21 23\n",
      "10 21 24\n",
      "10 21 25\n",
      "10 21 26\n",
      "10 21 27\n",
      "10 21 28\n",
      "10 21 29\n",
      "10 21 30\n",
      "10 21 31\n",
      "10 21 32\n",
      "10 21 33\n",
      "10 21 34\n",
      "10 21 35\n",
      "10 21 36\n",
      "10 21 37\n",
      "10 22 23\n",
      "10 22 24\n",
      "10 22 25\n",
      "10 22 26\n",
      "10 22 27\n",
      "10 22 28\n",
      "10 22 29\n",
      "10 22 30\n",
      "10 22 31\n",
      "10 22 32\n",
      "10 22 33\n",
      "10 22 34\n",
      "10 22 35\n",
      "10 22 36\n",
      "10 22 37\n",
      "10 23 24\n",
      "10 23 25\n",
      "10 23 26\n",
      "10 23 27\n",
      "10 23 28\n",
      "10 23 29\n",
      "10 23 30\n",
      "10 23 31\n",
      "10 23 32\n",
      "10 23 33\n",
      "10 23 34\n",
      "10 23 35\n",
      "10 23 36\n",
      "10 23 37\n",
      "10 24 25\n",
      "10 24 26\n",
      "10 24 27\n",
      "10 24 28\n",
      "10 24 29\n",
      "10 24 30\n",
      "10 24 31\n",
      "10 24 32\n",
      "10 24 33\n",
      "10 24 34\n",
      "10 24 35\n",
      "10 24 36\n",
      "10 24 37\n",
      "10 25 26\n",
      "10 25 27\n",
      "10 25 28\n",
      "10 25 29\n",
      "10 25 30\n",
      "10 25 31\n",
      "10 25 32\n",
      "10 25 33\n",
      "10 25 34\n",
      "10 25 35\n",
      "10 25 36\n",
      "10 25 37\n",
      "10 26 27\n",
      "10 26 28\n",
      "10 26 29\n",
      "10 26 30\n",
      "10 26 31\n",
      "10 26 32\n",
      "10 26 33\n",
      "10 26 34\n",
      "10 26 35\n",
      "10 26 36\n",
      "10 26 37\n",
      "10 27 28\n",
      "10 27 29\n",
      "10 27 30\n",
      "10 27 31\n",
      "10 27 32\n",
      "10 27 33\n",
      "10 27 34\n",
      "10 27 35\n",
      "10 27 36\n",
      "10 27 37\n",
      "10 28 29\n",
      "10 28 30\n",
      "10 28 31\n",
      "10 28 32\n",
      "10 28 33\n",
      "10 28 34\n",
      "10 28 35\n",
      "10 28 36\n",
      "10 28 37\n",
      "10 29 30\n",
      "10 29 31\n",
      "10 29 32\n",
      "10 29 33\n",
      "10 29 34\n",
      "10 29 35\n",
      "10 29 36\n",
      "10 29 37\n",
      "10 30 31\n",
      "10 30 32\n",
      "10 30 33\n",
      "10 30 34\n",
      "10 30 35\n",
      "10 30 36\n",
      "10 30 37\n",
      "10 31 32\n",
      "10 31 33\n",
      "10 31 34\n",
      "10 31 35\n",
      "10 31 36\n",
      "10 31 37\n",
      "10 32 33\n",
      "10 32 34\n",
      "10 32 35\n",
      "10 32 36\n",
      "10 32 37\n",
      "10 33 34\n",
      "10 33 35\n",
      "10 33 36\n",
      "10 33 37\n",
      "10 34 35\n",
      "10 34 36\n",
      "10 34 37\n",
      "10 35 36\n",
      "10 35 37\n",
      "10 36 37\n",
      "11 12 13\n",
      "11 12 14\n",
      "11 12 15\n",
      "11 12 16\n",
      "11 12 17\n",
      "11 12 18\n",
      "11 12 19\n",
      "11 12 20\n",
      "11 12 21\n",
      "11 12 22\n",
      "11 12 23\n",
      "11 12 24\n",
      "11 12 25\n",
      "11 12 26\n",
      "11 12 27\n",
      "11 12 28\n",
      "11 12 29\n",
      "11 12 30\n",
      "11 12 31\n",
      "11 12 32\n",
      "11 12 33\n",
      "11 12 34\n",
      "11 12 35\n",
      "11 12 36\n",
      "11 12 37\n",
      "11 13 14\n",
      "11 13 15\n",
      "11 13 16\n",
      "11 13 17\n",
      "11 13 18\n",
      "11 13 19\n",
      "11 13 20\n",
      "11 13 21\n",
      "11 13 22\n",
      "11 13 23\n",
      "11 13 24\n",
      "11 13 25\n",
      "11 13 26\n",
      "11 13 27\n",
      "11 13 28\n",
      "11 13 29\n",
      "11 13 30\n",
      "11 13 31\n",
      "11 13 32\n",
      "11 13 33\n",
      "11 13 34\n",
      "11 13 35\n",
      "11 13 36\n",
      "11 13 37\n",
      "11 14 15\n",
      "11 14 16\n",
      "11 14 17\n",
      "11 14 18\n",
      "11 14 19\n",
      "11 14 20\n",
      "11 14 21\n",
      "11 14 22\n",
      "11 14 23\n",
      "11 14 24\n",
      "11 14 25\n",
      "11 14 26\n",
      "11 14 27\n",
      "11 14 28\n",
      "11 14 29\n",
      "11 14 30\n",
      "11 14 31\n",
      "11 14 32\n",
      "11 14 33\n",
      "11 14 34\n",
      "11 14 35\n",
      "11 14 36\n",
      "11 14 37\n",
      "11 15 16\n",
      "11 15 17\n",
      "11 15 18\n",
      "11 15 19\n",
      "11 15 20\n",
      "11 15 21\n",
      "11 15 22\n",
      "11 15 23\n",
      "11 15 24\n",
      "11 15 25\n",
      "11 15 26\n",
      "11 15 27\n",
      "11 15 28\n",
      "11 15 29\n",
      "11 15 30\n",
      "11 15 31\n",
      "11 15 32\n",
      "11 15 33\n",
      "11 15 34\n",
      "11 15 35\n",
      "11 15 36\n",
      "11 15 37\n",
      "11 16 17\n",
      "11 16 18\n",
      "11 16 19\n",
      "11 16 20\n",
      "11 16 21\n",
      "11 16 22\n",
      "11 16 23\n",
      "11 16 24\n",
      "11 16 25\n",
      "11 16 26\n",
      "11 16 27\n",
      "11 16 28\n",
      "11 16 29\n",
      "11 16 30\n",
      "11 16 31\n",
      "11 16 32\n",
      "11 16 33\n",
      "11 16 34\n",
      "11 16 35\n",
      "11 16 36\n",
      "11 16 37\n",
      "11 17 18\n",
      "11 17 19\n",
      "11 17 20\n",
      "11 17 21\n",
      "11 17 22\n",
      "11 17 23\n",
      "11 17 24\n",
      "11 17 25\n",
      "11 17 26\n",
      "11 17 27\n",
      "11 17 28\n",
      "11 17 29\n",
      "11 17 30\n",
      "11 17 31\n",
      "11 17 32\n",
      "11 17 33\n",
      "11 17 34\n",
      "11 17 35\n",
      "11 17 36\n",
      "11 17 37\n",
      "11 18 19\n",
      "11 18 20\n",
      "11 18 21\n",
      "11 18 22\n",
      "11 18 23\n",
      "11 18 24\n",
      "11 18 25\n",
      "11 18 26\n",
      "11 18 27\n",
      "11 18 28\n",
      "11 18 29\n",
      "11 18 30\n",
      "11 18 31\n",
      "11 18 32\n",
      "11 18 33\n",
      "11 18 34\n",
      "11 18 35\n",
      "11 18 36\n",
      "11 18 37\n",
      "11 19 20\n",
      "11 19 21\n",
      "11 19 22\n",
      "11 19 23\n",
      "11 19 24\n",
      "11 19 25\n",
      "11 19 26\n",
      "11 19 27\n",
      "11 19 28\n",
      "11 19 29\n",
      "11 19 30\n",
      "11 19 31\n",
      "11 19 32\n",
      "11 19 33\n",
      "11 19 34\n",
      "11 19 35\n",
      "11 19 36\n",
      "11 19 37\n",
      "11 20 21\n",
      "11 20 22\n",
      "11 20 23\n",
      "11 20 24\n",
      "11 20 25\n",
      "11 20 26\n",
      "11 20 27\n",
      "11 20 28\n",
      "11 20 29\n",
      "11 20 30\n",
      "11 20 31\n",
      "11 20 32\n",
      "11 20 33\n",
      "11 20 34\n",
      "11 20 35\n",
      "11 20 36\n",
      "11 20 37\n",
      "11 21 22\n",
      "11 21 23\n",
      "11 21 24\n",
      "11 21 25\n",
      "11 21 26\n",
      "11 21 27\n",
      "11 21 28\n",
      "11 21 29\n",
      "11 21 30\n",
      "11 21 31\n",
      "11 21 32\n",
      "11 21 33\n",
      "11 21 34\n",
      "11 21 35\n",
      "11 21 36\n",
      "11 21 37\n",
      "11 22 23\n",
      "11 22 24\n",
      "11 22 25\n",
      "11 22 26\n",
      "11 22 27\n",
      "11 22 28\n",
      "11 22 29\n",
      "11 22 30\n",
      "11 22 31\n",
      "11 22 32\n",
      "11 22 33\n",
      "11 22 34\n",
      "11 22 35\n",
      "11 22 36\n",
      "11 22 37\n",
      "11 23 24\n",
      "11 23 25\n",
      "11 23 26\n",
      "11 23 27\n",
      "11 23 28\n",
      "11 23 29\n",
      "11 23 30\n",
      "11 23 31\n",
      "11 23 32\n",
      "11 23 33\n",
      "11 23 34\n",
      "11 23 35\n",
      "11 23 36\n",
      "11 23 37\n",
      "11 24 25\n",
      "11 24 26\n",
      "11 24 27\n",
      "11 24 28\n",
      "11 24 29\n",
      "11 24 30\n",
      "11 24 31\n",
      "11 24 32\n",
      "11 24 33\n",
      "11 24 34\n",
      "11 24 35\n",
      "11 24 36\n",
      "11 24 37\n",
      "11 25 26\n",
      "11 25 27\n",
      "11 25 28\n",
      "11 25 29\n",
      "11 25 30\n",
      "11 25 31\n",
      "11 25 32\n",
      "11 25 33\n",
      "11 25 34\n",
      "11 25 35\n",
      "11 25 36\n",
      "11 25 37\n",
      "11 26 27\n",
      "11 26 28\n",
      "11 26 29\n",
      "11 26 30\n",
      "11 26 31\n",
      "11 26 32\n",
      "11 26 33\n",
      "11 26 34\n",
      "11 26 35\n",
      "11 26 36\n",
      "11 26 37\n",
      "11 27 28\n",
      "11 27 29\n",
      "11 27 30\n",
      "11 27 31\n",
      "11 27 32\n",
      "11 27 33\n",
      "11 27 34\n",
      "11 27 35\n",
      "11 27 36\n",
      "11 27 37\n",
      "11 28 29\n",
      "11 28 30\n",
      "11 28 31\n",
      "11 28 32\n",
      "11 28 33\n",
      "11 28 34\n",
      "11 28 35\n",
      "11 28 36\n",
      "11 28 37\n",
      "11 29 30\n",
      "11 29 31\n",
      "11 29 32\n",
      "11 29 33\n",
      "11 29 34\n",
      "11 29 35\n",
      "11 29 36\n",
      "11 29 37\n",
      "11 30 31\n",
      "11 30 32\n",
      "11 30 33\n",
      "11 30 34\n",
      "11 30 35\n",
      "11 30 36\n",
      "11 30 37\n",
      "11 31 32\n",
      "11 31 33\n",
      "11 31 34\n",
      "11 31 35\n",
      "11 31 36\n",
      "11 31 37\n",
      "11 32 33\n",
      "11 32 34\n",
      "11 32 35\n",
      "11 32 36\n",
      "11 32 37\n",
      "11 33 34\n",
      "11 33 35\n",
      "11 33 36\n",
      "11 33 37\n",
      "11 34 35\n",
      "11 34 36\n",
      "11 34 37\n",
      "11 35 36\n",
      "11 35 37\n",
      "11 36 37\n",
      "12 13 14\n",
      "12 13 15\n",
      "12 13 16\n",
      "12 13 17\n",
      "12 13 18\n",
      "12 13 19\n",
      "12 13 20\n",
      "12 13 21\n",
      "12 13 22\n",
      "12 13 23\n",
      "12 13 24\n",
      "12 13 25\n",
      "12 13 26\n",
      "12 13 27\n",
      "12 13 28\n",
      "12 13 29\n",
      "12 13 30\n",
      "12 13 31\n",
      "12 13 32\n",
      "12 13 33\n",
      "12 13 34\n",
      "12 13 35\n",
      "12 13 36\n",
      "12 13 37\n",
      "12 14 15\n",
      "12 14 16\n",
      "12 14 17\n",
      "12 14 18\n",
      "12 14 19\n",
      "12 14 20\n",
      "12 14 21\n",
      "12 14 22\n",
      "12 14 23\n",
      "12 14 24\n",
      "12 14 25\n",
      "12 14 26\n",
      "12 14 27\n",
      "12 14 28\n",
      "12 14 29\n",
      "12 14 30\n",
      "12 14 31\n",
      "12 14 32\n",
      "12 14 33\n",
      "12 14 34\n",
      "12 14 35\n",
      "12 14 36\n",
      "12 14 37\n",
      "12 15 16\n",
      "12 15 17\n",
      "12 15 18\n",
      "12 15 19\n",
      "12 15 20\n",
      "12 15 21\n",
      "12 15 22\n",
      "12 15 23\n",
      "12 15 24\n",
      "12 15 25\n",
      "12 15 26\n",
      "12 15 27\n",
      "12 15 28\n",
      "12 15 29\n",
      "12 15 30\n",
      "12 15 31\n",
      "12 15 32\n",
      "12 15 33\n",
      "12 15 34\n",
      "12 15 35\n",
      "12 15 36\n",
      "12 15 37\n",
      "12 16 17\n",
      "12 16 18\n",
      "12 16 19\n",
      "12 16 20\n",
      "12 16 21\n",
      "12 16 22\n",
      "12 16 23\n",
      "12 16 24\n",
      "12 16 25\n",
      "12 16 26\n",
      "12 16 27\n",
      "12 16 28\n",
      "12 16 29\n",
      "12 16 30\n",
      "12 16 31\n",
      "12 16 32\n",
      "12 16 33\n",
      "12 16 34\n",
      "12 16 35\n",
      "12 16 36\n",
      "12 16 37\n",
      "12 17 18\n",
      "12 17 19\n",
      "12 17 20\n",
      "12 17 21\n",
      "12 17 22\n",
      "12 17 23\n",
      "12 17 24\n",
      "12 17 25\n",
      "12 17 26\n",
      "12 17 27\n",
      "12 17 28\n",
      "12 17 29\n",
      "12 17 30\n",
      "12 17 31\n",
      "12 17 32\n",
      "12 17 33\n",
      "12 17 34\n",
      "12 17 35\n",
      "12 17 36\n",
      "12 17 37\n",
      "12 18 19\n",
      "12 18 20\n",
      "12 18 21\n",
      "12 18 22\n",
      "12 18 23\n",
      "12 18 24\n",
      "12 18 25\n",
      "12 18 26\n",
      "12 18 27\n",
      "12 18 28\n",
      "12 18 29\n",
      "12 18 30\n",
      "12 18 31\n",
      "12 18 32\n",
      "12 18 33\n",
      "12 18 34\n",
      "12 18 35\n",
      "12 18 36\n",
      "12 18 37\n",
      "12 19 20\n",
      "12 19 21\n",
      "12 19 22\n",
      "12 19 23\n",
      "12 19 24\n",
      "12 19 25\n",
      "12 19 26\n",
      "12 19 27\n",
      "12 19 28\n",
      "12 19 29\n",
      "12 19 30\n",
      "12 19 31\n",
      "12 19 32\n",
      "12 19 33\n",
      "12 19 34\n",
      "12 19 35\n",
      "12 19 36\n",
      "12 19 37\n",
      "12 20 21\n",
      "12 20 22\n",
      "12 20 23\n",
      "12 20 24\n",
      "12 20 25\n",
      "12 20 26\n",
      "12 20 27\n",
      "12 20 28\n",
      "12 20 29\n",
      "12 20 30\n",
      "12 20 31\n",
      "12 20 32\n",
      "12 20 33\n",
      "12 20 34\n",
      "12 20 35\n",
      "12 20 36\n",
      "12 20 37\n",
      "12 21 22\n",
      "12 21 23\n",
      "12 21 24\n",
      "12 21 25\n",
      "12 21 26\n",
      "12 21 27\n",
      "12 21 28\n",
      "12 21 29\n",
      "12 21 30\n",
      "12 21 31\n",
      "12 21 32\n",
      "12 21 33\n",
      "12 21 34\n",
      "12 21 35\n",
      "12 21 36\n",
      "12 21 37\n",
      "12 22 23\n",
      "12 22 24\n",
      "12 22 25\n",
      "12 22 26\n",
      "12 22 27\n",
      "12 22 28\n",
      "12 22 29\n",
      "12 22 30\n",
      "12 22 31\n",
      "12 22 32\n",
      "12 22 33\n",
      "12 22 34\n",
      "12 22 35\n",
      "12 22 36\n",
      "12 22 37\n",
      "12 23 24\n",
      "12 23 25\n",
      "12 23 26\n",
      "12 23 27\n",
      "12 23 28\n",
      "12 23 29\n",
      "12 23 30\n",
      "12 23 31\n",
      "12 23 32\n",
      "12 23 33\n",
      "12 23 34\n",
      "12 23 35\n",
      "12 23 36\n",
      "12 23 37\n",
      "12 24 25\n",
      "12 24 26\n",
      "12 24 27\n",
      "12 24 28\n",
      "12 24 29\n",
      "12 24 30\n",
      "12 24 31\n",
      "12 24 32\n",
      "12 24 33\n",
      "12 24 34\n",
      "12 24 35\n",
      "12 24 36\n",
      "12 24 37\n",
      "12 25 26\n",
      "12 25 27\n",
      "12 25 28\n",
      "12 25 29\n",
      "12 25 30\n",
      "12 25 31\n",
      "12 25 32\n",
      "12 25 33\n",
      "12 25 34\n",
      "12 25 35\n",
      "12 25 36\n",
      "12 25 37\n",
      "12 26 27\n",
      "12 26 28\n",
      "12 26 29\n",
      "12 26 30\n",
      "12 26 31\n",
      "12 26 32\n",
      "12 26 33\n",
      "12 26 34\n",
      "12 26 35\n",
      "12 26 36\n",
      "12 26 37\n",
      "12 27 28\n",
      "12 27 29\n",
      "12 27 30\n",
      "12 27 31\n",
      "12 27 32\n",
      "12 27 33\n",
      "12 27 34\n",
      "12 27 35\n",
      "12 27 36\n",
      "12 27 37\n",
      "12 28 29\n",
      "12 28 30\n",
      "12 28 31\n",
      "12 28 32\n",
      "12 28 33\n",
      "12 28 34\n",
      "12 28 35\n",
      "12 28 36\n",
      "12 28 37\n",
      "12 29 30\n",
      "12 29 31\n",
      "12 29 32\n",
      "12 29 33\n",
      "12 29 34\n",
      "12 29 35\n",
      "12 29 36\n",
      "12 29 37\n",
      "12 30 31\n",
      "12 30 32\n",
      "12 30 33\n",
      "12 30 34\n",
      "12 30 35\n",
      "12 30 36\n",
      "12 30 37\n",
      "12 31 32\n",
      "12 31 33\n",
      "12 31 34\n",
      "12 31 35\n",
      "12 31 36\n",
      "12 31 37\n",
      "12 32 33\n",
      "12 32 34\n",
      "12 32 35\n",
      "12 32 36\n",
      "12 32 37\n",
      "12 33 34\n",
      "12 33 35\n",
      "12 33 36\n",
      "12 33 37\n",
      "12 34 35\n",
      "12 34 36\n",
      "12 34 37\n",
      "12 35 36\n",
      "12 35 37\n",
      "12 36 37\n",
      "13 14 15\n",
      "13 14 16\n",
      "13 14 17\n",
      "13 14 18\n",
      "13 14 19\n",
      "13 14 20\n",
      "13 14 21\n",
      "13 14 22\n",
      "13 14 23\n",
      "13 14 24\n",
      "13 14 25\n",
      "13 14 26\n",
      "13 14 27\n",
      "13 14 28\n",
      "13 14 29\n",
      "13 14 30\n",
      "13 14 31\n",
      "13 14 32\n",
      "13 14 33\n",
      "13 14 34\n",
      "13 14 35\n",
      "13 14 36\n",
      "13 14 37\n",
      "13 15 16\n",
      "13 15 17\n",
      "13 15 18\n",
      "13 15 19\n",
      "13 15 20\n",
      "13 15 21\n",
      "13 15 22\n",
      "13 15 23\n",
      "13 15 24\n",
      "13 15 25\n",
      "13 15 26\n",
      "13 15 27\n",
      "13 15 28\n",
      "13 15 29\n",
      "13 15 30\n",
      "13 15 31\n",
      "13 15 32\n",
      "13 15 33\n",
      "13 15 34\n",
      "13 15 35\n",
      "13 15 36\n",
      "13 15 37\n",
      "13 16 17\n",
      "13 16 18\n",
      "13 16 19\n",
      "13 16 20\n",
      "13 16 21\n",
      "13 16 22\n",
      "13 16 23\n",
      "13 16 24\n",
      "13 16 25\n",
      "13 16 26\n",
      "13 16 27\n",
      "13 16 28\n",
      "13 16 29\n",
      "13 16 30\n",
      "13 16 31\n",
      "13 16 32\n",
      "13 16 33\n",
      "13 16 34\n",
      "13 16 35\n",
      "13 16 36\n",
      "13 16 37\n",
      "13 17 18\n",
      "13 17 19\n",
      "13 17 20\n",
      "13 17 21\n",
      "13 17 22\n",
      "13 17 23\n",
      "13 17 24\n",
      "13 17 25\n",
      "13 17 26\n",
      "13 17 27\n",
      "13 17 28\n",
      "13 17 29\n",
      "13 17 30\n",
      "13 17 31\n",
      "13 17 32\n",
      "13 17 33\n",
      "13 17 34\n",
      "13 17 35\n",
      "13 17 36\n",
      "13 17 37\n",
      "13 18 19\n",
      "13 18 20\n",
      "13 18 21\n",
      "13 18 22\n",
      "13 18 23\n",
      "13 18 24\n",
      "13 18 25\n",
      "13 18 26\n",
      "13 18 27\n",
      "13 18 28\n",
      "13 18 29\n",
      "13 18 30\n",
      "13 18 31\n",
      "13 18 32\n",
      "13 18 33\n",
      "13 18 34\n",
      "13 18 35\n",
      "13 18 36\n",
      "13 18 37\n",
      "13 19 20\n",
      "13 19 21\n",
      "13 19 22\n",
      "13 19 23\n",
      "13 19 24\n",
      "13 19 25\n",
      "13 19 26\n",
      "13 19 27\n",
      "13 19 28\n",
      "13 19 29\n",
      "13 19 30\n",
      "13 19 31\n",
      "13 19 32\n",
      "13 19 33\n",
      "13 19 34\n",
      "13 19 35\n",
      "13 19 36\n",
      "13 19 37\n",
      "13 20 21\n",
      "13 20 22\n",
      "13 20 23\n",
      "13 20 24\n",
      "13 20 25\n",
      "13 20 26\n",
      "13 20 27\n",
      "13 20 28\n",
      "13 20 29\n",
      "13 20 30\n",
      "13 20 31\n",
      "13 20 32\n",
      "13 20 33\n",
      "13 20 34\n",
      "13 20 35\n",
      "13 20 36\n",
      "13 20 37\n",
      "13 21 22\n",
      "13 21 23\n",
      "13 21 24\n",
      "13 21 25\n",
      "13 21 26\n",
      "13 21 27\n",
      "13 21 28\n",
      "13 21 29\n",
      "13 21 30\n",
      "13 21 31\n",
      "13 21 32\n",
      "13 21 33\n",
      "13 21 34\n",
      "13 21 35\n",
      "13 21 36\n",
      "13 21 37\n",
      "13 22 23\n",
      "13 22 24\n",
      "13 22 25\n",
      "13 22 26\n",
      "13 22 27\n",
      "13 22 28\n",
      "13 22 29\n",
      "13 22 30\n",
      "13 22 31\n",
      "13 22 32\n",
      "13 22 33\n",
      "13 22 34\n",
      "13 22 35\n",
      "13 22 36\n",
      "13 22 37\n",
      "13 23 24\n",
      "13 23 25\n",
      "13 23 26\n",
      "13 23 27\n",
      "13 23 28\n",
      "13 23 29\n",
      "13 23 30\n",
      "13 23 31\n",
      "13 23 32\n",
      "13 23 33\n",
      "13 23 34\n",
      "13 23 35\n",
      "13 23 36\n",
      "13 23 37\n",
      "13 24 25\n",
      "13 24 26\n",
      "13 24 27\n",
      "13 24 28\n",
      "13 24 29\n",
      "13 24 30\n",
      "13 24 31\n",
      "13 24 32\n",
      "13 24 33\n",
      "13 24 34\n",
      "13 24 35\n",
      "13 24 36\n",
      "13 24 37\n",
      "13 25 26\n",
      "13 25 27\n",
      "13 25 28\n",
      "13 25 29\n",
      "13 25 30\n",
      "13 25 31\n",
      "13 25 32\n",
      "13 25 33\n",
      "13 25 34\n",
      "13 25 35\n",
      "13 25 36\n",
      "13 25 37\n",
      "13 26 27\n",
      "13 26 28\n",
      "13 26 29\n",
      "13 26 30\n",
      "13 26 31\n",
      "13 26 32\n",
      "13 26 33\n",
      "13 26 34\n",
      "13 26 35\n",
      "13 26 36\n",
      "13 26 37\n",
      "13 27 28\n",
      "13 27 29\n",
      "13 27 30\n",
      "13 27 31\n",
      "13 27 32\n",
      "13 27 33\n",
      "13 27 34\n",
      "13 27 35\n",
      "13 27 36\n",
      "13 27 37\n",
      "13 28 29\n",
      "13 28 30\n",
      "13 28 31\n",
      "13 28 32\n",
      "13 28 33\n",
      "13 28 34\n",
      "13 28 35\n",
      "13 28 36\n",
      "13 28 37\n",
      "13 29 30\n",
      "13 29 31\n",
      "13 29 32\n",
      "13 29 33\n",
      "13 29 34\n",
      "13 29 35\n",
      "13 29 36\n",
      "13 29 37\n",
      "13 30 31\n",
      "13 30 32\n",
      "13 30 33\n",
      "13 30 34\n",
      "13 30 35\n",
      "13 30 36\n",
      "13 30 37\n",
      "13 31 32\n",
      "13 31 33\n",
      "13 31 34\n",
      "13 31 35\n",
      "13 31 36\n",
      "13 31 37\n",
      "13 32 33\n",
      "13 32 34\n",
      "13 32 35\n",
      "13 32 36\n",
      "13 32 37\n",
      "13 33 34\n",
      "13 33 35\n",
      "13 33 36\n",
      "13 33 37\n",
      "13 34 35\n",
      "13 34 36\n",
      "13 34 37\n",
      "13 35 36\n",
      "13 35 37\n",
      "13 36 37\n",
      "14 15 16\n",
      "14 15 17\n",
      "14 15 18\n",
      "14 15 19\n",
      "14 15 20\n",
      "14 15 21\n",
      "14 15 22\n",
      "14 15 23\n",
      "14 15 24\n",
      "14 15 25\n",
      "14 15 26\n",
      "14 15 27\n",
      "14 15 28\n",
      "14 15 29\n",
      "14 15 30\n",
      "14 15 31\n",
      "14 15 32\n",
      "14 15 33\n",
      "14 15 34\n",
      "14 15 35\n",
      "14 15 36\n",
      "14 15 37\n",
      "14 16 17\n",
      "14 16 18\n",
      "14 16 19\n",
      "14 16 20\n",
      "14 16 21\n",
      "14 16 22\n",
      "14 16 23\n",
      "14 16 24\n",
      "14 16 25\n",
      "14 16 26\n",
      "14 16 27\n",
      "14 16 28\n",
      "14 16 29\n",
      "14 16 30\n",
      "14 16 31\n",
      "14 16 32\n",
      "14 16 33\n",
      "14 16 34\n",
      "14 16 35\n",
      "14 16 36\n",
      "14 16 37\n",
      "14 17 18\n",
      "14 17 19\n",
      "14 17 20\n",
      "14 17 21\n",
      "14 17 22\n",
      "14 17 23\n",
      "14 17 24\n",
      "14 17 25\n",
      "14 17 26\n",
      "14 17 27\n",
      "14 17 28\n",
      "14 17 29\n",
      "14 17 30\n",
      "14 17 31\n",
      "14 17 32\n",
      "14 17 33\n",
      "14 17 34\n",
      "14 17 35\n",
      "14 17 36\n",
      "14 17 37\n",
      "14 18 19\n",
      "14 18 20\n",
      "14 18 21\n",
      "14 18 22\n",
      "14 18 23\n",
      "14 18 24\n",
      "14 18 25\n",
      "14 18 26\n",
      "14 18 27\n",
      "14 18 28\n",
      "14 18 29\n",
      "14 18 30\n",
      "14 18 31\n",
      "14 18 32\n",
      "14 18 33\n",
      "14 18 34\n",
      "14 18 35\n",
      "14 18 36\n",
      "14 18 37\n",
      "14 19 20\n",
      "14 19 21\n",
      "14 19 22\n",
      "14 19 23\n",
      "14 19 24\n",
      "14 19 25\n",
      "14 19 26\n",
      "14 19 27\n",
      "14 19 28\n",
      "14 19 29\n",
      "14 19 30\n",
      "14 19 31\n",
      "14 19 32\n",
      "14 19 33\n",
      "14 19 34\n",
      "14 19 35\n",
      "14 19 36\n",
      "14 19 37\n",
      "14 20 21\n",
      "14 20 22\n",
      "14 20 23\n",
      "14 20 24\n",
      "14 20 25\n",
      "14 20 26\n",
      "14 20 27\n",
      "14 20 28\n",
      "14 20 29\n",
      "14 20 30\n",
      "14 20 31\n",
      "14 20 32\n",
      "14 20 33\n",
      "14 20 34\n",
      "14 20 35\n",
      "14 20 36\n",
      "14 20 37\n",
      "14 21 22\n",
      "14 21 23\n",
      "14 21 24\n",
      "14 21 25\n",
      "14 21 26\n",
      "14 21 27\n",
      "14 21 28\n",
      "14 21 29\n",
      "14 21 30\n",
      "14 21 31\n",
      "14 21 32\n",
      "14 21 33\n",
      "14 21 34\n",
      "14 21 35\n",
      "14 21 36\n",
      "14 21 37\n",
      "14 22 23\n",
      "14 22 24\n",
      "14 22 25\n",
      "14 22 26\n",
      "14 22 27\n",
      "14 22 28\n",
      "14 22 29\n",
      "14 22 30\n",
      "14 22 31\n",
      "14 22 32\n",
      "14 22 33\n",
      "14 22 34\n",
      "14 22 35\n",
      "14 22 36\n",
      "14 22 37\n",
      "14 23 24\n",
      "14 23 25\n",
      "14 23 26\n",
      "14 23 27\n",
      "14 23 28\n",
      "14 23 29\n",
      "14 23 30\n",
      "14 23 31\n",
      "14 23 32\n",
      "14 23 33\n",
      "14 23 34\n",
      "14 23 35\n",
      "14 23 36\n",
      "14 23 37\n",
      "14 24 25\n",
      "14 24 26\n",
      "14 24 27\n",
      "14 24 28\n",
      "14 24 29\n",
      "14 24 30\n",
      "14 24 31\n",
      "14 24 32\n",
      "14 24 33\n",
      "14 24 34\n",
      "14 24 35\n",
      "14 24 36\n",
      "14 24 37\n",
      "14 25 26\n",
      "14 25 27\n",
      "14 25 28\n",
      "14 25 29\n",
      "14 25 30\n",
      "14 25 31\n",
      "14 25 32\n",
      "14 25 33\n",
      "14 25 34\n",
      "14 25 35\n",
      "14 25 36\n",
      "14 25 37\n",
      "14 26 27\n",
      "14 26 28\n",
      "14 26 29\n",
      "14 26 30\n",
      "14 26 31\n",
      "14 26 32\n",
      "14 26 33\n",
      "14 26 34\n",
      "14 26 35\n",
      "14 26 36\n",
      "14 26 37\n",
      "14 27 28\n",
      "14 27 29\n",
      "14 27 30\n",
      "14 27 31\n",
      "14 27 32\n",
      "14 27 33\n",
      "14 27 34\n",
      "14 27 35\n",
      "14 27 36\n",
      "14 27 37\n",
      "14 28 29\n",
      "14 28 30\n",
      "14 28 31\n",
      "14 28 32\n",
      "14 28 33\n",
      "14 28 34\n",
      "14 28 35\n",
      "14 28 36\n",
      "14 28 37\n",
      "14 29 30\n",
      "14 29 31\n",
      "14 29 32\n",
      "14 29 33\n",
      "14 29 34\n",
      "14 29 35\n",
      "14 29 36\n",
      "14 29 37\n",
      "14 30 31\n",
      "14 30 32\n",
      "14 30 33\n",
      "14 30 34\n",
      "14 30 35\n",
      "14 30 36\n",
      "14 30 37\n",
      "14 31 32\n",
      "14 31 33\n",
      "14 31 34\n",
      "14 31 35\n",
      "14 31 36\n",
      "14 31 37\n",
      "14 32 33\n",
      "14 32 34\n",
      "14 32 35\n",
      "14 32 36\n",
      "14 32 37\n",
      "14 33 34\n",
      "14 33 35\n",
      "14 33 36\n",
      "14 33 37\n",
      "14 34 35\n",
      "14 34 36\n",
      "14 34 37\n",
      "14 35 36\n",
      "14 35 37\n",
      "14 36 37\n",
      "15 16 17\n",
      "15 16 18\n",
      "15 16 19\n",
      "15 16 20\n",
      "15 16 21\n",
      "15 16 22\n",
      "15 16 23\n",
      "15 16 24\n",
      "15 16 25\n",
      "15 16 26\n",
      "15 16 27\n",
      "15 16 28\n",
      "15 16 29\n",
      "15 16 30\n",
      "15 16 31\n",
      "15 16 32\n",
      "15 16 33\n",
      "15 16 34\n",
      "15 16 35\n",
      "15 16 36\n",
      "15 16 37\n",
      "15 17 18\n",
      "15 17 19\n",
      "15 17 20\n",
      "15 17 21\n",
      "15 17 22\n",
      "15 17 23\n",
      "15 17 24\n",
      "15 17 25\n",
      "15 17 26\n",
      "15 17 27\n",
      "15 17 28\n",
      "15 17 29\n",
      "15 17 30\n",
      "15 17 31\n",
      "15 17 32\n",
      "15 17 33\n",
      "15 17 34\n",
      "15 17 35\n",
      "15 17 36\n",
      "15 17 37\n",
      "15 18 19\n",
      "15 18 20\n",
      "15 18 21\n",
      "15 18 22\n",
      "15 18 23\n",
      "15 18 24\n",
      "15 18 25\n",
      "15 18 26\n",
      "15 18 27\n",
      "15 18 28\n",
      "15 18 29\n",
      "15 18 30\n",
      "15 18 31\n",
      "15 18 32\n",
      "15 18 33\n",
      "15 18 34\n",
      "15 18 35\n",
      "15 18 36\n",
      "15 18 37\n",
      "15 19 20\n",
      "15 19 21\n",
      "15 19 22\n",
      "15 19 23\n",
      "15 19 24\n",
      "15 19 25\n",
      "15 19 26\n",
      "15 19 27\n",
      "15 19 28\n",
      "15 19 29\n",
      "15 19 30\n",
      "15 19 31\n",
      "15 19 32\n",
      "15 19 33\n",
      "15 19 34\n",
      "15 19 35\n",
      "15 19 36\n",
      "15 19 37\n",
      "15 20 21\n",
      "15 20 22\n",
      "15 20 23\n",
      "15 20 24\n",
      "15 20 25\n",
      "15 20 26\n",
      "15 20 27\n",
      "15 20 28\n",
      "15 20 29\n",
      "15 20 30\n",
      "15 20 31\n",
      "15 20 32\n",
      "15 20 33\n",
      "15 20 34\n",
      "15 20 35\n",
      "15 20 36\n",
      "15 20 37\n",
      "15 21 22\n",
      "15 21 23\n",
      "15 21 24\n",
      "15 21 25\n",
      "15 21 26\n",
      "15 21 27\n",
      "15 21 28\n",
      "15 21 29\n",
      "15 21 30\n",
      "15 21 31\n",
      "15 21 32\n",
      "15 21 33\n",
      "15 21 34\n",
      "15 21 35\n",
      "15 21 36\n",
      "15 21 37\n",
      "15 22 23\n",
      "15 22 24\n",
      "15 22 25\n",
      "15 22 26\n",
      "15 22 27\n",
      "15 22 28\n",
      "15 22 29\n",
      "15 22 30\n",
      "15 22 31\n",
      "15 22 32\n",
      "15 22 33\n",
      "15 22 34\n",
      "15 22 35\n",
      "15 22 36\n",
      "15 22 37\n",
      "15 23 24\n",
      "15 23 25\n",
      "15 23 26\n",
      "15 23 27\n",
      "15 23 28\n",
      "15 23 29\n",
      "15 23 30\n",
      "15 23 31\n",
      "15 23 32\n",
      "15 23 33\n",
      "15 23 34\n",
      "15 23 35\n",
      "15 23 36\n",
      "15 23 37\n",
      "15 24 25\n",
      "15 24 26\n",
      "15 24 27\n",
      "15 24 28\n",
      "15 24 29\n",
      "15 24 30\n",
      "15 24 31\n",
      "15 24 32\n",
      "15 24 33\n",
      "15 24 34\n",
      "15 24 35\n",
      "15 24 36\n",
      "15 24 37\n",
      "15 25 26\n",
      "15 25 27\n",
      "15 25 28\n",
      "15 25 29\n",
      "15 25 30\n",
      "15 25 31\n",
      "15 25 32\n",
      "15 25 33\n",
      "15 25 34\n",
      "15 25 35\n",
      "15 25 36\n",
      "15 25 37\n",
      "15 26 27\n",
      "15 26 28\n",
      "15 26 29\n",
      "15 26 30\n",
      "15 26 31\n",
      "15 26 32\n",
      "15 26 33\n",
      "15 26 34\n",
      "15 26 35\n",
      "15 26 36\n",
      "15 26 37\n",
      "15 27 28\n",
      "15 27 29\n",
      "15 27 30\n",
      "15 27 31\n",
      "15 27 32\n",
      "15 27 33\n",
      "15 27 34\n",
      "15 27 35\n",
      "15 27 36\n",
      "15 27 37\n",
      "15 28 29\n",
      "15 28 30\n",
      "15 28 31\n",
      "15 28 32\n",
      "15 28 33\n",
      "15 28 34\n",
      "15 28 35\n",
      "15 28 36\n",
      "15 28 37\n",
      "15 29 30\n",
      "15 29 31\n",
      "15 29 32\n",
      "15 29 33\n",
      "15 29 34\n",
      "15 29 35\n",
      "15 29 36\n",
      "15 29 37\n",
      "15 30 31\n",
      "15 30 32\n",
      "15 30 33\n",
      "15 30 34\n",
      "15 30 35\n",
      "15 30 36\n",
      "15 30 37\n",
      "15 31 32\n",
      "15 31 33\n",
      "15 31 34\n",
      "15 31 35\n",
      "15 31 36\n",
      "15 31 37\n",
      "15 32 33\n",
      "15 32 34\n",
      "15 32 35\n",
      "15 32 36\n",
      "15 32 37\n",
      "15 33 34\n",
      "15 33 35\n",
      "15 33 36\n",
      "15 33 37\n",
      "15 34 35\n",
      "15 34 36\n",
      "15 34 37\n",
      "15 35 36\n",
      "15 35 37\n",
      "15 36 37\n",
      "16 17 18\n",
      "16 17 19\n",
      "16 17 20\n",
      "16 17 21\n",
      "16 17 22\n",
      "16 17 23\n",
      "16 17 24\n",
      "16 17 25\n",
      "16 17 26\n",
      "16 17 27\n",
      "16 17 28\n",
      "16 17 29\n",
      "16 17 30\n",
      "16 17 31\n",
      "16 17 32\n",
      "16 17 33\n",
      "16 17 34\n",
      "16 17 35\n",
      "16 17 36\n",
      "16 17 37\n",
      "16 18 19\n",
      "16 18 20\n",
      "16 18 21\n",
      "16 18 22\n",
      "16 18 23\n",
      "16 18 24\n",
      "16 18 25\n",
      "16 18 26\n",
      "16 18 27\n",
      "16 18 28\n",
      "16 18 29\n",
      "16 18 30\n",
      "16 18 31\n",
      "16 18 32\n",
      "16 18 33\n",
      "16 18 34\n",
      "16 18 35\n",
      "16 18 36\n",
      "16 18 37\n",
      "16 19 20\n",
      "16 19 21\n",
      "16 19 22\n",
      "16 19 23\n",
      "16 19 24\n",
      "16 19 25\n",
      "16 19 26\n",
      "16 19 27\n",
      "16 19 28\n",
      "16 19 29\n",
      "16 19 30\n",
      "16 19 31\n",
      "16 19 32\n",
      "16 19 33\n",
      "16 19 34\n",
      "16 19 35\n",
      "16 19 36\n",
      "16 19 37\n",
      "16 20 21\n",
      "16 20 22\n",
      "16 20 23\n",
      "16 20 24\n",
      "16 20 25\n",
      "16 20 26\n",
      "16 20 27\n",
      "16 20 28\n",
      "16 20 29\n",
      "16 20 30\n",
      "16 20 31\n",
      "16 20 32\n",
      "16 20 33\n",
      "16 20 34\n",
      "16 20 35\n",
      "16 20 36\n",
      "16 20 37\n",
      "16 21 22\n",
      "16 21 23\n",
      "16 21 24\n",
      "16 21 25\n",
      "16 21 26\n",
      "16 21 27\n",
      "16 21 28\n",
      "16 21 29\n",
      "16 21 30\n",
      "16 21 31\n",
      "16 21 32\n",
      "16 21 33\n",
      "16 21 34\n",
      "16 21 35\n",
      "16 21 36\n",
      "16 21 37\n",
      "16 22 23\n",
      "16 22 24\n",
      "16 22 25\n",
      "16 22 26\n",
      "16 22 27\n",
      "16 22 28\n",
      "16 22 29\n",
      "16 22 30\n",
      "16 22 31\n",
      "16 22 32\n",
      "16 22 33\n",
      "16 22 34\n",
      "16 22 35\n",
      "16 22 36\n",
      "16 22 37\n",
      "16 23 24\n",
      "16 23 25\n",
      "16 23 26\n",
      "16 23 27\n",
      "16 23 28\n",
      "16 23 29\n",
      "16 23 30\n",
      "16 23 31\n",
      "16 23 32\n",
      "16 23 33\n",
      "16 23 34\n",
      "16 23 35\n",
      "16 23 36\n",
      "16 23 37\n",
      "16 24 25\n",
      "16 24 26\n",
      "16 24 27\n",
      "16 24 28\n",
      "16 24 29\n",
      "16 24 30\n",
      "16 24 31\n",
      "16 24 32\n",
      "16 24 33\n",
      "16 24 34\n",
      "16 24 35\n",
      "16 24 36\n",
      "16 24 37\n",
      "16 25 26\n",
      "16 25 27\n",
      "16 25 28\n",
      "16 25 29\n",
      "16 25 30\n",
      "16 25 31\n",
      "16 25 32\n",
      "16 25 33\n",
      "16 25 34\n",
      "16 25 35\n",
      "16 25 36\n",
      "16 25 37\n",
      "16 26 27\n",
      "16 26 28\n",
      "16 26 29\n",
      "16 26 30\n",
      "16 26 31\n",
      "16 26 32\n",
      "16 26 33\n",
      "16 26 34\n",
      "16 26 35\n",
      "16 26 36\n",
      "16 26 37\n",
      "16 27 28\n",
      "16 27 29\n",
      "16 27 30\n",
      "16 27 31\n",
      "16 27 32\n",
      "16 27 33\n",
      "16 27 34\n",
      "16 27 35\n",
      "16 27 36\n",
      "16 27 37\n",
      "16 28 29\n",
      "16 28 30\n",
      "16 28 31\n",
      "16 28 32\n",
      "16 28 33\n",
      "16 28 34\n",
      "16 28 35\n",
      "16 28 36\n",
      "16 28 37\n",
      "16 29 30\n",
      "16 29 31\n",
      "16 29 32\n",
      "16 29 33\n",
      "16 29 34\n",
      "16 29 35\n",
      "16 29 36\n",
      "16 29 37\n",
      "16 30 31\n",
      "16 30 32\n",
      "16 30 33\n",
      "16 30 34\n",
      "16 30 35\n",
      "16 30 36\n",
      "16 30 37\n",
      "16 31 32\n",
      "16 31 33\n",
      "16 31 34\n",
      "16 31 35\n",
      "16 31 36\n",
      "16 31 37\n",
      "16 32 33\n",
      "16 32 34\n",
      "16 32 35\n",
      "16 32 36\n",
      "16 32 37\n",
      "16 33 34\n",
      "16 33 35\n",
      "16 33 36\n",
      "16 33 37\n",
      "16 34 35\n",
      "16 34 36\n",
      "16 34 37\n",
      "16 35 36\n",
      "16 35 37\n",
      "16 36 37\n",
      "17 18 19\n",
      "17 18 20\n",
      "17 18 21\n",
      "17 18 22\n",
      "17 18 23\n",
      "17 18 24\n",
      "17 18 25\n",
      "17 18 26\n",
      "17 18 27\n",
      "17 18 28\n",
      "17 18 29\n",
      "17 18 30\n",
      "17 18 31\n",
      "17 18 32\n",
      "17 18 33\n",
      "17 18 34\n",
      "17 18 35\n",
      "17 18 36\n",
      "17 18 37\n",
      "17 19 20\n",
      "17 19 21\n",
      "17 19 22\n",
      "17 19 23\n",
      "17 19 24\n",
      "17 19 25\n",
      "17 19 26\n",
      "17 19 27\n",
      "17 19 28\n",
      "17 19 29\n",
      "17 19 30\n",
      "17 19 31\n",
      "17 19 32\n",
      "17 19 33\n",
      "17 19 34\n",
      "17 19 35\n",
      "17 19 36\n",
      "17 19 37\n",
      "17 20 21\n",
      "17 20 22\n",
      "17 20 23\n",
      "17 20 24\n",
      "17 20 25\n",
      "17 20 26\n",
      "17 20 27\n",
      "17 20 28\n",
      "17 20 29\n",
      "17 20 30\n",
      "17 20 31\n",
      "17 20 32\n",
      "17 20 33\n",
      "17 20 34\n",
      "17 20 35\n",
      "17 20 36\n",
      "17 20 37\n",
      "17 21 22\n",
      "17 21 23\n",
      "17 21 24\n",
      "17 21 25\n",
      "17 21 26\n",
      "17 21 27\n",
      "17 21 28\n",
      "17 21 29\n",
      "17 21 30\n",
      "17 21 31\n",
      "17 21 32\n",
      "17 21 33\n",
      "17 21 34\n",
      "17 21 35\n",
      "17 21 36\n",
      "17 21 37\n",
      "17 22 23\n",
      "17 22 24\n",
      "17 22 25\n",
      "17 22 26\n",
      "17 22 27\n",
      "17 22 28\n",
      "17 22 29\n",
      "17 22 30\n",
      "17 22 31\n",
      "17 22 32\n",
      "17 22 33\n",
      "17 22 34\n",
      "17 22 35\n",
      "17 22 36\n",
      "17 22 37\n",
      "17 23 24\n",
      "17 23 25\n",
      "17 23 26\n",
      "17 23 27\n",
      "17 23 28\n",
      "17 23 29\n",
      "17 23 30\n",
      "17 23 31\n",
      "17 23 32\n",
      "17 23 33\n",
      "17 23 34\n",
      "17 23 35\n",
      "17 23 36\n",
      "17 23 37\n",
      "17 24 25\n",
      "17 24 26\n",
      "17 24 27\n",
      "17 24 28\n",
      "17 24 29\n",
      "17 24 30\n",
      "17 24 31\n",
      "17 24 32\n",
      "17 24 33\n",
      "17 24 34\n",
      "17 24 35\n",
      "17 24 36\n",
      "17 24 37\n",
      "17 25 26\n",
      "17 25 27\n",
      "17 25 28\n",
      "17 25 29\n",
      "17 25 30\n",
      "17 25 31\n",
      "17 25 32\n",
      "17 25 33\n",
      "17 25 34\n",
      "17 25 35\n",
      "17 25 36\n",
      "17 25 37\n",
      "17 26 27\n",
      "17 26 28\n",
      "17 26 29\n",
      "17 26 30\n",
      "17 26 31\n",
      "17 26 32\n",
      "17 26 33\n",
      "17 26 34\n",
      "17 26 35\n",
      "17 26 36\n",
      "17 26 37\n",
      "17 27 28\n",
      "17 27 29\n",
      "17 27 30\n",
      "17 27 31\n",
      "17 27 32\n",
      "17 27 33\n",
      "17 27 34\n",
      "17 27 35\n",
      "17 27 36\n",
      "17 27 37\n",
      "17 28 29\n",
      "17 28 30\n",
      "17 28 31\n",
      "17 28 32\n",
      "17 28 33\n",
      "17 28 34\n",
      "17 28 35\n",
      "17 28 36\n",
      "17 28 37\n",
      "17 29 30\n",
      "17 29 31\n",
      "17 29 32\n",
      "17 29 33\n",
      "17 29 34\n",
      "17 29 35\n",
      "17 29 36\n",
      "17 29 37\n",
      "17 30 31\n",
      "17 30 32\n",
      "17 30 33\n",
      "17 30 34\n",
      "17 30 35\n",
      "17 30 36\n",
      "17 30 37\n",
      "17 31 32\n",
      "17 31 33\n",
      "17 31 34\n",
      "17 31 35\n",
      "17 31 36\n",
      "17 31 37\n",
      "17 32 33\n",
      "17 32 34\n",
      "17 32 35\n",
      "17 32 36\n",
      "17 32 37\n",
      "17 33 34\n",
      "17 33 35\n",
      "17 33 36\n",
      "17 33 37\n",
      "17 34 35\n",
      "17 34 36\n",
      "17 34 37\n",
      "17 35 36\n",
      "17 35 37\n",
      "17 36 37\n",
      "18 19 20\n",
      "18 19 21\n",
      "18 19 22\n",
      "18 19 23\n",
      "18 19 24\n",
      "18 19 25\n",
      "18 19 26\n",
      "18 19 27\n",
      "18 19 28\n",
      "18 19 29\n",
      "18 19 30\n",
      "18 19 31\n",
      "18 19 32\n",
      "18 19 33\n",
      "18 19 34\n",
      "18 19 35\n",
      "18 19 36\n",
      "18 19 37\n",
      "18 20 21\n",
      "18 20 22\n",
      "18 20 23\n",
      "18 20 24\n",
      "18 20 25\n",
      "18 20 26\n",
      "18 20 27\n",
      "18 20 28\n",
      "18 20 29\n",
      "18 20 30\n",
      "18 20 31\n",
      "18 20 32\n",
      "18 20 33\n",
      "18 20 34\n",
      "18 20 35\n",
      "18 20 36\n",
      "18 20 37\n",
      "18 21 22\n",
      "18 21 23\n",
      "18 21 24\n",
      "18 21 25\n",
      "18 21 26\n",
      "18 21 27\n",
      "18 21 28\n",
      "18 21 29\n",
      "18 21 30\n",
      "18 21 31\n",
      "18 21 32\n",
      "18 21 33\n",
      "18 21 34\n",
      "18 21 35\n",
      "18 21 36\n",
      "18 21 37\n",
      "18 22 23\n",
      "18 22 24\n",
      "18 22 25\n",
      "18 22 26\n",
      "18 22 27\n",
      "18 22 28\n",
      "18 22 29\n",
      "18 22 30\n",
      "18 22 31\n",
      "18 22 32\n",
      "18 22 33\n",
      "18 22 34\n",
      "18 22 35\n",
      "18 22 36\n",
      "18 22 37\n",
      "18 23 24\n",
      "18 23 25\n",
      "18 23 26\n",
      "18 23 27\n",
      "18 23 28\n",
      "18 23 29\n",
      "18 23 30\n",
      "18 23 31\n",
      "18 23 32\n",
      "18 23 33\n",
      "18 23 34\n",
      "18 23 35\n",
      "18 23 36\n",
      "18 23 37\n",
      "18 24 25\n",
      "18 24 26\n",
      "18 24 27\n",
      "18 24 28\n",
      "18 24 29\n",
      "18 24 30\n",
      "18 24 31\n",
      "18 24 32\n",
      "18 24 33\n",
      "18 24 34\n",
      "18 24 35\n",
      "18 24 36\n",
      "18 24 37\n",
      "18 25 26\n",
      "18 25 27\n",
      "18 25 28\n",
      "18 25 29\n",
      "18 25 30\n",
      "18 25 31\n",
      "18 25 32\n",
      "18 25 33\n",
      "18 25 34\n",
      "18 25 35\n",
      "18 25 36\n",
      "18 25 37\n",
      "18 26 27\n",
      "18 26 28\n",
      "18 26 29\n",
      "18 26 30\n",
      "18 26 31\n",
      "18 26 32\n",
      "18 26 33\n",
      "18 26 34\n",
      "18 26 35\n",
      "18 26 36\n",
      "18 26 37\n",
      "18 27 28\n",
      "18 27 29\n",
      "18 27 30\n",
      "18 27 31\n",
      "18 27 32\n",
      "18 27 33\n",
      "18 27 34\n",
      "18 27 35\n",
      "18 27 36\n",
      "18 27 37\n",
      "18 28 29\n",
      "18 28 30\n",
      "18 28 31\n",
      "18 28 32\n",
      "18 28 33\n",
      "18 28 34\n",
      "18 28 35\n",
      "18 28 36\n",
      "18 28 37\n",
      "18 29 30\n",
      "18 29 31\n",
      "18 29 32\n",
      "18 29 33\n",
      "18 29 34\n",
      "18 29 35\n",
      "18 29 36\n",
      "18 29 37\n",
      "18 30 31\n",
      "18 30 32\n",
      "18 30 33\n",
      "18 30 34\n",
      "18 30 35\n",
      "18 30 36\n",
      "18 30 37\n",
      "18 31 32\n",
      "18 31 33\n",
      "18 31 34\n",
      "18 31 35\n",
      "18 31 36\n",
      "18 31 37\n",
      "18 32 33\n",
      "18 32 34\n",
      "18 32 35\n",
      "18 32 36\n",
      "18 32 37\n",
      "18 33 34\n",
      "18 33 35\n",
      "18 33 36\n",
      "18 33 37\n",
      "18 34 35\n",
      "18 34 36\n",
      "18 34 37\n",
      "18 35 36\n",
      "18 35 37\n",
      "18 36 37\n",
      "19 20 21\n",
      "19 20 22\n",
      "19 20 23\n",
      "19 20 24\n",
      "19 20 25\n",
      "19 20 26\n",
      "19 20 27\n",
      "19 20 28\n",
      "19 20 29\n",
      "19 20 30\n",
      "19 20 31\n",
      "19 20 32\n",
      "19 20 33\n",
      "19 20 34\n",
      "19 20 35\n",
      "19 20 36\n",
      "19 20 37\n",
      "19 21 22\n",
      "19 21 23\n",
      "19 21 24\n",
      "19 21 25\n",
      "19 21 26\n",
      "19 21 27\n",
      "19 21 28\n",
      "19 21 29\n",
      "19 21 30\n",
      "19 21 31\n",
      "19 21 32\n",
      "19 21 33\n",
      "19 21 34\n",
      "19 21 35\n",
      "19 21 36\n",
      "19 21 37\n",
      "19 22 23\n",
      "19 22 24\n",
      "19 22 25\n",
      "19 22 26\n",
      "19 22 27\n",
      "19 22 28\n",
      "19 22 29\n",
      "19 22 30\n",
      "19 22 31\n",
      "19 22 32\n",
      "19 22 33\n",
      "19 22 34\n",
      "19 22 35\n",
      "19 22 36\n",
      "19 22 37\n",
      "19 23 24\n",
      "19 23 25\n",
      "19 23 26\n",
      "19 23 27\n",
      "19 23 28\n",
      "19 23 29\n",
      "19 23 30\n",
      "19 23 31\n",
      "19 23 32\n",
      "19 23 33\n",
      "19 23 34\n",
      "19 23 35\n",
      "19 23 36\n",
      "19 23 37\n",
      "19 24 25\n",
      "19 24 26\n",
      "19 24 27\n",
      "19 24 28\n",
      "19 24 29\n",
      "19 24 30\n",
      "19 24 31\n",
      "19 24 32\n",
      "19 24 33\n",
      "19 24 34\n",
      "19 24 35\n",
      "19 24 36\n",
      "19 24 37\n",
      "19 25 26\n",
      "19 25 27\n",
      "19 25 28\n",
      "19 25 29\n",
      "19 25 30\n",
      "19 25 31\n",
      "19 25 32\n",
      "19 25 33\n",
      "19 25 34\n",
      "19 25 35\n",
      "19 25 36\n",
      "19 25 37\n",
      "19 26 27\n",
      "19 26 28\n",
      "19 26 29\n",
      "19 26 30\n",
      "19 26 31\n",
      "19 26 32\n",
      "19 26 33\n",
      "19 26 34\n",
      "19 26 35\n",
      "19 26 36\n",
      "19 26 37\n",
      "19 27 28\n",
      "19 27 29\n",
      "19 27 30\n",
      "19 27 31\n",
      "19 27 32\n",
      "19 27 33\n",
      "19 27 34\n",
      "19 27 35\n",
      "19 27 36\n",
      "19 27 37\n",
      "19 28 29\n",
      "19 28 30\n",
      "19 28 31\n",
      "19 28 32\n",
      "19 28 33\n",
      "19 28 34\n",
      "19 28 35\n",
      "19 28 36\n",
      "19 28 37\n",
      "19 29 30\n",
      "19 29 31\n",
      "19 29 32\n",
      "19 29 33\n",
      "19 29 34\n",
      "19 29 35\n",
      "19 29 36\n",
      "19 29 37\n",
      "19 30 31\n",
      "19 30 32\n",
      "19 30 33\n",
      "19 30 34\n",
      "19 30 35\n",
      "19 30 36\n",
      "19 30 37\n",
      "19 31 32\n",
      "19 31 33\n",
      "19 31 34\n",
      "19 31 35\n",
      "19 31 36\n",
      "19 31 37\n",
      "19 32 33\n",
      "19 32 34\n",
      "19 32 35\n",
      "19 32 36\n",
      "19 32 37\n",
      "19 33 34\n",
      "19 33 35\n",
      "19 33 36\n",
      "19 33 37\n",
      "19 34 35\n",
      "19 34 36\n",
      "19 34 37\n",
      "19 35 36\n",
      "19 35 37\n",
      "19 36 37\n",
      "20 21 22\n",
      "20 21 23\n",
      "20 21 24\n",
      "20 21 25\n",
      "20 21 26\n",
      "20 21 27\n",
      "20 21 28\n",
      "20 21 29\n",
      "20 21 30\n",
      "20 21 31\n",
      "20 21 32\n",
      "20 21 33\n",
      "20 21 34\n",
      "20 21 35\n",
      "20 21 36\n",
      "20 21 37\n",
      "20 22 23\n",
      "20 22 24\n",
      "20 22 25\n",
      "20 22 26\n",
      "20 22 27\n",
      "20 22 28\n",
      "20 22 29\n",
      "20 22 30\n",
      "20 22 31\n",
      "20 22 32\n",
      "20 22 33\n",
      "20 22 34\n",
      "20 22 35\n",
      "20 22 36\n",
      "20 22 37\n",
      "20 23 24\n",
      "20 23 25\n",
      "20 23 26\n",
      "20 23 27\n",
      "20 23 28\n",
      "20 23 29\n",
      "20 23 30\n",
      "20 23 31\n",
      "20 23 32\n",
      "20 23 33\n",
      "20 23 34\n",
      "20 23 35\n",
      "20 23 36\n",
      "20 23 37\n",
      "20 24 25\n",
      "20 24 26\n",
      "20 24 27\n",
      "20 24 28\n",
      "20 24 29\n",
      "20 24 30\n",
      "20 24 31\n",
      "20 24 32\n",
      "20 24 33\n",
      "20 24 34\n",
      "20 24 35\n",
      "20 24 36\n",
      "20 24 37\n",
      "20 25 26\n",
      "20 25 27\n",
      "20 25 28\n",
      "20 25 29\n",
      "20 25 30\n",
      "20 25 31\n",
      "20 25 32\n",
      "20 25 33\n",
      "20 25 34\n",
      "20 25 35\n",
      "20 25 36\n",
      "20 25 37\n",
      "20 26 27\n",
      "20 26 28\n",
      "20 26 29\n",
      "20 26 30\n",
      "20 26 31\n",
      "20 26 32\n",
      "20 26 33\n",
      "20 26 34\n",
      "20 26 35\n",
      "20 26 36\n",
      "20 26 37\n",
      "20 27 28\n",
      "20 27 29\n",
      "20 27 30\n",
      "20 27 31\n",
      "20 27 32\n",
      "20 27 33\n",
      "20 27 34\n",
      "20 27 35\n",
      "20 27 36\n",
      "20 27 37\n",
      "20 28 29\n",
      "20 28 30\n",
      "20 28 31\n",
      "20 28 32\n",
      "20 28 33\n",
      "20 28 34\n",
      "20 28 35\n",
      "20 28 36\n",
      "20 28 37\n",
      "20 29 30\n",
      "20 29 31\n",
      "20 29 32\n",
      "20 29 33\n",
      "20 29 34\n",
      "20 29 35\n",
      "20 29 36\n",
      "20 29 37\n",
      "20 30 31\n",
      "20 30 32\n",
      "20 30 33\n",
      "20 30 34\n",
      "20 30 35\n",
      "20 30 36\n",
      "20 30 37\n",
      "20 31 32\n",
      "20 31 33\n",
      "20 31 34\n",
      "20 31 35\n",
      "20 31 36\n",
      "20 31 37\n",
      "20 32 33\n",
      "20 32 34\n",
      "20 32 35\n",
      "20 32 36\n",
      "20 32 37\n",
      "20 33 34\n",
      "20 33 35\n",
      "20 33 36\n",
      "20 33 37\n",
      "20 34 35\n",
      "20 34 36\n",
      "20 34 37\n",
      "20 35 36\n",
      "20 35 37\n",
      "20 36 37\n",
      "21 22 23\n",
      "21 22 24\n",
      "21 22 25\n",
      "21 22 26\n",
      "21 22 27\n",
      "21 22 28\n",
      "21 22 29\n",
      "21 22 30\n",
      "21 22 31\n",
      "21 22 32\n",
      "21 22 33\n",
      "21 22 34\n",
      "21 22 35\n",
      "21 22 36\n",
      "21 22 37\n",
      "21 23 24\n",
      "21 23 25\n",
      "21 23 26\n",
      "21 23 27\n",
      "21 23 28\n",
      "21 23 29\n",
      "21 23 30\n",
      "21 23 31\n",
      "21 23 32\n",
      "21 23 33\n",
      "21 23 34\n",
      "21 23 35\n",
      "21 23 36\n",
      "21 23 37\n",
      "21 24 25\n",
      "21 24 26\n",
      "21 24 27\n",
      "21 24 28\n",
      "21 24 29\n",
      "21 24 30\n",
      "21 24 31\n",
      "21 24 32\n",
      "21 24 33\n",
      "21 24 34\n",
      "21 24 35\n",
      "21 24 36\n",
      "21 24 37\n",
      "21 25 26\n",
      "21 25 27\n",
      "21 25 28\n",
      "21 25 29\n",
      "21 25 30\n",
      "21 25 31\n",
      "21 25 32\n",
      "21 25 33\n",
      "21 25 34\n",
      "21 25 35\n",
      "21 25 36\n",
      "21 25 37\n",
      "21 26 27\n",
      "21 26 28\n",
      "21 26 29\n",
      "21 26 30\n",
      "21 26 31\n",
      "21 26 32\n",
      "21 26 33\n",
      "21 26 34\n",
      "21 26 35\n",
      "21 26 36\n",
      "21 26 37\n",
      "21 27 28\n",
      "21 27 29\n",
      "21 27 30\n",
      "21 27 31\n",
      "21 27 32\n",
      "21 27 33\n",
      "21 27 34\n",
      "21 27 35\n",
      "21 27 36\n",
      "21 27 37\n",
      "21 28 29\n",
      "21 28 30\n",
      "21 28 31\n",
      "21 28 32\n",
      "21 28 33\n",
      "21 28 34\n",
      "21 28 35\n",
      "21 28 36\n",
      "21 28 37\n",
      "21 29 30\n",
      "21 29 31\n",
      "21 29 32\n",
      "21 29 33\n",
      "21 29 34\n",
      "21 29 35\n",
      "21 29 36\n",
      "21 29 37\n",
      "21 30 31\n",
      "21 30 32\n",
      "21 30 33\n",
      "21 30 34\n",
      "21 30 35\n",
      "21 30 36\n",
      "21 30 37\n",
      "21 31 32\n",
      "21 31 33\n",
      "21 31 34\n",
      "21 31 35\n",
      "21 31 36\n",
      "21 31 37\n",
      "21 32 33\n",
      "21 32 34\n",
      "21 32 35\n",
      "21 32 36\n",
      "21 32 37\n",
      "21 33 34\n",
      "21 33 35\n",
      "21 33 36\n",
      "21 33 37\n",
      "21 34 35\n",
      "21 34 36\n",
      "21 34 37\n",
      "21 35 36\n",
      "21 35 37\n",
      "21 36 37\n",
      "22 23 24\n",
      "22 23 25\n",
      "22 23 26\n",
      "22 23 27\n",
      "22 23 28\n",
      "22 23 29\n",
      "22 23 30\n",
      "22 23 31\n",
      "22 23 32\n",
      "22 23 33\n",
      "22 23 34\n",
      "22 23 35\n",
      "22 23 36\n",
      "22 23 37\n",
      "22 24 25\n",
      "22 24 26\n",
      "22 24 27\n",
      "22 24 28\n",
      "22 24 29\n",
      "22 24 30\n",
      "22 24 31\n",
      "22 24 32\n",
      "22 24 33\n",
      "22 24 34\n",
      "22 24 35\n",
      "22 24 36\n",
      "22 24 37\n",
      "22 25 26\n",
      "22 25 27\n",
      "22 25 28\n",
      "22 25 29\n",
      "22 25 30\n",
      "22 25 31\n",
      "22 25 32\n",
      "22 25 33\n",
      "22 25 34\n",
      "22 25 35\n",
      "22 25 36\n",
      "22 25 37\n",
      "22 26 27\n",
      "22 26 28\n",
      "22 26 29\n",
      "22 26 30\n",
      "22 26 31\n",
      "22 26 32\n",
      "22 26 33\n",
      "22 26 34\n",
      "22 26 35\n",
      "22 26 36\n",
      "22 26 37\n",
      "22 27 28\n",
      "22 27 29\n",
      "22 27 30\n",
      "22 27 31\n",
      "22 27 32\n",
      "22 27 33\n",
      "22 27 34\n",
      "22 27 35\n",
      "22 27 36\n",
      "22 27 37\n",
      "22 28 29\n",
      "22 28 30\n",
      "22 28 31\n",
      "22 28 32\n",
      "22 28 33\n",
      "22 28 34\n",
      "22 28 35\n",
      "22 28 36\n",
      "22 28 37\n",
      "22 29 30\n",
      "22 29 31\n",
      "22 29 32\n",
      "22 29 33\n",
      "22 29 34\n",
      "22 29 35\n",
      "22 29 36\n",
      "22 29 37\n",
      "22 30 31\n",
      "22 30 32\n",
      "22 30 33\n",
      "22 30 34\n",
      "22 30 35\n",
      "22 30 36\n",
      "22 30 37\n",
      "22 31 32\n",
      "22 31 33\n",
      "22 31 34\n",
      "22 31 35\n",
      "22 31 36\n",
      "22 31 37\n",
      "22 32 33\n",
      "22 32 34\n",
      "22 32 35\n",
      "22 32 36\n",
      "22 32 37\n",
      "22 33 34\n",
      "22 33 35\n",
      "22 33 36\n",
      "22 33 37\n",
      "22 34 35\n",
      "22 34 36\n",
      "22 34 37\n",
      "22 35 36\n",
      "22 35 37\n",
      "22 36 37\n",
      "23 24 25\n",
      "23 24 26\n",
      "23 24 27\n",
      "23 24 28\n",
      "23 24 29\n",
      "23 24 30\n",
      "23 24 31\n",
      "23 24 32\n",
      "23 24 33\n",
      "23 24 34\n",
      "23 24 35\n",
      "23 24 36\n",
      "23 24 37\n",
      "23 25 26\n",
      "23 25 27\n",
      "23 25 28\n",
      "23 25 29\n",
      "23 25 30\n",
      "23 25 31\n",
      "23 25 32\n",
      "23 25 33\n",
      "23 25 34\n",
      "23 25 35\n",
      "23 25 36\n",
      "23 25 37\n",
      "23 26 27\n",
      "23 26 28\n",
      "23 26 29\n",
      "23 26 30\n",
      "23 26 31\n",
      "23 26 32\n",
      "23 26 33\n",
      "23 26 34\n",
      "23 26 35\n",
      "23 26 36\n",
      "23 26 37\n",
      "23 27 28\n",
      "23 27 29\n",
      "23 27 30\n",
      "23 27 31\n",
      "23 27 32\n",
      "23 27 33\n",
      "23 27 34\n",
      "23 27 35\n",
      "23 27 36\n",
      "23 27 37\n",
      "23 28 29\n",
      "23 28 30\n",
      "23 28 31\n",
      "23 28 32\n",
      "23 28 33\n",
      "23 28 34\n",
      "23 28 35\n",
      "23 28 36\n",
      "23 28 37\n",
      "23 29 30\n",
      "23 29 31\n",
      "23 29 32\n",
      "23 29 33\n",
      "23 29 34\n",
      "23 29 35\n",
      "23 29 36\n",
      "23 29 37\n",
      "23 30 31\n",
      "23 30 32\n",
      "23 30 33\n",
      "23 30 34\n",
      "23 30 35\n",
      "23 30 36\n",
      "23 30 37\n",
      "23 31 32\n",
      "23 31 33\n",
      "23 31 34\n",
      "23 31 35\n",
      "23 31 36\n",
      "23 31 37\n",
      "23 32 33\n",
      "23 32 34\n",
      "23 32 35\n",
      "23 32 36\n",
      "23 32 37\n",
      "23 33 34\n",
      "23 33 35\n",
      "23 33 36\n",
      "23 33 37\n",
      "23 34 35\n",
      "23 34 36\n",
      "23 34 37\n",
      "23 35 36\n",
      "23 35 37\n",
      "23 36 37\n",
      "24 25 26\n",
      "24 25 27\n",
      "24 25 28\n",
      "24 25 29\n",
      "24 25 30\n",
      "24 25 31\n",
      "24 25 32\n",
      "24 25 33\n",
      "24 25 34\n",
      "24 25 35\n",
      "24 25 36\n",
      "24 25 37\n",
      "24 26 27\n",
      "24 26 28\n",
      "24 26 29\n",
      "24 26 30\n",
      "24 26 31\n",
      "24 26 32\n",
      "24 26 33\n",
      "24 26 34\n",
      "24 26 35\n",
      "24 26 36\n",
      "24 26 37\n",
      "24 27 28\n",
      "24 27 29\n",
      "24 27 30\n",
      "24 27 31\n",
      "24 27 32\n",
      "24 27 33\n",
      "24 27 34\n",
      "24 27 35\n",
      "24 27 36\n",
      "24 27 37\n",
      "24 28 29\n",
      "24 28 30\n",
      "24 28 31\n",
      "24 28 32\n",
      "24 28 33\n",
      "24 28 34\n",
      "24 28 35\n",
      "24 28 36\n",
      "24 28 37\n",
      "24 29 30\n",
      "24 29 31\n",
      "24 29 32\n",
      "24 29 33\n",
      "24 29 34\n",
      "24 29 35\n",
      "24 29 36\n",
      "24 29 37\n",
      "24 30 31\n",
      "24 30 32\n",
      "24 30 33\n",
      "24 30 34\n",
      "24 30 35\n",
      "24 30 36\n",
      "24 30 37\n",
      "24 31 32\n",
      "24 31 33\n",
      "24 31 34\n",
      "24 31 35\n",
      "24 31 36\n",
      "24 31 37\n",
      "24 32 33\n",
      "24 32 34\n",
      "24 32 35\n",
      "24 32 36\n",
      "24 32 37\n",
      "24 33 34\n",
      "24 33 35\n",
      "24 33 36\n",
      "24 33 37\n",
      "24 34 35\n",
      "24 34 36\n",
      "24 34 37\n",
      "24 35 36\n",
      "24 35 37\n",
      "24 36 37\n",
      "25 26 27\n",
      "25 26 28\n",
      "25 26 29\n",
      "25 26 30\n",
      "25 26 31\n",
      "25 26 32\n",
      "25 26 33\n",
      "25 26 34\n",
      "25 26 35\n",
      "25 26 36\n",
      "25 26 37\n",
      "25 27 28\n",
      "25 27 29\n",
      "25 27 30\n",
      "25 27 31\n",
      "25 27 32\n",
      "25 27 33\n",
      "25 27 34\n",
      "25 27 35\n",
      "25 27 36\n",
      "25 27 37\n",
      "25 28 29\n",
      "25 28 30\n",
      "25 28 31\n",
      "25 28 32\n",
      "25 28 33\n",
      "25 28 34\n",
      "25 28 35\n",
      "25 28 36\n",
      "25 28 37\n",
      "25 29 30\n",
      "25 29 31\n",
      "25 29 32\n",
      "25 29 33\n",
      "25 29 34\n",
      "25 29 35\n",
      "25 29 36\n",
      "25 29 37\n",
      "25 30 31\n",
      "25 30 32\n",
      "25 30 33\n",
      "25 30 34\n",
      "25 30 35\n",
      "25 30 36\n",
      "25 30 37\n",
      "25 31 32\n",
      "25 31 33\n",
      "25 31 34\n",
      "25 31 35\n",
      "25 31 36\n",
      "25 31 37\n",
      "25 32 33\n",
      "25 32 34\n",
      "25 32 35\n",
      "25 32 36\n",
      "25 32 37\n",
      "25 33 34\n",
      "25 33 35\n",
      "25 33 36\n",
      "25 33 37\n",
      "25 34 35\n",
      "25 34 36\n",
      "25 34 37\n",
      "25 35 36\n",
      "25 35 37\n",
      "25 36 37\n",
      "26 27 28\n",
      "26 27 29\n",
      "26 27 30\n",
      "26 27 31\n",
      "26 27 32\n",
      "26 27 33\n",
      "26 27 34\n",
      "26 27 35\n",
      "26 27 36\n",
      "26 27 37\n",
      "26 28 29\n",
      "26 28 30\n",
      "26 28 31\n",
      "26 28 32\n",
      "26 28 33\n",
      "26 28 34\n",
      "26 28 35\n",
      "26 28 36\n",
      "26 28 37\n",
      "26 29 30\n",
      "26 29 31\n",
      "26 29 32\n",
      "26 29 33\n",
      "26 29 34\n",
      "26 29 35\n",
      "26 29 36\n",
      "26 29 37\n",
      "26 30 31\n",
      "26 30 32\n",
      "26 30 33\n",
      "26 30 34\n",
      "26 30 35\n",
      "26 30 36\n",
      "26 30 37\n",
      "26 31 32\n",
      "26 31 33\n",
      "26 31 34\n",
      "26 31 35\n",
      "26 31 36\n",
      "26 31 37\n",
      "26 32 33\n",
      "26 32 34\n",
      "26 32 35\n",
      "26 32 36\n",
      "26 32 37\n",
      "26 33 34\n",
      "26 33 35\n",
      "26 33 36\n",
      "26 33 37\n",
      "26 34 35\n",
      "26 34 36\n",
      "26 34 37\n",
      "26 35 36\n",
      "26 35 37\n",
      "26 36 37\n",
      "27 28 29\n",
      "27 28 30\n",
      "27 28 31\n",
      "27 28 32\n",
      "27 28 33\n",
      "27 28 34\n",
      "27 28 35\n",
      "27 28 36\n",
      "27 28 37\n",
      "27 29 30\n",
      "27 29 31\n",
      "27 29 32\n",
      "27 29 33\n",
      "27 29 34\n",
      "27 29 35\n",
      "27 29 36\n",
      "27 29 37\n",
      "27 30 31\n",
      "27 30 32\n",
      "27 30 33\n",
      "27 30 34\n",
      "27 30 35\n",
      "27 30 36\n",
      "27 30 37\n",
      "27 31 32\n",
      "27 31 33\n",
      "27 31 34\n",
      "27 31 35\n",
      "27 31 36\n",
      "27 31 37\n",
      "27 32 33\n",
      "27 32 34\n",
      "27 32 35\n",
      "27 32 36\n",
      "27 32 37\n",
      "27 33 34\n",
      "27 33 35\n",
      "27 33 36\n",
      "27 33 37\n",
      "27 34 35\n",
      "27 34 36\n",
      "27 34 37\n",
      "27 35 36\n",
      "27 35 37\n",
      "27 36 37\n",
      "28 29 30\n",
      "28 29 31\n",
      "28 29 32\n",
      "28 29 33\n",
      "28 29 34\n",
      "28 29 35\n",
      "28 29 36\n",
      "28 29 37\n",
      "28 30 31\n",
      "28 30 32\n",
      "28 30 33\n",
      "28 30 34\n",
      "28 30 35\n",
      "28 30 36\n",
      "28 30 37\n",
      "28 31 32\n",
      "28 31 33\n",
      "28 31 34\n",
      "28 31 35\n",
      "28 31 36\n",
      "28 31 37\n",
      "28 32 33\n",
      "28 32 34\n",
      "28 32 35\n",
      "28 32 36\n",
      "28 32 37\n",
      "28 33 34\n",
      "28 33 35\n",
      "28 33 36\n",
      "28 33 37\n",
      "28 34 35\n",
      "28 34 36\n",
      "28 34 37\n",
      "28 35 36\n",
      "28 35 37\n",
      "28 36 37\n",
      "29 30 31\n",
      "29 30 32\n",
      "29 30 33\n",
      "29 30 34\n",
      "29 30 35\n",
      "29 30 36\n",
      "29 30 37\n",
      "29 31 32\n",
      "29 31 33\n",
      "29 31 34\n",
      "29 31 35\n",
      "29 31 36\n",
      "29 31 37\n",
      "29 32 33\n",
      "29 32 34\n",
      "29 32 35\n",
      "29 32 36\n",
      "29 32 37\n",
      "29 33 34\n",
      "29 33 35\n",
      "29 33 36\n",
      "29 33 37\n",
      "29 34 35\n",
      "29 34 36\n",
      "29 34 37\n",
      "29 35 36\n",
      "29 35 37\n",
      "29 36 37\n",
      "30 31 32\n",
      "30 31 33\n",
      "30 31 34\n",
      "30 31 35\n",
      "30 31 36\n",
      "30 31 37\n",
      "30 32 33\n",
      "30 32 34\n",
      "30 32 35\n",
      "30 32 36\n",
      "30 32 37\n",
      "30 33 34\n",
      "30 33 35\n",
      "30 33 36\n",
      "30 33 37\n",
      "30 34 35\n",
      "30 34 36\n",
      "30 34 37\n",
      "30 35 36\n",
      "30 35 37\n",
      "30 36 37\n",
      "31 32 33\n",
      "31 32 34\n",
      "31 32 35\n",
      "31 32 36\n",
      "31 32 37\n",
      "31 33 34\n",
      "31 33 35\n",
      "31 33 36\n",
      "31 33 37\n",
      "31 34 35\n",
      "31 34 36\n",
      "31 34 37\n",
      "31 35 36\n",
      "31 35 37\n",
      "31 36 37\n",
      "32 33 34\n",
      "32 33 35\n",
      "32 33 36\n",
      "32 33 37\n",
      "32 34 35\n",
      "32 34 36\n",
      "32 34 37\n",
      "32 35 36\n",
      "32 35 37\n",
      "32 36 37\n",
      "33 34 35\n",
      "33 34 36\n",
      "33 34 37\n",
      "33 35 36\n",
      "33 35 37\n",
      "33 36 37\n",
      "34 35 36\n",
      "34 35 37\n",
      "34 36 37\n",
      "35 36 37\n"
     ]
    }
   ],
   "source": [
    "folders = os.listdir('best_results')\n",
    "\n",
    "folders.remove('ensemble_average_best.csv')\n",
    "folders.remove('ensemble_average_last.csv')\n",
    "\n",
    "# Percorrer as pastas de cada experimento\n",
    "for i1 in range(len(folders)):\n",
    "    for i2 in range(i1+1,len(folders)):\n",
    "        for i3 in range(i2+1,len(folders)):\n",
    "            print(fi1, i2, i3)"
   ]
  },
  {
   "cell_type": "code",
   "execution_count": 2,
   "metadata": {},
   "outputs": [
    {
     "data": {
      "text/html": [
       "<div>\n",
       "<style scoped>\n",
       "    .dataframe tbody tr th:only-of-type {\n",
       "        vertical-align: middle;\n",
       "    }\n",
       "\n",
       "    .dataframe tbody tr th {\n",
       "        vertical-align: top;\n",
       "    }\n",
       "\n",
       "    .dataframe thead th {\n",
       "        text-align: right;\n",
       "    }\n",
       "</style>\n",
       "<table border=\"1\" class=\"dataframe\">\n",
       "  <thead>\n",
       "    <tr style=\"text-align: right;\">\n",
       "      <th></th>\n",
       "      <th>folder_name</th>\n",
       "      <th>accuracy</th>\n",
       "      <th>precision_macro</th>\n",
       "      <th>recall_macro</th>\n",
       "      <th>fscore_macro</th>\n",
       "      <th>support_macro</th>\n",
       "      <th>precision_micro</th>\n",
       "      <th>recall_micro</th>\n",
       "      <th>fscore_micro</th>\n",
       "      <th>support_micro</th>\n",
       "      <th>precision_weighted</th>\n",
       "      <th>recall_weighted</th>\n",
       "      <th>fscore_weighted</th>\n",
       "      <th>support_weighted</th>\n",
       "      <th>topk_accuracy</th>\n",
       "      <th>balanced_accuracy</th>\n",
       "      <th>auc</th>\n",
       "    </tr>\n",
       "  </thead>\n",
       "  <tbody>\n",
       "    <tr>\n",
       "      <th>23</th>\n",
       "      <td>dull_razor_shades_of_gray_2</td>\n",
       "      <td>0.825000</td>\n",
       "      <td>0.768381</td>\n",
       "      <td>0.775779</td>\n",
       "      <td>0.764840</td>\n",
       "      <td>NaN</td>\n",
       "      <td>0.825000</td>\n",
       "      <td>0.825000</td>\n",
       "      <td>0.825000</td>\n",
       "      <td>NaN</td>\n",
       "      <td>0.828002</td>\n",
       "      <td>0.825000</td>\n",
       "      <td>0.822775</td>\n",
       "      <td>NaN</td>\n",
       "      <td>0.950000</td>\n",
       "      <td>0.775779</td>\n",
       "      <td>0.918206</td>\n",
       "    </tr>\n",
       "    <tr>\n",
       "      <th>14</th>\n",
       "      <td>DA2_noPP</td>\n",
       "      <td>0.798333</td>\n",
       "      <td>0.725435</td>\n",
       "      <td>0.770212</td>\n",
       "      <td>0.741383</td>\n",
       "      <td>NaN</td>\n",
       "      <td>0.798333</td>\n",
       "      <td>0.798333</td>\n",
       "      <td>0.798333</td>\n",
       "      <td>NaN</td>\n",
       "      <td>0.810963</td>\n",
       "      <td>0.798333</td>\n",
       "      <td>0.801174</td>\n",
       "      <td>NaN</td>\n",
       "      <td>0.946667</td>\n",
       "      <td>0.770212</td>\n",
       "      <td>0.910052</td>\n",
       "    </tr>\n",
       "    <tr>\n",
       "      <th>13</th>\n",
       "      <td>noDA_PPcropped_2</td>\n",
       "      <td>0.811667</td>\n",
       "      <td>0.747481</td>\n",
       "      <td>0.768994</td>\n",
       "      <td>0.752966</td>\n",
       "      <td>NaN</td>\n",
       "      <td>0.811667</td>\n",
       "      <td>0.811667</td>\n",
       "      <td>0.811667</td>\n",
       "      <td>NaN</td>\n",
       "      <td>0.814711</td>\n",
       "      <td>0.811667</td>\n",
       "      <td>0.810583</td>\n",
       "      <td>NaN</td>\n",
       "      <td>0.960000</td>\n",
       "      <td>0.768994</td>\n",
       "      <td>0.917954</td>\n",
       "    </tr>\n",
       "    <tr>\n",
       "      <th>26</th>\n",
       "      <td>noDA_noPP</td>\n",
       "      <td>0.801667</td>\n",
       "      <td>0.729930</td>\n",
       "      <td>0.768470</td>\n",
       "      <td>0.739910</td>\n",
       "      <td>NaN</td>\n",
       "      <td>0.801667</td>\n",
       "      <td>0.801667</td>\n",
       "      <td>0.801667</td>\n",
       "      <td>NaN</td>\n",
       "      <td>0.812021</td>\n",
       "      <td>0.801667</td>\n",
       "      <td>0.802170</td>\n",
       "      <td>NaN</td>\n",
       "      <td>0.950000</td>\n",
       "      <td>0.768470</td>\n",
       "      <td>0.914077</td>\n",
       "    </tr>\n",
       "    <tr>\n",
       "      <th>25</th>\n",
       "      <td>shades_of_gray_2</td>\n",
       "      <td>0.806667</td>\n",
       "      <td>0.739907</td>\n",
       "      <td>0.768450</td>\n",
       "      <td>0.749970</td>\n",
       "      <td>NaN</td>\n",
       "      <td>0.806667</td>\n",
       "      <td>0.806667</td>\n",
       "      <td>0.806667</td>\n",
       "      <td>NaN</td>\n",
       "      <td>0.810535</td>\n",
       "      <td>0.806667</td>\n",
       "      <td>0.806519</td>\n",
       "      <td>NaN</td>\n",
       "      <td>0.958333</td>\n",
       "      <td>0.768450</td>\n",
       "      <td>0.915933</td>\n",
       "    </tr>\n",
       "    <tr>\n",
       "      <th>32</th>\n",
       "      <td>noDA_PPcropped</td>\n",
       "      <td>0.801667</td>\n",
       "      <td>0.728983</td>\n",
       "      <td>0.767052</td>\n",
       "      <td>0.743718</td>\n",
       "      <td>NaN</td>\n",
       "      <td>0.801667</td>\n",
       "      <td>0.801667</td>\n",
       "      <td>0.801667</td>\n",
       "      <td>NaN</td>\n",
       "      <td>0.809983</td>\n",
       "      <td>0.801667</td>\n",
       "      <td>0.803544</td>\n",
       "      <td>NaN</td>\n",
       "      <td>0.955000</td>\n",
       "      <td>0.767052</td>\n",
       "      <td>0.913904</td>\n",
       "    </tr>\n",
       "    <tr>\n",
       "      <th>15</th>\n",
       "      <td>DA0_noPP_2</td>\n",
       "      <td>0.806667</td>\n",
       "      <td>0.736661</td>\n",
       "      <td>0.764740</td>\n",
       "      <td>0.747613</td>\n",
       "      <td>NaN</td>\n",
       "      <td>0.806667</td>\n",
       "      <td>0.806667</td>\n",
       "      <td>0.806667</td>\n",
       "      <td>NaN</td>\n",
       "      <td>0.810910</td>\n",
       "      <td>0.806667</td>\n",
       "      <td>0.807239</td>\n",
       "      <td>NaN</td>\n",
       "      <td>0.951667</td>\n",
       "      <td>0.764740</td>\n",
       "      <td>0.909936</td>\n",
       "    </tr>\n",
       "    <tr>\n",
       "      <th>7</th>\n",
       "      <td>DA0_noPP_3</td>\n",
       "      <td>0.806667</td>\n",
       "      <td>0.737530</td>\n",
       "      <td>0.763594</td>\n",
       "      <td>0.743997</td>\n",
       "      <td>NaN</td>\n",
       "      <td>0.806667</td>\n",
       "      <td>0.806667</td>\n",
       "      <td>0.806667</td>\n",
       "      <td>NaN</td>\n",
       "      <td>0.813454</td>\n",
       "      <td>0.806667</td>\n",
       "      <td>0.806801</td>\n",
       "      <td>NaN</td>\n",
       "      <td>0.961667</td>\n",
       "      <td>0.763594</td>\n",
       "      <td>0.910221</td>\n",
       "    </tr>\n",
       "    <tr>\n",
       "      <th>0</th>\n",
       "      <td>dull_razor_shades_of_gray_cropped_images_folder_2</td>\n",
       "      <td>0.801667</td>\n",
       "      <td>0.735253</td>\n",
       "      <td>0.761049</td>\n",
       "      <td>0.740352</td>\n",
       "      <td>NaN</td>\n",
       "      <td>0.801667</td>\n",
       "      <td>0.801667</td>\n",
       "      <td>0.801667</td>\n",
       "      <td>NaN</td>\n",
       "      <td>0.810266</td>\n",
       "      <td>0.801667</td>\n",
       "      <td>0.802080</td>\n",
       "      <td>NaN</td>\n",
       "      <td>0.951667</td>\n",
       "      <td>0.761049</td>\n",
       "      <td>0.911422</td>\n",
       "    </tr>\n",
       "    <tr>\n",
       "      <th>3</th>\n",
       "      <td>DA1_noPP</td>\n",
       "      <td>0.770000</td>\n",
       "      <td>0.694286</td>\n",
       "      <td>0.755501</td>\n",
       "      <td>0.711649</td>\n",
       "      <td>NaN</td>\n",
       "      <td>0.770000</td>\n",
       "      <td>0.770000</td>\n",
       "      <td>0.770000</td>\n",
       "      <td>NaN</td>\n",
       "      <td>0.797376</td>\n",
       "      <td>0.770000</td>\n",
       "      <td>0.776046</td>\n",
       "      <td>NaN</td>\n",
       "      <td>0.943333</td>\n",
       "      <td>0.755501</td>\n",
       "      <td>0.908595</td>\n",
       "    </tr>\n",
       "    <tr>\n",
       "      <th>30</th>\n",
       "      <td>noDA_noPP_2</td>\n",
       "      <td>0.803333</td>\n",
       "      <td>0.735964</td>\n",
       "      <td>0.754749</td>\n",
       "      <td>0.737335</td>\n",
       "      <td>NaN</td>\n",
       "      <td>0.803333</td>\n",
       "      <td>0.803333</td>\n",
       "      <td>0.803333</td>\n",
       "      <td>NaN</td>\n",
       "      <td>0.807128</td>\n",
       "      <td>0.803333</td>\n",
       "      <td>0.801209</td>\n",
       "      <td>NaN</td>\n",
       "      <td>0.950000</td>\n",
       "      <td>0.754749</td>\n",
       "      <td>0.918947</td>\n",
       "    </tr>\n",
       "    <tr>\n",
       "      <th>10</th>\n",
       "      <td>DA1_PPcropped</td>\n",
       "      <td>0.805000</td>\n",
       "      <td>0.738534</td>\n",
       "      <td>0.754742</td>\n",
       "      <td>0.741869</td>\n",
       "      <td>NaN</td>\n",
       "      <td>0.805000</td>\n",
       "      <td>0.805000</td>\n",
       "      <td>0.805000</td>\n",
       "      <td>NaN</td>\n",
       "      <td>0.805036</td>\n",
       "      <td>0.805000</td>\n",
       "      <td>0.802632</td>\n",
       "      <td>NaN</td>\n",
       "      <td>0.956667</td>\n",
       "      <td>0.754742</td>\n",
       "      <td>0.918152</td>\n",
       "    </tr>\n",
       "    <tr>\n",
       "      <th>12</th>\n",
       "      <td>dull_razor_cropped_images_folder</td>\n",
       "      <td>0.786667</td>\n",
       "      <td>0.714614</td>\n",
       "      <td>0.749686</td>\n",
       "      <td>0.718071</td>\n",
       "      <td>NaN</td>\n",
       "      <td>0.786667</td>\n",
       "      <td>0.786667</td>\n",
       "      <td>0.786667</td>\n",
       "      <td>NaN</td>\n",
       "      <td>0.798501</td>\n",
       "      <td>0.786667</td>\n",
       "      <td>0.785523</td>\n",
       "      <td>NaN</td>\n",
       "      <td>0.945000</td>\n",
       "      <td>0.749686</td>\n",
       "      <td>0.902948</td>\n",
       "    </tr>\n",
       "    <tr>\n",
       "      <th>29</th>\n",
       "      <td>mean_filter_2</td>\n",
       "      <td>0.795000</td>\n",
       "      <td>0.722147</td>\n",
       "      <td>0.748507</td>\n",
       "      <td>0.728765</td>\n",
       "      <td>NaN</td>\n",
       "      <td>0.795000</td>\n",
       "      <td>0.795000</td>\n",
       "      <td>0.795000</td>\n",
       "      <td>NaN</td>\n",
       "      <td>0.798234</td>\n",
       "      <td>0.795000</td>\n",
       "      <td>0.793375</td>\n",
       "      <td>NaN</td>\n",
       "      <td>0.936667</td>\n",
       "      <td>0.748507</td>\n",
       "      <td>0.896164</td>\n",
       "    </tr>\n",
       "    <tr>\n",
       "      <th>2</th>\n",
       "      <td>dull_razor</td>\n",
       "      <td>0.796667</td>\n",
       "      <td>0.729252</td>\n",
       "      <td>0.746791</td>\n",
       "      <td>0.734446</td>\n",
       "      <td>NaN</td>\n",
       "      <td>0.796667</td>\n",
       "      <td>0.796667</td>\n",
       "      <td>0.796667</td>\n",
       "      <td>NaN</td>\n",
       "      <td>0.797214</td>\n",
       "      <td>0.796667</td>\n",
       "      <td>0.795174</td>\n",
       "      <td>NaN</td>\n",
       "      <td>0.950000</td>\n",
       "      <td>0.746791</td>\n",
       "      <td>0.893130</td>\n",
       "    </tr>\n",
       "    <tr>\n",
       "      <th>31</th>\n",
       "      <td>DA0_PPcropped</td>\n",
       "      <td>0.800000</td>\n",
       "      <td>0.733828</td>\n",
       "      <td>0.744486</td>\n",
       "      <td>0.733831</td>\n",
       "      <td>NaN</td>\n",
       "      <td>0.800000</td>\n",
       "      <td>0.800000</td>\n",
       "      <td>0.800000</td>\n",
       "      <td>NaN</td>\n",
       "      <td>0.800014</td>\n",
       "      <td>0.800000</td>\n",
       "      <td>0.797287</td>\n",
       "      <td>NaN</td>\n",
       "      <td>0.953333</td>\n",
       "      <td>0.744486</td>\n",
       "      <td>0.906345</td>\n",
       "    </tr>\n",
       "    <tr>\n",
       "      <th>11</th>\n",
       "      <td>gaussian_filter_2</td>\n",
       "      <td>0.803333</td>\n",
       "      <td>0.738550</td>\n",
       "      <td>0.741889</td>\n",
       "      <td>0.730886</td>\n",
       "      <td>NaN</td>\n",
       "      <td>0.803333</td>\n",
       "      <td>0.803333</td>\n",
       "      <td>0.803333</td>\n",
       "      <td>NaN</td>\n",
       "      <td>0.802769</td>\n",
       "      <td>0.803333</td>\n",
       "      <td>0.798097</td>\n",
       "      <td>NaN</td>\n",
       "      <td>0.945000</td>\n",
       "      <td>0.741889</td>\n",
       "      <td>0.898289</td>\n",
       "    </tr>\n",
       "    <tr>\n",
       "      <th>8</th>\n",
       "      <td>dull_razor_2</td>\n",
       "      <td>0.791667</td>\n",
       "      <td>0.723623</td>\n",
       "      <td>0.740808</td>\n",
       "      <td>0.720787</td>\n",
       "      <td>NaN</td>\n",
       "      <td>0.791667</td>\n",
       "      <td>0.791667</td>\n",
       "      <td>0.791667</td>\n",
       "      <td>NaN</td>\n",
       "      <td>0.797727</td>\n",
       "      <td>0.791667</td>\n",
       "      <td>0.788911</td>\n",
       "      <td>NaN</td>\n",
       "      <td>0.958333</td>\n",
       "      <td>0.740808</td>\n",
       "      <td>0.907126</td>\n",
       "    </tr>\n",
       "    <tr>\n",
       "      <th>22</th>\n",
       "      <td>DA4_noPP</td>\n",
       "      <td>0.740000</td>\n",
       "      <td>0.670979</td>\n",
       "      <td>0.737087</td>\n",
       "      <td>0.679924</td>\n",
       "      <td>NaN</td>\n",
       "      <td>0.740000</td>\n",
       "      <td>0.740000</td>\n",
       "      <td>0.740000</td>\n",
       "      <td>NaN</td>\n",
       "      <td>0.793006</td>\n",
       "      <td>0.740000</td>\n",
       "      <td>0.751795</td>\n",
       "      <td>NaN</td>\n",
       "      <td>0.940000</td>\n",
       "      <td>0.737087</td>\n",
       "      <td>0.897824</td>\n",
       "    </tr>\n",
       "    <tr>\n",
       "      <th>20</th>\n",
       "      <td>non_local_means_2</td>\n",
       "      <td>0.793333</td>\n",
       "      <td>0.717766</td>\n",
       "      <td>0.731944</td>\n",
       "      <td>0.716373</td>\n",
       "      <td>NaN</td>\n",
       "      <td>0.793333</td>\n",
       "      <td>0.793333</td>\n",
       "      <td>0.793333</td>\n",
       "      <td>NaN</td>\n",
       "      <td>0.794178</td>\n",
       "      <td>0.793333</td>\n",
       "      <td>0.789428</td>\n",
       "      <td>NaN</td>\n",
       "      <td>0.943333</td>\n",
       "      <td>0.731944</td>\n",
       "      <td>0.893743</td>\n",
       "    </tr>\n",
       "    <tr>\n",
       "      <th>1</th>\n",
       "      <td>DA0_noPP</td>\n",
       "      <td>0.793333</td>\n",
       "      <td>0.728354</td>\n",
       "      <td>0.727942</td>\n",
       "      <td>0.718771</td>\n",
       "      <td>NaN</td>\n",
       "      <td>0.793333</td>\n",
       "      <td>0.793333</td>\n",
       "      <td>0.793333</td>\n",
       "      <td>NaN</td>\n",
       "      <td>0.790442</td>\n",
       "      <td>0.793333</td>\n",
       "      <td>0.786791</td>\n",
       "      <td>NaN</td>\n",
       "      <td>0.948333</td>\n",
       "      <td>0.727942</td>\n",
       "      <td>0.902238</td>\n",
       "    </tr>\n",
       "    <tr>\n",
       "      <th>16</th>\n",
       "      <td>CLAHE_2</td>\n",
       "      <td>0.786667</td>\n",
       "      <td>0.718046</td>\n",
       "      <td>0.725132</td>\n",
       "      <td>0.716423</td>\n",
       "      <td>NaN</td>\n",
       "      <td>0.786667</td>\n",
       "      <td>0.786667</td>\n",
       "      <td>0.786667</td>\n",
       "      <td>NaN</td>\n",
       "      <td>0.786223</td>\n",
       "      <td>0.786667</td>\n",
       "      <td>0.783768</td>\n",
       "      <td>NaN</td>\n",
       "      <td>0.950000</td>\n",
       "      <td>0.725132</td>\n",
       "      <td>0.897783</td>\n",
       "    </tr>\n",
       "    <tr>\n",
       "      <th>27</th>\n",
       "      <td>shades_of_gray</td>\n",
       "      <td>0.793333</td>\n",
       "      <td>0.736323</td>\n",
       "      <td>0.711100</td>\n",
       "      <td>0.717592</td>\n",
       "      <td>NaN</td>\n",
       "      <td>0.793333</td>\n",
       "      <td>0.793333</td>\n",
       "      <td>0.793333</td>\n",
       "      <td>NaN</td>\n",
       "      <td>0.787489</td>\n",
       "      <td>0.793333</td>\n",
       "      <td>0.786553</td>\n",
       "      <td>NaN</td>\n",
       "      <td>0.958333</td>\n",
       "      <td>0.711100</td>\n",
       "      <td>0.900809</td>\n",
       "    </tr>\n",
       "    <tr>\n",
       "      <th>18</th>\n",
       "      <td>train_classifier_only</td>\n",
       "      <td>0.686667</td>\n",
       "      <td>0.619342</td>\n",
       "      <td>0.686227</td>\n",
       "      <td>0.622946</td>\n",
       "      <td>NaN</td>\n",
       "      <td>0.686667</td>\n",
       "      <td>0.686667</td>\n",
       "      <td>0.686667</td>\n",
       "      <td>NaN</td>\n",
       "      <td>0.754375</td>\n",
       "      <td>0.686667</td>\n",
       "      <td>0.701400</td>\n",
       "      <td>NaN</td>\n",
       "      <td>0.928333</td>\n",
       "      <td>0.686227</td>\n",
       "      <td>0.856870</td>\n",
       "    </tr>\n",
       "    <tr>\n",
       "      <th>4</th>\n",
       "      <td>shades_of_gray_cropped_images_folder</td>\n",
       "      <td>0.781667</td>\n",
       "      <td>0.738638</td>\n",
       "      <td>0.664603</td>\n",
       "      <td>0.691719</td>\n",
       "      <td>NaN</td>\n",
       "      <td>0.781667</td>\n",
       "      <td>0.781667</td>\n",
       "      <td>0.781667</td>\n",
       "      <td>NaN</td>\n",
       "      <td>0.770927</td>\n",
       "      <td>0.781667</td>\n",
       "      <td>0.769164</td>\n",
       "      <td>NaN</td>\n",
       "      <td>0.941667</td>\n",
       "      <td>0.664603</td>\n",
       "      <td>0.893757</td>\n",
       "    </tr>\n",
       "    <tr>\n",
       "      <th>6</th>\n",
       "      <td>dull_razor_shades_of_gray</td>\n",
       "      <td>0.750000</td>\n",
       "      <td>0.697466</td>\n",
       "      <td>0.628479</td>\n",
       "      <td>0.650340</td>\n",
       "      <td>NaN</td>\n",
       "      <td>0.750000</td>\n",
       "      <td>0.750000</td>\n",
       "      <td>0.750000</td>\n",
       "      <td>NaN</td>\n",
       "      <td>0.735151</td>\n",
       "      <td>0.750000</td>\n",
       "      <td>0.733509</td>\n",
       "      <td>NaN</td>\n",
       "      <td>0.948333</td>\n",
       "      <td>0.628479</td>\n",
       "      <td>0.868997</td>\n",
       "    </tr>\n",
       "    <tr>\n",
       "      <th>21</th>\n",
       "      <td>gaussian_filter_cropped_images_folder</td>\n",
       "      <td>0.736667</td>\n",
       "      <td>0.689013</td>\n",
       "      <td>0.614506</td>\n",
       "      <td>0.582465</td>\n",
       "      <td>NaN</td>\n",
       "      <td>0.736667</td>\n",
       "      <td>0.736667</td>\n",
       "      <td>0.736667</td>\n",
       "      <td>NaN</td>\n",
       "      <td>0.737197</td>\n",
       "      <td>0.736667</td>\n",
       "      <td>0.695389</td>\n",
       "      <td>NaN</td>\n",
       "      <td>0.921667</td>\n",
       "      <td>0.614506</td>\n",
       "      <td>0.873318</td>\n",
       "    </tr>\n",
       "    <tr>\n",
       "      <th>24</th>\n",
       "      <td>gaussian_filter</td>\n",
       "      <td>0.756667</td>\n",
       "      <td>0.739134</td>\n",
       "      <td>0.609280</td>\n",
       "      <td>0.617617</td>\n",
       "      <td>NaN</td>\n",
       "      <td>0.756667</td>\n",
       "      <td>0.756667</td>\n",
       "      <td>0.756667</td>\n",
       "      <td>NaN</td>\n",
       "      <td>0.758187</td>\n",
       "      <td>0.756667</td>\n",
       "      <td>0.720738</td>\n",
       "      <td>NaN</td>\n",
       "      <td>0.928333</td>\n",
       "      <td>0.609280</td>\n",
       "      <td>0.863944</td>\n",
       "    </tr>\n",
       "    <tr>\n",
       "      <th>5</th>\n",
       "      <td>dull_razor_shades_of_gray_cropped_images_folder</td>\n",
       "      <td>0.743333</td>\n",
       "      <td>0.693921</td>\n",
       "      <td>0.603971</td>\n",
       "      <td>0.635719</td>\n",
       "      <td>NaN</td>\n",
       "      <td>0.743333</td>\n",
       "      <td>0.743333</td>\n",
       "      <td>0.743333</td>\n",
       "      <td>NaN</td>\n",
       "      <td>0.730570</td>\n",
       "      <td>0.743333</td>\n",
       "      <td>0.727784</td>\n",
       "      <td>NaN</td>\n",
       "      <td>0.951667</td>\n",
       "      <td>0.603971</td>\n",
       "      <td>0.884922</td>\n",
       "    </tr>\n",
       "    <tr>\n",
       "      <th>33</th>\n",
       "      <td>CLAHE</td>\n",
       "      <td>0.750000</td>\n",
       "      <td>0.755496</td>\n",
       "      <td>0.567891</td>\n",
       "      <td>0.585133</td>\n",
       "      <td>NaN</td>\n",
       "      <td>0.750000</td>\n",
       "      <td>0.750000</td>\n",
       "      <td>0.750000</td>\n",
       "      <td>NaN</td>\n",
       "      <td>0.748975</td>\n",
       "      <td>0.750000</td>\n",
       "      <td>0.698697</td>\n",
       "      <td>NaN</td>\n",
       "      <td>0.940000</td>\n",
       "      <td>0.567891</td>\n",
       "      <td>0.862399</td>\n",
       "    </tr>\n",
       "    <tr>\n",
       "      <th>17</th>\n",
       "      <td>mean_filter_cropped_images_folder</td>\n",
       "      <td>0.721667</td>\n",
       "      <td>0.629117</td>\n",
       "      <td>0.540593</td>\n",
       "      <td>0.501245</td>\n",
       "      <td>NaN</td>\n",
       "      <td>0.721667</td>\n",
       "      <td>0.721667</td>\n",
       "      <td>0.721667</td>\n",
       "      <td>NaN</td>\n",
       "      <td>0.676868</td>\n",
       "      <td>0.721667</td>\n",
       "      <td>0.644247</td>\n",
       "      <td>NaN</td>\n",
       "      <td>0.885000</td>\n",
       "      <td>0.540593</td>\n",
       "      <td>0.842642</td>\n",
       "    </tr>\n",
       "    <tr>\n",
       "      <th>28</th>\n",
       "      <td>mean_filter</td>\n",
       "      <td>0.730000</td>\n",
       "      <td>0.649914</td>\n",
       "      <td>0.539706</td>\n",
       "      <td>0.530822</td>\n",
       "      <td>NaN</td>\n",
       "      <td>0.730000</td>\n",
       "      <td>0.730000</td>\n",
       "      <td>0.730000</td>\n",
       "      <td>NaN</td>\n",
       "      <td>0.688265</td>\n",
       "      <td>0.730000</td>\n",
       "      <td>0.665351</td>\n",
       "      <td>NaN</td>\n",
       "      <td>0.913333</td>\n",
       "      <td>0.539706</td>\n",
       "      <td>0.850154</td>\n",
       "    </tr>\n",
       "    <tr>\n",
       "      <th>19</th>\n",
       "      <td>non_local_means</td>\n",
       "      <td>0.725000</td>\n",
       "      <td>0.731926</td>\n",
       "      <td>0.520883</td>\n",
       "      <td>0.515014</td>\n",
       "      <td>NaN</td>\n",
       "      <td>0.725000</td>\n",
       "      <td>0.725000</td>\n",
       "      <td>0.725000</td>\n",
       "      <td>NaN</td>\n",
       "      <td>0.729338</td>\n",
       "      <td>0.725000</td>\n",
       "      <td>0.654615</td>\n",
       "      <td>NaN</td>\n",
       "      <td>0.898333</td>\n",
       "      <td>0.520883</td>\n",
       "      <td>0.853904</td>\n",
       "    </tr>\n",
       "    <tr>\n",
       "      <th>9</th>\n",
       "      <td>non_local_means_cropped_images_folder</td>\n",
       "      <td>0.715000</td>\n",
       "      <td>0.728867</td>\n",
       "      <td>0.515793</td>\n",
       "      <td>0.497992</td>\n",
       "      <td>NaN</td>\n",
       "      <td>0.715000</td>\n",
       "      <td>0.715000</td>\n",
       "      <td>0.715000</td>\n",
       "      <td>NaN</td>\n",
       "      <td>0.736170</td>\n",
       "      <td>0.715000</td>\n",
       "      <td>0.646305</td>\n",
       "      <td>NaN</td>\n",
       "      <td>0.905000</td>\n",
       "      <td>0.515793</td>\n",
       "      <td>0.848084</td>\n",
       "    </tr>\n",
       "  </tbody>\n",
       "</table>\n",
       "</div>"
      ],
      "text/plain": [
       "                                          folder_name  accuracy  \\\n",
       "23                        dull_razor_shades_of_gray_2  0.825000   \n",
       "14                                           DA2_noPP  0.798333   \n",
       "13                                   noDA_PPcropped_2  0.811667   \n",
       "26                                          noDA_noPP  0.801667   \n",
       "25                                   shades_of_gray_2  0.806667   \n",
       "32                                     noDA_PPcropped  0.801667   \n",
       "15                                         DA0_noPP_2  0.806667   \n",
       "7                                          DA0_noPP_3  0.806667   \n",
       "0   dull_razor_shades_of_gray_cropped_images_folder_2  0.801667   \n",
       "3                                            DA1_noPP  0.770000   \n",
       "30                                        noDA_noPP_2  0.803333   \n",
       "10                                      DA1_PPcropped  0.805000   \n",
       "12                   dull_razor_cropped_images_folder  0.786667   \n",
       "29                                      mean_filter_2  0.795000   \n",
       "2                                          dull_razor  0.796667   \n",
       "31                                      DA0_PPcropped  0.800000   \n",
       "11                                  gaussian_filter_2  0.803333   \n",
       "8                                        dull_razor_2  0.791667   \n",
       "22                                           DA4_noPP  0.740000   \n",
       "20                                  non_local_means_2  0.793333   \n",
       "1                                            DA0_noPP  0.793333   \n",
       "16                                            CLAHE_2  0.786667   \n",
       "27                                     shades_of_gray  0.793333   \n",
       "18                              train_classifier_only  0.686667   \n",
       "4                shades_of_gray_cropped_images_folder  0.781667   \n",
       "6                           dull_razor_shades_of_gray  0.750000   \n",
       "21              gaussian_filter_cropped_images_folder  0.736667   \n",
       "24                                    gaussian_filter  0.756667   \n",
       "5     dull_razor_shades_of_gray_cropped_images_folder  0.743333   \n",
       "33                                              CLAHE  0.750000   \n",
       "17                  mean_filter_cropped_images_folder  0.721667   \n",
       "28                                        mean_filter  0.730000   \n",
       "19                                    non_local_means  0.725000   \n",
       "9               non_local_means_cropped_images_folder  0.715000   \n",
       "\n",
       "    precision_macro  recall_macro  fscore_macro  support_macro  \\\n",
       "23         0.768381      0.775779      0.764840            NaN   \n",
       "14         0.725435      0.770212      0.741383            NaN   \n",
       "13         0.747481      0.768994      0.752966            NaN   \n",
       "26         0.729930      0.768470      0.739910            NaN   \n",
       "25         0.739907      0.768450      0.749970            NaN   \n",
       "32         0.728983      0.767052      0.743718            NaN   \n",
       "15         0.736661      0.764740      0.747613            NaN   \n",
       "7          0.737530      0.763594      0.743997            NaN   \n",
       "0          0.735253      0.761049      0.740352            NaN   \n",
       "3          0.694286      0.755501      0.711649            NaN   \n",
       "30         0.735964      0.754749      0.737335            NaN   \n",
       "10         0.738534      0.754742      0.741869            NaN   \n",
       "12         0.714614      0.749686      0.718071            NaN   \n",
       "29         0.722147      0.748507      0.728765            NaN   \n",
       "2          0.729252      0.746791      0.734446            NaN   \n",
       "31         0.733828      0.744486      0.733831            NaN   \n",
       "11         0.738550      0.741889      0.730886            NaN   \n",
       "8          0.723623      0.740808      0.720787            NaN   \n",
       "22         0.670979      0.737087      0.679924            NaN   \n",
       "20         0.717766      0.731944      0.716373            NaN   \n",
       "1          0.728354      0.727942      0.718771            NaN   \n",
       "16         0.718046      0.725132      0.716423            NaN   \n",
       "27         0.736323      0.711100      0.717592            NaN   \n",
       "18         0.619342      0.686227      0.622946            NaN   \n",
       "4          0.738638      0.664603      0.691719            NaN   \n",
       "6          0.697466      0.628479      0.650340            NaN   \n",
       "21         0.689013      0.614506      0.582465            NaN   \n",
       "24         0.739134      0.609280      0.617617            NaN   \n",
       "5          0.693921      0.603971      0.635719            NaN   \n",
       "33         0.755496      0.567891      0.585133            NaN   \n",
       "17         0.629117      0.540593      0.501245            NaN   \n",
       "28         0.649914      0.539706      0.530822            NaN   \n",
       "19         0.731926      0.520883      0.515014            NaN   \n",
       "9          0.728867      0.515793      0.497992            NaN   \n",
       "\n",
       "    precision_micro  recall_micro  fscore_micro  support_micro  \\\n",
       "23         0.825000      0.825000      0.825000            NaN   \n",
       "14         0.798333      0.798333      0.798333            NaN   \n",
       "13         0.811667      0.811667      0.811667            NaN   \n",
       "26         0.801667      0.801667      0.801667            NaN   \n",
       "25         0.806667      0.806667      0.806667            NaN   \n",
       "32         0.801667      0.801667      0.801667            NaN   \n",
       "15         0.806667      0.806667      0.806667            NaN   \n",
       "7          0.806667      0.806667      0.806667            NaN   \n",
       "0          0.801667      0.801667      0.801667            NaN   \n",
       "3          0.770000      0.770000      0.770000            NaN   \n",
       "30         0.803333      0.803333      0.803333            NaN   \n",
       "10         0.805000      0.805000      0.805000            NaN   \n",
       "12         0.786667      0.786667      0.786667            NaN   \n",
       "29         0.795000      0.795000      0.795000            NaN   \n",
       "2          0.796667      0.796667      0.796667            NaN   \n",
       "31         0.800000      0.800000      0.800000            NaN   \n",
       "11         0.803333      0.803333      0.803333            NaN   \n",
       "8          0.791667      0.791667      0.791667            NaN   \n",
       "22         0.740000      0.740000      0.740000            NaN   \n",
       "20         0.793333      0.793333      0.793333            NaN   \n",
       "1          0.793333      0.793333      0.793333            NaN   \n",
       "16         0.786667      0.786667      0.786667            NaN   \n",
       "27         0.793333      0.793333      0.793333            NaN   \n",
       "18         0.686667      0.686667      0.686667            NaN   \n",
       "4          0.781667      0.781667      0.781667            NaN   \n",
       "6          0.750000      0.750000      0.750000            NaN   \n",
       "21         0.736667      0.736667      0.736667            NaN   \n",
       "24         0.756667      0.756667      0.756667            NaN   \n",
       "5          0.743333      0.743333      0.743333            NaN   \n",
       "33         0.750000      0.750000      0.750000            NaN   \n",
       "17         0.721667      0.721667      0.721667            NaN   \n",
       "28         0.730000      0.730000      0.730000            NaN   \n",
       "19         0.725000      0.725000      0.725000            NaN   \n",
       "9          0.715000      0.715000      0.715000            NaN   \n",
       "\n",
       "    precision_weighted  recall_weighted  fscore_weighted  support_weighted  \\\n",
       "23            0.828002         0.825000         0.822775               NaN   \n",
       "14            0.810963         0.798333         0.801174               NaN   \n",
       "13            0.814711         0.811667         0.810583               NaN   \n",
       "26            0.812021         0.801667         0.802170               NaN   \n",
       "25            0.810535         0.806667         0.806519               NaN   \n",
       "32            0.809983         0.801667         0.803544               NaN   \n",
       "15            0.810910         0.806667         0.807239               NaN   \n",
       "7             0.813454         0.806667         0.806801               NaN   \n",
       "0             0.810266         0.801667         0.802080               NaN   \n",
       "3             0.797376         0.770000         0.776046               NaN   \n",
       "30            0.807128         0.803333         0.801209               NaN   \n",
       "10            0.805036         0.805000         0.802632               NaN   \n",
       "12            0.798501         0.786667         0.785523               NaN   \n",
       "29            0.798234         0.795000         0.793375               NaN   \n",
       "2             0.797214         0.796667         0.795174               NaN   \n",
       "31            0.800014         0.800000         0.797287               NaN   \n",
       "11            0.802769         0.803333         0.798097               NaN   \n",
       "8             0.797727         0.791667         0.788911               NaN   \n",
       "22            0.793006         0.740000         0.751795               NaN   \n",
       "20            0.794178         0.793333         0.789428               NaN   \n",
       "1             0.790442         0.793333         0.786791               NaN   \n",
       "16            0.786223         0.786667         0.783768               NaN   \n",
       "27            0.787489         0.793333         0.786553               NaN   \n",
       "18            0.754375         0.686667         0.701400               NaN   \n",
       "4             0.770927         0.781667         0.769164               NaN   \n",
       "6             0.735151         0.750000         0.733509               NaN   \n",
       "21            0.737197         0.736667         0.695389               NaN   \n",
       "24            0.758187         0.756667         0.720738               NaN   \n",
       "5             0.730570         0.743333         0.727784               NaN   \n",
       "33            0.748975         0.750000         0.698697               NaN   \n",
       "17            0.676868         0.721667         0.644247               NaN   \n",
       "28            0.688265         0.730000         0.665351               NaN   \n",
       "19            0.729338         0.725000         0.654615               NaN   \n",
       "9             0.736170         0.715000         0.646305               NaN   \n",
       "\n",
       "    topk_accuracy  balanced_accuracy       auc  \n",
       "23       0.950000           0.775779  0.918206  \n",
       "14       0.946667           0.770212  0.910052  \n",
       "13       0.960000           0.768994  0.917954  \n",
       "26       0.950000           0.768470  0.914077  \n",
       "25       0.958333           0.768450  0.915933  \n",
       "32       0.955000           0.767052  0.913904  \n",
       "15       0.951667           0.764740  0.909936  \n",
       "7        0.961667           0.763594  0.910221  \n",
       "0        0.951667           0.761049  0.911422  \n",
       "3        0.943333           0.755501  0.908595  \n",
       "30       0.950000           0.754749  0.918947  \n",
       "10       0.956667           0.754742  0.918152  \n",
       "12       0.945000           0.749686  0.902948  \n",
       "29       0.936667           0.748507  0.896164  \n",
       "2        0.950000           0.746791  0.893130  \n",
       "31       0.953333           0.744486  0.906345  \n",
       "11       0.945000           0.741889  0.898289  \n",
       "8        0.958333           0.740808  0.907126  \n",
       "22       0.940000           0.737087  0.897824  \n",
       "20       0.943333           0.731944  0.893743  \n",
       "1        0.948333           0.727942  0.902238  \n",
       "16       0.950000           0.725132  0.897783  \n",
       "27       0.958333           0.711100  0.900809  \n",
       "18       0.928333           0.686227  0.856870  \n",
       "4        0.941667           0.664603  0.893757  \n",
       "6        0.948333           0.628479  0.868997  \n",
       "21       0.921667           0.614506  0.873318  \n",
       "24       0.928333           0.609280  0.863944  \n",
       "5        0.951667           0.603971  0.884922  \n",
       "33       0.940000           0.567891  0.862399  \n",
       "17       0.885000           0.540593  0.842642  \n",
       "28       0.913333           0.539706  0.850154  \n",
       "19       0.898333           0.520883  0.853904  \n",
       "9        0.905000           0.515793  0.848084  "
      ]
     },
     "execution_count": 2,
     "metadata": {},
     "output_type": "execute_result"
    }
   ],
   "source": [
    "folder_path = \"best_results/ensemble_average_best.csv\"\n",
    "\n",
    "df = pd.read_csv(folder_path)\n",
    "\n",
    "df.sort_values(by=['balanced_accuracy'], ascending=False)"
   ]
  }
 ],
 "metadata": {
  "kernelspec": {
   "display_name": "venv",
   "language": "python",
   "name": "python3"
  },
  "language_info": {
   "codemirror_mode": {
    "name": "ipython",
    "version": 3
   },
   "file_extension": ".py",
   "mimetype": "text/x-python",
   "name": "python",
   "nbconvert_exporter": "python",
   "pygments_lexer": "ipython3",
   "version": "3.7.16"
  },
  "orig_nbformat": 4
 },
 "nbformat": 4,
 "nbformat_minor": 2
}
