{
 "cells": [
  {
   "cell_type": "markdown",
   "metadata": {},
   "source": [
    "Pre-processing algorithms "
   ]
  },
  {
   "cell_type": "code",
   "execution_count": 34,
   "metadata": {},
   "outputs": [],
   "source": [
    "import cv2 as cv\n",
    "import numpy as np\n",
    "from glob import glob\n",
    "from tqdm import tqdm\n",
    "import matplotlib.pyplot as plt\n",
    "import os\n",
    "\n",
    "def save_image(name, img):\n",
    "    cv.imwrite('..\\datasets\\ISIC2017\\Training_data_processed\\\\successfully_cutted\\\\{}.jpg'.format(name), img)\n",
    "\n",
    "def save_in_test(name, img):\n",
    "    cv.imwrite('..\\datasets\\ISIC2017\\Training_data_processed\\\\tests\\\\{}.jpg'.format(name), img)\n",
    "\n",
    "def read_image(name):\n",
    "    img = cv.imread('..\\datasets\\ISIC2017\\Training_data_processed\\\\successfully_cutted\\\\{}.jpg'.format(name))\n",
    "    return img\n"
   ]
  },
  {
   "cell_type": "code",
   "execution_count": 35,
   "metadata": {},
   "outputs": [],
   "source": [
    "# Shades of Gray in a using color constancy algorithms that can correct or minimize color variation between images\n",
    "# Goyal, Codela, Gessert e Pacheco\n",
    "\n",
    "def shades_of_gray(img, power=6, gamma=None):\n",
    "    img_dtype = img.dtype\n",
    "\n",
    "    if gamma is not None:\n",
    "        img = img.astype('uint8')\n",
    "        look_up_table = np.ones((256,1), dtype='uint8') * 0\n",
    "        for i in range(256):\n",
    "            look_up_table[i][0] = 255 * pow(i/255, 1/gamma)\n",
    "        img = cv.LUT(img, look_up_table)\n",
    "\n",
    "    img = img.astype('float32')\n",
    "    img_power = np.power(img, power)\n",
    "    rgb_vec = np.power(np.mean(img_power, (0,1)), 1/power)\n",
    "    rgb_norm = np.sqrt(np.sum(np.power(rgb_vec, 2.0)))\n",
    "    rgb_vec = rgb_vec/rgb_norm\n",
    "    rgb_vec = 1/(rgb_vec*np.sqrt(3))\n",
    "    img = np.multiply(img, rgb_vec)\n",
    "\n",
    "    img = np.clip(img, a_min=0, a_max=255)\n",
    "    \n",
    "    return img.astype(img_dtype)"
   ]
  },
  {
   "cell_type": "code",
   "execution_count": 36,
   "metadata": {},
   "outputs": [],
   "source": [
    "# Gaussian filter to minimize the presence of artifacts\n",
    "# It makes the image loses details, we have to evaluate if it is good to use it or not\n",
    "# Khouloud\n",
    "\n",
    "def gaussian_filter(img):\n",
    "    return cv.GaussianBlur(img,(5,5),0)"
   ]
  },
  {
   "cell_type": "code",
   "execution_count": 37,
   "metadata": {},
   "outputs": [],
   "source": [
    "def simple_contrast_enhancement(img):\n",
    "    # converting to LAB color space\n",
    "    lab = cv.cvtColor(img, cv.COLOR_BGR2LAB)\n",
    "    l_channel, a, b = cv.split(lab)\n",
    "\n",
    "    # Applying CLAHE to L-channel\n",
    "    # maybe add the limit and grid size as parameters:\n",
    "    clahe = cv.createCLAHE(clipLimit=2.0, tileGridSize=(8,8))\n",
    "    cl = clahe.apply(l_channel)\n",
    "\n",
    "    # merge the CLAHE enhanced L-channel with the a and b channel\n",
    "    limg = cv.merge((cl,a,b))\n",
    "\n",
    "    return cv.cvtColor(limg, cv.COLOR_LAB2BGR)\n"
   ]
  },
  {
   "cell_type": "code",
   "execution_count": 38,
   "metadata": {},
   "outputs": [],
   "source": [
    "# Sarkar\n",
    "\n",
    "# Takes a long time \n",
    "def non_local_mean_denoising(img):\n",
    "    return cv.fastNlMeansDenoisingColored(img,None,10,10,7,21) # recommended values"
   ]
  },
  {
   "cell_type": "code",
   "execution_count": 39,
   "metadata": {},
   "outputs": [],
   "source": [
    "#Afza\n",
    "#adap_stack\n",
    "\n",
    "def global_and_local_enhancement(img):\n",
    "    return img"
   ]
  },
  {
   "cell_type": "code",
   "execution_count": 40,
   "metadata": {},
   "outputs": [],
   "source": [
    "#Khan\n",
    "\n",
    "def abc_contrast_enhancement(img):\n",
    "    return img"
   ]
  },
  {
   "cell_type": "code",
   "execution_count": 41,
   "metadata": {},
   "outputs": [],
   "source": [
    "img_names = ['ISIC_0000001', 'ISIC_0000002', 'ISIC_0000003', 'ISIC_0000004']\n",
    "\n",
    "for img_name in img_names:\n",
    "    img = read_image(img_name + '_cutted')\n",
    "    save_in_test(img_name, img)\n",
    "    img = non_local_mean_denoising(img)\n",
    "    save_in_test(img_name + '_sog', img)"
   ]
  }
 ],
 "metadata": {
  "kernelspec": {
   "display_name": "venv",
   "language": "python",
   "name": "python3"
  },
  "language_info": {
   "codemirror_mode": {
    "name": "ipython",
    "version": 3
   },
   "file_extension": ".py",
   "mimetype": "text/x-python",
   "name": "python",
   "nbconvert_exporter": "python",
   "pygments_lexer": "ipython3"
  },
  "orig_nbformat": 4,
  "vscode": {
   "interpreter": {
    "hash": "5dddab3f9dcea3e0699dbfd5269a7c101e0ce7b95edb30a58b5ce5aac2bf385d"
   }
  }
 },
 "nbformat": 4,
 "nbformat_minor": 2
}
