{
 "cells": [
  {
   "cell_type": "code",
   "execution_count": 8,
   "metadata": {},
   "outputs": [],
   "source": [
    "import pandas as pd\n",
    "\n",
    "all_coords = pd.read_csv(r'C:\\\\Users\\\\usuário\\Documents\\\\mestrado\\dissertação\\datasets\\\\ISIC2017\\\\Training_data_processed\\successfully_cutted\\\\cut_coords_2.csv', sep=',')\n",
    "matlab = pd.read_csv(r'C:\\\\Users\\\\usuário\\Documents\\\\mestrado\\dissertação\\datasets\\\\ISIC2017\\\\Training_data_processed\\\\successfully_cutted\\\\cut_coords_not_successfully_cutted_2.csv', sep=',')\n"
   ]
  },
  {
   "cell_type": "code",
   "execution_count": 10,
   "metadata": {},
   "outputs": [],
   "source": [
    "matlab['coords_b_t_r_l'] = ''\n",
    "for _, row in matlab.iterrows():\n",
    "    coords_matlab = row['coords_xmin_ymin_width_height'].split()\n",
    "    l = int(coords_matlab[0])\n",
    "    t = int(coords_matlab[1])\n",
    "    r = l + int(coords_matlab[2])\n",
    "    b = t + int(coords_matlab[3])\n",
    "    row['coords_b_t_r_l'] = f'{b} {t} {r} {l}'\n",
    "\n",
    "all_coords = pd.concat([all_coords,matlab[['name','coords_b_t_r_l']]])\n",
    "matlab.to_csv(r'C:\\\\Users\\\\usuário\\Documents\\\\mestrado\\dissertação\\datasets\\\\ISIC2017\\\\Training_data_processed\\\\successfully_cutted\\\\cut_coords_not_successfully_cutted_2.csv',index=False)\n",
    "all_coords.to_csv(r'C:\\\\Users\\\\usuário\\Documents\\\\mestrado\\dissertação\\datasets\\\\ISIC2017\\\\Training_data_processed\\\\successfully_cutted\\\\cut_coords_3.csv',index=False)"
   ]
  }
 ],
 "metadata": {
  "kernelspec": {
   "display_name": "Python 3.10.7 ('venv': venv)",
   "language": "python",
   "name": "python3"
  },
  "language_info": {
   "codemirror_mode": {
    "name": "ipython",
    "version": 3
   },
   "file_extension": ".py",
   "mimetype": "text/x-python",
   "name": "python",
   "nbconvert_exporter": "python",
   "pygments_lexer": "ipython3",
   "version": "3.10.7"
  },
  "orig_nbformat": 4,
  "vscode": {
   "interpreter": {
    "hash": "5dddab3f9dcea3e0699dbfd5269a7c101e0ce7b95edb30a58b5ce5aac2bf385d"
   }
  }
 },
 "nbformat": 4,
 "nbformat_minor": 2
}
