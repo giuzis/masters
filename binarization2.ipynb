{
 "cells": [
  {
   "cell_type": "markdown",
   "metadata": {},
   "source": [
    "# Preparing the dataset\n",
    "Objective: Find the affected area, crop the image or fill it to make all of them have the same size. "
   ]
  },
  {
   "cell_type": "code",
   "execution_count": 42,
   "metadata": {},
   "outputs": [],
   "source": [
    "import cv2 as cv\n",
    "import numpy as np\n",
    "import pandas as pd\n",
    "from matplotlib import pyplot as plt\n",
    "import os \n",
    "\n",
    "\n",
    "def save_image(name, img):\n",
    "    cv.imwrite('..\\datasets\\ISIC2017\\Training_data_processed\\successfully_cutted\\\\{}_2.jpg'.format(name), img)\n",
    "\n",
    "def read_image(name):\n",
    "    img = cv.imread('..\\datasets\\ISIC2017\\ISIC-2017_Training_Data\\\\{}.jpg'.format(name))\n",
    "    return img\n",
    "\n",
    "\n",
    "all_images = []"
   ]
  },
  {
   "cell_type": "markdown",
   "metadata": {},
   "source": [
    "Obtaining all images name"
   ]
  },
  {
   "cell_type": "code",
   "execution_count": 43,
   "metadata": {},
   "outputs": [],
   "source": [
    "all_files = os.listdir('..\\datasets\\ISIC2017\\Training_data_processed\\successfully_cutted\\\\')\n",
    "\n",
    "for file in all_files:\n",
    "        if file.find('superpixels') == -1 and file.find('Training_Data_metadata') == -1:\n",
    "                new_img = file.split('_final')[0]\n",
    "                all_images.append(new_img)\n"
   ]
  },
  {
   "cell_type": "markdown",
   "metadata": {},
   "source": [
    "Obtain the threshold image for gray scale image and blue channel"
   ]
  },
  {
   "cell_type": "code",
   "execution_count": 44,
   "metadata": {},
   "outputs": [],
   "source": [
    "def threshold_image (img):\n",
    "    img = cv.GaussianBlur(img,(5,5),0)\n",
    "    _,img = cv.threshold(img,0,255,cv.THRESH_BINARY_INV+cv.THRESH_OTSU)\n",
    "    kernel = np.ones((10,10),np.uint8)\n",
    "    img = cv.erode(img,kernel,iterations = 1) \n",
    "    return img"
   ]
  },
  {
   "cell_type": "markdown",
   "metadata": {},
   "source": [
    "Obtain the threshold image to highlight the black corners"
   ]
  },
  {
   "cell_type": "code",
   "execution_count": 45,
   "metadata": {},
   "outputs": [],
   "source": [
    "def highlight_black_corners (img):\n",
    "    img = cv.GaussianBlur(img,(5,5),0)\n",
    "    y, x = img.shape\n",
    "    for i in range(5):\n",
    "        img[i,:] = 0\n",
    "        img[:,i] = 0\n",
    "        img[:,x-i-1] = 0\n",
    "        img[y-i-1,:] = 0\n",
    "    _,img = cv.threshold(img,15,255,cv.THRESH_BINARY)\n",
    "    return img"
   ]
  },
  {
   "cell_type": "markdown",
   "metadata": {},
   "source": [
    "Remove black corners remaining from the lens of the camera used to take the lesion image "
   ]
  },
  {
   "cell_type": "code",
   "execution_count": 46,
   "metadata": {},
   "outputs": [],
   "source": [
    "def remove_corners(img):\n",
    "    y, x = img.shape\n",
    "\n",
    "    corners = {\n",
    "        'top_left': {\n",
    "            'x': [0,10],\n",
    "            'y': [0,10]\n",
    "        },\n",
    "        'top_right': {\n",
    "            'x': [0,10],\n",
    "            'y': [y - 11, y-1]\n",
    "        },\n",
    "        'bottom_left': {\n",
    "            'x': [x - 11, x-1],\n",
    "            'y': [0,10]\n",
    "        },\n",
    "        'bottom_right': {\n",
    "            'x': [x - 11, x-1],\n",
    "            'y': [y - 11, y-1]\n",
    "        },\n",
    "    }\n",
    "\n",
    "    for position in corners:\n",
    "        for x in range(corners[position]['x'][0], corners[position]['x'][1]):\n",
    "            for y in range(corners[position]['y'][0], corners[position]['y'][1]):\n",
    "                if img[y,x] >= 255:\n",
    "                    cv.floodFill(img, None, (x,y), 0)\n",
    "    return img"
   ]
  },
  {
   "cell_type": "markdown",
   "metadata": {},
   "source": [
    "Add gray and blue images"
   ]
  },
  {
   "cell_type": "code",
   "execution_count": 47,
   "metadata": {},
   "outputs": [],
   "source": [
    "def add_gray_and_blue(img_1, img_2):\n",
    "    img_sum = img_1 + img_2\n",
    "    img_sum[img_sum > 125] = 255\n",
    "    img_sum[img_sum < 125] = 0\n",
    "    return img_sum\n",
    "    "
   ]
  },
  {
   "cell_type": "markdown",
   "metadata": {},
   "source": [
    "Remove minimal blobs from the image"
   ]
  },
  {
   "cell_type": "code",
   "execution_count": 48,
   "metadata": {},
   "outputs": [],
   "source": [
    "def remove_minimal_blobs(img):\n",
    "    contours, _ = cv.findContours(img, cv.RETR_TREE, cv.CHAIN_APPROX_SIMPLE)\n",
    "    img_clean = np.zeros_like(img)\n",
    "    for contour in contours:\n",
    "        area = cv.contourArea(contour)\n",
    "        if area > 5000:\n",
    "            cv.fillPoly(img_clean, [contour], 255)\n",
    "\n",
    "    kernel = np.ones((10,10),np.uint8)\n",
    "    img_clean = cv.dilate(img_clean,kernel,iterations = 1)\n",
    "    return img_clean"
   ]
  },
  {
   "cell_type": "markdown",
   "metadata": {},
   "source": [
    "Get coordinates of rectangle around ROI"
   ]
  },
  {
   "cell_type": "code",
   "execution_count": 49,
   "metadata": {},
   "outputs": [],
   "source": [
    "def get_coordinates(img, gap):\n",
    "    contours, _ = cv.findContours(img,cv.RETR_TREE,cv.CHAIN_APPROX_NONE)\n",
    "\n",
    "    if len(contours) == 0:\n",
    "        return []\n",
    "\n",
    "    y, x = img.shape\n",
    "    coords = []\n",
    "    \n",
    "    t, b, r, l = [-1, 9999999, -1, 9999999]\n",
    "    \n",
    "    for points in contours:\n",
    "        for p in points:\n",
    "            if t < p[0][1]:\n",
    "                t = p[0][1]\n",
    "            if b > p[0][1]:\n",
    "                b = p[0][1]\n",
    "            if l > p[0][0]:\n",
    "                l = p[0][0]\n",
    "            if r < p[0][0]:\n",
    "                r = p[0][0]\n",
    "\n",
    "    coords.append(t + gap if t + gap < y else y)\n",
    "    coords.append(b - gap if b - gap > -1 else 0)\n",
    "    coords.append(r + gap if r + gap < x else x)\n",
    "    coords.append(l - gap if l - gap > -1 else 0)\n",
    "\n",
    "    return coords"
   ]
  },
  {
   "cell_type": "markdown",
   "metadata": {},
   "source": [
    "Draw rectangle based on found coordinates"
   ]
  },
  {
   "cell_type": "code",
   "execution_count": 50,
   "metadata": {},
   "outputs": [],
   "source": [
    "def draw_rectangle(img, coords):\n",
    "\n",
    "    [t,b,r,l] = coords\n",
    "                \n",
    "    img_final = cv.rectangle(img, (l,b), (r,t), (255, 0, 0), 3)\n",
    "\n",
    "    return img_final"
   ]
  },
  {
   "cell_type": "markdown",
   "metadata": {},
   "source": [
    "Crop in coordinates     "
   ]
  },
  {
   "cell_type": "code",
   "execution_count": 51,
   "metadata": {},
   "outputs": [],
   "source": [
    "def crop_image(img, coords):\n",
    "    if len(coords) != 4:\n",
    "        return img\n",
    "    \n",
    "    [t,b,r,l] = coords\n",
    "    crop = img[b:t, l:r, :]\n",
    "\n",
    "    return crop"
   ]
  },
  {
   "cell_type": "markdown",
   "metadata": {},
   "source": [
    "Get maximized coordinates"
   ]
  },
  {
   "cell_type": "code",
   "execution_count": 52,
   "metadata": {},
   "outputs": [],
   "source": [
    "def get_max_coords(max_coords, coords):\n",
    "    if len(coords) != 4:\n",
    "        return max_coords\n",
    "\n",
    "    [t_m,b_m,r_m,l_m] = max_coords\n",
    "    [t,b,r,l] = coords\n",
    "\n",
    "    t_m = t if t_m > t else t_m\n",
    "    b_m = b if b_m < b else b_m\n",
    "    r_m = r if r_m < r else r_m\n",
    "    l_m = l if l_m > l else l_m\n",
    "\n",
    "    return [t_m,b_m,r_m,l_m]"
   ]
  },
  {
   "cell_type": "code",
   "execution_count": 53,
   "metadata": {},
   "outputs": [],
   "source": [
    "max_coords = [-1, 9999999, -1, 9999999]\n",
    "img_name = ''\n",
    "\n",
    "data = {\n",
    "    'name': [],\n",
    "    'coords': []\n",
    "}\n",
    "\n",
    "try:\n",
    "    for img_name in all_images:\n",
    "        data['name'].append(img_name)\n",
    "        img_rgb = read_image(img_name)\n",
    "\n",
    "        img_black_corners = highlight_black_corners(cv.cvtColor(img_rgb, cv.COLOR_BGR2GRAY))\n",
    "        coords_1 = get_coordinates(img_black_corners, 0)\n",
    "        crop = crop_image(img_rgb, coords_1)\n",
    "\n",
    "        img_gray = cv.cvtColor(crop, cv.COLOR_BGR2GRAY)\n",
    "        img_blue = crop[:,:,0]\n",
    "\n",
    "        img_thresh_gray = threshold_image(img_gray)\n",
    "        img_thresh_blue = threshold_image(img_blue)\n",
    "        \n",
    "        # save_image(img_name+'_thresh_gray.jpg', img_thresh_gray)\n",
    "        # save_image(img_name+'_thresh_blue.jpg', img_thresh_blue)\n",
    "\n",
    "        img_gray_no_corners = remove_corners(img_thresh_gray)\n",
    "        img_blue_no_corners = remove_corners(img_thresh_blue)\n",
    "\n",
    "        # save_image(img_name+'_gray_no_corners.jpg', img_gray_no_corners)\n",
    "        # save_image(img_name+'_blue_no_corners.jpg', img_blue_no_corners)\n",
    "\n",
    "        img_sum = add_gray_and_blue(img_gray_no_corners, img_blue_no_corners)\n",
    "        img_clean = remove_minimal_blobs(img_sum)\n",
    "\n",
    "        coords = get_coordinates(img_clean, 100)\n",
    "        \n",
    "        img_final = crop_image(crop, coords)\n",
    "        # print(coords, img_final.shape)\n",
    "        max_coords = get_max_coords(max_coords, coords)\n",
    "\n",
    "        data['coords'].append(' '.join(map(str,coords)))\n",
    "\n",
    "        save_image(img_name+'_final', img_final)\n",
    "except Exception as e: \n",
    "    print(img_name)\n",
    "    print(e)\n",
    "\n",
    "data['name'].append('max_coords')\n",
    "data['coords'].append(', '.join(map(str,max_coords)))"
   ]
  },
  {
   "cell_type": "code",
   "execution_count": 55,
   "metadata": {},
   "outputs": [],
   "source": [
    "pd.DataFrame(data).drop_duplicates().to_csv('..\\datasets\\ISIC2017\\Training_data_processed\\successfully_cutted\\cut_coords.csv')"
   ]
  }
 ],
 "metadata": {
  "kernelspec": {
   "display_name": "Python 3.10.6 ('venv': venv)",
   "language": "python",
   "name": "python3"
  },
  "language_info": {
   "codemirror_mode": {
    "name": "ipython",
    "version": 3
   },
   "file_extension": ".py",
   "mimetype": "text/x-python",
   "name": "python",
   "nbconvert_exporter": "python",
   "pygments_lexer": "ipython3",
   "version": "3.10.7"
  },
  "orig_nbformat": 4,
  "vscode": {
   "interpreter": {
    "hash": "5dddab3f9dcea3e0699dbfd5269a7c101e0ce7b95edb30a58b5ce5aac2bf385d"
   }
  }
 },
 "nbformat": 4,
 "nbformat_minor": 2
}
