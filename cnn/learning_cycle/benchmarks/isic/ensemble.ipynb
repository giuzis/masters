{
   "cells": [
      {
         "attachments": {},
         "cell_type": "markdown",
         "metadata": {},
         "source": [
            "Calculate ensemble average for all experiments"
         ]
      },
      {
         "cell_type": "code",
         "execution_count": 10,
         "metadata": {},
         "outputs": [
            {
               "name": "stdout",
               "output_type": "stream",
               "text": [
                  "Experimento:  dull_razor_shades_of_gray_cropped_images_folder_2\n",
                  "Experimento:  DA0_noPP\n",
                  "Experimento:  DA0_PP\n",
                  "Saving the scores in best_results/DA0_PP/ensemble_average/best\n",
                  "Saving the scores in best_results/DA0_PP/ensemble_average/last\n",
                  "Experimento:  dull_razor\n",
                  "Experimento:  DA1_noPP\n",
                  "Experimento:  shades_of_gray_cropped_images_folder\n",
                  "Experimento:  DA2_dull_razor_shades_of_gray_cropped_images_folder\n",
                  "Saving the scores in best_results/DA2_dull_razor_shades_of_gray_cropped_images_folder/ensemble_average/best\n",
                  "Saving the scores in best_results/DA2_dull_razor_shades_of_gray_cropped_images_folder/ensemble_average/last\n",
                  "Experimento:  dull_razor_shades_of_gray_cropped_images_folder\n",
                  "Experimento:  DA3_noPP\n",
                  "Experimento:  dull_razor_shades_of_gray\n",
                  "Experimento:  DA0_noPP_3\n",
                  "Saving the scores in best_results/DA0_noPP_3/ensemble_average/best\n",
                  "Saving the scores in best_results/DA0_noPP_3/ensemble_average/last\n",
                  "Experimento:  dull_razor_2\n",
                  "Experimento:  DA2_noPP_2\n",
                  "Saving the scores in best_results/DA2_noPP_2/ensemble_average/best\n",
                  "Saving the scores in best_results/DA2_noPP_2/ensemble_average/last\n",
                  "Experimento:  DA-2_shades_of_gray_cropped_images_folder_150_epochs\n",
                  "Saving the scores in best_results/DA-2_shades_of_gray_cropped_images_folder_150_epochs/ensemble_average/best\n",
                  "Saving the scores in best_results/DA-2_shades_of_gray_cropped_images_folder_150_epochs/ensemble_average/last\n",
                  "Experimento:  DA2_cropped_images_folder_150_epochs_lr_init_0001\n",
                  "Saving the scores in best_results/DA2_cropped_images_folder_150_epochs_lr_init_0001/ensemble_average/best\n",
                  "Saving the scores in best_results/DA2_cropped_images_folder_150_epochs_lr_init_0001/ensemble_average/last\n",
                  "Experimento:  non_local_means_cropped_images_folder\n",
                  "Experimento:  DA1_PPcropped\n",
                  "Experimento:  gaussian_filter_2\n",
                  "Experimento:  CLAHE_cropped_images_folder\n",
                  "Experimento:  dull_razor_cropped_images_folder\n",
                  "Experimento:  dropout_05\n",
                  "Erro no experimento  dropout_05\n",
                  "[Errno 2] No such file or directory: 'best_results/dropout_05/seresnext101_32x8d_fold-1_lrinit-0.0001_batchsize-32_optimizer-Adam_maxepochs-50_DA-None_PPen-None_PPha-None_PPco-None_PPde-None_PPno-True_PPcr-None_PPre-True_drop-0.5_trainjustclassifier-False_16805547061762884/test_pred_best/predictions.csv'\n",
                  "Experimento:  noDA_PPcropped_2\n",
                  "Saving the scores in best_results/noDA_PPcropped_2/ensemble_average/best\n",
                  "Saving the scores in best_results/noDA_PPcropped_2/ensemble_average/last\n",
                  "Experimento:  DA2_noPP\n",
                  "Experimento:  DA0_noPP_2\n",
                  "Saving the scores in best_results/DA0_noPP_2/ensemble_average/best\n",
                  "Saving the scores in best_results/DA0_noPP_2/ensemble_average/last\n",
                  "Experimento:  CLAHE_2\n",
                  "Experimento:  mean_filter_cropped_images_folder\n",
                  "Experimento:  train_classifier_only\n",
                  "Saving the scores in best_results/train_classifier_only/ensemble_average/best\n",
                  "Saving the scores in best_results/train_classifier_only/ensemble_average/last\n",
                  "Experimento:  non_local_means\n",
                  "Experimento:  dropout_02\n",
                  "Erro no experimento  dropout_02\n",
                  "[Errno 2] No such file or directory: 'best_results/dropout_02/tf_efficientnet_b5_fold-1_lrinit-0.0001_batchsize-8_optimizer-AdamW_maxepochs-50_DA-None_PPen-None_PPha-None_PPco-None_PPde-None_PPno-True_PPcr-None_PPre-True_drop-0.2_trainjustclassifier-False_16805668596310365/test_pred_best/predictions.csv'\n",
                  "Experimento:  non_local_means_2\n",
                  "Experimento:  gaussian_filter_cropped_images_folder\n",
                  "Experimento:  DA4_noPP\n",
                  "Saving the scores in best_results/DA4_noPP/ensemble_average/best\n",
                  "Saving the scores in best_results/DA4_noPP/ensemble_average/last\n",
                  "Experimento:  DA0_PP_100epochs\n"
               ]
            },
            {
               "name": "stderr",
               "output_type": "stream",
               "text": [
                  "/home/a52550/Desktop/masters/cnn/learning_cycle/benchmarks/isic/raug/utils/classification_metrics_2.py:348: RuntimeWarning: More than 20 figures have been opened. Figures created through the pyplot interface (`matplotlib.pyplot.figure`) are retained until explicitly closed and may consume too much memory. (To control this warning, see the rcParam `figure.max_open_warning`).\n",
                  "  plt.figure()\n"
               ]
            },
            {
               "name": "stdout",
               "output_type": "stream",
               "text": [
                  "Saving the scores in best_results/DA0_PP_100epochs/ensemble_average/best\n",
                  "Saving the scores in best_results/DA0_PP_100epochs/ensemble_average/last\n",
                  "Experimento:  dull_razor_shades_of_gray_2\n",
                  "Saving the scores in best_results/dull_razor_shades_of_gray_2/ensemble_average/best\n",
                  "Saving the scores in best_results/dull_razor_shades_of_gray_2/ensemble_average/last\n",
                  "Experimento:  gaussian_filter\n",
                  "Experimento:  shades_of_gray_2\n",
                  "Saving the scores in best_results/shades_of_gray_2/ensemble_average/best\n",
                  "Saving the scores in best_results/shades_of_gray_2/ensemble_average/last\n",
                  "Experimento:  noDA_dull_razor\n",
                  "Saving the scores in best_results/noDA_dull_razor/ensemble_average/best\n",
                  "Saving the scores in best_results/noDA_dull_razor/ensemble_average/last\n",
                  "Experimento:  noDA_noPP\n",
                  "Experimento:  shades_of_gray\n",
                  "Experimento:  mean_filter\n",
                  "Experimento:  mean_filter_2\n",
                  "Experimento:  noDA_noPP_2\n",
                  "Saving the scores in best_results/noDA_noPP_2/ensemble_average/best\n",
                  "Saving the scores in best_results/noDA_noPP_2/ensemble_average/last\n",
                  "Experimento:  DA0_PPcropped\n",
                  "Experimento:  DA2_shades_of_gray_CLAHE_cropped_images_folder\n",
                  "Saving the scores in best_results/DA2_shades_of_gray_CLAHE_cropped_images_folder/ensemble_average/best\n",
                  "Saving the scores in best_results/DA2_shades_of_gray_CLAHE_cropped_images_folder/ensemble_average/last\n",
                  "Experimento:  noDA_PPcropped\n",
                  "Experimento:  CLAHE\n"
               ]
            },
            {
               "data": {
                  "text/plain": [
                     "<Figure size 640x480 with 0 Axes>"
                  ]
               },
               "metadata": {},
               "output_type": "display_data"
            },
            {
               "data": {
                  "text/plain": [
                     "<Figure size 640x480 with 0 Axes>"
                  ]
               },
               "metadata": {},
               "output_type": "display_data"
            },
            {
               "data": {
                  "text/plain": [
                     "<Figure size 640x480 with 0 Axes>"
                  ]
               },
               "metadata": {},
               "output_type": "display_data"
            },
            {
               "data": {
                  "text/plain": [
                     "<Figure size 640x480 with 0 Axes>"
                  ]
               },
               "metadata": {},
               "output_type": "display_data"
            },
            {
               "data": {
                  "text/plain": [
                     "<Figure size 640x480 with 0 Axes>"
                  ]
               },
               "metadata": {},
               "output_type": "display_data"
            },
            {
               "data": {
                  "text/plain": [
                     "<Figure size 640x480 with 0 Axes>"
                  ]
               },
               "metadata": {},
               "output_type": "display_data"
            },
            {
               "data": {
                  "text/plain": [
                     "<Figure size 640x480 with 0 Axes>"
                  ]
               },
               "metadata": {},
               "output_type": "display_data"
            },
            {
               "data": {
                  "text/plain": [
                     "<Figure size 640x480 with 0 Axes>"
                  ]
               },
               "metadata": {},
               "output_type": "display_data"
            },
            {
               "data": {
                  "text/plain": [
                     "<Figure size 640x480 with 0 Axes>"
                  ]
               },
               "metadata": {},
               "output_type": "display_data"
            },
            {
               "data": {
                  "text/plain": [
                     "<Figure size 640x480 with 0 Axes>"
                  ]
               },
               "metadata": {},
               "output_type": "display_data"
            },
            {
               "data": {
                  "text/plain": [
                     "<Figure size 640x480 with 0 Axes>"
                  ]
               },
               "metadata": {},
               "output_type": "display_data"
            },
            {
               "data": {
                  "text/plain": [
                     "<Figure size 640x480 with 0 Axes>"
                  ]
               },
               "metadata": {},
               "output_type": "display_data"
            },
            {
               "data": {
                  "text/plain": [
                     "<Figure size 640x480 with 0 Axes>"
                  ]
               },
               "metadata": {},
               "output_type": "display_data"
            },
            {
               "data": {
                  "text/plain": [
                     "<Figure size 640x480 with 0 Axes>"
                  ]
               },
               "metadata": {},
               "output_type": "display_data"
            },
            {
               "data": {
                  "text/plain": [
                     "<Figure size 640x480 with 0 Axes>"
                  ]
               },
               "metadata": {},
               "output_type": "display_data"
            },
            {
               "data": {
                  "text/plain": [
                     "<Figure size 640x480 with 0 Axes>"
                  ]
               },
               "metadata": {},
               "output_type": "display_data"
            },
            {
               "data": {
                  "text/plain": [
                     "<Figure size 640x480 with 0 Axes>"
                  ]
               },
               "metadata": {},
               "output_type": "display_data"
            },
            {
               "data": {
                  "text/plain": [
                     "<Figure size 640x480 with 0 Axes>"
                  ]
               },
               "metadata": {},
               "output_type": "display_data"
            },
            {
               "data": {
                  "text/plain": [
                     "<Figure size 640x480 with 0 Axes>"
                  ]
               },
               "metadata": {},
               "output_type": "display_data"
            },
            {
               "data": {
                  "text/plain": [
                     "<Figure size 640x480 with 0 Axes>"
                  ]
               },
               "metadata": {},
               "output_type": "display_data"
            },
            {
               "data": {
                  "text/plain": [
                     "<Figure size 640x480 with 0 Axes>"
                  ]
               },
               "metadata": {},
               "output_type": "display_data"
            },
            {
               "data": {
                  "text/plain": [
                     "<Figure size 640x480 with 0 Axes>"
                  ]
               },
               "metadata": {},
               "output_type": "display_data"
            },
            {
               "data": {
                  "text/plain": [
                     "<Figure size 640x480 with 0 Axes>"
                  ]
               },
               "metadata": {},
               "output_type": "display_data"
            },
            {
               "data": {
                  "text/plain": [
                     "<Figure size 640x480 with 0 Axes>"
                  ]
               },
               "metadata": {},
               "output_type": "display_data"
            },
            {
               "data": {
                  "text/plain": [
                     "<Figure size 640x480 with 0 Axes>"
                  ]
               },
               "metadata": {},
               "output_type": "display_data"
            },
            {
               "data": {
                  "text/plain": [
                     "<Figure size 640x480 with 0 Axes>"
                  ]
               },
               "metadata": {},
               "output_type": "display_data"
            },
            {
               "data": {
                  "text/plain": [
                     "<Figure size 640x480 with 0 Axes>"
                  ]
               },
               "metadata": {},
               "output_type": "display_data"
            },
            {
               "data": {
                  "text/plain": [
                     "<Figure size 640x480 with 0 Axes>"
                  ]
               },
               "metadata": {},
               "output_type": "display_data"
            },
            {
               "data": {
                  "text/plain": [
                     "<Figure size 640x480 with 0 Axes>"
                  ]
               },
               "metadata": {},
               "output_type": "display_data"
            },
            {
               "data": {
                  "text/plain": [
                     "<Figure size 640x480 with 0 Axes>"
                  ]
               },
               "metadata": {},
               "output_type": "display_data"
            },
            {
               "data": {
                  "text/plain": [
                     "<Figure size 640x480 with 0 Axes>"
                  ]
               },
               "metadata": {},
               "output_type": "display_data"
            },
            {
               "data": {
                  "text/plain": [
                     "<Figure size 640x480 with 0 Axes>"
                  ]
               },
               "metadata": {},
               "output_type": "display_data"
            }
         ],
         "source": [
            "import os\n",
            "import numpy as np\n",
            "from raug.metrics_2 import Metrics, accuracy\n",
            "from raug.utils.loader import get_labels_frequency\n",
            "import pandas as pd\n",
            "\n",
            "# Especificar o caminho para a pasta \"best_results\"\n",
            "folder_path = \"best_results\"\n",
            "_csv_path_test = \"/home/a52550/Desktop/datasets/ISIC2017/test/ISIC-2017_Test_v2_Part3_GroundTruth.csv\"\n",
            "true_labels = pd.read_csv(_csv_path_test).sort_values(by=['image_id'])['category']\n",
            "\n",
            "# Inicializar as variáveis para armazenar as previsões dos modelos\n",
            "ensemble_preds_best = None\n",
            "ensemble_preds_last = None\n",
            "num_models = 0\n",
            "ser_lab_freq = get_labels_frequency(_csv_path_test, \"category\", \"image_id\")\n",
            "_labels_name = ser_lab_freq.index.values #np.reshape(ser_lab_freq.index.values, (ser_lab_freq.index.values.shape[0], 1))\n",
            "\n",
            "df_best = pd.DataFrame()\n",
            "df_last = pd.DataFrame()\n",
            "\n",
            "# Percorrer as pastas de cada experimento\n",
            "for experiment_folder in os.listdir(folder_path):\n",
            "\n",
            "    if \".csv\" in experiment_folder:\n",
            "        continue\n",
            "\n",
            "    print(\"Experimento: \", experiment_folder)\n",
            "\n",
            "    _metric_options_best = {\n",
            "        'save_all_path': os.path.join(folder_path, experiment_folder, 'ensemble_average/best'),\n",
            "        'pred_name_scores': 'predictions.csv',\n",
            "    }\n",
            "    _metric_options_last = {\n",
            "        'save_all_path': os.path.join(folder_path, experiment_folder, 'ensemble_average/last'),\n",
            "        'pred_name_scores': 'predictions.csv',\n",
            "    }\n",
            "\n",
            "\n",
            "    experiment_path = os.path.join(folder_path, experiment_folder)\n",
            "    metrics_best = Metrics ([\"accuracy\", \"topk_accuracy\", \"balanced_accuracy\", \"conf_matrix\" \"plot_conf_matrix\", \"precision_recall_report\", \"auc_and_roc_curve\", \"auc\"] , _labels_name, _metric_options_best)\n",
            "    metrics_last = Metrics ([\"accuracy\", \"topk_accuracy\", \"balanced_accuracy\", \"conf_matrix\" \"plot_conf_matrix\", \"precision_recall_report\", \"auc_and_roc_curve\", \"auc\"] , _labels_name, _metric_options_last)\n",
            "\n",
            "    ensemble_preds_best = None\n",
            "    ensemble_preds_last = None\n",
            "\n",
            "    model_folders = os.listdir(experiment_path)\n",
            "\n",
            "    # Check if substring \"senet154\" is present in model_folders\n",
            "    if any(\"senet154\" in s for s in model_folders):\n",
            "        continue\n",
            "\n",
            "    \n",
            "    # Cria path para o experimento atual\n",
            "    if 'ensemble_average' in model_folders:\n",
            "        model_folders.remove('ensemble_average')\n",
            "    else:\n",
            "        os.mkdir(os.path.join(folder_path, experiment_folder, 'ensemble_average'))\n",
            "        os.mkdir(os.path.join(_metric_options_best['save_all_path']))\n",
            "        os.mkdir(os.path.join(_metric_options_last['save_all_path']))\n",
            "\n",
            "    if 'ensemble_3_best_average' in model_folders:\n",
            "        model_folders.remove('ensemble_3_best_average')\n",
            "    \n",
            "    if 'ensemble_votation' in model_folders:\n",
            "        model_folders.remove('ensemble_votation')\n",
            "\n",
            "    model_folders = [x for x in model_folders if \".csv\" not in x]\n",
            "\n",
            "    try:\n",
            "\n",
            "        # Percorrer as pastas de cada modelo\n",
            "        for model_folder in model_folders:\n",
            "\n",
            "            model_path = os.path.join(experiment_path, model_folder)\n",
            "\n",
            "            # Carregar as previsões do modelo atual\n",
            "            model_preds_path_best = os.path.join(model_path, \"test_pred_best/predictions.csv\")\n",
            "            model_preds_path_last = os.path.join(model_path, \"test_pred_last/predictions.csv\")\n",
            "\n",
            "            model_preds_best = pd.read_csv(model_preds_path_best).sort_values(by=['image'])\n",
            "            model_preds_last = pd.read_csv(model_preds_path_last).sort_values(by=['image'])\n",
            "\n",
            "            images_id = model_preds_best[['image']]\n",
            "            model_preds_best = model_preds_best[['0','1','2']]\n",
            "            model_preds_last = model_preds_last[['0','1','2']]\n",
            "\n",
            "            # Adicionar as previsões do modelo atual ao ensemble\n",
            "            if ensemble_preds_best is None:\n",
            "                ensemble_preds_best = model_preds_best\n",
            "            else:\n",
            "                ensemble_preds_best += model_preds_best\n",
            "\n",
            "            if ensemble_preds_last is None:\n",
            "                ensemble_preds_last = model_preds_last\n",
            "            else:\n",
            "                ensemble_preds_last += model_preds_last\n",
            "\n",
            "            num_models += 1\n",
            "\n",
            "        # Calcular a média das previsões dos modelos\n",
            "        ensemble_preds_best /= num_models\n",
            "        ensemble_preds_last /= num_models\n",
            "\n",
            "        metrics_best.update_scores(true_labels, ensemble_preds_best.to_numpy(), images_id.to_numpy())\n",
            "        metrics_last.update_scores(true_labels, ensemble_preds_last.to_numpy(), images_id.to_numpy())\n",
            "\n",
            "        metrics_best.compute_metrics()\n",
            "        metrics_last.compute_metrics()\n",
            "\n",
            "        metrics_best.save_scores()\n",
            "        metrics_last.save_scores()\n",
            "\n",
            "        for auc_metric in metrics_best.metrics_values['auc_and_roc_curve'][0]:\n",
            "            metrics_best.metrics_values[\"auc_\" + str(auc_metric)] = metrics_best.metrics_values['auc_and_roc_curve'][0][auc_metric]\n",
            "            metrics_last.metrics_values[\"auc_\" + str(auc_metric)] = metrics_last.metrics_values['auc_and_roc_curve'][0][auc_metric]\n",
            "\n",
            "        folder_name = {'folder_name': experiment_folder}\n",
            "        dict_best = {**folder_name, **metrics_best.metrics_values}\n",
            "        dict_last = {**folder_name, **metrics_last.metrics_values}\n",
            "\n",
            "        del dict_best['auc_and_roc_curve']\n",
            "        del dict_best['precision_recall_report']\n",
            "\n",
            "        del dict_last['auc_and_roc_curve']\n",
            "        del dict_last['precision_recall_report']\n",
            "\n",
            "        df_best = df_best.append(pd.DataFrame(dict_best, columns=dict_best.keys(), index=[0]), ignore_index=True)\n",
            "        df_last = df_last.append(pd.DataFrame(dict_last, columns=dict_last.keys(), index=[0]), ignore_index=True)\n",
            "\n",
            "    except Exception as e:\n",
            "        print(\"Erro no experimento \", experiment_folder)\n",
            "        print(e)\n",
            "\n",
            "\n",
            "df_best.to_csv(os.path.join(folder_path, 'ensemble_average_best.csv'), index=False)\n",
            "df_last.to_csv(os.path.join(folder_path, 'ensemble_average_last.csv'), index=False)\n",
            "\n",
            "# Avaliar a precisão do modelo de ensemble\n",
            "# true_classes_path = os.path.join(folder_path, \"true_classes.csv\")\n",
            "# true_classes = np.loadtxt(_csv_path_test, delimiter=\",\", skiprows=1)\n",
            "\n",
            "# from sklearn.metrics import accuracy_score, precision_score, recall_score, f1_score\n",
            "\n",
            "# accuracy = accuracy_score(true_classes, ensemble_classes)\n",
            "# precision = precision_score(true_classes, ensemble_classes, average=\"macro\")\n",
            "# recall = recall_score(true_classes, ensemble_classes, average=\"macro\")\n",
            "# f1 = f1_score(true_classes, ensemble_classes, average=\"macro\")\n",
            "\n",
            "# # Imprimir as métricas de avaliação\n",
            "# print(f\"Acurácia: {accuracy:.3f}\")\n",
            "# print(f\"Precisão: {precision:.3f}\")\n",
            "# print(f\"Recall: {recall:.3f}\")\n",
            "# print(f\"F1-score: {f1:.3f}\")\n"
         ]
      },
      {
         "attachments": {},
         "cell_type": "markdown",
         "metadata": {},
         "source": [
            "Calculate ensemble average of the best 3 models for all experiments"
         ]
      },
      {
         "cell_type": "code",
         "execution_count": 19,
         "metadata": {},
         "outputs": [
            {
               "name": "stdout",
               "output_type": "stream",
               "text": [
                  "Experimento  dull_razor_shades_of_gray_cropped_images_folder_2  não será avaliado\n",
                  "Experimento  DA0_noPP  não será avaliado\n",
                  "Experimento:  DA0_PP\n",
                  "Saving the scores in best_results/DA0_PP/ensemble_3_best_average/best\n",
                  "Experimento  dull_razor  não será avaliado\n",
                  "Experimento  DA1_noPP  não será avaliado\n",
                  "Experimento  shades_of_gray_cropped_images_folder  não será avaliado\n",
                  "Experimento:  DA2_dull_razor_shades_of_gray_cropped_images_folder\n",
                  "Saving the scores in best_results/DA2_dull_razor_shades_of_gray_cropped_images_folder/ensemble_3_best_average/best\n",
                  "Experimento  dull_razor_shades_of_gray_cropped_images_folder  não será avaliado\n",
                  "Experimento  DA3_noPP  não será avaliado\n",
                  "Experimento  dull_razor_shades_of_gray  não será avaliado\n",
                  "Experimento:  DA0_noPP_3\n",
                  "Saving the scores in best_results/DA0_noPP_3/ensemble_3_best_average/best\n",
                  "Experimento  dull_razor_2  não será avaliado\n",
                  "Experimento:  DA2_noPP_2\n",
                  "Saving the scores in best_results/DA2_noPP_2/ensemble_3_best_average/best\n",
                  "Experimento:  DA-2_shades_of_gray_cropped_images_folder_150_epochs\n",
                  "Saving the scores in best_results/DA-2_shades_of_gray_cropped_images_folder_150_epochs/ensemble_3_best_average/best\n",
                  "Experimento:  DA2_cropped_images_folder_150_epochs_lr_init_0001\n",
                  "Saving the scores in best_results/DA2_cropped_images_folder_150_epochs_lr_init_0001/ensemble_3_best_average/best\n",
                  "Experimento  non_local_means_cropped_images_folder  não será avaliado\n",
                  "Experimento  DA1_PPcropped  não será avaliado\n",
                  "Experimento  gaussian_filter_2  não será avaliado\n",
                  "Experimento  CLAHE_cropped_images_folder  não será avaliado\n",
                  "Experimento  dull_razor_cropped_images_folder  não será avaliado\n",
                  "Experimento:  dropout_05\n",
                  "Error:  [Errno 2] No such file or directory: 'best_results/dropout_05/seresnext101_32x8d_fold-1_lrinit-0.0001_batchsize-32_optimizer-Adam_maxepochs-50_DA-None_PPen-None_PPha-None_PPco-None_PPde-None_PPno-True_PPcr-None_PPre-True_drop-0.5_trainjustclassifier-False_16805547061762884/test_pred_best/predictions.csv'\n",
                  "Experimento:  noDA_PPcropped_2\n",
                  "Saving the scores in best_results/noDA_PPcropped_2/ensemble_3_best_average/best\n",
                  "Experimento  DA2_noPP  não será avaliado\n",
                  "Experimento:  DA0_noPP_2\n",
                  "Saving the scores in best_results/DA0_noPP_2/ensemble_3_best_average/best\n",
                  "Experimento  CLAHE_2  não será avaliado\n",
                  "Experimento  mean_filter_cropped_images_folder  não será avaliado\n",
                  "Experimento:  train_classifier_only\n",
                  "Saving the scores in best_results/train_classifier_only/ensemble_3_best_average/best\n",
                  "Experimento  non_local_means  não será avaliado\n",
                  "Experimento:  dropout_02\n",
                  "Error:  [Errno 2] No such file or directory: 'best_results/dropout_02/tf_efficientnet_b5_fold-1_lrinit-0.0001_batchsize-8_optimizer-AdamW_maxepochs-50_DA-None_PPen-None_PPha-None_PPco-None_PPde-None_PPno-True_PPcr-None_PPre-True_drop-0.2_trainjustclassifier-False_16805668596310365/test_pred_best/predictions.csv'\n",
                  "Experimento  non_local_means_2  não será avaliado\n",
                  "Experimento  gaussian_filter_cropped_images_folder  não será avaliado\n",
                  "Experimento:  DA4_noPP\n",
                  "Saving the scores in best_results/DA4_noPP/ensemble_3_best_average/best\n",
                  "Experimento:  DA0_PP_100epochs\n",
                  "Saving the scores in best_results/DA0_PP_100epochs/ensemble_3_best_average/best\n",
                  "Experimento:  dull_razor_shades_of_gray_2\n",
                  "Saving the scores in best_results/dull_razor_shades_of_gray_2/ensemble_3_best_average/best\n",
                  "Experimento  gaussian_filter  não será avaliado\n",
                  "Experimento:  shades_of_gray_2\n",
                  "Saving the scores in best_results/shades_of_gray_2/ensemble_3_best_average/best\n",
                  "Experimento:  noDA_dull_razor\n",
                  "Saving the scores in best_results/noDA_dull_razor/ensemble_3_best_average/best\n",
                  "Experimento  noDA_noPP  não será avaliado\n",
                  "Experimento  shades_of_gray  não será avaliado\n",
                  "Experimento  mean_filter  não será avaliado\n",
                  "Experimento  mean_filter_2  não será avaliado\n",
                  "Experimento:  noDA_noPP_2\n",
                  "Saving the scores in best_results/noDA_noPP_2/ensemble_3_best_average/best\n",
                  "Experimento  DA0_PPcropped  não será avaliado\n",
                  "Experimento:  DA2_shades_of_gray_CLAHE_cropped_images_folder\n",
                  "Saving the scores in best_results/DA2_shades_of_gray_CLAHE_cropped_images_folder/ensemble_3_best_average/best\n",
                  "Experimento  noDA_PPcropped  não será avaliado\n",
                  "Experimento  CLAHE  não será avaliado\n"
               ]
            },
            {
               "data": {
                  "text/plain": [
                     "<Figure size 640x480 with 0 Axes>"
                  ]
               },
               "metadata": {},
               "output_type": "display_data"
            },
            {
               "data": {
                  "text/plain": [
                     "<Figure size 640x480 with 0 Axes>"
                  ]
               },
               "metadata": {},
               "output_type": "display_data"
            },
            {
               "data": {
                  "text/plain": [
                     "<Figure size 640x480 with 0 Axes>"
                  ]
               },
               "metadata": {},
               "output_type": "display_data"
            },
            {
               "data": {
                  "text/plain": [
                     "<Figure size 640x480 with 0 Axes>"
                  ]
               },
               "metadata": {},
               "output_type": "display_data"
            },
            {
               "data": {
                  "text/plain": [
                     "<Figure size 640x480 with 0 Axes>"
                  ]
               },
               "metadata": {},
               "output_type": "display_data"
            },
            {
               "data": {
                  "text/plain": [
                     "<Figure size 640x480 with 0 Axes>"
                  ]
               },
               "metadata": {},
               "output_type": "display_data"
            },
            {
               "data": {
                  "text/plain": [
                     "<Figure size 640x480 with 0 Axes>"
                  ]
               },
               "metadata": {},
               "output_type": "display_data"
            },
            {
               "data": {
                  "text/plain": [
                     "<Figure size 640x480 with 0 Axes>"
                  ]
               },
               "metadata": {},
               "output_type": "display_data"
            },
            {
               "data": {
                  "text/plain": [
                     "<Figure size 640x480 with 0 Axes>"
                  ]
               },
               "metadata": {},
               "output_type": "display_data"
            },
            {
               "data": {
                  "text/plain": [
                     "<Figure size 640x480 with 0 Axes>"
                  ]
               },
               "metadata": {},
               "output_type": "display_data"
            },
            {
               "data": {
                  "text/plain": [
                     "<Figure size 640x480 with 0 Axes>"
                  ]
               },
               "metadata": {},
               "output_type": "display_data"
            },
            {
               "data": {
                  "text/plain": [
                     "<Figure size 640x480 with 0 Axes>"
                  ]
               },
               "metadata": {},
               "output_type": "display_data"
            },
            {
               "data": {
                  "text/plain": [
                     "<Figure size 640x480 with 0 Axes>"
                  ]
               },
               "metadata": {},
               "output_type": "display_data"
            },
            {
               "data": {
                  "text/plain": [
                     "<Figure size 640x480 with 0 Axes>"
                  ]
               },
               "metadata": {},
               "output_type": "display_data"
            },
            {
               "data": {
                  "text/plain": [
                     "<Figure size 640x480 with 0 Axes>"
                  ]
               },
               "metadata": {},
               "output_type": "display_data"
            },
            {
               "data": {
                  "text/plain": [
                     "<Figure size 640x480 with 0 Axes>"
                  ]
               },
               "metadata": {},
               "output_type": "display_data"
            }
         ],
         "source": [
            "import os\n",
            "import numpy as np\n",
            "from raug.metrics_2 import Metrics, accuracy\n",
            "from raug.utils.loader import get_labels_frequency\n",
            "import pandas as pd\n",
            "from raug.utils import classification_metrics as cmet\n",
            "\n",
            "# Especificar o caminho para a pasta \"best_results\"\n",
            "folder_path = \"best_results\"\n",
            "_csv_path_test = \"/home/a52550/Desktop/datasets/ISIC2017/test/ISIC-2017_Test_v2_Part3_GroundTruth.csv\"\n",
            "true_labels = pd.read_csv(_csv_path_test).sort_values(by=['image_id'])['category']\n",
            "\n",
            "# Inicializar as variáveis para armazenar as previsões dos modelos\n",
            "ensemble_preds_best = None\n",
            "ensemble_preds_last = None\n",
            "num_models = 0\n",
            "ser_lab_freq = get_labels_frequency(_csv_path_test, \"category\", \"image_id\")\n",
            "_labels_name = ser_lab_freq.index.values #np.reshape(ser_lab_freq.index.values, (ser_lab_freq.index.values.shape[0], 1))\n",
            "\n",
            "df_best = pd.DataFrame()\n",
            "df_last = pd.DataFrame()\n",
            "\n",
            "# Percorrer as pastas de cada experimento\n",
            "for experiment_folder in os.listdir(folder_path):\n",
            "\n",
            "    try:\n",
            "        if \".csv\" in experiment_folder:\n",
            "            continue\n",
            "\n",
            "        options = {\n",
            "            'save_all_path': os.path.join(folder_path, experiment_folder, 'ensemble_3_best_average/best'),\n",
            "            'pred_name_scores': 'predictions.csv',\n",
            "        }\n",
            "\n",
            "\n",
            "        experiment_path = os.path.join(folder_path, experiment_folder)\n",
            "\n",
            "        ensemble_preds_best = None\n",
            "\n",
            "        model_folders = os.listdir(experiment_path)\n",
            "\n",
            "        model_folders = [x for x in model_folders if \".csv\" not in x]\n",
            "\n",
            "        # Check if substring \"senet154\" is present in model_folders\n",
            "        if any(\"senet154\" in s for s in model_folders):\n",
            "            print(\"Experimento \", experiment_folder, \" não será avaliado\")\n",
            "            continue\n",
            "\n",
            "        print(\"Experimento: \", experiment_folder)\n",
            "\n",
            "        \n",
            "        # Cria path para o experimento atual\n",
            "        if 'ensemble_average' in model_folders:\n",
            "            model_folders.remove('ensemble_average')\n",
            "        if 'ensemble_votation' in model_folders:\n",
            "            model_folders.remove('ensemble_votation')\n",
            "        if 'ensemble_3_best_average' in model_folders:\n",
            "            model_folders.remove('ensemble_3_best_average')\n",
            "        else:\n",
            "            os.mkdir(os.path.join(folder_path, experiment_folder, 'ensemble_3_best_average'))\n",
            "            os.mkdir(os.path.join(folder_path, experiment_folder, 'ensemble_3_best_average/best'))\n",
            "\n",
            "        best_balanced_accuracy = 0\n",
            "        current_balanced_acuracy = 0\n",
            "        best_metric_ensemble = None\n",
            "\n",
            "        # Percorrer as pastas de cada modelo\n",
            "        for i1 in range(len(model_folders)-1):\n",
            "            for i2 in range(i1+1, len(model_folders)-1):\n",
            "                for i3 in range(i2+1, len(model_folders)-1):\n",
            "                    ensemble_folders = [model_folders[i1], model_folders[i2], model_folders[i3]]\n",
            "\n",
            "                    metrics_best.options = None\n",
            "\n",
            "                    for model_folder in ensemble_folders:\n",
            "\n",
            "                        model_path = os.path.join(experiment_path, model_folder)\n",
            "\n",
            "                        # Carregar as previsões do modelo atual\n",
            "                        model_preds_path_best = os.path.join(model_path, \"test_pred_best/predictions.csv\")\n",
            "\n",
            "                        model_preds_best = pd.read_csv(model_preds_path_best).sort_values(by=['image'])\n",
            "\n",
            "                        images_id = model_preds_best[['image']]\n",
            "                        model_preds_best = model_preds_best[['0','1','2']]\n",
            "\n",
            "                        # Adicionar as previsões do modelo atual ao ensemble\n",
            "                        if ensemble_preds_best is None:\n",
            "                            ensemble_preds_best = model_preds_best\n",
            "                        else:\n",
            "                            ensemble_preds_best += model_preds_best\n",
            "\n",
            "                        num_models += 1\n",
            "\n",
            "                    # Calcular a média das previsões dos modelos\n",
            "                    ensemble_preds_best /= num_models\n",
            "                    \n",
            "                    # Calcular a balanced accuracy\n",
            "                    current_balanced_acuracy = cmet.balanced_accuracy(true_labels, ensemble_preds_best.to_numpy())\n",
            "\n",
            "\n",
            "                    if current_balanced_acuracy > best_balanced_accuracy:\n",
            "                        best_balanced_accuracy = current_balanced_acuracy\n",
            "\n",
            "                        best_metric_ensemble = Metrics ([\"accuracy\", \"topk_accuracy\", \"balanced_accuracy\", \"conf_matrix\" \"plot_conf_matrix\", \"precision_recall_report\", \"auc_and_roc_curve\", \"auc\"], _labels_name, options)\n",
            "                        best_metric_ensemble.update_scores(true_labels.to_numpy(), ensemble_preds_best.to_numpy(), images_id.to_numpy())\n",
            "\n",
            "                        best_experiment = experiment_folder\n",
            "\n",
            "                        ensemble_data = {\n",
            "                            'folder_name': experiment_folder,\n",
            "                            'ensemble_3_best': ensemble_folders[0].split('fold')[0] + \"_\" + ensemble_folders[1].split('fold')[0] + \"_\" + ensemble_folders[2].split('fold')[0]\n",
            "                        }\n",
            "                        \n",
            "\n",
            "                    ensemble_preds_best = None\n",
            "\n",
            "        best_metric_ensemble.compute_metrics()\n",
            "        best_metric_ensemble.save_scores()\n",
            "\n",
            "        for auc_metric in best_metric_ensemble.metrics_values['auc_and_roc_curve'][0]:\n",
            "            best_metric_ensemble.metrics_values[\"auc_\" + str(auc_metric)] = best_metric_ensemble.metrics_values['auc_and_roc_curve'][0][auc_metric]\n",
            "        \n",
            "        dict_best = {**ensemble_data, **best_metric_ensemble.metrics_values}\n",
            "\n",
            "        del dict_best['auc_and_roc_curve']\n",
            "        del dict_best['precision_recall_report']\n",
            "        # del dict_best['conf_matrix']\n",
            "        \n",
            "        df_best = df_best.append(pd.DataFrame(dict_best, columns=dict_best.keys(), index=[0]), ignore_index=True)\n",
            "    except Exception as e:\n",
            "        print('Error: ', e)\n",
            "        continue\n",
            "\n",
            "df_best.to_csv(os.path.join(folder_path, 'ensemble_3_best_average_best.csv'), index=False)\n"
         ]
      },
      {
         "attachments": {},
         "cell_type": "markdown",
         "metadata": {},
         "source": [
            "Calculate ensemble by voting for all experiments"
         ]
      },
      {
         "cell_type": "code",
         "execution_count": 20,
         "metadata": {},
         "outputs": [
            {
               "name": "stdout",
               "output_type": "stream",
               "text": [
                  "Experimento:  dull_razor_shades_of_gray_cropped_images_folder_2\n",
                  "Experimento:  DA0_noPP\n",
                  "Experimento:  DA0_PP\n",
                  "Saving the scores in best_results/DA0_PP/ensemble_votation/best\n",
                  "Saving the scores in best_results/DA0_PP/ensemble_votation/last\n",
                  "Experimento:  dull_razor\n",
                  "Experimento:  DA1_noPP\n",
                  "Experimento:  shades_of_gray_cropped_images_folder\n",
                  "Experimento:  DA2_dull_razor_shades_of_gray_cropped_images_folder\n",
                  "Saving the scores in best_results/DA2_dull_razor_shades_of_gray_cropped_images_folder/ensemble_votation/best\n",
                  "Saving the scores in best_results/DA2_dull_razor_shades_of_gray_cropped_images_folder/ensemble_votation/last\n",
                  "Experimento:  dull_razor_shades_of_gray_cropped_images_folder\n",
                  "Experimento:  DA3_noPP\n",
                  "Experimento:  dull_razor_shades_of_gray\n",
                  "Experimento:  DA0_noPP_3\n",
                  "Saving the scores in best_results/DA0_noPP_3/ensemble_votation/best\n",
                  "Saving the scores in best_results/DA0_noPP_3/ensemble_votation/last\n",
                  "Experimento:  dull_razor_2\n",
                  "Experimento:  DA2_noPP_2\n",
                  "Saving the scores in best_results/DA2_noPP_2/ensemble_votation/best\n",
                  "Saving the scores in best_results/DA2_noPP_2/ensemble_votation/last\n",
                  "Experimento:  DA-2_shades_of_gray_cropped_images_folder_150_epochs\n",
                  "Saving the scores in best_results/DA-2_shades_of_gray_cropped_images_folder_150_epochs/ensemble_votation/best\n",
                  "Saving the scores in best_results/DA-2_shades_of_gray_cropped_images_folder_150_epochs/ensemble_votation/last\n",
                  "Experimento:  DA2_cropped_images_folder_150_epochs_lr_init_0001\n",
                  "Saving the scores in best_results/DA2_cropped_images_folder_150_epochs_lr_init_0001/ensemble_votation/best\n",
                  "Saving the scores in best_results/DA2_cropped_images_folder_150_epochs_lr_init_0001/ensemble_votation/last\n",
                  "Experimento:  non_local_means_cropped_images_folder\n",
                  "Experimento:  DA1_PPcropped\n",
                  "Experimento:  gaussian_filter_2\n",
                  "Experimento:  CLAHE_cropped_images_folder\n",
                  "Experimento:  dull_razor_cropped_images_folder\n",
                  "Experimento:  dropout_05\n",
                  "Erro no experimento  dropout_05\n",
                  "[Errno 2] No such file or directory: 'best_results/dropout_05/seresnext101_32x8d_fold-1_lrinit-0.0001_batchsize-32_optimizer-Adam_maxepochs-50_DA-None_PPen-None_PPha-None_PPco-None_PPde-None_PPno-True_PPcr-None_PPre-True_drop-0.5_trainjustclassifier-False_16805547061762884/test_pred_best/predictions.csv'\n",
                  "Experimento:  noDA_PPcropped_2\n",
                  "Saving the scores in best_results/noDA_PPcropped_2/ensemble_votation/best\n",
                  "Saving the scores in best_results/noDA_PPcropped_2/ensemble_votation/last\n",
                  "Experimento:  DA2_noPP\n",
                  "Experimento:  DA0_noPP_2\n",
                  "Saving the scores in best_results/DA0_noPP_2/ensemble_votation/best\n",
                  "Saving the scores in best_results/DA0_noPP_2/ensemble_votation/last\n",
                  "Experimento:  CLAHE_2\n",
                  "Experimento:  mean_filter_cropped_images_folder\n",
                  "Experimento:  train_classifier_only\n",
                  "Saving the scores in best_results/train_classifier_only/ensemble_votation/best\n",
                  "Saving the scores in best_results/train_classifier_only/ensemble_votation/last\n",
                  "Experimento:  non_local_means\n",
                  "Experimento:  dropout_02\n",
                  "Erro no experimento  dropout_02\n",
                  "[Errno 2] No such file or directory: 'best_results/dropout_02/tf_efficientnet_b5_fold-1_lrinit-0.0001_batchsize-8_optimizer-AdamW_maxepochs-50_DA-None_PPen-None_PPha-None_PPco-None_PPde-None_PPno-True_PPcr-None_PPre-True_drop-0.2_trainjustclassifier-False_16805668596310365/test_pred_best/predictions.csv'\n",
                  "Experimento:  non_local_means_2\n",
                  "Experimento:  gaussian_filter_cropped_images_folder\n",
                  "Experimento:  DA4_noPP\n",
                  "Saving the scores in best_results/DA4_noPP/ensemble_votation/best\n",
                  "Saving the scores in best_results/DA4_noPP/ensemble_votation/last\n",
                  "Experimento:  DA0_PP_100epochs\n"
               ]
            },
            {
               "name": "stderr",
               "output_type": "stream",
               "text": [
                  "/home/a52550/Desktop/masters/cnn/learning_cycle/benchmarks/isic/raug/utils/classification_metrics_2.py:348: RuntimeWarning: More than 20 figures have been opened. Figures created through the pyplot interface (`matplotlib.pyplot.figure`) are retained until explicitly closed and may consume too much memory. (To control this warning, see the rcParam `figure.max_open_warning`).\n",
                  "  plt.figure()\n"
               ]
            },
            {
               "name": "stdout",
               "output_type": "stream",
               "text": [
                  "Saving the scores in best_results/DA0_PP_100epochs/ensemble_votation/best\n",
                  "Saving the scores in best_results/DA0_PP_100epochs/ensemble_votation/last\n",
                  "Experimento:  dull_razor_shades_of_gray_2\n",
                  "Saving the scores in best_results/dull_razor_shades_of_gray_2/ensemble_votation/best\n",
                  "Saving the scores in best_results/dull_razor_shades_of_gray_2/ensemble_votation/last\n",
                  "Experimento:  gaussian_filter\n",
                  "Experimento:  shades_of_gray_2\n",
                  "Saving the scores in best_results/shades_of_gray_2/ensemble_votation/best\n",
                  "Saving the scores in best_results/shades_of_gray_2/ensemble_votation/last\n",
                  "Experimento:  noDA_dull_razor\n",
                  "Saving the scores in best_results/noDA_dull_razor/ensemble_votation/best\n",
                  "Saving the scores in best_results/noDA_dull_razor/ensemble_votation/last\n",
                  "Experimento:  noDA_noPP\n",
                  "Experimento:  shades_of_gray\n",
                  "Experimento:  mean_filter\n",
                  "Experimento:  mean_filter_2\n",
                  "Experimento:  noDA_noPP_2\n",
                  "Saving the scores in best_results/noDA_noPP_2/ensemble_votation/best\n",
                  "Saving the scores in best_results/noDA_noPP_2/ensemble_votation/last\n",
                  "Experimento:  DA0_PPcropped\n",
                  "Experimento:  DA2_shades_of_gray_CLAHE_cropped_images_folder\n",
                  "Saving the scores in best_results/DA2_shades_of_gray_CLAHE_cropped_images_folder/ensemble_votation/best\n",
                  "Saving the scores in best_results/DA2_shades_of_gray_CLAHE_cropped_images_folder/ensemble_votation/last\n",
                  "Experimento:  noDA_PPcropped\n",
                  "Experimento:  CLAHE\n"
               ]
            },
            {
               "data": {
                  "text/plain": [
                     "<Figure size 640x480 with 0 Axes>"
                  ]
               },
               "metadata": {},
               "output_type": "display_data"
            },
            {
               "data": {
                  "text/plain": [
                     "<Figure size 640x480 with 0 Axes>"
                  ]
               },
               "metadata": {},
               "output_type": "display_data"
            },
            {
               "data": {
                  "text/plain": [
                     "<Figure size 640x480 with 0 Axes>"
                  ]
               },
               "metadata": {},
               "output_type": "display_data"
            },
            {
               "data": {
                  "text/plain": [
                     "<Figure size 640x480 with 0 Axes>"
                  ]
               },
               "metadata": {},
               "output_type": "display_data"
            },
            {
               "data": {
                  "text/plain": [
                     "<Figure size 640x480 with 0 Axes>"
                  ]
               },
               "metadata": {},
               "output_type": "display_data"
            },
            {
               "data": {
                  "text/plain": [
                     "<Figure size 640x480 with 0 Axes>"
                  ]
               },
               "metadata": {},
               "output_type": "display_data"
            },
            {
               "data": {
                  "text/plain": [
                     "<Figure size 640x480 with 0 Axes>"
                  ]
               },
               "metadata": {},
               "output_type": "display_data"
            },
            {
               "data": {
                  "text/plain": [
                     "<Figure size 640x480 with 0 Axes>"
                  ]
               },
               "metadata": {},
               "output_type": "display_data"
            },
            {
               "data": {
                  "text/plain": [
                     "<Figure size 640x480 with 0 Axes>"
                  ]
               },
               "metadata": {},
               "output_type": "display_data"
            },
            {
               "data": {
                  "text/plain": [
                     "<Figure size 640x480 with 0 Axes>"
                  ]
               },
               "metadata": {},
               "output_type": "display_data"
            },
            {
               "data": {
                  "text/plain": [
                     "<Figure size 640x480 with 0 Axes>"
                  ]
               },
               "metadata": {},
               "output_type": "display_data"
            },
            {
               "data": {
                  "text/plain": [
                     "<Figure size 640x480 with 0 Axes>"
                  ]
               },
               "metadata": {},
               "output_type": "display_data"
            },
            {
               "data": {
                  "text/plain": [
                     "<Figure size 640x480 with 0 Axes>"
                  ]
               },
               "metadata": {},
               "output_type": "display_data"
            },
            {
               "data": {
                  "text/plain": [
                     "<Figure size 640x480 with 0 Axes>"
                  ]
               },
               "metadata": {},
               "output_type": "display_data"
            },
            {
               "data": {
                  "text/plain": [
                     "<Figure size 640x480 with 0 Axes>"
                  ]
               },
               "metadata": {},
               "output_type": "display_data"
            },
            {
               "data": {
                  "text/plain": [
                     "<Figure size 640x480 with 0 Axes>"
                  ]
               },
               "metadata": {},
               "output_type": "display_data"
            },
            {
               "data": {
                  "text/plain": [
                     "<Figure size 640x480 with 0 Axes>"
                  ]
               },
               "metadata": {},
               "output_type": "display_data"
            },
            {
               "data": {
                  "text/plain": [
                     "<Figure size 640x480 with 0 Axes>"
                  ]
               },
               "metadata": {},
               "output_type": "display_data"
            },
            {
               "data": {
                  "text/plain": [
                     "<Figure size 640x480 with 0 Axes>"
                  ]
               },
               "metadata": {},
               "output_type": "display_data"
            },
            {
               "data": {
                  "text/plain": [
                     "<Figure size 640x480 with 0 Axes>"
                  ]
               },
               "metadata": {},
               "output_type": "display_data"
            },
            {
               "data": {
                  "text/plain": [
                     "<Figure size 640x480 with 0 Axes>"
                  ]
               },
               "metadata": {},
               "output_type": "display_data"
            },
            {
               "data": {
                  "text/plain": [
                     "<Figure size 640x480 with 0 Axes>"
                  ]
               },
               "metadata": {},
               "output_type": "display_data"
            },
            {
               "data": {
                  "text/plain": [
                     "<Figure size 640x480 with 0 Axes>"
                  ]
               },
               "metadata": {},
               "output_type": "display_data"
            },
            {
               "data": {
                  "text/plain": [
                     "<Figure size 640x480 with 0 Axes>"
                  ]
               },
               "metadata": {},
               "output_type": "display_data"
            },
            {
               "data": {
                  "text/plain": [
                     "<Figure size 640x480 with 0 Axes>"
                  ]
               },
               "metadata": {},
               "output_type": "display_data"
            },
            {
               "data": {
                  "text/plain": [
                     "<Figure size 640x480 with 0 Axes>"
                  ]
               },
               "metadata": {},
               "output_type": "display_data"
            },
            {
               "data": {
                  "text/plain": [
                     "<Figure size 640x480 with 0 Axes>"
                  ]
               },
               "metadata": {},
               "output_type": "display_data"
            },
            {
               "data": {
                  "text/plain": [
                     "<Figure size 640x480 with 0 Axes>"
                  ]
               },
               "metadata": {},
               "output_type": "display_data"
            },
            {
               "data": {
                  "text/plain": [
                     "<Figure size 640x480 with 0 Axes>"
                  ]
               },
               "metadata": {},
               "output_type": "display_data"
            },
            {
               "data": {
                  "text/plain": [
                     "<Figure size 640x480 with 0 Axes>"
                  ]
               },
               "metadata": {},
               "output_type": "display_data"
            },
            {
               "data": {
                  "text/plain": [
                     "<Figure size 640x480 with 0 Axes>"
                  ]
               },
               "metadata": {},
               "output_type": "display_data"
            },
            {
               "data": {
                  "text/plain": [
                     "<Figure size 640x480 with 0 Axes>"
                  ]
               },
               "metadata": {},
               "output_type": "display_data"
            }
         ],
         "source": [
            "import os\n",
            "import numpy as np\n",
            "from raug.metrics_2 import Metrics, accuracy\n",
            "from raug.utils.loader import get_labels_frequency\n",
            "import pandas as pd\n",
            "\n",
            "# Especificar o caminho para a pasta \"best_results\"\n",
            "folder_path = \"best_results\"\n",
            "_csv_path_test = \"/home/a52550/Desktop/datasets/ISIC2017/test/ISIC-2017_Test_v2_Part3_GroundTruth.csv\"\n",
            "true_labels = pd.read_csv(_csv_path_test).sort_values(by=['image_id'])['category']\n",
            "\n",
            "# Inicializar as variáveis para armazenar as previsões dos modelos\n",
            "ensemble_preds_best = None\n",
            "ensemble_preds_last = None\n",
            "num_models = 0\n",
            "ser_lab_freq = get_labels_frequency(_csv_path_test, \"category\", \"image_id\")\n",
            "_labels_name = ser_lab_freq.index.values #np.reshape(ser_lab_freq.index.values, (ser_lab_freq.index.values.shape[0], 1))\n",
            "\n",
            "df_best = pd.DataFrame()\n",
            "df_last = pd.DataFrame()\n",
            "\n",
            "# Percorrer as pastas de cada experimento\n",
            "for experiment_folder in os.listdir(folder_path):\n",
            "\n",
            "    if \".csv\" in experiment_folder:\n",
            "        continue\n",
            "\n",
            "    print(\"Experimento: \", experiment_folder)\n",
            "\n",
            "    _metric_options_best = {\n",
            "        'save_all_path': os.path.join(folder_path, experiment_folder, 'ensemble_votation/best'),\n",
            "        'pred_name_scores': 'predictions.csv',\n",
            "    }\n",
            "    _metric_options_last = {\n",
            "        'save_all_path': os.path.join(folder_path, experiment_folder, 'ensemble_votation/last'),\n",
            "        'pred_name_scores': 'predictions.csv',\n",
            "    }\n",
            "\n",
            "\n",
            "    experiment_path = os.path.join(folder_path, experiment_folder)\n",
            "    metrics_best = Metrics ([\"accuracy\", \"topk_accuracy\", \"balanced_accuracy\", \"conf_matrix\" \"plot_conf_matrix\", \"precision_recall_report\", \"auc_and_roc_curve\", \"auc\"] , _labels_name, _metric_options_best)\n",
            "    metrics_last = Metrics ([\"accuracy\", \"topk_accuracy\", \"balanced_accuracy\", \"conf_matrix\" \"plot_conf_matrix\", \"precision_recall_report\", \"auc_and_roc_curve\", \"auc\"] , _labels_name, _metric_options_last)\n",
            "\n",
            "    ensemble_preds_best = None\n",
            "    ensemble_preds_last = None\n",
            "\n",
            "    model_folders = os.listdir(experiment_path)\n",
            "    \n",
            "    models_folders = [x for x in model_folders if \".csv\" not in x]\n",
            "\n",
            "    # Check if substring \"senet154\" is present in model_folders\n",
            "    if any(\"senet154\" in s for s in model_folders):\n",
            "        continue\n",
            "\n",
            "    \n",
            "    # Cria path para o experimento atual\n",
            "    if 'ensemble_votation' in model_folders:\n",
            "        model_folders.remove('ensemble_votation')\n",
            "    else:\n",
            "        os.mkdir(os.path.join(folder_path, experiment_folder, 'ensemble_votation'))\n",
            "        os.mkdir(os.path.join(_metric_options_best['save_all_path']))\n",
            "        os.mkdir(os.path.join(_metric_options_last['save_all_path']))\n",
            "\n",
            "    if 'ensemble_3_best_average' in model_folders:\n",
            "        model_folders.remove('ensemble_3_best_average')\n",
            "    if 'ensemble_average' in model_folders:\n",
            "        model_folders.remove('ensemble_average')\n",
            "\n",
            "    model_folders = [x for x in model_folders if \".csv\" not in x]\n",
            "\n",
            "    try:\n",
            "\n",
            "        # Percorrer as pastas de cada modelo\n",
            "        for model_folder in model_folders:\n",
            "\n",
            "            model_path = os.path.join(experiment_path, model_folder)\n",
            "\n",
            "            # Carregar as previsões do modelo atual\n",
            "            model_preds_path_best = os.path.join(model_path, \"test_pred_best/predictions.csv\")\n",
            "            model_preds_path_last = os.path.join(model_path, \"test_pred_last/predictions.csv\")\n",
            "\n",
            "            model_preds_best = pd.read_csv(model_preds_path_best).sort_values(by=['image'])\n",
            "            model_preds_last = pd.read_csv(model_preds_path_last).sort_values(by=['image'])\n",
            "\n",
            "            model_preds_best_votation = model_preds_best[['0','1','2']].copy() \n",
            "            model_preds_last_votation = model_preds_last[['0','1','2']].copy()\n",
            "\n",
            "            images_id = model_preds_best[['image']]\n",
            "            model_preds_best_votation['0'] = (model_preds_best['0'] == model_preds_best[['0','1','2']].max(axis=1)).astype(int)\n",
            "            model_preds_best_votation['1'] = (model_preds_best['1'] == model_preds_best[['0','1','2']].max(axis=1)).astype(int)\n",
            "            model_preds_best_votation['2'] = (model_preds_best['2'] == model_preds_best[['0','1','2']].max(axis=1)).astype(int)\n",
            "\n",
            "            model_preds_last_votation['0'] = (model_preds_last['0'] == model_preds_last[['0','1','2']].max(axis=1)).astype(int)\n",
            "            model_preds_last_votation['1'] = (model_preds_last['1'] == model_preds_last[['0','1','2']].max(axis=1)).astype(int)\n",
            "            model_preds_last_votation['2'] = (model_preds_last['2'] == model_preds_last[['0','1','2']].max(axis=1)).astype(int)\n",
            "\n",
            "\n",
            "            # Adicionar as previsões do modelo atual ao ensemble\n",
            "            if ensemble_preds_best is None:\n",
            "                ensemble_preds_best = model_preds_best_votation\n",
            "            else:\n",
            "                ensemble_preds_best += model_preds_best_votation\n",
            "\n",
            "            if ensemble_preds_last is None:\n",
            "                ensemble_preds_last = model_preds_last_votation\n",
            "            else:\n",
            "                ensemble_preds_last += model_preds_last_votation\n",
            "\n",
            "            num_models += 1\n",
            "\n",
            "        # Calcular a média das previsões dos modelos\n",
            "        aux = ensemble_preds_best.copy()\n",
            "        ensemble_preds_best['0'] = (aux['0'] == aux[['0','1','2']].max(axis=1)).astype(int)\n",
            "        ensemble_preds_best['1'] = (aux['1'] == aux[['0','1','2']].max(axis=1)).astype(int)\n",
            "        ensemble_preds_best['2'] = (aux['2'] == aux[['0','1','2']].max(axis=1)).astype(int)\n",
            "\n",
            "        aux = ensemble_preds_last.copy()\n",
            "        ensemble_preds_last['0'] = (aux['0'] == aux[['0','1','2']].max(axis=1)).astype(int)\n",
            "        ensemble_preds_last['1'] = (aux['1'] == aux[['0','1','2']].max(axis=1)).astype(int)\n",
            "        ensemble_preds_last['2'] = (aux['2'] == aux[['0','1','2']].max(axis=1)).astype(int)\n",
            "\n",
            "        metrics_best.update_scores(true_labels, ensemble_preds_best.to_numpy(), images_id.to_numpy())\n",
            "        metrics_last.update_scores(true_labels, ensemble_preds_last.to_numpy(), images_id.to_numpy())\n",
            "\n",
            "        metrics_best.compute_metrics()\n",
            "        metrics_last.compute_metrics()\n",
            "\n",
            "        metrics_best.save_scores()\n",
            "        metrics_last.save_scores()\n",
            "\n",
            "        for auc_metric in metrics_best.metrics_values['auc_and_roc_curve'][0]:\n",
            "            metrics_best.metrics_values[\"auc_\" + str(auc_metric)] = metrics_best.metrics_values['auc_and_roc_curve'][0][auc_metric]\n",
            "            metrics_last.metrics_values[\"auc_\" + str(auc_metric)] = metrics_last.metrics_values['auc_and_roc_curve'][0][auc_metric]\n",
            "\n",
            "        folder_name = {'folder_name': experiment_folder}\n",
            "        dict_best = {**folder_name, **metrics_best.metrics_values}\n",
            "        dict_last = {**folder_name, **metrics_last.metrics_values}\n",
            "\n",
            "        del dict_best['auc_and_roc_curve']\n",
            "        del dict_best['precision_recall_report']\n",
            "\n",
            "        del dict_last['auc_and_roc_curve']\n",
            "        del dict_last['precision_recall_report']\n",
            "\n",
            "        df_best = df_best.append(pd.DataFrame(dict_best, columns=dict_best.keys(), index=[0]), ignore_index=True)\n",
            "        df_last = df_last.append(pd.DataFrame(dict_last, columns=dict_last.keys(), index=[0]), ignore_index=True)\n",
            "\n",
            "    except Exception as e:\n",
            "        print(\"Erro no experimento \", experiment_folder)\n",
            "        print(e)\n",
            "\n",
            "\n",
            "df_best.to_csv(os.path.join(folder_path, 'ensemble_voting_best.csv'), index=False)\n",
            "df_last.to_csv(os.path.join(folder_path, 'ensemble_voting_last.csv'), index=False)\n",
            "\n",
            "# Avaliar a precisão do modelo de ensemble\n",
            "# true_classes_path = os.path.join(folder_path, \"true_classes.csv\")\n",
            "# true_classes = np.loadtxt(_csv_path_test, delimiter=\",\", skiprows=1)\n",
            "\n",
            "# from sklearn.metrics import accuracy_score, precision_score, recall_score, f1_score\n",
            "\n",
            "# accuracy = accuracy_score(true_classes, ensemble_classes)\n",
            "# precision = precision_score(true_classes, ensemble_classes, average=\"macro\")\n",
            "# recall = recall_score(true_classes, ensemble_classes, average=\"macro\")\n",
            "# f1 = f1_score(true_classes, ensemble_classes, average=\"macro\")\n",
            "\n",
            "# # Imprimir as métricas de avaliação\n",
            "# print(f\"Acurácia: {accuracy:.3f}\")\n",
            "# print(f\"Precisão: {precision:.3f}\")\n",
            "# print(f\"Recall: {recall:.3f}\")\n",
            "# print(f\"F1-score: {f1:.3f}\")\n"
         ]
      },
      {
         "attachments": {},
         "cell_type": "markdown",
         "metadata": {},
         "source": [
            "Calculate metrics for each model of each experiments"
         ]
      },
      {
         "cell_type": "code",
         "execution_count": 5,
         "metadata": {},
         "outputs": [
            {
               "name": "stdout",
               "output_type": "stream",
               "text": [
                  "Experimento:  dull_razor_shades_of_gray_cropped_images_folder_2\n",
                  "Experimento:  DA0_noPP\n",
                  "Experimento:  DA0_PP\n",
                  "Saving the scores in best_results/DA0_PP/densenet121_fold-1_lrinit-0.0001_batchsize-32_optimizer-Adam_maxepochs-50_DA-0_PPen-None_PPha-dull_razor_PPco-shades_of_gray_PPde-None_PPno-True_PPcr-cropped_images_folder_PPre-True_drop-0.0_trainjustclassifier-False_16807263435917563/new_test_pred_best\n",
                  "Saving the scores in best_results/DA0_PP/densenet121_fold-1_lrinit-0.0001_batchsize-32_optimizer-Adam_maxepochs-50_DA-0_PPen-None_PPha-dull_razor_PPco-shades_of_gray_PPde-None_PPno-True_PPcr-cropped_images_folder_PPre-True_drop-0.0_trainjustclassifier-False_16807263435917563/new_test_pred_last\n",
                  "Saving the scores in best_results/DA0_PP/seresnext101_32x8d_fold-1_lrinit-0.0001_batchsize-16_optimizer-Adam_maxepochs-50_DA-0_PPen-None_PPha-dull_razor_PPco-shades_of_gray_PPde-None_PPno-True_PPcr-cropped_images_folder_PPre-True_drop-0.0_trainjustclassifier-False_16807377815409434/new_test_pred_best\n",
                  "Saving the scores in best_results/DA0_PP/seresnext101_32x8d_fold-1_lrinit-0.0001_batchsize-16_optimizer-Adam_maxepochs-50_DA-0_PPen-None_PPha-dull_razor_PPco-shades_of_gray_PPde-None_PPno-True_PPcr-cropped_images_folder_PPre-True_drop-0.0_trainjustclassifier-False_16807377815409434/new_test_pred_last\n",
                  "Saving the scores in best_results/DA0_PP/tf_efficientnet_b6_fold-1_lrinit-0.0001_batchsize-4_optimizer-AdamW_maxepochs-50_DA-0_PPen-None_PPha-dull_razor_PPco-shades_of_gray_PPde-None_PPno-True_PPcr-cropped_images_folder_PPre-True_drop-0.0_trainjustclassifier-False_16807146609920633/new_test_pred_best\n",
                  "Saving the scores in best_results/DA0_PP/tf_efficientnet_b6_fold-1_lrinit-0.0001_batchsize-4_optimizer-AdamW_maxepochs-50_DA-0_PPen-None_PPha-dull_razor_PPco-shades_of_gray_PPde-None_PPno-True_PPcr-cropped_images_folder_PPre-True_drop-0.0_trainjustclassifier-False_16807146609920633/new_test_pred_last\n",
                  "Erro no experimento  DA0_PP\n",
                  "[Errno 20] Not a directory: 'best_results/DA0_PP/results_best.csv'\n",
                  "Experimento:  dull_razor\n",
                  "Experimento:  DA1_noPP\n",
                  "Experimento:  shades_of_gray_cropped_images_folder\n",
                  "Experimento:  DA2_dull_razor_shades_of_gray_cropped_images_folder\n",
                  "Saving the scores in best_results/DA2_dull_razor_shades_of_gray_cropped_images_folder/densenet121_fold-1_lrinit-0.0001_batchsize-32_optimizer-Adam_maxepochs-150_DA-2_PPen-None_PPha-dull_razor_PPco-shades_of_gray_PPde-None_PPno-True_PPcr-cropped_images_folder_PPre-True_drop-0.0_trainjustclassifier-False_16813145991351407/new_test_pred_best\n",
                  "Saving the scores in best_results/DA2_dull_razor_shades_of_gray_cropped_images_folder/densenet121_fold-1_lrinit-0.0001_batchsize-32_optimizer-Adam_maxepochs-150_DA-2_PPen-None_PPha-dull_razor_PPco-shades_of_gray_PPde-None_PPno-True_PPcr-cropped_images_folder_PPre-True_drop-0.0_trainjustclassifier-False_16813145991351407/new_test_pred_last\n",
                  "Saving the scores in best_results/DA2_dull_razor_shades_of_gray_cropped_images_folder/efficientnet_b3_fold-1_lrinit-0.0001_batchsize-32_optimizer-Adam_maxepochs-150_DA-2_PPen-None_PPha-dull_razor_PPco-shades_of_gray_PPde-None_PPno-True_PPcr-cropped_images_folder_PPre-True_drop-0.0_trainjustclassifier-False_16813259248001854/new_test_pred_best\n",
                  "Saving the scores in best_results/DA2_dull_razor_shades_of_gray_cropped_images_folder/efficientnet_b3_fold-1_lrinit-0.0001_batchsize-32_optimizer-Adam_maxepochs-150_DA-2_PPen-None_PPha-dull_razor_PPco-shades_of_gray_PPde-None_PPno-True_PPcr-cropped_images_folder_PPre-True_drop-0.0_trainjustclassifier-False_16813259248001854/new_test_pred_last\n",
                  "Saving the scores in best_results/DA2_dull_razor_shades_of_gray_cropped_images_folder/resnest101e_fold-1_lrinit-0.0001_batchsize-8_optimizer-AdamW_maxepochs-150_DA-2_PPen-None_PPha-dull_razor_PPco-shades_of_gray_PPde-None_PPno-True_PPcr-cropped_images_folder_PPre-True_drop-0.0_trainjustclassifier-False_1681332137441572/new_test_pred_best\n",
                  "Saving the scores in best_results/DA2_dull_razor_shades_of_gray_cropped_images_folder/resnest101e_fold-1_lrinit-0.0001_batchsize-8_optimizer-AdamW_maxepochs-150_DA-2_PPen-None_PPha-dull_razor_PPco-shades_of_gray_PPde-None_PPno-True_PPcr-cropped_images_folder_PPre-True_drop-0.0_trainjustclassifier-False_1681332137441572/new_test_pred_last\n",
                  "Erro no experimento  DA2_dull_razor_shades_of_gray_cropped_images_folder\n",
                  "[Errno 20] Not a directory: 'best_results/DA2_dull_razor_shades_of_gray_cropped_images_folder/results_best.csv'\n",
                  "Experimento:  dull_razor_shades_of_gray_cropped_images_folder\n",
                  "Experimento:  DA3_noPP\n",
                  "Experimento:  dull_razor_shades_of_gray\n",
                  "Experimento:  DA0_noPP_3\n",
                  "Saving the scores in best_results/DA0_noPP_3/efficientnet_b3_fold-1_lrinit-0.001_batchsize-32_optimizer-Adam_maxepochs-50_DA-0_PPen-None_PPha-None_PPco-None_PPde-None_PPno-True_PPcr-None_PPre-True_drop-0.0_trainjustclassifier-False_1680676586096729/new_test_pred_best\n",
                  "Saving the scores in best_results/DA0_noPP_3/efficientnet_b3_fold-1_lrinit-0.001_batchsize-32_optimizer-Adam_maxepochs-50_DA-0_PPen-None_PPha-None_PPco-None_PPde-None_PPno-True_PPcr-None_PPre-True_drop-0.0_trainjustclassifier-False_1680676586096729/new_test_pred_last\n",
                  "Saving the scores in best_results/DA0_noPP_3/resnest101e_fold-1_lrinit-0.0001_batchsize-8_optimizer-AdamW_maxepochs-50_DA-0_PPen-None_PPha-None_PPco-None_PPde-None_PPno-True_PPcr-None_PPre-True_drop-0.0_trainjustclassifier-False_16806810152288215/new_test_pred_best\n",
                  "Saving the scores in best_results/DA0_noPP_3/resnest101e_fold-1_lrinit-0.0001_batchsize-8_optimizer-AdamW_maxepochs-50_DA-0_PPen-None_PPha-None_PPco-None_PPde-None_PPno-True_PPcr-None_PPre-True_drop-0.0_trainjustclassifier-False_16806810152288215/new_test_pred_last\n",
                  "Erro no experimento  DA0_noPP_3\n",
                  "[Errno 20] Not a directory: 'best_results/DA0_noPP_3/results_best.csv'\n",
                  "Experimento:  dull_razor_2\n",
                  "Experimento:  DA2_noPP_2\n",
                  "Saving the scores in best_results/DA2_noPP_2/seresnext101_32x8d_fold-1_lrinit-0.0001_batchsize-16_optimizer-Adam_maxepochs-150_DA-2_PPen-None_PPha-None_PPco-None_PPde-None_PPno-True_PPcr-None_PPre-True_drop-0.0_trainjustclassifier-False_1681458575284634/new_test_pred_best\n",
                  "Saving the scores in best_results/DA2_noPP_2/seresnext101_32x8d_fold-1_lrinit-0.0001_batchsize-16_optimizer-Adam_maxepochs-150_DA-2_PPen-None_PPha-None_PPco-None_PPde-None_PPno-True_PPcr-None_PPre-True_drop-0.0_trainjustclassifier-False_1681458575284634/new_test_pred_last\n",
                  "Saving the scores in best_results/DA2_noPP_2/densenet121_fold-1_lrinit-0.0001_batchsize-32_optimizer-Adam_maxepochs-150_DA-2_PPen-None_PPha-None_PPco-None_PPde-None_PPno-True_PPcr-None_PPre-True_drop-0.0_trainjustclassifier-False_16814343457776537/new_test_pred_best\n",
                  "Saving the scores in best_results/DA2_noPP_2/densenet121_fold-1_lrinit-0.0001_batchsize-32_optimizer-Adam_maxepochs-150_DA-2_PPen-None_PPha-None_PPco-None_PPde-None_PPno-True_PPcr-None_PPre-True_drop-0.0_trainjustclassifier-False_16814343457776537/new_test_pred_last\n"
               ]
            },
            {
               "name": "stderr",
               "output_type": "stream",
               "text": [
                  "/home/a52550/Desktop/masters/cnn/learning_cycle/benchmarks/isic/raug/utils/classification_metrics_2.py:348: RuntimeWarning: More than 20 figures have been opened. Figures created through the pyplot interface (`matplotlib.pyplot.figure`) are retained until explicitly closed and may consume too much memory. (To control this warning, see the rcParam `figure.max_open_warning`).\n",
                  "  plt.figure()\n"
               ]
            },
            {
               "name": "stdout",
               "output_type": "stream",
               "text": [
                  "Saving the scores in best_results/DA2_noPP_2/resnest101e_fold-1_lrinit-0.0001_batchsize-8_optimizer-AdamW_maxepochs-150_DA-2_PPen-None_PPha-None_PPco-None_PPde-None_PPno-True_PPcr-None_PPre-True_drop-0.0_trainjustclassifier-False_16814531438972118/new_test_pred_best\n",
                  "Saving the scores in best_results/DA2_noPP_2/resnest101e_fold-1_lrinit-0.0001_batchsize-8_optimizer-AdamW_maxepochs-150_DA-2_PPen-None_PPha-None_PPco-None_PPde-None_PPno-True_PPcr-None_PPre-True_drop-0.0_trainjustclassifier-False_16814531438972118/new_test_pred_last\n",
                  "Erro no experimento  DA2_noPP_2\n",
                  "[Errno 20] Not a directory: 'best_results/DA2_noPP_2/results_best.csv'\n",
                  "Experimento:  DA-2_shades_of_gray_cropped_images_folder_150_epochs\n",
                  "Saving the scores in best_results/DA-2_shades_of_gray_cropped_images_folder_150_epochs/efficientnet_b0_fold-1_lrinit-0.0001_batchsize-8_optimizer-AdamW_maxepochs-150_DA-2_PPen-None_PPha-None_PPco-shades_of_gray_PPde-None_PPno-True_PPcr-cropped_images_folder_PPre-True_drop-0.0_trainjustclassifier-False_16810835282134068/new_test_pred_best\n",
                  "Saving the scores in best_results/DA-2_shades_of_gray_cropped_images_folder_150_epochs/efficientnet_b0_fold-1_lrinit-0.0001_batchsize-8_optimizer-AdamW_maxepochs-150_DA-2_PPen-None_PPha-None_PPco-shades_of_gray_PPde-None_PPno-True_PPcr-cropped_images_folder_PPre-True_drop-0.0_trainjustclassifier-False_16810835282134068/new_test_pred_last\n",
                  "Saving the scores in best_results/DA-2_shades_of_gray_cropped_images_folder_150_epochs/tf_efficientnet_b6_fold-1_lrinit-0.0001_batchsize-4_optimizer-AdamW_maxepochs-150_DA-2_PPen-None_PPha-None_PPco-shades_of_gray_PPde-None_PPno-True_PPcr-cropped_images_folder_PPre-True_drop-0.0_trainjustclassifier-False_16810612435122592/new_test_pred_best\n",
                  "Saving the scores in best_results/DA-2_shades_of_gray_cropped_images_folder_150_epochs/tf_efficientnet_b6_fold-1_lrinit-0.0001_batchsize-4_optimizer-AdamW_maxepochs-150_DA-2_PPen-None_PPha-None_PPco-shades_of_gray_PPde-None_PPno-True_PPcr-cropped_images_folder_PPre-True_drop-0.0_trainjustclassifier-False_16810612435122592/new_test_pred_last\n",
                  "Saving the scores in best_results/DA-2_shades_of_gray_cropped_images_folder_150_epochs/pnasnet5large_fold-1_lrinit-0.0001_batchsize-8_optimizer-Adam_maxepochs-150_DA-2_PPen-None_PPha-None_PPco-shades_of_gray_PPde-None_PPno-True_PPcr-cropped_images_folder_PPre-True_drop-0.0_trainjustclassifier-False_16811246693160925/new_test_pred_best\n",
                  "Saving the scores in best_results/DA-2_shades_of_gray_cropped_images_folder_150_epochs/pnasnet5large_fold-1_lrinit-0.0001_batchsize-8_optimizer-Adam_maxepochs-150_DA-2_PPen-None_PPha-None_PPco-shades_of_gray_PPde-None_PPno-True_PPcr-cropped_images_folder_PPre-True_drop-0.0_trainjustclassifier-False_16811246693160925/new_test_pred_last\n",
                  "Saving the scores in best_results/DA-2_shades_of_gray_cropped_images_folder_150_epochs/seresnext101_32x8d_fold-1_lrinit-0.0001_batchsize-16_optimizer-Adam_maxepochs-150_DA-2_PPen-None_PPha-None_PPco-shades_of_gray_PPde-None_PPno-True_PPcr-cropped_images_folder_PPre-True_drop-0.0_trainjustclassifier-False_16811113775334249/new_test_pred_best\n",
                  "Saving the scores in best_results/DA-2_shades_of_gray_cropped_images_folder_150_epochs/seresnext101_32x8d_fold-1_lrinit-0.0001_batchsize-16_optimizer-Adam_maxepochs-150_DA-2_PPen-None_PPha-None_PPco-shades_of_gray_PPde-None_PPno-True_PPcr-cropped_images_folder_PPre-True_drop-0.0_trainjustclassifier-False_16811113775334249/new_test_pred_last\n",
                  "Erro no experimento  DA-2_shades_of_gray_cropped_images_folder_150_epochs\n",
                  "[Errno 20] Not a directory: 'best_results/DA-2_shades_of_gray_cropped_images_folder_150_epochs/results_best.csv'\n",
                  "Experimento:  DA2_cropped_images_folder_150_epochs_lr_init_0001\n",
                  "Saving the scores in best_results/DA2_cropped_images_folder_150_epochs_lr_init_0001/efficientnet_b2_fold-1_lrinit-0.0001_batchsize-8_optimizer-Adam_maxepochs-150_DA-2_PPen-None_PPha-None_PPco-None_PPde-None_PPno-True_PPcr-cropped_images_folder_PPre-True_drop-0.0_trainjustclassifier-False_16810087423860724/new_test_pred_best\n",
                  "Saving the scores in best_results/DA2_cropped_images_folder_150_epochs_lr_init_0001/efficientnet_b2_fold-1_lrinit-0.0001_batchsize-8_optimizer-Adam_maxepochs-150_DA-2_PPen-None_PPha-None_PPco-None_PPde-None_PPno-True_PPcr-cropped_images_folder_PPre-True_drop-0.0_trainjustclassifier-False_16810087423860724/new_test_pred_last\n",
                  "Erro no experimento  DA2_cropped_images_folder_150_epochs_lr_init_0001\n",
                  "[Errno 20] Not a directory: 'best_results/DA2_cropped_images_folder_150_epochs_lr_init_0001/results_best.csv'\n",
                  "Experimento:  non_local_means_cropped_images_folder\n",
                  "Experimento:  DA1_PPcropped\n",
                  "Experimento:  gaussian_filter_2\n",
                  "Experimento:  CLAHE_cropped_images_folder\n",
                  "Experimento:  dull_razor_cropped_images_folder\n",
                  "Experimento:  dropout_05\n",
                  "Erro no experimento  dropout_05\n",
                  "[Errno 20] Not a directory: 'best_results/dropout_05/results_best.csv'\n",
                  "Experimento:  noDA_PPcropped_2\n",
                  "Saving the scores in best_results/noDA_PPcropped_2/efficientnet_b3_fold-1_lrinit-0.001_batchsize-32_optimizer-Adam_maxepochs-50_DA-None_PPen-None_PPha-None_PPco-None_PPde-None_PPno-True_PPcr-cropped_images_folder_PPre-True_1679975490817778/new_test_pred_best\n",
                  "Saving the scores in best_results/noDA_PPcropped_2/efficientnet_b3_fold-1_lrinit-0.001_batchsize-32_optimizer-Adam_maxepochs-50_DA-None_PPen-None_PPha-None_PPco-None_PPde-None_PPno-True_PPcr-cropped_images_folder_PPre-True_1679975490817778/new_test_pred_last\n",
                  "Saving the scores in best_results/noDA_PPcropped_2/seresnext101_32x8d_fold-1_lrinit-0.0001_batchsize-32_optimizer-Adam_maxepochs-50_DA-None_PPen-None_PPha-None_PPco-None_PPde-None_PPno-True_PPcr-cropped_images_folder_PPre-True_1679977774466725/new_test_pred_best\n",
                  "Saving the scores in best_results/noDA_PPcropped_2/seresnext101_32x8d_fold-1_lrinit-0.0001_batchsize-32_optimizer-Adam_maxepochs-50_DA-None_PPen-None_PPha-None_PPco-None_PPde-None_PPno-True_PPcr-cropped_images_folder_PPre-True_1679977774466725/new_test_pred_last\n",
                  "Erro no experimento  noDA_PPcropped_2\n",
                  "[Errno 20] Not a directory: 'best_results/noDA_PPcropped_2/results_best.csv'\n",
                  "Experimento:  DA2_noPP\n",
                  "Experimento:  DA0_noPP_2\n",
                  "Erro no experimento  DA0_noPP_2\n",
                  "[Errno 20] Not a directory: 'best_results/DA0_noPP_2/results_best.csv'\n",
                  "Experimento:  CLAHE_2\n",
                  "Experimento:  mean_filter_cropped_images_folder\n",
                  "Experimento:  train_classifier_only\n",
                  "Erro no experimento  train_classifier_only\n",
                  "[Errno 20] Not a directory: 'best_results/train_classifier_only/results_best.csv'\n",
                  "Experimento:  non_local_means\n",
                  "Experimento:  dropout_02\n",
                  "Saving the scores in best_results/dropout_02/efficientnet_b1_fold-1_lrinit-0.001_batchsize-8_optimizer-AdamW_maxepochs-50_DA-None_PPen-None_PPha-None_PPco-None_PPde-None_PPno-True_PPcr-None_PPre-True_drop-0.2_trainjustclassifier-False_16805764537055814/new_test_pred_best\n",
                  "Saving the scores in best_results/dropout_02/efficientnet_b1_fold-1_lrinit-0.001_batchsize-8_optimizer-AdamW_maxepochs-50_DA-None_PPen-None_PPha-None_PPco-None_PPde-None_PPno-True_PPcr-None_PPre-True_drop-0.2_trainjustclassifier-False_16805764537055814/new_test_pred_last\n",
                  "Erro no experimento  dropout_02\n",
                  "[Errno 20] Not a directory: 'best_results/dropout_02/results_best.csv'\n",
                  "Experimento:  non_local_means_2\n",
                  "Experimento:  gaussian_filter_cropped_images_folder\n",
                  "Experimento:  DA4_noPP\n",
                  "Saving the scores in best_results/DA4_noPP/tf_efficientnet_b5_fold-1_lrinit-0.0001_batchsize-8_optimizer-AdamW_maxepochs-50_DA-4_PPen-None_PPha-None_PPco-None_PPde-None_PPno-True_PPcr-None_PPre-True_16803738785839732/new_test_pred_best\n",
                  "Saving the scores in best_results/DA4_noPP/tf_efficientnet_b5_fold-1_lrinit-0.0001_batchsize-8_optimizer-AdamW_maxepochs-50_DA-4_PPen-None_PPha-None_PPco-None_PPde-None_PPno-True_PPcr-None_PPre-True_16803738785839732/new_test_pred_last\n",
                  "Saving the scores in best_results/DA4_noPP/efficientnet_b0_fold-1_lrinit-0.001_batchsize-8_optimizer-AdamW_maxepochs-50_DA-4_PPen-None_PPha-None_PPco-None_PPde-None_PPno-True_PPcr-None_PPre-True_1680393057374882/new_test_pred_best\n",
                  "Saving the scores in best_results/DA4_noPP/efficientnet_b0_fold-1_lrinit-0.001_batchsize-8_optimizer-AdamW_maxepochs-50_DA-4_PPen-None_PPha-None_PPco-None_PPde-None_PPno-True_PPcr-None_PPre-True_1680393057374882/new_test_pred_last\n",
                  "Saving the scores in best_results/DA4_noPP/efficientnet_b1_fold-1_lrinit-0.001_batchsize-8_optimizer-AdamW_maxepochs-50_DA-4_PPen-None_PPha-None_PPco-None_PPde-None_PPno-True_PPcr-None_PPre-True_16803942129398851/new_test_pred_best\n",
                  "Saving the scores in best_results/DA4_noPP/efficientnet_b1_fold-1_lrinit-0.001_batchsize-8_optimizer-AdamW_maxepochs-50_DA-4_PPen-None_PPha-None_PPco-None_PPde-None_PPno-True_PPcr-None_PPre-True_16803942129398851/new_test_pred_last\n",
                  "Saving the scores in best_results/DA4_noPP/resnext101_32x8d_fold-1_lrinit-0.001_batchsize-8_optimizer-SGD_maxepochs-50_DA-4_PPen-None_PPha-None_PPco-None_PPde-None_PPno-True_PPcr-None_PPre-True_16804088871874504/new_test_pred_best\n",
                  "Saving the scores in best_results/DA4_noPP/resnext101_32x8d_fold-1_lrinit-0.001_batchsize-8_optimizer-SGD_maxepochs-50_DA-4_PPen-None_PPha-None_PPco-None_PPde-None_PPno-True_PPcr-None_PPre-True_16804088871874504/new_test_pred_last\n",
                  "Erro no experimento  DA4_noPP\n",
                  "[Errno 20] Not a directory: 'best_results/DA4_noPP/results_best.csv'\n",
                  "Experimento:  DA0_PP_100epochs\n",
                  "Saving the scores in best_results/DA0_PP_100epochs/efficientnet_b4_fold-1_lrinit-0.001_batchsize-16_optimizer-AdamW_maxepochs-100_DA-0_PPen-None_PPha-dull_razor_PPco-shades_of_gray_PPde-None_PPno-True_PPcr-cropped_images_folder_PPre-True_drop-0.0_trainjustclassifier-False_16808528257383082/new_test_pred_best\n",
                  "Saving the scores in best_results/DA0_PP_100epochs/efficientnet_b4_fold-1_lrinit-0.001_batchsize-16_optimizer-AdamW_maxepochs-100_DA-0_PPen-None_PPha-dull_razor_PPco-shades_of_gray_PPde-None_PPno-True_PPcr-cropped_images_folder_PPre-True_drop-0.0_trainjustclassifier-False_16808528257383082/new_test_pred_last\n",
                  "Erro no experimento  DA0_PP_100epochs\n",
                  "[Errno 20] Not a directory: 'best_results/DA0_PP_100epochs/results_best.csv'\n",
                  "Experimento:  dull_razor_shades_of_gray_2\n",
                  "Saving the scores in best_results/dull_razor_shades_of_gray_2/densenet121_fold-1_lrinit-0.0001_batchsize-32_optimizer-Adam_maxepochs-50_DA-None_PPen-None_PPha-dull_razor_PPco-shades_of_gray_PPde-None_PPno-True_PPcr-None_PPre-True_16802988847755685/new_test_pred_best\n",
                  "Saving the scores in best_results/dull_razor_shades_of_gray_2/densenet121_fold-1_lrinit-0.0001_batchsize-32_optimizer-Adam_maxepochs-50_DA-None_PPen-None_PPha-dull_razor_PPco-shades_of_gray_PPde-None_PPno-True_PPcr-None_PPre-True_16802988847755685/new_test_pred_last\n",
                  "Saving the scores in best_results/dull_razor_shades_of_gray_2/tf_efficientnet_b6_fold-1_lrinit-0.0001_batchsize-4_optimizer-AdamW_maxepochs-50_DA-None_PPen-None_PPha-dull_razor_PPco-shades_of_gray_PPde-None_PPno-True_PPcr-None_PPre-True_16802859941927235/new_test_pred_best\n",
                  "Saving the scores in best_results/dull_razor_shades_of_gray_2/tf_efficientnet_b6_fold-1_lrinit-0.0001_batchsize-4_optimizer-AdamW_maxepochs-50_DA-None_PPen-None_PPha-dull_razor_PPco-shades_of_gray_PPde-None_PPno-True_PPcr-None_PPre-True_16802859941927235/new_test_pred_last\n",
                  "Erro no experimento  dull_razor_shades_of_gray_2\n",
                  "[Errno 20] Not a directory: 'best_results/dull_razor_shades_of_gray_2/results_best.csv'\n",
                  "Experimento:  gaussian_filter\n",
                  "Experimento:  shades_of_gray_2\n",
                  "Saving the scores in best_results/shades_of_gray_2/efficientnet_b2_fold-1_lrinit-0.001_batchsize-8_optimizer-Adam_maxepochs-50_DA-None_PPen-None_PPha-None_PPco-shades_of_gray_PPde-None_PPno-True_PPcr-None_PPre-True_1679987964820405/new_test_pred_best\n",
                  "Saving the scores in best_results/shades_of_gray_2/efficientnet_b2_fold-1_lrinit-0.001_batchsize-8_optimizer-Adam_maxepochs-50_DA-None_PPen-None_PPha-None_PPco-shades_of_gray_PPde-None_PPno-True_PPcr-None_PPre-True_1679987964820405/new_test_pred_last\n",
                  "Erro no experimento  shades_of_gray_2\n",
                  "[Errno 20] Not a directory: 'best_results/shades_of_gray_2/results_best.csv'\n",
                  "Experimento:  noDA_dull_razor\n",
                  "Saving the scores in best_results/noDA_dull_razor/efficientnet_b0_fold-1_lrinit-0.0001_batchsize-8_optimizer-AdamW_maxepochs-150_DA-None_PPen-None_PPha-dull_razor_PPco-None_PPde-None_PPno-True_PPcr-None_PPre-True_drop-0.0_trainjustclassifier-False_16815995135528414/new_test_pred_best\n",
                  "Saving the scores in best_results/noDA_dull_razor/efficientnet_b0_fold-1_lrinit-0.0001_batchsize-8_optimizer-AdamW_maxepochs-150_DA-None_PPen-None_PPha-dull_razor_PPco-None_PPde-None_PPno-True_PPcr-None_PPre-True_drop-0.0_trainjustclassifier-False_16815995135528414/new_test_pred_last\n",
                  "Saving the scores in best_results/noDA_dull_razor/tf_efficientnet_b6_fold-1_lrinit-0.0001_batchsize-4_optimizer-AdamW_maxepochs-150_DA-None_PPen-None_PPha-dull_razor_PPco-None_PPde-None_PPno-True_PPcr-None_PPre-True_drop-0.0_trainjustclassifier-False_16815857767128134/new_test_pred_best\n",
                  "Saving the scores in best_results/noDA_dull_razor/tf_efficientnet_b6_fold-1_lrinit-0.0001_batchsize-4_optimizer-AdamW_maxepochs-150_DA-None_PPen-None_PPha-dull_razor_PPco-None_PPde-None_PPno-True_PPcr-None_PPre-True_drop-0.0_trainjustclassifier-False_16815857767128134/new_test_pred_last\n",
                  "Saving the scores in best_results/noDA_dull_razor/pnasnet5large_fold-1_lrinit-0.0001_batchsize-8_optimizer-Adam_maxepochs-150_DA-None_PPen-None_PPha-dull_razor_PPco-None_PPde-None_PPno-True_PPcr-None_PPre-True_drop-0.0_trainjustclassifier-False_16816292515547552/new_test_pred_best\n",
                  "Saving the scores in best_results/noDA_dull_razor/pnasnet5large_fold-1_lrinit-0.0001_batchsize-8_optimizer-Adam_maxepochs-150_DA-None_PPen-None_PPha-dull_razor_PPco-None_PPde-None_PPno-True_PPcr-None_PPre-True_drop-0.0_trainjustclassifier-False_16816292515547552/new_test_pred_last\n",
                  "Erro no experimento  noDA_dull_razor\n",
                  "[Errno 20] Not a directory: 'best_results/noDA_dull_razor/results_best.csv'\n",
                  "Experimento:  noDA_noPP\n",
                  "Experimento:  shades_of_gray\n",
                  "Experimento:  mean_filter\n",
                  "Experimento:  mean_filter_2\n",
                  "Experimento:  noDA_noPP_2\n",
                  "Erro no experimento  noDA_noPP_2\n",
                  "[Errno 20] Not a directory: 'best_results/noDA_noPP_2/results_best.csv'\n",
                  "Experimento:  DA0_PPcropped\n",
                  "Experimento:  DA2_shades_of_gray_CLAHE_cropped_images_folder\n",
                  "Saving the scores in best_results/DA2_shades_of_gray_CLAHE_cropped_images_folder/efficientnet_b1_fold-1_lrinit-0.0001_batchsize-8_optimizer-AdamW_maxepochs-150_DA-2_PPen-CLAHE_PPha-None_PPco-shades_of_gray_PPde-None_PPno-True_PPcr-cropped_images_folder_PPre-True_drop-0.0_trainjustclassifier-False_16811986395792065/new_test_pred_best\n",
                  "Saving the scores in best_results/DA2_shades_of_gray_CLAHE_cropped_images_folder/efficientnet_b1_fold-1_lrinit-0.0001_batchsize-8_optimizer-AdamW_maxepochs-150_DA-2_PPen-CLAHE_PPha-None_PPco-shades_of_gray_PPde-None_PPno-True_PPcr-cropped_images_folder_PPre-True_drop-0.0_trainjustclassifier-False_16811986395792065/new_test_pred_last\n",
                  "Erro no experimento  DA2_shades_of_gray_CLAHE_cropped_images_folder\n",
                  "[Errno 20] Not a directory: 'best_results/DA2_shades_of_gray_CLAHE_cropped_images_folder/results_best.csv'\n",
                  "Experimento:  noDA_PPcropped\n",
                  "Experimento:  CLAHE\n"
               ]
            },
            {
               "data": {
                  "text/plain": [
                     "<Figure size 640x480 with 0 Axes>"
                  ]
               },
               "metadata": {},
               "output_type": "display_data"
            },
            {
               "data": {
                  "text/plain": [
                     "<Figure size 640x480 with 0 Axes>"
                  ]
               },
               "metadata": {},
               "output_type": "display_data"
            },
            {
               "data": {
                  "text/plain": [
                     "<Figure size 640x480 with 0 Axes>"
                  ]
               },
               "metadata": {},
               "output_type": "display_data"
            },
            {
               "data": {
                  "text/plain": [
                     "<Figure size 640x480 with 0 Axes>"
                  ]
               },
               "metadata": {},
               "output_type": "display_data"
            },
            {
               "data": {
                  "text/plain": [
                     "<Figure size 640x480 with 0 Axes>"
                  ]
               },
               "metadata": {},
               "output_type": "display_data"
            },
            {
               "data": {
                  "text/plain": [
                     "<Figure size 640x480 with 0 Axes>"
                  ]
               },
               "metadata": {},
               "output_type": "display_data"
            },
            {
               "data": {
                  "text/plain": [
                     "<Figure size 640x480 with 0 Axes>"
                  ]
               },
               "metadata": {},
               "output_type": "display_data"
            },
            {
               "data": {
                  "text/plain": [
                     "<Figure size 640x480 with 0 Axes>"
                  ]
               },
               "metadata": {},
               "output_type": "display_data"
            },
            {
               "data": {
                  "text/plain": [
                     "<Figure size 640x480 with 0 Axes>"
                  ]
               },
               "metadata": {},
               "output_type": "display_data"
            },
            {
               "data": {
                  "text/plain": [
                     "<Figure size 640x480 with 0 Axes>"
                  ]
               },
               "metadata": {},
               "output_type": "display_data"
            },
            {
               "data": {
                  "text/plain": [
                     "<Figure size 640x480 with 0 Axes>"
                  ]
               },
               "metadata": {},
               "output_type": "display_data"
            },
            {
               "data": {
                  "text/plain": [
                     "<Figure size 640x480 with 0 Axes>"
                  ]
               },
               "metadata": {},
               "output_type": "display_data"
            },
            {
               "data": {
                  "text/plain": [
                     "<Figure size 640x480 with 0 Axes>"
                  ]
               },
               "metadata": {},
               "output_type": "display_data"
            },
            {
               "data": {
                  "text/plain": [
                     "<Figure size 640x480 with 0 Axes>"
                  ]
               },
               "metadata": {},
               "output_type": "display_data"
            },
            {
               "data": {
                  "text/plain": [
                     "<Figure size 640x480 with 0 Axes>"
                  ]
               },
               "metadata": {},
               "output_type": "display_data"
            },
            {
               "data": {
                  "text/plain": [
                     "<Figure size 640x480 with 0 Axes>"
                  ]
               },
               "metadata": {},
               "output_type": "display_data"
            },
            {
               "data": {
                  "text/plain": [
                     "<Figure size 640x480 with 0 Axes>"
                  ]
               },
               "metadata": {},
               "output_type": "display_data"
            },
            {
               "data": {
                  "text/plain": [
                     "<Figure size 640x480 with 0 Axes>"
                  ]
               },
               "metadata": {},
               "output_type": "display_data"
            },
            {
               "data": {
                  "text/plain": [
                     "<Figure size 640x480 with 0 Axes>"
                  ]
               },
               "metadata": {},
               "output_type": "display_data"
            },
            {
               "data": {
                  "text/plain": [
                     "<Figure size 640x480 with 0 Axes>"
                  ]
               },
               "metadata": {},
               "output_type": "display_data"
            },
            {
               "data": {
                  "text/plain": [
                     "<Figure size 640x480 with 0 Axes>"
                  ]
               },
               "metadata": {},
               "output_type": "display_data"
            },
            {
               "data": {
                  "text/plain": [
                     "<Figure size 640x480 with 0 Axes>"
                  ]
               },
               "metadata": {},
               "output_type": "display_data"
            },
            {
               "data": {
                  "text/plain": [
                     "<Figure size 640x480 with 0 Axes>"
                  ]
               },
               "metadata": {},
               "output_type": "display_data"
            },
            {
               "data": {
                  "text/plain": [
                     "<Figure size 640x480 with 0 Axes>"
                  ]
               },
               "metadata": {},
               "output_type": "display_data"
            },
            {
               "data": {
                  "text/plain": [
                     "<Figure size 640x480 with 0 Axes>"
                  ]
               },
               "metadata": {},
               "output_type": "display_data"
            },
            {
               "data": {
                  "text/plain": [
                     "<Figure size 640x480 with 0 Axes>"
                  ]
               },
               "metadata": {},
               "output_type": "display_data"
            },
            {
               "data": {
                  "text/plain": [
                     "<Figure size 640x480 with 0 Axes>"
                  ]
               },
               "metadata": {},
               "output_type": "display_data"
            },
            {
               "data": {
                  "text/plain": [
                     "<Figure size 640x480 with 0 Axes>"
                  ]
               },
               "metadata": {},
               "output_type": "display_data"
            },
            {
               "data": {
                  "text/plain": [
                     "<Figure size 640x480 with 0 Axes>"
                  ]
               },
               "metadata": {},
               "output_type": "display_data"
            },
            {
               "data": {
                  "text/plain": [
                     "<Figure size 640x480 with 0 Axes>"
                  ]
               },
               "metadata": {},
               "output_type": "display_data"
            },
            {
               "data": {
                  "text/plain": [
                     "<Figure size 640x480 with 0 Axes>"
                  ]
               },
               "metadata": {},
               "output_type": "display_data"
            },
            {
               "data": {
                  "text/plain": [
                     "<Figure size 640x480 with 0 Axes>"
                  ]
               },
               "metadata": {},
               "output_type": "display_data"
            },
            {
               "data": {
                  "text/plain": [
                     "<Figure size 640x480 with 0 Axes>"
                  ]
               },
               "metadata": {},
               "output_type": "display_data"
            },
            {
               "data": {
                  "text/plain": [
                     "<Figure size 640x480 with 0 Axes>"
                  ]
               },
               "metadata": {},
               "output_type": "display_data"
            },
            {
               "data": {
                  "text/plain": [
                     "<Figure size 640x480 with 0 Axes>"
                  ]
               },
               "metadata": {},
               "output_type": "display_data"
            },
            {
               "data": {
                  "text/plain": [
                     "<Figure size 640x480 with 0 Axes>"
                  ]
               },
               "metadata": {},
               "output_type": "display_data"
            },
            {
               "data": {
                  "text/plain": [
                     "<Figure size 640x480 with 0 Axes>"
                  ]
               },
               "metadata": {},
               "output_type": "display_data"
            },
            {
               "data": {
                  "text/plain": [
                     "<Figure size 640x480 with 0 Axes>"
                  ]
               },
               "metadata": {},
               "output_type": "display_data"
            },
            {
               "data": {
                  "text/plain": [
                     "<Figure size 640x480 with 0 Axes>"
                  ]
               },
               "metadata": {},
               "output_type": "display_data"
            },
            {
               "data": {
                  "text/plain": [
                     "<Figure size 640x480 with 0 Axes>"
                  ]
               },
               "metadata": {},
               "output_type": "display_data"
            },
            {
               "data": {
                  "text/plain": [
                     "<Figure size 640x480 with 0 Axes>"
                  ]
               },
               "metadata": {},
               "output_type": "display_data"
            },
            {
               "data": {
                  "text/plain": [
                     "<Figure size 640x480 with 0 Axes>"
                  ]
               },
               "metadata": {},
               "output_type": "display_data"
            },
            {
               "data": {
                  "text/plain": [
                     "<Figure size 640x480 with 0 Axes>"
                  ]
               },
               "metadata": {},
               "output_type": "display_data"
            },
            {
               "data": {
                  "text/plain": [
                     "<Figure size 640x480 with 0 Axes>"
                  ]
               },
               "metadata": {},
               "output_type": "display_data"
            },
            {
               "data": {
                  "text/plain": [
                     "<Figure size 640x480 with 0 Axes>"
                  ]
               },
               "metadata": {},
               "output_type": "display_data"
            },
            {
               "data": {
                  "text/plain": [
                     "<Figure size 640x480 with 0 Axes>"
                  ]
               },
               "metadata": {},
               "output_type": "display_data"
            },
            {
               "data": {
                  "text/plain": [
                     "<Figure size 640x480 with 0 Axes>"
                  ]
               },
               "metadata": {},
               "output_type": "display_data"
            },
            {
               "data": {
                  "text/plain": [
                     "<Figure size 640x480 with 0 Axes>"
                  ]
               },
               "metadata": {},
               "output_type": "display_data"
            },
            {
               "data": {
                  "text/plain": [
                     "<Figure size 640x480 with 0 Axes>"
                  ]
               },
               "metadata": {},
               "output_type": "display_data"
            },
            {
               "data": {
                  "text/plain": [
                     "<Figure size 640x480 with 0 Axes>"
                  ]
               },
               "metadata": {},
               "output_type": "display_data"
            },
            {
               "data": {
                  "text/plain": [
                     "<Figure size 640x480 with 0 Axes>"
                  ]
               },
               "metadata": {},
               "output_type": "display_data"
            },
            {
               "data": {
                  "text/plain": [
                     "<Figure size 640x480 with 0 Axes>"
                  ]
               },
               "metadata": {},
               "output_type": "display_data"
            },
            {
               "data": {
                  "text/plain": [
                     "<Figure size 640x480 with 0 Axes>"
                  ]
               },
               "metadata": {},
               "output_type": "display_data"
            },
            {
               "data": {
                  "text/plain": [
                     "<Figure size 640x480 with 0 Axes>"
                  ]
               },
               "metadata": {},
               "output_type": "display_data"
            },
            {
               "data": {
                  "text/plain": [
                     "<Figure size 640x480 with 0 Axes>"
                  ]
               },
               "metadata": {},
               "output_type": "display_data"
            },
            {
               "data": {
                  "text/plain": [
                     "<Figure size 640x480 with 0 Axes>"
                  ]
               },
               "metadata": {},
               "output_type": "display_data"
            },
            {
               "data": {
                  "text/plain": [
                     "<Figure size 640x480 with 0 Axes>"
                  ]
               },
               "metadata": {},
               "output_type": "display_data"
            },
            {
               "data": {
                  "text/plain": [
                     "<Figure size 640x480 with 0 Axes>"
                  ]
               },
               "metadata": {},
               "output_type": "display_data"
            },
            {
               "data": {
                  "text/plain": [
                     "<Figure size 640x480 with 0 Axes>"
                  ]
               },
               "metadata": {},
               "output_type": "display_data"
            },
            {
               "data": {
                  "text/plain": [
                     "<Figure size 640x480 with 0 Axes>"
                  ]
               },
               "metadata": {},
               "output_type": "display_data"
            },
            {
               "data": {
                  "text/plain": [
                     "<Figure size 640x480 with 0 Axes>"
                  ]
               },
               "metadata": {},
               "output_type": "display_data"
            },
            {
               "data": {
                  "text/plain": [
                     "<Figure size 640x480 with 0 Axes>"
                  ]
               },
               "metadata": {},
               "output_type": "display_data"
            }
         ],
         "source": [
            "import os\n",
            "import numpy as np\n",
            "from raug.metrics_2 import Metrics, accuracy\n",
            "from raug.utils.loader import get_labels_frequency\n",
            "import pandas as pd\n",
            "\n",
            "# Especificar o caminho para a pasta \"best_results\"\n",
            "folder_path = \"best_results\"\n",
            "_csv_path_test = \"/home/a52550/Desktop/datasets/ISIC2017/test/ISIC-2017_Test_v2_Part3_GroundTruth.csv\"\n",
            "true_labels = pd.read_csv(_csv_path_test).sort_values(by=['image_id'])['category']\n",
            "\n",
            "# Inicializar as variáveis para armazenar as previsões dos modelos\n",
            "ensemble_preds_best = None\n",
            "ensemble_preds_last = None\n",
            "num_models = 0\n",
            "ser_lab_freq = get_labels_frequency(_csv_path_test, \"category\", \"image_id\")\n",
            "_labels_name = ser_lab_freq.index.values #np.reshape(ser_lab_freq.index.values, (ser_lab_freq.index.values.shape[0], 1))\n",
            "\n",
            "df_best = pd.DataFrame()\n",
            "df_last = pd.DataFrame()\n",
            "\n",
            "# Percorrer as pastas de cada experimento\n",
            "for experiment_folder in os.listdir(folder_path):\n",
            "\n",
            "    if \".csv\" in experiment_folder:\n",
            "        continue\n",
            "\n",
            "    print(\"Experimento: \", experiment_folder)\n",
            "\n",
            "\n",
            "    experiment_path = os.path.join(folder_path, experiment_folder)\n",
            "\n",
            "    ensemble_preds_best = None\n",
            "    ensemble_preds_last = None\n",
            "\n",
            "    model_folders = os.listdir(experiment_path)\n",
            "\n",
            "    # Check if substring \"senet154\" is present in model_folders\n",
            "    if any(\"senet154\" in s for s in model_folders):\n",
            "        continue\n",
            "\n",
            "    \n",
            "    # Cria path para o experimento atual\n",
            "    if 'ensemble_average' in model_folders:\n",
            "        model_folders.remove('ensemble_average')\n",
            "    else:\n",
            "        os.mkdir(os.path.join(folder_path, experiment_folder, 'ensemble_average'))\n",
            "        os.mkdir(os.path.join(_metric_options_best['save_all_path']))\n",
            "        os.mkdir(os.path.join(_metric_options_last['save_all_path']))\n",
            "\n",
            "    if 'ensemble_3_best_average' in model_folders:\n",
            "        model_folders.remove('ensemble_3_best_average')\n",
            "    \n",
            "    if 'ensemble_votation' in model_folders:\n",
            "        model_folders.remove('ensemble_votation')\n",
            "\n",
            "    try:\n",
            "\n",
            "        # Percorrer as pastas de cada modelo\n",
            "        for model_folder in model_folders:\n",
            "\n",
            "            model_path = os.path.join(experiment_path, model_folder)\n",
            "            _metric_options_best = {\n",
            "                'save_all_path': os.path.join(model_path, 'new_test_pred_best'),\n",
            "                'pred_name_scores': 'predictions.csv',\n",
            "            }\n",
            "            _metric_options_last = {\n",
            "                'save_all_path': os.path.join(model_path, 'new_test_pred_last'),\n",
            "                'pred_name_scores': 'predictions.csv',\n",
            "            }\n",
            "\n",
            "            if 'new_test_pred_best' not in os.listdir(model_path):\n",
            "                os.mkdir(os.path.join(model_path, 'new_test_pred_best'))\n",
            "            if 'new_test_pred_last' not in os.listdir(model_path):\n",
            "                os.mkdir(os.path.join(model_path, 'new_test_pred_last'))\n",
            "\n",
            "            # Carregar as previsões do modelo atual\n",
            "            model_preds_path_best = os.path.join(model_path, \"test_pred_best/predictions.csv\")\n",
            "            model_preds_path_last = os.path.join(model_path, \"test_pred_last/predictions.csv\")\n",
            "\n",
            "            model_preds_best = pd.read_csv(model_preds_path_best).sort_values(by=['image'])\n",
            "            model_preds_last = pd.read_csv(model_preds_path_last).sort_values(by=['image'])\n",
            "\n",
            "            metrics_best = Metrics ([\"accuracy\", \"topk_accuracy\", \"balanced_accuracy\", \"conf_matrix\" \"plot_conf_matrix\", \"precision_recall_report\", \"auc_and_roc_curve\", \"auc\"] , _labels_name, _metric_options_best)\n",
            "            metrics_last = Metrics ([\"accuracy\", \"topk_accuracy\", \"balanced_accuracy\", \"conf_matrix\" \"plot_conf_matrix\", \"precision_recall_report\", \"auc_and_roc_curve\", \"auc\"] , _labels_name, _metric_options_last)\n",
            "\n",
            "            metrics_best.update_scores(true_labels, model_preds_best[['0','1','2']].to_numpy(), model_preds_best[['image']].to_numpy())\n",
            "            metrics_last.update_scores(true_labels, model_preds_best[['0','1','2']].to_numpy(), model_preds_best[['image']].to_numpy())\n",
            "\n",
            "            metrics_best.compute_metrics()\n",
            "            metrics_last.compute_metrics()\n",
            "\n",
            "            metrics_best.save_scores()\n",
            "            metrics_last.save_scores()\n",
            "\n",
            "            for auc_metric in metrics_best.metrics_values['auc_and_roc_curve'][0]:\n",
            "                metrics_best.metrics_values[\"auc_\" + str(auc_metric)] = metrics_best.metrics_values['auc_and_roc_curve'][0][auc_metric]\n",
            "                metrics_last.metrics_values[\"auc_\" + str(auc_metric)] = metrics_last.metrics_values['auc_and_roc_curve'][0][auc_metric]\n",
            "            \n",
            "            # del metrics_best.metrics_values['conf_matrix']\n",
            "            del metrics_best.metrics_values['auc_and_roc_curve']\n",
            "            del metrics_best.metrics_values['precision_recall_report']\n",
            "\n",
            "            # del metrics_last.metrics_values['conf_matrix']\n",
            "            del metrics_last.metrics_values['auc_and_roc_curve']\n",
            "            del metrics_last.metrics_values['precision_recall_report']\n",
            "\n",
            "            folder_name = {'folder_name': model_folder, 'model_name': model_folder.split('_fold')[0]}\n",
            "            dict_best = {**folder_name, **metrics_best.metrics_values}\n",
            "            dict_last = {**folder_name, **metrics_last.metrics_values}\n",
            "\n",
            "\n",
            "            df_best = df_best.append(pd.DataFrame(dict_best, columns=dict_best.keys(), index=[0]), ignore_index=True)\n",
            "            df_last = df_last.append(pd.DataFrame(dict_last, columns=dict_last.keys(), index=[0]), ignore_index=True)\n",
            "\n",
            "    except Exception as e:\n",
            "        print(\"Erro no experimento \", experiment_folder)\n",
            "        print(e)\n",
            "\n",
            "\n",
            "    df_best.to_csv(os.path.join(experiment_path, 'results_best.csv'), index=False)\n",
            "    df_last.to_csv(os.path.join(experiment_path, 'results_last.csv'), index=False)\n",
            "\n",
            "# Avaliar a precisão do modelo de ensemble\n",
            "# true_classes_path = os.path.join(folder_path, \"true_classes.csv\")\n",
            "# true_classes = np.loadtxt(_csv_path_test, delimiter=\",\", skiprows=1)\n",
            "\n",
            "# from sklearn.metrics import accuracy_score, precision_score, recall_score, f1_score\n",
            "\n",
            "# accuracy = accuracy_score(true_classes, ensemble_classes)\n",
            "# precision = precision_score(true_classes, ensemble_classes, average=\"macro\")\n",
            "# recall = recall_score(true_classes, ensemble_classes, average=\"macro\")\n",
            "# f1 = f1_score(true_classes, ensemble_classes, average=\"macro\")\n",
            "\n",
            "# # Imprimir as métricas de avaliação\n",
            "# print(f\"Acurácia: {accuracy:.3f}\")\n",
            "# print(f\"Precisão: {precision:.3f}\")\n",
            "# print(f\"Recall: {recall:.3f}\")\n",
            "# print(f\"F1-score: {f1:.3f}\")\n"
         ]
      },
      {
         "cell_type": "code",
         "execution_count": 6,
         "metadata": {},
         "outputs": [
            {
               "ename": "InvalidConfigError",
               "evalue": "Invalid client secrets file ('Error opening file', 'client_secrets.json', 'No such file or directory', 2)",
               "output_type": "error",
               "traceback": [
                  "\u001b[0;31m---------------------------------------------------------------------------\u001b[0m",
                  "\u001b[0;31mFileNotFoundError\u001b[0m                         Traceback (most recent call last)",
                  "\u001b[0;32m~/Desktop/masters/cnn/learning_cycle/benchmarks/isic/venv/lib/python3.7/site-packages/oauth2client/clientsecrets.py\u001b[0m in \u001b[0;36m_loadfile\u001b[0;34m(filename)\u001b[0m\n\u001b[1;32m    120\u001b[0m     \u001b[0;32mtry\u001b[0m\u001b[0;34m:\u001b[0m\u001b[0;34m\u001b[0m\u001b[0;34m\u001b[0m\u001b[0m\n\u001b[0;32m--> 121\u001b[0;31m         \u001b[0;32mwith\u001b[0m \u001b[0mopen\u001b[0m\u001b[0;34m(\u001b[0m\u001b[0mfilename\u001b[0m\u001b[0;34m,\u001b[0m \u001b[0;34m'r'\u001b[0m\u001b[0;34m)\u001b[0m \u001b[0;32mas\u001b[0m \u001b[0mfp\u001b[0m\u001b[0;34m:\u001b[0m\u001b[0;34m\u001b[0m\u001b[0;34m\u001b[0m\u001b[0m\n\u001b[0m\u001b[1;32m    122\u001b[0m             \u001b[0mobj\u001b[0m \u001b[0;34m=\u001b[0m \u001b[0mjson\u001b[0m\u001b[0;34m.\u001b[0m\u001b[0mload\u001b[0m\u001b[0;34m(\u001b[0m\u001b[0mfp\u001b[0m\u001b[0;34m)\u001b[0m\u001b[0;34m\u001b[0m\u001b[0;34m\u001b[0m\u001b[0m\n",
                  "\u001b[0;31mFileNotFoundError\u001b[0m: [Errno 2] No such file or directory: 'client_secrets.json'",
                  "\nDuring handling of the above exception, another exception occurred:\n",
                  "\u001b[0;31mInvalidClientSecretsError\u001b[0m                 Traceback (most recent call last)",
                  "\u001b[0;32m~/Desktop/masters/cnn/learning_cycle/benchmarks/isic/venv/lib/python3.7/site-packages/pydrive/auth.py\u001b[0m in \u001b[0;36mLoadClientConfigFile\u001b[0;34m(self, client_config_file)\u001b[0m\n\u001b[1;32m    385\u001b[0m     \u001b[0;32mtry\u001b[0m\u001b[0;34m:\u001b[0m\u001b[0;34m\u001b[0m\u001b[0;34m\u001b[0m\u001b[0m\n\u001b[0;32m--> 386\u001b[0;31m       \u001b[0mclient_type\u001b[0m\u001b[0;34m,\u001b[0m \u001b[0mclient_info\u001b[0m \u001b[0;34m=\u001b[0m \u001b[0mclientsecrets\u001b[0m\u001b[0;34m.\u001b[0m\u001b[0mloadfile\u001b[0m\u001b[0;34m(\u001b[0m\u001b[0mclient_config_file\u001b[0m\u001b[0;34m)\u001b[0m\u001b[0;34m\u001b[0m\u001b[0;34m\u001b[0m\u001b[0m\n\u001b[0m\u001b[1;32m    387\u001b[0m     \u001b[0;32mexcept\u001b[0m \u001b[0mclientsecrets\u001b[0m\u001b[0;34m.\u001b[0m\u001b[0mInvalidClientSecretsError\u001b[0m \u001b[0;32mas\u001b[0m \u001b[0merror\u001b[0m\u001b[0;34m:\u001b[0m\u001b[0;34m\u001b[0m\u001b[0;34m\u001b[0m\u001b[0m\n",
                  "\u001b[0;32m~/Desktop/masters/cnn/learning_cycle/benchmarks/isic/venv/lib/python3.7/site-packages/oauth2client/clientsecrets.py\u001b[0m in \u001b[0;36mloadfile\u001b[0;34m(filename, cache)\u001b[0m\n\u001b[1;32m    164\u001b[0m     \u001b[0;32mif\u001b[0m \u001b[0;32mnot\u001b[0m \u001b[0mcache\u001b[0m\u001b[0;34m:\u001b[0m\u001b[0;34m\u001b[0m\u001b[0;34m\u001b[0m\u001b[0m\n\u001b[0;32m--> 165\u001b[0;31m         \u001b[0;32mreturn\u001b[0m \u001b[0m_loadfile\u001b[0m\u001b[0;34m(\u001b[0m\u001b[0mfilename\u001b[0m\u001b[0;34m)\u001b[0m\u001b[0;34m\u001b[0m\u001b[0;34m\u001b[0m\u001b[0m\n\u001b[0m\u001b[1;32m    166\u001b[0m \u001b[0;34m\u001b[0m\u001b[0m\n",
                  "\u001b[0;32m~/Desktop/masters/cnn/learning_cycle/benchmarks/isic/venv/lib/python3.7/site-packages/oauth2client/clientsecrets.py\u001b[0m in \u001b[0;36m_loadfile\u001b[0;34m(filename)\u001b[0m\n\u001b[1;32m    124\u001b[0m         raise InvalidClientSecretsError('Error opening file', exc.filename,\n\u001b[0;32m--> 125\u001b[0;31m                                         exc.strerror, exc.errno)\n\u001b[0m\u001b[1;32m    126\u001b[0m     \u001b[0;32mreturn\u001b[0m \u001b[0m_validate_clientsecrets\u001b[0m\u001b[0;34m(\u001b[0m\u001b[0mobj\u001b[0m\u001b[0;34m)\u001b[0m\u001b[0;34m\u001b[0m\u001b[0;34m\u001b[0m\u001b[0m\n",
                  "\u001b[0;31mInvalidClientSecretsError\u001b[0m: ('Error opening file', 'client_secrets.json', 'No such file or directory', 2)",
                  "\nDuring handling of the above exception, another exception occurred:\n",
                  "\u001b[0;31mInvalidConfigError\u001b[0m                        Traceback (most recent call last)",
                  "\u001b[0;32m/tmp/ipykernel_376539/4048590809.py\u001b[0m in \u001b[0;36m<module>\u001b[0;34m\u001b[0m\n\u001b[1;32m      2\u001b[0m \u001b[0;32mfrom\u001b[0m \u001b[0mpydrive\u001b[0m\u001b[0;34m.\u001b[0m\u001b[0mdrive\u001b[0m \u001b[0;32mimport\u001b[0m \u001b[0mGoogleDrive\u001b[0m\u001b[0;34m\u001b[0m\u001b[0;34m\u001b[0m\u001b[0m\n\u001b[1;32m      3\u001b[0m \u001b[0mgauth\u001b[0m \u001b[0;34m=\u001b[0m \u001b[0mGoogleAuth\u001b[0m\u001b[0;34m(\u001b[0m\u001b[0;34m)\u001b[0m\u001b[0;34m\u001b[0m\u001b[0;34m\u001b[0m\u001b[0m\n\u001b[0;32m----> 4\u001b[0;31m \u001b[0mgauth\u001b[0m\u001b[0;34m.\u001b[0m\u001b[0mLocalWebserverAuth\u001b[0m\u001b[0;34m(\u001b[0m\u001b[0;34m)\u001b[0m\u001b[0;34m\u001b[0m\u001b[0;34m\u001b[0m\u001b[0m\n\u001b[0m\u001b[1;32m      5\u001b[0m \u001b[0mdrive\u001b[0m \u001b[0;34m=\u001b[0m \u001b[0mGoogleDrive\u001b[0m\u001b[0;34m(\u001b[0m\u001b[0mgauth\u001b[0m\u001b[0;34m)\u001b[0m\u001b[0;34m\u001b[0m\u001b[0;34m\u001b[0m\u001b[0m\n\u001b[1;32m      6\u001b[0m \u001b[0;34m\u001b[0m\u001b[0m\n",
                  "\u001b[0;32m~/Desktop/masters/cnn/learning_cycle/benchmarks/isic/venv/lib/python3.7/site-packages/pydrive/auth.py\u001b[0m in \u001b[0;36m_decorated\u001b[0;34m(self, *args, **kwargs)\u001b[0m\n\u001b[1;32m    111\u001b[0m       \u001b[0mself\u001b[0m\u001b[0;34m.\u001b[0m\u001b[0mLoadCredentials\u001b[0m\u001b[0;34m(\u001b[0m\u001b[0;34m)\u001b[0m\u001b[0;34m\u001b[0m\u001b[0;34m\u001b[0m\u001b[0m\n\u001b[1;32m    112\u001b[0m     \u001b[0;32mif\u001b[0m \u001b[0mself\u001b[0m\u001b[0;34m.\u001b[0m\u001b[0mflow\u001b[0m \u001b[0;32mis\u001b[0m \u001b[0;32mNone\u001b[0m\u001b[0;34m:\u001b[0m\u001b[0;34m\u001b[0m\u001b[0;34m\u001b[0m\u001b[0m\n\u001b[0;32m--> 113\u001b[0;31m       \u001b[0mself\u001b[0m\u001b[0;34m.\u001b[0m\u001b[0mGetFlow\u001b[0m\u001b[0;34m(\u001b[0m\u001b[0;34m)\u001b[0m\u001b[0;34m\u001b[0m\u001b[0;34m\u001b[0m\u001b[0m\n\u001b[0m\u001b[1;32m    114\u001b[0m     \u001b[0;32mif\u001b[0m \u001b[0mself\u001b[0m\u001b[0;34m.\u001b[0m\u001b[0mcredentials\u001b[0m \u001b[0;32mis\u001b[0m \u001b[0;32mNone\u001b[0m\u001b[0;34m:\u001b[0m\u001b[0;34m\u001b[0m\u001b[0;34m\u001b[0m\u001b[0m\n\u001b[1;32m    115\u001b[0m       \u001b[0mcode\u001b[0m \u001b[0;34m=\u001b[0m \u001b[0mdecoratee\u001b[0m\u001b[0;34m(\u001b[0m\u001b[0mself\u001b[0m\u001b[0;34m,\u001b[0m \u001b[0;34m*\u001b[0m\u001b[0margs\u001b[0m\u001b[0;34m,\u001b[0m \u001b[0;34m**\u001b[0m\u001b[0mkwargs\u001b[0m\u001b[0;34m)\u001b[0m\u001b[0;34m\u001b[0m\u001b[0;34m\u001b[0m\u001b[0m\n",
                  "\u001b[0;32m~/Desktop/masters/cnn/learning_cycle/benchmarks/isic/venv/lib/python3.7/site-packages/pydrive/auth.py\u001b[0m in \u001b[0;36mGetFlow\u001b[0;34m(self)\u001b[0m\n\u001b[1;32m    441\u001b[0m     if not all(config in self.client_config \\\n\u001b[1;32m    442\u001b[0m                for config in self.CLIENT_CONFIGS_LIST):\n\u001b[0;32m--> 443\u001b[0;31m       \u001b[0mself\u001b[0m\u001b[0;34m.\u001b[0m\u001b[0mLoadClientConfig\u001b[0m\u001b[0;34m(\u001b[0m\u001b[0;34m)\u001b[0m\u001b[0;34m\u001b[0m\u001b[0;34m\u001b[0m\u001b[0m\n\u001b[0m\u001b[1;32m    444\u001b[0m     constructor_kwargs = {\n\u001b[1;32m    445\u001b[0m         \u001b[0;34m'redirect_uri'\u001b[0m\u001b[0;34m:\u001b[0m \u001b[0mself\u001b[0m\u001b[0;34m.\u001b[0m\u001b[0mclient_config\u001b[0m\u001b[0;34m[\u001b[0m\u001b[0;34m'redirect_uri'\u001b[0m\u001b[0;34m]\u001b[0m\u001b[0;34m,\u001b[0m\u001b[0;34m\u001b[0m\u001b[0;34m\u001b[0m\u001b[0m\n",
                  "\u001b[0;32m~/Desktop/masters/cnn/learning_cycle/benchmarks/isic/venv/lib/python3.7/site-packages/pydrive/auth.py\u001b[0m in \u001b[0;36mLoadClientConfig\u001b[0;34m(self, backend)\u001b[0m\n\u001b[1;32m    364\u001b[0m         \u001b[0;32mraise\u001b[0m \u001b[0mInvalidConfigError\u001b[0m\u001b[0;34m(\u001b[0m\u001b[0;34m'Please specify client config backend'\u001b[0m\u001b[0;34m)\u001b[0m\u001b[0;34m\u001b[0m\u001b[0;34m\u001b[0m\u001b[0m\n\u001b[1;32m    365\u001b[0m     \u001b[0;32mif\u001b[0m \u001b[0mbackend\u001b[0m \u001b[0;34m==\u001b[0m \u001b[0;34m'file'\u001b[0m\u001b[0;34m:\u001b[0m\u001b[0;34m\u001b[0m\u001b[0;34m\u001b[0m\u001b[0m\n\u001b[0;32m--> 366\u001b[0;31m       \u001b[0mself\u001b[0m\u001b[0;34m.\u001b[0m\u001b[0mLoadClientConfigFile\u001b[0m\u001b[0;34m(\u001b[0m\u001b[0;34m)\u001b[0m\u001b[0;34m\u001b[0m\u001b[0;34m\u001b[0m\u001b[0m\n\u001b[0m\u001b[1;32m    367\u001b[0m     \u001b[0;32melif\u001b[0m \u001b[0mbackend\u001b[0m \u001b[0;34m==\u001b[0m \u001b[0;34m'settings'\u001b[0m\u001b[0;34m:\u001b[0m\u001b[0;34m\u001b[0m\u001b[0;34m\u001b[0m\u001b[0m\n\u001b[1;32m    368\u001b[0m       \u001b[0mself\u001b[0m\u001b[0;34m.\u001b[0m\u001b[0mLoadClientConfigSettings\u001b[0m\u001b[0;34m(\u001b[0m\u001b[0;34m)\u001b[0m\u001b[0;34m\u001b[0m\u001b[0;34m\u001b[0m\u001b[0m\n",
                  "\u001b[0;32m~/Desktop/masters/cnn/learning_cycle/benchmarks/isic/venv/lib/python3.7/site-packages/pydrive/auth.py\u001b[0m in \u001b[0;36mLoadClientConfigFile\u001b[0;34m(self, client_config_file)\u001b[0m\n\u001b[1;32m    386\u001b[0m       \u001b[0mclient_type\u001b[0m\u001b[0;34m,\u001b[0m \u001b[0mclient_info\u001b[0m \u001b[0;34m=\u001b[0m \u001b[0mclientsecrets\u001b[0m\u001b[0;34m.\u001b[0m\u001b[0mloadfile\u001b[0m\u001b[0;34m(\u001b[0m\u001b[0mclient_config_file\u001b[0m\u001b[0;34m)\u001b[0m\u001b[0;34m\u001b[0m\u001b[0;34m\u001b[0m\u001b[0m\n\u001b[1;32m    387\u001b[0m     \u001b[0;32mexcept\u001b[0m \u001b[0mclientsecrets\u001b[0m\u001b[0;34m.\u001b[0m\u001b[0mInvalidClientSecretsError\u001b[0m \u001b[0;32mas\u001b[0m \u001b[0merror\u001b[0m\u001b[0;34m:\u001b[0m\u001b[0;34m\u001b[0m\u001b[0;34m\u001b[0m\u001b[0m\n\u001b[0;32m--> 388\u001b[0;31m       \u001b[0;32mraise\u001b[0m \u001b[0mInvalidConfigError\u001b[0m\u001b[0;34m(\u001b[0m\u001b[0;34m'Invalid client secrets file %s'\u001b[0m \u001b[0;34m%\u001b[0m \u001b[0merror\u001b[0m\u001b[0;34m)\u001b[0m\u001b[0;34m\u001b[0m\u001b[0;34m\u001b[0m\u001b[0m\n\u001b[0m\u001b[1;32m    389\u001b[0m     if not client_type in (clientsecrets.TYPE_WEB,\n\u001b[1;32m    390\u001b[0m                            clientsecrets.TYPE_INSTALLED):\n",
                  "\u001b[0;31mInvalidConfigError\u001b[0m: Invalid client secrets file ('Error opening file', 'client_secrets.json', 'No such file or directory', 2)"
               ]
            }
         ],
         "source": [
            "from pydrive.auth import GoogleAuth\n",
            "from pydrive.drive import GoogleDrive\n",
            "gauth = GoogleAuth()   \n",
            "gauth.LocalWebserverAuth()\n",
            "drive = GoogleDrive(gauth)  \n",
            "\n",
            "# densenet121_fold-1_lrinit-0.0001_batchsize-32_optimizer-Adam_maxepochs-150_DA-2_PPen-None_PPha-None_PPco-shades_of_gray_PPde-None_PPno-True_PPcr-cropped_images_folder_PPre-True_drop-0.0_trainjustclassifier-False_1681078943104982"
         ]
      }
   ],
   "metadata": {
      "kernelspec": {
         "display_name": "venv",
         "language": "python",
         "name": "python3"
      },
      "language_info": {
         "codemirror_mode": {
            "name": "ipython",
            "version": 3
         },
         "file_extension": ".py",
         "mimetype": "text/x-python",
         "name": "python",
         "nbconvert_exporter": "python",
         "pygments_lexer": "ipython3",
         "version": "3.7.16"
      },
      "orig_nbformat": 4
   },
   "nbformat": 4,
   "nbformat_minor": 2
}
