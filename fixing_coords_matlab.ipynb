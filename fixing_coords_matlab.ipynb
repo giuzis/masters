{
 "cells": [
  {
   "cell_type": "code",
   "execution_count": 35,
   "metadata": {},
   "outputs": [],
   "source": [
    "import pandas as pd\n",
    "\n",
    "path1 = r'C:\\\\Users\\\\usuário\\Documents\\\\mestrado\\dissertação\\datasets\\\\ISIC2017\\\\Training_data_processed_2\\\\cut_coords.csv'\n",
    "path2 = r'C:\\\\Users\\\\usuário\\Documents\\\\mestrado\\dissertação\\datasets\\\\ISIC2017\\\\Training_data_processed_2\\\\successfully_cutted_2\\\\coords_cut.csv'\n",
    "\n",
    "all_coords = pd.read_csv(path1, sep=',')\n",
    "matlab = pd.read_csv(path2, sep=',')\n"
   ]
  },
  {
   "cell_type": "code",
   "execution_count": 36,
   "metadata": {},
   "outputs": [
    {
     "name": "stderr",
     "output_type": "stream",
     "text": [
      "C:\\Users\\usuário\\AppData\\Local\\Temp\\ipykernel_4668\\3554142731.py:12: SettingWithCopyWarning: \n",
      "A value is trying to be set on a copy of a slice from a DataFrame.\n",
      "Try using .loc[row_indexer,col_indexer] = value instead\n",
      "\n",
      "See the caveats in the documentation: https://pandas.pydata.org/pandas-docs/stable/user_guide/indexing.html#returning-a-view-versus-a-copy\n",
      "  all_coords.loc[all_coords['name'] == row['name']]['coords'] = f'{b} {t} {r} {l}'\n"
     ]
    }
   ],
   "source": [
    "path1 = r'C:\\\\Users\\\\usuário\\Documents\\\\mestrado\\dissertação\\datasets\\\\ISIC2017\\\\Training_data_processed_2\\\\cut_coords_all.csv'\n",
    "path2 = r'C:\\\\Users\\\\usuário\\Documents\\\\mestrado\\dissertação\\datasets\\\\ISIC2017\\\\Training_data_processed_2\\\\successfully_cutted_2\\\\coords_cut_corrected.csv'\n",
    "\n",
    "\n",
    "matlab['coords_b_t_r_l'] = ''\n",
    "for _, row in matlab.iterrows():\n",
    "    coords_matlab = row['coords_xmin_ymin_width_height'].split()\n",
    "    l = int(coords_matlab[0])\n",
    "    t = int(coords_matlab[1])\n",
    "    r = l + int(coords_matlab[2])\n",
    "    b = t + int(coords_matlab[3])\n",
    "    row['coords_b_t_r_l'] = f'{b} {t} {r} {l}'\n",
    "\n",
    "matlab.to_csv(path2,index=False)"
   ]
  },
  {
   "cell_type": "code",
   "execution_count": 40,
   "metadata": {},
   "outputs": [],
   "source": [
    "matlab = pd.read_csv(path2, sep=',')\n",
    "\n",
    "all_coords_updated = pd.merge(all_coords, matlab, on=['name'], how='left')\n",
    "\n",
    "all_coords_updated.loc[~all_coords_updated['coords_b_t_r_l'].isna(), 'coords'] = all_coords_updated.loc[~all_coords_updated['coords_b_t_r_l'].isna(), 'coords_b_t_r_l']\n",
    "\n",
    "all_coords_updated[~all_coords_updated['coords_b_t_r_l'].isna()]\n",
    "\n",
    "all_coords_updated = all_coords_updated[['name', 'coords']]\n",
    "\n",
    "all_coords_updated.to_csv(path1, index=False)"
   ]
  }
 ],
 "metadata": {
  "kernelspec": {
   "display_name": "Python 3.10.7 ('venv': venv)",
   "language": "python",
   "name": "python3"
  },
  "language_info": {
   "codemirror_mode": {
    "name": "ipython",
    "version": 3
   },
   "file_extension": ".py",
   "mimetype": "text/x-python",
   "name": "python",
   "nbconvert_exporter": "python",
   "pygments_lexer": "ipython3",
   "version": "3.10.8 (tags/v3.10.8:aaaf517, Oct 11 2022, 16:50:30) [MSC v.1933 64 bit (AMD64)]"
  },
  "orig_nbformat": 4,
  "vscode": {
   "interpreter": {
    "hash": "5dddab3f9dcea3e0699dbfd5269a7c101e0ce7b95edb30a58b5ce5aac2bf385d"
   }
  }
 },
 "nbformat": 4,
 "nbformat_minor": 2
}
