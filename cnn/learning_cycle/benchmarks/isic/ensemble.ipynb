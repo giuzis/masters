{
 "cells": [
  {
   "cell_type": "code",
   "execution_count": 7,
   "metadata": {},
   "outputs": [
    {
     "name": "stdout",
     "output_type": "stream",
     "text": [
      "Experimento:  dull_razor_shades_of_gray_cropped_images_folder_2\n",
      "Saving the scores in best_results/dull_razor_shades_of_gray_cropped_images_folder_2/ensemble_average/best\n",
      "Saving the scores in best_results/dull_razor_shades_of_gray_cropped_images_folder_2/ensemble_average/last\n",
      "Experimento:  DA0_noPP\n",
      "Saving the scores in best_results/DA0_noPP/ensemble_average/best\n",
      "Saving the scores in best_results/DA0_noPP/ensemble_average/last\n",
      "Experimento:  dull_razor\n",
      "Saving the scores in best_results/dull_razor/ensemble_average/best\n",
      "Saving the scores in best_results/dull_razor/ensemble_average/last\n",
      "Experimento:  DA1_noPP\n",
      "Saving the scores in best_results/DA1_noPP/ensemble_average/best\n",
      "Saving the scores in best_results/DA1_noPP/ensemble_average/last\n",
      "Experimento:  shades_of_gray_cropped_images_folder\n",
      "Saving the scores in best_results/shades_of_gray_cropped_images_folder/ensemble_average/best\n",
      "Saving the scores in best_results/shades_of_gray_cropped_images_folder/ensemble_average/last\n",
      "Experimento:  dull_razor_shades_of_gray_cropped_images_folder\n",
      "Saving the scores in best_results/dull_razor_shades_of_gray_cropped_images_folder/ensemble_average/best\n",
      "Saving the scores in best_results/dull_razor_shades_of_gray_cropped_images_folder/ensemble_average/last\n",
      "Experimento:  DA3_noPP\n",
      "Erro no experimento  DA3_noPP\n",
      "[Errno 2] No such file or directory: 'best_results/DA3_noPP/efficientnet_b0_fold-1_lrinit-0.001_batchsize-8_optimizer-AdamW_maxepochs-50_DA-3_PPen-None_PPha-None_PPco-None_PPde-None_PPno-True_PPcr-None_PPre-True_16787438097050428/test_pred_best/predictions.csv'\n",
      "Experimento:  dull_razor_shades_of_gray\n",
      "Saving the scores in best_results/dull_razor_shades_of_gray/ensemble_average/best\n",
      "Saving the scores in best_results/dull_razor_shades_of_gray/ensemble_average/last\n",
      "Experimento:  dull_razor_2\n",
      "Saving the scores in best_results/dull_razor_2/ensemble_average/best\n",
      "Saving the scores in best_results/dull_razor_2/ensemble_average/last\n",
      "Experimento:  non_local_means_cropped_images_folder\n",
      "Saving the scores in best_results/non_local_means_cropped_images_folder/ensemble_average/best\n",
      "Saving the scores in best_results/non_local_means_cropped_images_folder/ensemble_average/last\n",
      "Experimento:  DA1_PPcropped\n",
      "Saving the scores in best_results/DA1_PPcropped/ensemble_average/best\n",
      "Saving the scores in best_results/DA1_PPcropped/ensemble_average/last\n",
      "Experimento:  gaussian_filter_2\n"
     ]
    },
    {
     "name": "stderr",
     "output_type": "stream",
     "text": [
      "/home/a52550/Desktop/masters/cnn/learning_cycle/benchmarks/isic/raug/utils/classification_metrics.py:347: RuntimeWarning: More than 20 figures have been opened. Figures created through the pyplot interface (`matplotlib.pyplot.figure`) are retained until explicitly closed and may consume too much memory. (To control this warning, see the rcParam `figure.max_open_warning`).\n",
      "  plt.figure()\n"
     ]
    },
    {
     "name": "stdout",
     "output_type": "stream",
     "text": [
      "Saving the scores in best_results/gaussian_filter_2/ensemble_average/best\n",
      "Saving the scores in best_results/gaussian_filter_2/ensemble_average/last\n",
      "Experimento:  CLAHE_cropped_images_folder\n",
      "Erro no experimento  CLAHE_cropped_images_folder\n",
      "[Errno 2] No such file or directory: 'best_results/CLAHE_cropped_images_folder/efficientnet_b6_fold-1_lrinit-0.001_batchsize-4_optimizer-SGD_maxepochs-50_DA-None_PPen-CLAHE_PPha-None_PPco-None_PPde-None_PPno-True_PPcr-cropped_images_folder_PPre-True_16794346882817037/test_pred_best/predictions.csv'\n",
      "Experimento:  dull_razor_cropped_images_folder\n",
      "Saving the scores in best_results/dull_razor_cropped_images_folder/ensemble_average/best\n",
      "Saving the scores in best_results/dull_razor_cropped_images_folder/ensemble_average/last\n",
      "Experimento:  noDA_PPcropped_2\n",
      "Saving the scores in best_results/noDA_PPcropped_2/ensemble_average/best\n",
      "Saving the scores in best_results/noDA_PPcropped_2/ensemble_average/last\n",
      "Experimento:  DA2_noPP\n",
      "Saving the scores in best_results/DA2_noPP/ensemble_average/best\n",
      "Saving the scores in best_results/DA2_noPP/ensemble_average/last\n",
      "Experimento:  CLAHE_2\n",
      "Saving the scores in best_results/CLAHE_2/ensemble_average/best\n",
      "Saving the scores in best_results/CLAHE_2/ensemble_average/last\n",
      "Experimento:  mean_filter_cropped_images_folder\n",
      "Saving the scores in best_results/mean_filter_cropped_images_folder/ensemble_average/best\n",
      "Saving the scores in best_results/mean_filter_cropped_images_folder/ensemble_average/last\n",
      "Experimento:  train_classifier_only\n",
      "Saving the scores in best_results/train_classifier_only/ensemble_average/best\n",
      "Saving the scores in best_results/train_classifier_only/ensemble_average/last\n",
      "Experimento:  non_local_means\n",
      "Saving the scores in best_results/non_local_means/ensemble_average/best\n",
      "Saving the scores in best_results/non_local_means/ensemble_average/last\n",
      "Experimento:  non_local_means_2\n",
      "Saving the scores in best_results/non_local_means_2/ensemble_average/best\n",
      "Saving the scores in best_results/non_local_means_2/ensemble_average/last\n",
      "Experimento:  gaussian_filter_cropped_images_folder\n",
      "Saving the scores in best_results/gaussian_filter_cropped_images_folder/ensemble_average/best\n",
      "Saving the scores in best_results/gaussian_filter_cropped_images_folder/ensemble_average/last\n",
      "Experimento:  DA4_noPP\n",
      "Saving the scores in best_results/DA4_noPP/ensemble_average/best\n",
      "Saving the scores in best_results/DA4_noPP/ensemble_average/last\n",
      "Experimento:  dull_razor_shades_of_gray_2\n",
      "Saving the scores in best_results/dull_razor_shades_of_gray_2/ensemble_average/best\n",
      "Saving the scores in best_results/dull_razor_shades_of_gray_2/ensemble_average/last\n",
      "Experimento:  gaussian_filter\n",
      "Saving the scores in best_results/gaussian_filter/ensemble_average/best\n",
      "Saving the scores in best_results/gaussian_filter/ensemble_average/last\n",
      "Experimento:  shades_of_gray_2\n",
      "Saving the scores in best_results/shades_of_gray_2/ensemble_average/best\n",
      "Saving the scores in best_results/shades_of_gray_2/ensemble_average/last\n",
      "Experimento:  noDA_noPP\n",
      "Saving the scores in best_results/noDA_noPP/ensemble_average/best\n",
      "Saving the scores in best_results/noDA_noPP/ensemble_average/last\n",
      "Experimento:  shades_of_gray\n",
      "Saving the scores in best_results/shades_of_gray/ensemble_average/best\n",
      "Saving the scores in best_results/shades_of_gray/ensemble_average/last\n",
      "Experimento:  mean_filter\n",
      "Saving the scores in best_results/mean_filter/ensemble_average/best\n",
      "Saving the scores in best_results/mean_filter/ensemble_average/last\n",
      "Experimento:  mean_filter_2\n",
      "Saving the scores in best_results/mean_filter_2/ensemble_average/best\n",
      "Saving the scores in best_results/mean_filter_2/ensemble_average/last\n",
      "Experimento:  noDA_noPP_2\n",
      "Saving the scores in best_results/noDA_noPP_2/ensemble_average/best\n",
      "Saving the scores in best_results/noDA_noPP_2/ensemble_average/last\n",
      "Experimento:  DA0_PPcropped\n",
      "Saving the scores in best_results/DA0_PPcropped/ensemble_average/best\n",
      "Saving the scores in best_results/DA0_PPcropped/ensemble_average/last\n",
      "Experimento:  noDA_PPcropped\n",
      "Saving the scores in best_results/noDA_PPcropped/ensemble_average/best\n",
      "Saving the scores in best_results/noDA_PPcropped/ensemble_average/last\n",
      "Experimento:  CLAHE\n",
      "Saving the scores in best_results/CLAHE/ensemble_average/best\n",
      "Saving the scores in best_results/CLAHE/ensemble_average/last\n"
     ]
    },
    {
     "data": {
      "text/plain": [
       "<Figure size 640x480 with 0 Axes>"
      ]
     },
     "metadata": {},
     "output_type": "display_data"
    },
    {
     "data": {
      "text/plain": [
       "<Figure size 640x480 with 0 Axes>"
      ]
     },
     "metadata": {},
     "output_type": "display_data"
    },
    {
     "data": {
      "text/plain": [
       "<Figure size 640x480 with 0 Axes>"
      ]
     },
     "metadata": {},
     "output_type": "display_data"
    },
    {
     "data": {
      "text/plain": [
       "<Figure size 640x480 with 0 Axes>"
      ]
     },
     "metadata": {},
     "output_type": "display_data"
    },
    {
     "data": {
      "text/plain": [
       "<Figure size 640x480 with 0 Axes>"
      ]
     },
     "metadata": {},
     "output_type": "display_data"
    },
    {
     "data": {
      "text/plain": [
       "<Figure size 640x480 with 0 Axes>"
      ]
     },
     "metadata": {},
     "output_type": "display_data"
    },
    {
     "data": {
      "text/plain": [
       "<Figure size 640x480 with 0 Axes>"
      ]
     },
     "metadata": {},
     "output_type": "display_data"
    },
    {
     "data": {
      "text/plain": [
       "<Figure size 640x480 with 0 Axes>"
      ]
     },
     "metadata": {},
     "output_type": "display_data"
    },
    {
     "data": {
      "text/plain": [
       "<Figure size 640x480 with 0 Axes>"
      ]
     },
     "metadata": {},
     "output_type": "display_data"
    },
    {
     "data": {
      "text/plain": [
       "<Figure size 640x480 with 0 Axes>"
      ]
     },
     "metadata": {},
     "output_type": "display_data"
    },
    {
     "data": {
      "text/plain": [
       "<Figure size 640x480 with 0 Axes>"
      ]
     },
     "metadata": {},
     "output_type": "display_data"
    },
    {
     "data": {
      "text/plain": [
       "<Figure size 640x480 with 0 Axes>"
      ]
     },
     "metadata": {},
     "output_type": "display_data"
    },
    {
     "data": {
      "text/plain": [
       "<Figure size 640x480 with 0 Axes>"
      ]
     },
     "metadata": {},
     "output_type": "display_data"
    },
    {
     "data": {
      "text/plain": [
       "<Figure size 640x480 with 0 Axes>"
      ]
     },
     "metadata": {},
     "output_type": "display_data"
    },
    {
     "data": {
      "text/plain": [
       "<Figure size 640x480 with 0 Axes>"
      ]
     },
     "metadata": {},
     "output_type": "display_data"
    },
    {
     "data": {
      "text/plain": [
       "<Figure size 640x480 with 0 Axes>"
      ]
     },
     "metadata": {},
     "output_type": "display_data"
    },
    {
     "data": {
      "text/plain": [
       "<Figure size 640x480 with 0 Axes>"
      ]
     },
     "metadata": {},
     "output_type": "display_data"
    },
    {
     "data": {
      "text/plain": [
       "<Figure size 640x480 with 0 Axes>"
      ]
     },
     "metadata": {},
     "output_type": "display_data"
    },
    {
     "data": {
      "text/plain": [
       "<Figure size 640x480 with 0 Axes>"
      ]
     },
     "metadata": {},
     "output_type": "display_data"
    },
    {
     "data": {
      "text/plain": [
       "<Figure size 640x480 with 0 Axes>"
      ]
     },
     "metadata": {},
     "output_type": "display_data"
    },
    {
     "data": {
      "text/plain": [
       "<Figure size 640x480 with 0 Axes>"
      ]
     },
     "metadata": {},
     "output_type": "display_data"
    },
    {
     "data": {
      "text/plain": [
       "<Figure size 640x480 with 0 Axes>"
      ]
     },
     "metadata": {},
     "output_type": "display_data"
    },
    {
     "data": {
      "text/plain": [
       "<Figure size 640x480 with 0 Axes>"
      ]
     },
     "metadata": {},
     "output_type": "display_data"
    },
    {
     "data": {
      "text/plain": [
       "<Figure size 640x480 with 0 Axes>"
      ]
     },
     "metadata": {},
     "output_type": "display_data"
    },
    {
     "data": {
      "text/plain": [
       "<Figure size 640x480 with 0 Axes>"
      ]
     },
     "metadata": {},
     "output_type": "display_data"
    },
    {
     "data": {
      "text/plain": [
       "<Figure size 640x480 with 0 Axes>"
      ]
     },
     "metadata": {},
     "output_type": "display_data"
    },
    {
     "data": {
      "text/plain": [
       "<Figure size 640x480 with 0 Axes>"
      ]
     },
     "metadata": {},
     "output_type": "display_data"
    },
    {
     "data": {
      "text/plain": [
       "<Figure size 640x480 with 0 Axes>"
      ]
     },
     "metadata": {},
     "output_type": "display_data"
    },
    {
     "data": {
      "text/plain": [
       "<Figure size 640x480 with 0 Axes>"
      ]
     },
     "metadata": {},
     "output_type": "display_data"
    },
    {
     "data": {
      "text/plain": [
       "<Figure size 640x480 with 0 Axes>"
      ]
     },
     "metadata": {},
     "output_type": "display_data"
    },
    {
     "data": {
      "text/plain": [
       "<Figure size 640x480 with 0 Axes>"
      ]
     },
     "metadata": {},
     "output_type": "display_data"
    },
    {
     "data": {
      "text/plain": [
       "<Figure size 640x480 with 0 Axes>"
      ]
     },
     "metadata": {},
     "output_type": "display_data"
    },
    {
     "data": {
      "text/plain": [
       "<Figure size 640x480 with 0 Axes>"
      ]
     },
     "metadata": {},
     "output_type": "display_data"
    },
    {
     "data": {
      "text/plain": [
       "<Figure size 640x480 with 0 Axes>"
      ]
     },
     "metadata": {},
     "output_type": "display_data"
    },
    {
     "data": {
      "text/plain": [
       "<Figure size 640x480 with 0 Axes>"
      ]
     },
     "metadata": {},
     "output_type": "display_data"
    },
    {
     "data": {
      "text/plain": [
       "<Figure size 640x480 with 0 Axes>"
      ]
     },
     "metadata": {},
     "output_type": "display_data"
    },
    {
     "data": {
      "text/plain": [
       "<Figure size 640x480 with 0 Axes>"
      ]
     },
     "metadata": {},
     "output_type": "display_data"
    },
    {
     "data": {
      "text/plain": [
       "<Figure size 640x480 with 0 Axes>"
      ]
     },
     "metadata": {},
     "output_type": "display_data"
    },
    {
     "data": {
      "text/plain": [
       "<Figure size 640x480 with 0 Axes>"
      ]
     },
     "metadata": {},
     "output_type": "display_data"
    },
    {
     "data": {
      "text/plain": [
       "<Figure size 640x480 with 0 Axes>"
      ]
     },
     "metadata": {},
     "output_type": "display_data"
    },
    {
     "data": {
      "text/plain": [
       "<Figure size 640x480 with 0 Axes>"
      ]
     },
     "metadata": {},
     "output_type": "display_data"
    },
    {
     "data": {
      "text/plain": [
       "<Figure size 640x480 with 0 Axes>"
      ]
     },
     "metadata": {},
     "output_type": "display_data"
    },
    {
     "data": {
      "text/plain": [
       "<Figure size 640x480 with 0 Axes>"
      ]
     },
     "metadata": {},
     "output_type": "display_data"
    },
    {
     "data": {
      "text/plain": [
       "<Figure size 640x480 with 0 Axes>"
      ]
     },
     "metadata": {},
     "output_type": "display_data"
    },
    {
     "data": {
      "text/plain": [
       "<Figure size 640x480 with 0 Axes>"
      ]
     },
     "metadata": {},
     "output_type": "display_data"
    },
    {
     "data": {
      "text/plain": [
       "<Figure size 640x480 with 0 Axes>"
      ]
     },
     "metadata": {},
     "output_type": "display_data"
    },
    {
     "data": {
      "text/plain": [
       "<Figure size 640x480 with 0 Axes>"
      ]
     },
     "metadata": {},
     "output_type": "display_data"
    },
    {
     "data": {
      "text/plain": [
       "<Figure size 640x480 with 0 Axes>"
      ]
     },
     "metadata": {},
     "output_type": "display_data"
    },
    {
     "data": {
      "text/plain": [
       "<Figure size 640x480 with 0 Axes>"
      ]
     },
     "metadata": {},
     "output_type": "display_data"
    },
    {
     "data": {
      "text/plain": [
       "<Figure size 640x480 with 0 Axes>"
      ]
     },
     "metadata": {},
     "output_type": "display_data"
    },
    {
     "data": {
      "text/plain": [
       "<Figure size 640x480 with 0 Axes>"
      ]
     },
     "metadata": {},
     "output_type": "display_data"
    },
    {
     "data": {
      "text/plain": [
       "<Figure size 640x480 with 0 Axes>"
      ]
     },
     "metadata": {},
     "output_type": "display_data"
    },
    {
     "data": {
      "text/plain": [
       "<Figure size 640x480 with 0 Axes>"
      ]
     },
     "metadata": {},
     "output_type": "display_data"
    },
    {
     "data": {
      "text/plain": [
       "<Figure size 640x480 with 0 Axes>"
      ]
     },
     "metadata": {},
     "output_type": "display_data"
    },
    {
     "data": {
      "text/plain": [
       "<Figure size 640x480 with 0 Axes>"
      ]
     },
     "metadata": {},
     "output_type": "display_data"
    },
    {
     "data": {
      "text/plain": [
       "<Figure size 640x480 with 0 Axes>"
      ]
     },
     "metadata": {},
     "output_type": "display_data"
    },
    {
     "data": {
      "text/plain": [
       "<Figure size 640x480 with 0 Axes>"
      ]
     },
     "metadata": {},
     "output_type": "display_data"
    },
    {
     "data": {
      "text/plain": [
       "<Figure size 640x480 with 0 Axes>"
      ]
     },
     "metadata": {},
     "output_type": "display_data"
    },
    {
     "data": {
      "text/plain": [
       "<Figure size 640x480 with 0 Axes>"
      ]
     },
     "metadata": {},
     "output_type": "display_data"
    },
    {
     "data": {
      "text/plain": [
       "<Figure size 640x480 with 0 Axes>"
      ]
     },
     "metadata": {},
     "output_type": "display_data"
    },
    {
     "data": {
      "text/plain": [
       "<Figure size 640x480 with 0 Axes>"
      ]
     },
     "metadata": {},
     "output_type": "display_data"
    },
    {
     "data": {
      "text/plain": [
       "<Figure size 640x480 with 0 Axes>"
      ]
     },
     "metadata": {},
     "output_type": "display_data"
    },
    {
     "data": {
      "text/plain": [
       "<Figure size 640x480 with 0 Axes>"
      ]
     },
     "metadata": {},
     "output_type": "display_data"
    },
    {
     "data": {
      "text/plain": [
       "<Figure size 640x480 with 0 Axes>"
      ]
     },
     "metadata": {},
     "output_type": "display_data"
    }
   ],
   "source": [
    "import os\n",
    "import numpy as np\n",
    "from raug.metrics import Metrics, accuracy\n",
    "from raug.utils.loader import get_labels_frequency\n",
    "import pandas as pd\n",
    "\n",
    "# Especificar o caminho para a pasta \"best_results\"\n",
    "folder_path = \"best_results\"\n",
    "_csv_path_test = \"/home/a52550/Desktop/datasets/ISIC2017/test/ISIC-2017_Test_v2_Part3_GroundTruth.csv\"\n",
    "true_labels = pd.read_csv(_csv_path_test).sort_values(by=['image_id'])['category']\n",
    "\n",
    "# Inicializar as variáveis para armazenar as previsões dos modelos\n",
    "ensemble_preds_best = None\n",
    "ensemble_preds_last = None\n",
    "num_models = 0\n",
    "ser_lab_freq = get_labels_frequency(_csv_path_test, \"category\", \"image_id\")\n",
    "_labels_name = ser_lab_freq.index.values #np.reshape(ser_lab_freq.index.values, (ser_lab_freq.index.values.shape[0], 1))\n",
    "\n",
    "df_best = pd.DataFrame()\n",
    "df_last = pd.DataFrame()\n",
    "\n",
    "# Percorrer as pastas de cada experimento\n",
    "for experiment_folder in os.listdir(folder_path):\n",
    "\n",
    "    if \".csv\" in experiment_folder:\n",
    "        continue\n",
    "\n",
    "    print(\"Experimento: \", experiment_folder)\n",
    "\n",
    "    _metric_options_best = {\n",
    "        'save_all_path': os.path.join(folder_path, experiment_folder, 'ensemble_average/best'),\n",
    "        'pred_name_scores': 'predictions.csv',\n",
    "    }\n",
    "    _metric_options_last = {\n",
    "        'save_all_path': os.path.join(folder_path, experiment_folder, 'ensemble_average/last'),\n",
    "        'pred_name_scores': 'predictions.csv',\n",
    "    }\n",
    "\n",
    "\n",
    "    experiment_path = os.path.join(folder_path, experiment_folder)\n",
    "    metrics_best = Metrics ([\"accuracy\", \"topk_accuracy\", \"balanced_accuracy\", \"conf_matrix\" \"plot_conf_matrix\", \"precision_recall_report\", \"auc_and_roc_curve\", \"auc\"] , _labels_name, _metric_options_best)\n",
    "    metrics_last = Metrics ([\"accuracy\", \"topk_accuracy\", \"balanced_accuracy\", \"conf_matrix\" \"plot_conf_matrix\", \"precision_recall_report\", \"auc_and_roc_curve\", \"auc\"] , _labels_name, _metric_options_last)\n",
    "\n",
    "    ensemble_preds_best = None\n",
    "    ensemble_preds_last = None\n",
    "\n",
    "    model_folders = os.listdir(experiment_path)\n",
    "    \n",
    "    # Cria path para o experimento atual\n",
    "    if 'ensemble_average' in model_folders:\n",
    "        model_folders.remove('ensemble_average')\n",
    "    else:\n",
    "        os.mkdir(os.path.join(folder_path, experiment_folder, 'ensemble_average'))\n",
    "        os.mkdir(os.path.join(_metric_options_best['save_all_path']))\n",
    "        os.mkdir(os.path.join(_metric_options_last['save_all_path']))\n",
    "\n",
    "    try:\n",
    "\n",
    "        # Percorrer as pastas de cada modelo\n",
    "        for model_folder in model_folders:\n",
    "\n",
    "            model_path = os.path.join(experiment_path, model_folder)\n",
    "\n",
    "            # Carregar as previsões do modelo atual\n",
    "            model_preds_path_best = os.path.join(model_path, \"test_pred_best/predictions.csv\")\n",
    "            model_preds_path_last = os.path.join(model_path, \"test_pred_last/predictions.csv\")\n",
    "\n",
    "            model_preds_best = pd.read_csv(model_preds_path_best).sort_values(by=['image'])\n",
    "            model_preds_last = pd.read_csv(model_preds_path_last).sort_values(by=['image'])\n",
    "\n",
    "            images_id = model_preds_best[['image']]\n",
    "            model_preds_best = model_preds_best[['0','1','2']]\n",
    "            model_preds_last = model_preds_last[['0','1','2']]\n",
    "\n",
    "            # Adicionar as previsões do modelo atual ao ensemble\n",
    "            if ensemble_preds_best is None:\n",
    "                ensemble_preds_best = model_preds_best\n",
    "            else:\n",
    "                ensemble_preds_best += model_preds_best\n",
    "\n",
    "            if ensemble_preds_last is None:\n",
    "                ensemble_preds_last = model_preds_last\n",
    "            else:\n",
    "                ensemble_preds_last += model_preds_last\n",
    "\n",
    "            num_models += 1\n",
    "\n",
    "        # Calcular a média das previsões dos modelos\n",
    "        ensemble_preds_best /= num_models\n",
    "        ensemble_preds_last /= num_models\n",
    "\n",
    "        metrics_best.update_scores(true_labels, ensemble_preds_best.to_numpy(), images_id.to_numpy())\n",
    "        metrics_last.update_scores(true_labels, ensemble_preds_last.to_numpy(), images_id.to_numpy())\n",
    "\n",
    "        metrics_best.compute_metrics()\n",
    "        metrics_last.compute_metrics()\n",
    "\n",
    "        metrics_best.save_scores()\n",
    "        metrics_last.save_scores()\n",
    "\n",
    "        folder_name = {'folder_name': experiment_folder}\n",
    "        dict_best = {**folder_name, **metrics_best.metrics_values}\n",
    "        dict_last = {**folder_name, **metrics_last.metrics_values}\n",
    "\n",
    "        del dict_best['auc_and_roc_curve']\n",
    "        del dict_best['precision_recall_report']\n",
    "\n",
    "        del dict_last['auc_and_roc_curve']\n",
    "        del dict_last['precision_recall_report']\n",
    "\n",
    "        df_best = df_best.append(pd.DataFrame(dict_best, columns=dict_best.keys(), index=[0]), ignore_index=True)\n",
    "        df_last = df_last.append(pd.DataFrame(dict_last, columns=dict_last.keys(), index=[0]), ignore_index=True)\n",
    "\n",
    "    except Exception as e:\n",
    "        print(\"Erro no experimento \", experiment_folder)\n",
    "        print(e)\n",
    "\n",
    "\n",
    "df_best.to_csv(os.path.join(folder_path, 'ensemble_average_best.csv'), index=False)\n",
    "df_last.to_csv(os.path.join(folder_path, 'ensemble_average_last.csv'), index=False)\n",
    "\n",
    "# Avaliar a precisão do modelo de ensemble\n",
    "# true_classes_path = os.path.join(folder_path, \"true_classes.csv\")\n",
    "# true_classes = np.loadtxt(_csv_path_test, delimiter=\",\", skiprows=1)\n",
    "\n",
    "# from sklearn.metrics import accuracy_score, precision_score, recall_score, f1_score\n",
    "\n",
    "# accuracy = accuracy_score(true_classes, ensemble_classes)\n",
    "# precision = precision_score(true_classes, ensemble_classes, average=\"macro\")\n",
    "# recall = recall_score(true_classes, ensemble_classes, average=\"macro\")\n",
    "# f1 = f1_score(true_classes, ensemble_classes, average=\"macro\")\n",
    "\n",
    "# # Imprimir as métricas de avaliação\n",
    "# print(f\"Acurácia: {accuracy:.3f}\")\n",
    "# print(f\"Precisão: {precision:.3f}\")\n",
    "# print(f\"Recall: {recall:.3f}\")\n",
    "# print(f\"F1-score: {f1:.3f}\")\n"
   ]
  }
 ],
 "metadata": {
  "kernelspec": {
   "display_name": "venv",
   "language": "python",
   "name": "python3"
  },
  "language_info": {
   "codemirror_mode": {
    "name": "ipython",
    "version": 3
   },
   "file_extension": ".py",
   "mimetype": "text/x-python",
   "name": "python",
   "nbconvert_exporter": "python",
   "pygments_lexer": "ipython3",
   "version": "3.7.16"
  },
  "orig_nbformat": 4
 },
 "nbformat": 4,
 "nbformat_minor": 2
}
