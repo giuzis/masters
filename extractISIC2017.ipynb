{
 "cells": [
  {
   "cell_type": "code",
   "execution_count": 4,
   "metadata": {},
   "outputs": [],
   "source": [
    "import requests as r"
   ]
  },
  {
   "cell_type": "code",
   "execution_count": 6,
   "metadata": {},
   "outputs": [
    {
     "name": "stdout",
     "output_type": "stream",
     "text": [
      "{'count': 14, 'next': None, 'previous': None, 'results': [{'id': 61, 'name': 'Challenge 2016: Test', 'description': '', 'public': True, 'pinned': True, 'locked': True, 'doi': None}, {'id': 74, 'name': 'Challenge 2016: Training', 'description': '', 'public': True, 'pinned': True, 'locked': True, 'doi': None}, {'id': 69, 'name': 'Challenge 2017: Test', 'description': '', 'public': True, 'pinned': True, 'locked': True, 'doi': None}, {'id': 60, 'name': 'Challenge 2017: Training', 'description': '', 'public': True, 'pinned': True, 'locked': True, 'doi': None}, {'id': 71, 'name': 'Challenge 2017: Validation', 'description': '', 'public': True, 'pinned': True, 'locked': True, 'doi': None}, {'id': 63, 'name': 'Challenge 2018: Task 1-2: Training', 'description': '', 'public': True, 'pinned': True, 'locked': True, 'doi': None}, {'id': 66, 'name': 'Challenge 2018: Task 3: Training', 'description': '', 'public': True, 'pinned': True, 'locked': True, 'doi': None}, {'id': 65, 'name': 'Challenge 2019: Training', 'description': '', 'public': True, 'pinned': True, 'locked': True, 'doi': None}, {'id': 70, 'name': 'Challenge 2020: Training', 'description': '', 'public': True, 'pinned': True, 'locked': True, 'doi': None}, {'id': 75, 'name': 'Consumer AI apps', 'description': '', 'public': True, 'pinned': False, 'locked': True, 'doi': 'https://doi.org/10.34970/401946'}, {'id': 77, 'name': 'Melanocytic lesions used for dermoscopic feature annotations', 'description': '248 dermoscopic images of melanocytic lesions (nevi and melanomas). The images were selected for exemplars of specific features, were contributed by 21 dermoscopy experts from around the world, and are comprised of 113 nevi and 133 melanomas (plus 1 AIMP and 1 dermatofibroma).', 'public': True, 'pinned': False, 'locked': True, 'doi': 'https://doi.org/10.34970/108631'}, {'id': 97, 'name': 'Collection for ISBI 2016: 100 Lesion Classification', 'description': '', 'public': True, 'pinned': False, 'locked': True, 'doi': None}, {'id': 163, 'name': 'MSKCC Consecutive biopsies across year 2020_cohort', 'description': 'Consecutive biopsies of lesions with nevus, melanoma, lentigo, etc. in the clinical OR histologic diagnosis at MSKCC between 1/1/2020 and 12/31/2020.', 'public': True, 'pinned': False, 'locked': True, 'doi': None}, {'id': 162, 'name': 'Consecutive biopsies for melanoma across year 2020', 'description': 'Consecutive biopsies of lesions with nevus, melanoma, lentigo, etc. in the clinical OR histologic diagnosis at Memorial Sloan Kettering Cancer Center between 1/1/2020 and 12/31/2020.', 'public': True, 'pinned': False, 'locked': True, 'doi': 'https://doi.org/10.34970/151324'}]}\n"
     ]
    }
   ],
   "source": [
    "# Get all collections\n",
    "collections = r.get('https://api.isic-archive.com/api/v2/collections/')\n",
    "print(collections.json())"
   ]
  },
  {
   "cell_type": "code",
   "execution_count": 25,
   "metadata": {},
   "outputs": [],
   "source": [
    "# ISIC 2017 - Training\n",
    "next = 'https://api.isic-archive.com/api/v2/images/search/?collections=60'\n",
    "path = 'H:\\My Drive\\Mestrado\\ISIC2017\\\\test\\\\'\n",
    "\n",
    "while next != '' :\n",
    "    data = r.get(next).json()\n",
    "    images = data['results']\n",
    "    image_name = images[0]['isic_id'] + '.jpg'\n",
    "    image = r.get(images[0]['files']['full']['url']).content\n",
    "    open(path + image_name, 'wb').write(image)\n",
    "    next = '' # data['next']\n",
    "\n",
    "#not finished\n"
   ]
  }
 ],
 "metadata": {
  "kernelspec": {
   "display_name": "Python 3.10.5 ('venv': venv)",
   "language": "python",
   "name": "python3"
  },
  "language_info": {
   "codemirror_mode": {
    "name": "ipython",
    "version": 3
   },
   "file_extension": ".py",
   "mimetype": "text/x-python",
   "name": "python",
   "nbconvert_exporter": "python",
   "pygments_lexer": "ipython3",
   "version": "3.10.5"
  },
  "orig_nbformat": 4,
  "vscode": {
   "interpreter": {
    "hash": "b963312c4050fe2dab716b37288abeb72d963b3c1c1cea0b5da8dd1daef2a373"
   }
  }
 },
 "nbformat": 4,
 "nbformat_minor": 2
}
