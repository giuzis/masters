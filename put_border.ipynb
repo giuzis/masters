{
 "cells": [
  {
   "cell_type": "markdown",
   "metadata": {},
   "source": [
    "Put the images centralized in a black frame of fixed dimensions "
   ]
  },
  {
   "cell_type": "code",
   "execution_count": 41,
   "metadata": {},
   "outputs": [
    {
     "data": {
      "text/plain": [
       "{'height': 4448, 'width': 6688}"
      ]
     },
     "execution_count": 41,
     "metadata": {},
     "output_type": "execute_result"
    }
   ],
   "source": [
    "import pandas as pd\n",
    "\n",
    "path = r'C:\\\\Users\\\\usuário\\Documents\\\\mestrado\\dissertação\\datasets\\\\ISIC2017\\\\Training_data_processed\\successfully_cutted\\\\cut_coords_4.csv'\n",
    "\n",
    "all_coords = pd.read_csv(path, sep=',')\n",
    "max_dimensions_array = all_coords.loc[all_coords['name'] == 'max_dimensions']['coords_b_t_r_l'].tolist()[0].split()\n",
    "max_dimensions = {\n",
    "    'height': int(max_dimensions_array[0]),\n",
    "    'width': int(max_dimensions_array[2])\n",
    "}\n",
    "\n",
    "max_dimensions"
   ]
  },
  {
   "cell_type": "code",
   "execution_count": 42,
   "metadata": {},
   "outputs": [],
   "source": [
    "import cv2 as cv\n",
    "\n",
    "def save_image(name, img):\n",
    "    cv.imwrite('..\\datasets\\ISIC2017\\Training_data_processed\\\\framed\\\\{}.jpg'.format(name), img)\n",
    "\n",
    "def save_in_test(name, img):\n",
    "    cv.imwrite('..\\datasets\\ISIC2017\\Training_data_processed\\\\tests\\\\{}.jpg'.format(name), img)\n",
    "\n",
    "def read_image(name):\n",
    "    img = cv.imread('..\\datasets\\ISIC2017\\Training_data_processed\\\\successfully_cutted\\\\{}.jpg'.format(name))\n",
    "    return img"
   ]
  },
  {
   "cell_type": "code",
   "execution_count": 43,
   "metadata": {},
   "outputs": [
    {
     "name": "stdout",
     "output_type": "stream",
     "text": [
      "max_dimensions 'NoneType' object has no attribute 'shape'\n"
     ]
    }
   ],
   "source": [
    "from math import floor\n",
    "import numpy as np\n",
    "\n",
    "for _, row in all_coords.iterrows():\n",
    "    try:\n",
    "        img = read_image(row['name'] + '_cutted')\n",
    "        frame = np.zeros((max_dimensions['height'],max_dimensions['width'],3))\n",
    "        y, x, _ = img.shape\n",
    "\n",
    "        y_offset = floor((max_dimensions['height']-y)/2)\n",
    "        x_offset = floor((max_dimensions['width']-x)/2)\n",
    "        frame[y_offset:y_offset+y, x_offset:x_offset+x] = img\n",
    "        save_image(row['name'] + '_framed', frame)\n",
    "        \n",
    "    except Exception as e:\n",
    "        print(row['name'], e)\n"
   ]
  },
  {
   "cell_type": "code",
   "execution_count": 26,
   "metadata": {},
   "outputs": [
    {
     "data": {
      "text/plain": [
       "array([[[0., 0., 0.],\n",
       "        [0., 0., 0.],\n",
       "        [0., 0., 0.],\n",
       "        ...,\n",
       "        [0., 0., 0.],\n",
       "        [0., 0., 0.],\n",
       "        [0., 0., 0.]],\n",
       "\n",
       "       [[0., 0., 0.],\n",
       "        [0., 0., 0.],\n",
       "        [0., 0., 0.],\n",
       "        ...,\n",
       "        [0., 0., 0.],\n",
       "        [0., 0., 0.],\n",
       "        [0., 0., 0.]],\n",
       "\n",
       "       [[0., 0., 0.],\n",
       "        [0., 0., 0.],\n",
       "        [0., 0., 0.],\n",
       "        ...,\n",
       "        [0., 0., 0.],\n",
       "        [0., 0., 0.],\n",
       "        [0., 0., 0.]],\n",
       "\n",
       "       ...,\n",
       "\n",
       "       [[0., 0., 0.],\n",
       "        [0., 0., 0.],\n",
       "        [0., 0., 0.],\n",
       "        ...,\n",
       "        [0., 0., 0.],\n",
       "        [0., 0., 0.],\n",
       "        [0., 0., 0.]],\n",
       "\n",
       "       [[0., 0., 0.],\n",
       "        [0., 0., 0.],\n",
       "        [0., 0., 0.],\n",
       "        ...,\n",
       "        [0., 0., 0.],\n",
       "        [0., 0., 0.],\n",
       "        [0., 0., 0.]],\n",
       "\n",
       "       [[0., 0., 0.],\n",
       "        [0., 0., 0.],\n",
       "        [0., 0., 0.],\n",
       "        ...,\n",
       "        [0., 0., 0.],\n",
       "        [0., 0., 0.],\n",
       "        [0., 0., 0.]]])"
      ]
     },
     "execution_count": 26,
     "metadata": {},
     "output_type": "execute_result"
    }
   ],
   "source": [
    "frame = np.zeros((max_dimensions['height'],max_dimensions['width'],3))\n",
    "\n",
    "frame"
   ]
  }
 ],
 "metadata": {
  "kernelspec": {
   "display_name": "Python 3.10.7 ('venv': venv)",
   "language": "python",
   "name": "python3"
  },
  "language_info": {
   "codemirror_mode": {
    "name": "ipython",
    "version": 3
   },
   "file_extension": ".py",
   "mimetype": "text/x-python",
   "name": "python",
   "nbconvert_exporter": "python",
   "pygments_lexer": "ipython3"
  },
  "orig_nbformat": 4,
  "vscode": {
   "interpreter": {
    "hash": "5dddab3f9dcea3e0699dbfd5269a7c101e0ce7b95edb30a58b5ce5aac2bf385d"
   }
  }
 },
 "nbformat": 4,
 "nbformat_minor": 2
}
